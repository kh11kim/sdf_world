{
 "cells": [
  {
   "cell_type": "code",
   "execution_count": 1,
   "metadata": {},
   "outputs": [],
   "source": [
    "import jax\n",
    "import jax.numpy as jnp\n",
    "from jaxlie import SE3, SO3\n",
    "\n",
    "from sdf_world.sdf_world import *\n",
    "from sdf_world.robots import *\n",
    "from sdf_world.util import *\n",
    "\n",
    "from network import *\n",
    "from loss import *"
   ]
  },
  {
   "cell_type": "code",
   "execution_count": 2,
   "metadata": {},
   "outputs": [
    {
     "name": "stderr",
     "output_type": "stream",
     "text": [
      "concatenating texture: may result in visual artifacts\n",
      "concatenating texture: may result in visual artifacts\n",
      "concatenating texture: may result in visual artifacts\n",
      "concatenating texture: may result in visual artifacts\n",
      "concatenating texture: may result in visual artifacts\n",
      "concatenating texture: may result in visual artifacts\n",
      "concatenating texture: may result in visual artifacts\n",
      "concatenating texture: may result in visual artifacts\n"
     ]
    }
   ],
   "source": [
    "panda_model = RobotModel(PANDA_URDF, PANDA_PACKAGE)"
   ]
  },
  {
   "cell_type": "code",
   "execution_count": 3,
   "metadata": {},
   "outputs": [
    {
     "name": "stdout",
     "output_type": "stream",
     "text": [
      "You can open the visualizer by visiting the following URL:\n",
      "http://127.0.0.1:7004/static/\n"
     ]
    },
    {
     "data": {
      "text/html": [
       "\n",
       "            <div style=\"height: 400px; width: 100%; overflow-x: auto; overflow-y: hidden; resize: both\">\n",
       "            <iframe src=\"http://127.0.0.1:7004/static/\" style=\"width: 100%; height: 100%; border: none\"></iframe>\n",
       "            </div>\n",
       "            "
      ],
      "text/plain": [
       "<IPython.core.display.HTML object>"
      ]
     },
     "execution_count": 3,
     "metadata": {},
     "output_type": "execute_result"
    }
   ],
   "source": [
    "world = SDFWorld()\n",
    "world.show_in_jupyter()"
   ]
  },
  {
   "cell_type": "code",
   "execution_count": 4,
   "metadata": {},
   "outputs": [],
   "source": [
    "#panda_model = RobotModel(PANDA_URDF, PANDA_PACKAGE)\n",
    "panda = Robot(world.vis, \"panda\", panda_model, alpha=0.5)\n",
    "panda.reduce_dim([7,8], [0.04, 0.04])"
   ]
  },
  {
   "cell_type": "code",
   "execution_count": 5,
   "metadata": {},
   "outputs": [],
   "source": [
    "q = np.random.uniform(panda_model.lb, panda_model.ub)[:7]\n",
    "jac = panda_model.jac_fn(q)\n",
    "lb, ub = panda_model.lb[:7], panda_model.ub[:7]"
   ]
  },
  {
   "cell_type": "code",
   "execution_count": 6,
   "metadata": {},
   "outputs": [],
   "source": [
    "from functools import partial\n",
    "def _joint_limit_potential(q, scale):\n",
    "    value = jnp.sum( 0.1*(ub - lb)**2 / (4 * (q - lb) * (ub - q) ))\n",
    "    return jnp.exp(-value) * scale\n",
    "k = _joint_limit_potential(panda_model.neutral[:7], 1.)\n",
    "joint_limit_potential = partial(_joint_limit_potential, scale=1/k)\n",
    "def get_manipulability_limit_penalized(q):\n",
    "    jac = panda_model.jac_fn(q)\n",
    "    joint_limit_scale = joint_limit_potential(q)\n",
    "    return jnp.sqrt(jnp.linalg.det(jac@jac.T)) * joint_limit_scale"
   ]
  },
  {
   "cell_type": "code",
   "execution_count": 8,
   "metadata": {},
   "outputs": [],
   "source": [
    "ws_r = 1.\n",
    "ws_center = jnp.array([0,0,0.5])\n",
    "xyz_res = 41\n",
    "xx = jnp.linspace(-1, 1, xyz_res, endpoint=True)\n",
    "yy = jnp.linspace(-1, 1, xyz_res, endpoint=True)\n",
    "zz = jnp.linspace(-0.5, 1.5, xyz_res, endpoint=True)\n",
    "X, Y, Z = jnp.meshgrid(xx,yy,zz)\n",
    "xyz_grids = jnp.vstack([X.flatten(), Y.flatten(), Z.flatten()]).T\n",
    "in_ws_sphere = jnp.linalg.norm(xyz_grids - ws_center, axis=-1) < ws_r\n",
    "xyz_grids = xyz_grids[in_ws_sphere]\n",
    "qtn_grids = super_fibonacci_spiral(1000)"
   ]
  },
  {
   "cell_type": "code",
   "execution_count": 12,
   "metadata": {},
   "outputs": [],
   "source": [
    "def rot_distance(qtn1, qtn2):\n",
    "    rot_diff = SO3(qtn1).inverse() @ SO3(qtn2)\n",
    "    angle = jnp.linalg.norm(rot_diff.log())\n",
    "    return angle\n",
    "def get_rot_grid_idx(qtn):\n",
    "    errors = jax.vmap(rot_distance, in_axes=(None,0))(qtn, qtn_grids)\n",
    "    return errors.argmin()\n",
    "def get_xyz_grid_idx(xyz):\n",
    "    errors = jnp.linalg.norm(xyz_grids - xyz, axis=-1)\n",
    "    return errors.argmin()"
   ]
  },
  {
   "cell_type": "code",
   "execution_count": 34,
   "metadata": {},
   "outputs": [],
   "source": [
    "map_shape = len(qtn_grids), len(xyz_grids)\n",
    "manip_map = np.zeros(map_shape)"
   ]
  },
  {
   "cell_type": "code",
   "execution_count": 46,
   "metadata": {},
   "outputs": [],
   "source": [
    "def get_sample(q):\n",
    "    ee_pose = panda_model.fk_fn(q)[-1]\n",
    "    xyz_idx = get_xyz_grid_idx(ee_pose[-3:])\n",
    "    qtn_idx = get_rot_grid_idx(ee_pose[:4])\n",
    "    manip = get_manipulability_limit_penalized(q)\n",
    "    return manip, qtn_idx, xyz_idx\n",
    "get_samples = jax.jit(jax.vmap(get_sample))"
   ]
  },
  {
   "cell_type": "code",
   "execution_count": 66,
   "metadata": {},
   "outputs": [
    {
     "name": "stdout",
     "output_type": "stream",
     "text": [
      "999: updated 995\n",
      "999: updated 994\n",
      "999: updated 997\n",
      "999: updated 994\n",
      "999: updated 994\n",
      "999: updated 995\n",
      "999: updated 996\n",
      "999: updated 995\n",
      "999: updated 994\n",
      "999: updated 994\n",
      "999: updated 996\n",
      "999: updated 991\n",
      "999: updated 995\n",
      "999: updated 995\n",
      "999: updated 992\n",
      "999: updated 997\n",
      "999: updated 995\n",
      "999: updated 995\n",
      "999: updated 990\n",
      "999: updated 995\n",
      "999: updated 996\n",
      "999: updated 994\n",
      "999: updated 996\n",
      "999: updated 992\n",
      "999: updated 997\n",
      "999: updated 996\n",
      "999: updated 993\n",
      "999: updated 992\n",
      "999: updated 997\n",
      "999: updated 993\n",
      "999: updated 991\n",
      "999: updated 993\n",
      "999: updated 991\n",
      "999: updated 990\n",
      "999: updated 996\n",
      "999: updated 995\n",
      "999: updated 992\n",
      "999: updated 993\n",
      "999: updated 996\n",
      "999: updated 993\n",
      "999: updated 995\n",
      "999: updated 996\n",
      "999: updated 993\n"
     ]
    },
    {
     "ename": "KeyboardInterrupt",
     "evalue": "",
     "output_type": "error",
     "traceback": [
      "\u001b[0;31m---------------------------------------------------------------------------\u001b[0m",
      "\u001b[0;31mKeyboardInterrupt\u001b[0m                         Traceback (most recent call last)",
      "Cell \u001b[0;32mIn[66], line 7\u001b[0m\n\u001b[1;32m      5\u001b[0m updated \u001b[39m=\u001b[39m \u001b[39m0\u001b[39m\n\u001b[1;32m      6\u001b[0m \u001b[39mfor\u001b[39;00m i \u001b[39min\u001b[39;00m \u001b[39mrange\u001b[39m(num_batch):\n\u001b[0;32m----> 7\u001b[0m     \u001b[39mif\u001b[39;00m manip_map[qtn_idxs[i], xyz_idxs[i]] \u001b[39m<\u001b[39m manips[i]:\n\u001b[1;32m      8\u001b[0m         manip_map[qtn_idxs[i], xyz_idxs[i]] \u001b[39m=\u001b[39m manips[i]\n\u001b[1;32m      9\u001b[0m         updated \u001b[39m+\u001b[39m\u001b[39m=\u001b[39m \u001b[39m1\u001b[39m\n",
      "File \u001b[0;32m~/opt/anaconda3/envs/opt_env/lib/python3.8/site-packages/jax/_src/array.py:343\u001b[0m, in \u001b[0;36mArrayImpl.__getitem__\u001b[0;34m(self, idx)\u001b[0m\n\u001b[1;32m    341\u001b[0m   \u001b[39mreturn\u001b[39;00m lax_numpy\u001b[39m.\u001b[39m_rewriting_take(\u001b[39mself\u001b[39m, idx)\n\u001b[1;32m    342\u001b[0m \u001b[39melse\u001b[39;00m:\n\u001b[0;32m--> 343\u001b[0m   \u001b[39mreturn\u001b[39;00m lax_numpy\u001b[39m.\u001b[39;49m_rewriting_take(\u001b[39mself\u001b[39;49m, idx)\n",
      "File \u001b[0;32m~/opt/anaconda3/envs/opt_env/lib/python3.8/site-packages/jax/_src/numpy/lax_numpy.py:3874\u001b[0m, in \u001b[0;36m_rewriting_take\u001b[0;34m(arr, idx, indices_are_sorted, unique_indices, mode, fill_value)\u001b[0m\n\u001b[1;32m   3869\u001b[0m \u001b[39mif\u001b[39;00m (arr\u001b[39m.\u001b[39mndim \u001b[39m>\u001b[39m \u001b[39m0\u001b[39m \u001b[39mand\u001b[39;00m \u001b[39misinstance\u001b[39m(idx, (\u001b[39mint\u001b[39m, np\u001b[39m.\u001b[39minteger)) \u001b[39mand\u001b[39;00m\n\u001b[1;32m   3870\u001b[0m     \u001b[39mnot\u001b[39;00m \u001b[39misinstance\u001b[39m(idx, (\u001b[39mbool\u001b[39m, np\u001b[39m.\u001b[39mbool_)) \u001b[39mand\u001b[39;00m \u001b[39misinstance\u001b[39m(arr\u001b[39m.\u001b[39mshape[\u001b[39m0\u001b[39m], \u001b[39mint\u001b[39m)):\n\u001b[1;32m   3871\u001b[0m   \u001b[39mif\u001b[39;00m \u001b[39m0\u001b[39m \u001b[39m<\u001b[39m\u001b[39m=\u001b[39m idx \u001b[39m<\u001b[39m arr\u001b[39m.\u001b[39mshape[\u001b[39m0\u001b[39m]:\n\u001b[1;32m   3872\u001b[0m     \u001b[39m# Use dynamic rather than static index here to avoid slow repeated execution:\u001b[39;00m\n\u001b[1;32m   3873\u001b[0m     \u001b[39m# See https://github.com/google/jax/issues/12198\u001b[39;00m\n\u001b[0;32m-> 3874\u001b[0m     \u001b[39mreturn\u001b[39;00m lax\u001b[39m.\u001b[39;49mdynamic_index_in_dim(arr, idx, keepdims\u001b[39m=\u001b[39;49m\u001b[39mFalse\u001b[39;49;00m)\n\u001b[1;32m   3875\u001b[0m \u001b[39mif\u001b[39;00m (arr\u001b[39m.\u001b[39mndim \u001b[39m>\u001b[39m \u001b[39m0\u001b[39m \u001b[39mand\u001b[39;00m \u001b[39misinstance\u001b[39m(arr\u001b[39m.\u001b[39mshape[\u001b[39m0\u001b[39m], \u001b[39mint\u001b[39m) \u001b[39mand\u001b[39;00m\n\u001b[1;32m   3876\u001b[0m     \u001b[39misinstance\u001b[39m(idx, \u001b[39mslice\u001b[39m) \u001b[39mand\u001b[39;00m\n\u001b[1;32m   3877\u001b[0m     (\u001b[39mtype\u001b[39m(idx\u001b[39m.\u001b[39mstart) \u001b[39mis\u001b[39;00m \u001b[39mint\u001b[39m \u001b[39mor\u001b[39;00m idx\u001b[39m.\u001b[39mstart \u001b[39mis\u001b[39;00m \u001b[39mNone\u001b[39;00m) \u001b[39mand\u001b[39;00m\n\u001b[1;32m   3878\u001b[0m     (\u001b[39mtype\u001b[39m(idx\u001b[39m.\u001b[39mstop)  \u001b[39mis\u001b[39;00m \u001b[39mint\u001b[39m \u001b[39mor\u001b[39;00m idx\u001b[39m.\u001b[39mstop \u001b[39mis\u001b[39;00m  \u001b[39mNone\u001b[39;00m) \u001b[39mand\u001b[39;00m\n\u001b[1;32m   3879\u001b[0m     (\u001b[39mtype\u001b[39m(idx\u001b[39m.\u001b[39mstep)  \u001b[39mis\u001b[39;00m \u001b[39mint\u001b[39m \u001b[39mor\u001b[39;00m idx\u001b[39m.\u001b[39mstep \u001b[39mis\u001b[39;00m  \u001b[39mNone\u001b[39;00m)):\n\u001b[1;32m   3880\u001b[0m   n \u001b[39m=\u001b[39m arr\u001b[39m.\u001b[39mshape[\u001b[39m0\u001b[39m]\n",
      "File \u001b[0;32m~/opt/anaconda3/envs/opt_env/lib/python3.8/site-packages/jax/_src/lax/slicing.py:709\u001b[0m, in \u001b[0;36mdynamic_index_in_dim\u001b[0;34m(operand, index, axis, keepdims)\u001b[0m\n\u001b[1;32m    707\u001b[0m   \u001b[39mreturn\u001b[39;00m result\n\u001b[1;32m    708\u001b[0m \u001b[39melse\u001b[39;00m:\n\u001b[0;32m--> 709\u001b[0m   \u001b[39mreturn\u001b[39;00m lax\u001b[39m.\u001b[39;49msqueeze(result, (axis,))\n",
      "File \u001b[0;32m~/opt/anaconda3/envs/opt_env/lib/python3.8/site-packages/jax/_src/lax/lax.py:1298\u001b[0m, in \u001b[0;36msqueeze\u001b[0;34m(array, dimensions)\u001b[0m\n\u001b[1;32m   1296\u001b[0m \u001b[39mif\u001b[39;00m \u001b[39mnot\u001b[39;00m dimensions \u001b[39mand\u001b[39;00m \u001b[39misinstance\u001b[39m(array, Array):\n\u001b[1;32m   1297\u001b[0m   \u001b[39mreturn\u001b[39;00m type_cast(Array, array)\n\u001b[0;32m-> 1298\u001b[0m \u001b[39mreturn\u001b[39;00m squeeze_p\u001b[39m.\u001b[39;49mbind(array, dimensions\u001b[39m=\u001b[39;49mdimensions)\n",
      "File \u001b[0;32m~/opt/anaconda3/envs/opt_env/lib/python3.8/site-packages/jax/_src/core.py:360\u001b[0m, in \u001b[0;36mPrimitive.bind\u001b[0;34m(self, *args, **params)\u001b[0m\n\u001b[1;32m    357\u001b[0m \u001b[39mdef\u001b[39;00m \u001b[39mbind\u001b[39m(\u001b[39mself\u001b[39m, \u001b[39m*\u001b[39margs, \u001b[39m*\u001b[39m\u001b[39m*\u001b[39mparams):\n\u001b[1;32m    358\u001b[0m   \u001b[39massert\u001b[39;00m (\u001b[39mnot\u001b[39;00m config\u001b[39m.\u001b[39mjax_enable_checks \u001b[39mor\u001b[39;00m\n\u001b[1;32m    359\u001b[0m           \u001b[39mall\u001b[39m(\u001b[39misinstance\u001b[39m(arg, Tracer) \u001b[39mor\u001b[39;00m valid_jaxtype(arg) \u001b[39mfor\u001b[39;00m arg \u001b[39min\u001b[39;00m args)), args\n\u001b[0;32m--> 360\u001b[0m   \u001b[39mreturn\u001b[39;00m \u001b[39mself\u001b[39;49m\u001b[39m.\u001b[39;49mbind_with_trace(find_top_trace(args), args, params)\n",
      "File \u001b[0;32m~/opt/anaconda3/envs/opt_env/lib/python3.8/site-packages/jax/_src/core.py:363\u001b[0m, in \u001b[0;36mPrimitive.bind_with_trace\u001b[0;34m(self, trace, args, params)\u001b[0m\n\u001b[1;32m    362\u001b[0m \u001b[39mdef\u001b[39;00m \u001b[39mbind_with_trace\u001b[39m(\u001b[39mself\u001b[39m, trace, args, params):\n\u001b[0;32m--> 363\u001b[0m   out \u001b[39m=\u001b[39m trace\u001b[39m.\u001b[39;49mprocess_primitive(\u001b[39mself\u001b[39;49m, \u001b[39mmap\u001b[39;49m(trace\u001b[39m.\u001b[39;49mfull_raise, args), params)\n\u001b[1;32m    364\u001b[0m   \u001b[39mreturn\u001b[39;00m \u001b[39mmap\u001b[39m(full_lower, out) \u001b[39mif\u001b[39;00m \u001b[39mself\u001b[39m\u001b[39m.\u001b[39mmultiple_results \u001b[39melse\u001b[39;00m full_lower(out)\n",
      "File \u001b[0;32m~/opt/anaconda3/envs/opt_env/lib/python3.8/site-packages/jax/_src/core.py:817\u001b[0m, in \u001b[0;36mEvalTrace.process_primitive\u001b[0;34m(self, primitive, tracers, params)\u001b[0m\n\u001b[1;32m    816\u001b[0m \u001b[39mdef\u001b[39;00m \u001b[39mprocess_primitive\u001b[39m(\u001b[39mself\u001b[39m, primitive, tracers, params):\n\u001b[0;32m--> 817\u001b[0m   \u001b[39mreturn\u001b[39;00m primitive\u001b[39m.\u001b[39;49mimpl(\u001b[39m*\u001b[39;49mtracers, \u001b[39m*\u001b[39;49m\u001b[39m*\u001b[39;49mparams)\n",
      "File \u001b[0;32m~/opt/anaconda3/envs/opt_env/lib/python3.8/site-packages/jax/_src/dispatch.py:129\u001b[0m, in \u001b[0;36mapply_primitive\u001b[0;34m(prim, *args, **params)\u001b[0m\n\u001b[1;32m    125\u001b[0m   msg \u001b[39m=\u001b[39m pjit\u001b[39m.\u001b[39m_device_assignment_mismatch_error(\n\u001b[1;32m    126\u001b[0m       prim\u001b[39m.\u001b[39mname, fails, args, \u001b[39m'\u001b[39m\u001b[39mjit\u001b[39m\u001b[39m'\u001b[39m, arg_names)\n\u001b[1;32m    127\u001b[0m   \u001b[39mraise\u001b[39;00m \u001b[39mValueError\u001b[39;00m(msg) \u001b[39mfrom\u001b[39;00m \u001b[39mNone\u001b[39m\n\u001b[0;32m--> 129\u001b[0m \u001b[39mreturn\u001b[39;00m compiled_fun(\u001b[39m*\u001b[39;49margs)\n",
      "File \u001b[0;32m~/opt/anaconda3/envs/opt_env/lib/python3.8/site-packages/jax/_src/dispatch.py:211\u001b[0m, in \u001b[0;36mxla_primitive_callable.<locals>.<lambda>\u001b[0;34m(*args, **kw)\u001b[0m\n\u001b[1;32m    208\u001b[0m compiled \u001b[39m=\u001b[39m _xla_callable_uncached(lu\u001b[39m.\u001b[39mwrap_init(prim_fun), prim\u001b[39m.\u001b[39mname,\n\u001b[1;32m    209\u001b[0m                                   donated_invars, \u001b[39mFalse\u001b[39;00m, \u001b[39m*\u001b[39marg_specs)\n\u001b[1;32m    210\u001b[0m \u001b[39mif\u001b[39;00m \u001b[39mnot\u001b[39;00m prim\u001b[39m.\u001b[39mmultiple_results:\n\u001b[0;32m--> 211\u001b[0m   \u001b[39mreturn\u001b[39;00m \u001b[39mlambda\u001b[39;00m \u001b[39m*\u001b[39margs, \u001b[39m*\u001b[39m\u001b[39m*\u001b[39mkw: compiled(\u001b[39m*\u001b[39;49margs, \u001b[39m*\u001b[39;49m\u001b[39m*\u001b[39;49mkw)[\u001b[39m0\u001b[39m]\n\u001b[1;32m    212\u001b[0m \u001b[39melse\u001b[39;00m:\n\u001b[1;32m    213\u001b[0m   \u001b[39mreturn\u001b[39;00m compiled\n",
      "File \u001b[0;32m~/opt/anaconda3/envs/opt_env/lib/python3.8/site-packages/jax/_src/profiler.py:314\u001b[0m, in \u001b[0;36mannotate_function.<locals>.wrapper\u001b[0;34m(*args, **kwargs)\u001b[0m\n\u001b[1;32m    311\u001b[0m \u001b[39m@wraps\u001b[39m(func)\n\u001b[1;32m    312\u001b[0m \u001b[39mdef\u001b[39;00m \u001b[39mwrapper\u001b[39m(\u001b[39m*\u001b[39margs, \u001b[39m*\u001b[39m\u001b[39m*\u001b[39mkwargs):\n\u001b[1;32m    313\u001b[0m   \u001b[39mwith\u001b[39;00m TraceAnnotation(name, \u001b[39m*\u001b[39m\u001b[39m*\u001b[39mdecorator_kwargs):\n\u001b[0;32m--> 314\u001b[0m     \u001b[39mreturn\u001b[39;00m func(\u001b[39m*\u001b[39;49margs, \u001b[39m*\u001b[39;49m\u001b[39m*\u001b[39;49mkwargs)\n\u001b[1;32m    315\u001b[0m   \u001b[39mreturn\u001b[39;00m wrapper\n",
      "File \u001b[0;32m~/opt/anaconda3/envs/opt_env/lib/python3.8/site-packages/jax/_src/interpreters/pxla.py:1916\u001b[0m, in \u001b[0;36mExecuteReplicated.__call__\u001b[0;34m(self, *args)\u001b[0m\n\u001b[1;32m   1911\u001b[0m   \u001b[39mself\u001b[39m\u001b[39m.\u001b[39m_handle_token_bufs(\n\u001b[1;32m   1912\u001b[0m       results\u001b[39m.\u001b[39mdisassemble_prefix_into_single_device_arrays(\n\u001b[1;32m   1913\u001b[0m           \u001b[39mlen\u001b[39m(\u001b[39mself\u001b[39m\u001b[39m.\u001b[39mordered_effects)),\n\u001b[1;32m   1914\u001b[0m       results\u001b[39m.\u001b[39mconsume_token())\n\u001b[1;32m   1915\u001b[0m \u001b[39melse\u001b[39;00m:\n\u001b[0;32m-> 1916\u001b[0m   results \u001b[39m=\u001b[39m \u001b[39mself\u001b[39;49m\u001b[39m.\u001b[39;49mxla_executable\u001b[39m.\u001b[39;49mexecute_sharded(input_bufs)\n\u001b[1;32m   1917\u001b[0m \u001b[39mif\u001b[39;00m dispatch\u001b[39m.\u001b[39mneeds_check_special():\n\u001b[1;32m   1918\u001b[0m   out_arrays \u001b[39m=\u001b[39m results\u001b[39m.\u001b[39mdisassemble_into_single_device_arrays()\n",
      "\u001b[0;31mKeyboardInterrupt\u001b[0m: "
     ]
    }
   ],
   "source": [
    "num_batch = 1000\n",
    "for epoch in range(100):\n",
    "    qs = np.random.uniform(panda_model.lb, panda_model.ub, size=(num_batch,9))[:,:7]\n",
    "    manips, qtn_idxs, xyz_idxs = get_samples(qs)\n",
    "    updated = 0\n",
    "    for i in range(num_batch):\n",
    "        if manip_map[qtn_idxs[i], xyz_idxs[i]] < manips[i]:\n",
    "            manip_map[qtn_idxs[i], xyz_idxs[i]] = manips[i]\n",
    "            updated += 1\n",
    "    print(f\"{epoch}: updated {updated}\")"
   ]
  },
  {
   "cell_type": "code",
   "execution_count": 45,
   "metadata": {},
   "outputs": [],
   "source": [
    "panda.set_joint_angles(q)\n",
    "frame.set_pose(SE3(jnp.hstack([qtn_grids[qtn_idx], xyz_grids[xyz_idx]])))"
   ]
  },
  {
   "cell_type": "code",
   "execution_count": 30,
   "metadata": {},
   "outputs": [],
   "source": [
    "q = np.random.uniform(panda_model.lb, panda_model.ub)[:7]\n",
    "\n",
    "\n",
    "frame.set_pose(SE3(jnp.hstack([qtn_est, p_est])))"
   ]
  },
  {
   "cell_type": "code",
   "execution_count": 14,
   "metadata": {},
   "outputs": [],
   "source": []
  },
  {
   "cell_type": "code",
   "execution_count": 19,
   "metadata": {},
   "outputs": [],
   "source": [
    "frame = Frame(world.vis, \"frame\")"
   ]
  },
  {
   "cell_type": "code",
   "execution_count": 20,
   "metadata": {},
   "outputs": [],
   "source": []
  },
  {
   "cell_type": "code",
   "execution_count": 176,
   "metadata": {},
   "outputs": [
    {
     "data": {
      "text/plain": [
       "Array(7711, dtype=int32)"
      ]
     },
     "execution_count": 176,
     "metadata": {},
     "output_type": "execute_result"
    }
   ],
   "source": []
  },
  {
   "cell_type": "code",
   "execution_count": 172,
   "metadata": {},
   "outputs": [
    {
     "data": {
      "text/plain": [
       "Array(37, dtype=int32)"
      ]
     },
     "execution_count": 172,
     "metadata": {},
     "output_type": "execute_result"
    }
   ],
   "source": [
    "errors.argmin()"
   ]
  },
  {
   "cell_type": "code",
   "execution_count": 116,
   "metadata": {},
   "outputs": [
    {
     "data": {
      "text/plain": [
       "SO3(wxyz=[ 0.00886    -0.26738998  0.22815    -0.93614995])"
      ]
     },
     "execution_count": 116,
     "metadata": {},
     "output_type": "execute_result"
    }
   ],
   "source": [
    "SE3(ee_pose).rotation()"
   ]
  },
  {
   "cell_type": "code",
   "execution_count": null,
   "metadata": {},
   "outputs": [],
   "source": [
    "ee_pose"
   ]
  }
 ],
 "metadata": {
  "kernelspec": {
   "display_name": "opt_env",
   "language": "python",
   "name": "python3"
  },
  "language_info": {
   "codemirror_mode": {
    "name": "ipython",
    "version": 3
   },
   "file_extension": ".py",
   "mimetype": "text/x-python",
   "name": "python",
   "nbconvert_exporter": "python",
   "pygments_lexer": "ipython3",
   "version": "3.8.15"
  },
  "orig_nbformat": 4
 },
 "nbformat": 4,
 "nbformat_minor": 2
}
