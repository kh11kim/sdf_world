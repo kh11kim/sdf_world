{
 "cells": [
  {
   "cell_type": "code",
   "execution_count": 1,
   "metadata": {},
   "outputs": [],
   "source": [
    "import numpy as np\n",
    "from dataclasses import dataclass, field\n",
    "from typing import *\n",
    "\n",
    "from sdf_world.sdf_world import *\n",
    "from sdf_world.robots import *\n",
    "from sdf_world.util import *\n",
    "from sdf_world.network import *\n",
    "\n",
    "import jax\n",
    "import jax.numpy as jnp\n",
    "from jaxlie import SE3, SO3\n",
    "import jax_dataclasses as jdc\n",
    "from copy import deepcopy\n",
    "from sdf_world.opt_builder import *"
   ]
  },
  {
   "cell_type": "code",
   "execution_count": 2,
   "metadata": {},
   "outputs": [],
   "source": [
    "class ProblemBuilder:\n",
    "    #constr_types = [\"kinematics\", \"grasp_prob\", \"robot_dist\"]\n",
    "    def __init__(self, robots, home_configs, num_via_points=0, is_relaxed=True):\n",
    "        self.robots = robots\n",
    "        self.home_configs = deepcopy(home_configs)\n",
    "        self.is_relaxed = is_relaxed\n",
    "        SubProblem.robots = robots\n",
    "        SubProblem.home_configs = self.home_configs\n",
    "        #SubProblem.is_relaxed = is_relaxed\n",
    "        SubProblem.num_viapoints = 0\n",
    "        if not is_relaxed:\n",
    "            SubProblem.num_viapoints = num_via_points\n",
    "\n",
    "        self.action_seq: List[Action] = []\n",
    "        self.keyframes: List[Keyframe] = []\n",
    "        self.variables: List[Instance] = []\n",
    "        self.parameters: List[Instance] = []\n",
    "        self.constraints: List[Constraint] = []\n",
    "        self.dim:int = 0\n",
    "        self.cdim:int = 0\n",
    "        self.fn_dict = {}\n",
    "        # self.num_via_points = num_via_points\n",
    "    \n",
    "    @property\n",
    "    def vdim(self):\n",
    "        return len(np.hstack([var.coord for var in self.variables]))\n",
    "    \n",
    "    @property\n",
    "    def xlb(self):\n",
    "        return np.hstack([var.lb for var in self.variables])\n",
    "    @property\n",
    "    def xub(self):\n",
    "        return np.hstack([var.ub for var in self.variables])\n",
    "    \n",
    "    \n",
    "    @property\n",
    "    def ordered_constr_list(self):\n",
    "        return list(item for sublist in self.constr_dict.values() for item in sublist)\n",
    "    \n",
    "    @property\n",
    "    def clb(self):\n",
    "        return np.hstack([constr.lb for constr in self.ordered_constr_list])\n",
    "    @property\n",
    "    def cub(self):\n",
    "        return np.hstack([constr.ub for constr in self.ordered_constr_list])\n",
    "    \n",
    "    \n",
    "    @property\n",
    "    def instances(self)-> List[Instance]:\n",
    "        return self.variables + self.parameters\n",
    "\n",
    "    @property\n",
    "    def subproblems(self):\n",
    "        return self.action_seq + self.keyframes\n",
    "\n",
    "    @property\n",
    "    def constr_dict(self)->Dict[str,List[Constraint]]:\n",
    "        constr_dict = {constr_type:[] for constr_type in self.fn_dict}\n",
    "        for constr in self.constraints:\n",
    "            if constr.constr_type in constr_dict:\n",
    "                constr_dict[constr.constr_type].append(constr)\n",
    "        return constr_dict\n",
    "    \n",
    "    def build_problem(self, action_seq:List[Action], init:Keyframe, goal:Keyframe):\n",
    "        self.parse_keyframes(action_seq, init, goal)\n",
    "        self.set_waypoint_instances()\n",
    "        self.set_planning_instances()\n",
    "        self.set_constraints()\n",
    "\n",
    "    def parse_keyframes(\n",
    "            self, action_seq:List[Action], init:Keyframe, goal:Keyframe\n",
    "        ):\n",
    "        self.action_seq = deepcopy(action_seq)\n",
    "        self.init = deepcopy(init)\n",
    "        self.goal = deepcopy(goal)\n",
    "        for i, action in enumerate(self.action_seq):\n",
    "            action.idx = i\n",
    "            action.set_instances()\n",
    "        \n",
    "        keyframes: List[Keyframe] = [self.init]\n",
    "        for idx in range(len(self.action_seq)-1):\n",
    "            curr, next = self.action_seq[idx], self.action_seq[idx+1]\n",
    "            idx = len(keyframes)\n",
    "            if isinstance(curr, MoveHold) and isinstance(next, MoveHold):\n",
    "                keyframes.append(\n",
    "                    Handover(idx, curr.robot, next.robot, curr.grasp, next.grasp))\n",
    "            else:\n",
    "                if isinstance(curr, MoveFree): #pick\n",
    "                    placing_frame = self.init\n",
    "                    picking_frame = next\n",
    "                else: #place\n",
    "                    placing_frame = self.goal\n",
    "                    picking_frame = curr\n",
    "\n",
    "                if self.is_relaxed:\n",
    "                    keyframes.append(\n",
    "                        RelaxedPickPlace(idx, curr.robot, \n",
    "                         picking_frame.grasp, placing_frame.obj_pose))\n",
    "                else:\n",
    "                    keyframes.append(\n",
    "                        PickPlace(idx, curr.robot, \n",
    "                         picking_frame.grasp, placing_frame.obj_pose))\n",
    "                \n",
    "        keyframes.append(self.goal)\n",
    "        for keyframe in keyframes:\n",
    "            if isinstance(keyframe, Home):\n",
    "                keyframe.set_instances(self.is_relaxed)    \n",
    "            else: \n",
    "                keyframe.set_instances()\n",
    "\n",
    "        self.keyframes = keyframes\n",
    "        \n",
    "        print(\"set action_seq and keyframes\")\n",
    "\n",
    "    def set_waypoint_instances(self):\n",
    "        #set trajectory\n",
    "        for i, action in enumerate(self.action_seq):\n",
    "            action.idx = i\n",
    "            prev_keyframe, next_keyframe = self.keyframes[i], self.keyframes[i+1]\n",
    "            action.set_waypoints(prev_keyframe, next_keyframe)\n",
    "\n",
    "    def set_planning_instances(self):\n",
    "        instances = {}\n",
    "        for p in self.subproblems:\n",
    "            for instance in p.instances:\n",
    "                instances[instance.name] = instance\n",
    "        self.variables = [instance for instance in instances.values() if instance.is_var]\n",
    "        self.parameters = [instance for instance in instances.values() if not instance.is_var]\n",
    "\n",
    "        print(\"set variables and parameters\")\n",
    "    \n",
    "    def set_constraints(self):\n",
    "        for p in self.subproblems:\n",
    "            p.set_constraints()\n",
    "            self.constraints.extend(p.constraints)\n",
    "        \n",
    "        print(\"set constraints\")\n",
    "\n",
    "    def set_coordinates(self):\n",
    "        # set var coord\n",
    "        i = 0\n",
    "        for var in self.variables: \n",
    "            var.coord = np.arange(i, i+var.dim)\n",
    "            i += var.dim\n",
    "        self.dim = i\n",
    "\n",
    "        # set param coord\n",
    "        i = 0\n",
    "        for param in self.parameters: \n",
    "            param.coord = np.arange(i, i+param.dim)\n",
    "            i += param.dim\n",
    "        self.pdim = i\n",
    "\n",
    "        # set constraint coordinates\n",
    "        i = 0\n",
    "        for constr in self.ordered_constr_list:\n",
    "            constr.coord = np.arange(i, i+constr.dim)\n",
    "            i += constr.dim\n",
    "        self.cdim = i\n",
    "\n",
    "    def set_constr_fn_dict(self, fn_dict:Dict[str,Callable], ignore:List[str]):\n",
    "        required_constr_types = set(constr.constr_type for constr in self.constraints)\n",
    "        success = True\n",
    "        for constr_type in required_constr_types:\n",
    "            try:        \n",
    "                if constr_type in ignore:\n",
    "                    print(f\"Function ignored: {constr_type}\")    \n",
    "                else:\n",
    "                    self.fn_dict[constr_type] = fn_dict[constr_type]\n",
    "            except:\n",
    "                print(f\"No matched function: {constr_type}\")\n",
    "                success = False\n",
    "        if success: \n",
    "            print(\"All constraint functions are set\")\n",
    "            self.set_coordinates()\n",
    "            print(\"All Coordinates are set accordingly\")\n",
    "\n",
    "    def to_var_dict(self, x):\n",
    "        return {var.name:x[var.coord] \n",
    "                for var in self.variables}\n",
    "    def to_var_vec(self, x_dict):\n",
    "        return np.hstack([x_dict[var.name] for var in self.variables])\n",
    "    \n",
    "    def to_param_dict(self, param):\n",
    "        return {p.name:param[p.coord] \n",
    "                for p in self.parameters}\n",
    "    def to_param_vec(self, param_dict):\n",
    "        return np.hstack([param_dict[p.name] for p in self.parameters])\n",
    "    \n",
    "    def to_constr_dict(self, constr_val):\n",
    "        return {f\"{constr.constr_type}_{constr.name}\":constr_val[constr.coord] \n",
    "                for constr in self.ordered_constr_list}\n",
    "    \n",
    "    def get_initial_value(self, init_dict={}, is_random=False):\n",
    "        x0 = []\n",
    "        for var in self.variables:\n",
    "            if var.name in init_dict:\n",
    "                value = init_dict[var.name]\n",
    "            elif isinstance(var, Config):\n",
    "                value = SubProblem.home_configs[var.robot]\n",
    "            elif is_random:\n",
    "                value = np.random.uniform(var.lb, var.ub)\n",
    "            else:\n",
    "                value = np.zeros(var.dim)\n",
    "            x0.append(value)\n",
    "        return np.hstack(x0)\n",
    "            \n",
    "    def get_objective_fn(self):\n",
    "        trajectory = {robot:[] for robot in self.robots}\n",
    "        for i in range(len(self.action_seq)):\n",
    "            #add keyframe config\n",
    "            for robot, config in self.keyframes[i].configs.items():\n",
    "                trajectory[robot].append(config)\n",
    "            #add via configs during action\n",
    "            for robot, configs in self.action_seq[i].configs.items():\n",
    "                for config in configs:\n",
    "                    trajectory[robot].append(config)\n",
    "        for robot, config in self.keyframes[-1].configs.items():\n",
    "            trajectory[robot].append(config)\n",
    "\n",
    "        if self.is_relaxed:\n",
    "            objective = lambda param, x: 0.\n",
    "        else:\n",
    "            def objective(param, x):\n",
    "                param_values = {p.name:param[p.coord] for p in self.parameters}\n",
    "                var_values = {var.name:x[var.coord] for var in self.variables}\n",
    "                instance_values = {**param_values, **var_values}\n",
    "                \n",
    "                obj_value = 0\n",
    "                for robot in self.robots:\n",
    "                    qs = []\n",
    "                    for config in trajectory[robot]:\n",
    "                        qs.append(instance_values[config.name])\n",
    "                    qs = jnp.vstack(qs)\n",
    "                    obj_value += jnp.sum((qs[1:] - qs[:-1])**2)\n",
    "                return obj_value\n",
    "        return objective \n",
    "    \n",
    "    def get_constraint_fn(self):\n",
    "        def constraints(param, x):\n",
    "            param_values = {p.name:param[p.coord] for p in self.parameters}\n",
    "            var_values = {var.name:x[var.coord] for var in self.variables}\n",
    "            instance_values = {**param_values, **var_values}\n",
    "\n",
    "            values = []\n",
    "            for constr_name, constrs in self.constr_dict.items():\n",
    "                constr_fn = self.fn_dict[constr_name]\n",
    "                num_inputs = constrs[0].num_inputs\n",
    "                input_lists = [[] for _ in range(num_inputs)]\n",
    "                for constr in constrs:\n",
    "                    for i, inp in enumerate(constr.inputs):\n",
    "                        input_lists[i].append(instance_values[inp.name])\n",
    "                inputs = [jnp.vstack(batch_input) for batch_input in input_lists]\n",
    "                cval = jax.vmap(constr_fn, in_axes=[0]*num_inputs)(*inputs)\n",
    "                values.append(cval.flatten())\n",
    "            return jnp.hstack(values)\n",
    "        return constraints\n",
    "\n",
    "\n",
    "    #TODO:\n",
    "    def get_jacobian_structure_indices(self):\n",
    "        jac_structure = np.zeros((self.cdim, self.dim))\n",
    "        for constr in self.ordered_constr_list:\n",
    "            if constr.constr_type == \"constant\":\n",
    "                x_coord = constr.inputs[0].coord\n",
    "                jac_structure[constr.coord, x_coord] = 1\n",
    "                continue\n",
    "            \n",
    "            var_coords = [instance.coord for instance in constr.inputs if instance.is_var]\n",
    "            if len(var_coords) == 0: continue\n",
    "            x_coords = np.hstack(var_coords)\n",
    "            rowmat, colmat = np.meshgrid(constr.coord, x_coords, indexing='ij')\n",
    "            jac_structure[rowmat.flatten(), colmat.flatten()] = 1\n",
    "        row, col = np.nonzero(jac_structure)\n",
    "        return row, col\n",
    "    \n",
    "    def get_jacobian_structure_fn(self):\n",
    "        jac_struct = self.get_jacobian_structure_indices()\n",
    "        jacobian_structure_fn = lambda : jac_struct\n",
    "        return jacobian_structure_fn\n"
   ]
  },
  {
   "cell_type": "code",
   "execution_count": 3,
   "metadata": {},
   "outputs": [],
   "source": [
    "# IPOPT Accelerator\n",
    "import cyipopt\n",
    "class IPOPTAcc:\n",
    "    def __init__(\n",
    "            self, builder:ProblemBuilder, \n",
    "            compile=False, sparse=False):\n",
    "        self.builder = builder\n",
    "        self.obj_fn = self.builder.get_objective_fn()\n",
    "        self.constr_fn = self.builder.get_constraint_fn()\n",
    "        self.grads = {}\n",
    "        self.jacs = {}\n",
    "        self.vg_obj_fn = jax.value_and_grad(self.obj_fn, argnums=1)\n",
    "        self.vj_constr_fn = value_and_jacfwd(self.constr_fn, argnums=1)\n",
    "        self.jac_struct = None #self.builder.get_jacobian_structure_indices() # (row, col)\n",
    "        if sparse:\n",
    "            # TODO: set jacobian sparsity indices\n",
    "            self.jacobianstructure = lambda : self.jac_struct\n",
    "        \n",
    "        self.param = None\n",
    "        self.debug_fn = None\n",
    "        self.x_history = []\n",
    "        self.iteration_ends = False\n",
    "        if compile:\n",
    "            vdim, pdim = self.builder.vdim, self.builder.pdim\n",
    "            self.vg_obj_fn = jax.jit(self.vg_obj_fn).lower(np.zeros(pdim), np.zeros(vdim)).compile()\n",
    "            self.vj_constr_fn = jax.jit(self.vj_constr_fn).lower(np.zeros(pdim), np.zeros(vdim)).compile()\n",
    "    \n",
    "    def set_debug_fn(self, debug_fn):\n",
    "        self.debug_fn = debug_fn\n",
    "    \n",
    "    def set_problem(self, prob_dict):\n",
    "        self.param = jnp.array(self.builder.to_param_vec(prob_dict))\n",
    "    \n",
    "    def check_constraint(self, x):\n",
    "        cval = self.constr_fn(self.param, x)\n",
    "        check_vector = (self.builder.clb < cval) & (cval < self.builder.cub)\n",
    "        print(\"cval: \", self.builder.to_constr_dict(np.array(cval)))\n",
    "        print(\"viol: \", self.builder.to_constr_dict(np.array(check_vector)))\n",
    "\n",
    "    def hash(self, x):\n",
    "        return hash(x.tobytes())\n",
    "\n",
    "    def objective(self, x):\n",
    "        value, grad = self.vg_obj_fn(self.param, x)\n",
    "        key = self.hash(x)\n",
    "        self.grads[key] = grad\n",
    "        if (self.debug_fn is not None) and (self.iteration_ends):\n",
    "            self.check_constraint(x)\n",
    "            self.debug_fn(x)\n",
    "            self.x_history.append(x)\n",
    "            self.iteration_ends = False\n",
    "        return value\n",
    "    \n",
    "    def gradient(self, x):\n",
    "        key = self.hash(x)\n",
    "        if key in self.grads:\n",
    "            return self.grads[key]\n",
    "        _, grad = self.vg_obj_fn(self.param, x)\n",
    "        return grad\n",
    "    \n",
    "    def constraints(self, x):\n",
    "        value, jac = self.vj_constr_fn(self.param, x)\n",
    "        key = self.hash(x)\n",
    "        self.jacs[key] = jac\n",
    "        return value\n",
    "    \n",
    "    def jacobian(self, x):\n",
    "        key = self.hash(x)\n",
    "        if key not in self.jacs:\n",
    "            _, jac = self.vj_constr_fn(self.param, x)\n",
    "        else: jac = self.jacs[key]\n",
    "        \n",
    "        if self.jac_struct is not None:\n",
    "            return jac[self.jac_struct]\n",
    "        return jac\n",
    "\n",
    "    def intermediate(self, alg_mod, iter_count, obj_value, inf_pr, inf_du, mu,\n",
    "                     d_norm, regularization_size, alpha_du, alpha_pr,\n",
    "                     ls_trials):\n",
    "        self.iteration_ends = True\n",
    "\n",
    "    def get_ipopt_solver(self):\n",
    "        assert self.param is not None, \"parameter is not set\"\n",
    "        self.x_history = [] # reset history\n",
    "\n",
    "        ipopt = cyipopt.Problem(\n",
    "            n=self.builder.dim, m=self.builder.cdim, problem_obj=self,\n",
    "            lb=self.builder.xlb, ub=self.builder.xub, \n",
    "            cl=self.builder.clb, cu=self.builder.cub\n",
    "        )\n",
    "        ipopt.add_option(\"acceptable_iter\", 2)\n",
    "        ipopt.add_option(\"acceptable_tol\", np.inf) #release\n",
    "        ipopt.add_option(\"acceptable_dual_inf_tol\", np.inf) #release\n",
    "        ipopt.add_option(\"acceptable_constr_viol_tol\", 1.)\n",
    "        ipopt.add_option('mu_strategy', 'adaptive')\n",
    "        ipopt.add_option('max_iter', 100)\n",
    "        return ipopt"
   ]
  },
  {
   "cell_type": "markdown",
   "metadata": {},
   "source": [
    "## Make Env"
   ]
  },
  {
   "cell_type": "code",
   "execution_count": 4,
   "metadata": {},
   "outputs": [
    {
     "name": "stdout",
     "output_type": "stream",
     "text": [
      "You can open the visualizer by visiting the following URL:\n",
      "http://127.0.0.1:7006/static/\n"
     ]
    }
   ],
   "source": [
    "world = SDFWorld()"
   ]
  },
  {
   "cell_type": "code",
   "execution_count": 5,
   "metadata": {},
   "outputs": [],
   "source": [
    "# refer to PREDEFINED_ROBOTS\n",
    "gen3 = get_predefined_robot(world.vis, \"gen3+hand_e\")\n",
    "hande = Gripper(world.vis, \"hande\", gen3.gripper.model, \n",
    "                gen3.gripper.tool_pose_offset, \n",
    "                max_width=0.05, scale=0.001, alpha=0.5, color='white')"
   ]
  },
  {
   "cell_type": "code",
   "execution_count": 6,
   "metadata": {},
   "outputs": [],
   "source": [
    "def SE3_trans(xyz):\n",
    "    return SE3.from_translation(jnp.array(xyz))\n",
    "\n",
    "obj_mesh = \"./sdf_world/assets/waffle_box/waffle_box_centered.obj\"\n",
    "ground = Box(world.vis, \"ground\", [1,1.8,0.5], 'gray', 0.3)\n",
    "obj0 = Mesh(world.vis, \"obj0\", obj_mesh, color=\"green\", alpha=0.3)\n",
    "objg = Mesh(world.vis, \"objg\", obj_mesh, color=\"red\", alpha=0.3)"
   ]
  },
  {
   "cell_type": "code",
   "execution_count": 7,
   "metadata": {},
   "outputs": [],
   "source": [
    "def object_placement(obj, upright_axis, xy, yaw=None):\n",
    "    if yaw is None:\n",
    "        yaw = np.random.uniform(-np.pi, np.pi)\n",
    "    obj_extents = obj.mesh.bounding_box.primitive.extents\n",
    "    if upright_axis == \"z\":\n",
    "        rot = SO3.from_z_radians(yaw)\n",
    "        z_offset = obj_extents[-1]/2\n",
    "    if upright_axis == \"x\":\n",
    "        rot = SO3.from_z_radians(yaw)@SO3.from_y_radians(-np.pi/2)\n",
    "        z_offset = obj_extents[0]/2\n",
    "    elif upright_axis == \"y\":\n",
    "        rot = SO3.from_z_radians(yaw)@SO3.from_x_radians(np.pi/2)\n",
    "        z_offset = obj_extents[1]/2\n",
    "    xyz = [*xy, z_offset]\n",
    "    pose = SE3.from_rotation_and_translation(rot, jnp.array(xyz))\n",
    "    return pose\n",
    "\n",
    "gen3_home_config = np.array([0,0,0,np.pi/2, 0,np.pi/2, 0])\n",
    "def get_problem():\n",
    "    # xy, upright_axis= ground\n",
    "    pose0 = object_placement(obj0, \"x\", xy=[0.4,0.3])\n",
    "    poseg = object_placement(obj0, \"z\", xy=[0.4,-0.3])\n",
    "    config_home = gen3_home_config\n",
    "    return {\"pose_init\": pose0.parameters(),\n",
    "            \"pose_goal\": poseg.parameters(),\n",
    "            \"config_home\": config_home}\n",
    "\n",
    "def visualize_problem(prob_dict):\n",
    "    obj0.set_pose(SE3(prob_dict[\"pose_init\"]))\n",
    "    objg.set_pose(SE3(prob_dict[\"pose_goal\"]))\n",
    "    ground.set_pose(SE3_trans([0.4, 0, -0.25]))\n",
    "    gen3.set_joint_angles(gen3_home_config)"
   ]
  },
  {
   "cell_type": "code",
   "execution_count": 8,
   "metadata": {},
   "outputs": [],
   "source": [
    "prob_dict = get_problem()\n",
    "visualize_problem(prob_dict)"
   ]
  },
  {
   "cell_type": "markdown",
   "metadata": {},
   "source": [
    "### functions"
   ]
  },
  {
   "cell_type": "code",
   "execution_count": 9,
   "metadata": {},
   "outputs": [
    {
     "name": "stdout",
     "output_type": "stream",
     "text": [
      "hidden_dim:32, out_dim:7\n"
     ]
    }
   ],
   "source": [
    "#functions\n",
    "#load learned functions\n",
    "hande_pc = hande.get_hand_pc_wrt_tool_pose()\n",
    "grasp_fn, grasp_reconst, grasp_embedding = load_grasp_fn(\"model/grasp_net_waffle\")\n",
    "inv_manip_fn_gen3 = load_manip_fn(\"model/manip_net_gen3\", SE3.identity())\n",
    "env = SDFContainer([ground]) #we can add more obstacles\n",
    "robot_pc_fn = gen3.get_robot_pc_fn()\n",
    "obj_pc = farthest_point_sampling(obj0.mesh.sample(100), 10)\n",
    "fk_ee_fn = gen3.get_fk_ee_fn()\n",
    "\n",
    "def R_grasp(grasp:Array, obj_pose:Array):\n",
    "    grasp_pose = grasp_reconst(grasp)\n",
    "    tool_pose = SE3(obj_pose).normalize() @ grasp_pose\n",
    "    return tool_pose.parameters() # @ grasp_pose @ SE3_trans([0,0,-0.1])\n",
    "\n",
    "def P_grasp(g):\n",
    "    return grasp_fn(g)[0]\n",
    "\n",
    "def M_inv(grasp:Array, obj_pose:Array):\n",
    "    tool_pose = R_grasp(grasp, obj_pose)\n",
    "    zflip_SE3 = SE3.from_rotation(SO3.from_z_radians(jnp.pi))\n",
    "    #pre\n",
    "    tool_pose = SE3(tool_pose)\n",
    "    tool_pose_flip = (tool_pose @ zflip_SE3)\n",
    "    candidates = jnp.vstack([pose.parameters() for pose in [tool_pose, tool_pose_flip]])\n",
    "    return jax.vmap(inv_manip_fn_gen3)(candidates).max()\n",
    "\n",
    "def K_robot(grasp:Array, obj_pose:Array, q:Array):\n",
    "    tool_pose = R_grasp(grasp, obj_pose)\n",
    "    tool_pose = SE3(tool_pose)\n",
    "    ee_pose = SE3(fk_ee_fn(q))\n",
    "    pos_err = tool_pose.translation() - ee_pose.translation()\n",
    "    rot_err = (ee_pose.rotation().inverse() @ tool_pose.rotation()).log()\n",
    "    return jnp.hstack([pos_err, 0.5*rot_err])\n",
    "\n",
    "def D_hand(grasp, obj_pose):\n",
    "    tool_pose = R_grasp(grasp, obj_pose)\n",
    "    assigned_pc = jax.vmap(SE3(tool_pose).apply)(hande_pc)\n",
    "    return env.distances(assigned_pc).min()\n",
    "\n",
    "def D_robot(q:Array):\n",
    "    assigned_pc = robot_pc_fn(q)\n",
    "    return env.distances(assigned_pc).min()\n",
    "\n",
    "def D_obj(q:Array, grasp:Array):\n",
    "    ee_pose = SE3(fk_ee_fn(q))\n",
    "    grasp_pose = grasp_reconst(grasp)\n",
    "    obj_pose = ee_pose @ grasp_pose.inverse()\n",
    "    pc = jax.vmap(obj_pose.apply)(obj_pc)\n",
    "    return env.distances(pc).min()\n"
   ]
  },
  {
   "cell_type": "code",
   "execution_count": 10,
   "metadata": {},
   "outputs": [],
   "source": [
    "#single arm reorientation\n",
    "robots = [\"gen3\"]\n",
    "home_configs = {\n",
    "    \"gen3\":gen3_home_config,\n",
    "}\n",
    "\n",
    "obj_init_pose = Pose(name=\"init\", is_var=False, value=prob_dict[\"pose_init\"])\n",
    "obj_goal_pose = Pose(name=\"goal\", is_var=False, value=prob_dict[\"pose_goal\"])\n",
    "robot_home_configs = {\n",
    "    \"gen3\":Config(\"home\", \"gen3\", False, home_configs[\"gen3\"])}\n",
    "\n",
    "action_seq = [MoveFree(\"gen3\"), MoveHold(\"gen3\"), MoveFree(\"gen3\")]\n",
    "init_scene = Home(0, obj_init_pose, robot_home_configs)\n",
    "goal_scene = Home(len(action_seq), obj_goal_pose, robot_home_configs)"
   ]
  },
  {
   "cell_type": "code",
   "execution_count": 11,
   "metadata": {},
   "outputs": [
    {
     "name": "stdout",
     "output_type": "stream",
     "text": [
      "set action_seq and keyframes\n",
      "set variables and parameters\n",
      "set constraints\n",
      "All constraint functions are set\n",
      "All Coordinates are set accordingly\n"
     ]
    }
   ],
   "source": [
    "fn_dict = {\n",
    "    \"grasp_prob\": P_grasp,\n",
    "    \"inv_manipulability\": M_inv,\n",
    "    \"hand_col_distance\": D_hand,\n",
    "    \"kinematics_error\": K_robot,\n",
    "    \"robot_col_distance\": D_robot,\n",
    "}\n",
    "relaxed_prob = ProblemBuilder(robots, home_configs, is_relaxed=True)\n",
    "relaxed_prob.build_problem(action_seq, init_scene, goal_scene)\n",
    "relaxed_prob.set_constr_fn_dict(fn_dict, ignore=[])"
   ]
  },
  {
   "cell_type": "code",
   "execution_count": 12,
   "metadata": {},
   "outputs": [],
   "source": [
    "pc_red = PointCloud(world.vis, \"pc_red\", np.zeros((10,3)), 0.01, \"red\")\n",
    "pc_blue = PointCloud(world.vis, \"pc_blue\", np.zeros((10,3)), 0.01, \"blue\")\n",
    "pc_green = PointCloud(world.vis, \"pc_green\", np.zeros((10,3)), 0.01, \"green\")"
   ]
  },
  {
   "cell_type": "code",
   "execution_count": 25,
   "metadata": {},
   "outputs": [],
   "source": [
    "import cvxpy as cp"
   ]
  },
  {
   "cell_type": "code",
   "execution_count": 21,
   "metadata": {},
   "outputs": [],
   "source": []
  },
  {
   "cell_type": "code",
   "execution_count": 127,
   "metadata": {},
   "outputs": [],
   "source": []
  },
  {
   "cell_type": "code",
   "execution_count": 262,
   "metadata": {},
   "outputs": [],
   "source": [
    "q = np.random.uniform(gen3.arm.model.lb, gen3.arm.model.ub)\n",
    "ee_point = fk_ee_fn(q)[-3:]\n",
    "gen3.set_joint_angles(q)"
   ]
  },
  {
   "cell_type": "code",
   "execution_count": 263,
   "metadata": {},
   "outputs": [],
   "source": [
    "ee_point_g = grasp_embedding(SE3(prob_dict['pose_init']).inverse().apply(ee_point))\n",
    "frame.set_pose(SE3(R_grasp(ee_point_g, prob_dict['pose_init'])))\n",
    "obj_fn = lambda grasp: jnp.sum((grasp - ee_point_g)**2)\n",
    "grad_fn = jax.grad(obj_fn)"
   ]
  },
  {
   "cell_type": "code",
   "execution_count": 323,
   "metadata": {},
   "outputs": [],
   "source": [
    "def q_to_grasp(q):\n",
    "    ee_point = fk_ee_fn(q)[-3:]\n",
    "    ee_point_g = grasp_embedding(SE3(prob_dict['pose_init']).inverse().apply(ee_point))\n",
    "    return ee_point_g"
   ]
  },
  {
   "cell_type": "code",
   "execution_count": 116,
   "metadata": {},
   "outputs": [],
   "source": [
    "frame = Frame(world.vis, \"frame\")"
   ]
  },
  {
   "cell_type": "code",
   "execution_count": 250,
   "metadata": {},
   "outputs": [],
   "source": [
    "def P_grasp_wrapper(grasp):\n",
    "    return P_grasp(grasp)/1000"
   ]
  },
  {
   "cell_type": "code",
   "execution_count": 327,
   "metadata": {},
   "outputs": [
    {
     "name": "stdout",
     "output_type": "stream",
     "text": [
      "This is Ipopt version 3.14.10, running with linear solver MUMPS 5.2.1.\n",
      "\n",
      "Number of nonzeros in equality constraint Jacobian...:        0\n",
      "Number of nonzeros in inequality constraint Jacobian.:        3\n",
      "Number of nonzeros in Lagrangian Hessian.............:        0\n",
      "\n",
      "Total number of variables............................:        3\n",
      "                     variables with only lower bounds:        0\n",
      "                variables with lower and upper bounds:        3\n",
      "                     variables with only upper bounds:        0\n",
      "Total number of equality constraints.................:        0\n",
      "Total number of inequality constraints...............:        1\n",
      "        inequality constraints with only lower bounds:        1\n",
      "   inequality constraints with lower and upper bounds:        0\n",
      "        inequality constraints with only upper bounds:        0\n",
      "\n",
      "-0.13468066\n",
      "iter    objective    inf_pr   inf_du lg(mu)  ||d||  lg(rg) alpha_du alpha_pr  ls\n",
      "   0  0.0000000e+00 1.35e-01 1.92e-01   0.0 0.00e+00    -  0.00e+00 0.00e+00   0\n",
      "-0.12555437\n",
      "   1  0.0000000e+00 1.26e-01 2.18e+00  -6.1 3.09e-01    -  5.59e-01 1.57e-01h  1\n",
      "-0.1148536\n",
      "   2  0.0000000e+00 1.15e-01 1.70e+00  -1.3 7.26e-01    -  9.97e-01 1.00e+00f  1\n",
      "-0.040695272\n",
      "   3  0.0000000e+00 4.07e-02 7.04e-01  -1.1 2.68e-01    -  9.62e-01 1.00e+00h  1\n",
      "-0.014840028\n",
      "   4  0.0000000e+00 1.48e-02 7.31e-01  -1.8 1.02e-01    -  9.99e-01 1.00e+00h  1\n",
      "-0.018726239\n",
      "-0.044745505\n",
      "-0.0081087835\n",
      "   5  0.0000000e+00 8.11e-03 7.22e-01  -3.2 6.04e-02    -  1.00e+00 5.00e-01h  2\n",
      "0.0033110632\n",
      "   6  0.0000000e+00 0.00e+00 2.15e-01  -4.7 2.25e-02    -  1.00e+00 1.00e+00h  1\n",
      "\n",
      "Number of Iterations....: 6\n",
      "\n",
      "                                   (scaled)                 (unscaled)\n",
      "Objective...............:   0.0000000000000000e+00    0.0000000000000000e+00\n",
      "Dual infeasibility......:   2.1478555178020753e-01    2.1478555178020753e-01\n",
      "Constraint violation....:   0.0000000000000000e+00    0.0000000000000000e+00\n",
      "Variable bound violation:   0.0000000000000000e+00    0.0000000000000000e+00\n",
      "Complementarity.........:   1.5419033176021953e-03    1.5419033176021953e-03\n",
      "Overall NLP error.......:   2.1478555178020753e-01    2.1478555178020753e-01\n",
      "\n",
      "\n",
      "Number of objective function evaluations             = 9\n",
      "Number of objective gradient evaluations             = 7\n",
      "Number of equality constraint evaluations            = 0\n",
      "Number of inequality constraint evaluations          = 9\n",
      "Number of equality constraint Jacobian evaluations   = 0\n",
      "Number of inequality constraint Jacobian evaluations = 7\n",
      "Number of Lagrangian Hessian evaluations             = 0\n",
      "Total seconds in IPOPT                               = 0.706\n",
      "\n",
      "EXIT: Solved To Acceptable Level.\n"
     ]
    }
   ],
   "source": [
    "class Prob:\n",
    "    def __init__(self, obj_fn):\n",
    "        self.obj_fn = obj_fn\n",
    "    def objective(self, x):\n",
    "        frame.set_pose(SE3(R_grasp(x, prob_dict['pose_init'])))\n",
    "        print(P_grasp_wrapper(x))\n",
    "        return self.obj_fn(x)\n",
    "\n",
    "prob = Prob(lambda x:0.)\n",
    "# setattr(prob, \"objective\", obj_fn)\n",
    "setattr(prob, \"gradient\", lambda x:np.zeros(3))\n",
    "setattr(prob, \"constraints\", P_grasp_wrapper)\n",
    "setattr(prob, \"jacobian\", jax.jacfwd(P_grasp_wrapper))\n",
    "\n",
    "ipopt = cyipopt.Problem(\n",
    "    n=3, m=1,problem_obj=prob,\n",
    "    lb=-jnp.ones(3), ub=jnp.ones(3),\n",
    "    cl=jnp.zeros(1), cu=jnp.full(1, np.inf)\n",
    ")\n",
    "\n",
    "ipopt.add_option(\"nlp_scaling_method\", \"none\") #release\n",
    "ipopt.add_option(\"acceptable_tol\", 100.) #release\n",
    "ipopt.add_option(\"acceptable_obj_change_tol\", 0.1)\n",
    "ipopt.add_option(\"acceptable_constr_viol_tol\", 0.1) #release\n",
    "ipopt.add_option(\"acceptable_iter\", 2)\n",
    "ipopt.add_option('mu_strategy', 'adaptive')\n",
    "ipopt.add_option('max_iter', 100)\n",
    "sol, info = ipopt.solve(jnp.array([-0.4,0.6,0.5]))\n"
   ]
  },
  {
   "cell_type": "code",
   "execution_count": 334,
   "metadata": {},
   "outputs": [],
   "source": [
    "grasp = q_to_grasp(gen3_home_config)"
   ]
  },
  {
   "cell_type": "code",
   "execution_count": 335,
   "metadata": {},
   "outputs": [
    {
     "name": "stdout",
     "output_type": "stream",
     "text": [
      "This is Ipopt version 3.14.10, running with linear solver MUMPS 5.2.1.\n",
      "\n",
      "Number of nonzeros in equality constraint Jacobian...:        0\n",
      "Number of nonzeros in inequality constraint Jacobian.:        3\n",
      "Number of nonzeros in Lagrangian Hessian.............:        0\n",
      "\n",
      "Total number of variables............................:        3\n",
      "                     variables with only lower bounds:        0\n",
      "                variables with lower and upper bounds:        3\n",
      "                     variables with only upper bounds:        0\n",
      "Total number of equality constraints.................:        0\n",
      "Total number of inequality constraints...............:        1\n",
      "        inequality constraints with only lower bounds:        1\n",
      "   inequality constraints with lower and upper bounds:        0\n",
      "        inequality constraints with only upper bounds:        0\n",
      "\n",
      "-0.41118076\n",
      "iter    objective    inf_pr   inf_du lg(mu)  ||d||  lg(rg) alpha_du alpha_pr  ls\n",
      "   0  0.0000000e+00 4.11e-01 3.77e-01   0.0 0.00e+00    -  0.00e+00 0.00e+00   0\n",
      "-0.23009388\n",
      "   1  0.0000000e+00 2.30e-01 4.20e+00  -0.9 9.14e-01    -  2.28e-01 1.00e+00f  1\n",
      "-0.10496804\n",
      "   2  0.0000000e+00 1.05e-01 1.98e+00  -0.8 5.76e-01    -  9.58e-01 6.70e-01h  1\n",
      "-0.07913271\n",
      "   3  0.0000000e+00 7.91e-02 7.55e-01  -0.6 4.30e-01    -  7.89e-01 1.00e+00f  1\n",
      "-0.0933661\n",
      "   4  0.0000000e+00 9.34e-02 2.53e+00  -0.8 4.67e-01    -  8.67e-01 1.00e+00h  1\n",
      "-0.030182747\n",
      "   5  0.0000000e+00 3.02e-02 3.19e-01  -0.8 2.84e-01    -  1.00e+00 1.00e+00h  1\n",
      "-0.013098923\n",
      "   6  0.0000000e+00 1.31e-02 7.07e-01  -1.6 2.66e-01    -  9.72e-01 1.00e+00h  1\n",
      "-0.008929387\n",
      "   7  0.0000000e+00 8.93e-03 1.01e+00  -1.3 1.46e-01    -  8.99e-01 1.00e+00h  1\n",
      "-0.0023935349\n",
      "   8  0.0000000e+00 2.39e-03 3.25e-01  -2.5 5.78e-02    -  1.00e+00 1.00e+00h  1\n",
      "0.0029514714\n",
      "   9  0.0000000e+00 0.00e+00 6.66e-01  -3.9 4.44e-02    -  1.00e+00 1.00e+00h  1\n",
      "\n",
      "Number of Iterations....: 9\n",
      "\n",
      "                                   (scaled)                 (unscaled)\n",
      "Objective...............:   0.0000000000000000e+00    0.0000000000000000e+00\n",
      "Dual infeasibility......:   6.6636812215432650e-01    6.6636812215432650e-01\n",
      "Constraint violation....:   0.0000000000000000e+00    0.0000000000000000e+00\n",
      "Variable bound violation:   0.0000000000000000e+00    0.0000000000000000e+00\n",
      "Complementarity.........:   2.2779271651147178e-03    2.2779271651147178e-03\n",
      "Overall NLP error.......:   6.6636812215432650e-01    6.6636812215432650e-01\n",
      "\n",
      "\n",
      "Number of objective function evaluations             = 10\n",
      "Number of objective gradient evaluations             = 10\n",
      "Number of equality constraint evaluations            = 0\n",
      "Number of inequality constraint evaluations          = 10\n",
      "Number of equality constraint Jacobian evaluations   = 0\n",
      "Number of inequality constraint Jacobian evaluations = 10\n",
      "Number of Lagrangian Hessian evaluations             = 0\n",
      "Total seconds in IPOPT                               = 0.854\n",
      "\n",
      "EXIT: Solved To Acceptable Level.\n"
     ]
    }
   ],
   "source": [
    "#grasp = np.zeros(3)\n",
    "class Prob:\n",
    "    def __init__(self, obj_fn):\n",
    "        self.obj_fn = obj_fn\n",
    "    def objective(self, x):\n",
    "        frame.set_pose(SE3(R_grasp(x, prob_dict['pose_init'])))\n",
    "        print(P_grasp_wrapper(x))\n",
    "        return self.obj_fn(x)\n",
    "prob = Prob(lambda x:0.)\n",
    "# setattr(prob, \"objective\", obj_fn)\n",
    "setattr(prob, \"gradient\", lambda x:np.zeros(3))\n",
    "setattr(prob, \"constraints\", P_grasp_wrapper)\n",
    "setattr(prob, \"jacobian\", jax.jacfwd(P_grasp_wrapper))\n",
    "\n",
    "ipopt = cyipopt.Problem(\n",
    "    n=3, m=1,problem_obj=prob,\n",
    "    lb=-jnp.ones(3), ub=jnp.ones(3),\n",
    "    cl=jnp.zeros(1), cu=jnp.full(1, np.inf)\n",
    ")\n",
    "ipopt.add_option(\"nlp_scaling_method\", \"none\") #release\n",
    "ipopt.add_option(\"acceptable_tol\", 100.) #release\n",
    "ipopt.add_option(\"acceptable_obj_change_tol\", 0.1)\n",
    "ipopt.add_option(\"acceptable_constr_viol_tol\", 0.1) #release\n",
    "ipopt.add_option(\"acceptable_iter\", 2)\n",
    "ipopt.add_option('mu_strategy', 'adaptive')\n",
    "ipopt.add_option('max_iter', 100)\n",
    "grasp, info = ipopt.solve(jnp.array(grasp))"
   ]
  },
  {
   "cell_type": "code",
   "execution_count": null,
   "metadata": {},
   "outputs": [],
   "source": [
    "def farthest_point_sampling(points, num_samples):\n",
    "    farthest_points = np.zeros((num_samples, 3))\n",
    "    farthest_points[0] = points[np.random.randint(len(points))]\n",
    "    distances = np.full(points.shape[0], np.inf)\n",
    "    for i in range(1, num_samples):\n",
    "        distances = np.minimum(distances, np.linalg.norm(points - farthest_points[i - 1], axis=1))\n",
    "        farthest_points[i] = points[np.argmax(distances)]\n",
    "    return farthest_points"
   ]
  },
  {
   "cell_type": "code",
   "execution_count": 315,
   "metadata": {},
   "outputs": [],
   "source": [
    "import time"
   ]
  },
  {
   "cell_type": "code",
   "execution_count": 336,
   "metadata": {},
   "outputs": [
    {
     "name": "stdout",
     "output_type": "stream",
     "text": [
      "This is Ipopt version 3.14.10, running with linear solver MUMPS 5.2.1.\n",
      "\n",
      "Number of nonzeros in equality constraint Jacobian...:       42\n",
      "Number of nonzeros in inequality constraint Jacobian.:        0\n",
      "Number of nonzeros in Lagrangian Hessian.............:        0\n",
      "\n",
      "Total number of variables............................:        7\n",
      "                     variables with only lower bounds:        0\n",
      "                variables with lower and upper bounds:        7\n",
      "                     variables with only upper bounds:        0\n",
      "Total number of equality constraints.................:        6\n",
      "Total number of inequality constraints...............:        0\n",
      "        inequality constraints with only lower bounds:        0\n",
      "   inequality constraints with lower and upper bounds:        0\n",
      "        inequality constraints with only upper bounds:        0\n",
      "\n",
      "iter    objective    inf_pr   inf_du lg(mu)  ||d||  lg(rg) alpha_du alpha_pr  ls\n",
      "   0  0.0000000e+00 3.20e-01 0.00e+00   0.0 0.00e+00    -  0.00e+00 0.00e+00   0\n",
      "   1  0.0000000e+00 2.50e-01 2.11e+00  -0.2 1.36e+00    -  8.15e-01 1.00e+00h  1\n",
      "   2  0.0000000e+00 1.25e-01 1.53e+00  -0.2 5.83e-01    -  9.24e-01 1.00e+00f  1\n",
      "   3  0.0000000e+00 2.43e-02 7.84e-01  -1.3 2.23e-01    -  9.91e-01 1.00e+00h  1\n",
      "   4  0.0000000e+00 5.77e-04 1.15e-01  -2.5 6.16e-02    -  9.99e-01 1.00e+00h  1\n",
      "   5  0.0000000e+00 2.49e-07 1.15e-04  -4.4 1.62e-03    -  1.00e+00 1.00e+00h  1\n",
      "\n",
      "Number of Iterations....: 5\n",
      "\n",
      "                                   (scaled)                 (unscaled)\n",
      "Objective...............:   0.0000000000000000e+00    0.0000000000000000e+00\n",
      "Dual infeasibility......:   1.1549409002996963e-04    1.1549409002996963e-04\n",
      "Constraint violation....:   2.4924506192292029e-07    2.4924506192292029e-07\n",
      "Variable bound violation:   0.0000000000000000e+00    0.0000000000000000e+00\n",
      "Complementarity.........:   4.6221718281385600e-05    4.6221718281385600e-05\n",
      "Overall NLP error.......:   1.1549409002996963e-04    1.1549409002996963e-04\n",
      "\n",
      "\n",
      "Number of objective function evaluations             = 6\n",
      "Number of objective gradient evaluations             = 6\n",
      "Number of equality constraint evaluations            = 6\n",
      "Number of inequality constraint evaluations          = 0\n",
      "Number of equality constraint Jacobian evaluations   = 6\n",
      "Number of inequality constraint Jacobian evaluations = 0\n",
      "Number of Lagrangian Hessian evaluations             = 0\n",
      "Total seconds in IPOPT                               = 1.515\n",
      "\n",
      "EXIT: Solved To Acceptable Level.\n"
     ]
    }
   ],
   "source": [
    "def K_robot_wrapper(x):\n",
    "    q = x\n",
    "    error = K_robot(grasp, prob_dict['pose_init'], x)\n",
    "    return error\n",
    "class Prob:\n",
    "    def __init__(self, obj_fn):\n",
    "        self.obj_fn = obj_fn\n",
    "    def objective(self, x):\n",
    "        gen3.set_joint_angles(x)\n",
    "        time.sleep(0.1)\n",
    "        return self.obj_fn(x)\n",
    "prob = Prob(lambda x:0.)\n",
    "setattr(prob, \"gradient\", lambda x:np.zeros(7))\n",
    "setattr(prob, \"constraints\", K_robot_wrapper)\n",
    "setattr(prob, \"jacobian\", jax.jacfwd(K_robot_wrapper))\n",
    "\n",
    "ipopt = cyipopt.Problem(\n",
    "    n=7, m=6,problem_obj=prob,\n",
    "    lb=gen3.arm.model.lb, ub=gen3.arm.model.ub,\n",
    "    cl=np.zeros(6), cu=np.zeros(6)\n",
    ")\n",
    "\n",
    "ipopt.add_option(\"nlp_scaling_method\", \"none\") #release\n",
    "ipopt.add_option(\"acceptable_tol\", 100.) #release\n",
    "ipopt.add_option(\"acceptable_obj_change_tol\", 0.1)\n",
    "ipopt.add_option(\"acceptable_constr_viol_tol\", 0.1) #release\n",
    "ipopt.add_option(\"acceptable_iter\", 2)\n",
    "ipopt.add_option('mu_strategy', 'adaptive')\n",
    "ipopt.add_option('max_iter', 10)\n",
    "q, info = ipopt.solve(gen3_home_config)"
   ]
  },
  {
   "cell_type": "code",
   "execution_count": null,
   "metadata": {},
   "outputs": [],
   "source": []
  },
  {
   "cell_type": "code",
   "execution_count": null,
   "metadata": {},
   "outputs": [],
   "source": []
  },
  {
   "cell_type": "code",
   "execution_count": 319,
   "metadata": {},
   "outputs": [
    {
     "data": {
      "text/plain": [
       "array([0., 0., 0.])"
      ]
     },
     "execution_count": 319,
     "metadata": {},
     "output_type": "execute_result"
    }
   ],
   "source": [
    "prob.gradient(q)"
   ]
  },
  {
   "cell_type": "code",
   "execution_count": 303,
   "metadata": {},
   "outputs": [
    {
     "data": {
      "text/plain": [
       "Array([ 0.09446406,  0.36338875, -0.32020906,  0.08145443, -0.7028912 ,\n",
       "        0.07869895], dtype=float32)"
      ]
     },
     "execution_count": 303,
     "metadata": {},
     "output_type": "execute_result"
    }
   ],
   "source": [
    "K_robot(grasp, prob_dict['pose_init'], gen3_home_config)"
   ]
  },
  {
   "cell_type": "code",
   "execution_count": 302,
   "metadata": {},
   "outputs": [
    {
     "data": {
      "text/plain": [
       "array([0.19736004, 0.01021076, 0.47550631])"
      ]
     },
     "execution_count": 302,
     "metadata": {},
     "output_type": "execute_result"
    }
   ],
   "source": [
    "grasp"
   ]
  },
  {
   "cell_type": "code",
   "execution_count": 102,
   "metadata": {},
   "outputs": [
    {
     "data": {
      "text/plain": [
       "Array(-116.672874, dtype=float32)"
      ]
     },
     "execution_count": 102,
     "metadata": {},
     "output_type": "execute_result"
    }
   ],
   "source": []
  },
  {
   "cell_type": "code",
   "execution_count": 13,
   "metadata": {},
   "outputs": [],
   "source": [
    "prob_dict = get_problem()\n",
    "visualize_problem(prob_dict)"
   ]
  },
  {
   "cell_type": "code",
   "execution_count": 14,
   "metadata": {},
   "outputs": [],
   "source": [
    "import time\n",
    "opt_if_r = IPOPTAcc(relaxed_prob, True)\n",
    "opt_if_r.set_problem(prob_dict)\n",
    "def debug_fn_r(x):\n",
    "    grasp = x\n",
    "    obj_poses = [prob_dict['pose_init'], \n",
    "                 prob_dict['pose_goal']]\n",
    "\n",
    "    pcs = []\n",
    "    for obj_pose in obj_poses:\n",
    "        tool_pose = R_grasp(grasp, obj_pose)\n",
    "        pc = jax.vmap(SE3(tool_pose).normalize().apply)(hande_pc)\n",
    "        pcs.append(pc)\n",
    "    pcs = jnp.vstack(pcs)\n",
    "    pc_red.reload(points=np.array(pcs, dtype=float))\n",
    "    time.sleep(0.1)\n",
    "opt_if_r.set_debug_fn(debug_fn_r)\n",
    "# P_grasp_wrapper = lambda param, x:P_grasp(x)\n",
    "# opt_if.vg_obj_fn = jax.value_and_grad(P_grasp_wrapper, argnums=1)"
   ]
  },
  {
   "cell_type": "code",
   "execution_count": 15,
   "metadata": {},
   "outputs": [
    {
     "name": "stdout",
     "output_type": "stream",
     "text": [
      "\n",
      "******************************************************************************\n",
      "This program contains Ipopt, a library for large-scale nonlinear optimization.\n",
      " Ipopt is released as open source code under the Eclipse Public License (EPL).\n",
      "         For more information visit https://github.com/coin-or/Ipopt\n",
      "******************************************************************************\n",
      "\n",
      "This is Ipopt version 3.14.10, running with linear solver MUMPS 5.2.1.\n",
      "\n",
      "Number of nonzeros in equality constraint Jacobian...:        0\n",
      "Number of nonzeros in inequality constraint Jacobian.:       15\n",
      "Number of nonzeros in Lagrangian Hessian.............:        0\n",
      "\n",
      "Total number of variables............................:        3\n",
      "                     variables with only lower bounds:        0\n",
      "                variables with lower and upper bounds:        3\n",
      "                     variables with only upper bounds:        0\n",
      "Total number of equality constraints.................:        0\n",
      "Total number of inequality constraints...............:        5\n",
      "        inequality constraints with only lower bounds:        5\n",
      "   inequality constraints with lower and upper bounds:        0\n",
      "        inequality constraints with only upper bounds:        0\n",
      "\n",
      "iter    objective    inf_pr   inf_du lg(mu)  ||d||  lg(rg) alpha_du alpha_pr  ls\n",
      "   0  0.0000000e+00 2.46e+01 1.01e+00   0.0 0.00e+00    -  0.00e+00 0.00e+00   0\n",
      "cval:  {'inv_manipulability_rpickplace_gen3_1': array([0.86447936], dtype=float32), 'inv_manipulability_rpickplace_gen3_2': array([0.33974877], dtype=float32), 'grasp_prob_movehold_1_gen3': array([-16.987564], dtype=float32), 'hand_col_distance_rpickplace_gen3_1': array([0.13770664], dtype=float32), 'hand_col_distance_rpickplace_gen3_2': array([-0.01317751], dtype=float32)}\n",
      "viol:  {'inv_manipulability_rpickplace_gen3_1': array([ True]), 'inv_manipulability_rpickplace_gen3_2': array([ True]), 'grasp_prob_movehold_1_gen3': array([False]), 'hand_col_distance_rpickplace_gen3_1': array([ True]), 'hand_col_distance_rpickplace_gen3_2': array([False])}\n",
      "   1  0.0000000e+00 1.70e+01 6.66e+00  -0.8 6.28e-01    -  4.98e-01 7.32e-01h  1\n",
      "cval:  {'inv_manipulability_rpickplace_gen3_1': array([0.76571643], dtype=float32), 'inv_manipulability_rpickplace_gen3_2': array([0.36226198], dtype=float32), 'grasp_prob_movehold_1_gen3': array([-15.413289], dtype=float32), 'hand_col_distance_rpickplace_gen3_1': array([0.13667604], dtype=float32), 'hand_col_distance_rpickplace_gen3_2': array([-0.03702967], dtype=float32)}\n",
      "viol:  {'inv_manipulability_rpickplace_gen3_1': array([ True]), 'inv_manipulability_rpickplace_gen3_2': array([ True]), 'grasp_prob_movehold_1_gen3': array([False]), 'hand_col_distance_rpickplace_gen3_1': array([ True]), 'hand_col_distance_rpickplace_gen3_2': array([False])}\n",
      "   2  0.0000000e+00 1.54e+01 5.19e+01  -1.4 1.99e-01    -  7.79e-01 1.00e+00h  1\n",
      "cval:  {'inv_manipulability_rpickplace_gen3_1': array([0.86794585], dtype=float32), 'inv_manipulability_rpickplace_gen3_2': array([0.2859292], dtype=float32), 'grasp_prob_movehold_1_gen3': array([-9.171876], dtype=float32), 'hand_col_distance_rpickplace_gen3_1': array([0.1350222], dtype=float32), 'hand_col_distance_rpickplace_gen3_2': array([0.00260976], dtype=float32)}\n",
      "viol:  {'inv_manipulability_rpickplace_gen3_1': array([ True]), 'inv_manipulability_rpickplace_gen3_2': array([ True]), 'grasp_prob_movehold_1_gen3': array([False]), 'hand_col_distance_rpickplace_gen3_1': array([ True]), 'hand_col_distance_rpickplace_gen3_2': array([False])}\n",
      "   3  0.0000000e+00 9.17e+00 2.74e+01  -2.0 2.78e+00    -  2.19e-01 3.62e-01h  1\n",
      "cval:  {'inv_manipulability_rpickplace_gen3_1': array([0.866419], dtype=float32), 'inv_manipulability_rpickplace_gen3_2': array([0.18798189], dtype=float32), 'grasp_prob_movehold_1_gen3': array([-1.7774689], dtype=float32), 'hand_col_distance_rpickplace_gen3_1': array([0.1236549], dtype=float32), 'hand_col_distance_rpickplace_gen3_2': array([0.01709008], dtype=float32)}\n",
      "viol:  {'inv_manipulability_rpickplace_gen3_1': array([ True]), 'inv_manipulability_rpickplace_gen3_2': array([ True]), 'grasp_prob_movehold_1_gen3': array([False]), 'hand_col_distance_rpickplace_gen3_1': array([ True]), 'hand_col_distance_rpickplace_gen3_2': array([False])}\n",
      "   4  0.0000000e+00 1.78e+00 1.33e+00  -1.5 6.00e-01    -  1.00e+00 1.00e+00h  1\n",
      "cval:  {'inv_manipulability_rpickplace_gen3_1': array([0.00292675], dtype=float32), 'inv_manipulability_rpickplace_gen3_2': array([0.911029], dtype=float32), 'grasp_prob_movehold_1_gen3': array([-44.311337], dtype=float32), 'hand_col_distance_rpickplace_gen3_1': array([0.04173699], dtype=float32), 'hand_col_distance_rpickplace_gen3_2': array([0.04970101], dtype=float32)}\n",
      "viol:  {'inv_manipulability_rpickplace_gen3_1': array([False]), 'inv_manipulability_rpickplace_gen3_2': array([ True]), 'grasp_prob_movehold_1_gen3': array([False]), 'hand_col_distance_rpickplace_gen3_1': array([False]), 'hand_col_distance_rpickplace_gen3_2': array([False])}\n",
      "   5  0.0000000e+00 5.98e+00 1.66e+02  -1.6 5.05e-01    -  2.87e-01 1.25e-01h  4\n",
      "cval:  {'inv_manipulability_rpickplace_gen3_1': array([0.02415432], dtype=float32), 'inv_manipulability_rpickplace_gen3_2': array([0.8569923], dtype=float32), 'grasp_prob_movehold_1_gen3': array([-7.6286883], dtype=float32), 'hand_col_distance_rpickplace_gen3_1': array([0.09368894], dtype=float32), 'hand_col_distance_rpickplace_gen3_2': array([0.0220339], dtype=float32)}\n",
      "viol:  {'inv_manipulability_rpickplace_gen3_1': array([False]), 'inv_manipulability_rpickplace_gen3_2': array([ True]), 'grasp_prob_movehold_1_gen3': array([False]), 'hand_col_distance_rpickplace_gen3_1': array([ True]), 'hand_col_distance_rpickplace_gen3_2': array([False])}\n",
      "   6  0.0000000e+00 7.63e+00 4.91e+01  -1.6 1.24e+01    -  1.00e+00 1.46e-01h  1\n",
      "cval:  {'inv_manipulability_rpickplace_gen3_1': array([0.0835042], dtype=float32), 'inv_manipulability_rpickplace_gen3_2': array([0.714624], dtype=float32), 'grasp_prob_movehold_1_gen3': array([-7.252153], dtype=float32), 'hand_col_distance_rpickplace_gen3_1': array([0.11069331], dtype=float32), 'hand_col_distance_rpickplace_gen3_2': array([0.01995343], dtype=float32)}\n",
      "viol:  {'inv_manipulability_rpickplace_gen3_1': array([False]), 'inv_manipulability_rpickplace_gen3_2': array([ True]), 'grasp_prob_movehold_1_gen3': array([False]), 'hand_col_distance_rpickplace_gen3_1': array([ True]), 'hand_col_distance_rpickplace_gen3_2': array([False])}\n",
      "   7  0.0000000e+00 7.25e+00 9.88e+01  -1.6 7.44e-01    -  8.32e-02 5.02e-02h  1\n",
      "cval:  {'inv_manipulability_rpickplace_gen3_1': array([0.05996643], dtype=float32), 'inv_manipulability_rpickplace_gen3_2': array([0.82619596], dtype=float32), 'grasp_prob_movehold_1_gen3': array([-6.7962885], dtype=float32), 'hand_col_distance_rpickplace_gen3_1': array([0.10429987], dtype=float32), 'hand_col_distance_rpickplace_gen3_2': array([0.02143484], dtype=float32)}\n",
      "viol:  {'inv_manipulability_rpickplace_gen3_1': array([False]), 'inv_manipulability_rpickplace_gen3_2': array([ True]), 'grasp_prob_movehold_1_gen3': array([False]), 'hand_col_distance_rpickplace_gen3_1': array([ True]), 'hand_col_distance_rpickplace_gen3_2': array([False])}\n",
      "   8  0.0000000e+00 6.80e+00 7.73e+01  -1.6 2.72e+00    -  5.54e-02 6.81e-02h  1\n",
      "cval:  {'inv_manipulability_rpickplace_gen3_1': array([0.00929742], dtype=float32), 'inv_manipulability_rpickplace_gen3_2': array([0.9053317], dtype=float32), 'grasp_prob_movehold_1_gen3': array([-6.5801916], dtype=float32), 'hand_col_distance_rpickplace_gen3_1': array([0.08208913], dtype=float32), 'hand_col_distance_rpickplace_gen3_2': array([0.02067292], dtype=float32)}\n",
      "viol:  {'inv_manipulability_rpickplace_gen3_1': array([False]), 'inv_manipulability_rpickplace_gen3_2': array([ True]), 'grasp_prob_movehold_1_gen3': array([False]), 'hand_col_distance_rpickplace_gen3_1': array([ True]), 'hand_col_distance_rpickplace_gen3_2': array([False])}\n",
      "   9  0.0000000e+00 6.58e+00 1.13e+04  -1.6 4.61e+00    -  1.00e+00 3.48e-02h  1\n",
      "cval:  {'inv_manipulability_rpickplace_gen3_1': array([0.4982059], dtype=float32), 'inv_manipulability_rpickplace_gen3_2': array([0.5265068], dtype=float32), 'grasp_prob_movehold_1_gen3': array([-5.279883], dtype=float32), 'hand_col_distance_rpickplace_gen3_1': array([0.11461812], dtype=float32), 'hand_col_distance_rpickplace_gen3_2': array([0.01689097], dtype=float32)}\n",
      "viol:  {'inv_manipulability_rpickplace_gen3_1': array([ True]), 'inv_manipulability_rpickplace_gen3_2': array([ True]), 'grasp_prob_movehold_1_gen3': array([False]), 'hand_col_distance_rpickplace_gen3_1': array([ True]), 'hand_col_distance_rpickplace_gen3_2': array([False])}\n",
      "iter    objective    inf_pr   inf_du lg(mu)  ||d||  lg(rg) alpha_du alpha_pr  ls\n",
      "  10  0.0000000e+00 5.28e+00 9.73e+03  -1.6 3.16e+00    -  9.73e-02 1.31e-01h  1\n",
      "cval:  {'inv_manipulability_rpickplace_gen3_1': array([0.4692493], dtype=float32), 'inv_manipulability_rpickplace_gen3_2': array([0.5367931], dtype=float32), 'grasp_prob_movehold_1_gen3': array([-5.3721666], dtype=float32), 'hand_col_distance_rpickplace_gen3_1': array([0.11431265], dtype=float32), 'hand_col_distance_rpickplace_gen3_2': array([0.01709586], dtype=float32)}\n",
      "viol:  {'inv_manipulability_rpickplace_gen3_1': array([ True]), 'inv_manipulability_rpickplace_gen3_2': array([ True]), 'grasp_prob_movehold_1_gen3': array([False]), 'hand_col_distance_rpickplace_gen3_1': array([ True]), 'hand_col_distance_rpickplace_gen3_2': array([False])}\n",
      "  11  0.0000000e+00 5.27e+00 9.56e+03  -1.6 4.48e+00    -  2.19e-03 2.67e-03h  2\n",
      "cval:  {'inv_manipulability_rpickplace_gen3_1': array([0.5220569], dtype=float32), 'inv_manipulability_rpickplace_gen3_2': array([0.00047978], dtype=float32), 'grasp_prob_movehold_1_gen3': array([-25.439756], dtype=float32), 'hand_col_distance_rpickplace_gen3_1': array([0.00651079], dtype=float32), 'hand_col_distance_rpickplace_gen3_2': array([-0.06860279], dtype=float32)}\n",
      "viol:  {'inv_manipulability_rpickplace_gen3_1': array([ True]), 'inv_manipulability_rpickplace_gen3_2': array([False]), 'grasp_prob_movehold_1_gen3': array([False]), 'hand_col_distance_rpickplace_gen3_1': array([False]), 'hand_col_distance_rpickplace_gen3_2': array([False])}\n",
      "  12  0.0000000e+00 6.02e+00 5.78e+03  -1.6 6.36e+00    -  4.49e-01 9.28e-03h  4\n",
      "cval:  {'inv_manipulability_rpickplace_gen3_1': array([0.04019271], dtype=float32), 'inv_manipulability_rpickplace_gen3_2': array([0.85890144], dtype=float32), 'grasp_prob_movehold_1_gen3': array([-6.921548], dtype=float32), 'hand_col_distance_rpickplace_gen3_1': array([0.09945845], dtype=float32), 'hand_col_distance_rpickplace_gen3_2': array([0.02091408], dtype=float32)}\n",
      "viol:  {'inv_manipulability_rpickplace_gen3_1': array([False]), 'inv_manipulability_rpickplace_gen3_2': array([ True]), 'grasp_prob_movehold_1_gen3': array([False]), 'hand_col_distance_rpickplace_gen3_1': array([ True]), 'hand_col_distance_rpickplace_gen3_2': array([False])}\n",
      "  13  0.0000000e+00 6.02e+00 6.37e+03  -1.6 2.71e+01    -  3.11e-03 1.00e-03h  3\n",
      "cval:  {'inv_manipulability_rpickplace_gen3_1': array([0.5094501], dtype=float32), 'inv_manipulability_rpickplace_gen3_2': array([0.00106943], dtype=float32), 'grasp_prob_movehold_1_gen3': array([-9.225351], dtype=float32), 'hand_col_distance_rpickplace_gen3_1': array([0.01550317], dtype=float32), 'hand_col_distance_rpickplace_gen3_2': array([-0.07735282], dtype=float32)}\n",
      "viol:  {'inv_manipulability_rpickplace_gen3_1': array([ True]), 'inv_manipulability_rpickplace_gen3_2': array([False]), 'grasp_prob_movehold_1_gen3': array([False]), 'hand_col_distance_rpickplace_gen3_1': array([False]), 'hand_col_distance_rpickplace_gen3_2': array([False])}\n",
      "  14  0.0000000e+00 6.02e+00 7.38e+03  -1.6 2.39e+01    -  7.50e-03 1.11e-04h  8\n",
      "cval:  {'inv_manipulability_rpickplace_gen3_1': array([0.43341964], dtype=float32), 'inv_manipulability_rpickplace_gen3_2': array([0.00090534], dtype=float32), 'grasp_prob_movehold_1_gen3': array([-207.01855], dtype=float32), 'hand_col_distance_rpickplace_gen3_1': array([-0.02348561], dtype=float32), 'hand_col_distance_rpickplace_gen3_2': array([-0.05278885], dtype=float32)}\n",
      "viol:  {'inv_manipulability_rpickplace_gen3_1': array([ True]), 'inv_manipulability_rpickplace_gen3_2': array([False]), 'grasp_prob_movehold_1_gen3': array([False]), 'hand_col_distance_rpickplace_gen3_1': array([False]), 'hand_col_distance_rpickplace_gen3_2': array([False])}\n",
      "  15  0.0000000e+00 6.34e+00 9.82e+02  -1.6 1.29e+00    -  7.20e-01 6.00e-03h  8\n",
      "cval:  {'inv_manipulability_rpickplace_gen3_1': array([0.4113443], dtype=float32), 'inv_manipulability_rpickplace_gen3_2': array([2.0509464e-05], dtype=float32), 'grasp_prob_movehold_1_gen3': array([-410.0318], dtype=float32), 'hand_col_distance_rpickplace_gen3_1': array([-0.04261926], dtype=float32), 'hand_col_distance_rpickplace_gen3_2': array([-0.0698255], dtype=float32)}\n",
      "viol:  {'inv_manipulability_rpickplace_gen3_1': array([ True]), 'inv_manipulability_rpickplace_gen3_2': array([False]), 'grasp_prob_movehold_1_gen3': array([False]), 'hand_col_distance_rpickplace_gen3_1': array([False]), 'hand_col_distance_rpickplace_gen3_2': array([False])}\n",
      "  16  0.0000000e+00 6.71e+00 1.01e+03  -1.6 8.64e-01    -  5.86e-02 3.91e-03h  9\n",
      "cval:  {'inv_manipulability_rpickplace_gen3_1': array([0.01472617], dtype=float32), 'inv_manipulability_rpickplace_gen3_2': array([0.8715528], dtype=float32), 'grasp_prob_movehold_1_gen3': array([-6.307645], dtype=float32), 'hand_col_distance_rpickplace_gen3_1': array([0.08624306], dtype=float32), 'hand_col_distance_rpickplace_gen3_2': array([0.02064735], dtype=float32)}\n",
      "viol:  {'inv_manipulability_rpickplace_gen3_1': array([False]), 'inv_manipulability_rpickplace_gen3_2': array([ True]), 'grasp_prob_movehold_1_gen3': array([False]), 'hand_col_distance_rpickplace_gen3_1': array([ True]), 'hand_col_distance_rpickplace_gen3_2': array([False])}\n",
      "  17  0.0000000e+00 6.51e+00 1.20e+04  -1.6 6.39e+00    -  1.00e+00 3.02e-02h  2\n",
      "cval:  {'inv_manipulability_rpickplace_gen3_1': array([0.01903461], dtype=float32), 'inv_manipulability_rpickplace_gen3_2': array([0.87050825], dtype=float32), 'grasp_prob_movehold_1_gen3': array([-5.57779], dtype=float32), 'hand_col_distance_rpickplace_gen3_1': array([0.02469957], dtype=float32), 'hand_col_distance_rpickplace_gen3_2': array([0.01948348], dtype=float32)}\n",
      "viol:  {'inv_manipulability_rpickplace_gen3_1': array([False]), 'inv_manipulability_rpickplace_gen3_2': array([ True]), 'grasp_prob_movehold_1_gen3': array([False]), 'hand_col_distance_rpickplace_gen3_1': array([False]), 'hand_col_distance_rpickplace_gen3_2': array([False])}\n",
      "  18  0.0000000e+00 5.58e+00 1.12e+04  -1.6 3.61e+00    -  4.28e-02 1.43e-01h  1\n",
      "cval:  {'inv_manipulability_rpickplace_gen3_1': array([0.01721466], dtype=float32), 'inv_manipulability_rpickplace_gen3_2': array([0.8834536], dtype=float32), 'grasp_prob_movehold_1_gen3': array([-5.5370975], dtype=float32), 'hand_col_distance_rpickplace_gen3_1': array([0.02678388], dtype=float32), 'hand_col_distance_rpickplace_gen3_2': array([0.01972672], dtype=float32)}\n",
      "viol:  {'inv_manipulability_rpickplace_gen3_1': array([False]), 'inv_manipulability_rpickplace_gen3_2': array([ True]), 'grasp_prob_movehold_1_gen3': array([False]), 'hand_col_distance_rpickplace_gen3_1': array([False]), 'hand_col_distance_rpickplace_gen3_2': array([False])}\n",
      "  19  0.0000000e+00 5.54e+00 3.71e+04  -1.6 2.28e+00    -  1.00e+00 7.90e-03h  1\n",
      "cval:  {'inv_manipulability_rpickplace_gen3_1': array([0.01722284], dtype=float32), 'inv_manipulability_rpickplace_gen3_2': array([0.8829791], dtype=float32), 'grasp_prob_movehold_1_gen3': array([-5.534661], dtype=float32), 'hand_col_distance_rpickplace_gen3_1': array([0.02669275], dtype=float32), 'hand_col_distance_rpickplace_gen3_2': array([0.01973641], dtype=float32)}\n",
      "viol:  {'inv_manipulability_rpickplace_gen3_1': array([False]), 'inv_manipulability_rpickplace_gen3_2': array([ True]), 'grasp_prob_movehold_1_gen3': array([False]), 'hand_col_distance_rpickplace_gen3_1': array([False]), 'hand_col_distance_rpickplace_gen3_2': array([False])}\n",
      "iter    objective    inf_pr   inf_du lg(mu)  ||d||  lg(rg) alpha_du alpha_pr  ls\n",
      "  20  0.0000000e+00 5.53e+00 5.37e+04  -1.6 1.32e+00    -  5.44e-04 3.35e-04h  1\n",
      "cval:  {'inv_manipulability_rpickplace_gen3_1': array([0.01725388], dtype=float32), 'inv_manipulability_rpickplace_gen3_2': array([0.8615978], dtype=float32), 'grasp_prob_movehold_1_gen3': array([-5.278922], dtype=float32), 'hand_col_distance_rpickplace_gen3_1': array([0.0247618], dtype=float32), 'hand_col_distance_rpickplace_gen3_2': array([0.01965183], dtype=float32)}\n",
      "viol:  {'inv_manipulability_rpickplace_gen3_1': array([False]), 'inv_manipulability_rpickplace_gen3_2': array([ True]), 'grasp_prob_movehold_1_gen3': array([False]), 'hand_col_distance_rpickplace_gen3_1': array([False]), 'hand_col_distance_rpickplace_gen3_2': array([False])}\n",
      "  21  0.0000000e+00 5.28e+00 1.13e+05  -1.6 3.38e+01    -  2.75e-05 4.21e-03h  1\n",
      "cval:  {'inv_manipulability_rpickplace_gen3_1': array([0.01758689], dtype=float32), 'inv_manipulability_rpickplace_gen3_2': array([0.86647284], dtype=float32), 'grasp_prob_movehold_1_gen3': array([-5.400215], dtype=float32), 'hand_col_distance_rpickplace_gen3_1': array([0.02511209], dtype=float32), 'hand_col_distance_rpickplace_gen3_2': array([0.01977324], dtype=float32)}\n",
      "viol:  {'inv_manipulability_rpickplace_gen3_1': array([False]), 'inv_manipulability_rpickplace_gen3_2': array([ True]), 'grasp_prob_movehold_1_gen3': array([False]), 'hand_col_distance_rpickplace_gen3_1': array([False]), 'hand_col_distance_rpickplace_gen3_2': array([False])}\n",
      "  22  0.0000000e+00 5.40e+00 1.26e+07  -1.6 2.17e+01    -  5.91e-01 4.05e-03h  1\n",
      "cval:  {'inv_manipulability_rpickplace_gen3_1': array([0.01779007], dtype=float32), 'inv_manipulability_rpickplace_gen3_2': array([0.86897177], dtype=float32), 'grasp_prob_movehold_1_gen3': array([-5.47603], dtype=float32), 'hand_col_distance_rpickplace_gen3_1': array([0.02529594], dtype=float32), 'hand_col_distance_rpickplace_gen3_2': array([0.01973885], dtype=float32)}\n",
      "viol:  {'inv_manipulability_rpickplace_gen3_1': array([False]), 'inv_manipulability_rpickplace_gen3_2': array([ True]), 'grasp_prob_movehold_1_gen3': array([False]), 'hand_col_distance_rpickplace_gen3_1': array([False]), 'hand_col_distance_rpickplace_gen3_2': array([False])}\n",
      "  23  0.0000000e+00 5.48e+00 1.09e+06  -1.6 2.21e+01    -  1.00e+00 2.48e-03h  1\n",
      "cval:  {'inv_manipulability_rpickplace_gen3_1': array([0.0177906], dtype=float32), 'inv_manipulability_rpickplace_gen3_2': array([0.8676356], dtype=float32), 'grasp_prob_movehold_1_gen3': array([-5.47561], dtype=float32), 'hand_col_distance_rpickplace_gen3_1': array([0.02520159], dtype=float32), 'hand_col_distance_rpickplace_gen3_2': array([0.01973912], dtype=float32)}\n",
      "viol:  {'inv_manipulability_rpickplace_gen3_1': array([False]), 'inv_manipulability_rpickplace_gen3_2': array([ True]), 'grasp_prob_movehold_1_gen3': array([False]), 'hand_col_distance_rpickplace_gen3_1': array([False]), 'hand_col_distance_rpickplace_gen3_2': array([False])}\n",
      "  24  0.0000000e+00 5.48e+00 1.46e+06  -1.6 1.72e+02    -  1.90e-05 7.77e-06h  1\n",
      "cval:  {'inv_manipulability_rpickplace_gen3_1': array([0.82194465], dtype=float32), 'inv_manipulability_rpickplace_gen3_2': array([0.3393412], dtype=float32), 'grasp_prob_movehold_1_gen3': array([-4.046246], dtype=float32), 'hand_col_distance_rpickplace_gen3_1': array([0.11921787], dtype=float32), 'hand_col_distance_rpickplace_gen3_2': array([-0.0287523], dtype=float32)}\n",
      "viol:  {'inv_manipulability_rpickplace_gen3_1': array([ True]), 'inv_manipulability_rpickplace_gen3_2': array([ True]), 'grasp_prob_movehold_1_gen3': array([False]), 'hand_col_distance_rpickplace_gen3_1': array([ True]), 'hand_col_distance_rpickplace_gen3_2': array([False])}\n",
      "  25  0.0000000e+00 4.05e+00 2.98e+07  -1.6 1.24e+02    -  1.07e-05 2.31e-03f  1\n",
      "cval:  {'inv_manipulability_rpickplace_gen3_1': array([0.58918005], dtype=float32), 'inv_manipulability_rpickplace_gen3_2': array([0.43562222], dtype=float32), 'grasp_prob_movehold_1_gen3': array([-15.605033], dtype=float32), 'hand_col_distance_rpickplace_gen3_1': array([0.11819664], dtype=float32), 'hand_col_distance_rpickplace_gen3_2': array([-0.08612104], dtype=float32)}\n",
      "viol:  {'inv_manipulability_rpickplace_gen3_1': array([ True]), 'inv_manipulability_rpickplace_gen3_2': array([ True]), 'grasp_prob_movehold_1_gen3': array([False]), 'hand_col_distance_rpickplace_gen3_1': array([ True]), 'hand_col_distance_rpickplace_gen3_2': array([False])}\n",
      "  26  0.0000000e+00 6.43e-02 8.18e+06  -1.6 1.04e+02    -  1.61e-03 2.33e-02f  2\n",
      "cval:  {'inv_manipulability_rpickplace_gen3_1': array([0.8591704], dtype=float32), 'inv_manipulability_rpickplace_gen3_2': array([0.24931055], dtype=float32), 'grasp_prob_movehold_1_gen3': array([2.7077136], dtype=float32), 'hand_col_distance_rpickplace_gen3_1': array([0.11921448], dtype=float32), 'hand_col_distance_rpickplace_gen3_2': array([-0.01428729], dtype=float32)}\n",
      "viol:  {'inv_manipulability_rpickplace_gen3_1': array([ True]), 'inv_manipulability_rpickplace_gen3_2': array([ True]), 'grasp_prob_movehold_1_gen3': array([ True]), 'hand_col_distance_rpickplace_gen3_1': array([ True]), 'hand_col_distance_rpickplace_gen3_2': array([False])}\n",
      "  27  0.0000000e+00 6.43e-02 8.28e+06   0.2 9.34e+02    -  2.23e-06 3.38e-05h  1\n",
      "cval:  {'inv_manipulability_rpickplace_gen3_1': array([0.46815723], dtype=float32), 'inv_manipulability_rpickplace_gen3_2': array([0.18285812], dtype=float32), 'grasp_prob_movehold_1_gen3': array([-74.42763], dtype=float32), 'hand_col_distance_rpickplace_gen3_1': array([0.12777111], dtype=float32), 'hand_col_distance_rpickplace_gen3_2': array([-0.10136242], dtype=float32)}\n",
      "viol:  {'inv_manipulability_rpickplace_gen3_1': array([ True]), 'inv_manipulability_rpickplace_gen3_2': array([ True]), 'grasp_prob_movehold_1_gen3': array([False]), 'hand_col_distance_rpickplace_gen3_1': array([ True]), 'hand_col_distance_rpickplace_gen3_2': array([False])}\n",
      "  28  0.0000000e+00 7.44e+01 8.37e+09   0.2 1.93e+02    -  1.15e-07 5.84e-01f  1\n",
      "cval:  {'inv_manipulability_rpickplace_gen3_1': array([0.46236673], dtype=float32), 'inv_manipulability_rpickplace_gen3_2': array([0.1700732], dtype=float32), 'grasp_prob_movehold_1_gen3': array([-75.024574], dtype=float32), 'hand_col_distance_rpickplace_gen3_1': array([0.12642294], dtype=float32), 'hand_col_distance_rpickplace_gen3_2': array([-0.10072322], dtype=float32)}\n",
      "viol:  {'inv_manipulability_rpickplace_gen3_1': array([ True]), 'inv_manipulability_rpickplace_gen3_2': array([ True]), 'grasp_prob_movehold_1_gen3': array([False]), 'hand_col_distance_rpickplace_gen3_1': array([ True]), 'hand_col_distance_rpickplace_gen3_2': array([False])}\n",
      "  29  0.0000000e+00 7.50e+01 8.34e+09  -0.5 2.51e+02    -  9.91e-01 4.05e-03h  1\n",
      "cval:  {'inv_manipulability_rpickplace_gen3_1': array([0.00668512], dtype=float32), 'inv_manipulability_rpickplace_gen3_2': array([0.16855532], dtype=float32), 'grasp_prob_movehold_1_gen3': array([-637.3172], dtype=float32), 'hand_col_distance_rpickplace_gen3_1': array([0.02709335], dtype=float32), 'hand_col_distance_rpickplace_gen3_2': array([0.06546929], dtype=float32)}\n",
      "viol:  {'inv_manipulability_rpickplace_gen3_1': array([False]), 'inv_manipulability_rpickplace_gen3_2': array([ True]), 'grasp_prob_movehold_1_gen3': array([False]), 'hand_col_distance_rpickplace_gen3_1': array([False]), 'hand_col_distance_rpickplace_gen3_2': array([ True])}\n",
      "iter    objective    inf_pr   inf_du lg(mu)  ||d||  lg(rg) alpha_du alpha_pr  ls\n",
      "  30  0.0000000e+00 3.99e+01 1.16e+10  -0.5 1.44e+02    -  3.45e-01 2.08e-01F  1\n",
      "cval:  {'inv_manipulability_rpickplace_gen3_1': array([0.70468175], dtype=float32), 'inv_manipulability_rpickplace_gen3_2': array([0.01363782], dtype=float32), 'grasp_prob_movehold_1_gen3': array([-39.902237], dtype=float32), 'hand_col_distance_rpickplace_gen3_1': array([0.06048605], dtype=float32), 'hand_col_distance_rpickplace_gen3_2': array([-0.07001892], dtype=float32)}\n",
      "viol:  {'inv_manipulability_rpickplace_gen3_1': array([ True]), 'inv_manipulability_rpickplace_gen3_2': array([False]), 'grasp_prob_movehold_1_gen3': array([False]), 'hand_col_distance_rpickplace_gen3_1': array([ True]), 'hand_col_distance_rpickplace_gen3_2': array([False])}\n",
      "  31  0.0000000e+00 3.99e+01 1.25e+10  -0.5 2.59e+01    -  3.89e-01 8.52e-03h  1\n",
      "cval:  {'inv_manipulability_rpickplace_gen3_1': array([0.8529162], dtype=float32), 'inv_manipulability_rpickplace_gen3_2': array([0.31748274], dtype=float32), 'grasp_prob_movehold_1_gen3': array([-21.137358], dtype=float32), 'hand_col_distance_rpickplace_gen3_1': array([0.13571432], dtype=float32), 'hand_col_distance_rpickplace_gen3_2': array([0.01710963], dtype=float32)}\n",
      "viol:  {'inv_manipulability_rpickplace_gen3_1': array([ True]), 'inv_manipulability_rpickplace_gen3_2': array([ True]), 'grasp_prob_movehold_1_gen3': array([False]), 'hand_col_distance_rpickplace_gen3_1': array([ True]), 'hand_col_distance_rpickplace_gen3_2': array([False])}\n",
      "  32  0.0000000e+00 2.11e+01 4.51e+09  -0.5 1.82e+01    -  5.26e-02 3.11e-01f  1\n",
      "cval:  {'inv_manipulability_rpickplace_gen3_1': array([0.12020062], dtype=float32), 'inv_manipulability_rpickplace_gen3_2': array([0.5377666], dtype=float32), 'grasp_prob_movehold_1_gen3': array([-41.85062], dtype=float32), 'hand_col_distance_rpickplace_gen3_1': array([0.1292069], dtype=float32), 'hand_col_distance_rpickplace_gen3_2': array([0.02787653], dtype=float32)}\n",
      "viol:  {'inv_manipulability_rpickplace_gen3_1': array([ True]), 'inv_manipulability_rpickplace_gen3_2': array([ True]), 'grasp_prob_movehold_1_gen3': array([False]), 'hand_col_distance_rpickplace_gen3_1': array([ True]), 'hand_col_distance_rpickplace_gen3_2': array([False])}\n",
      "  33  0.0000000e+00 2.99e+01 6.23e+09  -0.5 4.92e+01    -  8.11e-01 6.62e-02f  2\n",
      "cval:  {'inv_manipulability_rpickplace_gen3_1': array([0.7168659], dtype=float32), 'inv_manipulability_rpickplace_gen3_2': array([0.24591488], dtype=float32), 'grasp_prob_movehold_1_gen3': array([-34.10699], dtype=float32), 'hand_col_distance_rpickplace_gen3_1': array([0.13080573], dtype=float32), 'hand_col_distance_rpickplace_gen3_2': array([0.02210215], dtype=float32)}\n",
      "viol:  {'inv_manipulability_rpickplace_gen3_1': array([ True]), 'inv_manipulability_rpickplace_gen3_2': array([ True]), 'grasp_prob_movehold_1_gen3': array([False]), 'hand_col_distance_rpickplace_gen3_1': array([ True]), 'hand_col_distance_rpickplace_gen3_2': array([False])}\n",
      "  34  0.0000000e+00 3.41e+01 1.27e+10  -0.5 5.48e+01    -  7.52e-02 6.00e-02h  1\n",
      "cval:  {'inv_manipulability_rpickplace_gen3_1': array([0.00596539], dtype=float32), 'inv_manipulability_rpickplace_gen3_2': array([0.86763304], dtype=float32), 'grasp_prob_movehold_1_gen3': array([-70.08288], dtype=float32), 'hand_col_distance_rpickplace_gen3_1': array([0.10359785], dtype=float32), 'hand_col_distance_rpickplace_gen3_2': array([0.05114156], dtype=float32)}\n",
      "viol:  {'inv_manipulability_rpickplace_gen3_1': array([False]), 'inv_manipulability_rpickplace_gen3_2': array([ True]), 'grasp_prob_movehold_1_gen3': array([False]), 'hand_col_distance_rpickplace_gen3_1': array([ True]), 'hand_col_distance_rpickplace_gen3_2': array([ True])}\n",
      "  35  0.0000000e+00 7.01e+01 1.69e+03  -0.5 2.85e+00    -  1.95e-01 1.00e+00f  1\n",
      "cval:  {'inv_manipulability_rpickplace_gen3_1': array([0.88938165], dtype=float32), 'inv_manipulability_rpickplace_gen3_2': array([0.3501598], dtype=float32), 'grasp_prob_movehold_1_gen3': array([-14.573471], dtype=float32), 'hand_col_distance_rpickplace_gen3_1': array([0.13236517], dtype=float32), 'hand_col_distance_rpickplace_gen3_2': array([0.04635602], dtype=float32)}\n",
      "viol:  {'inv_manipulability_rpickplace_gen3_1': array([ True]), 'inv_manipulability_rpickplace_gen3_2': array([ True]), 'grasp_prob_movehold_1_gen3': array([False]), 'hand_col_distance_rpickplace_gen3_1': array([ True]), 'hand_col_distance_rpickplace_gen3_2': array([False])}\n",
      "  36  0.0000000e+00 1.46e+01 5.48e+02  -0.5 1.73e+01    -  5.64e-01 9.74e-01h  1\n",
      "cval:  {'inv_manipulability_rpickplace_gen3_1': array([0.89331764], dtype=float32), 'inv_manipulability_rpickplace_gen3_2': array([0.35518286], dtype=float32), 'grasp_prob_movehold_1_gen3': array([-7.8788886], dtype=float32), 'hand_col_distance_rpickplace_gen3_1': array([0.12671858], dtype=float32), 'hand_col_distance_rpickplace_gen3_2': array([0.04990047], dtype=float32)}\n",
      "viol:  {'inv_manipulability_rpickplace_gen3_1': array([ True]), 'inv_manipulability_rpickplace_gen3_2': array([ True]), 'grasp_prob_movehold_1_gen3': array([False]), 'hand_col_distance_rpickplace_gen3_1': array([ True]), 'hand_col_distance_rpickplace_gen3_2': array([False])}\n",
      "  37  0.0000000e+00 7.88e+00 2.92e+02  -0.5 2.41e+01    -  5.08e-01 8.11e-01h  1\n",
      "cval:  {'inv_manipulability_rpickplace_gen3_1': array([0.87716126], dtype=float32), 'inv_manipulability_rpickplace_gen3_2': array([0.3456627], dtype=float32), 'grasp_prob_movehold_1_gen3': array([-1.6437051], dtype=float32), 'hand_col_distance_rpickplace_gen3_1': array([0.1240049], dtype=float32), 'hand_col_distance_rpickplace_gen3_2': array([0.05014756], dtype=float32)}\n",
      "viol:  {'inv_manipulability_rpickplace_gen3_1': array([ True]), 'inv_manipulability_rpickplace_gen3_2': array([ True]), 'grasp_prob_movehold_1_gen3': array([False]), 'hand_col_distance_rpickplace_gen3_1': array([ True]), 'hand_col_distance_rpickplace_gen3_2': array([ True])}\n",
      "  38  0.0000000e+00 1.64e+00 1.66e+01  -0.5 4.28e+00    -  9.50e-01 1.00e+00f  1\n",
      "cval:  {'inv_manipulability_rpickplace_gen3_1': array([0.8954003], dtype=float32), 'inv_manipulability_rpickplace_gen3_2': array([0.35643765], dtype=float32), 'grasp_prob_movehold_1_gen3': array([-3.7909644], dtype=float32), 'hand_col_distance_rpickplace_gen3_1': array([0.12295854], dtype=float32), 'hand_col_distance_rpickplace_gen3_2': array([0.05187169], dtype=float32)}\n",
      "viol:  {'inv_manipulability_rpickplace_gen3_1': array([ True]), 'inv_manipulability_rpickplace_gen3_2': array([ True]), 'grasp_prob_movehold_1_gen3': array([False]), 'hand_col_distance_rpickplace_gen3_1': array([ True]), 'hand_col_distance_rpickplace_gen3_2': array([ True])}\n",
      "  39  0.0000000e+00 3.79e+00 6.18e+00  -0.5 1.07e+01    -  1.00e+00 1.00e+00h  1\n",
      "cval:  {'inv_manipulability_rpickplace_gen3_1': array([0.7859057], dtype=float32), 'inv_manipulability_rpickplace_gen3_2': array([0.32151785], dtype=float32), 'grasp_prob_movehold_1_gen3': array([-2.0970705], dtype=float32), 'hand_col_distance_rpickplace_gen3_1': array([0.11898139], dtype=float32), 'hand_col_distance_rpickplace_gen3_2': array([0.05239585], dtype=float32)}\n",
      "viol:  {'inv_manipulability_rpickplace_gen3_1': array([ True]), 'inv_manipulability_rpickplace_gen3_2': array([ True]), 'grasp_prob_movehold_1_gen3': array([False]), 'hand_col_distance_rpickplace_gen3_1': array([ True]), 'hand_col_distance_rpickplace_gen3_2': array([ True])}\n",
      "iter    objective    inf_pr   inf_du lg(mu)  ||d||  lg(rg) alpha_du alpha_pr  ls\n",
      "  40  0.0000000e+00 2.10e+00 7.62e+00  -0.5 1.37e+01    -  1.00e+00 1.00e+00h  1\n",
      "cval:  {'inv_manipulability_rpickplace_gen3_1': array([0.84329736], dtype=float32), 'inv_manipulability_rpickplace_gen3_2': array([0.3269836], dtype=float32), 'grasp_prob_movehold_1_gen3': array([3.5359678], dtype=float32), 'hand_col_distance_rpickplace_gen3_1': array([0.12345532], dtype=float32), 'hand_col_distance_rpickplace_gen3_2': array([0.05435938], dtype=float32)}\n",
      "viol:  {'inv_manipulability_rpickplace_gen3_1': array([ True]), 'inv_manipulability_rpickplace_gen3_2': array([ True]), 'grasp_prob_movehold_1_gen3': array([ True]), 'hand_col_distance_rpickplace_gen3_1': array([ True]), 'hand_col_distance_rpickplace_gen3_2': array([ True])}\n",
      "  41  0.0000000e+00 0.00e+00 3.49e+00  -0.5 4.22e+00    -  1.00e+00 1.00e+00h  1\n",
      "cval:  {'inv_manipulability_rpickplace_gen3_1': array([0.7194881], dtype=float32), 'inv_manipulability_rpickplace_gen3_2': array([0.3453437], dtype=float32), 'grasp_prob_movehold_1_gen3': array([2.6034575], dtype=float32), 'hand_col_distance_rpickplace_gen3_1': array([0.12222534], dtype=float32), 'hand_col_distance_rpickplace_gen3_2': array([0.05506268], dtype=float32)}\n",
      "viol:  {'inv_manipulability_rpickplace_gen3_1': array([ True]), 'inv_manipulability_rpickplace_gen3_2': array([ True]), 'grasp_prob_movehold_1_gen3': array([ True]), 'hand_col_distance_rpickplace_gen3_1': array([ True]), 'hand_col_distance_rpickplace_gen3_2': array([ True])}\n",
      "  42  0.0000000e+00 0.00e+00 2.74e+01  -0.5 2.86e+00    -  1.00e+00 1.00e+00h  1\n",
      "cval:  {'inv_manipulability_rpickplace_gen3_1': array([0.7987011], dtype=float32), 'inv_manipulability_rpickplace_gen3_2': array([0.321982], dtype=float32), 'grasp_prob_movehold_1_gen3': array([3.7224016], dtype=float32), 'hand_col_distance_rpickplace_gen3_1': array([0.1225853], dtype=float32), 'hand_col_distance_rpickplace_gen3_2': array([0.05470335], dtype=float32)}\n",
      "viol:  {'inv_manipulability_rpickplace_gen3_1': array([ True]), 'inv_manipulability_rpickplace_gen3_2': array([ True]), 'grasp_prob_movehold_1_gen3': array([ True]), 'hand_col_distance_rpickplace_gen3_1': array([ True]), 'hand_col_distance_rpickplace_gen3_2': array([ True])}\n",
      "  43  0.0000000e+00 0.00e+00 6.03e+00  -1.9 5.59e-01    -  1.00e+00 1.00e+00h  1\n",
      "cval:  {'inv_manipulability_rpickplace_gen3_1': array([0.79846686], dtype=float32), 'inv_manipulability_rpickplace_gen3_2': array([0.32209602], dtype=float32), 'grasp_prob_movehold_1_gen3': array([3.7277157], dtype=float32), 'hand_col_distance_rpickplace_gen3_1': array([0.1225833], dtype=float32), 'hand_col_distance_rpickplace_gen3_2': array([0.05470487], dtype=float32)}\n",
      "viol:  {'inv_manipulability_rpickplace_gen3_1': array([ True]), 'inv_manipulability_rpickplace_gen3_2': array([ True]), 'grasp_prob_movehold_1_gen3': array([ True]), 'hand_col_distance_rpickplace_gen3_1': array([ True]), 'hand_col_distance_rpickplace_gen3_2': array([ True])}\n",
      "  44  0.0000000e+00 0.00e+00 6.79e-02  -3.0 1.84e-02    -  1.00e+00 1.00e+00h  1\n",
      "cval:  {'inv_manipulability_rpickplace_gen3_1': array([0.7984695], dtype=float32), 'inv_manipulability_rpickplace_gen3_2': array([0.32209492], dtype=float32), 'grasp_prob_movehold_1_gen3': array([3.7278965], dtype=float32), 'hand_col_distance_rpickplace_gen3_1': array([0.12258333], dtype=float32), 'hand_col_distance_rpickplace_gen3_2': array([0.05470487], dtype=float32)}\n",
      "viol:  {'inv_manipulability_rpickplace_gen3_1': array([ True]), 'inv_manipulability_rpickplace_gen3_2': array([ True]), 'grasp_prob_movehold_1_gen3': array([ True]), 'hand_col_distance_rpickplace_gen3_1': array([ True]), 'hand_col_distance_rpickplace_gen3_2': array([ True])}\n",
      "  45  0.0000000e+00 0.00e+00 7.34e-05  -4.9 1.08e-04    -  1.00e+00 1.00e+00h  1\n",
      "\n",
      "Number of Iterations....: 45\n",
      "\n",
      "                                   (scaled)                 (unscaled)\n",
      "Objective...............:   0.0000000000000000e+00    0.0000000000000000e+00\n",
      "Dual infeasibility......:   7.3370141653844589e-05    7.3370141653844589e-05\n",
      "Constraint violation....:   0.0000000000000000e+00    0.0000000000000000e+00\n",
      "Variable bound violation:   0.0000000000000000e+00    0.0000000000000000e+00\n",
      "Complementarity.........:   1.3444855188687861e-05    1.3444855188687861e-05\n",
      "Overall NLP error.......:   7.3370141653844589e-05    7.3370141653844589e-05\n",
      "\n",
      "\n",
      "Number of objective function evaluations             = 93\n",
      "Number of objective gradient evaluations             = 46\n",
      "Number of equality constraint evaluations            = 0\n",
      "Number of inequality constraint evaluations          = 93\n",
      "Number of equality constraint Jacobian evaluations   = 0\n",
      "Number of inequality constraint Jacobian evaluations = 46\n",
      "Number of Lagrangian Hessian evaluations             = 0\n",
      "Total seconds in IPOPT                               = 15.967\n",
      "\n",
      "EXIT: Solved To Acceptable Level.\n"
     ]
    }
   ],
   "source": [
    "opt_if_r.set_problem(prob_dict)\n",
    "ipopt_r = opt_if_r.get_ipopt_solver()\n",
    "ipopt_r.add_option(\"acceptable_iter\", 2)\n",
    "ipopt_r.add_option(\"acceptable_constr_viol_tol\", 0.01)\n",
    "# ipopt_r.add_option(\"acceptable_obj_change_tol\", 0.01)\n",
    "\n",
    "x0_r = relaxed_prob.get_initial_value(is_random=True)\n",
    "sol_r, info = ipopt_r.solve(x0_r)\n",
    "\n",
    "debug_fn_r(sol_r)"
   ]
  },
  {
   "cell_type": "code",
   "execution_count": 16,
   "metadata": {},
   "outputs": [
    {
     "name": "stdout",
     "output_type": "stream",
     "text": [
      "set action_seq and keyframes\n",
      "{'gen3': []}\n",
      "{'gen3': []}\n",
      "{'gen3': []}\n",
      "set variables and parameters\n",
      "set constraints\n",
      "All constraint functions are set\n",
      "All Coordinates are set accordingly\n"
     ]
    }
   ],
   "source": [
    "prob = ProblemBuilder(robots, home_configs, num_via_points=1, is_relaxed=False)\n",
    "prob.build_problem(action_seq, init_scene, goal_scene)\n",
    "prob.set_constr_fn_dict(fn_dict, ignore=[])"
   ]
  },
  {
   "cell_type": "code",
   "execution_count": 18,
   "metadata": {},
   "outputs": [
    {
     "data": {
      "text/plain": [
       "[Var:config_MoveFree_0_gen3_via0,\n",
       " Var:grasp_1,\n",
       " Var:config_MoveHold_1_gen3_via0,\n",
       " Var:config_MoveFree_2_gen3_via0,\n",
       " Var:config_pickplace_gen3_1,\n",
       " Var:config_pickplace_gen3_2]"
      ]
     },
     "execution_count": 18,
     "metadata": {},
     "output_type": "execute_result"
    }
   ],
   "source": [
    "prob.variables"
   ]
  },
  {
   "cell_type": "code",
   "execution_count": 25,
   "metadata": {},
   "outputs": [],
   "source": [
    "def debug_fn(x):\n",
    "    x_dict = prob.to_var_dict(x)\n",
    "    via_config_names = [var.name for var in prob.variables if \"via\" in var.name]\n",
    "    grasp = x_dict[\"grasp_1\"]\n",
    "    configs = [x_dict[\"config_pickplace_gen3_1\"],\n",
    "               x_dict[\"config_pickplace_gen3_2\"]]\n",
    "    via_configs = [x_dict[name] for name in via_config_names]\n",
    "    obj_poses = [prob_dict['pose_init'], \n",
    "                 prob_dict['pose_goal']]\n",
    "    \n",
    "    pcs = []\n",
    "    for obj_pose in obj_poses:\n",
    "        tool_pose = R_grasp(grasp, obj_pose)\n",
    "        pc = jax.vmap(SE3(tool_pose).normalize().apply)(hande_pc)\n",
    "        pcs.append(pc)\n",
    "    pcs = jnp.vstack(pcs)\n",
    "    pc_red.reload(points=np.array(pcs, dtype=float))\n",
    "    \n",
    "    pcs = []\n",
    "    for config in configs:\n",
    "        pc = robot_pc_fn(config)\n",
    "        pcs.append(pc)\n",
    "    pcs = jnp.vstack(pcs)\n",
    "    pc_blue.reload(points=np.array(pcs, dtype=float))\n",
    "\n",
    "    pcs = []\n",
    "    for q in via_configs:\n",
    "        pc = robot_pc_fn(q)\n",
    "        pcs.append(pc)\n",
    "    pcs = jnp.vstack(pcs)\n",
    "    pc_green.reload(points=np.array(pcs, dtype=float))\n",
    "    \n",
    "    time.sleep(0.1)"
   ]
  },
  {
   "cell_type": "code",
   "execution_count": 26,
   "metadata": {},
   "outputs": [],
   "source": [
    "import time\n",
    "opt_if = IPOPTAcc(prob, True)\n",
    "opt_if.set_problem(prob_dict)\n",
    "opt_if.set_debug_fn(debug_fn)"
   ]
  },
  {
   "cell_type": "code",
   "execution_count": 84,
   "metadata": {},
   "outputs": [],
   "source": [
    "from sdf_world.ik import *\n",
    "config = IKConfig(jax.tree_util.Partial(fk_ee_fn), SE3.identity(), 0.001, 0.1, 100)\n",
    "ik_fn = get_ik_fn()\n",
    "def ik(tool_pose):\n",
    "    init_val = (gen3_home_config, SE3(tool_pose), 1., 0, config)\n",
    "    result = ik_fn(init_val=init_val)\n",
    "    if result[3] == 21:\n",
    "        print(\"failed\")\n",
    "    return result[0]"
   ]
  },
  {
   "cell_type": "code",
   "execution_count": 70,
   "metadata": {},
   "outputs": [],
   "source": [
    "debug_fn_r(sol_r)"
   ]
  },
  {
   "cell_type": "code",
   "execution_count": 69,
   "metadata": {},
   "outputs": [
    {
     "name": "stdout",
     "output_type": "stream",
     "text": [
      "cval:  {'inv_manipulability_rpickplace_gen3_1': array([0.7984695], dtype=float32), 'inv_manipulability_rpickplace_gen3_2': array([0.32209492], dtype=float32), 'grasp_prob_movehold_1_gen3': array([3.7278965], dtype=float32), 'hand_col_distance_rpickplace_gen3_1': array([0.12258333], dtype=float32), 'hand_col_distance_rpickplace_gen3_2': array([0.05470487], dtype=float32)}\n",
      "viol:  {'inv_manipulability_rpickplace_gen3_1': array([ True]), 'inv_manipulability_rpickplace_gen3_2': array([ True]), 'grasp_prob_movehold_1_gen3': array([ True]), 'hand_col_distance_rpickplace_gen3_1': array([ True]), 'hand_col_distance_rpickplace_gen3_2': array([ True])}\n"
     ]
    }
   ],
   "source": [
    "opt_if_r.check_constraint(sol_r)"
   ]
  },
  {
   "cell_type": "code",
   "execution_count": 93,
   "metadata": {},
   "outputs": [],
   "source": [
    "ik_targets = [\n",
    "    R_grasp(instance_dict[\"grasp_1\"], instance_dict[\"pose_init\"]),\n",
    "    R_grasp(instance_dict[\"grasp_1\"], instance_dict[\"pose_goal\"]),\n",
    "]"
   ]
  },
  {
   "cell_type": "code",
   "execution_count": 115,
   "metadata": {},
   "outputs": [],
   "source": [
    "keyframe_qs = [ik(ik_target) for ik_target in ik_targets]"
   ]
  },
  {
   "cell_type": "code",
   "execution_count": 122,
   "metadata": {},
   "outputs": [],
   "source": [
    "qs = {\n",
    "    \"config_MoveFree_0_gen3_via0\":np.average([gen3_home_config, keyframe_qs[0]], axis=0),\n",
    "    \"config_pickplace_gen3_1\":keyframe_qs[0],\n",
    "    \"config_MoveHold_1_gen3_via0\":np.average([keyframe_qs[1], keyframe_qs[1]], axis=0),\n",
    "    \"config_pickplace_gen3_2\":keyframe_qs[1],\n",
    "    \"config_MoveFree_2_gen3_via0\":np.average([keyframe_qs[1], gen3_home_config], axis=0),\n",
    "}"
   ]
  },
  {
   "cell_type": "code",
   "execution_count": 127,
   "metadata": {},
   "outputs": [],
   "source": [
    "init_dict = {**relaxed_prob.to_var_dict(sol_r),\n",
    "             **qs}\n",
    "x0 = prob.get_initial_value(init_dict)\n",
    "debug_fn(x0)"
   ]
  },
  {
   "cell_type": "code",
   "execution_count": 128,
   "metadata": {},
   "outputs": [
    {
     "name": "stdout",
     "output_type": "stream",
     "text": [
      "This is Ipopt version 3.14.10, running with linear solver MUMPS 5.2.1.\n",
      "\n",
      "Number of nonzeros in equality constraint Jacobian...:      456\n",
      "Number of nonzeros in inequality constraint Jacobian.:      228\n",
      "Number of nonzeros in Lagrangian Hessian.............:        0\n",
      "\n",
      "Total number of variables............................:       38\n",
      "                     variables with only lower bounds:        0\n",
      "                variables with lower and upper bounds:       38\n",
      "                     variables with only upper bounds:        0\n",
      "Total number of equality constraints.................:       12\n",
      "Total number of inequality constraints...............:        6\n",
      "        inequality constraints with only lower bounds:        6\n",
      "   inequality constraints with lower and upper bounds:        0\n",
      "        inequality constraints with only upper bounds:        0\n",
      "\n",
      "cval:  {'robot_col_distance_MoveFree_0_gen3_via0': array([0.15880519], dtype=float32), 'robot_col_distance_MoveHold_1_gen3_via0': array([0.05979121], dtype=float32), 'robot_col_distance_MoveFree_2_gen3_via0': array([0.15880513], dtype=float32), 'robot_col_distance_pickplace_gen3_1': array([0.12221628], dtype=float32), 'robot_col_distance_pickplace_gen3_2': array([0.05979121], dtype=float32), 'kinematics_error_pickplace_gen3_1': array([ 6.6706538e-04,  4.3681264e-04,  1.4299154e-04, -2.5104719e-05,\n",
      "       -1.0975259e-04, -4.2468290e-07], dtype=float32), 'kinematics_error_pickplace_gen3_2': array([-5.0786138e-04, -1.3278425e-04, -4.0348619e-04,  1.1689072e-04,\n",
      "       -1.7503180e-04, -1.5707666e+00], dtype=float32), 'grasp_prob_movehold_1_gen3': array([3.7278965], dtype=float32)}\n",
      "viol:  {'robot_col_distance_MoveFree_0_gen3_via0': array([ True]), 'robot_col_distance_MoveHold_1_gen3_via0': array([ True]), 'robot_col_distance_MoveFree_2_gen3_via0': array([ True]), 'robot_col_distance_pickplace_gen3_1': array([ True]), 'robot_col_distance_pickplace_gen3_2': array([ True]), 'kinematics_error_pickplace_gen3_1': array([False, False, False, False, False, False]), 'kinematics_error_pickplace_gen3_2': array([False, False, False, False, False, False]), 'grasp_prob_movehold_1_gen3': array([ True])}\n",
      "iter    objective    inf_pr   inf_du lg(mu)  ||d||  lg(rg) alpha_du alpha_pr  ls\n",
      "   0  1.6384468e+01 1.57e+00 4.27e+00   0.0 0.00e+00    -  0.00e+00 0.00e+00   0\n",
      "cval:  {'robot_col_distance_MoveFree_0_gen3_via0': array([0.15880519], dtype=float32), 'robot_col_distance_MoveHold_1_gen3_via0': array([0.15880528], dtype=float32), 'robot_col_distance_MoveFree_2_gen3_via0': array([0.15880513], dtype=float32), 'robot_col_distance_pickplace_gen3_1': array([0.15880519], dtype=float32), 'robot_col_distance_pickplace_gen3_2': array([0.04442015], dtype=float32), 'kinematics_error_pickplace_gen3_1': array([ 0.2090489 , -0.0448947 , -0.05524705,  0.00743936, -0.34500238,\n",
      "        0.3952304 ], dtype=float32), 'kinematics_error_pickplace_gen3_2': array([-0.06390128, -0.23441206, -0.07284579, -0.5046789 , -0.22329892,\n",
      "        0.0369648 ], dtype=float32), 'grasp_prob_movehold_1_gen3': array([-6.511584], dtype=float32)}\n",
      "viol:  {'robot_col_distance_MoveFree_0_gen3_via0': array([ True]), 'robot_col_distance_MoveHold_1_gen3_via0': array([ True]), 'robot_col_distance_MoveFree_2_gen3_via0': array([ True]), 'robot_col_distance_pickplace_gen3_1': array([ True]), 'robot_col_distance_pickplace_gen3_2': array([False]), 'kinematics_error_pickplace_gen3_1': array([False, False, False, False, False, False]), 'kinematics_error_pickplace_gen3_2': array([False, False, False, False, False, False]), 'grasp_prob_movehold_1_gen3': array([False])}\n",
      "   1  1.4440460e+01 1.40e+00 1.23e+01  -0.4 2.15e+00    -  3.57e-01 1.17e-01F  1\n",
      "cval:  {'robot_col_distance_MoveFree_0_gen3_via0': array([0.15880519], dtype=float32), 'robot_col_distance_MoveHold_1_gen3_via0': array([0.15880519], dtype=float32), 'robot_col_distance_MoveFree_2_gen3_via0': array([0.15880513], dtype=float32), 'robot_col_distance_pickplace_gen3_1': array([0.12844539], dtype=float32), 'robot_col_distance_pickplace_gen3_2': array([0.08916122], dtype=float32), 'kinematics_error_pickplace_gen3_1': array([-0.00206178,  0.0071345 ,  0.00171949,  0.03613834, -0.48335347,\n",
      "       -0.08399171], dtype=float32), 'kinematics_error_pickplace_gen3_2': array([ 2.7529240e-02,  2.4121106e-03, -7.3082745e-05, -1.3393775e-01,\n",
      "       -4.4051445e-01, -4.9346510e-01], dtype=float32), 'grasp_prob_movehold_1_gen3': array([-209.18797], dtype=float32)}\n",
      "viol:  {'robot_col_distance_MoveFree_0_gen3_via0': array([ True]), 'robot_col_distance_MoveHold_1_gen3_via0': array([ True]), 'robot_col_distance_MoveFree_2_gen3_via0': array([ True]), 'robot_col_distance_pickplace_gen3_1': array([ True]), 'robot_col_distance_pickplace_gen3_2': array([ True]), 'kinematics_error_pickplace_gen3_1': array([False, False, False, False, False, False]), 'kinematics_error_pickplace_gen3_2': array([False, False, False, False, False, False]), 'grasp_prob_movehold_1_gen3': array([False])}\n",
      "   2  1.4400067e+01 9.99e+01 1.05e+02   0.0 2.52e+00    -  8.37e-01 3.55e-01f  2\n",
      "cval:  {'robot_col_distance_MoveFree_0_gen3_via0': array([0.15880519], dtype=float32), 'robot_col_distance_MoveHold_1_gen3_via0': array([0.15880519], dtype=float32), 'robot_col_distance_MoveFree_2_gen3_via0': array([0.15880513], dtype=float32), 'robot_col_distance_pickplace_gen3_1': array([0.13409156], dtype=float32), 'robot_col_distance_pickplace_gen3_2': array([0.0353128], dtype=float32), 'kinematics_error_pickplace_gen3_1': array([-4.5802891e-03,  4.0295422e-03,  4.9093366e-04,  4.2680621e-02,\n",
      "       -5.5376303e-01, -1.3220017e-01], dtype=float32), 'kinematics_error_pickplace_gen3_2': array([ 0.01318747, -0.03464828,  0.02123068, -0.35355803, -0.4474812 ,\n",
      "       -0.4347338 ], dtype=float32), 'grasp_prob_movehold_1_gen3': array([-132.97449], dtype=float32)}\n",
      "viol:  {'robot_col_distance_MoveFree_0_gen3_via0': array([ True]), 'robot_col_distance_MoveHold_1_gen3_via0': array([ True]), 'robot_col_distance_MoveFree_2_gen3_via0': array([ True]), 'robot_col_distance_pickplace_gen3_1': array([ True]), 'robot_col_distance_pickplace_gen3_2': array([False]), 'kinematics_error_pickplace_gen3_1': array([False, False, False, False, False, False]), 'kinematics_error_pickplace_gen3_2': array([False, False, False, False, False, False]), 'grasp_prob_movehold_1_gen3': array([False])}\n",
      "   3  1.5873651e+01 6.01e+01 2.17e+02   0.0 1.82e+01    -  9.89e-01 2.83e-01h  2\n",
      "cval:  {'robot_col_distance_MoveFree_0_gen3_via0': array([0.15880519], dtype=float32), 'robot_col_distance_MoveHold_1_gen3_via0': array([0.13539869], dtype=float32), 'robot_col_distance_MoveFree_2_gen3_via0': array([0.15880513], dtype=float32), 'robot_col_distance_pickplace_gen3_1': array([0.1385211], dtype=float32), 'robot_col_distance_pickplace_gen3_2': array([0.05242226], dtype=float32), 'kinematics_error_pickplace_gen3_1': array([-0.00543597,  0.00523168, -0.00016648,  0.0057678 , -0.10121503,\n",
      "       -0.02852035], dtype=float32), 'kinematics_error_pickplace_gen3_2': array([ 0.00811088, -0.00584973,  0.00389789, -0.14945887, -0.05124783,\n",
      "       -0.27877834], dtype=float32), 'grasp_prob_movehold_1_gen3': array([-36.3833], dtype=float32)}\n",
      "viol:  {'robot_col_distance_MoveFree_0_gen3_via0': array([ True]), 'robot_col_distance_MoveHold_1_gen3_via0': array([ True]), 'robot_col_distance_MoveFree_2_gen3_via0': array([ True]), 'robot_col_distance_pickplace_gen3_1': array([ True]), 'robot_col_distance_pickplace_gen3_2': array([ True]), 'kinematics_error_pickplace_gen3_1': array([False, False, False, False, False, False]), 'kinematics_error_pickplace_gen3_2': array([False, False, False, False, False, False]), 'grasp_prob_movehold_1_gen3': array([False])}\n",
      "   4  1.9423695e+01 3.64e+01 2.41e+02  -0.0 6.69e+00    -  1.00e+00 5.85e-01h  1\n",
      "cval:  {'robot_col_distance_MoveFree_0_gen3_via0': array([0.15880519], dtype=float32), 'robot_col_distance_MoveHold_1_gen3_via0': array([0.15880525], dtype=float32), 'robot_col_distance_MoveFree_2_gen3_via0': array([0.15880516], dtype=float32), 'robot_col_distance_pickplace_gen3_1': array([0.13789016], dtype=float32), 'robot_col_distance_pickplace_gen3_2': array([0.05138004], dtype=float32), 'kinematics_error_pickplace_gen3_1': array([ 0.00040576,  0.00353751, -0.00022554,  0.00606587, -0.03888993,\n",
      "       -0.01738023], dtype=float32), 'kinematics_error_pickplace_gen3_2': array([ 0.00526339, -0.01069039,  0.00317599, -0.08400668,  0.00658918,\n",
      "       -0.16406666], dtype=float32), 'grasp_prob_movehold_1_gen3': array([-30.99784], dtype=float32)}\n",
      "viol:  {'robot_col_distance_MoveFree_0_gen3_via0': array([ True]), 'robot_col_distance_MoveHold_1_gen3_via0': array([ True]), 'robot_col_distance_MoveFree_2_gen3_via0': array([ True]), 'robot_col_distance_pickplace_gen3_1': array([ True]), 'robot_col_distance_pickplace_gen3_2': array([ True]), 'kinematics_error_pickplace_gen3_1': array([False, False, False, False, False, False]), 'kinematics_error_pickplace_gen3_2': array([False, False, False, False, False, False]), 'grasp_prob_movehold_1_gen3': array([False])}\n",
      "   5  1.8780674e+01 3.10e+01 1.43e+02  -0.0 6.19e+00    -  5.22e-01 4.60e-01f  1\n",
      "cval:  {'robot_col_distance_MoveFree_0_gen3_via0': array([0.15880519], dtype=float32), 'robot_col_distance_MoveHold_1_gen3_via0': array([-0.08135784], dtype=float32), 'robot_col_distance_MoveFree_2_gen3_via0': array([0.15880519], dtype=float32), 'robot_col_distance_pickplace_gen3_1': array([0.11695156], dtype=float32), 'robot_col_distance_pickplace_gen3_2': array([0.04197964], dtype=float32), 'kinematics_error_pickplace_gen3_1': array([-0.00039479,  0.00115016, -0.0005213 ,  0.00829877, -0.21290877,\n",
      "        0.00172508], dtype=float32), 'kinematics_error_pickplace_gen3_2': array([-0.00358629, -0.03785665,  0.00936165, -0.01770847, -0.14123772,\n",
      "       -0.0129416 ], dtype=float32), 'grasp_prob_movehold_1_gen3': array([-9.5954275], dtype=float32)}\n",
      "viol:  {'robot_col_distance_MoveFree_0_gen3_via0': array([ True]), 'robot_col_distance_MoveHold_1_gen3_via0': array([False]), 'robot_col_distance_MoveFree_2_gen3_via0': array([ True]), 'robot_col_distance_pickplace_gen3_1': array([ True]), 'robot_col_distance_pickplace_gen3_2': array([False]), 'kinematics_error_pickplace_gen3_1': array([False, False, False, False, False, False]), 'kinematics_error_pickplace_gen3_2': array([False, False, False, False, False, False]), 'grasp_prob_movehold_1_gen3': array([False])}\n",
      "   6  1.8982500e+01 9.60e+00 1.25e+02  -0.0 1.73e+00    -  5.21e-01 1.00e+00f  1\n",
      "cval:  {'robot_col_distance_MoveFree_0_gen3_via0': array([0.15880522], dtype=float32), 'robot_col_distance_MoveHold_1_gen3_via0': array([0.15880519], dtype=float32), 'robot_col_distance_MoveFree_2_gen3_via0': array([0.15880513], dtype=float32), 'robot_col_distance_pickplace_gen3_1': array([0.15880528], dtype=float32), 'robot_col_distance_pickplace_gen3_2': array([0.09428579], dtype=float32), 'kinematics_error_pickplace_gen3_1': array([-0.00783914,  0.20432004, -0.0510907 , -0.06988452, -0.29699317,\n",
      "       -0.2921042 ], dtype=float32), 'kinematics_error_pickplace_gen3_2': array([ 0.01006734, -0.12163636, -0.09284235, -0.1054383 , -0.22794102,\n",
      "        0.21724193], dtype=float32), 'grasp_prob_movehold_1_gen3': array([-9.217641], dtype=float32)}\n",
      "viol:  {'robot_col_distance_MoveFree_0_gen3_via0': array([ True]), 'robot_col_distance_MoveHold_1_gen3_via0': array([ True]), 'robot_col_distance_MoveFree_2_gen3_via0': array([ True]), 'robot_col_distance_pickplace_gen3_1': array([ True]), 'robot_col_distance_pickplace_gen3_2': array([ True]), 'kinematics_error_pickplace_gen3_1': array([False, False, False, False, False, False]), 'kinematics_error_pickplace_gen3_2': array([False, False, False, False, False, False]), 'grasp_prob_movehold_1_gen3': array([False])}\n",
      "   7  1.4088196e+01 5.66e+01 7.11e+01  -0.0 8.42e+00    -  4.64e-01 5.33e-01F  1\n",
      "cval:  {'robot_col_distance_MoveFree_0_gen3_via0': array([0.15880519], dtype=float32), 'robot_col_distance_MoveHold_1_gen3_via0': array([0.15880525], dtype=float32), 'robot_col_distance_MoveFree_2_gen3_via0': array([0.15880516], dtype=float32), 'robot_col_distance_pickplace_gen3_1': array([0.13005206], dtype=float32), 'robot_col_distance_pickplace_gen3_2': array([0.0647127], dtype=float32), 'kinematics_error_pickplace_gen3_1': array([ 0.01144943,  0.00163004, -0.00814414,  0.12965985,  0.03534333,\n",
      "        0.0087162 ], dtype=float32), 'kinematics_error_pickplace_gen3_2': array([-0.03429213, -0.01742584, -0.03808316,  0.06205909,  0.02585796,\n",
      "       -0.00837528], dtype=float32), 'grasp_prob_movehold_1_gen3': array([-5.678948], dtype=float32)}\n",
      "viol:  {'robot_col_distance_MoveFree_0_gen3_via0': array([ True]), 'robot_col_distance_MoveHold_1_gen3_via0': array([ True]), 'robot_col_distance_MoveFree_2_gen3_via0': array([ True]), 'robot_col_distance_pickplace_gen3_1': array([ True]), 'robot_col_distance_pickplace_gen3_2': array([ True]), 'kinematics_error_pickplace_gen3_1': array([False, False, False, False, False, False]), 'kinematics_error_pickplace_gen3_2': array([False, False, False, False, False, False]), 'grasp_prob_movehold_1_gen3': array([False])}\n",
      "   8  1.6972733e+01 5.68e+00 6.61e+01   0.6 6.67e+00    -  8.13e-01 1.00e+00f  1\n",
      "cval:  {'robot_col_distance_MoveFree_0_gen3_via0': array([0.15880519], dtype=float32), 'robot_col_distance_MoveHold_1_gen3_via0': array([0.15880522], dtype=float32), 'robot_col_distance_MoveFree_2_gen3_via0': array([0.15880513], dtype=float32), 'robot_col_distance_pickplace_gen3_1': array([0.12403926], dtype=float32), 'robot_col_distance_pickplace_gen3_2': array([0.07245076], dtype=float32), 'kinematics_error_pickplace_gen3_1': array([ 2.0942986e-03, -4.7415495e-05, -4.5575500e-03,  8.4064789e-02,\n",
      "       -5.8779526e-01, -2.3495835e-01], dtype=float32), 'kinematics_error_pickplace_gen3_2': array([-0.01738384, -0.00582424, -0.03796047,  0.0545762 , -0.6132226 ,\n",
      "       -0.24443609], dtype=float32), 'grasp_prob_movehold_1_gen3': array([-29.509068], dtype=float32)}\n",
      "viol:  {'robot_col_distance_MoveFree_0_gen3_via0': array([ True]), 'robot_col_distance_MoveHold_1_gen3_via0': array([ True]), 'robot_col_distance_MoveFree_2_gen3_via0': array([ True]), 'robot_col_distance_pickplace_gen3_1': array([ True]), 'robot_col_distance_pickplace_gen3_2': array([ True]), 'kinematics_error_pickplace_gen3_1': array([False, False, False, False, False, False]), 'kinematics_error_pickplace_gen3_2': array([False, False, False, False, False, False]), 'grasp_prob_movehold_1_gen3': array([False])}\n",
      "   9  1.5862094e+01 1.58e+01 4.62e+02   0.4 1.12e+01    -  6.60e-01 2.73e-01H  1\n",
      "cval:  {'robot_col_distance_MoveFree_0_gen3_via0': array([0.15880519], dtype=float32), 'robot_col_distance_MoveHold_1_gen3_via0': array([0.15880525], dtype=float32), 'robot_col_distance_MoveFree_2_gen3_via0': array([0.15880516], dtype=float32), 'robot_col_distance_pickplace_gen3_1': array([0.11994201], dtype=float32), 'robot_col_distance_pickplace_gen3_2': array([0.05922997], dtype=float32), 'kinematics_error_pickplace_gen3_1': array([ 0.01443112,  0.00588849, -0.00470181,  0.11260696, -0.5385058 ,\n",
      "       -0.19575928], dtype=float32), 'kinematics_error_pickplace_gen3_2': array([-0.00134087, -0.02345531, -0.00509984,  0.08504833, -0.53606266,\n",
      "       -0.17901988], dtype=float32), 'grasp_prob_movehold_1_gen3': array([-35.997883], dtype=float32)}\n",
      "viol:  {'robot_col_distance_MoveFree_0_gen3_via0': array([ True]), 'robot_col_distance_MoveHold_1_gen3_via0': array([ True]), 'robot_col_distance_MoveFree_2_gen3_via0': array([ True]), 'robot_col_distance_pickplace_gen3_1': array([ True]), 'robot_col_distance_pickplace_gen3_2': array([ True]), 'kinematics_error_pickplace_gen3_1': array([False, False, False, False, False, False]), 'kinematics_error_pickplace_gen3_2': array([False, False, False, False, False, False]), 'grasp_prob_movehold_1_gen3': array([False])}\n",
      "iter    objective    inf_pr   inf_du lg(mu)  ||d||  lg(rg) alpha_du alpha_pr  ls\n",
      "  10  1.6956692e+01 3.60e+01 9.84e+02   0.4 3.04e+01    -  1.00e+00 6.62e-01h  1\n",
      "cval:  {'robot_col_distance_MoveFree_0_gen3_via0': array([0.15880519], dtype=float32), 'robot_col_distance_MoveHold_1_gen3_via0': array([0.15880525], dtype=float32), 'robot_col_distance_MoveFree_2_gen3_via0': array([0.15880516], dtype=float32), 'robot_col_distance_pickplace_gen3_1': array([0.14037728], dtype=float32), 'robot_col_distance_pickplace_gen3_2': array([0.06100553], dtype=float32), 'kinematics_error_pickplace_gen3_1': array([ 0.00663492,  0.00550684, -0.00381041,  0.09264927, -0.26144665,\n",
      "       -0.08827306], dtype=float32), 'kinematics_error_pickplace_gen3_2': array([-0.0049887 , -0.01721118, -0.00234637,  0.0659889 , -0.2559977 ,\n",
      "       -0.08416028], dtype=float32), 'grasp_prob_movehold_1_gen3': array([-49.699345], dtype=float32)}\n",
      "viol:  {'robot_col_distance_MoveFree_0_gen3_via0': array([ True]), 'robot_col_distance_MoveHold_1_gen3_via0': array([ True]), 'robot_col_distance_MoveFree_2_gen3_via0': array([ True]), 'robot_col_distance_pickplace_gen3_1': array([ True]), 'robot_col_distance_pickplace_gen3_2': array([ True]), 'kinematics_error_pickplace_gen3_1': array([False, False, False, False, False, False]), 'kinematics_error_pickplace_gen3_2': array([False, False, False, False, False, False]), 'grasp_prob_movehold_1_gen3': array([False])}\n",
      "  11  1.6830063e+01 4.12e+01 1.39e+03   0.4 5.01e+00    -  9.85e-01 2.58e-01f  2\n",
      "cval:  {'robot_col_distance_MoveFree_0_gen3_via0': array([0.15880519], dtype=float32), 'robot_col_distance_MoveHold_1_gen3_via0': array([0.09171835], dtype=float32), 'robot_col_distance_MoveFree_2_gen3_via0': array([0.15880519], dtype=float32), 'robot_col_distance_pickplace_gen3_1': array([0.13737589], dtype=float32), 'robot_col_distance_pickplace_gen3_2': array([0.04355597], dtype=float32), 'kinematics_error_pickplace_gen3_1': array([ 0.0073638 , -0.00132328, -0.00587539, -0.01136775,  0.04876015,\n",
      "       -0.03120581], dtype=float32), 'kinematics_error_pickplace_gen3_2': array([-0.03804061, -0.06377511, -0.00259398, -0.10137281,  0.12740456,\n",
      "       -0.13160509], dtype=float32), 'grasp_prob_movehold_1_gen3': array([-14.043983], dtype=float32)}\n",
      "viol:  {'robot_col_distance_MoveFree_0_gen3_via0': array([ True]), 'robot_col_distance_MoveHold_1_gen3_via0': array([ True]), 'robot_col_distance_MoveFree_2_gen3_via0': array([ True]), 'robot_col_distance_pickplace_gen3_1': array([ True]), 'robot_col_distance_pickplace_gen3_2': array([False]), 'kinematics_error_pickplace_gen3_1': array([False, False, False, False, False, False]), 'kinematics_error_pickplace_gen3_2': array([False, False, False, False, False, False]), 'grasp_prob_movehold_1_gen3': array([False])}\n",
      "  12  1.6249363e+01 1.40e+01 3.69e+02   0.4 7.53e-01    -  1.00e+00 8.60e-01h  1\n",
      "cval:  {'robot_col_distance_MoveFree_0_gen3_via0': array([0.15880519], dtype=float32), 'robot_col_distance_MoveHold_1_gen3_via0': array([0.15880525], dtype=float32), 'robot_col_distance_MoveFree_2_gen3_via0': array([0.15880516], dtype=float32), 'robot_col_distance_pickplace_gen3_1': array([0.10534918], dtype=float32), 'robot_col_distance_pickplace_gen3_2': array([0.09357005], dtype=float32), 'kinematics_error_pickplace_gen3_1': array([-2.9712915e-05,  4.3112040e-04, -8.9996308e-04,  1.5559738e-02,\n",
      "       -5.2256417e-01, -3.4862060e-02], dtype=float32), 'kinematics_error_pickplace_gen3_2': array([-0.01264188, -0.01144627, -0.03772318, -0.02625504, -0.53662735,\n",
      "       -0.07661975], dtype=float32), 'grasp_prob_movehold_1_gen3': array([-24.855331], dtype=float32)}\n",
      "viol:  {'robot_col_distance_MoveFree_0_gen3_via0': array([ True]), 'robot_col_distance_MoveHold_1_gen3_via0': array([ True]), 'robot_col_distance_MoveFree_2_gen3_via0': array([ True]), 'robot_col_distance_pickplace_gen3_1': array([ True]), 'robot_col_distance_pickplace_gen3_2': array([ True]), 'kinematics_error_pickplace_gen3_1': array([False, False, False, False, False, False]), 'kinematics_error_pickplace_gen3_2': array([False, False, False, False, False, False]), 'grasp_prob_movehold_1_gen3': array([False])}\n",
      "  13  1.4695061e+01 2.49e+01 7.65e+02   0.4 4.35e-01    -  2.78e-01 1.00e+00f  1\n",
      "cval:  {'robot_col_distance_MoveFree_0_gen3_via0': array([0.15880519], dtype=float32), 'robot_col_distance_MoveHold_1_gen3_via0': array([0.0098663], dtype=float32), 'robot_col_distance_MoveFree_2_gen3_via0': array([0.15880516], dtype=float32), 'robot_col_distance_pickplace_gen3_1': array([0.12938493], dtype=float32), 'robot_col_distance_pickplace_gen3_2': array([0.06878319], dtype=float32), 'kinematics_error_pickplace_gen3_1': array([ 0.00377199, -0.00056681, -0.0026224 ,  0.03298755, -0.08393057,\n",
      "       -0.05595265], dtype=float32), 'kinematics_error_pickplace_gen3_2': array([-0.00430042, -0.0041593 , -0.00678042, -0.00450292, -0.0870672 ,\n",
      "       -0.05753896], dtype=float32), 'grasp_prob_movehold_1_gen3': array([-20.012154], dtype=float32)}\n",
      "viol:  {'robot_col_distance_MoveFree_0_gen3_via0': array([ True]), 'robot_col_distance_MoveHold_1_gen3_via0': array([False]), 'robot_col_distance_MoveFree_2_gen3_via0': array([ True]), 'robot_col_distance_pickplace_gen3_1': array([ True]), 'robot_col_distance_pickplace_gen3_2': array([ True]), 'kinematics_error_pickplace_gen3_1': array([False, False, False, False, False, False]), 'kinematics_error_pickplace_gen3_2': array([False, False, False, False, False, False]), 'grasp_prob_movehold_1_gen3': array([False])}\n",
      "  14  1.5283940e+01 2.00e+01 1.43e+02   0.4 5.53e-01    -  1.00e+00 1.00e+00h  1\n",
      "cval:  {'robot_col_distance_MoveFree_0_gen3_via0': array([0.15880519], dtype=float32), 'robot_col_distance_MoveHold_1_gen3_via0': array([0.15880522], dtype=float32), 'robot_col_distance_MoveFree_2_gen3_via0': array([0.15880516], dtype=float32), 'robot_col_distance_pickplace_gen3_1': array([0.12362447], dtype=float32), 'robot_col_distance_pickplace_gen3_2': array([0.06151676], dtype=float32), 'kinematics_error_pickplace_gen3_1': array([-0.00027162,  0.00026628, -0.00079355, -0.00378174, -0.1154362 ,\n",
      "        0.00890132], dtype=float32), 'kinematics_error_pickplace_gen3_2': array([ 0.00121287,  0.00018464, -0.0029709 , -0.00108227, -0.11433665,\n",
      "        0.01192242], dtype=float32), 'grasp_prob_movehold_1_gen3': array([1.2635882], dtype=float32)}\n",
      "viol:  {'robot_col_distance_MoveFree_0_gen3_via0': array([ True]), 'robot_col_distance_MoveHold_1_gen3_via0': array([ True]), 'robot_col_distance_MoveFree_2_gen3_via0': array([ True]), 'robot_col_distance_pickplace_gen3_1': array([ True]), 'robot_col_distance_pickplace_gen3_2': array([ True]), 'kinematics_error_pickplace_gen3_1': array([False, False, False, False, False, False]), 'kinematics_error_pickplace_gen3_2': array([False, False, False, False, False, False]), 'grasp_prob_movehold_1_gen3': array([ True])}\n",
      "  15  1.6520294e+01 1.15e-01 1.20e+03   0.4 4.36e-01    -  1.00e+00 1.00e+00h  1\n",
      "cval:  {'robot_col_distance_MoveFree_0_gen3_via0': array([0.15880519], dtype=float32), 'robot_col_distance_MoveHold_1_gen3_via0': array([0.15880525], dtype=float32), 'robot_col_distance_MoveFree_2_gen3_via0': array([0.15880516], dtype=float32), 'robot_col_distance_pickplace_gen3_1': array([0.12374878], dtype=float32), 'robot_col_distance_pickplace_gen3_2': array([0.05729157], dtype=float32), 'kinematics_error_pickplace_gen3_1': array([-6.4074993e-06,  1.4573336e-05, -1.2040138e-05,  2.1259564e-03,\n",
      "       -2.9130895e-03,  1.5233393e-03], dtype=float32), 'kinematics_error_pickplace_gen3_2': array([ 3.3199787e-04, -2.7298927e-05, -7.9542398e-05,  3.0231404e-03,\n",
      "       -2.7685086e-03,  1.2435423e-03], dtype=float32), 'grasp_prob_movehold_1_gen3': array([1.1789521], dtype=float32)}\n",
      "viol:  {'robot_col_distance_MoveFree_0_gen3_via0': array([ True]), 'robot_col_distance_MoveHold_1_gen3_via0': array([ True]), 'robot_col_distance_MoveFree_2_gen3_via0': array([ True]), 'robot_col_distance_pickplace_gen3_1': array([ True]), 'robot_col_distance_pickplace_gen3_2': array([ True]), 'kinematics_error_pickplace_gen3_1': array([False, False, False, False, False, False]), 'kinematics_error_pickplace_gen3_2': array([False, False, False, False, False, False]), 'grasp_prob_movehold_1_gen3': array([ True])}\n",
      "  16  1.6111588e+01 3.02e-03 1.95e+02  -0.8 7.29e-02    -  1.00e+00 1.00e+00h  1\n",
      "cval:  {'robot_col_distance_MoveFree_0_gen3_via0': array([0.15880519], dtype=float32), 'robot_col_distance_MoveHold_1_gen3_via0': array([0.14898306], dtype=float32), 'robot_col_distance_MoveFree_2_gen3_via0': array([0.15880516], dtype=float32), 'robot_col_distance_pickplace_gen3_1': array([0.12222603], dtype=float32), 'robot_col_distance_pickplace_gen3_2': array([0.05760732], dtype=float32), 'kinematics_error_pickplace_gen3_1': array([ 8.1887841e-04,  9.6458197e-04, -5.2690506e-04,  6.0811799e-05,\n",
      "       -1.4153413e-01, -1.4917347e-02], dtype=float32), 'kinematics_error_pickplace_gen3_2': array([ 0.00063789, -0.00128296, -0.00070119, -0.00204219, -0.14114995,\n",
      "       -0.01409627], dtype=float32), 'grasp_prob_movehold_1_gen3': array([0.47325745], dtype=float32)}\n",
      "viol:  {'robot_col_distance_MoveFree_0_gen3_via0': array([ True]), 'robot_col_distance_MoveHold_1_gen3_via0': array([ True]), 'robot_col_distance_MoveFree_2_gen3_via0': array([ True]), 'robot_col_distance_pickplace_gen3_1': array([ True]), 'robot_col_distance_pickplace_gen3_2': array([ True]), 'kinematics_error_pickplace_gen3_1': array([False, False, False, False, False, False]), 'kinematics_error_pickplace_gen3_2': array([False, False, False, False, False, False]), 'grasp_prob_movehold_1_gen3': array([ True])}\n",
      "  17  1.4742842e+01 1.42e-01 2.82e+01   0.4 3.78e+00    -  9.66e-01 1.00e+00f  1\n",
      "cval:  {'robot_col_distance_MoveFree_0_gen3_via0': array([0.15880519], dtype=float32), 'robot_col_distance_MoveHold_1_gen3_via0': array([0.15880525], dtype=float32), 'robot_col_distance_MoveFree_2_gen3_via0': array([0.15880516], dtype=float32), 'robot_col_distance_pickplace_gen3_1': array([0.12382364], dtype=float32), 'robot_col_distance_pickplace_gen3_2': array([0.05654693], dtype=float32), 'kinematics_error_pickplace_gen3_1': array([ 0.00010172,  0.00023273, -0.00018367, -0.00018323,  0.01906038,\n",
      "       -0.00480289], dtype=float32), 'kinematics_error_pickplace_gen3_2': array([-9.4592571e-05, -2.8592348e-04, -3.2325089e-04, -8.9148723e-04,\n",
      "        1.8788984e-02, -4.4693430e-03], dtype=float32), 'grasp_prob_movehold_1_gen3': array([2.4258757], dtype=float32)}\n",
      "viol:  {'robot_col_distance_MoveFree_0_gen3_via0': array([ True]), 'robot_col_distance_MoveHold_1_gen3_via0': array([ True]), 'robot_col_distance_MoveFree_2_gen3_via0': array([ True]), 'robot_col_distance_pickplace_gen3_1': array([ True]), 'robot_col_distance_pickplace_gen3_2': array([ True]), 'kinematics_error_pickplace_gen3_1': array([False, False, False, False, False, False]), 'kinematics_error_pickplace_gen3_2': array([False, False, False, False, False, False]), 'grasp_prob_movehold_1_gen3': array([ True])}\n",
      "  18  1.5393035e+01 1.91e-02 2.61e+01   0.3 2.25e+00    -  1.00e+00 1.00e+00h  1\n",
      "cval:  {'robot_col_distance_MoveFree_0_gen3_via0': array([0.15880519], dtype=float32), 'robot_col_distance_MoveHold_1_gen3_via0': array([0.15880525], dtype=float32), 'robot_col_distance_MoveFree_2_gen3_via0': array([0.15880516], dtype=float32), 'robot_col_distance_pickplace_gen3_1': array([0.12295818], dtype=float32), 'robot_col_distance_pickplace_gen3_2': array([0.05404738], dtype=float32), 'kinematics_error_pickplace_gen3_1': array([ 3.0869246e-04,  2.1049380e-04, -1.6784668e-04,  7.9995912e-04,\n",
      "       -3.6014151e-03, -5.3692704e-05], dtype=float32), 'kinematics_error_pickplace_gen3_2': array([-0.00022969, -0.00033377, -0.0005665 , -0.00066021, -0.00423655,\n",
      "       -0.00030813], dtype=float32), 'grasp_prob_movehold_1_gen3': array([3.5187037], dtype=float32)}\n",
      "viol:  {'robot_col_distance_MoveFree_0_gen3_via0': array([ True]), 'robot_col_distance_MoveHold_1_gen3_via0': array([ True]), 'robot_col_distance_MoveFree_2_gen3_via0': array([ True]), 'robot_col_distance_pickplace_gen3_1': array([ True]), 'robot_col_distance_pickplace_gen3_2': array([ True]), 'kinematics_error_pickplace_gen3_1': array([False, False, False, False, False, False]), 'kinematics_error_pickplace_gen3_2': array([False, False, False, False, False, False]), 'grasp_prob_movehold_1_gen3': array([ True])}\n",
      "  19  1.4842857e+01 4.24e-03 7.36e+00  -0.9 7.47e-01    -  1.00e+00 1.00e+00h  1\n",
      "cval:  {'robot_col_distance_MoveFree_0_gen3_via0': array([0.15880519], dtype=float32), 'robot_col_distance_MoveHold_1_gen3_via0': array([0.15880522], dtype=float32), 'robot_col_distance_MoveFree_2_gen3_via0': array([0.15880516], dtype=float32), 'robot_col_distance_pickplace_gen3_1': array([0.12128231], dtype=float32), 'robot_col_distance_pickplace_gen3_2': array([0.05109695], dtype=float32), 'kinematics_error_pickplace_gen3_1': array([-1.5616417e-05,  6.1532855e-04, -2.3362041e-04,  1.9215871e-04,\n",
      "        4.8545599e-03, -1.7452884e-03], dtype=float32), 'kinematics_error_pickplace_gen3_2': array([-0.00108793, -0.00010996, -0.00185966, -0.00173359,  0.00304782,\n",
      "       -0.00176672], dtype=float32), 'grasp_prob_movehold_1_gen3': array([1.5765066], dtype=float32)}\n",
      "viol:  {'robot_col_distance_MoveFree_0_gen3_via0': array([ True]), 'robot_col_distance_MoveHold_1_gen3_via0': array([ True]), 'robot_col_distance_MoveFree_2_gen3_via0': array([ True]), 'robot_col_distance_pickplace_gen3_1': array([ True]), 'robot_col_distance_pickplace_gen3_2': array([ True]), 'kinematics_error_pickplace_gen3_1': array([False, False, False, False, False, False]), 'kinematics_error_pickplace_gen3_2': array([False, False, False, False, False, False]), 'grasp_prob_movehold_1_gen3': array([ True])}\n",
      "iter    objective    inf_pr   inf_du lg(mu)  ||d||  lg(rg) alpha_du alpha_pr  ls\n",
      "  20  1.3777139e+01 4.85e-03 3.99e+00  -1.5 3.35e-01    -  9.99e-01 7.67e-01f  1\n",
      "cval:  {'robot_col_distance_MoveFree_0_gen3_via0': array([0.15880519], dtype=float32), 'robot_col_distance_MoveHold_1_gen3_via0': array([0.15880525], dtype=float32), 'robot_col_distance_MoveFree_2_gen3_via0': array([0.15880516], dtype=float32), 'robot_col_distance_pickplace_gen3_1': array([0.12136397], dtype=float32), 'robot_col_distance_pickplace_gen3_2': array([0.05141643], dtype=float32), 'kinematics_error_pickplace_gen3_1': array([-3.7550926e-06,  4.5427680e-04, -1.8909574e-04,  8.0723519e-04,\n",
      "       -4.1447999e-03, -9.4624847e-04], dtype=float32), 'kinematics_error_pickplace_gen3_2': array([-7.4908137e-04, -9.7423792e-05, -1.6477332e-03, -4.1856072e-04,\n",
      "       -5.6197168e-03, -1.0069805e-03], dtype=float32), 'grasp_prob_movehold_1_gen3': array([-2.044447], dtype=float32)}\n",
      "viol:  {'robot_col_distance_MoveFree_0_gen3_via0': array([ True]), 'robot_col_distance_MoveHold_1_gen3_via0': array([ True]), 'robot_col_distance_MoveFree_2_gen3_via0': array([ True]), 'robot_col_distance_pickplace_gen3_1': array([ True]), 'robot_col_distance_pickplace_gen3_2': array([ True]), 'kinematics_error_pickplace_gen3_1': array([False, False, False, False, False, False]), 'kinematics_error_pickplace_gen3_2': array([False, False, False, False, False, False]), 'grasp_prob_movehold_1_gen3': array([False])}\n",
      "  21  1.3545083e+01 2.04e+00 5.96e+01  -1.5 5.31e+00    -  1.00e+00 2.58e-01h  1\n",
      "cval:  {'robot_col_distance_MoveFree_0_gen3_via0': array([0.15880519], dtype=float32), 'robot_col_distance_MoveHold_1_gen3_via0': array([0.08948684], dtype=float32), 'robot_col_distance_MoveFree_2_gen3_via0': array([0.15880519], dtype=float32), 'robot_col_distance_pickplace_gen3_1': array([0.11964521], dtype=float32), 'robot_col_distance_pickplace_gen3_2': array([0.05231723], dtype=float32), 'kinematics_error_pickplace_gen3_1': array([ 9.8764896e-05, -4.1484833e-05, -4.1767955e-05,  2.4574844e-03,\n",
      "       -2.1479297e-01, -1.9292427e-02], dtype=float32), 'kinematics_error_pickplace_gen3_2': array([-0.00074217,  0.00023934, -0.00196943,  0.00164624, -0.21659651,\n",
      "       -0.02016255], dtype=float32), 'grasp_prob_movehold_1_gen3': array([-6.2820697], dtype=float32)}\n",
      "viol:  {'robot_col_distance_MoveFree_0_gen3_via0': array([ True]), 'robot_col_distance_MoveHold_1_gen3_via0': array([ True]), 'robot_col_distance_MoveFree_2_gen3_via0': array([ True]), 'robot_col_distance_pickplace_gen3_1': array([ True]), 'robot_col_distance_pickplace_gen3_2': array([ True]), 'kinematics_error_pickplace_gen3_1': array([False, False, False, False, False, False]), 'kinematics_error_pickplace_gen3_2': array([False, False, False, False, False, False]), 'grasp_prob_movehold_1_gen3': array([False])}\n",
      "  22  1.3748870e+01 6.28e+00 3.24e+01  -1.2 2.25e+00    -  1.00e+00 1.00e+00f  1\n",
      "cval:  {'robot_col_distance_MoveFree_0_gen3_via0': array([0.15880519], dtype=float32), 'robot_col_distance_MoveHold_1_gen3_via0': array([0.11959663], dtype=float32), 'robot_col_distance_MoveFree_2_gen3_via0': array([0.15880513], dtype=float32), 'robot_col_distance_pickplace_gen3_1': array([0.13435096], dtype=float32), 'robot_col_distance_pickplace_gen3_2': array([0.05839887], dtype=float32), 'kinematics_error_pickplace_gen3_1': array([ 0.00137308, -0.00117719, -0.00279115,  0.04337039, -0.15919559,\n",
      "       -0.00782203], dtype=float32), 'kinematics_error_pickplace_gen3_2': array([-0.00057787, -0.00505924, -0.00837734,  0.03146555, -0.16957806,\n",
      "       -0.02367985], dtype=float32), 'grasp_prob_movehold_1_gen3': array([-21.18497], dtype=float32)}\n",
      "viol:  {'robot_col_distance_MoveFree_0_gen3_via0': array([ True]), 'robot_col_distance_MoveHold_1_gen3_via0': array([ True]), 'robot_col_distance_MoveFree_2_gen3_via0': array([ True]), 'robot_col_distance_pickplace_gen3_1': array([ True]), 'robot_col_distance_pickplace_gen3_2': array([ True]), 'kinematics_error_pickplace_gen3_1': array([False, False, False, False, False, False]), 'kinematics_error_pickplace_gen3_2': array([False, False, False, False, False, False]), 'grasp_prob_movehold_1_gen3': array([False])}\n",
      "  23  1.3020596e+01 2.12e+01 1.44e+01  -1.3 5.99e+00    -  1.00e+00 1.00e+00f  1\n",
      "cval:  {'robot_col_distance_MoveFree_0_gen3_via0': array([0.15880519], dtype=float32), 'robot_col_distance_MoveHold_1_gen3_via0': array([0.15880522], dtype=float32), 'robot_col_distance_MoveFree_2_gen3_via0': array([0.15880516], dtype=float32), 'robot_col_distance_pickplace_gen3_1': array([0.12559819], dtype=float32), 'robot_col_distance_pickplace_gen3_2': array([0.05429837], dtype=float32), 'kinematics_error_pickplace_gen3_1': array([-0.00032282, -0.0003303 , -0.0002948 ,  0.01441472, -0.17450938,\n",
      "       -0.0293267 ], dtype=float32), 'kinematics_error_pickplace_gen3_2': array([ 2.4109781e-03,  4.0292740e-05, -3.3347383e-03,  1.8522440e-02,\n",
      "       -1.7582880e-01, -2.6478712e-02], dtype=float32), 'grasp_prob_movehold_1_gen3': array([-9.58631], dtype=float32)}\n",
      "viol:  {'robot_col_distance_MoveFree_0_gen3_via0': array([ True]), 'robot_col_distance_MoveHold_1_gen3_via0': array([ True]), 'robot_col_distance_MoveFree_2_gen3_via0': array([ True]), 'robot_col_distance_pickplace_gen3_1': array([ True]), 'robot_col_distance_pickplace_gen3_2': array([ True]), 'kinematics_error_pickplace_gen3_1': array([False, False, False, False, False, False]), 'kinematics_error_pickplace_gen3_2': array([False, False, False, False, False, False]), 'grasp_prob_movehold_1_gen3': array([False])}\n",
      "  24  1.3163969e+01 9.59e+00 1.89e+00  -0.8 8.16e+00    -  1.00e+00 1.00e+00h  1\n",
      "cval:  {'robot_col_distance_MoveFree_0_gen3_via0': array([0.15880519], dtype=float32), 'robot_col_distance_MoveHold_1_gen3_via0': array([0.124513], dtype=float32), 'robot_col_distance_MoveFree_2_gen3_via0': array([0.15880519], dtype=float32), 'robot_col_distance_pickplace_gen3_1': array([0.12348378], dtype=float32), 'robot_col_distance_pickplace_gen3_2': array([0.05945259], dtype=float32), 'kinematics_error_pickplace_gen3_1': array([ 0.00054419,  0.0003131 , -0.00146711,  0.0065797 , -0.12596808,\n",
      "       -0.01886586], dtype=float32), 'kinematics_error_pickplace_gen3_2': array([-0.00496268, -0.00123799, -0.00988646, -0.0035247 , -0.13670611,\n",
      "       -0.0286125 ], dtype=float32), 'grasp_prob_movehold_1_gen3': array([-2.89681], dtype=float32)}\n",
      "viol:  {'robot_col_distance_MoveFree_0_gen3_via0': array([ True]), 'robot_col_distance_MoveHold_1_gen3_via0': array([ True]), 'robot_col_distance_MoveFree_2_gen3_via0': array([ True]), 'robot_col_distance_pickplace_gen3_1': array([ True]), 'robot_col_distance_pickplace_gen3_2': array([ True]), 'kinematics_error_pickplace_gen3_1': array([False, False, False, False, False, False]), 'kinematics_error_pickplace_gen3_2': array([False, False, False, False, False, False]), 'grasp_prob_movehold_1_gen3': array([False])}\n",
      "  25  1.3264853e+01 1.00e-01 1.02e+02  -0.8 5.43e+00    -  9.60e-01 4.34e-01H  1\n",
      "cval:  {'robot_col_distance_MoveFree_0_gen3_via0': array([0.15880519], dtype=float32), 'robot_col_distance_MoveHold_1_gen3_via0': array([0.11896574], dtype=float32), 'robot_col_distance_MoveFree_2_gen3_via0': array([0.15880519], dtype=float32), 'robot_col_distance_pickplace_gen3_1': array([0.1259371], dtype=float32), 'robot_col_distance_pickplace_gen3_2': array([0.05023822], dtype=float32), 'kinematics_error_pickplace_gen3_1': array([-6.5416098e-05,  5.1391125e-04, -3.5077333e-04,  3.8536833e-05,\n",
      "       -8.3451636e-02, -9.5072724e-03], dtype=float32), 'kinematics_error_pickplace_gen3_2': array([-2.322495e-04, -8.376986e-04, -8.106232e-05, -1.916303e-03,\n",
      "       -8.236671e-02, -8.387074e-03], dtype=float32), 'grasp_prob_movehold_1_gen3': array([-2.7072432], dtype=float32)}\n",
      "viol:  {'robot_col_distance_MoveFree_0_gen3_via0': array([ True]), 'robot_col_distance_MoveHold_1_gen3_via0': array([ True]), 'robot_col_distance_MoveFree_2_gen3_via0': array([ True]), 'robot_col_distance_pickplace_gen3_1': array([ True]), 'robot_col_distance_pickplace_gen3_2': array([ True]), 'kinematics_error_pickplace_gen3_1': array([False, False, False, False, False, False]), 'kinematics_error_pickplace_gen3_2': array([False, False, False, False, False, False]), 'grasp_prob_movehold_1_gen3': array([False])}\n",
      "  26  1.2697079e+01 2.71e+00 4.03e+00  -1.9 8.41e-01    -  1.00e+00 1.00e+00h  1\n",
      "cval:  {'robot_col_distance_MoveFree_0_gen3_via0': array([0.15880519], dtype=float32), 'robot_col_distance_MoveHold_1_gen3_via0': array([0.06823772], dtype=float32), 'robot_col_distance_MoveFree_2_gen3_via0': array([0.15880519], dtype=float32), 'robot_col_distance_pickplace_gen3_1': array([0.12514818], dtype=float32), 'robot_col_distance_pickplace_gen3_2': array([0.05050921], dtype=float32), 'kinematics_error_pickplace_gen3_1': array([ 0.00012371,  0.0001049 , -0.00019892, -0.00021344, -0.03493946,\n",
      "       -0.0010559 ], dtype=float32), 'kinematics_error_pickplace_gen3_2': array([-0.00024691, -0.00022942, -0.00052163, -0.00109155, -0.03554413,\n",
      "       -0.00138459], dtype=float32), 'grasp_prob_movehold_1_gen3': array([-0.60463053], dtype=float32)}\n",
      "viol:  {'robot_col_distance_MoveFree_0_gen3_via0': array([ True]), 'robot_col_distance_MoveHold_1_gen3_via0': array([ True]), 'robot_col_distance_MoveFree_2_gen3_via0': array([ True]), 'robot_col_distance_pickplace_gen3_1': array([ True]), 'robot_col_distance_pickplace_gen3_2': array([ True]), 'kinematics_error_pickplace_gen3_1': array([False, False, False, False, False, False]), 'kinematics_error_pickplace_gen3_2': array([False, False, False, False, False, False]), 'grasp_prob_movehold_1_gen3': array([False])}\n",
      "  27  1.2962730e+01 6.05e-01 6.05e+00  -2.6 1.39e+00    -  1.00e+00 1.00e+00h  1\n",
      "cval:  {'robot_col_distance_MoveFree_0_gen3_via0': array([0.15880519], dtype=float32), 'robot_col_distance_MoveHold_1_gen3_via0': array([0.06948325], dtype=float32), 'robot_col_distance_MoveFree_2_gen3_via0': array([0.15880519], dtype=float32), 'robot_col_distance_pickplace_gen3_1': array([0.12486666], dtype=float32), 'robot_col_distance_pickplace_gen3_2': array([0.05005002], dtype=float32), 'kinematics_error_pickplace_gen3_1': array([ 2.7060509e-05,  2.6077032e-05, -4.6372414e-05,  2.3139085e-04,\n",
      "       -2.0200771e-03,  4.7941279e-04], dtype=float32), 'kinematics_error_pickplace_gen3_2': array([ 4.0084124e-05, -7.3835254e-05, -4.2274594e-05,  1.2688343e-04,\n",
      "       -2.0676560e-03,  5.1291304e-04], dtype=float32), 'grasp_prob_movehold_1_gen3': array([-1.7301812], dtype=float32)}\n",
      "viol:  {'robot_col_distance_MoveFree_0_gen3_via0': array([ True]), 'robot_col_distance_MoveHold_1_gen3_via0': array([ True]), 'robot_col_distance_MoveFree_2_gen3_via0': array([ True]), 'robot_col_distance_pickplace_gen3_1': array([ True]), 'robot_col_distance_pickplace_gen3_2': array([ True]), 'kinematics_error_pickplace_gen3_1': array([False, False, False, False, False, False]), 'kinematics_error_pickplace_gen3_2': array([False, False, False, False, False, False]), 'grasp_prob_movehold_1_gen3': array([False])}\n",
      "  28  1.3187430e+01 7.69e-01 9.46e+00  -3.0 7.59e-02    -  9.81e-01 1.00e+00H  1\n",
      "cval:  {'robot_col_distance_MoveFree_0_gen3_via0': array([0.15880519], dtype=float32), 'robot_col_distance_MoveHold_1_gen3_via0': array([0.05261606], dtype=float32), 'robot_col_distance_MoveFree_2_gen3_via0': array([0.15880519], dtype=float32), 'robot_col_distance_pickplace_gen3_1': array([0.12457559], dtype=float32), 'robot_col_distance_pickplace_gen3_2': array([0.05026007], dtype=float32), 'kinematics_error_pickplace_gen3_1': array([-2.7716160e-06, -5.6624413e-07, -3.6209822e-06, -3.5509453e-05,\n",
      "       -7.1654021e-04,  3.2442142e-04], dtype=float32), 'kinematics_error_pickplace_gen3_2': array([-7.0989132e-05,  1.0222197e-05, -2.3952872e-04, -2.4914738e-05,\n",
      "       -9.2659873e-04,  1.5676019e-04], dtype=float32), 'grasp_prob_movehold_1_gen3': array([0.15931088], dtype=float32)}\n",
      "viol:  {'robot_col_distance_MoveFree_0_gen3_via0': array([ True]), 'robot_col_distance_MoveHold_1_gen3_via0': array([ True]), 'robot_col_distance_MoveFree_2_gen3_via0': array([ True]), 'robot_col_distance_pickplace_gen3_1': array([ True]), 'robot_col_distance_pickplace_gen3_2': array([ True]), 'kinematics_error_pickplace_gen3_1': array([False, False, False, False, False, False]), 'kinematics_error_pickplace_gen3_2': array([False, False, False, False, False, False]), 'grasp_prob_movehold_1_gen3': array([ True])}\n",
      "  29  1.3186957e+01 9.27e-04 9.31e+00  -2.4 7.71e-02    -  1.00e+00 1.00e+00h  1\n",
      "cval:  {'robot_col_distance_MoveFree_0_gen3_via0': array([0.15880519], dtype=float32), 'robot_col_distance_MoveHold_1_gen3_via0': array([0.15880525], dtype=float32), 'robot_col_distance_MoveFree_2_gen3_via0': array([0.15880513], dtype=float32), 'robot_col_distance_pickplace_gen3_1': array([0.1335091], dtype=float32), 'robot_col_distance_pickplace_gen3_2': array([0.05076709], dtype=float32), 'kinematics_error_pickplace_gen3_1': array([-0.00024983, -0.00065884, -0.00080268,  0.02066287, -0.16055025,\n",
      "       -0.02874774], dtype=float32), 'kinematics_error_pickplace_gen3_2': array([ 3.7428737e-04, -1.1071563e-05, -1.7050654e-04,  2.0600347e-02,\n",
      "       -1.5908706e-01, -2.9177167e-02], dtype=float32), 'grasp_prob_movehold_1_gen3': array([-26.96242], dtype=float32)}\n",
      "viol:  {'robot_col_distance_MoveFree_0_gen3_via0': array([ True]), 'robot_col_distance_MoveHold_1_gen3_via0': array([ True]), 'robot_col_distance_MoveFree_2_gen3_via0': array([ True]), 'robot_col_distance_pickplace_gen3_1': array([ True]), 'robot_col_distance_pickplace_gen3_2': array([ True]), 'kinematics_error_pickplace_gen3_1': array([False, False, False, False, False, False]), 'kinematics_error_pickplace_gen3_2': array([False, False, False, False, False, False]), 'grasp_prob_movehold_1_gen3': array([False])}\n",
      "iter    objective    inf_pr   inf_du lg(mu)  ||d||  lg(rg) alpha_du alpha_pr  ls\n",
      "  30  1.3523784e+01 1.27e+01 4.60e+01  -1.1 7.34e-01    -  1.00e+00 5.00e-01f  2\n",
      "cval:  {'robot_col_distance_MoveFree_0_gen3_via0': array([0.15880519], dtype=float32), 'robot_col_distance_MoveHold_1_gen3_via0': array([0.07753754], dtype=float32), 'robot_col_distance_MoveFree_2_gen3_via0': array([0.15880519], dtype=float32), 'robot_col_distance_pickplace_gen3_1': array([0.12494519], dtype=float32), 'robot_col_distance_pickplace_gen3_2': array([0.05062816], dtype=float32), 'kinematics_error_pickplace_gen3_1': array([-1.7037988e-04, -7.8588724e-05, -3.2180548e-04,  4.7537251e-03,\n",
      "       -1.2637650e-02, -1.7514115e-02], dtype=float32), 'kinematics_error_pickplace_gen3_2': array([-1.2814999e-05,  4.9546361e-05, -1.6653538e-04,  4.7795875e-03,\n",
      "       -1.2276426e-02, -1.7595196e-02], dtype=float32), 'grasp_prob_movehold_1_gen3': array([-1.0389931], dtype=float32)}\n",
      "viol:  {'robot_col_distance_MoveFree_0_gen3_via0': array([ True]), 'robot_col_distance_MoveHold_1_gen3_via0': array([ True]), 'robot_col_distance_MoveFree_2_gen3_via0': array([ True]), 'robot_col_distance_pickplace_gen3_1': array([ True]), 'robot_col_distance_pickplace_gen3_2': array([ True]), 'kinematics_error_pickplace_gen3_1': array([False, False, False, False, False, False]), 'kinematics_error_pickplace_gen3_2': array([False, False, False, False, False, False]), 'grasp_prob_movehold_1_gen3': array([False])}\n",
      "  31  1.3076260e+01 1.04e+00 9.46e+00  -1.3 3.32e-01    -  1.00e+00 1.00e+00h  1\n",
      "cval:  {'robot_col_distance_MoveFree_0_gen3_via0': array([0.15880519], dtype=float32), 'robot_col_distance_MoveHold_1_gen3_via0': array([0.13827658], dtype=float32), 'robot_col_distance_MoveFree_2_gen3_via0': array([0.15880516], dtype=float32), 'robot_col_distance_pickplace_gen3_1': array([0.12422633], dtype=float32), 'robot_col_distance_pickplace_gen3_2': array([0.05049229], dtype=float32), 'kinematics_error_pickplace_gen3_1': array([-9.8675489e-05,  3.5136938e-05, -1.4722347e-04,  4.3212416e-04,\n",
      "       -5.0026402e-03,  1.2189066e-03], dtype=float32), 'kinematics_error_pickplace_gen3_2': array([-1.5079975e-05, -9.4234943e-05, -2.6024878e-05,  4.6445595e-04,\n",
      "       -4.8200809e-03,  1.0826030e-03], dtype=float32), 'grasp_prob_movehold_1_gen3': array([-1.9626806], dtype=float32)}\n",
      "viol:  {'robot_col_distance_MoveFree_0_gen3_via0': array([ True]), 'robot_col_distance_MoveHold_1_gen3_via0': array([ True]), 'robot_col_distance_MoveFree_2_gen3_via0': array([ True]), 'robot_col_distance_pickplace_gen3_1': array([ True]), 'robot_col_distance_pickplace_gen3_2': array([ True]), 'kinematics_error_pickplace_gen3_1': array([False, False, False, False, False, False]), 'kinematics_error_pickplace_gen3_2': array([False, False, False, False, False, False]), 'grasp_prob_movehold_1_gen3': array([False])}\n",
      "  32  1.3371810e+01 6.24e-03 9.98e+00  -1.3 1.16e-01    -  1.00e+00 1.00e+00H  1\n",
      "cval:  {'robot_col_distance_MoveFree_0_gen3_via0': array([0.15880519], dtype=float32), 'robot_col_distance_MoveHold_1_gen3_via0': array([0.12351924], dtype=float32), 'robot_col_distance_MoveFree_2_gen3_via0': array([0.15880516], dtype=float32), 'robot_col_distance_pickplace_gen3_1': array([0.12550521], dtype=float32), 'robot_col_distance_pickplace_gen3_2': array([0.05084696], dtype=float32), 'kinematics_error_pickplace_gen3_1': array([-2.5987625e-05,  1.2964010e-04, -9.3400478e-05,  1.5183340e-03,\n",
      "       -1.5269982e-02, -1.6978664e-04], dtype=float32), 'kinematics_error_pickplace_gen3_2': array([-1.7234683e-04, -7.7933073e-05, -4.1747093e-04,  9.7336911e-04,\n",
      "       -1.5780965e-02, -2.8739564e-04], dtype=float32), 'grasp_prob_movehold_1_gen3': array([-2.9104328], dtype=float32)}\n",
      "viol:  {'robot_col_distance_MoveFree_0_gen3_via0': array([ True]), 'robot_col_distance_MoveHold_1_gen3_via0': array([ True]), 'robot_col_distance_MoveFree_2_gen3_via0': array([ True]), 'robot_col_distance_pickplace_gen3_1': array([ True]), 'robot_col_distance_pickplace_gen3_2': array([ True]), 'kinematics_error_pickplace_gen3_1': array([False, False, False, False, False, False]), 'kinematics_error_pickplace_gen3_2': array([False, False, False, False, False, False]), 'grasp_prob_movehold_1_gen3': array([False])}\n",
      "  33  1.3367087e+01 1.16e-02 1.07e+01  -1.3 3.57e-01    -  1.00e+00 1.00e+00H  1\n",
      "cval:  {'robot_col_distance_MoveFree_0_gen3_via0': array([0.15880519], dtype=float32), 'robot_col_distance_MoveHold_1_gen3_via0': array([0.12713179], dtype=float32), 'robot_col_distance_MoveFree_2_gen3_via0': array([0.15880516], dtype=float32), 'robot_col_distance_pickplace_gen3_1': array([0.12452263], dtype=float32), 'robot_col_distance_pickplace_gen3_2': array([0.05045393], dtype=float32), 'kinematics_error_pickplace_gen3_1': array([ 4.6253204e-05, -3.7372112e-05, -3.9339066e-05,  7.1678689e-04,\n",
      "       -2.0513006e-03,  4.1065557e-04], dtype=float32), 'kinematics_error_pickplace_gen3_2': array([ 3.9249659e-05, -5.5581331e-05, -4.2237341e-05,  6.3580298e-04,\n",
      "       -2.0402528e-03,  3.5636139e-04], dtype=float32), 'grasp_prob_movehold_1_gen3': array([-2.162281], dtype=float32)}\n",
      "viol:  {'robot_col_distance_MoveFree_0_gen3_via0': array([ True]), 'robot_col_distance_MoveHold_1_gen3_via0': array([ True]), 'robot_col_distance_MoveFree_2_gen3_via0': array([ True]), 'robot_col_distance_pickplace_gen3_1': array([ True]), 'robot_col_distance_pickplace_gen3_2': array([ True]), 'kinematics_error_pickplace_gen3_1': array([False, False, False, False, False, False]), 'kinematics_error_pickplace_gen3_2': array([False, False, False, False, False, False]), 'grasp_prob_movehold_1_gen3': array([False])}\n",
      "  34  1.3207811e+01 2.16e+00 8.93e+00  -1.3 2.38e-01    -  1.00e+00 1.00e+00f  1\n",
      "cval:  {'robot_col_distance_MoveFree_0_gen3_via0': array([0.15880519], dtype=float32), 'robot_col_distance_MoveHold_1_gen3_via0': array([0.09959498], dtype=float32), 'robot_col_distance_MoveFree_2_gen3_via0': array([0.15880516], dtype=float32), 'robot_col_distance_pickplace_gen3_1': array([0.12361902], dtype=float32), 'robot_col_distance_pickplace_gen3_2': array([0.05049533], dtype=float32), 'kinematics_error_pickplace_gen3_1': array([ 4.1216612e-05, -3.3915043e-05, -3.4838915e-05,  1.4097682e-03,\n",
      "        3.7858456e-03,  1.0077904e-03], dtype=float32), 'kinematics_error_pickplace_gen3_2': array([-4.8875809e-05, -3.8906932e-05, -7.4982643e-05,  1.1910975e-03,\n",
      "        3.7615094e-03,  9.3934173e-04], dtype=float32), 'grasp_prob_movehold_1_gen3': array([1.9807158], dtype=float32)}\n",
      "viol:  {'robot_col_distance_MoveFree_0_gen3_via0': array([ True]), 'robot_col_distance_MoveHold_1_gen3_via0': array([ True]), 'robot_col_distance_MoveFree_2_gen3_via0': array([ True]), 'robot_col_distance_pickplace_gen3_1': array([ True]), 'robot_col_distance_pickplace_gen3_2': array([ True]), 'kinematics_error_pickplace_gen3_1': array([False, False, False, False, False, False]), 'kinematics_error_pickplace_gen3_2': array([False, False, False, False, False, False]), 'grasp_prob_movehold_1_gen3': array([ True])}\n",
      "  35  1.3322613e+01 3.79e-03 1.46e+01  -1.3 6.06e-02    -  1.00e+00 1.00e+00h  1\n",
      "cval:  {'robot_col_distance_MoveFree_0_gen3_via0': array([0.15880519], dtype=float32), 'robot_col_distance_MoveHold_1_gen3_via0': array([0.13098276], dtype=float32), 'robot_col_distance_MoveFree_2_gen3_via0': array([0.15880519], dtype=float32), 'robot_col_distance_pickplace_gen3_1': array([0.12413555], dtype=float32), 'robot_col_distance_pickplace_gen3_2': array([0.05057412], dtype=float32), 'kinematics_error_pickplace_gen3_1': array([-1.0043383e-05,  1.0818243e-05, -7.0929527e-06, -9.5963424e-06,\n",
      "       -9.9316176e-06, -1.7332368e-05], dtype=float32), 'kinematics_error_pickplace_gen3_2': array([-7.1525574e-05,  6.9886446e-06, -1.6309321e-04, -7.4952812e-05,\n",
      "       -1.5072519e-04, -6.6950895e-05], dtype=float32), 'grasp_prob_movehold_1_gen3': array([1.3746431], dtype=float32)}\n",
      "viol:  {'robot_col_distance_MoveFree_0_gen3_via0': array([ True]), 'robot_col_distance_MoveHold_1_gen3_via0': array([ True]), 'robot_col_distance_MoveFree_2_gen3_via0': array([ True]), 'robot_col_distance_pickplace_gen3_1': array([ True]), 'robot_col_distance_pickplace_gen3_2': array([ True]), 'kinematics_error_pickplace_gen3_1': array([False, False, False, False, False, False]), 'kinematics_error_pickplace_gen3_2': array([False, False, False, False, False, False]), 'grasp_prob_movehold_1_gen3': array([ True])}\n",
      "  36  1.3315126e+01 1.63e-04 9.57e+00  -1.3 1.11e-01    -  1.00e+00 1.00e+00h  1\n",
      "cval:  {'robot_col_distance_MoveFree_0_gen3_via0': array([0.15880519], dtype=float32), 'robot_col_distance_MoveHold_1_gen3_via0': array([0.09689301], dtype=float32), 'robot_col_distance_MoveFree_2_gen3_via0': array([0.15880516], dtype=float32), 'robot_col_distance_pickplace_gen3_1': array([0.12467271], dtype=float32), 'robot_col_distance_pickplace_gen3_2': array([0.05005193], dtype=float32), 'kinematics_error_pickplace_gen3_1': array([-5.75184822e-06,  1.79708004e-05, -1.07139349e-05,  5.41358932e-05,\n",
      "       -5.55184415e-05, -1.11460635e-04], dtype=float32), 'kinematics_error_pickplace_gen3_2': array([ 2.2947788e-05, -1.0296702e-05, -6.8396330e-06,  6.3702442e-05,\n",
      "       -4.6610814e-05, -6.7323424e-05], dtype=float32), 'grasp_prob_movehold_1_gen3': array([0.2164408], dtype=float32)}\n",
      "viol:  {'robot_col_distance_MoveFree_0_gen3_via0': array([ True]), 'robot_col_distance_MoveHold_1_gen3_via0': array([ True]), 'robot_col_distance_MoveFree_2_gen3_via0': array([ True]), 'robot_col_distance_pickplace_gen3_1': array([ True]), 'robot_col_distance_pickplace_gen3_2': array([ True]), 'kinematics_error_pickplace_gen3_1': array([False, False, False, False, False, False]), 'kinematics_error_pickplace_gen3_2': array([False, False, False, False, False, False]), 'grasp_prob_movehold_1_gen3': array([ True])}\n",
      "  37  1.3166916e+01 1.11e-04 9.50e+00  -2.8 2.30e-01    -  1.00e+00 1.00e+00f  1\n",
      "cval:  {'robot_col_distance_MoveFree_0_gen3_via0': array([0.15880522], dtype=float32), 'robot_col_distance_MoveHold_1_gen3_via0': array([0.06763023], dtype=float32), 'robot_col_distance_MoveFree_2_gen3_via0': array([0.15880516], dtype=float32), 'robot_col_distance_pickplace_gen3_1': array([0.12496072], dtype=float32), 'robot_col_distance_pickplace_gen3_2': array([0.05005756], dtype=float32), 'kinematics_error_pickplace_gen3_1': array([ 1.3202429e-05, -4.0531158e-06, -1.8581748e-05,  1.3459594e-03,\n",
      "       -2.1750233e-03,  3.5005595e-04], dtype=float32), 'kinematics_error_pickplace_gen3_2': array([ 1.6391277e-05, -2.3886561e-05, -1.8082559e-05,  1.3101705e-03,\n",
      "       -2.1686866e-03,  3.5975894e-04], dtype=float32), 'grasp_prob_movehold_1_gen3': array([-3.637318], dtype=float32)}\n",
      "viol:  {'robot_col_distance_MoveFree_0_gen3_via0': array([ True]), 'robot_col_distance_MoveHold_1_gen3_via0': array([ True]), 'robot_col_distance_MoveFree_2_gen3_via0': array([ True]), 'robot_col_distance_pickplace_gen3_1': array([ True]), 'robot_col_distance_pickplace_gen3_2': array([ True]), 'kinematics_error_pickplace_gen3_1': array([False, False, False, False, False, False]), 'kinematics_error_pickplace_gen3_2': array([False, False, False, False, False, False]), 'grasp_prob_movehold_1_gen3': array([False])}\n",
      "  38  1.3103439e+01 3.64e+00 3.26e+00  -2.3 2.29e-01    -  1.00e+00 5.97e-01h  1\n",
      "cval:  {'robot_col_distance_MoveFree_0_gen3_via0': array([0.15880519], dtype=float32), 'robot_col_distance_MoveHold_1_gen3_via0': array([0.06442335], dtype=float32), 'robot_col_distance_MoveFree_2_gen3_via0': array([0.15880519], dtype=float32), 'robot_col_distance_pickplace_gen3_1': array([0.12377214], dtype=float32), 'robot_col_distance_pickplace_gen3_2': array([0.05006224], dtype=float32), 'kinematics_error_pickplace_gen3_1': array([ 3.3020973e-05, -6.2555075e-05, -4.5269728e-05, -9.6256810e-04,\n",
      "        1.2547924e-03, -3.2475507e-03], dtype=float32), 'kinematics_error_pickplace_gen3_2': array([ 5.3614378e-05, -3.0100346e-05, -3.5896897e-05, -9.9146529e-04,\n",
      "        1.3030790e-03, -3.2905098e-03], dtype=float32), 'grasp_prob_movehold_1_gen3': array([1.4048741], dtype=float32)}\n",
      "viol:  {'robot_col_distance_MoveFree_0_gen3_via0': array([ True]), 'robot_col_distance_MoveHold_1_gen3_via0': array([ True]), 'robot_col_distance_MoveFree_2_gen3_via0': array([ True]), 'robot_col_distance_pickplace_gen3_1': array([ True]), 'robot_col_distance_pickplace_gen3_2': array([ True]), 'kinematics_error_pickplace_gen3_1': array([False, False, False, False, False, False]), 'kinematics_error_pickplace_gen3_2': array([False, False, False, False, False, False]), 'grasp_prob_movehold_1_gen3': array([ True])}\n",
      "  39  1.3223696e+01 3.29e-03 1.45e+01  -2.4 8.43e-02    -  1.00e+00 1.00e+00h  1\n",
      "cval:  {'robot_col_distance_MoveFree_0_gen3_via0': array([0.15880519], dtype=float32), 'robot_col_distance_MoveHold_1_gen3_via0': array([0.10188949], dtype=float32), 'robot_col_distance_MoveFree_2_gen3_via0': array([0.15880516], dtype=float32), 'robot_col_distance_pickplace_gen3_1': array([0.1255073], dtype=float32), 'robot_col_distance_pickplace_gen3_2': array([0.05015072], dtype=float32), 'kinematics_error_pickplace_gen3_1': array([-0.0001826 , -0.00028843, -0.00031775,  0.00011914, -0.00171391,\n",
      "        0.00030258], dtype=float32), 'kinematics_error_pickplace_gen3_2': array([ 8.0466270e-05,  9.0450048e-06, -1.2698770e-04,  3.9635578e-04,\n",
      "       -1.0618115e-03,  1.5445045e-04], dtype=float32), 'grasp_prob_movehold_1_gen3': array([-1.069797], dtype=float32)}\n",
      "viol:  {'robot_col_distance_MoveFree_0_gen3_via0': array([ True]), 'robot_col_distance_MoveHold_1_gen3_via0': array([ True]), 'robot_col_distance_MoveFree_2_gen3_via0': array([ True]), 'robot_col_distance_pickplace_gen3_1': array([ True]), 'robot_col_distance_pickplace_gen3_2': array([ True]), 'kinematics_error_pickplace_gen3_1': array([False, False, False, False, False, False]), 'kinematics_error_pickplace_gen3_2': array([False, False, False, False, False, False]), 'grasp_prob_movehold_1_gen3': array([False])}\n",
      "iter    objective    inf_pr   inf_du lg(mu)  ||d||  lg(rg) alpha_du alpha_pr  ls\n",
      "  40  1.3190374e+01 1.07e+00 9.71e+00  -2.4 1.25e-01    -  3.69e-01 1.00e+00h  1\n",
      "cval:  {'robot_col_distance_MoveFree_0_gen3_via0': array([0.15880519], dtype=float32), 'robot_col_distance_MoveHold_1_gen3_via0': array([0.08440995], dtype=float32), 'robot_col_distance_MoveFree_2_gen3_via0': array([0.15880516], dtype=float32), 'robot_col_distance_pickplace_gen3_1': array([0.12493867], dtype=float32), 'robot_col_distance_pickplace_gen3_2': array([0.05015269], dtype=float32), 'kinematics_error_pickplace_gen3_1': array([-1.41799450e-04, -1.02579594e-04, -1.92493200e-04,  5.58644460e-05,\n",
      "       -1.55937229e-03,  2.96434824e-04], dtype=float32), 'kinematics_error_pickplace_gen3_2': array([-2.3007393e-05,  8.6426735e-06, -1.3083965e-04,  1.7006694e-04,\n",
      "       -1.2567787e-03,  2.3564695e-04], dtype=float32), 'grasp_prob_movehold_1_gen3': array([-0.7167881], dtype=float32)}\n",
      "viol:  {'robot_col_distance_MoveFree_0_gen3_via0': array([ True]), 'robot_col_distance_MoveHold_1_gen3_via0': array([ True]), 'robot_col_distance_MoveFree_2_gen3_via0': array([ True]), 'robot_col_distance_pickplace_gen3_1': array([ True]), 'robot_col_distance_pickplace_gen3_2': array([ True]), 'kinematics_error_pickplace_gen3_1': array([False, False, False, False, False, False]), 'kinematics_error_pickplace_gen3_2': array([False, False, False, False, False, False]), 'grasp_prob_movehold_1_gen3': array([False])}\n",
      "  41  1.3128971e+01 7.17e-01 1.18e+01  -2.4 1.05e-01    -  1.00e+00 1.00e+00h  1\n",
      "cval:  {'robot_col_distance_MoveFree_0_gen3_via0': array([0.15880519], dtype=float32), 'robot_col_distance_MoveHold_1_gen3_via0': array([0.0660277], dtype=float32), 'robot_col_distance_MoveFree_2_gen3_via0': array([0.15880519], dtype=float32), 'robot_col_distance_pickplace_gen3_1': array([0.12492883], dtype=float32), 'robot_col_distance_pickplace_gen3_2': array([0.05000839], dtype=float32), 'kinematics_error_pickplace_gen3_1': array([-4.9591064e-05, -5.2958727e-05, -7.6159835e-05, -6.4000451e-06,\n",
      "       -7.4779714e-04,  2.1294865e-04], dtype=float32), 'kinematics_error_pickplace_gen3_2': array([ 8.9406967e-08,  1.0132790e-06, -5.6028366e-06,  3.5703164e-05,\n",
      "       -5.8664352e-04,  1.8799296e-04], dtype=float32), 'grasp_prob_movehold_1_gen3': array([-0.21958679], dtype=float32)}\n",
      "viol:  {'robot_col_distance_MoveFree_0_gen3_via0': array([ True]), 'robot_col_distance_MoveHold_1_gen3_via0': array([ True]), 'robot_col_distance_MoveFree_2_gen3_via0': array([ True]), 'robot_col_distance_pickplace_gen3_1': array([ True]), 'robot_col_distance_pickplace_gen3_2': array([ True]), 'kinematics_error_pickplace_gen3_1': array([False, False, False, False, False, False]), 'kinematics_error_pickplace_gen3_2': array([False, False, False, False, False, False]), 'grasp_prob_movehold_1_gen3': array([False])}\n",
      "  42  1.3136990e+01 2.20e-01 9.35e+00  -4.0 4.27e-02    -  1.00e+00 1.00e+00h  1\n",
      "cval:  {'robot_col_distance_MoveFree_0_gen3_via0': array([0.15880519], dtype=float32), 'robot_col_distance_MoveHold_1_gen3_via0': array([0.05685386], dtype=float32), 'robot_col_distance_MoveFree_2_gen3_via0': array([0.15880519], dtype=float32), 'robot_col_distance_pickplace_gen3_1': array([0.12485552], dtype=float32), 'robot_col_distance_pickplace_gen3_2': array([0.05000639], dtype=float32), 'kinematics_error_pickplace_gen3_1': array([-4.6521425e-05, -2.8789043e-05, -5.8472157e-05,  1.5711968e-04,\n",
      "       -1.0700116e-03,  1.3695235e-04], dtype=float32), 'kinematics_error_pickplace_gen3_2': array([ 1.5795231e-06,  3.2782555e-07, -5.2601099e-06,  1.8416338e-04,\n",
      "       -9.5011253e-04,  1.4407927e-04], dtype=float32), 'grasp_prob_movehold_1_gen3': array([-0.97610813], dtype=float32)}\n",
      "viol:  {'robot_col_distance_MoveFree_0_gen3_via0': array([ True]), 'robot_col_distance_MoveHold_1_gen3_via0': array([ True]), 'robot_col_distance_MoveFree_2_gen3_via0': array([ True]), 'robot_col_distance_pickplace_gen3_1': array([ True]), 'robot_col_distance_pickplace_gen3_2': array([ True]), 'kinematics_error_pickplace_gen3_1': array([False, False, False, False, False, False]), 'kinematics_error_pickplace_gen3_2': array([False, False, False, False, False, False]), 'grasp_prob_movehold_1_gen3': array([False])}\n",
      "  43  1.3210830e+01 2.29e-01 8.58e+00  -3.6 8.41e-02    -  1.00e+00 1.00e+00H  1\n",
      "cval:  {'robot_col_distance_MoveFree_0_gen3_via0': array([0.15880519], dtype=float32), 'robot_col_distance_MoveHold_1_gen3_via0': array([0.06389138], dtype=float32), 'robot_col_distance_MoveFree_2_gen3_via0': array([0.15880516], dtype=float32), 'robot_col_distance_pickplace_gen3_1': array([0.12431771], dtype=float32), 'robot_col_distance_pickplace_gen3_2': array([0.05004367], dtype=float32), 'kinematics_error_pickplace_gen3_1': array([-1.3732910e-04, -1.2314320e-04, -1.9462407e-04, -8.3658786e-05,\n",
      "       -4.2540039e-04,  2.6450940e-05], dtype=float32), 'kinematics_error_pickplace_gen3_2': array([-2.2053719e-06,  2.5629997e-06, -4.4241548e-05,  2.2843469e-05,\n",
      "       -4.5701840e-05, -1.6987316e-05], dtype=float32), 'grasp_prob_movehold_1_gen3': array([0.00503951], dtype=float32)}\n",
      "viol:  {'robot_col_distance_MoveFree_0_gen3_via0': array([ True]), 'robot_col_distance_MoveHold_1_gen3_via0': array([ True]), 'robot_col_distance_MoveFree_2_gen3_via0': array([ True]), 'robot_col_distance_pickplace_gen3_1': array([ True]), 'robot_col_distance_pickplace_gen3_2': array([ True]), 'kinematics_error_pickplace_gen3_1': array([False, False, False, False, False, False]), 'kinematics_error_pickplace_gen3_2': array([False, False, False, False, False, False]), 'grasp_prob_movehold_1_gen3': array([ True])}\n",
      "  44  1.3202479e+01 4.25e-04 7.71e+00  -3.7 1.23e-01    -  1.00e+00 1.00e+00h  1\n",
      "cval:  {'robot_col_distance_MoveFree_0_gen3_via0': array([0.15880519], dtype=float32), 'robot_col_distance_MoveHold_1_gen3_via0': array([0.0534775], dtype=float32), 'robot_col_distance_MoveFree_2_gen3_via0': array([0.15880519], dtype=float32), 'robot_col_distance_pickplace_gen3_1': array([0.1258857], dtype=float32), 'robot_col_distance_pickplace_gen3_2': array([0.05090597], dtype=float32), 'kinematics_error_pickplace_gen3_1': array([-5.2168965e-04, -5.4326653e-04, -7.9649687e-04, -9.8206139e-05,\n",
      "       -2.2714532e-03,  2.3882938e-04], dtype=float32), 'kinematics_error_pickplace_gen3_2': array([-7.1913004e-05,  7.6353550e-05, -9.6294284e-04,  6.0863799e-04,\n",
      "       -1.3350399e-03, -3.1386319e-04], dtype=float32), 'grasp_prob_movehold_1_gen3': array([-0.7944308], dtype=float32)}\n",
      "viol:  {'robot_col_distance_MoveFree_0_gen3_via0': array([ True]), 'robot_col_distance_MoveHold_1_gen3_via0': array([ True]), 'robot_col_distance_MoveFree_2_gen3_via0': array([ True]), 'robot_col_distance_pickplace_gen3_1': array([ True]), 'robot_col_distance_pickplace_gen3_2': array([ True]), 'kinematics_error_pickplace_gen3_1': array([False, False, False, False, False, False]), 'kinematics_error_pickplace_gen3_2': array([False, False, False, False, False, False]), 'grasp_prob_movehold_1_gen3': array([False])}\n",
      "  45  1.3200364e+01 7.94e-01 1.09e+01  -4.7 1.13e-01    -  1.00e+00 8.83e-01f  1\n",
      "cval:  {'robot_col_distance_MoveFree_0_gen3_via0': array([0.15880522], dtype=float32), 'robot_col_distance_MoveHold_1_gen3_via0': array([0.0794239], dtype=float32), 'robot_col_distance_MoveFree_2_gen3_via0': array([0.15880516], dtype=float32), 'robot_col_distance_pickplace_gen3_1': array([0.12530148], dtype=float32), 'robot_col_distance_pickplace_gen3_2': array([0.05015355], dtype=float32), 'kinematics_error_pickplace_gen3_1': array([-0.00036907, -0.00037608, -0.00055704, -0.00023751, -0.00179408,\n",
      "        0.00039178], dtype=float32), 'kinematics_error_pickplace_gen3_2': array([ 3.8743019e-07,  2.2113323e-05, -1.6279519e-04,  6.3627929e-05,\n",
      "       -7.2431535e-04,  2.3797144e-04], dtype=float32), 'grasp_prob_movehold_1_gen3': array([0.03704894], dtype=float32)}\n",
      "viol:  {'robot_col_distance_MoveFree_0_gen3_via0': array([ True]), 'robot_col_distance_MoveHold_1_gen3_via0': array([ True]), 'robot_col_distance_MoveFree_2_gen3_via0': array([ True]), 'robot_col_distance_pickplace_gen3_1': array([ True]), 'robot_col_distance_pickplace_gen3_2': array([ True]), 'kinematics_error_pickplace_gen3_1': array([False, False, False, False, False, False]), 'kinematics_error_pickplace_gen3_2': array([False, False, False, False, False, False]), 'grasp_prob_movehold_1_gen3': array([ True])}\n",
      "  46  1.3226800e+01 1.79e-03 1.92e+01  -4.8 1.54e-01    -  1.54e-01 1.00e+00h  1\n",
      "cval:  {'robot_col_distance_MoveFree_0_gen3_via0': array([0.15880519], dtype=float32), 'robot_col_distance_MoveHold_1_gen3_via0': array([0.05314016], dtype=float32), 'robot_col_distance_MoveFree_2_gen3_via0': array([0.15880519], dtype=float32), 'robot_col_distance_pickplace_gen3_1': array([0.12595809], dtype=float32), 'robot_col_distance_pickplace_gen3_2': array([0.05115321], dtype=float32), 'kinematics_error_pickplace_gen3_1': array([-0.00082973, -0.00060111, -0.00112283, -0.00013869, -0.00505426,\n",
      "        0.00068335], dtype=float32), 'kinematics_error_pickplace_gen3_2': array([-3.3983588e-04,  5.8531761e-05, -1.2352243e-03,  3.5257713e-04,\n",
      "       -3.7741296e-03, -8.4877196e-05], dtype=float32), 'grasp_prob_movehold_1_gen3': array([-1.7850802], dtype=float32)}\n",
      "viol:  {'robot_col_distance_MoveFree_0_gen3_via0': array([ True]), 'robot_col_distance_MoveHold_1_gen3_via0': array([ True]), 'robot_col_distance_MoveFree_2_gen3_via0': array([ True]), 'robot_col_distance_pickplace_gen3_1': array([ True]), 'robot_col_distance_pickplace_gen3_2': array([ True]), 'kinematics_error_pickplace_gen3_1': array([False, False, False, False, False, False]), 'kinematics_error_pickplace_gen3_2': array([False, False, False, False, False, False]), 'grasp_prob_movehold_1_gen3': array([False])}\n",
      "  47  1.3161829e+01 1.79e+00 3.95e+01  -4.8 7.80e-01    -  1.00e+00 1.37e-01f  1\n",
      "cval:  {'robot_col_distance_MoveFree_0_gen3_via0': array([0.15880519], dtype=float32), 'robot_col_distance_MoveHold_1_gen3_via0': array([0.1290502], dtype=float32), 'robot_col_distance_MoveFree_2_gen3_via0': array([0.15880513], dtype=float32), 'robot_col_distance_pickplace_gen3_1': array([0.1276786], dtype=float32), 'robot_col_distance_pickplace_gen3_2': array([0.05002162], dtype=float32), 'kinematics_error_pickplace_gen3_1': array([-0.00263238, -0.00196508, -0.00355275, -0.00151076, -0.00796819,\n",
      "        0.0002341 ], dtype=float32), 'kinematics_error_pickplace_gen3_2': array([-8.5830688e-06, -1.4230609e-05, -2.1658838e-05, -7.5116710e-05,\n",
      "       -4.6810482e-04,  1.6084305e-04], dtype=float32), 'grasp_prob_movehold_1_gen3': array([0.02539587], dtype=float32)}\n",
      "viol:  {'robot_col_distance_MoveFree_0_gen3_via0': array([ True]), 'robot_col_distance_MoveHold_1_gen3_via0': array([ True]), 'robot_col_distance_MoveFree_2_gen3_via0': array([ True]), 'robot_col_distance_pickplace_gen3_1': array([ True]), 'robot_col_distance_pickplace_gen3_2': array([ True]), 'kinematics_error_pickplace_gen3_1': array([False, False, False, False, False, False]), 'kinematics_error_pickplace_gen3_2': array([False, False, False, False, False, False]), 'grasp_prob_movehold_1_gen3': array([ True])}\n",
      "  48  1.3539116e+01 7.97e-03 5.98e+01  -4.8 3.11e-01    -  4.92e-04 1.00e+00h  1\n",
      "cval:  {'robot_col_distance_MoveFree_0_gen3_via0': array([0.15880519], dtype=float32), 'robot_col_distance_MoveHold_1_gen3_via0': array([0.15880525], dtype=float32), 'robot_col_distance_MoveFree_2_gen3_via0': array([0.15880519], dtype=float32), 'robot_col_distance_pickplace_gen3_1': array([0.12101883], dtype=float32), 'robot_col_distance_pickplace_gen3_2': array([0.05814466], dtype=float32), 'kinematics_error_pickplace_gen3_1': array([ 1.8566847e-05, -1.6283989e-04, -2.2375584e-04,  1.5208955e-03,\n",
      "       -1.7712744e-02, -6.6274923e-04], dtype=float32), 'kinematics_error_pickplace_gen3_2': array([-0.00220859,  0.00123328, -0.00878349,  0.0019775 , -0.0259842 ,\n",
      "       -0.00575672], dtype=float32), 'grasp_prob_movehold_1_gen3': array([-1.6971948], dtype=float32)}\n",
      "viol:  {'robot_col_distance_MoveFree_0_gen3_via0': array([ True]), 'robot_col_distance_MoveHold_1_gen3_via0': array([ True]), 'robot_col_distance_MoveFree_2_gen3_via0': array([ True]), 'robot_col_distance_pickplace_gen3_1': array([ True]), 'robot_col_distance_pickplace_gen3_2': array([ True]), 'kinematics_error_pickplace_gen3_1': array([False, False, False, False, False, False]), 'kinematics_error_pickplace_gen3_2': array([False, False, False, False, False, False]), 'grasp_prob_movehold_1_gen3': array([False])}\n",
      "  49  1.3739659e+01 1.33e-01 1.03e+01  -4.8 2.58e-01    -  1.00e+00 1.00e+00H  1\n",
      "cval:  {'robot_col_distance_MoveFree_0_gen3_via0': array([0.15880519], dtype=float32), 'robot_col_distance_MoveHold_1_gen3_via0': array([0.12808442], dtype=float32), 'robot_col_distance_MoveFree_2_gen3_via0': array([0.15880519], dtype=float32), 'robot_col_distance_pickplace_gen3_1': array([0.13927001], dtype=float32), 'robot_col_distance_pickplace_gen3_2': array([0.05825078], dtype=float32), 'kinematics_error_pickplace_gen3_1': array([-0.00821874,  0.002956  , -0.00838992, -0.00025751, -0.06035927,\n",
      "       -0.01303631], dtype=float32), 'kinematics_error_pickplace_gen3_2': array([-0.00500506, -0.00193161, -0.00874669, -0.00690497, -0.05691126,\n",
      "       -0.01033233], dtype=float32), 'grasp_prob_movehold_1_gen3': array([-11.598373], dtype=float32)}\n",
      "viol:  {'robot_col_distance_MoveFree_0_gen3_via0': array([ True]), 'robot_col_distance_MoveHold_1_gen3_via0': array([ True]), 'robot_col_distance_MoveFree_2_gen3_via0': array([ True]), 'robot_col_distance_pickplace_gen3_1': array([ True]), 'robot_col_distance_pickplace_gen3_2': array([ True]), 'kinematics_error_pickplace_gen3_1': array([False, False, False, False, False, False]), 'kinematics_error_pickplace_gen3_2': array([False, False, False, False, False, False]), 'grasp_prob_movehold_1_gen3': array([False])}\n",
      "iter    objective    inf_pr   inf_du lg(mu)  ||d||  lg(rg) alpha_du alpha_pr  ls\n",
      "  50  1.2993549e+01 1.16e+01 2.26e+01  -4.8 3.98e-01    -  6.94e-01 1.00e+00f  1\n",
      "cval:  {'robot_col_distance_MoveFree_0_gen3_via0': array([0.15880519], dtype=float32), 'robot_col_distance_MoveHold_1_gen3_via0': array([0.12808305], dtype=float32), 'robot_col_distance_MoveFree_2_gen3_via0': array([0.15880519], dtype=float32), 'robot_col_distance_pickplace_gen3_1': array([0.13927054], dtype=float32), 'robot_col_distance_pickplace_gen3_2': array([0.05825061], dtype=float32), 'kinematics_error_pickplace_gen3_1': array([-0.00821865,  0.00295582, -0.00838989, -0.00025764, -0.06035811,\n",
      "       -0.01303604], dtype=float32), 'kinematics_error_pickplace_gen3_2': array([-0.00500503, -0.00193143, -0.00874651, -0.00690481, -0.05691018,\n",
      "       -0.01033213], dtype=float32), 'grasp_prob_movehold_1_gen3': array([-11.599214], dtype=float32)}\n",
      "viol:  {'robot_col_distance_MoveFree_0_gen3_via0': array([ True]), 'robot_col_distance_MoveHold_1_gen3_via0': array([ True]), 'robot_col_distance_MoveFree_2_gen3_via0': array([ True]), 'robot_col_distance_pickplace_gen3_1': array([ True]), 'robot_col_distance_pickplace_gen3_2': array([ True]), 'kinematics_error_pickplace_gen3_1': array([False, False, False, False, False, False]), 'kinematics_error_pickplace_gen3_2': array([False, False, False, False, False, False]), 'grasp_prob_movehold_1_gen3': array([False])}\n",
      "  51  1.2993454e+01 1.16e+01 9.29e+01  -4.8 1.51e+01    -  1.00e+00 1.86e-05h  1\n",
      "cval:  {'robot_col_distance_MoveFree_0_gen3_via0': array([0.15880519], dtype=float32), 'robot_col_distance_MoveHold_1_gen3_via0': array([0.01188612], dtype=float32), 'robot_col_distance_MoveFree_2_gen3_via0': array([0.15880519], dtype=float32), 'robot_col_distance_pickplace_gen3_1': array([0.13711351], dtype=float32), 'robot_col_distance_pickplace_gen3_2': array([0.05734676], dtype=float32), 'kinematics_error_pickplace_gen3_1': array([-0.0071947 ,  0.00221312, -0.00749831, -0.0004886 , -0.05001359,\n",
      "       -0.01066394], dtype=float32), 'kinematics_error_pickplace_gen3_2': array([-0.00385359, -0.00160502, -0.00779479, -0.00492429, -0.04633884,\n",
      "       -0.00844451], dtype=float32), 'grasp_prob_movehold_1_gen3': array([-9.346756], dtype=float32)}\n",
      "viol:  {'robot_col_distance_MoveFree_0_gen3_via0': array([ True]), 'robot_col_distance_MoveHold_1_gen3_via0': array([False]), 'robot_col_distance_MoveFree_2_gen3_via0': array([ True]), 'robot_col_distance_pickplace_gen3_1': array([ True]), 'robot_col_distance_pickplace_gen3_2': array([ True]), 'kinematics_error_pickplace_gen3_1': array([False, False, False, False, False, False]), 'kinematics_error_pickplace_gen3_2': array([False, False, False, False, False, False]), 'grasp_prob_movehold_1_gen3': array([False])}\n",
      "  52  1.2921425e+01 9.35e+00 5.99e+01  -4.8 1.61e+00    -  6.58e-01 1.94e-01h  1\n",
      "cval:  {'robot_col_distance_MoveFree_0_gen3_via0': array([0.15880525], dtype=float32), 'robot_col_distance_MoveHold_1_gen3_via0': array([0.06727409], dtype=float32), 'robot_col_distance_MoveFree_2_gen3_via0': array([0.1588051], dtype=float32), 'robot_col_distance_pickplace_gen3_1': array([0.1506258], dtype=float32), 'robot_col_distance_pickplace_gen3_2': array([0.05184147], dtype=float32), 'kinematics_error_pickplace_gen3_1': array([-0.01340151, -0.01677069, -0.02409576,  0.00735982, -0.24084696,\n",
      "       -0.00883476], dtype=float32), 'kinematics_error_pickplace_gen3_2': array([-1.9231439e-04, -5.3961575e-04, -1.9102916e-03,  1.6287541e-02,\n",
      "       -1.9482900e-01, -1.8750967e-02], dtype=float32), 'grasp_prob_movehold_1_gen3': array([-24.174551], dtype=float32)}\n",
      "viol:  {'robot_col_distance_MoveFree_0_gen3_via0': array([ True]), 'robot_col_distance_MoveHold_1_gen3_via0': array([ True]), 'robot_col_distance_MoveFree_2_gen3_via0': array([ True]), 'robot_col_distance_pickplace_gen3_1': array([ True]), 'robot_col_distance_pickplace_gen3_2': array([ True]), 'kinematics_error_pickplace_gen3_1': array([False, False, False, False, False, False]), 'kinematics_error_pickplace_gen3_2': array([False, False, False, False, False, False]), 'grasp_prob_movehold_1_gen3': array([False])}\n",
      "  53  1.2858139e+01 1.73e+01 1.97e+01  -4.8 8.56e-01    -  1.00e+00 5.00e-01f  2\n",
      "cval:  {'robot_col_distance_MoveFree_0_gen3_via0': array([0.15880522], dtype=float32), 'robot_col_distance_MoveHold_1_gen3_via0': array([0.03017277], dtype=float32), 'robot_col_distance_MoveFree_2_gen3_via0': array([0.15880513], dtype=float32), 'robot_col_distance_pickplace_gen3_1': array([0.13809177], dtype=float32), 'robot_col_distance_pickplace_gen3_2': array([0.05386376], dtype=float32), 'kinematics_error_pickplace_gen3_1': array([-0.00620955, -0.00291529, -0.0087209 ,  0.00304215, -0.10280938,\n",
      "       -0.01098195], dtype=float32), 'kinematics_error_pickplace_gen3_2': array([-0.00182515, -0.00095415, -0.00407842,  0.00273002, -0.09077315,\n",
      "       -0.01271658], dtype=float32), 'grasp_prob_movehold_1_gen3': array([-14.539674], dtype=float32)}\n",
      "viol:  {'robot_col_distance_MoveFree_0_gen3_via0': array([ True]), 'robot_col_distance_MoveHold_1_gen3_via0': array([False]), 'robot_col_distance_MoveFree_2_gen3_via0': array([ True]), 'robot_col_distance_pickplace_gen3_1': array([ True]), 'robot_col_distance_pickplace_gen3_2': array([ True]), 'kinematics_error_pickplace_gen3_1': array([False, False, False, False, False, False]), 'kinematics_error_pickplace_gen3_2': array([False, False, False, False, False, False]), 'grasp_prob_movehold_1_gen3': array([False])}\n",
      "  54  1.2823615e+01 1.45e+01 1.67e+01  -4.8 4.07e-01    -  1.00e+00 9.48e-02h  1\n",
      "cval:  {'robot_col_distance_MoveFree_0_gen3_via0': array([0.15880522], dtype=float32), 'robot_col_distance_MoveHold_1_gen3_via0': array([0.04270679], dtype=float32), 'robot_col_distance_MoveFree_2_gen3_via0': array([0.15880513], dtype=float32), 'robot_col_distance_pickplace_gen3_1': array([0.143996], dtype=float32), 'robot_col_distance_pickplace_gen3_2': array([0.05252242], dtype=float32), 'kinematics_error_pickplace_gen3_1': array([-2.8288662e-03,  2.6750565e-04, -5.4217577e-03,  2.2615017e-02,\n",
      "       -3.8285780e-01, -4.7616463e-02], dtype=float32), 'kinematics_error_pickplace_gen3_2': array([ 0.00080812, -0.00220756, -0.0033727 ,  0.01947105, -0.37909943,\n",
      "       -0.04890209], dtype=float32), 'grasp_prob_movehold_1_gen3': array([-43.153484], dtype=float32)}\n",
      "viol:  {'robot_col_distance_MoveFree_0_gen3_via0': array([ True]), 'robot_col_distance_MoveHold_1_gen3_via0': array([False]), 'robot_col_distance_MoveFree_2_gen3_via0': array([ True]), 'robot_col_distance_pickplace_gen3_1': array([ True]), 'robot_col_distance_pickplace_gen3_2': array([ True]), 'kinematics_error_pickplace_gen3_1': array([False, False, False, False, False, False]), 'kinematics_error_pickplace_gen3_2': array([False, False, False, False, False, False]), 'grasp_prob_movehold_1_gen3': array([False])}\n",
      "  55  1.2337182e+01 4.32e+01 2.93e+01  -4.8 3.10e-01    -  1.00e+00 5.27e-01h  1\n",
      "cval:  {'robot_col_distance_MoveFree_0_gen3_via0': array([0.15880519], dtype=float32), 'robot_col_distance_MoveHold_1_gen3_via0': array([0.06663039], dtype=float32), 'robot_col_distance_MoveFree_2_gen3_via0': array([0.15880519], dtype=float32), 'robot_col_distance_pickplace_gen3_1': array([0.13715899], dtype=float32), 'robot_col_distance_pickplace_gen3_2': array([0.04477108], dtype=float32), 'kinematics_error_pickplace_gen3_1': array([-0.00181696, -0.00508943, -0.00512312, -0.00429093, -0.08892037,\n",
      "       -0.02373642], dtype=float32), 'kinematics_error_pickplace_gen3_2': array([ 5.08189201e-04, -9.28953290e-04,  1.36345625e-05, -2.78658629e-03,\n",
      "       -7.91764334e-02, -2.90045440e-02], dtype=float32), 'grasp_prob_movehold_1_gen3': array([-14.610353], dtype=float32)}\n",
      "viol:  {'robot_col_distance_MoveFree_0_gen3_via0': array([ True]), 'robot_col_distance_MoveHold_1_gen3_via0': array([ True]), 'robot_col_distance_MoveFree_2_gen3_via0': array([ True]), 'robot_col_distance_pickplace_gen3_1': array([ True]), 'robot_col_distance_pickplace_gen3_2': array([False]), 'kinematics_error_pickplace_gen3_1': array([False, False, False, False, False, False]), 'kinematics_error_pickplace_gen3_2': array([False, False, False, False, False, False]), 'grasp_prob_movehold_1_gen3': array([False])}\n",
      "  56  1.2410947e+01 1.46e+01 1.13e+01  -4.0 5.30e-01    -  4.29e-01 1.00e+00h  1\n",
      "cval:  {'robot_col_distance_MoveFree_0_gen3_via0': array([0.15880519], dtype=float32), 'robot_col_distance_MoveHold_1_gen3_via0': array([0.15880525], dtype=float32), 'robot_col_distance_MoveFree_2_gen3_via0': array([0.15880522], dtype=float32), 'robot_col_distance_pickplace_gen3_1': array([0.13221651], dtype=float32), 'robot_col_distance_pickplace_gen3_2': array([0.05066377], dtype=float32), 'kinematics_error_pickplace_gen3_1': array([-0.0030131 , -0.00481045, -0.00798713,  0.03380625, -0.49134225,\n",
      "       -0.03216719], dtype=float32), 'kinematics_error_pickplace_gen3_2': array([-9.5441937e-04, -1.2998134e-03, -1.3733655e-04,  2.7551606e-02,\n",
      "       -4.7596896e-01, -3.7932828e-02], dtype=float32), 'grasp_prob_movehold_1_gen3': array([-31.594025], dtype=float32)}\n",
      "viol:  {'robot_col_distance_MoveFree_0_gen3_via0': array([ True]), 'robot_col_distance_MoveHold_1_gen3_via0': array([ True]), 'robot_col_distance_MoveFree_2_gen3_via0': array([ True]), 'robot_col_distance_pickplace_gen3_1': array([ True]), 'robot_col_distance_pickplace_gen3_2': array([ True]), 'kinematics_error_pickplace_gen3_1': array([False, False, False, False, False, False]), 'kinematics_error_pickplace_gen3_2': array([False, False, False, False, False, False]), 'grasp_prob_movehold_1_gen3': array([False])}\n",
      "  57  1.2773490e+01 1.00e+01 1.75e+01  -2.0 1.19e+00    -  4.85e-01 2.50e-01h  3\n",
      "cval:  {'robot_col_distance_MoveFree_0_gen3_via0': array([0.15880522], dtype=float32), 'robot_col_distance_MoveHold_1_gen3_via0': array([0.06668323], dtype=float32), 'robot_col_distance_MoveFree_2_gen3_via0': array([0.15880516], dtype=float32), 'robot_col_distance_pickplace_gen3_1': array([0.13717073], dtype=float32), 'robot_col_distance_pickplace_gen3_2': array([0.05960894], dtype=float32), 'kinematics_error_pickplace_gen3_1': array([-0.01340562,  0.00947955, -0.0134113 , -0.00580994, -0.01962321,\n",
      "       -0.01789222], dtype=float32), 'kinematics_error_pickplace_gen3_2': array([-0.00427401, -0.00301437, -0.00972529, -0.01837792, -0.01167499,\n",
      "       -0.01001917], dtype=float32), 'grasp_prob_movehold_1_gen3': array([1.9237492], dtype=float32)}\n",
      "viol:  {'robot_col_distance_MoveFree_0_gen3_via0': array([ True]), 'robot_col_distance_MoveHold_1_gen3_via0': array([ True]), 'robot_col_distance_MoveFree_2_gen3_via0': array([ True]), 'robot_col_distance_pickplace_gen3_1': array([ True]), 'robot_col_distance_pickplace_gen3_2': array([ True]), 'kinematics_error_pickplace_gen3_1': array([False, False, False, False, False, False]), 'kinematics_error_pickplace_gen3_2': array([False, False, False, False, False, False]), 'grasp_prob_movehold_1_gen3': array([ True])}\n",
      "  58  1.3470818e+01 1.96e-02 2.59e+00  -2.0 3.40e-01    -  1.00e+00 1.00e+00h  1\n",
      "cval:  {'robot_col_distance_MoveFree_0_gen3_via0': array([0.15880522], dtype=float32), 'robot_col_distance_MoveHold_1_gen3_via0': array([0.06455231], dtype=float32), 'robot_col_distance_MoveFree_2_gen3_via0': array([0.15880516], dtype=float32), 'robot_col_distance_pickplace_gen3_1': array([0.13307807], dtype=float32), 'robot_col_distance_pickplace_gen3_2': array([0.05439347], dtype=float32), 'kinematics_error_pickplace_gen3_1': array([-0.00504363,  0.00331479, -0.00506538,  0.0010181 , -0.03816771,\n",
      "       -0.01058112], dtype=float32), 'kinematics_error_pickplace_gen3_2': array([-0.00195828, -0.0010228 , -0.00447682, -0.00355818, -0.0357141 ,\n",
      "       -0.00863356], dtype=float32), 'grasp_prob_movehold_1_gen3': array([-9.686091], dtype=float32)}\n",
      "viol:  {'robot_col_distance_MoveFree_0_gen3_via0': array([ True]), 'robot_col_distance_MoveHold_1_gen3_via0': array([ True]), 'robot_col_distance_MoveFree_2_gen3_via0': array([ True]), 'robot_col_distance_pickplace_gen3_1': array([ True]), 'robot_col_distance_pickplace_gen3_2': array([ True]), 'kinematics_error_pickplace_gen3_1': array([False, False, False, False, False, False]), 'kinematics_error_pickplace_gen3_2': array([False, False, False, False, False, False]), 'grasp_prob_movehold_1_gen3': array([False])}\n",
      "  59  1.3016678e+01 9.69e+00 4.37e+01  -2.0 3.38e-01    -  1.00e+00 6.68e-01f  1\n",
      "cval:  {'robot_col_distance_MoveFree_0_gen3_via0': array([0.15880519], dtype=float32), 'robot_col_distance_MoveHold_1_gen3_via0': array([0.07367074], dtype=float32), 'robot_col_distance_MoveFree_2_gen3_via0': array([0.15880519], dtype=float32), 'robot_col_distance_pickplace_gen3_1': array([0.12934953], dtype=float32), 'robot_col_distance_pickplace_gen3_2': array([0.05153066], dtype=float32), 'kinematics_error_pickplace_gen3_1': array([-0.00233993,  0.00027826, -0.00252937,  0.00296751, -0.0441907 ,\n",
      "       -0.00688651], dtype=float32), 'kinematics_error_pickplace_gen3_2': array([-0.0009574 , -0.00017092, -0.00153281,  0.00228077, -0.04136481,\n",
      "       -0.00641356], dtype=float32), 'grasp_prob_movehold_1_gen3': array([-5.542061], dtype=float32)}\n",
      "viol:  {'robot_col_distance_MoveFree_0_gen3_via0': array([ True]), 'robot_col_distance_MoveHold_1_gen3_via0': array([ True]), 'robot_col_distance_MoveFree_2_gen3_via0': array([ True]), 'robot_col_distance_pickplace_gen3_1': array([ True]), 'robot_col_distance_pickplace_gen3_2': array([ True]), 'kinematics_error_pickplace_gen3_1': array([False, False, False, False, False, False]), 'kinematics_error_pickplace_gen3_2': array([False, False, False, False, False, False]), 'grasp_prob_movehold_1_gen3': array([False])}\n",
      "iter    objective    inf_pr   inf_du lg(mu)  ||d||  lg(rg) alpha_du alpha_pr  ls\n",
      "  60  1.2823488e+01 5.54e+00 3.71e+00  -2.0 1.68e-01    -  1.00e+00 1.00e+00h  1\n",
      "cval:  {'robot_col_distance_MoveFree_0_gen3_via0': array([0.15880519], dtype=float32), 'robot_col_distance_MoveHold_1_gen3_via0': array([0.07800022], dtype=float32), 'robot_col_distance_MoveFree_2_gen3_via0': array([0.15880519], dtype=float32), 'robot_col_distance_pickplace_gen3_1': array([0.12603411], dtype=float32), 'robot_col_distance_pickplace_gen3_2': array([0.05231872], dtype=float32), 'kinematics_error_pickplace_gen3_1': array([-0.00169793,  0.00084898, -0.00188458, -0.00193563, -0.00108633,\n",
      "       -0.00524863], dtype=float32), 'kinematics_error_pickplace_gen3_2': array([-0.00145823, -0.00043128, -0.00239688, -0.00408332, -0.00120177,\n",
      "       -0.00584421], dtype=float32), 'grasp_prob_movehold_1_gen3': array([1.0599434], dtype=float32)}\n",
      "viol:  {'robot_col_distance_MoveFree_0_gen3_via0': array([ True]), 'robot_col_distance_MoveHold_1_gen3_via0': array([ True]), 'robot_col_distance_MoveFree_2_gen3_via0': array([ True]), 'robot_col_distance_pickplace_gen3_1': array([ True]), 'robot_col_distance_pickplace_gen3_2': array([ True]), 'kinematics_error_pickplace_gen3_1': array([False, False, False, False, False, False]), 'kinematics_error_pickplace_gen3_2': array([False, False, False, False, False, False]), 'grasp_prob_movehold_1_gen3': array([ True])}\n",
      "  61  1.3210180e+01 5.84e-03 1.73e+01  -2.4 1.31e-01    -  1.00e+00 9.99e-01h  1\n",
      "cval:  {'robot_col_distance_MoveFree_0_gen3_via0': array([0.15880522], dtype=float32), 'robot_col_distance_MoveHold_1_gen3_via0': array([0.15880519], dtype=float32), 'robot_col_distance_MoveFree_2_gen3_via0': array([0.15880513], dtype=float32), 'robot_col_distance_pickplace_gen3_1': array([0.13010418], dtype=float32), 'robot_col_distance_pickplace_gen3_2': array([0.05004322], dtype=float32), 'kinematics_error_pickplace_gen3_1': array([-0.00273842, -0.00277945, -0.0041288 , -0.00133956, -0.01207051,\n",
      "        0.0014681 ], dtype=float32), 'kinematics_error_pickplace_gen3_2': array([ 4.3421984e-05, -5.1856041e-06, -1.2293458e-05,  4.6771832e-04,\n",
      "       -3.3071833e-03,  6.7032967e-04], dtype=float32), 'grasp_prob_movehold_1_gen3': array([-2.7830672], dtype=float32)}\n",
      "viol:  {'robot_col_distance_MoveFree_0_gen3_via0': array([ True]), 'robot_col_distance_MoveHold_1_gen3_via0': array([ True]), 'robot_col_distance_MoveFree_2_gen3_via0': array([ True]), 'robot_col_distance_pickplace_gen3_1': array([ True]), 'robot_col_distance_pickplace_gen3_2': array([ True]), 'kinematics_error_pickplace_gen3_1': array([False, False, False, False, False, False]), 'kinematics_error_pickplace_gen3_2': array([False, False, False, False, False, False]), 'grasp_prob_movehold_1_gen3': array([False])}\n",
      "  62  1.5391571e+01 4.81e-01 1.30e+01  -2.5 4.68e-01    -  2.27e-01 1.00e+00H  1\n",
      "cval:  {'robot_col_distance_MoveFree_0_gen3_via0': array([0.15880519], dtype=float32), 'robot_col_distance_MoveHold_1_gen3_via0': array([0.04388416], dtype=float32), 'robot_col_distance_MoveFree_2_gen3_via0': array([0.15880516], dtype=float32), 'robot_col_distance_pickplace_gen3_1': array([0.12998492], dtype=float32), 'robot_col_distance_pickplace_gen3_2': array([0.05010003], dtype=float32), 'kinematics_error_pickplace_gen3_1': array([-0.0042924 , -0.00229794, -0.00517759, -0.00292966, -0.01158385,\n",
      "       -0.00065141], dtype=float32), 'kinematics_error_pickplace_gen3_2': array([-3.7491322e-05, -1.0430813e-06, -8.3506107e-05, -6.3344822e-05,\n",
      "       -8.2063657e-04,  3.0431146e-04], dtype=float32), 'grasp_prob_movehold_1_gen3': array([0.12048367], dtype=float32)}\n",
      "viol:  {'robot_col_distance_MoveFree_0_gen3_via0': array([ True]), 'robot_col_distance_MoveHold_1_gen3_via0': array([False]), 'robot_col_distance_MoveFree_2_gen3_via0': array([ True]), 'robot_col_distance_pickplace_gen3_1': array([ True]), 'robot_col_distance_pickplace_gen3_2': array([ True]), 'kinematics_error_pickplace_gen3_1': array([False, False, False, False, False, False]), 'kinematics_error_pickplace_gen3_2': array([False, False, False, False, False, False]), 'grasp_prob_movehold_1_gen3': array([ True])}\n",
      "  63  1.3177628e+01 1.16e-02 1.05e+01  -2.5 4.99e-01    -  1.00e+00 1.00e+00f  1\n",
      "cval:  {'robot_col_distance_MoveFree_0_gen3_via0': array([0.15880519], dtype=float32), 'robot_col_distance_MoveHold_1_gen3_via0': array([0.09483582], dtype=float32), 'robot_col_distance_MoveFree_2_gen3_via0': array([0.15880519], dtype=float32), 'robot_col_distance_pickplace_gen3_1': array([0.1250677], dtype=float32), 'robot_col_distance_pickplace_gen3_2': array([0.05023834], dtype=float32), 'kinematics_error_pickplace_gen3_1': array([-1.4543533e-04,  2.1487474e-05, -2.1083653e-04,  1.2023622e-03,\n",
      "       -2.4830319e-03,  3.7485285e-04], dtype=float32), 'kinematics_error_pickplace_gen3_2': array([-1.21712685e-04, -5.96046448e-07, -2.28345394e-04,  1.15116034e-03,\n",
      "       -2.39649625e-03,  4.13015834e-04], dtype=float32), 'grasp_prob_movehold_1_gen3': array([-3.3655183], dtype=float32)}\n",
      "viol:  {'robot_col_distance_MoveFree_0_gen3_via0': array([ True]), 'robot_col_distance_MoveHold_1_gen3_via0': array([ True]), 'robot_col_distance_MoveFree_2_gen3_via0': array([ True]), 'robot_col_distance_pickplace_gen3_1': array([ True]), 'robot_col_distance_pickplace_gen3_2': array([ True]), 'kinematics_error_pickplace_gen3_1': array([False, False, False, False, False, False]), 'kinematics_error_pickplace_gen3_2': array([False, False, False, False, False, False]), 'grasp_prob_movehold_1_gen3': array([False])}\n",
      "  64  1.3083165e+01 3.37e+00 2.45e+00  -2.5 1.18e-01    -  1.00e+00 1.00e+00h  1\n",
      "cval:  {'robot_col_distance_MoveFree_0_gen3_via0': array([0.15880519], dtype=float32), 'robot_col_distance_MoveHold_1_gen3_via0': array([0.07627743], dtype=float32), 'robot_col_distance_MoveFree_2_gen3_via0': array([0.15880516], dtype=float32), 'robot_col_distance_pickplace_gen3_1': array([0.12373054], dtype=float32), 'robot_col_distance_pickplace_gen3_2': array([0.0502834], dtype=float32), 'kinematics_error_pickplace_gen3_1': array([-1.8265843e-04,  5.5551529e-05, -1.8066168e-04, -1.0700878e-03,\n",
      "        8.8669144e-04, -3.4700569e-03], dtype=float32), 'kinematics_error_pickplace_gen3_2': array([-1.5753508e-04, -9.2387199e-06, -2.7510524e-04, -1.2402856e-03,\n",
      "        8.5018738e-04, -3.5004385e-03], dtype=float32), 'grasp_prob_movehold_1_gen3': array([1.3250968], dtype=float32)}\n",
      "viol:  {'robot_col_distance_MoveFree_0_gen3_via0': array([ True]), 'robot_col_distance_MoveHold_1_gen3_via0': array([ True]), 'robot_col_distance_MoveFree_2_gen3_via0': array([ True]), 'robot_col_distance_pickplace_gen3_1': array([ True]), 'robot_col_distance_pickplace_gen3_2': array([ True]), 'kinematics_error_pickplace_gen3_1': array([False, False, False, False, False, False]), 'kinematics_error_pickplace_gen3_2': array([False, False, False, False, False, False]), 'grasp_prob_movehold_1_gen3': array([ True])}\n",
      "  65  1.3146858e+01 1.25e+00 1.28e+01  -2.5 4.69e-02    -  1.00e+00 5.00e-01h  2\n",
      "cval:  {'robot_col_distance_MoveFree_0_gen3_via0': array([0.15880519], dtype=float32), 'robot_col_distance_MoveHold_1_gen3_via0': array([0.07125285], dtype=float32), 'robot_col_distance_MoveFree_2_gen3_via0': array([0.15880516], dtype=float32), 'robot_col_distance_pickplace_gen3_1': array([0.12461948], dtype=float32), 'robot_col_distance_pickplace_gen3_2': array([0.05003154], dtype=float32), 'kinematics_error_pickplace_gen3_1': array([-1.5467405e-05, -3.3974648e-06, -1.4901161e-05, -4.1387964e-05,\n",
      "       -6.9455686e-04,  2.9904247e-04], dtype=float32), 'kinematics_error_pickplace_gen3_2': array([-1.7285347e-06, -4.3213367e-07, -6.0200691e-06, -3.4973007e-05,\n",
      "       -6.6721404e-04,  3.0741078e-04], dtype=float32), 'grasp_prob_movehold_1_gen3': array([0.13469723], dtype=float32)}\n",
      "viol:  {'robot_col_distance_MoveFree_0_gen3_via0': array([ True]), 'robot_col_distance_MoveHold_1_gen3_via0': array([ True]), 'robot_col_distance_MoveFree_2_gen3_via0': array([ True]), 'robot_col_distance_pickplace_gen3_1': array([ True]), 'robot_col_distance_pickplace_gen3_2': array([ True]), 'kinematics_error_pickplace_gen3_1': array([False, False, False, False, False, False]), 'kinematics_error_pickplace_gen3_2': array([False, False, False, False, False, False]), 'grasp_prob_movehold_1_gen3': array([ True])}\n",
      "  66  1.3147728e+01 6.95e-04 5.67e+00  -2.5 3.22e-02    -  1.00e+00 1.00e+00h  1\n",
      "cval:  {'robot_col_distance_MoveFree_0_gen3_via0': array([0.15880519], dtype=float32), 'robot_col_distance_MoveHold_1_gen3_via0': array([0.05056661], dtype=float32), 'robot_col_distance_MoveFree_2_gen3_via0': array([0.15880516], dtype=float32), 'robot_col_distance_pickplace_gen3_1': array([0.13285547], dtype=float32), 'robot_col_distance_pickplace_gen3_2': array([0.0503796], dtype=float32), 'kinematics_error_pickplace_gen3_1': array([ 1.19924545e-04,  7.75754452e-05, -9.14037228e-05,  1.85526814e-02,\n",
      "       -1.45184264e-01, -2.48250794e-02], dtype=float32), 'kinematics_error_pickplace_gen3_2': array([ 2.6577711e-04, -8.8542700e-05, -3.8518012e-04,  1.8152326e-02,\n",
      "       -1.4569694e-01, -2.4769200e-02], dtype=float32), 'grasp_prob_movehold_1_gen3': array([-25.73237], dtype=float32)}\n",
      "viol:  {'robot_col_distance_MoveFree_0_gen3_via0': array([ True]), 'robot_col_distance_MoveHold_1_gen3_via0': array([ True]), 'robot_col_distance_MoveFree_2_gen3_via0': array([ True]), 'robot_col_distance_pickplace_gen3_1': array([ True]), 'robot_col_distance_pickplace_gen3_2': array([ True]), 'kinematics_error_pickplace_gen3_1': array([False, False, False, False, False, False]), 'kinematics_error_pickplace_gen3_2': array([False, False, False, False, False, False]), 'grasp_prob_movehold_1_gen3': array([False])}\n",
      "  67  1.2822900e+01 2.57e+01 3.67e+01  -3.2 1.85e-01    -  1.00e+00 5.85e-01f  1\n",
      "cval:  {'robot_col_distance_MoveFree_0_gen3_via0': array([0.15880519], dtype=float32), 'robot_col_distance_MoveHold_1_gen3_via0': array([0.05124426], dtype=float32), 'robot_col_distance_MoveFree_2_gen3_via0': array([0.15880519], dtype=float32), 'robot_col_distance_pickplace_gen3_1': array([0.13077593], dtype=float32), 'robot_col_distance_pickplace_gen3_2': array([0.05033123], dtype=float32), 'kinematics_error_pickplace_gen3_1': array([ 8.7887049e-05,  8.3833933e-05, -9.5829368e-05,  1.6208608e-02,\n",
      "       -1.4451382e-01, -2.1067869e-02], dtype=float32), 'kinematics_error_pickplace_gen3_2': array([ 2.2959709e-04, -7.3865056e-05, -3.3812970e-04,  1.5852546e-02,\n",
      "       -1.4493680e-01, -2.0984296e-02], dtype=float32), 'grasp_prob_movehold_1_gen3': array([-22.190186], dtype=float32)}\n",
      "viol:  {'robot_col_distance_MoveFree_0_gen3_via0': array([ True]), 'robot_col_distance_MoveHold_1_gen3_via0': array([ True]), 'robot_col_distance_MoveFree_2_gen3_via0': array([ True]), 'robot_col_distance_pickplace_gen3_1': array([ True]), 'robot_col_distance_pickplace_gen3_2': array([ True]), 'kinematics_error_pickplace_gen3_1': array([False, False, False, False, False, False]), 'kinematics_error_pickplace_gen3_2': array([False, False, False, False, False, False]), 'grasp_prob_movehold_1_gen3': array([False])}\n",
      "  68  1.2795935e+01 2.22e+01 3.36e+01  -3.3 2.04e-01    -  6.74e-02 1.37e-01h  1\n",
      "cval:  {'robot_col_distance_MoveFree_0_gen3_via0': array([0.15880519], dtype=float32), 'robot_col_distance_MoveHold_1_gen3_via0': array([0.05033302], dtype=float32), 'robot_col_distance_MoveFree_2_gen3_via0': array([0.15880519], dtype=float32), 'robot_col_distance_pickplace_gen3_1': array([0.13075775], dtype=float32), 'robot_col_distance_pickplace_gen3_2': array([0.05033034], dtype=float32), 'kinematics_error_pickplace_gen3_1': array([ 8.7529421e-05,  8.3506107e-05, -9.5441937e-05,  1.6156813e-02,\n",
      "       -1.4405201e-01, -2.1000288e-02], dtype=float32), 'kinematics_error_pickplace_gen3_2': array([ 2.2882223e-04, -7.3775649e-05, -3.3720583e-04,  1.5802056e-02,\n",
      "       -1.4447339e-01, -2.0917162e-02], dtype=float32), 'grasp_prob_movehold_1_gen3': array([-22.119183], dtype=float32)}\n",
      "viol:  {'robot_col_distance_MoveFree_0_gen3_via0': array([ True]), 'robot_col_distance_MoveHold_1_gen3_via0': array([ True]), 'robot_col_distance_MoveFree_2_gen3_via0': array([ True]), 'robot_col_distance_pickplace_gen3_1': array([ True]), 'robot_col_distance_pickplace_gen3_2': array([ True]), 'kinematics_error_pickplace_gen3_1': array([False, False, False, False, False, False]), 'kinematics_error_pickplace_gen3_2': array([False, False, False, False, False, False]), 'grasp_prob_movehold_1_gen3': array([False])}\n",
      "  69  1.2794921e+01 2.21e+01 3.35e+01  -3.3 6.68e-01    -  7.96e-01 3.20e-03h  1\n",
      "cval:  {'robot_col_distance_MoveFree_0_gen3_via0': array([0.15880522], dtype=float32), 'robot_col_distance_MoveHold_1_gen3_via0': array([0.05191001], dtype=float32), 'robot_col_distance_MoveFree_2_gen3_via0': array([0.15880519], dtype=float32), 'robot_col_distance_pickplace_gen3_1': array([0.13572243], dtype=float32), 'robot_col_distance_pickplace_gen3_2': array([0.0459182], dtype=float32), 'kinematics_error_pickplace_gen3_1': array([ 0.00390494, -0.00133532, -0.00532602,  0.02498673, -0.3024158 ,\n",
      "       -0.04403095], dtype=float32), 'kinematics_error_pickplace_gen3_2': array([ 0.00848058, -0.00641283, -0.002522  ,  0.02659952, -0.3049208 ,\n",
      "       -0.05350071], dtype=float32), 'grasp_prob_movehold_1_gen3': array([-26.877796], dtype=float32)}\n",
      "viol:  {'robot_col_distance_MoveFree_0_gen3_via0': array([ True]), 'robot_col_distance_MoveHold_1_gen3_via0': array([ True]), 'robot_col_distance_MoveFree_2_gen3_via0': array([ True]), 'robot_col_distance_pickplace_gen3_1': array([ True]), 'robot_col_distance_pickplace_gen3_2': array([False]), 'kinematics_error_pickplace_gen3_1': array([False, False, False, False, False, False]), 'kinematics_error_pickplace_gen3_2': array([False, False, False, False, False, False]), 'grasp_prob_movehold_1_gen3': array([False])}\n",
      "iter    objective    inf_pr   inf_du lg(mu)  ||d||  lg(rg) alpha_du alpha_pr  ls\n",
      "  70  1.1918573e+01 2.69e+01 1.32e+01  -3.3 3.21e-01    -  6.95e-01 1.00e+00f  1\n",
      "cval:  {'robot_col_distance_MoveFree_0_gen3_via0': array([0.15880519], dtype=float32), 'robot_col_distance_MoveHold_1_gen3_via0': array([0.05225885], dtype=float32), 'robot_col_distance_MoveFree_2_gen3_via0': array([0.15880519], dtype=float32), 'robot_col_distance_pickplace_gen3_1': array([0.12245303], dtype=float32), 'robot_col_distance_pickplace_gen3_2': array([0.03018606], dtype=float32), 'kinematics_error_pickplace_gen3_1': array([ 8.2850456e-06, -1.9313991e-03, -1.8182248e-03, -1.1531040e-02,\n",
      "       -5.2727737e-02,  7.7137337e-03], dtype=float32), 'kinematics_error_pickplace_gen3_2': array([ 0.00409377, -0.0022327 ,  0.00172862, -0.00778535, -0.04755277,\n",
      "        0.00349663], dtype=float32), 'grasp_prob_movehold_1_gen3': array([-1.4718285], dtype=float32)}\n",
      "viol:  {'robot_col_distance_MoveFree_0_gen3_via0': array([ True]), 'robot_col_distance_MoveHold_1_gen3_via0': array([ True]), 'robot_col_distance_MoveFree_2_gen3_via0': array([ True]), 'robot_col_distance_pickplace_gen3_1': array([ True]), 'robot_col_distance_pickplace_gen3_2': array([False]), 'kinematics_error_pickplace_gen3_1': array([False, False, False, False, False, False]), 'kinematics_error_pickplace_gen3_2': array([False, False, False, False, False, False]), 'grasp_prob_movehold_1_gen3': array([False])}\n",
      "  71  1.2098379e+01 1.47e+00 7.50e+00  -3.3 2.64e+00    -  1.00e+00 1.00e+00h  1\n",
      "cval:  {'robot_col_distance_MoveFree_0_gen3_via0': array([0.15880519], dtype=float32), 'robot_col_distance_MoveHold_1_gen3_via0': array([0.15880525], dtype=float32), 'robot_col_distance_MoveFree_2_gen3_via0': array([0.15880519], dtype=float32), 'robot_col_distance_pickplace_gen3_1': array([0.13420835], dtype=float32), 'robot_col_distance_pickplace_gen3_2': array([0.0488092], dtype=float32), 'kinematics_error_pickplace_gen3_1': array([ 0.00387469,  0.00041863, -0.00305146,  0.03624033, -0.024816  ,\n",
      "       -0.03836171], dtype=float32), 'kinematics_error_pickplace_gen3_2': array([ 0.00241336, -0.00379282,  0.00220472,  0.02421824, -0.01682604,\n",
      "       -0.03675011], dtype=float32), 'grasp_prob_movehold_1_gen3': array([-16.429575], dtype=float32)}\n",
      "viol:  {'robot_col_distance_MoveFree_0_gen3_via0': array([ True]), 'robot_col_distance_MoveHold_1_gen3_via0': array([ True]), 'robot_col_distance_MoveFree_2_gen3_via0': array([ True]), 'robot_col_distance_pickplace_gen3_1': array([ True]), 'robot_col_distance_pickplace_gen3_2': array([False]), 'kinematics_error_pickplace_gen3_1': array([False, False, False, False, False, False]), 'kinematics_error_pickplace_gen3_2': array([False, False, False, False, False, False]), 'grasp_prob_movehold_1_gen3': array([False])}\n",
      "  72  1.2118940e+01 9.40e-01 5.15e+01  -2.3 4.76e+00    -  3.57e-01 1.25e-01h  4\n",
      "cval:  {'robot_col_distance_MoveFree_0_gen3_via0': array([0.15880522], dtype=float32), 'robot_col_distance_MoveHold_1_gen3_via0': array([0.07221079], dtype=float32), 'robot_col_distance_MoveFree_2_gen3_via0': array([0.15880516], dtype=float32), 'robot_col_distance_pickplace_gen3_1': array([0.12761343], dtype=float32), 'robot_col_distance_pickplace_gen3_2': array([0.04929027], dtype=float32), 'kinematics_error_pickplace_gen3_1': array([ 0.00117344,  0.00289419, -0.00179951,  0.00143504, -0.0269978 ,\n",
      "       -0.00535754], dtype=float32), 'kinematics_error_pickplace_gen3_2': array([ 4.0672421e-03, -1.8056780e-03,  8.0198050e-05, -4.5416568e-04,\n",
      "       -2.6353024e-02, -2.2124089e-03], dtype=float32), 'grasp_prob_movehold_1_gen3': array([-3.5238574], dtype=float32)}\n",
      "viol:  {'robot_col_distance_MoveFree_0_gen3_via0': array([ True]), 'robot_col_distance_MoveHold_1_gen3_via0': array([ True]), 'robot_col_distance_MoveFree_2_gen3_via0': array([ True]), 'robot_col_distance_pickplace_gen3_1': array([ True]), 'robot_col_distance_pickplace_gen3_2': array([False]), 'kinematics_error_pickplace_gen3_1': array([False, False, False, False, False, False]), 'kinematics_error_pickplace_gen3_2': array([False, False, False, False, False, False]), 'grasp_prob_movehold_1_gen3': array([False])}\n",
      "  73  1.2912425e+01 3.52e+00 3.41e+01  -2.7 2.80e+00    -  9.14e-01 9.54e-01h  1\n",
      "cval:  {'robot_col_distance_MoveFree_0_gen3_via0': array([0.15880522], dtype=float32), 'robot_col_distance_MoveHold_1_gen3_via0': array([0.05074829], dtype=float32), 'robot_col_distance_MoveFree_2_gen3_via0': array([0.15880519], dtype=float32), 'robot_col_distance_pickplace_gen3_1': array([0.12786761], dtype=float32), 'robot_col_distance_pickplace_gen3_2': array([0.05015895], dtype=float32), 'kinematics_error_pickplace_gen3_1': array([-0.00017783,  0.00034931, -0.00045361,  0.00290795, -0.07561811,\n",
      "       -0.01359167], dtype=float32), 'kinematics_error_pickplace_gen3_2': array([ 0.00055176, -0.00042284, -0.00013474,  0.00304254, -0.0756225 ,\n",
      "       -0.01285153], dtype=float32), 'grasp_prob_movehold_1_gen3': array([-9.520056], dtype=float32)}\n",
      "viol:  {'robot_col_distance_MoveFree_0_gen3_via0': array([ True]), 'robot_col_distance_MoveHold_1_gen3_via0': array([ True]), 'robot_col_distance_MoveFree_2_gen3_via0': array([ True]), 'robot_col_distance_pickplace_gen3_1': array([ True]), 'robot_col_distance_pickplace_gen3_2': array([ True]), 'kinematics_error_pickplace_gen3_1': array([False, False, False, False, False, False]), 'kinematics_error_pickplace_gen3_2': array([False, False, False, False, False, False]), 'grasp_prob_movehold_1_gen3': array([False])}\n",
      "  74  1.2495686e+01 9.52e+00 7.86e+00  -2.9 4.06e-01    -  1.00e+00 1.00e+00h  1\n",
      "cval:  {'robot_col_distance_MoveFree_0_gen3_via0': array([0.15880519], dtype=float32), 'robot_col_distance_MoveHold_1_gen3_via0': array([0.15880525], dtype=float32), 'robot_col_distance_MoveFree_2_gen3_via0': array([0.15880519], dtype=float32), 'robot_col_distance_pickplace_gen3_1': array([0.12624311], dtype=float32), 'robot_col_distance_pickplace_gen3_2': array([0.05070522], dtype=float32), 'kinematics_error_pickplace_gen3_1': array([ 5.6707859e-04, -1.6834736e-03, -1.1028349e-03, -6.3761894e-05,\n",
      "       -2.9345233e-02, -1.1651039e-03], dtype=float32), 'kinematics_error_pickplace_gen3_2': array([ 0.00058639, -0.00051101, -0.0003539 , -0.00054875, -0.02783467,\n",
      "       -0.00333579], dtype=float32), 'grasp_prob_movehold_1_gen3': array([-1.0723202], dtype=float32)}\n",
      "viol:  {'robot_col_distance_MoveFree_0_gen3_via0': array([ True]), 'robot_col_distance_MoveHold_1_gen3_via0': array([ True]), 'robot_col_distance_MoveFree_2_gen3_via0': array([ True]), 'robot_col_distance_pickplace_gen3_1': array([ True]), 'robot_col_distance_pickplace_gen3_2': array([ True]), 'kinematics_error_pickplace_gen3_1': array([False, False, False, False, False, False]), 'kinematics_error_pickplace_gen3_2': array([False, False, False, False, False, False]), 'grasp_prob_movehold_1_gen3': array([False])}\n",
      "  75  1.3901037e+01 1.07e+00 6.88e+00  -1.7 6.21e-01    -  1.00e+00 1.00e+00h  1\n",
      "cval:  {'robot_col_distance_MoveFree_0_gen3_via0': array([0.15880519], dtype=float32), 'robot_col_distance_MoveHold_1_gen3_via0': array([0.15880525], dtype=float32), 'robot_col_distance_MoveFree_2_gen3_via0': array([0.15880519], dtype=float32), 'robot_col_distance_pickplace_gen3_1': array([0.12479493], dtype=float32), 'robot_col_distance_pickplace_gen3_2': array([0.05035684], dtype=float32), 'kinematics_error_pickplace_gen3_1': array([-3.7524104e-04,  2.7030706e-05, -3.8449466e-04,  5.2808004e-04,\n",
      "       -4.3801488e-03,  8.5575425e-04], dtype=float32), 'kinematics_error_pickplace_gen3_2': array([ 1.8477440e-06, -3.3512712e-05, -6.3940883e-05,  5.8086339e-04,\n",
      "       -3.7132432e-03,  1.1795040e-03], dtype=float32), 'grasp_prob_movehold_1_gen3': array([-2.3078623], dtype=float32)}\n",
      "viol:  {'robot_col_distance_MoveFree_0_gen3_via0': array([ True]), 'robot_col_distance_MoveHold_1_gen3_via0': array([ True]), 'robot_col_distance_MoveFree_2_gen3_via0': array([ True]), 'robot_col_distance_pickplace_gen3_1': array([ True]), 'robot_col_distance_pickplace_gen3_2': array([ True]), 'kinematics_error_pickplace_gen3_1': array([False, False, False, False, False, False]), 'kinematics_error_pickplace_gen3_2': array([False, False, False, False, False, False]), 'grasp_prob_movehold_1_gen3': array([False])}\n",
      "  76  1.3394705e+01 2.31e+00 6.71e+00  -1.4 2.74e-01    -  1.00e+00 1.00e+00f  1\n",
      "cval:  {'robot_col_distance_MoveFree_0_gen3_via0': array([0.15880519], dtype=float32), 'robot_col_distance_MoveHold_1_gen3_via0': array([0.0087164], dtype=float32), 'robot_col_distance_MoveFree_2_gen3_via0': array([0.15880519], dtype=float32), 'robot_col_distance_pickplace_gen3_1': array([0.12571302], dtype=float32), 'robot_col_distance_pickplace_gen3_2': array([0.05079189], dtype=float32), 'kinematics_error_pickplace_gen3_1': array([-2.5224686e-04, -2.3126602e-05, -2.3362041e-04,  2.4334840e-03,\n",
      "        3.2499814e-03,  3.9129044e-04], dtype=float32), 'kinematics_error_pickplace_gen3_2': array([-1.6865134e-04,  4.7996640e-05, -6.1314553e-04,  2.5293890e-03,\n",
      "        3.2665066e-03,  3.6844704e-04], dtype=float32), 'grasp_prob_movehold_1_gen3': array([-2.1654577], dtype=float32)}\n",
      "viol:  {'robot_col_distance_MoveFree_0_gen3_via0': array([ True]), 'robot_col_distance_MoveHold_1_gen3_via0': array([False]), 'robot_col_distance_MoveFree_2_gen3_via0': array([ True]), 'robot_col_distance_pickplace_gen3_1': array([ True]), 'robot_col_distance_pickplace_gen3_2': array([ True]), 'kinematics_error_pickplace_gen3_1': array([False, False, False, False, False, False]), 'kinematics_error_pickplace_gen3_2': array([False, False, False, False, False, False]), 'grasp_prob_movehold_1_gen3': array([False])}\n",
      "  77  1.3295026e+01 2.17e+00 1.35e+01  -1.4 4.60e-01    -  1.00e+00 1.00e+00h  1\n",
      "cval:  {'robot_col_distance_MoveFree_0_gen3_via0': array([0.15880519], dtype=float32), 'robot_col_distance_MoveHold_1_gen3_via0': array([0.08704537], dtype=float32), 'robot_col_distance_MoveFree_2_gen3_via0': array([0.15880519], dtype=float32), 'robot_col_distance_pickplace_gen3_1': array([0.12453395], dtype=float32), 'robot_col_distance_pickplace_gen3_2': array([0.05057737], dtype=float32), 'kinematics_error_pickplace_gen3_1': array([-9.9003315e-05, -3.4570694e-05, -9.8183751e-05, -1.2603778e-04,\n",
      "       -2.0824345e-03,  7.8622735e-04], dtype=float32), 'kinematics_error_pickplace_gen3_2': array([-2.3424625e-05,  4.1589141e-05, -3.1314045e-04,  5.2109372e-05,\n",
      "       -2.0575379e-03,  7.5618940e-04], dtype=float32), 'grasp_prob_movehold_1_gen3': array([0.8384291], dtype=float32)}\n",
      "viol:  {'robot_col_distance_MoveFree_0_gen3_via0': array([ True]), 'robot_col_distance_MoveHold_1_gen3_via0': array([ True]), 'robot_col_distance_MoveFree_2_gen3_via0': array([ True]), 'robot_col_distance_pickplace_gen3_1': array([ True]), 'robot_col_distance_pickplace_gen3_2': array([ True]), 'kinematics_error_pickplace_gen3_1': array([False, False, False, False, False, False]), 'kinematics_error_pickplace_gen3_2': array([False, False, False, False, False, False]), 'grasp_prob_movehold_1_gen3': array([ True])}\n",
      "  78  1.3197634e+01 2.08e-03 1.06e+01  -1.4 1.84e-01    -  1.00e+00 1.00e+00h  1\n",
      "cval:  {'robot_col_distance_MoveFree_0_gen3_via0': array([0.15880519], dtype=float32), 'robot_col_distance_MoveHold_1_gen3_via0': array([0.12488559], dtype=float32), 'robot_col_distance_MoveFree_2_gen3_via0': array([0.15880519], dtype=float32), 'robot_col_distance_pickplace_gen3_1': array([0.12468091], dtype=float32), 'robot_col_distance_pickplace_gen3_2': array([0.05036896], dtype=float32), 'kinematics_error_pickplace_gen3_1': array([-3.9041042e-05,  5.7846308e-05, -4.4494867e-05,  1.7793668e-03,\n",
      "       -2.2387120e-03, -1.8029837e-03], dtype=float32), 'kinematics_error_pickplace_gen3_2': array([-6.21080399e-05, -2.54064798e-05, -1.01968646e-04,  1.61804492e-03,\n",
      "       -2.29858188e-03, -1.74637383e-03], dtype=float32), 'grasp_prob_movehold_1_gen3': array([-4.9171925], dtype=float32)}\n",
      "viol:  {'robot_col_distance_MoveFree_0_gen3_via0': array([ True]), 'robot_col_distance_MoveHold_1_gen3_via0': array([ True]), 'robot_col_distance_MoveFree_2_gen3_via0': array([ True]), 'robot_col_distance_pickplace_gen3_1': array([ True]), 'robot_col_distance_pickplace_gen3_2': array([ True]), 'kinematics_error_pickplace_gen3_1': array([False, False, False, False, False, False]), 'kinematics_error_pickplace_gen3_2': array([False, False, False, False, False, False]), 'grasp_prob_movehold_1_gen3': array([False])}\n",
      "  79  1.3094030e+01 4.92e+00 5.95e+00  -1.4 8.92e-02    -  1.00e+00 1.00e+00h  1\n",
      "cval:  {'robot_col_distance_MoveFree_0_gen3_via0': array([0.15880519], dtype=float32), 'robot_col_distance_MoveHold_1_gen3_via0': array([0.09440637], dtype=float32), 'robot_col_distance_MoveFree_2_gen3_via0': array([0.15880516], dtype=float32), 'robot_col_distance_pickplace_gen3_1': array([0.12281024], dtype=float32), 'robot_col_distance_pickplace_gen3_2': array([0.05051136], dtype=float32), 'kinematics_error_pickplace_gen3_1': array([-4.8935413e-05,  1.0749698e-04, -8.7514520e-05, -8.3733577e-04,\n",
      "       -3.0125866e-03, -3.2231142e-03], dtype=float32), 'kinematics_error_pickplace_gen3_2': array([-9.7751617e-05, -4.8667192e-05, -2.4135411e-04, -1.1506710e-03,\n",
      "       -3.2513835e-03, -3.1842387e-03], dtype=float32), 'grasp_prob_movehold_1_gen3': array([1.4610324], dtype=float32)}\n",
      "viol:  {'robot_col_distance_MoveFree_0_gen3_via0': array([ True]), 'robot_col_distance_MoveHold_1_gen3_via0': array([ True]), 'robot_col_distance_MoveFree_2_gen3_via0': array([ True]), 'robot_col_distance_pickplace_gen3_1': array([ True]), 'robot_col_distance_pickplace_gen3_2': array([ True]), 'kinematics_error_pickplace_gen3_1': array([False, False, False, False, False, False]), 'kinematics_error_pickplace_gen3_2': array([False, False, False, False, False, False]), 'grasp_prob_movehold_1_gen3': array([ True])}\n",
      "iter    objective    inf_pr   inf_du lg(mu)  ||d||  lg(rg) alpha_du alpha_pr  ls\n",
      "  80  1.3194040e+01 1.97e+00 5.49e+00  -1.4 7.24e-02    -  1.00e+00 5.00e-01h  2\n",
      "cval:  {'robot_col_distance_MoveFree_0_gen3_via0': array([0.15880522], dtype=float32), 'robot_col_distance_MoveHold_1_gen3_via0': array([0.12061197], dtype=float32), 'robot_col_distance_MoveFree_2_gen3_via0': array([0.15880516], dtype=float32), 'robot_col_distance_pickplace_gen3_1': array([0.12500393], dtype=float32), 'robot_col_distance_pickplace_gen3_2': array([0.05029809], dtype=float32), 'kinematics_error_pickplace_gen3_1': array([-3.5685301e-04, -4.5984983e-05, -3.2548606e-04,  1.9365399e-03,\n",
      "        4.6504587e-03, -1.2168335e-04], dtype=float32), 'kinematics_error_pickplace_gen3_2': array([ 2.2351742e-06, -5.5626035e-05,  8.1509352e-06,  2.0441972e-03,\n",
      "        5.4498017e-03,  8.5950371e-05], dtype=float32), 'grasp_prob_movehold_1_gen3': array([-0.1614545], dtype=float32)}\n",
      "viol:  {'robot_col_distance_MoveFree_0_gen3_via0': array([ True]), 'robot_col_distance_MoveHold_1_gen3_via0': array([ True]), 'robot_col_distance_MoveFree_2_gen3_via0': array([ True]), 'robot_col_distance_pickplace_gen3_1': array([ True]), 'robot_col_distance_pickplace_gen3_2': array([ True]), 'kinematics_error_pickplace_gen3_1': array([False, False, False, False, False, False]), 'kinematics_error_pickplace_gen3_2': array([False, False, False, False, False, False]), 'grasp_prob_movehold_1_gen3': array([False])}\n",
      "  81  1.3216906e+01 1.18e+00 1.49e+01  -1.4 8.13e-02    -  1.00e+00 2.50e-01h  3\n",
      "cval:  {'robot_col_distance_MoveFree_0_gen3_via0': array([0.15880519], dtype=float32), 'robot_col_distance_MoveHold_1_gen3_via0': array([0.10224652], dtype=float32), 'robot_col_distance_MoveFree_2_gen3_via0': array([0.15880516], dtype=float32), 'robot_col_distance_pickplace_gen3_1': array([0.12479502], dtype=float32), 'robot_col_distance_pickplace_gen3_2': array([0.05035818], dtype=float32), 'kinematics_error_pickplace_gen3_1': array([-2.2590160e-05, -7.0035458e-06, -2.8178096e-05,  1.7751764e-04,\n",
      "       -2.4382351e-03,  7.0480671e-04], dtype=float32), 'kinematics_error_pickplace_gen3_2': array([-3.1292439e-06,  3.6358833e-06, -4.8689544e-05,  2.0726035e-04,\n",
      "       -2.4192345e-03,  7.0014631e-04], dtype=float32), 'grasp_prob_movehold_1_gen3': array([-0.08435744], dtype=float32)}\n",
      "viol:  {'robot_col_distance_MoveFree_0_gen3_via0': array([ True]), 'robot_col_distance_MoveHold_1_gen3_via0': array([ True]), 'robot_col_distance_MoveFree_2_gen3_via0': array([ True]), 'robot_col_distance_pickplace_gen3_1': array([ True]), 'robot_col_distance_pickplace_gen3_2': array([ True]), 'kinematics_error_pickplace_gen3_1': array([False, False, False, False, False, False]), 'kinematics_error_pickplace_gen3_2': array([False, False, False, False, False, False]), 'grasp_prob_movehold_1_gen3': array([False])}\n",
      "  82  1.3201871e+01 8.44e-02 1.03e+01  -1.4 9.04e-02    -  1.00e+00 1.00e+00h  1\n",
      "cval:  {'robot_col_distance_MoveFree_0_gen3_via0': array([0.15880519], dtype=float32), 'robot_col_distance_MoveHold_1_gen3_via0': array([0.09483081], dtype=float32), 'robot_col_distance_MoveFree_2_gen3_via0': array([0.15880519], dtype=float32), 'robot_col_distance_pickplace_gen3_1': array([0.12443602], dtype=float32), 'robot_col_distance_pickplace_gen3_2': array([0.0502952], dtype=float32), 'kinematics_error_pickplace_gen3_1': array([-3.3766031e-05, -1.4215708e-05, -4.1887164e-05,  3.8255737e-04,\n",
      "       -8.2248135e-04, -2.3271506e-04], dtype=float32), 'kinematics_error_pickplace_gen3_2': array([ 1.2218952e-06, -1.3709068e-06, -8.3446503e-07,  4.0163094e-04,\n",
      "       -7.3520828e-04, -2.2168455e-04], dtype=float32), 'grasp_prob_movehold_1_gen3': array([-0.89268404], dtype=float32)}\n",
      "viol:  {'robot_col_distance_MoveFree_0_gen3_via0': array([ True]), 'robot_col_distance_MoveHold_1_gen3_via0': array([ True]), 'robot_col_distance_MoveFree_2_gen3_via0': array([ True]), 'robot_col_distance_pickplace_gen3_1': array([ True]), 'robot_col_distance_pickplace_gen3_2': array([ True]), 'kinematics_error_pickplace_gen3_1': array([False, False, False, False, False, False]), 'kinematics_error_pickplace_gen3_2': array([False, False, False, False, False, False]), 'grasp_prob_movehold_1_gen3': array([False])}\n",
      "  83  1.3181053e+01 8.93e-01 1.01e+01  -1.4 2.91e-02    -  1.00e+00 1.00e+00h  1\n",
      "cval:  {'robot_col_distance_MoveFree_0_gen3_via0': array([0.15880519], dtype=float32), 'robot_col_distance_MoveHold_1_gen3_via0': array([0.10703802], dtype=float32), 'robot_col_distance_MoveFree_2_gen3_via0': array([0.15880516], dtype=float32), 'robot_col_distance_pickplace_gen3_1': array([0.12412572], dtype=float32), 'robot_col_distance_pickplace_gen3_2': array([0.05029118], dtype=float32), 'kinematics_error_pickplace_gen3_1': array([-4.1425228e-06,  4.2021275e-06, -4.7683716e-06, -1.2093416e-04,\n",
      "       -2.2481654e-03,  1.0049152e-03], dtype=float32), 'kinematics_error_pickplace_gen3_2': array([ 6.9141388e-06, -3.2037497e-06, -4.3213367e-06, -1.0855501e-04,\n",
      "       -2.2449654e-03,  1.0212664e-03], dtype=float32), 'grasp_prob_movehold_1_gen3': array([1.1578557], dtype=float32)}\n",
      "viol:  {'robot_col_distance_MoveFree_0_gen3_via0': array([ True]), 'robot_col_distance_MoveHold_1_gen3_via0': array([ True]), 'robot_col_distance_MoveFree_2_gen3_via0': array([ True]), 'robot_col_distance_pickplace_gen3_1': array([ True]), 'robot_col_distance_pickplace_gen3_2': array([ True]), 'kinematics_error_pickplace_gen3_1': array([False, False, False, False, False, False]), 'kinematics_error_pickplace_gen3_2': array([False, False, False, False, False, False]), 'grasp_prob_movehold_1_gen3': array([ True])}\n",
      "  84  1.3202493e+01 1.07e-03 7.79e+00  -1.4 2.75e-02    -  1.00e+00 5.00e-01h  2\n",
      "cval:  {'robot_col_distance_MoveFree_0_gen3_via0': array([0.15880522], dtype=float32), 'robot_col_distance_MoveHold_1_gen3_via0': array([0.12818581], dtype=float32), 'robot_col_distance_MoveFree_2_gen3_via0': array([0.15880516], dtype=float32), 'robot_col_distance_pickplace_gen3_1': array([0.12853703], dtype=float32), 'robot_col_distance_pickplace_gen3_2': array([0.05038682], dtype=float32), 'kinematics_error_pickplace_gen3_1': array([-0.00010821, -0.00033301, -0.0003552 ,  0.00448578, -0.0378409 ,\n",
      "       -0.00487532], dtype=float32), 'kinematics_error_pickplace_gen3_2': array([ 8.16881657e-05, -1.22487545e-05, -5.98952174e-05,  4.42286534e-03,\n",
      "       -3.71716507e-02, -5.16584981e-03], dtype=float32), 'grasp_prob_movehold_1_gen3': array([-10.859519], dtype=float32)}\n",
      "viol:  {'robot_col_distance_MoveFree_0_gen3_via0': array([ True]), 'robot_col_distance_MoveHold_1_gen3_via0': array([ True]), 'robot_col_distance_MoveFree_2_gen3_via0': array([ True]), 'robot_col_distance_pickplace_gen3_1': array([ True]), 'robot_col_distance_pickplace_gen3_2': array([ True]), 'kinematics_error_pickplace_gen3_1': array([False, False, False, False, False, False]), 'kinematics_error_pickplace_gen3_2': array([False, False, False, False, False, False]), 'grasp_prob_movehold_1_gen3': array([False])}\n",
      "  85  1.3145391e+01 3.57e+00 9.23e+00  -1.4 6.90e-02    -  1.00e+00 5.00e-01h  2\n",
      "cval:  {'robot_col_distance_MoveFree_0_gen3_via0': array([0.15880519], dtype=float32), 'robot_col_distance_MoveHold_1_gen3_via0': array([0.09929854], dtype=float32), 'robot_col_distance_MoveFree_2_gen3_via0': array([0.15880516], dtype=float32), 'robot_col_distance_pickplace_gen3_1': array([0.12414375], dtype=float32), 'robot_col_distance_pickplace_gen3_2': array([0.05031353], dtype=float32), 'kinematics_error_pickplace_gen3_1': array([ 2.6702881e-05, -8.4966421e-05, -7.3000789e-05,  1.3076378e-03,\n",
      "        2.4904725e-03, -7.6126889e-04], dtype=float32), 'kinematics_error_pickplace_gen3_2': array([ 3.8444996e-06, -1.8447638e-05, -4.5679510e-05,  1.1906637e-03,\n",
      "        2.5686799e-03, -8.5269008e-04], dtype=float32), 'grasp_prob_movehold_1_gen3': array([1.4556623], dtype=float32)}\n",
      "viol:  {'robot_col_distance_MoveFree_0_gen3_via0': array([ True]), 'robot_col_distance_MoveHold_1_gen3_via0': array([ True]), 'robot_col_distance_MoveFree_2_gen3_via0': array([ True]), 'robot_col_distance_pickplace_gen3_1': array([ True]), 'robot_col_distance_pickplace_gen3_2': array([ True]), 'kinematics_error_pickplace_gen3_1': array([False, False, False, False, False, False]), 'kinematics_error_pickplace_gen3_2': array([False, False, False, False, False, False]), 'grasp_prob_movehold_1_gen3': array([ True])}\n",
      "  86  1.3169321e+01 2.44e+00 1.09e+01  -1.4 6.12e-02    -  1.00e+00 2.50e-01h  3\n",
      "cval:  {'robot_col_distance_MoveFree_0_gen3_via0': array([0.15880519], dtype=float32), 'robot_col_distance_MoveHold_1_gen3_via0': array([0.10361594], dtype=float32), 'robot_col_distance_MoveFree_2_gen3_via0': array([0.15880516], dtype=float32), 'robot_col_distance_pickplace_gen3_1': array([0.12432593], dtype=float32), 'robot_col_distance_pickplace_gen3_2': array([0.05029634], dtype=float32), 'kinematics_error_pickplace_gen3_1': array([-1.0669231e-05, -3.8057566e-05, -3.9204955e-05, -1.4935444e-04,\n",
      "       -2.4432405e-03,  1.0969493e-03], dtype=float32), 'kinematics_error_pickplace_gen3_2': array([ 1.6361475e-05, -3.6954880e-06, -5.5879354e-06, -1.4595699e-04,\n",
      "       -2.3580361e-03,  1.0702172e-03], dtype=float32), 'grasp_prob_movehold_1_gen3': array([1.2158644], dtype=float32)}\n",
      "viol:  {'robot_col_distance_MoveFree_0_gen3_via0': array([ True]), 'robot_col_distance_MoveHold_1_gen3_via0': array([ True]), 'robot_col_distance_MoveFree_2_gen3_via0': array([ True]), 'robot_col_distance_pickplace_gen3_1': array([ True]), 'robot_col_distance_pickplace_gen3_2': array([ True]), 'kinematics_error_pickplace_gen3_1': array([False, False, False, False, False, False]), 'kinematics_error_pickplace_gen3_2': array([False, False, False, False, False, False]), 'grasp_prob_movehold_1_gen3': array([ True])}\n",
      "  87  1.3217192e+01 2.44e-03 1.03e+01  -1.4 4.97e-02    -  1.00e+00 1.00e+00h  1\n",
      "cval:  {'robot_col_distance_MoveFree_0_gen3_via0': array([0.15880519], dtype=float32), 'robot_col_distance_MoveHold_1_gen3_via0': array([0.1359849], dtype=float32), 'robot_col_distance_MoveFree_2_gen3_via0': array([0.15880519], dtype=float32), 'robot_col_distance_pickplace_gen3_1': array([0.12487751], dtype=float32), 'robot_col_distance_pickplace_gen3_2': array([0.05062541], dtype=float32), 'kinematics_error_pickplace_gen3_1': array([-4.3657422e-04, -7.5578690e-05, -4.6704710e-04,  1.5158392e-03,\n",
      "       -2.7229870e-03, -1.1948193e-03], dtype=float32), 'kinematics_error_pickplace_gen3_2': array([-1.7330050e-04,  5.5134296e-07, -3.3248216e-04,  1.5174909e-03,\n",
      "       -2.1432510e-03, -1.1775058e-03], dtype=float32), 'grasp_prob_movehold_1_gen3': array([-3.972977], dtype=float32)}\n",
      "viol:  {'robot_col_distance_MoveFree_0_gen3_via0': array([ True]), 'robot_col_distance_MoveHold_1_gen3_via0': array([ True]), 'robot_col_distance_MoveFree_2_gen3_via0': array([ True]), 'robot_col_distance_pickplace_gen3_1': array([ True]), 'robot_col_distance_pickplace_gen3_2': array([ True]), 'kinematics_error_pickplace_gen3_1': array([False, False, False, False, False, False]), 'kinematics_error_pickplace_gen3_2': array([False, False, False, False, False, False]), 'grasp_prob_movehold_1_gen3': array([False])}\n",
      "  88  1.3192799e+01 1.83e+00 7.86e+00  -1.4 9.35e-02    -  1.00e+00 5.00e-01h  2\n",
      "cval:  {'robot_col_distance_MoveFree_0_gen3_via0': array([0.15880519], dtype=float32), 'robot_col_distance_MoveHold_1_gen3_via0': array([0.08850905], dtype=float32), 'robot_col_distance_MoveFree_2_gen3_via0': array([0.15880516], dtype=float32), 'robot_col_distance_pickplace_gen3_1': array([0.123647], dtype=float32), 'robot_col_distance_pickplace_gen3_2': array([0.05069578], dtype=float32), 'kinematics_error_pickplace_gen3_1': array([-2.6142597e-04, -5.1885843e-05, -2.9112399e-04, -2.8638932e-04,\n",
      "       -2.6318340e-03,  7.4072694e-04], dtype=float32), 'kinematics_error_pickplace_gen3_2': array([-1.9109249e-04,  3.5688281e-05, -4.2733550e-04, -3.1961521e-04,\n",
      "       -2.4938150e-03,  5.7192182e-04], dtype=float32), 'grasp_prob_movehold_1_gen3': array([1.0693822], dtype=float32)}\n",
      "viol:  {'robot_col_distance_MoveFree_0_gen3_via0': array([ True]), 'robot_col_distance_MoveHold_1_gen3_via0': array([ True]), 'robot_col_distance_MoveFree_2_gen3_via0': array([ True]), 'robot_col_distance_pickplace_gen3_1': array([ True]), 'robot_col_distance_pickplace_gen3_2': array([ True]), 'kinematics_error_pickplace_gen3_1': array([False, False, False, False, False, False]), 'kinematics_error_pickplace_gen3_2': array([False, False, False, False, False, False]), 'grasp_prob_movehold_1_gen3': array([ True])}\n",
      "  89  1.3194454e+01 1.48e+00 8.22e+00  -1.4 8.79e-02    -  1.00e+00 1.25e-01h  4\n",
      "cval:  {'robot_col_distance_MoveFree_0_gen3_via0': array([0.15880519], dtype=float32), 'robot_col_distance_MoveHold_1_gen3_via0': array([0.03904361], dtype=float32), 'robot_col_distance_MoveFree_2_gen3_via0': array([0.15880519], dtype=float32), 'robot_col_distance_pickplace_gen3_1': array([0.14024967], dtype=float32), 'robot_col_distance_pickplace_gen3_2': array([0.05549997], dtype=float32), 'kinematics_error_pickplace_gen3_1': array([-0.00335056, -0.00085187, -0.00402677,  0.02844028, -0.28497955,\n",
      "       -0.04420676], dtype=float32), 'kinematics_error_pickplace_gen3_2': array([ 2.8040707e-03,  1.9294024e-04, -5.5258200e-03,  3.9305948e-02,\n",
      "       -2.7858657e-01, -4.2906508e-02], dtype=float32), 'grasp_prob_movehold_1_gen3': array([-37.091595], dtype=float32)}\n",
      "viol:  {'robot_col_distance_MoveFree_0_gen3_via0': array([ True]), 'robot_col_distance_MoveHold_1_gen3_via0': array([False]), 'robot_col_distance_MoveFree_2_gen3_via0': array([ True]), 'robot_col_distance_pickplace_gen3_1': array([ True]), 'robot_col_distance_pickplace_gen3_2': array([ True]), 'kinematics_error_pickplace_gen3_1': array([False, False, False, False, False, False]), 'kinematics_error_pickplace_gen3_2': array([False, False, False, False, False, False]), 'grasp_prob_movehold_1_gen3': array([False])}\n",
      "iter    objective    inf_pr   inf_du lg(mu)  ||d||  lg(rg) alpha_du alpha_pr  ls\n",
      "  90  1.3174710e+01 1.30e+00 8.07e+00  -1.4 4.37e-01    -  1.00e+00 6.25e-02h  5\n",
      "cval:  {'robot_col_distance_MoveFree_0_gen3_via0': array([0.15880519], dtype=float32), 'robot_col_distance_MoveHold_1_gen3_via0': array([0.13146546], dtype=float32), 'robot_col_distance_MoveFree_2_gen3_via0': array([0.15880519], dtype=float32), 'robot_col_distance_pickplace_gen3_1': array([0.12868664], dtype=float32), 'robot_col_distance_pickplace_gen3_2': array([0.05069297], dtype=float32), 'kinematics_error_pickplace_gen3_1': array([-5.6505203e-05, -1.4829636e-04, -1.8374622e-04,  6.0560433e-03,\n",
      "       -5.5678822e-02, -6.1485227e-03], dtype=float32), 'kinematics_error_pickplace_gen3_2': array([ 1.8113852e-04,  1.5169382e-05, -3.6776811e-04,  6.5131024e-03,\n",
      "       -5.5480503e-02, -6.1937966e-03], dtype=float32), 'grasp_prob_movehold_1_gen3': array([-13.039928], dtype=float32)}\n",
      "viol:  {'robot_col_distance_MoveFree_0_gen3_via0': array([ True]), 'robot_col_distance_MoveHold_1_gen3_via0': array([ True]), 'robot_col_distance_MoveFree_2_gen3_via0': array([ True]), 'robot_col_distance_pickplace_gen3_1': array([ True]), 'robot_col_distance_pickplace_gen3_2': array([ True]), 'kinematics_error_pickplace_gen3_1': array([False, False, False, False, False, False]), 'kinematics_error_pickplace_gen3_2': array([False, False, False, False, False, False]), 'grasp_prob_movehold_1_gen3': array([False])}\n",
      "  91  1.3091202e+01 1.30e+01 3.75e+01  -1.4 1.49e-01    -  1.00e+00 1.00e+00h  1\n",
      "cval:  {'robot_col_distance_MoveFree_0_gen3_via0': array([0.15880519], dtype=float32), 'robot_col_distance_MoveHold_1_gen3_via0': array([0.12589893], dtype=float32), 'robot_col_distance_MoveFree_2_gen3_via0': array([0.15880519], dtype=float32), 'robot_col_distance_pickplace_gen3_1': array([0.12495303], dtype=float32), 'robot_col_distance_pickplace_gen3_2': array([0.05062252], dtype=float32), 'kinematics_error_pickplace_gen3_1': array([-2.7418137e-06,  1.4543533e-05, -2.7537346e-05,  4.6893912e-03,\n",
      "       -1.1613379e-02, -1.6302938e-02], dtype=float32), 'kinematics_error_pickplace_gen3_2': array([-9.8317862e-05, -3.0428171e-05, -2.1412969e-04,  4.6156212e-03,\n",
      "       -1.1689915e-02, -1.6507193e-02], dtype=float32), 'grasp_prob_movehold_1_gen3': array([-1.6914365], dtype=float32)}\n",
      "viol:  {'robot_col_distance_MoveFree_0_gen3_via0': array([ True]), 'robot_col_distance_MoveHold_1_gen3_via0': array([ True]), 'robot_col_distance_MoveFree_2_gen3_via0': array([ True]), 'robot_col_distance_pickplace_gen3_1': array([ True]), 'robot_col_distance_pickplace_gen3_2': array([ True]), 'kinematics_error_pickplace_gen3_1': array([False, False, False, False, False, False]), 'kinematics_error_pickplace_gen3_2': array([False, False, False, False, False, False]), 'grasp_prob_movehold_1_gen3': array([False])}\n",
      "  92  1.3090284e+01 1.69e+00 8.01e+00  -1.4 2.30e-01    -  1.00e+00 1.00e+00h  1\n",
      "cval:  {'robot_col_distance_MoveFree_0_gen3_via0': array([0.15880519], dtype=float32), 'robot_col_distance_MoveHold_1_gen3_via0': array([0.10179418], dtype=float32), 'robot_col_distance_MoveFree_2_gen3_via0': array([0.15880516], dtype=float32), 'robot_col_distance_pickplace_gen3_1': array([0.12426639], dtype=float32), 'robot_col_distance_pickplace_gen3_2': array([0.05026209], dtype=float32), 'kinematics_error_pickplace_gen3_1': array([ 6.2584877e-07,  9.4473362e-06, -2.3886561e-05,  2.0820657e-05,\n",
      "       -2.5368112e-03,  6.6788011e-04], dtype=float32), 'kinematics_error_pickplace_gen3_2': array([ 1.6993284e-04, -5.1856041e-05,  2.3111701e-05,  2.7567157e-04,\n",
      "       -2.4298141e-03,  6.6709542e-04], dtype=float32), 'grasp_prob_movehold_1_gen3': array([-0.43500596], dtype=float32)}\n",
      "viol:  {'robot_col_distance_MoveFree_0_gen3_via0': array([ True]), 'robot_col_distance_MoveHold_1_gen3_via0': array([ True]), 'robot_col_distance_MoveFree_2_gen3_via0': array([ True]), 'robot_col_distance_pickplace_gen3_1': array([ True]), 'robot_col_distance_pickplace_gen3_2': array([ True]), 'kinematics_error_pickplace_gen3_1': array([False, False, False, False, False, False]), 'kinematics_error_pickplace_gen3_2': array([False, False, False, False, False, False]), 'grasp_prob_movehold_1_gen3': array([False])}\n",
      "  93  1.3183580e+01 4.35e-01 5.66e+00  -1.4 1.21e-01    -  1.00e+00 1.00e+00h  1\n",
      "cval:  {'robot_col_distance_MoveFree_0_gen3_via0': array([0.15880519], dtype=float32), 'robot_col_distance_MoveHold_1_gen3_via0': array([0.10471123], dtype=float32), 'robot_col_distance_MoveFree_2_gen3_via0': array([0.15880516], dtype=float32), 'robot_col_distance_pickplace_gen3_1': array([0.12441406], dtype=float32), 'robot_col_distance_pickplace_gen3_2': array([0.05028987], dtype=float32), 'kinematics_error_pickplace_gen3_1': array([-2.0861626e-06,  2.2947788e-06, -2.1010637e-06, -8.1341721e-05,\n",
      "       -1.9382609e-03,  8.7754114e-04], dtype=float32), 'kinematics_error_pickplace_gen3_2': array([-2.7418137e-06, -1.2814999e-06, -4.3511391e-06, -8.5696622e-05,\n",
      "       -1.9398490e-03,  8.8176172e-04], dtype=float32), 'grasp_prob_movehold_1_gen3': array([0.8952503], dtype=float32)}\n",
      "viol:  {'robot_col_distance_MoveFree_0_gen3_via0': array([ True]), 'robot_col_distance_MoveHold_1_gen3_via0': array([ True]), 'robot_col_distance_MoveFree_2_gen3_via0': array([ True]), 'robot_col_distance_pickplace_gen3_1': array([ True]), 'robot_col_distance_pickplace_gen3_2': array([ True]), 'kinematics_error_pickplace_gen3_1': array([False, False, False, False, False, False]), 'kinematics_error_pickplace_gen3_2': array([False, False, False, False, False, False]), 'grasp_prob_movehold_1_gen3': array([ True])}\n",
      "  94  1.3208765e+01 1.94e-03 1.05e+01  -1.4 1.32e-01    -  1.00e+00 1.00e+00h  1\n",
      "cval:  {'robot_col_distance_MoveFree_0_gen3_via0': array([0.15880519], dtype=float32), 'robot_col_distance_MoveHold_1_gen3_via0': array([0.10408929], dtype=float32), 'robot_col_distance_MoveFree_2_gen3_via0': array([0.15880516], dtype=float32), 'robot_col_distance_pickplace_gen3_1': array([0.12438044], dtype=float32), 'robot_col_distance_pickplace_gen3_2': array([0.05026543], dtype=float32), 'kinematics_error_pickplace_gen3_1': array([ 2.9802322e-08,  1.1920929e-07, -2.9802322e-08,  1.9648657e-04,\n",
      "        5.5575700e-05, -2.7448384e-04], dtype=float32), 'kinematics_error_pickplace_gen3_2': array([-1.7881393e-07, -1.1920929e-07, -3.3527613e-07,  1.9627799e-04,\n",
      "        5.5119366e-05, -2.7428553e-04], dtype=float32), 'grasp_prob_movehold_1_gen3': array([0.12408978], dtype=float32)}\n",
      "viol:  {'robot_col_distance_MoveFree_0_gen3_via0': array([ True]), 'robot_col_distance_MoveHold_1_gen3_via0': array([ True]), 'robot_col_distance_MoveFree_2_gen3_via0': array([ True]), 'robot_col_distance_pickplace_gen3_1': array([ True]), 'robot_col_distance_pickplace_gen3_2': array([ True]), 'kinematics_error_pickplace_gen3_1': array([False, False, False, False, False, False]), 'kinematics_error_pickplace_gen3_2': array([False, False, False, False, False, False]), 'grasp_prob_movehold_1_gen3': array([ True])}\n",
      "  95  1.3201052e+01 2.74e-04 7.79e+00  -1.4 3.79e-02    -  1.00e+00 1.00e+00h  1\n",
      "cval:  {'robot_col_distance_MoveFree_0_gen3_via0': array([0.15880519], dtype=float32), 'robot_col_distance_MoveHold_1_gen3_via0': array([0.10421228], dtype=float32), 'robot_col_distance_MoveFree_2_gen3_via0': array([0.15880516], dtype=float32), 'robot_col_distance_pickplace_gen3_1': array([0.12428072], dtype=float32), 'robot_col_distance_pickplace_gen3_2': array([0.0502544], dtype=float32), 'kinematics_error_pickplace_gen3_1': array([ 1.4901161e-07,  3.2782555e-07, -5.3644180e-07, -1.9483257e-06,\n",
      "       -1.0001467e-05,  3.1683576e-06], dtype=float32), 'kinematics_error_pickplace_gen3_2': array([ 5.0663948e-07, -4.0233135e-07, -4.0233135e-07, -1.8477431e-06,\n",
      "       -1.0296698e-05,  4.6044565e-06], dtype=float32), 'grasp_prob_movehold_1_gen3': array([0.84242463], dtype=float32)}\n",
      "viol:  {'robot_col_distance_MoveFree_0_gen3_via0': array([ True]), 'robot_col_distance_MoveHold_1_gen3_via0': array([ True]), 'robot_col_distance_MoveFree_2_gen3_via0': array([ True]), 'robot_col_distance_pickplace_gen3_1': array([ True]), 'robot_col_distance_pickplace_gen3_2': array([ True]), 'kinematics_error_pickplace_gen3_1': array([False, False, False, False, False, False]), 'kinematics_error_pickplace_gen3_2': array([False, False, False, False, False, False]), 'grasp_prob_movehold_1_gen3': array([ True])}\n",
      "  96  1.3218063e+01 1.03e-05 9.68e+00  -1.4 3.97e-02    -  1.00e+00 1.00e+00h  1\n",
      "cval:  {'robot_col_distance_MoveFree_0_gen3_via0': array([0.15880519], dtype=float32), 'robot_col_distance_MoveHold_1_gen3_via0': array([0.09999475], dtype=float32), 'robot_col_distance_MoveFree_2_gen3_via0': array([0.15880516], dtype=float32), 'robot_col_distance_pickplace_gen3_1': array([0.12726122], dtype=float32), 'robot_col_distance_pickplace_gen3_2': array([0.05020753], dtype=float32), 'kinematics_error_pickplace_gen3_1': array([-1.3053417e-05, -2.1374226e-04, -1.8285215e-04,  1.9961556e-03,\n",
      "       -1.2593977e-02, -1.3267513e-03], dtype=float32), 'kinematics_error_pickplace_gen3_2': array([ 1.6564131e-04, -2.2694468e-05, -9.7945333e-05,  2.1820180e-03,\n",
      "       -1.2223497e-02, -1.4226354e-03], dtype=float32), 'grasp_prob_movehold_1_gen3': array([-6.1916575], dtype=float32)}\n",
      "viol:  {'robot_col_distance_MoveFree_0_gen3_via0': array([ True]), 'robot_col_distance_MoveHold_1_gen3_via0': array([ True]), 'robot_col_distance_MoveFree_2_gen3_via0': array([ True]), 'robot_col_distance_pickplace_gen3_1': array([ True]), 'robot_col_distance_pickplace_gen3_2': array([ True]), 'kinematics_error_pickplace_gen3_1': array([False, False, False, False, False, False]), 'kinematics_error_pickplace_gen3_2': array([False, False, False, False, False, False]), 'grasp_prob_movehold_1_gen3': array([False])}\n",
      "  97  1.3072638e+01 6.19e+00 3.78e+01  -2.8 1.09e-01    -  1.00e+00 1.00e+00f  1\n",
      "cval:  {'robot_col_distance_MoveFree_0_gen3_via0': array([0.15880519], dtype=float32), 'robot_col_distance_MoveHold_1_gen3_via0': array([0.09536672], dtype=float32), 'robot_col_distance_MoveFree_2_gen3_via0': array([0.15880516], dtype=float32), 'robot_col_distance_pickplace_gen3_1': array([0.1273011], dtype=float32), 'robot_col_distance_pickplace_gen3_2': array([0.05023164], dtype=float32), 'kinematics_error_pickplace_gen3_1': array([ 1.2287498e-04, -6.3359737e-05, -2.1122396e-04,  1.5383309e-03,\n",
      "       -3.7831511e-02, -3.9741476e-03], dtype=float32), 'kinematics_error_pickplace_gen3_2': array([ 0.00017449, -0.00023536, -0.00017423,  0.00123289, -0.0377713 ,\n",
      "       -0.00403454], dtype=float32), 'grasp_prob_movehold_1_gen3': array([-5.19484], dtype=float32)}\n",
      "viol:  {'robot_col_distance_MoveFree_0_gen3_via0': array([ True]), 'robot_col_distance_MoveHold_1_gen3_via0': array([ True]), 'robot_col_distance_MoveFree_2_gen3_via0': array([ True]), 'robot_col_distance_pickplace_gen3_1': array([ True]), 'robot_col_distance_pickplace_gen3_2': array([ True]), 'kinematics_error_pickplace_gen3_1': array([False, False, False, False, False, False]), 'kinematics_error_pickplace_gen3_2': array([False, False, False, False, False, False]), 'grasp_prob_movehold_1_gen3': array([False])}\n",
      "  98  1.2797068e+01 5.19e+00 6.85e+00  -2.8 1.90e-01    -  1.00e+00 6.14e-01h  1\n",
      "cval:  {'robot_col_distance_MoveFree_0_gen3_via0': array([0.15880522], dtype=float32), 'robot_col_distance_MoveHold_1_gen3_via0': array([0.0962019], dtype=float32), 'robot_col_distance_MoveFree_2_gen3_via0': array([0.15880516], dtype=float32), 'robot_col_distance_pickplace_gen3_1': array([0.12471116], dtype=float32), 'robot_col_distance_pickplace_gen3_2': array([0.0504227], dtype=float32), 'kinematics_error_pickplace_gen3_1': array([ 0.00036621, -0.00077024, -0.00054274, -0.00096136,  0.00241396,\n",
      "       -0.00206066], dtype=float32), 'kinematics_error_pickplace_gen3_2': array([ 0.00118122, -0.00037788, -0.00043582,  0.00028963,  0.00319038,\n",
      "       -0.00248914], dtype=float32), 'grasp_prob_movehold_1_gen3': array([1.1837394], dtype=float32)}\n",
      "viol:  {'robot_col_distance_MoveFree_0_gen3_via0': array([ True]), 'robot_col_distance_MoveHold_1_gen3_via0': array([ True]), 'robot_col_distance_MoveFree_2_gen3_via0': array([ True]), 'robot_col_distance_pickplace_gen3_1': array([ True]), 'robot_col_distance_pickplace_gen3_2': array([ True]), 'kinematics_error_pickplace_gen3_1': array([False, False, False, False, False, False]), 'kinematics_error_pickplace_gen3_2': array([False, False, False, False, False, False]), 'grasp_prob_movehold_1_gen3': array([ True])}\n",
      "  99  1.3213687e+01 3.19e-03 1.16e+01  -2.8 1.03e-01    -  1.00e+00 1.00e+00h  1\n",
      "cval:  {'robot_col_distance_MoveFree_0_gen3_via0': array([0.15880519], dtype=float32), 'robot_col_distance_MoveHold_1_gen3_via0': array([0.06449807], dtype=float32), 'robot_col_distance_MoveFree_2_gen3_via0': array([0.15880519], dtype=float32), 'robot_col_distance_pickplace_gen3_1': array([0.12519789], dtype=float32), 'robot_col_distance_pickplace_gen3_2': array([0.05005348], dtype=float32), 'kinematics_error_pickplace_gen3_1': array([-1.0907650e-05,  9.7453594e-06, -1.3694167e-05,  1.9207214e-04,\n",
      "       -9.5971435e-04,  1.0289898e-04], dtype=float32), 'kinematics_error_pickplace_gen3_2': array([ 5.7488680e-05, -6.4074993e-07, -4.5597553e-05,  3.1363950e-04,\n",
      "       -9.7249402e-04,  1.2700254e-04], dtype=float32), 'grasp_prob_movehold_1_gen3': array([-1.0676041], dtype=float32)}\n",
      "viol:  {'robot_col_distance_MoveFree_0_gen3_via0': array([ True]), 'robot_col_distance_MoveHold_1_gen3_via0': array([ True]), 'robot_col_distance_MoveFree_2_gen3_via0': array([ True]), 'robot_col_distance_pickplace_gen3_1': array([ True]), 'robot_col_distance_pickplace_gen3_2': array([ True]), 'kinematics_error_pickplace_gen3_1': array([False, False, False, False, False, False]), 'kinematics_error_pickplace_gen3_2': array([False, False, False, False, False, False]), 'grasp_prob_movehold_1_gen3': array([False])}\n",
      "iter    objective    inf_pr   inf_du lg(mu)  ||d||  lg(rg) alpha_du alpha_pr  ls\n",
      " 100  1.3122208e+01 1.07e+00 1.04e+01  -2.9 6.87e-02    -  1.00e+00 1.00e+00h  1\n",
      "\n",
      "Number of Iterations....: 100\n",
      "\n",
      "                                   (scaled)                 (unscaled)\n",
      "Objective...............:   1.3122207641601562e+01    1.3122207641601562e+01\n",
      "Dual infeasibility......:   1.0447325180225723e+01    1.0447325180225723e+01\n",
      "Constraint violation....:   2.8641772258574666e-01    1.0676040549414063e+00\n",
      "Variable bound violation:   0.0000000000000000e+00    0.0000000000000000e+00\n",
      "Complementarity.........:   1.4115400064187763e-03    1.4115400064187763e-03\n",
      "Overall NLP error.......:   1.0447325180225723e+01    1.0447325180225723e+01\n",
      "\n",
      "\n",
      "Number of objective function evaluations             = 158\n",
      "Number of objective gradient evaluations             = 101\n",
      "Number of equality constraint evaluations            = 158\n",
      "Number of inequality constraint evaluations          = 158\n",
      "Number of equality constraint Jacobian evaluations   = 101\n",
      "Number of inequality constraint Jacobian evaluations = 101\n",
      "Number of Lagrangian Hessian evaluations             = 0\n",
      "Total seconds in IPOPT                               = 45.871\n",
      "\n",
      "EXIT: Maximum Number of Iterations Exceeded.\n"
     ]
    }
   ],
   "source": [
    "opt_if.set_problem(prob_dict)\n",
    "ipopt = opt_if.get_ipopt_solver()\n",
    "ipopt.add_option(\"acceptable_iter\", 2)\n",
    "ipopt.add_option(\"acceptable_constr_viol_tol\", 0.01)\n",
    "# ipopt_r.add_option(\"acceptable_obj_change_tol\", 0.01)\n",
    "\n",
    "sol, info = ipopt.solve(x0)\n",
    "\n",
    "debug_fn(sol)"
   ]
  },
  {
   "cell_type": "code",
   "execution_count": 139,
   "metadata": {},
   "outputs": [],
   "source": []
  },
  {
   "cell_type": "code",
   "execution_count": 404,
   "metadata": {},
   "outputs": [],
   "source": [
    "q = gen3_home_config\n",
    "grasp = jnp.zeros(3)"
   ]
  },
  {
   "cell_type": "code",
   "execution_count": 148,
   "metadata": {},
   "outputs": [],
   "source": [
    "def obj_fn(q, grasp):\n",
    "    ee_pose = fk_ee_fn(q)\n",
    "    tool_pose = R_grasp(grasp, prob_dict[\"pose_init\"])    \n",
    "    distance_vec = tool_pose[-3:] - ee_pose[-3:]\n",
    "    return jnp.sum(distance_vec**2)"
   ]
  },
  {
   "cell_type": "code",
   "execution_count": 977,
   "metadata": {},
   "outputs": [],
   "source": [
    "ee_point = fk_ee_fn(q)[-3:]"
   ]
  },
  {
   "cell_type": "code",
   "execution_count": 979,
   "metadata": {},
   "outputs": [],
   "source": [
    "grasp_point = np.zeros(3)"
   ]
  },
  {
   "cell_type": "code",
   "execution_count": null,
   "metadata": {},
   "outputs": [],
   "source": [
    "def prob_at_grasp_point(grasp):\n",
    "    "
   ]
  },
  {
   "cell_type": "code",
   "execution_count": 660,
   "metadata": {},
   "outputs": [],
   "source": [
    "def constr_fn(grasp):\n",
    "    return -jnp.log(-P_grasp(grasp))"
   ]
  },
  {
   "cell_type": "code",
   "execution_count": 661,
   "metadata": {},
   "outputs": [],
   "source": [
    "def unconstrained_obj(q, grasp, t):\n",
    "    return t*obj_fn(q, grasp) - constr_fn(grasp)"
   ]
  },
  {
   "cell_type": "code",
   "execution_count": 662,
   "metadata": {},
   "outputs": [
    {
     "data": {
      "text/plain": [
       "Array(6.878453, dtype=float32)"
      ]
     },
     "execution_count": 662,
     "metadata": {},
     "output_type": "execute_result"
    }
   ],
   "source": [
    "unconstrained_obj(q, grasp, 1)"
   ]
  },
  {
   "cell_type": "code",
   "execution_count": 964,
   "metadata": {},
   "outputs": [
    {
     "name": "stdout",
     "output_type": "stream",
     "text": [
      "[-11.318775   -85.73246     -0.98866487]\n"
     ]
    }
   ],
   "source": [
    "grad_fn = jax.grad(unconstrained_obj, argnums=1)\n",
    "d = - grad_fn(q, grasp, 100)\n",
    "\n",
    "#if np.linalg.norm(d) < 10:\n",
    "grasp = grasp + d * 0.01 / np.linalg.norm(d)\n",
    "print(d)\n",
    "\n",
    "grasp_vis(grasp, prob_dict[\"pose_init\"])"
   ]
  },
  {
   "cell_type": "code",
   "execution_count": 973,
   "metadata": {},
   "outputs": [],
   "source": [
    "grasp = np.zeros(3)"
   ]
  },
  {
   "cell_type": "code",
   "execution_count": 971,
   "metadata": {},
   "outputs": [],
   "source": [
    "#grasp solving using sqp"
   ]
  },
  {
   "cell_type": "code",
   "execution_count": 976,
   "metadata": {},
   "outputs": [
    {
     "data": {
      "text/plain": [
       "Array([  5.486557, 120.04222 ,  80.05906 ], dtype=float32)"
      ]
     },
     "execution_count": 976,
     "metadata": {},
     "output_type": "execute_result"
    }
   ],
   "source": [
    "jax.grad(P_grasp)(grasp)"
   ]
  },
  {
   "cell_type": "code",
   "execution_count": 966,
   "metadata": {},
   "outputs": [],
   "source": [
    "import cvxpy as cp"
   ]
  },
  {
   "cell_type": "code",
   "execution_count": 969,
   "metadata": {},
   "outputs": [
    {
     "data": {
      "text/plain": [
       "0.03264679253764401"
      ]
     },
     "execution_count": 969,
     "metadata": {},
     "output_type": "execute_result"
    }
   ],
   "source": [
    "import cvxpy as cp\n",
    "m,n = 1,3\n",
    "# A = np.random.randn(m,n)\n",
    "# b = np.random.randn(m)\n",
    "# x = cp.Variable(n)\n",
    "# lam = 0.1\n",
    "\n",
    "f = 0. # cp.sum_squares(A@x - b) + lam*cp.norm1(x)\n",
    "cons = [x >= 0]\n",
    "cp.Problem(cp.Minimize(f), cons).solve(verbose=False, eps_abs=1e-8, eps_rel=1e-8)"
   ]
  },
  {
   "cell_type": "code",
   "execution_count": 968,
   "metadata": {},
   "outputs": [
    {
     "data": {
      "text/plain": [
       "Array([ 0.84203595,  0.00336818, -0.16181575], dtype=float32)"
      ]
     },
     "execution_count": 968,
     "metadata": {},
     "output_type": "execute_result"
    }
   ],
   "source": [
    "jax.grad(P_grasp)"
   ]
  },
  {
   "cell_type": "code",
   "execution_count": 403,
   "metadata": {},
   "outputs": [
    {
     "data": {
      "text/plain": [
       "Array(0.02530418, dtype=float32)"
      ]
     },
     "execution_count": 403,
     "metadata": {},
     "output_type": "execute_result"
    }
   ],
   "source": [
    "obj_fn(q, grasp)"
   ]
  },
  {
   "cell_type": "code",
   "execution_count": null,
   "metadata": {},
   "outputs": [],
   "source": []
  },
  {
   "cell_type": "code",
   "execution_count": 433,
   "metadata": {},
   "outputs": [
    {
     "data": {
      "text/plain": [
       "Array(-6.534566, dtype=float32)"
      ]
     },
     "execution_count": 433,
     "metadata": {},
     "output_type": "execute_result"
    }
   ],
   "source": [
    "unconstrained_obj(q, grasp, 1)"
   ]
  },
  {
   "cell_type": "code",
   "execution_count": 956,
   "metadata": {},
   "outputs": [
    {
     "data": {
      "text/plain": [
       "Array(0.9343756, dtype=float32)"
      ]
     },
     "execution_count": 956,
     "metadata": {},
     "output_type": "execute_result"
    }
   ],
   "source": [
    "P_grasp(grasp)"
   ]
  },
  {
   "cell_type": "code",
   "execution_count": 955,
   "metadata": {},
   "outputs": [
    {
     "data": {
      "text/plain": [
       "Array(nan, dtype=float32)"
      ]
     },
     "execution_count": 955,
     "metadata": {},
     "output_type": "execute_result"
    }
   ],
   "source": [
    "constr_fn(grasp)"
   ]
  },
  {
   "cell_type": "code",
   "execution_count": 402,
   "metadata": {},
   "outputs": [
    {
     "data": {
      "text/plain": [
       "<function __main__.obj_fn(q, grasp)>"
      ]
     },
     "execution_count": 402,
     "metadata": {},
     "output_type": "execute_result"
    }
   ],
   "source": [
    "obj_fn"
   ]
  },
  {
   "cell_type": "code",
   "execution_count": null,
   "metadata": {},
   "outputs": [],
   "source": []
  },
  {
   "cell_type": "code",
   "execution_count": 159,
   "metadata": {},
   "outputs": [],
   "source": [
    "def grasp_vis(grasp, obj_pose):\n",
    "    tool_pose = R_grasp(grasp, obj_pose)\n",
    "    pcs = jax.vmap(SE3(tool_pose).apply)(hande_pc)\n",
    "    pc_red.reload(points=np.array(pcs, dtype=float))"
   ]
  },
  {
   "cell_type": "code",
   "execution_count": 161,
   "metadata": {},
   "outputs": [],
   "source": [
    "gen3.set_joint_angles(q)\n",
    "grasp_vis(grasp, prob_dict[\"pose_init\"])"
   ]
  },
  {
   "cell_type": "code",
   "execution_count": 156,
   "metadata": {},
   "outputs": [
    {
     "data": {
      "text/plain": [
       "Array([ 0.1284881 ,  0.29880372,  0.07257996, -0.94283575,  0.4       ,\n",
       "        0.3       ,  0.0665    ], dtype=float32)"
      ]
     },
     "execution_count": 156,
     "metadata": {},
     "output_type": "execute_result"
    }
   ],
   "source": [
    "R_grasp(grasp, prob_dict[\"pose_init\"])"
   ]
  },
  {
   "cell_type": "code",
   "execution_count": 144,
   "metadata": {},
   "outputs": [
    {
     "data": {
      "text/plain": [
       "Array([-0.02928689, -0.01278105, -0.0667685 ], dtype=float32)"
      ]
     },
     "execution_count": 144,
     "metadata": {},
     "output_type": "execute_result"
    }
   ],
   "source": [
    "tool_pose[-3:] - ee_pose[-3:] #objective"
   ]
  },
  {
   "cell_type": "code",
   "execution_count": 130,
   "metadata": {},
   "outputs": [
    {
     "name": "stdout",
     "output_type": "stream",
     "text": [
      "cval:  {'robot_col_distance_MoveFree_0_gen3_via0': array([0.15880519], dtype=float32), 'robot_col_distance_MoveHold_1_gen3_via0': array([0.06449807], dtype=float32), 'robot_col_distance_MoveFree_2_gen3_via0': array([0.15880519], dtype=float32), 'robot_col_distance_pickplace_gen3_1': array([0.12519789], dtype=float32), 'robot_col_distance_pickplace_gen3_2': array([0.05005348], dtype=float32), 'kinematics_error_pickplace_gen3_1': array([-1.0907650e-05,  9.7453594e-06, -1.3694167e-05,  1.9207214e-04,\n",
      "       -9.5971435e-04,  1.0289898e-04], dtype=float32), 'kinematics_error_pickplace_gen3_2': array([ 5.7488680e-05, -6.4074993e-07, -4.5597553e-05,  3.1363950e-04,\n",
      "       -9.7249402e-04,  1.2700254e-04], dtype=float32), 'grasp_prob_movehold_1_gen3': array([-1.0676041], dtype=float32)}\n",
      "viol:  {'robot_col_distance_MoveFree_0_gen3_via0': array([ True]), 'robot_col_distance_MoveHold_1_gen3_via0': array([ True]), 'robot_col_distance_MoveFree_2_gen3_via0': array([ True]), 'robot_col_distance_pickplace_gen3_1': array([ True]), 'robot_col_distance_pickplace_gen3_2': array([ True]), 'kinematics_error_pickplace_gen3_1': array([False, False, False, False, False, False]), 'kinematics_error_pickplace_gen3_2': array([False, False, False, False, False, False]), 'grasp_prob_movehold_1_gen3': array([False])}\n"
     ]
    }
   ],
   "source": [
    "opt_if.check_constraint(sol)"
   ]
  },
  {
   "cell_type": "code",
   "execution_count": null,
   "metadata": {},
   "outputs": [],
   "source": []
  },
  {
   "cell_type": "code",
   "execution_count": 113,
   "metadata": {},
   "outputs": [],
   "source": [
    "i = 0"
   ]
  },
  {
   "cell_type": "code",
   "execution_count": 151,
   "metadata": {},
   "outputs": [
    {
     "name": "stdout",
     "output_type": "stream",
     "text": [
      "35\n",
      "cval:  {'hand_col_distance_rpickplace_gen3_1': array([0.00727862], dtype=float32), 'hand_col_distance_rpickplace_gen3_2': array([0.17604774], dtype=float32), 'grasp_prob_movehold_1_gen3': array([-282.00806], dtype=float32), 'inv_manipulability_rpickplace_gen3_1': array([0.30088285], dtype=float32), 'inv_manipulability_rpickplace_gen3_2': array([0.8671745], dtype=float32)}\n",
      "viol:  {'hand_col_distance_rpickplace_gen3_1': array([False]), 'hand_col_distance_rpickplace_gen3_2': array([ True]), 'grasp_prob_movehold_1_gen3': array([False]), 'inv_manipulability_rpickplace_gen3_1': array([ True]), 'inv_manipulability_rpickplace_gen3_2': array([ True])}\n"
     ]
    }
   ],
   "source": [
    "print(i)\n",
    "x = opt_if.x_history[i]\n",
    "opt_if.debug_fn(x)\n",
    "opt_if.check_constraint(x)\n",
    "i += 1"
   ]
  },
  {
   "cell_type": "code",
   "execution_count": 117,
   "metadata": {},
   "outputs": [
    {
     "data": {
      "text/plain": [
       "Array(-102.51603, dtype=float32)"
      ]
     },
     "execution_count": 117,
     "metadata": {},
     "output_type": "execute_result"
    }
   ],
   "source": [
    "P_grasp(x)"
   ]
  },
  {
   "cell_type": "code",
   "execution_count": 90,
   "metadata": {},
   "outputs": [
    {
     "data": {
      "text/plain": [
       "[Constr:_hand_col_distance_rpickplace_gen3_1,\n",
       " Constr:_hand_col_distance_rpickplace_gen3_2,\n",
       " Constr:_grasp_prob_movehold_1_gen3,\n",
       " Constr:_inv_manipulability_rpickplace_gen3_1,\n",
       " Constr:_inv_manipulability_rpickplace_gen3_2]"
      ]
     },
     "execution_count": 90,
     "metadata": {},
     "output_type": "execute_result"
    }
   ],
   "source": [
    "[constr for constr in relaxed_prob.ordered_constr_list]"
   ]
  },
  {
   "cell_type": "code",
   "execution_count": null,
   "metadata": {},
   "outputs": [],
   "source": []
  },
  {
   "cell_type": "code",
   "execution_count": 51,
   "metadata": {},
   "outputs": [],
   "source": [
    "constr_fn = relaxed_prob.get_constraint_fn()"
   ]
  },
  {
   "cell_type": "code",
   "execution_count": 74,
   "metadata": {},
   "outputs": [
    {
     "data": {
      "text/plain": [
       "{'hand_col_distance_rpickplace_gen3_1': Array([ True], dtype=bool),\n",
       " 'hand_col_distance_rpickplace_gen3_2': Array([False], dtype=bool),\n",
       " 'grasp_prob_movehold_1_gen3': Array([False], dtype=bool),\n",
       " 'inv_manipulability_rpickplace_gen3_1': Array([False], dtype=bool),\n",
       " 'inv_manipulability_rpickplace_gen3_2': Array([False], dtype=bool)}"
      ]
     },
     "execution_count": 74,
     "metadata": {},
     "output_type": "execute_result"
    }
   ],
   "source": [
    "opt_if.check_constraint(sol)"
   ]
  },
  {
   "cell_type": "code",
   "execution_count": 54,
   "metadata": {},
   "outputs": [],
   "source": [
    "cval = constr_fn(relaxed_prob.to_param_vec(prob_dict), sol)"
   ]
  },
  {
   "cell_type": "code",
   "execution_count": 56,
   "metadata": {},
   "outputs": [
    {
     "ename": "TypeError",
     "evalue": "'<' not supported between instances of 'ProblemBuilder' and 'ArrayImpl'",
     "output_type": "error",
     "traceback": [
      "\u001b[0;31m---------------------------------------------------------------------------\u001b[0m",
      "\u001b[0;31mTypeError\u001b[0m                                 Traceback (most recent call last)",
      "Cell \u001b[0;32mIn[56], line 1\u001b[0m\n\u001b[0;32m----> 1\u001b[0m relaxed_prob \u001b[39m<\u001b[39;49m cval\n",
      "\u001b[0;31mTypeError\u001b[0m: '<' not supported between instances of 'ProblemBuilder' and 'ArrayImpl'"
     ]
    }
   ],
   "source": [
    "relaxed_prob < cval"
   ]
  },
  {
   "cell_type": "code",
   "execution_count": null,
   "metadata": {},
   "outputs": [],
   "source": []
  },
  {
   "cell_type": "code",
   "execution_count": null,
   "metadata": {},
   "outputs": [],
   "source": [
    "ipopt_r.solve()"
   ]
  },
  {
   "cell_type": "code",
   "execution_count": null,
   "metadata": {},
   "outputs": [],
   "source": [
    "solver_r = ipopt_r.get_ipopt_solver()"
   ]
  },
  {
   "cell_type": "code",
   "execution_count": null,
   "metadata": {},
   "outputs": [],
   "source": []
  },
  {
   "cell_type": "code",
   "execution_count": 31,
   "metadata": {},
   "outputs": [
    {
     "name": "stdout",
     "output_type": "stream",
     "text": [
      "set action_seq and keyframes\n",
      "set variables and parameters\n",
      "set constraints\n",
      "All constraint functions are set\n",
      "Coordinates are set\n"
     ]
    }
   ],
   "source": [
    "prob = ProblemBuilder(robots, home_configs, is_relaxed=False)\n",
    "prob.build_problem(action_seq, init_scene, goal_scene)\n",
    "prob.set_constr_fn_dict(fn_dict)"
   ]
  },
  {
   "cell_type": "code",
   "execution_count": 352,
   "metadata": {},
   "outputs": [],
   "source": [
    "obj_fn = prob.get_objective_fn()\n",
    "constr_fn = prob.get_constraint_fn()"
   ]
  },
  {
   "cell_type": "code",
   "execution_count": 185,
   "metadata": {},
   "outputs": [],
   "source": [
    "obj_fn = relaxed_prob.get_objective_fn()\n",
    "constr_fn = relaxed_prob.get_constraint_fn()\n",
    "jac_struct_fn = relaxed_prob.get_jacobian_structure_fn()\n",
    "x0 = relaxed_prob.get_initial_value(prob_dict, is_random=False)"
   ]
  },
  {
   "cell_type": "code",
   "execution_count": 186,
   "metadata": {},
   "outputs": [],
   "source": [
    "pc_vis = PointCloud(world.vis, \"pc\", np.zeros((10,3)), 0.01, \"red\")\n",
    "pc_vis_b = PointCloud(world.vis, \"pc\", np.zeros((10,3)), 0.01, \"blue\")"
   ]
  },
  {
   "cell_type": "code",
   "execution_count": 137,
   "metadata": {},
   "outputs": [],
   "source": [
    "del pc_vis, pc_vis_b"
   ]
  },
  {
   "cell_type": "code",
   "execution_count": 187,
   "metadata": {},
   "outputs": [],
   "source": [
    "import time\n",
    "def debug_fn_r(x):\n",
    "    x_dict = relaxed_prob.to_var_dict(x)\n",
    "\n",
    "    grasp = x_dict[\"grasp_1\"]\n",
    "    obj_pose0 = x_dict[\"pose_init\"]\n",
    "    obj_poseg = x_dict[\"pose_goal\"]\n",
    "    obj_poses = [obj_pose0, obj_poseg]\n",
    "\n",
    "    pcs = []\n",
    "    for obj_pose in obj_poses:\n",
    "        tool_pose = R_grasp(grasp, obj_pose)\n",
    "        pc = jax.vmap(SE3(tool_pose).normalize().apply)(hande_pc)\n",
    "        pcs.append(pc)\n",
    "    pcs = jnp.vstack(pcs)\n",
    "    \n",
    "    pc_vis.reload(points=np.array(pcs, dtype=float))\n",
    "    time.sleep(0.1)\n",
    "\n",
    "ipopt_r = IPOPTAcc(relaxed_prob, True, debug_fn=debug_fn_r)\n",
    "solver_r = ipopt_r.get_ipopt_solver()"
   ]
  },
  {
   "cell_type": "code",
   "execution_count": 188,
   "metadata": {},
   "outputs": [],
   "source": [
    "sol_dict = relaxed_prob.to_var_dict(sol)\n",
    "grasp = sol_dict[\"grasp_1\"]\n",
    "pose_init = sol_dict[\"pose_init\"]\n",
    "pose_goal = sol_dict[\"pose_goal\"]"
   ]
  },
  {
   "cell_type": "code",
   "execution_count": 171,
   "metadata": {},
   "outputs": [
    {
     "data": {
      "text/plain": [
       "SE3(wxyz=[ 0.67109996 -0.22284    -0.5        -0.22284   ], xyz=[0.40034    0.30023998 0.06655   ])"
      ]
     },
     "execution_count": 171,
     "metadata": {},
     "output_type": "execute_result"
    }
   ],
   "source": [
    "SE3(pose_init)"
   ]
  },
  {
   "cell_type": "code",
   "execution_count": 165,
   "metadata": {},
   "outputs": [],
   "source": [
    "debug_fn_r(sol)"
   ]
  },
  {
   "cell_type": "code",
   "execution_count": 115,
   "metadata": {},
   "outputs": [
    {
     "data": {
      "text/plain": [
       "{'grasp_1': array([ 7.72707770e-01, -1.71476841e-04,  4.06365361e-01]),\n",
       " 'pose_init': array([ 0.70657744,  0.02735457, -0.50000001,  0.02735457,  0.40000001,\n",
       "         0.30000003,  0.0665    ]),\n",
       " 'pose_goal': array([ 2.94549686e-01,  0.00000000e+00, -1.62890279e-13, -9.55636107e-01,\n",
       "         4.00000014e-01, -3.00000027e-01,  3.50000007e-02])}"
      ]
     },
     "execution_count": 115,
     "metadata": {},
     "output_type": "execute_result"
    }
   ],
   "source": [
    "relaxed_prob.to_var_dict(sol)"
   ]
  },
  {
   "cell_type": "code",
   "execution_count": 189,
   "metadata": {},
   "outputs": [],
   "source": [
    "prob_dict = get_problem()\n",
    "visualize_problem(prob_dict)"
   ]
  },
  {
   "cell_type": "code",
   "execution_count": 190,
   "metadata": {},
   "outputs": [
    {
     "name": "stdout",
     "output_type": "stream",
     "text": [
      "This is Ipopt version 3.14.10, running with linear solver MUMPS 5.2.1.\n",
      "\n",
      "Number of nonzeros in equality constraint Jacobian...:        0\n",
      "Number of nonzeros in inequality constraint Jacobian.:       15\n",
      "Number of nonzeros in Lagrangian Hessian.............:        0\n",
      "\n",
      "Total number of variables............................:       17\n",
      "                     variables with only lower bounds:        0\n",
      "                variables with lower and upper bounds:       17\n",
      "                     variables with only upper bounds:        0\n",
      "Total number of equality constraints.................:       14\n",
      "Total number of inequality constraints...............:        5\n",
      "        inequality constraints with only lower bounds:        5\n",
      "   inequality constraints with lower and upper bounds:        0\n",
      "        inequality constraints with only upper bounds:        0\n",
      "\n",
      "iter    objective    inf_pr   inf_du lg(mu)  ||d||  lg(rg) alpha_du alpha_pr  ls\n",
      "   0  0.0000000e+00 1.18e+02 1.00e+00   0.0 0.00e+00    -  0.00e+00 0.00e+00   0\n",
      "   1  0.0000000e+00 1.43e+02 5.28e+00  -0.8 6.77e-01    -  6.57e-01 1.00e+00f  1\n",
      "   2  0.0000000e+00 5.97e+01 3.39e+00  -0.5 8.79e-01    -  9.65e-01 6.41e-01h  1\n",
      "   3  0.0000000e+00 5.17e+01 5.45e-01  -1.3 1.49e+00    -  6.92e-01 1.00e+00H  1\n",
      "   4  0.0000000e+00 4.58e+01 4.95e+00  -1.0 9.08e+00    -  1.00e+00 4.41e-01h  2\n",
      "   5  0.0000000e+00 4.60e+01 6.99e+01  -1.7 4.98e+01    -  7.92e-01 1.24e-01h  1\n",
      "   6  0.0000000e+00 1.74e+02 2.18e+02   0.3 7.05e+01    -  1.00e+00 4.29e-01f  1\n",
      "   7  0.0000000e+00 1.65e+02 3.10e+03   0.3 8.50e+00    -  3.63e-01 4.31e-02h  1\n",
      "   8  0.0000000e+00 1.65e+02 1.58e+04   0.3 9.26e+02    -  3.09e-03 3.74e-04h  1\n",
      "   9  0.0000000e+00 1.55e+02 6.86e+03   0.3 2.39e+03    -  4.71e-05 3.16e-03f  2\n",
      "iter    objective    inf_pr   inf_du lg(mu)  ||d||  lg(rg) alpha_du alpha_pr  ls\n",
      "  10  0.0000000e+00 1.72e+02 6.39e+03   0.3 1.32e+03    -  9.20e-04 3.12e-03f  2\n",
      "  11  0.0000000e+00 1.63e+02 2.42e+04   0.3 7.30e+03    -  2.73e-03 9.31e-04h  2\n",
      "  12  0.0000000e+00 1.60e+02 6.48e+04   0.3 1.01e+04    -  4.79e-03 3.14e-04f  5\n",
      "  13  0.0000000e+00 9.57e+01 7.72e+04   0.3 1.17e+04    -  6.82e-03 5.30e-03f  2\n",
      "  14  0.0000000e+00 9.10e+01 7.77e+04   0.3 1.37e+04    -  8.17e-04 2.90e-04f  3\n",
      "  15  0.0000000e+00 7.66e+01 8.59e+04   0.3 1.01e+04    -  6.07e-02 1.16e-03f  2\n",
      "  16  0.0000000e+00 5.68e+01 8.55e+04   0.3 1.70e+03    -  4.15e-03 4.42e-03h  2\n",
      "  17  0.0000000e+00 1.01e+02 6.68e+04   0.3 1.22e+03    -  1.40e-01 5.08e-02H  1\n",
      "  18  0.0000000e+00 1.00e+02 6.65e+04   0.3 1.27e+03    -  2.12e-03 2.96e-03h  1\n",
      "  19  0.0000000e+00 1.06e+02 7.12e+04   0.3 1.89e+04    -  1.89e-02 2.61e-04h  2\n",
      "iter    objective    inf_pr   inf_du lg(mu)  ||d||  lg(rg) alpha_du alpha_pr  ls\n",
      "  20  0.0000000e+00 1.83e+02 1.02e+05   0.3 2.15e+04    -  3.00e-02 3.40e-03h  1\n",
      "  21  0.0000000e+00 1.84e+02 1.68e+07   0.3 1.71e+03    -  1.00e+00 4.27e-04h  1\n",
      "  22  0.0000000e+00 1.21e+02 8.50e+06   0.3 9.16e-01    -  3.68e-01 6.98e-01h  1\n",
      "  23  0.0000000e+00 1.19e+02 4.18e+06   0.3 7.99e-01    -  4.80e-01 2.34e-02h  1\n",
      "  24  0.0000000e+00 1.19e+02 4.18e+06   0.3 2.29e+00    -  2.70e-03 2.67e-04h  1\n",
      "  25  0.0000000e+00 1.19e+02 4.17e+06   0.3 6.37e-01    -  2.05e-03 4.56e-04h  1\n",
      "  26  0.0000000e+00 1.12e+02 6.01e+06   0.3 8.29e-01    -  1.26e-01 5.11e-02f  1\n",
      "  27  0.0000000e+00 1.12e+02 6.05e+06   0.3 7.25e-01    -  5.59e-02 9.89e-04h  1\n",
      "  28  0.0000000e+00 9.58e+01 1.63e+07   0.3 7.24e-01    -  1.00e+00 1.51e-01f  1\n",
      "  29  0.0000000e+00 9.50e+01 1.68e+07   0.3 1.98e+00    -  7.64e-02 8.84e-03h  1\n",
      "iter    objective    inf_pr   inf_du lg(mu)  ||d||  lg(rg) alpha_du alpha_pr  ls\n",
      "  30  0.0000000e+00 9.37e+01 2.14e+07   0.3 2.64e+00    -  3.31e-01 2.01e-02h  3\n",
      "  31  0.0000000e+00 9.35e+01 2.34e+07   0.3 3.51e-01    -  1.00e+00 2.51e-03h  1\n",
      "  32  0.0000000e+00 8.64e+01 1.17e+07   0.3 3.51e-01    -  1.00e+00 5.00e-01f  2\n",
      "  33  0.0000000e+00 4.14e+01 2.42e+07   0.3 1.75e-01    -  1.00e+00 5.71e-01h  1\n",
      "  34  0.0000000e+00 3.30e+01 5.69e+06   0.3 1.59e-01    -  1.00e+00 7.50e-01h  1\n",
      "  35  0.0000000e+00 1.26e+00 4.80e+07  -0.0 1.80e-01    -  1.00e+00 9.96e-01h  1\n",
      "  36  0.0000000e+00 3.05e+01 1.19e+07  -0.2 1.49e-01    -  1.00e+00 1.00e+00f  1\n",
      "  37  0.0000000e+00 8.24e+00 9.43e+07  -0.3 7.36e-02    -  1.00e+00 1.00e+00h  1\n",
      "  38  0.0000000e+00 1.02e+02 1.59e+08  -0.3 3.82e-01    -  8.58e-02 1.00e+00f  1\n",
      "  39  0.0000000e+00 1.02e+02 1.59e+08  -0.3 6.65e-01    -  2.82e-01 2.52e-04h  3\n",
      "iter    objective    inf_pr   inf_du lg(mu)  ||d||  lg(rg) alpha_du alpha_pr  ls\n",
      "  40  0.0000000e+00 1.01e+02 1.62e+08  -0.3 8.33e+00    -  1.09e-01 7.23e-03h  4\n",
      "  41  0.0000000e+00 1.00e+02 1.63e+08  -0.3 8.38e+00    -  2.31e-01 3.04e-03h  5\n",
      "  42  0.0000000e+00 1.00e+02 1.63e+08  -0.3 8.39e+00    -  1.82e-01 7.02e-04h  7\n",
      "  43  0.0000000e+00 1.00e+02 1.64e+08  -0.3 8.39e+00    -  6.50e-01 1.72e-04h  9\n",
      "  44  0.0000000e+00 1.46e+02 1.28e+09  -0.3 8.39e+00    -  1.86e-02 2.20e-02f  2\n",
      "  45  0.0000000e+00 1.98e+02 1.11e+08  -0.3 1.15e+01    -  2.76e-04 1.25e-01f  1\n",
      "  46  0.0000000e+00 2.61e+02 2.31e+08  -0.3 1.47e+01    -  1.17e-05 1.01e-01f  1\n",
      "  47  0.0000000e+00 2.64e+02 1.44e+08  -0.3 1.96e+01    -  8.15e-04 1.07e-02f  2\n",
      "  48  0.0000000e+00 2.53e+02 8.70e+07  -0.3 1.01e+01    -  2.12e-02 2.11e-02h  1\n",
      "  49  0.0000000e+00 2.47e+02 1.11e+08  -0.3 1.96e+01    -  1.21e-04 1.44e-02f  2\n",
      "iter    objective    inf_pr   inf_du lg(mu)  ||d||  lg(rg) alpha_du alpha_pr  ls\n",
      "  50  0.0000000e+00 2.47e+02 9.08e+07  -0.3 1.08e+01    -  3.71e-02 1.80e-03h  5\n",
      "  51  0.0000000e+00 2.33e+02 7.62e+07  -0.3 1.38e+01    -  4.07e-02 4.02e-02h  1\n",
      "  52  0.0000000e+00 2.33e+02 7.62e+07  -0.3 1.78e+01    -  2.56e-01 4.67e-04h  1\n",
      "  53  0.0000000e+00 2.33e+02 7.62e+07  -0.3 7.24e+00    -  2.02e-01 3.91e-05h  1\n",
      "  54  0.0000000e+00 2.27e+02 8.06e+07  -0.3 2.68e+00    -  1.00e+00 2.51e-02h  2\n",
      "  55  0.0000000e+00 1.93e+02 6.50e+07  -0.3 2.57e+00    -  1.99e-01 1.26e-01h  2\n",
      "  56  0.0000000e+00 1.93e+02 6.50e+07  -0.3 6.50e+00    -  3.63e-01 1.70e-05h  2\n",
      "  57  0.0000000e+00 1.70e+02 4.80e+07  -0.3 1.25e+00    -  3.44e-03 2.61e-01h  1\n",
      "  58  0.0000000e+00 1.57e+02 4.45e+07  -0.3 1.03e+00    -  1.12e-05 7.31e-02f  1\n",
      "  59  0.0000000e+00 7.14e+01 3.60e+07  -0.3 7.63e-01    -  7.38e-02 7.05e-01f  1\n",
      "iter    objective    inf_pr   inf_du lg(mu)  ||d||  lg(rg) alpha_du alpha_pr  ls\n",
      "  60  0.0000000e+00 2.43e+01 2.04e+07  -0.3 3.10e-01    -  4.58e-03 1.00e+00f  1\n",
      "  61  0.0000000e+00 5.88e+01 1.46e+08  -0.3 2.63e-01    -  6.21e-01 1.00e+00h  1\n",
      "  62  0.0000000e+00 5.74e+01 2.92e+08  -0.3 7.51e+00    -  1.92e-03 2.70e-02f  2\n",
      "  63  0.0000000e+00 8.08e+01 2.11e+08  -0.3 4.73e+00    -  3.00e-01 2.17e-02f  2\n",
      "  64  0.0000000e+00 8.07e+01 2.11e+08  -0.3 5.39e-01    -  1.00e+00 4.28e-05h  2\n",
      "  65  0.0000000e+00 7.31e+01 2.40e+08  -0.3 5.00e-01    -  1.00e+00 1.04e-01h  2\n",
      "  66  0.0000000e+00 6.68e+01 1.94e+08  -0.3 3.03e-01    -  8.18e-01 8.63e-02h  2\n",
      "  67  0.0000000e+00 1.35e+02 1.27e+08  -0.3 7.20e+00    -  4.86e-03 4.39e-02f  2\n",
      "\n",
      "Number of Iterations....: 67\n",
      "\n",
      "                                   (scaled)                 (unscaled)\n",
      "Objective...............:   0.0000000000000000e+00    0.0000000000000000e+00\n",
      "Dual infeasibility......:   1.2678675463787723e+08    1.2678675463787723e+08\n",
      "Constraint violation....:   1.1226350842070966e+02    1.3476362608863280e+02\n",
      "Variable bound violation:   0.0000000000000000e+00    0.0000000000000000e+00\n",
      "Complementarity.........:   1.5128128568668038e+02    1.5128128568668038e+02\n",
      "Overall NLP error.......:   1.1226350842070966e+02    1.2678675463787723e+08\n",
      "\n",
      "\n",
      "Number of objective function evaluations             = 153\n",
      "Number of objective gradient evaluations             = 68\n",
      "Number of equality constraint evaluations            = 153\n",
      "Number of inequality constraint evaluations          = 153\n",
      "Number of equality constraint Jacobian evaluations   = 68\n",
      "Number of inequality constraint Jacobian evaluations = 68\n",
      "Number of Lagrangian Hessian evaluations             = 0\n",
      "Total seconds in IPOPT                               = 28.212\n",
      "\n",
      "EXIT: Stopping optimization at current point as requested by user.\n"
     ]
    },
    {
     "ename": "KeyboardInterrupt",
     "evalue": "",
     "output_type": "error",
     "traceback": [
      "\u001b[0;31m---------------------------------------------------------------------------\u001b[0m",
      "\u001b[0;31mKeyboardInterrupt\u001b[0m                         Traceback (most recent call last)",
      "Cell \u001b[0;32mIn[190], line 3\u001b[0m\n\u001b[1;32m      1\u001b[0m x0 \u001b[39m=\u001b[39m relaxed_prob\u001b[39m.\u001b[39mget_initial_value(prob_dict)\n\u001b[1;32m      2\u001b[0m debug_fn_r(x0)\n\u001b[0;32m----> 3\u001b[0m sol, info \u001b[39m=\u001b[39m solver_r\u001b[39m.\u001b[39;49msolve(x0)\n\u001b[1;32m      5\u001b[0m solver_r\u001b[39m.\u001b[39madd_option(\u001b[39m\"\u001b[39m\u001b[39macceptable_iter\u001b[39m\u001b[39m\"\u001b[39m, \u001b[39m2\u001b[39m)\n\u001b[1;32m      6\u001b[0m solver_r\u001b[39m.\u001b[39madd_option(\u001b[39m\"\u001b[39m\u001b[39macceptable_tol\u001b[39m\u001b[39m\"\u001b[39m, np\u001b[39m.\u001b[39minf) \u001b[39m#release\u001b[39;00m\n",
      "File \u001b[0;32m~/miniconda3/envs/cu11/lib/python3.8/site-packages/cyipopt/cython/ipopt_wrapper.pyx:642\u001b[0m, in \u001b[0;36mipopt_wrapper.Problem.solve\u001b[0;34m()\u001b[0m\n",
      "File \u001b[0;32m~/miniconda3/envs/cu11/lib/python3.8/site-packages/cyipopt/cython/ipopt_wrapper.pyx:676\u001b[0m, in \u001b[0;36mipopt_wrapper.objective_cb\u001b[0;34m()\u001b[0m\n",
      "Cell \u001b[0;32mIn[175], line 28\u001b[0m, in \u001b[0;36mIPOPTAcc.objective\u001b[0;34m(self, x)\u001b[0m\n\u001b[1;32m     26\u001b[0m \u001b[39mself\u001b[39m\u001b[39m.\u001b[39mgrads[key] \u001b[39m=\u001b[39m grad\n\u001b[1;32m     27\u001b[0m \u001b[39mif\u001b[39;00m \u001b[39mself\u001b[39m\u001b[39m.\u001b[39mdebug_fn \u001b[39mis\u001b[39;00m \u001b[39mnot\u001b[39;00m \u001b[39mNone\u001b[39;00m:\n\u001b[0;32m---> 28\u001b[0m     \u001b[39mself\u001b[39;49m\u001b[39m.\u001b[39;49mdebug_fn(x)\n\u001b[1;32m     29\u001b[0m \u001b[39mreturn\u001b[39;00m value\n",
      "Cell \u001b[0;32mIn[187], line 15\u001b[0m, in \u001b[0;36mdebug_fn_r\u001b[0;34m(x)\u001b[0m\n\u001b[1;32m     13\u001b[0m     pc \u001b[39m=\u001b[39m jax\u001b[39m.\u001b[39mvmap(SE3(tool_pose)\u001b[39m.\u001b[39mnormalize()\u001b[39m.\u001b[39mapply)(hande_pc)\n\u001b[1;32m     14\u001b[0m     pcs\u001b[39m.\u001b[39mappend(pc)\n\u001b[0;32m---> 15\u001b[0m pcs \u001b[39m=\u001b[39m jnp\u001b[39m.\u001b[39;49mvstack(pcs)\n\u001b[1;32m     17\u001b[0m pc_vis\u001b[39m.\u001b[39mreload(points\u001b[39m=\u001b[39mnp\u001b[39m.\u001b[39marray(pcs, dtype\u001b[39m=\u001b[39m\u001b[39mfloat\u001b[39m))\n\u001b[1;32m     18\u001b[0m time\u001b[39m.\u001b[39msleep(\u001b[39m0.1\u001b[39m)\n",
      "File \u001b[0;32m~/miniconda3/envs/cu11/lib/python3.8/site-packages/jax/_src/numpy/lax_numpy.py:1785\u001b[0m, in \u001b[0;36mvstack\u001b[0;34m(tup, dtype)\u001b[0m\n\u001b[1;32m   1783\u001b[0m   arrs \u001b[39m=\u001b[39m jax\u001b[39m.\u001b[39mvmap(atleast_2d)(tup)\n\u001b[1;32m   1784\u001b[0m \u001b[39melse\u001b[39;00m:\n\u001b[0;32m-> 1785\u001b[0m   arrs \u001b[39m=\u001b[39m [atleast_2d(m) \u001b[39mfor\u001b[39;00m m \u001b[39min\u001b[39;00m tup]\n\u001b[1;32m   1786\u001b[0m \u001b[39mreturn\u001b[39;00m concatenate(arrs, axis\u001b[39m=\u001b[39m\u001b[39m0\u001b[39m, dtype\u001b[39m=\u001b[39mdtype)\n",
      "File \u001b[0;32m~/miniconda3/envs/cu11/lib/python3.8/site-packages/jax/_src/numpy/lax_numpy.py:1785\u001b[0m, in \u001b[0;36m<listcomp>\u001b[0;34m(.0)\u001b[0m\n\u001b[1;32m   1783\u001b[0m   arrs \u001b[39m=\u001b[39m jax\u001b[39m.\u001b[39mvmap(atleast_2d)(tup)\n\u001b[1;32m   1784\u001b[0m \u001b[39melse\u001b[39;00m:\n\u001b[0;32m-> 1785\u001b[0m   arrs \u001b[39m=\u001b[39m [atleast_2d(m) \u001b[39mfor\u001b[39;00m m \u001b[39min\u001b[39;00m tup]\n\u001b[1;32m   1786\u001b[0m \u001b[39mreturn\u001b[39;00m concatenate(arrs, axis\u001b[39m=\u001b[39m\u001b[39m0\u001b[39m, dtype\u001b[39m=\u001b[39mdtype)\n",
      "    \u001b[0;31m[... skipping hidden 1 frame]\u001b[0m\n",
      "File \u001b[0;32m~/miniconda3/envs/cu11/lib/python3.8/site-packages/jax/_src/pjit.py:238\u001b[0m, in \u001b[0;36m_cpp_pjit.<locals>.cache_miss\u001b[0;34m(*args, **kwargs)\u001b[0m\n\u001b[1;32m    236\u001b[0m \u001b[39m@api_boundary\u001b[39m\n\u001b[1;32m    237\u001b[0m \u001b[39mdef\u001b[39;00m \u001b[39mcache_miss\u001b[39m(\u001b[39m*\u001b[39margs, \u001b[39m*\u001b[39m\u001b[39m*\u001b[39mkwargs):\n\u001b[0;32m--> 238\u001b[0m   outs, out_flat, out_tree, args_flat \u001b[39m=\u001b[39m _python_pjit_helper(\n\u001b[1;32m    239\u001b[0m       fun, infer_params_fn, \u001b[39m*\u001b[39;49margs, \u001b[39m*\u001b[39;49m\u001b[39m*\u001b[39;49mkwargs)\n\u001b[1;32m    241\u001b[0m   executable \u001b[39m=\u001b[39m _read_most_recent_pjit_call_executable()\n\u001b[1;32m    243\u001b[0m   use_fastpath \u001b[39m=\u001b[39m (\n\u001b[1;32m    244\u001b[0m       executable \u001b[39mis\u001b[39;00m \u001b[39mnot\u001b[39;00m \u001b[39mNone\u001b[39;00m \u001b[39mand\u001b[39;00m\n\u001b[1;32m    245\u001b[0m       \u001b[39misinstance\u001b[39m(executable, pxla\u001b[39m.\u001b[39mMeshExecutable) \u001b[39mand\u001b[39;00m\n\u001b[0;32m   (...)\u001b[0m\n\u001b[1;32m    251\u001b[0m       \u001b[39mall\u001b[39m(\u001b[39misinstance\u001b[39m(x, xc\u001b[39m.\u001b[39mArrayImpl) \u001b[39mfor\u001b[39;00m x \u001b[39min\u001b[39;00m out_flat)\n\u001b[1;32m    252\u001b[0m   )\n",
      "File \u001b[0;32m~/miniconda3/envs/cu11/lib/python3.8/site-packages/jax/_src/pjit.py:180\u001b[0m, in \u001b[0;36m_python_pjit_helper\u001b[0;34m(fun, infer_params_fn, *args, **kwargs)\u001b[0m\n\u001b[1;32m    179\u001b[0m \u001b[39mdef\u001b[39;00m \u001b[39m_python_pjit_helper\u001b[39m(fun, infer_params_fn, \u001b[39m*\u001b[39margs, \u001b[39m*\u001b[39m\u001b[39m*\u001b[39mkwargs):\n\u001b[0;32m--> 180\u001b[0m   args_flat, _, params, in_tree, out_tree, _ \u001b[39m=\u001b[39m infer_params_fn(\n\u001b[1;32m    181\u001b[0m       \u001b[39m*\u001b[39;49margs, \u001b[39m*\u001b[39;49m\u001b[39m*\u001b[39;49mkwargs)\n\u001b[1;32m    182\u001b[0m   \u001b[39mfor\u001b[39;00m arg \u001b[39min\u001b[39;00m args_flat:\n\u001b[1;32m    183\u001b[0m     dispatch\u001b[39m.\u001b[39mcheck_arg(arg)\n",
      "File \u001b[0;32m~/miniconda3/envs/cu11/lib/python3.8/site-packages/jax/_src/api.py:311\u001b[0m, in \u001b[0;36mjit.<locals>.infer_params\u001b[0;34m(*args, **kwargs)\u001b[0m\n\u001b[1;32m    304\u001b[0m \u001b[39mdef\u001b[39;00m \u001b[39minfer_params\u001b[39m(\u001b[39m*\u001b[39margs, \u001b[39m*\u001b[39m\u001b[39m*\u001b[39mkwargs):\n\u001b[1;32m    305\u001b[0m   pjit_info_args \u001b[39m=\u001b[39m pjit\u001b[39m.\u001b[39mPjitInfo(\n\u001b[1;32m    306\u001b[0m       fun\u001b[39m=\u001b[39mfun, in_shardings\u001b[39m=\u001b[39min_shardings,\n\u001b[1;32m    307\u001b[0m       out_shardings\u001b[39m=\u001b[39mout_shardings, static_argnums\u001b[39m=\u001b[39mstatic_argnums,\n\u001b[1;32m    308\u001b[0m       static_argnames\u001b[39m=\u001b[39mstatic_argnames, donate_argnums\u001b[39m=\u001b[39mdonate_argnums,\n\u001b[1;32m    309\u001b[0m       device\u001b[39m=\u001b[39mdevice, backend\u001b[39m=\u001b[39mbackend, keep_unused\u001b[39m=\u001b[39mkeep_unused,\n\u001b[1;32m    310\u001b[0m       inline\u001b[39m=\u001b[39minline, resource_env\u001b[39m=\u001b[39m\u001b[39mNone\u001b[39;00m, abstracted_axes\u001b[39m=\u001b[39mabstracted_axes)\n\u001b[0;32m--> 311\u001b[0m   \u001b[39mreturn\u001b[39;00m pjit\u001b[39m.\u001b[39;49mcommon_infer_params(pjit_info_args, \u001b[39m*\u001b[39;49margs, \u001b[39m*\u001b[39;49m\u001b[39m*\u001b[39;49mkwargs)\n",
      "File \u001b[0;32m~/miniconda3/envs/cu11/lib/python3.8/site-packages/jax/_src/pjit.py:477\u001b[0m, in \u001b[0;36mcommon_infer_params\u001b[0;34m(***failed resolving arguments***)\u001b[0m\n\u001b[1;32m    474\u001b[0m \u001b[39melse\u001b[39;00m:\n\u001b[1;32m    475\u001b[0m   in_type \u001b[39m=\u001b[39m in_avals \u001b[39m=\u001b[39m \u001b[39mtuple\u001b[39m(shaped_abstractify(a) \u001b[39mfor\u001b[39;00m a \u001b[39min\u001b[39;00m explicit_args)\n\u001b[0;32m--> 477\u001b[0m canonicalized_in_shardings_flat \u001b[39m=\u001b[39m _process_in_axis_resources(\n\u001b[1;32m    478\u001b[0m     hashable_pytree(in_shardings), in_avals, in_tree, resource_env)\n\u001b[1;32m    480\u001b[0m jaxpr, consts, canonicalized_out_shardings_flat \u001b[39m=\u001b[39m _pjit_jaxpr(\n\u001b[1;32m    481\u001b[0m     flat_fun, hashable_pytree(out_shardings), in_type, dbg,\n\u001b[1;32m    482\u001b[0m     HashableFunction(out_tree, closure\u001b[39m=\u001b[39m()),\n\u001b[1;32m    483\u001b[0m     HashableFunction(res_paths, closure\u001b[39m=\u001b[39m()))\n\u001b[1;32m    485\u001b[0m \u001b[39massert\u001b[39;00m \u001b[39mlen\u001b[39m(explicit_args) \u001b[39m==\u001b[39m \u001b[39mlen\u001b[39m(canonicalized_in_shardings_flat)\n",
      "\u001b[0;31mKeyboardInterrupt\u001b[0m: "
     ]
    }
   ],
   "source": [
    "x0 = relaxed_prob.get_initial_value(prob_dict)\n",
    "debug_fn_r(x0)\n",
    "sol, info = solver_r.solve(x0)\n",
    "\n",
    "solver_r.add_option(\"acceptable_iter\", 2)\n",
    "solver_r.add_option(\"acceptable_tol\", np.inf) #release\n",
    "solver_r.add_option(\"acceptable_dual_inf_tol\", np.inf) #release\n",
    "solver_r.add_option(\"acceptable_obj_change_tol\", 0.1)\n",
    "solver_r.add_option(\"acceptable_constr_viol_tol\", 2.)\n",
    "solver_r.add_option('mu_strategy', 'adaptive')\n",
    "solver_r.add_option('max_iter', 100)"
   ]
  },
  {
   "cell_type": "code",
   "execution_count": 127,
   "metadata": {},
   "outputs": [],
   "source": [
    "jac_struct_mat = np.zeros((relaxed_prob.cdim, relaxed_prob.dim))\n",
    "jac_struct_mat[relaxed_prob.get_jacobian_structure_indices()] = 1"
   ]
  },
  {
   "cell_type": "code",
   "execution_count": 172,
   "metadata": {},
   "outputs": [
    {
     "name": "stdout",
     "output_type": "stream",
     "text": [
      "[1. 1. 1. 0. 0. 0. 0. 0. 0. 0. 0. 0. 0. 0. 0. 0. 0.]\n",
      "[1. 1. 1. 0. 0. 0. 0. 0. 0. 0. 0. 0. 0. 0. 0. 0. 0.]\n",
      "[1. 1. 1. 0. 0. 0. 0. 0. 0. 0. 0. 0. 0. 0. 0. 0. 0.]\n",
      "[1. 1. 1. 0. 0. 0. 0. 0. 0. 0. 0. 0. 0. 0. 0. 0. 0.]\n",
      "[1. 1. 1. 0. 0. 0. 0. 0. 0. 0. 0. 0. 0. 0. 0. 0. 0.]\n",
      "[0. 0. 0. 1. 0. 0. 0. 0. 0. 0. 0. 0. 0. 0. 0. 0. 0.]\n",
      "[0. 0. 0. 0. 1. 0. 0. 0. 0. 0. 0. 0. 0. 0. 0. 0. 0.]\n",
      "[0. 0. 0. 0. 0. 1. 0. 0. 0. 0. 0. 0. 0. 0. 0. 0. 0.]\n",
      "[0. 0. 0. 0. 0. 0. 1. 0. 0. 0. 0. 0. 0. 0. 0. 0. 0.]\n",
      "[0. 0. 0. 0. 0. 0. 0. 1. 0. 0. 0. 0. 0. 0. 0. 0. 0.]\n",
      "[0. 0. 0. 0. 0. 0. 0. 0. 1. 0. 0. 0. 0. 0. 0. 0. 0.]\n",
      "[0. 0. 0. 0. 0. 0. 0. 0. 0. 1. 0. 0. 0. 0. 0. 0. 0.]\n",
      "[0. 0. 0. 0. 0. 0. 0. 0. 0. 0. 1. 0. 0. 0. 0. 0. 0.]\n",
      "[0. 0. 0. 0. 0. 0. 0. 0. 0. 0. 0. 1. 0. 0. 0. 0. 0.]\n",
      "[0. 0. 0. 0. 0. 0. 0. 0. 0. 0. 0. 0. 1. 0. 0. 0. 0.]\n",
      "[0. 0. 0. 0. 0. 0. 0. 0. 0. 0. 0. 0. 0. 1. 0. 0. 0.]\n",
      "[0. 0. 0. 0. 0. 0. 0. 0. 0. 0. 0. 0. 0. 0. 1. 0. 0.]\n",
      "[0. 0. 0. 0. 0. 0. 0. 0. 0. 0. 0. 0. 0. 0. 0. 1. 0.]\n",
      "[0. 0. 0. 0. 0. 0. 0. 0. 0. 0. 0. 0. 0. 0. 0. 0. 1.]\n"
     ]
    }
   ],
   "source": [
    "for line in jac_struct_mat:\n",
    "    print(line)"
   ]
  },
  {
   "cell_type": "code",
   "execution_count": 120,
   "metadata": {},
   "outputs": [
    {
     "data": {
      "text/plain": [
       "Array([ 0.02366901,  0.7067106 , -0.02366901,  0.7067105 ,  0.4       ,\n",
       "        0.3       ,  0.0665    ], dtype=float32)"
      ]
     },
     "execution_count": 120,
     "metadata": {},
     "output_type": "execute_result"
    }
   ],
   "source": [
    "prob_dict[\"pose_init\"]"
   ]
  },
  {
   "cell_type": "code",
   "execution_count": 121,
   "metadata": {},
   "outputs": [
    {
     "data": {
      "text/plain": [
       "[array([0]),\n",
       " array([1]),\n",
       " array([2]),\n",
       " array([3]),\n",
       " array([4]),\n",
       " array([ 5,  6,  7,  8,  9, 10, 11]),\n",
       " array([12, 13, 14, 15, 16, 17, 18])]"
      ]
     },
     "execution_count": 121,
     "metadata": {},
     "output_type": "execute_result"
    }
   ],
   "source": [
    "[i.coord for i in relaxed_prob.instances]\n",
    "[c.coord for c in relaxed_prob.ordered_constr_list]"
   ]
  },
  {
   "cell_type": "code",
   "execution_count": 147,
   "metadata": {},
   "outputs": [
    {
     "data": {
      "text/plain": [
       "{'hand_col_distance_rpickplace_gen3_1': Array([ True], dtype=bool),\n",
       " 'hand_col_distance_rpickplace_gen3_2': Array([ True], dtype=bool),\n",
       " 'grasp_prob_movehold_1_gen3': Array([ True], dtype=bool),\n",
       " 'inv_manipulability_rpickplace_gen3_1': Array([ True], dtype=bool),\n",
       " 'inv_manipulability_rpickplace_gen3_2': Array([ True], dtype=bool),\n",
       " 'constant_pose_init': Array([ True,  True, False,  True,  True,  True,  True], dtype=bool),\n",
       " 'constant_pose_goal': Array([ True,  True,  True,  True,  True,  True,  True], dtype=bool)}"
      ]
     },
     "execution_count": 147,
     "metadata": {},
     "output_type": "execute_result"
    }
   ],
   "source": [
    "cval = constr_fn(sol)\n",
    "check = (relaxed_prob.clb-0.02 < cval) & (cval < relaxed_prob.cub+0.02)\n",
    "relaxed_prob.to_constr_dict(check)"
   ]
  },
  {
   "cell_type": "code",
   "execution_count": 23,
   "metadata": {},
   "outputs": [
    {
     "data": {
      "text/plain": [
       "Array([ 7.06577420e-01,  2.73545738e-02, -7.06577480e-01,  2.73545720e-02,\n",
       "        4.00000006e-01,  3.00000012e-01,  6.65000007e-02,  2.94549674e-01,\n",
       "        0.00000000e+00,  0.00000000e+00, -9.55636084e-01,  4.00000006e-01,\n",
       "       -3.00000012e-01,  3.50000001e-02, -1.34505019e-01,  8.44511390e-02,\n",
       "       -1.16672874e+02,  2.12667227e-01,  8.75632703e-01], dtype=float32)"
      ]
     },
     "execution_count": 23,
     "metadata": {},
     "output_type": "execute_result"
    }
   ],
   "source": [
    "constr_fn(x0)"
   ]
  },
  {
   "cell_type": "code",
   "execution_count": 15,
   "metadata": {},
   "outputs": [],
   "source": [
    "import time\n",
    "def debug_fn(x):\n",
    "    x_dict = prob.to_var_dict(x)\n",
    "\n",
    "    grasp = x_dict[\"grasp_1\"]\n",
    "    obj_pose0 = x_dict[\"pose_init\"]\n",
    "    obj_poseg = x_dict[\"pose_goal\"]\n",
    "    obj_poseg = x_dict[\"pose_goal\"]\n",
    "    config_pick = x_dict[\"config_pickplace_gen3_1\"]\n",
    "    config_place = x_dict[\"config_pickplace_gen3_2\"]\n",
    "    obj_poses = [obj_pose0, obj_poseg]\n",
    "    configs = [config_pick, config_place]\n",
    "    \n",
    "    gen3.set_joint_angles(config_pick)\n",
    "    pcs = []\n",
    "    pcs_robot = []\n",
    "    for obj_pose in obj_poses:\n",
    "        tool_pose = R_grasp(grasp, obj_pose)\n",
    "        pc = jax.vmap(SE3(tool_pose).apply)(hande_pc)\n",
    "        pcs.append(pc)\n",
    "    for config in configs:\n",
    "        pc = robot_pc_fn(config)\n",
    "        pcs_robot.append(pc)\n",
    "    pcs = jnp.vstack(pcs)\n",
    "    pcs_robot = jnp.vstack(pcs_robot)\n",
    "    \n",
    "    pc_vis.reload(points=np.array(pcs, dtype=float))\n",
    "    pc_vis_b.reload(points=np.array(pcs_robot, dtype=float))\n",
    "    time.sleep(0.1)"
   ]
  },
  {
   "cell_type": "code",
   "execution_count": 109,
   "metadata": {},
   "outputs": [
    {
     "ename": "IndexError",
     "evalue": "arrays used as indices must be of integer (or boolean) type",
     "output_type": "error",
     "traceback": [
      "\u001b[0;31m---------------------------------------------------------------------------\u001b[0m",
      "\u001b[0;31mIndexError\u001b[0m                                Traceback (most recent call last)",
      "Cell \u001b[0;32mIn[109], line 1\u001b[0m\n\u001b[0;32m----> 1\u001b[0m obj_fn(x0)\n",
      "Cell \u001b[0;32mIn[92], line 214\u001b[0m, in \u001b[0;36mProblemBuilder.get_objective_fn.<locals>.objective\u001b[0;34m(x)\u001b[0m\n\u001b[1;32m    212\u001b[0m     \u001b[39mfor\u001b[39;00m config \u001b[39min\u001b[39;00m trajectory[robot]:\n\u001b[1;32m    213\u001b[0m         coords\u001b[39m.\u001b[39mappend(config\u001b[39m.\u001b[39mcoord)\n\u001b[0;32m--> 214\u001b[0m     qs \u001b[39m=\u001b[39m x[np\u001b[39m.\u001b[39;49marray(coords)]\n\u001b[1;32m    215\u001b[0m     obj_value \u001b[39m+\u001b[39m\u001b[39m=\u001b[39m jnp\u001b[39m.\u001b[39msum((qs[\u001b[39m1\u001b[39m:] \u001b[39m-\u001b[39m qs[:\u001b[39m-\u001b[39m\u001b[39m1\u001b[39m])\u001b[39m*\u001b[39m\u001b[39m*\u001b[39m\u001b[39m2\u001b[39m)\n\u001b[1;32m    216\u001b[0m \u001b[39mreturn\u001b[39;00m obj_value\n",
      "\u001b[0;31mIndexError\u001b[0m: arrays used as indices must be of integer (or boolean) type"
     ]
    }
   ],
   "source": [
    "obj_fn(x0)"
   ]
  },
  {
   "cell_type": "code",
   "execution_count": 107,
   "metadata": {},
   "outputs": [
    {
     "name": "stdout",
     "output_type": "stream",
     "text": [
      "This is Ipopt version 3.14.10, running with linear solver MUMPS 5.2.1.\n",
      "\n",
      "Number of nonzeros in equality constraint Jacobian...:       14\n",
      "Number of nonzeros in inequality constraint Jacobian.:       15\n",
      "Number of nonzeros in Lagrangian Hessian.............:        0\n",
      "\n",
      "Total number of variables............................:       17\n",
      "                     variables with only lower bounds:        0\n",
      "                variables with lower and upper bounds:       17\n",
      "                     variables with only upper bounds:        0\n",
      "Total number of equality constraints.................:       14\n",
      "Total number of inequality constraints...............:        5\n",
      "        inequality constraints with only lower bounds:        5\n",
      "   inequality constraints with lower and upper bounds:        0\n",
      "        inequality constraints with only upper bounds:        0\n",
      "\n",
      "iter    objective    inf_pr   inf_du lg(mu)  ||d||  lg(rg) alpha_du alpha_pr  ls\n",
      "   0  0.0000000e+00 1.18e+02 1.25e+00   0.0 0.00e+00    -  0.00e+00 0.00e+00   0\n",
      "\n",
      "Number of Iterations....: 0\n",
      "\n",
      "                                   (scaled)                 (unscaled)\n",
      "Objective...............:   0.0000000000000000e+00    0.0000000000000000e+00\n",
      "Dual infeasibility......:   1.2463250896934246e+00    1.2463250896934246e+00\n",
      "Constraint violation....:   9.8026226468353201e+01    1.1767287444068359e+02\n",
      "Variable bound violation:   0.0000000000000000e+00    0.0000000000000000e+00\n",
      "Complementarity.........:   1.9900000250000001e+00    1.9900000250000001e+00\n",
      "Overall NLP error.......:   9.8026226468353201e+01    1.1767287444068359e+02\n",
      "\n",
      "\n",
      "Number of objective function evaluations             = 1\n",
      "Number of objective gradient evaluations             = 1\n",
      "Number of equality constraint evaluations            = 1\n",
      "Number of inequality constraint evaluations          = 1\n",
      "Number of equality constraint Jacobian evaluations   = 1\n",
      "Number of inequality constraint Jacobian evaluations = 1\n",
      "Number of Lagrangian Hessian evaluations             = 0\n",
      "Total seconds in IPOPT                               = 2.526\n",
      "\n",
      "EXIT: Stopping optimization at current point as requested by user.\n"
     ]
    },
    {
     "ename": "AssertionError",
     "evalue": "[None None]",
     "output_type": "error",
     "traceback": [
      "\u001b[0;31m---------------------------------------------------------------------------\u001b[0m",
      "\u001b[0;31mAssertionError\u001b[0m                            Traceback (most recent call last)",
      "Cell \u001b[0;32mIn[107], line 1\u001b[0m\n\u001b[0;32m----> 1\u001b[0m solver_r\u001b[39m.\u001b[39;49msolve(x0)\n",
      "File \u001b[0;32m~/miniconda3/envs/cu11/lib/python3.8/site-packages/cyipopt/cython/ipopt_wrapper.pyx:642\u001b[0m, in \u001b[0;36mipopt_wrapper.Problem.solve\u001b[0;34m()\u001b[0m\n",
      "File \u001b[0;32m~/miniconda3/envs/cu11/lib/python3.8/site-packages/cyipopt/cython/ipopt_wrapper.pyx:676\u001b[0m, in \u001b[0;36mipopt_wrapper.objective_cb\u001b[0;34m()\u001b[0m\n",
      "Cell \u001b[0;32mIn[100], line 24\u001b[0m, in \u001b[0;36mIPOPTAcc.objective\u001b[0;34m(self, x)\u001b[0m\n\u001b[1;32m     23\u001b[0m \u001b[39mdef\u001b[39;00m \u001b[39mobjective\u001b[39m(\u001b[39mself\u001b[39m, x):\n\u001b[0;32m---> 24\u001b[0m     value, grad \u001b[39m=\u001b[39m \u001b[39mself\u001b[39;49m\u001b[39m.\u001b[39;49mvg_obj_fn(x)\n\u001b[1;32m     25\u001b[0m     key \u001b[39m=\u001b[39m \u001b[39mself\u001b[39m\u001b[39m.\u001b[39mhash(x)\n\u001b[1;32m     26\u001b[0m     \u001b[39mself\u001b[39m\u001b[39m.\u001b[39mgrads[key] \u001b[39m=\u001b[39m grad\n",
      "    \u001b[0;31m[... skipping hidden 20 frame]\u001b[0m\n",
      "Cell \u001b[0;32mIn[92], line 214\u001b[0m, in \u001b[0;36mProblemBuilder.get_objective_fn.<locals>.objective\u001b[0;34m(x)\u001b[0m\n\u001b[1;32m    212\u001b[0m     \u001b[39mfor\u001b[39;00m config \u001b[39min\u001b[39;00m trajectory[robot]:\n\u001b[1;32m    213\u001b[0m         coords\u001b[39m.\u001b[39mappend(config\u001b[39m.\u001b[39mcoord)\n\u001b[0;32m--> 214\u001b[0m     qs \u001b[39m=\u001b[39m x[np\u001b[39m.\u001b[39;49marray(coords)]\n\u001b[1;32m    215\u001b[0m     obj_value \u001b[39m+\u001b[39m\u001b[39m=\u001b[39m jnp\u001b[39m.\u001b[39msum((qs[\u001b[39m1\u001b[39m:] \u001b[39m-\u001b[39m qs[:\u001b[39m-\u001b[39m\u001b[39m1\u001b[39m])\u001b[39m*\u001b[39m\u001b[39m*\u001b[39m\u001b[39m2\u001b[39m)\n\u001b[1;32m    216\u001b[0m \u001b[39mreturn\u001b[39;00m obj_value\n",
      "    \u001b[0;31m[... skipping hidden 1 frame]\u001b[0m\n",
      "File \u001b[0;32m~/miniconda3/envs/cu11/lib/python3.8/site-packages/jax/_src/numpy/lax_numpy.py:3907\u001b[0m, in \u001b[0;36m_rewriting_take\u001b[0;34m(arr, idx, indices_are_sorted, unique_indices, mode, fill_value)\u001b[0m\n\u001b[1;32m   3901\u001b[0m     \u001b[39mif\u001b[39;00m (\u001b[39misinstance\u001b[39m(aval, core\u001b[39m.\u001b[39mDShapedArray) \u001b[39mand\u001b[39;00m aval\u001b[39m.\u001b[39mshape \u001b[39m==\u001b[39m () \u001b[39mand\u001b[39;00m\n\u001b[1;32m   3902\u001b[0m         dtypes\u001b[39m.\u001b[39missubdtype(aval\u001b[39m.\u001b[39mdtype, np\u001b[39m.\u001b[39minteger) \u001b[39mand\u001b[39;00m\n\u001b[1;32m   3903\u001b[0m         \u001b[39mnot\u001b[39;00m dtypes\u001b[39m.\u001b[39missubdtype(aval\u001b[39m.\u001b[39mdtype, dtypes\u001b[39m.\u001b[39mbool_) \u001b[39mand\u001b[39;00m\n\u001b[1;32m   3904\u001b[0m         \u001b[39misinstance\u001b[39m(arr\u001b[39m.\u001b[39mshape[\u001b[39m0\u001b[39m], \u001b[39mint\u001b[39m)):\n\u001b[1;32m   3905\u001b[0m       \u001b[39mreturn\u001b[39;00m lax\u001b[39m.\u001b[39mdynamic_index_in_dim(arr, idx, keepdims\u001b[39m=\u001b[39m\u001b[39mFalse\u001b[39;00m)\n\u001b[0;32m-> 3907\u001b[0m treedef, static_idx, dynamic_idx \u001b[39m=\u001b[39m _split_index_for_jit(idx, arr\u001b[39m.\u001b[39;49mshape)\n\u001b[1;32m   3908\u001b[0m \u001b[39mreturn\u001b[39;00m _gather(arr, treedef, static_idx, dynamic_idx, indices_are_sorted,\n\u001b[1;32m   3909\u001b[0m                unique_indices, mode, fill_value)\n",
      "File \u001b[0;32m~/miniconda3/envs/cu11/lib/python3.8/site-packages/jax/_src/numpy/lax_numpy.py:3985\u001b[0m, in \u001b[0;36m_split_index_for_jit\u001b[0;34m(idx, shape)\u001b[0m\n\u001b[1;32m   3981\u001b[0m   \u001b[39mraise\u001b[39;00m \u001b[39mTypeError\u001b[39;00m(\u001b[39mf\u001b[39m\u001b[39m\"\u001b[39m\u001b[39mJAX does not support string indexing; got \u001b[39m\u001b[39m{\u001b[39;00midx\u001b[39m=}\u001b[39;00m\u001b[39m\"\u001b[39m)\n\u001b[1;32m   3983\u001b[0m \u001b[39m# Expand any (concrete) boolean indices. We can then use advanced integer\u001b[39;00m\n\u001b[1;32m   3984\u001b[0m \u001b[39m# indexing logic to handle them.\u001b[39;00m\n\u001b[0;32m-> 3985\u001b[0m idx \u001b[39m=\u001b[39m _expand_bool_indices(idx, shape)\n\u001b[1;32m   3987\u001b[0m leaves, treedef \u001b[39m=\u001b[39m tree_flatten(idx)\n\u001b[1;32m   3988\u001b[0m dynamic \u001b[39m=\u001b[39m [\u001b[39mNone\u001b[39;00m] \u001b[39m*\u001b[39m \u001b[39mlen\u001b[39m(leaves)\n",
      "File \u001b[0;32m~/miniconda3/envs/cu11/lib/python3.8/site-packages/jax/_src/numpy/lax_numpy.py:4289\u001b[0m, in \u001b[0;36m_expand_bool_indices\u001b[0;34m(idx, shape)\u001b[0m\n\u001b[1;32m   4287\u001b[0m \u001b[39mfor\u001b[39;00m dim_number, i \u001b[39min\u001b[39;00m \u001b[39menumerate\u001b[39m(idx):\n\u001b[1;32m   4288\u001b[0m   \u001b[39mtry\u001b[39;00m:\n\u001b[0;32m-> 4289\u001b[0m     abstract_i \u001b[39m=\u001b[39m core\u001b[39m.\u001b[39;49mget_aval(i)\n\u001b[1;32m   4290\u001b[0m   \u001b[39mexcept\u001b[39;00m \u001b[39mTypeError\u001b[39;00m:\n\u001b[1;32m   4291\u001b[0m     abstract_i \u001b[39m=\u001b[39m \u001b[39mNone\u001b[39;00m\n",
      "    \u001b[0;31m[... skipping hidden 3 frame]\u001b[0m\n",
      "File \u001b[0;32m~/miniconda3/envs/cu11/lib/python3.8/site-packages/jax/_src/core.py:1578\u001b[0m, in \u001b[0;36mConcreteArray.__init__\u001b[0;34m(self, dtype, val, weak_type)\u001b[0m\n\u001b[1;32m   1576\u001b[0m \u001b[39massert\u001b[39;00m \u001b[39mself\u001b[39m\u001b[39m.\u001b[39mdtype \u001b[39m==\u001b[39m dtypes\u001b[39m.\u001b[39mcanonicalize_dtype(np\u001b[39m.\u001b[39mresult_type(val)), (val, dtype)\n\u001b[1;32m   1577\u001b[0m \u001b[39mself\u001b[39m\u001b[39m.\u001b[39mval \u001b[39m=\u001b[39m val\n\u001b[0;32m-> 1578\u001b[0m \u001b[39massert\u001b[39;00m \u001b[39mself\u001b[39m\u001b[39m.\u001b[39mdtype \u001b[39m!=\u001b[39m np\u001b[39m.\u001b[39mdtype(\u001b[39m'\u001b[39m\u001b[39mO\u001b[39m\u001b[39m'\u001b[39m), val\n",
      "\u001b[0;31mAssertionError\u001b[0m: [None None]"
     ]
    }
   ],
   "source": [
    "solver_r.solve(x0)"
   ]
  },
  {
   "cell_type": "code",
   "execution_count": null,
   "metadata": {},
   "outputs": [],
   "source": [
    "solver_r.solve()"
   ]
  },
  {
   "cell_type": "code",
   "execution_count": null,
   "metadata": {},
   "outputs": [],
   "source": [
    "def debug_fn_r(x):\n",
    "    x_dict = prob.to_var_dict(x)\n",
    "\n",
    "    grasp = x_dict[\"grasp_1\"]\n",
    "    obj_pose0 = x_dict[\"pose_init\"]\n",
    "    obj_poseg = x_dict[\"pose_goal\"]\n",
    "    obj_poseg = x_dict[\"pose_goal\"]\n",
    "    config_pick = x_dict[\"config_pickplace_gen3_1\"]\n",
    "    config_place = x_dict[\"config_pickplace_gen3_2\"]\n",
    "    obj_poses = [obj_pose0, obj_poseg]\n",
    "    configs = [config_pick, config_place]\n",
    "    \n",
    "    gen3.set_joint_angles(config_pick)\n",
    "    pcs = []\n",
    "    pcs_robot = []\n",
    "    for obj_pose in obj_poses:\n",
    "        tool_pose = R_grasp(grasp, obj_pose)\n",
    "        pc = jax.vmap(SE3(tool_pose).apply)(hande_pc)\n",
    "        pcs.append(pc)\n",
    "    for config in configs:\n",
    "        pc = robot_pc_fn(config)\n",
    "        pcs_robot.append(pc)\n",
    "    pcs = jnp.vstack(pcs)\n",
    "    pcs_robot = jnp.vstack(pcs_robot)\n",
    "    \n",
    "    pc_vis.reload(points=np.array(pcs, dtype=float))\n",
    "    pc_vis_b.reload(points=np.array(pcs_robot, dtype=float))\n",
    "    time.sleep(0.1)"
   ]
  },
  {
   "cell_type": "code",
   "execution_count": 34,
   "metadata": {},
   "outputs": [],
   "source": [
    "ipopt = cyipopt.Problem(\n",
    "    n=prob.dim, m=prob.cdim, problem_obj=ipopt_prob,\n",
    "    lb=prob.xlb, ub=prob.xub, cl=prob.clb, cu=prob.cub\n",
    ")\n",
    "ipopt.add_option(\"acceptable_iter\", 2)\n",
    "ipopt.add_option(\"acceptable_tol\", np.inf) #release\n",
    "ipopt.add_option(\"acceptable_dual_inf_tol\", np.inf) #release\n",
    "ipopt.add_option(\"acceptable_constr_viol_tol\", 1.)\n",
    "ipopt.add_option('mu_strategy', 'adaptive')\n",
    "ipopt.add_option('max_iter', 100)"
   ]
  },
  {
   "cell_type": "code",
   "execution_count": 35,
   "metadata": {},
   "outputs": [],
   "source": [
    "prob_dict = get_problem()\n",
    "visualize_problem(prob_dict)\n",
    "x0 = prob.get_initial_value(prob_dict=prob_dict)\n",
    "debug_fn(x0)"
   ]
  },
  {
   "cell_type": "code",
   "execution_count": 36,
   "metadata": {},
   "outputs": [
    {
     "name": "stdout",
     "output_type": "stream",
     "text": [
      "This is Ipopt version 3.14.10, running with linear solver MUMPS 5.2.1.\n",
      "\n",
      "Number of nonzeros in equality constraint Jacobian...:      141\n",
      "Number of nonzeros in inequality constraint Jacobian.:       17\n",
      "Number of nonzeros in Lagrangian Hessian.............:        0\n",
      "\n",
      "Total number of variables............................:       38\n",
      "                     variables with only lower bounds:        0\n",
      "                variables with lower and upper bounds:       38\n",
      "                     variables with only upper bounds:        0\n",
      "Total number of equality constraints.................:       33\n",
      "Total number of inequality constraints...............:        3\n",
      "        inequality constraints with only lower bounds:        3\n",
      "   inequality constraints with lower and upper bounds:        0\n",
      "        inequality constraints with only upper bounds:        0\n",
      "\n",
      "iter    objective    inf_pr   inf_du lg(mu)  ||d||  lg(rg) alpha_du alpha_pr  ls\n",
      "   0  0.0000000e+00 1.18e+02 1.00e+00   0.0 0.00e+00    -  0.00e+00 0.00e+00   0\n",
      "   1  7.7135372e+00 2.24e+02 7.69e+01   0.2 1.99e+00    -  6.69e-02 6.11e-01F  1\n",
      "   2  1.6379030e+01 6.13e+01 2.81e+01   0.2 1.98e+00    -  9.06e-01 6.57e-01h  1\n",
      "   3  1.1322559e+01 2.78e+02 4.99e+02   0.3 1.86e+02    -  2.08e-01 7.08e-01F  1\n",
      "   4  1.7436588e+01 2.91e+02 2.65e+02   0.2 4.67e+01    -  2.44e-01 3.23e-01h  1\n",
      "   5  1.9970482e+01 2.63e+02 2.45e+02   0.2 3.30e+01    -  9.38e-02 7.67e-02h  1\n",
      "   6  2.9331173e+01 2.79e+02 1.40e+03   0.2 1.73e+02    -  2.51e-01 9.27e-02h  2\n",
      "   7  3.5719467e+01 3.71e+02 1.53e+03   0.2 9.38e+02    -  2.55e-01 8.83e-02h  1\n",
      "   8  4.4288956e+01 3.54e+02 5.87e+02   0.2 6.32e+01    -  1.54e-02 4.23e-02h  1\n",
      "   9  3.6637337e+01 3.46e+02 1.08e+03   0.2 1.45e+03    -  6.29e-02 7.70e-02F  1\n",
      "iter    objective    inf_pr   inf_du lg(mu)  ||d||  lg(rg) alpha_du alpha_pr  ls\n",
      "  10  6.2460739e+01 3.13e+02 4.35e+03   0.2 4.96e+01    -  2.93e-01 8.21e-02h  1\n",
      "  11  5.8306774e+01 2.97e+02 2.20e+03   0.2 5.87e+01    -  5.84e-03 6.92e-02f  1\n",
      "  12  5.1776016e+01 4.00e+01 5.46e+03   0.2 3.20e+00    -  1.18e-01 9.60e-01f  1\n",
      "  13  4.8119694e+01 1.82e+01 5.12e+03   1.6 3.96e+01    -  1.02e-01 1.33e-01F  1\n",
      "  14  4.8465481e+01 1.67e+01 1.12e+04  -0.2 1.17e+02    -  5.59e-02 9.75e-03h  3\n",
      "  15  4.8471912e+01 2.42e+01 5.49e+05   1.4 1.62e+03    -  1.00e+00 3.93e-03h  2\n",
      "  16  4.8116192e+01 2.80e+01 5.72e+05   3.3 1.84e+03    -  2.73e-03 1.74e-03h  2\n",
      "  17  7.3996765e+01 2.68e+02 2.02e+05   3.3 1.01e+02    -  6.53e-02 1.47e-01f  1\n",
      "  18  7.3668495e+01 2.64e+02 2.01e+05   2.5 8.91e+00    -  2.60e-01 1.43e-02h  1\n",
      "  19  7.3671417e+01 2.59e+02 2.58e+05   1.8 1.77e+02    -  9.22e-02 8.56e-03h  1\n",
      "iter    objective    inf_pr   inf_du lg(mu)  ||d||  lg(rg) alpha_du alpha_pr  ls\n",
      "  20  1.3642131e+02 7.62e+01 1.68e+05   1.8 1.70e+02    -  1.64e-01 4.76e-01h  1\n",
      "  21  1.3931578e+02 1.83e+02 9.45e+06   1.8 7.02e+02    -  5.04e-03 1.42e-01f  1\n",
      "  22  1.3935049e+02 1.83e+02 9.38e+06   1.8 1.47e+02    -  1.70e-01 6.77e-03h  1\n",
      "  23  1.4397472e+02 1.32e+02 6.54e+06   1.8 2.97e+00    -  1.90e-01 3.03e-01f  1\n",
      "  24  1.4398874e+02 1.32e+02 6.53e+06   1.8 1.35e+01    -  1.65e-01 1.10e-03h  1\n",
      "  25  1.4382741e+02 1.32e+02 6.52e+06   1.8 4.06e+00    -  7.89e-02 2.52e-03h  1\n",
      "  26  1.4340442e+02 1.30e+02 6.45e+06   1.8 3.74e+01    -  2.30e-02 1.01e-02h  1\n",
      "  27  1.3306828e+02 1.15e+02 5.71e+06   1.8 1.00e+01    -  5.72e-02 1.15e-01h  1\n",
      "  28  1.3313515e+02 1.12e+02 5.51e+06   1.8 1.78e+01    -  1.46e-03 3.42e-02h  1\n",
      "  29  1.3312962e+02 1.12e+02 5.51e+06   1.8 2.94e+01    -  3.37e-02 2.76e-04h  1\n",
      "iter    objective    inf_pr   inf_du lg(mu)  ||d||  lg(rg) alpha_du alpha_pr  ls\n",
      "  30  1.3312854e+02 1.12e+02 5.51e+06   1.8 7.37e+02    -  1.01e-03 5.13e-05h  1\n",
      "  31  1.3295897e+02 1.01e+02 5.47e+06   1.8 1.14e+03    -  6.94e-04 7.79e-03f  3\n",
      "  32  1.3292305e+02 1.02e+02 6.70e+06   1.8 5.06e+03    -  1.35e-02 2.38e-04h  4\n",
      "  33  1.3285210e+02 9.84e+01 6.53e+06   1.8 8.90e+02    -  1.16e-02 3.57e-03f  4\n",
      "  34  1.3282912e+02 9.93e+01 6.25e+06   1.8 5.27e+03    -  3.93e-02 1.37e-04h  5\n",
      "  35  1.3281827e+02 9.97e+01 1.03e+07   1.8 5.13e+03    -  5.92e-02 6.61e-05h  6\n",
      "  36  1.3281300e+02 9.99e+01 1.24e+07   1.8 5.09e+03    -  1.52e-02 3.23e-05h  7\n",
      "  37r 1.3281300e+02 9.99e+01 1.00e+03   2.0 0.00e+00    -  0.00e+00 2.53e-07R 14\n",
      "  38r 1.3262053e+02 1.98e+01 1.03e+03   2.0 4.19e+04    -  5.80e-03 2.22e-03f  1\n",
      "  39  1.3243861e+02 1.98e+01 6.93e+02   1.1 8.58e+01    -  1.51e-02 5.63e-04f  1\n",
      "iter    objective    inf_pr   inf_du lg(mu)  ||d||  lg(rg) alpha_du alpha_pr  ls\n",
      "  40  1.2985834e+02 1.75e+01 1.60e+04   1.1 2.17e+01    -  1.09e-02 4.58e-02f  1\n",
      "  41  1.2908318e+02 1.77e+01 2.37e+04   1.1 3.65e+01    -  1.00e+00 1.68e-02f  1\n",
      "  42  1.1805954e+02 1.76e+01 9.91e+04   3.1 3.89e+01    -  2.75e-01 1.08e-01f  1\n",
      "  43  1.1795142e+02 1.80e+01 7.62e+04   1.5 2.89e+01    -  2.69e-01 4.93e-02h  1\n",
      "  44  1.1420889e+02 2.01e+01 9.59e+04   1.9 3.07e+01    -  5.57e-01 2.11e-01f  1\n",
      "  45  1.1610680e+02 1.92e+01 2.28e+05   3.3 1.64e+01    -  1.18e-01 2.97e-02h  1\n",
      "  46  1.1810250e+02 1.84e+01 1.28e+06  -3.4 5.27e+00    -  3.66e-02 7.76e-02h  1\n",
      "  47  1.1868055e+02 1.60e+01 1.92e+06   3.3 2.04e+01    -  2.46e-02 1.03e-01f  1\n",
      "  48  1.1705061e+02 1.57e+01 2.95e+06   3.3 4.70e+01    -  4.70e-02 2.22e-02h  1\n",
      "  49  1.1366160e+02 3.46e+01 1.99e+06   3.3 5.82e+01    -  3.02e-02 1.98e-02f  2\n",
      "iter    objective    inf_pr   inf_du lg(mu)  ||d||  lg(rg) alpha_du alpha_pr  ls\n",
      "  50  1.3402586e+02 3.31e+01 5.32e+06   2.6 4.33e+01    -  1.17e-01 4.49e-02h  1\n",
      "  51  1.4356200e+02 3.03e+01 7.83e+06   1.9 6.99e+00    -  4.79e-01 8.48e-02h  1\n",
      "  52  1.4689565e+02 2.84e+01 9.69e+06   1.9 2.96e+00    -  3.66e-01 6.00e-02h  1\n",
      "  53  1.4884927e+02 2.78e+01 3.25e+06   1.9 4.10e+00    -  1.70e-02 7.15e-01f  1\n",
      "  54  1.5064281e+02 2.75e+01 2.95e+06   1.9 6.16e+01    -  2.25e-03 2.87e-03h  1\n",
      "  55  1.5971002e+02 2.42e+01 5.21e+06   1.9 4.06e+00    -  4.03e-03 5.14e-02F  1\n",
      "  56  1.5982532e+02 2.40e+01 5.27e+06   1.9 1.50e+00    -  6.99e-01 5.62e-03h  1\n",
      "  57  1.5234003e+02 2.56e+01 5.11e+06   1.9 4.43e+02    -  6.70e-03 3.01e-03h  1\n",
      "  58  1.5189375e+02 2.57e+01 5.09e+06   1.9 1.15e+03    -  2.65e-03 6.42e-04h  1\n",
      "  59  2.0411769e+02 2.54e+01 5.39e+06   1.9 3.97e+02    -  4.44e-04 9.87e-03f  1\n",
      "iter    objective    inf_pr   inf_du lg(mu)  ||d||  lg(rg) alpha_du alpha_pr  ls\n",
      "  60  2.0526724e+02 2.54e+01 5.39e+06   1.9 1.25e+02    -  3.77e-02 3.16e-04h  1\n",
      "  61r 2.0526724e+02 2.54e+01 1.00e+03   1.9 0.00e+00    -  0.00e+00 2.91e-07R  6\n",
      "  62r 2.0210449e+02 7.57e+01 1.34e+03   2.8 4.55e+03    -  9.77e-02 4.61e-03f  1\n",
      "  63r 2.0200287e+02 5.61e+01 8.49e+02   1.4 2.07e+00    -  6.29e-01 1.01e-01f  1\n",
      "  64r 1.9565491e+02 6.70e-01 4.49e+04   1.4 2.67e+00    -  5.10e-01 3.21e-01f  1\n",
      "  65  1.3863008e+02 4.51e-01 4.56e+01  -5.7 3.15e+00    -  4.02e-02 3.22e-01f  1\n",
      "  66  1.3810858e+02 4.46e-01 4.46e+01  -5.7 6.60e+00    -  9.69e-02 5.49e-03f  1\n",
      "  67  1.3200175e+02 3.48e-01 3.21e+01  -0.7 2.17e+01    -  4.29e-01 5.91e-02f  1\n",
      "  68  1.3568982e+02 3.85e+00 4.93e+03   0.0 5.46e+00    -  9.46e-01 2.51e-01f  1\n",
      "  69  1.5738852e+02 5.26e+00 2.47e+03  -0.0 1.11e+01    -  4.00e-01 1.45e-01h  1\n",
      "iter    objective    inf_pr   inf_du lg(mu)  ||d||  lg(rg) alpha_du alpha_pr  ls\n",
      "  70  1.5725597e+02 5.30e+00 2.28e+03  -0.0 1.54e+01    -  5.70e-02 4.29e-03h  1\n",
      "  71  1.5730772e+02 5.78e+00 1.18e+04  -0.0 2.72e+01    -  4.06e-01 1.87e-02h  1\n",
      "  72  1.5757350e+02 5.79e+00 1.14e+04  -0.0 2.41e+01    -  5.51e-02 8.67e-04h  7\n",
      "  73  1.5764795e+02 5.79e+00 4.60e+04  -0.0 5.48e+01    -  6.86e-02 9.70e-05h  7\n",
      "  74  1.5766487e+02 5.79e+00 4.61e+04  -0.0 8.17e+01    -  6.48e-02 1.58e-05h 10\n",
      "  75r 1.5766487e+02 5.79e+00 1.00e+03   0.7 0.00e+00    -  0.00e+00 2.62e-07R 16\n",
      "  76r 1.3556163e+02 1.59e+02 1.07e+03   2.6 4.09e+03    -  8.00e-03 1.29e-03f  1\n",
      "  77r 1.3607605e+02 1.63e+02 9.72e+02   2.5 3.68e+01    -  7.53e-02 8.87e-03f  1\n",
      "  78r 1.4386954e+02 1.58e+02 8.53e+02   1.2 6.27e+00    -  5.12e-01 5.51e-02f  1\n",
      "  79r 1.4641985e+02 1.31e+02 6.97e+02   0.1 9.98e-01    -  4.15e-01 1.88e-01f  1\n",
      "iter    objective    inf_pr   inf_du lg(mu)  ||d||  lg(rg) alpha_du alpha_pr  ls\n",
      "  80r 1.4610487e+02 1.10e+02 1.25e+03   1.8 1.10e+00    -  2.31e-01 1.52e-01f  1\n",
      "  81r 1.4561258e+02 1.02e+02 1.66e+03  -4.7 4.94e-01    -  3.24e-01 7.68e-02f  1\n",
      "  82r 1.4799214e+02 6.67e+01 2.74e+03   0.8 2.22e-01    -  9.93e-01 4.41e-01f  1\n",
      "  83r 1.4682979e+02 4.70e+01 1.07e+03   1.3 7.06e+01    -  9.24e-01 1.28e-01f  1\n",
      "  84r 1.3584329e+02 2.00e+01 2.43e+03   1.6 7.15e+01    -  6.27e-01 5.53e-01f  1\n",
      "  85r 1.3752742e+02 3.75e+00 4.88e+03   1.4 2.84e+01    -  1.00e+00 1.00e+00f  1\n",
      "  86r 1.3817973e+02 5.67e+00 8.49e+02   1.7 1.24e+00    -  1.00e+00 1.00e+00f  1\n",
      "  87r 1.4202429e+02 9.36e+00 1.35e+03   0.5 2.74e+01    -  9.90e-01 6.22e-01f  1\n",
      "  88r 1.4495848e+02 6.60e+00 2.06e+03  -0.2 5.17e+00    -  1.00e+00 5.09e-01f  1\n",
      "  89r 1.4537904e+02 2.84e+00 3.32e+02  -0.2 1.26e-01    -  1.00e+00 6.57e-01f  1\n",
      "iter    objective    inf_pr   inf_du lg(mu)  ||d||  lg(rg) alpha_du alpha_pr  ls\n",
      "  90  1.4410960e+02 2.78e+00 3.56e+01  -0.0 5.63e+00    -  1.99e-01 1.57e-02h  1\n",
      "  91  1.4567166e+02 2.63e+00 5.21e+02  -0.0 3.75e+00    -  7.10e-01 5.37e-02h  1\n",
      "  92  1.4846687e+02 2.55e+00 7.36e+03  -0.0 1.91e+00    -  6.71e-01 4.05e-02h  1\n",
      "  93  1.5275168e+02 2.43e+00 9.88e+03  -0.0 1.50e+00    -  1.00e+00 6.90e-02h  2\n",
      "  94  1.5295186e+02 2.44e+00 1.19e+06  -0.0 4.34e+00    -  1.00e+00 2.77e-03h  1\n",
      "  95  1.5297574e+02 2.44e+00 1.61e+06  -0.0 5.42e+01    -  5.59e-03 1.54e-05h 10\n",
      "  96r 1.5297574e+02 2.44e+00 1.00e+03   0.3 0.00e+00    -  0.00e+00 4.04e-07R 15\n",
      "  97r 1.4882060e+02 2.32e-01 1.00e+03   2.3 1.39e+03    -  5.51e-03 1.45e-03f  1\n",
      "  98  1.4816708e+02 2.30e-01 1.93e+01  -1.8 3.05e+00    -  1.06e-01 8.40e-03f  1\n",
      "  99  1.4161116e+02 3.17e-01 2.45e+03  -1.1 7.88e+00    -  3.96e-01 9.65e-02f  1\n",
      "iter    objective    inf_pr   inf_du lg(mu)  ||d||  lg(rg) alpha_du alpha_pr  ls\n",
      " 100  1.5681459e+02 2.89e-01 3.22e+03   0.1 5.99e+00    -  5.32e-01 6.89e-02h  1\n",
      " 101  1.1784327e+02 1.95e-01 2.30e+04   0.0 3.64e+00    -  4.58e-02 3.59e-01f  1\n",
      " 102  1.5367790e+02 2.35e-01 2.10e+04   1.1 1.61e+00    -  1.00e+00 5.59e-01f  1\n",
      " 103  1.6045317e+02 1.64e-01 9.12e+04   1.0 9.73e-01    -  4.89e-01 3.23e-01h  1\n",
      " 104  1.5766649e+02 1.56e-01 1.18e+05   1.6 3.71e+00    -  1.00e+00 5.14e-02h  1\n",
      " 105  1.5091539e+02 1.58e-01 1.22e+05   2.3 7.64e+00    -  1.00e+00 2.89e-02f  2\n",
      " 106  1.5329987e+02 1.58e-01 1.46e+06   2.9 1.48e+01    -  1.00e+00 5.12e-03h  4\n",
      " 107  1.5798503e+02 1.56e-01 4.70e+07   3.2 4.83e+00    -  1.00e+00 2.94e-02h  1\n",
      " 108  1.0254242e+02 7.11e-01 1.07e+09   3.3 1.04e+01    -  3.63e-02 2.42e-01f  2\n",
      " 109  1.0719080e+02 4.00e-01 6.89e+09   3.3 8.23e+00    -  8.96e-02 1.11e-01h  2\n",
      "iter    objective    inf_pr   inf_du lg(mu)  ||d||  lg(rg) alpha_du alpha_pr  ls\n",
      " 110  1.3419630e+02 3.04e-01 4.88e+09   3.3 1.99e+00    -  4.67e-03 5.07e-01H  1\n",
      " 111  1.3232643e+02 2.99e-01 4.42e+09   3.2 7.60e+00    -  2.85e-01 1.61e-02h  1\n",
      " 112  1.3233086e+02 2.99e-01 4.42e+09   2.5 7.77e+00    -  3.14e-02 1.58e-04h  1\n",
      " 113  1.3314545e+02 2.99e-01 4.60e+09   2.5 3.67e+01    -  1.15e-01 7.93e-04h  1\n",
      " 114  1.3512773e+02 2.99e-01 1.13e+10   2.5 6.83e+01    -  4.32e-02 1.02e-03h  5\n",
      " 115  1.3401086e+02 2.99e-01 2.03e+10   2.5 8.95e+01    -  1.17e-02 4.40e-04h  6\n",
      " 116  1.3459851e+02 2.99e-01 3.58e+11   2.5 2.47e+02    -  2.19e-02 8.33e-05h  5\n",
      " 117  1.3414236e+02 2.99e-01 5.42e+11   2.5 2.26e+02    -  4.78e-03 7.10e-05h  8\n",
      " 118  1.3430742e+02 2.99e-01 8.91e+12   2.5 3.27e+02    -  3.52e-02 1.77e-05h  8\n",
      " 119r 1.3430742e+02 2.99e-01 1.00e+03   2.5 0.00e+00    -  0.00e+00 3.67e-07R 11\n",
      "iter    objective    inf_pr   inf_du lg(mu)  ||d||  lg(rg) alpha_du alpha_pr  ls\n",
      " 120r 1.1975646e+02 8.25e+00 1.97e+04   2.0 5.68e-01    -  8.72e-01 8.83e-01f  1\n",
      " 121r 1.0034714e+02 2.66e+01 4.61e+02   1.9 9.52e-01    -  9.90e-01 6.09e-01f  1\n",
      " 122r 1.1174880e+02 1.34e+01 1.28e+03   1.1 1.02e+00    -  9.72e-01 3.91e-01f  1\n",
      " 123r 1.2386596e+02 6.53e+00 2.17e+03   0.8 8.21e-01    -  1.00e+00 4.52e-01f  1\n",
      " 124r 1.2025089e+02 2.28e+01 1.35e+03   1.6 1.39e+01    -  1.00e+00 1.00e+00f  1\n",
      " 125r 1.4428490e+02 8.72e+00 1.10e+04   1.5 2.86e+00    -  9.69e-01 3.15e-01f  1\n",
      " 126r 1.5277910e+02 1.58e+01 5.66e+02   0.9 3.30e+01    -  9.98e-01 4.78e-01f  1\n",
      " 127r 1.5411819e+02 3.20e+01 1.75e+03   1.0 1.38e+01    -  9.81e-01 5.73e-01f  1\n",
      " 128r 6.0646572e+01 2.85e+01 1.32e+04   3.1 8.39e+01    -  3.15e-02 2.99e-01f  1\n",
      " 129r 4.9312820e+01 2.70e+01 1.06e+04   2.3 5.16e+01    -  5.43e-01 2.20e-01f  1\n",
      "iter    objective    inf_pr   inf_du lg(mu)  ||d||  lg(rg) alpha_du alpha_pr  ls\n",
      " 130r 5.7992718e+01 1.62e+01 5.87e+03   1.6 1.68e+01    -  9.17e-01 4.29e-01f  1\n",
      " 131r 6.3734303e+01 1.60e+01 3.38e+03   1.6 2.27e+01    -  7.67e-01 4.92e-01f  1\n",
      " 132r 6.9097702e+01 1.24e+01 2.43e+03   1.6 2.41e+00    -  1.00e+00 6.81e-01f  1\n",
      " 133r 7.2177803e+01 1.49e+01 2.32e+03   1.6 5.35e+00    -  4.56e-01 1.69e-01f  1\n",
      " 134r 8.0777557e+01 1.28e+01 2.14e+03   1.6 2.84e+00    -  9.50e-01 2.94e-01f  1\n",
      " 135r 8.2595398e+01 4.07e+01 8.49e+02   1.6 1.54e+01    -  7.11e-01 8.29e-01f  1\n",
      " 136r 9.0949493e+01 9.95e+01 2.02e+03   0.9 7.04e+00    -  8.54e-01 8.89e-01f  1\n",
      " 137r 9.2319145e+01 4.41e+01 1.67e+03   1.6 2.18e+01    -  6.89e-01 4.52e-01f  1\n",
      " 138r 9.3143410e+01 2.66e+01 1.39e+03   1.3 6.28e+01    -  5.65e-01 3.73e-01f  1\n",
      " 139r 9.7820137e+01 2.69e+01 4.81e+02   1.3 6.30e+01    -  1.00e+00 6.39e-01f  1\n",
      "iter    objective    inf_pr   inf_du lg(mu)  ||d||  lg(rg) alpha_du alpha_pr  ls\n",
      " 140r 1.0141453e+02 1.79e+01 5.45e+02   0.6 5.26e+00    -  6.04e-01 4.00e-01f  1\n",
      " 141r 1.0268939e+02 1.70e+01 9.62e+02   0.1 2.78e-01    -  1.00e+00 6.81e-01f  1\n",
      " 142r 1.0270267e+02 6.99e+00 2.70e+03  -0.6 2.25e-01    -  1.00e+00 5.13e-01f  1\n",
      " 143r 1.0527784e+02 9.50e+00 1.85e+03  -1.3 2.19e-01    -  1.00e+00 5.83e-01f  1\n",
      " 144r 1.0623028e+02 7.12e+00 2.64e+03  -0.4 2.74e-01    -  1.00e+00 1.75e-01f  1\n",
      " 145r 1.0738902e+02 3.96e+00 8.69e+02  -0.7 1.35e-01    -  1.00e+00 5.21e-01f  1\n",
      " 146r 1.0872119e+02 3.83e-02 2.13e+03  -0.2 6.95e-02    -  1.00e+00 1.00e+00f  1\n",
      " 147r 1.0853857e+02 6.34e-02 2.61e+02   0.3 3.04e-01    -  9.10e-01 1.00e+00f  1\n",
      " 148r 1.0950977e+02 3.51e-02 1.47e+02  -0.8 3.27e-01    -  1.00e+00 6.72e-01f  1\n",
      " 149  1.0934483e+02 3.45e-02 3.86e+02  -0.2 6.41e-01   0.0 1.00e+00 1.79e-02h  1\n",
      "iter    objective    inf_pr   inf_du lg(mu)  ||d||  lg(rg) alpha_du alpha_pr  ls\n",
      " 150  1.0743435e+02 1.43e+01 2.10e+02  -0.2 1.17e+00    -  7.44e-01 3.35e-01f  1\n",
      " 151  1.0725727e+02 1.21e+01 1.63e+03  -0.3 5.88e+00   2.2 9.91e-04 1.08e-02h  1\n",
      " 152  1.1242401e+02 1.20e+01 1.62e+03  -0.3 5.12e+01   1.8 1.09e-01 6.62e-03h  1\n",
      " 153  9.3193398e+01 9.08e+01 1.12e+03  -0.3 1.28e+00    -  1.34e-01 1.00e+00f  1\n",
      " 154  8.7896019e+01 7.76e+01 1.98e+03  -0.3 2.55e+00    -  1.47e-02 1.49e-01f  1\n",
      " 155  9.1149323e+01 6.76e+01 2.11e+03  -0.3 3.24e+01    -  2.54e-02 8.88e-02h  1\n",
      " 156  9.1292679e+01 6.69e+01 2.08e+03  -0.3 1.53e+01    -  9.46e-03 7.33e-03h  1\n",
      " 157  9.2426544e+01 6.88e+01 2.66e+03  -0.3 1.01e+02    -  6.67e-03 3.75e-02h  1\n",
      " 158  9.2749374e+01 6.81e+01 2.38e+03  -0.3 5.73e+00    -  2.15e-01 8.96e-03h  1\n",
      " 159  1.0313767e+02 5.69e+01 5.99e+03  -0.3 5.13e+00    -  2.26e-02 2.15e-01h  2\n",
      "iter    objective    inf_pr   inf_du lg(mu)  ||d||  lg(rg) alpha_du alpha_pr  ls\n",
      " 160  1.0398670e+02 5.59e+01 5.86e+03  -0.3 8.07e+00    -  4.36e-02 2.05e-02h  1\n",
      " 161  9.4917526e+01 4.13e+01 4.65e+03  -0.3 4.03e+00    -  1.66e-01 2.30e-01F  1\n",
      " 162  9.4897278e+01 4.12e+01 4.69e+03  -0.3 1.48e+00    -  1.18e-01 2.47e-03h  1\n",
      " 163  9.4667641e+01 3.72e+01 1.11e+04  -0.3 1.33e+00    -  9.70e-01 7.46e-02h  1\n",
      " 164  9.2344521e+01 4.80e+01 1.53e+04  -0.3 1.03e+00    -  5.31e-01 2.53e-01f  2\n",
      " 165  9.2292641e+01 4.76e+01 4.38e+05  -0.3 7.54e+00    -  4.21e-01 9.43e-03h  2\n",
      " 166  9.2334335e+01 4.65e+01 5.16e+05  -0.3 5.09e+00    -  7.85e-01 1.23e-02h  6\n",
      " 167  9.1404022e+01 4.37e+01 1.01e+06  -0.3 5.19e+00    -  2.34e-01 6.67e-02f  2\n",
      " 168  9.1163742e+01 4.08e+01 9.64e+05  -0.3 2.35e+00    -  1.00e+00 8.22e-02h  4\n",
      " 169  9.2078888e+01 1.87e+01 1.78e+07  -0.3 2.71e+00    -  1.50e-01 1.61e-01H  1\n",
      "iter    objective    inf_pr   inf_du lg(mu)  ||d||  lg(rg) alpha_du alpha_pr  ls\n",
      " 170  9.2183990e+01 1.86e+01 1.77e+07   0.9 4.18e+00    -  1.00e+00 3.02e-03h  1\n",
      " 171  9.2196716e+01 1.86e+01 1.77e+07   1.1 2.29e+01    -  1.99e-01 9.03e-05h  1\n",
      " 172  9.9419365e+01 1.81e+01 2.00e+07   2.9 3.40e+01    -  1.65e-03 2.58e-02f  1\n",
      " 173  9.9514084e+01 1.81e+01 2.00e+07   3.0 5.32e+01    -  8.65e-02 1.65e-04h  1\n",
      " 174  9.9513260e+01 1.81e+01 1.98e+07   3.3 4.13e+01    -  2.11e-04 1.61e-04h  1\n",
      " 175  9.9578171e+01 1.81e+01 1.34e+07   3.3 7.41e+01    -  7.47e-04 1.70e-03f  1\n",
      " 176  1.1338869e+02 2.24e+01 1.06e+08   3.3 8.64e+01    -  1.16e-01 2.01e-02f  1\n",
      " 177  1.1706705e+02 2.22e+01 9.39e+07   2.4 1.29e+01    -  2.62e-01 1.94e-02f  2\n",
      " 178  1.1717567e+02 2.22e+01 9.36e+07   1.7 2.14e+01    -  1.90e-01 3.09e-04h  6\n",
      " 179  1.1717961e+02 2.22e+01 9.42e+07   1.7 2.20e+01    -  4.44e-01 1.10e-05h 11\n",
      "iter    objective    inf_pr   inf_du lg(mu)  ||d||  lg(rg) alpha_du alpha_pr  ls\n",
      " 180  1.2139431e+02 2.37e+01 9.32e+07   1.7 2.19e+01    -  1.12e-02 1.12e-02s 16\n",
      " 181r 1.2139431e+02 2.37e+01 1.00e+03   1.7 0.00e+00    -  0.00e+00 0.00e+00R  1\n",
      " 182r 1.2081064e+02 1.08e+02 1.39e+03  -3.9 3.88e+03    -  1.98e-02 5.05e-03f  1\n",
      " 183r 1.2051015e+02 1.04e+02 1.23e+03   2.1 6.40e+00    -  7.89e-01 3.06e-02f  1\n",
      " 184r 1.1029696e+02 6.45e+01 8.54e+02   2.0 1.89e+00    -  6.16e-01 3.79e-01f  1\n",
      " 185r 1.0803728e+02 1.94e+01 2.88e+02   1.7 6.20e-01    -  7.13e-01 8.03e-01f  1\n",
      " 186  9.9873009e+01 1.71e+01 1.21e+02   1.0 9.73e+00    -  1.00e+00 7.63e-02h  1\n",
      " 187  1.0340321e+02 1.77e+01 2.59e+03   1.0 2.32e+01    -  7.33e-01 5.69e-02h  1\n",
      " 188  1.1132062e+02 1.57e+01 9.10e+03   1.0 4.10e+00    -  6.26e-01 1.11e-01h  1\n",
      " 189  1.1138928e+02 1.58e+01 1.69e+05   1.0 7.46e+01    -  7.07e-01 5.78e-04h  1\n",
      "iter    objective    inf_pr   inf_du lg(mu)  ||d||  lg(rg) alpha_du alpha_pr  ls\n",
      " 190  1.1143015e+02 1.58e+01 3.43e+06   1.0 9.64e+00    -  4.60e-01 2.73e-04h  7\n",
      " 191  1.1146077e+02 1.58e+01 1.29e+08   1.0 9.78e+00    -  1.00e+00 1.99e-04h  8\n",
      " 192  1.1146877e+02 1.58e+01 3.35e+09   1.0 9.75e+00    -  6.87e-01 5.19e-05h 10\n",
      " 193r 1.1146877e+02 1.58e+01 1.00e+03   1.1 0.00e+00    -  0.00e+00 4.06e-07R 17\n",
      " 194r 1.0928145e+02 1.44e+01 1.05e+03   3.2 9.68e+03    -  4.40e-02 1.34e-03f  1\n",
      " 195r 1.0687062e+02 1.38e+01 8.18e+02   1.8 1.10e+01    -  3.61e-01 7.07e-02f  1\n",
      " 196  1.0552828e+02 1.36e+01 2.36e+01   0.3 5.94e+00    -  8.53e-02 1.60e-02h  1\n",
      " 197  1.0870677e+02 1.30e+01 1.70e+02   0.3 3.93e+00    -  1.44e-01 3.98e-02h  1\n",
      " 198  1.1057392e+02 1.29e+01 1.71e+02   0.3 5.50e+00    -  1.79e-02 1.86e-02h  1\n",
      " 199  1.1188102e+02 1.28e+01 7.26e+03   0.3 7.56e+00    -  5.51e-01 1.07e-02h  1\n",
      "iter    objective    inf_pr   inf_du lg(mu)  ||d||  lg(rg) alpha_du alpha_pr  ls\n",
      " 200  1.1192117e+02 1.28e+01 1.96e+05   0.3 1.67e+01    -  1.24e-01 6.33e-04h  3\n",
      " 201  1.1192976e+02 1.28e+01 7.05e+05   0.3 2.13e+01    -  1.95e-01 1.30e-04h  8\n",
      " 202  1.1273605e+02 1.25e+01 7.03e+06   0.3 2.84e+01    -  1.20e-01 6.83e-03h  1\n",
      " 203  1.1274310e+02 1.25e+01 2.89e+07   0.3 1.68e+01    -  1.50e-03 1.60e-04h  2\n",
      " 204  1.1258981e+02 1.29e+01 2.55e+07   0.3 9.18e+01    -  1.08e-05 1.58e-04f  4\n",
      " 205  1.1269527e+02 1.28e+01 5.38e+06   0.3 4.32e+00    -  6.23e-01 1.43e-03h  2\n",
      " 206  1.1269814e+02 1.28e+01 3.13e+09   0.3 1.41e+01    -  4.60e-01 2.29e-05h  6\n",
      " 207  1.1270401e+02 1.28e+01 2.13e+09   0.3 1.14e+01    -  2.59e-02 3.80e-05h  5\n",
      " 208  1.1269182e+02 1.29e+01 2.07e+09   0.3 3.27e+00    -  9.53e-05 1.15e-03f  4\n",
      " 209  1.1270006e+02 1.29e+01 9.29e+09   0.3 9.19e+00    -  5.07e-02 1.05e-04h  4\n",
      "iter    objective    inf_pr   inf_du lg(mu)  ||d||  lg(rg) alpha_du alpha_pr  ls\n",
      " 210  1.1270341e+02 1.29e+01 4.16e+10   0.3 9.12e+00    -  2.41e-01 4.80e-05h  5\n",
      " 211  1.1270496e+02 1.29e+01 3.61e+11   0.3 9.09e+00    -  5.68e-02 2.29e-05h  6\n",
      " 212  1.1270300e+02 1.29e+01 3.64e+11   0.3 7.09e+01    -  8.72e-05 2.46e-06f 13\n",
      " 213  1.0441781e+02 1.72e+02 3.29e+11   0.3 7.73e+01    -  8.18e-05 2.60e-02w  1\n",
      " 214  1.2265022e+02 1.53e+02 3.14e+11   0.3 3.24e+02    -  4.73e-04 8.30e-03w  1\n",
      " 215  1.2310758e+02 1.53e+02 2.68e+11   0.3 5.57e+02    -  2.03e-04 4.64e-05w  1\n",
      " 216  1.1270232e+02 1.29e+01 3.64e+11   0.3 8.75e+01    -  8.18e-05 7.93e-07f 15\n",
      " 217  1.1270196e+02 1.29e+01 3.64e+11   0.3 8.07e+01    -  7.92e-05 3.81e-07f 17\n",
      " 218r 1.1270196e+02 1.29e+01 1.00e+03   1.0 0.00e+00    -  0.00e+00 3.82e-07R 11\n",
      " 219r 1.1065694e+02 8.84e+00 1.05e+03   2.8 9.80e+03    -  1.34e-02 1.09e-03f  1\n",
      "iter    objective    inf_pr   inf_du lg(mu)  ||d||  lg(rg) alpha_du alpha_pr  ls\n",
      " 220  1.1066421e+02 8.82e+00 4.65e+01  -0.4 9.04e-01   4.0 6.16e-03 2.07e-03h  1\n",
      " 221  1.1066638e+02 8.82e+00 9.17e+04  -0.4 2.15e+00   3.5 7.88e-01 1.20e-04h  1\n",
      " 222  1.1168999e+02 8.72e+00 8.39e+04  -0.4 4.56e+00   3.0 2.60e-03 2.07e-02h  1\n",
      " 223  1.1191751e+02 8.64e+00 2.76e+05  -0.4 1.37e+00    -  9.51e-01 8.83e-03h  1\n",
      " 224  1.1241135e+02 8.46e+00 2.60e+05  -0.4 1.23e+00    -  1.00e+00 2.08e-02h  1\n",
      " 225  1.1241668e+02 8.46e+00 1.60e+08  -0.4 1.78e+00    -  1.00e+00 1.31e-04h  1\n",
      " 226  1.1242526e+02 8.46e+00 1.19e+12  -0.4 3.03e+00    -  1.00e+00 1.28e-04h  1\n",
      " 227r 1.1242526e+02 8.46e+00 1.00e+03   0.8 0.00e+00    -  0.00e+00 2.56e-07R  6\n",
      " 228r 1.1259830e+02 4.30e+01 1.06e+03   2.6 5.70e+03    -  4.80e-03 1.22e-03f  1\n",
      " 229r 1.1533126e+02 4.14e+01 9.36e+02   1.9 5.86e+00    -  5.50e-01 4.76e-02f  1\n",
      "iter    objective    inf_pr   inf_du lg(mu)  ||d||  lg(rg) alpha_du alpha_pr  ls\n",
      " 230r 1.1800852e+02 3.06e+01 6.94e+02   0.7 1.01e+00    -  5.87e-01 2.62e-01f  1\n",
      " 231r 1.1884064e+02 2.53e+01 6.75e+02  -4.8 3.16e-01    -  2.30e-01 1.74e-01f  1\n",
      " 232r 1.2079929e+02 8.50e+00 6.31e+02   0.8 4.32e-01    -  9.73e-01 6.93e-01f  1\n",
      " 233r 1.1120630e+02 7.34e+00 3.45e+03   1.4 1.94e+01    -  8.17e-01 6.84e-01f  1\n",
      " 234r 1.0912985e+02 8.47e+00 9.21e+02   1.3 2.36e+01    -  6.99e-01 1.47e-01f  1\n",
      " 235r 1.0473256e+02 9.09e+00 3.71e+03   1.3 1.78e+01    -  1.00e+00 5.48e-01f  1\n",
      " 236r 1.0925706e+02 3.65e-01 1.17e+04   0.8 4.97e-01    -  9.50e-01 6.22e-01f  1\n",
      " 237  9.7799080e+01 1.19e+01 9.99e+01   0.3 3.74e+00    -  1.60e-01 1.17e-01f  1\n",
      " 238  7.7380707e+01 2.50e+01 2.06e+02  -0.1 1.48e+00    -  9.93e-01 1.00e+00f  1\n",
      " 239  8.8487762e+01 1.35e+01 5.50e+02   0.3 6.51e+00    -  1.00e+00 3.41e-01h  1\n",
      "iter    objective    inf_pr   inf_du lg(mu)  ||d||  lg(rg) alpha_du alpha_pr  ls\n",
      " 240  1.0757099e+02 4.26e-01 8.04e+02   0.3 4.42e+01    -  4.78e-01 1.58e-01H  1\n",
      " 241  1.0037002e+02 5.58e+00 1.53e+03   0.2 5.77e+01    -  2.58e-01 1.84e-01f  1\n",
      " 242  1.0011520e+02 5.64e+00 1.43e+03  -5.8 8.11e+00    -  4.51e-01 1.31e-02f  1\n",
      " 243  1.0243847e+02 4.60e+00 1.32e+03   0.5 4.48e+00    -  1.28e-01 1.85e-02H  1\n",
      " 244  1.0059805e+02 3.96e+00 1.09e+03  -5.9 3.97e+00    -  1.23e-01 7.19e-02f  1\n",
      " 245  1.0038414e+02 3.99e+00 7.70e+02   0.2 3.64e+00    -  1.00e+00 3.60e-02f  1\n",
      " 246  1.0065398e+02 1.21e+01 1.03e+05   2.2 1.43e+01    -  1.04e-01 9.77e-03f  1\n",
      " 247  1.0018497e+02 1.17e+01 7.26e+04   1.2 2.52e+00    -  6.56e-01 4.09e-02h  1\n",
      " 248  1.0003706e+02 1.16e+01 9.67e+04   1.2 9.91e+00    -  1.73e-02 9.77e-03h  1\n",
      " 249  1.0167876e+02 1.10e+01 1.58e+05   1.5 2.25e+01    -  1.85e-03 4.54e-02f  1\n",
      "iter    objective    inf_pr   inf_du lg(mu)  ||d||  lg(rg) alpha_du alpha_pr  ls\n",
      " 250  9.5839027e+01 7.52e+00 2.43e+04   1.1 1.78e+00    -  9.50e-01 3.44e-01f  1\n",
      " 251  1.0291170e+02 2.24e+02 3.65e+03   1.8 1.41e+00    -  9.83e-01 1.00e+00f  1\n",
      " 252  1.0293925e+02 2.22e+02 1.11e+04   1.7 4.11e+00    -  9.11e-02 5.45e-03h  1\n",
      " 253  1.0226937e+02 2.18e+02 1.82e+04   1.7 1.08e+01    -  9.42e-02 2.18e-02f  3\n",
      " 254  1.0156215e+02 2.23e+02 1.50e+04   1.7 5.99e+00    -  3.07e-01 8.61e-02f  2\n",
      " 255  1.1627010e+02 1.98e+02 2.17e+03   1.7 3.36e+00    -  1.00e+00 7.41e-01h  1\n",
      " 256  8.9126877e+01 2.75e+02 6.77e+04   1.7 1.46e+01    -  3.56e-02 4.05e-01f  1\n",
      " 257  9.1016075e+01 2.35e+02 6.10e+04   1.7 9.46e+01    -  5.49e-02 1.00e-01h  1\n",
      " 258  1.2029134e+02 7.93e+01 4.24e+04   1.7 2.08e+02    -  1.15e-02 3.04e-01h  1\n",
      " 259  9.8414520e+01 1.14e+02 3.55e+04   1.7 9.07e+02    -  8.56e-02 1.62e-01f  1\n",
      "iter    objective    inf_pr   inf_du lg(mu)  ||d||  lg(rg) alpha_du alpha_pr  ls\n",
      " 260  9.8343460e+01 1.12e+02 3.53e+04   1.7 1.07e+02    -  2.40e-01 5.36e-03h  2\n",
      " 261  9.7960938e+01 1.06e+02 3.47e+04   1.7 9.18e+01    -  5.38e-01 2.37e-02h  2\n",
      " 262  1.0012000e+02 2.27e+01 7.82e+04   1.7 4.63e+00    -  3.42e-01 2.36e-01f  2\n",
      " 263  7.8572197e+01 5.27e+01 2.76e+04   1.7 2.39e+02    -  1.55e-01 1.80e-01f  2\n",
      " 264  8.1833488e+01 9.27e+01 1.62e+04   1.7 3.28e+02    -  5.11e-01 3.12e-01h  1\n",
      " 265  9.0695145e+01 1.14e+02 1.95e+04   1.7 1.26e+02    -  8.05e-02 2.47e-01f  2\n",
      " 266  9.0656601e+01 1.12e+02 2.27e+04   1.0 7.74e+01    -  1.73e-01 2.00e-02h  1\n",
      " 267  1.1127870e+02 4.21e+01 6.37e+04   1.0 5.09e+01    -  3.63e-02 9.22e-01h  1\n",
      " 268  1.4092230e+02 3.98e+01 5.27e+04   1.0 4.25e+00    -  4.21e-01 5.35e-01h  1\n",
      " 269  1.4127586e+02 3.99e+01 5.09e+04   1.0 3.83e+01    -  2.96e-03 6.35e-03h  1\n",
      "iter    objective    inf_pr   inf_du lg(mu)  ||d||  lg(rg) alpha_du alpha_pr  ls\n",
      " 270  1.4465945e+02 3.69e+01 6.94e+05   1.0 2.51e+02    -  1.11e-03 1.17e-01f  2\n",
      " 271  1.2005881e+02 3.65e+01 5.57e+04   1.0 2.54e+01    -  3.54e-01 2.23e-01f  1\n",
      " 272  1.3077367e+02 8.86e+01 3.20e+05   1.0 6.79e+00    -  1.24e-01 2.44e-01f  2\n",
      " 273  1.3749347e+02 7.66e+01 3.83e+05   1.0 3.09e+02    -  1.05e-01 2.11e-02h  3\n",
      " 274  1.3959727e+02 7.76e+01 3.67e+05   1.0 2.27e+02    -  2.14e-01 6.65e-03h  3\n",
      " 275  1.4072926e+02 7.94e+01 3.68e+05   1.0 4.79e+02    -  2.26e-01 3.98e-03h  4\n",
      " 276  1.4113123e+02 8.07e+01 3.69e+05   1.0 9.12e+02    -  2.09e-01 1.33e-03h  6\n",
      " 277  1.4122307e+02 8.10e+01 3.69e+05   1.0 9.92e+02    -  1.43e-01 2.95e-04h  8\n",
      " 278  1.4215865e+02 1.17e+02 4.17e+05   1.0 8.79e+02    -  2.74e-02 4.23e-02h  1\n",
      " 279  1.4141946e+02 1.15e+02 3.61e+05   1.0 2.23e+01    -  5.14e-02 1.67e-02h  1\n",
      "iter    objective    inf_pr   inf_du lg(mu)  ||d||  lg(rg) alpha_du alpha_pr  ls\n",
      " 280  1.4104742e+02 1.13e+02 3.47e+05   1.0 6.46e+00    -  1.00e-01 1.99e-02h  1\n",
      " 281  1.4103709e+02 1.13e+02 3.47e+05   1.0 6.32e+00    -  5.34e-02 1.75e-04h  1\n",
      " 282  1.4094551e+02 1.13e+02 3.46e+05   1.0 2.31e+01    -  1.33e-02 2.58e-04h  1\n",
      " 283  1.1630223e+02 9.85e+01 2.11e+05   1.0 1.73e+01    -  1.20e-02 1.15e-01f  1\n",
      " 284  1.1685739e+02 4.27e+01 5.17e+05   1.0 7.39e+00    -  1.71e-01 1.54e-01f  1\n",
      " 285  1.1026823e+02 3.21e+01 4.28e+05   1.0 2.61e+00    -  4.94e-02 3.35e-01f  1\n",
      " 286  1.0502264e+02 3.02e+01 6.79e+05   1.0 9.55e+00    -  4.19e-02 6.06e-02h  1\n",
      " 287  1.4013327e+02 2.97e+01 3.66e+05   1.0 1.67e+02    -  1.46e-02 1.60e-02h  1\n",
      " 288  1.3790239e+02 2.84e+01 3.57e+05   1.0 3.55e+00    -  3.76e-03 4.38e-02h  1\n",
      " 289  1.3790219e+02 2.84e+01 3.56e+05   1.0 1.76e+00    -  3.40e-01 4.74e-04h  1\n",
      "iter    objective    inf_pr   inf_du lg(mu)  ||d||  lg(rg) alpha_du alpha_pr  ls\n",
      " 290  1.3795158e+02 2.84e+01 4.62e+05   1.0 5.46e+01    -  8.42e-05 2.67e-04f  2\n",
      " 291  1.3668527e+02 2.96e+01 3.42e+05   1.0 3.87e+00    -  2.88e-03 2.66e-02f  2\n",
      " 292  1.3701465e+02 2.96e+01 4.32e+05   1.0 2.95e+00    -  1.25e-01 8.95e-03f  3\n",
      " 293  1.2820421e+02 3.86e+01 4.33e+05   1.0 9.54e-01    -  3.81e-02 2.53e-01f  2\n",
      " 294  1.2804297e+02 3.85e+01 4.39e+05   1.0 1.00e+01    -  2.11e-01 2.06e-03h  5\n",
      " 295  1.2790025e+02 3.86e+01 4.78e+05   1.0 1.09e+01    -  5.80e-02 2.01e-03h  5\n",
      " 296  1.2517575e+02 3.81e+01 5.81e+05   1.0 1.40e+01    -  5.26e-02 1.52e-02f  2\n",
      " 297  1.2443590e+02 3.68e+01 8.19e+05   1.0 1.76e+01    -  1.39e-02 2.18e-02f  2\n",
      " 298  1.2404942e+02 3.62e+01 8.57e+05   1.0 1.09e+02    -  4.84e-03 3.74e-03f  2\n",
      " 299  1.2351285e+02 3.53e+01 9.14e+05   1.0 1.27e+02    -  1.36e-02 4.96e-03f  2\n",
      "iter    objective    inf_pr   inf_du lg(mu)  ||d||  lg(rg) alpha_du alpha_pr  ls\n",
      " 300  1.1313965e+02 1.68e+01 8.18e+05   1.0 7.25e+01    -  1.94e-01 4.24e-01f  1\n",
      " 301  1.0980180e+02 2.35e+01 8.56e+05   1.0 2.08e+02    -  7.80e-02 3.45e-02h  1\n",
      " 302  1.0770473e+02 2.79e+01 8.21e+05   1.0 1.84e+02    -  9.98e-02 2.62e-02h  1\n",
      " 303  1.0768597e+02 2.79e+01 8.22e+05   1.0 3.15e+01    -  4.68e-01 2.28e-04h  3\n",
      " 304  1.0487961e+02 2.78e+01 8.87e+05   1.0 4.12e+01    -  4.27e-02 3.80e-02f  2\n",
      " 305  1.0374297e+02 2.77e+01 9.20e+05   1.0 3.72e+01    -  1.28e-01 2.20e-02h  2\n",
      " 306  1.1053799e+02 2.63e+01 1.56e+06   1.0 1.17e+02    -  3.83e-03 9.12e-03f  2\n",
      " 307  1.2990834e+02 3.14e+01 7.50e+05   1.0 1.14e+02    -  7.03e-02 4.57e-02f  2\n",
      " 308  1.2835765e+02 3.10e+01 7.49e+05   1.0 3.17e+01    -  2.69e-01 3.76e-02h  1\n",
      " 309  1.2979018e+02 3.59e+01 3.61e+05   1.0 7.44e+01    -  3.05e-01 1.15e-01h  1\n",
      "iter    objective    inf_pr   inf_du lg(mu)  ||d||  lg(rg) alpha_du alpha_pr  ls\n",
      " 310  1.1629642e+02 3.91e+01 3.23e+05   1.0 1.05e+02    -  1.76e-02 3.91e-02h  1\n",
      " 311  1.1500297e+02 3.83e+01 2.74e+05   1.0 6.54e+01    -  6.31e-04 6.97e-03h  1\n",
      " 312  1.1541594e+02 3.87e+01 2.68e+05   1.0 1.49e+02    -  7.51e-02 3.08e-03H  1\n",
      " 313  1.3443689e+02 3.10e+01 4.16e+05   1.0 2.01e+01    -  6.01e-02 1.61e-01f  1\n",
      " 314  1.3806003e+02 3.05e+01 4.96e+05   1.0 1.20e+01    -  1.96e-01 1.78e-02h  1\n",
      " 315  1.3818697e+02 3.05e+01 5.04e+05   1.0 3.51e+01    -  4.71e-02 4.58e-03h  1\n",
      " 316  1.4043863e+02 2.95e+01 1.91e+05   1.0 1.37e+01    -  2.31e-04 2.58e-02h  1\n",
      " 317  1.4045103e+02 2.95e+01 1.30e+06   1.0 4.09e+00    -  4.35e-01 2.19e-03h  1\n",
      " 318  1.4145355e+02 2.54e+01 7.51e+06   1.0 4.94e+00    -  8.20e-03 7.55e-02h  1\n",
      " 319  1.4150528e+02 2.53e+01 9.92e+06   1.0 4.17e+00    -  1.00e+00 1.24e-03h  1\n",
      "iter    objective    inf_pr   inf_du lg(mu)  ||d||  lg(rg) alpha_du alpha_pr  ls\n",
      " 320  1.4150383e+02 2.53e+01 4.38e+08   1.0 7.10e+01    -  5.92e-04 1.34e-05h  1\n",
      " 321  1.4163187e+02 2.36e+01 1.54e+07   1.0 9.85e+03    -  1.42e-06 1.44e-04h  1\n",
      " 322  1.4176628e+02 2.24e+01 2.37e+07   1.0 2.08e+03    -  6.84e-04 4.99e-04f  3\n",
      " 323  1.4252412e+02 1.75e+01 7.30e+08   1.0 1.03e+03    -  3.93e-03 3.85e-03h  1\n",
      " 324  1.4287459e+02 2.03e+01 8.24e+08   1.0 6.31e+02    -  9.74e-02 3.88e-03h  1\n",
      " 325  1.4287712e+02 2.04e+01 8.24e+08   1.0 7.61e+02    -  2.17e-01 2.89e-05h  1\n",
      " 326r 1.4287712e+02 2.04e+01 1.00e+03   1.3 0.00e+00    -  0.00e+00 2.27e-07R  2\n",
      " 327r 1.4287347e+02 2.23e+01 1.49e+03   1.2 3.24e+03    -  4.13e-03 6.40e-03f  1\n",
      " 328r 1.3572800e+02 8.06e+01 1.84e+03   3.2 8.36e+02    -  3.14e-02 3.59e-02f  1\n",
      " 329r 1.3680284e+02 4.55e+01 1.86e+03   1.8 8.15e+02    -  1.65e-01 3.68e-02f  1\n",
      "iter    objective    inf_pr   inf_du lg(mu)  ||d||  lg(rg) alpha_du alpha_pr  ls\n",
      " 330r 1.4365366e+02 3.72e+01 1.30e+03   1.1 1.05e+01    -  5.41e-01 2.05e-01f  1\n",
      " 331r 1.4808289e+02 2.95e+01 1.00e+03   1.1 2.59e+00    -  3.84e-01 2.34e-01f  1\n",
      " 332r 1.3910638e+02 9.01e+00 1.07e+03   1.8 4.50e+00    -  6.79e-01 6.25e-01f  1\n",
      " 333  1.3819572e+02 9.02e+00 3.69e+01   0.3 1.52e+01    -  9.72e-02 1.23e-02h  1\n",
      " 334  1.3729192e+02 9.48e+00 4.24e+02   0.3 7.08e+01    -  1.60e-01 6.54e-03f  2\n",
      " 335  1.2987785e+02 3.86e+00 1.31e+03   0.3 1.09e+02    -  1.02e-02 3.31e-02h  1\n",
      " 336  1.2767056e+02 3.93e+00 2.02e+03   0.3 3.83e+01    -  2.22e-01 1.22e-02f  2\n",
      " 337  1.2709859e+02 4.81e+00 1.36e+04   0.3 6.47e+00    -  5.46e-01 5.98e-02f  3\n",
      " 338  1.3377905e+02 7.56e+00 1.38e+04   0.3 1.46e+02    -  1.16e-02 1.60e-02h  2\n",
      " 339  1.3148952e+02 1.17e+01 1.55e+04   0.3 2.60e+02    -  8.52e-02 1.41e-02f  2\n",
      "iter    objective    inf_pr   inf_du lg(mu)  ||d||  lg(rg) alpha_du alpha_pr  ls\n",
      " 340  1.4697931e+02 1.03e+01 4.40e+04   0.3 3.95e+01    -  8.35e-02 7.08e-02h  1\n",
      " 341  1.4681802e+02 1.01e+01 4.58e+04   0.3 4.22e+01    -  5.07e-02 3.13e-03h  1\n",
      " 342  1.6260703e+02 1.42e+00 7.77e+04   0.3 2.48e+01    -  6.79e-02 2.64e-01h  1\n",
      " 343  1.6474428e+02 1.42e+00 7.25e+04   0.3 1.21e+02    -  4.78e-04 2.08e-03h  1\n",
      " 344  1.6395689e+02 1.42e+00 6.88e+04   0.3 1.20e+02    -  1.31e-03 2.42e-03h  1\n",
      " 345  1.6467210e+02 1.42e+00 6.50e+04   0.3 1.04e+02    -  4.20e-04 2.52e-03f  2\n",
      " 346  1.6440974e+02 1.41e+00 6.30e+04   0.3 6.97e+01    -  3.75e-02 2.08e-03f  5\n",
      " 347  1.6441988e+02 1.42e+00 6.93e+04   0.3 7.60e+01    -  1.01e-02 2.01e-03H  1\n",
      " 348  1.6445776e+02 1.42e+00 6.53e+04   0.3 9.76e+01    -  1.77e-04 5.67e-04f  3\n",
      " 349  1.6447388e+02 1.42e+00 6.54e+04   0.3 7.36e+01    -  1.57e-02 9.96e-05H  1\n",
      "iter    objective    inf_pr   inf_du lg(mu)  ||d||  lg(rg) alpha_du alpha_pr  ls\n",
      " 350  1.6413770e+02 1.41e+00 6.41e+04   0.3 8.10e+01    -  4.64e-03 1.18e-03f  6\n",
      " 351  1.4867891e+02 2.09e+01 3.20e+04   0.3 7.61e+01    -  3.77e-02 4.12e-02f  1\n",
      " 352  1.3540546e+02 1.96e+01 7.81e+04   0.3 1.13e+02    -  2.39e-04 1.95e-02f  1\n",
      " 353  1.3535909e+02 1.96e+01 7.92e+04   0.3 6.60e+01    -  2.32e-02 1.11e-04h  1\n",
      " 354  1.2642031e+02 1.91e+01 1.98e+05   0.3 2.51e+02    -  2.20e-03 1.60e-02f  1\n",
      " 355  1.2726486e+02 1.90e+01 1.96e+05   0.3 4.80e+02    -  1.39e-02 8.95e-05h  1\n",
      " 356  1.3434981e+02 1.90e+01 1.93e+05   0.3 3.01e+03    -  5.22e-04 3.22e-04h  2\n",
      " 357  1.3408194e+02 1.90e+01 1.93e+05   0.3 4.54e+02    -  5.04e-03 4.00e-05h  1\n",
      " 358  1.3082924e+02 1.90e+01 1.60e+05   0.3 7.95e+02    -  4.28e-03 4.01e-03h  1\n",
      " 359  1.2307970e+02 1.90e+01 1.35e+05   0.3 8.71e+02    -  4.29e-05 3.14e-03f  2\n",
      "iter    objective    inf_pr   inf_du lg(mu)  ||d||  lg(rg) alpha_du alpha_pr  ls\n",
      " 360  1.2207935e+02 1.89e+01 1.71e+05   0.3 2.00e+03    -  7.78e-03 1.10e-04h  1\n",
      " 361  1.2054436e+02 1.89e+01 3.65e+05   0.3 9.23e+03    -  3.47e-04 3.00e-05f  4\n",
      " 362  1.7443396e+02 1.89e+01 1.49e+06   0.3 4.44e+03    -  5.42e-04 7.31e-04h  1\n",
      " 363  1.7550893e+02 1.89e+01 1.43e+06   0.3 6.70e+03    -  5.23e-06 5.23e-06s  5\n",
      " 364  0.0000000e+00 1.89e+01 1.43e+06   0.3 1.50e+04    -  2.68e-08 0.00e+00S  5\n",
      "\n",
      "Number of Iterations....: 364\n",
      "\n",
      "                                   (scaled)                 (unscaled)\n",
      "Objective...............:   0.0000000000000000e+00    0.0000000000000000e+00\n",
      "Dual infeasibility......:   1.4291146560292093e+06    1.4291146560292093e+06\n",
      "Constraint violation....:   1.5752556719139788e+01    1.8909721364511721e+01\n",
      "Variable bound violation:   0.0000000000000000e+00    0.0000000000000000e+00\n",
      "Complementarity.........:   3.1942636427912490e+01    3.1942636427912490e+01\n",
      "Overall NLP error.......:   2.3492999525064917e+02    1.4291146560292093e+06\n",
      "\n",
      "\n",
      "Number of objective function evaluations             = 905\n",
      "Number of objective gradient evaluations             = 305\n",
      "Number of equality constraint evaluations            = 905\n",
      "Number of inequality constraint evaluations          = 905\n",
      "Number of equality constraint Jacobian evaluations   = 375\n",
      "Number of inequality constraint Jacobian evaluations = 375\n",
      "Number of Lagrangian Hessian evaluations             = 0\n",
      "Total seconds in IPOPT                               = 189.052\n",
      "\n",
      "EXIT: Stopping optimization at current point as requested by user.\n"
     ]
    },
    {
     "ename": "KeyboardInterrupt",
     "evalue": "",
     "output_type": "error",
     "traceback": [
      "\u001b[0;31m---------------------------------------------------------------------------\u001b[0m",
      "\u001b[0;31mKeyboardInterrupt\u001b[0m                         Traceback (most recent call last)",
      "Cell \u001b[0;32mIn[36], line 1\u001b[0m\n\u001b[0;32m----> 1\u001b[0m sol, info \u001b[39m=\u001b[39m ipopt\u001b[39m.\u001b[39;49msolve(x0)\n",
      "File \u001b[0;32m~/miniconda3/envs/cu11/lib/python3.8/site-packages/cyipopt/cython/ipopt_wrapper.pyx:642\u001b[0m, in \u001b[0;36mipopt_wrapper.Problem.solve\u001b[0;34m()\u001b[0m\n",
      "File \u001b[0;32m~/miniconda3/envs/cu11/lib/python3.8/site-packages/cyipopt/cython/ipopt_wrapper.pyx:676\u001b[0m, in \u001b[0;36mipopt_wrapper.objective_cb\u001b[0;34m()\u001b[0m\n",
      "Cell \u001b[0;32mIn[20], line 25\u001b[0m, in \u001b[0;36mIPOPTAcc.objective\u001b[0;34m(self, x)\u001b[0m\n\u001b[1;32m     23\u001b[0m \u001b[39mself\u001b[39m\u001b[39m.\u001b[39mgrads[key] \u001b[39m=\u001b[39m grad\n\u001b[1;32m     24\u001b[0m \u001b[39mif\u001b[39;00m \u001b[39mself\u001b[39m\u001b[39m.\u001b[39mdebug_fn \u001b[39mis\u001b[39;00m \u001b[39mnot\u001b[39;00m \u001b[39mNone\u001b[39;00m:\n\u001b[0;32m---> 25\u001b[0m     \u001b[39mself\u001b[39;49m\u001b[39m.\u001b[39;49mdebug_fn(x)\n\u001b[1;32m     26\u001b[0m \u001b[39mreturn\u001b[39;00m value\n",
      "Cell \u001b[0;32mIn[33], line 22\u001b[0m, in \u001b[0;36mdebug_fn\u001b[0;34m(x)\u001b[0m\n\u001b[1;32m     20\u001b[0m     pcs\u001b[39m.\u001b[39mappend(pc)\n\u001b[1;32m     21\u001b[0m \u001b[39mfor\u001b[39;00m config \u001b[39min\u001b[39;00m configs:\n\u001b[0;32m---> 22\u001b[0m     pc \u001b[39m=\u001b[39m robot_pc_fn(config)\n\u001b[1;32m     23\u001b[0m     pcs_robot\u001b[39m.\u001b[39mappend(pc)\n\u001b[1;32m     24\u001b[0m pcs \u001b[39m=\u001b[39m jnp\u001b[39m.\u001b[39mvstack(pcs)\n",
      "File \u001b[0;32m/media/polde/datadrive/ws/sdf_world/sdf_world/robots.py:210\u001b[0m, in \u001b[0;36mArmGripper.get_robot_pc_fn.<locals>.get_robot_pc\u001b[0;34m(q)\u001b[0m\n\u001b[1;32m    208\u001b[0m     assigned_pc \u001b[39m=\u001b[39m jax\u001b[39m.\u001b[39mvmap(link_pose\u001b[39m.\u001b[39mapply)(\u001b[39mself\u001b[39m\u001b[39m.\u001b[39mpcs[i])\n\u001b[1;32m    209\u001b[0m     assigned_pcs\u001b[39m.\u001b[39mextend(assigned_pc)\n\u001b[0;32m--> 210\u001b[0m assigned_pcs \u001b[39m=\u001b[39m jnp\u001b[39m.\u001b[39;49mvstack(assigned_pcs)\n\u001b[1;32m    211\u001b[0m \u001b[39mreturn\u001b[39;00m assigned_pcs\n",
      "File \u001b[0;32m~/miniconda3/envs/cu11/lib/python3.8/site-packages/jax/_src/numpy/lax_numpy.py:1785\u001b[0m, in \u001b[0;36mvstack\u001b[0;34m(tup, dtype)\u001b[0m\n\u001b[1;32m   1783\u001b[0m   arrs \u001b[39m=\u001b[39m jax\u001b[39m.\u001b[39mvmap(atleast_2d)(tup)\n\u001b[1;32m   1784\u001b[0m \u001b[39melse\u001b[39;00m:\n\u001b[0;32m-> 1785\u001b[0m   arrs \u001b[39m=\u001b[39m [atleast_2d(m) \u001b[39mfor\u001b[39;00m m \u001b[39min\u001b[39;00m tup]\n\u001b[1;32m   1786\u001b[0m \u001b[39mreturn\u001b[39;00m concatenate(arrs, axis\u001b[39m=\u001b[39m\u001b[39m0\u001b[39m, dtype\u001b[39m=\u001b[39mdtype)\n",
      "File \u001b[0;32m~/miniconda3/envs/cu11/lib/python3.8/site-packages/jax/_src/numpy/lax_numpy.py:1785\u001b[0m, in \u001b[0;36m<listcomp>\u001b[0;34m(.0)\u001b[0m\n\u001b[1;32m   1783\u001b[0m   arrs \u001b[39m=\u001b[39m jax\u001b[39m.\u001b[39mvmap(atleast_2d)(tup)\n\u001b[1;32m   1784\u001b[0m \u001b[39melse\u001b[39;00m:\n\u001b[0;32m-> 1785\u001b[0m   arrs \u001b[39m=\u001b[39m [atleast_2d(m) \u001b[39mfor\u001b[39;00m m \u001b[39min\u001b[39;00m tup]\n\u001b[1;32m   1786\u001b[0m \u001b[39mreturn\u001b[39;00m concatenate(arrs, axis\u001b[39m=\u001b[39m\u001b[39m0\u001b[39m, dtype\u001b[39m=\u001b[39mdtype)\n",
      "\u001b[0;31mKeyboardInterrupt\u001b[0m: "
     ]
    }
   ],
   "source": [
    "sol, info = ipopt.solve(x0)"
   ]
  },
  {
   "cell_type": "code",
   "execution_count": 115,
   "metadata": {},
   "outputs": [
    {
     "data": {
      "text/plain": [
       "{'constant_pose_init': Array([ 0.5322116 , -0.46554023, -0.4953336 , -0.4655402 ,  0.3999918 ,\n",
       "         0.29999435,  0.06649885], dtype=float32),\n",
       " 'constant_config_home': Array([3.5825551e-30, 4.4002900e-20, 3.2318808e-30, 1.5707927e+00,\n",
       "        9.1483869e-30, 1.5707927e+00, 4.1402790e-20], dtype=float32),\n",
       " 'constant_pose_goal': Array([ 9.9237537e-01,  0.0000000e+00,  1.1496057e-05, -2.3711840e-02,\n",
       "         3.9999181e-01, -2.9999435e-01,  3.4999400e-02], dtype=float32),\n",
       " 'robot_col_distance_pickplace_gen3_1': Array([0.06459785], dtype=float32),\n",
       " 'robot_col_distance_pickplace_gen3_2': Array([-0.06604733], dtype=float32),\n",
       " 'kinematics_error_pickplace_gen3_1': Array([ 0.00603589,  0.08153071, -0.0875651 ,  0.28978324,  0.7486243 ,\n",
       "         0.36019212], dtype=float32),\n",
       " 'kinematics_error_pickplace_gen3_2': Array([ 0.03084141, -0.15086997, -0.13048118,  0.0770038 ,  0.78534704,\n",
       "         0.4328842 ], dtype=float32),\n",
       " 'grasp_prob_movehold_1_gen3': Array([-155.91768], dtype=float32)}"
      ]
     },
     "execution_count": 115,
     "metadata": {},
     "output_type": "execute_result"
    }
   ],
   "source": [
    "prob.to_constr_dict(constr_fn(sol))"
   ]
  },
  {
   "cell_type": "code",
   "execution_count": 124,
   "metadata": {},
   "outputs": [],
   "source": [
    "cval = constr_fn(sol)"
   ]
  },
  {
   "cell_type": "code",
   "execution_count": 128,
   "metadata": {},
   "outputs": [
    {
     "data": {
      "text/plain": [
       "Array([ 0.5322244 , -0.46555048, -0.5322245 , -0.46555045,  0.4       ,\n",
       "        0.3       ,  0.0665    ], dtype=float32)"
      ]
     },
     "execution_count": 128,
     "metadata": {},
     "output_type": "execute_result"
    }
   ],
   "source": [
    "pose0.parameters()"
   ]
  },
  {
   "cell_type": "code",
   "execution_count": 127,
   "metadata": {},
   "outputs": [
    {
     "data": {
      "text/plain": [
       "{'grasp_1': array([0.71341723, 0.01297885, 0.40685062]),\n",
       " 'config_pickplace_gen3_1': array([-1.04212389,  1.50089116, -2.81963958, -0.01304467, -2.64904021,\n",
       "         2.38936498, -0.52994212]),\n",
       " 'config_pickplace_gen3_2': array([ 0.41450362,  1.4010367 ,  1.5985031 ,  0.03220662,  1.78315882,\n",
       "        -2.1951264 , -1.07828692]),\n",
       " 'pose_init': array([ 0.53222444, -0.46555049, -0.49999998, -0.46555046,  0.40000002,\n",
       "         0.30000002,  0.0665    ]),\n",
       " 'config_home': array([-1.87086086e-23, -2.58729271e-24,  5.56837089e-24,  1.57079630e+00,\n",
       "        -2.71196162e-24,  1.57079630e+00,  6.41107047e-24]),\n",
       " 'pose_goal': array([ 9.99718869e-01,  0.00000000e+00,  8.40803638e-13, -2.37122455e-02,\n",
       "         4.00000018e-01, -3.00000022e-01,  3.49999999e-02])}"
      ]
     },
     "execution_count": 127,
     "metadata": {},
     "output_type": "execute_result"
    }
   ],
   "source": [
    "prob.to_var_dict(sol)"
   ]
  },
  {
   "cell_type": "code",
   "execution_count": 125,
   "metadata": {},
   "outputs": [
    {
     "data": {
      "text/plain": [
       "{'constant_pose_init': Array([ True,  True, False,  True,  True,  True,  True], dtype=bool),\n",
       " 'constant_config_home': Array([ True,  True,  True,  True,  True,  True,  True], dtype=bool),\n",
       " 'constant_pose_goal': Array([ True,  True,  True,  True,  True,  True,  True], dtype=bool),\n",
       " 'robot_col_distance_pickplace_gen3_1': Array([ True], dtype=bool),\n",
       " 'robot_col_distance_pickplace_gen3_2': Array([ True], dtype=bool),\n",
       " 'kinematics_error_pickplace_gen3_1': Array([ True, False,  True,  True,  True,  True], dtype=bool),\n",
       " 'kinematics_error_pickplace_gen3_2': Array([ True,  True,  True,  True,  True,  True], dtype=bool),\n",
       " 'grasp_prob_movehold_1_gen3': Array([ True], dtype=bool)}"
      ]
     },
     "execution_count": 125,
     "metadata": {},
     "output_type": "execute_result"
    }
   ],
   "source": [
    "constr_check = (prob.clb-0.02 < cval) & (cval < prob.cub+0.02)\n",
    "prob.to_constr_dict(constr_check)"
   ]
  },
  {
   "cell_type": "code",
   "execution_count": 74,
   "metadata": {},
   "outputs": [
    {
     "data": {
      "text/plain": [
       "{'constant': array([ 0.92122221,  0.        ,  0.        ,  0.38903674,  0.40000001,\n",
       "        -0.30000001,  0.035     ]),\n",
       " 'grasp_prob': array([inf]),\n",
       " 'kinematics_error': array([0., 0., 0., 0., 0., 0.]),\n",
       " 'robot_col_distance': array([inf])}"
      ]
     },
     "execution_count": 74,
     "metadata": {},
     "output_type": "execute_result"
    }
   ],
   "source": [
    "constr_vals = prob.to_constr_dict(constr_fn(sol))\n",
    "constr_lb = prob.to_constr_dict(constr_fn(sol))\n",
    "\n",
    "for constr_name, constr_val in constr_vals.items():\n",
    "    print(constr_name,\n",
    "          constr_val)"
   ]
  },
  {
   "cell_type": "code",
   "execution_count": 129,
   "metadata": {},
   "outputs": [
    {
     "data": {
      "text/plain": [
       "{'grasp_1': array([0.71341723, 0.01297885, 0.40685062]),\n",
       " 'config_pickplace_gen3_1': array([-1.04212389,  1.50089116, -2.81963958, -0.01304467, -2.64904021,\n",
       "         2.38936498, -0.52994212]),\n",
       " 'config_pickplace_gen3_2': array([ 0.41450362,  1.4010367 ,  1.5985031 ,  0.03220662,  1.78315882,\n",
       "        -2.1951264 , -1.07828692]),\n",
       " 'pose_init': array([ 0.53222444, -0.46555049, -0.49999998, -0.46555046,  0.40000002,\n",
       "         0.30000002,  0.0665    ]),\n",
       " 'config_home': array([-1.87086086e-23, -2.58729271e-24,  5.56837089e-24,  1.57079630e+00,\n",
       "        -2.71196162e-24,  1.57079630e+00,  6.41107047e-24]),\n",
       " 'pose_goal': array([ 9.99718869e-01,  0.00000000e+00,  8.40803638e-13, -2.37122455e-02,\n",
       "         4.00000018e-01, -3.00000022e-01,  3.49999999e-02])}"
      ]
     },
     "execution_count": 129,
     "metadata": {},
     "output_type": "execute_result"
    }
   ],
   "source": [
    "x_dict = prob.to_var_dict(sol)\n",
    "x_dict"
   ]
  },
  {
   "cell_type": "code",
   "execution_count": 130,
   "metadata": {},
   "outputs": [],
   "source": [
    "gen3.set_joint_angles(x_dict['config_pickplace_gen3_2'])"
   ]
  },
  {
   "cell_type": "code",
   "execution_count": 140,
   "metadata": {},
   "outputs": [
    {
     "name": "stdout",
     "output_type": "stream",
     "text": [
      "set action_seq and keyframes\n",
      "set variables and parameters\n",
      "set constraints\n"
     ]
    }
   ],
   "source": [
    "#dualarm setting\n",
    "robots = [\"gen3\", \"panda\"]\n",
    "home_configs = {\n",
    "    \"gen3\":np.zeros(7),\n",
    "    \"panda\":np.zeros(7),\n",
    "}\n",
    "\n",
    "prob = ProblemBuilder(robots, home_configs)\n",
    "\n",
    "#dual arm reorientation\n",
    "obj_init_pose = Pose(name=\"init\", is_var=False, value=np.zeros(7))\n",
    "obj_goal_pose = Pose(name=\"goal\", is_var=False, value=np.zeros(7))\n",
    "robot_home_configs = {\n",
    "    \"gen3\":Config(\"gen3_home\", \"gen3\", False, home_configs[\"gen3\"]), \n",
    "    \"panda\":Config(\"panda_home\", \"panda\", False, home_configs[\"panda\"])}\n",
    "\n",
    "action_seq = [MoveFree(\"gen3\"), MoveHold(\"gen3\"), MoveHold(\"panda\"), MoveFree(\"panda\")] #dual arm\n",
    "init_scene = Home(0, obj_init_pose, robot_home_configs)\n",
    "goal_scene = Home(len(action_seq), obj_goal_pose, robot_home_configs)\n",
    "\n",
    "prob.build_problem(action_seq, init_scene, goal_scene)\n"
   ]
  },
  {
   "cell_type": "code",
   "execution_count": null,
   "metadata": {},
   "outputs": [],
   "source": []
  },
  {
   "cell_type": "code",
   "execution_count": 192,
   "metadata": {},
   "outputs": [],
   "source": []
  },
  {
   "cell_type": "code",
   "execution_count": null,
   "metadata": {},
   "outputs": [],
   "source": []
  },
  {
   "cell_type": "code",
   "execution_count": null,
   "metadata": {},
   "outputs": [],
   "source": []
  }
 ],
 "metadata": {
  "kernelspec": {
   "display_name": "cu11",
   "language": "python",
   "name": "python3"
  },
  "language_info": {
   "codemirror_mode": {
    "name": "ipython",
    "version": 3
   },
   "file_extension": ".py",
   "mimetype": "text/x-python",
   "name": "python",
   "nbconvert_exporter": "python",
   "pygments_lexer": "ipython3",
   "version": "3.8.16"
  },
  "orig_nbformat": 4
 },
 "nbformat": 4,
 "nbformat_minor": 2
}
