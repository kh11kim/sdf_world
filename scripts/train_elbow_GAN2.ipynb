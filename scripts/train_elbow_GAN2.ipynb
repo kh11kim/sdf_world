{
 "cells": [
  {
   "cell_type": "code",
   "execution_count": 1,
   "metadata": {},
   "outputs": [],
   "source": [
    "import jax\n",
    "import jax.numpy as jnp\n",
    "from jaxlie import SE3, SO3\n",
    "\n",
    "from sdf_world.sdf_world import *\n",
    "from sdf_world.robots import *\n",
    "from sdf_world.util import *\n",
    "\n",
    "from network import *\n",
    "from loss import *"
   ]
  },
  {
   "cell_type": "code",
   "execution_count": 3,
   "metadata": {},
   "outputs": [
    {
     "name": "stdout",
     "output_type": "stream",
     "text": [
      "You can open the visualizer by visiting the following URL:\n",
      "http://127.0.0.1:7003/static/\n"
     ]
    },
    {
     "data": {
      "text/html": [
       "\n",
       "            <div style=\"height: 400px; width: 100%; overflow-x: auto; overflow-y: hidden; resize: both\">\n",
       "            <iframe src=\"http://127.0.0.1:7003/static/\" style=\"width: 100%; height: 100%; border: none\"></iframe>\n",
       "            </div>\n",
       "            "
      ],
      "text/plain": [
       "<IPython.core.display.HTML object>"
      ]
     },
     "execution_count": 3,
     "metadata": {},
     "output_type": "execute_result"
    }
   ],
   "source": [
    "world = SDFWorld()\n",
    "world.show_in_jupyter()"
   ]
  },
  {
   "cell_type": "code",
   "execution_count": null,
   "metadata": {},
   "outputs": [],
   "source": [
    "panda_model = RobotModel(PANDA_URDF, PANDA_PACKAGE)"
   ]
  },
  {
   "cell_type": "code",
   "execution_count": 4,
   "metadata": {},
   "outputs": [],
   "source": [
    "panda = Robot(world.vis, \"panda\", panda_model, alpha=0.5)\n",
    "frame = Frame(world.vis, \"frame\", 0.1)\n",
    "elbow = Sphere(world.vis, \"elbow\", 0.1, \"red\", alpha=0.5)"
   ]
  },
  {
   "cell_type": "code",
   "execution_count": 5,
   "metadata": {},
   "outputs": [],
   "source": [
    "fks = panda_model.fk_fn(panda_model.neutral)\n",
    "p_shoulder = fks[1][-3:]\n",
    "p_elbow = fks[4][-3:]\n",
    "upper_arm_len = jnp.linalg.norm(p_elbow-p_shoulder)\n",
    "sphere_points = fibonacci_sphere(1000)\n",
    "shoulder_sphere_points = sphere_points * upper_arm_len + p_shoulder\n",
    "ws_lb, ws_ub = [-1, -1, -0.5], [1, 1, 1.5]"
   ]
  },
  {
   "cell_type": "code",
   "execution_count": 6,
   "metadata": {},
   "outputs": [],
   "source": [
    "#generator\n",
    "def generate_random_joints(num_samples):\n",
    "    return jnp.array(np.random.uniform(\n",
    "        panda_model.lb[:7], panda_model.ub[:7], size=(num_samples,7)))\n",
    "def generate_successful_sample(q):\n",
    "    gripper_joints = jnp.full((2), 0.04)\n",
    "    qnew = jnp.hstack([q, gripper_joints])\n",
    "    fks = panda_model.fk_fn(qnew)\n",
    "    ee_pose = fks[-1]\n",
    "    p_elbow = fks[4][-3:]\n",
    "    #rtp = to_spherical_coord(p_elbow - p_shoulder)\n",
    "    return jnp.hstack([ee_pose, p_elbow])"
   ]
  },
  {
   "cell_type": "code",
   "execution_count": null,
   "metadata": {},
   "outputs": [],
   "source": [
    "from flax import linen as nn\n",
    "class Encoder(nn.Module):\n",
    "    hidden_dim: int\n",
    "    latent_dim: int\n",
    "    @nn.compact\n",
    "    def __call__(self, x):\n",
    "        x = nn.Dense(features=self.hidden_dim)(x)\n",
    "        x = nn.relu(x)\n",
    "        x = nn.Dense(features=self.hidden_dim)(x)\n",
    "        x = nn.relu(x)\n",
    "        x = nn.Dense(features=self.hidden_dim)(x)\n",
    "        x = nn.relu(x)\n",
    "        mean = nn.Dense(features=self.latent_dim)(x)\n",
    "        stddev = nn.Dense(features=self.latent_dim)(x)\n",
    "        return mean, stddev\n",
    "class Decoder(nn.Module):\n",
    "    hidden_dim: int\n",
    "    out_dim: int\n",
    "    @nn.compact\n",
    "    def __call__(self, x):\n",
    "        x = nn.Dense(features=self.hidden_dim)(x)\n",
    "        x = nn.relu(x)\n",
    "        x = nn.Dense(features=self.hidden_dim)(x)\n",
    "        x = nn.relu(x)\n",
    "        x = nn.Dense(features=self.hidden_dim)(x)\n",
    "        x = nn.relu(x)\n",
    "        x = nn.Dense(features=self.hidden_dim)(x)\n",
    "        x = nn.relu(x)\n",
    "        x = nn.Dense(features=self.out_dim)(x)\n",
    "        return x\n",
    "    \n",
    "class CVAE(nn.Module):\n",
    "    cond_dim: int\n",
    "    hidden_dim: int\n",
    "    latent_dim: int\n",
    "    out_dim: int\n",
    "    def setup(self):\n",
    "        self.encoder = Encoder(hidden_dim=self.hidden_dim, latent_dim=self.latent_dim)\n",
    "        self.decoder = Decoder(hidden_dim=self.hidden_dim, out_dim=self.out_dim)\n",
    "    \n",
    "    def __call__(self, x): # x: cond\n",
    "        x = x.reshape(-1, x.shape[-1])\n",
    "        cond = x[:,:self.cond_dim]\n",
    "        mean, stddev = self.encoder(x)\n",
    "        z = mean + stddev * np.random.normal(size=mean.shape)\n",
    "        x_hat = self.decoder(jnp.hstack([cond, z]))\n",
    "        return x_hat, mean, stddev"
   ]
  },
  {
   "cell_type": "code",
   "execution_count": 146,
   "metadata": {},
   "outputs": [],
   "source": [
    "cvae = CVAE(7, 32, 3, 3)\n",
    "params = cvae.init(key2, jnp.zeros((10,)))\n",
    "tx = optax.adam(learning_rate=0.001)\n",
    "state = TrainState.create(\n",
    "    apply_fn=cvae.apply,\n",
    "    params=params,\n",
    "    tx=tx)"
   ]
  },
  {
   "cell_type": "code",
   "execution_count": 147,
   "metadata": {},
   "outputs": [],
   "source": [
    "def mse_loss(x1, x2):\n",
    "    return jnp.mean(jnp.square(x1 - x2), axis=-1)\n",
    "def kl_gaussian(mean, var):\n",
    "    return 0.5 * jnp.sum(-jnp.log(var) - 1.0 + var + jnp.square(mean), axis=-1)\n",
    "\n",
    "def loss_fn(params, batch):\n",
    "    output = cvae.apply(params, batch)\n",
    "    x = batch[:, -3:]\n",
    "    x_hat, mean, stddev = output\n",
    "    log_likelihood = -mse_loss(x, x_hat)\n",
    "    kl = kl_gaussian(mean, jnp.square(stddev))\n",
    "    elbo = log_likelihood - kl\n",
    "    return -jnp.mean(elbo)\n",
    "\n",
    "@jax.jit\n",
    "def update(state:TrainState, batch):\n",
    "    losses, grads = jax.value_and_grad(loss_fn)(params, batch)\n",
    "    state = state.apply_gradients(grads=grads)\n",
    "    return state, losses"
   ]
  },
  {
   "cell_type": "code",
   "execution_count": 148,
   "metadata": {},
   "outputs": [
    {
     "name": "stdout",
     "output_type": "stream",
     "text": [
      "epoch0  loss: 4.974002838134766\n",
      "epoch100  loss: 5.00502872467041\n",
      "epoch200  loss: 4.812084197998047\n",
      "epoch300  loss: 4.6000471115112305\n",
      "epoch400  loss: 4.47087287902832\n",
      "epoch500  loss: 4.6234822273254395\n",
      "epoch600  loss: 4.427453994750977\n",
      "epoch700  loss: 4.841214179992676\n",
      "epoch800  loss: 4.605772018432617\n",
      "epoch900  loss: 4.870190620422363\n"
     ]
    }
   ],
   "source": [
    "num_batch = 128\n",
    "epochs = 1000\n",
    "for i in range(epochs):\n",
    "    qs = generate_random_joints(num_batch)\n",
    "    xs = jax.vmap(generate_successful_sample)(qs)\n",
    "    state, loss = update(state, xs)\n",
    "    if i % 100 == 0:\n",
    "        print(f\"epoch{i}  loss: {loss.item()}\")"
   ]
  },
  {
   "cell_type": "code",
   "execution_count": 44,
   "metadata": {},
   "outputs": [],
   "source": [
    "from jax import random\n",
    "hp_enc = Hyperparam()\n",
    "hp_enc.dims = [10, 32, 32, 32, 4]\n",
    "hp_enc.lr = 0.001\n",
    "hp_dec = Hyperparam()\n",
    "hp_dec.dims = [9, 32, 32, 32, 3]\n",
    "hp_dec.lr = 0.001\n",
    "hp_dec.batch_size = 128\n",
    "\n",
    "model_names = [\"enc\", \"dec\"]\n",
    "hps = [hp_enc, hp_dec]\n",
    "model_vae = {}\n",
    "for i, name in enumerate(model_names):\n",
    "    model = {}\n",
    "    hp = hps[i]\n",
    "    key1, key2 = random.split(random.PRNGKey(0))\n",
    "    x = random.normal(key1, (hp.dims[0],))\n",
    "    model[\"network\"] = get_mlp(hps[i])\n",
    "    model[\"params\"] = model[\"network\"].init(key2, x)\n",
    "    model[\"tx\"] = optax.adam(learning_rate=hp.lr)\n",
    "    model[\"state\"] = TrainState.create(\n",
    "        apply_fn=model[\"network\"].apply,\n",
    "        params=model[\"params\"],\n",
    "        tx=model[\"tx\"])\n",
    "    model_vae[name] = model"
   ]
  },
  {
   "cell_type": "code",
   "execution_count": 45,
   "metadata": {},
   "outputs": [],
   "source": [
    "qs = generate_random_joints(100)\n",
    "xs = jax.vmap(generate_successful_sample)(qs)"
   ]
  },
  {
   "cell_type": "code",
   "execution_count": 46,
   "metadata": {},
   "outputs": [],
   "source": [
    "conds = xs[:,:7]\n",
    "enc_params = model_vae[\"enc\"][\"params\"]\n",
    "dec_params = model_vae[\"dec\"][\"params\"]\n",
    "enc_out = model_vae[\"enc\"][\"state\"].apply_fn(enc_params, xs)\n",
    "means = enc_out[:,:2]\n",
    "stddevs = jnp.exp(enc_out[:,2:])\n",
    "z = means + stddevs * np.random.normal(size=means.shape)\n",
    "dec_out = model_vae[\"dec\"][\"state\"].apply_fn(dec_params, jnp.hstack([conds, z]))"
   ]
  },
  {
   "cell_type": "code",
   "execution_count": 59,
   "metadata": {},
   "outputs": [],
   "source": [
    "def mse_loss(x1, x2):\n",
    "    return jnp.mean(jnp.square(x1 - x2), axis=-1)\n",
    "def kl_gaussian(mean, var):\n",
    "    return 0.5 * jnp.sum(-jnp.log(var) - 1.0 + var + jnp.square(mean), axis=-1)\n",
    "\n",
    "def loss():\n",
    "    log_likelihood = -mse_loss(xs[:,-3:], dec_out)\n",
    "    kl = kl_gaussian(means, jnp.square(stddevs))\n",
    "    elbo = log_likelihood - kl\n",
    "    return -jnp.mean(elbo)"
   ]
  },
  {
   "cell_type": "code",
   "execution_count": 58,
   "metadata": {},
   "outputs": [],
   "source": []
  },
  {
   "cell_type": "code",
   "execution_count": 57,
   "metadata": {},
   "outputs": [
    {
     "data": {
      "text/plain": [
       "Array([0.00207544, 0.00192553, 0.03571136, 0.0057008 , 0.00998244,\n",
       "       0.00864025, 0.09721689, 0.00386007, 0.06744651, 0.01449117,\n",
       "       0.00438253, 0.01051119, 0.02535182, 0.00685101, 0.03107384,\n",
       "       0.05049649, 0.07380195, 0.00869743, 0.00584108, 0.00276431,\n",
       "       0.00452977, 0.18243921, 0.0721527 , 0.00126294, 0.00306005,\n",
       "       0.00853154, 0.0677243 , 0.00424208, 0.07571533, 0.03864774,\n",
       "       0.00751176, 0.00186073, 0.05415118, 0.00357051, 0.12922677,\n",
       "       0.00134353, 0.01685642, 0.09726626, 0.00486335, 0.004632  ,\n",
       "       0.01597006, 0.01502506, 0.03697343, 0.00996438, 0.00367836,\n",
       "       0.02304477, 0.01161906, 0.01869755, 0.01043234, 0.0188982 ,\n",
       "       0.05332375, 0.01749801, 0.05166814, 0.00283588, 0.00662553,\n",
       "       0.01371285, 0.1004499 , 0.00417402, 0.00635153, 0.00140335,\n",
       "       0.02027686, 0.00314885, 0.00409268, 0.01013746, 0.08053275,\n",
       "       0.00172006, 0.00717903, 0.01305985, 0.0303546 , 0.00841585,\n",
       "       0.00737336, 0.02665936, 0.00212327, 0.04401578, 0.00537396,\n",
       "       0.03338134, 0.03691995, 0.01830263, 0.01146566, 0.03188393,\n",
       "       0.04968553, 0.03362346, 0.00126375, 0.00643918, 0.00219229,\n",
       "       0.00920279, 0.00282605, 0.08542025, 0.04706782, 0.10310343,\n",
       "       0.00618578, 0.03030242, 0.01999515, 0.00313366, 0.02088242,\n",
       "       0.01854781, 0.0043479 , 0.01429004, 0.00614552, 0.02825067],      dtype=float32)"
      ]
     },
     "execution_count": 57,
     "metadata": {},
     "output_type": "execute_result"
    }
   ],
   "source": [
    "kl"
   ]
  },
  {
   "cell_type": "code",
   "execution_count": 195,
   "metadata": {},
   "outputs": [],
   "source": [
    "q = generate_random_joints(1)[0]\n",
    "x_sample = generate_successful_sample(q)\n",
    "ee_pose = x_sample[:7]\n",
    "frame.set_pose(SE3(ee_pose))\n",
    "panda.set_joint_angles(jnp.hstack([q, 0.04, 0.04]))"
   ]
  },
  {
   "cell_type": "code",
   "execution_count": 196,
   "metadata": {},
   "outputs": [],
   "source": [
    "cond = pd.DataFrame(\n",
    "    np.tile(ee_pose, 100).reshape(-1,7),\n",
    "    columns=cond_columns)\n",
    "samples = flow.sample(1, conditions=cond)"
   ]
  },
  {
   "cell_type": "code",
   "execution_count": 197,
   "metadata": {},
   "outputs": [],
   "source": [
    "indices = jnp.exp(flow.log_prob(samples)) > 0.5\n",
    "tp_elbows = samples.loc[:,data_columns].to_numpy()[indices]\n",
    "#tp_elbows = samples.loc[:,data_columns].to_numpy()\n",
    "rtp_elbows = jnp.hstack([jnp.ones((len(tp_elbows),1))*upper_arm_len, tp_elbows])\n",
    "p_elbows = jax.vmap(to_cartesian_coord)(rtp_elbows) + p_shoulder\n",
    "pc = PointCloud(world.vis, \"pc\", p_elbows, color=\"blue\")"
   ]
  },
  {
   "cell_type": "code",
   "execution_count": 194,
   "metadata": {},
   "outputs": [],
   "source": [
    "del pc"
   ]
  },
  {
   "cell_type": "code",
   "execution_count": 59,
   "metadata": {},
   "outputs": [],
   "source": []
  },
  {
   "cell_type": "code",
   "execution_count": 52,
   "metadata": {},
   "outputs": [],
   "source": [
    "frame = Frame(world.vis, \"ee\")"
   ]
  },
  {
   "cell_type": "code",
   "execution_count": 49,
   "metadata": {},
   "outputs": [],
   "source": []
  },
  {
   "cell_type": "code",
   "execution_count": null,
   "metadata": {},
   "outputs": [],
   "source": []
  },
  {
   "cell_type": "code",
   "execution_count": 13,
   "metadata": {},
   "outputs": [],
   "source": [
    "q = generate_random_joints(1)[0]\n",
    "x_succ = generate_successful_sample(q)"
   ]
  },
  {
   "cell_type": "code",
   "execution_count": 14,
   "metadata": {},
   "outputs": [
    {
     "data": {
      "text/plain": [
       "Array([ 0.3105307 ,  0.942123  ,  0.01204117,  0.12581576,  0.49856573,\n",
       "       -0.12538093,  0.8066797 ,  0.33753774,  0.13996994], dtype=float32)"
      ]
     },
     "execution_count": 14,
     "metadata": {},
     "output_type": "execute_result"
    }
   ],
   "source": []
  }
 ],
 "metadata": {
  "kernelspec": {
   "display_name": "opt_env",
   "language": "python",
   "name": "python3"
  },
  "language_info": {
   "codemirror_mode": {
    "name": "ipython",
    "version": 3
   },
   "file_extension": ".py",
   "mimetype": "text/x-python",
   "name": "python",
   "nbconvert_exporter": "python",
   "pygments_lexer": "ipython3",
   "version": "3.8.15"
  },
  "orig_nbformat": 4
 },
 "nbformat": 4,
 "nbformat_minor": 2
}
