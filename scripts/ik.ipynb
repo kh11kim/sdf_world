{
 "cells": [
  {
   "cell_type": "code",
   "execution_count": 3,
   "metadata": {},
   "outputs": [],
   "source": [
    "import jax\n",
    "import jax.numpy as jnp\n",
    "from jaxlie import SE3, SO3\n",
    "\n",
    "from sdf_world.sdf_world import *\n",
    "from sdf_world.robots import *\n",
    "\n",
    "from network import *\n",
    "from loss import *"
   ]
  },
  {
   "cell_type": "code",
   "execution_count": 4,
   "metadata": {},
   "outputs": [
    {
     "name": "stdout",
     "output_type": "stream",
     "text": [
      "You can open the visualizer by visiting the following URL:\n",
      "http://127.0.0.1:7004/static/\n"
     ]
    }
   ],
   "source": [
    "world = SDFWorld()\n"
   ]
  },
  {
   "cell_type": "code",
   "execution_count": 5,
   "metadata": {},
   "outputs": [
    {
     "data": {
      "text/html": [
       "\n",
       "            <div style=\"height: 400px; width: 100%; overflow-x: auto; overflow-y: hidden; resize: both\">\n",
       "            <iframe src=\"http://127.0.0.1:7004/static/\" style=\"width: 100%; height: 100%; border: none\"></iframe>\n",
       "            </div>\n",
       "            "
      ],
      "text/plain": [
       "<IPython.core.display.HTML object>"
      ]
     },
     "execution_count": 5,
     "metadata": {},
     "output_type": "execute_result"
    }
   ],
   "source": [
    "world.show_in_jupyter()"
   ]
  },
  {
   "cell_type": "code",
   "execution_count": 6,
   "metadata": {},
   "outputs": [
    {
     "name": "stderr",
     "output_type": "stream",
     "text": [
      "WARNING:trimesh:concatenating texture: may result in visual artifacts\n",
      "WARNING:trimesh:concatenating texture: may result in visual artifacts\n",
      "WARNING:trimesh:concatenating texture: may result in visual artifacts\n",
      "WARNING:trimesh:concatenating texture: may result in visual artifacts\n",
      "WARNING:trimesh:concatenating texture: may result in visual artifacts\n",
      "WARNING:trimesh:concatenating texture: may result in visual artifacts\n",
      "WARNING:trimesh:concatenating texture: may result in visual artifacts\n",
      "WARNING:trimesh:concatenating texture: may result in visual artifacts\n",
      "WARNING:trimesh:concatenating texture: may result in visual artifacts\n",
      "WARNING:trimesh:concatenating texture: may result in visual artifacts\n",
      "WARNING:trimesh:concatenating texture: may result in visual artifacts\n"
     ]
    }
   ],
   "source": [
    "HAND_URDF = \"./sdf_world/assets/robots/panda/hand.urdf\"\n",
    "hand_model = RobotModel(HAND_URDF, PANDA_PACKAGE, is_floating=True)\n",
    "panda_model = RobotModel(PANDA_URDF, PANDA_PACKAGE)"
   ]
  },
  {
   "cell_type": "code",
   "execution_count": 7,
   "metadata": {},
   "outputs": [],
   "source": [
    "frame = Frame(world.vis, \"frame\", 0.2)\n",
    "hand = Robot(world.vis, \"hand\", hand_model)\n",
    "shoulder = Sphere(world.vis, \"shoulder\", 0.1, \"red\", 0.5)\n",
    "elbow = Sphere(world.vis, \"elbow\", 0.1, \"red\", 0.5)\n",
    "wrist = Sphere(world.vis, \"wrist\", 0.1, \"red\", 0.5)\n",
    "shoulder.set_translate([0,0,0.33])\n",
    "elbow.set_translate([0,0,0.66])\n",
    "hand.set_translate([0,0,1])"
   ]
  },
  {
   "cell_type": "code",
   "execution_count": 10,
   "metadata": {},
   "outputs": [],
   "source": [
    "# problem\n",
    "qrand = np.random.uniform(panda_model.lb, panda_model.ub)\n",
    "pose_rand = SE3(panda_model.fk_fn(qrand)[-1])\n",
    "\n",
    "#vis\n",
    "frame.set_pose(pose_rand)\n",
    "hand_base = pose_rand @ SE3.from_translation(jnp.array([0,0,-0.105]))\n",
    "hand.set_pose(hand_base)"
   ]
  },
  {
   "cell_type": "code",
   "execution_count": 22,
   "metadata": {},
   "outputs": [],
   "source": [
    "from network import *\n",
    "feas_fn = get_mlp_by_path(\"elbow_feas_net1.pth\")\n",
    "\n",
    "ee_pose = SE3(panda_model.fk_fn(panda_model.neutral)[-1])\n",
    "wrist_pos = panda_model.fk_fn(panda_model.neutral)[7][-3:]\n",
    "wrist_wrt_ee = ee_pose.inverse().apply(wrist_pos)"
   ]
  },
  {
   "cell_type": "code",
   "execution_count": 32,
   "metadata": {},
   "outputs": [],
   "source": [
    "ws_lb = [-0.8, -0.8, -0.3]\n",
    "ws_ub = [0.8, 0.8, 1.3]\n",
    "p_rand = np.random.uniform(ws_lb, ws_ub, size=(100, 3))"
   ]
  },
  {
   "cell_type": "code",
   "execution_count": 33,
   "metadata": {},
   "outputs": [],
   "source": [
    "def elbow_feasiblility(ee_pose:SE3, elbow):\n",
    "    wrist = ee_pose.apply(wrist_wrt_ee)\n",
    "    x = jnp.hstack([wrist, elbow])\n",
    "    return feas_fn(x)\n",
    "elbow_feasiblility_batch = jax.vmap(elbow_feasiblility, in_axes=(None,0))"
   ]
  },
  {
   "cell_type": "code",
   "execution_count": 39,
   "metadata": {},
   "outputs": [
    {
     "name": "stdout",
     "output_type": "stream",
     "text": [
      "feasibility:0.9999997615814209\n"
     ]
    }
   ],
   "source": [
    "logits = elbow_feasiblility_batch(pose_rand, p_rand)\n",
    "feasibility = nn.sigmoid(logits.max())\n",
    "elbow_init = p_rand[logits.argmax()]\n",
    "print(f\"feasibility:{feasibility}\")"
   ]
  },
  {
   "cell_type": "code",
   "execution_count": 38,
   "metadata": {},
   "outputs": [],
   "source": [
    "p_wrist = pose_rand.apply(wrist_wrt_ee)\n",
    "wrist.set_translate(p_wrist)"
   ]
  },
  {
   "cell_type": "code",
   "execution_count": 43,
   "metadata": {},
   "outputs": [],
   "source": [
    "elbow.set_translate(p_rand[2])"
   ]
  },
  {
   "cell_type": "code",
   "execution_count": 15,
   "metadata": {},
   "outputs": [
    {
     "data": {
      "text/plain": [
       "True"
      ]
     },
     "execution_count": 15,
     "metadata": {},
     "output_type": "execute_result"
    }
   ],
   "source": [
    "hand_model.links[\"panda_hand\"].has_mesh"
   ]
  },
  {
   "cell_type": "code",
   "execution_count": 4,
   "metadata": {},
   "outputs": [],
   "source": []
  },
  {
   "cell_type": "code",
   "execution_count": null,
   "metadata": {},
   "outputs": [],
   "source": [
    "feas_fn = get_mlp_by_path(\"elbow_feas_net1.pth\")"
   ]
  }
 ],
 "metadata": {
  "kernelspec": {
   "display_name": "opt_env",
   "language": "python",
   "name": "python3"
  },
  "language_info": {
   "codemirror_mode": {
    "name": "ipython",
    "version": 3
   },
   "file_extension": ".py",
   "mimetype": "text/x-python",
   "name": "python",
   "nbconvert_exporter": "python",
   "pygments_lexer": "ipython3",
   "version": "3.8.15"
  },
  "orig_nbformat": 4
 },
 "nbformat": 4,
 "nbformat_minor": 2
}
