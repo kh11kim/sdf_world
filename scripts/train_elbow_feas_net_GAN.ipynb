{
 "cells": [
  {
   "cell_type": "code",
   "execution_count": 1,
   "metadata": {},
   "outputs": [],
   "source": [
    "import jax\n",
    "import jax.numpy as jnp\n",
    "from jaxlie import SE3, SO3\n",
    "\n",
    "from sdf_world.sdf_world import *\n",
    "from sdf_world.robots import *\n",
    "from sdf_world.util import *\n",
    "\n",
    "from network import *\n",
    "from loss import *"
   ]
  },
  {
   "cell_type": "code",
   "execution_count": 2,
   "metadata": {},
   "outputs": [
    {
     "name": "stdout",
     "output_type": "stream",
     "text": [
      "You can open the visualizer by visiting the following URL:\n",
      "http://127.0.0.1:7003/static/\n"
     ]
    },
    {
     "data": {
      "text/html": [
       "\n",
       "            <div style=\"height: 400px; width: 100%; overflow-x: auto; overflow-y: hidden; resize: both\">\n",
       "            <iframe src=\"http://127.0.0.1:7003/static/\" style=\"width: 100%; height: 100%; border: none\"></iframe>\n",
       "            </div>\n",
       "            "
      ],
      "text/plain": [
       "<IPython.core.display.HTML object>"
      ]
     },
     "execution_count": 2,
     "metadata": {},
     "output_type": "execute_result"
    }
   ],
   "source": [
    "world = SDFWorld()\n",
    "world.show_in_jupyter()"
   ]
  },
  {
   "cell_type": "code",
   "execution_count": 3,
   "metadata": {},
   "outputs": [
    {
     "name": "stderr",
     "output_type": "stream",
     "text": [
      "concatenating texture: may result in visual artifacts\n",
      "concatenating texture: may result in visual artifacts\n",
      "concatenating texture: may result in visual artifacts\n",
      "concatenating texture: may result in visual artifacts\n",
      "concatenating texture: may result in visual artifacts\n",
      "concatenating texture: may result in visual artifacts\n",
      "concatenating texture: may result in visual artifacts\n",
      "concatenating texture: may result in visual artifacts\n"
     ]
    }
   ],
   "source": [
    "panda_model = RobotModel(PANDA_URDF, PANDA_PACKAGE)\n",
    "panda = Robot(world.vis, \"panda\", panda_model, alpha=0.5)\n",
    "frame = Frame(world.vis, \"frame\", 0.1)\n",
    "elbow = Sphere(world.vis, \"elbow\", 0.1, \"red\", alpha=0.5)"
   ]
  },
  {
   "cell_type": "code",
   "execution_count": 4,
   "metadata": {},
   "outputs": [],
   "source": [
    "fks = panda_model.fk_fn(panda_model.neutral)\n",
    "p_shoulder = fks[1][-3:]\n",
    "p_elbow = fks[4][-3:]\n",
    "upper_arm_len = jnp.linalg.norm(p_elbow-p_shoulder)\n",
    "sphere_points = fibonacci_sphere(1000)\n",
    "shoulder_sphere_points = sphere_points * upper_arm_len + p_shoulder\n",
    "ws_lb, ws_ub = [-1, -1, -0.5], [1, 1, 1.5]"
   ]
  },
  {
   "cell_type": "code",
   "execution_count": 5,
   "metadata": {},
   "outputs": [],
   "source": [
    "from scipy.spatial.transform import Rotation\n",
    "def get_random_samples(num_samples):\n",
    "    xyz = np.random.uniform(ws_lb, ws_ub, (num_samples, 3))\n",
    "    qtns_xyzw = Rotation.random(num_samples).as_quat()\n",
    "    qtns = qtns_xyzw[:,[3,0,1,2]]\n",
    "    indices = np.random.randint(0, 1000, size=num_samples)\n",
    "    p_elbow = shoulder_sphere_points[indices]\n",
    "    return jnp.hstack([qtns, xyz, p_elbow])\n",
    "\n",
    "def generate_successful_sample(q):\n",
    "    gripper_joints = jnp.full((2), 0.04)\n",
    "    qnew = jnp.hstack([q, gripper_joints])\n",
    "    fks = panda_model.fk_fn(qnew)\n",
    "    ee_pose = fks[-1]\n",
    "    p_elbow = fks[4][-3:]\n",
    "    return jnp.hstack([ee_pose, p_elbow])\n",
    "\n",
    "def generate_random_joints(num_samples):\n",
    "    return jnp.array(np.random.uniform(\n",
    "        panda_model.lb[:7], panda_model.ub[:7], size=(num_samples,7)))\n",
    "\n",
    "@jax.jit\n",
    "def get_batch_samples(qs):\n",
    "    x_succ = jax.vmap(generate_successful_sample)(qs) #true data\n",
    "    p_noise = np.random.normal(size=(qs.shape[0],3)) * 0.05\n",
    "    x_fail1 = get_random_samples(qs.shape[0])\n",
    "    # x_fail2 = x_succ.at[:,7:].set(x_succ[:,7:] + p_noise)\n",
    "    # x_fail3 = x_succ.at[:,4:7].set(x_succ[:,4:7] + p_noise)\n",
    "    x_fail = x_fail1 # jnp.vstack([x_fail1, x_fail2, x_fail3])\n",
    "    return x_succ, x_fail"
   ]
  },
  {
   "cell_type": "code",
   "execution_count": 505,
   "metadata": {},
   "outputs": [],
   "source": [
    "qs = generate_random_joints(100)\n",
    "x_succ, x_fail = get_batch_samples(qs)"
   ]
  },
  {
   "cell_type": "code",
   "execution_count": 524,
   "metadata": {},
   "outputs": [],
   "source": [
    "i=100\n",
    "x_sample = x_fail"
   ]
  },
  {
   "cell_type": "code",
   "execution_count": 529,
   "metadata": {},
   "outputs": [
    {
     "name": "stdout",
     "output_type": "stream",
     "text": [
      "[-0.23737708 -0.7212028  -0.59818256 -0.25631255  0.30037656 -0.19551739\n",
      " -0.10780752 -0.04035843 -0.18666959  0.5045196 ]\n"
     ]
    }
   ],
   "source": [
    "frame.set_pose(SE3(x_sample[i][:7]))\n",
    "elbow.set_translate(x_sample[i][7:])\n",
    "print(x_sample[i])\n",
    "i+= 1"
   ]
  },
  {
   "cell_type": "code",
   "execution_count": 15,
   "metadata": {},
   "outputs": [],
   "source": [
    "from jax import random\n",
    "hp_disc = Hyperparam()\n",
    "hp_disc.dims = [10, 32, 32, 32, 32, 1]\n",
    "hp_disc.lr = 0.001\n",
    "hp_disc.batch_size = 128\n",
    "\n",
    "model_disc = get_mlp(hp_disc)\n",
    "key1, key2 = random.split(random.PRNGKey(0))\n",
    "x = random.normal(key1, (hp_disc.dims[0],))\n",
    "params_disc = model_disc.init(key2, x)\n",
    "tx_disc = optax.adam(learning_rate=hp_disc.lr)\n",
    "state_disc = TrainState.create(apply_fn=model_disc.apply, params=params_disc, tx=tx_disc)\n",
    "\n",
    "hp_gen = Hyperparam()\n",
    "hp_gen.dims = [9, 32, 32, 32, 32, 3]\n",
    "hp_gen.lr = 0.001\n",
    "hp_gen.batch_size = 128\n",
    "\n",
    "model_gen = get_mlp(hp_gen)\n",
    "key1, key2 = random.split(random.PRNGKey(0))\n",
    "x = random.normal(key1, (hp_gen.dims[0],))\n",
    "params_gen = model_gen.init(key2, x)\n",
    "tx_gen = optax.adam(learning_rate=hp_gen.lr)\n",
    "state_gen = TrainState.create(apply_fn=model_gen.apply, params=params_gen, tx=tx_gen)"
   ]
  },
  {
   "cell_type": "code",
   "execution_count": 8,
   "metadata": {},
   "outputs": [],
   "source": [
    "qs = qs = generate_random_joints(100)\n",
    "x_succ, x_fail = get_batch_samples(qs)"
   ]
  },
  {
   "cell_type": "code",
   "execution_count": 9,
   "metadata": {},
   "outputs": [],
   "source": [
    "noise = np.random.normal(size=(100, 2))\n",
    "inputs_fake = jnp.hstack([x_succ[:,:7], noise])\n",
    "outputs_fake = state_gen.apply_fn(params_gen, inputs_fake)"
   ]
  },
  {
   "cell_type": "code",
   "execution_count": 20,
   "metadata": {},
   "outputs": [],
   "source": [
    "x_fake = jnp.hstack([x_succ[:, :7], outputs_fake])\n",
    "logits_fake = state_disc.apply_fn(params_disc, x_fake)"
   ]
  },
  {
   "cell_type": "code",
   "execution_count": 6,
   "metadata": {},
   "outputs": [],
   "source": [
    "def loss_disc(state_disc, params_disc, \n",
    "              x_succ, x_fail, noise, state_gen, params_gen):\n",
    "    # disc : real data\n",
    "    logits_succ = state_disc.apply_fn(params_disc, x_succ).flatten()\n",
    "    loss_succ = optax.sigmoid_binary_cross_entropy(\n",
    "        logits_succ, jnp.ones_like(logits_succ)).mean()\n",
    "    logits_fail = state_disc.apply_fn(params_disc, x_fail).flatten()\n",
    "    loss_fail = optax.sigmoid_binary_cross_entropy(\n",
    "        logits_fail, jnp.zeros_like(logits_fail)).mean()\n",
    "    \n",
    "    inputs_fake = jnp.hstack([x_succ[:,:7], noise])\n",
    "    outputs_fake = state_gen.apply_fn(params_gen, inputs_fake)\n",
    "    x_fake = jnp.hstack([x_succ[:, :7], outputs_fake])\n",
    "    logits_fake = state_disc.apply_fn(params_disc, x_fake).flatten()\n",
    "    loss_fake = optax.sigmoid_binary_cross_entropy(\n",
    "        logits_fake, jnp.zeros_like(logits_fake)).mean()\n",
    "    loss_disc = loss_succ + loss_fail + loss_fake\n",
    "    return loss_disc, (loss_succ, loss_fail, loss_fake)\n",
    "\n",
    "def loss_gen(state_gen, params_gen, \n",
    "             x_succ, noise, state_disc, params_disc):\n",
    "    # gen:\n",
    "    inputs_fake = jnp.hstack([x_succ[:,:7], noise])\n",
    "    outputs_fake = state_gen.apply_fn(params_gen, inputs_fake)\n",
    "    x_fake = jnp.hstack([x_succ[:, :7], outputs_fake])\n",
    "    logits_fake = state_disc.apply_fn(params_disc, x_fake).flatten()\n",
    "    loss_cheat = optax.sigmoid_binary_cross_entropy(\n",
    "        logits_fake, jnp.ones_like(logits_fake)).mean()\n",
    "    return loss_cheat\n",
    "grad_disc_fn = jax.value_and_grad(loss_disc, argnums=1, has_aux=True)\n",
    "grad_gen_fn = jax.value_and_grad(loss_gen, argnums=1)\n",
    "\n",
    "@jax.jit\n",
    "def training_step(states, x_succ, x_fail, noise):\n",
    "    state_disc, state_gen = states\n",
    "    (loss_disc, (loss_succ, loss_fail, loss_fake)), grads = \\\n",
    "        grad_disc_fn(state_disc, state_disc.params, x_succ, x_fail, noise,\n",
    "                     state_gen, state_gen.params)\n",
    "    state_disc = state_disc.apply_gradients(grads=grads)\n",
    "    loss_cheat, grads = grad_gen_fn(state_gen, state_gen.params,\n",
    "                                    x_succ, noise, state_disc, state_disc.params)\n",
    "    state_gen = state_gen.apply_gradients(grads=grads)\n",
    "    return (state_disc, state_gen), (loss_disc, loss_cheat, loss_succ, loss_fail, loss_fake)"
   ]
  },
  {
   "cell_type": "code",
   "execution_count": 7,
   "metadata": {},
   "outputs": [
    {
     "ename": "NameError",
     "evalue": "name 'state_disc' is not defined",
     "output_type": "error",
     "traceback": [
      "\u001b[0;31m---------------------------------------------------------------------------\u001b[0m",
      "\u001b[0;31mNameError\u001b[0m                                 Traceback (most recent call last)",
      "Cell \u001b[0;32mIn[7], line 1\u001b[0m\n\u001b[0;32m----> 1\u001b[0m states \u001b[39m=\u001b[39m (state_disc, state_gen)\n\u001b[1;32m      2\u001b[0m num_batch \u001b[39m=\u001b[39m \u001b[39m1000\u001b[39m\n\u001b[1;32m      3\u001b[0m \u001b[39mfor\u001b[39;00m epoch \u001b[39min\u001b[39;00m \u001b[39mrange\u001b[39m(\u001b[39m50000\u001b[39m):\n",
      "\u001b[0;31mNameError\u001b[0m: name 'state_disc' is not defined"
     ]
    }
   ],
   "source": [
    "states = (state_disc, state_gen)\n",
    "num_batch = 1000\n",
    "for epoch in range(50000):\n",
    "    qs = qs = generate_random_joints(num_batch)\n",
    "    x_succ, x_fail = get_batch_samples(qs)\n",
    "    noise = np.random.normal(size=(num_batch, 2))\n",
    "    states, losses = training_step(states, x_succ, x_fail, noise)\n",
    "    loss_disc, loss_cheat, loss_succ, loss_fail, loss_fake = losses\n",
    "    if epoch % 100 == 0:\n",
    "        print(f\"epoch:{epoch}, loss_disc:{loss_disc}, loss_cheat:{loss_cheat}\")\n",
    "        #print(f\"loss_succ{loss_succ}, loss_fail:{loss_fail}\")"
   ]
  },
  {
   "cell_type": "code",
   "execution_count": 33,
   "metadata": {},
   "outputs": [],
   "source": [
    "trained_param = state_disc.params"
   ]
  },
  {
   "cell_type": "code",
   "execution_count": 34,
   "metadata": {},
   "outputs": [],
   "source": [
    "qs = np.random.uniform(panda_model.lb[:7], panda_model.ub[:7], size=(128,7))\n",
    "x_succ, x_fail = get_batch_samples(qs)"
   ]
  },
  {
   "cell_type": "code",
   "execution_count": 35,
   "metadata": {},
   "outputs": [
    {
     "data": {
      "text/plain": [
       "Array([  0,   7,  14,  17,  25,  27,  28,  29,  32,  43,  54,  55,  56,\n",
       "        71,  77,  81,  85,  87,  90,  93,  94,  96, 100, 103, 106, 111,\n",
       "       116, 121], dtype=int32)"
      ]
     },
     "execution_count": 35,
     "metadata": {},
     "output_type": "execute_result"
    }
   ],
   "source": [
    "bools = nn.sigmoid(model_disc.apply(trained_param, x_succ)) < 0.5\n",
    "jnp.arange(len(x_succ))[bools.flatten()]"
   ]
  },
  {
   "cell_type": "code",
   "execution_count": 41,
   "metadata": {},
   "outputs": [],
   "source": [
    "def feasibility(ee_pose, tp_elbow):\n",
    "    ee_posevec = ee_pose.parameters()\n",
    "    return model_disc.apply(trained_param, jnp.hstack([ee_posevec, tp_elbow]))\n",
    "\n",
    "# problem\n",
    "qrand = np.random.uniform(panda_model.lb, panda_model.ub)\n",
    "pose_rand = SE3(panda_model.fk_fn(qrand)[-1])\n",
    "\n",
    "#vis\n",
    "frame.set_pose(pose_rand)\n",
    "panda.set_joint_angles(qrand)"
   ]
  },
  {
   "cell_type": "code",
   "execution_count": 42,
   "metadata": {},
   "outputs": [],
   "source": [
    "sphere_samples = fibonacci_sphere(1000)\n",
    "sphere_shoulder = sphere_samples * upper_arm_len + p_shoulder\n",
    "\n",
    "logits = jax.vmap(feasibility, in_axes=(None, 0))(pose_rand, sphere_shoulder)\n",
    "indices = np.arange(len(logits))[logits.flatten() > 1.]\n",
    "elbow_points = np.array(sphere_shoulder[indices], dtype=np.float64)\n",
    "nn.sigmoid(logits[indices].flatten())\n",
    "\n",
    "#vis\n",
    "colors = np.tile(Colors.read(\"blue\", return_rgb=True), len(elbow_points)).reshape(-1, 3)\n",
    "pc = PointCloud(world.vis, \"pc\", elbow_points, color=\"blue\")\n",
    "# world.vis[\"pc\"].set_object(\n",
    "#     g.PointsGeometry(elbow_points.T, colors.T),\n",
    "#     g.PointsMaterial(size=0.05)\n",
    "# )\n",
    "pc.load()"
   ]
  },
  {
   "cell_type": "code",
   "execution_count": 43,
   "metadata": {},
   "outputs": [
    {
     "data": {
      "text/plain": [
       "array([], dtype=int64)"
      ]
     },
     "execution_count": 43,
     "metadata": {},
     "output_type": "execute_result"
    }
   ],
   "source": [
    "indices"
   ]
  },
  {
   "cell_type": "code",
   "execution_count": 155,
   "metadata": {},
   "outputs": [],
   "source": [
    "world.vis[\"pc\"].delete()"
   ]
  },
  {
   "cell_type": "code",
   "execution_count": null,
   "metadata": {},
   "outputs": [],
   "source": []
  },
  {
   "cell_type": "code",
   "execution_count": 72,
   "metadata": {},
   "outputs": [],
   "source": [
    "save(\"elbow_feas_net_euclid.pth\", state, hp, force=True)"
   ]
  },
  {
   "cell_type": "code",
   "execution_count": 73,
   "metadata": {},
   "outputs": [],
   "source": [
    "feas_fn = get_mlp_by_path(\"elbow_feas_net_euclid.pth\")"
   ]
  },
  {
   "cell_type": "code",
   "execution_count": 61,
   "metadata": {},
   "outputs": [
    {
     "name": "stdout",
     "output_type": "stream",
     "text": [
      "You can open the visualizer by visiting the following URL:\n",
      "http://127.0.0.1:7004/static/\n"
     ]
    }
   ],
   "source": [
    "from sdf_world.sdf_world import *\n",
    "world = SDFWorld()"
   ]
  },
  {
   "cell_type": "code",
   "execution_count": 62,
   "metadata": {},
   "outputs": [
    {
     "data": {
      "text/html": [
       "\n",
       "            <div style=\"height: 400px; width: 100%; overflow-x: auto; overflow-y: hidden; resize: both\">\n",
       "            <iframe src=\"http://127.0.0.1:7004/static/\" style=\"width: 100%; height: 100%; border: none\"></iframe>\n",
       "            </div>\n",
       "            "
      ],
      "text/plain": [
       "<IPython.core.display.HTML object>"
      ]
     },
     "execution_count": 62,
     "metadata": {},
     "output_type": "execute_result"
    }
   ],
   "source": [
    "world.show_in_jupyter()"
   ]
  },
  {
   "cell_type": "code",
   "execution_count": 63,
   "metadata": {},
   "outputs": [],
   "source": [
    "#panda_model = RobotModel(PANDA_URDF, PANDA_PACKAGE)\n",
    "panda = Robot(world.vis, \"panda\", panda_model)"
   ]
  },
  {
   "cell_type": "code",
   "execution_count": 64,
   "metadata": {},
   "outputs": [],
   "source": [
    "frame = Frame(world.vis, \"frame\", 0.2)\n",
    "shoulder = Sphere(world.vis, \"shoulder\", 0.1, \"red\", 0.5)\n",
    "elbow = Sphere(world.vis, \"elbow\", 0.1, \"red\", 0.5)\n",
    "wrist = Sphere(world.vis, \"wrist\", 0.1, \"red\", 0.5)"
   ]
  },
  {
   "cell_type": "code",
   "execution_count": 65,
   "metadata": {},
   "outputs": [],
   "source": [
    "#predefine\n",
    "fks = panda_model.fk_fn(panda_model.neutral)\n",
    "ee_pose = SE3(fks[-1])\n",
    "# wrist_pos = panda_model.fk_fn(panda_model.neutral)[7][-3:]\n",
    "# wrist_wrt_ee = ee_pose.inverse().apply(wrist_pos)\n",
    "upper_arm_len = jnp.linalg.norm(fks[3][-3:] - fks[1][-3:])\n",
    "p_shoulder = fks[1][-3:]\n",
    "ws_lb = [-0.8, -0.8, -0.3]\n",
    "ws_ub = [0.8, 0.8, 1.3]"
   ]
  },
  {
   "cell_type": "code",
   "execution_count": 152,
   "metadata": {},
   "outputs": [],
   "source": []
  },
  {
   "cell_type": "code",
   "execution_count": 153,
   "metadata": {},
   "outputs": [],
   "source": [
    "sphere_points = fibonacci_sphere() * upper_arm_len + p_shoulder\n",
    "# elbow_params = np.random.uniform([0., -np.pi], [np.pi, np.pi], size=(100,2))\n",
    "elbow_points = jnp.array(sphere_points)\n",
    "def feasibility_logit_fn(ee_posevec, elbow_param):\n",
    "    return feas_fn(jnp.hstack([ee_posevec, elbow_param]))\n",
    "@jax.jit\n",
    "def ik(ee_pose):\n",
    "    rot6d = ee_pose.as_matrix()[:3,:2].T.flatten()\n",
    "    p_ee = ee_pose.translation()\n",
    "    ee_posevec = jnp.hstack([rot6d, p_ee])\n",
    "    logits = jax.vmap(feasibility_logit_fn, in_axes=(None, 0))(ee_posevec, elbow_points)\n",
    "    return logits"
   ]
  },
  {
   "cell_type": "code",
   "execution_count": 154,
   "metadata": {},
   "outputs": [],
   "source": [
    "cond = (ik(ee_pose) > 1.).flatten()\n",
    "indices = jnp.arange(len(cond))[cond]\n",
    "elbows = elbow_points[indices]"
   ]
  },
  {
   "cell_type": "code",
   "execution_count": 291,
   "metadata": {},
   "outputs": [],
   "source": [
    "def ee_error(q, ee_pose_des):\n",
    "    fks = panda_model.fk_fn(q)\n",
    "    ee_pose_curr = SE3(fks[-1])\n",
    "    ee_err_vec = (ee_pose_curr.inverse() @ ee_pose_des).log()\n",
    "    ee_err = safe_2norm(ee_err_vec)\n",
    "    return ee_err\n",
    "def elbow_err(q, p_elbow_des):\n",
    "    fks = panda_model.fk_fn(q)\n",
    "    p_elbow_curr = fks[4][-3:]\n",
    "    elbow_err = safe_2norm(p_elbow_curr - p_elbow_des)\n",
    "    return elbow_err\n",
    "err_grad_fn = jax.grad(ee_error)\n",
    "elbowerr_grad_fn = jax.grad(elbow_err)"
   ]
  },
  {
   "cell_type": "code",
   "execution_count": 310,
   "metadata": {},
   "outputs": [],
   "source": [
    "def get_jacobian(q):\n",
    "    fks = panda_model.fk_fn(q)\n",
    "    pos_jac = []\n",
    "    rot_jac = []\n",
    "    p_ee = fks[-1][-3:]\n",
    "    for i in range(1, 8):\n",
    "        p_frame = fks[i][-3:]\n",
    "        rot_axis = SE3(fks[i]).as_matrix()[:3, 2]\n",
    "        lin_vel = jnp.cross(rot_axis, p_ee - p_frame)\n",
    "        pos_jac.append(lin_vel)\n",
    "        rot_jac.append(rot_axis)\n",
    "        \n",
    "    pos_jac = jnp.vstack(pos_jac).T\n",
    "    rot_jac = jnp.vstack(rot_jac).T\n",
    "    return jnp.vstack([pos_jac, rot_jac])"
   ]
  },
  {
   "cell_type": "code",
   "execution_count": 156,
   "metadata": {},
   "outputs": [],
   "source": [
    "p_elbow = elbows[1]\n",
    "elbow.set_translate(p_elbow)"
   ]
  },
  {
   "cell_type": "code",
   "execution_count": 158,
   "metadata": {},
   "outputs": [],
   "source": [
    "q = panda_model.neutral\n",
    "panda.set_joint_angles(q)"
   ]
  },
  {
   "cell_type": "code",
   "execution_count": 401,
   "metadata": {},
   "outputs": [],
   "source": [
    "ee_grad = err_grad_fn(q, pose_rand)\n",
    "elbow_grad = elbowerr_grad_fn(q, p_elbow)\n",
    "\n",
    "jac = get_jacobian(q)\n",
    "ns_proj = jnp.eye(7) - jac.T@jac\n",
    "q_delta = ee_grad + jnp.hstack([ns_proj@elbow_grad[:-2],0,0])\n",
    "q = q - q_delta*0.2\n",
    "panda.set_joint_angles(q)"
   ]
  },
  {
   "cell_type": "code",
   "execution_count": 183,
   "metadata": {},
   "outputs": [
    {
     "data": {
      "text/plain": [
       "Array([ 0.07283606,  0.00364066,  0.0863461 , -0.08738822, -0.08824547,\n",
       "        0.10718858,  0.20078273,  0.        ,  0.        ], dtype=float32)"
      ]
     },
     "execution_count": 183,
     "metadata": {},
     "output_type": "execute_result"
    }
   ],
   "source": [
    "q_grad"
   ]
  },
  {
   "cell_type": "code",
   "execution_count": 65,
   "metadata": {},
   "outputs": [],
   "source": [
    "far_points = farthest_point_sampling(points, 5)"
   ]
  },
  {
   "cell_type": "code",
   "execution_count": 98,
   "metadata": {},
   "outputs": [],
   "source": []
  },
  {
   "cell_type": "code",
   "execution_count": 99,
   "metadata": {},
   "outputs": [],
   "source": [
    "p_elbow = far_points[0]"
   ]
  },
  {
   "cell_type": "code",
   "execution_count": 76,
   "metadata": {},
   "outputs": [],
   "source": [
    "panda = Robot(world.vis, \"panda\", panda_model)\n",
    "panda.reduce_dim([7,8], [0.04, 0.04])\n",
    "frame_elbow = Frame(world.vis, \"elbow_frame\", 0.2)\n",
    "elbow = Sphere(world.vis, \"elbow\", 0.1, \"red\", 0.5)"
   ]
  },
  {
   "cell_type": "code",
   "execution_count": 101,
   "metadata": {},
   "outputs": [],
   "source": [
    "frame_1 = Frame(world.vis, \"frame1\", 0.2)"
   ]
  },
  {
   "cell_type": "code",
   "execution_count": 81,
   "metadata": {},
   "outputs": [],
   "source": [
    "panda.set_joint_angles(panda_model.neutral[:7])"
   ]
  },
  {
   "cell_type": "code",
   "execution_count": 107,
   "metadata": {},
   "outputs": [],
   "source": [
    "fks = panda_model.fk_fn(panda_model.neutral)\n",
    "pose2 = SE3(fks[2])\n",
    "pose5 = SE3(fks[5])\n",
    "frame_1.set_pose(pose2)\n",
    "frame_elbow.set_pose(pose5)"
   ]
  },
  {
   "cell_type": "code",
   "execution_count": 120,
   "metadata": {},
   "outputs": [],
   "source": [
    "diff = (pose5.translation() - pose2.translation())\n",
    "y_pose2 = pose2.as_matrix()[:3,1]"
   ]
  },
  {
   "cell_type": "code",
   "execution_count": 144,
   "metadata": {},
   "outputs": [],
   "source": [
    "p_elbow = (diff @ y_pose2) * y_pose2 + pose2.translation()\n",
    "ee_pose = SE3(fks[-1])\n",
    "alpha_len = jnp.linalg.norm(p_elbow - fks[-6][-3:])\n",
    "beta_len = jnp.linalg.norm(ee_pose.translation() - fks[-6][-3:])"
   ]
  },
  {
   "cell_type": "code",
   "execution_count": 132,
   "metadata": {},
   "outputs": [],
   "source": [
    "frame.set_pose(ee_pose)"
   ]
  },
  {
   "cell_type": "code",
   "execution_count": 187,
   "metadata": {},
   "outputs": [],
   "source": [
    "# given p_elbow, ee_pose, can we solve ik?\n",
    "v = ee_pose.translation() - p_elbow\n",
    "c = jnp.linalg.norm(v)\n",
    "r = jnp.sqrt((beta_len**2 + c**2 - alpha_len**2)/(2*c**2))"
   ]
  },
  {
   "cell_type": "code",
   "execution_count": 190,
   "metadata": {},
   "outputs": [],
   "source": [
    "# z_ee = ee_pose.as_matrix()[:3, 2]\n",
    "# up_vec = jnp.cross(v, jnp.cross(v, z_ee))\n",
    "# up_vec = up_vec/jnp.linalg.norm(up_vec)\n",
    "# up_mag = jnp.sqrt(alpha_len**2 - (c*r)**2)\n",
    "p_wrist = p_elbow + r*v #+up_vec*up_mag"
   ]
  },
  {
   "cell_type": "code",
   "execution_count": 191,
   "metadata": {},
   "outputs": [],
   "source": [
    "wrist.set_translate(p_wrist)"
   ]
  },
  {
   "cell_type": "code",
   "execution_count": 158,
   "metadata": {},
   "outputs": [
    {
     "data": {
      "text/plain": [
       "Array([ 6.1263674e-01,  1.1562403e-08, -1.7700875e-01], dtype=float32)"
      ]
     },
     "execution_count": 158,
     "metadata": {},
     "output_type": "execute_result"
    }
   ],
   "source": [
    "v"
   ]
  },
  {
   "cell_type": "code",
   "execution_count": 139,
   "metadata": {},
   "outputs": [],
   "source": [
    "wrist.set_translate(fks[-6][-3:])"
   ]
  },
  {
   "cell_type": "code",
   "execution_count": 129,
   "metadata": {},
   "outputs": [],
   "source": [
    "elbow.set_translate(p_elbow)"
   ]
  },
  {
   "cell_type": "code",
   "execution_count": 112,
   "metadata": {},
   "outputs": [
    {
     "data": {
      "text/plain": [
       "Array([4.6650025e-01, 5.9267933e-09, 3.9849854e-01], dtype=float32)"
      ]
     },
     "execution_count": 112,
     "metadata": {},
     "output_type": "execute_result"
    }
   ],
   "source": [
    "diff"
   ]
  },
  {
   "cell_type": "code",
   "execution_count": 80,
   "metadata": {},
   "outputs": [],
   "source": [
    "panda.set_joint_angles(jnp.array([0,-0.5,0,0,0,0,0]))"
   ]
  },
  {
   "cell_type": "code",
   "execution_count": 70,
   "metadata": {},
   "outputs": [],
   "source": [
    "elbow.set_translate(far_points[4])"
   ]
  },
  {
   "cell_type": "code",
   "execution_count": null,
   "metadata": {},
   "outputs": [],
   "source": []
  },
  {
   "cell_type": "code",
   "execution_count": 42,
   "metadata": {},
   "outputs": [],
   "source": []
  }
 ],
 "metadata": {
  "kernelspec": {
   "display_name": "opt_env",
   "language": "python",
   "name": "python3"
  },
  "language_info": {
   "codemirror_mode": {
    "name": "ipython",
    "version": 3
   },
   "file_extension": ".py",
   "mimetype": "text/x-python",
   "name": "python",
   "nbconvert_exporter": "python",
   "pygments_lexer": "ipython3",
   "version": "3.8.15"
  },
  "orig_nbformat": 4
 },
 "nbformat": 4,
 "nbformat_minor": 2
}
