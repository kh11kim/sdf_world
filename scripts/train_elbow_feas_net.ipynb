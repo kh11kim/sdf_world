{
 "cells": [
  {
   "cell_type": "code",
   "execution_count": 1,
   "metadata": {},
   "outputs": [],
   "source": [
    "import jax\n",
    "import jax.numpy as jnp\n",
    "from jaxlie import SE3, SO3\n",
    "\n",
    "from sdf_world.sdf_world import *\n",
    "from sdf_world.robots import *\n",
    "from sdf_world.util import *\n",
    "\n",
    "from network import *\n",
    "from loss import *"
   ]
  },
  {
   "cell_type": "code",
   "execution_count": 2,
   "metadata": {},
   "outputs": [
    {
     "name": "stdout",
     "output_type": "stream",
     "text": [
      "You can open the visualizer by visiting the following URL:\n",
      "http://127.0.0.1:7003/static/\n"
     ]
    },
    {
     "data": {
      "text/html": [
       "\n",
       "            <div style=\"height: 400px; width: 100%; overflow-x: auto; overflow-y: hidden; resize: both\">\n",
       "            <iframe src=\"http://127.0.0.1:7003/static/\" style=\"width: 100%; height: 100%; border: none\"></iframe>\n",
       "            </div>\n",
       "            "
      ],
      "text/plain": [
       "<IPython.core.display.HTML object>"
      ]
     },
     "execution_count": 2,
     "metadata": {},
     "output_type": "execute_result"
    }
   ],
   "source": [
    "world = SDFWorld()\n",
    "world.show_in_jupyter()"
   ]
  },
  {
   "cell_type": "code",
   "execution_count": 3,
   "metadata": {},
   "outputs": [
    {
     "name": "stderr",
     "output_type": "stream",
     "text": [
      "concatenating texture: may result in visual artifacts\n",
      "concatenating texture: may result in visual artifacts\n",
      "concatenating texture: may result in visual artifacts\n",
      "concatenating texture: may result in visual artifacts\n",
      "concatenating texture: may result in visual artifacts\n",
      "concatenating texture: may result in visual artifacts\n",
      "concatenating texture: may result in visual artifacts\n",
      "concatenating texture: may result in visual artifacts\n"
     ]
    }
   ],
   "source": [
    "panda_model = RobotModel(PANDA_URDF, PANDA_PACKAGE)\n",
    "panda = Robot(world.vis, \"panda\", panda_model, alpha=0.5)\n",
    "frame = Frame(world.vis, \"frame\", 0.1)\n",
    "elbow = Sphere(world.vis, \"elbow\", 0.1, \"red\", alpha=0.5)"
   ]
  },
  {
   "cell_type": "code",
   "execution_count": 4,
   "metadata": {},
   "outputs": [],
   "source": [
    "fks = panda_model.fk_fn(panda_model.neutral)\n",
    "p_shoulder = fks[1][-3:]\n",
    "p_elbow = fks[4][-3:]\n",
    "upper_arm_len = jnp.linalg.norm(p_elbow-p_shoulder)\n",
    "sphere_points = fibonacci_sphere(1000)\n",
    "#sphere_points_rtp = jax.vmap(to_spherical_coord)(sphere_points)\n",
    "shoulder_sphere_points = sphere_points * upper_arm_len + p_shoulder\n",
    "ws_lb, ws_ub = [-1, -1, -0.5], [1, 1, 1.5]"
   ]
  },
  {
   "cell_type": "code",
   "execution_count": 403,
   "metadata": {},
   "outputs": [],
   "source": [
    "pc = PointCloud(world.vis, \"pc\", np.array(shoulder_sphere_points).astype(np.float64), color=\"blue\")"
   ]
  },
  {
   "cell_type": "code",
   "execution_count": 5,
   "metadata": {},
   "outputs": [],
   "source": [
    "from scipy.spatial.transform import Rotation\n",
    "def get_random_samples(num_samples):\n",
    "    xyz = np.random.uniform(ws_lb, ws_ub, (num_samples, 3))\n",
    "    qtns_xyzw = Rotation.random(num_samples).as_quat()\n",
    "    qtns = qtns_xyzw[:,[3,0,1,2]]\n",
    "    indices = np.random.randint(0, 1000, size=num_samples)\n",
    "    p_elbow = shoulder_sphere_points[indices]\n",
    "    #tp = sphere_points_rtp[indices, 1:]\n",
    "    return jnp.hstack([qtns, xyz, p_elbow])\n",
    "\n",
    "def generate_successful_sample(q):\n",
    "    gripper_joints = jnp.full((2), 0.04)\n",
    "    qnew = jnp.hstack([q, gripper_joints])\n",
    "    fks = panda_model.fk_fn(qnew)\n",
    "    ee_pose = fks[-1]\n",
    "    p_elbow = fks[4][-3:]\n",
    "    #rtp = to_spherical_coord(p_elbow - p_shoulder)\n",
    "    return jnp.hstack([ee_pose, p_elbow])\n",
    "\n",
    "def generate_random_joints(num_samples):\n",
    "    return jnp.array(np.random.uniform(\n",
    "        panda_model.lb[:7], panda_model.ub[:7], size=(num_samples,7)))\n",
    "\n",
    "@jax.jit\n",
    "def get_batch_samples(qs):\n",
    "    x_succ = jax.vmap(generate_successful_sample)(qs) #true data\n",
    "    #tp_noise = np.random.normal(size=(qs.shape[0],2)) * jnp.pi/10\n",
    "    p_noise = np.random.normal(size=(qs.shape[0],3)) * 0.05\n",
    "    x_fail1 = get_random_samples(qs.shape[0])\n",
    "    x_fail2 = x_succ.at[:,7:].set(x_succ[:,7:] + p_noise)\n",
    "    x_fail3 = x_succ.at[:,4:7].set(x_succ[:,4:7] + p_noise)\n",
    "    x_fail = jnp.vstack([x_fail1, x_fail2, x_fail3])\n",
    "    return x_succ, x_fail"
   ]
  },
  {
   "cell_type": "code",
   "execution_count": 505,
   "metadata": {},
   "outputs": [],
   "source": [
    "qs = generate_random_joints(100)\n",
    "x_succ, x_fail = get_batch_samples(qs)"
   ]
  },
  {
   "cell_type": "code",
   "execution_count": 524,
   "metadata": {},
   "outputs": [],
   "source": [
    "i=100\n",
    "x_sample = x_fail"
   ]
  },
  {
   "cell_type": "code",
   "execution_count": 529,
   "metadata": {},
   "outputs": [
    {
     "name": "stdout",
     "output_type": "stream",
     "text": [
      "[-0.23737708 -0.7212028  -0.59818256 -0.25631255  0.30037656 -0.19551739\n",
      " -0.10780752 -0.04035843 -0.18666959  0.5045196 ]\n"
     ]
    }
   ],
   "source": [
    "frame.set_pose(SE3(x_sample[i][:7]))\n",
    "elbow.set_translate(x_sample[i][7:])\n",
    "print(x_sample[i])\n",
    "i+= 1"
   ]
  },
  {
   "cell_type": "code",
   "execution_count": 12,
   "metadata": {},
   "outputs": [],
   "source": [
    "from jax import random\n",
    "hp = Hyperparam()\n",
    "hp.dims = [10, 32, 32, 32, 32, 1]\n",
    "hp.lr = 0.001\n",
    "hp.batch_size = 128\n",
    "\n",
    "model = get_mlp(hp)\n",
    "key1, key2 = random.split(random.PRNGKey(0))\n",
    "x = random.normal(key1, (hp.dims[0],))\n",
    "params = model.init(key2, x)\n",
    "tx = optax.adam(learning_rate=hp.lr)\n",
    "state = TrainState.create(apply_fn=model.apply, params=params, tx=tx)"
   ]
  },
  {
   "cell_type": "code",
   "execution_count": 13,
   "metadata": {},
   "outputs": [],
   "source": [
    "def loss(state, params, x_succ, x_fail):\n",
    "    logits_succ = state.apply_fn(params, x_succ).flatten()\n",
    "    loss_succ = optax.sigmoid_binary_cross_entropy(\n",
    "        logits_succ, jnp.ones_like(logits_succ)).mean()\n",
    "    logits_fail = state.apply_fn(params, x_fail).flatten()\n",
    "    loss_fail = optax.sigmoid_binary_cross_entropy(\n",
    "        logits_fail, jnp.zeros_like(logits_fail)).mean()\n",
    "    return loss_succ + loss_fail, (loss_succ, loss_fail)\n",
    "grad_fn = jax.value_and_grad(loss, argnums=1, has_aux=True)\n",
    "\n",
    "@jax.jit\n",
    "def training_step(state, x_succ, x_fail):\n",
    "    (loss, (loss_succ, loss_fail)), grads = grad_fn(state, state.params, x_succ, x_fail)\n",
    "    state = state.apply_gradients(grads=grads)\n",
    "    return state, loss, loss_succ, loss_fail"
   ]
  },
  {
   "cell_type": "code",
   "execution_count": 14,
   "metadata": {},
   "outputs": [
    {
     "name": "stdout",
     "output_type": "stream",
     "text": [
      "epoch:0, loss:1.3843345642089844\n",
      "loss_succ0.6789218783378601, loss_fail:0.705412745475769\n",
      "epoch:100, loss:1.2167222499847412\n",
      "loss_succ0.5869525671005249, loss_fail:0.6297696232795715\n",
      "epoch:200, loss:1.159193992614746\n",
      "loss_succ0.5281186103820801, loss_fail:0.631075382232666\n",
      "epoch:300, loss:1.1379543542861938\n",
      "loss_succ0.5286485552787781, loss_fail:0.6093057990074158\n",
      "epoch:400, loss:1.1220933198928833\n",
      "loss_succ0.5221401453018188, loss_fail:0.5999531745910645\n",
      "epoch:500, loss:1.1145291328430176\n",
      "loss_succ0.5236716270446777, loss_fail:0.5908575654029846\n",
      "epoch:600, loss:1.1061792373657227\n",
      "loss_succ0.538483738899231, loss_fail:0.5676954984664917\n",
      "epoch:700, loss:1.0903346538543701\n",
      "loss_succ0.5103625059127808, loss_fail:0.5799721479415894\n",
      "epoch:800, loss:1.0923676490783691\n",
      "loss_succ0.49548324942588806, loss_fail:0.5968843698501587\n",
      "epoch:900, loss:1.081726312637329\n",
      "loss_succ0.4826229214668274, loss_fail:0.5991033315658569\n",
      "epoch:1000, loss:1.0750495195388794\n",
      "loss_succ0.4912102222442627, loss_fail:0.5838392972946167\n",
      "epoch:1100, loss:1.0757472515106201\n",
      "loss_succ0.48753949999809265, loss_fail:0.5882077813148499\n",
      "epoch:1200, loss:1.067983865737915\n",
      "loss_succ0.4901715815067291, loss_fail:0.5778122544288635\n",
      "epoch:1300, loss:1.0656516551971436\n",
      "loss_succ0.4920942485332489, loss_fail:0.5735573768615723\n",
      "epoch:1400, loss:1.0453877449035645\n",
      "loss_succ0.48534634709358215, loss_fail:0.5600414276123047\n",
      "epoch:1500, loss:1.0489623546600342\n",
      "loss_succ0.46898549795150757, loss_fail:0.5799767971038818\n",
      "epoch:1600, loss:1.033390760421753\n",
      "loss_succ0.4711088240146637, loss_fail:0.5622819066047668\n",
      "epoch:1700, loss:1.0449422597885132\n",
      "loss_succ0.4716525375843048, loss_fail:0.573289692401886\n",
      "epoch:1800, loss:1.0379998683929443\n",
      "loss_succ0.4599780738353729, loss_fail:0.578021764755249\n",
      "epoch:1900, loss:1.046386480331421\n",
      "loss_succ0.46325021982192993, loss_fail:0.5831363201141357\n",
      "epoch:2000, loss:1.0239988565444946\n",
      "loss_succ0.476537823677063, loss_fail:0.5474610328674316\n",
      "epoch:2100, loss:1.0258471965789795\n",
      "loss_succ0.45840126276016235, loss_fail:0.5674459338188171\n",
      "epoch:2200, loss:1.024888277053833\n",
      "loss_succ0.4591423571109772, loss_fail:0.5657459497451782\n",
      "epoch:2300, loss:1.0299030542373657\n",
      "loss_succ0.4599009156227112, loss_fail:0.5700021386146545\n",
      "epoch:2400, loss:1.036995530128479\n",
      "loss_succ0.4910280704498291, loss_fail:0.5459674596786499\n",
      "epoch:2500, loss:1.0157698392868042\n",
      "loss_succ0.43823757767677307, loss_fail:0.5775322914123535\n",
      "epoch:2600, loss:1.0051631927490234\n",
      "loss_succ0.46543484926223755, loss_fail:0.5397282838821411\n",
      "epoch:2700, loss:1.008994221687317\n",
      "loss_succ0.4336700141429901, loss_fail:0.5753242373466492\n",
      "epoch:2800, loss:1.0023987293243408\n",
      "loss_succ0.4359251856803894, loss_fail:0.5664735436439514\n",
      "epoch:2900, loss:0.9983501434326172\n",
      "loss_succ0.43352586030960083, loss_fail:0.5648242831230164\n",
      "epoch:3000, loss:1.0006155967712402\n",
      "loss_succ0.4505824148654938, loss_fail:0.5500332117080688\n",
      "epoch:3100, loss:0.9899499416351318\n",
      "loss_succ0.4443824589252472, loss_fail:0.545567512512207\n",
      "epoch:3200, loss:0.9867854118347168\n",
      "loss_succ0.42814263701438904, loss_fail:0.5586427450180054\n",
      "epoch:3300, loss:0.997509777545929\n",
      "loss_succ0.4576382637023926, loss_fail:0.5398715138435364\n",
      "epoch:3400, loss:0.9886989593505859\n",
      "loss_succ0.4355548918247223, loss_fail:0.553144097328186\n",
      "epoch:3500, loss:0.980720043182373\n",
      "loss_succ0.44301167130470276, loss_fail:0.5377083420753479\n",
      "epoch:3600, loss:0.9928399920463562\n",
      "loss_succ0.4487556219100952, loss_fail:0.544084370136261\n",
      "epoch:3700, loss:0.9791466593742371\n",
      "loss_succ0.4440603256225586, loss_fail:0.5350863337516785\n",
      "epoch:3800, loss:0.9689460396766663\n",
      "loss_succ0.42167097330093384, loss_fail:0.5472750663757324\n",
      "epoch:3900, loss:0.975884199142456\n",
      "loss_succ0.42534950375556946, loss_fail:0.550534725189209\n",
      "epoch:4000, loss:0.9645226001739502\n",
      "loss_succ0.43699899315834045, loss_fail:0.5275235772132874\n",
      "epoch:4100, loss:0.9760475158691406\n",
      "loss_succ0.4235972464084625, loss_fail:0.5524502992630005\n",
      "epoch:4200, loss:0.9857335090637207\n",
      "loss_succ0.4511212408542633, loss_fail:0.534612238407135\n",
      "epoch:4300, loss:0.9840396642684937\n",
      "loss_succ0.4432031214237213, loss_fail:0.54083651304245\n",
      "epoch:4400, loss:0.9888993501663208\n",
      "loss_succ0.45010462403297424, loss_fail:0.538794755935669\n",
      "epoch:4500, loss:0.9564999341964722\n",
      "loss_succ0.41006049513816833, loss_fail:0.5464394688606262\n",
      "epoch:4600, loss:0.9721622467041016\n",
      "loss_succ0.427175909280777, loss_fail:0.5449863076210022\n",
      "epoch:4700, loss:0.9745962023735046\n",
      "loss_succ0.43587666749954224, loss_fail:0.5387195348739624\n",
      "epoch:4800, loss:0.9744657874107361\n",
      "loss_succ0.4149114489555359, loss_fail:0.5595543384552002\n",
      "epoch:4900, loss:0.9608069658279419\n",
      "loss_succ0.428680419921875, loss_fail:0.5321265459060669\n",
      "epoch:5000, loss:0.9485719799995422\n",
      "loss_succ0.4144529104232788, loss_fail:0.5341190695762634\n",
      "epoch:5100, loss:0.9467226266860962\n",
      "loss_succ0.41313549876213074, loss_fail:0.5335871577262878\n",
      "epoch:5200, loss:0.965437114238739\n",
      "loss_succ0.43580323457717896, loss_fail:0.5296338796615601\n",
      "epoch:5300, loss:0.9461543560028076\n",
      "loss_succ0.4184836149215698, loss_fail:0.5276707410812378\n",
      "epoch:5400, loss:0.949082612991333\n",
      "loss_succ0.40400460362434387, loss_fail:0.5450780391693115\n",
      "epoch:5500, loss:0.962432861328125\n",
      "loss_succ0.4402042627334595, loss_fail:0.5222285985946655\n",
      "epoch:5600, loss:0.9561282396316528\n",
      "loss_succ0.4074127972126007, loss_fail:0.5487154126167297\n",
      "epoch:5700, loss:0.950904369354248\n",
      "loss_succ0.4177316725254059, loss_fail:0.5331726670265198\n",
      "epoch:5800, loss:0.9504070281982422\n",
      "loss_succ0.4242394268512726, loss_fail:0.5261675715446472\n",
      "epoch:5900, loss:0.9483644962310791\n",
      "loss_succ0.41269704699516296, loss_fail:0.5356674790382385\n",
      "epoch:6000, loss:0.9530848264694214\n",
      "loss_succ0.43492087721824646, loss_fail:0.5181639194488525\n",
      "epoch:6100, loss:0.9404095411300659\n",
      "loss_succ0.39593881368637085, loss_fail:0.5444707274436951\n",
      "epoch:6200, loss:0.9366954565048218\n",
      "loss_succ0.41787758469581604, loss_fail:0.5188178420066833\n",
      "epoch:6300, loss:0.9360783100128174\n",
      "loss_succ0.41223183274269104, loss_fail:0.523846447467804\n",
      "epoch:6400, loss:0.9474091529846191\n",
      "loss_succ0.39055708050727844, loss_fail:0.5568520426750183\n",
      "epoch:6500, loss:0.9366234540939331\n",
      "loss_succ0.41252437233924866, loss_fail:0.5240990519523621\n",
      "epoch:6600, loss:0.9398423433303833\n",
      "loss_succ0.42200061678886414, loss_fail:0.5178416967391968\n",
      "epoch:6700, loss:0.9468702077865601\n",
      "loss_succ0.41597115993499756, loss_fail:0.5308990478515625\n",
      "epoch:6800, loss:0.9407707452774048\n",
      "loss_succ0.4226451516151428, loss_fail:0.518125593662262\n",
      "epoch:6900, loss:0.927264392375946\n",
      "loss_succ0.40782630443573, loss_fail:0.5194380879402161\n",
      "epoch:7000, loss:0.9284664392471313\n",
      "loss_succ0.4212587773799896, loss_fail:0.5072076916694641\n",
      "epoch:7100, loss:0.9417820572853088\n",
      "loss_succ0.4158599376678467, loss_fail:0.5259221196174622\n",
      "epoch:7200, loss:0.9399187564849854\n",
      "loss_succ0.42034175992012024, loss_fail:0.5195770263671875\n",
      "epoch:7300, loss:0.9393221139907837\n",
      "loss_succ0.4057035446166992, loss_fail:0.5336185693740845\n",
      "epoch:7400, loss:0.9397768974304199\n",
      "loss_succ0.416962593793869, loss_fail:0.5228142738342285\n",
      "epoch:7500, loss:0.9494354128837585\n",
      "loss_succ0.4190410375595093, loss_fail:0.5303943753242493\n",
      "epoch:7600, loss:0.9286302328109741\n",
      "loss_succ0.4099145233631134, loss_fail:0.5187156796455383\n",
      "epoch:7700, loss:0.9139254093170166\n",
      "loss_succ0.3923600912094116, loss_fail:0.521565318107605\n",
      "epoch:7800, loss:0.9299172163009644\n",
      "loss_succ0.39038196206092834, loss_fail:0.5395352244377136\n",
      "epoch:7900, loss:0.9309321641921997\n",
      "loss_succ0.40185025334358215, loss_fail:0.5290819406509399\n",
      "epoch:8000, loss:0.9190628528594971\n",
      "loss_succ0.39809706807136536, loss_fail:0.5209657549858093\n",
      "epoch:8100, loss:0.9004490375518799\n",
      "loss_succ0.38036370277404785, loss_fail:0.520085334777832\n",
      "epoch:8200, loss:0.9300683736801147\n",
      "loss_succ0.3989724814891815, loss_fail:0.5310959219932556\n",
      "epoch:8300, loss:0.9429197311401367\n",
      "loss_succ0.421162873506546, loss_fail:0.5217568874359131\n",
      "epoch:8400, loss:0.9157345294952393\n",
      "loss_succ0.38611099123954773, loss_fail:0.5296235680580139\n",
      "epoch:8500, loss:0.9294717311859131\n",
      "loss_succ0.4080016314983368, loss_fail:0.5214700698852539\n",
      "epoch:8600, loss:0.9138773679733276\n",
      "loss_succ0.39451009035110474, loss_fail:0.5193672776222229\n",
      "epoch:8700, loss:0.9095841646194458\n",
      "loss_succ0.40166598558425903, loss_fail:0.5079181790351868\n",
      "epoch:8800, loss:0.9168939590454102\n",
      "loss_succ0.40660038590431213, loss_fail:0.5102936029434204\n",
      "epoch:8900, loss:0.931903064250946\n",
      "loss_succ0.4052290916442871, loss_fail:0.5266739726066589\n",
      "epoch:9000, loss:0.9428650140762329\n",
      "loss_succ0.41540440917015076, loss_fail:0.5274606347084045\n",
      "epoch:9100, loss:0.8974728584289551\n",
      "loss_succ0.39253291487693787, loss_fail:0.5049399137496948\n",
      "epoch:9200, loss:0.9181718230247498\n",
      "loss_succ0.4083483815193176, loss_fail:0.5098234415054321\n",
      "epoch:9300, loss:0.9132883548736572\n",
      "loss_succ0.39554181694984436, loss_fail:0.5177465081214905\n",
      "epoch:9400, loss:0.9229931831359863\n",
      "loss_succ0.40680837631225586, loss_fail:0.5161848068237305\n",
      "epoch:9500, loss:0.9126933813095093\n",
      "loss_succ0.3974277079105377, loss_fail:0.515265703201294\n",
      "epoch:9600, loss:0.9183266162872314\n",
      "loss_succ0.40496423840522766, loss_fail:0.5133624076843262\n",
      "epoch:9700, loss:0.9107933044433594\n",
      "loss_succ0.41368573904037476, loss_fail:0.49710753560066223\n",
      "epoch:9800, loss:0.907504677772522\n",
      "loss_succ0.4027632772922516, loss_fail:0.5047414302825928\n",
      "epoch:9900, loss:0.900806725025177\n",
      "loss_succ0.4016401171684265, loss_fail:0.4991666078567505\n",
      "epoch:10000, loss:0.9054069519042969\n",
      "loss_succ0.37757954001426697, loss_fail:0.5278274416923523\n",
      "epoch:10100, loss:0.8968278169631958\n",
      "loss_succ0.3843783140182495, loss_fail:0.5124495029449463\n",
      "epoch:10200, loss:0.9019850492477417\n",
      "loss_succ0.3918379843235016, loss_fail:0.5101470351219177\n",
      "epoch:10300, loss:0.9143052101135254\n",
      "loss_succ0.40381959080696106, loss_fail:0.5104856491088867\n",
      "epoch:10400, loss:0.9270807504653931\n",
      "loss_succ0.42004284262657166, loss_fail:0.5070379376411438\n",
      "epoch:10500, loss:0.8971798419952393\n",
      "loss_succ0.38500866293907166, loss_fail:0.51217120885849\n",
      "epoch:10600, loss:0.8997631072998047\n",
      "loss_succ0.3828103244304657, loss_fail:0.5169528126716614\n",
      "epoch:10700, loss:0.9218276739120483\n",
      "loss_succ0.39895546436309814, loss_fail:0.5228722095489502\n",
      "epoch:10800, loss:0.912305474281311\n",
      "loss_succ0.40153953433036804, loss_fail:0.5107659101486206\n",
      "epoch:10900, loss:0.8870512247085571\n",
      "loss_succ0.3841176927089691, loss_fail:0.5029335618019104\n",
      "epoch:11000, loss:0.9156956672668457\n",
      "loss_succ0.4022313952445984, loss_fail:0.5134642720222473\n",
      "epoch:11100, loss:0.879450261592865\n",
      "loss_succ0.391630083322525, loss_fail:0.48782017827033997\n",
      "epoch:11200, loss:0.9061406850814819\n",
      "loss_succ0.3905024826526642, loss_fail:0.5156381726264954\n",
      "epoch:11300, loss:0.9043655395507812\n",
      "loss_succ0.4051611125469208, loss_fail:0.4992044270038605\n",
      "epoch:11400, loss:0.9128977656364441\n",
      "loss_succ0.3945849537849426, loss_fail:0.5183128118515015\n",
      "epoch:11500, loss:0.8947093486785889\n",
      "loss_succ0.388672798871994, loss_fail:0.5060365200042725\n",
      "epoch:11600, loss:0.9146873950958252\n",
      "loss_succ0.4119916558265686, loss_fail:0.5026957392692566\n",
      "epoch:11700, loss:0.8968749046325684\n",
      "loss_succ0.3867550790309906, loss_fail:0.5101197957992554\n",
      "epoch:11800, loss:0.8988635540008545\n",
      "loss_succ0.3878578245639801, loss_fail:0.5110057592391968\n",
      "epoch:11900, loss:0.8817921876907349\n",
      "loss_succ0.3873031437397003, loss_fail:0.49448901414871216\n"
     ]
    },
    {
     "ename": "KeyboardInterrupt",
     "evalue": "",
     "output_type": "error",
     "traceback": [
      "\u001b[0;31m---------------------------------------------------------------------------\u001b[0m",
      "\u001b[0;31mKeyboardInterrupt\u001b[0m                         Traceback (most recent call last)",
      "Cell \u001b[0;32mIn[14], line 3\u001b[0m\n\u001b[1;32m      1\u001b[0m \u001b[39mfor\u001b[39;00m epoch \u001b[39min\u001b[39;00m \u001b[39mrange\u001b[39m(\u001b[39m50000\u001b[39m):\n\u001b[1;32m      2\u001b[0m     qs \u001b[39m=\u001b[39m qs \u001b[39m=\u001b[39m generate_random_joints(\u001b[39m1000\u001b[39m)\n\u001b[0;32m----> 3\u001b[0m     x_succ, x_fail \u001b[39m=\u001b[39m get_batch_samples(qs)\n\u001b[1;32m      4\u001b[0m     state, loss, loss_succ, loss_fail \u001b[39m=\u001b[39m training_step(state, x_succ, x_fail)\n\u001b[1;32m      5\u001b[0m     \u001b[39mif\u001b[39;00m epoch \u001b[39m%\u001b[39m \u001b[39m100\u001b[39m \u001b[39m==\u001b[39m \u001b[39m0\u001b[39m:\n",
      "\u001b[0;31mKeyboardInterrupt\u001b[0m: "
     ]
    }
   ],
   "source": [
    "for epoch in range(50000):\n",
    "    qs = qs = generate_random_joints(1000)\n",
    "    x_succ, x_fail = get_batch_samples(qs)\n",
    "    state, loss, loss_succ, loss_fail = training_step(state, x_succ, x_fail)\n",
    "    if epoch % 100 == 0:\n",
    "        print(f\"epoch:{epoch}, loss:{loss}\")\n",
    "        print(f\"loss_succ{loss_succ}, loss_fail:{loss_fail}\")"
   ]
  },
  {
   "cell_type": "code",
   "execution_count": 15,
   "metadata": {},
   "outputs": [],
   "source": [
    "trained_param = state.params"
   ]
  },
  {
   "cell_type": "code",
   "execution_count": 23,
   "metadata": {},
   "outputs": [],
   "source": [
    "qs = np.random.uniform(panda_model.lb[:7], panda_model.ub[:7], size=(128,7))\n",
    "x_succ, x_fail = get_batch_samples(qs)"
   ]
  },
  {
   "cell_type": "code",
   "execution_count": 27,
   "metadata": {},
   "outputs": [
    {
     "data": {
      "text/plain": [
       "Array([ 20,  34,  76,  85, 100, 118, 125, 128, 129, 130, 132, 133, 137,\n",
       "       139, 141, 142, 144, 145, 146, 147, 148, 149, 150, 151, 152, 154,\n",
       "       155, 156, 157, 159, 164, 165, 166, 171, 172, 173, 176, 177, 181,\n",
       "       184, 187, 188, 189, 190, 191, 193, 195, 196, 198, 200, 204, 208,\n",
       "       209, 212, 213, 215, 216, 219, 220, 222, 225, 229, 231, 232, 233,\n",
       "       234, 236, 237, 238, 239, 244, 249, 251, 252, 254, 255, 256, 257,\n",
       "       258, 259, 260, 261, 263, 265, 266, 268, 272, 273, 274, 276, 278,\n",
       "       280, 283, 288, 289, 293, 296, 297, 299, 300, 303, 305, 306, 312,\n",
       "       313, 314, 315, 317, 318, 320, 321, 322, 324, 326, 329, 334, 336,\n",
       "       337, 338, 340, 343, 344, 345, 346, 347, 351, 352, 353, 354, 356,\n",
       "       360, 361, 362, 364, 367, 368, 369, 371, 375, 376, 377, 379, 381,\n",
       "       382, 383], dtype=int32)"
      ]
     },
     "execution_count": 27,
     "metadata": {},
     "output_type": "execute_result"
    }
   ],
   "source": [
    "bools = nn.sigmoid(model.apply(trained_param, x_fail)) > 0.5\n",
    "jnp.arange(len(x_fail))[bools.flatten()]"
   ]
  },
  {
   "cell_type": "code",
   "execution_count": 45,
   "metadata": {},
   "outputs": [],
   "source": [
    "def feasibility(ee_pose, tp_elbow):\n",
    "    ee_posevec = ee_pose.parameters()\n",
    "    return model.apply(trained_param, jnp.hstack([ee_posevec, tp_elbow]))\n",
    "\n",
    "# problem\n",
    "qrand = np.random.uniform(panda_model.lb, panda_model.ub)\n",
    "pose_rand = SE3(panda_model.fk_fn(qrand)[-1])\n",
    "\n",
    "#vis\n",
    "frame.set_pose(pose_rand)\n",
    "panda.set_joint_angles(qrand)"
   ]
  },
  {
   "cell_type": "code",
   "execution_count": 46,
   "metadata": {},
   "outputs": [],
   "source": [
    "sphere_samples = fibonacci_sphere(1000)\n",
    "sphere_shoulder = sphere_samples * upper_arm_len + p_shoulder\n",
    "\n",
    "logits = jax.vmap(feasibility, in_axes=(None, 0))(pose_rand, sphere_shoulder)\n",
    "indices = np.arange(len(logits))[logits.flatten() > 1.]\n",
    "elbow_points = np.array(sphere_shoulder[indices], dtype=np.float64)\n",
    "nn.sigmoid(logits[indices].flatten())\n",
    "\n",
    "#vis\n",
    "colors = np.tile(Colors.read(\"blue\", return_rgb=True), len(elbow_points)).reshape(-1, 3)\n",
    "pc = PointCloud(world.vis, \"pc\", elbow_points, color=\"blue\")\n",
    "# world.vis[\"pc\"].set_object(\n",
    "#     g.PointsGeometry(elbow_points.T, colors.T),\n",
    "#     g.PointsMaterial(size=0.05)\n",
    "# )\n",
    "pc.load()"
   ]
  },
  {
   "cell_type": "code",
   "execution_count": 333,
   "metadata": {},
   "outputs": [
    {
     "data": {
      "text/plain": [
       "array([173, 178, 186, 195, 199, 207, 228, 241, 250, 262, 275, 283, 284,\n",
       "       296, 317, 330, 338, 339, 351, 364, 372, 385, 396, 406, 417, 419,\n",
       "       427, 430, 438, 440, 441, 443, 451, 453, 459, 461, 472, 474, 475,\n",
       "       480, 482, 493, 495, 498, 504, 506, 508, 509, 514, 516, 517, 522,\n",
       "       527, 529, 530, 532, 535, 537, 538, 543, 548, 550, 551, 553, 556,\n",
       "       558, 559, 561, 563, 564, 566, 571, 572, 579, 582, 584, 585, 587,\n",
       "       592, 593, 595, 597, 598, 600, 605, 606, 608, 613, 616, 618, 619,\n",
       "       621, 626, 627, 629, 634, 639, 640, 642, 647, 648, 650, 652, 655,\n",
       "       660, 661, 663, 668, 673, 674, 676, 681, 682, 689, 695, 697, 702,\n",
       "       707, 710, 716, 723, 731, 736, 737, 744, 752, 757, 765, 778, 786,\n",
       "       799, 807, 820, 833, 841, 854, 875, 896, 909, 970, 983, 988, 996])"
      ]
     },
     "execution_count": 333,
     "metadata": {},
     "output_type": "execute_result"
    }
   ],
   "source": [
    "indices"
   ]
  },
  {
   "cell_type": "code",
   "execution_count": 155,
   "metadata": {},
   "outputs": [],
   "source": [
    "world.vis[\"pc\"].delete()"
   ]
  },
  {
   "cell_type": "code",
   "execution_count": null,
   "metadata": {},
   "outputs": [],
   "source": []
  },
  {
   "cell_type": "code",
   "execution_count": 72,
   "metadata": {},
   "outputs": [],
   "source": [
    "save(\"elbow_feas_net_euclid.pth\", state, hp, force=True)"
   ]
  },
  {
   "cell_type": "code",
   "execution_count": 73,
   "metadata": {},
   "outputs": [],
   "source": [
    "feas_fn = get_mlp_by_path(\"elbow_feas_net_euclid.pth\")"
   ]
  },
  {
   "cell_type": "code",
   "execution_count": 61,
   "metadata": {},
   "outputs": [
    {
     "name": "stdout",
     "output_type": "stream",
     "text": [
      "You can open the visualizer by visiting the following URL:\n",
      "http://127.0.0.1:7004/static/\n"
     ]
    }
   ],
   "source": [
    "from sdf_world.sdf_world import *\n",
    "world = SDFWorld()"
   ]
  },
  {
   "cell_type": "code",
   "execution_count": 62,
   "metadata": {},
   "outputs": [
    {
     "data": {
      "text/html": [
       "\n",
       "            <div style=\"height: 400px; width: 100%; overflow-x: auto; overflow-y: hidden; resize: both\">\n",
       "            <iframe src=\"http://127.0.0.1:7004/static/\" style=\"width: 100%; height: 100%; border: none\"></iframe>\n",
       "            </div>\n",
       "            "
      ],
      "text/plain": [
       "<IPython.core.display.HTML object>"
      ]
     },
     "execution_count": 62,
     "metadata": {},
     "output_type": "execute_result"
    }
   ],
   "source": [
    "world.show_in_jupyter()"
   ]
  },
  {
   "cell_type": "code",
   "execution_count": 63,
   "metadata": {},
   "outputs": [],
   "source": [
    "#panda_model = RobotModel(PANDA_URDF, PANDA_PACKAGE)\n",
    "panda = Robot(world.vis, \"panda\", panda_model)"
   ]
  },
  {
   "cell_type": "code",
   "execution_count": 64,
   "metadata": {},
   "outputs": [],
   "source": [
    "frame = Frame(world.vis, \"frame\", 0.2)\n",
    "shoulder = Sphere(world.vis, \"shoulder\", 0.1, \"red\", 0.5)\n",
    "elbow = Sphere(world.vis, \"elbow\", 0.1, \"red\", 0.5)\n",
    "wrist = Sphere(world.vis, \"wrist\", 0.1, \"red\", 0.5)"
   ]
  },
  {
   "cell_type": "code",
   "execution_count": 65,
   "metadata": {},
   "outputs": [],
   "source": [
    "#predefine\n",
    "fks = panda_model.fk_fn(panda_model.neutral)\n",
    "ee_pose = SE3(fks[-1])\n",
    "# wrist_pos = panda_model.fk_fn(panda_model.neutral)[7][-3:]\n",
    "# wrist_wrt_ee = ee_pose.inverse().apply(wrist_pos)\n",
    "upper_arm_len = jnp.linalg.norm(fks[3][-3:] - fks[1][-3:])\n",
    "p_shoulder = fks[1][-3:]\n",
    "ws_lb = [-0.8, -0.8, -0.3]\n",
    "ws_ub = [0.8, 0.8, 1.3]"
   ]
  },
  {
   "cell_type": "code",
   "execution_count": 152,
   "metadata": {},
   "outputs": [],
   "source": []
  },
  {
   "cell_type": "code",
   "execution_count": 153,
   "metadata": {},
   "outputs": [],
   "source": [
    "sphere_points = fibonacci_sphere() * upper_arm_len + p_shoulder\n",
    "# elbow_params = np.random.uniform([0., -np.pi], [np.pi, np.pi], size=(100,2))\n",
    "elbow_points = jnp.array(sphere_points)\n",
    "def feasibility_logit_fn(ee_posevec, elbow_param):\n",
    "    return feas_fn(jnp.hstack([ee_posevec, elbow_param]))\n",
    "@jax.jit\n",
    "def ik(ee_pose):\n",
    "    rot6d = ee_pose.as_matrix()[:3,:2].T.flatten()\n",
    "    p_ee = ee_pose.translation()\n",
    "    ee_posevec = jnp.hstack([rot6d, p_ee])\n",
    "    logits = jax.vmap(feasibility_logit_fn, in_axes=(None, 0))(ee_posevec, elbow_points)\n",
    "    return logits"
   ]
  },
  {
   "cell_type": "code",
   "execution_count": 154,
   "metadata": {},
   "outputs": [],
   "source": [
    "cond = (ik(ee_pose) > 1.).flatten()\n",
    "indices = jnp.arange(len(cond))[cond]\n",
    "elbows = elbow_points[indices]"
   ]
  },
  {
   "cell_type": "code",
   "execution_count": 291,
   "metadata": {},
   "outputs": [],
   "source": [
    "def ee_error(q, ee_pose_des):\n",
    "    fks = panda_model.fk_fn(q)\n",
    "    ee_pose_curr = SE3(fks[-1])\n",
    "    ee_err_vec = (ee_pose_curr.inverse() @ ee_pose_des).log()\n",
    "    ee_err = safe_2norm(ee_err_vec)\n",
    "    return ee_err\n",
    "def elbow_err(q, p_elbow_des):\n",
    "    fks = panda_model.fk_fn(q)\n",
    "    p_elbow_curr = fks[4][-3:]\n",
    "    elbow_err = safe_2norm(p_elbow_curr - p_elbow_des)\n",
    "    return elbow_err\n",
    "err_grad_fn = jax.grad(ee_error)\n",
    "elbowerr_grad_fn = jax.grad(elbow_err)"
   ]
  },
  {
   "cell_type": "code",
   "execution_count": 310,
   "metadata": {},
   "outputs": [],
   "source": [
    "def get_jacobian(q):\n",
    "    fks = panda_model.fk_fn(q)\n",
    "    pos_jac = []\n",
    "    rot_jac = []\n",
    "    p_ee = fks[-1][-3:]\n",
    "    for i in range(1, 8):\n",
    "        p_frame = fks[i][-3:]\n",
    "        rot_axis = SE3(fks[i]).as_matrix()[:3, 2]\n",
    "        lin_vel = jnp.cross(rot_axis, p_ee - p_frame)\n",
    "        pos_jac.append(lin_vel)\n",
    "        rot_jac.append(rot_axis)\n",
    "        \n",
    "    pos_jac = jnp.vstack(pos_jac).T\n",
    "    rot_jac = jnp.vstack(rot_jac).T\n",
    "    return jnp.vstack([pos_jac, rot_jac])"
   ]
  },
  {
   "cell_type": "code",
   "execution_count": 156,
   "metadata": {},
   "outputs": [],
   "source": [
    "p_elbow = elbows[1]\n",
    "elbow.set_translate(p_elbow)"
   ]
  },
  {
   "cell_type": "code",
   "execution_count": 158,
   "metadata": {},
   "outputs": [],
   "source": [
    "q = panda_model.neutral\n",
    "panda.set_joint_angles(q)"
   ]
  },
  {
   "cell_type": "code",
   "execution_count": 401,
   "metadata": {},
   "outputs": [],
   "source": [
    "ee_grad = err_grad_fn(q, pose_rand)\n",
    "elbow_grad = elbowerr_grad_fn(q, p_elbow)\n",
    "\n",
    "jac = get_jacobian(q)\n",
    "ns_proj = jnp.eye(7) - jac.T@jac\n",
    "q_delta = ee_grad + jnp.hstack([ns_proj@elbow_grad[:-2],0,0])\n",
    "q = q - q_delta*0.2\n",
    "panda.set_joint_angles(q)"
   ]
  },
  {
   "cell_type": "code",
   "execution_count": 183,
   "metadata": {},
   "outputs": [
    {
     "data": {
      "text/plain": [
       "Array([ 0.07283606,  0.00364066,  0.0863461 , -0.08738822, -0.08824547,\n",
       "        0.10718858,  0.20078273,  0.        ,  0.        ], dtype=float32)"
      ]
     },
     "execution_count": 183,
     "metadata": {},
     "output_type": "execute_result"
    }
   ],
   "source": [
    "q_grad"
   ]
  },
  {
   "cell_type": "code",
   "execution_count": 65,
   "metadata": {},
   "outputs": [],
   "source": [
    "far_points = farthest_point_sampling(points, 5)"
   ]
  },
  {
   "cell_type": "code",
   "execution_count": 98,
   "metadata": {},
   "outputs": [],
   "source": []
  },
  {
   "cell_type": "code",
   "execution_count": 99,
   "metadata": {},
   "outputs": [],
   "source": [
    "p_elbow = far_points[0]"
   ]
  },
  {
   "cell_type": "code",
   "execution_count": 76,
   "metadata": {},
   "outputs": [],
   "source": [
    "panda = Robot(world.vis, \"panda\", panda_model)\n",
    "panda.reduce_dim([7,8], [0.04, 0.04])\n",
    "frame_elbow = Frame(world.vis, \"elbow_frame\", 0.2)\n",
    "elbow = Sphere(world.vis, \"elbow\", 0.1, \"red\", 0.5)"
   ]
  },
  {
   "cell_type": "code",
   "execution_count": 101,
   "metadata": {},
   "outputs": [],
   "source": [
    "frame_1 = Frame(world.vis, \"frame1\", 0.2)"
   ]
  },
  {
   "cell_type": "code",
   "execution_count": 81,
   "metadata": {},
   "outputs": [],
   "source": [
    "panda.set_joint_angles(panda_model.neutral[:7])"
   ]
  },
  {
   "cell_type": "code",
   "execution_count": 107,
   "metadata": {},
   "outputs": [],
   "source": [
    "fks = panda_model.fk_fn(panda_model.neutral)\n",
    "pose2 = SE3(fks[2])\n",
    "pose5 = SE3(fks[5])\n",
    "frame_1.set_pose(pose2)\n",
    "frame_elbow.set_pose(pose5)"
   ]
  },
  {
   "cell_type": "code",
   "execution_count": 120,
   "metadata": {},
   "outputs": [],
   "source": [
    "diff = (pose5.translation() - pose2.translation())\n",
    "y_pose2 = pose2.as_matrix()[:3,1]"
   ]
  },
  {
   "cell_type": "code",
   "execution_count": 144,
   "metadata": {},
   "outputs": [],
   "source": [
    "p_elbow = (diff @ y_pose2) * y_pose2 + pose2.translation()\n",
    "ee_pose = SE3(fks[-1])\n",
    "alpha_len = jnp.linalg.norm(p_elbow - fks[-6][-3:])\n",
    "beta_len = jnp.linalg.norm(ee_pose.translation() - fks[-6][-3:])"
   ]
  },
  {
   "cell_type": "code",
   "execution_count": 132,
   "metadata": {},
   "outputs": [],
   "source": [
    "frame.set_pose(ee_pose)"
   ]
  },
  {
   "cell_type": "code",
   "execution_count": 187,
   "metadata": {},
   "outputs": [],
   "source": [
    "# given p_elbow, ee_pose, can we solve ik?\n",
    "v = ee_pose.translation() - p_elbow\n",
    "c = jnp.linalg.norm(v)\n",
    "r = jnp.sqrt((beta_len**2 + c**2 - alpha_len**2)/(2*c**2))"
   ]
  },
  {
   "cell_type": "code",
   "execution_count": 190,
   "metadata": {},
   "outputs": [],
   "source": [
    "# z_ee = ee_pose.as_matrix()[:3, 2]\n",
    "# up_vec = jnp.cross(v, jnp.cross(v, z_ee))\n",
    "# up_vec = up_vec/jnp.linalg.norm(up_vec)\n",
    "# up_mag = jnp.sqrt(alpha_len**2 - (c*r)**2)\n",
    "p_wrist = p_elbow + r*v #+up_vec*up_mag"
   ]
  },
  {
   "cell_type": "code",
   "execution_count": 191,
   "metadata": {},
   "outputs": [],
   "source": [
    "wrist.set_translate(p_wrist)"
   ]
  },
  {
   "cell_type": "code",
   "execution_count": 158,
   "metadata": {},
   "outputs": [
    {
     "data": {
      "text/plain": [
       "Array([ 6.1263674e-01,  1.1562403e-08, -1.7700875e-01], dtype=float32)"
      ]
     },
     "execution_count": 158,
     "metadata": {},
     "output_type": "execute_result"
    }
   ],
   "source": [
    "v"
   ]
  },
  {
   "cell_type": "code",
   "execution_count": 139,
   "metadata": {},
   "outputs": [],
   "source": [
    "wrist.set_translate(fks[-6][-3:])"
   ]
  },
  {
   "cell_type": "code",
   "execution_count": 129,
   "metadata": {},
   "outputs": [],
   "source": [
    "elbow.set_translate(p_elbow)"
   ]
  },
  {
   "cell_type": "code",
   "execution_count": 112,
   "metadata": {},
   "outputs": [
    {
     "data": {
      "text/plain": [
       "Array([4.6650025e-01, 5.9267933e-09, 3.9849854e-01], dtype=float32)"
      ]
     },
     "execution_count": 112,
     "metadata": {},
     "output_type": "execute_result"
    }
   ],
   "source": [
    "diff"
   ]
  },
  {
   "cell_type": "code",
   "execution_count": 80,
   "metadata": {},
   "outputs": [],
   "source": [
    "panda.set_joint_angles(jnp.array([0,-0.5,0,0,0,0,0]))"
   ]
  },
  {
   "cell_type": "code",
   "execution_count": 70,
   "metadata": {},
   "outputs": [],
   "source": [
    "elbow.set_translate(far_points[4])"
   ]
  },
  {
   "cell_type": "code",
   "execution_count": null,
   "metadata": {},
   "outputs": [],
   "source": []
  },
  {
   "cell_type": "code",
   "execution_count": 42,
   "metadata": {},
   "outputs": [],
   "source": []
  }
 ],
 "metadata": {
  "kernelspec": {
   "display_name": "opt_env",
   "language": "python",
   "name": "python3"
  },
  "language_info": {
   "codemirror_mode": {
    "name": "ipython",
    "version": 3
   },
   "file_extension": ".py",
   "mimetype": "text/x-python",
   "name": "python",
   "nbconvert_exporter": "python",
   "pygments_lexer": "ipython3",
   "version": "3.8.15"
  },
  "orig_nbformat": 4
 },
 "nbformat": 4,
 "nbformat_minor": 2
}
