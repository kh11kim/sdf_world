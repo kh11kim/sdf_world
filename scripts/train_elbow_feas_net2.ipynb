{
 "cells": [
  {
   "cell_type": "code",
   "execution_count": 1,
   "metadata": {},
   "outputs": [],
   "source": [
    "import jax\n",
    "import jax.numpy as jnp\n",
    "from jaxlie import SE3, SO3\n",
    "\n",
    "from sdf_world.sdf_world import *\n",
    "from sdf_world.robots import *\n",
    "from sdf_world.util import *\n",
    "\n",
    "from network import *\n",
    "from loss import *"
   ]
  },
  {
   "cell_type": "code",
   "execution_count": 2,
   "metadata": {},
   "outputs": [
    {
     "name": "stdout",
     "output_type": "stream",
     "text": [
      "You can open the visualizer by visiting the following URL:\n",
      "http://127.0.0.1:7003/static/\n"
     ]
    },
    {
     "data": {
      "text/html": [
       "\n",
       "            <div style=\"height: 400px; width: 100%; overflow-x: auto; overflow-y: hidden; resize: both\">\n",
       "            <iframe src=\"http://127.0.0.1:7003/static/\" style=\"width: 100%; height: 100%; border: none\"></iframe>\n",
       "            </div>\n",
       "            "
      ],
      "text/plain": [
       "<IPython.core.display.HTML object>"
      ]
     },
     "execution_count": 2,
     "metadata": {},
     "output_type": "execute_result"
    }
   ],
   "source": [
    "world = SDFWorld()\n",
    "world.show_in_jupyter()"
   ]
  },
  {
   "cell_type": "code",
   "execution_count": 3,
   "metadata": {},
   "outputs": [
    {
     "name": "stderr",
     "output_type": "stream",
     "text": [
      "concatenating texture: may result in visual artifacts\n",
      "concatenating texture: may result in visual artifacts\n",
      "concatenating texture: may result in visual artifacts\n",
      "concatenating texture: may result in visual artifacts\n",
      "concatenating texture: may result in visual artifacts\n",
      "concatenating texture: may result in visual artifacts\n",
      "concatenating texture: may result in visual artifacts\n",
      "concatenating texture: may result in visual artifacts\n"
     ]
    }
   ],
   "source": [
    "panda_model = RobotModel(PANDA_URDF, PANDA_PACKAGE)\n",
    "panda = Robot(world.vis, \"panda\", panda_model, alpha=0.5)\n",
    "frame = Frame(world.vis, \"frame\", 0.1)\n",
    "elbow = Sphere(world.vis, \"elbow\", 0.1, \"red\", alpha=0.5)\n",
    "wrist = Sphere(world.vis, \"elbow\", 0.07, \"red\", alpha=0.5)"
   ]
  },
  {
   "cell_type": "code",
   "execution_count": 4,
   "metadata": {},
   "outputs": [
    {
     "name": "stdout",
     "output_type": "stream",
     "text": [
      "0.3927623\n"
     ]
    }
   ],
   "source": [
    "fks = panda_model.fk_fn(panda_model.neutral)\n",
    "p_shoulder = fks[1][-3:]\n",
    "p_elbow = fks[4][-3:]\n",
    "p_wrist = fks[5][-3:]\n",
    "p_ee = fks[-1][-3:]\n",
    "upper_arm_len = jnp.linalg.norm(p_elbow-p_shoulder)\n",
    "hand_len = jnp.linalg.norm(p_wrist - p_ee)\n",
    "lower_arm_len = jnp.linalg.norm(p_elbow-p_wrist)\n",
    "sphere_points = fibonacci_sphere(1000)\n",
    "#sphere_points_rtp = jax.vmap(to_spherical_coord)(sphere_points)\n",
    "shoulder_sphere_points = sphere_points * upper_arm_len + p_shoulder\n",
    "ee_sphere_points = sphere_points * hand_len\n",
    "ws_lb, ws_ub = [-1, -1, -0.5], [1, 1, 1.5]\n",
    "print(lower_arm_len)"
   ]
  },
  {
   "cell_type": "code",
   "execution_count": 403,
   "metadata": {},
   "outputs": [],
   "source": [
    "pc = PointCloud(world.vis, \"pc\", np.array(shoulder_sphere_points).astype(np.float64), color=\"blue\")"
   ]
  },
  {
   "cell_type": "code",
   "execution_count": 5,
   "metadata": {},
   "outputs": [],
   "source": [
    "from scipy.spatial.transform import Rotation\n",
    "def get_random_samples(num_samples):\n",
    "    xyz = np.random.uniform(ws_lb, ws_ub, (num_samples, 3))\n",
    "    qtns_xyzw = Rotation.random(num_samples).as_quat()\n",
    "    qtns = qtns_xyzw[:,[3,0,1,2]]\n",
    "    indices = np.random.randint(0, 1000, size=num_samples)\n",
    "    p_elbow = shoulder_sphere_points[indices]\n",
    "    indices = np.random.randint(0, 1000, size=num_samples)\n",
    "    p_wrist = ee_sphere_points[indices] + xyz\n",
    "    #tp = sphere_points_rtp[indices, 1:]\n",
    "    return jnp.hstack([qtns, xyz, p_elbow, p_wrist]) #p_wrist\n",
    "\n",
    "def generate_successful_sample(q):\n",
    "    gripper_joints = jnp.full((2), 0.04)\n",
    "    qnew = jnp.hstack([q, gripper_joints])\n",
    "    fks = panda_model.fk_fn(qnew)\n",
    "    ee_pose = fks[-1]\n",
    "    p_elbow = fks[4][-3:]\n",
    "    p_wrist = fks[5][-3:]\n",
    "    #rtp = to_spherical_coord(p_elbow - p_shoulder)\n",
    "    return jnp.hstack([ee_pose, p_elbow, p_wrist]) #p_wrist\n",
    "\n",
    "def generate_random_joints(num_samples):\n",
    "    return jnp.array(np.random.uniform(\n",
    "        panda_model.lb[:7], panda_model.ub[:7], size=(num_samples,7)))\n",
    "\n",
    "@jax.jit\n",
    "def get_batch_samples(qs):\n",
    "    x_succ = jax.vmap(generate_successful_sample)(qs) #true data\n",
    "    #tp_noise = np.random.normal(size=(qs.shape[0],2)) * jnp.pi/10\n",
    "    p_noise = np.random.normal(size=(qs.shape[0],6)) * 0.05\n",
    "    #x_fail1 = get_random_samples(qs.shape[0])\n",
    "    x_fail2 = x_succ.at[:,7:].set(x_succ[:,7:] + p_noise)\n",
    "    \n",
    "    indices = np.random.randint(0, 1000, size=qs.shape[0])\n",
    "    p_shoulder_fail = shoulder_sphere_points[indices]\n",
    "    indices = np.random.randint(0, 1000, size=qs.shape[0])\n",
    "    p_wrist_fail = ee_sphere_points[indices] + x_succ[:,4:7]\n",
    "    \n",
    "    x_fail3 = x_succ.at[:,7:10].set(p_shoulder_fail)\n",
    "    x_fail3 = x_fail3.at[:,10:13].set(p_wrist_fail)\n",
    "    # x_fail3 = x_succ.at[:,10:13].set(x_succ[:,10:13] + p_noise)\n",
    "    # x_fail3 = x_succ.at[:,4:7].set(x_succ[:,4:7] + p_noise)\n",
    "    x_fail = jnp.vstack([x_fail2, x_fail3]) #x_fail3\n",
    "    return x_succ, x_fail"
   ]
  },
  {
   "cell_type": "code",
   "execution_count": 56,
   "metadata": {},
   "outputs": [],
   "source": [
    "qs = generate_random_joints(100)\n",
    "x_succ, x_fail = get_batch_samples(qs)"
   ]
  },
  {
   "cell_type": "code",
   "execution_count": 6,
   "metadata": {},
   "outputs": [],
   "source": [
    "from jax import random\n",
    "hp = Hyperparam()\n",
    "hp.dims = [13, 64, 64, 64, 64, 1]\n",
    "hp.lr = 0.001\n",
    "hp.batch_size = 128\n",
    "\n",
    "model = get_mlp(hp)\n",
    "key1, key2 = random.split(random.PRNGKey(0))\n",
    "x = random.normal(key1, (hp.dims[0],))\n",
    "params = model.init(key2, x)\n",
    "tx = optax.adam(learning_rate=hp.lr)\n",
    "state = TrainState.create(apply_fn=model.apply, params=params, tx=tx)"
   ]
  },
  {
   "cell_type": "code",
   "execution_count": 7,
   "metadata": {},
   "outputs": [],
   "source": [
    "def loss(state, params, x_succ, x_fail):\n",
    "    logits_succ = state.apply_fn(params, x_succ).flatten()\n",
    "    loss_succ = optax.sigmoid_binary_cross_entropy(\n",
    "        logits_succ, jnp.ones_like(logits_succ)).mean()\n",
    "    logits_fail = state.apply_fn(params, x_fail).flatten()\n",
    "    loss_fail = optax.sigmoid_binary_cross_entropy(\n",
    "        logits_fail, jnp.zeros_like(logits_fail)).mean()\n",
    "    return loss_succ + loss_fail, (loss_succ, loss_fail)\n",
    "grad_fn = jax.value_and_grad(loss, argnums=1, has_aux=True)\n",
    "\n",
    "@jax.jit\n",
    "def training_step(state, x_succ, x_fail):\n",
    "    (loss, (loss_succ, loss_fail)), grads = grad_fn(state, state.params, x_succ, x_fail)\n",
    "    state = state.apply_gradients(grads=grads)\n",
    "    return state, loss, loss_succ, loss_fail"
   ]
  },
  {
   "cell_type": "code",
   "execution_count": 10,
   "metadata": {},
   "outputs": [
    {
     "name": "stdout",
     "output_type": "stream",
     "text": [
      "epoch:0, loss:0.09222819656133652\n",
      "loss_succ0.026334576308727264, loss_fail:0.06589362025260925\n",
      "epoch:100, loss:0.10091309994459152\n",
      "loss_succ0.030481835827231407, loss_fail:0.07043126225471497\n",
      "epoch:200, loss:0.08229967951774597\n",
      "loss_succ0.024466127157211304, loss_fail:0.057833556085824966\n",
      "epoch:300, loss:0.06659894436597824\n",
      "loss_succ0.025636853650212288, loss_fail:0.0409620925784111\n",
      "epoch:400, loss:0.060917988419532776\n",
      "loss_succ0.021194806322455406, loss_fail:0.03972318395972252\n",
      "epoch:500, loss:0.08779995143413544\n",
      "loss_succ0.0228993222117424, loss_fail:0.06490062922239304\n",
      "epoch:600, loss:0.08732685446739197\n",
      "loss_succ0.018536318093538284, loss_fail:0.06879053264856339\n",
      "epoch:700, loss:0.08431386202573776\n",
      "loss_succ0.025149019435048103, loss_fail:0.05916484072804451\n",
      "epoch:800, loss:0.10588708519935608\n",
      "loss_succ0.015997812151908875, loss_fail:0.0898892730474472\n",
      "epoch:900, loss:0.09114277362823486\n",
      "loss_succ0.0227863360196352, loss_fail:0.06835643947124481\n",
      "epoch:1000, loss:0.08893390744924545\n",
      "loss_succ0.025326671078801155, loss_fail:0.06360723823308945\n",
      "epoch:1100, loss:0.07495446503162384\n",
      "loss_succ0.016712652519345284, loss_fail:0.05824181064963341\n",
      "epoch:1200, loss:0.09269464761018753\n",
      "loss_succ0.024970173835754395, loss_fail:0.06772447377443314\n",
      "epoch:1300, loss:0.08929111808538437\n",
      "loss_succ0.013331488706171513, loss_fail:0.07595963031053543\n",
      "epoch:1400, loss:0.0771474838256836\n",
      "loss_succ0.029669838026165962, loss_fail:0.04747764766216278\n",
      "epoch:1500, loss:0.06931354105472565\n",
      "loss_succ0.019112855195999146, loss_fail:0.0502006858587265\n",
      "epoch:1600, loss:0.10423865169286728\n",
      "loss_succ0.01681675761938095, loss_fail:0.08742189407348633\n",
      "epoch:1700, loss:0.08424993604421616\n",
      "loss_succ0.020726090297102928, loss_fail:0.06352384388446808\n",
      "epoch:1800, loss:0.08641460537910461\n",
      "loss_succ0.02548416331410408, loss_fail:0.060930442065000534\n",
      "epoch:1900, loss:0.09593628346920013\n",
      "loss_succ0.0133375134319067, loss_fail:0.08259876817464828\n",
      "epoch:2000, loss:0.08368795365095139\n",
      "loss_succ0.01092363242059946, loss_fail:0.0727643221616745\n",
      "epoch:2100, loss:0.08375653624534607\n",
      "loss_succ0.030759938061237335, loss_fail:0.052996598184108734\n",
      "epoch:2200, loss:0.1667523831129074\n",
      "loss_succ0.055568110197782516, loss_fail:0.11118427664041519\n",
      "epoch:2300, loss:0.11527960002422333\n",
      "loss_succ0.03084968402981758, loss_fail:0.08442991971969604\n",
      "epoch:2400, loss:0.0772780030965805\n",
      "loss_succ0.02464916929602623, loss_fail:0.052628833800554276\n",
      "epoch:2500, loss:0.06119321286678314\n",
      "loss_succ0.03223917633295059, loss_fail:0.0289540383964777\n",
      "epoch:2600, loss:0.07961811125278473\n",
      "loss_succ0.020495040342211723, loss_fail:0.059123069047927856\n",
      "epoch:2700, loss:0.10454577207565308\n",
      "loss_succ0.0298432856798172, loss_fail:0.07470248639583588\n",
      "epoch:2800, loss:0.08695752918720245\n",
      "loss_succ0.012980324216187, loss_fail:0.07397720217704773\n",
      "epoch:2900, loss:0.09927244484424591\n",
      "loss_succ0.019115742295980453, loss_fail:0.08015670627355576\n",
      "epoch:3000, loss:0.10625778138637543\n",
      "loss_succ0.024380628019571304, loss_fail:0.08187715709209442\n",
      "epoch:3100, loss:0.06663775444030762\n",
      "loss_succ0.027472393587231636, loss_fail:0.03916535899043083\n",
      "epoch:3200, loss:0.07095149159431458\n",
      "loss_succ0.010442353785037994, loss_fail:0.06050913408398628\n",
      "epoch:3300, loss:0.08970452845096588\n",
      "loss_succ0.013004686683416367, loss_fail:0.07669984549283981\n",
      "epoch:3400, loss:0.09842430055141449\n",
      "loss_succ0.022432727739214897, loss_fail:0.07599157094955444\n",
      "epoch:3500, loss:0.08466178923845291\n",
      "loss_succ0.01982915960252285, loss_fail:0.06483262777328491\n",
      "epoch:3600, loss:0.08910411596298218\n",
      "loss_succ0.02341574989259243, loss_fail:0.0656883642077446\n",
      "epoch:3700, loss:0.08991548418998718\n",
      "loss_succ0.021622665226459503, loss_fail:0.06829281896352768\n",
      "epoch:3800, loss:0.06777241826057434\n",
      "loss_succ0.02507854253053665, loss_fail:0.04269387200474739\n",
      "epoch:3900, loss:0.14694932103157043\n",
      "loss_succ0.022621089592576027, loss_fail:0.12432823330163956\n",
      "epoch:4000, loss:0.5312772989273071\n",
      "loss_succ0.00017305246728938073, loss_fail:0.5311042666435242\n",
      "epoch:4100, loss:0.1391543447971344\n",
      "loss_succ0.045155320316553116, loss_fail:0.09399902820587158\n",
      "epoch:4200, loss:0.12652480602264404\n",
      "loss_succ0.03918321058154106, loss_fail:0.08734159916639328\n",
      "epoch:4300, loss:0.08771000802516937\n",
      "loss_succ0.03699842840433121, loss_fail:0.050711583346128464\n",
      "epoch:4400, loss:0.08397262543439865\n",
      "loss_succ0.017930597066879272, loss_fail:0.06604202836751938\n",
      "epoch:4500, loss:0.09508167207241058\n",
      "loss_succ0.02066907472908497, loss_fail:0.07441259920597076\n",
      "epoch:4600, loss:0.04769282788038254\n",
      "loss_succ0.017007872462272644, loss_fail:0.030684957280755043\n",
      "epoch:4700, loss:0.12855321168899536\n",
      "loss_succ0.02340202033519745, loss_fail:0.10515119135379791\n",
      "epoch:4800, loss:0.07066043466329575\n",
      "loss_succ0.02767151966691017, loss_fail:0.042988914996385574\n",
      "epoch:4900, loss:0.083356112241745\n",
      "loss_succ0.03328946232795715, loss_fail:0.05006664991378784\n",
      "epoch:5000, loss:0.06567239761352539\n",
      "loss_succ0.014468510635197163, loss_fail:0.051203884184360504\n",
      "epoch:5100, loss:0.04997868090867996\n",
      "loss_succ0.022994251921772957, loss_fail:0.026984428986907005\n",
      "epoch:5200, loss:0.07521703839302063\n",
      "loss_succ0.022020194679498672, loss_fail:0.05319683998823166\n",
      "epoch:5300, loss:0.06191690266132355\n",
      "loss_succ0.01571294106543064, loss_fail:0.04620395973324776\n",
      "epoch:5400, loss:0.0723179280757904\n",
      "loss_succ0.02928074821829796, loss_fail:0.04303717613220215\n",
      "epoch:5500, loss:0.09431630373001099\n",
      "loss_succ0.03042089194059372, loss_fail:0.06389541178941727\n",
      "epoch:5600, loss:0.10781703889369965\n",
      "loss_succ0.02823389135301113, loss_fail:0.07958314567804337\n",
      "epoch:5700, loss:0.0834539383649826\n",
      "loss_succ0.012070868164300919, loss_fail:0.07138306647539139\n",
      "epoch:5800, loss:0.10546529293060303\n",
      "loss_succ0.020603042095899582, loss_fail:0.08486224710941315\n",
      "epoch:5900, loss:0.09722179174423218\n",
      "loss_succ0.009601992554962635, loss_fail:0.08761979639530182\n",
      "epoch:6000, loss:0.0584254153072834\n",
      "loss_succ0.017778482288122177, loss_fail:0.040646933019161224\n",
      "epoch:6100, loss:0.05196688696742058\n",
      "loss_succ0.013040165416896343, loss_fail:0.03892672061920166\n",
      "epoch:6200, loss:0.09436172246932983\n",
      "loss_succ0.05376005172729492, loss_fail:0.04060167074203491\n",
      "epoch:6300, loss:0.08383584022521973\n",
      "loss_succ0.024037782102823257, loss_fail:0.05979806184768677\n",
      "epoch:6400, loss:0.093524269759655\n",
      "loss_succ0.012798325158655643, loss_fail:0.08072594553232193\n",
      "epoch:6500, loss:0.07014740258455276\n",
      "loss_succ0.008552152663469315, loss_fail:0.06159524992108345\n",
      "epoch:6600, loss:0.07424647361040115\n",
      "loss_succ0.015487098135054111, loss_fail:0.05875937268137932\n",
      "epoch:6700, loss:0.08123588562011719\n",
      "loss_succ0.019669389352202415, loss_fail:0.06156649813055992\n",
      "epoch:6800, loss:0.08962856978178024\n",
      "loss_succ0.01918846368789673, loss_fail:0.07044010609388351\n",
      "epoch:6900, loss:0.06775228679180145\n",
      "loss_succ0.022947529330849648, loss_fail:0.044804759323596954\n",
      "epoch:7000, loss:0.08282285928726196\n",
      "loss_succ0.023852361366152763, loss_fail:0.05897049978375435\n",
      "epoch:7100, loss:0.06118853762745857\n",
      "loss_succ0.02142750471830368, loss_fail:0.03976103290915489\n",
      "epoch:7200, loss:0.11608344316482544\n",
      "loss_succ0.017798621207475662, loss_fail:0.09828482568264008\n",
      "epoch:7300, loss:0.17273657023906708\n",
      "loss_succ0.10679866373538971, loss_fail:0.06593790650367737\n",
      "epoch:7400, loss:0.15999415516853333\n",
      "loss_succ0.03218979388475418, loss_fail:0.12780435383319855\n",
      "epoch:7500, loss:0.11219341307878494\n",
      "loss_succ0.028023941442370415, loss_fail:0.08416946977376938\n",
      "epoch:7600, loss:0.09147229045629501\n",
      "loss_succ0.022107740864157677, loss_fail:0.06936454772949219\n",
      "epoch:7700, loss:0.09765316545963287\n",
      "loss_succ0.029530413448810577, loss_fail:0.0681227520108223\n",
      "epoch:7800, loss:0.08720464259386063\n",
      "loss_succ0.021659761667251587, loss_fail:0.06554488092660904\n",
      "epoch:7900, loss:0.08185291290283203\n",
      "loss_succ0.017470302060246468, loss_fail:0.06438261270523071\n",
      "epoch:8000, loss:0.07320641726255417\n",
      "loss_succ0.026345064863562584, loss_fail:0.046861350536346436\n",
      "epoch:8100, loss:0.12525980174541473\n",
      "loss_succ0.011217257007956505, loss_fail:0.11404255032539368\n",
      "epoch:8200, loss:0.04800332337617874\n",
      "loss_succ0.01492434460669756, loss_fail:0.03307897970080376\n",
      "epoch:8300, loss:0.08552663028240204\n",
      "loss_succ0.016527803614735603, loss_fail:0.06899882853031158\n",
      "epoch:8400, loss:0.07173674553632736\n",
      "loss_succ0.01635112427175045, loss_fail:0.05538562312722206\n",
      "epoch:8500, loss:0.07756194472312927\n",
      "loss_succ0.02243480645120144, loss_fail:0.05512714013457298\n",
      "epoch:8600, loss:0.05902860686182976\n",
      "loss_succ0.01302145142108202, loss_fail:0.04600715637207031\n",
      "epoch:8700, loss:0.07250285893678665\n",
      "loss_succ0.021297555416822433, loss_fail:0.05120530351996422\n",
      "epoch:8800, loss:0.07787373661994934\n",
      "loss_succ0.02612685225903988, loss_fail:0.05174688622355461\n",
      "epoch:8900, loss:0.10281558334827423\n",
      "loss_succ0.02430224046111107, loss_fail:0.07851334661245346\n",
      "epoch:9000, loss:0.050220686942338943\n",
      "loss_succ0.01365955825895071, loss_fail:0.03656112775206566\n",
      "epoch:9100, loss:0.059449583292007446\n",
      "loss_succ0.019635653123259544, loss_fail:0.03981392830610275\n",
      "epoch:9200, loss:0.08727523684501648\n",
      "loss_succ0.014858368784189224, loss_fail:0.07241687178611755\n",
      "epoch:9300, loss:0.07207345217466354\n",
      "loss_succ0.01752558723092079, loss_fail:0.05454786494374275\n",
      "epoch:9400, loss:0.09267833828926086\n",
      "loss_succ0.02712438255548477, loss_fail:0.06555395573377609\n",
      "epoch:9500, loss:0.06828558444976807\n",
      "loss_succ0.011348593048751354, loss_fail:0.05693699046969414\n",
      "epoch:9600, loss:0.07074795663356781\n",
      "loss_succ0.020680954679846764, loss_fail:0.050067003816366196\n",
      "epoch:9700, loss:0.08428096771240234\n",
      "loss_succ0.022615598514676094, loss_fail:0.0616653710603714\n",
      "epoch:9800, loss:0.08278699219226837\n",
      "loss_succ0.02641156129539013, loss_fail:0.05637543275952339\n",
      "epoch:9900, loss:0.08176973462104797\n",
      "loss_succ0.030398935079574585, loss_fail:0.05137079581618309\n"
     ]
    }
   ],
   "source": [
    "for epoch in range(10000):\n",
    "    qs = qs = generate_random_joints(500)\n",
    "    x_succ, x_fail = get_batch_samples(qs)\n",
    "    state, loss, loss_succ, loss_fail = training_step(state, x_succ, x_fail)\n",
    "    if epoch % 100 == 0:\n",
    "        print(f\"epoch:{epoch}, loss:{loss}\")\n",
    "        print(f\"loss_succ{loss_succ}, loss_fail:{loss_fail}\")"
   ]
  },
  {
   "cell_type": "code",
   "execution_count": 11,
   "metadata": {},
   "outputs": [],
   "source": [
    "trained_param = state.params"
   ]
  },
  {
   "cell_type": "code",
   "execution_count": 12,
   "metadata": {},
   "outputs": [],
   "source": [
    "qs = np.random.uniform(panda_model.lb[:7], panda_model.ub[:7], size=(128,7))\n",
    "x_succ, x_fail = get_batch_samples(qs)"
   ]
  },
  {
   "cell_type": "code",
   "execution_count": 13,
   "metadata": {},
   "outputs": [
    {
     "data": {
      "text/plain": [
       "Array([  1,   8,   9,  33,  53, 120, 123], dtype=int32)"
      ]
     },
     "execution_count": 13,
     "metadata": {},
     "output_type": "execute_result"
    }
   ],
   "source": [
    "bools = nn.sigmoid(model.apply(trained_param, x_fail)) > 0.5\n",
    "jnp.arange(len(x_fail))[bools.flatten()]"
   ]
  },
  {
   "cell_type": "code",
   "execution_count": 102,
   "metadata": {},
   "outputs": [],
   "source": [
    "# def feasibility(ee_pose, p_elbow, p_wrist):\n",
    "#     ee_posevec = ee_pose.parameters()\n",
    "#     return model.apply(trained_param, jnp.hstack([ee_posevec, p_elbow, p_wrist]))\n",
    "\n",
    "# problem\n",
    "qrand = np.random.uniform(panda_model.lb, panda_model.ub)\n",
    "fks = panda_model.fk_fn(qrand)\n",
    "pose_rand = SE3(fks[-1])\n",
    "p_wrist = fks[5][-3:]\n",
    "\n",
    "#vis\n",
    "frame.set_pose(pose_rand)\n",
    "panda.set_joint_angles(qrand)"
   ]
  },
  {
   "cell_type": "code",
   "execution_count": 56,
   "metadata": {},
   "outputs": [],
   "source": [
    "\n",
    "# sphere_samples = fibonacci_sphere(1000)\n",
    "# sphere_shoulder = sphere_samples * upper_arm_len + p_shoulder\n",
    "\n",
    "logits = jax.vmap(feasibility, in_axes=(None, 0, None))(\n",
    "    pose_rand, shoulder_sphere_points, p_wrist)\n",
    "indices = np.arange(len(logits))[logits.flatten() > 0.]\n",
    "elbow_points = np.array(shoulder_sphere_points[indices], dtype=np.float64)\n",
    "elbow.set_translate(p_wrist)\n",
    "\n",
    "# cond\n",
    "#lower_arm_err = jnp.abs(jnp.linalg.norm(elbow_points - p_wrist, axis=-1) - lower_arm_len)\n",
    "#elbow_points = elbow_points[lower_arm_err < 0.005]\n",
    "nn.sigmoid(logits[indices].flatten())\n",
    "\n",
    "#vis\n",
    "colors = np.tile(Colors.read(\"blue\", return_rgb=True), len(elbow_points)).reshape(-1, 3)\n",
    "pc = PointCloud(world.vis, \"pc\", elbow_points, color=\"blue\")"
   ]
  },
  {
   "cell_type": "code",
   "execution_count": 54,
   "metadata": {},
   "outputs": [],
   "source": [
    "del pc"
   ]
  },
  {
   "cell_type": "code",
   "execution_count": 57,
   "metadata": {},
   "outputs": [],
   "source": [
    "from sdf_world.nlp import *"
   ]
  },
  {
   "cell_type": "code",
   "execution_count": 113,
   "metadata": {},
   "outputs": [],
   "source": [
    "prob = NLP()\n",
    "lb = jnp.hstack([panda_model.lb[:7], ws_lb, ws_lb])\n",
    "ub = jnp.hstack([panda_model.ub[:7], ws_ub, ws_ub])\n",
    "prob.add_var(\"x\", 13, lb, ub)"
   ]
  },
  {
   "cell_type": "code",
   "execution_count": 114,
   "metadata": {},
   "outputs": [],
   "source": [
    "def error_radius(x):\n",
    "    p_ee = x[4:7]\n",
    "    p_elbow = x[7:10]\n",
    "    p_wrist = x[10:13]\n",
    "    err_upper = safe_2norm(p_shoulder - p_elbow) - upper_arm_len\n",
    "    err_lower = safe_2norm(p_wrist - p_ee) - hand_len\n",
    "    err_mid = safe_2norm(p_elbow - p_wrist) - lower_arm_len\n",
    "    return jnp.abs(err_upper) + jnp.abs(err_lower) + jnp.abs(err_mid)\n",
    "\n",
    "# def error_wrist_radius(x):\n",
    "#     p_ee = x[4:7]\n",
    "#     p_wrist = x[10:13]\n",
    "#     err_wrist = safe_2norm(p_wrist - p_ee) - lower_arm_len\n",
    "#     return jnp.abs(err_wrist)\n",
    "# def error_mid_radius(x):\n",
    "\n",
    "def feasibility(x):\n",
    "    ee_pose = SE3(x[:7]).normalize()\n",
    "    x = jnp.hstack([ee_pose.parameters(), x[7:]])\n",
    "    logit = model.apply(trained_param, x)\n",
    "    return - logit\n",
    "def error_ee(x):\n",
    "    ee_pose_curr = SE3(x[:7]).normalize()\n",
    "    return safe_2norm((pose_rand.inverse()@ee_pose_curr).log())\n",
    "\n",
    "prob.add_con(\"elbow_radius\", 1, [\"x\"], error_radius, upper=0.01)\n",
    "#prob.add_con(\"wrist_radius\", 1, [\"x\"], error_wrist_radius, upper=0.01)\n",
    "prob.add_con(\"fk_feas\", 1, [\"x\"], feasibility, lower=0.)\n",
    "prob.add_objective(error_ee)"
   ]
  },
  {
   "cell_type": "code",
   "execution_count": 115,
   "metadata": {},
   "outputs": [],
   "source": [
    "prob.build()"
   ]
  },
  {
   "cell_type": "code",
   "execution_count": 119,
   "metadata": {},
   "outputs": [],
   "source": [
    "x0 = np.random.uniform(lb, ub)"
   ]
  },
  {
   "cell_type": "code",
   "execution_count": 120,
   "metadata": {},
   "outputs": [
    {
     "name": "stdout",
     "output_type": "stream",
     "text": [
      "This is Ipopt version 3.14.10, running with linear solver MUMPS 5.2.1.\n",
      "\n",
      "Number of nonzeros in equality constraint Jacobian...:        0\n",
      "Number of nonzeros in inequality constraint Jacobian.:       26\n",
      "Number of nonzeros in Lagrangian Hessian.............:        0\n",
      "\n",
      "Total number of variables............................:       13\n",
      "                     variables with only lower bounds:        0\n",
      "                variables with lower and upper bounds:       13\n",
      "                     variables with only upper bounds:        0\n",
      "Total number of equality constraints.................:        0\n",
      "Total number of inequality constraints...............:        2\n",
      "        inequality constraints with only lower bounds:        1\n",
      "   inequality constraints with lower and upper bounds:        0\n",
      "        inequality constraints with only upper bounds:        1\n",
      "\n",
      "iter    objective    inf_pr   inf_du lg(mu)  ||d||  lg(rg) alpha_du alpha_pr  ls\n",
      "   0  2.4088335e+00 4.52e+00 9.96e-01   0.0 0.00e+00    -  0.00e+00 0.00e+00   0\n",
      "   1  2.1488068e+00 2.96e+00 2.15e+00   0.1 1.84e+01    -  4.30e-01 5.11e-01f  1\n",
      "   2  2.1520100e+00 3.02e+00 4.40e+00   0.1 2.35e+01    -  9.97e-01 6.63e-01h  1\n",
      "   3  1.8762915e+00 6.74e-01 5.75e+00   0.0 9.07e+01    -  4.94e-01 1.00e+00f  1\n",
      "   4  1.7983971e+00 5.75e-01 3.37e+00  -0.6 1.77e+01    -  9.93e-01 5.00e-01h  2\n",
      "   5  1.5841833e+00 9.16e-01 1.24e+00  -1.7 1.43e+01    -  1.00e+00 1.00e+00h  1\n",
      "   6  1.3173715e+00 4.03e-01 2.10e+00  -0.8 1.02e+01    -  8.16e-01 1.00e+00h  1\n",
      "   7  9.0794575e-01 2.37e-01 1.81e+00  -1.8 2.26e+01    -  9.50e-01 8.51e-01h  1\n",
      "   8  4.4918168e-01 7.14e-01 9.15e-01  -3.8 2.24e+00    -  5.19e-01 6.70e-01f  1\n",
      "   9  4.1744593e-01 3.94e-01 7.78e-01  -1.7 8.38e+00    -  2.26e-01 2.50e-01f  3\n",
      "iter    objective    inf_pr   inf_du lg(mu)  ||d||  lg(rg) alpha_du alpha_pr  ls\n",
      "  10  6.9406426e-01 5.46e-01 9.24e-01  -1.1 2.12e+01    -  1.00e+00 1.00e+00h  1\n",
      "  11  2.3735857e-01 8.15e-01 8.04e-01  -1.6 5.88e+00    -  9.96e-01 1.00e+00h  1\n",
      "  12  1.8738443e-01 2.04e-01 1.00e+00  -1.9 1.24e+01    -  1.00e+00 1.00e+00h  1\n",
      "  13  3.9958388e-01 5.99e-02 1.25e+00  -0.9 5.56e+00    -  1.00e+00 5.31e-01H  1\n",
      "  14  1.2950248e-01 1.99e-01 6.59e-01  -1.9 3.81e-01    -  1.00e+00 1.00e+00h  1\n",
      "  15  2.3955739e-01 2.68e-01 7.20e-01  -1.1 1.40e+01    -  1.00e+00 2.19e-01f  3\n",
      "  16  1.1531349e-01 3.55e-01 1.26e+00  -1.2 4.33e+00    -  1.00e+00 1.00e+00h  1\n",
      "  17  2.5231558e-01 1.89e-01 1.23e+00  -2.1 4.38e+00    -  9.97e-01 1.00e+00h  1\n",
      "  18  4.8152972e-02 1.67e-01 6.93e-01  -2.4 1.59e+00    -  9.99e-01 1.00e+00h  1\n",
      "  19  3.5180438e-01 6.20e-02 1.53e+00  -2.8 6.32e-01    -  7.09e-01 4.41e-01H  1\n",
      "iter    objective    inf_pr   inf_du lg(mu)  ||d||  lg(rg) alpha_du alpha_pr  ls\n",
      "  20  1.6723514e-01 9.09e-02 7.51e-01  -3.7 1.05e+00    -  1.00e+00 1.00e+00h  1\n",
      "  21  1.5213233e-01 2.15e-01 1.07e+00  -1.7 1.94e+01    -  4.71e-02 5.62e-02f  4\n",
      "  22  8.4870435e-02 1.18e-01 9.76e-01  -3.1 3.61e+00    -  1.00e+00 4.43e-01h  1\n",
      "  23  2.2876164e-02 1.21e-01 5.64e-01  -3.1 2.75e+00    -  2.57e-01 2.99e-02h  5\n",
      "  24  8.7906994e-02 6.31e-02 7.47e-01  -2.6 4.62e-01    -  1.00e+00 1.00e+00h  1\n",
      "  25  5.2444611e-02 4.31e-01 7.05e-01  -2.7 2.10e-01    -  1.00e+00 1.00e+00h  1\n",
      "  26  2.5249885e-02 2.81e-01 8.93e-01  -2.7 2.48e-01    -  1.00e+00 5.03e-01h  1\n",
      "  27  4.9270928e-02 1.49e-01 7.32e-01  -2.7 1.55e+00    -  1.00e+00 4.95e-01h  1\n",
      "  28  3.5057154e-02 3.73e-02 7.92e-01  -2.7 2.70e-01    -  8.67e-01 1.00e+00h  1\n",
      "  29  3.6839508e-02 1.52e-01 7.80e-01  -2.5 4.92e+00    -  1.00e+00 5.00e-01h  2\n",
      "iter    objective    inf_pr   inf_du lg(mu)  ||d||  lg(rg) alpha_du alpha_pr  ls\n",
      "  30  1.6920023e-02 1.68e-01 9.05e-01  -2.5 3.94e-01    -  1.00e+00 1.00e+00h  1\n",
      "  31  3.0165026e-02 3.33e-02 5.18e-01  -2.7 8.98e-01    -  1.00e+00 1.00e+00h  1\n",
      "  32  1.8926406e-02 1.66e-02 8.19e-01  -4.1 9.31e-01    -  1.00e+00 1.00e+00h  1\n",
      "  33  5.9356168e-02 1.51e-01 4.26e-01  -2.0 3.61e+00    -  9.94e-01 1.00e+00f  1\n",
      "  34  1.8255858e-02 9.14e-02 4.93e-01  -2.1 2.03e+00    -  1.00e+00 7.89e-01h  1\n",
      "  35  4.3245424e-02 9.70e-02 1.08e+00  -1.8 8.65e+00    -  1.00e+00 7.19e-02f  3\n",
      "  36  6.6537126e-03 1.19e-01 7.64e-01  -1.9 1.65e-01    -  1.00e+00 1.00e+00h  1\n",
      "  37  1.6079741e-02 7.80e-02 9.57e-01  -2.9 1.78e+00    -  1.00e+00 5.00e-01h  2\n",
      "  38  2.0591101e-02 1.79e-02 5.23e-01  -4.2 8.40e-01    -  1.00e+00 1.00e+00h  1\n",
      "  39  9.7993920e-03 1.39e-02 8.31e-01  -3.9 1.49e-01    -  7.49e-01 1.00e+00h  1\n",
      "iter    objective    inf_pr   inf_du lg(mu)  ||d||  lg(rg) alpha_du alpha_pr  ls\n",
      "  40  1.5506463e-02 1.16e-02 7.45e-01  -5.0 6.65e-02    -  1.00e+00 1.00e+00h  1\n",
      "  41  3.3691258e-03 8.22e-03 8.93e-01  -6.6 2.99e-01    -  1.00e+00 1.00e+00h  1\n",
      "  42  1.6394990e-02 0.00e+00 6.93e-01  -5.9 1.05e-01    -  9.56e-01 1.00e+00h  1\n",
      "  43  5.0034039e-03 3.01e-04 7.45e-01  -6.0 7.17e-02    -  1.00e+00 1.00e+00h  1\n",
      "  44  3.2330230e-03 3.64e-04 6.78e-01  -6.0 3.26e-01    -  1.00e+00 6.25e-02h  5\n",
      "  45  6.2307995e-04 0.00e+00 5.06e-01  -4.0 1.64e-02    -  8.05e-01 1.00e+00h  1\n",
      "  46  1.6615068e-03 1.05e-04 6.36e-01  -5.3 2.44e-02    -  1.00e+00 1.00e+00h  1\n",
      "  47  1.1917652e-03 1.94e-04 7.23e-01  -7.2 1.63e-02    -  1.00e+00 1.00e+00h  1\n",
      "  48  6.4686959e-04 0.00e+00 8.25e-01  -5.3 5.10e-03    -  1.00e+00 9.98e-01h  1\n",
      "  49  1.2336011e-03 0.00e+00 8.54e-01  -4.8 7.27e-03    -  1.00e+00 1.00e+00h  1\n",
      "iter    objective    inf_pr   inf_du lg(mu)  ||d||  lg(rg) alpha_du alpha_pr  ls\n",
      "  50  2.9563680e-04 0.00e+00 7.04e-01  -4.9 2.78e-03    -  1.00e+00 1.00e+00h  1\n",
      "  51  2.1638646e-04 0.00e+00 5.80e-01  -4.6 6.67e-03    -  1.00e+00 2.50e-01h  3\n",
      "  52  3.9876738e-04 0.00e+00 5.21e-01  -6.5 9.61e-04    -  1.00e+00 1.00e+00h  1\n",
      "  53  7.5586417e-05 0.00e+00 6.70e-01  -6.6 2.26e-04    -  1.00e+00 1.00e+00h  1\n",
      "  54  4.6961282e-05 0.00e+00 4.24e-01  -5.8 4.98e-02    -  1.00e+00 7.81e-03f  8\n",
      "  55  9.1615075e-05 0.00e+00 6.58e-01  -7.7 1.09e-03    -  1.00e+00 1.00e+00h  1\n",
      "  56  9.8117438e-05 0.00e+00 8.31e-01  -7.8 1.60e-03    -  1.00e+00 1.00e+00h  1\n",
      "  57  2.5446941e-05 0.00e+00 7.30e-01  -7.8 9.04e-04    -  1.00e+00 1.00e+00h  1\n",
      "  58  5.4446606e-05 0.00e+00 5.81e-01  -9.7 1.38e-04    -  1.00e+00 1.00e+00h  1\n",
      "  59  2.4564320e-05 0.00e+00 6.27e-01  -9.7 4.37e-04    -  1.00e+00 1.00e+00h  1\n",
      "iter    objective    inf_pr   inf_du lg(mu)  ||d||  lg(rg) alpha_du alpha_pr  ls\n",
      "  60  3.0105897e-05 0.00e+00 8.10e-01  -9.7 3.03e-04    -  1.00e+00 1.00e+00H  1\n",
      "  61  9.4718380e-06 0.00e+00 8.79e-01  -9.7 6.58e-05    -  1.00e+00 1.00e+00f  1\n",
      "  62  1.9640524e-05 0.00e+00 7.19e-01 -10.9 3.18e-04    -  1.00e+00 1.00e+00h  1\n",
      "  63  7.0729543e-06 0.00e+00 6.62e-01 -11.0 1.43e-04    -  1.00e+00 1.00e+00h  1\n",
      "  64  1.5502217e-05 0.00e+00 8.85e-01 -11.0 2.33e-04    -  1.00e+00 1.00e+00h  1\n",
      "  65  3.6337692e-06 0.00e+00 6.11e-01 -11.0 1.52e-04    -  1.00e+00 1.00e+00h  1\n",
      "  66  3.2694657e-05 0.00e+00 8.83e-01 -11.0 3.88e-04    -  1.00e+00 1.00e+00H  1\n",
      "  67  1.2245127e-05 0.00e+00 8.65e-01 -11.0 2.33e-04    -  1.00e+00 1.00e+00F  1\n",
      "  68  6.3495354e-06 0.00e+00 5.03e-01 -11.0 4.60e-02    -  1.00e+00 1.96e-03f  7\n",
      "  69  2.9162853e-04 0.00e+00 6.75e-01 -11.0 4.60e-03    -  1.00e+00 1.00e+00H  1\n",
      "iter    objective    inf_pr   inf_du lg(mu)  ||d||  lg(rg) alpha_du alpha_pr  ls\n",
      "  70  1.0492343e-04 0.00e+00 6.71e-01 -11.0 2.92e-03    -  5.17e-01 1.00e+00F  1\n",
      "  71  1.0492343e-04 0.00e+00 6.71e-01 -11.0 4.68e+03    -  9.42e-05 6.21e-11f 28\n",
      "  72  1.0492343e-04 0.00e+00 6.71e-01 -11.0 2.02e+03    -  2.49e-06 2.32e-11f 30\n",
      "  73  1.0492343e-04 0.00e+00 6.71e-01 -11.0 2.02e+03    -  1.75e-02 5.79e-12f 32\n",
      "  74  1.0085067e-04 0.00e+00 6.70e-01 -11.0 2.02e+03    -  2.43e-06 2.37e-08f 20\n",
      "  75  9.9900222e-05 0.00e+00 6.70e-01 -11.0 1.18e+01    -  1.00e+00 9.54e-07f 21\n",
      "  76  9.9613004e-05 0.00e+00 6.69e-01 -11.0 3.46e+01    -  1.39e-04 9.84e-08f 24\n",
      "  77  9.8378579e-05 0.00e+00 6.69e-01 -11.0 1.93e+00    -  2.85e-01 7.63e-06f 18\n",
      "  78  9.8378579e-05 0.00e+00 6.69e-01 -11.0 6.98e+00    -  7.06e-04 3.73e-09h 29\n",
      "elapsed: 0.3687650000000531\n",
      "  79r 9.8378579e-05 0.00e+00 9.99e+02  -8.0 0.00e+00    -  0.00e+00 6.94e-18R 58\n",
      "iter    objective    inf_pr   inf_du lg(mu)  ||d||  lg(rg) alpha_du alpha_pr  ls\n",
      "  80r 9.8378579e-05 0.00e+00 1.97e-06  -9.0 1.53e-04    -  1.00e+00 9.90e-04f  1\n",
      "\n",
      "Number of Iterations....: 80\n",
      "\n",
      "                                   (scaled)                 (unscaled)\n",
      "Objective...............:   2.0817467884626240e-04    2.0817467884626240e-04\n",
      "Dual infeasibility......:   6.8577050526993322e-01    6.8577050526993322e-01\n",
      "Constraint violation....:   0.0000000000000000e+00    0.0000000000000000e+00\n",
      "Variable bound violation:   0.0000000000000000e+00    0.0000000000000000e+00\n",
      "Complementarity.........:   1.0000057713306194e-09    1.0000057713306194e-09\n",
      "Overall NLP error.......:   6.8577050526993322e-01    6.8577050526993322e-01\n",
      "\n",
      "\n",
      "Number of objective function evaluations             = 414\n",
      "Number of objective gradient evaluations             = 81\n",
      "Number of equality constraint evaluations            = 0\n",
      "Number of inequality constraint evaluations          = 414\n",
      "Number of equality constraint Jacobian evaluations   = 0\n",
      "Number of inequality constraint Jacobian evaluations = 83\n",
      "Number of Lagrangian Hessian evaluations             = 0\n",
      "Total seconds in IPOPT                               = 0.362\n",
      "\n",
      "EXIT: Converged to a point of local infeasibility. Problem may be infeasible.\n"
     ]
    }
   ],
   "source": [
    "xsol, info = prob.solve(x0, viol_tol=0.001)"
   ]
  },
  {
   "cell_type": "code",
   "execution_count": 144,
   "metadata": {},
   "outputs": [
    {
     "data": {
      "text/plain": [
       "(Array(0.00592175, dtype=float32),\n",
       " Array(-0.00012724, dtype=float32),\n",
       " Array(0.00338504, dtype=float32))"
      ]
     },
     "execution_count": 144,
     "metadata": {},
     "output_type": "execute_result"
    }
   ],
   "source": [
    "x = xsol\n",
    "p_ee = x[4:7]\n",
    "p_elbow = x[7:10]\n",
    "p_wrist = x[10:13]\n",
    "err_upper = safe_2norm(p_shoulder - p_elbow) - upper_arm_len\n",
    "err_lower = safe_2norm(p_wrist - p_ee) - hand_len\n",
    "err_mid = safe_2norm(p_elbow - p_wrist) - lower_arm_len\n",
    "err_upper, err_lower, err_mid"
   ]
  },
  {
   "cell_type": "code",
   "execution_count": 143,
   "metadata": {},
   "outputs": [
    {
     "data": {
      "text/plain": [
       "Array(-0.00012724, dtype=float32)"
      ]
     },
     "execution_count": 143,
     "metadata": {},
     "output_type": "execute_result"
    }
   ],
   "source": [
    "safe_2norm(p_wrist - p_ee)-hand_len"
   ]
  },
  {
   "cell_type": "code",
   "execution_count": 142,
   "metadata": {},
   "outputs": [
    {
     "data": {
      "text/plain": [
       "Array(0.2295386, dtype=float32)"
      ]
     },
     "execution_count": 142,
     "metadata": {},
     "output_type": "execute_result"
    }
   ],
   "source": [
    "hand_len"
   ]
  },
  {
   "cell_type": "code",
   "execution_count": 134,
   "metadata": {},
   "outputs": [
    {
     "data": {
      "text/plain": [
       "Array(0.22941135, dtype=float32)"
      ]
     },
     "execution_count": 134,
     "metadata": {},
     "output_type": "execute_result"
    }
   ],
   "source": [
    "jnp.linalg.norm(ee_pose.translation() - p_wrist)"
   ]
  },
  {
   "cell_type": "code",
   "execution_count": 128,
   "metadata": {},
   "outputs": [
    {
     "data": {
      "text/plain": [
       "Array(0.91949075, dtype=float32)"
      ]
     },
     "execution_count": 128,
     "metadata": {},
     "output_type": "execute_result"
    }
   ],
   "source": [
    "safe_2norm(p_wrist - p_ee) - hand_len"
   ]
  },
  {
   "cell_type": "code",
   "execution_count": 123,
   "metadata": {},
   "outputs": [
    {
     "data": {
      "text/plain": [
       "Array([16.513062], dtype=float32)"
      ]
     },
     "execution_count": 123,
     "metadata": {},
     "output_type": "execute_result"
    }
   ],
   "source": [
    "feasibility(xsol)"
   ]
  },
  {
   "cell_type": "code",
   "execution_count": 135,
   "metadata": {},
   "outputs": [
    {
     "data": {
      "text/plain": [
       "Array(0.00943403, dtype=float32)"
      ]
     },
     "execution_count": 135,
     "metadata": {},
     "output_type": "execute_result"
    }
   ],
   "source": [
    "error_radius(xsol)"
   ]
  },
  {
   "cell_type": "code",
   "execution_count": 130,
   "metadata": {},
   "outputs": [],
   "source": [
    "ee_pose = SE3(xsol[:7]).normalize()\n",
    "p_elbow = xsol[7:10]\n",
    "p_wrist = xsol[10:]\n",
    "frame.set_pose(ee_pose)\n",
    "elbow.set_translate(p_elbow)\n",
    "wrist.set_translate(p_wrist)"
   ]
  },
  {
   "cell_type": "code",
   "execution_count": 86,
   "metadata": {},
   "outputs": [],
   "source": [
    "elbow.set_translate([0,0,0])"
   ]
  },
  {
   "cell_type": "code",
   "execution_count": 99,
   "metadata": {},
   "outputs": [
    {
     "data": {
      "text/plain": [
       "Array(0.00091258, dtype=float32)"
      ]
     },
     "execution_count": 99,
     "metadata": {},
     "output_type": "execute_result"
    }
   ],
   "source": [
    "error_elbow_radius(xsol)"
   ]
  },
  {
   "cell_type": "code",
   "execution_count": 100,
   "metadata": {},
   "outputs": [
    {
     "data": {
      "text/plain": [
       "Array(0.00994909, dtype=float32)"
      ]
     },
     "execution_count": 100,
     "metadata": {},
     "output_type": "execute_result"
    }
   ],
   "source": [
    "error_wrist_radius(xsol)"
   ]
  },
  {
   "cell_type": "code",
   "execution_count": 98,
   "metadata": {},
   "outputs": [
    {
     "data": {
      "text/plain": [
       "Array([27.751844], dtype=float32)"
      ]
     },
     "execution_count": 98,
     "metadata": {},
     "output_type": "execute_result"
    }
   ],
   "source": [
    "feasibility(xsol)"
   ]
  },
  {
   "cell_type": "code",
   "execution_count": 91,
   "metadata": {},
   "outputs": [],
   "source": [
    "elbow = Sphere(world.vis, \"elbow\", 0.07, \"blue\", 0.5)"
   ]
  },
  {
   "cell_type": "code",
   "execution_count": 79,
   "metadata": {},
   "outputs": [],
   "source": [
    "wrist = Sphere(world.vis, \"wrist\", 0.07, \"red\", 0.5)"
   ]
  },
  {
   "cell_type": "code",
   "execution_count": 165,
   "metadata": {},
   "outputs": [
    {
     "data": {
      "text/plain": [
       "Array([False, False, False, False, False, False, False, False, False,\n",
       "       False,  True, False, False], dtype=bool)"
      ]
     },
     "execution_count": 165,
     "metadata": {},
     "output_type": "execute_result"
    }
   ],
   "source": [
    "lower_arm_err<0.001"
   ]
  },
  {
   "cell_type": "code",
   "execution_count": 163,
   "metadata": {},
   "outputs": [
    {
     "data": {
      "text/plain": [
       "Array(8.234382e-05, dtype=float32)"
      ]
     },
     "execution_count": 163,
     "metadata": {},
     "output_type": "execute_result"
    }
   ],
   "source": [
    "lower_arm_err.min()"
   ]
  },
  {
   "cell_type": "code",
   "execution_count": 155,
   "metadata": {},
   "outputs": [
    {
     "data": {
      "text/plain": [
       "Array(0.00815082, dtype=float32)"
      ]
     },
     "execution_count": 155,
     "metadata": {},
     "output_type": "execute_result"
    }
   ],
   "source": [
    "lower_arm_lens.max()"
   ]
  },
  {
   "cell_type": "code",
   "execution_count": 155,
   "metadata": {},
   "outputs": [],
   "source": [
    "world.vis[\"pc\"].delete()"
   ]
  },
  {
   "cell_type": "code",
   "execution_count": null,
   "metadata": {},
   "outputs": [],
   "source": []
  },
  {
   "cell_type": "code",
   "execution_count": 72,
   "metadata": {},
   "outputs": [],
   "source": [
    "save(\"elbow_feas_net_euclid.pth\", state, hp, force=True)"
   ]
  },
  {
   "cell_type": "code",
   "execution_count": 73,
   "metadata": {},
   "outputs": [],
   "source": [
    "feas_fn = get_mlp_by_path(\"elbow_feas_net_euclid.pth\")"
   ]
  },
  {
   "cell_type": "code",
   "execution_count": 61,
   "metadata": {},
   "outputs": [
    {
     "name": "stdout",
     "output_type": "stream",
     "text": [
      "You can open the visualizer by visiting the following URL:\n",
      "http://127.0.0.1:7004/static/\n"
     ]
    }
   ],
   "source": [
    "from sdf_world.sdf_world import *\n",
    "world = SDFWorld()"
   ]
  },
  {
   "cell_type": "code",
   "execution_count": 62,
   "metadata": {},
   "outputs": [
    {
     "data": {
      "text/html": [
       "\n",
       "            <div style=\"height: 400px; width: 100%; overflow-x: auto; overflow-y: hidden; resize: both\">\n",
       "            <iframe src=\"http://127.0.0.1:7004/static/\" style=\"width: 100%; height: 100%; border: none\"></iframe>\n",
       "            </div>\n",
       "            "
      ],
      "text/plain": [
       "<IPython.core.display.HTML object>"
      ]
     },
     "execution_count": 62,
     "metadata": {},
     "output_type": "execute_result"
    }
   ],
   "source": [
    "world.show_in_jupyter()"
   ]
  },
  {
   "cell_type": "code",
   "execution_count": 63,
   "metadata": {},
   "outputs": [],
   "source": [
    "#panda_model = RobotModel(PANDA_URDF, PANDA_PACKAGE)\n",
    "panda = Robot(world.vis, \"panda\", panda_model)"
   ]
  },
  {
   "cell_type": "code",
   "execution_count": 64,
   "metadata": {},
   "outputs": [],
   "source": [
    "frame = Frame(world.vis, \"frame\", 0.2)\n",
    "shoulder = Sphere(world.vis, \"shoulder\", 0.1, \"red\", 0.5)\n",
    "elbow = Sphere(world.vis, \"elbow\", 0.1, \"red\", 0.5)\n",
    "wrist = Sphere(world.vis, \"wrist\", 0.1, \"red\", 0.5)"
   ]
  },
  {
   "cell_type": "code",
   "execution_count": 65,
   "metadata": {},
   "outputs": [],
   "source": [
    "#predefine\n",
    "fks = panda_model.fk_fn(panda_model.neutral)\n",
    "ee_pose = SE3(fks[-1])\n",
    "# wrist_pos = panda_model.fk_fn(panda_model.neutral)[7][-3:]\n",
    "# wrist_wrt_ee = ee_pose.inverse().apply(wrist_pos)\n",
    "upper_arm_len = jnp.linalg.norm(fks[3][-3:] - fks[1][-3:])\n",
    "p_shoulder = fks[1][-3:]\n",
    "ws_lb = [-0.8, -0.8, -0.3]\n",
    "ws_ub = [0.8, 0.8, 1.3]"
   ]
  },
  {
   "cell_type": "code",
   "execution_count": 152,
   "metadata": {},
   "outputs": [],
   "source": []
  },
  {
   "cell_type": "code",
   "execution_count": 153,
   "metadata": {},
   "outputs": [],
   "source": [
    "sphere_points = fibonacci_sphere() * upper_arm_len + p_shoulder\n",
    "# elbow_params = np.random.uniform([0., -np.pi], [np.pi, np.pi], size=(100,2))\n",
    "elbow_points = jnp.array(sphere_points)\n",
    "def feasibility_logit_fn(ee_posevec, elbow_param):\n",
    "    return feas_fn(jnp.hstack([ee_posevec, elbow_param]))\n",
    "@jax.jit\n",
    "def ik(ee_pose):\n",
    "    rot6d = ee_pose.as_matrix()[:3,:2].T.flatten()\n",
    "    p_ee = ee_pose.translation()\n",
    "    ee_posevec = jnp.hstack([rot6d, p_ee])\n",
    "    logits = jax.vmap(feasibility_logit_fn, in_axes=(None, 0))(ee_posevec, elbow_points)\n",
    "    return logits"
   ]
  },
  {
   "cell_type": "code",
   "execution_count": 154,
   "metadata": {},
   "outputs": [],
   "source": [
    "cond = (ik(ee_pose) > 1.).flatten()\n",
    "indices = jnp.arange(len(cond))[cond]\n",
    "elbows = elbow_points[indices]"
   ]
  },
  {
   "cell_type": "code",
   "execution_count": 291,
   "metadata": {},
   "outputs": [],
   "source": [
    "def ee_error(q, ee_pose_des):\n",
    "    fks = panda_model.fk_fn(q)\n",
    "    ee_pose_curr = SE3(fks[-1])\n",
    "    ee_err_vec = (ee_pose_curr.inverse() @ ee_pose_des).log()\n",
    "    ee_err = safe_2norm(ee_err_vec)\n",
    "    return ee_err\n",
    "def elbow_err(q, p_elbow_des):\n",
    "    fks = panda_model.fk_fn(q)\n",
    "    p_elbow_curr = fks[4][-3:]\n",
    "    elbow_err = safe_2norm(p_elbow_curr - p_elbow_des)\n",
    "    return elbow_err\n",
    "err_grad_fn = jax.grad(ee_error)\n",
    "elbowerr_grad_fn = jax.grad(elbow_err)"
   ]
  },
  {
   "cell_type": "code",
   "execution_count": 310,
   "metadata": {},
   "outputs": [],
   "source": [
    "def get_jacobian(q):\n",
    "    fks = panda_model.fk_fn(q)\n",
    "    pos_jac = []\n",
    "    rot_jac = []\n",
    "    p_ee = fks[-1][-3:]\n",
    "    for i in range(1, 8):\n",
    "        p_frame = fks[i][-3:]\n",
    "        rot_axis = SE3(fks[i]).as_matrix()[:3, 2]\n",
    "        lin_vel = jnp.cross(rot_axis, p_ee - p_frame)\n",
    "        pos_jac.append(lin_vel)\n",
    "        rot_jac.append(rot_axis)\n",
    "        \n",
    "    pos_jac = jnp.vstack(pos_jac).T\n",
    "    rot_jac = jnp.vstack(rot_jac).T\n",
    "    return jnp.vstack([pos_jac, rot_jac])"
   ]
  },
  {
   "cell_type": "code",
   "execution_count": 156,
   "metadata": {},
   "outputs": [],
   "source": [
    "p_elbow = elbows[1]\n",
    "elbow.set_translate(p_elbow)"
   ]
  },
  {
   "cell_type": "code",
   "execution_count": 158,
   "metadata": {},
   "outputs": [],
   "source": [
    "q = panda_model.neutral\n",
    "panda.set_joint_angles(q)"
   ]
  },
  {
   "cell_type": "code",
   "execution_count": 401,
   "metadata": {},
   "outputs": [],
   "source": [
    "ee_grad = err_grad_fn(q, pose_rand)\n",
    "elbow_grad = elbowerr_grad_fn(q, p_elbow)\n",
    "\n",
    "jac = get_jacobian(q)\n",
    "ns_proj = jnp.eye(7) - jac.T@jac\n",
    "q_delta = ee_grad + jnp.hstack([ns_proj@elbow_grad[:-2],0,0])\n",
    "q = q - q_delta*0.2\n",
    "panda.set_joint_angles(q)"
   ]
  },
  {
   "cell_type": "code",
   "execution_count": 183,
   "metadata": {},
   "outputs": [
    {
     "data": {
      "text/plain": [
       "Array([ 0.07283606,  0.00364066,  0.0863461 , -0.08738822, -0.08824547,\n",
       "        0.10718858,  0.20078273,  0.        ,  0.        ], dtype=float32)"
      ]
     },
     "execution_count": 183,
     "metadata": {},
     "output_type": "execute_result"
    }
   ],
   "source": [
    "q_grad"
   ]
  },
  {
   "cell_type": "code",
   "execution_count": 65,
   "metadata": {},
   "outputs": [],
   "source": [
    "far_points = farthest_point_sampling(points, 5)"
   ]
  },
  {
   "cell_type": "code",
   "execution_count": 98,
   "metadata": {},
   "outputs": [],
   "source": []
  },
  {
   "cell_type": "code",
   "execution_count": 99,
   "metadata": {},
   "outputs": [],
   "source": [
    "p_elbow = far_points[0]"
   ]
  },
  {
   "cell_type": "code",
   "execution_count": 76,
   "metadata": {},
   "outputs": [],
   "source": [
    "panda = Robot(world.vis, \"panda\", panda_model)\n",
    "panda.reduce_dim([7,8], [0.04, 0.04])\n",
    "frame_elbow = Frame(world.vis, \"elbow_frame\", 0.2)\n",
    "elbow = Sphere(world.vis, \"elbow\", 0.1, \"red\", 0.5)"
   ]
  },
  {
   "cell_type": "code",
   "execution_count": 101,
   "metadata": {},
   "outputs": [],
   "source": [
    "frame_1 = Frame(world.vis, \"frame1\", 0.2)"
   ]
  },
  {
   "cell_type": "code",
   "execution_count": 81,
   "metadata": {},
   "outputs": [],
   "source": [
    "panda.set_joint_angles(panda_model.neutral[:7])"
   ]
  },
  {
   "cell_type": "code",
   "execution_count": 107,
   "metadata": {},
   "outputs": [],
   "source": [
    "fks = panda_model.fk_fn(panda_model.neutral)\n",
    "pose2 = SE3(fks[2])\n",
    "pose5 = SE3(fks[5])\n",
    "frame_1.set_pose(pose2)\n",
    "frame_elbow.set_pose(pose5)"
   ]
  },
  {
   "cell_type": "code",
   "execution_count": 120,
   "metadata": {},
   "outputs": [],
   "source": [
    "diff = (pose5.translation() - pose2.translation())\n",
    "y_pose2 = pose2.as_matrix()[:3,1]"
   ]
  },
  {
   "cell_type": "code",
   "execution_count": 144,
   "metadata": {},
   "outputs": [],
   "source": [
    "p_elbow = (diff @ y_pose2) * y_pose2 + pose2.translation()\n",
    "ee_pose = SE3(fks[-1])\n",
    "alpha_len = jnp.linalg.norm(p_elbow - fks[-6][-3:])\n",
    "beta_len = jnp.linalg.norm(ee_pose.translation() - fks[-6][-3:])"
   ]
  },
  {
   "cell_type": "code",
   "execution_count": 132,
   "metadata": {},
   "outputs": [],
   "source": [
    "frame.set_pose(ee_pose)"
   ]
  },
  {
   "cell_type": "code",
   "execution_count": 187,
   "metadata": {},
   "outputs": [],
   "source": [
    "# given p_elbow, ee_pose, can we solve ik?\n",
    "v = ee_pose.translation() - p_elbow\n",
    "c = jnp.linalg.norm(v)\n",
    "r = jnp.sqrt((beta_len**2 + c**2 - alpha_len**2)/(2*c**2))"
   ]
  },
  {
   "cell_type": "code",
   "execution_count": 190,
   "metadata": {},
   "outputs": [],
   "source": [
    "# z_ee = ee_pose.as_matrix()[:3, 2]\n",
    "# up_vec = jnp.cross(v, jnp.cross(v, z_ee))\n",
    "# up_vec = up_vec/jnp.linalg.norm(up_vec)\n",
    "# up_mag = jnp.sqrt(alpha_len**2 - (c*r)**2)\n",
    "p_wrist = p_elbow + r*v #+up_vec*up_mag"
   ]
  },
  {
   "cell_type": "code",
   "execution_count": 191,
   "metadata": {},
   "outputs": [],
   "source": [
    "wrist.set_translate(p_wrist)"
   ]
  },
  {
   "cell_type": "code",
   "execution_count": 158,
   "metadata": {},
   "outputs": [
    {
     "data": {
      "text/plain": [
       "Array([ 6.1263674e-01,  1.1562403e-08, -1.7700875e-01], dtype=float32)"
      ]
     },
     "execution_count": 158,
     "metadata": {},
     "output_type": "execute_result"
    }
   ],
   "source": [
    "v"
   ]
  },
  {
   "cell_type": "code",
   "execution_count": 139,
   "metadata": {},
   "outputs": [],
   "source": [
    "wrist.set_translate(fks[-6][-3:])"
   ]
  },
  {
   "cell_type": "code",
   "execution_count": 129,
   "metadata": {},
   "outputs": [],
   "source": [
    "elbow.set_translate(p_elbow)"
   ]
  },
  {
   "cell_type": "code",
   "execution_count": 112,
   "metadata": {},
   "outputs": [
    {
     "data": {
      "text/plain": [
       "Array([4.6650025e-01, 5.9267933e-09, 3.9849854e-01], dtype=float32)"
      ]
     },
     "execution_count": 112,
     "metadata": {},
     "output_type": "execute_result"
    }
   ],
   "source": [
    "diff"
   ]
  },
  {
   "cell_type": "code",
   "execution_count": 80,
   "metadata": {},
   "outputs": [],
   "source": [
    "panda.set_joint_angles(jnp.array([0,-0.5,0,0,0,0,0]))"
   ]
  },
  {
   "cell_type": "code",
   "execution_count": 70,
   "metadata": {},
   "outputs": [],
   "source": [
    "elbow.set_translate(far_points[4])"
   ]
  },
  {
   "cell_type": "code",
   "execution_count": null,
   "metadata": {},
   "outputs": [],
   "source": []
  },
  {
   "cell_type": "code",
   "execution_count": 42,
   "metadata": {},
   "outputs": [],
   "source": []
  }
 ],
 "metadata": {
  "kernelspec": {
   "display_name": "opt_env",
   "language": "python",
   "name": "python3"
  },
  "language_info": {
   "codemirror_mode": {
    "name": "ipython",
    "version": 3
   },
   "file_extension": ".py",
   "mimetype": "text/x-python",
   "name": "python",
   "nbconvert_exporter": "python",
   "pygments_lexer": "ipython3",
   "version": "3.8.15"
  },
  "orig_nbformat": 4
 },
 "nbformat": 4,
 "nbformat_minor": 2
}
