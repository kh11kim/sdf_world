{
 "cells": [
  {
   "cell_type": "code",
   "execution_count": 1,
   "metadata": {},
   "outputs": [],
   "source": [
    "import meshcat\n",
    "import meshcat.geometry as g\n",
    "import numpy as np\n",
    "import jax\n",
    "import jax.numpy as jnp\n",
    "from jaxlie import SE3, SO3\n",
    "\n",
    "from sdf_world.sdf_world import *\n",
    "# from sdf_world.robots import *"
   ]
  },
  {
   "cell_type": "code",
   "execution_count": 2,
   "metadata": {},
   "outputs": [
    {
     "name": "stdout",
     "output_type": "stream",
     "text": [
      "You can open the visualizer by visiting the following URL:\n",
      "http://127.0.0.1:7003/static/\n"
     ]
    },
    {
     "data": {
      "text/html": [
       "\n",
       "            <div style=\"height: 400px; width: 100%; overflow-x: auto; overflow-y: hidden; resize: both\">\n",
       "            <iframe src=\"http://127.0.0.1:7003/static/\" style=\"width: 100%; height: 100%; border: none\"></iframe>\n",
       "            </div>\n",
       "            "
      ],
      "text/plain": [
       "<IPython.core.display.HTML object>"
      ]
     },
     "execution_count": 2,
     "metadata": {},
     "output_type": "execute_result"
    }
   ],
   "source": [
    "world = SDFWorld()\n",
    "world.show_in_jupyter()"
   ]
  },
  {
   "cell_type": "code",
   "execution_count": 3,
   "metadata": {},
   "outputs": [],
   "source": [
    "box = Box(world.vis, \"box\", lengths=[0.5, 0.5, 0.5], color=\"green\", alpha=0.5)\n",
    "sphere = Sphere(world.vis, \"sphere\", r=0.2, color=\"blue\", alpha=0.5)\n",
    "sphere.set_translate([0.,0.6,0])"
   ]
  },
  {
   "cell_type": "code",
   "execution_count": 4,
   "metadata": {},
   "outputs": [],
   "source": [
    "box.set_translate([0.,-0.6,0])"
   ]
  },
  {
   "cell_type": "code",
   "execution_count": 5,
   "metadata": {},
   "outputs": [],
   "source": [
    "import trimesh\n",
    "def farthest_point_sampling(points, num_samples):\n",
    "    farthest_points = np.zeros((num_samples, 3))\n",
    "    farthest_points[0] = points[np.random.randint(len(points))]\n",
    "    distances = np.full(points.shape[0], np.inf)\n",
    "    for i in range(1, num_samples):\n",
    "        distances = np.minimum(distances, np.linalg.norm(points - farthest_points[i - 1], axis=1))\n",
    "        farthest_points[i] = points[np.argmax(distances)]\n",
    "    return farthest_points\n"
   ]
  },
  {
   "cell_type": "code",
   "execution_count": 6,
   "metadata": {},
   "outputs": [],
   "source": [
    "mesh_sphere = trimesh.primitives.Sphere(radius=0.2)"
   ]
  },
  {
   "cell_type": "code",
   "execution_count": 7,
   "metadata": {},
   "outputs": [],
   "source": [
    "world.vis[\"pointcloud\"].delete()"
   ]
  },
  {
   "cell_type": "code",
   "execution_count": 8,
   "metadata": {},
   "outputs": [],
   "source": [
    "data = mesh_sphere.sample(20*5)\n",
    "sampled_points = farthest_point_sampling(data, 20)\n",
    "\n",
    "points = np.asarray(sampled_points, dtype=np.float64).T\n",
    "colors = np.tile(Colors.read(\"red\",return_rgb=True), points.shape[1]).reshape(-1, 3).T\n",
    "world.vis[\"pointcloud\"].set_object(\n",
    "    g.PointCloud(position=points, color=colors, size=0.03)\n",
    ")"
   ]
  },
  {
   "cell_type": "code",
   "execution_count": 9,
   "metadata": {},
   "outputs": [],
   "source": [
    "xyz = np.array([0, -0.2, 0])\n",
    "T = np.block([[np.eye(3),   xyz[:,None]],\n",
    "                [np.zeros(3), 1.         ]])\n",
    "world.vis[\"pointcloud\"].set_transform(T)"
   ]
  },
  {
   "cell_type": "code",
   "execution_count": 10,
   "metadata": {},
   "outputs": [],
   "source": [
    "col_points = jax.vmap(SE3.from_matrix(T).apply)(sampled_points)"
   ]
  },
  {
   "cell_type": "code",
   "execution_count": 12,
   "metadata": {},
   "outputs": [
    {
     "data": {
      "text/plain": [
       "Array([0.        , 0.        , 0.        , 0.        , 0.        ,\n",
       "       0.        , 0.        , 0.        , 0.        , 0.        ,\n",
       "       0.        , 0.        , 0.00656613, 0.        , 0.027682  ,\n",
       "       0.0156482 , 0.        , 0.        , 0.        , 0.        ],      dtype=float32)"
      ]
     },
     "execution_count": 12,
     "metadata": {},
     "output_type": "execute_result"
    }
   ],
   "source": [
    "jax.vmap(box.penetration, in_axes=(0, None))(col_points, 0.001)"
   ]
  },
  {
   "cell_type": "code",
   "execution_count": 16,
   "metadata": {},
   "outputs": [],
   "source": [
    "from functools import partial\n",
    "distance = partial(box.distance, box_pose=box.pose, half_extents=np.array(box.lengths)/2)"
   ]
  },
  {
   "cell_type": "code",
   "execution_count": 18,
   "metadata": {},
   "outputs": [
    {
     "data": {
      "text/plain": [
       "Array([ 0.0420793 ,  0.22093514,  0.17782676,  0.3291595 , -0.00749285,\n",
       "        0.18056977, -0.01105167,  0.252411  ,  0.27217913,  0.0277524 ,\n",
       "        0.08217394,  0.29046512, -0.04222019,  0.09515226,  0.04370058,\n",
       "        0.31922156,  0.1214962 ,  0.1893425 ,  0.2168242 ,  0.08601147],      dtype=float32)"
      ]
     },
     "execution_count": 18,
     "metadata": {},
     "output_type": "execute_result"
    }
   ],
   "source": [
    "jax.vmap(distance)(col_points)"
   ]
  },
  {
   "cell_type": "code",
   "execution_count": null,
   "metadata": {},
   "outputs": [],
   "source": [
    "box.distance()"
   ]
  },
  {
   "cell_type": "code",
   "execution_count": null,
   "metadata": {},
   "outputs": [],
   "source": []
  },
  {
   "cell_type": "code",
   "execution_count": 78,
   "metadata": {},
   "outputs": [],
   "source": [
    "verts = np.random.rand(3, 1000)"
   ]
  },
  {
   "cell_type": "code",
   "execution_count": 14,
   "metadata": {},
   "outputs": [
    {
     "data": {
      "text/plain": [
       "16185078"
      ]
     },
     "execution_count": 14,
     "metadata": {},
     "output_type": "execute_result"
    }
   ],
   "source": [
    "Colors.read(\"white\")"
   ]
  }
 ],
 "metadata": {
  "kernelspec": {
   "display_name": "opt_env",
   "language": "python",
   "name": "python3"
  },
  "language_info": {
   "codemirror_mode": {
    "name": "ipython",
    "version": 3
   },
   "file_extension": ".py",
   "mimetype": "text/x-python",
   "name": "python",
   "nbconvert_exporter": "python",
   "pygments_lexer": "ipython3",
   "version": "3.8.15"
  },
  "orig_nbformat": 4
 },
 "nbformat": 4,
 "nbformat_minor": 2
}
