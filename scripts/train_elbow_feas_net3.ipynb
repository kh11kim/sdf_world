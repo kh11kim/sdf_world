{
 "cells": [
  {
   "cell_type": "code",
   "execution_count": 1,
   "metadata": {},
   "outputs": [],
   "source": [
    "import jax\n",
    "import jax.numpy as jnp\n",
    "from jaxlie import SE3, SO3\n",
    "\n",
    "from sdf_world.sdf_world import *\n",
    "from sdf_world.robots import *\n",
    "from sdf_world.util import *\n",
    "\n",
    "from network import *\n",
    "from loss import *"
   ]
  },
  {
   "cell_type": "code",
   "execution_count": 2,
   "metadata": {},
   "outputs": [
    {
     "name": "stdout",
     "output_type": "stream",
     "text": [
      "You can open the visualizer by visiting the following URL:\n",
      "http://127.0.0.1:7003/static/\n"
     ]
    },
    {
     "data": {
      "text/html": [
       "\n",
       "            <div style=\"height: 400px; width: 100%; overflow-x: auto; overflow-y: hidden; resize: both\">\n",
       "            <iframe src=\"http://127.0.0.1:7003/static/\" style=\"width: 100%; height: 100%; border: none\"></iframe>\n",
       "            </div>\n",
       "            "
      ],
      "text/plain": [
       "<IPython.core.display.HTML object>"
      ]
     },
     "execution_count": 2,
     "metadata": {},
     "output_type": "execute_result"
    }
   ],
   "source": [
    "world = SDFWorld()\n",
    "world.show_in_jupyter()"
   ]
  },
  {
   "cell_type": "code",
   "execution_count": 3,
   "metadata": {},
   "outputs": [
    {
     "name": "stderr",
     "output_type": "stream",
     "text": [
      "concatenating texture: may result in visual artifacts\n",
      "concatenating texture: may result in visual artifacts\n",
      "concatenating texture: may result in visual artifacts\n",
      "concatenating texture: may result in visual artifacts\n",
      "concatenating texture: may result in visual artifacts\n",
      "concatenating texture: may result in visual artifacts\n",
      "concatenating texture: may result in visual artifacts\n",
      "concatenating texture: may result in visual artifacts\n"
     ]
    }
   ],
   "source": [
    "panda_model = RobotModel(PANDA_URDF, PANDA_PACKAGE)\n",
    "panda = Robot(world.vis, \"panda\", panda_model, alpha=0.5)\n",
    "frame = Frame(world.vis, \"frame\", 0.1)"
   ]
  },
  {
   "cell_type": "code",
   "execution_count": 27,
   "metadata": {},
   "outputs": [],
   "source": [
    "shoulder = Sphere(world.vis, \"shoulder\", 0.07, \"blue\", alpha=0.5)\n",
    "elbow = Sphere(world.vis, \"elbow\", 0.07, \"red\", alpha=0.5)\n",
    "wrist = Sphere(world.vis, \"wrist\", 0.07, \"green\", alpha=0.5)\n",
    "point = Sphere(world.vis, \"point\", 0.04, \"yellow\", 0.6)"
   ]
  },
  {
   "cell_type": "code",
   "execution_count": 366,
   "metadata": {},
   "outputs": [],
   "source": [
    "def show_fk(q):\n",
    "    fks = panda_model.fk_fn(q)\n",
    "    p_shoulder = fks[1][-3:]\n",
    "    p_elbow = fks[4][-3:]\n",
    "    p_wrist = fks[5][-3:]\n",
    "    ee_pose = SE3(fks[-1])\n",
    "    shoulder.set_translate(p_shoulder)\n",
    "    elbow.set_translate(p_elbow)\n",
    "    wrist.set_translate(p_wrist)\n",
    "    frame.set_pose(ee_pose)\n",
    "    if q.shape[0] == 7:\n",
    "        q = jnp.hstack([q, 0.04, 0.04])\n",
    "    panda.set_joint_angles(q)"
   ]
  },
  {
   "cell_type": "code",
   "execution_count": 367,
   "metadata": {},
   "outputs": [],
   "source": [
    "show_fk(panda_model.neutral)"
   ]
  },
  {
   "cell_type": "code",
   "execution_count": 120,
   "metadata": {},
   "outputs": [],
   "source": [
    "fks = panda_model.fk_fn(panda_model.neutral)\n",
    "p_shoulder = fks[1][-3:]\n",
    "p_elbow = fks[4][-3:]\n",
    "p_wrist = fks[5][-3:]\n",
    "p_ee = fks[-1][-3:]\n",
    "upper_arm_len = jnp.linalg.norm(p_elbow-p_shoulder)\n",
    "hand_len = jnp.linalg.norm(p_wrist - p_ee)\n",
    "lower_arm_len = jnp.linalg.norm(p_elbow-p_wrist)\n",
    "sphere_points = fibonacci_sphere(1000)\n",
    "#sphere_points_rtp = jax.vmap(to_spherical_coord)(sphere_points)\n",
    "shoulder_sphere_points = sphere_points * upper_arm_len + p_shoulder\n",
    "ee_sphere_points = sphere_points * hand_len\n",
    "ws_lb, ws_ub = [-1, -1, -0.5], [1, 1, 1.5]\n"
   ]
  },
  {
   "cell_type": "code",
   "execution_count": 44,
   "metadata": {},
   "outputs": [],
   "source": [
    "ee_pose = SE3(x[:7])\n",
    "ee_z = ee_pose.as_matrix()[:3, 2]\n",
    "p_elbow = x[7:10]\n",
    "p_wrist = x[10:13]"
   ]
  },
  {
   "cell_type": "code",
   "execution_count": 264,
   "metadata": {},
   "outputs": [],
   "source": [
    "def rotate_point_by_yaw(pose, point, yaw):\n",
    "    point_wrt_pose = pose.inverse() @ point\n",
    "    rotated_pose = pose @ SE3.from_rotation(SO3.from_z_radians(yaw))\n",
    "    point_rotated = rotated_pose.apply(point_wrt_pose)\n",
    "    return point_rotated\n",
    "def get_rot_by_z_x_axes(x_axis, z_axis):\n",
    "    normalize = lambda x: x/safe_2norm(x)\n",
    "    z_axis = normalize(z_axis) #1\n",
    "    y_axis = normalize(jnp.cross(z_axis, x_axis)) #2\n",
    "    x_axis = normalize(jnp.cross(y_axis, z_axis)) #3\n",
    "    return SO3.from_matrix(jnp.vstack([x_axis, y_axis, z_axis]).T)\n",
    "def get_failure_sample(x):\n",
    "    ee_pose = SE3(x[:7])\n",
    "    p_elbow = x[7:10]\n",
    "    p_wrist = x[10:13]\n",
    "    shoulder_ref_pose = SE3.from_rotation_and_translation(\n",
    "        get_rot_by_z_x_axes(jnp.array([1,0,0]), p_wrist-p_shoulder), p_shoulder)\n",
    "    yaw1, yaw2 = np.random.normal(size=2) * jnp.pi*2/10\n",
    "    p_wrist_fail = rotate_point_by_yaw(ee_pose, p_wrist, yaw1)\n",
    "    p_elbow_fail = rotate_point_by_yaw(shoulder_ref_pose, p_elbow, yaw2)\n",
    "    return jnp.hstack([x[:7], p_elbow_fail, p_wrist_fail])\n",
    "def show_points(x):\n",
    "    ee_pose = SE3(x[:7])\n",
    "    p_elbow = x[7:10]\n",
    "    p_wrist = x[10:13]\n",
    "    shoulder.set_translate(p_shoulder)\n",
    "    elbow.set_translate(p_elbow)\n",
    "    wrist.set_translate(p_wrist)\n",
    "    frame.set_pose(ee_pose)"
   ]
  },
  {
   "cell_type": "code",
   "execution_count": 352,
   "metadata": {},
   "outputs": [],
   "source": [
    "#q = generate_random_joints(1)[0]\n",
    "x = generate_successful_sample(panda_model.neutral)\n",
    "x_fail = get_failure_sample(x)\n",
    "show_points(x_fail)"
   ]
  },
  {
   "cell_type": "code",
   "execution_count": 353,
   "metadata": {},
   "outputs": [],
   "source": [
    "def generate_random_joints(num_samples):\n",
    "    return jnp.array(np.random.uniform(\n",
    "        panda_model.lb[:7], panda_model.ub[:7], size=(num_samples,7)))\n",
    "def generate_successful_sample(q):\n",
    "    gripper_joints = jnp.full((2), 0.04)\n",
    "    qnew = jnp.hstack([q, gripper_joints])\n",
    "    fks = panda_model.fk_fn(qnew)\n",
    "    ee_pose = fks[-1]\n",
    "    p_elbow = fks[4][-3:]\n",
    "    p_wrist = fks[5][-3:]\n",
    "    #rtp = to_spherical_coord(p_elbow - p_shoulder)\n",
    "    return jnp.hstack([ee_pose, p_elbow, p_wrist]) #p_wrist\n",
    "\n",
    "@jax.jit\n",
    "def get_batch_samples(qs):\n",
    "    x_succ = jax.vmap(generate_successful_sample)(qs) #true data\n",
    "    x_fail = jax.vmap(get_failure_sample)(x_succ)\n",
    "    return x_succ, x_fail"
   ]
  },
  {
   "cell_type": "code",
   "execution_count": 677,
   "metadata": {},
   "outputs": [],
   "source": [
    "from jax import random\n",
    "hp = Hyperparam()\n",
    "hp.dims = [13, 64, 64, 64, 64, 1]\n",
    "hp.lr = 0.001\n",
    "hp.batch_size = 128\n",
    "\n",
    "model = get_mlp(hp)\n",
    "key1, key2 = random.split(random.PRNGKey(0))\n",
    "x = random.normal(key1, (hp.dims[0],))\n",
    "params = model.init(key2, x)\n",
    "tx = optax.adam(learning_rate=hp.lr)\n",
    "state = TrainState.create(apply_fn=model.apply, params=params, tx=tx)"
   ]
  },
  {
   "cell_type": "code",
   "execution_count": 678,
   "metadata": {},
   "outputs": [],
   "source": [
    "from jax import random\n",
    "hp = Hyperparam()\n",
    "hp.dims = [13, 64, 64, 64, 64, 7]\n",
    "hp.lr = 0.001\n",
    "hp.batch_size = 128\n",
    "\n",
    "model_recon = get_mlp(hp)\n",
    "key1, key2 = random.split(random.PRNGKey(0))\n",
    "x = random.normal(key1, (hp.dims[0],))\n",
    "params_recon = model_recon.init(key2, x)\n",
    "tx_recon = optax.adam(learning_rate=hp.lr)\n",
    "state_recon = TrainState.create(apply_fn=model_recon.apply, params=params_recon, tx=tx_recon)"
   ]
  },
  {
   "cell_type": "code",
   "execution_count": 679,
   "metadata": {},
   "outputs": [],
   "source": [
    "def loss(state, params, x_succ, x_fail):\n",
    "    logits_succ = state.apply_fn(params, x_succ).flatten()\n",
    "    loss_succ = optax.sigmoid_binary_cross_entropy(\n",
    "        logits_succ, jnp.ones_like(logits_succ)).mean()\n",
    "    logits_fail = state.apply_fn(params, x_fail).flatten()\n",
    "    loss_fail = optax.sigmoid_binary_cross_entropy(\n",
    "        logits_fail, jnp.zeros_like(logits_fail)).mean()\n",
    "    return loss_succ + loss_fail, (loss_succ, loss_fail)\n",
    "grad_fn = jax.value_and_grad(loss, argnums=1, has_aux=True)\n",
    "\n",
    "@jax.jit\n",
    "def training_step(state, x_succ, x_fail):\n",
    "    (loss, (loss_succ, loss_fail)), grads = grad_fn(state, state.params, x_succ, x_fail)\n",
    "    state = state.apply_gradients(grads=grads)\n",
    "    return state, loss, loss_succ, loss_fail"
   ]
  },
  {
   "cell_type": "code",
   "execution_count": 684,
   "metadata": {},
   "outputs": [],
   "source": [
    "def loss_recon(state, params, x_succ, qs):\n",
    "    qs_pred = state.apply_fn(params, x_succ)\n",
    "    loss = optax.l2_loss(qs_pred, qs)\n",
    "    return loss.mean()\n",
    "grad_fn_recon = jax.value_and_grad(loss_recon, argnums=1)\n",
    "\n",
    "@jax.jit\n",
    "def training_step_recon(state, x_succ, qs):\n",
    "    loss, grads = grad_fn_recon(state, state.params, x_succ, qs)\n",
    "    state = state.apply_gradients(grads=grads)\n",
    "    return state, loss"
   ]
  },
  {
   "cell_type": "code",
   "execution_count": 685,
   "metadata": {},
   "outputs": [
    {
     "name": "stdout",
     "output_type": "stream",
     "text": [
      "epoch:0, loss:1.3868772983551025\n",
      "loss_succ0.666491687297821, loss_fail:0.7203856706619263, loss_recon:1.4551236629486084\n",
      "epoch:100, loss:1.372450590133667\n",
      "loss_succ0.7001367807388306, loss_fail:0.6723138093948364, loss_recon:0.9212878346443176\n",
      "epoch:200, loss:1.3592450618743896\n",
      "loss_succ0.630511999130249, loss_fail:0.7287330627441406, loss_recon:0.8050041794776917\n",
      "epoch:300, loss:1.354374647140503\n",
      "loss_succ0.6517248153686523, loss_fail:0.7026497721672058, loss_recon:0.836265504360199\n",
      "epoch:400, loss:1.359317421913147\n",
      "loss_succ0.7630115151405334, loss_fail:0.5963059067726135, loss_recon:0.7451563477516174\n",
      "epoch:500, loss:1.3375091552734375\n",
      "loss_succ0.7079915404319763, loss_fail:0.629517674446106, loss_recon:0.7390410304069519\n",
      "epoch:600, loss:1.3500193357467651\n",
      "loss_succ0.700930118560791, loss_fail:0.6490892171859741, loss_recon:0.7413157224655151\n",
      "epoch:700, loss:1.322577953338623\n",
      "loss_succ0.5625837445259094, loss_fail:0.7599942088127136, loss_recon:0.773711621761322\n",
      "epoch:800, loss:1.2615652084350586\n",
      "loss_succ0.574749767780304, loss_fail:0.6868155002593994, loss_recon:0.685291588306427\n",
      "epoch:900, loss:1.2398313283920288\n",
      "loss_succ0.6246175765991211, loss_fail:0.6152137517929077, loss_recon:0.7612349390983582\n",
      "epoch:1000, loss:1.1965867280960083\n",
      "loss_succ0.5526492595672607, loss_fail:0.6439374685287476, loss_recon:0.6777075529098511\n",
      "epoch:1100, loss:1.2235784530639648\n",
      "loss_succ0.5861306190490723, loss_fail:0.6374478936195374, loss_recon:0.7004891037940979\n",
      "epoch:1200, loss:1.1821386814117432\n",
      "loss_succ0.5860283970832825, loss_fail:0.5961102247238159, loss_recon:0.6323434710502625\n",
      "epoch:1300, loss:1.157109260559082\n",
      "loss_succ0.5772548913955688, loss_fail:0.579854428768158, loss_recon:0.6998847723007202\n",
      "epoch:1400, loss:1.1273809671401978\n",
      "loss_succ0.5392554998397827, loss_fail:0.588125467300415, loss_recon:0.6351578831672668\n",
      "epoch:1500, loss:1.176037073135376\n",
      "loss_succ0.6459883451461792, loss_fail:0.5300487279891968, loss_recon:0.6600062847137451\n",
      "epoch:1600, loss:1.0665504932403564\n",
      "loss_succ0.5088858604431152, loss_fail:0.5576646327972412, loss_recon:0.6468653082847595\n",
      "epoch:1700, loss:1.0686328411102295\n",
      "loss_succ0.5566144585609436, loss_fail:0.5120183229446411, loss_recon:0.6127586364746094\n",
      "epoch:1800, loss:1.0094183683395386\n",
      "loss_succ0.505692720413208, loss_fail:0.5037256479263306, loss_recon:0.5986442565917969\n",
      "epoch:1900, loss:1.1295440196990967\n",
      "loss_succ0.4580456018447876, loss_fail:0.6714984178543091, loss_recon:0.6146095991134644\n",
      "epoch:2000, loss:1.0921231508255005\n",
      "loss_succ0.5166025161743164, loss_fail:0.5755206346511841, loss_recon:0.6796734929084778\n",
      "epoch:2100, loss:1.0893514156341553\n",
      "loss_succ0.6604496240615845, loss_fail:0.428901731967926, loss_recon:0.8066571354866028\n",
      "epoch:2200, loss:1.1271579265594482\n",
      "loss_succ0.4540639817714691, loss_fail:0.6730939149856567, loss_recon:0.6621419787406921\n",
      "epoch:2300, loss:0.9922624826431274\n",
      "loss_succ0.46434247493743896, loss_fail:0.5279200077056885, loss_recon:0.6439863443374634\n",
      "epoch:2400, loss:0.9831953048706055\n",
      "loss_succ0.37840044498443604, loss_fail:0.6047948598861694, loss_recon:0.5634652376174927\n",
      "epoch:2500, loss:1.027155876159668\n",
      "loss_succ0.557181179523468, loss_fail:0.4699746370315552, loss_recon:0.5944122672080994\n",
      "epoch:2600, loss:1.0214958190917969\n",
      "loss_succ0.631632387638092, loss_fail:0.3898634612560272, loss_recon:0.5976347327232361\n",
      "epoch:2700, loss:0.9058570265769958\n",
      "loss_succ0.39865589141845703, loss_fail:0.5072011351585388, loss_recon:0.6405580639839172\n",
      "epoch:2800, loss:0.9900164604187012\n",
      "loss_succ0.42937222123146057, loss_fail:0.560644268989563, loss_recon:0.6795615553855896\n",
      "epoch:2900, loss:0.9753376841545105\n",
      "loss_succ0.5466672778129578, loss_fail:0.42867040634155273, loss_recon:0.6837896704673767\n",
      "epoch:3000, loss:0.93959641456604\n",
      "loss_succ0.4240259826183319, loss_fail:0.5155704021453857, loss_recon:0.5780307650566101\n",
      "epoch:3100, loss:0.9245729446411133\n",
      "loss_succ0.4778842628002167, loss_fail:0.4466886818408966, loss_recon:0.6526505947113037\n",
      "epoch:3200, loss:1.0230457782745361\n",
      "loss_succ0.516135036945343, loss_fail:0.5069108009338379, loss_recon:0.637194812297821\n",
      "epoch:3300, loss:1.035660743713379\n",
      "loss_succ0.5739710330963135, loss_fail:0.46168971061706543, loss_recon:0.6025625467300415\n",
      "epoch:3400, loss:0.9251821041107178\n",
      "loss_succ0.45110219717025757, loss_fail:0.4740798771381378, loss_recon:0.5760230422019958\n",
      "epoch:3500, loss:0.9251285791397095\n",
      "loss_succ0.46518662571907043, loss_fail:0.45994192361831665, loss_recon:0.5811641216278076\n",
      "epoch:3600, loss:0.917849063873291\n",
      "loss_succ0.41232964396476746, loss_fail:0.505519449710846, loss_recon:0.6667422652244568\n",
      "epoch:3700, loss:0.9443097114562988\n",
      "loss_succ0.4730434715747833, loss_fail:0.4712662100791931, loss_recon:0.6452628374099731\n",
      "epoch:3800, loss:0.9049334526062012\n",
      "loss_succ0.4211594760417938, loss_fail:0.48377394676208496, loss_recon:0.5966575145721436\n",
      "epoch:3900, loss:1.0244544744491577\n",
      "loss_succ0.6117312908172607, loss_fail:0.4127231538295746, loss_recon:0.6043710112571716\n",
      "epoch:4000, loss:0.9120143055915833\n",
      "loss_succ0.3179404139518738, loss_fail:0.5940738916397095, loss_recon:0.5431642532348633\n",
      "epoch:4100, loss:0.965181827545166\n",
      "loss_succ0.5279096364974976, loss_fail:0.43727222084999084, loss_recon:0.605674147605896\n",
      "epoch:4200, loss:0.8530933856964111\n",
      "loss_succ0.38449662923812866, loss_fail:0.46859678626060486, loss_recon:0.6350710988044739\n",
      "epoch:4300, loss:0.8657456636428833\n",
      "loss_succ0.39057764410972595, loss_fail:0.47516804933547974, loss_recon:0.5796679258346558\n",
      "epoch:4400, loss:0.7780795097351074\n",
      "loss_succ0.26374781131744385, loss_fail:0.5143316984176636, loss_recon:0.535496175289154\n",
      "epoch:4500, loss:0.8484687805175781\n",
      "loss_succ0.4877546727657318, loss_fail:0.3607140779495239, loss_recon:0.5375316143035889\n",
      "epoch:4600, loss:0.8151130676269531\n",
      "loss_succ0.48513510823249817, loss_fail:0.32997798919677734, loss_recon:0.6192986965179443\n",
      "epoch:4700, loss:1.0075042247772217\n",
      "loss_succ0.5590626001358032, loss_fail:0.44844162464141846, loss_recon:0.6303768157958984\n",
      "epoch:4800, loss:0.7777231335639954\n",
      "loss_succ0.38718146085739136, loss_fail:0.390541672706604, loss_recon:0.5603363513946533\n",
      "epoch:4900, loss:0.838039219379425\n",
      "loss_succ0.40098559856414795, loss_fail:0.4370536208152771, loss_recon:0.48183348774909973\n",
      "epoch:5000, loss:0.7736929655075073\n",
      "loss_succ0.33691921830177307, loss_fail:0.43677371740341187, loss_recon:0.5035635232925415\n",
      "epoch:5100, loss:0.7580130696296692\n",
      "loss_succ0.37075120210647583, loss_fail:0.38726186752319336, loss_recon:0.5500736236572266\n",
      "epoch:5200, loss:0.7615991830825806\n",
      "loss_succ0.46749958395957947, loss_fail:0.2940995991230011, loss_recon:0.57765132188797\n",
      "epoch:5300, loss:0.8025926947593689\n",
      "loss_succ0.46057742834091187, loss_fail:0.34201526641845703, loss_recon:0.5559860467910767\n",
      "epoch:5400, loss:0.8812177181243896\n",
      "loss_succ0.24945354461669922, loss_fail:0.6317641735076904, loss_recon:0.5376469492912292\n",
      "epoch:5500, loss:0.8348413109779358\n",
      "loss_succ0.4944645166397095, loss_fail:0.3403767943382263, loss_recon:0.6119933128356934\n",
      "epoch:5600, loss:0.771721601486206\n",
      "loss_succ0.4283275306224823, loss_fail:0.34339410066604614, loss_recon:0.5257177352905273\n",
      "epoch:5700, loss:0.8203923106193542\n",
      "loss_succ0.42386728525161743, loss_fail:0.3965250253677368, loss_recon:0.5455073714256287\n",
      "epoch:5800, loss:0.7793256640434265\n",
      "loss_succ0.3896411061286926, loss_fail:0.3896845579147339, loss_recon:0.5661896467208862\n",
      "epoch:5900, loss:0.7653061747550964\n",
      "loss_succ0.3127811551094055, loss_fail:0.4525250196456909, loss_recon:0.5171794891357422\n",
      "epoch:6000, loss:0.8071489334106445\n",
      "loss_succ0.40628042817115784, loss_fail:0.4008685350418091, loss_recon:0.4857279360294342\n",
      "epoch:6100, loss:0.879011869430542\n",
      "loss_succ0.47264164686203003, loss_fail:0.4063701927661896, loss_recon:0.5060545802116394\n",
      "epoch:6200, loss:0.7960848808288574\n",
      "loss_succ0.480161190032959, loss_fail:0.31592366099357605, loss_recon:0.4771096706390381\n",
      "epoch:6300, loss:0.7933912873268127\n",
      "loss_succ0.28896862268447876, loss_fail:0.504422664642334, loss_recon:0.5305057168006897\n",
      "epoch:6400, loss:0.6963428854942322\n",
      "loss_succ0.316558301448822, loss_fail:0.37978458404541016, loss_recon:0.5063616037368774\n",
      "epoch:6500, loss:0.8902333974838257\n",
      "loss_succ0.28201228380203247, loss_fail:0.6082211136817932, loss_recon:0.49992993474006653\n",
      "epoch:6600, loss:0.6782758831977844\n",
      "loss_succ0.37889471650123596, loss_fail:0.29938116669654846, loss_recon:0.45654919743537903\n",
      "epoch:6700, loss:0.6309140920639038\n",
      "loss_succ0.2624451220035553, loss_fail:0.3684689998626709, loss_recon:0.5055790543556213\n",
      "epoch:6800, loss:0.7027686834335327\n",
      "loss_succ0.2384234368801117, loss_fail:0.464345246553421, loss_recon:0.5452222228050232\n",
      "epoch:6900, loss:0.6840591430664062\n",
      "loss_succ0.36297348141670227, loss_fail:0.32108569145202637, loss_recon:0.49681609869003296\n",
      "epoch:7000, loss:0.8547391891479492\n",
      "loss_succ0.44799843430519104, loss_fail:0.4067407250404358, loss_recon:0.4460205137729645\n",
      "epoch:7100, loss:0.6012850999832153\n",
      "loss_succ0.2791317403316498, loss_fail:0.32215332984924316, loss_recon:0.4970681071281433\n",
      "epoch:7200, loss:0.6537008285522461\n",
      "loss_succ0.3398793935775757, loss_fail:0.3138214349746704, loss_recon:0.43720656633377075\n",
      "epoch:7300, loss:0.6939854621887207\n",
      "loss_succ0.30012303590774536, loss_fail:0.39386245608329773, loss_recon:0.48297691345214844\n",
      "epoch:7400, loss:0.7446907758712769\n",
      "loss_succ0.38522347807884216, loss_fail:0.3594673275947571, loss_recon:0.5254837274551392\n",
      "epoch:7500, loss:0.6973950862884521\n",
      "loss_succ0.42788082361221313, loss_fail:0.2695142924785614, loss_recon:0.48227670788764954\n",
      "epoch:7600, loss:0.591078519821167\n",
      "loss_succ0.2826986610889435, loss_fail:0.3083798587322235, loss_recon:0.526220440864563\n",
      "epoch:7700, loss:0.7284026145935059\n",
      "loss_succ0.4574829936027527, loss_fail:0.2709195911884308, loss_recon:0.48395389318466187\n",
      "epoch:7800, loss:0.7450964450836182\n",
      "loss_succ0.322345495223999, loss_fail:0.42275094985961914, loss_recon:0.4718327820301056\n",
      "epoch:7900, loss:0.6830224990844727\n",
      "loss_succ0.338931679725647, loss_fail:0.3440908193588257, loss_recon:0.5060275197029114\n",
      "epoch:8000, loss:0.7366380095481873\n",
      "loss_succ0.2670533061027527, loss_fail:0.46958470344543457, loss_recon:0.5342808961868286\n",
      "epoch:8100, loss:0.7059786319732666\n",
      "loss_succ0.31545114517211914, loss_fail:0.3905274569988251, loss_recon:0.554706335067749\n",
      "epoch:8200, loss:0.7127071619033813\n",
      "loss_succ0.36830031871795654, loss_fail:0.3444068133831024, loss_recon:0.4782308042049408\n",
      "epoch:8300, loss:0.5651078820228577\n",
      "loss_succ0.26016297936439514, loss_fail:0.3049449026584625, loss_recon:0.4480789303779602\n",
      "epoch:8400, loss:0.7892450094223022\n",
      "loss_succ0.43643099069595337, loss_fail:0.35281404852867126, loss_recon:0.44229817390441895\n",
      "epoch:8500, loss:0.6410525441169739\n",
      "loss_succ0.2351047545671463, loss_fail:0.40594780445098877, loss_recon:0.5713051557540894\n",
      "epoch:8600, loss:0.7045204639434814\n",
      "loss_succ0.3749859929084778, loss_fail:0.32953447103500366, loss_recon:0.5053829550743103\n",
      "epoch:8700, loss:0.671458899974823\n",
      "loss_succ0.39220404624938965, loss_fail:0.27925485372543335, loss_recon:0.46830934286117554\n",
      "epoch:8800, loss:0.6900413036346436\n",
      "loss_succ0.26855039596557617, loss_fail:0.4214909076690674, loss_recon:0.4970441460609436\n",
      "epoch:8900, loss:0.6640371084213257\n",
      "loss_succ0.2841481566429138, loss_fail:0.37988895177841187, loss_recon:0.4661230444908142\n",
      "epoch:9000, loss:0.6989532113075256\n",
      "loss_succ0.3116907775402069, loss_fail:0.3872624337673187, loss_recon:0.5325448513031006\n",
      "epoch:9100, loss:0.605932354927063\n",
      "loss_succ0.24852216243743896, loss_fail:0.357410192489624, loss_recon:0.4305708706378937\n",
      "epoch:9200, loss:0.6320122480392456\n",
      "loss_succ0.2841222286224365, loss_fail:0.34789004921913147, loss_recon:0.4551539719104767\n",
      "epoch:9300, loss:0.5992122888565063\n",
      "loss_succ0.32448169589042664, loss_fail:0.2747305631637573, loss_recon:0.48134174942970276\n",
      "epoch:9400, loss:0.5512360334396362\n",
      "loss_succ0.3092995882034302, loss_fail:0.24193647503852844, loss_recon:0.5345818400382996\n",
      "epoch:9500, loss:0.6610431671142578\n",
      "loss_succ0.3630613684654236, loss_fail:0.29798176884651184, loss_recon:0.5003582835197449\n",
      "epoch:9600, loss:0.6474453210830688\n",
      "loss_succ0.2856504023075104, loss_fail:0.36179491877555847, loss_recon:0.5126218795776367\n",
      "epoch:9700, loss:0.7434675693511963\n",
      "loss_succ0.45641475915908813, loss_fail:0.28705281019210815, loss_recon:0.4914894700050354\n",
      "epoch:9800, loss:0.6097003817558289\n",
      "loss_succ0.23024745285511017, loss_fail:0.3794529438018799, loss_recon:0.4817821979522705\n",
      "epoch:9900, loss:0.7059977054595947\n",
      "loss_succ0.32229751348495483, loss_fail:0.3837001919746399, loss_recon:0.42063358426094055\n",
      "epoch:10000, loss:0.6008597612380981\n",
      "loss_succ0.31414464116096497, loss_fail:0.2867150902748108, loss_recon:0.43281295895576477\n",
      "epoch:10100, loss:0.5412627458572388\n",
      "loss_succ0.3186229169368744, loss_fail:0.22263985872268677, loss_recon:0.3914910852909088\n",
      "epoch:10200, loss:0.6513166427612305\n",
      "loss_succ0.34689879417419434, loss_fail:0.30441781878471375, loss_recon:0.4341559410095215\n",
      "epoch:10300, loss:0.8085578680038452\n",
      "loss_succ0.3175972104072571, loss_fail:0.49096065759658813, loss_recon:0.4575327932834625\n",
      "epoch:10400, loss:0.5680015087127686\n",
      "loss_succ0.22126305103302002, loss_fail:0.3467384874820709, loss_recon:0.45249783992767334\n",
      "epoch:10500, loss:0.8218153715133667\n",
      "loss_succ0.5032897591590881, loss_fail:0.31852561235427856, loss_recon:0.41159284114837646\n",
      "epoch:10600, loss:0.5513057112693787\n",
      "loss_succ0.2847468852996826, loss_fail:0.26655882596969604, loss_recon:0.44489091634750366\n",
      "epoch:10700, loss:0.5457627773284912\n",
      "loss_succ0.2794889807701111, loss_fail:0.2662738263607025, loss_recon:0.5160840153694153\n",
      "epoch:10800, loss:0.6579767465591431\n",
      "loss_succ0.2953662574291229, loss_fail:0.36261051893234253, loss_recon:0.47063785791397095\n",
      "epoch:10900, loss:0.527737021446228\n",
      "loss_succ0.3190528452396393, loss_fail:0.20868416130542755, loss_recon:0.49206164479255676\n",
      "epoch:11000, loss:0.5997533798217773\n",
      "loss_succ0.2402193397283554, loss_fail:0.35953402519226074, loss_recon:0.4356694519519806\n",
      "epoch:11100, loss:0.7727452516555786\n",
      "loss_succ0.33757278323173523, loss_fail:0.43517249822616577, loss_recon:0.48466357588768005\n",
      "epoch:11200, loss:0.4923522174358368\n",
      "loss_succ0.17929759621620178, loss_fail:0.313054621219635, loss_recon:0.44087889790534973\n",
      "epoch:11300, loss:0.7468174695968628\n",
      "loss_succ0.37538468837738037, loss_fail:0.3714328110218048, loss_recon:0.4825851321220398\n",
      "epoch:11400, loss:0.6205647587776184\n",
      "loss_succ0.3402535915374756, loss_fail:0.2803111672401428, loss_recon:0.44433656334877014\n",
      "epoch:11500, loss:0.605094850063324\n",
      "loss_succ0.3037415146827698, loss_fail:0.3013533353805542, loss_recon:0.5094718933105469\n",
      "epoch:11600, loss:0.7385843396186829\n",
      "loss_succ0.3638283610343933, loss_fail:0.37475597858428955, loss_recon:0.5385955572128296\n",
      "epoch:11700, loss:0.523489236831665\n",
      "loss_succ0.30827510356903076, loss_fail:0.2152141034603119, loss_recon:0.43288692831993103\n",
      "epoch:11800, loss:0.6273318529129028\n",
      "loss_succ0.34172263741493225, loss_fail:0.28560924530029297, loss_recon:0.49402230978012085\n",
      "epoch:11900, loss:0.5632067918777466\n",
      "loss_succ0.2224455326795578, loss_fail:0.3407612442970276, loss_recon:0.4699941575527191\n",
      "epoch:12000, loss:0.5829852819442749\n",
      "loss_succ0.2558630108833313, loss_fail:0.3271222710609436, loss_recon:0.5016995072364807\n",
      "epoch:12100, loss:0.5946396589279175\n",
      "loss_succ0.3073692321777344, loss_fail:0.2872704565525055, loss_recon:0.46289563179016113\n",
      "epoch:12200, loss:0.670937180519104\n",
      "loss_succ0.440832257270813, loss_fail:0.23010489344596863, loss_recon:0.443156361579895\n",
      "epoch:12300, loss:0.5880396366119385\n",
      "loss_succ0.3391348719596863, loss_fail:0.2489047795534134, loss_recon:0.5603621006011963\n",
      "epoch:12400, loss:0.6724354028701782\n",
      "loss_succ0.2363089621067047, loss_fail:0.4361264109611511, loss_recon:0.4890539050102234\n",
      "epoch:12500, loss:0.5978789925575256\n",
      "loss_succ0.27959245443344116, loss_fail:0.3182865381240845, loss_recon:0.48938998579978943\n",
      "epoch:12600, loss:0.6965504288673401\n",
      "loss_succ0.4305923581123352, loss_fail:0.2659580707550049, loss_recon:0.5070380568504333\n",
      "epoch:12700, loss:0.599177896976471\n",
      "loss_succ0.27509868144989014, loss_fail:0.3240792155265808, loss_recon:0.42911237478256226\n",
      "epoch:12800, loss:0.6089494824409485\n",
      "loss_succ0.2737334370613098, loss_fail:0.33521604537963867, loss_recon:0.46610796451568604\n",
      "epoch:12900, loss:0.5238308906555176\n",
      "loss_succ0.23384568095207214, loss_fail:0.28998517990112305, loss_recon:0.4788971543312073\n",
      "epoch:13000, loss:0.6213133335113525\n",
      "loss_succ0.32539764046669006, loss_fail:0.29591572284698486, loss_recon:0.4562031328678131\n",
      "epoch:13100, loss:0.5320901870727539\n",
      "loss_succ0.3485654592514038, loss_fail:0.1835246980190277, loss_recon:0.46409887075424194\n",
      "epoch:13200, loss:0.6867642998695374\n",
      "loss_succ0.43030741810798645, loss_fail:0.2564568817615509, loss_recon:0.4539571702480316\n",
      "epoch:13300, loss:0.6618480086326599\n",
      "loss_succ0.3541414737701416, loss_fail:0.3077065348625183, loss_recon:0.4897845685482025\n",
      "epoch:13400, loss:0.5814603567123413\n",
      "loss_succ0.298086941242218, loss_fail:0.2833734154701233, loss_recon:0.42553526163101196\n",
      "epoch:13500, loss:0.5997414588928223\n",
      "loss_succ0.28094714879989624, loss_fail:0.318794310092926, loss_recon:0.4271591603755951\n",
      "epoch:13600, loss:0.5432087182998657\n",
      "loss_succ0.3200536370277405, loss_fail:0.22315508127212524, loss_recon:0.46142181754112244\n",
      "epoch:13700, loss:0.6558876037597656\n",
      "loss_succ0.26172778010368347, loss_fail:0.39415985345840454, loss_recon:0.4081703722476959\n",
      "epoch:13800, loss:0.5691261291503906\n",
      "loss_succ0.2267230898141861, loss_fail:0.34240302443504333, loss_recon:0.4391871392726898\n",
      "epoch:13900, loss:0.5543419122695923\n",
      "loss_succ0.25179365277290344, loss_fail:0.30254825949668884, loss_recon:0.47040730714797974\n",
      "epoch:14000, loss:0.50473952293396\n",
      "loss_succ0.29104965925216675, loss_fail:0.21368983387947083, loss_recon:0.4893736243247986\n",
      "epoch:14100, loss:0.6966890096664429\n",
      "loss_succ0.4054769277572632, loss_fail:0.2912120819091797, loss_recon:0.450512170791626\n",
      "epoch:14200, loss:0.49005067348480225\n",
      "loss_succ0.20659714937210083, loss_fail:0.2834535241127014, loss_recon:0.3993954062461853\n",
      "epoch:14300, loss:0.4957695007324219\n",
      "loss_succ0.26002445816993713, loss_fail:0.23574504256248474, loss_recon:0.43318548798561096\n",
      "epoch:14400, loss:0.5879985094070435\n",
      "loss_succ0.3293834328651428, loss_fail:0.25861507654190063, loss_recon:0.5119165778160095\n",
      "epoch:14500, loss:0.690078854560852\n",
      "loss_succ0.430156946182251, loss_fail:0.25992193818092346, loss_recon:0.4604194760322571\n",
      "epoch:14600, loss:0.660995364189148\n",
      "loss_succ0.3166545629501343, loss_fail:0.34434083104133606, loss_recon:0.4918190538883209\n",
      "epoch:14700, loss:0.6087235808372498\n",
      "loss_succ0.30607911944389343, loss_fail:0.3026444613933563, loss_recon:0.4626980125904083\n",
      "epoch:14800, loss:0.6803115010261536\n",
      "loss_succ0.34326601028442383, loss_fail:0.33704549074172974, loss_recon:0.40611255168914795\n",
      "epoch:14900, loss:0.5031712055206299\n",
      "loss_succ0.29145053029060364, loss_fail:0.21172070503234863, loss_recon:0.45210427045822144\n",
      "epoch:15000, loss:0.5465459823608398\n",
      "loss_succ0.2699650526046753, loss_fail:0.27658089995384216, loss_recon:0.4905312955379486\n",
      "epoch:15100, loss:0.5242105722427368\n",
      "loss_succ0.24897968769073486, loss_fail:0.27523091435432434, loss_recon:0.4002710282802582\n",
      "epoch:15200, loss:0.45853468775749207\n",
      "loss_succ0.25603264570236206, loss_fail:0.20250204205513, loss_recon:0.40620818734169006\n",
      "epoch:15300, loss:0.5990910530090332\n",
      "loss_succ0.2536734342575073, loss_fail:0.3454176187515259, loss_recon:0.3953916132450104\n",
      "epoch:15400, loss:0.6084593534469604\n",
      "loss_succ0.36969417333602905, loss_fail:0.2387651801109314, loss_recon:0.5436547994613647\n",
      "epoch:15500, loss:0.7683141231536865\n",
      "loss_succ0.42061224579811096, loss_fail:0.34770190715789795, loss_recon:0.4743736684322357\n",
      "epoch:15600, loss:0.5942047238349915\n",
      "loss_succ0.3245750963687897, loss_fail:0.2696296274662018, loss_recon:0.43208521604537964\n",
      "epoch:15700, loss:0.4827854037284851\n",
      "loss_succ0.2982504665851593, loss_fail:0.1845349371433258, loss_recon:0.4341069757938385\n",
      "epoch:15800, loss:0.561212420463562\n",
      "loss_succ0.25526952743530273, loss_fail:0.3059428930282593, loss_recon:0.5247098207473755\n",
      "epoch:15900, loss:0.44353020191192627\n",
      "loss_succ0.22360071539878845, loss_fail:0.21992947161197662, loss_recon:0.43302565813064575\n",
      "epoch:16000, loss:0.484829843044281\n",
      "loss_succ0.27108490467071533, loss_fail:0.21374493837356567, loss_recon:0.42019686102867126\n",
      "epoch:16100, loss:0.5730509757995605\n",
      "loss_succ0.19879579544067383, loss_fail:0.3742551803588867, loss_recon:0.48979973793029785\n",
      "epoch:16200, loss:0.5790426135063171\n",
      "loss_succ0.25637027621269226, loss_fail:0.3226723372936249, loss_recon:0.4412079155445099\n",
      "epoch:16300, loss:0.6655876636505127\n",
      "loss_succ0.2580360770225525, loss_fail:0.4075515866279602, loss_recon:0.5074188709259033\n",
      "epoch:16400, loss:0.5760908126831055\n",
      "loss_succ0.27910080552101135, loss_fail:0.2969900071620941, loss_recon:0.379921555519104\n",
      "epoch:16500, loss:0.7385921478271484\n",
      "loss_succ0.383308470249176, loss_fail:0.3552836775779724, loss_recon:0.46508368849754333\n",
      "epoch:16600, loss:0.6686897277832031\n",
      "loss_succ0.3336467146873474, loss_fail:0.3350429832935333, loss_recon:0.4770352840423584\n",
      "epoch:16700, loss:0.5837838053703308\n",
      "loss_succ0.2630263566970825, loss_fail:0.3207574486732483, loss_recon:0.4604182541370392\n",
      "epoch:16800, loss:0.4195212423801422\n",
      "loss_succ0.20822671055793762, loss_fail:0.2112945318222046, loss_recon:0.4311917722225189\n",
      "epoch:16900, loss:0.563316285610199\n",
      "loss_succ0.30486997961997986, loss_fail:0.2584463059902191, loss_recon:0.3856646418571472\n",
      "epoch:17000, loss:0.5744293332099915\n",
      "loss_succ0.27169710397720337, loss_fail:0.3027322292327881, loss_recon:0.46723198890686035\n",
      "epoch:17100, loss:0.6284604072570801\n",
      "loss_succ0.41247135400772095, loss_fail:0.21598905324935913, loss_recon:0.4342464208602905\n",
      "epoch:17200, loss:0.5667166709899902\n",
      "loss_succ0.1983742117881775, loss_fail:0.36834245920181274, loss_recon:0.41298773884773254\n",
      "epoch:17300, loss:0.4346696734428406\n",
      "loss_succ0.26878976821899414, loss_fail:0.16587992012500763, loss_recon:0.5055415630340576\n",
      "epoch:17400, loss:0.6181377172470093\n",
      "loss_succ0.37856417894363403, loss_fail:0.23957355320453644, loss_recon:0.39730340242385864\n",
      "epoch:17500, loss:0.5970392227172852\n",
      "loss_succ0.4026087522506714, loss_fail:0.19443044066429138, loss_recon:0.41511544585227966\n",
      "epoch:17600, loss:0.5129531025886536\n",
      "loss_succ0.26898783445358276, loss_fail:0.2439652681350708, loss_recon:0.3800104856491089\n",
      "epoch:17700, loss:0.4595547318458557\n",
      "loss_succ0.28889644145965576, loss_fail:0.17065829038619995, loss_recon:0.42372551560401917\n",
      "epoch:17800, loss:0.4258534014225006\n",
      "loss_succ0.14777499437332153, loss_fail:0.2780784070491791, loss_recon:0.45506778359413147\n",
      "epoch:17900, loss:0.5083369016647339\n",
      "loss_succ0.21417902410030365, loss_fail:0.29415786266326904, loss_recon:0.3865729868412018\n",
      "epoch:18000, loss:0.5793293714523315\n",
      "loss_succ0.19819708168506622, loss_fail:0.3811323046684265, loss_recon:0.38193389773368835\n",
      "epoch:18100, loss:0.4864169657230377\n",
      "loss_succ0.24705597758293152, loss_fail:0.2393609881401062, loss_recon:0.43263769149780273\n",
      "epoch:18200, loss:0.5498263835906982\n",
      "loss_succ0.25328654050827026, loss_fail:0.2965398132801056, loss_recon:0.4118552505970001\n",
      "epoch:18300, loss:0.5326424837112427\n",
      "loss_succ0.21613825857639313, loss_fail:0.31650424003601074, loss_recon:0.4072234332561493\n",
      "epoch:18400, loss:0.3911658525466919\n",
      "loss_succ0.18461006879806519, loss_fail:0.20655576884746552, loss_recon:0.5029330253601074\n",
      "epoch:18500, loss:0.506474494934082\n",
      "loss_succ0.2602345049381256, loss_fail:0.24623997509479523, loss_recon:0.37926730513572693\n",
      "epoch:18600, loss:0.5847043991088867\n",
      "loss_succ0.20523524284362793, loss_fail:0.3794691264629364, loss_recon:0.4716390371322632\n",
      "epoch:18700, loss:0.5571409463882446\n",
      "loss_succ0.29522374272346497, loss_fail:0.2619171738624573, loss_recon:0.45476534962654114\n",
      "epoch:18800, loss:0.6137524843215942\n",
      "loss_succ0.3467366695404053, loss_fail:0.26701581478118896, loss_recon:0.4391171336174011\n",
      "epoch:18900, loss:0.5110569000244141\n",
      "loss_succ0.2550784647464752, loss_fail:0.25597846508026123, loss_recon:0.4256734251976013\n",
      "epoch:19000, loss:0.5263749361038208\n",
      "loss_succ0.28307944536209106, loss_fail:0.24329549074172974, loss_recon:0.4105706810951233\n",
      "epoch:19100, loss:0.4657241404056549\n",
      "loss_succ0.2514311671257019, loss_fail:0.214292973279953, loss_recon:0.4570700228214264\n",
      "epoch:19200, loss:0.43286997079849243\n",
      "loss_succ0.24476352334022522, loss_fail:0.1881064623594284, loss_recon:0.41083094477653503\n",
      "epoch:19300, loss:0.6033897399902344\n",
      "loss_succ0.39559924602508545, loss_fail:0.20779049396514893, loss_recon:0.48144102096557617\n",
      "epoch:19400, loss:0.4971762001514435\n",
      "loss_succ0.20905432105064392, loss_fail:0.28812187910079956, loss_recon:0.4183846116065979\n",
      "epoch:19500, loss:0.392437219619751\n",
      "loss_succ0.17356222867965698, loss_fail:0.2188749760389328, loss_recon:0.41097578406333923\n",
      "epoch:19600, loss:0.5251350402832031\n",
      "loss_succ0.26215413212776184, loss_fail:0.2629808783531189, loss_recon:0.44066643714904785\n",
      "epoch:19700, loss:0.4984327554702759\n",
      "loss_succ0.2500043213367462, loss_fail:0.24842843413352966, loss_recon:0.3689340353012085\n",
      "epoch:19800, loss:0.4777470827102661\n",
      "loss_succ0.18180641531944275, loss_fail:0.29594066739082336, loss_recon:0.37358519434928894\n",
      "epoch:19900, loss:0.5230258703231812\n",
      "loss_succ0.190710186958313, loss_fail:0.33231571316719055, loss_recon:0.45324480533599854\n",
      "epoch:20000, loss:0.5074144601821899\n",
      "loss_succ0.2714967131614685, loss_fail:0.23591777682304382, loss_recon:0.43347224593162537\n",
      "epoch:20100, loss:0.5683543682098389\n",
      "loss_succ0.26183438301086426, loss_fail:0.306520015001297, loss_recon:0.47959378361701965\n",
      "epoch:20200, loss:0.5732822418212891\n",
      "loss_succ0.22671517729759216, loss_fail:0.3465670347213745, loss_recon:0.3891224265098572\n",
      "epoch:20300, loss:0.41808730363845825\n",
      "loss_succ0.2186117172241211, loss_fail:0.19947558641433716, loss_recon:0.44906461238861084\n",
      "epoch:20400, loss:0.5279409885406494\n",
      "loss_succ0.3061475157737732, loss_fail:0.22179347276687622, loss_recon:0.40425166487693787\n",
      "epoch:20500, loss:0.5649032592773438\n",
      "loss_succ0.33663061261177063, loss_fail:0.22827261686325073, loss_recon:0.48076072335243225\n",
      "epoch:20600, loss:0.504783570766449\n",
      "loss_succ0.23645061254501343, loss_fail:0.26833295822143555, loss_recon:0.4407951831817627\n",
      "epoch:20700, loss:0.3747960031032562\n",
      "loss_succ0.14261949062347412, loss_fail:0.2321765124797821, loss_recon:0.37576836347579956\n",
      "epoch:20800, loss:0.5787758827209473\n",
      "loss_succ0.3084791600704193, loss_fail:0.27029669284820557, loss_recon:0.48975419998168945\n",
      "epoch:20900, loss:0.5429736971855164\n",
      "loss_succ0.30992215871810913, loss_fail:0.23305153846740723, loss_recon:0.4236815571784973\n",
      "epoch:21000, loss:0.4859718084335327\n",
      "loss_succ0.22281497716903687, loss_fail:0.26315683126449585, loss_recon:0.42446476221084595\n",
      "epoch:21100, loss:0.5423727035522461\n",
      "loss_succ0.2576008439064026, loss_fail:0.2847718298435211, loss_recon:0.40652239322662354\n",
      "epoch:21200, loss:0.5468870997428894\n",
      "loss_succ0.254607617855072, loss_fail:0.2922794818878174, loss_recon:0.4056975543498993\n",
      "epoch:21300, loss:0.519969642162323\n",
      "loss_succ0.202190563082695, loss_fail:0.3177790939807892, loss_recon:0.3902926743030548\n",
      "epoch:21400, loss:0.49261969327926636\n",
      "loss_succ0.22715727984905243, loss_fail:0.26546239852905273, loss_recon:0.4517826437950134\n",
      "epoch:21500, loss:0.4518473744392395\n",
      "loss_succ0.18483926355838776, loss_fail:0.26700812578201294, loss_recon:0.385772168636322\n",
      "epoch:21600, loss:0.44858258962631226\n",
      "loss_succ0.21193812787532806, loss_fail:0.236644446849823, loss_recon:0.4181291162967682\n",
      "epoch:21700, loss:0.4641876816749573\n",
      "loss_succ0.18970473110675812, loss_fail:0.27448296546936035, loss_recon:0.43025439977645874\n",
      "epoch:21800, loss:0.4758383631706238\n",
      "loss_succ0.20423586666584015, loss_fail:0.2716025114059448, loss_recon:0.4270043969154358\n",
      "epoch:21900, loss:0.4547605812549591\n",
      "loss_succ0.23675978183746338, loss_fail:0.21800079941749573, loss_recon:0.3918149173259735\n",
      "epoch:22000, loss:0.4177895486354828\n",
      "loss_succ0.23060119152069092, loss_fail:0.18718835711479187, loss_recon:0.3972259759902954\n",
      "epoch:22100, loss:0.41338711977005005\n",
      "loss_succ0.17070730030536652, loss_fail:0.24267980456352234, loss_recon:0.44990816712379456\n",
      "epoch:22200, loss:0.5047308802604675\n",
      "loss_succ0.20155072212219238, loss_fail:0.30318015813827515, loss_recon:0.44016343355178833\n",
      "epoch:22300, loss:0.5486584901809692\n",
      "loss_succ0.3552466034889221, loss_fail:0.1934119164943695, loss_recon:0.435433030128479\n",
      "epoch:22400, loss:0.39589357376098633\n",
      "loss_succ0.17870110273361206, loss_fail:0.21719247102737427, loss_recon:0.39450204372406006\n",
      "epoch:22500, loss:0.528251051902771\n",
      "loss_succ0.3561553955078125, loss_fail:0.17209568619728088, loss_recon:0.45025765895843506\n",
      "epoch:22600, loss:0.5173351168632507\n",
      "loss_succ0.2529059648513794, loss_fail:0.26442915201187134, loss_recon:0.4500996470451355\n",
      "epoch:22700, loss:0.4731740653514862\n",
      "loss_succ0.22518232464790344, loss_fail:0.24799174070358276, loss_recon:0.4592461884021759\n",
      "epoch:22800, loss:0.5502427816390991\n",
      "loss_succ0.1666160523891449, loss_fail:0.3836267590522766, loss_recon:0.4238062798976898\n",
      "epoch:22900, loss:0.5180490016937256\n",
      "loss_succ0.30192169547080994, loss_fail:0.21612727642059326, loss_recon:0.4586838483810425\n",
      "epoch:23000, loss:0.4941214323043823\n",
      "loss_succ0.26390522718429565, loss_fail:0.23021620512008667, loss_recon:0.45222264528274536\n",
      "epoch:23100, loss:0.580837607383728\n",
      "loss_succ0.22810563445091248, loss_fail:0.35273194313049316, loss_recon:0.4286646842956543\n",
      "epoch:23200, loss:0.5462477207183838\n",
      "loss_succ0.2541413903236389, loss_fail:0.2921063303947449, loss_recon:0.44091445207595825\n",
      "epoch:23300, loss:0.5152879953384399\n",
      "loss_succ0.23476675152778625, loss_fail:0.2805212736129761, loss_recon:0.4181744456291199\n",
      "epoch:23400, loss:0.45072364807128906\n",
      "loss_succ0.2072857767343521, loss_fail:0.24343788623809814, loss_recon:0.44077643752098083\n",
      "epoch:23500, loss:0.5116198062896729\n",
      "loss_succ0.29531094431877136, loss_fail:0.21630887687206268, loss_recon:0.4166140854358673\n",
      "epoch:23600, loss:0.48272961378097534\n",
      "loss_succ0.22624759376049042, loss_fail:0.2564820349216461, loss_recon:0.4433143138885498\n",
      "epoch:23700, loss:0.47076788544654846\n",
      "loss_succ0.26905161142349243, loss_fail:0.20171627402305603, loss_recon:0.42750266194343567\n",
      "epoch:23800, loss:0.4710979163646698\n",
      "loss_succ0.19291111826896667, loss_fail:0.2781867980957031, loss_recon:0.3733711540699005\n",
      "epoch:23900, loss:0.5530073642730713\n",
      "loss_succ0.22073857486248016, loss_fail:0.33226877450942993, loss_recon:0.3705427348613739\n",
      "epoch:24000, loss:0.4880720376968384\n",
      "loss_succ0.25707805156707764, loss_fail:0.23099398612976074, loss_recon:0.4363533556461334\n",
      "epoch:24100, loss:0.467323899269104\n",
      "loss_succ0.21708951890468597, loss_fail:0.2502343952655792, loss_recon:0.3993060886859894\n",
      "epoch:24200, loss:0.519074022769928\n",
      "loss_succ0.2317066788673401, loss_fail:0.2873673439025879, loss_recon:0.4260498583316803\n",
      "epoch:24300, loss:0.41322293877601624\n",
      "loss_succ0.230744868516922, loss_fail:0.18247807025909424, loss_recon:0.39392831921577454\n",
      "epoch:24400, loss:0.4585582911968231\n",
      "loss_succ0.23280510306358337, loss_fail:0.22575318813323975, loss_recon:0.39247414469718933\n",
      "epoch:24500, loss:0.5240572690963745\n",
      "loss_succ0.20796136558055878, loss_fail:0.31609588861465454, loss_recon:0.4078150689601898\n",
      "epoch:24600, loss:0.433318555355072\n",
      "loss_succ0.2033575177192688, loss_fail:0.22996103763580322, loss_recon:0.41338056325912476\n",
      "epoch:24700, loss:0.42168179154396057\n",
      "loss_succ0.1989136040210724, loss_fail:0.22276818752288818, loss_recon:0.42413944005966187\n",
      "epoch:24800, loss:0.3094581961631775\n",
      "loss_succ0.1411360204219818, loss_fail:0.16832219064235687, loss_recon:0.39234408736228943\n",
      "epoch:24900, loss:0.38942861557006836\n",
      "loss_succ0.23502705991268158, loss_fail:0.15440157055854797, loss_recon:0.40152567625045776\n",
      "epoch:25000, loss:0.49922430515289307\n",
      "loss_succ0.23764440417289734, loss_fail:0.2615799009799957, loss_recon:0.41917684674263\n",
      "epoch:25100, loss:0.48962846398353577\n",
      "loss_succ0.28553950786590576, loss_fail:0.20408895611763, loss_recon:0.4154435098171234\n",
      "epoch:25200, loss:0.4876025915145874\n",
      "loss_succ0.20806638896465302, loss_fail:0.2795362174510956, loss_recon:0.3828403651714325\n",
      "epoch:25300, loss:0.5898228883743286\n",
      "loss_succ0.2662787437438965, loss_fail:0.32354414463043213, loss_recon:0.5296830534934998\n",
      "epoch:25400, loss:0.3828835189342499\n",
      "loss_succ0.1763002872467041, loss_fail:0.20658323168754578, loss_recon:0.441362202167511\n",
      "epoch:25500, loss:0.5549201965332031\n",
      "loss_succ0.31818878650665283, loss_fail:0.2367314249277115, loss_recon:0.4362623691558838\n",
      "epoch:25600, loss:0.5874037146568298\n",
      "loss_succ0.18887142837047577, loss_fail:0.39853227138519287, loss_recon:0.4004991948604584\n",
      "epoch:25700, loss:0.4212154448032379\n",
      "loss_succ0.19927307963371277, loss_fail:0.22194236516952515, loss_recon:0.3737603724002838\n",
      "epoch:25800, loss:0.5567973852157593\n",
      "loss_succ0.22548386454582214, loss_fail:0.3313135504722595, loss_recon:0.4613254964351654\n",
      "epoch:25900, loss:0.5279748439788818\n",
      "loss_succ0.29921504855155945, loss_fail:0.22875981032848358, loss_recon:0.46551400423049927\n",
      "epoch:26000, loss:0.4566231369972229\n",
      "loss_succ0.24739685654640198, loss_fail:0.20922628045082092, loss_recon:0.380410760641098\n",
      "epoch:26100, loss:0.42980051040649414\n",
      "loss_succ0.24749913811683655, loss_fail:0.1823013573884964, loss_recon:0.3569645285606384\n",
      "epoch:26200, loss:0.5211966633796692\n",
      "loss_succ0.29451799392700195, loss_fail:0.22667868435382843, loss_recon:0.3515413999557495\n",
      "epoch:26300, loss:0.46490731835365295\n",
      "loss_succ0.2016696035861969, loss_fail:0.26323771476745605, loss_recon:0.3886012136936188\n",
      "epoch:26400, loss:0.4749549627304077\n",
      "loss_succ0.21535323560237885, loss_fail:0.2596017122268677, loss_recon:0.4614512026309967\n",
      "epoch:26500, loss:0.5160578489303589\n",
      "loss_succ0.33205312490463257, loss_fail:0.18400469422340393, loss_recon:0.3741062581539154\n",
      "epoch:26600, loss:0.5553704500198364\n",
      "loss_succ0.25194114446640015, loss_fail:0.3034293055534363, loss_recon:0.39427053928375244\n",
      "epoch:26700, loss:0.4894351661205292\n",
      "loss_succ0.29308295249938965, loss_fail:0.19635221362113953, loss_recon:0.41112402081489563\n",
      "epoch:26800, loss:0.5033631920814514\n",
      "loss_succ0.272305428981781, loss_fail:0.2310577630996704, loss_recon:0.4248802065849304\n",
      "epoch:26900, loss:0.5133036375045776\n",
      "loss_succ0.2097073793411255, loss_fail:0.30359625816345215, loss_recon:0.39902082085609436\n",
      "epoch:27000, loss:0.4264804720878601\n",
      "loss_succ0.17345386743545532, loss_fail:0.2530266046524048, loss_recon:0.42378363013267517\n",
      "epoch:27100, loss:0.42524147033691406\n",
      "loss_succ0.22057077288627625, loss_fail:0.20467069745063782, loss_recon:0.37127000093460083\n",
      "epoch:27200, loss:0.4634218215942383\n",
      "loss_succ0.267941415309906, loss_fail:0.19548040628433228, loss_recon:0.43734225630760193\n",
      "epoch:27300, loss:0.42541739344596863\n",
      "loss_succ0.25772130489349365, loss_fail:0.16769608855247498, loss_recon:0.3182508647441864\n",
      "epoch:27400, loss:0.4241575598716736\n",
      "loss_succ0.18048645555973053, loss_fail:0.24367108941078186, loss_recon:0.3896176517009735\n",
      "epoch:27500, loss:0.4863491654396057\n",
      "loss_succ0.26287737488746643, loss_fail:0.22347179055213928, loss_recon:0.4292353391647339\n",
      "epoch:27600, loss:0.5693957805633545\n",
      "loss_succ0.2302672564983368, loss_fail:0.3391284942626953, loss_recon:0.4065324366092682\n",
      "epoch:27700, loss:0.5641621947288513\n",
      "loss_succ0.25892817974090576, loss_fail:0.30523401498794556, loss_recon:0.4034596383571625\n",
      "epoch:27800, loss:0.5012891292572021\n",
      "loss_succ0.22122949361801147, loss_fail:0.28005966544151306, loss_recon:0.36597326397895813\n",
      "epoch:27900, loss:0.49827882647514343\n",
      "loss_succ0.18169716000556946, loss_fail:0.316581666469574, loss_recon:0.4231005907058716\n",
      "epoch:28000, loss:0.4672180414199829\n",
      "loss_succ0.22018729150295258, loss_fail:0.24703074991703033, loss_recon:0.41383248567581177\n",
      "epoch:28100, loss:0.4345191419124603\n",
      "loss_succ0.2315194010734558, loss_fail:0.20299974083900452, loss_recon:0.3934350907802582\n",
      "epoch:28200, loss:0.4456285834312439\n",
      "loss_succ0.20707270503044128, loss_fail:0.2385558784008026, loss_recon:0.41343215107917786\n",
      "epoch:28300, loss:0.40402674674987793\n",
      "loss_succ0.19904139637947083, loss_fail:0.2049853652715683, loss_recon:0.43527746200561523\n",
      "epoch:28400, loss:0.49298346042633057\n",
      "loss_succ0.20941638946533203, loss_fail:0.28356707096099854, loss_recon:0.49572858214378357\n",
      "epoch:28500, loss:0.39853429794311523\n",
      "loss_succ0.2274850606918335, loss_fail:0.17104923725128174, loss_recon:0.4357728362083435\n",
      "epoch:28600, loss:0.4455387592315674\n",
      "loss_succ0.20432724058628082, loss_fail:0.24121153354644775, loss_recon:0.43751221895217896\n",
      "epoch:28700, loss:0.5413563251495361\n",
      "loss_succ0.37140777707099915, loss_fail:0.16994857788085938, loss_recon:0.42685210704803467\n",
      "epoch:28800, loss:0.4835418164730072\n",
      "loss_succ0.22758233547210693, loss_fail:0.25595948100090027, loss_recon:0.3414008915424347\n",
      "epoch:28900, loss:0.49065980315208435\n",
      "loss_succ0.23014599084854126, loss_fail:0.2605138123035431, loss_recon:0.42744535207748413\n",
      "epoch:29000, loss:0.40168046951293945\n",
      "loss_succ0.20851463079452515, loss_fail:0.1931658387184143, loss_recon:0.43003594875335693\n",
      "epoch:29100, loss:0.47438162565231323\n",
      "loss_succ0.2661612033843994, loss_fail:0.20822042226791382, loss_recon:0.4074082672595978\n",
      "epoch:29200, loss:0.40372827649116516\n",
      "loss_succ0.15836459398269653, loss_fail:0.24536368250846863, loss_recon:0.3974817395210266\n",
      "epoch:29300, loss:0.4791659712791443\n",
      "loss_succ0.25152480602264404, loss_fail:0.22764116525650024, loss_recon:0.36152389645576477\n",
      "epoch:29400, loss:0.49246662855148315\n",
      "loss_succ0.22216975688934326, loss_fail:0.2702968716621399, loss_recon:0.41143184900283813\n",
      "epoch:29500, loss:0.3073025941848755\n",
      "loss_succ0.13547492027282715, loss_fail:0.17182765901088715, loss_recon:0.4187594950199127\n",
      "epoch:29600, loss:0.4425070583820343\n",
      "loss_succ0.23343557119369507, loss_fail:0.20907148718833923, loss_recon:0.40335944294929504\n",
      "epoch:29700, loss:0.4000755250453949\n",
      "loss_succ0.20838525891304016, loss_fail:0.19169026613235474, loss_recon:0.4371991753578186\n",
      "epoch:29800, loss:0.6851099133491516\n",
      "loss_succ0.38452816009521484, loss_fail:0.30058175325393677, loss_recon:0.4554286301136017\n",
      "epoch:29900, loss:0.48747196793556213\n",
      "loss_succ0.19017186760902405, loss_fail:0.2973001003265381, loss_recon:0.4211041033267975\n",
      "epoch:30000, loss:0.5236785411834717\n",
      "loss_succ0.22111758589744568, loss_fail:0.3025609254837036, loss_recon:0.4231697618961334\n",
      "epoch:30100, loss:0.4044683575630188\n",
      "loss_succ0.21331989765167236, loss_fail:0.19114847481250763, loss_recon:0.3770357072353363\n",
      "epoch:30200, loss:0.4634125232696533\n",
      "loss_succ0.2938143312931061, loss_fail:0.16959819197654724, loss_recon:0.3661864995956421\n",
      "epoch:30300, loss:0.5137109756469727\n",
      "loss_succ0.24495700001716614, loss_fail:0.26875394582748413, loss_recon:0.37903153896331787\n",
      "epoch:30400, loss:0.4555336833000183\n",
      "loss_succ0.25321629643440247, loss_fail:0.20231737196445465, loss_recon:0.42056024074554443\n",
      "epoch:30500, loss:0.5201481580734253\n",
      "loss_succ0.20950016379356384, loss_fail:0.31064802408218384, loss_recon:0.4051107168197632\n",
      "epoch:30600, loss:0.4110676348209381\n",
      "loss_succ0.26305854320526123, loss_fail:0.14800909161567688, loss_recon:0.3513336479663849\n",
      "epoch:30700, loss:0.504223108291626\n",
      "loss_succ0.2561425566673279, loss_fail:0.2480805665254593, loss_recon:0.4323689341545105\n",
      "epoch:30800, loss:0.3901469111442566\n",
      "loss_succ0.20087142288684845, loss_fail:0.18927547335624695, loss_recon:0.4514857232570648\n",
      "epoch:30900, loss:0.4442182779312134\n",
      "loss_succ0.22697533667087555, loss_fail:0.21724292635917664, loss_recon:0.3879765272140503\n",
      "epoch:31000, loss:0.4421689808368683\n",
      "loss_succ0.20748227834701538, loss_fail:0.2346867024898529, loss_recon:0.39236292243003845\n",
      "epoch:31100, loss:0.46917951107025146\n",
      "loss_succ0.21201328933238983, loss_fail:0.25716620683670044, loss_recon:0.40626227855682373\n",
      "epoch:31200, loss:0.47566545009613037\n",
      "loss_succ0.20774734020233154, loss_fail:0.26791810989379883, loss_recon:0.4158982038497925\n",
      "epoch:31300, loss:0.4973602890968323\n",
      "loss_succ0.21437858045101166, loss_fail:0.2829817235469818, loss_recon:0.4029911756515503\n",
      "epoch:31400, loss:0.4418313503265381\n",
      "loss_succ0.21281859278678894, loss_fail:0.22901275753974915, loss_recon:0.3635059893131256\n",
      "epoch:31500, loss:0.4544442892074585\n",
      "loss_succ0.20694969594478607, loss_fail:0.24749457836151123, loss_recon:0.3922051787376404\n",
      "epoch:31600, loss:0.38520532846450806\n",
      "loss_succ0.191714808344841, loss_fail:0.19349052011966705, loss_recon:0.3700807988643646\n",
      "epoch:31700, loss:0.4371674358844757\n",
      "loss_succ0.21985332667827606, loss_fail:0.21731410920619965, loss_recon:0.38689687848091125\n",
      "epoch:31800, loss:0.4433859586715698\n",
      "loss_succ0.21089892089366913, loss_fail:0.2324870526790619, loss_recon:0.3683567941188812\n",
      "epoch:31900, loss:0.589688777923584\n",
      "loss_succ0.31685730814933777, loss_fail:0.2728314995765686, loss_recon:0.4096269905567169\n",
      "epoch:32000, loss:0.4020932614803314\n",
      "loss_succ0.18961697816848755, loss_fail:0.21247628331184387, loss_recon:0.3813425302505493\n",
      "epoch:32100, loss:0.4855826795101166\n",
      "loss_succ0.21760836243629456, loss_fail:0.267974317073822, loss_recon:0.437092661857605\n",
      "epoch:32200, loss:0.594890296459198\n",
      "loss_succ0.2864529490470886, loss_fail:0.3084373474121094, loss_recon:0.40336257219314575\n",
      "epoch:32300, loss:0.49720242619514465\n",
      "loss_succ0.23532798886299133, loss_fail:0.2618744373321533, loss_recon:0.42782357335090637\n",
      "epoch:32400, loss:0.3594752550125122\n",
      "loss_succ0.17907977104187012, loss_fail:0.1803954839706421, loss_recon:0.33800262212753296\n",
      "epoch:32500, loss:0.3977441191673279\n",
      "loss_succ0.16366446018218994, loss_fail:0.23407964408397675, loss_recon:0.3987344801425934\n",
      "epoch:32600, loss:0.4788287281990051\n",
      "loss_succ0.1412351280450821, loss_fail:0.33759361505508423, loss_recon:0.3758344054222107\n",
      "epoch:32700, loss:0.4237726330757141\n",
      "loss_succ0.19745241105556488, loss_fail:0.22632023692131042, loss_recon:0.43507325649261475\n",
      "epoch:32800, loss:0.4221435785293579\n",
      "loss_succ0.196415975689888, loss_fail:0.2257276177406311, loss_recon:0.408298134803772\n",
      "epoch:32900, loss:0.3502984642982483\n",
      "loss_succ0.18208996951580048, loss_fail:0.168208509683609, loss_recon:0.4068635106086731\n",
      "epoch:33000, loss:0.4570966958999634\n",
      "loss_succ0.2524741590023041, loss_fail:0.2046225368976593, loss_recon:0.4771702289581299\n",
      "epoch:33100, loss:0.4472067058086395\n",
      "loss_succ0.19637304544448853, loss_fail:0.250833660364151, loss_recon:0.47605985403060913\n",
      "epoch:33200, loss:0.5613061189651489\n",
      "loss_succ0.17935210466384888, loss_fail:0.38195401430130005, loss_recon:0.4176108241081238\n",
      "epoch:33300, loss:0.39404594898223877\n",
      "loss_succ0.24930518865585327, loss_fail:0.1447407603263855, loss_recon:0.41627442836761475\n",
      "epoch:33400, loss:0.33356964588165283\n",
      "loss_succ0.1658821403980255, loss_fail:0.16768750548362732, loss_recon:0.382186621427536\n",
      "epoch:33500, loss:0.44560903310775757\n",
      "loss_succ0.19860360026359558, loss_fail:0.24700544774532318, loss_recon:0.36138251423835754\n",
      "epoch:33600, loss:0.42576658725738525\n",
      "loss_succ0.24234941601753235, loss_fail:0.1834171861410141, loss_recon:0.4086090326309204\n",
      "epoch:33700, loss:0.516101598739624\n",
      "loss_succ0.3042892813682556, loss_fail:0.2118123173713684, loss_recon:0.40470144152641296\n",
      "epoch:33800, loss:0.43241655826568604\n",
      "loss_succ0.2112971544265747, loss_fail:0.22111938893795013, loss_recon:0.3952890932559967\n",
      "epoch:33900, loss:0.4003216326236725\n",
      "loss_succ0.21649056673049927, loss_fail:0.18383106589317322, loss_recon:0.42692652344703674\n",
      "epoch:34000, loss:0.4837697446346283\n",
      "loss_succ0.16885307431221008, loss_fail:0.3149166703224182, loss_recon:0.4104771018028259\n",
      "epoch:34100, loss:0.49047714471817017\n",
      "loss_succ0.17869742214679718, loss_fail:0.3117797374725342, loss_recon:0.44758954644203186\n",
      "epoch:34200, loss:0.49690157175064087\n",
      "loss_succ0.22999735176563263, loss_fail:0.26690423488616943, loss_recon:0.3596004843711853\n",
      "epoch:34300, loss:0.4921911954879761\n",
      "loss_succ0.2632961571216583, loss_fail:0.22889503836631775, loss_recon:0.37903937697410583\n",
      "epoch:34400, loss:0.40604788064956665\n",
      "loss_succ0.17772912979125977, loss_fail:0.2283187359571457, loss_recon:0.42779821157455444\n",
      "epoch:34500, loss:0.5329813361167908\n",
      "loss_succ0.2219861000776291, loss_fail:0.3109952211380005, loss_recon:0.381165087223053\n",
      "epoch:34600, loss:0.4675382077693939\n",
      "loss_succ0.21810945868492126, loss_fail:0.24942874908447266, loss_recon:0.3555925786495209\n",
      "epoch:34700, loss:0.4277481734752655\n",
      "loss_succ0.2097669243812561, loss_fail:0.2179812490940094, loss_recon:0.4275451600551605\n",
      "epoch:34800, loss:0.5470937490463257\n",
      "loss_succ0.22640889883041382, loss_fail:0.3206848204135895, loss_recon:0.3992559015750885\n",
      "epoch:34900, loss:0.43257924914360046\n",
      "loss_succ0.19914178550243378, loss_fail:0.2334374636411667, loss_recon:0.37385880947113037\n",
      "epoch:35000, loss:0.4940178096294403\n",
      "loss_succ0.2464255690574646, loss_fail:0.2475922405719757, loss_recon:0.3546637296676636\n",
      "epoch:35100, loss:0.6103233098983765\n",
      "loss_succ0.22561335563659668, loss_fail:0.3847099542617798, loss_recon:0.42735084891319275\n",
      "epoch:35200, loss:0.5106415748596191\n",
      "loss_succ0.2878371477127075, loss_fail:0.22280442714691162, loss_recon:0.41592156887054443\n",
      "epoch:35300, loss:0.5264626741409302\n",
      "loss_succ0.20801052451133728, loss_fail:0.3184521496295929, loss_recon:0.37836307287216187\n",
      "epoch:35400, loss:0.4114626944065094\n",
      "loss_succ0.24841448664665222, loss_fail:0.16304820775985718, loss_recon:0.44502976536750793\n",
      "epoch:35500, loss:0.5033289790153503\n",
      "loss_succ0.31241634488105774, loss_fail:0.1909126490354538, loss_recon:0.45144036412239075\n",
      "epoch:35600, loss:0.4868454337120056\n",
      "loss_succ0.22151343524456024, loss_fail:0.2653319835662842, loss_recon:0.410371333360672\n",
      "epoch:35700, loss:0.46224528551101685\n",
      "loss_succ0.19330018758773804, loss_fail:0.2689450979232788, loss_recon:0.4468922019004822\n",
      "epoch:35800, loss:0.3755084276199341\n",
      "loss_succ0.17598149180412292, loss_fail:0.19952692091464996, loss_recon:0.46401992440223694\n",
      "epoch:35900, loss:0.5588613748550415\n",
      "loss_succ0.21991610527038574, loss_fail:0.33894529938697815, loss_recon:0.4286842942237854\n",
      "epoch:36000, loss:0.42821216583251953\n",
      "loss_succ0.24236880242824554, loss_fail:0.185843363404274, loss_recon:0.3979811370372772\n",
      "epoch:36100, loss:0.5575214624404907\n",
      "loss_succ0.21985462307929993, loss_fail:0.3376668095588684, loss_recon:0.3784326910972595\n",
      "epoch:36200, loss:0.43463993072509766\n",
      "loss_succ0.21871978044509888, loss_fail:0.21592016518115997, loss_recon:0.47227656841278076\n",
      "epoch:36300, loss:0.4278870224952698\n",
      "loss_succ0.148173987865448, loss_fail:0.2797130346298218, loss_recon:0.3919444978237152\n",
      "epoch:36400, loss:0.398610383272171\n",
      "loss_succ0.1604442298412323, loss_fail:0.23816615343093872, loss_recon:0.39961883425712585\n",
      "epoch:36500, loss:0.43076735734939575\n",
      "loss_succ0.18371109664440155, loss_fail:0.2470562756061554, loss_recon:0.4073118567466736\n",
      "epoch:36600, loss:0.4957520365715027\n",
      "loss_succ0.2791483998298645, loss_fail:0.216603621840477, loss_recon:0.4351007342338562\n",
      "epoch:36700, loss:0.45187047123908997\n",
      "loss_succ0.24311469495296478, loss_fail:0.20875577628612518, loss_recon:0.3416631817817688\n",
      "epoch:36800, loss:0.36028653383255005\n",
      "loss_succ0.12458402663469315, loss_fail:0.2357025146484375, loss_recon:0.4290313720703125\n",
      "epoch:36900, loss:0.3812977075576782\n",
      "loss_succ0.17957954108715057, loss_fail:0.20171815156936646, loss_recon:0.5128094553947449\n",
      "epoch:37000, loss:0.4503583312034607\n",
      "loss_succ0.23981142044067383, loss_fail:0.21054691076278687, loss_recon:0.3502544164657593\n",
      "epoch:37100, loss:0.5118757486343384\n",
      "loss_succ0.22108733654022217, loss_fail:0.2907883822917938, loss_recon:0.375894159078598\n",
      "epoch:37200, loss:0.44665205478668213\n",
      "loss_succ0.18817752599716187, loss_fail:0.25847452878952026, loss_recon:0.4129032492637634\n",
      "epoch:37300, loss:0.47543197870254517\n",
      "loss_succ0.16979125142097473, loss_fail:0.30564072728157043, loss_recon:0.41279932856559753\n",
      "epoch:37400, loss:0.3975222408771515\n",
      "loss_succ0.181735098361969, loss_fail:0.2157871425151825, loss_recon:0.392831414937973\n",
      "epoch:37500, loss:0.37622371315956116\n",
      "loss_succ0.18947315216064453, loss_fail:0.18675056099891663, loss_recon:0.3720775246620178\n",
      "epoch:37600, loss:0.5734520554542542\n",
      "loss_succ0.2535182237625122, loss_fail:0.31993383169174194, loss_recon:0.3836118280887604\n",
      "epoch:37700, loss:0.4463927447795868\n",
      "loss_succ0.2176133692264557, loss_fail:0.2287793755531311, loss_recon:0.424125075340271\n",
      "epoch:37800, loss:0.5597677230834961\n",
      "loss_succ0.22488626837730408, loss_fail:0.33488142490386963, loss_recon:0.46118173003196716\n",
      "epoch:37900, loss:0.47273868322372437\n",
      "loss_succ0.17329517006874084, loss_fail:0.2994435131549835, loss_recon:0.429165780544281\n",
      "epoch:38000, loss:0.4134484529495239\n",
      "loss_succ0.2004469484090805, loss_fail:0.21300148963928223, loss_recon:0.37986013293266296\n",
      "epoch:38100, loss:0.4909592568874359\n",
      "loss_succ0.204965740442276, loss_fail:0.2859935164451599, loss_recon:0.4488578140735626\n",
      "epoch:38200, loss:0.34443289041519165\n",
      "loss_succ0.17494487762451172, loss_fail:0.16948799788951874, loss_recon:0.36841461062431335\n",
      "epoch:38300, loss:0.39190050959587097\n",
      "loss_succ0.21214093267917633, loss_fail:0.17975957691669464, loss_recon:0.4182710349559784\n",
      "epoch:38400, loss:0.47963690757751465\n",
      "loss_succ0.220374196767807, loss_fail:0.25926271080970764, loss_recon:0.3925561308860779\n",
      "epoch:38500, loss:0.40286606550216675\n",
      "loss_succ0.1615166962146759, loss_fail:0.24134936928749084, loss_recon:0.37374255061149597\n",
      "epoch:38600, loss:0.442135214805603\n",
      "loss_succ0.22723396122455597, loss_fail:0.21490126848220825, loss_recon:0.41740602254867554\n",
      "epoch:38700, loss:0.43553978204727173\n",
      "loss_succ0.2120899260044098, loss_fail:0.22344987094402313, loss_recon:0.40645429491996765\n",
      "epoch:38800, loss:0.47789672017097473\n",
      "loss_succ0.22744107246398926, loss_fail:0.2504556477069855, loss_recon:0.4338533282279968\n",
      "epoch:38900, loss:0.38929474353790283\n",
      "loss_succ0.18863657116889954, loss_fail:0.2006581723690033, loss_recon:0.4208105802536011\n",
      "epoch:39000, loss:0.4352121651172638\n",
      "loss_succ0.23342035710811615, loss_fail:0.20179180800914764, loss_recon:0.38691890239715576\n",
      "epoch:39100, loss:0.4590798616409302\n",
      "loss_succ0.18878018856048584, loss_fail:0.27029967308044434, loss_recon:0.4137316048145294\n",
      "epoch:39200, loss:0.4255578815937042\n",
      "loss_succ0.19242987036705017, loss_fail:0.23312801122665405, loss_recon:0.4085405468940735\n",
      "epoch:39300, loss:0.4164004623889923\n",
      "loss_succ0.23819845914840698, loss_fail:0.17820200324058533, loss_recon:0.3937225639820099\n",
      "epoch:39400, loss:0.4499591886997223\n",
      "loss_succ0.19407817721366882, loss_fail:0.25588101148605347, loss_recon:0.42275330424308777\n",
      "epoch:39500, loss:0.43740200996398926\n",
      "loss_succ0.1780978888273239, loss_fail:0.25930410623550415, loss_recon:0.4115001857280731\n",
      "epoch:39600, loss:0.36927035450935364\n",
      "loss_succ0.20278950035572052, loss_fail:0.16648085415363312, loss_recon:0.3920138478279114\n",
      "epoch:39700, loss:0.4039250314235687\n",
      "loss_succ0.17486217617988586, loss_fail:0.22906285524368286, loss_recon:0.3470965325832367\n",
      "epoch:39800, loss:0.5013769865036011\n",
      "loss_succ0.2082897573709488, loss_fail:0.2930872440338135, loss_recon:0.39230650663375854\n",
      "epoch:39900, loss:0.3210514187812805\n",
      "loss_succ0.19792145490646362, loss_fail:0.1231299638748169, loss_recon:0.3462074398994446\n",
      "epoch:40000, loss:0.4207588732242584\n",
      "loss_succ0.1578599214553833, loss_fail:0.2628989517688751, loss_recon:0.388116717338562\n",
      "epoch:40100, loss:0.35567212104797363\n",
      "loss_succ0.18897423148155212, loss_fail:0.1666978895664215, loss_recon:0.37416356801986694\n",
      "epoch:40200, loss:0.4746907353401184\n",
      "loss_succ0.2025039941072464, loss_fail:0.2721867561340332, loss_recon:0.36131951212882996\n",
      "epoch:40300, loss:0.36883270740509033\n",
      "loss_succ0.18041951954364777, loss_fail:0.18841320276260376, loss_recon:0.3781997561454773\n",
      "epoch:40400, loss:0.41611340641975403\n",
      "loss_succ0.24863851070404053, loss_fail:0.1674748957157135, loss_recon:0.4360335171222687\n",
      "epoch:40500, loss:0.3605767488479614\n",
      "loss_succ0.15408821403980255, loss_fail:0.20648854970932007, loss_recon:0.4372640550136566\n",
      "epoch:40600, loss:0.36428049206733704\n",
      "loss_succ0.17920850217342377, loss_fail:0.18507198989391327, loss_recon:0.42856210470199585\n",
      "epoch:40700, loss:0.4272948205471039\n",
      "loss_succ0.1901732087135315, loss_fail:0.2371216118335724, loss_recon:0.41397467255592346\n",
      "epoch:40800, loss:0.4696311950683594\n",
      "loss_succ0.19913770258426666, loss_fail:0.2704935073852539, loss_recon:0.37953534722328186\n",
      "epoch:40900, loss:0.38398948311805725\n",
      "loss_succ0.22676295042037964, loss_fail:0.1572265326976776, loss_recon:0.3536359667778015\n",
      "epoch:41000, loss:0.4147045910358429\n",
      "loss_succ0.234861820936203, loss_fail:0.1798427700996399, loss_recon:0.35642966628074646\n",
      "epoch:41100, loss:0.366073876619339\n",
      "loss_succ0.1518837809562683, loss_fail:0.21419009566307068, loss_recon:0.36001282930374146\n",
      "epoch:41200, loss:0.39438849687576294\n",
      "loss_succ0.1253884881734848, loss_fail:0.26899999380111694, loss_recon:0.43958908319473267\n",
      "epoch:41300, loss:0.4910856783390045\n",
      "loss_succ0.2942454516887665, loss_fail:0.19684022665023804, loss_recon:0.4301474690437317\n",
      "epoch:41400, loss:0.4784785211086273\n",
      "loss_succ0.16958561539649963, loss_fail:0.3088929057121277, loss_recon:0.3776281177997589\n",
      "epoch:41500, loss:0.4590735137462616\n",
      "loss_succ0.2392202913761139, loss_fail:0.2198532223701477, loss_recon:0.35960710048675537\n",
      "epoch:41600, loss:0.38350528478622437\n",
      "loss_succ0.21774516999721527, loss_fail:0.1657600998878479, loss_recon:0.4209037125110626\n",
      "epoch:41700, loss:0.4313843250274658\n",
      "loss_succ0.1843172162771225, loss_fail:0.24706712365150452, loss_recon:0.4362232983112335\n",
      "epoch:41800, loss:0.38972747325897217\n",
      "loss_succ0.16649667918682098, loss_fail:0.22323077917099, loss_recon:0.40411362051963806\n",
      "epoch:41900, loss:0.45250868797302246\n",
      "loss_succ0.21415697038173676, loss_fail:0.2383517026901245, loss_recon:0.40555059909820557\n",
      "epoch:42000, loss:0.3479273319244385\n",
      "loss_succ0.17961052060127258, loss_fail:0.1683167964220047, loss_recon:0.384288489818573\n",
      "epoch:42100, loss:0.3938792049884796\n",
      "loss_succ0.19906514883041382, loss_fail:0.1948140561580658, loss_recon:0.3937419652938843\n",
      "epoch:42200, loss:0.43469297885894775\n",
      "loss_succ0.18249964714050293, loss_fail:0.2521933317184448, loss_recon:0.412812203168869\n",
      "epoch:42300, loss:0.36265113949775696\n",
      "loss_succ0.16419431567192078, loss_fail:0.19845682382583618, loss_recon:0.39127466082572937\n",
      "epoch:42400, loss:0.5088324546813965\n",
      "loss_succ0.29962480068206787, loss_fail:0.209207683801651, loss_recon:0.42638978362083435\n",
      "epoch:42500, loss:0.42115500569343567\n",
      "loss_succ0.15658047795295715, loss_fail:0.2645745277404785, loss_recon:0.427582710981369\n",
      "epoch:42600, loss:0.42434072494506836\n",
      "loss_succ0.2338283360004425, loss_fail:0.19051238894462585, loss_recon:0.42044416069984436\n",
      "epoch:42700, loss:0.41352909803390503\n",
      "loss_succ0.22056925296783447, loss_fail:0.19295984506607056, loss_recon:0.34783869981765747\n",
      "epoch:42800, loss:0.4250018894672394\n",
      "loss_succ0.1925802230834961, loss_fail:0.2324216663837433, loss_recon:0.4043058753013611\n",
      "epoch:42900, loss:0.37237951159477234\n",
      "loss_succ0.17363600432872772, loss_fail:0.19874350726604462, loss_recon:0.4128764271736145\n",
      "epoch:43000, loss:0.4699101448059082\n",
      "loss_succ0.2205047607421875, loss_fail:0.2494053840637207, loss_recon:0.35455426573753357\n",
      "epoch:43100, loss:0.4450216293334961\n",
      "loss_succ0.23802193999290466, loss_fail:0.20699967443943024, loss_recon:0.3840878903865814\n",
      "epoch:43200, loss:0.4428260922431946\n",
      "loss_succ0.22960305213928223, loss_fail:0.21322302520275116, loss_recon:0.41834792494773865\n",
      "epoch:43300, loss:0.47614970803260803\n",
      "loss_succ0.2227986752986908, loss_fail:0.25335103273391724, loss_recon:0.44640788435935974\n",
      "epoch:43400, loss:0.4059772789478302\n",
      "loss_succ0.17441213130950928, loss_fail:0.23156514763832092, loss_recon:0.32914769649505615\n",
      "epoch:43500, loss:0.42517536878585815\n",
      "loss_succ0.18294677138328552, loss_fail:0.24222861230373383, loss_recon:0.36021384596824646\n",
      "epoch:43600, loss:0.3840669095516205\n",
      "loss_succ0.1617245376110077, loss_fail:0.2223423719406128, loss_recon:0.3667305111885071\n",
      "epoch:43700, loss:0.5083234310150146\n",
      "loss_succ0.2550950050354004, loss_fail:0.25322842597961426, loss_recon:0.3907047212123871\n",
      "epoch:43800, loss:0.3714580237865448\n",
      "loss_succ0.17885854840278625, loss_fail:0.19259947538375854, loss_recon:0.41002389788627625\n",
      "epoch:43900, loss:0.4232974350452423\n",
      "loss_succ0.12783482670783997, loss_fail:0.29546260833740234, loss_recon:0.38626828789711\n",
      "epoch:44000, loss:0.43531522154808044\n",
      "loss_succ0.22982549667358398, loss_fail:0.20548972487449646, loss_recon:0.3972220718860626\n",
      "epoch:44100, loss:0.3773168921470642\n",
      "loss_succ0.28096404671669006, loss_fail:0.09635286033153534, loss_recon:0.36456695199012756\n",
      "epoch:44200, loss:0.4489254057407379\n",
      "loss_succ0.19270935654640198, loss_fail:0.25621604919433594, loss_recon:0.5081612467765808\n",
      "epoch:44300, loss:0.4531232714653015\n",
      "loss_succ0.24195149540901184, loss_fail:0.21117179095745087, loss_recon:0.41837456822395325\n",
      "epoch:44400, loss:0.42935118079185486\n",
      "loss_succ0.21176591515541077, loss_fail:0.2175852656364441, loss_recon:0.39140695333480835\n",
      "epoch:44500, loss:0.4766387641429901\n",
      "loss_succ0.24501386284828186, loss_fail:0.23162490129470825, loss_recon:0.36074158549308777\n",
      "epoch:44600, loss:0.5172746777534485\n",
      "loss_succ0.289006769657135, loss_fail:0.22826790809631348, loss_recon:0.393943190574646\n",
      "epoch:44700, loss:0.4893297553062439\n",
      "loss_succ0.20321162045001984, loss_fail:0.28611811995506287, loss_recon:0.3827122151851654\n",
      "epoch:44800, loss:0.3833514451980591\n",
      "loss_succ0.14913195371627808, loss_fail:0.234219491481781, loss_recon:0.4517601430416107\n",
      "epoch:44900, loss:0.495321661233902\n",
      "loss_succ0.207518070936203, loss_fail:0.287803590297699, loss_recon:0.4276326298713684\n",
      "epoch:45000, loss:0.4086226522922516\n",
      "loss_succ0.15530213713645935, loss_fail:0.25332051515579224, loss_recon:0.39043837785720825\n",
      "epoch:45100, loss:0.419419527053833\n",
      "loss_succ0.25224652886390686, loss_fail:0.16717298328876495, loss_recon:0.37560275197029114\n",
      "epoch:45200, loss:0.3544505536556244\n",
      "loss_succ0.2262202501296997, loss_fail:0.12823030352592468, loss_recon:0.3815675973892212\n",
      "epoch:45300, loss:0.4734916388988495\n",
      "loss_succ0.22963033616542816, loss_fail:0.24386130273342133, loss_recon:0.4110338091850281\n",
      "epoch:45400, loss:0.4540562033653259\n",
      "loss_succ0.2187434285879135, loss_fail:0.23531275987625122, loss_recon:0.292840838432312\n",
      "epoch:45500, loss:0.3521202504634857\n",
      "loss_succ0.15832915902137756, loss_fail:0.19379109144210815, loss_recon:0.35998257994651794\n",
      "epoch:45600, loss:0.46869993209838867\n",
      "loss_succ0.2762075960636139, loss_fail:0.19249235093593597, loss_recon:0.37998902797698975\n",
      "epoch:45700, loss:0.458044171333313\n",
      "loss_succ0.23488284647464752, loss_fail:0.22316130995750427, loss_recon:0.39120128750801086\n",
      "epoch:45800, loss:0.4322427213191986\n",
      "loss_succ0.23436903953552246, loss_fail:0.19787368178367615, loss_recon:0.3662082850933075\n",
      "epoch:45900, loss:0.41677314043045044\n",
      "loss_succ0.22175103425979614, loss_fail:0.1950221061706543, loss_recon:0.3430488705635071\n",
      "epoch:46000, loss:0.42763182520866394\n",
      "loss_succ0.17296621203422546, loss_fail:0.2546656131744385, loss_recon:0.392969012260437\n",
      "epoch:46100, loss:0.4212237596511841\n",
      "loss_succ0.2210630476474762, loss_fail:0.20016072690486908, loss_recon:0.410746306180954\n",
      "epoch:46200, loss:0.46313291788101196\n",
      "loss_succ0.2469651997089386, loss_fail:0.21616773307323456, loss_recon:0.36467185616493225\n",
      "epoch:46300, loss:0.3656584620475769\n",
      "loss_succ0.2370278537273407, loss_fail:0.1286306083202362, loss_recon:0.3624593913555145\n",
      "epoch:46400, loss:0.4773489832878113\n",
      "loss_succ0.24562616646289825, loss_fail:0.23172280192375183, loss_recon:0.3997018039226532\n",
      "epoch:46500, loss:0.39319849014282227\n",
      "loss_succ0.20370624959468842, loss_fail:0.18949225544929504, loss_recon:0.36286500096321106\n",
      "epoch:46600, loss:0.4038439989089966\n",
      "loss_succ0.2507780194282532, loss_fail:0.15306596457958221, loss_recon:0.3643893599510193\n",
      "epoch:46700, loss:0.5030084252357483\n",
      "loss_succ0.2519747018814087, loss_fail:0.2510337233543396, loss_recon:0.3948027193546295\n",
      "epoch:46800, loss:0.42512020468711853\n",
      "loss_succ0.26008105278015137, loss_fail:0.16503915190696716, loss_recon:0.38532334566116333\n",
      "epoch:46900, loss:0.34587928652763367\n",
      "loss_succ0.18222001194953918, loss_fail:0.16365927457809448, loss_recon:0.40890607237815857\n",
      "epoch:47000, loss:0.43947774171829224\n",
      "loss_succ0.18659307062625885, loss_fail:0.2528846859931946, loss_recon:0.36818283796310425\n",
      "epoch:47100, loss:0.44222575426101685\n",
      "loss_succ0.18057197332382202, loss_fail:0.2616537809371948, loss_recon:0.39216282963752747\n",
      "epoch:47200, loss:0.37024182081222534\n",
      "loss_succ0.13608600199222565, loss_fail:0.2341558337211609, loss_recon:0.3523951470851898\n",
      "epoch:47300, loss:0.40429162979125977\n",
      "loss_succ0.20620910823345184, loss_fail:0.19808253645896912, loss_recon:0.34895822405815125\n",
      "epoch:47400, loss:0.34307748079299927\n",
      "loss_succ0.14553189277648926, loss_fail:0.19754558801651, loss_recon:0.3418731987476349\n",
      "epoch:47500, loss:0.4430033564567566\n",
      "loss_succ0.20970599353313446, loss_fail:0.23329737782478333, loss_recon:0.40396222472190857\n",
      "epoch:47600, loss:0.3568539619445801\n",
      "loss_succ0.17851561307907104, loss_fail:0.17833834886550903, loss_recon:0.34846436977386475\n",
      "epoch:47700, loss:0.41344624757766724\n",
      "loss_succ0.17635872960090637, loss_fail:0.23708751797676086, loss_recon:0.39593303203582764\n",
      "epoch:47800, loss:0.35671350359916687\n",
      "loss_succ0.20558026432991028, loss_fail:0.1511332392692566, loss_recon:0.38494986295700073\n",
      "epoch:47900, loss:0.44591620564460754\n",
      "loss_succ0.1667066216468811, loss_fail:0.27920958399772644, loss_recon:0.4291776418685913\n",
      "epoch:48000, loss:0.4248993396759033\n",
      "loss_succ0.24614033102989197, loss_fail:0.17875900864601135, loss_recon:0.4242863357067108\n",
      "epoch:48100, loss:0.33958664536476135\n",
      "loss_succ0.15087579190731049, loss_fail:0.18871085345745087, loss_recon:0.40270814299583435\n",
      "epoch:48200, loss:0.43181025981903076\n",
      "loss_succ0.20617537200450897, loss_fail:0.22563490271568298, loss_recon:0.47232064604759216\n",
      "epoch:48300, loss:0.3372480571269989\n",
      "loss_succ0.16232430934906006, loss_fail:0.17492374777793884, loss_recon:0.373735636472702\n",
      "epoch:48400, loss:0.36963123083114624\n",
      "loss_succ0.20668452978134155, loss_fail:0.1629467010498047, loss_recon:0.3864396810531616\n",
      "epoch:48500, loss:0.5213152170181274\n",
      "loss_succ0.22761867940425873, loss_fail:0.2936965227127075, loss_recon:0.3921639025211334\n",
      "epoch:48600, loss:0.4576045274734497\n",
      "loss_succ0.23029597103595734, loss_fail:0.22730854153633118, loss_recon:0.3799965977668762\n",
      "epoch:48700, loss:0.3295348286628723\n",
      "loss_succ0.14730952680110931, loss_fail:0.1822253167629242, loss_recon:0.3950454890727997\n",
      "epoch:48800, loss:0.37160736322402954\n",
      "loss_succ0.1648358255624771, loss_fail:0.20677155256271362, loss_recon:0.4030646085739136\n"
     ]
    },
    {
     "ename": "KeyboardInterrupt",
     "evalue": "",
     "output_type": "error",
     "traceback": [
      "\u001b[0;31m---------------------------------------------------------------------------\u001b[0m",
      "\u001b[0;31mKeyboardInterrupt\u001b[0m                         Traceback (most recent call last)",
      "Cell \u001b[0;32mIn[685], line 3\u001b[0m\n\u001b[1;32m      1\u001b[0m \u001b[39mfor\u001b[39;00m epoch \u001b[39min\u001b[39;00m \u001b[39mrange\u001b[39m(\u001b[39m50000\u001b[39m):\n\u001b[1;32m      2\u001b[0m     qs \u001b[39m=\u001b[39m qs \u001b[39m=\u001b[39m generate_random_joints(\u001b[39m128\u001b[39m)\n\u001b[0;32m----> 3\u001b[0m     x_succ, x_fail \u001b[39m=\u001b[39m get_batch_samples(qs)\n\u001b[1;32m      4\u001b[0m     state, loss, loss_succ, loss_fail \u001b[39m=\u001b[39m training_step(state, x_succ, x_fail)\n\u001b[1;32m      5\u001b[0m     state_recon, loss_recon \u001b[39m=\u001b[39m training_step_recon(state_recon, x_succ, qs)\n",
      "\u001b[0;31mKeyboardInterrupt\u001b[0m: "
     ]
    }
   ],
   "source": [
    "for epoch in range(50000):\n",
    "    qs = qs = generate_random_joints(128)\n",
    "    x_succ, x_fail = get_batch_samples(qs)\n",
    "    state, loss, loss_succ, loss_fail = training_step(state, x_succ, x_fail)\n",
    "    state_recon, loss_recon = training_step_recon(state_recon, x_succ, qs)\n",
    "    if epoch % 100 == 0:\n",
    "        print(f\"epoch:{epoch}, loss:{loss}\")\n",
    "        print(f\"loss_succ{loss_succ}, loss_fail:{loss_fail}, loss_recon:{loss_recon}\")\n",
    "        #print(f\"loss_succ{loss_succ}, loss_fail:{loss_fail}\")"
   ]
  },
  {
   "cell_type": "code",
   "execution_count": 686,
   "metadata": {},
   "outputs": [],
   "source": [
    "trained_param = state.params"
   ]
  },
  {
   "cell_type": "code",
   "execution_count": 687,
   "metadata": {},
   "outputs": [],
   "source": [
    "#show_fk(panda_model.neutral)\n",
    "x = generate_successful_sample(panda_model.neutral[:7])\n",
    "ee_pose = SE3(x[:7])\n",
    "p_ee = x[4:7]\n",
    "p_elbow = x[7:10]\n",
    "p_wrist = x[10:13]\n",
    "ee_z = ee_pose.as_matrix()[:3, 2]\n",
    "proj_wrist = jnp.dot(p_ee-p_wrist, ee_z)"
   ]
  },
  {
   "cell_type": "code",
   "execution_count": 688,
   "metadata": {},
   "outputs": [],
   "source": [
    "from sdf_world.nlp import *"
   ]
  },
  {
   "cell_type": "code",
   "execution_count": 711,
   "metadata": {},
   "outputs": [],
   "source": [
    "prob = NLP()\n",
    "lb = jnp.hstack([-1, -1, -1, -1, ws_lb, ws_lb, ws_lb])\n",
    "ub = jnp.hstack([1, 1, 1, 1, ws_ub, ws_ub, ws_ub])\n",
    "prob.add_var(\"x\", 13, lb, ub)"
   ]
  },
  {
   "cell_type": "code",
   "execution_count": 712,
   "metadata": {},
   "outputs": [],
   "source": [
    "#generate prob\n",
    "q = generate_random_joints(1)[0]\n",
    "x = generate_successful_sample(q)\n",
    "ee_pose_target = SE3(x[:7])\n",
    "show_fk(q)"
   ]
  },
  {
   "cell_type": "code",
   "execution_count": 713,
   "metadata": {},
   "outputs": [],
   "source": [
    "def geometric_error(x):\n",
    "    ee_pose = SE3(x[:7]).normalize()\n",
    "    p_ee = x[4:7]\n",
    "    p_elbow = x[7:10]\n",
    "    p_wrist = x[10:13]\n",
    "    #wrist\n",
    "    ee_z = ee_pose.as_matrix()[:3, 2]\n",
    "    err_proj_wrist = (jnp.dot(p_ee-p_wrist, ee_z) - proj_wrist)\n",
    "    err_upper_arm = (safe_2norm(p_shoulder - p_elbow) - upper_arm_len)\n",
    "    err_lower_arm = (safe_2norm(p_elbow - p_wrist) - lower_arm_len)\n",
    "    err_hand = (safe_2norm(p_wrist - p_ee) - hand_len)\n",
    "    err = jnp.hstack([err_proj_wrist, err_upper_arm, err_lower_arm,err_hand])\n",
    "    return jnp.abs(err).max()\n",
    "def kinematic_feasibility(x):\n",
    "    ee_pose = SE3(x[:7]).normalize()\n",
    "    x = jnp.hstack([ee_pose.parameters(), x[7:]])\n",
    "    logit = model.apply(trained_param, x)\n",
    "    return logit\n",
    "def IKerror(x):\n",
    "    ee_pose = SE3(x[:7]).normalize()\n",
    "    err = safe_2norm((ee_pose_target.inverse()@ee_pose).log())\n",
    "    return err\n",
    "\n",
    "prob.add_objective(lambda x: jnp.array(0.))\n",
    "prob.add_con(\"geom\", 1, [\"x\"], geometric_error, 0.)\n",
    "prob.add_con(\"kin\", 1, [\"x\"], kinematic_feasibility, lower=0.)\n",
    "prob.add_con(\"ikerr\", 1, [\"x\"], IKerror, eq=0.)\n"
   ]
  },
  {
   "cell_type": "code",
   "execution_count": 714,
   "metadata": {},
   "outputs": [],
   "source": [
    "prob.build()"
   ]
  },
  {
   "cell_type": "code",
   "execution_count": 715,
   "metadata": {},
   "outputs": [
    {
     "name": "stdout",
     "output_type": "stream",
     "text": [
      "This is Ipopt version 3.14.10, running with linear solver MUMPS 5.2.1.\n",
      "\n",
      "Number of nonzeros in equality constraint Jacobian...:       26\n",
      "Number of nonzeros in inequality constraint Jacobian.:       13\n",
      "Number of nonzeros in Lagrangian Hessian.............:        0\n",
      "\n",
      "Total number of variables............................:       13\n",
      "                     variables with only lower bounds:        0\n",
      "                variables with lower and upper bounds:       13\n",
      "                     variables with only upper bounds:        0\n",
      "Total number of equality constraints.................:        2\n",
      "Total number of inequality constraints...............:        1\n",
      "        inequality constraints with only lower bounds:        1\n",
      "   inequality constraints with lower and upper bounds:        0\n",
      "        inequality constraints with only upper bounds:        0\n",
      "\n",
      "iter    objective    inf_pr   inf_du lg(mu)  ||d||  lg(rg) alpha_du alpha_pr  ls\n",
      "   0  0.0000000e+00 1.68e+00 9.99e-01   0.0 0.00e+00    -  0.00e+00 0.00e+00   0\n",
      "   1  0.0000000e+00 2.37e+00 7.80e+00  -0.1 1.42e+00    -  1.31e-01 9.71e-01f  1\n",
      "   2  0.0000000e+00 9.69e-01 8.62e+00  -0.1 8.83e-01    -  8.32e-01 6.36e-01H  1\n",
      "   3  0.0000000e+00 7.30e-01 7.07e+00  -0.1 6.98e+00    -  9.60e-01 1.00e+00f  1\n",
      "   4  0.0000000e+00 4.19e-01 6.97e+00  -0.8 9.08e+00    -  7.05e-01 1.00e+00h  1\n",
      "   5  0.0000000e+00 2.43e-01 4.28e+00  -0.8 1.02e+01    -  1.00e+00 1.00e+00h  1\n",
      "   6  0.0000000e+00 2.34e-01 6.97e+00  -1.0 6.91e+00    -  9.97e-01 1.00e+00h  1\n",
      "   7  0.0000000e+00 1.98e-01 8.04e+00  -1.1 5.83e+00    -  1.00e+00 1.00e+00h  1\n",
      "   8  0.0000000e+00 2.02e-01 3.97e+00  -1.1 1.80e+00    -  1.00e+00 1.00e+00h  1\n",
      "   9  0.0000000e+00 1.05e-01 3.05e+00  -1.1 5.86e+00    -  1.00e+00 1.00e+00h  1\n",
      "iter    objective    inf_pr   inf_du lg(mu)  ||d||  lg(rg) alpha_du alpha_pr  ls\n",
      "  10  0.0000000e+00 5.98e-02 4.51e+00  -1.7 1.61e+00    -  1.00e+00 1.00e+00h  1\n",
      "  11  0.0000000e+00 9.12e-02 3.99e+00  -1.8 4.43e+00    -  1.00e+00 1.00e+00h  1\n",
      "  12  0.0000000e+00 4.86e-02 4.07e+00  -1.8 7.88e+00    -  1.00e+00 5.00e-01h  2\n",
      "  13  0.0000000e+00 5.01e-02 1.67e+00  -1.8 1.65e+00    -  1.00e+00 1.00e+00h  1\n",
      "  14  0.0000000e+00 3.88e-02 1.57e+00  -1.8 1.42e+00    -  1.00e+00 2.50e-01h  3\n",
      "  15  0.0000000e+00 2.98e-02 1.23e+00  -1.8 1.07e+00    -  1.00e+00 2.50e-01h  3\n",
      "  16  0.0000000e+00 2.63e-02 9.33e-01  -1.8 7.49e-01    -  1.00e+00 1.25e-01h  4\n",
      "  17  0.0000000e+00 2.21e-02 2.06e+00  -1.8 2.38e-01    -  1.00e+00 2.50e-01h  3\n",
      "  18  0.0000000e+00 2.58e-02 5.47e+00  -1.8 5.12e-01    -  1.00e+00 5.00e-01h  2\n",
      "  19  0.0000000e+00 2.15e-02 6.21e+00  -1.8 2.58e+00    -  1.00e+00 2.50e-01h  3\n",
      "iter    objective    inf_pr   inf_du lg(mu)  ||d||  lg(rg) alpha_du alpha_pr  ls\n",
      "  20  0.0000000e+00 1.82e-02 5.61e+00  -1.8 8.36e-01    -  1.00e+00 2.50e-01h  3\n",
      "  21  0.0000000e+00 2.53e-02 7.87e+00  -1.8 8.28e-01    -  1.00e+00 1.00e+00h  1\n",
      "  22  0.0000000e+00 1.50e-02 1.42e+01  -2.5 3.92e-01    -  1.00e+00 1.00e+00h  1\n",
      "  23  0.0000000e+00 1.76e-01 7.88e+00  -2.6 2.42e+00    -  1.00e+00 9.85e-01h  1\n",
      "  24  0.0000000e+00 3.04e-02 1.37e+01  -2.6 1.64e+00    -  1.00e+00 1.00e+00f  1\n",
      "  25  0.0000000e+00 6.77e-02 8.81e+00  -2.6 4.75e-01    -  1.00e+00 1.00e+00H  1\n",
      "  26  0.0000000e+00 5.19e-02 9.39e+00  -3.8 3.87e-01    -  1.00e+00 2.50e-01h  3\n",
      "  27  0.0000000e+00 4.26e-02 5.59e-01  -5.2 2.51e-02    -  8.91e-01 1.00e+00H  1\n",
      "  28  0.0000000e+00 5.23e-02 9.11e-01  -4.6 7.93e-01    -  1.00e+00 9.35e-01h  1\n",
      "  29  0.0000000e+00 1.57e-02 1.02e+00  -4.6 7.88e-02    -  5.60e-02 1.00e+00h  1\n",
      "iter    objective    inf_pr   inf_du lg(mu)  ||d||  lg(rg) alpha_du alpha_pr  ls\n",
      "  30  0.0000000e+00 1.56e-02 1.02e+00  -3.2 7.49e-02    -  1.00e+00 7.81e-03h  8\n",
      "  31  0.0000000e+00 8.77e-03 1.07e+00  -2.6 2.88e-01    -  1.00e+00 1.00e+00h  1\n",
      "  32  0.0000000e+00 1.86e-02 3.48e-01  -3.9 1.54e-01    -  1.00e+00 1.00e+00h  1\n",
      "  33  0.0000000e+00 6.93e-03 1.52e-01  -3.9 8.94e-02    -  1.00e+00 1.00e+00h  1\n",
      "  34  0.0000000e+00 4.27e-03 2.86e-01  -5.5 6.24e-02    -  1.00e+00 5.00e-01h  2\n",
      "  35  0.0000000e+00 4.14e-03 2.90e-01  -7.0 1.95e-01    -  1.00e+00 6.25e-02h  5\n",
      "  36  0.0000000e+00 4.01e-03 3.00e-01  -8.8 1.25e-01    -  1.00e+00 3.12e-02h  6\n",
      "  37  0.0000000e+00 3.89e-03 2.93e-01  -9.4 1.44e-01    -  1.00e+00 3.12e-02h  6\n",
      "  38  0.0000000e+00 2.42e-03 1.15e-01 -11.0 1.08e-01    -  1.00e+00 5.00e-01h  2\n",
      "  39  0.0000000e+00 2.17e-03 1.05e-01 -11.0 1.07e-01    -  1.00e+00 1.25e-01h  4\n",
      "iter    objective    inf_pr   inf_du lg(mu)  ||d||  lg(rg) alpha_du alpha_pr  ls\n",
      "  40  0.0000000e+00 2.05e-03 1.21e-01 -11.0 1.58e-01    -  1.00e+00 6.25e-02h  5\n",
      "  41  0.0000000e+00 1.90e-03 1.18e-01  -6.4 2.85e-01    -  1.00e+00 1.50e-01h  3\n",
      "  42  0.0000000e+00 1.72e-03 1.13e-01  -4.4 1.65e-01    -  1.00e+00 9.71e-02h  4\n",
      "  43  0.0000000e+00 1.41e-03 3.81e-02  -6.1 8.45e-02    -  1.00e+00 1.00e+00h  1\n",
      "elapsed: 0.214230999999927\n",
      "  44  0.0000000e+00 1.02e-03 3.38e-02  -7.9 2.12e-03    -  1.00e+00 5.00e-01h  2\n",
      "\n",
      "Number of Iterations....: 44\n",
      "\n",
      "                                   (scaled)                 (unscaled)\n",
      "Objective...............:   0.0000000000000000e+00    0.0000000000000000e+00\n",
      "Dual infeasibility......:   3.3799945115214704e-02    3.3799945115214704e-02\n",
      "Constraint violation....:   1.0163747938349843e-03    1.0163747938349843e-03\n",
      "Variable bound violation:   0.0000000000000000e+00    0.0000000000000000e+00\n",
      "Complementarity.........:   4.7002390513358493e-07    4.7002390513358493e-07\n",
      "Overall NLP error.......:   3.3799945115214704e-02    3.3799945115214704e-02\n",
      "\n",
      "\n",
      "Number of objective function evaluations             = 128\n",
      "Number of objective gradient evaluations             = 45\n",
      "Number of equality constraint evaluations            = 128\n",
      "Number of inequality constraint evaluations          = 128\n",
      "Number of equality constraint Jacobian evaluations   = 45\n",
      "Number of inequality constraint Jacobian evaluations = 45\n",
      "Number of Lagrangian Hessian evaluations             = 0\n",
      "Total seconds in IPOPT                               = 0.210\n",
      "\n",
      "EXIT: Solved To Acceptable Level.\n"
     ]
    }
   ],
   "source": [
    "x0 = np.random.uniform(lb, ub)\n",
    "xsol, info = prob.solve(x0, viol_tol=0.01)"
   ]
  },
  {
   "cell_type": "code",
   "execution_count": 705,
   "metadata": {},
   "outputs": [],
   "source": [
    "show_points(xsol)"
   ]
  },
  {
   "cell_type": "code",
   "execution_count": 706,
   "metadata": {},
   "outputs": [],
   "source": [
    "q = model_recon.apply(state_recon.params, xsol)"
   ]
  },
  {
   "cell_type": "code",
   "execution_count": 707,
   "metadata": {},
   "outputs": [],
   "source": [
    "panda.set_joint_angles(jnp.hstack([q,0.04,0.04]))"
   ]
  },
  {
   "cell_type": "code",
   "execution_count": 698,
   "metadata": {},
   "outputs": [
    {
     "data": {
      "text/plain": [
       "Array(0.00643806, dtype=float32)"
      ]
     },
     "execution_count": 698,
     "metadata": {},
     "output_type": "execute_result"
    }
   ],
   "source": [
    "geometric_error(xsol)"
   ]
  },
  {
   "cell_type": "code",
   "execution_count": 659,
   "metadata": {},
   "outputs": [],
   "source": [
    "show_points(xsol)"
   ]
  },
  {
   "cell_type": "code",
   "execution_count": 655,
   "metadata": {},
   "outputs": [],
   "source": [
    "x = xsol\n",
    "ee_pose = SE3(x[:7]).normalize()\n",
    "p_ee = x[4:7]\n",
    "p_elbow = x[7:10]\n",
    "p_wrist = x[10:13]\n",
    "\n",
    "normalize = lambda x: x/safe_2norm(x)\n",
    "y_axis = -normalize(p_elbow - p_shoulder)\n",
    "x_axis = jnp.hstack([0., 0., (p_wrist - p_elbow)[-1]]) #temporary\n",
    "z_axis = normalize(jnp.cross(x_axis, y_axis))\n",
    "x_axis = jnp.cross(y_axis, z_axis)\n",
    "rot_mat = jnp.vstack([x_axis, y_axis, z_axis]).T\n",
    "rot = SO3.from_matrix(rot_mat)\n",
    "shoulder_ref_frame = SE3.from_rotation_and_translation(rot, p_shoulder)"
   ]
  },
  {
   "cell_type": "code",
   "execution_count": 660,
   "metadata": {},
   "outputs": [],
   "source": [
    "def gen_ref_rot(z_axis, x_axis):\n",
    "    normalize = lambda x: x/safe_2norm(x)\n",
    "    z_axis = normalize(z_axis)\n",
    "    y_axis = normalize(jnp.cross(z_axis, x_axis))\n",
    "    x_axis = jnp.cross(y_axis, z_axis)\n",
    "    rot_mat = jnp.vstack([x_axis, y_axis, z_axis]).T\n",
    "    return SO3.from_matrix(rot_mat)\n",
    "\n",
    "vec = (p_elbow - p_shoulder)\n",
    "ref_frame = SE3.from_rotation_and_translation(\n",
    "    gen_ref_rot(p_elbow-p_shoulder, jnp.array([1,0,0.])), p_shoulder)\n",
    "p_3 = ref_frame.apply(p_3_wrt_ref)\n",
    "#q1\n",
    "xy = (p_3 - p_shoulder)[:-1]\n",
    "q1 = jnp.arctan2(xy[1], xy[0])\n",
    "q2 = jnp.arctan2(jnp.linalg.norm((p_3 - p_shoulder)[:2]), \n",
    "                 (p_3 - p_shoulder)[2])\n",
    "q3 = \n",
    "\n",
    "\n",
    "#frame.set_pose(SE3(fks[1]))"
   ]
  },
  {
   "cell_type": "code",
   "execution_count": 664,
   "metadata": {},
   "outputs": [],
   "source": []
  },
  {
   "cell_type": "code",
   "execution_count": 672,
   "metadata": {},
   "outputs": [],
   "source": [
    "point.set_translate(p_3)"
   ]
  },
  {
   "cell_type": "code",
   "execution_count": 657,
   "metadata": {},
   "outputs": [],
   "source": [
    "wrist.set_translate(p_3)"
   ]
  },
  {
   "cell_type": "code",
   "execution_count": 671,
   "metadata": {},
   "outputs": [],
   "source": [
    "panda.set_joint_angles(jnp.array([q1,q2,-0.9,0,0,0,0,0,0.]))"
   ]
  },
  {
   "cell_type": "code",
   "execution_count": 575,
   "metadata": {},
   "outputs": [],
   "source": [
    "rotated = SE3(fks[2]).inverse()@shoulder_ref_frame"
   ]
  },
  {
   "cell_type": "code",
   "execution_count": 598,
   "metadata": {},
   "outputs": [],
   "source": [
    "from scipy.spatial.transform import Rotation"
   ]
  },
  {
   "cell_type": "code",
   "execution_count": 602,
   "metadata": {},
   "outputs": [],
   "source": [
    "r, y, p = Rotation.from_matrix(rotated.rotation().as_matrix()\n",
    "                               ).as_euler(\"yzx\")"
   ]
  },
  {
   "cell_type": "code",
   "execution_count": 645,
   "metadata": {},
   "outputs": [],
   "source": [
    "fks = panda_model.fk_fn(jnp.array([0.,0,0,0,0,0,0,0,0]))\n",
    "p_elbow = fks[4][-3:]\n",
    "p_3 = fks[3][-3:]\n",
    "ref_frame = SE3.from_rotation_and_translation(\n",
    "    gen_ref_rot(p_elbow-p_shoulder, jnp.array([1,0,0.])), p_shoulder)\n",
    "p_3_wrt_ref = ref_frame.inverse().apply(p_3)"
   ]
  },
  {
   "cell_type": "code",
   "execution_count": 637,
   "metadata": {},
   "outputs": [],
   "source": [
    "elbow.set_translate(p_elbow)"
   ]
  },
  {
   "cell_type": "code",
   "execution_count": 644,
   "metadata": {},
   "outputs": [],
   "source": [
    "frame.set_pose(ref_frame)"
   ]
  },
  {
   "cell_type": "code",
   "execution_count": 593,
   "metadata": {},
   "outputs": [],
   "source": [
    "frame.set_pose(SE3(fks[2]))"
   ]
  },
  {
   "cell_type": "code",
   "execution_count": 12,
   "metadata": {},
   "outputs": [],
   "source": [
    "qs = np.random.uniform(panda_model.lb[:7], panda_model.ub[:7], size=(128,7))\n",
    "x_succ, x_fail = get_batch_samples(qs)"
   ]
  },
  {
   "cell_type": "code",
   "execution_count": 13,
   "metadata": {},
   "outputs": [
    {
     "data": {
      "text/plain": [
       "Array([  1,   8,   9,  33,  53, 120, 123], dtype=int32)"
      ]
     },
     "execution_count": 13,
     "metadata": {},
     "output_type": "execute_result"
    }
   ],
   "source": [
    "bools = nn.sigmoid(model.apply(trained_param, x_fail)) > 0.5\n",
    "jnp.arange(len(x_fail))[bools.flatten()]"
   ]
  },
  {
   "cell_type": "code",
   "execution_count": 102,
   "metadata": {},
   "outputs": [],
   "source": [
    "# def feasibility(ee_pose, p_elbow, p_wrist):\n",
    "#     ee_posevec = ee_pose.parameters()\n",
    "#     return model.apply(trained_param, jnp.hstack([ee_posevec, p_elbow, p_wrist]))\n",
    "\n",
    "# problem\n",
    "qrand = np.random.uniform(panda_model.lb, panda_model.ub)\n",
    "fks = panda_model.fk_fn(qrand)\n",
    "pose_rand = SE3(fks[-1])\n",
    "p_wrist = fks[5][-3:]\n",
    "\n",
    "#vis\n",
    "frame.set_pose(pose_rand)\n",
    "panda.set_joint_angles(qrand)"
   ]
  },
  {
   "cell_type": "code",
   "execution_count": 56,
   "metadata": {},
   "outputs": [],
   "source": [
    "\n",
    "# sphere_samples = fibonacci_sphere(1000)\n",
    "# sphere_shoulder = sphere_samples * upper_arm_len + p_shoulder\n",
    "\n",
    "logits = jax.vmap(feasibility, in_axes=(None, 0, None))(\n",
    "    pose_rand, shoulder_sphere_points, p_wrist)\n",
    "indices = np.arange(len(logits))[logits.flatten() > 0.]\n",
    "elbow_points = np.array(shoulder_sphere_points[indices], dtype=np.float64)\n",
    "elbow.set_translate(p_wrist)\n",
    "\n",
    "# cond\n",
    "#lower_arm_err = jnp.abs(jnp.linalg.norm(elbow_points - p_wrist, axis=-1) - lower_arm_len)\n",
    "#elbow_points = elbow_points[lower_arm_err < 0.005]\n",
    "nn.sigmoid(logits[indices].flatten())\n",
    "\n",
    "#vis\n",
    "colors = np.tile(Colors.read(\"blue\", return_rgb=True), len(elbow_points)).reshape(-1, 3)\n",
    "pc = PointCloud(world.vis, \"pc\", elbow_points, color=\"blue\")"
   ]
  },
  {
   "cell_type": "code",
   "execution_count": 54,
   "metadata": {},
   "outputs": [],
   "source": [
    "del pc"
   ]
  },
  {
   "cell_type": "code",
   "execution_count": 57,
   "metadata": {},
   "outputs": [],
   "source": []
  },
  {
   "cell_type": "code",
   "execution_count": 113,
   "metadata": {},
   "outputs": [],
   "source": []
  },
  {
   "cell_type": "code",
   "execution_count": 114,
   "metadata": {},
   "outputs": [],
   "source": [
    "\n",
    "\n",
    "# def error_wrist_radius(x):\n",
    "#     p_ee = x[4:7]\n",
    "#     p_wrist = x[10:13]\n",
    "#     err_wrist = safe_2norm(p_wrist - p_ee) - lower_arm_len\n",
    "#     return jnp.abs(err_wrist)\n",
    "# def error_mid_radius(x):\n",
    "\n",
    "def feasibility(x):\n",
    "    ee_pose = SE3(x[:7]).normalize()\n",
    "    x = jnp.hstack([ee_pose.parameters(), x[7:]])\n",
    "    logit = model.apply(trained_param, x)\n",
    "    return - logit\n",
    "def error_ee(x):\n",
    "    ee_pose_curr = SE3(x[:7]).normalize()\n",
    "    return safe_2norm((pose_rand.inverse()@ee_pose_curr).log())\n",
    "\n",
    "prob.add_con(\"elbow_radius\", 1, [\"x\"], error_radius, upper=0.01)\n",
    "#prob.add_con(\"wrist_radius\", 1, [\"x\"], error_wrist_radius, upper=0.01)\n",
    "prob.add_con(\"fk_feas\", 1, [\"x\"], feasibility, lower=0.)\n",
    "prob.add_objective(error_ee)"
   ]
  },
  {
   "cell_type": "code",
   "execution_count": 115,
   "metadata": {},
   "outputs": [],
   "source": [
    "prob.build()"
   ]
  },
  {
   "cell_type": "code",
   "execution_count": 119,
   "metadata": {},
   "outputs": [],
   "source": [
    "x0 = np.random.uniform(lb, ub)"
   ]
  },
  {
   "cell_type": "code",
   "execution_count": 120,
   "metadata": {},
   "outputs": [
    {
     "name": "stdout",
     "output_type": "stream",
     "text": [
      "This is Ipopt version 3.14.10, running with linear solver MUMPS 5.2.1.\n",
      "\n",
      "Number of nonzeros in equality constraint Jacobian...:        0\n",
      "Number of nonzeros in inequality constraint Jacobian.:       26\n",
      "Number of nonzeros in Lagrangian Hessian.............:        0\n",
      "\n",
      "Total number of variables............................:       13\n",
      "                     variables with only lower bounds:        0\n",
      "                variables with lower and upper bounds:       13\n",
      "                     variables with only upper bounds:        0\n",
      "Total number of equality constraints.................:        0\n",
      "Total number of inequality constraints...............:        2\n",
      "        inequality constraints with only lower bounds:        1\n",
      "   inequality constraints with lower and upper bounds:        0\n",
      "        inequality constraints with only upper bounds:        1\n",
      "\n",
      "iter    objective    inf_pr   inf_du lg(mu)  ||d||  lg(rg) alpha_du alpha_pr  ls\n",
      "   0  2.4088335e+00 4.52e+00 9.96e-01   0.0 0.00e+00    -  0.00e+00 0.00e+00   0\n",
      "   1  2.1488068e+00 2.96e+00 2.15e+00   0.1 1.84e+01    -  4.30e-01 5.11e-01f  1\n",
      "   2  2.1520100e+00 3.02e+00 4.40e+00   0.1 2.35e+01    -  9.97e-01 6.63e-01h  1\n",
      "   3  1.8762915e+00 6.74e-01 5.75e+00   0.0 9.07e+01    -  4.94e-01 1.00e+00f  1\n",
      "   4  1.7983971e+00 5.75e-01 3.37e+00  -0.6 1.77e+01    -  9.93e-01 5.00e-01h  2\n",
      "   5  1.5841833e+00 9.16e-01 1.24e+00  -1.7 1.43e+01    -  1.00e+00 1.00e+00h  1\n",
      "   6  1.3173715e+00 4.03e-01 2.10e+00  -0.8 1.02e+01    -  8.16e-01 1.00e+00h  1\n",
      "   7  9.0794575e-01 2.37e-01 1.81e+00  -1.8 2.26e+01    -  9.50e-01 8.51e-01h  1\n",
      "   8  4.4918168e-01 7.14e-01 9.15e-01  -3.8 2.24e+00    -  5.19e-01 6.70e-01f  1\n",
      "   9  4.1744593e-01 3.94e-01 7.78e-01  -1.7 8.38e+00    -  2.26e-01 2.50e-01f  3\n",
      "iter    objective    inf_pr   inf_du lg(mu)  ||d||  lg(rg) alpha_du alpha_pr  ls\n",
      "  10  6.9406426e-01 5.46e-01 9.24e-01  -1.1 2.12e+01    -  1.00e+00 1.00e+00h  1\n",
      "  11  2.3735857e-01 8.15e-01 8.04e-01  -1.6 5.88e+00    -  9.96e-01 1.00e+00h  1\n",
      "  12  1.8738443e-01 2.04e-01 1.00e+00  -1.9 1.24e+01    -  1.00e+00 1.00e+00h  1\n",
      "  13  3.9958388e-01 5.99e-02 1.25e+00  -0.9 5.56e+00    -  1.00e+00 5.31e-01H  1\n",
      "  14  1.2950248e-01 1.99e-01 6.59e-01  -1.9 3.81e-01    -  1.00e+00 1.00e+00h  1\n",
      "  15  2.3955739e-01 2.68e-01 7.20e-01  -1.1 1.40e+01    -  1.00e+00 2.19e-01f  3\n",
      "  16  1.1531349e-01 3.55e-01 1.26e+00  -1.2 4.33e+00    -  1.00e+00 1.00e+00h  1\n",
      "  17  2.5231558e-01 1.89e-01 1.23e+00  -2.1 4.38e+00    -  9.97e-01 1.00e+00h  1\n",
      "  18  4.8152972e-02 1.67e-01 6.93e-01  -2.4 1.59e+00    -  9.99e-01 1.00e+00h  1\n",
      "  19  3.5180438e-01 6.20e-02 1.53e+00  -2.8 6.32e-01    -  7.09e-01 4.41e-01H  1\n",
      "iter    objective    inf_pr   inf_du lg(mu)  ||d||  lg(rg) alpha_du alpha_pr  ls\n",
      "  20  1.6723514e-01 9.09e-02 7.51e-01  -3.7 1.05e+00    -  1.00e+00 1.00e+00h  1\n",
      "  21  1.5213233e-01 2.15e-01 1.07e+00  -1.7 1.94e+01    -  4.71e-02 5.62e-02f  4\n",
      "  22  8.4870435e-02 1.18e-01 9.76e-01  -3.1 3.61e+00    -  1.00e+00 4.43e-01h  1\n",
      "  23  2.2876164e-02 1.21e-01 5.64e-01  -3.1 2.75e+00    -  2.57e-01 2.99e-02h  5\n",
      "  24  8.7906994e-02 6.31e-02 7.47e-01  -2.6 4.62e-01    -  1.00e+00 1.00e+00h  1\n",
      "  25  5.2444611e-02 4.31e-01 7.05e-01  -2.7 2.10e-01    -  1.00e+00 1.00e+00h  1\n",
      "  26  2.5249885e-02 2.81e-01 8.93e-01  -2.7 2.48e-01    -  1.00e+00 5.03e-01h  1\n",
      "  27  4.9270928e-02 1.49e-01 7.32e-01  -2.7 1.55e+00    -  1.00e+00 4.95e-01h  1\n",
      "  28  3.5057154e-02 3.73e-02 7.92e-01  -2.7 2.70e-01    -  8.67e-01 1.00e+00h  1\n",
      "  29  3.6839508e-02 1.52e-01 7.80e-01  -2.5 4.92e+00    -  1.00e+00 5.00e-01h  2\n",
      "iter    objective    inf_pr   inf_du lg(mu)  ||d||  lg(rg) alpha_du alpha_pr  ls\n",
      "  30  1.6920023e-02 1.68e-01 9.05e-01  -2.5 3.94e-01    -  1.00e+00 1.00e+00h  1\n",
      "  31  3.0165026e-02 3.33e-02 5.18e-01  -2.7 8.98e-01    -  1.00e+00 1.00e+00h  1\n",
      "  32  1.8926406e-02 1.66e-02 8.19e-01  -4.1 9.31e-01    -  1.00e+00 1.00e+00h  1\n",
      "  33  5.9356168e-02 1.51e-01 4.26e-01  -2.0 3.61e+00    -  9.94e-01 1.00e+00f  1\n",
      "  34  1.8255858e-02 9.14e-02 4.93e-01  -2.1 2.03e+00    -  1.00e+00 7.89e-01h  1\n",
      "  35  4.3245424e-02 9.70e-02 1.08e+00  -1.8 8.65e+00    -  1.00e+00 7.19e-02f  3\n",
      "  36  6.6537126e-03 1.19e-01 7.64e-01  -1.9 1.65e-01    -  1.00e+00 1.00e+00h  1\n",
      "  37  1.6079741e-02 7.80e-02 9.57e-01  -2.9 1.78e+00    -  1.00e+00 5.00e-01h  2\n",
      "  38  2.0591101e-02 1.79e-02 5.23e-01  -4.2 8.40e-01    -  1.00e+00 1.00e+00h  1\n",
      "  39  9.7993920e-03 1.39e-02 8.31e-01  -3.9 1.49e-01    -  7.49e-01 1.00e+00h  1\n",
      "iter    objective    inf_pr   inf_du lg(mu)  ||d||  lg(rg) alpha_du alpha_pr  ls\n",
      "  40  1.5506463e-02 1.16e-02 7.45e-01  -5.0 6.65e-02    -  1.00e+00 1.00e+00h  1\n",
      "  41  3.3691258e-03 8.22e-03 8.93e-01  -6.6 2.99e-01    -  1.00e+00 1.00e+00h  1\n",
      "  42  1.6394990e-02 0.00e+00 6.93e-01  -5.9 1.05e-01    -  9.56e-01 1.00e+00h  1\n",
      "  43  5.0034039e-03 3.01e-04 7.45e-01  -6.0 7.17e-02    -  1.00e+00 1.00e+00h  1\n",
      "  44  3.2330230e-03 3.64e-04 6.78e-01  -6.0 3.26e-01    -  1.00e+00 6.25e-02h  5\n",
      "  45  6.2307995e-04 0.00e+00 5.06e-01  -4.0 1.64e-02    -  8.05e-01 1.00e+00h  1\n",
      "  46  1.6615068e-03 1.05e-04 6.36e-01  -5.3 2.44e-02    -  1.00e+00 1.00e+00h  1\n",
      "  47  1.1917652e-03 1.94e-04 7.23e-01  -7.2 1.63e-02    -  1.00e+00 1.00e+00h  1\n",
      "  48  6.4686959e-04 0.00e+00 8.25e-01  -5.3 5.10e-03    -  1.00e+00 9.98e-01h  1\n",
      "  49  1.2336011e-03 0.00e+00 8.54e-01  -4.8 7.27e-03    -  1.00e+00 1.00e+00h  1\n",
      "iter    objective    inf_pr   inf_du lg(mu)  ||d||  lg(rg) alpha_du alpha_pr  ls\n",
      "  50  2.9563680e-04 0.00e+00 7.04e-01  -4.9 2.78e-03    -  1.00e+00 1.00e+00h  1\n",
      "  51  2.1638646e-04 0.00e+00 5.80e-01  -4.6 6.67e-03    -  1.00e+00 2.50e-01h  3\n",
      "  52  3.9876738e-04 0.00e+00 5.21e-01  -6.5 9.61e-04    -  1.00e+00 1.00e+00h  1\n",
      "  53  7.5586417e-05 0.00e+00 6.70e-01  -6.6 2.26e-04    -  1.00e+00 1.00e+00h  1\n",
      "  54  4.6961282e-05 0.00e+00 4.24e-01  -5.8 4.98e-02    -  1.00e+00 7.81e-03f  8\n",
      "  55  9.1615075e-05 0.00e+00 6.58e-01  -7.7 1.09e-03    -  1.00e+00 1.00e+00h  1\n",
      "  56  9.8117438e-05 0.00e+00 8.31e-01  -7.8 1.60e-03    -  1.00e+00 1.00e+00h  1\n",
      "  57  2.5446941e-05 0.00e+00 7.30e-01  -7.8 9.04e-04    -  1.00e+00 1.00e+00h  1\n",
      "  58  5.4446606e-05 0.00e+00 5.81e-01  -9.7 1.38e-04    -  1.00e+00 1.00e+00h  1\n",
      "  59  2.4564320e-05 0.00e+00 6.27e-01  -9.7 4.37e-04    -  1.00e+00 1.00e+00h  1\n",
      "iter    objective    inf_pr   inf_du lg(mu)  ||d||  lg(rg) alpha_du alpha_pr  ls\n",
      "  60  3.0105897e-05 0.00e+00 8.10e-01  -9.7 3.03e-04    -  1.00e+00 1.00e+00H  1\n",
      "  61  9.4718380e-06 0.00e+00 8.79e-01  -9.7 6.58e-05    -  1.00e+00 1.00e+00f  1\n",
      "  62  1.9640524e-05 0.00e+00 7.19e-01 -10.9 3.18e-04    -  1.00e+00 1.00e+00h  1\n",
      "  63  7.0729543e-06 0.00e+00 6.62e-01 -11.0 1.43e-04    -  1.00e+00 1.00e+00h  1\n",
      "  64  1.5502217e-05 0.00e+00 8.85e-01 -11.0 2.33e-04    -  1.00e+00 1.00e+00h  1\n",
      "  65  3.6337692e-06 0.00e+00 6.11e-01 -11.0 1.52e-04    -  1.00e+00 1.00e+00h  1\n",
      "  66  3.2694657e-05 0.00e+00 8.83e-01 -11.0 3.88e-04    -  1.00e+00 1.00e+00H  1\n",
      "  67  1.2245127e-05 0.00e+00 8.65e-01 -11.0 2.33e-04    -  1.00e+00 1.00e+00F  1\n",
      "  68  6.3495354e-06 0.00e+00 5.03e-01 -11.0 4.60e-02    -  1.00e+00 1.96e-03f  7\n",
      "  69  2.9162853e-04 0.00e+00 6.75e-01 -11.0 4.60e-03    -  1.00e+00 1.00e+00H  1\n",
      "iter    objective    inf_pr   inf_du lg(mu)  ||d||  lg(rg) alpha_du alpha_pr  ls\n",
      "  70  1.0492343e-04 0.00e+00 6.71e-01 -11.0 2.92e-03    -  5.17e-01 1.00e+00F  1\n",
      "  71  1.0492343e-04 0.00e+00 6.71e-01 -11.0 4.68e+03    -  9.42e-05 6.21e-11f 28\n",
      "  72  1.0492343e-04 0.00e+00 6.71e-01 -11.0 2.02e+03    -  2.49e-06 2.32e-11f 30\n",
      "  73  1.0492343e-04 0.00e+00 6.71e-01 -11.0 2.02e+03    -  1.75e-02 5.79e-12f 32\n",
      "  74  1.0085067e-04 0.00e+00 6.70e-01 -11.0 2.02e+03    -  2.43e-06 2.37e-08f 20\n",
      "  75  9.9900222e-05 0.00e+00 6.70e-01 -11.0 1.18e+01    -  1.00e+00 9.54e-07f 21\n",
      "  76  9.9613004e-05 0.00e+00 6.69e-01 -11.0 3.46e+01    -  1.39e-04 9.84e-08f 24\n",
      "  77  9.8378579e-05 0.00e+00 6.69e-01 -11.0 1.93e+00    -  2.85e-01 7.63e-06f 18\n",
      "  78  9.8378579e-05 0.00e+00 6.69e-01 -11.0 6.98e+00    -  7.06e-04 3.73e-09h 29\n",
      "elapsed: 0.3687650000000531\n",
      "  79r 9.8378579e-05 0.00e+00 9.99e+02  -8.0 0.00e+00    -  0.00e+00 6.94e-18R 58\n",
      "iter    objective    inf_pr   inf_du lg(mu)  ||d||  lg(rg) alpha_du alpha_pr  ls\n",
      "  80r 9.8378579e-05 0.00e+00 1.97e-06  -9.0 1.53e-04    -  1.00e+00 9.90e-04f  1\n",
      "\n",
      "Number of Iterations....: 80\n",
      "\n",
      "                                   (scaled)                 (unscaled)\n",
      "Objective...............:   2.0817467884626240e-04    2.0817467884626240e-04\n",
      "Dual infeasibility......:   6.8577050526993322e-01    6.8577050526993322e-01\n",
      "Constraint violation....:   0.0000000000000000e+00    0.0000000000000000e+00\n",
      "Variable bound violation:   0.0000000000000000e+00    0.0000000000000000e+00\n",
      "Complementarity.........:   1.0000057713306194e-09    1.0000057713306194e-09\n",
      "Overall NLP error.......:   6.8577050526993322e-01    6.8577050526993322e-01\n",
      "\n",
      "\n",
      "Number of objective function evaluations             = 414\n",
      "Number of objective gradient evaluations             = 81\n",
      "Number of equality constraint evaluations            = 0\n",
      "Number of inequality constraint evaluations          = 414\n",
      "Number of equality constraint Jacobian evaluations   = 0\n",
      "Number of inequality constraint Jacobian evaluations = 83\n",
      "Number of Lagrangian Hessian evaluations             = 0\n",
      "Total seconds in IPOPT                               = 0.362\n",
      "\n",
      "EXIT: Converged to a point of local infeasibility. Problem may be infeasible.\n"
     ]
    }
   ],
   "source": [
    "xsol, info = prob.solve(x0, viol_tol=0.001)"
   ]
  },
  {
   "cell_type": "code",
   "execution_count": 144,
   "metadata": {},
   "outputs": [
    {
     "data": {
      "text/plain": [
       "(Array(0.00592175, dtype=float32),\n",
       " Array(-0.00012724, dtype=float32),\n",
       " Array(0.00338504, dtype=float32))"
      ]
     },
     "execution_count": 144,
     "metadata": {},
     "output_type": "execute_result"
    }
   ],
   "source": [
    "x = xsol\n",
    "p_ee = x[4:7]\n",
    "p_elbow = x[7:10]\n",
    "p_wrist = x[10:13]\n",
    "err_upper = safe_2norm(p_shoulder - p_elbow) - upper_arm_len\n",
    "err_lower = safe_2norm(p_wrist - p_ee) - hand_len\n",
    "err_mid = safe_2norm(p_elbow - p_wrist) - lower_arm_len\n",
    "err_upper, err_lower, err_mid"
   ]
  },
  {
   "cell_type": "code",
   "execution_count": 143,
   "metadata": {},
   "outputs": [
    {
     "data": {
      "text/plain": [
       "Array(-0.00012724, dtype=float32)"
      ]
     },
     "execution_count": 143,
     "metadata": {},
     "output_type": "execute_result"
    }
   ],
   "source": [
    "safe_2norm(p_wrist - p_ee)-hand_len"
   ]
  },
  {
   "cell_type": "code",
   "execution_count": 142,
   "metadata": {},
   "outputs": [
    {
     "data": {
      "text/plain": [
       "Array(0.2295386, dtype=float32)"
      ]
     },
     "execution_count": 142,
     "metadata": {},
     "output_type": "execute_result"
    }
   ],
   "source": [
    "hand_len"
   ]
  },
  {
   "cell_type": "code",
   "execution_count": 134,
   "metadata": {},
   "outputs": [
    {
     "data": {
      "text/plain": [
       "Array(0.22941135, dtype=float32)"
      ]
     },
     "execution_count": 134,
     "metadata": {},
     "output_type": "execute_result"
    }
   ],
   "source": [
    "jnp.linalg.norm(ee_pose.translation() - p_wrist)"
   ]
  },
  {
   "cell_type": "code",
   "execution_count": 128,
   "metadata": {},
   "outputs": [
    {
     "data": {
      "text/plain": [
       "Array(0.91949075, dtype=float32)"
      ]
     },
     "execution_count": 128,
     "metadata": {},
     "output_type": "execute_result"
    }
   ],
   "source": [
    "safe_2norm(p_wrist - p_ee) - hand_len"
   ]
  },
  {
   "cell_type": "code",
   "execution_count": 123,
   "metadata": {},
   "outputs": [
    {
     "data": {
      "text/plain": [
       "Array([16.513062], dtype=float32)"
      ]
     },
     "execution_count": 123,
     "metadata": {},
     "output_type": "execute_result"
    }
   ],
   "source": [
    "feasibility(xsol)"
   ]
  },
  {
   "cell_type": "code",
   "execution_count": 135,
   "metadata": {},
   "outputs": [
    {
     "data": {
      "text/plain": [
       "Array(0.00943403, dtype=float32)"
      ]
     },
     "execution_count": 135,
     "metadata": {},
     "output_type": "execute_result"
    }
   ],
   "source": [
    "error_radius(xsol)"
   ]
  },
  {
   "cell_type": "code",
   "execution_count": 130,
   "metadata": {},
   "outputs": [],
   "source": [
    "ee_pose = SE3(xsol[:7]).normalize()\n",
    "p_elbow = xsol[7:10]\n",
    "p_wrist = xsol[10:]\n",
    "frame.set_pose(ee_pose)\n",
    "elbow.set_translate(p_elbow)\n",
    "wrist.set_translate(p_wrist)"
   ]
  },
  {
   "cell_type": "code",
   "execution_count": 86,
   "metadata": {},
   "outputs": [],
   "source": [
    "elbow.set_translate([0,0,0])"
   ]
  },
  {
   "cell_type": "code",
   "execution_count": 99,
   "metadata": {},
   "outputs": [
    {
     "data": {
      "text/plain": [
       "Array(0.00091258, dtype=float32)"
      ]
     },
     "execution_count": 99,
     "metadata": {},
     "output_type": "execute_result"
    }
   ],
   "source": [
    "error_elbow_radius(xsol)"
   ]
  },
  {
   "cell_type": "code",
   "execution_count": 100,
   "metadata": {},
   "outputs": [
    {
     "data": {
      "text/plain": [
       "Array(0.00994909, dtype=float32)"
      ]
     },
     "execution_count": 100,
     "metadata": {},
     "output_type": "execute_result"
    }
   ],
   "source": [
    "error_wrist_radius(xsol)"
   ]
  },
  {
   "cell_type": "code",
   "execution_count": 98,
   "metadata": {},
   "outputs": [
    {
     "data": {
      "text/plain": [
       "Array([27.751844], dtype=float32)"
      ]
     },
     "execution_count": 98,
     "metadata": {},
     "output_type": "execute_result"
    }
   ],
   "source": [
    "feasibility(xsol)"
   ]
  },
  {
   "cell_type": "code",
   "execution_count": 91,
   "metadata": {},
   "outputs": [],
   "source": [
    "elbow = Sphere(world.vis, \"elbow\", 0.07, \"blue\", 0.5)"
   ]
  },
  {
   "cell_type": "code",
   "execution_count": 79,
   "metadata": {},
   "outputs": [],
   "source": [
    "wrist = Sphere(world.vis, \"wrist\", 0.07, \"red\", 0.5)"
   ]
  },
  {
   "cell_type": "code",
   "execution_count": 165,
   "metadata": {},
   "outputs": [
    {
     "data": {
      "text/plain": [
       "Array([False, False, False, False, False, False, False, False, False,\n",
       "       False,  True, False, False], dtype=bool)"
      ]
     },
     "execution_count": 165,
     "metadata": {},
     "output_type": "execute_result"
    }
   ],
   "source": [
    "lower_arm_err<0.001"
   ]
  },
  {
   "cell_type": "code",
   "execution_count": 163,
   "metadata": {},
   "outputs": [
    {
     "data": {
      "text/plain": [
       "Array(8.234382e-05, dtype=float32)"
      ]
     },
     "execution_count": 163,
     "metadata": {},
     "output_type": "execute_result"
    }
   ],
   "source": [
    "lower_arm_err.min()"
   ]
  },
  {
   "cell_type": "code",
   "execution_count": 155,
   "metadata": {},
   "outputs": [
    {
     "data": {
      "text/plain": [
       "Array(0.00815082, dtype=float32)"
      ]
     },
     "execution_count": 155,
     "metadata": {},
     "output_type": "execute_result"
    }
   ],
   "source": [
    "lower_arm_lens.max()"
   ]
  },
  {
   "cell_type": "code",
   "execution_count": 155,
   "metadata": {},
   "outputs": [],
   "source": [
    "world.vis[\"pc\"].delete()"
   ]
  },
  {
   "cell_type": "code",
   "execution_count": null,
   "metadata": {},
   "outputs": [],
   "source": []
  },
  {
   "cell_type": "code",
   "execution_count": 72,
   "metadata": {},
   "outputs": [],
   "source": [
    "save(\"elbow_feas_net_euclid.pth\", state, hp, force=True)"
   ]
  },
  {
   "cell_type": "code",
   "execution_count": 73,
   "metadata": {},
   "outputs": [],
   "source": [
    "feas_fn = get_mlp_by_path(\"elbow_feas_net_euclid.pth\")"
   ]
  },
  {
   "cell_type": "code",
   "execution_count": 61,
   "metadata": {},
   "outputs": [
    {
     "name": "stdout",
     "output_type": "stream",
     "text": [
      "You can open the visualizer by visiting the following URL:\n",
      "http://127.0.0.1:7004/static/\n"
     ]
    }
   ],
   "source": [
    "from sdf_world.sdf_world import *\n",
    "world = SDFWorld()"
   ]
  },
  {
   "cell_type": "code",
   "execution_count": 62,
   "metadata": {},
   "outputs": [
    {
     "data": {
      "text/html": [
       "\n",
       "            <div style=\"height: 400px; width: 100%; overflow-x: auto; overflow-y: hidden; resize: both\">\n",
       "            <iframe src=\"http://127.0.0.1:7004/static/\" style=\"width: 100%; height: 100%; border: none\"></iframe>\n",
       "            </div>\n",
       "            "
      ],
      "text/plain": [
       "<IPython.core.display.HTML object>"
      ]
     },
     "execution_count": 62,
     "metadata": {},
     "output_type": "execute_result"
    }
   ],
   "source": [
    "world.show_in_jupyter()"
   ]
  },
  {
   "cell_type": "code",
   "execution_count": 63,
   "metadata": {},
   "outputs": [],
   "source": [
    "#panda_model = RobotModel(PANDA_URDF, PANDA_PACKAGE)\n",
    "panda = Robot(world.vis, \"panda\", panda_model)"
   ]
  },
  {
   "cell_type": "code",
   "execution_count": 64,
   "metadata": {},
   "outputs": [],
   "source": [
    "frame = Frame(world.vis, \"frame\", 0.2)\n",
    "shoulder = Sphere(world.vis, \"shoulder\", 0.1, \"red\", 0.5)\n",
    "elbow = Sphere(world.vis, \"elbow\", 0.1, \"red\", 0.5)\n",
    "wrist = Sphere(world.vis, \"wrist\", 0.1, \"red\", 0.5)"
   ]
  },
  {
   "cell_type": "code",
   "execution_count": 65,
   "metadata": {},
   "outputs": [],
   "source": [
    "#predefine\n",
    "fks = panda_model.fk_fn(panda_model.neutral)\n",
    "ee_pose = SE3(fks[-1])\n",
    "# wrist_pos = panda_model.fk_fn(panda_model.neutral)[7][-3:]\n",
    "# wrist_wrt_ee = ee_pose.inverse().apply(wrist_pos)\n",
    "upper_arm_len = jnp.linalg.norm(fks[3][-3:] - fks[1][-3:])\n",
    "p_shoulder = fks[1][-3:]\n",
    "ws_lb = [-0.8, -0.8, -0.3]\n",
    "ws_ub = [0.8, 0.8, 1.3]"
   ]
  },
  {
   "cell_type": "code",
   "execution_count": 152,
   "metadata": {},
   "outputs": [],
   "source": []
  },
  {
   "cell_type": "code",
   "execution_count": 153,
   "metadata": {},
   "outputs": [],
   "source": [
    "sphere_points = fibonacci_sphere() * upper_arm_len + p_shoulder\n",
    "# elbow_params = np.random.uniform([0., -np.pi], [np.pi, np.pi], size=(100,2))\n",
    "elbow_points = jnp.array(sphere_points)\n",
    "def feasibility_logit_fn(ee_posevec, elbow_param):\n",
    "    return feas_fn(jnp.hstack([ee_posevec, elbow_param]))\n",
    "@jax.jit\n",
    "def ik(ee_pose):\n",
    "    rot6d = ee_pose.as_matrix()[:3,:2].T.flatten()\n",
    "    p_ee = ee_pose.translation()\n",
    "    ee_posevec = jnp.hstack([rot6d, p_ee])\n",
    "    logits = jax.vmap(feasibility_logit_fn, in_axes=(None, 0))(ee_posevec, elbow_points)\n",
    "    return logits"
   ]
  },
  {
   "cell_type": "code",
   "execution_count": 154,
   "metadata": {},
   "outputs": [],
   "source": [
    "cond = (ik(ee_pose) > 1.).flatten()\n",
    "indices = jnp.arange(len(cond))[cond]\n",
    "elbows = elbow_points[indices]"
   ]
  },
  {
   "cell_type": "code",
   "execution_count": 291,
   "metadata": {},
   "outputs": [],
   "source": [
    "def ee_error(q, ee_pose_des):\n",
    "    fks = panda_model.fk_fn(q)\n",
    "    ee_pose_curr = SE3(fks[-1])\n",
    "    ee_err_vec = (ee_pose_curr.inverse() @ ee_pose_des).log()\n",
    "    ee_err = safe_2norm(ee_err_vec)\n",
    "    return ee_err\n",
    "def elbow_err(q, p_elbow_des):\n",
    "    fks = panda_model.fk_fn(q)\n",
    "    p_elbow_curr = fks[4][-3:]\n",
    "    elbow_err = safe_2norm(p_elbow_curr - p_elbow_des)\n",
    "    return elbow_err\n",
    "err_grad_fn = jax.grad(ee_error)\n",
    "elbowerr_grad_fn = jax.grad(elbow_err)"
   ]
  },
  {
   "cell_type": "code",
   "execution_count": 310,
   "metadata": {},
   "outputs": [],
   "source": [
    "def get_jacobian(q):\n",
    "    fks = panda_model.fk_fn(q)\n",
    "    pos_jac = []\n",
    "    rot_jac = []\n",
    "    p_ee = fks[-1][-3:]\n",
    "    for i in range(1, 8):\n",
    "        p_frame = fks[i][-3:]\n",
    "        rot_axis = SE3(fks[i]).as_matrix()[:3, 2]\n",
    "        lin_vel = jnp.cross(rot_axis, p_ee - p_frame)\n",
    "        pos_jac.append(lin_vel)\n",
    "        rot_jac.append(rot_axis)\n",
    "        \n",
    "    pos_jac = jnp.vstack(pos_jac).T\n",
    "    rot_jac = jnp.vstack(rot_jac).T\n",
    "    return jnp.vstack([pos_jac, rot_jac])"
   ]
  },
  {
   "cell_type": "code",
   "execution_count": 156,
   "metadata": {},
   "outputs": [],
   "source": [
    "p_elbow = elbows[1]\n",
    "elbow.set_translate(p_elbow)"
   ]
  },
  {
   "cell_type": "code",
   "execution_count": 158,
   "metadata": {},
   "outputs": [],
   "source": [
    "q = panda_model.neutral\n",
    "panda.set_joint_angles(q)"
   ]
  },
  {
   "cell_type": "code",
   "execution_count": 401,
   "metadata": {},
   "outputs": [],
   "source": [
    "ee_grad = err_grad_fn(q, pose_rand)\n",
    "elbow_grad = elbowerr_grad_fn(q, p_elbow)\n",
    "\n",
    "jac = get_jacobian(q)\n",
    "ns_proj = jnp.eye(7) - jac.T@jac\n",
    "q_delta = ee_grad + jnp.hstack([ns_proj@elbow_grad[:-2],0,0])\n",
    "q = q - q_delta*0.2\n",
    "panda.set_joint_angles(q)"
   ]
  },
  {
   "cell_type": "code",
   "execution_count": 183,
   "metadata": {},
   "outputs": [
    {
     "data": {
      "text/plain": [
       "Array([ 0.07283606,  0.00364066,  0.0863461 , -0.08738822, -0.08824547,\n",
       "        0.10718858,  0.20078273,  0.        ,  0.        ], dtype=float32)"
      ]
     },
     "execution_count": 183,
     "metadata": {},
     "output_type": "execute_result"
    }
   ],
   "source": [
    "q_grad"
   ]
  },
  {
   "cell_type": "code",
   "execution_count": 65,
   "metadata": {},
   "outputs": [],
   "source": [
    "far_points = farthest_point_sampling(points, 5)"
   ]
  },
  {
   "cell_type": "code",
   "execution_count": 98,
   "metadata": {},
   "outputs": [],
   "source": []
  },
  {
   "cell_type": "code",
   "execution_count": 99,
   "metadata": {},
   "outputs": [],
   "source": [
    "p_elbow = far_points[0]"
   ]
  },
  {
   "cell_type": "code",
   "execution_count": 76,
   "metadata": {},
   "outputs": [],
   "source": [
    "panda = Robot(world.vis, \"panda\", panda_model)\n",
    "panda.reduce_dim([7,8], [0.04, 0.04])\n",
    "frame_elbow = Frame(world.vis, \"elbow_frame\", 0.2)\n",
    "elbow = Sphere(world.vis, \"elbow\", 0.1, \"red\", 0.5)"
   ]
  },
  {
   "cell_type": "code",
   "execution_count": 101,
   "metadata": {},
   "outputs": [],
   "source": [
    "frame_1 = Frame(world.vis, \"frame1\", 0.2)"
   ]
  },
  {
   "cell_type": "code",
   "execution_count": 81,
   "metadata": {},
   "outputs": [],
   "source": [
    "panda.set_joint_angles(panda_model.neutral[:7])"
   ]
  },
  {
   "cell_type": "code",
   "execution_count": 107,
   "metadata": {},
   "outputs": [],
   "source": [
    "fks = panda_model.fk_fn(panda_model.neutral)\n",
    "pose2 = SE3(fks[2])\n",
    "pose5 = SE3(fks[5])\n",
    "frame_1.set_pose(pose2)\n",
    "frame_elbow.set_pose(pose5)"
   ]
  },
  {
   "cell_type": "code",
   "execution_count": 120,
   "metadata": {},
   "outputs": [],
   "source": [
    "diff = (pose5.translation() - pose2.translation())\n",
    "y_pose2 = pose2.as_matrix()[:3,1]"
   ]
  },
  {
   "cell_type": "code",
   "execution_count": 144,
   "metadata": {},
   "outputs": [],
   "source": [
    "p_elbow = (diff @ y_pose2) * y_pose2 + pose2.translation()\n",
    "ee_pose = SE3(fks[-1])\n",
    "alpha_len = jnp.linalg.norm(p_elbow - fks[-6][-3:])\n",
    "beta_len = jnp.linalg.norm(ee_pose.translation() - fks[-6][-3:])"
   ]
  },
  {
   "cell_type": "code",
   "execution_count": 132,
   "metadata": {},
   "outputs": [],
   "source": [
    "frame.set_pose(ee_pose)"
   ]
  },
  {
   "cell_type": "code",
   "execution_count": 187,
   "metadata": {},
   "outputs": [],
   "source": [
    "# given p_elbow, ee_pose, can we solve ik?\n",
    "v = ee_pose.translation() - p_elbow\n",
    "c = jnp.linalg.norm(v)\n",
    "r = jnp.sqrt((beta_len**2 + c**2 - alpha_len**2)/(2*c**2))"
   ]
  },
  {
   "cell_type": "code",
   "execution_count": 190,
   "metadata": {},
   "outputs": [],
   "source": [
    "# z_ee = ee_pose.as_matrix()[:3, 2]\n",
    "# up_vec = jnp.cross(v, jnp.cross(v, z_ee))\n",
    "# up_vec = up_vec/jnp.linalg.norm(up_vec)\n",
    "# up_mag = jnp.sqrt(alpha_len**2 - (c*r)**2)\n",
    "p_wrist = p_elbow + r*v #+up_vec*up_mag"
   ]
  },
  {
   "cell_type": "code",
   "execution_count": 191,
   "metadata": {},
   "outputs": [],
   "source": [
    "wrist.set_translate(p_wrist)"
   ]
  },
  {
   "cell_type": "code",
   "execution_count": 158,
   "metadata": {},
   "outputs": [
    {
     "data": {
      "text/plain": [
       "Array([ 6.1263674e-01,  1.1562403e-08, -1.7700875e-01], dtype=float32)"
      ]
     },
     "execution_count": 158,
     "metadata": {},
     "output_type": "execute_result"
    }
   ],
   "source": [
    "v"
   ]
  },
  {
   "cell_type": "code",
   "execution_count": 139,
   "metadata": {},
   "outputs": [],
   "source": [
    "wrist.set_translate(fks[-6][-3:])"
   ]
  },
  {
   "cell_type": "code",
   "execution_count": 129,
   "metadata": {},
   "outputs": [],
   "source": [
    "elbow.set_translate(p_elbow)"
   ]
  },
  {
   "cell_type": "code",
   "execution_count": 112,
   "metadata": {},
   "outputs": [
    {
     "data": {
      "text/plain": [
       "Array([4.6650025e-01, 5.9267933e-09, 3.9849854e-01], dtype=float32)"
      ]
     },
     "execution_count": 112,
     "metadata": {},
     "output_type": "execute_result"
    }
   ],
   "source": [
    "diff"
   ]
  },
  {
   "cell_type": "code",
   "execution_count": 80,
   "metadata": {},
   "outputs": [],
   "source": [
    "panda.set_joint_angles(jnp.array([0,-0.5,0,0,0,0,0]))"
   ]
  },
  {
   "cell_type": "code",
   "execution_count": 70,
   "metadata": {},
   "outputs": [],
   "source": [
    "elbow.set_translate(far_points[4])"
   ]
  },
  {
   "cell_type": "code",
   "execution_count": null,
   "metadata": {},
   "outputs": [],
   "source": []
  },
  {
   "cell_type": "code",
   "execution_count": 42,
   "metadata": {},
   "outputs": [],
   "source": []
  }
 ],
 "metadata": {
  "kernelspec": {
   "display_name": "opt_env",
   "language": "python",
   "name": "python3"
  },
  "language_info": {
   "codemirror_mode": {
    "name": "ipython",
    "version": 3
   },
   "file_extension": ".py",
   "mimetype": "text/x-python",
   "name": "python",
   "nbconvert_exporter": "python",
   "pygments_lexer": "ipython3",
   "version": "3.8.15"
  },
  "orig_nbformat": 4
 },
 "nbformat": 4,
 "nbformat_minor": 2
}
