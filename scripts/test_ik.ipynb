{
 "cells": [
  {
   "cell_type": "code",
   "execution_count": null,
   "metadata": {},
   "outputs": [],
   "source": [
    "import numpy as np\n",
    "import jax\n",
    "from jax import Array\n",
    "import jax.numpy as jnp\n",
    "from jaxlie import SE3, SO3\n",
    "import meshcat\n",
    "import meshcat.geometry as g\n",
    "\n",
    "from sdf_world.sdf_world import *\n",
    "from sdf_world.robots import *"
   ]
  },
  {
   "cell_type": "code",
   "execution_count": null,
   "metadata": {},
   "outputs": [],
   "source": [
    "world = SDFWorld()\n",
    "world.show_in_jupyter()"
   ]
  }
 ],
 "metadata": {
  "language_info": {
   "name": "python"
  },
  "orig_nbformat": 4
 },
 "nbformat": 4,
 "nbformat_minor": 2
}
