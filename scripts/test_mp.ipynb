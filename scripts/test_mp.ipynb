{
 "cells": [
  {
   "cell_type": "code",
   "execution_count": 1,
   "metadata": {},
   "outputs": [],
   "source": [
    "import meshcat\n",
    "import meshcat.geometry as g\n",
    "from jaxlie import SE3, SO3\n",
    "import jax.numpy as jnp\n",
    "import numpy as np\n",
    "import jax\n",
    "from jax import Array\n",
    "\n",
    "from sdf_world.sdf_world import *\n",
    "from sdf_world.robots import *"
   ]
  },
  {
   "cell_type": "code",
   "execution_count": 2,
   "metadata": {},
   "outputs": [
    {
     "name": "stdout",
     "output_type": "stream",
     "text": [
      "You can open the visualizer by visiting the following URL:\n",
      "http://127.0.0.1:7001/static/\n"
     ]
    },
    {
     "data": {
      "text/html": [
       "\n",
       "            <div style=\"height: 400px; width: 100%; overflow-x: auto; overflow-y: hidden; resize: both\">\n",
       "            <iframe src=\"http://127.0.0.1:7001/static/\" style=\"width: 100%; height: 100%; border: none\"></iframe>\n",
       "            </div>\n",
       "            "
      ],
      "text/plain": [
       "<IPython.core.display.HTML object>"
      ]
     },
     "execution_count": 2,
     "metadata": {},
     "output_type": "execute_result"
    }
   ],
   "source": [
    "world = SDFWorld()\n",
    "world.show_in_jupyter()"
   ]
  },
  {
   "cell_type": "code",
   "execution_count": 3,
   "metadata": {},
   "outputs": [],
   "source": [
    "ground = Box(world.vis, \"ground\", lengths=[2, 2, 0.1], color=\"gray\")\n",
    "ground.set_translate([0,0,-ground.lengths[-1]/2])\n",
    "\n",
    "plate_config = dict(lengths=[0.4, 0.4, 0.05], color=\"darkgray\")\n",
    "start = Box(world.vis, \"start\", **plate_config)\n",
    "goal = Box(world.vis, \"goal\", **plate_config)\n",
    "start.set_translate([0.5,-0.3,start.lengths[-1]/2])\n",
    "goal.set_translate([0.5,0.3,goal.lengths[-1]/2])\n",
    "\n",
    "obstacle = Sphere(world.vis, \"obstacle\", 0.2, \"red\", 0.3)\n",
    "obstacle.set_translate([0.5, 0., 0.5])"
   ]
  },
  {
   "cell_type": "code",
   "execution_count": 4,
   "metadata": {},
   "outputs": [
    {
     "name": "stderr",
     "output_type": "stream",
     "text": [
      "concatenating texture: may result in visual artifacts\n",
      "concatenating texture: may result in visual artifacts\n",
      "concatenating texture: may result in visual artifacts\n",
      "concatenating texture: may result in visual artifacts\n",
      "concatenating texture: may result in visual artifacts\n",
      "concatenating texture: may result in visual artifacts\n",
      "concatenating texture: may result in visual artifacts\n",
      "concatenating texture: may result in visual artifacts\n"
     ]
    }
   ],
   "source": [
    "panda_model = RobotModel(PANDA_URDF, PANDA_PACKAGE)\n",
    "panda = Robot(world.vis, \"panda\", panda_model)\n",
    "panda.reduce_dim([7,8], [0.04, 0.04])"
   ]
  },
  {
   "cell_type": "code",
   "execution_count": 5,
   "metadata": {},
   "outputs": [],
   "source": [
    "obstacles = [ground, obstacle]\n",
    "env = SDFContainer(obstacles, 0.01)"
   ]
  },
  {
   "attachments": {},
   "cell_type": "markdown",
   "metadata": {},
   "source": [
    "### test motion planning"
   ]
  },
  {
   "cell_type": "code",
   "execution_count": 6,
   "metadata": {},
   "outputs": [],
   "source": [
    "q_start = jnp.array([-0.7,0.2,0,-1.57,0,1.8,0])\n",
    "q_goal = jnp.array([0.7,0.2,0,-1.57,0,1.8,0])\n",
    "panda.set_joint_angles(q_start)"
   ]
  },
  {
   "cell_type": "code",
   "execution_count": 25,
   "metadata": {},
   "outputs": [],
   "source": [
    "from sdf_world.nlp import *\n",
    "prob = NLP()\n",
    "prob.add_var(\"q0\", 7, panda.lb, panda.ub)\n",
    "prob.add_var(\"q1\", 7, panda.lb, panda.ub)\n",
    "prob.add_var(\"q2\", 7, panda.lb, panda.ub)\n",
    "prob.add_var(\"q3\", 7, panda.lb, panda.ub)\n",
    "prob.add_var(\"q4\", 7, panda.lb, panda.ub)"
   ]
  },
  {
   "cell_type": "code",
   "execution_count": 48,
   "metadata": {},
   "outputs": [],
   "source": [
    "prob.add_con(\"init\", 7, [\"q0\"], lambda q0:q0, eq=q_start, est_sparsity=True)\n",
    "prob.add_con(\"goal\", 7, [\"q4\"], lambda q4:q4, eq=q_goal, est_sparsity=True)\n",
    "@jax.jit\n",
    "def penetration(**kwargs):\n",
    "    qs = jnp.vstack(kwargs.values())\n",
    "    points = jnp.vstack(jax.vmap(panda.get_surface_points_fn)(qs))\n",
    "    return env.penetration_sum(points)\n",
    "prob.add_con(\"col\", 1, [\"q1\",\"q2\",\"q3\"], penetration, eq=0.)\n",
    "\n",
    "def min_dist_cost(q0, q1, q2, q3, q4):\n",
    "    qs = jnp.vstack([q0, q1, q2, q3, q4])\n",
    "    diff = qs[1:] - qs[:-1]\n",
    "    return jnp.sum(diff**2)\n",
    "prob.add_objective(min_dist_cost)"
   ]
  },
  {
   "cell_type": "code",
   "execution_count": 27,
   "metadata": {},
   "outputs": [],
   "source": [
    "prob.build()"
   ]
  },
  {
   "cell_type": "code",
   "execution_count": 64,
   "metadata": {},
   "outputs": [
    {
     "name": "stdout",
     "output_type": "stream",
     "text": [
      "This is Ipopt version 3.14.10, running with linear solver MUMPS 5.2.1.\n",
      "\n",
      "Number of nonzeros in equality constraint Jacobian...:       35\n",
      "Number of nonzeros in inequality constraint Jacobian.:        0\n",
      "Number of nonzeros in Lagrangian Hessian.............:        0\n",
      "\n",
      "Total number of variables............................:       35\n",
      "                     variables with only lower bounds:        0\n",
      "                variables with lower and upper bounds:       35\n",
      "                     variables with only upper bounds:        0\n",
      "Total number of equality constraints.................:       15\n",
      "Total number of inequality constraints...............:        0\n",
      "        inequality constraints with only lower bounds:        0\n",
      "   inequality constraints with lower and upper bounds:        0\n",
      "        inequality constraints with only upper bounds:        0\n",
      "\n",
      "iter    objective    inf_pr   inf_du lg(mu)  ||d||  lg(rg) alpha_du alpha_pr  ls\n",
      "   0  4.8999995e-01 6.49e+00 1.19e-07   0.0 0.00e+00    -  0.00e+00 0.00e+00   0\n",
      "   1  6.1840147e-01 2.75e+00 7.06e-01  -1.0 1.37e-01    -  9.80e-01 1.00e+00h  1\n",
      "   2  6.2365127e-01 3.39e-01 3.86e-01  -2.3 9.57e-02    -  9.75e-01 1.00e+00h  1\n",
      "   3  5.8003944e-01 9.15e-01 6.36e-01  -3.2 8.53e-02    -  1.00e+00 1.00e+00h  1\n",
      "   4  5.6220710e-01 5.17e-01 2.33e-01  -4.7 3.38e-02    -  1.00e+00 1.00e+00h  1\n",
      "   5  5.7997996e-01 1.44e-01 1.60e-01  -6.1 2.25e-02    -  1.00e+00 1.00e+00h  1\n",
      "   6  5.9284860e-01 8.67e-02 3.91e-01  -7.7 1.50e-02    -  1.00e+00 1.00e+00h  1\n",
      "elapsed: 0.0615669999999966\n",
      "   7  5.9740400e-01 4.83e-02 1.34e-01  -9.4 1.55e-02    -  1.00e+00 1.00e+00h  1\n",
      "\n",
      "Number of Iterations....: 7\n",
      "\n",
      "                                   (scaled)                 (unscaled)\n",
      "Objective...............:   5.9740400314331055e-01    5.9740400314331055e-01\n",
      "Dual infeasibility......:   1.3403008513180917e-01    1.3403008513180917e-01\n",
      "Constraint violation....:   4.8276629298925400e-02    4.8276629298925400e-02\n",
      "Variable bound violation:   0.0000000000000000e+00    0.0000000000000000e+00\n",
      "Complementarity.........:   5.0751561343193008e-10    5.0751561343193008e-10\n",
      "Overall NLP error.......:   1.3403008513180917e-01    1.3403008513180917e-01\n",
      "\n",
      "\n",
      "Number of objective function evaluations             = 8\n",
      "Number of objective gradient evaluations             = 8\n",
      "Number of equality constraint evaluations            = 8\n",
      "Number of inequality constraint evaluations          = 0\n",
      "Number of equality constraint Jacobian evaluations   = 8\n",
      "Number of inequality constraint Jacobian evaluations = 0\n",
      "Number of Lagrangian Hessian evaluations             = 0\n",
      "Total seconds in IPOPT                               = 0.069\n",
      "\n",
      "EXIT: Solved To Acceptable Level.\n"
     ]
    }
   ],
   "source": [
    "x0 = jnp.linspace(q_start, q_goal, 5).flatten()\n",
    "x, info = prob.solve(x0, tol=0.5)"
   ]
  },
  {
   "cell_type": "code",
   "execution_count": 71,
   "metadata": {},
   "outputs": [],
   "source": [
    "qs = x.reshape(-1, 7)\n",
    "i = 0"
   ]
  },
  {
   "cell_type": "code",
   "execution_count": 74,
   "metadata": {},
   "outputs": [],
   "source": [
    "panda.set_joint_angles(qs[i])\n",
    "i += 1"
   ]
  },
  {
   "cell_type": "code",
   "execution_count": 109,
   "metadata": {},
   "outputs": [],
   "source": [
    "points = panda.get_surface_points_fn(qs[-1])\n",
    "penets = jax.vmap(env.sdfs[1].penetration, in_axes=(0,None))(points, 0.01)"
   ]
  },
  {
   "cell_type": "code",
   "execution_count": 110,
   "metadata": {},
   "outputs": [
    {
     "data": {
      "text/plain": [
       "Array([], dtype=float32)"
      ]
     },
     "execution_count": 110,
     "metadata": {},
     "output_type": "execute_result"
    }
   ],
   "source": [
    "penets[penets > 0]"
   ]
  },
  {
   "cell_type": "code",
   "execution_count": 112,
   "metadata": {},
   "outputs": [
    {
     "data": {
      "text/plain": [
       "True"
      ]
     },
     "execution_count": 112,
     "metadata": {},
     "output_type": "execute_result"
    }
   ],
   "source": [
    "panda_model.links[\"panda_link0\"] == panda_model.root_link"
   ]
  },
  {
   "cell_type": "code",
   "execution_count": 98,
   "metadata": {},
   "outputs": [
    {
     "data": {
      "text/plain": [
       "Array(0.0381052, dtype=float32)"
      ]
     },
     "execution_count": 98,
     "metadata": {},
     "output_type": "execute_result"
    }
   ],
   "source": [
    "penetration(qs[-1])"
   ]
  },
  {
   "cell_type": "code",
   "execution_count": 97,
   "metadata": {},
   "outputs": [],
   "source": [
    "panda.set_joint_angles(qs[-1])"
   ]
  },
  {
   "cell_type": "code",
   "execution_count": null,
   "metadata": {},
   "outputs": [],
   "source": [
    "panda1 = Robot(world.vis, \"panda1\", panda_model)\n",
    "panda1.reduce_dim([7,8], [0.04, 0.04])"
   ]
  },
  {
   "cell_type": "code",
   "execution_count": null,
   "metadata": {},
   "outputs": [],
   "source": [
    "panda1.reduce_dim([7,8], [0.04, 0.04])"
   ]
  },
  {
   "cell_type": "code",
   "execution_count": null,
   "metadata": {},
   "outputs": [],
   "source": [
    "panda1.set_pose(SE3.from_translation(jnp.array([0, -0.5,0])))"
   ]
  },
  {
   "cell_type": "code",
   "execution_count": null,
   "metadata": {},
   "outputs": [],
   "source": [
    "\n",
    "panda2 = Robot(world.vis, \"panda2\", panda_model)\n",
    "panda2.reduce_dim([7,8], [0.04, 0.04])\n",
    "panda2.set_pose(SE3.from_translation(jnp.array([0, 0.5,0])))"
   ]
  },
  {
   "cell_type": "code",
   "execution_count": null,
   "metadata": {},
   "outputs": [],
   "source": [
    "box = Box(world.vis, \"box1\", [0.5, 0.5, 0.2], [0.2,0.2,0.2], 0.8)"
   ]
  },
  {
   "cell_type": "code",
   "execution_count": null,
   "metadata": {},
   "outputs": [],
   "source": []
  },
  {
   "cell_type": "code",
   "execution_count": null,
   "metadata": {},
   "outputs": [],
   "source": [
    "for i in range(100):\n",
    "    panda1.set_joint_angles(panda1.get_random_config())\n",
    "    panda2.set_joint_angles(panda2.get_random_config())\n",
    "    if panda1.q[-1] != 0.04:\n",
    "        break"
   ]
  },
  {
   "cell_type": "code",
   "execution_count": null,
   "metadata": {},
   "outputs": [],
   "source": [
    "q = panda1.get_random_config()"
   ]
  },
  {
   "cell_type": "code",
   "execution_count": null,
   "metadata": {},
   "outputs": [],
   "source": [
    "if len(panda1.fix_idx) != 0:\n",
    "    qnew = np.zeros(panda1.model.dof)\n",
    "    np.put(qnew, panda1.free_idx, q)\n",
    "    np.put(qnew, panda1.fix_idx, panda1.fix_value)\n",
    "    self.q = qnew\n",
    "else:\n",
    "    self.q = np.asarray(q)"
   ]
  },
  {
   "cell_type": "code",
   "execution_count": null,
   "metadata": {},
   "outputs": [],
   "source": [
    "qnew = np.empty(panda_model.dof)"
   ]
  },
  {
   "cell_type": "code",
   "execution_count": null,
   "metadata": {},
   "outputs": [],
   "source": [
    "np.put(qnew, panda1.fix_idx, panda1.fix_val)"
   ]
  },
  {
   "cell_type": "code",
   "execution_count": null,
   "metadata": {},
   "outputs": [],
   "source": []
  },
  {
   "cell_type": "code",
   "execution_count": null,
   "metadata": {},
   "outputs": [],
   "source": [
    "world.show_in_jupyter()"
   ]
  },
  {
   "cell_type": "code",
   "execution_count": null,
   "metadata": {},
   "outputs": [],
   "source": [
    "from matplotlib.colors import rgb2hex"
   ]
  },
  {
   "cell_type": "code",
   "execution_count": null,
   "metadata": {},
   "outputs": [],
   "source": [
    "to_numpy = lambda x: np.array(x, dtype=np.float64)\n",
    "def mat_from_translate(translate):\n",
    "    translate = jnp.array(translate)\n",
    "    return to_numpy(SE3.from_translation(translate).as_matrix())\n",
    "def to_numpy_tfmat(x):\n",
    "    if isinstance(x, SE3):\n",
    "        return to_numpy(x.as_matrix())\n",
    "    elif isinstance(x, Array):\n",
    "        if x.shape == (7,):\n",
    "            return to_numpy(SE3(x).as_matrix())\n",
    "        else:\n",
    "            return to_numpy(SE3.from_matrix(x))\n",
    "    elif isinstance(x, np.ndarray):\n",
    "        return x\n",
    "    raise NotImplementedError(type(x))\n",
    "def to_SE3(x):\n",
    "    if isinstance(x, np.ndarray):\n",
    "        return SE3.from_matrix(x)\n",
    "    raise NotImplementedError(type(x))\n",
    "\n",
    "class MeshCatObject:\n",
    "    def __init__(self, vis, name):\n",
    "        self.vis = vis\n",
    "        self.name = name\n",
    "        self.handle = self.vis[name]\n",
    "        self.handle.delete()\n",
    "        self.pose = SE3.identity()\n",
    "    \n",
    "    def load(self):\n",
    "        raise NotImplementedError()\n",
    "    \n",
    "    def __del__(self):\n",
    "        self.handle.delete()\n",
    "\n",
    "    def set_pose(self, pose:SE3):\n",
    "        self.pose = pose\n",
    "        self.handle.set_transform(to_numpy_tfmat(pose))\n",
    "\n",
    "class Box(MeshCatObject):\n",
    "    def __init__(self, vis, name, lengths, color, alpha=1.):\n",
    "        assert len(lengths) == 3\n",
    "        super().__init__(vis=vis, name=name)\n",
    "        if not isinstance(color, int):\n",
    "            color = int(rgb2hex(color).replace(\"#\", \"0x\"), 16)\n",
    "        self.lengths = lengths\n",
    "        self.color = color\n",
    "        self.alpha = alpha\n",
    "        self.load()\n",
    "\n",
    "    def load(self):\n",
    "        obj = g.Box(self.lengths)\n",
    "        material = g.MeshLambertMaterial(color=self.color, alpha=self.alpha)\n",
    "        self.handle.set_object(obj, material)\n",
    "\n",
    "class Mesh(MeshCatObject):\n",
    "    def __init__(self, vis, name, path):\n",
    "        super().__init__(vis=vis, name=name)\n",
    "        self.path = path\n",
    "        self.mesh = trimesh.load(path)\n",
    "        if isinstance(self.mesh, trimesh.Scene):\n",
    "            self.mesh = self.mesh.dump(True)\n",
    "        self.load()\n",
    "\n",
    "    def load(self):\n",
    "        exp_obj = export_obj(self.mesh)\n",
    "        obj = g.ObjMeshGeometry.from_stream(\n",
    "            trimesh.util.wrap_as_stream(exp_obj))\n",
    "        self.vis[self.name].set_object(obj)\n",
    "\n",
    "\n",
    "class Frame(MeshCatObject):\n",
    "    def __init__(self, vis, name, length=0.1, r=0.02):\n",
    "        super().__init__(vis=vis, name=name)\n",
    "        self.length = length\n",
    "        self.r = r\n",
    "        self.load()\n",
    "    \n",
    "    def load(self):\n",
    "        axes = [\"x\", \"y\", \"z\"]\n",
    "        colors = [0xff0000, 0x00ff00, 0x0000ff]\n",
    "        length_mat = np.full((3,3), self.r)\n",
    "        np.fill_diagonal(length_mat, self.length)\n",
    "        tf_mat = np.diag([self.length/2]*3)\n",
    "        for i in range(3):\n",
    "            color = colors[i]\n",
    "            obj = g.Box(length_mat[i])\n",
    "            material = g.MeshLambertMaterial(color=color)\n",
    "            self.handle[axes[i]].set_object(obj, material)\n",
    "            self.handle[axes[i]].set_transform(mat_from_translate(tf_mat[i]))"
   ]
  },
  {
   "cell_type": "code",
   "execution_count": null,
   "metadata": {},
   "outputs": [],
   "source": [
    "from pathlib import Path\n",
    "from pybullet_suite import PANDA_URDF\n",
    "urdf = PANDA_URDF\n",
    "package = Path(PANDA_URDF).parent"
   ]
  },
  {
   "cell_type": "code",
   "execution_count": null,
   "metadata": {},
   "outputs": [],
   "source": [
    "__vsc_ipynb_file__"
   ]
  },
  {
   "cell_type": "code",
   "execution_count": null,
   "metadata": {},
   "outputs": [],
   "source": [
    "import xml.etree.ElementTree as ET\n",
    "from typing import *\n",
    "\n",
    "def str2arr(string):\n",
    "    if string is None:\n",
    "        return None\n",
    "    return np.array(string.split(\" \")).astype(float)\n",
    "\n",
    "class Link:\n",
    "    def __init__(self, name, xyz=None, rpy=None, visual_mesh=None, collision_mesh=None, package=None):\n",
    "        self.name = name\n",
    "        self.xyz = str2arr(xyz)\n",
    "        self.rpy = str2arr(rpy)\n",
    "        self.parent: Joint = None\n",
    "        self.child: Joint = None\n",
    "        self.visual_mesh_path = visual_mesh\n",
    "        self.collision_mesh_path = collision_mesh\n",
    "        \n",
    "        if self.has_mesh:\n",
    "            self.visual_mesh_path = self.get_mesh_path(visual_mesh, package)\n",
    "            self.collision_mesh_path = self.get_mesh_path(collision_mesh, package)\n",
    "            self.visual_mesh = self.load_mesh(self.visual_mesh_path)\n",
    "            self.collision_mesh = self.load_mesh(self.collision_mesh_path)\n",
    "\n",
    "    @property\n",
    "    def has_mesh(self):\n",
    "        return (self.visual_mesh_path is not None) or (self.collision_mesh_path is not None)\n",
    "    \n",
    "    @property\n",
    "    def has_mesh_offset(self):\n",
    "        return (self.xyz is not None) or (self.rpy is not None)\n",
    "\n",
    "    def load_mesh(self, path):\n",
    "        mesh = trimesh.load(path)\n",
    "        if isinstance(mesh, trimesh.Scene):\n",
    "            # print(f\"merging mesh scene: {path}\")\n",
    "            mesh = mesh.dump(True)\n",
    "        return mesh\n",
    "    \n",
    "    def get_meshcat_obj(self, type=\"visual\"):\n",
    "        if type == \"visual\":\n",
    "            mesh = self.visual_mesh\n",
    "        else:\n",
    "            raise NotImplementedError(\"visual mesh only\")\n",
    "        exp_obj = export_obj(mesh)\n",
    "        return g.ObjMeshGeometry.from_stream(\n",
    "            trimesh.util.wrap_as_stream(exp_obj))\n",
    "    \n",
    "    def get_T_link_offset(self):\n",
    "        xyz = jnp.array(self.xyz)\n",
    "        rot = SO3.from_rpy_radians(*self.rpy)\n",
    "        return SE3.from_rotation_and_translation(rot, xyz)\n",
    "    \n",
    "    def get_mesh_path(self, path:str, package:Union[str,Path]):\n",
    "        if isinstance(package, str):\n",
    "            return path.replace(\"package:/\", package)\n",
    "        elif isinstance(package, Path):\n",
    "            return path.replace(\"package:/\", package.as_posix())\n",
    "    \n",
    "    def __repr__(self):\n",
    "        return f\"Link:{self.name}\"\n",
    "\n",
    "class Joint:\n",
    "    def __init__(self, name, joint_type, xyz, rpy, parent, child, \n",
    "                 axis=None, lb=None, ub=None):\n",
    "        self.name = name\n",
    "        self.joint_type = joint_type\n",
    "        self.xyz = str2arr(xyz)\n",
    "        self.rpy = str2arr(rpy)\n",
    "        self.parent: Link = parent\n",
    "        self.child: Link = child\n",
    "        self.axis = str2arr(axis)\n",
    "        self.lb = None if lb is None else float(lb)\n",
    "        self.ub = None if lb is None else float(ub)\n",
    "    \n",
    "    @property\n",
    "    def actuated(self):\n",
    "        return self.joint_type != \"fixed\"\n",
    "    \n",
    "    def get_T_offset(self):\n",
    "        xyz = jnp.array(self.xyz)\n",
    "        rot = SO3.from_rpy_radians(*self.rpy)\n",
    "        return SE3.from_rotation_and_translation(rot, xyz)\n",
    "\n",
    "    def get_T_joint(self, q):\n",
    "        if self.joint_type == \"revolute\":\n",
    "            #assume that revolute joint axis is 0 0 1\n",
    "            return SE3.from_rotation(SO3.from_rpy_radians(0,0,q))\n",
    "        elif self.joint_type == \"prismatic\":\n",
    "            return SE3.from_translation(jnp.array(self.axis * q))\n",
    "\n",
    "    def __repr__(self):\n",
    "        return f\"Joint:{self.name}\"\n",
    "    \n",
    "class Robot(MeshCatObject):\n",
    "    def __init__(self, vis, name, urdf, package, compile_fk=True, visualize=True):\n",
    "        super().__init__(vis, name)\n",
    "        self.urdf = urdf\n",
    "        self.packge = package\n",
    "        self.links: Dict[str,Link] = {}\n",
    "        self.joints: Dict[str,Joint] = {}\n",
    "        self.fk_fn = None #jitted FK\n",
    "        self.fk = None #compiled FK\n",
    "        self.dof = None\n",
    "        self.view_col_mesh = False #not implemented\n",
    "        self.view_visual_mesh = True\n",
    "        self.q = None\n",
    "        self.lb = None\n",
    "        self.ub = None\n",
    "        self.neutral = None\n",
    "\n",
    "        self.parse_urdf()\n",
    "        if compile_fk:\n",
    "            self.compile_fk()\n",
    "        if visualize:\n",
    "            self.load()\n",
    "            self.set_joint_angles(self.q)\n",
    "\n",
    "    def load(self):\n",
    "        for link in self.links.values():\n",
    "            # for now, only supports visual mesh\n",
    "            if link.has_mesh:\n",
    "                obj = link.get_meshcat_obj(\"visual\")\n",
    "                self.handle[\"visual\"][link.name].set_object(obj)\n",
    "\n",
    "    def show(self):\n",
    "        Ts = np.asarray(self.fk(self.q), dtype=np.float64)\n",
    "        i = 0\n",
    "        for i, link in enumerate(self.links.values()):\n",
    "            if not link.has_mesh: continue\n",
    "            self.handle[\"visual\"][link.name].set_transform(Ts[i])\n",
    "            i += 1\n",
    "\n",
    "\n",
    "    def set_joint_angles(self, q:Array):\n",
    "        assert len(q) == self.dof\n",
    "        self.q = q\n",
    "        self.show()\n",
    "    \n",
    "    def parse_urdf(self):\n",
    "        tree = ET.parse(self.urdf)\n",
    "        root = tree.getroot()\n",
    "\n",
    "        #parse links\n",
    "        for link in root.iter(\"link\"):\n",
    "            xyz = rpy = None\n",
    "            name = link.attrib[\"name\"]\n",
    "            visual_mesh = collision_mesh = None\n",
    "            if link.find(\"visual\") is not None:\n",
    "                visual_mesh = link.find(\"visual\").find(\"geometry\").find(\"mesh\").attrib[\"filename\"]\n",
    "                if link.find(\"visual\").find(\"origin\") is not None:\n",
    "                    xyz = link.find(\"visual\").find(\"origin\").attrib[\"xyz\"]\n",
    "                    rpy = link.find(\"visual\").find(\"origin\").attrib[\"rpy\"]\n",
    "            if link.find(\"collision\") is not None:\n",
    "                collision_mesh = link.find(\"collision\").find(\"geometry\").find(\"mesh\").attrib[\"filename\"]\n",
    "            self.links[name] = Link(\n",
    "                name, xyz, rpy, visual_mesh, collision_mesh, self.packge)\n",
    "        last_link_name = name\n",
    "\n",
    "        #parse joints\n",
    "        self.joints = {}\n",
    "        for joint in root.iter(\"joint\"):\n",
    "            name = joint.attrib[\"name\"]\n",
    "            joint_type = joint.attrib[\"type\"]\n",
    "            xyz = joint.find(\"origin\").attrib[\"xyz\"]\n",
    "            rpy = joint.find(\"origin\").attrib[\"rpy\"]\n",
    "            parent_name = joint.find(\"parent\").attrib[\"link\"]\n",
    "            parent = self.links[parent_name]\n",
    "            child_name = joint.find(\"child\").attrib[\"link\"]\n",
    "            child = self.links[child_name]\n",
    "            axis = lb = ub = None\n",
    "            if joint_type != \"fixed\":\n",
    "                axis = joint.find(\"axis\").attrib[\"xyz\"]\n",
    "                lb = joint.find(\"limit\").attrib[\"lower\"]\n",
    "                ub = joint.find(\"limit\").attrib[\"upper\"]\n",
    "            self.joints[name] = Joint(name, joint_type, xyz, rpy, parent, child, axis, lb, ub)\n",
    "            parent.child = self.joints[name]\n",
    "            child.parent = self.joints[name]\n",
    "        \n",
    "        #set parameters\n",
    "        self.root_link = self.get_root_link(self.links[last_link_name])\n",
    "        self.dof = 0\n",
    "        for joint in self.joints.values():\n",
    "            if joint.joint_type != \"fixed\":\n",
    "                self.dof += 1\n",
    "        self.lb = np.array([joint.lb for joint in self.joints.values() if joint.actuated])\n",
    "        self.ub = np.array([joint.ub for joint in self.joints.values() if joint.actuated])\n",
    "        self.neutral = (self.lb + self.ub) / 2\n",
    "        self.q = self.neutral\n",
    "        \n",
    "    def compile_fk(self):\n",
    "        def fk(q):\n",
    "            Tlink = {}\n",
    "            Tlink[self.root_link.name] = SE3.identity()\n",
    "            dof_idx = 0\n",
    "            for link in self.links.values():\n",
    "                if link.name in Tlink: continue\n",
    "                parent_joint = link.parent\n",
    "                parent_link = parent_joint.parent\n",
    "                T = Tlink[parent_link.name] @ parent_joint.get_T_offset()\n",
    "                if parent_joint.joint_type != \"fixed\":\n",
    "                    theta = q[dof_idx]\n",
    "                    T = T @ parent_joint.get_T_joint(theta)\n",
    "                    dof_idx += 1\n",
    "                if link.has_mesh_offset:\n",
    "                    T = T @ link.get_T_link_offset()\n",
    "                Tlink[link.name] = T\n",
    "            return jnp.stack([T.as_matrix() for T in Tlink.values()], axis=0)\n",
    "        self.fk_fn = jax.jit(fk)\n",
    "        self.fk = self.fk_fn.lower(jnp.zeros(self.dof)).compile()\n",
    "\n",
    "    def get_root_link(self, link:Link):\n",
    "        while True:\n",
    "            if link.parent is None:\n",
    "                break\n",
    "            link = link.parent\n",
    "        return link\n",
    "    \n",
    "    def get_random_config(self):\n",
    "        return np.random.uniform(self.lb, self.ub)\n",
    "        "
   ]
  },
  {
   "cell_type": "code",
   "execution_count": null,
   "metadata": {},
   "outputs": [],
   "source": [
    "frame = Frame(world.vis, \"debug\", length=0.3)"
   ]
  },
  {
   "cell_type": "code",
   "execution_count": null,
   "metadata": {},
   "outputs": [],
   "source": [
    "robot = Robot(world.vis, \"panda\", urdf, package)"
   ]
  },
  {
   "cell_type": "code",
   "execution_count": null,
   "metadata": {},
   "outputs": [],
   "source": [
    "%timeit robot.set_joint_angles(robot.neutral)"
   ]
  },
  {
   "cell_type": "code",
   "execution_count": null,
   "metadata": {},
   "outputs": [],
   "source": [
    "%timeit robot.fk(robot.neutral)"
   ]
  },
  {
   "cell_type": "code",
   "execution_count": null,
   "metadata": {},
   "outputs": [],
   "source": []
  },
  {
   "cell_type": "code",
   "execution_count": null,
   "metadata": {},
   "outputs": [],
   "source": [
    "self.lb = np.array([joint.lb for joint in self.joints.values() if joint.actuated])\n",
    "self.ub = np.array([joint.ub for joint in self.joints.values() if joint.actuated])\n",
    "self.neutral = (self.lb + self.ub) / 2"
   ]
  },
  {
   "cell_type": "code",
   "execution_count": null,
   "metadata": {},
   "outputs": [],
   "source": [
    "robot.set_joint_angles(jnp.zeros(9))"
   ]
  },
  {
   "cell_type": "code",
   "execution_count": null,
   "metadata": {},
   "outputs": [],
   "source": [
    "roboturdf.load()"
   ]
  },
  {
   "cell_type": "code",
   "execution_count": null,
   "metadata": {},
   "outputs": [],
   "source": [
    "robot.set_joint_angles(jnp.array([-0.,0.3,0.3,-0.2,0.3,0.3,0.2,0.04,0.04]))"
   ]
  },
  {
   "cell_type": "code",
   "execution_count": null,
   "metadata": {},
   "outputs": [],
   "source": [
    "import trimesh"
   ]
  },
  {
   "cell_type": "code",
   "execution_count": null,
   "metadata": {},
   "outputs": [],
   "source": [
    "mesh_path = roboturdf.links[\"panda_link6\"].get_mesh_path(package, \"visual\")"
   ]
  },
  {
   "cell_type": "code",
   "execution_count": null,
   "metadata": {},
   "outputs": [],
   "source": [
    "mesh = trimesh.load(mesh_path)"
   ]
  },
  {
   "cell_type": "code",
   "execution_count": null,
   "metadata": {},
   "outputs": [],
   "source": [
    "world.vis.set_object(obj)"
   ]
  },
  {
   "cell_type": "code",
   "execution_count": null,
   "metadata": {},
   "outputs": [],
   "source": []
  },
  {
   "cell_type": "code",
   "execution_count": null,
   "metadata": {},
   "outputs": [],
   "source": [
    "mesh = Mesh(world.vis, \"test\", mesh_path)"
   ]
  },
  {
   "cell_type": "code",
   "execution_count": null,
   "metadata": {},
   "outputs": [],
   "source": [
    "del mesh"
   ]
  },
  {
   "cell_type": "code",
   "execution_count": null,
   "metadata": {},
   "outputs": [],
   "source": [
    "mesh.load()"
   ]
  },
  {
   "cell_type": "code",
   "execution_count": null,
   "metadata": {},
   "outputs": [],
   "source": [
    "world.vis.delete()"
   ]
  },
  {
   "cell_type": "code",
   "execution_count": null,
   "metadata": {},
   "outputs": [],
   "source": [
    "roboturdf.set_view(view_col_mesh=False, view_visual_mesh=True)"
   ]
  },
  {
   "cell_type": "code",
   "execution_count": null,
   "metadata": {},
   "outputs": [],
   "source": [
    "q = jnp.array([0.05,0,0,0,0,0,0,0.,0.])\n",
    "#roboturdf.fk(q)\n",
    "roboturdf.set_joint_angles(q)"
   ]
  },
  {
   "cell_type": "code",
   "execution_count": null,
   "metadata": {},
   "outputs": [],
   "source": []
  },
  {
   "cell_type": "code",
   "execution_count": null,
   "metadata": {},
   "outputs": [],
   "source": []
  },
  {
   "cell_type": "code",
   "execution_count": null,
   "metadata": {},
   "outputs": [],
   "source": [
    "link = roboturdf.links[\"panda_link0\"]"
   ]
  },
  {
   "cell_type": "code",
   "execution_count": null,
   "metadata": {},
   "outputs": [],
   "source": [
    "file = link.visual_mesh_path.replace(\"package:/\", package.as_posix())\n",
    "obj = g.ObjMeshGeometry.from_file(file)"
   ]
  },
  {
   "cell_type": "code",
   "execution_count": null,
   "metadata": {},
   "outputs": [],
   "source": [
    "obj = roboturdf.get_mesh(link.visual_mesh_path)"
   ]
  },
  {
   "cell_type": "code",
   "execution_count": null,
   "metadata": {},
   "outputs": [],
   "source": [
    "box = Box(world.vis, \"box1\", [0.1, 0.1, 0.1], [1,0,0], 0.8)"
   ]
  },
  {
   "cell_type": "code",
   "execution_count": null,
   "metadata": {},
   "outputs": [],
   "source": [
    "del box"
   ]
  },
  {
   "cell_type": "code",
   "execution_count": null,
   "metadata": {},
   "outputs": [],
   "source": [
    "panda = world.vis[\"panda\"]\n",
    "panda.delete()"
   ]
  },
  {
   "cell_type": "code",
   "execution_count": null,
   "metadata": {},
   "outputs": [],
   "source": [
    "panda.set_object(obj)"
   ]
  },
  {
   "cell_type": "code",
   "execution_count": null,
   "metadata": {},
   "outputs": [],
   "source": [
    "roboturdf.handle[\"visual\"][\"link0\"].set_object(obj)"
   ]
  },
  {
   "cell_type": "code",
   "execution_count": null,
   "metadata": {},
   "outputs": [],
   "source": [
    "link"
   ]
  },
  {
   "cell_type": "code",
   "execution_count": null,
   "metadata": {},
   "outputs": [],
   "source": [
    "col = self.handle[\"collision\"]\n",
    "visual = self.handle[\"visual\"]\n",
    "for link in self.links.values():\n",
    "    if link.visual_mesh is not None:\n",
    "        visual[link.name].set_object(self.get_mesh(link.visual_mesh))\n",
    "    if link.collision_mesh is not None:\n",
    "        col[link.name].set_object(self.get_mesh(link.collision_mesh))"
   ]
  },
  {
   "cell_type": "code",
   "execution_count": null,
   "metadata": {},
   "outputs": [],
   "source": [
    "roboturdf.load()"
   ]
  },
  {
   "cell_type": "code",
   "execution_count": null,
   "metadata": {},
   "outputs": [],
   "source": [
    "ro"
   ]
  },
  {
   "cell_type": "code",
   "execution_count": null,
   "metadata": {},
   "outputs": [],
   "source": [
    "roboturdf.packge"
   ]
  },
  {
   "cell_type": "code",
   "execution_count": null,
   "metadata": {},
   "outputs": [],
   "source": [
    "roboturdf.fk"
   ]
  },
  {
   "cell_type": "code",
   "execution_count": null,
   "metadata": {},
   "outputs": [],
   "source": [
    "roboturdf.compile_fk()"
   ]
  },
  {
   "cell_type": "code",
   "execution_count": null,
   "metadata": {},
   "outputs": [],
   "source": [
    "%timeit roboturdf.fk(np.random.random(9))"
   ]
  },
  {
   "cell_type": "code",
   "execution_count": null,
   "metadata": {},
   "outputs": [],
   "source": [
    "roboturdf.fk(np.random.random(9))"
   ]
  },
  {
   "cell_type": "code",
   "execution_count": null,
   "metadata": {},
   "outputs": [],
   "source": []
  },
  {
   "cell_type": "code",
   "execution_count": null,
   "metadata": {},
   "outputs": [],
   "source": []
  },
  {
   "cell_type": "code",
   "execution_count": null,
   "metadata": {},
   "outputs": [],
   "source": [
    "self.links[\"panda_link0\"].collision_mesh"
   ]
  },
  {
   "cell_type": "code",
   "execution_count": null,
   "metadata": {},
   "outputs": [],
   "source": [
    "\n",
    "class Panda(MeshCatObject):\n",
    "    def __init__(self, vis, name, urdf_path, package_path):\n",
    "        super().__init__(vis=vis, name=name)\n",
    "        self.urdf_path = urdf_path #urdf should be in path, meshes should be in path/meshes/{collision, visual}/{link}.obj or dae\n",
    "        self.package_path = package_path\n",
    "        self.links = [\"link0\", \"link1\", \"link2\", \"link3\", \"link4\", \"link5\", \"link6\", \"link7\", \"hand\", \"finger\", \"finger\"]\n",
    "        self.paths = [f\"./Panda/meshes/visual/{link}.dae\" for link in self.links]\n",
    "        self.links[-2] = \"finger_l\"\n",
    "        self.links[-1] = \"finger_r\"\n",
    "        self.panda = self.vis[\"panda\"]\n",
    "        \n",
    "        self.link_dict, self.joint_dict = None, None\n",
    "        self.load_urdf()\n",
    "\n",
    "        self.fk_fn = jax.jit(self.get_fk_fn())\n",
    "        self.show()"
   ]
  },
  {
   "cell_type": "code",
   "execution_count": null,
   "metadata": {},
   "outputs": [],
   "source": [
    "frame = Frame(world.vis, \"f1\")"
   ]
  },
  {
   "cell_type": "code",
   "execution_count": null,
   "metadata": {},
   "outputs": [],
   "source": [
    "frame.set_pose(mat_from_translate([1,0.1, 0.3]))"
   ]
  },
  {
   "cell_type": "code",
   "execution_count": null,
   "metadata": {},
   "outputs": [],
   "source": [
    "del frame"
   ]
  },
  {
   "cell_type": "code",
   "execution_count": null,
   "metadata": {},
   "outputs": [],
   "source": [
    "frame.handle.delete()"
   ]
  },
  {
   "cell_type": "code",
   "execution_count": null,
   "metadata": {},
   "outputs": [],
   "source": [
    "frame.length"
   ]
  },
  {
   "cell_type": "code",
   "execution_count": null,
   "metadata": {},
   "outputs": [],
   "source": [
    "frame = world.vis[\"frame\"]"
   ]
  },
  {
   "cell_type": "code",
   "execution_count": null,
   "metadata": {},
   "outputs": [],
   "source": [
    "r = 0.1\n",
    "length = 1."
   ]
  },
  {
   "cell_type": "code",
   "execution_count": null,
   "metadata": {},
   "outputs": [],
   "source": [
    "x, y, z = np.eye(3)"
   ]
  },
  {
   "cell_type": "code",
   "execution_count": null,
   "metadata": {},
   "outputs": [],
   "source": [
    "frame = world.vis['frame']\n",
    "frame.delete()"
   ]
  },
  {
   "cell_type": "code",
   "execution_count": null,
   "metadata": {},
   "outputs": [],
   "source": [
    "axes = [\"x\", \"y\", \"z\"]\n",
    "colors = [0xff0000, 0x00ff00, 0x0000ff]\n",
    "length_mat = np.full((3,3), r)\n",
    "np.fill_diagonal(length_mat, length)\n",
    "tf_mat = np.diag([length/2]*3)\n",
    "for i in range(3):\n",
    "    color = colors[i]\n",
    "    obj = g.Box(length_mat[i])\n",
    "    material = g.MeshLambertMaterial(color=color)\n",
    "    frame[axes[i]].set_object(obj, material)\n",
    "    frame[axes[i]].set_transform(mat_from_translate(tf_mat[i]))"
   ]
  },
  {
   "cell_type": "code",
   "execution_count": null,
   "metadata": {},
   "outputs": [],
   "source": [
    "frame.delete()"
   ]
  },
  {
   "cell_type": "code",
   "execution_count": null,
   "metadata": {},
   "outputs": [],
   "source": [
    "tf_mat"
   ]
  },
  {
   "cell_type": "code",
   "execution_count": null,
   "metadata": {},
   "outputs": [],
   "source": [
    "length_mat"
   ]
  },
  {
   "cell_type": "code",
   "execution_count": null,
   "metadata": {},
   "outputs": [],
   "source": [
    "frame.delete()"
   ]
  },
  {
   "cell_type": "code",
   "execution_count": null,
   "metadata": {},
   "outputs": [],
   "source": []
  },
  {
   "cell_type": "code",
   "execution_count": null,
   "metadata": {},
   "outputs": [],
   "source": []
  },
  {
   "cell_type": "code",
   "execution_count": null,
   "metadata": {},
   "outputs": [],
   "source": [
    "obj = g.Box([length, r, r])\n",
    "material = g.MeshLambertMaterial(color=0xff0000)\n",
    "frame[\"x\"].set_object(obj, material)"
   ]
  },
  {
   "cell_type": "code",
   "execution_count": null,
   "metadata": {},
   "outputs": [],
   "source": [
    "tf = SE3.from_translation(jnp.array([length/2, 0, 0])).as_matrix()\n",
    "tf = to_numpy(tf)\n",
    "frame[\"x\"].set_transform(tf)"
   ]
  },
  {
   "cell_type": "code",
   "execution_count": null,
   "metadata": {},
   "outputs": [],
   "source": [
    "frame[\"x\"]"
   ]
  },
  {
   "cell_type": "code",
   "execution_count": null,
   "metadata": {},
   "outputs": [],
   "source": [
    "box = Box(world.vis, \"box\", [0.5, 0.4, 0.3], [1,0,0], 0.8)"
   ]
  },
  {
   "cell_type": "code",
   "execution_count": null,
   "metadata": {},
   "outputs": [],
   "source": [
    "mat = to_numpy(SE3.from_translation(jnp.array([1,0,0])).as_matrix())\n",
    "box.vis[\"box\"].set_transform(mat)"
   ]
  },
  {
   "cell_type": "code",
   "execution_count": null,
   "metadata": {},
   "outputs": [],
   "source": [
    "pose = SE3.from_translation(jnp.array([0, 0, 0.5]))"
   ]
  },
  {
   "cell_type": "code",
   "execution_count": null,
   "metadata": {},
   "outputs": [],
   "source": [
    "box.set_pose(SE3.from_translation(jnp.array([0, 0, 0.3])))"
   ]
  },
  {
   "cell_type": "code",
   "execution_count": null,
   "metadata": {},
   "outputs": [],
   "source": [
    "del box"
   ]
  },
  {
   "cell_type": "code",
   "execution_count": null,
   "metadata": {},
   "outputs": [],
   "source": [
    "world.vis.delete()"
   ]
  },
  {
   "cell_type": "code",
   "execution_count": null,
   "metadata": {},
   "outputs": [],
   "source": [
    "def create_box(name, lengths, color, alpha=1.):\n",
    "    if not isinstance(color, int):\n",
    "        color = int(rgb2hex(color).replace(\"#\", \"0x\"), 16)\n",
    "    obj = g.Box(lengths)\n",
    "    material = g.MeshLambertMaterial(color=color, opacity=alpha)\n",
    "    world.vis[name].set_object(obj, material)\n",
    "\n",
    "def create_table(lengths, offsets, color, alpha, ):\n",
    "    \"\"\"if offset_z=0, ground-level\"\"\"\n",
    "    create_box()\n",
    "    "
   ]
  },
  {
   "cell_type": "code",
   "execution_count": null,
   "metadata": {},
   "outputs": [],
   "source": []
  },
  {
   "cell_type": "code",
   "execution_count": null,
   "metadata": {},
   "outputs": [],
   "source": [
    "create_box(\"box\", [0.5, 0.4, 0.3], [0, 1, 0], 0.8)"
   ]
  },
  {
   "cell_type": "code",
   "execution_count": null,
   "metadata": {},
   "outputs": [],
   "source": [
    "obj = g.Box(lengths=[0.5, 0.4, 0.3])\n",
    "material = g.MeshLambertMaterial(color=0xff0000, opacity=0.2)\n",
    "box.set_object(obj, material)"
   ]
  },
  {
   "cell_type": "code",
   "execution_count": null,
   "metadata": {},
   "outputs": [],
   "source": []
  }
 ],
 "metadata": {
  "kernelspec": {
   "display_name": "opt_env",
   "language": "python",
   "name": "python3"
  },
  "language_info": {
   "codemirror_mode": {
    "name": "ipython",
    "version": 3
   },
   "file_extension": ".py",
   "mimetype": "text/x-python",
   "name": "python",
   "nbconvert_exporter": "python",
   "pygments_lexer": "ipython3",
   "version": "3.8.15"
  },
  "orig_nbformat": 4
 },
 "nbformat": 4,
 "nbformat_minor": 2
}
