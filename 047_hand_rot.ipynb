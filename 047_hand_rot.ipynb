{
 "cells": [
  {
   "cell_type": "code",
   "execution_count": 1,
   "metadata": {},
   "outputs": [],
   "source": [
    "import numpy as np\n",
    "import jax.numpy as jnp\n",
    "import jax\n",
    "import cyipopt\n",
    "\n",
    "from functools import partial\n",
    "from typing import *\n",
    "from dataclasses import dataclass, field\n",
    "from jaxlie import SE3, SO3\n",
    "import jax_dataclasses as jdc\n",
    "\n",
    "from sdf_world.sdf_world import *\n",
    "from sdf_world.robots import *\n",
    "from sdf_world.util import *\n",
    "from sdf_world.network import *\n",
    "from sdf_world.sparse_ipopt import *\n",
    "\n",
    "import time"
   ]
  },
  {
   "cell_type": "code",
   "execution_count": 2,
   "metadata": {},
   "outputs": [
    {
     "name": "stdout",
     "output_type": "stream",
     "text": [
      "You can open the visualizer by visiting the following URL:\n",
      "http://127.0.0.1:7005/static/\n"
     ]
    }
   ],
   "source": [
    "world = SDFWorld()"
   ]
  },
  {
   "cell_type": "code",
   "execution_count": 3,
   "metadata": {},
   "outputs": [
    {
     "data": {
      "text/plain": [
       "['gen3+hand_e', 'panda+panda_hand']"
      ]
     },
     "execution_count": 3,
     "metadata": {},
     "output_type": "execute_result"
    }
   ],
   "source": [
    "PREDEFINED_ROBOTS"
   ]
  },
  {
   "cell_type": "code",
   "execution_count": 4,
   "metadata": {},
   "outputs": [],
   "source": [
    "gen3 = get_predefined_robot(world.vis, \"gen3+hand_e\")\n",
    "panda = get_predefined_robot(world.vis, \"panda+panda_hand\")"
   ]
  },
  {
   "cell_type": "code",
   "execution_count": 5,
   "metadata": {},
   "outputs": [],
   "source": [
    "#load sdf meshes\n",
    "table_lengths = [0.4, 0.4, 0.2]\n",
    "table_start = Box(world.vis, \"table_start\", table_lengths, 'white', 0.5)\n",
    "table_goal = Box(world.vis, \"table_goal\", table_lengths, 'white', 0.5)\n",
    "obstacle = Box(world.vis, \"obstacle\", [0.4, 0.2, 0.35], 'white', 0.5)\n",
    "\n",
    "obj_start = Mesh(world.vis, \"obj_start\", \n",
    "                 \"./sdf_world/assets/object/mesh.obj\",\n",
    "                 color=\"blue\", alpha=0.5)\n",
    "obj_goal = Mesh(world.vis, \"obj_goal\", \n",
    "                \"./sdf_world/assets/object/mesh.obj\",\n",
    "                color=\"green\", alpha=0.5)\n",
    "obj_ho = Mesh(world.vis, \"obj_ho\", \n",
    "                \"./sdf_world/assets/object/mesh.obj\",\n",
    "                color=\"yellow\", alpha=0.5)\n",
    "obj = Mesh(world.vis, \"obj\", \n",
    "                \"./sdf_world/assets/object/mesh.obj\",\n",
    "                color=\"white\", alpha=0.8)"
   ]
  },
  {
   "cell_type": "code",
   "execution_count": 6,
   "metadata": {},
   "outputs": [],
   "source": [
    "def SE3_trans(xyz):\n",
    "    return SE3.from_translation(jnp.array(xyz))\n",
    "\n",
    "ydev = 0.4\n",
    "gen3_base_pose = SE3_trans([0, -ydev, 0])\n",
    "panda_base_pose = SE3_trans([0, ydev, 0])\n",
    "gen3.set_base_pose(gen3_base_pose)\n",
    "panda.set_base_pose(panda_base_pose)\n",
    "\n",
    "table_start.set_translate([0.45, -ydev, 0.2/2])\n",
    "table_goal.set_translate([0.45, ydev, 0.2/2])\n",
    "obj_lengths = obj_start.mesh.bounding_box.primitive.extents\n",
    "obj_start.set_translate([0.45, -0.4, obj_lengths[-1]/2+table_lengths[-1]])\n",
    "trans_goal = jnp.array([0.45, 0.4, obj_lengths[-2]/2+table_lengths[-1]])\n",
    "obstacle.set_translate([0.45, 0., 0.35/2])\n",
    "obj_goal_pose = SE3.from_rotation_and_translation(\n",
    "    SO3.from_rpy_radians(jnp.pi/2, 0,0), trans_goal)\n",
    "obj_goal.set_pose(obj_goal_pose)\n",
    "obj.set_translate([0.45, -0.4, obj_lengths[-1]/2+table_lengths[-1]])\n",
    "obj_ho.set_translate([0.3, 0., 0.6])"
   ]
  },
  {
   "cell_type": "code",
   "execution_count": 7,
   "metadata": {},
   "outputs": [],
   "source": [
    "hande = Gripper(world.vis, \"hande\", gen3.gripper.model, \n",
    "                gen3.gripper.tool_pose_offset, max_width=0.05, scale=0.001)\n",
    "panda_hand = Gripper(world.vis, \"panda_hand\", panda.gripper.model, \n",
    "                    panda.gripper.tool_pose_offset, max_width=0.08, is_rev_type=False)"
   ]
  },
  {
   "cell_type": "code",
   "execution_count": 11,
   "metadata": {},
   "outputs": [],
   "source": [
    "from sdf_world.network import *\n",
    "# learned model\n",
    "# models \n",
    "orbax_checkpointer = orbax.checkpoint.PyTreeCheckpointer()\n",
    "restored_grasp = orbax_checkpointer.restore(\"model/grasp_net_prob_dist\")\n",
    "restored_manip_gen3 = orbax_checkpointer.restore(\"model/manip_net_gen3\")\n",
    "restored_manip_panda = orbax_checkpointer.restore(\"model/manip_net\")\n",
    "\n",
    "#grasp net\n",
    "grasp_net = GraspNet(32, 6)\n",
    "grasp_fn = lambda x: grasp_net.apply(restored_grasp[\"params\"], x)\n",
    "\n",
    "grasp_logit_fn = lambda g: grasp_fn(g)[0]\n",
    "grasp_dist_fn = lambda g: grasp_fn(g)[1]\n",
    "\n",
    "#functions\n",
    "def grasp_reconst(grasp:Array):\n",
    "    rot = SO3(grasp_fn(grasp)[2:]).normalize()\n",
    "    trans = grasp/restored_grasp[\"scale_to_norm\"]\n",
    "    return SE3.from_rotation_and_translation(rot, trans)\n",
    "def grasp_embedding(grasp_point):\n",
    "    grasp = grasp_point * restored_grasp[\"scale_to_norm\"]\n",
    "    return grasp\n",
    "\n",
    "#manip net: input: wxyzxyz\n",
    "manip_net = ManipNet(64)\n",
    "zflip = SE3.from_rotation(SO3.from_z_radians(jnp.pi))\n",
    "def manip_gen3(grasp_pose_world:SE3, robot_pose:SE3):\n",
    "    grasp_pose_robot = robot_pose.inverse() @ grasp_pose_world\n",
    "    grasp_pose_robot_flip = grasp_pose_robot @ zflip\n",
    "    inputs = jnp.vstack([\n",
    "        grasp_pose_robot.parameters(), \n",
    "        grasp_pose_robot_flip.parameters() ])\n",
    "    return jax.vmap(manip_net.apply, (None, 0))(\n",
    "        restored_manip_gen3[\"params\"], inputs).flatten().max()\n",
    "\n",
    "def manip_panda(grasp_pose_world:SE3, robot_pose:SE3):\n",
    "    grasp_pose_robot = robot_pose.inverse() @ grasp_pose_world\n",
    "    grasp_pose_robot_flip = grasp_pose_robot @ zflip\n",
    "    inputs = jnp.vstack([\n",
    "        grasp_pose_robot.parameters(), \n",
    "        grasp_pose_robot_flip.parameters() ])\n",
    "    return jax.vmap(manip_net.apply, (None, 0))(\n",
    "        restored_manip_panda[\"params\"], inputs).flatten().max()"
   ]
  },
  {
   "cell_type": "code",
   "execution_count": 23,
   "metadata": {},
   "outputs": [],
   "source": [
    "frame1 = Frame(world.vis, \"frame1\")\n",
    "frame2 = Frame(world.vis, \"frame2\")"
   ]
  },
  {
   "cell_type": "code",
   "execution_count": 32,
   "metadata": {},
   "outputs": [],
   "source": [
    "#prob\n",
    "g1 = np.random.uniform(-1, 1, size=3)\n",
    "g2 = np.random.uniform(-1, 1, size=3)\n",
    "\n",
    "hande.set_tool_pose(obj_ho.pose@grasp_reconst(g1))\n",
    "panda_hand.set_tool_pose(obj_ho.pose@grasp_reconst(g2))"
   ]
  },
  {
   "cell_type": "code",
   "execution_count": 33,
   "metadata": {},
   "outputs": [],
   "source": [
    "gen3_neutral = jnp.array([0,0,0.,np.pi/3,0,np.pi/2,0.2])\n",
    "panda_neutral = (panda.arm.model.ub + panda.arm.model.lb)/2"
   ]
  },
  {
   "cell_type": "code",
   "execution_count": 36,
   "metadata": {},
   "outputs": [],
   "source": [
    "\n",
    "gen3.set_joint_angles(q1)\n",
    "panda.set_joint_angles(q2)"
   ]
  },
  {
   "cell_type": "code",
   "execution_count": 38,
   "metadata": {},
   "outputs": [],
   "source": [
    "fk_ee_gen3 = gen3.get_fk_ee_fn()\n",
    "fk_ee_panda = panda.get_fk_ee_fn()"
   ]
  },
  {
   "cell_type": "code",
   "execution_count": 60,
   "metadata": {},
   "outputs": [],
   "source": [
    "#q1, q2, p\n",
    "q1, q2 = gen3_neutral, panda_neutral\n",
    "p = jnp.array([0.3, 0. , 0.6])\n",
    "\n",
    "obj_frame = SE3.from_translation(p)\n",
    "tcp_gen3 = gen3_base_pose.apply(fk_ee_gen3(q1)[-3:])\n",
    "tcp_panda = panda_base_pose.apply(fk_ee_panda(q2)[-3:])\n",
    "grasp_point1 = obj_frame.apply(grasp_reconst(g1).translation())\n",
    "grasp_point2 = obj_frame.apply(grasp_reconst(g2).translation())\n",
    "rot_points = jnp.vstack([grasp_point1, grasp_point2])\n",
    "ref_points = jnp.vstack([tcp_gen3, tcp_panda])"
   ]
  },
  {
   "cell_type": "code",
   "execution_count": 77,
   "metadata": {},
   "outputs": [],
   "source": [
    "def residual(ec, rot_points, ref_points):\n",
    "    rot = SO3.exp(ec)\n",
    "    d = jax.vmap(rot.apply)(rot_points) - ref_points\n",
    "    return jnp.hstack(d)\n",
    "\n",
    "vg_residual_fn = value_and_jacfwd(residual, argnums=0)"
   ]
  },
  {
   "cell_type": "code",
   "execution_count": 68,
   "metadata": {},
   "outputs": [],
   "source": [
    "from typing import NamedTuple\n",
    "\n",
    "class Carry(NamedTuple):\n",
    "    rot_points: jnp.ndarray\n",
    "    ref_points: jnp.ndarray\n",
    "    ec: jnp.ndarray = jnp.zeros(3)\n",
    "    d: jnp.ndarray = jnp.zeros(3)\n",
    "    i: int = 0\n",
    "    damping: float = 0.04\n",
    "    threshold: float = 1e-4\n",
    "    max_iter: int = 10\n",
    "\n",
    "    def update(self, d):\n",
    "        return Carry(\n",
    "            self.rot_points, self.ref_points, \n",
    "            self.ec+d, d, self.i+1, self.damping)\n",
    "\n",
    "def get_rot_body(carry:Carry):\n",
    "    res, jac = vg_residual_fn(carry.ec, carry.rot_points, carry.ref_points)\n",
    "    hess = jac.T@jac\n",
    "    d = jnp.linalg.solve((hess+carry.damping*jnp.eye(3)), -jac.T@res)\n",
    "    return carry.update(d)\n",
    "    \n",
    "def get_rot_cond(carry:Carry):\n",
    "    return (jnp.linalg.norm(carry.d) > carry.threshold) | (carry.i < carry.max_iter)"
   ]
  },
  {
   "cell_type": "code",
   "execution_count": 69,
   "metadata": {},
   "outputs": [],
   "source": [
    "carry = Carry(rot_points, ref_points)\n",
    "result = jax.lax.while_loop(get_rot_cond, get_rot_body, carry)"
   ]
  },
  {
   "cell_type": "code",
   "execution_count": 74,
   "metadata": {},
   "outputs": [],
   "source": [
    "pose_ho = SE3.from_rotation_and_translation(SO3.exp(result.ec), p)"
   ]
  },
  {
   "cell_type": "code",
   "execution_count": 75,
   "metadata": {},
   "outputs": [],
   "source": [
    "obj_ho.set_pose(pose_ho)"
   ]
  },
  {
   "cell_type": "code",
   "execution_count": 76,
   "metadata": {},
   "outputs": [],
   "source": [
    "hande.set_tool_pose(pose_ho@grasp_reconst(g1))\n",
    "panda_hand.set_tool_pose(pose_ho@grasp_reconst(g2))"
   ]
  },
  {
   "cell_type": "code",
   "execution_count": 66,
   "metadata": {},
   "outputs": [
    {
     "data": {
      "text/plain": [
       "Array([-0.19138832, -0.3921138 , -0.06205126], dtype=float32)"
      ]
     },
     "execution_count": 66,
     "metadata": {},
     "output_type": "execute_result"
    }
   ],
   "source": [
    "jax.grad(residual_sqrsum)(jnp.zeros(3), rot_points, ref_points)"
   ]
  },
  {
   "cell_type": "code",
   "execution_count": 53,
   "metadata": {},
   "outputs": [],
   "source": [
    "frame1.set_pose(obj_frame)"
   ]
  },
  {
   "cell_type": "code",
   "execution_count": 59,
   "metadata": {},
   "outputs": [],
   "source": [
    "point.set_translate(grasp_point2)"
   ]
  },
  {
   "cell_type": "code",
   "execution_count": 49,
   "metadata": {},
   "outputs": [],
   "source": [
    "point = Sphere(world.vis, \"point\", 0.02)\n",
    "point.set_translate(tcp_panda)"
   ]
  },
  {
   "cell_type": "code",
   "execution_count": 133,
   "metadata": {},
   "outputs": [],
   "source": [
    "def get_rot_ref_points(q1, q2, p_ho):\n",
    "    obj_frame = SE3.from_translation(p_ho)\n",
    "    tcp_gen3 = gen3_base_pose.apply(fk_ee_gen3(q1)[-3:])\n",
    "    tcp_panda = panda_base_pose.apply(fk_ee_panda(q2)[-3:])\n",
    "    grasp_point1 = obj_frame.apply(grasp_reconst(g1).translation())\n",
    "    grasp_point2 = obj_frame.apply(grasp_reconst(g2).translation())\n",
    "    rot_points = jnp.vstack([grasp_point1, grasp_point2])\n",
    "    ref_points = jnp.vstack([tcp_gen3, tcp_panda])\n",
    "    return rot_points, ref_points\n",
    "\n",
    "def rot_objective(ec, param):\n",
    "    q1, q2 = param[:7], param[7:14]\n",
    "    p = param[-3:]\n",
    "    rot_points, ref_points = get_rot_ref_points(q1, q2, p)\n",
    "    res = residual(ec, rot_points, ref_points)\n",
    "    return 0.5 * res.T@res\n",
    "\n",
    "@jax.custom_jvp\n",
    "def get_handover_rotation(q1, q2, p_ho):\n",
    "    rot_points, ref_points = get_rot_ref_points(q1, q2, p_ho)    \n",
    "    carry = Carry(rot_points, ref_points)\n",
    "    result = jax.lax.while_loop(get_rot_cond, get_rot_body, carry)\n",
    "    return result.ec\n",
    "\n",
    "@get_handover_rotation.defjvp\n",
    "def get_handover_rotation_jvp(primals, tangents):\n",
    "    q1, q2, p_ho = primals\n",
    "    #q1_dot, q2_dot, p_ho_dot = tangents\n",
    "    param_dot = jnp.hstack(tangents)\n",
    "    rot = get_handover_rotation(q1, q2, p_ho)\n",
    "    param = jnp.hstack([q1, q2, p_ho])\n",
    "    hess = jax.jacfwd(jax.jacfwd(rot_objective))(rot, param)\n",
    "    jacxz = jax.jacfwd(jax.jacfwd(rot_objective, argnums=0), argnums=1)(rot, param)\n",
    "    dzdx = jnp.linalg.solve(hess, -jacxz)\n",
    "    return rot, dzdx @ param_dot\n",
    "    "
   ]
  },
  {
   "cell_type": "code",
   "execution_count": 159,
   "metadata": {},
   "outputs": [
    {
     "ename": "",
     "evalue": "",
     "output_type": "error",
     "traceback": [
      "\u001b[1;31mThe Kernel crashed while executing code in the the current cell or a previous cell. Please review the code in the cell(s) to identify a possible cause of the failure. Click <a href='https://aka.ms/vscodeJupyterKernelCrash'>here</a> for more info. View Jupyter <a href='command:jupyter.viewOutput'>log</a> for further details."
     ]
    }
   ],
   "source": [
    "p = jnp.array([0.4, -0.1, 0.5])\n",
    "ec = get_handover_rotation(q1, q2, p)\n",
    "pose_ho = SE3.from_rotation_and_translation(SO3.exp(ec), p)\n",
    "obj_ho.set_pose(pose_ho)\n",
    "hande.set_tool_pose(pose_ho@grasp_reconst(g1))\n",
    "panda_hand.set_tool_pose(pose_ho@grasp_reconst(g2))"
   ]
  },
  {
   "cell_type": "code",
   "execution_count": 144,
   "metadata": {},
   "outputs": [],
   "source": [
    "jac = jax.jit(jax.jacfwd(get_handover_rotation, argnums=[0,1,2]))"
   ]
  },
  {
   "cell_type": "code",
   "execution_count": 145,
   "metadata": {},
   "outputs": [
    {
     "name": "stderr",
     "output_type": "stream",
     "text": [
      "2023-08-23 18:02:19.855065: W external/xla/xla/service/gpu/ir_emitter_triton.cc:761] Shared memory size limit exceeded.\n"
     ]
    },
    {
     "data": {
      "text/plain": [
       "(Array([[ 1.3208008e-01,  7.1240234e-01,  1.4392090e-01,  2.9077148e-01,\n",
       "          1.1291504e-01, -1.2249756e-01, -3.4706318e-09],\n",
       "        [-3.4228516e-01,  6.8481445e-02, -3.3911133e-01, -3.9459229e-02,\n",
       "         -2.4243164e-01, -7.2448730e-02,  2.0445441e-08],\n",
       "        [-3.1219482e-02,  2.5585938e-01, -2.6565552e-02,  8.9477539e-02,\n",
       "         -1.5602112e-02, -5.7434082e-02,  3.3578544e-09]], dtype=float32),\n",
       " Array([[-3.66821289e-02, -4.46777344e-02, -3.66821289e-02,\n",
       "          2.46582031e-02, -1.05972290e-02, -5.84602356e-04,\n",
       "         -2.23008101e-09],\n",
       "        [ 3.59863281e-01,  2.63427734e-01,  3.59863281e-01,\n",
       "         -1.52954102e-01,  1.04003906e-01, -2.63023376e-03,\n",
       "          2.18860805e-08],\n",
       "        [ 2.37426758e-01, -7.49023438e-01,  2.37426758e-01,\n",
       "          3.68408203e-01,  6.86035156e-02, -4.58679199e-02,\n",
       "          1.44354999e-08]], dtype=float32),\n",
       " Array([[ 0.75439453,  0.37329102, -0.45581055],\n",
       "        [-0.37451172,  1.6113281 ,  0.36791992],\n",
       "        [-1.4179688 , -0.74853516,  0.85253906]], dtype=float32))"
      ]
     },
     "execution_count": 145,
     "metadata": {},
     "output_type": "execute_result"
    }
   ],
   "source": [
    "jac(q1, q2, p)"
   ]
  },
  {
   "cell_type": "code",
   "execution_count": 125,
   "metadata": {},
   "outputs": [],
   "source": [
    "ec = result.ec"
   ]
  },
  {
   "cell_type": "code",
   "execution_count": 128,
   "metadata": {},
   "outputs": [],
   "source": [
    "A = jax.jacfwd(jax.jacfwd(rot_objective))(ec, param)\n",
    "B = jax.jacfwd(jax.jacfwd(rot_objective, argnums=0), argnums=1)(ec, param)"
   ]
  },
  {
   "cell_type": "code",
   "execution_count": 129,
   "metadata": {},
   "outputs": [],
   "source": [
    "dzdx = jnp.linalg.solve(A, -B)"
   ]
  },
  {
   "cell_type": "code",
   "execution_count": 132,
   "metadata": {},
   "outputs": [
    {
     "data": {
      "text/plain": [
       "(3, 7)"
      ]
     },
     "execution_count": 132,
     "metadata": {},
     "output_type": "execute_result"
    }
   ],
   "source": [
    "dzdx[:,:7] @ q1_dot + "
   ]
  },
  {
   "cell_type": "code",
   "execution_count": 130,
   "metadata": {},
   "outputs": [
    {
     "data": {
      "text/plain": [
       "(3, 17)"
      ]
     },
     "execution_count": 130,
     "metadata": {},
     "output_type": "execute_result"
    }
   ],
   "source": [
    "dzdx.shape"
   ]
  },
  {
   "cell_type": "code",
   "execution_count": 98,
   "metadata": {},
   "outputs": [],
   "source": [
    "rot = SO3.exp(result.ec).parameters()"
   ]
  },
  {
   "cell_type": "code",
   "execution_count": 99,
   "metadata": {},
   "outputs": [],
   "source": [
    "g_fn = jax.jacfwd(rot_objective)"
   ]
  },
  {
   "cell_type": "code",
   "execution_count": 100,
   "metadata": {},
   "outputs": [],
   "source": [
    "param = jnp.hstack([q1, q2, p])"
   ]
  },
  {
   "cell_type": "code",
   "execution_count": 102,
   "metadata": {},
   "outputs": [
    {
     "data": {
      "text/plain": [
       "Array([ 5.0952658e-06,  2.0228326e-06,  8.6799264e-07, -4.1760504e-06],      dtype=float32)"
      ]
     },
     "execution_count": 102,
     "metadata": {},
     "output_type": "execute_result"
    }
   ],
   "source": [
    "g_fn(rot, param)"
   ]
  },
  {
   "cell_type": "code",
   "execution_count": null,
   "metadata": {},
   "outputs": [],
   "source": [
    "g_fn()"
   ]
  },
  {
   "cell_type": "code",
   "execution_count": null,
   "metadata": {},
   "outputs": [],
   "source": [
    "jax.jacfwd(rot_objective,)"
   ]
  },
  {
   "cell_type": "code",
   "execution_count": 90,
   "metadata": {},
   "outputs": [
    {
     "data": {
      "text/plain": [
       "(Array([ 1.05992913e-01, -2.12560333e-02,  1.05240606e-01,  5.68179926e-03,\n",
       "         7.53667131e-02,  1.65768452e-02, -6.12352480e-09], dtype=float32),\n",
       " Array([ 2.0381449e-01, -2.0628087e-02,  2.0381449e-01,  6.9511801e-02,\n",
       "         5.8887810e-02,  4.6412937e-02,  1.2393445e-08], dtype=float32),\n",
       " Array([-0.12258818,  0.08616162, -0.09589572], dtype=float32))"
      ]
     },
     "execution_count": 90,
     "metadata": {},
     "output_type": "execute_result"
    }
   ],
   "source": [
    "g_fn(rot, q1, q2, p)"
   ]
  },
  {
   "cell_type": "code",
   "execution_count": 91,
   "metadata": {},
   "outputs": [],
   "source": [
    "dgdq1, dgdq2, dgdp = (result.T for result in jax.jacfwd(g_fn)(rot, q1, q2, p))"
   ]
  },
  {
   "cell_type": "code",
   "execution_count": 92,
   "metadata": {},
   "outputs": [
    {
     "data": {
      "text/plain": [
       "Array([[-3.53284292e-02,  1.62174702e-01, -3.23006138e-02,\n",
       "         5.37582636e-02, -2.09804997e-02, -3.90634611e-02,\n",
       "         3.03836067e-09],\n",
       "       [-1.71000063e-01, -6.41315341e-01, -1.81325123e-01,\n",
       "        -2.71607786e-01, -1.38769731e-01,  1.01346970e-01,\n",
       "         6.17364027e-09],\n",
       "       [ 6.20234907e-01, -2.53408492e-01,  6.12506151e-01,\n",
       "         2.33344324e-02,  4.36021417e-01,  1.57656103e-01,\n",
       "        -3.78247300e-08],\n",
       "       [ 1.51959017e-01,  3.92617822e-01,  1.58029303e-01,\n",
       "         1.75260052e-01,  1.18691415e-01, -5.39622232e-02,\n",
       "        -6.54683374e-09]], dtype=float32)"
      ]
     },
     "execution_count": 92,
     "metadata": {},
     "output_type": "execute_result"
    }
   ],
   "source": [
    "jax.jacfwd(g_fn,)"
   ]
  },
  {
   "cell_type": "code",
   "execution_count": null,
   "metadata": {},
   "outputs": [],
   "source": [
    "def get_handover_rotation(q1, q2):\n"
   ]
  }
 ],
 "metadata": {
  "kernelspec": {
   "display_name": "cu11",
   "language": "python",
   "name": "python3"
  },
  "language_info": {
   "codemirror_mode": {
    "name": "ipython",
    "version": 3
   },
   "file_extension": ".py",
   "mimetype": "text/x-python",
   "name": "python",
   "nbconvert_exporter": "python",
   "pygments_lexer": "ipython3",
   "version": "3.8.16"
  },
  "orig_nbformat": 4
 },
 "nbformat": 4,
 "nbformat_minor": 2
}
