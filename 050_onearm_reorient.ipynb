{
 "cells": [
  {
   "cell_type": "code",
   "execution_count": 1,
   "metadata": {},
   "outputs": [],
   "source": [
    "from sdf_world.sdf_world import *\n",
    "from sdf_world.robots import *\n",
    "from sdf_world.util import *\n",
    "from sdf_world.network import *\n",
    "\n",
    "import numpy as np\n",
    "import jax\n",
    "import jax.numpy as jnp\n",
    "from jaxlie import SE3, SO3\n",
    "import jax_dataclasses as jdc"
   ]
  },
  {
   "cell_type": "code",
   "execution_count": 2,
   "metadata": {},
   "outputs": [
    {
     "name": "stdout",
     "output_type": "stream",
     "text": [
      "You can open the visualizer by visiting the following URL:\n",
      "http://127.0.0.1:7006/static/\n"
     ]
    }
   ],
   "source": [
    "world = SDFWorld()"
   ]
  },
  {
   "cell_type": "code",
   "execution_count": 3,
   "metadata": {},
   "outputs": [
    {
     "name": "stdout",
     "output_type": "stream",
     "text": [
      "hidden_dim:32, out_dim:7\n"
     ]
    }
   ],
   "source": [
    "#load learned functions\n",
    "grasp_fn, grasp_reconst = load_grasp_fn(\"model/grasp_net_waffle\")\n",
    "inv_manip_fn_gen3 = load_manip_fn(\"model/manip_net_gen3\", SE3.identity())"
   ]
  },
  {
   "cell_type": "code",
   "execution_count": 4,
   "metadata": {},
   "outputs": [],
   "source": [
    "# refer to PREDEFINED_ROBOTS\n",
    "gen3 = get_predefined_robot(world.vis, \"gen3+hand_e\")"
   ]
  },
  {
   "cell_type": "code",
   "execution_count": 5,
   "metadata": {},
   "outputs": [],
   "source": [
    "obj_mesh = \"./sdf_world/assets/waffle_box/waffle_box_centered.obj\"\n",
    "obj0 = Mesh(world.vis, \"obj0\", obj_mesh, color=\"green\", alpha=0.3)\n",
    "objg = Mesh(world.vis, \"objg\", obj_mesh, color=\"red\", alpha=0.3)"
   ]
  },
  {
   "cell_type": "code",
   "execution_count": 6,
   "metadata": {},
   "outputs": [],
   "source": [
    "def SE3_trans(xyz):\n",
    "    return SE3.from_translation(jnp.array(xyz))"
   ]
  },
  {
   "cell_type": "code",
   "execution_count": 7,
   "metadata": {},
   "outputs": [],
   "source": [
    "def object_placement(obj, upright_axis, xy, yaw=None):\n",
    "    if yaw is None:\n",
    "        yaw = np.random.uniform(-np.pi, np.pi)\n",
    "    obj_extents = obj.mesh.bounding_box.primitive.extents\n",
    "    if upright_axis == \"z\":\n",
    "        rot = SO3.from_z_radians(yaw)\n",
    "        z_offset = obj_extents[-1]/2\n",
    "    if upright_axis == \"x\":\n",
    "        rot = SO3.from_z_radians(yaw)@SO3.from_y_radians(-np.pi/2)\n",
    "        z_offset = obj_extents[0]/2\n",
    "    elif upright_axis == \"y\":\n",
    "        rot = SO3.from_z_radians(yaw)@SO3.from_x_radians(np.pi/2)\n",
    "        z_offset = obj_extents[1]/2\n",
    "    xyz = [*xy, z_offset]\n",
    "    pose = SE3.from_rotation_and_translation(rot, jnp.array(xyz))\n",
    "    return pose\n",
    "\n",
    "# xy, upright_axis= ground\n",
    "yaw = np.random.uniform(-np.pi, np.pi)\n",
    "upright_axis = \"y\"\n",
    "pose0 = object_placement(obj0, \"x\", xy=[0.4,0.3])\n",
    "poseg = object_placement(obj0, \"z\", xy=[0.4,-0.3])\n",
    "\n",
    "obj0.set_pose(pose0)\n",
    "objg.set_pose(poseg)"
   ]
  },
  {
   "cell_type": "code",
   "execution_count": 8,
   "metadata": {},
   "outputs": [],
   "source": [
    "ground = Box(world.vis, \"ground\", [1,1.8,0.5], 'gray', 0.3)\n",
    "ground.set_pose(SE3_trans([0.4, 0, -0.25]))\n",
    "env = SDFContainer([ground]) #we can add more obstacles"
   ]
  },
  {
   "cell_type": "code",
   "execution_count": 9,
   "metadata": {},
   "outputs": [],
   "source": [
    "hande = Gripper(world.vis, \"hande\", gen3.gripper.model, gen3.gripper.tool_pose_offset, max_width=0.05, scale=0.001, alpha=0.5, color='white')\n",
    "hande_pc = hande.get_hand_pc_wrt_tool_pose()"
   ]
  },
  {
   "cell_type": "code",
   "execution_count": 10,
   "metadata": {},
   "outputs": [],
   "source": [
    "def P_grasp(g):\n",
    "    return grasp_fn(g)[0]\n",
    "\n",
    "def M_inv(tool_pose:Array):\n",
    "    zflip_SE3 = SE3.from_rotation(SO3.from_z_radians(jnp.pi))\n",
    "    #pre\n",
    "    tool_pose = SE3(tool_pose) # @ SE3_trans([0,0,-0.1])\n",
    "    tool_pose_flip = (tool_pose @ zflip_SE3)\n",
    "    candidates = jnp.vstack([pose.parameters() for pose in [tool_pose, tool_pose_flip]])\n",
    "    return jax.vmap(inv_manip_fn_gen3)(candidates).max()\n",
    "\n",
    "def D_hand(tool_pose:Array):\n",
    "    assigned_pc = jax.vmap(SE3(tool_pose).apply)(hande_pc)\n",
    "    return env.distances(assigned_pc).min()\n",
    "\n",
    "def R_grasp(grasp, obj_pose:Array):\n",
    "    grasp_pose = grasp_reconst(grasp)\n",
    "    return (SE3(obj_pose) @ grasp_pose @ SE3_trans([0,0,-0.1])).parameters()"
   ]
  },
  {
   "cell_type": "code",
   "execution_count": 11,
   "metadata": {},
   "outputs": [],
   "source": [
    "K = [0] #grasp numbers\n",
    "KT = [(0,0), (0,1)] #grasp/object pair numbers\n",
    "num_constrs = len(K) + len(KT)*2\n",
    "\n",
    "num_vars = 1\n",
    "var_names = [\"g0\"]\n",
    "var_coords = [np.arange(0,3)]\n",
    "\n",
    "num_params = 2\n",
    "param_names = [\"p0\", \"p1\"]\n",
    "poses = [pose0, poseg]\n",
    "param_values = [pose.parameters() for pose in poses]"
   ]
  },
  {
   "cell_type": "code",
   "execution_count": 12,
   "metadata": {},
   "outputs": [],
   "source": [
    "def calculate_constraints(x):\n",
    "    variables = {var_names[i]:x[var_coords[i]] for i in range(num_vars)}\n",
    "    variables.update({param_names[i]:param_values[i] for i in range(num_params)})\n",
    "\n",
    "    grasps = []\n",
    "    for k in K:\n",
    "        grasp = variables[f\"g{k}\"]\n",
    "        grasps.append(grasp)\n",
    "    grasps = jnp.vstack(grasps)\n",
    "    \n",
    "    tool_poses = []\n",
    "    grasps2 = []\n",
    "    for k, t in KT:\n",
    "        grasp = variables[f\"g{k}\"]\n",
    "        pose = variables[f\"p{t}\"]\n",
    "        tool_pose = R_grasp(grasp, pose)\n",
    "        tool_poses.append(tool_pose)\n",
    "        grasps2.append(grasp)\n",
    "    tool_poses = jnp.vstack(tool_poses)\n",
    "    grasps2 = jnp.vstack(grasps2)\n",
    "    \n",
    "    logits = jax.vmap(P_grasp)(grasps)\n",
    "    manips = jax.vmap(M_inv)(tool_poses)\n",
    "    dists = jax.vmap(D_hand)(tool_poses)\n",
    "\n",
    "    return jnp.hstack([logits, manips, dists])"
   ]
  },
  {
   "cell_type": "code",
   "execution_count": 13,
   "metadata": {},
   "outputs": [],
   "source": [
    "import cyipopt\n",
    "import time"
   ]
  },
  {
   "cell_type": "code",
   "execution_count": 85,
   "metadata": {},
   "outputs": [],
   "source": [
    "class Prob:\n",
    "    def __init__(self, obj_fn, constr_fn, compile=False, debug_fn=None):\n",
    "        self.grads = {}\n",
    "        self.jacs = {}\n",
    "        self.debug_fn = debug_fn\n",
    "        self.vg_obj_fn = jax.value_and_grad(obj_fn, argnums=0)\n",
    "        self.vj_constr_fn = value_and_jacfwd(constr_fn, argnums=0)\n",
    "        if compile:\n",
    "            self.vg_obj_fn = jax.jit(self.vg_obj_fn)\n",
    "            self.vj_constr_fn = jax.jit(self.vj_constr_fn)\n",
    "\n",
    "    def hash(self, x):\n",
    "        return hash(x.tobytes())\n",
    "\n",
    "    def objective(self, x):\n",
    "        value, grad = self.vg_obj_fn(x)\n",
    "        key = self.hash(x)\n",
    "        self.grads[key] = grad\n",
    "        if self.debug_fn is not None:\n",
    "            self.debug_fn(x)\n",
    "        return value\n",
    "    \n",
    "    def gradient(self, x):\n",
    "        key = self.hash(x)\n",
    "        if key in self.grads:\n",
    "            return self.grads[key]\n",
    "        _, grad = self.vg_obj_fn(x)\n",
    "        return grad\n",
    "    \n",
    "    def constraints(self, x):\n",
    "        value, jac = self.vj_constr_fn(x)\n",
    "        key = self.hash(x)\n",
    "        self.jacs[key] = jac\n",
    "        return value\n",
    "    \n",
    "    def jacobian(self, x):\n",
    "        key = self.hash(x)\n",
    "        if key in self.jacs:\n",
    "            return self.jacs[key]\n",
    "        _, jac = self.vj_constr_fn(x)\n",
    "        return jac\n"
   ]
  },
  {
   "cell_type": "code",
   "execution_count": 20,
   "metadata": {},
   "outputs": [],
   "source": [
    "hande_pc_vis = PointCloud(world.vis, \"hande_pc\", np.zeros((10,3)), 0.01, \"red\")"
   ]
  },
  {
   "cell_type": "code",
   "execution_count": 14,
   "metadata": {},
   "outputs": [
    {
     "ename": "NameError",
     "evalue": "name 'Prob' is not defined",
     "output_type": "error",
     "traceback": [
      "\u001b[0;31m---------------------------------------------------------------------------\u001b[0m",
      "\u001b[0;31mNameError\u001b[0m                                 Traceback (most recent call last)",
      "Cell \u001b[0;32mIn[14], line 23\u001b[0m\n\u001b[1;32m     20\u001b[0m     time\u001b[39m.\u001b[39msleep(\u001b[39m0.1\u001b[39m)\n\u001b[1;32m     22\u001b[0m constr_fn \u001b[39m=\u001b[39m calculate_constraints\n\u001b[0;32m---> 23\u001b[0m prob \u001b[39m=\u001b[39m Prob(obj_fn, constr_fn, \u001b[39mcompile\u001b[39m\u001b[39m=\u001b[39m\u001b[39mTrue\u001b[39;00m, debug_fn\u001b[39m=\u001b[39m\u001b[39mNone\u001b[39;00m)\n",
      "\u001b[0;31mNameError\u001b[0m: name 'Prob' is not defined"
     ]
    }
   ],
   "source": [
    "obj_fn = lambda x: 0.\n",
    "def debug_fn(x):\n",
    "    variables = {var_names[i]:x[var_coords[i]] for i in range(num_vars)}\n",
    "    variables.update({param_names[i]:param_values[i] for i in range(num_params)})\n",
    "    \n",
    "    tool_poses = []\n",
    "    for k, t in KT:\n",
    "        grasp = variables[f\"g{k}\"]\n",
    "        pose = variables[f\"p{t}\"]\n",
    "        tool_pose = R_grasp(grasp, pose)\n",
    "        tool_poses.append(tool_pose)\n",
    "    tool_poses = jnp.vstack(tool_poses)\n",
    "\n",
    "    pcs = []\n",
    "    for tool_pose in tool_poses:\n",
    "        pc = jax.vmap(SE3(tool_pose).apply)(hande_pc)\n",
    "        pcs.append(pc)\n",
    "    pcs = jnp.vstack(pcs)\n",
    "    hande_pc_vis.reload(points=np.array(pcs, dtype=float))\n",
    "    time.sleep(0.1)\n",
    "\n",
    "constr_fn = calculate_constraints\n",
    "prob = Prob(obj_fn, constr_fn, compile=True, debug_fn=None) #, debug_fn=debug_fn"
   ]
  },
  {
   "cell_type": "code",
   "execution_count": 15,
   "metadata": {},
   "outputs": [
    {
     "ename": "NameError",
     "evalue": "name 'prob' is not defined",
     "output_type": "error",
     "traceback": [
      "\u001b[0;31m---------------------------------------------------------------------------\u001b[0m",
      "\u001b[0;31mNameError\u001b[0m                                 Traceback (most recent call last)",
      "Cell \u001b[0;32mIn[15], line 7\u001b[0m\n\u001b[1;32m      3\u001b[0m manip_thres \u001b[39m=\u001b[39m \u001b[39m0.2\u001b[39m\n\u001b[1;32m      4\u001b[0m safe_dist \u001b[39m=\u001b[39m \u001b[39m0.03\u001b[39m\n\u001b[1;32m      6\u001b[0m ipopt \u001b[39m=\u001b[39m cyipopt\u001b[39m.\u001b[39mProblem(\n\u001b[0;32m----> 7\u001b[0m     n\u001b[39m=\u001b[39m\u001b[39m3\u001b[39m, m\u001b[39m=\u001b[39m\u001b[39m5\u001b[39m, problem_obj\u001b[39m=\u001b[39mprob, \n\u001b[1;32m      8\u001b[0m     lb\u001b[39m=\u001b[39m\u001b[39m-\u001b[39mnp\u001b[39m.\u001b[39mones(\u001b[39m3\u001b[39m), ub\u001b[39m=\u001b[39mnp\u001b[39m.\u001b[39mones(\u001b[39m3\u001b[39m),\n\u001b[1;32m      9\u001b[0m     cl\u001b[39m=\u001b[39m[logit_thres, manip_thres, manip_thres, safe_dist, safe_dist], cu\u001b[39m=\u001b[39m[no_upper_lim]\u001b[39m*\u001b[39m\u001b[39m5\u001b[39m)\n",
      "\u001b[0;31mNameError\u001b[0m: name 'prob' is not defined"
     ]
    }
   ],
   "source": [
    "no_upper_lim = np.inf\n",
    "logit_thres = 1\n",
    "manip_thres = 0.2\n",
    "safe_dist = 0.03\n",
    "\n",
    "ipopt = cyipopt.Problem(\n",
    "    n=3, m=5, problem_obj=prob, \n",
    "    lb=-np.ones(3), ub=np.ones(3),\n",
    "    cl=[logit_thres, manip_thres, manip_thres, safe_dist, safe_dist], cu=[no_upper_lim]*5)"
   ]
  },
  {
   "cell_type": "code",
   "execution_count": 175,
   "metadata": {},
   "outputs": [
    {
     "name": "stdout",
     "output_type": "stream",
     "text": [
      "This is Ipopt version 3.14.10, running with linear solver MUMPS 5.2.1.\n",
      "\n",
      "Number of nonzeros in equality constraint Jacobian...:        0\n",
      "Number of nonzeros in inequality constraint Jacobian.:       15\n",
      "Number of nonzeros in Lagrangian Hessian.............:        0\n",
      "\n",
      "Total number of variables............................:        3\n",
      "                     variables with only lower bounds:        0\n",
      "                variables with lower and upper bounds:        3\n",
      "                     variables with only upper bounds:        0\n",
      "Total number of equality constraints.................:        0\n",
      "Total number of inequality constraints...............:        5\n",
      "        inequality constraints with only lower bounds:        5\n",
      "   inequality constraints with lower and upper bounds:        0\n",
      "        inequality constraints with only upper bounds:        0\n",
      "\n",
      "iter    objective    inf_pr   inf_du lg(mu)  ||d||  lg(rg) alpha_du alpha_pr  ls\n",
      "   0  0.0000000e+00 1.18e+02 1.11e+00   0.0 0.00e+00    -  0.00e+00 0.00e+00   0\n",
      "   1  0.0000000e+00 7.32e+01 1.09e+02   0.0 1.75e+00    -  6.43e-02 5.66e-01f  1\n",
      "   2  0.0000000e+00 2.15e+01 2.88e+01  -0.8 1.82e-01    -  9.08e-01 1.00e+00h  1\n",
      "   3  0.0000000e+00 1.31e+01 2.95e+01  -1.4 9.04e-01    -  9.84e-01 4.11e-01h  1\n",
      "   4  0.0000000e+00 9.26e+00 6.90e+01  -2.2 1.81e+00    -  9.73e-01 4.62e-01h  1\n",
      "   5  0.0000000e+00 9.16e+00 9.33e+01  -2.1 6.65e+00    -  4.17e-01 5.69e-02h  1\n",
      "   6  0.0000000e+00 1.07e+01 8.62e+00  -1.9 4.31e-01    -  1.84e-01 2.09e-01h  1\n",
      "   7  0.0000000e+00 1.95e+01 2.40e+00  -2.3 1.90e-01    -  3.89e-01 1.00e+00h  1\n",
      "   8  0.0000000e+00 2.77e+00 5.06e+00  -2.3 6.54e-01    -  9.65e-02 9.06e-01h  1\n",
      "   9  0.0000000e+00 1.98e-01 6.78e-02  -3.2 8.24e-01    -  9.44e-01 7.42e-01h  1\n",
      "iter    objective    inf_pr   inf_du lg(mu)  ||d||  lg(rg) alpha_du alpha_pr  ls\n",
      "  10  0.0000000e+00 3.40e+00 1.16e+01  -1.1 1.51e+01    -  1.00e+00 2.07e-02f  2\n",
      "  11  0.0000000e+00 2.28e+02 5.04e+00  -1.3 4.17e+01    -  4.99e-01 1.00e+00f  1\n",
      "  12  0.0000000e+00 8.31e+01 8.32e+00  -1.3 4.15e+01    -  9.73e-01 3.96e-01H  1\n",
      "  13  0.0000000e+00 8.45e+01 3.88e+01  -1.3 6.84e+00    -  1.80e-01 5.88e-01h  1\n",
      "  14  0.0000000e+00 1.72e+02 8.07e+00  -1.3 8.62e-01    -  5.03e-02 1.00e+00h  1\n",
      "  15  0.0000000e+00 9.94e+01 1.23e+01  -1.3 7.60e-01    -  1.00e+00 4.21e-01h  1\n",
      "  16  0.0000000e+00 0.00e+00 6.92e+00  -1.3 1.73e+00    -  5.87e-01 1.00e+00h  1\n",
      "  17  0.0000000e+00 1.12e+00 4.13e+00  -1.3 7.86e-01    -  1.00e+00 1.00e+00h  1\n",
      "  18  0.0000000e+00 0.00e+00 4.00e+00  -1.3 9.26e-01    -  1.00e+00 1.00e+00h  1\n",
      "  19  0.0000000e+00 6.31e-01 2.07e+00  -1.3 2.45e+00    -  1.00e+00 1.00e+00h  1\n",
      "iter    objective    inf_pr   inf_du lg(mu)  ||d||  lg(rg) alpha_du alpha_pr  ls\n",
      "  20  0.0000000e+00 0.00e+00 4.71e-01  -1.3 3.50e-01    -  1.00e+00 1.00e+00h  1\n",
      "  21  0.0000000e+00 0.00e+00 4.70e-01  -1.3 4.62e+00    -  1.00e+00 1.00e+00h  1\n",
      "  22  0.0000000e+00 0.00e+00 1.19e-02  -7.3 8.64e-06    -  9.90e-01 1.00e+00h  1\n",
      "  23  0.0000000e+00 0.00e+00 6.17e-05  -5.2 2.19e-02    -  1.00e+00 1.00e+00h  1\n",
      "\n",
      "Number of Iterations....: 23\n",
      "\n",
      "                                   (scaled)                 (unscaled)\n",
      "Objective...............:   0.0000000000000000e+00    0.0000000000000000e+00\n",
      "Dual infeasibility......:   6.1720279334782693e-05    6.1720279334782693e-05\n",
      "Constraint violation....:   0.0000000000000000e+00    0.0000000000000000e+00\n",
      "Variable bound violation:   0.0000000000000000e+00    0.0000000000000000e+00\n",
      "Complementarity.........:   7.0352749385368077e-06    7.0352749385368077e-06\n",
      "Overall NLP error.......:   6.1720279334782693e-05    6.1720279334782693e-05\n",
      "\n",
      "\n",
      "Number of objective function evaluations             = 27\n",
      "Number of objective gradient evaluations             = 24\n",
      "Number of equality constraint evaluations            = 0\n",
      "Number of inequality constraint evaluations          = 27\n",
      "Number of equality constraint Jacobian evaluations   = 0\n",
      "Number of inequality constraint Jacobian evaluations = 24\n",
      "Number of Lagrangian Hessian evaluations             = 0\n",
      "Total seconds in IPOPT                               = 0.050\n",
      "\n",
      "EXIT: Solved To Acceptable Level.\n"
     ]
    }
   ],
   "source": [
    "ipopt.add_option(\"acceptable_iter\", 2)\n",
    "ipopt.add_option(\"acceptable_tol\", np.inf) #release\n",
    "ipopt.add_option(\"acceptable_constr_viol_tol\", 1.)\n",
    "ipopt.add_option('mu_strategy', 'adaptive')\n",
    "# ipopt.add_option(\"acceptable_obj_change_tol\", 0.1)\n",
    "sol, info = ipopt.solve(np.zeros(3))"
   ]
  },
  {
   "cell_type": "code",
   "execution_count": 176,
   "metadata": {},
   "outputs": [],
   "source": [
    "debug_fn(sol)"
   ]
  },
  {
   "cell_type": "code",
   "execution_count": 92,
   "metadata": {},
   "outputs": [],
   "source": [
    "from dataclasses import dataclass, field\n",
    "\n",
    "@dataclass\n",
    "class Variable:\n",
    "    name: str\n",
    "    coord: np.ndarray\n",
    "    lb: np.ndarray\n",
    "    ub: np.ndarray\n",
    "    \n",
    "    @property\n",
    "    def dim(self): return len(self.coord)\n",
    "    \n",
    "@dataclass\n",
    "class Parameter:\n",
    "    name: str\n",
    "    coord: np.ndarray\n",
    "    dim: int\n",
    "    value: np.ndarray\n",
    "\n",
    "    @property\n",
    "    def lb(self): return np.full(self.dim, -np.inf)\n",
    "    @property\n",
    "    def ub(self): return np.full(self.dim, np.inf)"
   ]
  },
  {
   "cell_type": "code",
   "execution_count": null,
   "metadata": {},
   "outputs": [],
   "source": []
  },
  {
   "cell_type": "code",
   "execution_count": 22,
   "metadata": {},
   "outputs": [],
   "source": [
    "K = [0] #grasp numbers\n",
    "T = [1, 2, 3, 4, 5] # planning scene numbers\n",
    "P = [0, 1, 2] #object pose numbers\n",
    "T_h = [2] # H in T\n",
    "\n",
    "# scene/grasp/isswitch/pose\n",
    "Pairs = [(2,0,True,0), (3,0, False,1), (4,0, True,2)] #grasp/scene pair numbers at kinematic switch\n",
    "#num_constrs = len(K) + len(KT)*2\n",
    "\n",
    "num_grasp = 1\n",
    "num_config = 5\n",
    "num_vars = num_grasp + num_config\n",
    "names_grasp = [f\"g{i}\" for i in range(num_grasp)]\n",
    "names_config = [f\"q{i+1}\" for i in range(num_config)]\n",
    "var_names = names_grasp + names_config\n",
    "#var coords\n",
    "var_coords = []\n",
    "i = 0\n",
    "for var_name in var_names:\n",
    "    if \"g\" in var_name:\n",
    "        var_len = 3\n",
    "    if \"q\" in var_name:\n",
    "        var_len = 7\n",
    "    var_coords.append(np.arange(i,i+var_len))\n",
    "    i += var_len\n",
    "dim = var_coords[-1][-1]+1\n",
    "\n",
    "q0 = np.array([0,0,0,np.pi/2, 0, np.pi/2, 0])\n",
    "param_names = [\"p0\", \"p2\", \"q0\", f\"q{num_config+1}\"]\n",
    "param_values = [pose0.parameters(), poseg.parameters(), q0, q0]\n",
    "params_dict = {param_names[i]:param_values[i] for i in range(len(param_names))}"
   ]
  },
  {
   "cell_type": "code",
   "execution_count": 25,
   "metadata": {},
   "outputs": [],
   "source": [
    "def get_var_dict(x):\n",
    "    variables = {var_names[i]:x[var_coords[i]] for i in range(num_vars)}\n",
    "    variables.update(params_dict)\n",
    "    return variables"
   ]
  },
  {
   "cell_type": "code",
   "execution_count": 27,
   "metadata": {},
   "outputs": [],
   "source": [
    "fk_ee_fn = gen3.get_fk_ee_fn()\n",
    "def K_robot(tool_pose:Array, q:Array):\n",
    "    tool_pose = SE3(tool_pose)\n",
    "    ee_pose = SE3(fk_ee_fn(q))\n",
    "    pos_err = tool_pose.translation() - ee_pose.translation()\n",
    "    rot_err = (ee_pose.rotation().inverse() @ tool_pose.rotation()).log()\n",
    "    return jnp.hstack([pos_err, 0.5*rot_err])"
   ]
  },
  {
   "cell_type": "code",
   "execution_count": 16,
   "metadata": {},
   "outputs": [],
   "source": [
    "frame = Frame(world.vis, \"frame\")"
   ]
  },
  {
   "cell_type": "code",
   "execution_count": 23,
   "metadata": {},
   "outputs": [],
   "source": [
    "i = 8\n",
    "link_pose = SE3(gen3.fk_fn(jnp.zeros(7))[i])\n",
    "points = jax.vmap(link_pose.apply)(gen3.pcs[i])\n",
    "hande_pc_vis.reload(points=points)"
   ]
  },
  {
   "cell_type": "code",
   "execution_count": 34,
   "metadata": {},
   "outputs": [],
   "source": [
    "#robot collision\n",
    "robot_pc_fn = gen3.get_robot_pc_fn()\n",
    "def D_robot(q:Array):\n",
    "    assigned_pc = robot_pc_fn(q)\n",
    "    return env.distances(assigned_pc).min()\n",
    "\n",
    "#object collision\n",
    "obj_pc = farthest_point_sampling(obj0.mesh.sample(100), 10)\n",
    "def D_obj(q:Array, grasp:Array):\n",
    "    ee_pose = SE3(fk_ee_fn(q))\n",
    "    grasp_pose = grasp_reconst(grasp)\n",
    "    obj_pose = ee_pose @ grasp_pose.inverse()\n",
    "    pc = jax.vmap(obj_pose.apply)(obj_pc)\n",
    "    return env.distances(pc).min()"
   ]
  },
  {
   "cell_type": "code",
   "execution_count": 62,
   "metadata": {},
   "outputs": [],
   "source": [
    "def calculate_constraints2(x):\n",
    "    var_dict = get_var_dict(x)\n",
    "    grasps = []\n",
    "    for k in K:\n",
    "        grasp = var_dict[f\"g{k}\"]\n",
    "        grasps.append(grasp)\n",
    "    grasps = jnp.vstack(grasps)\n",
    "    logits = jax.vmap(P_grasp)(grasps)\n",
    "\n",
    "    #kinematic error scene/grasp/isswitch/pose\n",
    "    tool_poses, configs = [], []\n",
    "    for (t, k, isswitch, p) in Pairs:\n",
    "        if isswitch:\n",
    "            grasp = var_dict[f\"g{k}\"]\n",
    "            pose = var_dict[f\"p{p}\"]\n",
    "            q = var_dict[f\"q{t}\"]\n",
    "            tool_poses.append(R_grasp(grasp, pose))\n",
    "            configs.append(q)\n",
    "    tool_poses = jnp.vstack(tool_poses)\n",
    "    configs = jnp.vstack(configs)\n",
    "    kin_errors = jax.vmap(kin_error, in_axes=(0,0))(tool_poses, configs)\n",
    "\n",
    "    #robot collision\n",
    "    configs = []\n",
    "    for t in T:\n",
    "        q = var_dict[f\"q{t}\"]\n",
    "        configs.append(q)\n",
    "    configs = jnp.vstack(configs)\n",
    "    col_dist = jax.vmap(D_robot)(configs)\n",
    "\n",
    "    #object collision\n",
    "    grasps, configs = [], []\n",
    "    for (t,k,isswitch, p) in Pairs:\n",
    "        if not isswitch:\n",
    "            grasp = var_dict[f\"g{k}\"]\n",
    "            q = var_dict[f\"q{t}\"]\n",
    "            grasps.append(grasp)\n",
    "            configs.append(q)\n",
    "    configs = jnp.vstack(configs)\n",
    "    grasps = jnp.vstack(grasps)\n",
    "    obj_col_dist = jax.vmap(D_obj)(configs, grasps)\n",
    "    constraints = [logits, kin_errors, col_dist, obj_col_dist]\n",
    "    constraints = jnp.hstack([constr.flatten() for constr in constraints])\n",
    "    return constraints"
   ]
  },
  {
   "cell_type": "code",
   "execution_count": 86,
   "metadata": {},
   "outputs": [],
   "source": [
    "def obj_fn(x):\n",
    "    var_dict = get_var_dict(jnp.zeros(dim))\n",
    "    configs = [var_dict[f\"q{i}\"] for i in range(7)]\n",
    "    configs = jnp.vstack(configs)\n",
    "    diff = configs[1:] - configs[:-1]\n",
    "    return jnp.sum(diff**2)"
   ]
  },
  {
   "cell_type": "code",
   "execution_count": 90,
   "metadata": {},
   "outputs": [],
   "source": [
    "from sdf_world.sparse_ipopt import *"
   ]
  },
  {
   "cell_type": "code",
   "execution_count": 91,
   "metadata": {},
   "outputs": [
    {
     "data": {
      "text/plain": [
       "['g0', 'q1', 'q2', 'q3', 'q4', 'q5']"
      ]
     },
     "execution_count": 91,
     "metadata": {},
     "output_type": "execute_result"
    }
   ],
   "source": [
    "var_names"
   ]
  },
  {
   "cell_type": "code",
   "execution_count": null,
   "metadata": {},
   "outputs": [],
   "source": [
    "bdr = SparseIPOPT()\n",
    "# grasp\n",
    "bdr.add_variable()"
   ]
  },
  {
   "cell_type": "code",
   "execution_count": 87,
   "metadata": {},
   "outputs": [],
   "source": [
    "prob = Prob(obj_fn, calculate_constraints2)"
   ]
  },
  {
   "cell_type": "code",
   "execution_count": 89,
   "metadata": {},
   "outputs": [
    {
     "data": {
      "text/plain": [
       "(19,)"
      ]
     },
     "execution_count": 89,
     "metadata": {},
     "output_type": "execute_result"
    }
   ],
   "source": [
    "calculate_constraints2(jnp.zeros(dim)).shape"
   ]
  },
  {
   "cell_type": "code",
   "execution_count": null,
   "metadata": {},
   "outputs": [],
   "source": [
    "no_upper_lim = np.inf\n",
    "logit_thres = 1\n",
    "manip_thres = 0.2\n",
    "safe_dist = 0.03\n",
    "\n",
    "ipopt = cyipopt.Problem(\n",
    "    n=dim, m=19, problem_obj=prob, \n",
    "    lb=-np.ones(3), ub=np.ones(3),\n",
    "    cl=[logit_thres, manip_thres, manip_thres, safe_dist, safe_dist], cu=[no_upper_lim]*5)"
   ]
  },
  {
   "cell_type": "code",
   "execution_count": null,
   "metadata": {},
   "outputs": [],
   "source": []
  },
  {
   "cell_type": "code",
   "execution_count": null,
   "metadata": {},
   "outputs": [],
   "source": []
  },
  {
   "cell_type": "code",
   "execution_count": null,
   "metadata": {},
   "outputs": [
    {
     "ename": "ValueError",
     "evalue": "Need at least one array to concatenate.",
     "output_type": "error",
     "traceback": [
      "\u001b[0;31m---------------------------------------------------------------------------\u001b[0m\n",
      "\u001b[0;31mValueError\u001b[0m                                Traceback (most recent call last)\n",
      "Cell \u001b[0;32mIn[28], line 26\u001b[0m\n",
      "\u001b[1;32m     24\u001b[0m \u001b[39mfor\u001b[39;00m t \u001b[39min\u001b[39;00m T:\n",
      "\u001b[1;32m     25\u001b[0m     q \u001b[39m=\u001b[39m var_dict[\u001b[39mf\u001b[39m\u001b[39m\"\u001b[39m\u001b[39mq\u001b[39m\u001b[39m{\u001b[39;00mt\u001b[39m}\u001b[39;00m\u001b[39m\"\u001b[39m]\n",
      "\u001b[0;32m---> 26\u001b[0m configs \u001b[39m=\u001b[39m jnp\u001b[39m.\u001b[39;49mvstack(configs)\n",
      "\u001b[1;32m     27\u001b[0m col_dist \u001b[39m=\u001b[39m jax\u001b[39m.\u001b[39mvmap(D_robot)(configs)\n",
      "\n",
      "File \u001b[0;32m~/miniconda3/envs/cu11/lib/python3.8/site-packages/jax/_src/numpy/lax_numpy.py:1786\u001b[0m, in \u001b[0;36mvstack\u001b[0;34m(tup, dtype)\u001b[0m\n",
      "\u001b[1;32m   1784\u001b[0m \u001b[39melse\u001b[39;00m:\n",
      "\u001b[1;32m   1785\u001b[0m   arrs \u001b[39m=\u001b[39m [atleast_2d(m) \u001b[39mfor\u001b[39;00m m \u001b[39min\u001b[39;00m tup]\n",
      "\u001b[0;32m-> 1786\u001b[0m \u001b[39mreturn\u001b[39;00m concatenate(arrs, axis\u001b[39m=\u001b[39;49m\u001b[39m0\u001b[39;49m, dtype\u001b[39m=\u001b[39;49mdtype)\n",
      "\n",
      "File \u001b[0;32m~/miniconda3/envs/cu11/lib/python3.8/site-packages/jax/_src/numpy/lax_numpy.py:1757\u001b[0m, in \u001b[0;36mconcatenate\u001b[0;34m(arrays, axis, dtype)\u001b[0m\n",
      "\u001b[1;32m   1755\u001b[0m util\u001b[39m.\u001b[39m_stackable(\u001b[39m*\u001b[39marrays) \u001b[39mor\u001b[39;00m util\u001b[39m.\u001b[39mcheck_arraylike(\u001b[39m\"\u001b[39m\u001b[39mconcatenate\u001b[39m\u001b[39m\"\u001b[39m, \u001b[39m*\u001b[39marrays)\n",
      "\u001b[1;32m   1756\u001b[0m \u001b[39mif\u001b[39;00m \u001b[39mnot\u001b[39;00m \u001b[39mlen\u001b[39m(arrays):\n",
      "\u001b[0;32m-> 1757\u001b[0m   \u001b[39mraise\u001b[39;00m \u001b[39mValueError\u001b[39;00m(\u001b[39m\"\u001b[39m\u001b[39mNeed at least one array to concatenate.\u001b[39m\u001b[39m\"\u001b[39m)\n",
      "\u001b[1;32m   1758\u001b[0m \u001b[39mif\u001b[39;00m ndim(arrays[\u001b[39m0\u001b[39m]) \u001b[39m==\u001b[39m \u001b[39m0\u001b[39m:\n",
      "\u001b[1;32m   1759\u001b[0m   \u001b[39mraise\u001b[39;00m \u001b[39mValueError\u001b[39;00m(\u001b[39m\"\u001b[39m\u001b[39mZero-dimensional arrays cannot be concatenated.\u001b[39m\u001b[39m\"\u001b[39m)\n",
      "\n",
      "\u001b[0;31mValueError\u001b[0m: Need at least one array to concatenate."
     ]
    }
   ],
   "source": [
    "var_dict = get_var_dict(jnp.zeros(dim))\n",
    "grasps = []\n",
    "for k in K:\n",
    "    grasp = var_dict[f\"g{k}\"]\n",
    "    grasps.append(grasp)\n",
    "grasps = jnp.vstack(grasps)\n",
    "logits = jax.vmap(P_grasp)(grasps)\n",
    "\n",
    "#kinematic error scene/grasp/isswitch/pose\n",
    "tool_poses, configs = [], []\n",
    "for (t, k, isswitch, p) in Pairs:\n",
    "    if isswitch:\n",
    "        grasp = var_dict[f\"g{k}\"]\n",
    "        pose = var_dict[f\"p{p}\"]\n",
    "        q = var_dict[f\"q{t}\"]\n",
    "        tool_poses.append(R_grasp(grasp, pose))\n",
    "        configs.append(q)\n",
    "tool_poses = jnp.vstack(tool_poses)\n",
    "configs = jnp.vstack(configs)\n",
    "kin_errors = jax.vmap(kin_error, in_axes=(0,0))(tool_poses, configs)\n",
    "\n",
    "#robot collision\n",
    "configs = []\n",
    "for t in T:\n",
    "    q = var_dict[f\"q{t}\"]\n",
    "configs = jnp.vstack(configs)\n",
    "col_dist = jax.vmap(D_robot)(configs)\n"
   ]
  },
  {
   "cell_type": "code",
   "execution_count": null,
   "metadata": {},
   "outputs": [],
   "source": []
  },
  {
   "cell_type": "code",
   "execution_count": 231,
   "metadata": {},
   "outputs": [
    {
     "data": {
      "text/plain": [
       "[Array([0., 0., 0., 0., 0., 0., 0.], dtype=float32),\n",
       " Array([0., 0., 0., 0., 0., 0., 0.], dtype=float32)]"
      ]
     },
     "execution_count": 231,
     "metadata": {},
     "output_type": "execute_result"
    }
   ],
   "source": []
  },
  {
   "cell_type": "code",
   "execution_count": 228,
   "metadata": {},
   "outputs": [
    {
     "data": {
      "text/plain": [
       "SE3(wxyz=[ 0.45220998 -0.25160998  0.85379     0.05696   ], xyz=[ 0.32565    -0.33247998  0.09344999])"
      ]
     },
     "execution_count": 228,
     "metadata": {},
     "output_type": "execute_result"
    }
   ],
   "source": [
    "SE3(tool_poses[1])"
   ]
  }
 ],
 "metadata": {
  "kernelspec": {
   "display_name": "cu11",
   "language": "python",
   "name": "python3"
  },
  "language_info": {
   "codemirror_mode": {
    "name": "ipython",
    "version": 3
   },
   "file_extension": ".py",
   "mimetype": "text/x-python",
   "name": "python",
   "nbconvert_exporter": "python",
   "pygments_lexer": "ipython3",
   "version": "3.8.16"
  },
  "orig_nbformat": 4
 },
 "nbformat": 4,
 "nbformat_minor": 2
}
