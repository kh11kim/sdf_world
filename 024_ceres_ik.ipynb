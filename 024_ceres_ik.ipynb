{
 "cells": [
  {
   "cell_type": "code",
   "execution_count": 1,
   "metadata": {},
   "outputs": [],
   "source": [
    "import numpy as np\n",
    "import jax\n",
    "import jax.numpy as jnp\n",
    "from jaxlie import SE3, SO3\n",
    "import jax_dataclasses as jdc\n",
    "from functools import partial\n",
    "import PyCeres\n",
    "\n",
    "from sdf_world.sdf_world import *\n",
    "from sdf_world.robots import *\n",
    "from sdf_world.util import *"
   ]
  },
  {
   "cell_type": "code",
   "execution_count": 2,
   "metadata": {},
   "outputs": [
    {
     "name": "stdout",
     "output_type": "stream",
     "text": [
      "You can open the visualizer by visiting the following URL:\n",
      "http://127.0.0.1:7000/static/\n"
     ]
    }
   ],
   "source": [
    "world = SDFWorld()\n",
    "panda_model = RobotModel(PANDA_URDF, PANDA_PACKAGE)\n",
    "panda = Robot(world.vis, \"panda\", panda_model, alpha=0.5)\n",
    "panda.reduce_dim([7, 8], [0.04, 0.04])"
   ]
  },
  {
   "cell_type": "code",
   "execution_count": 3,
   "metadata": {},
   "outputs": [],
   "source": [
    "#utility\n",
    "def to_posevec(pose:SE3):\n",
    "    return jnp.hstack([pose.translation(), pose.rotation().log()])\n",
    "\n",
    "def make_pose():\n",
    "    return SE3.from_rotation_and_translation(\n",
    "        SO3(np.random.random(4)).normalize(),\n",
    "        np.random.uniform([-0.3,-0.5,0.3],[0.6, 0.5, 0.8])\n",
    "    )\n",
    "\n",
    "# Kinematics\n",
    "def get_rotvec_angvel_map(v):\n",
    "    def skew(v):\n",
    "        v1, v2, v3 = v\n",
    "        return jnp.array([[0, -v3, v2],\n",
    "                        [v3, 0., -v1],\n",
    "                        [-v2, v1, 0.]])\n",
    "    vmag = jnp.linalg.norm(v)\n",
    "    vskew = skew(v)\n",
    "    return jnp.eye(3) \\\n",
    "        - 1/2*skew(v) \\\n",
    "        + vskew@vskew * 1/vmag**2 * (1-vmag/2 * jnp.sin(vmag)/(1-jnp.cos(vmag)))\n",
    "\n",
    "@jax.jit\n",
    "def get_ee_fk_jac(q):\n",
    "    # outputs ee_posevec and analytical jacobian\n",
    "    fks = panda_model.fk_fn(q)\n",
    "    p_ee = fks[-1][-3:]\n",
    "    rotvec_ee = SO3(fks[-1][:4]).log()\n",
    "    E = get_rotvec_angvel_map(rotvec_ee)\n",
    "    jac = []\n",
    "    for posevec in fks[1:8]:\n",
    "        p_frame = posevec[-3:]\n",
    "        rot_axis = SE3(posevec).as_matrix()[:3, 2]\n",
    "        lin_vel = jnp.cross(rot_axis, p_ee - p_frame)\n",
    "        jac.append(jnp.hstack([lin_vel, rot_axis]))\n",
    "    jac = jnp.array(jac).T\n",
    "    jac = jac.at[3:, :].set(E @ jac[3:, :])\n",
    "    return jnp.hstack([p_ee, rotvec_ee]), jac\n",
    "\n"
   ]
  },
  {
   "cell_type": "code",
   "execution_count": 4,
   "metadata": {},
   "outputs": [],
   "source": [
    "frame = Frame(world.vis, \"frame\")"
   ]
  },
  {
   "cell_type": "code",
   "execution_count": 23,
   "metadata": {},
   "outputs": [],
   "source": [
    "import time\n",
    "class Kin(PyCeres.CostFunction):\n",
    "    def __init__(self):\n",
    "        super().__init__()\n",
    "        self.set_num_residuals(6)\n",
    "        self.set_parameter_block_sizes([7])\n",
    "        self.goal = None\n",
    "        self.weight_mat = None\n",
    "\n",
    "    def set_goal(self, posevec):\n",
    "        self.goal = posevec\n",
    "    \n",
    "    def set_weight(self, weight):\n",
    "        self.weight_mat = np.diag(np.sqrt(weight))\n",
    "\n",
    "    def Evaluate(self, parameters, residuals, jacobians):\n",
    "        q = parameters[0] #vector\n",
    "        ee, jac = get_ee_fk_jac(q)\n",
    "        residuals[:] = self.weight_mat @ (self.goal - ee)\n",
    "        panda.set_joint_angles(q)\n",
    "        time.sleep(0.05)\n",
    "        if (jacobians != None):\n",
    "            jacobians[0][:] = - (self.weight_mat @ jac).flatten()\n",
    "        return True"
   ]
  },
  {
   "cell_type": "code",
   "execution_count": 29,
   "metadata": {},
   "outputs": [],
   "source": [
    "pose_d = make_pose()\n",
    "frame.set_pose(pose_d)\n",
    "posevec_d = to_posevec(pose_d)"
   ]
  },
  {
   "cell_type": "code",
   "execution_count": 24,
   "metadata": {},
   "outputs": [],
   "source": [
    "pose_weight = np.array([1, 1, 1, 0.3, 0.3, 0.3])"
   ]
  },
  {
   "cell_type": "code",
   "execution_count": 30,
   "metadata": {},
   "outputs": [],
   "source": [
    "feature_kin = Kin()\n",
    "feature_kin.set_goal(posevec_d)\n",
    "feature_kin.set_weight(pose_weight)"
   ]
  },
  {
   "cell_type": "code",
   "execution_count": 26,
   "metadata": {},
   "outputs": [],
   "source": [
    "# residuals = np.zeros(6)\n",
    "# jacobians = [np.zeros(42)]\n",
    "#feature_kin.Evaluate([q], residuals, jacobians) # TEST"
   ]
  },
  {
   "cell_type": "code",
   "execution_count": 31,
   "metadata": {},
   "outputs": [],
   "source": [
    "#initialize\n",
    "q = panda.neutral.copy()\n",
    "panda.set_joint_angles(q)\n",
    "\n",
    "problem = PyCeres.Problem()\n",
    "problem.AddResidualBlock(feature_kin, None, q)\n",
    "options = PyCeres.SolverOptions()\n",
    "options.linear_solver_type = PyCeres.LinearSolverType.DENSE_QR\n",
    "options.parameter_tolerance = 1e-2\n",
    "options.minimizer_progress_to_stdout = True\n",
    "summary = PyCeres.Summary()"
   ]
  },
  {
   "cell_type": "code",
   "execution_count": 32,
   "metadata": {},
   "outputs": [
    {
     "name": "stdout",
     "output_type": "stream",
     "text": [
      "iter      cost      cost_change  |gradient|   |step|    tr_ratio  tr_radius  ls_iter  iter_time  total_time\n",
      "   0  2.821009e-01    0.00e+00    5.26e-01   0.00e+00   0.00e+00  1.00e+04        0    5.60e-02    5.61e-02\n",
      "   1  6.132471e-02    2.21e-01    1.11e-01   2.49e+00   7.83e-01  1.22e+04        1    1.10e-01    1.66e-01\n",
      "   2  5.325204e+00   -5.26e+00    1.11e-01   1.50e+00  -8.58e+01  6.10e+03        1    6.87e-02    2.35e-01\n",
      "   3  5.328043e+00   -5.27e+00    1.11e-01   1.50e+00  -8.59e+01  1.53e+03        1    5.54e-02    2.90e-01\n",
      "   4  5.344507e+00   -5.28e+00    1.11e-01   1.48e+00  -8.62e+01  1.91e+02        1    5.31e-02    3.44e-01\n",
      "   5  5.461678e+00   -5.40e+00    1.11e-01   1.35e+00  -8.87e+01  1.19e+01        1    5.37e-02    3.97e-01\n",
      "   6  1.988135e-02    4.14e-02    4.06e-02   6.23e-01   9.66e-01  3.58e+01        1    1.15e-01    5.12e-01\n",
      "   7  3.240180e-03    1.66e-02    1.77e-02   5.89e-01   9.52e-01  1.07e+02        1    1.15e-01    6.27e-01\n",
      "   8  2.589624e-04    2.98e-03    1.02e-02   3.42e-01   9.54e-01  3.22e+02        1    1.15e-01    7.42e-01\n",
      "   9  4.914044e-06    2.54e-04    1.62e-03   1.15e-01   9.88e-01  9.65e+02        1    1.13e-01    8.55e-01\n"
     ]
    }
   ],
   "source": [
    "PyCeres.Solve(options, problem, summary)"
   ]
  },
  {
   "cell_type": "code",
   "execution_count": 22,
   "metadata": {},
   "outputs": [],
   "source": [
    "panda.set_joint_angles(q)"
   ]
  },
  {
   "cell_type": "code",
   "execution_count": 104,
   "metadata": {},
   "outputs": [
    {
     "data": {
      "text/plain": [
       "array([ 0.42615311, -0.48190832, -1.13909383, -2.00997517, -3.79805377,\n",
       "        2.01518086,  1.47913683])"
      ]
     },
     "execution_count": 104,
     "metadata": {},
     "output_type": "execute_result"
    }
   ],
   "source": [
    "q"
   ]
  },
  {
   "cell_type": "code",
   "execution_count": 78,
   "metadata": {},
   "outputs": [
    {
     "data": {
      "text/plain": [
       "0.019966840744018555"
      ]
     },
     "execution_count": 78,
     "metadata": {},
     "output_type": "execute_result"
    }
   ],
   "source": [
    "summary.total_time_in_seconds"
   ]
  },
  {
   "cell_type": "code",
   "execution_count": 18,
   "metadata": {},
   "outputs": [],
   "source": [
    "def powell_fn(x):\n",
    "    x1, x2, x3, x4 = x\n",
    "    f1 = x1 + 10*x2\n",
    "    f2 = jnp.sqrt(5)*(x3-x4)\n",
    "    f3 = (x2 - 2*x3)**2\n",
    "    f4 = jnp.sqrt(10)*(x1 - x4)**2\n",
    "    return jnp.hstack([f1, f2, f3, f4])\n",
    "jac_powell = jax.jacrev(powell_fn)\n",
    "jac_powell(jnp.zeros(4))"
   ]
  },
  {
   "cell_type": "code",
   "execution_count": 76,
   "metadata": {},
   "outputs": [
    {
     "name": "stdout",
     "output_type": "stream",
     "text": [
      "Ceres Solver Report: Iterations: 22, Initial cost: 1.169696e+00, Final cost: 9.534040e-15, Termination: CONVERGENCE\n"
     ]
    }
   ],
   "source": [
    "print(summary.BriefReport())"
   ]
  },
  {
   "cell_type": "code",
   "execution_count": 38,
   "metadata": {},
   "outputs": [],
   "source": [
    "feature = Powell()"
   ]
  },
  {
   "cell_type": "code",
   "execution_count": 39,
   "metadata": {},
   "outputs": [],
   "source": [
    "data = jnp.array([3, -1, 0, 1.])"
   ]
  },
  {
   "cell_type": "code",
   "execution_count": 40,
   "metadata": {},
   "outputs": [
    {
     "data": {
      "text/plain": [
       "<PyCeres.ResidualBlock at 0x7f9483017e70>"
      ]
     },
     "execution_count": 40,
     "metadata": {},
     "output_type": "execute_result"
    }
   ],
   "source": []
  },
  {
   "cell_type": "code",
   "execution_count": 41,
   "metadata": {},
   "outputs": [],
   "source": []
  },
  {
   "cell_type": "code",
   "execution_count": 42,
   "metadata": {},
   "outputs": [
    {
     "name": "stdout",
     "output_type": "stream",
     "text": [
      "[ 3. -1.  0.  1.] :)\n",
      "iter      cost      cost_change  |gradient|   |step|    tr_ratio  tr_radius  ls_iter  iter_time  total_time\n",
      "   0  1.075000e+02    0.00e+00    1.55e+02   0.00e+00   0.00e+00  1.00e+04        0    2.30e-02    2.30e-02\n",
      "[ 1.20093009 -0.11998137  0.1925488   0.20075604] :)\n",
      "[ 1.20093009 -0.11998137  0.1925488   0.20075604] :)\n",
      "   1  5.036190e+00    1.02e+02    2.00e+01   2.16e+00   9.53e-01  3.00e+04        1    2.09e-02    4.39e-02\n",
      "[ 0.59696117 -0.05969324  0.09666367  0.09685423] :)\n",
      "[ 0.59696117 -0.05969324  0.09666367  0.09685423] :)\n",
      "   2  3.148168e-01    4.72e+00    2.50e+00   6.23e-01   9.37e-01  9.00e+04        1    2.24e-02    6.62e-02\n",
      "[ 0.29844663 -0.02984475  0.04838032  0.04838941] :)\n",
      "[ 0.29844663 -0.02984475  0.04838032  0.04838941] :)\n",
      "   3  1.967760e-02    2.95e-01    3.13e-01   3.08e-01   9.37e-01  2.70e+05        1    2.14e-02    8.76e-02\n",
      "[ 0.14923328 -0.01492337  0.02420314  0.02420374] :)\n",
      "[ 0.14923328 -0.01492337  0.02420314  0.02420374] :)\n",
      "   4  1.229900e-03    1.84e-02    3.91e-02   1.54e-01   9.37e-01  8.10e+05        1    2.11e-02    1.09e-01\n",
      "[ 0.07462243 -0.00746225  0.01210725  0.01210731] :)\n",
      "[ 0.07462243 -0.00746225  0.01210725  0.01210731] :)\n",
      "   5  7.687123e-05    1.15e-03    4.89e-03   7.69e-02   9.37e-01  2.43e+06        1    2.15e-02    1.30e-01\n",
      "[ 0.03731469 -0.00373147  0.00605692  0.00605693] :)\n",
      "[ 0.03731469 -0.00373147  0.00605692  0.00605693] :)\n",
      "   6  4.804628e-06    7.21e-05    6.11e-04   3.85e-02   9.37e-01  7.29e+06        1    2.17e-02    1.52e-01\n",
      "[ 0.01865958 -0.00186596  0.00303057  0.00303057] :)\n",
      "[ 0.01865958 -0.00186596  0.00303057  0.00303057] :)\n",
      "   7  3.003031e-07    4.50e-06    7.64e-05   1.92e-02   9.37e-01  2.19e+07        1    2.15e-02    1.74e-01\n",
      "[ 0.00933126 -0.00093313  0.00151668  0.00151668] :)\n",
      "[ 0.00933126 -0.00093313  0.00151668  0.00151668] :)\n",
      "   8  1.877008e-08    2.82e-07    9.54e-06   9.62e-03   9.37e-01  6.56e+07        1    2.15e-02    1.95e-01\n",
      "[ 0.00466661 -0.00046666  0.00075927  0.00075927] :)\n",
      "[ 0.00466661 -0.00046666  0.00075927  0.00075927] :)\n",
      "   9  1.173224e-09    1.76e-08    1.19e-06   4.81e-03   9.37e-01  1.97e+08        1    2.24e-02    2.17e-01\n",
      "[ 0.00233396 -0.0002334   0.00038025  0.00038025] :)\n",
      "[ 0.00233396 -0.0002334   0.00038025  0.00038025] :)\n",
      "  10  7.333434e-11    1.10e-09    1.49e-07   2.40e-03   9.37e-01  5.90e+08        1    2.26e-02    2.40e-01\n",
      "[ 0.00116741 -0.00011674  0.00019053  0.00019053] :)\n",
      "[ 0.00116741 -0.00011674  0.00019053  0.00019053] :)\n",
      "  11  4.584052e-12    6.88e-11    1.86e-08   1.20e-03   9.37e-01  1.77e+09        1    2.24e-02    2.62e-01\n",
      "[ 5.83994716e-04 -5.83994716e-05  9.55400996e-05  9.55400998e-05] :)\n",
      "[ 5.83994716e-04 -5.83994716e-05  9.55400996e-05  9.55400998e-05] :)\n",
      "  12  2.865579e-13    4.30e-12    2.33e-09   6.02e-04   9.37e-01  5.31e+09        1    2.21e-02    2.84e-01\n",
      "[ 2.92188970e-04 -2.92188970e-05  4.79511329e-05  4.79511329e-05] :)\n",
      "[ 2.92188970e-04 -2.92188970e-05  4.79511329e-05  4.79511329e-05] :)\n",
      "  13  1.791442e-14    2.69e-13    2.91e-10   3.01e-04   9.37e-01  1.59e+10        1    2.17e-02    3.06e-01\n",
      "[ 1.46221663e-04 -1.46221663e-05  2.40957210e-05  2.40957210e-05] :)\n",
      "[ 1.46221663e-04 -1.46221663e-05  2.40957210e-05  2.40957210e-05] :)\n",
      "  14  1.120032e-15    1.68e-14    3.64e-11   1.51e-04   9.37e-01  4.78e+10        1    2.16e-02    3.28e-01\n"
     ]
    }
   ],
   "source": [
    "PyCeres.Solve(options, problem, summary)"
   ]
  },
  {
   "cell_type": "code",
   "execution_count": 36,
   "metadata": {},
   "outputs": [
    {
     "name": "stdout",
     "output_type": "stream",
     "text": [
      "Ceres Solver Report: Iterations: 15, Initial cost: 1.075000e+02, Final cost: 1.120032e-15, Termination: CONVERGENCE\n"
     ]
    }
   ],
   "source": [
    "print(summary.BriefReport())"
   ]
  },
  {
   "cell_type": "code",
   "execution_count": 2,
   "metadata": {},
   "outputs": [
    {
     "name": "stdout",
     "output_type": "stream",
     "text": [
      "You can open the visualizer by visiting the following URL:\n",
      "http://127.0.0.1:7000/static/\n"
     ]
    }
   ],
   "source": [
    "world = SDFWorld()"
   ]
  },
  {
   "cell_type": "code",
   "execution_count": 3,
   "metadata": {},
   "outputs": [],
   "source": [
    "panda_model = RobotModel(PANDA_URDF, PANDA_PACKAGE)\n",
    "panda = Robot(world.vis, \"panda\", panda_model, alpha=0.5)\n",
    "panda.reduce_dim([7, 8], [0.04, 0.04])"
   ]
  },
  {
   "cell_type": "code",
   "execution_count": null,
   "metadata": {},
   "outputs": [],
   "source": []
  },
  {
   "cell_type": "code",
   "execution_count": 4,
   "metadata": {},
   "outputs": [],
   "source": [
    "initial_x = 5.0"
   ]
  },
  {
   "cell_type": "code",
   "execution_count": 5,
   "metadata": {},
   "outputs": [],
   "source": [
    "x = np.array([initial_x])"
   ]
  },
  {
   "cell_type": "code",
   "execution_count": 6,
   "metadata": {},
   "outputs": [],
   "source": [
    "problem = PyCeres.Problem()"
   ]
  },
  {
   "cell_type": "code",
   "execution_count": 14,
   "metadata": {},
   "outputs": [],
   "source": [
    "import jax"
   ]
  },
  {
   "cell_type": "code",
   "execution_count": null,
   "metadata": {},
   "outputs": [],
   "source": [
    "jax.grad()"
   ]
  },
  {
   "cell_type": "code",
   "execution_count": 8,
   "metadata": {},
   "outputs": [],
   "source": [
    "class QuadraticCostFunction(PyCeres.CostFunction):\n",
    "    def __init__(self):\n",
    "        super().__init__()\n",
    "        self.set_num_residuals(1)\n",
    "        self.set_parameter_block_sizes([1])\n",
    "    def Evaluate(self, parameters, residuals, jacobians):\n",
    "        x = parameters[0][0]\n",
    "        residuals[0] = 10 - x\n",
    "        if (jacobians != None) :\n",
    "            jacobians[0][0] = -1\n",
    "        return True\n",
    "quad_cost_fun = QuadraticCostFunction()"
   ]
  },
  {
   "cell_type": "code",
   "execution_count": 9,
   "metadata": {},
   "outputs": [
    {
     "data": {
      "text/plain": [
       "<PyCeres.ResidualBlock at 0x7f403ffeb4b0>"
      ]
     },
     "execution_count": 9,
     "metadata": {},
     "output_type": "execute_result"
    }
   ],
   "source": [
    "problem.AddResidualBlock(quad_cost_fun, None, x)"
   ]
  },
  {
   "cell_type": "code",
   "execution_count": 10,
   "metadata": {},
   "outputs": [],
   "source": [
    "options = PyCeres.SolverOptions()\n",
    "options.linear_solver_type = PyCeres.LinearSolverType.DENSE_QR\n",
    "options.minimizer_progress_to_stdout = True\n",
    "summary = PyCeres.Summary()"
   ]
  },
  {
   "cell_type": "code",
   "execution_count": 12,
   "metadata": {},
   "outputs": [
    {
     "name": "stdout",
     "output_type": "stream",
     "text": [
      "iter      cost      cost_change  |gradient|   |step|    tr_ratio  tr_radius  ls_iter  iter_time  total_time\n",
      "   0  1.250000e+01    0.00e+00    5.00e+00   0.00e+00   0.00e+00  1.00e+04        0    2.16e-04    3.07e-04\n",
      "   1  1.249750e-07    1.25e+01    5.00e-04   5.00e+00   1.00e+00  3.00e+04        1    2.72e-04    6.02e-04\n",
      "   2  1.388518e-16    1.25e-07    1.67e-08   5.00e-04   1.00e+00  9.00e+04        1    3.51e-04    9.62e-04\n"
     ]
    }
   ],
   "source": [
    "PyCeres.Solve(options, problem, summary)"
   ]
  },
  {
   "cell_type": "code",
   "execution_count": 13,
   "metadata": {},
   "outputs": [
    {
     "name": "stdout",
     "output_type": "stream",
     "text": [
      "Ceres Solver Report: Iterations: 3, Initial cost: 1.250000e+01, Final cost: 1.388518e-16, Termination: CONVERGENCE \n",
      "\n",
      "x : 5.0 -> [9.99999998]\n",
      "\n"
     ]
    }
   ],
   "source": [
    "print(summary.BriefReport() + \" \\n\")\n",
    "print(\"x : \" + str(initial_x) + \" -> \" + str(x) + \"\\n\")"
   ]
  }
 ],
 "metadata": {
  "kernelspec": {
   "display_name": "cu11",
   "language": "python",
   "name": "python3"
  },
  "language_info": {
   "codemirror_mode": {
    "name": "ipython",
    "version": 3
   },
   "file_extension": ".py",
   "mimetype": "text/x-python",
   "name": "python",
   "nbconvert_exporter": "python",
   "pygments_lexer": "ipython3",
   "version": "3.8.16"
  },
  "orig_nbformat": 4
 },
 "nbformat": 4,
 "nbformat_minor": 2
}
