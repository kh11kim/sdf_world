{
 "cells": [
  {
   "cell_type": "code",
   "execution_count": 11,
   "metadata": {},
   "outputs": [],
   "source": [
    "import numpy as np\n",
    "import jax\n",
    "import jax.numpy as jnp\n",
    "from jaxlie import SE3, SO3\n",
    "from functools import partial\n",
    "import jax_dataclasses as jdc\n",
    "\n",
    "from sdf_world.sdf_world import *\n",
    "from sdf_world.robots import *\n",
    "from sdf_world.util import *"
   ]
  },
  {
   "cell_type": "code",
   "execution_count": 2,
   "metadata": {},
   "outputs": [
    {
     "name": "stdout",
     "output_type": "stream",
     "text": [
      "You can open the visualizer by visiting the following URL:\n",
      "http://127.0.0.1:7001/static/\n"
     ]
    }
   ],
   "source": [
    "world = SDFWorld()"
   ]
  },
  {
   "cell_type": "code",
   "execution_count": 3,
   "metadata": {},
   "outputs": [],
   "source": [
    "panda_model = RobotModel(PANDA_URDF, PANDA_PACKAGE)\n",
    "panda = Robot(world.vis, \"panda\", panda_model, alpha=0.5)\n",
    "panda.reduce_dim([7, 8], [0.04, 0.04])"
   ]
  },
  {
   "cell_type": "code",
   "execution_count": 1191,
   "metadata": {},
   "outputs": [],
   "source": [
    "# ik\n",
    "robot_dim = 7\n",
    "horizon = 5\n",
    "dim = robot_dim * horizon\n",
    "dt = 0.1\n",
    "\n",
    "to_mat = lambda x: x.reshape(-1, robot_dim)\n",
    "to_vec = lambda x: x.flatten()\n",
    "\n",
    "def to_vel(x, state):\n",
    "    qmat = jnp.vstack([state.q0, to_mat(x)])\n",
    "    return (qmat[1:] - qmat[:-1]).flatten() / dt"
   ]
  },
  {
   "cell_type": "code",
   "execution_count": 7,
   "metadata": {},
   "outputs": [],
   "source": [
    "# Kinematics\n",
    "def skew(v):\n",
    "    v1, v2, v3 = v\n",
    "    return jnp.array([[0, -v3, v2],\n",
    "                      [v3, 0., -v1],\n",
    "                      [-v2, v1, 0.]])\n",
    "\n",
    "def get_rotvec_angvel_map(v):\n",
    "    vmag = jnp.linalg.norm(v)\n",
    "    vskew = skew(v)\n",
    "    return jnp.eye(3) \\\n",
    "        - 1/2*skew(v) \\\n",
    "        + vskew@vskew * 1/vmag**2 * (1-vmag/2 * jnp.sin(vmag)/(1-jnp.cos(vmag)))\n",
    "\n",
    "@jax.jit\n",
    "def get_ee_fk_jac(q):\n",
    "    # outputs ee_posevec and analytical jacobian\n",
    "    fks = panda_model.fk_fn(q)\n",
    "    p_ee = fks[-1][-3:]\n",
    "    rotvec_ee = SO3(fks[-1][:4]).log()\n",
    "    E = get_rotvec_angvel_map(rotvec_ee)\n",
    "    jac = []\n",
    "    for posevec in fks[1:8]:\n",
    "        p_frame = posevec[-3:]\n",
    "        rot_axis = SE3(posevec).as_matrix()[:3, 2]\n",
    "        lin_vel = jnp.cross(rot_axis, p_ee - p_frame)\n",
    "        jac.append(jnp.hstack([lin_vel, rot_axis]))\n",
    "    jac = jnp.array(jac).T\n",
    "    jac = jac.at[3:, :].set(E @ jac[3:, :])\n",
    "    return jnp.hstack([p_ee, rotvec_ee]), jac"
   ]
  },
  {
   "cell_type": "code",
   "execution_count": 17,
   "metadata": {},
   "outputs": [],
   "source": [
    "frame = Frame(world.vis, \"frame\")\n",
    "frame_ee = Frame(world.vis, \"frame_ee\")\n",
    "def to_posevec(pose:SE3):\n",
    "    return jnp.hstack([\n",
    "        pose.translation(), pose.rotation().log()\n",
    "    ])\n",
    "def make_pose():\n",
    "    pose = SE3.from_rotation_and_translation(\n",
    "        SO3(np.random.random(4)).normalize(),\n",
    "        np.random.uniform([-0.3,-0.5,0.3],[0.6, 0.5, 0.8])\n",
    "    )\n",
    "    return pose"
   ]
  },
  {
   "cell_type": "code",
   "execution_count": 1539,
   "metadata": {},
   "outputs": [],
   "source": [
    "def barrier_fn(x, eps=0.01):\n",
    "    # def fn_not_active(x):\n",
    "    #     return 0.\n",
    "    # def fn_in_transition(x):\n",
    "    #     return (1/2/eps)*(x+eps)**2\n",
    "    # def fn_active(x):\n",
    "    #     return x + 1/2 * eps\n",
    "    # x = -x\n",
    "    # is_in_transition = (-eps < x) & (x < 0.)\n",
    "    # is_active = 0 <= x\n",
    "    # switch_var = is_active + is_in_transition*2\n",
    "    # fns = [fn_not_active, fn_active, fn_in_transition]\n",
    "    # result = jax.lax.switch(switch_var, fns, x)\n",
    "    return jnp.where(x>=0, 0., -x)"
   ]
  },
  {
   "cell_type": "code",
   "execution_count": 1540,
   "metadata": {},
   "outputs": [],
   "source": [
    "@jdc.pytree_dataclass\n",
    "class State:\n",
    "    q0: Array\n",
    "    target: Array\n",
    "line = DottedLine(world.vis, \"line\", jnp.zeros((5,3)))\n",
    "def show_path(x, state:State):\n",
    "    panda.set_joint_angles(to_mat(x)[-1])\n",
    "    joints = jnp.vstack([state.q0, to_mat(x)])\n",
    "    points = jax.vmap(panda_model.fk_fn)(joints)[:,-1,-3:]\n",
    "    line.reload(points=points)"
   ]
  },
  {
   "cell_type": "code",
   "execution_count": 1919,
   "metadata": {},
   "outputs": [],
   "source": [
    "def value_and_jacrev(x, state, f):\n",
    "  y, pullback = jax.vjp(f, x, state)\n",
    "  basis = jnp.eye(y.size, dtype=y.dtype)\n",
    "  jac = jax.vmap(pullback)(basis)\n",
    "  return y, jac[0] # jacobian for x\n",
    "\n",
    "pose_weight = np.array([1, 1, 1, 0.3, 0.3, 0.3])\n",
    "def get_vg_pose_residual(x, state):\n",
    "    ee_pose, jac_kin = get_ee_fk_jac(to_mat(x)[-1])\n",
    "    error = state.target - ee_pose\n",
    "    return error, jnp.hstack([jnp.zeros((6, 28)), - jac_kin]), pose_weight\n",
    "\n",
    "def joint_limit_violation(x, state):\n",
    "    ub_viol = np.tile(panda.ub, horizon) - x # should be positive\n",
    "    lb_viol = x - np.tile(panda.lb, horizon)\n",
    "    #viols = jax.vmap(barrier_fn)(jnp.hstack([ub_viol, lb_viol]))\n",
    "    viols = jnp.hstack([ub_viol, lb_viol])\n",
    "    return viols\n",
    "\n",
    "joint_vel_ub = jnp.ones(dim)\n",
    "joint_vel_lb = -jnp.ones(dim)\n",
    "def joint_vel_limit_violation(x, state):\n",
    "    vel = to_vel(x, state)\n",
    "    ub_viol = joint_vel_ub - vel # should be positive\n",
    "    lb_viol = vel - joint_vel_lb\n",
    "    #viols = jax.vmap(barrier_fn)(jnp.hstack([ub_viol, lb_viol]))\n",
    "    viols = jnp.hstack([ub_viol, lb_viol])\n",
    "    return viols #.reshape(2, -1).sum(axis=0)\n",
    "_get_vg_joint_limit_viol = jax.jit(partial(value_and_jacrev, f=joint_limit_violation))\n",
    "_get_vg_joint_vel_limit_viol = jax.jit(partial(value_and_jacrev, f=joint_vel_limit_violation))\n",
    "\n",
    "def get_vg_joint_limit_viol(x, state):\n",
    "    val, jac = _get_vg_joint_limit_viol(x, state)\n",
    "    return val, jac, jnp.ones(dim)\n",
    "def get_vg_joint_vel_limit_viol(x, state):\n",
    "    val, jac = _get_vg_joint_vel_limit_viol(x, state)\n",
    "    return val, jac, jnp.ones(dim*2)"
   ]
  },
  {
   "cell_type": "code",
   "execution_count": 1920,
   "metadata": {},
   "outputs": [],
   "source": [
    "import osqp"
   ]
  },
  {
   "cell_type": "code",
   "execution_count": null,
   "metadata": {},
   "outputs": [],
   "source": []
  },
  {
   "cell_type": "code",
   "execution_count": 1713,
   "metadata": {},
   "outputs": [],
   "source": [
    "vg_fns = [get_vg_pose_residual, get_vg_joint_limit_viol, get_vg_joint_vel_limit_viol]\n",
    "@jax.jit\n",
    "def eval(x, state):\n",
    "    residuals = []\n",
    "    jacs = []\n",
    "    weights = []\n",
    "    for vg_fn in vg_fns:\n",
    "        r, jac, weight = vg_fn(x, state)\n",
    "        residuals.append(r)\n",
    "        jacs.append(jac)\n",
    "        weights.append(weight)\n",
    "    return jnp.hstack(residuals), jnp.vstack(jacs), jnp.hstack(weights)"
   ]
  },
  {
   "cell_type": "code",
   "execution_count": 1714,
   "metadata": {},
   "outputs": [],
   "source": [
    "#set problem\n",
    "target_pose = make_pose()\n",
    "target = to_posevec(target_pose)\n",
    "frame.set_pose(target_pose)"
   ]
  },
  {
   "cell_type": "code",
   "execution_count": 1869,
   "metadata": {},
   "outputs": [],
   "source": [
    "#initialize\n",
    "state = State(panda.neutral, target)\n",
    "x = np.tile(panda.neutral, 5)\n",
    "show_path(x, state)"
   ]
  },
  {
   "cell_type": "code",
   "execution_count": 1870,
   "metadata": {},
   "outputs": [],
   "source": [
    "mu = 0.01\n",
    "factor = 2."
   ]
  },
  {
   "cell_type": "code",
   "execution_count": 1871,
   "metadata": {},
   "outputs": [],
   "source": [
    "#given x, \n",
    "error, jac, weight = eval(x, state)\n",
    "# weight = weight.at[-dim:].set(jnp.zeros(dim))\n",
    "W = jnp.diag(weight)\n",
    "\n",
    "d = jnp.linalg.solve(jac.T@W@jac, - jac.T@W@error) # + mu*jnp.eye(dim)\n",
    "\n",
    "error_new, _, _ = eval(x+d, state)\n",
    "x = x + d*1.\n",
    "\n",
    "# model_improvement = 1/2*d@(mu*d - jac.T@error)\n",
    "# actual_improvement = error@error - error_new@error_new\n",
    "# gain_factor = actual_improvement/model_improvement\n",
    "# if gain_factor > 0.:\n",
    "#     x = x + d\n",
    "#     mu = np.max([mu/factor, 1e-5])\n",
    "# else: \n",
    "#     mu = np.min([mu/factor, 1e5])\n",
    "\n",
    "show_path(x, state)\n",
    "#print(gain_factor)"
   ]
  },
  {
   "cell_type": "code",
   "execution_count": 1885,
   "metadata": {},
   "outputs": [],
   "source": [
    "q, r = np.linalg.qr(jac)"
   ]
  },
  {
   "cell_type": "code",
   "execution_count": 1893,
   "metadata": {},
   "outputs": [],
   "source": [
    "eps = 1e-6\n",
    "error > eps"
   ]
  },
  {
   "cell_type": "code",
   "execution_count": 1891,
   "metadata": {},
   "outputs": [
    {
     "data": {
      "text/plain": [
       "array([[ 0.0000000e+00,  0.0000000e+00,  0.0000000e+00, ...,\n",
       "        -1.6653345e-15, -1.7700882e-01, -8.9062968e-10],\n",
       "       [ 0.0000000e+00,  0.0000000e+00,  0.0000000e+00, ...,\n",
       "        -1.7700827e-01,  1.1160222e-08, -7.4505806e-09],\n",
       "       [ 0.0000000e+00,  0.0000000e+00,  0.0000000e+00, ...,\n",
       "        -4.6566123e-10, -1.4613657e-01, -2.7228692e-10],\n",
       "       ...,\n",
       "       [ 0.0000000e+00,  0.0000000e+00,  0.0000000e+00, ...,\n",
       "         0.0000000e+00,  0.0000000e+00,  0.0000000e+00],\n",
       "       [ 0.0000000e+00,  0.0000000e+00,  0.0000000e+00, ...,\n",
       "         0.0000000e+00,  0.0000000e+00,  0.0000000e+00],\n",
       "       [ 0.0000000e+00,  0.0000000e+00,  0.0000000e+00, ...,\n",
       "         0.0000000e+00,  0.0000000e+00,  0.0000000e+00]], dtype=float32)"
      ]
     },
     "execution_count": 1891,
     "metadata": {},
     "output_type": "execute_result"
    }
   ],
   "source": [
    "jnp.linalg.lstsq()"
   ]
  },
  {
   "cell_type": "code",
   "execution_count": 1879,
   "metadata": {},
   "outputs": [
    {
     "ename": "TypeError",
     "evalue": "add got incompatible shapes for broadcasting: (111, 35), (35, 35).",
     "output_type": "error",
     "traceback": [
      "\u001b[0;31m---------------------------------------------------------------------------\u001b[0m",
      "\u001b[0;31mTypeError\u001b[0m                                 Traceback (most recent call last)",
      "Cell \u001b[0;32mIn[1879], line 1\u001b[0m\n\u001b[0;32m----> 1\u001b[0m jac_r \u001b[39m=\u001b[39m jac \u001b[39m+\u001b[39;49m jnp\u001b[39m.\u001b[39;49meye(jac\u001b[39m.\u001b[39;49mshape[\u001b[39m1\u001b[39;49m])\n\u001b[1;32m      2\u001b[0m jac_r\u001b[39m.\u001b[39mT\u001b[39m@jac_r\u001b[39m\n",
      "File \u001b[0;32m~/miniconda3/envs/cu11/lib/python3.8/site-packages/jax/_src/numpy/array_methods.py:251\u001b[0m, in \u001b[0;36m_defer_to_unrecognized_arg.<locals>.deferring_binary_op\u001b[0;34m(self, other)\u001b[0m\n\u001b[1;32m    249\u001b[0m args \u001b[39m=\u001b[39m (other, \u001b[39mself\u001b[39m) \u001b[39mif\u001b[39;00m swap \u001b[39melse\u001b[39;00m (\u001b[39mself\u001b[39m, other)\n\u001b[1;32m    250\u001b[0m \u001b[39mif\u001b[39;00m \u001b[39misinstance\u001b[39m(other, _accepted_binop_types):\n\u001b[0;32m--> 251\u001b[0m   \u001b[39mreturn\u001b[39;00m binary_op(\u001b[39m*\u001b[39;49margs)\n\u001b[1;32m    252\u001b[0m \u001b[39mif\u001b[39;00m \u001b[39misinstance\u001b[39m(other, _rejected_binop_types):\n\u001b[1;32m    253\u001b[0m   \u001b[39mraise\u001b[39;00m \u001b[39mTypeError\u001b[39;00m(\u001b[39mf\u001b[39m\u001b[39m\"\u001b[39m\u001b[39munsupported operand type(s) for \u001b[39m\u001b[39m{\u001b[39;00mopchar\u001b[39m}\u001b[39;00m\u001b[39m: \u001b[39m\u001b[39m\"\u001b[39m\n\u001b[1;32m    254\u001b[0m                   \u001b[39mf\u001b[39m\u001b[39m\"\u001b[39m\u001b[39m{\u001b[39;00m\u001b[39mtype\u001b[39m(args[\u001b[39m0\u001b[39m])\u001b[39m.\u001b[39m\u001b[39m__name__\u001b[39m\u001b[39m!r}\u001b[39;00m\u001b[39m and \u001b[39m\u001b[39m{\u001b[39;00m\u001b[39mtype\u001b[39m(args[\u001b[39m1\u001b[39m])\u001b[39m.\u001b[39m\u001b[39m__name__\u001b[39m\u001b[39m!r}\u001b[39;00m\u001b[39m\"\u001b[39m)\n",
      "    \u001b[0;31m[... skipping hidden 12 frame]\u001b[0m\n",
      "File \u001b[0;32m~/miniconda3/envs/cu11/lib/python3.8/site-packages/jax/_src/numpy/ufuncs.py:96\u001b[0m, in \u001b[0;36m_maybe_bool_binop.<locals>.fn\u001b[0;34m(x1, x2)\u001b[0m\n\u001b[1;32m     94\u001b[0m \u001b[39mdef\u001b[39;00m \u001b[39mfn\u001b[39m(x1, x2, \u001b[39m/\u001b[39m):\n\u001b[1;32m     95\u001b[0m   x1, x2 \u001b[39m=\u001b[39m promote_args(numpy_fn\u001b[39m.\u001b[39m\u001b[39m__name__\u001b[39m, x1, x2)\n\u001b[0;32m---> 96\u001b[0m   \u001b[39mreturn\u001b[39;00m lax_fn(x1, x2) \u001b[39mif\u001b[39;00m x1\u001b[39m.\u001b[39mdtype \u001b[39m!=\u001b[39m np\u001b[39m.\u001b[39mbool_ \u001b[39melse\u001b[39;00m bool_lax_fn(x1, x2)\n",
      "    \u001b[0;31m[... skipping hidden 7 frame]\u001b[0m\n",
      "File \u001b[0;32m~/miniconda3/envs/cu11/lib/python3.8/site-packages/jax/_src/lax/lax.py:1558\u001b[0m, in \u001b[0;36mbroadcasting_shape_rule\u001b[0;34m(name, *avals)\u001b[0m\n\u001b[1;32m   1556\u001b[0m       result_shape\u001b[39m.\u001b[39mappend(non_1s[\u001b[39m0\u001b[39m])\n\u001b[1;32m   1557\u001b[0m     \u001b[39melse\u001b[39;00m:\n\u001b[0;32m-> 1558\u001b[0m       \u001b[39mraise\u001b[39;00m \u001b[39mTypeError\u001b[39;00m(\u001b[39mf\u001b[39m\u001b[39m'\u001b[39m\u001b[39m{\u001b[39;00mname\u001b[39m}\u001b[39;00m\u001b[39m got incompatible shapes for broadcasting: \u001b[39m\u001b[39m'\u001b[39m\n\u001b[1;32m   1559\u001b[0m                       \u001b[39mf\u001b[39m\u001b[39m'\u001b[39m\u001b[39m{\u001b[39;00m\u001b[39m\"\u001b[39m\u001b[39m, \u001b[39m\u001b[39m\"\u001b[39m\u001b[39m.\u001b[39mjoin(\u001b[39mmap\u001b[39m(\u001b[39mstr\u001b[39m,\u001b[39m \u001b[39m\u001b[39mmap\u001b[39m(\u001b[39mtuple\u001b[39m,\u001b[39m \u001b[39mshapes)))\u001b[39m}\u001b[39;00m\u001b[39m.\u001b[39m\u001b[39m'\u001b[39m)\n\u001b[1;32m   1561\u001b[0m \u001b[39mreturn\u001b[39;00m \u001b[39mtuple\u001b[39m(result_shape)\n",
      "\u001b[0;31mTypeError\u001b[0m: add got incompatible shapes for broadcasting: (111, 35), (35, 35)."
     ]
    }
   ],
   "source": [
    "jac_r = jac + jnp.eye(jac.shape[1])\n",
    "jac_r.T@jac_r"
   ]
  },
  {
   "cell_type": "code",
   "execution_count": 1806,
   "metadata": {},
   "outputs": [
    {
     "data": {
      "text/plain": [
       "Array([0., 0., 0., 0., 0., 0., 0., 0., 0., 0., 0., 0., 0., 0., 0., 0., 0.,\n",
       "       0., 0., 0., 0., 0., 0., 0., 0., 0., 0., 0., 0., 0., 0., 0., 0., 0.,\n",
       "       0.], dtype=float32)"
      ]
     },
     "execution_count": 1806,
     "metadata": {},
     "output_type": "execute_result"
    }
   ],
   "source": [
    "joint_limit_violation(x, state)"
   ]
  },
  {
   "cell_type": "code",
   "execution_count": 1816,
   "metadata": {},
   "outputs": [
    {
     "data": {
      "text/plain": [
       "Array([[0.0000000e+00, 0.0000000e+00, 0.0000000e+00, 2.3841858e-07,\n",
       "        0.0000000e+00, 1.2257099e-03, 3.8635731e-04, 0.0000000e+00,\n",
       "        0.0000000e+00, 0.0000000e+00, 2.3841858e-07, 0.0000000e+00,\n",
       "        1.2245178e-03, 3.8635731e-04, 0.0000000e+00, 0.0000000e+00,\n",
       "        0.0000000e+00, 0.0000000e+00, 0.0000000e+00, 1.2269020e-03,\n",
       "        3.8635731e-04, 0.0000000e+00, 0.0000000e+00, 0.0000000e+00,\n",
       "        0.0000000e+00, 0.0000000e+00, 1.2245178e-03, 3.8647652e-04,\n",
       "        0.0000000e+00, 0.0000000e+00, 5.2452087e-06, 0.0000000e+00,\n",
       "        0.0000000e+00, 1.2245178e-03, 3.8623810e-04],\n",
       "       [0.0000000e+00, 4.0414333e-03, 0.0000000e+00, 0.0000000e+00,\n",
       "        0.0000000e+00, 0.0000000e+00, 0.0000000e+00, 0.0000000e+00,\n",
       "        4.0414333e-03, 0.0000000e+00, 0.0000000e+00, 0.0000000e+00,\n",
       "        0.0000000e+00, 0.0000000e+00, 0.0000000e+00, 4.0414333e-03,\n",
       "        0.0000000e+00, 0.0000000e+00, 0.0000000e+00, 0.0000000e+00,\n",
       "        0.0000000e+00, 1.1920929e-07, 4.0414333e-03, 0.0000000e+00,\n",
       "        0.0000000e+00, 0.0000000e+00, 0.0000000e+00, 0.0000000e+00,\n",
       "        3.0636787e-05, 4.0414333e-03, 0.0000000e+00, 0.0000000e+00,\n",
       "        0.0000000e+00, 0.0000000e+00, 0.0000000e+00]], dtype=float32)"
      ]
     },
     "execution_count": 1816,
     "metadata": {},
     "output_type": "execute_result"
    }
   ],
   "source": [
    "joint_vel_limit_violation(x, state).reshape(2, -1)"
   ]
  },
  {
   "cell_type": "code",
   "execution_count": 1185,
   "metadata": {},
   "outputs": [],
   "source": []
  },
  {
   "cell_type": "code",
   "execution_count": 1189,
   "metadata": {},
   "outputs": [],
   "source": []
  },
  {
   "cell_type": "code",
   "execution_count": 1190,
   "metadata": {},
   "outputs": [
    {
     "data": {
      "text/plain": [
       "Array([ 0.       ,  0.       ,  0.       ,  0.       ,  0.       ,\n",
       "        0.       ,  0.       ,  0.       ,  0.       ,  0.       ,\n",
       "        0.       ,  0.       ,  0.       ,  0.       ,  0.       ,\n",
       "        0.       ,  0.       ,  0.       ,  0.       ,  0.       ,\n",
       "        0.       ,  0.       ,  0.       ,  0.       ,  0.       ,\n",
       "        0.       ,  0.       ,  0.       ,  6.1204395,  3.5883708,\n",
       "        3.6641312,  5.5315666,  2.392091 , 17.528088 ,  4.63465  ],      dtype=float32)"
      ]
     },
     "execution_count": 1190,
     "metadata": {},
     "output_type": "execute_result"
    }
   ],
   "source": [
    "joint_vel_limit_violation(x, state)"
   ]
  },
  {
   "cell_type": "code",
   "execution_count": null,
   "metadata": {},
   "outputs": [],
   "source": []
  },
  {
   "cell_type": "code",
   "execution_count": 1090,
   "metadata": {},
   "outputs": [],
   "source": []
  },
  {
   "cell_type": "code",
   "execution_count": 1093,
   "metadata": {},
   "outputs": [
    {
     "data": {
      "text/plain": [
       "Array([0.       , 0.       , 0.       , 0.       , 0.       , 0.       ,\n",
       "       0.       , 0.       , 0.       , 0.       , 0.       , 0.       ,\n",
       "       0.       , 0.       , 0.       , 0.       , 0.       , 0.       ,\n",
       "       0.       , 0.       , 0.       , 0.       , 0.       , 0.       ,\n",
       "       0.       , 0.       , 0.       , 0.       , 0.       , 0.6483364,\n",
       "       0.       , 0.       , 0.       , 0.       , 0.       ],      dtype=float32)"
      ]
     },
     "execution_count": 1093,
     "metadata": {},
     "output_type": "execute_result"
    }
   ],
   "source": []
  },
  {
   "cell_type": "code",
   "execution_count": null,
   "metadata": {},
   "outputs": [],
   "source": []
  },
  {
   "cell_type": "code",
   "execution_count": 1086,
   "metadata": {},
   "outputs": [
    {
     "data": {
      "text/plain": [
       "Array([[ 2.9671   ,  1.8326   ,  2.9671   ,  1.5708   ,  2.9671   ,\n",
       "         1.9548   ,  2.9671   ,  2.9671   ,  1.8326   ,  2.9671   ,\n",
       "         1.5708   ,  2.9671   ,  1.9547999,  2.9671   ],\n",
       "       [ 2.9671   ,  1.8326   ,  2.9671   ,  1.5708   ,  2.9671   ,\n",
       "         1.9548   ,  2.9671   ,  2.9671   ,  1.8326   ,  2.9671   ,\n",
       "         1.5708   ,  2.9671   ,  1.9547999,  2.9671   ],\n",
       "       [ 2.9671   ,  1.8326   ,  2.9671   ,  1.5708   ,  2.9671   ,\n",
       "         1.9548   ,  2.9671   ,  2.9671   ,  1.8326   ,  2.9671   ,\n",
       "         1.5708   ,  2.9671   ,  1.9547999,  2.9671   ],\n",
       "       [ 2.9671   ,  1.8326   ,  2.9671   ,  1.5708   ,  2.9671   ,\n",
       "         1.9548   ,  2.9671   ,  2.9671   ,  1.8326   ,  2.9671   ,\n",
       "         1.5708   ,  2.9671   ,  1.9547999,  2.9671   ],\n",
       "       [ 2.8619504,  4.3085365,  3.4635532,  1.9386004,  3.6764345,\n",
       "         2.6547718,  4.8591447,  3.0722494, -0.6433364,  2.4706466,\n",
       "         1.2029995,  2.2577653,  1.2548282,  1.0750551]], dtype=float32)"
      ]
     },
     "execution_count": 1086,
     "metadata": {},
     "output_type": "execute_result"
    }
   ],
   "source": [
    "jnp.hstack([ub_viol, lb_viol])"
   ]
  },
  {
   "cell_type": "code",
   "execution_count": 1083,
   "metadata": {},
   "outputs": [
    {
     "ename": "NameError",
     "evalue": "name 'viols' is not defined",
     "output_type": "error",
     "traceback": [
      "\u001b[0;31m---------------------------------------------------------------------------\u001b[0m",
      "\u001b[0;31mNameError\u001b[0m                                 Traceback (most recent call last)",
      "Cell \u001b[0;32mIn[1083], line 1\u001b[0m\n\u001b[0;32m----> 1\u001b[0m viols\n",
      "\u001b[0;31mNameError\u001b[0m: name 'viols' is not defined"
     ]
    }
   ],
   "source": [
    "viols"
   ]
  },
  {
   "cell_type": "code",
   "execution_count": 1074,
   "metadata": {},
   "outputs": [
    {
     "data": {
      "text/plain": [
       "array([2.9671, 1.8326, 2.9671, 0.    , 2.9671, 3.8223, 2.9671])"
      ]
     },
     "execution_count": 1074,
     "metadata": {},
     "output_type": "execute_result"
    }
   ],
   "source": [
    "panda.ub"
   ]
  },
  {
   "cell_type": "code",
   "execution_count": 1079,
   "metadata": {},
   "outputs": [
    {
     "data": {
      "text/plain": [
       "Array([ 3.0722494, -0.6433364,  2.4706466,  1.2029995,  2.2577653,\n",
       "        1.2548282,  1.0750551], dtype=float32)"
      ]
     },
     "execution_count": 1079,
     "metadata": {},
     "output_type": "execute_result"
    }
   ],
   "source": [
    "to_mat(x)[-1] - panda.lb"
   ]
  },
  {
   "cell_type": "code",
   "execution_count": null,
   "metadata": {},
   "outputs": [],
   "source": []
  },
  {
   "cell_type": "code",
   "execution_count": 647,
   "metadata": {},
   "outputs": [
    {
     "data": {
      "text/plain": [
       "Array(nan, dtype=float32)"
      ]
     },
     "execution_count": 647,
     "metadata": {},
     "output_type": "execute_result"
    }
   ],
   "source": [
    "gain_factor"
   ]
  },
  {
   "cell_type": "code",
   "execution_count": 1917,
   "metadata": {},
   "outputs": [
    {
     "name": "stdout",
     "output_type": "stream",
     "text": [
      "2.97 ms ± 52.2 µs per loop (mean ± std. dev. of 7 runs, 100 loops each)\n"
     ]
    }
   ],
   "source": [
    "%timeit run(params_obj=(Q, c), params_eq=(A, b), params_ineq=(G, h))"
   ]
  },
  {
   "cell_type": "code",
   "execution_count": 572,
   "metadata": {},
   "outputs": [
    {
     "data": {
      "text/plain": [
       "Array(0.67475086, dtype=float32)"
      ]
     },
     "execution_count": 572,
     "metadata": {},
     "output_type": "execute_result"
    }
   ],
   "source": [
    "gain_factor"
   ]
  },
  {
   "cell_type": "code",
   "execution_count": 1902,
   "metadata": {},
   "outputs": [
    {
     "data": {
      "text/plain": [
       "Array([ 0.        ,  0.        ,  0.        ,  0.        ,  0.        ,\n",
       "        0.        ,  0.        ,  0.        ,  0.        ,  0.        ,\n",
       "        0.        ,  0.        ,  0.        ,  0.        ,  0.        ,\n",
       "        0.        ,  0.        ,  0.        ,  0.        ,  0.        ,\n",
       "        0.        ,  0.        ,  0.        ,  0.        ,  0.        ,\n",
       "        0.        ,  0.        ,  0.        ,  1.2239296 ,  2.429865  ,\n",
       "        1.2239296 , -2.3352067 , -0.47887915, -2.2273946 , -1.3044058 ],      dtype=float32)"
      ]
     },
     "execution_count": 1902,
     "metadata": {},
     "output_type": "execute_result"
    }
   ],
   "source": [
    "jac.T@error"
   ]
  },
  {
   "cell_type": "code",
   "execution_count": 557,
   "metadata": {},
   "outputs": [
    {
     "data": {
      "text/plain": [
       "Array(2.4639332e-05, dtype=float32)"
      ]
     },
     "execution_count": 557,
     "metadata": {},
     "output_type": "execute_result"
    }
   ],
   "source": [
    "error@error"
   ]
  },
  {
   "cell_type": "code",
   "execution_count": 1899,
   "metadata": {},
   "outputs": [
    {
     "data": {
      "text/plain": [
       "Array(6, dtype=int32)"
      ]
     },
     "execution_count": 1899,
     "metadata": {},
     "output_type": "execute_result"
    }
   ],
   "source": [
    "jnp.linalg.matrix_rank(jac.T@jac)"
   ]
  },
  {
   "cell_type": "code",
   "execution_count": 1900,
   "metadata": {},
   "outputs": [
    {
     "data": {
      "text/plain": [
       "Array([[0.        , 0.        , 0.        , ..., 0.        , 0.        ,\n",
       "        0.        ],\n",
       "       [0.        , 0.        , 0.        , ..., 0.        , 0.        ,\n",
       "        0.        ],\n",
       "       [0.        , 0.        , 0.        , ..., 0.        , 0.        ,\n",
       "        0.        ],\n",
       "       ...,\n",
       "       [0.        , 0.        , 0.        , ..., 1.242499  , 0.45108017,\n",
       "        0.5097498 ],\n",
       "       [0.        , 0.        , 0.        , ..., 0.45108017, 2.1660151 ,\n",
       "        0.06741326],\n",
       "       [0.        , 0.        , 0.        , ..., 0.5097498 , 0.06741326,\n",
       "        2.275847  ]], dtype=float32)"
      ]
     },
     "execution_count": 1900,
     "metadata": {},
     "output_type": "execute_result"
    }
   ],
   "source": [
    "jac.T@jac"
   ]
  },
  {
   "cell_type": "code",
   "execution_count": 1896,
   "metadata": {},
   "outputs": [
    {
     "data": {
      "text/plain": [
       "(Array([-4.4572613e-07,  0.0000000e+00,  0.0000000e+00,  0.0000000e+00,\n",
       "         0.0000000e+00,  0.0000000e+00,  0.0000000e+00,  0.0000000e+00,\n",
       "         0.0000000e+00,  0.0000000e+00,  0.0000000e+00,  0.0000000e+00,\n",
       "         0.0000000e+00,  0.0000000e+00,  0.0000000e+00,  0.0000000e+00,\n",
       "         0.0000000e+00,  0.0000000e+00,  0.0000000e+00,  0.0000000e+00,\n",
       "         0.0000000e+00,  0.0000000e+00,  0.0000000e+00,  0.0000000e+00,\n",
       "         0.0000000e+00,  0.0000000e+00,  0.0000000e+00,  0.0000000e+00,\n",
       "         0.0000000e+00,  2.2168718e-02,  1.5427074e-01,  1.8027227e-01,\n",
       "         1.2539967e+00,  7.0149894e+00,  7.3020172e+00], dtype=float32),\n",
       " Array([[ 0.0000000e+00,  1.0000000e+00,  0.0000000e+00, ...,\n",
       "          0.0000000e+00,  0.0000000e+00,  0.0000000e+00],\n",
       "        [ 0.0000000e+00,  0.0000000e+00,  1.0000000e+00, ...,\n",
       "          0.0000000e+00,  0.0000000e+00,  0.0000000e+00],\n",
       "        [ 0.0000000e+00,  0.0000000e+00,  0.0000000e+00, ...,\n",
       "          0.0000000e+00,  0.0000000e+00,  0.0000000e+00],\n",
       "        ...,\n",
       "        [-1.3057739e-07,  0.0000000e+00,  0.0000000e+00, ...,\n",
       "          9.2398298e-01,  1.4171694e-01, -4.0197980e-02],\n",
       "        [ 3.2677752e-07,  0.0000000e+00,  0.0000000e+00, ...,\n",
       "         -5.3707253e-02,  5.3770620e-01,  6.3105255e-02],\n",
       "        [ 3.5339474e-07,  0.0000000e+00,  0.0000000e+00, ...,\n",
       "          2.6858053e-01,  8.7777898e-02, -5.2751321e-01]], dtype=float32))"
      ]
     },
     "execution_count": 1896,
     "metadata": {},
     "output_type": "execute_result"
    }
   ],
   "source": [
    "jnp.linalg.eigh(jac.T@jac)"
   ]
  },
  {
   "cell_type": "code",
   "execution_count": 290,
   "metadata": {},
   "outputs": [
    {
     "data": {
      "text/plain": [
       "Array([ 0.00000000e+00, -7.02036743e-07, -8.96019571e-07,  3.66521391e-08,\n",
       "       -2.18523169e-07,  1.08757284e-07,  0.00000000e+00,  0.00000000e+00,\n",
       "        0.00000000e+00,  0.00000000e+00,  0.00000000e+00,  0.00000000e+00,\n",
       "        0.00000000e+00,  0.00000000e+00,  0.00000000e+00,  0.00000000e+00,\n",
       "        0.00000000e+00,  0.00000000e+00,  0.00000000e+00,  0.00000000e+00,\n",
       "        0.00000000e+00,  0.00000000e+00,  0.00000000e+00,  0.00000000e+00,\n",
       "        0.00000000e+00,  0.00000000e+00,  0.00000000e+00,  0.00000000e+00,\n",
       "       -5.76895475e-01,  1.64767504e+00, -5.76895475e-01,  2.45629406e+00,\n",
       "        1.89921856e+00, -2.24523520e+00, -1.13092446e+00], dtype=float32)"
      ]
     },
     "execution_count": 290,
     "metadata": {},
     "output_type": "execute_result"
    }
   ],
   "source": [
    "sdir = jnp.eye(35)"
   ]
  }
 ],
 "metadata": {
  "kernelspec": {
   "display_name": "cu11",
   "language": "python",
   "name": "python3"
  },
  "language_info": {
   "codemirror_mode": {
    "name": "ipython",
    "version": 3
   },
   "file_extension": ".py",
   "mimetype": "text/x-python",
   "name": "python",
   "nbconvert_exporter": "python",
   "pygments_lexer": "ipython3",
   "version": "3.8.16"
  },
  "orig_nbformat": 4
 },
 "nbformat": 4,
 "nbformat_minor": 2
}
