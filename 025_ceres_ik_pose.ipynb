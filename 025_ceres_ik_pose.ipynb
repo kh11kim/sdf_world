{
 "cells": [
  {
   "cell_type": "code",
   "execution_count": 1,
   "metadata": {},
   "outputs": [],
   "source": [
    "import numpy as np\n",
    "import jax\n",
    "import jax.numpy as jnp\n",
    "from jaxlie import SE3, SO3\n",
    "import jax_dataclasses as jdc\n",
    "from functools import partial\n",
    "import PyCeres\n",
    "\n",
    "from sdf_world.sdf_world import *\n",
    "from sdf_world.robots import *\n",
    "from sdf_world.util import *"
   ]
  },
  {
   "cell_type": "code",
   "execution_count": 2,
   "metadata": {},
   "outputs": [
    {
     "name": "stdout",
     "output_type": "stream",
     "text": [
      "You can open the visualizer by visiting the following URL:\n",
      "http://127.0.0.1:7001/static/\n"
     ]
    }
   ],
   "source": [
    "world = SDFWorld()\n",
    "panda_model = RobotModel(PANDA_URDF, PANDA_PACKAGE)\n",
    "panda = Robot(world.vis, \"panda\", panda_model, alpha=0.5)\n",
    "panda.reduce_dim([7, 8], [0.04, 0.04])"
   ]
  },
  {
   "cell_type": "code",
   "execution_count": 3,
   "metadata": {},
   "outputs": [],
   "source": [
    "#utility\n",
    "def to_posevec(pose:SE3):\n",
    "    return jnp.hstack([pose.translation(), pose.rotation().log()])\n",
    "\n",
    "def make_pose():\n",
    "    return SE3.from_rotation_and_translation(\n",
    "        SO3(np.random.random(4)).normalize(),\n",
    "        np.random.uniform([-0.3,-0.5,0.3],[0.6, 0.5, 0.8])\n",
    "    )\n",
    "\n",
    "# Kinematics\n",
    "def get_rotvec_angvel_map(v):\n",
    "    def skew(v):\n",
    "        v1, v2, v3 = v\n",
    "        return jnp.array([[0, -v3, v2],\n",
    "                        [v3, 0., -v1],\n",
    "                        [-v2, v1, 0.]])\n",
    "    vmag = jnp.linalg.norm(v)\n",
    "    vskew = skew(v)\n",
    "    return jnp.eye(3) \\\n",
    "        - 1/2*skew(v) \\\n",
    "        + vskew@vskew * 1/vmag**2 * (1-vmag/2 * jnp.sin(vmag)/(1-jnp.cos(vmag)))\n",
    "\n",
    "@jax.jit\n",
    "def get_ee_fk_jac(q):\n",
    "    # outputs ee_posevec and analytical jacobian\n",
    "    fks = panda_model.fk_fn(q)\n",
    "    p_ee = fks[-1][-3:]\n",
    "    rotvec_ee = SO3(fks[-1][:4]).log()\n",
    "    E = get_rotvec_angvel_map(rotvec_ee)\n",
    "    jac = []\n",
    "    for posevec in fks[1:8]:\n",
    "        p_frame = posevec[-3:]\n",
    "        rot_axis = SE3(posevec).as_matrix()[:3, 2]\n",
    "        lin_vel = jnp.cross(rot_axis, p_ee - p_frame)\n",
    "        jac.append(jnp.hstack([lin_vel, rot_axis]))\n",
    "    jac = jnp.array(jac).T\n",
    "    jac = jac.at[3:, :].set(E @ jac[3:, :])\n",
    "    return jnp.hstack([p_ee, rotvec_ee]), jac\n",
    "\n"
   ]
  },
  {
   "cell_type": "code",
   "execution_count": 4,
   "metadata": {},
   "outputs": [],
   "source": [
    "frame = Frame(world.vis, \"frame\")\n",
    "frame_d = Frame(world.vis, \"frame_d\")"
   ]
  },
  {
   "cell_type": "code",
   "execution_count": 6,
   "metadata": {},
   "outputs": [],
   "source": [
    "def make_pose():\n",
    "    return SE3.from_rotation_and_translation(\n",
    "        SO3(np.random.random(4)).normalize(),\n",
    "        np.random.uniform([-0.3,-0.5,0.3],[0.6, 0.5, 0.8])\n",
    "    )\n",
    "def to_posevec(pose:SE3):\n",
    "    return jnp.hstack([pose.translation(), pose.rotation().log()])\n",
    "def to_SE3(posevec:Array):\n",
    "    rot = SO3.exp(posevec[3:])\n",
    "    return SE3.from_rotation_and_translation(rot, posevec[:3])"
   ]
  },
  {
   "cell_type": "code",
   "execution_count": 87,
   "metadata": {},
   "outputs": [],
   "source": [
    "import time\n",
    "class PoseError(PyCeres.CostFunction):\n",
    "    def __init__(self):\n",
    "        super().__init__()\n",
    "        self.set_num_residuals(6)\n",
    "        self.set_parameter_block_sizes([6])\n",
    "        self.goal = None\n",
    "        self.weight_mat = None\n",
    "\n",
    "    def set_goal(self, posevec):\n",
    "        self.goal = posevec\n",
    "    \n",
    "    def set_weight(self, weight):\n",
    "        self.weight_mat = np.diag(np.sqrt(weight))\n",
    "\n",
    "    def Evaluate(self, parameters, residuals, jacobians):\n",
    "        posevec = parameters[0] #vector\n",
    "        residuals[:] = self.weight_mat @ (self.goal - posevec)\n",
    "        if (jacobians != None):\n",
    "            jac = - np.eye(6)\n",
    "            jacobians[0][:] = (self.weight_mat @ jac).flatten()\n",
    "        return True\n",
    "\n",
    "class KinError(PyCeres.CostFunction):\n",
    "    def __init__(self):\n",
    "        super().__init__()\n",
    "        self.set_num_residuals(6)\n",
    "        self.set_parameter_block_sizes([6, 7])\n",
    "        self.weight_mat = None\n",
    "    \n",
    "    def set_weight(self, weight):\n",
    "        self.weight_mat = np.diag(np.sqrt(weight))\n",
    "\n",
    "    def Evaluate(self, parameters, residuals, jacobians):\n",
    "        posevec, q  = parameters[0], parameters[1] #vector\n",
    "        ee, jac_q = get_ee_fk_jac(q)\n",
    "        residuals[:] = self.weight_mat @ (posevec - ee)\n",
    "        if (jacobians != None):\n",
    "            jacobians[0][:] = (self.weight_mat @ np.eye(6)).flatten()\n",
    "            jacobians[1][:] = - (self.weight_mat @ jac_q).flatten()\n",
    "        \n",
    "        frame.set_pose(to_SE3(posevec))\n",
    "        panda.set_joint_angles(q)\n",
    "        time.sleep(0.1)\n",
    "        return True\n",
    "\n",
    "joint_lim_viol = lambda q: jnp.clip(q - panda.ub, a_min=0.).sum()\n",
    "grad_joint_lim_viol = jax.grad(joint_lim_viol)\n",
    "class JointViolation(PyCeres.CostFunction):\n",
    "    def __init__(self):\n",
    "        super().__init__()\n",
    "        self.set_num_residuals(1)\n",
    "        self.set_parameter_block_sizes([7])\n",
    "    \n",
    "    def Evaluate(self, parameters, residuals, jacobians):\n",
    "        q = parameters[0]\n",
    "        residuals[0] = joint_lim_viol(q)\n",
    "        if (jacobians != None):\n",
    "            jacobians[0][:] = grad_joint_lim_viol(q)\n",
    "        return True"
   ]
  },
  {
   "cell_type": "code",
   "execution_count": 60,
   "metadata": {},
   "outputs": [],
   "source": [
    "pose_d = make_pose()\n",
    "frame_d.set_pose(pose_d)\n",
    "posevec_d = to_posevec(pose_d)"
   ]
  },
  {
   "cell_type": "code",
   "execution_count": 69,
   "metadata": {},
   "outputs": [],
   "source": [
    "pose_weight = np.array([1, 1, 1, 0.3, 0.3, 0.3])\n",
    "#q_weight = np.ones(7)"
   ]
  },
  {
   "cell_type": "code",
   "execution_count": 88,
   "metadata": {},
   "outputs": [],
   "source": [
    "feature_pose = PoseError()\n",
    "feature_pose.set_goal(posevec_d)\n",
    "feature_pose.set_weight(pose_weight)\n",
    "feature_kin = KinError()\n",
    "feature_kin.set_weight(pose_weight/10)\n",
    "feature_joint_viol = JointViolation()"
   ]
  },
  {
   "cell_type": "code",
   "execution_count": 1,
   "metadata": {},
   "outputs": [
    {
     "ename": "NameError",
     "evalue": "name 'np' is not defined",
     "output_type": "error",
     "traceback": [
      "\u001b[0;31m---------------------------------------------------------------------------\u001b[0m",
      "\u001b[0;31mNameError\u001b[0m                                 Traceback (most recent call last)",
      "Cell \u001b[0;32mIn[1], line 1\u001b[0m\n\u001b[0;32m----> 1\u001b[0m p \u001b[39m=\u001b[39m np\u001b[39m.\u001b[39mzeros(\u001b[39m6\u001b[39m)\n\u001b[1;32m      2\u001b[0m q \u001b[39m=\u001b[39m panda\u001b[39m.\u001b[39mneutral\u001b[39m.\u001b[39mcopy()\n\u001b[1;32m      3\u001b[0m frame\u001b[39m.\u001b[39mset_pose(to_SE3(p))\n",
      "\u001b[0;31mNameError\u001b[0m: name 'np' is not defined"
     ]
    }
   ],
   "source": [
    "p = np.zeros(6)\n",
    "q = panda.neutral.copy()\n",
    "frame.set_pose(to_SE3(p))\n",
    "panda.set_joint_angles(q)\n",
    "\n",
    "problem = PyCeres.Problem()\n",
    "problem.AddResidualBlock(feature_pose, None, p)\n",
    "problem.AddResidualBlock(feature_kin, None, p, q)\n",
    "#problem.AddResidualBlock(feature_joint_viol, None, q)\n",
    "options = PyCeres.SolverOptions()\n",
    "options.linear_solver_type = PyCeres.LinearSolverType.DENSE_QR\n",
    "options.parameter_tolerance = 1e-4\n",
    "options.minimizer_progress_to_stdout = True\n",
    "summary = PyCeres.Summary()"
   ]
  },
  {
   "cell_type": "code",
   "execution_count": 101,
   "metadata": {},
   "outputs": [
    {
     "name": "stdout",
     "output_type": "stream",
     "text": [
      "iter      cost      cost_change  |gradient|   |step|    tr_ratio  tr_radius  ls_iter  iter_time  total_time\n",
      "   0  1.048614e+00    0.00e+00    7.99e-01   0.00e+00   0.00e+00  1.00e+04        0    1.11e-01    1.11e-01\n",
      "   1  3.391999e-02    1.01e+00    6.16e-02   4.61e+00   9.68e-01  3.00e+04        1    2.15e-01    3.26e-01\n",
      "   2  2.451733e-01   -2.11e-01    6.16e-02   9.16e+00  -6.23e+00  1.50e+04        1    1.14e-01    4.40e-01\n",
      "   3  2.568029e-01   -2.23e-01    6.16e-02   8.76e+00  -6.57e+00  3.75e+03        1    1.05e-01    5.45e-01\n",
      "   4  1.232645e-01   -8.93e-02    6.16e-02   7.02e+00  -2.64e+00  4.69e+02        1    1.14e-01    6.59e-01\n",
      "   5  7.157870e-02   -3.77e-02    6.16e-02   3.23e+00  -1.13e+00  2.93e+01        1    1.08e-01    7.67e-01\n",
      "   6  1.579268e-02    1.81e-02    2.56e-02   1.53e+00   5.69e-01  2.94e+01        1    2.15e-01    9.83e-01\n",
      "   7  1.285793e-02    2.93e-03    3.28e-02   1.33e+00   1.90e-01  2.37e+01        1    2.36e-01    1.22e+00\n",
      "   8  1.173596e-03    1.17e-02    9.28e-03   6.15e-01   9.20e-01  5.84e+01        1    2.13e-01    1.43e+00\n",
      "   9  1.460041e-04    1.03e-03    2.12e-03   4.90e-01   9.18e-01  1.40e+02        1    2.21e-01    1.65e+00\n",
      "  10  3.214562e-05    1.14e-04    1.23e-03   3.66e-01   8.49e-01  2.13e+02        1    2.28e-01    1.88e+00\n",
      "  11  8.815297e-07    3.13e-05    1.09e-04   1.25e-01   9.90e-01  6.38e+02        1    2.36e-01    2.12e+00\n"
     ]
    }
   ],
   "source": [
    "PyCeres.Solve(options, problem, summary)"
   ]
  },
  {
   "cell_type": "code",
   "execution_count": 102,
   "metadata": {},
   "outputs": [
    {
     "data": {
      "text/plain": [
       "Array(0.06372829, dtype=float32)"
      ]
     },
     "execution_count": 102,
     "metadata": {},
     "output_type": "execute_result"
    },
    {
     "ename": "",
     "evalue": "",
     "output_type": "error",
     "traceback": [
      "\u001b[1;31mThe Kernel crashed while executing code in the the current cell or a previous cell. Please review the code in the cell(s) to identify a possible cause of the failure. Click <a href='https://aka.ms/vscodeJupyterKernelCrash'>here</a> for more info. View Jupyter <a href='command:jupyter.viewOutput'>log</a> for further details."
     ]
    }
   ],
   "source": [
    "joint_lim_viol(q)"
   ]
  },
  {
   "cell_type": "code",
   "execution_count": 95,
   "metadata": {},
   "outputs": [
    {
     "data": {
      "text/plain": [
       "array([ True,  True,  True,  True,  True, False,  True])"
      ]
     },
     "execution_count": 95,
     "metadata": {},
     "output_type": "execute_result"
    }
   ],
   "source": [
    "q < panda.ub"
   ]
  },
  {
   "cell_type": "code",
   "execution_count": 35,
   "metadata": {},
   "outputs": [
    {
     "name": "stdout",
     "output_type": "stream",
     "text": [
      "Ceres Solver Report: Iterations: 2, Initial cost: 7.244982e-01, Final cost: 7.239250e-09, Termination: CONVERGENCE\n"
     ]
    }
   ],
   "source": [
    "print(summary.BriefReport())"
   ]
  }
 ],
 "metadata": {
  "kernelspec": {
   "display_name": "cu11",
   "language": "python",
   "name": "python3"
  },
  "language_info": {
   "codemirror_mode": {
    "name": "ipython",
    "version": 3
   },
   "file_extension": ".py",
   "mimetype": "text/x-python",
   "name": "python",
   "nbconvert_exporter": "python",
   "pygments_lexer": "ipython3",
   "version": "3.8.16"
  },
  "orig_nbformat": 4
 },
 "nbformat": 4,
 "nbformat_minor": 2
}
