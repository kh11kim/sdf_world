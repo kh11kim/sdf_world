{
 "cells": [
  {
   "cell_type": "code",
   "execution_count": 1,
   "metadata": {},
   "outputs": [],
   "source": [
    "import numpy as np\n",
    "import jax\n",
    "import jax.numpy as jnp\n",
    "from jaxlie import SE3, SO3\n",
    "import jax_dataclasses as jdc\n",
    "from functools import partial\n",
    "\n",
    "from sdf_world.sdf_world import *\n",
    "from sdf_world.robots import *\n",
    "from sdf_world.util import *\n",
    "from sdf_world.network import *\n",
    "\n",
    "from flax import linen as nn\n",
    "from flax.training import orbax_utils\n",
    "import orbax\n",
    "import pickle\n",
    "import time"
   ]
  },
  {
   "attachments": {},
   "cell_type": "markdown",
   "metadata": {},
   "source": [
    "### Load models"
   ]
  },
  {
   "cell_type": "code",
   "execution_count": 2,
   "metadata": {},
   "outputs": [],
   "source": [
    "orbax_checkpointer = orbax.checkpoint.PyTreeCheckpointer()\n",
    "restored_grasp = orbax_checkpointer.restore(\"model/grasp_net_prob_dist\")\n",
    "restored_manip = orbax_checkpointer.restore(\"model/manip_net_posevec\")\n",
    "\n",
    "#grasp net\n",
    "grasp_net = GraspNet(32)\n",
    "grasp_fn = lambda x: grasp_net.apply(restored_grasp[\"params\"], x)\n",
    "def grasp_reconst(g:Array, obj_pose:SE3):\n",
    "    rot = SO3(grasp_fn(g)[2:]).normalize()\n",
    "    trans = g/restored_grasp[\"scale_to_norm\"]\n",
    "    return obj_pose @ SE3.from_rotation_and_translation(rot, trans)\n",
    "grasp_logit_fn = lambda g: grasp_fn(g)[0]\n",
    "grasp_dist_fn = lambda g: grasp_fn(g)[1]\n",
    "#manip net\n",
    "manip_net = ManipNet(64)\n",
    "manip_fn = lambda x: manip_net.apply(restored_manip[\"params\"], x)[0]"
   ]
  },
  {
   "attachments": {},
   "cell_type": "markdown",
   "metadata": {},
   "source": [
    "### Load world"
   ]
  },
  {
   "cell_type": "code",
   "execution_count": 3,
   "metadata": {},
   "outputs": [
    {
     "name": "stdout",
     "output_type": "stream",
     "text": [
      "You can open the visualizer by visiting the following URL:\n",
      "http://127.0.0.1:7009/static/\n"
     ]
    },
    {
     "name": "stderr",
     "output_type": "stream",
     "text": [
      "WARNING:trimesh:concatenating texture: may result in visual artifacts\n",
      "WARNING:trimesh:concatenating texture: may result in visual artifacts\n",
      "WARNING:trimesh:concatenating texture: may result in visual artifacts\n",
      "WARNING:trimesh:concatenating texture: may result in visual artifacts\n",
      "WARNING:trimesh:concatenating texture: may result in visual artifacts\n",
      "WARNING:trimesh:concatenating texture: may result in visual artifacts\n",
      "WARNING:trimesh:concatenating texture: may result in visual artifacts\n",
      "WARNING:trimesh:concatenating texture: may result in visual artifacts\n"
     ]
    }
   ],
   "source": [
    "world = SDFWorld()\n",
    "panda_model = RobotModel(PANDA_URDF, PANDA_PACKAGE)\n",
    "panda = Robot(world.vis, \"panda\", panda_model, alpha=0.5)\n",
    "panda.reduce_dim([7, 8], [0.04, 0.04])"
   ]
  },
  {
   "cell_type": "code",
   "execution_count": 4,
   "metadata": {},
   "outputs": [
    {
     "data": {
      "text/html": [
       "\n",
       "            <div style=\"height: 400px; width: 100%; overflow-x: auto; overflow-y: hidden; resize: both\">\n",
       "            <iframe src=\"http://127.0.0.1:7009/static/\" style=\"width: 100%; height: 100%; border: none\"></iframe>\n",
       "            </div>\n",
       "            "
      ],
      "text/plain": [
       "<IPython.core.display.HTML object>"
      ]
     },
     "execution_count": 4,
     "metadata": {},
     "output_type": "execute_result"
    }
   ],
   "source": [
    "world.show_in_jupyter()"
   ]
  },
  {
   "cell_type": "code",
   "execution_count": 5,
   "metadata": {},
   "outputs": [],
   "source": [
    "frame = Frame(world.vis, \"frame\")"
   ]
  },
  {
   "cell_type": "code",
   "execution_count": 6,
   "metadata": {},
   "outputs": [],
   "source": [
    "table_lengths = [0.4, 0.4, 0.2]\n",
    "table_start = Box(world.vis, \"table_start\", table_lengths, 'white', 0.5)\n",
    "table_goal = Box(world.vis, \"table_goal\", table_lengths, 'white', 0.5)\n",
    "obj_start = Mesh(world.vis, \"obj_start\", \n",
    "                 \"./sdf_world/assets/object/mesh.obj\",\n",
    "                 color=\"blue\",\n",
    "                 alpha=0.5)\n",
    "obj_goal = Mesh(world.vis, \"obj_goal\", \n",
    "                \"./sdf_world/assets/object/mesh.obj\",\n",
    "                color=\"green\",\n",
    "                 alpha=0.5)"
   ]
  },
  {
   "cell_type": "code",
   "execution_count": 7,
   "metadata": {},
   "outputs": [],
   "source": [
    "table_start.set_translate([0.5, -0.3, 0.2/2])\n",
    "table_goal.set_translate([0.5, 0.3, 0.2/2])\n",
    "obj_lengths = obj_start.mesh.bounding_box.primitive.extents\n",
    "obj_start.set_translate([0.5, -0.3, obj_lengths[-1]/2+table_lengths[-1]])\n",
    "trans_goal = jnp.array([0.5, 0.3, obj_lengths[-2]/2+table_lengths[-1]])\n",
    "obj_goal_pose = SE3.from_rotation_and_translation(\n",
    "    SO3.from_rpy_radians(jnp.pi/2, 0,0), trans_goal\n",
    ")\n",
    "obj_goal.set_pose(obj_goal_pose)"
   ]
  },
  {
   "cell_type": "code",
   "execution_count": 8,
   "metadata": {},
   "outputs": [
    {
     "name": "stderr",
     "output_type": "stream",
     "text": [
      "WARNING:trimesh:concatenating texture: may result in visual artifacts\n",
      "WARNING:trimesh:concatenating texture: may result in visual artifacts\n",
      "WARNING:trimesh:concatenating texture: may result in visual artifacts\n"
     ]
    }
   ],
   "source": [
    "hand_model = RobotModel(HAND_URDF, PANDA_PACKAGE, True)\n",
    "for link_name, link in hand_model.links.items():\n",
    "    link.set_surface_points(10)\n",
    "hand1 = Robot(world.vis, \"hand1\", hand_model, color=\"yellow\", alpha=0.5)"
   ]
  },
  {
   "cell_type": "code",
   "execution_count": 70,
   "metadata": {},
   "outputs": [],
   "source": [
    "hand_pc = hand1.get_surface_points_fn(jnp.array([0.04, 0.04]))\n",
    "hand_pose_wrt_ee = SE3.from_translation(jnp.array([0,0,-0.105]))\n",
    "env = SDFContainer([table_start, table_goal], 0.05)\n",
    "# x -> grasps\n",
    "@jax.jit\n",
    "def get_hand_points(x, obj_pose1, obj_pose2):\n",
    "    result = []\n",
    "    for pose in [obj_pose1, obj_pose2]:\n",
    "        grasp_pose = grasp_reconst(x, pose)\n",
    "        hand_base_pose_wrt_world = grasp_pose @ hand_pose_wrt_ee\n",
    "        assigned_hand_pc = jax.vmap(hand_base_pose_wrt_world.apply)(hand_pc)\n",
    "        result.append(assigned_hand_pc)\n",
    "    return jnp.vstack(result)\n",
    "\n",
    "@jax.jit\n",
    "def distance_constr(x):\n",
    "    hand_pcs = get_hand_points(x, obj_start.pose, obj_goal.pose)\n",
    "    distances = env.distances(hand_pcs)\n",
    "    top4_indices = jnp.argpartition(distances, 4)[:4]\n",
    "    return distances[top4_indices]"
   ]
  },
  {
   "cell_type": "code",
   "execution_count": 17,
   "metadata": {},
   "outputs": [
    {
     "data": {
      "text/plain": [
       "Array([0.04241648, 0.05189609, 0.05315753, 0.0552799 ], dtype=float32)"
      ]
     },
     "execution_count": 17,
     "metadata": {},
     "output_type": "execute_result"
    }
   ],
   "source": [
    "distance_constr(jnp.zeros(3))"
   ]
  },
  {
   "cell_type": "code",
   "execution_count": null,
   "metadata": {},
   "outputs": [],
   "source": [
    "pc = PointCloud(world.vis, \"hand_pc\", hand_pcs, color=\"red\")"
   ]
  },
  {
   "cell_type": "code",
   "execution_count": 21,
   "metadata": {},
   "outputs": [],
   "source": [
    "x = jnp.array([0,0,-0.5])\n",
    "hand_pcs = get_hand_points(x, obj_start.pose, obj_goal.pose)"
   ]
  },
  {
   "cell_type": "code",
   "execution_count": 22,
   "metadata": {},
   "outputs": [],
   "source": [
    "pc.reload(points=hand_pcs)"
   ]
  },
  {
   "cell_type": "code",
   "execution_count": 28,
   "metadata": {},
   "outputs": [
    {
     "data": {
      "text/plain": [
       "Array([[ 3.5256162e-02,  2.1736976e-02, -2.5891137e-01],\n",
       "       [ 1.7272830e-01, -5.9932470e-04, -1.8686862e-01],\n",
       "       [-3.7253952e-01, -2.3437455e-02,  8.9211464e-01],\n",
       "       [-2.0955594e-01, -4.9258277e-02,  6.5949869e-01]], dtype=float32)"
      ]
     },
     "execution_count": 28,
     "metadata": {},
     "output_type": "execute_result"
    }
   ],
   "source": [
    "jax.jacrev(distance_constr)(x)"
   ]
  },
  {
   "cell_type": "code",
   "execution_count": 29,
   "metadata": {},
   "outputs": [],
   "source": [
    "to_posevec = lambda x: jnp.hstack([x[4:], SO3(x[:4]).log()])\n",
    "to_wxyzxyz = lambda x: jnp.hstack([SO3.exp(x[3:]).parameters(), x[:3]])"
   ]
  },
  {
   "cell_type": "code",
   "execution_count": 30,
   "metadata": {},
   "outputs": [],
   "source": [
    "frame.set_pose(grasp_reconst(x, obj_start.pose))"
   ]
  },
  {
   "cell_type": "code",
   "execution_count": 65,
   "metadata": {},
   "outputs": [],
   "source": [
    "def grasp_to_manip(x, obj_pose):\n",
    "    posevec = to_posevec(grasp_reconst(x, obj_pose).parameters())\n",
    "    \n",
    "    zflip = (SO3.exp(posevec[3:]) @ SO3.from_z_radians(jnp.pi)).log()\n",
    "    posevec_flip = jnp.hstack([posevec[:3], zflip])\n",
    "    return jnp.maximum(manip_fn(posevec), manip_fn(posevec_flip))"
   ]
  },
  {
   "cell_type": "code",
   "execution_count": 40,
   "metadata": {},
   "outputs": [],
   "source": [
    "x = jnp.zeros(3)"
   ]
  },
  {
   "cell_type": "code",
   "execution_count": 74,
   "metadata": {},
   "outputs": [],
   "source": [
    "import time\n",
    "# x-> manip\n",
    "def objective(x):\n",
    "    frame.set_pose(grasp_reconst(x, obj_start.pose))\n",
    "    hand_pcs = get_hand_points(x, obj_start.pose, obj_goal.pose)\n",
    "    pc.reload(points=hand_pcs)\n",
    "    time.sleep(0.05)\n",
    "    return 0.\n",
    "\n",
    "def constraints(x):\n",
    "    logit = grasp_logit_fn(x)\n",
    "    manip = grasp_to_manip(x, obj_start.pose)\n",
    "    dists = distance_constr(x)\n",
    "    return jnp.hstack([logit, manip, dists])\n",
    "\n",
    "def jacobian(x):\n",
    "    jac_logit = jax.grad(grasp_logit_fn)(x)\n",
    "    jac_manip = jax.grad(grasp_to_manip)(x, obj_start.pose)\n",
    "    jac_dists = jax.jacrev(distance_constr)(x)\n",
    "    return jnp.vstack([jac_logit, jac_manip, jac_dists])"
   ]
  },
  {
   "cell_type": "code",
   "execution_count": 75,
   "metadata": {},
   "outputs": [],
   "source": [
    "import cyipopt"
   ]
  },
  {
   "attachments": {},
   "cell_type": "markdown",
   "metadata": {},
   "source": [
    "### First problem"
   ]
  },
  {
   "cell_type": "code",
   "execution_count": 81,
   "metadata": {},
   "outputs": [
    {
     "name": "stdout",
     "output_type": "stream",
     "text": [
      "This is Ipopt version 3.14.10, running with linear solver MUMPS 5.2.1.\n",
      "\n",
      "Number of nonzeros in equality constraint Jacobian...:        0\n",
      "Number of nonzeros in inequality constraint Jacobian.:       18\n",
      "Number of nonzeros in Lagrangian Hessian.............:        0\n",
      "\n",
      "Total number of variables............................:        3\n",
      "                     variables with only lower bounds:        0\n",
      "                variables with lower and upper bounds:        3\n",
      "                     variables with only upper bounds:        0\n",
      "Total number of equality constraints.................:        0\n",
      "Total number of inequality constraints...............:        6\n",
      "        inequality constraints with only lower bounds:        6\n",
      "   inequality constraints with lower and upper bounds:        0\n",
      "        inequality constraints with only upper bounds:        0\n",
      "\n",
      "iter    objective    inf_pr   inf_du lg(mu)  ||d||  lg(rg) alpha_du alpha_pr  ls\n",
      "   0  0.0000000e+00 2.85e+01 9.69e-01   0.0 0.00e+00    -  0.00e+00 0.00e+00   0\n",
      "   1  0.0000000e+00 3.66e+01 1.38e+01  -0.3 1.69e+00    -  5.59e-02 2.93e-01f  1\n",
      "   2  0.0000000e+00 2.87e+01 5.14e+01  -0.4 1.09e+00    -  4.15e-01 6.78e-01f  1\n",
      "   3  0.0000000e+00 2.51e+01 8.83e+01  -0.4 5.94e-01    -  4.70e-01 1.00e+00f  1\n",
      "   4  0.0000000e+00 5.88e+01 7.39e+01   0.6 1.01e+01    -  1.00e+00 1.00e+00f  1\n",
      "   5  0.0000000e+00 0.00e+00 6.75e+01   0.4 9.13e+00    -  1.00e+00 5.00e-01h  2\n",
      "   6  0.0000000e+00 2.63e+00 2.57e+01   0.4 1.00e+01    -  1.00e+00 1.00e+00f  1\n",
      "   7  0.0000000e+00 0.00e+00 1.09e+01  -0.5 3.61e+00    -  9.94e-01 1.00e+00h  1\n",
      "   8  0.0000000e+00 0.00e+00 1.00e+00  -1.6 1.34e+00    -  9.99e-01 1.00e+00h  1\n",
      "   9  0.0000000e+00 0.00e+00 6.01e-03  -3.0 6.34e-04    -  9.99e-01 1.00e+00h  1\n",
      "iter    objective    inf_pr   inf_du lg(mu)  ||d||  lg(rg) alpha_du alpha_pr  ls\n",
      "  10  0.0000000e+00 0.00e+00 4.85e-05  -5.1 4.05e-06    -  1.00e+00 1.00e+00h  1\n",
      "\n",
      "Number of Iterations....: 10\n",
      "\n",
      "                                   (scaled)                 (unscaled)\n",
      "Objective...............:   0.0000000000000000e+00    0.0000000000000000e+00\n",
      "Dual infeasibility......:   4.8460585306475867e-05    4.8460585306475867e-05\n",
      "Constraint violation....:   0.0000000000000000e+00    0.0000000000000000e+00\n",
      "Variable bound violation:   0.0000000000000000e+00    0.0000000000000000e+00\n",
      "Complementarity.........:   8.8979456860040961e-06    8.8979456860040961e-06\n",
      "Overall NLP error.......:   4.8460585306475867e-05    4.8460585306475867e-05\n",
      "\n",
      "\n",
      "Number of objective function evaluations             = 13\n",
      "Number of objective gradient evaluations             = 11\n",
      "Number of equality constraint evaluations            = 0\n",
      "Number of inequality constraint evaluations          = 13\n",
      "Number of equality constraint Jacobian evaluations   = 0\n",
      "Number of inequality constraint Jacobian evaluations = 11\n",
      "Number of Lagrangian Hessian evaluations             = 0\n",
      "Total seconds in IPOPT                               = 6.020\n",
      "\n",
      "EXIT: Solved To Acceptable Level.\n"
     ]
    }
   ],
   "source": [
    "class Prob:\n",
    "    pass\n",
    "prob = Prob()\n",
    "lb = -np.ones(3)\n",
    "ub = np.ones(3)\n",
    "setattr(prob, \"objective\", objective)\n",
    "setattr(prob, \"gradient\", lambda x: np.zeros(3))\n",
    "setattr(prob, \"constraints\", constraints)\n",
    "setattr(prob, \"jacobian\", jacobian)\n",
    "ipopt = cyipopt.Problem(\n",
    "    n=3, m=6,\n",
    "    problem_obj = prob,\n",
    "    lb=lb, ub=ub,\n",
    "    cl=[1., 0.5, 0.05, 0.05, 0.05, 0.05], \n",
    "    cu=[np.inf, np.inf, np.inf, np.inf, np.inf, np.inf]\n",
    ")\n",
    "ipopt.add_option(\"acceptable_iter\", 2)\n",
    "ipopt.add_option(\"acceptable_tol\", 1.) #release\n",
    "ipopt.add_option(\"acceptable_obj_change_tol\", 0.001)\n",
    "ipopt.add_option(\"acceptable_dual_inf_tol\", 1.) \n",
    "ipopt.add_option('mu_strategy', 'adaptive')\n",
    "xsol, info = ipopt.solve(jnp.array([0., -0.5, 0.5]))"
   ]
  },
  {
   "cell_type": "markdown",
   "metadata": {},
   "source": [
    "### Second prob"
   ]
  },
  {
   "cell_type": "code",
   "execution_count": 92,
   "metadata": {},
   "outputs": [],
   "source": [
    "# Kinematics\n",
    "def get_rotvec_angvel_map(v):\n",
    "    def skew(v):\n",
    "        v1, v2, v3 = v\n",
    "        return jnp.array([[0, -v3, v2],\n",
    "                        [v3, 0., -v1],\n",
    "                        [-v2, v1, 0.]])\n",
    "    vmag = jnp.linalg.norm(v)\n",
    "    vskew = skew(v)\n",
    "    return jnp.eye(3) \\\n",
    "        - 1/2*skew(v) \\\n",
    "        + vskew@vskew * 1/vmag**2 * (1-vmag/2 * jnp.sin(vmag)/(1-jnp.cos(vmag)))\n",
    "\n",
    "@jax.jit\n",
    "def get_ee_fk_jac(q):\n",
    "    # outputs ee_posevec and analytical jacobian\n",
    "    fks = panda_model.fk_fn(q)\n",
    "    p_ee = fks[-1][-3:]\n",
    "    rotvec_ee = SO3(fks[-1][:4]).log()\n",
    "    E = get_rotvec_angvel_map(rotvec_ee)\n",
    "    jac = []\n",
    "    for posevec in fks[1:8]:\n",
    "        p_frame = posevec[-3:]\n",
    "        rot_axis = SE3(posevec).as_matrix()[:3, 2]\n",
    "        lin_vel = jnp.cross(rot_axis, p_ee - p_frame)\n",
    "        jac.append(jnp.hstack([lin_vel, rot_axis]))\n",
    "    jac = jnp.array(jac).T\n",
    "    jac = jac.at[3:, :].set(E @ jac[3:, :])\n",
    "    return jnp.hstack([p_ee, rotvec_ee]), jac"
   ]
  },
  {
   "cell_type": "code",
   "execution_count": 88,
   "metadata": {},
   "outputs": [],
   "source": [
    "x = panda.neutral.copy()"
   ]
  },
  {
   "cell_type": "code",
   "execution_count": 107,
   "metadata": {},
   "outputs": [],
   "source": [
    "ee_d = to_posevec(grasp_reconst(xsol, obj_start.pose).parameters())\n",
    "def objective(x):\n",
    "    panda.set_joint_angles(x)\n",
    "    time.sleep(1.)\n",
    "    return 0.\n",
    "\n",
    "def constraints(x):\n",
    "    ee, _  = get_ee_fk_jac(x)\n",
    "    fk_err = ee_d - ee\n",
    "    return jnp.hstack([fk_err])\n",
    "\n",
    "def jacobian(x):\n",
    "    _, jac = get_ee_fk_jac(x)\n",
    "    return - jac"
   ]
  },
  {
   "cell_type": "code",
   "execution_count": 108,
   "metadata": {},
   "outputs": [
    {
     "name": "stdout",
     "output_type": "stream",
     "text": [
      "This is Ipopt version 3.14.10, running with linear solver MUMPS 5.2.1.\n",
      "\n",
      "Number of nonzeros in equality constraint Jacobian...:       42\n",
      "Number of nonzeros in inequality constraint Jacobian.:        0\n",
      "Number of nonzeros in Lagrangian Hessian.............:        0\n",
      "\n",
      "Total number of variables............................:        7\n",
      "                     variables with only lower bounds:        0\n",
      "                variables with lower and upper bounds:        7\n",
      "                     variables with only upper bounds:        0\n",
      "Total number of equality constraints.................:        6\n",
      "Total number of inequality constraints...............:        0\n",
      "        inequality constraints with only lower bounds:        0\n",
      "   inequality constraints with lower and upper bounds:        0\n",
      "        inequality constraints with only upper bounds:        0\n",
      "\n",
      "iter    objective    inf_pr   inf_du lg(mu)  ||d||  lg(rg) alpha_du alpha_pr  ls\n",
      "   0  0.0000000e+00 1.51e+00 0.00e+00   0.0 0.00e+00    -  0.00e+00 0.00e+00   0\n",
      "   1  0.0000000e+00 5.39e-01 3.69e+00  -5.6 1.75e+00    -  6.23e-01 1.00e+00h  1\n",
      "   2  0.0000000e+00 6.71e-02 4.88e-01  -0.8 3.70e-01    -  9.93e-01 1.00e+00h  1\n",
      "   3  0.0000000e+00 7.56e-03 1.66e-01  -1.4 1.46e-01    -  9.60e-01 1.00e+00h  1\n",
      "   4  0.0000000e+00 6.93e-05 1.05e-02  -3.3 1.05e-02    -  9.97e-01 1.00e+00h  1\n",
      "   5  0.0000000e+00 5.96e-07 4.25e-08  -5.1 3.54e-04    -  1.00e+00 1.00e+00h  1\n",
      "\n",
      "Number of Iterations....: 5\n",
      "\n",
      "                                   (scaled)                 (unscaled)\n",
      "Objective...............:   0.0000000000000000e+00    0.0000000000000000e+00\n",
      "Dual infeasibility......:   4.2508103512430663e-08    4.2508103512430663e-08\n",
      "Constraint violation....:   5.9604644775390625e-07    5.9604644775390625e-07\n",
      "Variable bound violation:   0.0000000000000000e+00    0.0000000000000000e+00\n",
      "Complementarity.........:   8.6367201390306255e-06    8.6367201390306255e-06\n",
      "Overall NLP error.......:   8.6367201390306255e-06    8.6367201390306255e-06\n",
      "\n",
      "\n",
      "Number of objective function evaluations             = 6\n",
      "Number of objective gradient evaluations             = 6\n",
      "Number of equality constraint evaluations            = 6\n",
      "Number of inequality constraint evaluations          = 0\n",
      "Number of equality constraint Jacobian evaluations   = 6\n",
      "Number of inequality constraint Jacobian evaluations = 0\n",
      "Number of Lagrangian Hessian evaluations             = 0\n",
      "Total seconds in IPOPT                               = 6.070\n",
      "\n",
      "EXIT: Solved To Acceptable Level.\n"
     ]
    }
   ],
   "source": [
    "class Prob:\n",
    "    pass\n",
    "prob = Prob()\n",
    "lb = panda.lb\n",
    "ub = panda.ub\n",
    "setattr(prob, \"objective\", objective)\n",
    "setattr(prob, \"gradient\", lambda x: np.zeros(7))\n",
    "setattr(prob, \"constraints\", constraints)\n",
    "setattr(prob, \"jacobian\", jacobian)\n",
    "ipopt = cyipopt.Problem(\n",
    "    n=7, m=6,\n",
    "    problem_obj = prob,\n",
    "    lb=lb, ub=ub,\n",
    "    cl=np.zeros(6), \n",
    "    cu=np.zeros(6)\n",
    ")\n",
    "ipopt.add_option(\"acceptable_iter\", 2)\n",
    "ipopt.add_option(\"acceptable_tol\", 1.) #release\n",
    "ipopt.add_option(\"acceptable_obj_change_tol\", 0.001)\n",
    "ipopt.add_option(\"acceptable_dual_inf_tol\", 1.) \n",
    "ipopt.add_option('mu_strategy', 'adaptive')\n",
    "qsol, info = ipopt.solve(x)"
   ]
  },
  {
   "cell_type": "code",
   "execution_count": 90,
   "metadata": {},
   "outputs": [
    {
     "data": {
      "text/plain": [
       "Array([ 0.49778306, -0.22459584,  0.3962106 ,  1.2607896 ,  1.3556452 ,\n",
       "       -1.0971388 ], dtype=float32)"
      ]
     },
     "execution_count": 90,
     "metadata": {},
     "output_type": "execute_result"
    }
   ],
   "source": [
    "to_posevec(grasp_reconst(xsol, obj_start.pose).parameters())"
   ]
  },
  {
   "cell_type": "code",
   "execution_count": 1713,
   "metadata": {},
   "outputs": [
    {
     "data": {
      "text/plain": [
       "Array(0.7889, dtype=float32)"
      ]
     },
     "execution_count": 1713,
     "metadata": {},
     "output_type": "execute_result"
    }
   ],
   "source": [
    "grasp_logit_fn(xsol)\n",
    "grasp_to_manip(xsol, obj_start.pose)"
   ]
  },
  {
   "cell_type": "code",
   "execution_count": null,
   "metadata": {},
   "outputs": [],
   "source": [
    "\n"
   ]
  },
  {
   "cell_type": "code",
   "execution_count": 1635,
   "metadata": {},
   "outputs": [
    {
     "data": {
      "text/plain": [
       "Array(7.383164e-12, dtype=float32)"
      ]
     },
     "execution_count": 1635,
     "metadata": {},
     "output_type": "execute_result"
    }
   ],
   "source": [
    "manip_fn(xsol)"
   ]
  },
  {
   "cell_type": "code",
   "execution_count": 1624,
   "metadata": {},
   "outputs": [],
   "source": [
    "frame.set_pose(SE3(to_wxyzxyz(xsol)))"
   ]
  },
  {
   "cell_type": "code",
   "execution_count": 1621,
   "metadata": {},
   "outputs": [
    {
     "data": {
      "text/plain": [
       "Array([ 0.47850522,  0.31533492,  0.5814109 ,  1.5173137 , -0.26406425,\n",
       "        0.7890735 ], dtype=float32)"
      ]
     },
     "execution_count": 1621,
     "metadata": {},
     "output_type": "execute_result"
    }
   ],
   "source": []
  },
  {
   "cell_type": "code",
   "execution_count": 1600,
   "metadata": {},
   "outputs": [],
   "source": [
    "random_rot = SO3(np.random.normal(size=4)).normalize()\n",
    "x = jnp.hstack([x[:3], random_rot.log()])\n",
    "#x = jnp.hstack([random_rot.parameters(), x[-3:]])\n",
    "frame.set_pose(SE3(to_wxyzxyz(x)))"
   ]
  },
  {
   "cell_type": "code",
   "execution_count": 1616,
   "metadata": {},
   "outputs": [
    {
     "name": "stdout",
     "output_type": "stream",
     "text": [
      "0.7231313\n",
      "[ 0.00606303 -0.29821372 -0.11448995 -0.08337639  0.10807732  0.00948917]\n"
     ]
    }
   ],
   "source": [
    "\n",
    "x = x + jnp.linalg.pinv(hess_manip(x)) @ grad_manip(x) * 0.05\n",
    "\n",
    "frame.set_pose(SE3(to_wxyzxyz(x)).normalize())\n",
    "#frame.set_pose(SE3(x).normalize())\n",
    "print(val_manip(x))\n",
    "print(grad_manip(x))\n",
    "#print(SO3.exp(x[3:]).parameters())"
   ]
  },
  {
   "cell_type": "code",
   "execution_count": 1046,
   "metadata": {},
   "outputs": [],
   "source": [
    "val = []\n",
    "idx = 0\n",
    "thetas = np.arange(-np.pi, np.pi, 0.05)\n",
    "for theta in thetas:\n",
    "    xval = np.array(x)\n",
    "    xval[idx] = theta\n",
    "    val.append(xval)"
   ]
  },
  {
   "cell_type": "code",
   "execution_count": 242,
   "metadata": {},
   "outputs": [
    {
     "data": {
      "text/plain": [
       "<matplotlib.collections.PathCollection at 0x7fa6a89a8eb0>"
      ]
     },
     "execution_count": 242,
     "metadata": {},
     "output_type": "execute_result"
    },
    {
     "data": {
      "image/png": "[encoded data removed]",
      "text/plain": [
       "<Figure size 640x480 with 1 Axes>"
      ]
     },
     "metadata": {},
     "output_type": "display_data"
    }
   ],
   "source": [
    "import matplotlib.pyplot as plt\n",
    "plt.plot(thetas, jax.vmap(manip_fn)(jnp.vstack(val)))\n",
    "plt.scatter(x[idx], 0)"
   ]
  },
  {
   "cell_type": "code",
   "execution_count": 213,
   "metadata": {},
   "outputs": [
    {
     "data": {
      "text/plain": [
       "array([-3.14159265, -3.04159265, -2.94159265, -2.84159265, -2.74159265,\n",
       "       -2.64159265, -2.54159265, -2.44159265, -2.34159265, -2.24159265,\n",
       "       -2.14159265, -2.04159265, -1.94159265, -1.84159265, -1.74159265,\n",
       "       -1.64159265, -1.54159265, -1.44159265, -1.34159265, -1.24159265,\n",
       "       -1.14159265, -1.04159265, -0.94159265, -0.84159265, -0.74159265,\n",
       "       -0.64159265, -0.54159265, -0.44159265, -0.34159265, -0.24159265,\n",
       "       -0.14159265, -0.04159265,  0.05840735,  0.15840735,  0.25840735,\n",
       "        0.35840735,  0.45840735,  0.55840735,  0.65840735,  0.75840735,\n",
       "        0.85840735,  0.95840735,  1.05840735,  1.15840735,  1.25840735,\n",
       "        1.35840735,  1.45840735,  1.55840735,  1.65840735,  1.75840735,\n",
       "        1.85840735,  1.95840735,  2.05840735,  2.15840735,  2.25840735,\n",
       "        2.35840735,  2.45840735,  2.55840735,  2.65840735,  2.75840735,\n",
       "        2.85840735,  2.95840735,  3.05840735])"
      ]
     },
     "execution_count": 213,
     "metadata": {},
     "output_type": "execute_result"
    }
   ],
   "source": []
  },
  {
   "cell_type": "code",
   "execution_count": 807,
   "metadata": {},
   "outputs": [
    {
     "data": {
      "text/plain": [
       "Array([ 0.00889851,  1.1274546 ,  0.36165857,  0.2601863 ,  0.46274334,\n",
       "       -0.02354041,  0.63001865], dtype=float32)"
      ]
     },
     "execution_count": 807,
     "metadata": {},
     "output_type": "execute_result"
    }
   ],
   "source": [
    "# rotations: -1~1\n",
    "# -1, 1"
   ]
  },
  {
   "cell_type": "code",
   "execution_count": 460,
   "metadata": {},
   "outputs": [
    {
     "data": {
      "text/plain": [
       "Array([-0.440229  ,  2.041676  , -0.80095965], dtype=float32)"
      ]
     },
     "execution_count": 460,
     "metadata": {},
     "output_type": "execute_result"
    }
   ],
   "source": []
  },
  {
   "cell_type": "code",
   "execution_count": 463,
   "metadata": {},
   "outputs": [
    {
     "data": {
      "text/plain": [
       "SO3(wxyz=[ 0.43706998 -0.17701     0.82093    -0.32205   ])"
      ]
     },
     "execution_count": 463,
     "metadata": {},
     "output_type": "execute_result"
    }
   ],
   "source": [
    "SO3.exp(x[3:])"
   ]
  },
  {
   "cell_type": "code",
   "execution_count": null,
   "metadata": {},
   "outputs": [],
   "source": []
  },
  {
   "cell_type": "code",
   "execution_count": 95,
   "metadata": {},
   "outputs": [
    {
     "data": {
      "text/plain": [
       "Array(0.73762447, dtype=float32)"
      ]
     },
     "execution_count": 95,
     "metadata": {},
     "output_type": "execute_result"
    }
   ],
   "source": [
    "val_manip(x)"
   ]
  },
  {
   "cell_type": "code",
   "execution_count": 65,
   "metadata": {},
   "outputs": [],
   "source": []
  },
  {
   "cell_type": "code",
   "execution_count": null,
   "metadata": {},
   "outputs": [],
   "source": [
    "panda_model.get_"
   ]
  },
  {
   "cell_type": "code",
   "execution_count": 30,
   "metadata": {},
   "outputs": [],
   "source": [
    "frame.set_pose(SE3(panda_model.fk_fn(panda.neutral)[-1]))"
   ]
  }
 ],
 "metadata": {
  "kernelspec": {
   "display_name": "opt_env",
   "language": "python",
   "name": "python3"
  },
  "language_info": {
   "codemirror_mode": {
    "name": "ipython",
    "version": 3
   },
   "file_extension": ".py",
   "mimetype": "text/x-python",
   "name": "python",
   "nbconvert_exporter": "python",
   "pygments_lexer": "ipython3",
   "version": "3.8.15"
  },
  "orig_nbformat": 4
 },
 "nbformat": 4,
 "nbformat_minor": 2
}
