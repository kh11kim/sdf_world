{
 "cells": [
  {
   "cell_type": "code",
   "execution_count": 1,
   "metadata": {},
   "outputs": [],
   "source": [
    "import cyipopt\n",
    "import jax\n",
    "import jax.numpy as jnp\n",
    "import numpy as np\n",
    "from typing import *"
   ]
  },
  {
   "cell_type": "code",
   "execution_count": 321,
   "metadata": {},
   "outputs": [],
   "source": [
    "from sdf_world.sparse_ipopt import *"
   ]
  },
  {
   "cell_type": "code",
   "execution_count": 330,
   "metadata": {},
   "outputs": [],
   "source": [
    "#function\n",
    "ws_lb = np.array([-1,-1,-0.5, -np.pi, -np.pi, -np.pi])\n",
    "ws_ub = np.array([1,1,1.5, np.pi, np.pi, np.pi])\n",
    "\n",
    "grasp_fn = lambda g: 0.\n",
    "manip_fn = lambda g, pose: 0.\n",
    "dist_fn = lambda g1, g2, pose, pose_st, pose_ed: jnp.zeros(4)\n",
    "\n",
    "\n",
    "jac_grasp_fn1 = lambda g: jnp.zeros(3)\n",
    "jac_manip_fn1 = lambda g, pose: jnp.zeros(3)\n",
    "jac_manip_fn2 = lambda g, pose: jnp.zeros(6)\n",
    "jac_dist_fn1 = lambda g1, g2, pose, pose_st, pose_ed: jnp.zeros((4,3))\n",
    "jac_dist_fn2 = lambda g1, g2, pose, pose_st, pose_ed: jnp.zeros((4,3))\n",
    "jac_dist_fn3 = lambda g1, g2, pose, pose_st, pose_ed: jnp.zeros((4,6))\n",
    "jac_grasp_fns = [jac_grasp_fn1]\n",
    "jac_manip_fns = [jac_manip_fn1, jac_manip_fn2]\n",
    "jac_dist_fns = [jac_dist_fn1, jac_dist_fn2, jac_dist_fn3, None, None]\n",
    "\n",
    "\n",
    "builder = SparseIPOPTBuilder()\n",
    "\n",
    "builder.add_variable(\"g_pick\", 3, -1., 1.)\n",
    "builder.add_variable(\"g_place\", 3, -1., 1.)\n",
    "builder.add_variable(\"p_ho\", 6, ws_lb, ws_ub)\n",
    "builder.add_parameter(\"p_start\", jnp.zeros(6))\n",
    "builder.add_parameter(\"p_goal\", jnp.zeros(6))\n",
    "\n",
    "builder.register_fn(\"grasp_logit_fn\", [3], 1,\n",
    "                          grasp_fn, jac_grasp_fns)\n",
    "builder.register_fn(\"manip_fn\", [3, 6], 1,\n",
    "                          manip_fn, jac_manip_fns)\n",
    "builder.register_fn(\"dist_fn\", [3, 3, 6, 6, 6], 4,\n",
    "                          dist_fn, jac_dist_fns)\n",
    "builder.register_fn(\"debug_obj\", [], 1, \n",
    "                           lambda : 0., [])\n",
    "\n",
    "builder.add_objective([], \"debug_obj\")\n",
    "builder.add_constr(\"grasp_prob_pick\", [\"g_pick\"], \"grasp_logit_fn\",\n",
    "                   1., np.inf)\n",
    "builder.add_constr(\"grasp_prob_place\", [\"g_place\"], \"grasp_logit_fn\",\n",
    "                   1., np.inf)\n",
    "builder.add_constr(\"manip_pick\", [\"g_pick\", \"p_start\"],\"manip_fn\",\n",
    "                   0.3, np.inf)\n",
    "builder.add_constr(\"manip_place\", [\"g_place\", \"p_goal\"], \"manip_fn\",\n",
    "                   0.3, np.inf)\n",
    "builder.add_constr(\"manip_ho_1\", [\"g_pick\", \"p_ho\"], \"manip_fn\",\n",
    "                   0.3, np.inf)\n",
    "builder.add_constr(\"manip_ho_2\", [\"g_place\", \"p_ho\"], \"manip_fn\",\n",
    "                   0.3, np.inf)\n",
    "builder.add_constr(\"dist\", [\"g_pick\", \"g_place\", \"p_ho\", \"p_start\", \"p_goal\"], \"dist_fn\",\n",
    "                   0.05, np.inf)\n",
    "builder.freeze()"
   ]
  },
  {
   "cell_type": "code",
   "execution_count": 331,
   "metadata": {},
   "outputs": [
    {
     "data": {
      "text/plain": [
       "0.0"
      ]
     },
     "execution_count": 331,
     "metadata": {},
     "output_type": "execute_result"
    }
   ],
   "source": [
    "builder.get_objective_fn()(jnp.zeros(builder.xdim))"
   ]
  },
  {
   "cell_type": "code",
   "execution_count": 332,
   "metadata": {},
   "outputs": [
    {
     "data": {
      "text/plain": [
       "Array([0., 0., 0., 0., 0., 0., 0., 0., 0., 0., 0., 0.], dtype=float32)"
      ]
     },
     "execution_count": 332,
     "metadata": {},
     "output_type": "execute_result"
    }
   ],
   "source": [
    "builder.get_gradient_fn()(jnp.zeros(builder.xdim))"
   ]
  },
  {
   "cell_type": "code",
   "execution_count": 320,
   "metadata": {},
   "outputs": [
    {
     "name": "stdout",
     "output_type": "stream",
     "text": [
      "\n",
      "Sparsity pattern:\n",
      "00 01 02 -- -- -- -- -- -- -- -- -- \n",
      "-- -- -- 03 04 05 -- -- -- -- -- -- \n",
      "06 07 08 -- -- -- -- -- -- -- -- -- \n",
      "-- -- -- 09 10 11 -- -- -- -- -- -- \n",
      "12 13 14 -- -- -- 18 19 20 21 22 23 \n",
      "-- -- -- 15 16 17 24 25 26 27 28 29 \n",
      "30 31 32 42 43 44 54 55 56 57 58 59 \n",
      "33 34 35 45 46 47 60 61 62 63 64 65 \n",
      "36 37 38 48 49 50 66 67 68 69 70 71 \n",
      "39 40 41 51 52 53 72 73 74 75 76 77 \n"
     ]
    }
   ],
   "source": [
    "ipopt = builder.build(True)"
   ]
  },
  {
   "cell_type": "code",
   "execution_count": null,
   "metadata": {},
   "outputs": [],
   "source": []
  }
 ],
 "metadata": {
  "kernelspec": {
   "display_name": "opt_env",
   "language": "python",
   "name": "python3"
  },
  "language_info": {
   "codemirror_mode": {
    "name": "ipython",
    "version": 3
   },
   "file_extension": ".py",
   "mimetype": "text/x-python",
   "name": "python",
   "nbconvert_exporter": "python",
   "pygments_lexer": "ipython3",
   "version": "3.8.15"
  },
  "orig_nbformat": 4
 },
 "nbformat": 4,
 "nbformat_minor": 2
}
