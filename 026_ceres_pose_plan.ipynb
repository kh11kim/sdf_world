{
 "cells": [
  {
   "cell_type": "code",
   "execution_count": 108,
   "metadata": {},
   "outputs": [],
   "source": [
    "import numpy as np\n",
    "import jax\n",
    "import jax.numpy as jnp\n",
    "from jaxlie import SE3, SO3\n",
    "import jax_dataclasses as jdc\n",
    "from functools import partial\n",
    "import PyCeres\n",
    "\n",
    "from sdf_world.sdf_world import *\n",
    "from sdf_world.robots import *\n",
    "from sdf_world.util import *\n",
    "\n",
    "from flax import linen as nn\n",
    "from flax.training import orbax_utils\n",
    "import orbax\n",
    "import pickle\n",
    "import time"
   ]
  },
  {
   "cell_type": "code",
   "execution_count": 2,
   "metadata": {},
   "outputs": [
    {
     "name": "stdout",
     "output_type": "stream",
     "text": [
      "You can open the visualizer by visiting the following URL:\n",
      "http://127.0.0.1:7002/static/\n"
     ]
    }
   ],
   "source": [
    "world = SDFWorld()\n",
    "panda_model = RobotModel(PANDA_URDF, PANDA_PACKAGE)\n",
    "panda = Robot(world.vis, \"panda\", panda_model, alpha=0.5)\n",
    "panda.reduce_dim([7, 8], [0.04, 0.04])"
   ]
  },
  {
   "attachments": {},
   "cell_type": "markdown",
   "metadata": {},
   "source": [
    "### Regarding Grasp"
   ]
  },
  {
   "cell_type": "code",
   "execution_count": 45,
   "metadata": {},
   "outputs": [],
   "source": [
    "#load object\n",
    "class GraspNet(nn.Module):\n",
    "    hidden_dim: int\n",
    "    @nn.compact\n",
    "    def __call__(self, x):\n",
    "        x = nn.Dense(features=self.hidden_dim)(x)\n",
    "        x = nn.relu(x)\n",
    "        x = nn.Dense(features=self.hidden_dim)(x)\n",
    "        x = nn.relu(x)\n",
    "        x = nn.Dense(features=self.hidden_dim)(x)\n",
    "        x = nn.relu(x)\n",
    "        logit = nn.Dense(features=5)(x)\n",
    "        return logit\n",
    "\n",
    "orbax_checkpointer = orbax.checkpoint.PyTreeCheckpointer()\n",
    "raw_restored = orbax_checkpointer.restore(\"model/grasp_net\")\n",
    "params = raw_restored[\"params\"]\n",
    "grasp_net = GraspNet(raw_restored[\"hidden_dim\"])\n",
    "grasp_fn = lambda x: grasp_net.apply(params, x)\n",
    "with open(\"./sdf_world/assets/object\"+'/info.pkl', 'rb') as f:\n",
    "    obj_data = pickle.load(f)\n",
    "scale_to_norm = obj_data[\"scale_to_norm\"]\n",
    "def grasp_reconst(g:Array):\n",
    "    rot = SO3(grasp_fn(g)[1:5]).normalize()\n",
    "    trans = g/scale_to_norm\n",
    "    return SE3.from_rotation_and_translation(rot, trans)\n",
    "grasp_logit_fn = lambda g: grasp_fn(g)[0]"
   ]
  },
  {
   "cell_type": "code",
   "execution_count": 19,
   "metadata": {},
   "outputs": [],
   "source": [
    "table_lengths = [0.4, 0.4, 0.2]\n",
    "table_start = Box(world.vis, \"table_start\", table_lengths, 'green', 0.5)\n",
    "table_goal = Box(world.vis, \"table_goal\", table_lengths, 'blue', 0.5)\n",
    "table_start.set_translate([0.5, -0.3, 0.2/2])\n",
    "table_goal.set_translate([0.5, 0.3, 0.2/2])"
   ]
  },
  {
   "cell_type": "code",
   "execution_count": 38,
   "metadata": {},
   "outputs": [],
   "source": [
    "obj_start = Mesh(world.vis, \"obj_start\", \"./sdf_world/assets/object/mesh.obj\",\n",
    "                 alpha=0.5)\n",
    "obj_goal = Mesh(world.vis, \"obj_goal\", \"./sdf_world/assets/object/mesh.obj\",\n",
    "                 alpha=0.5)\n",
    "obj_lengths = obj_start.mesh.bounding_box.primitive.extents"
   ]
  },
  {
   "cell_type": "code",
   "execution_count": 40,
   "metadata": {},
   "outputs": [],
   "source": [
    "obj_start.set_translate([0.5, -0.3, obj_lengths[-1]/2+table_lengths[-1]])\n",
    "trans_goal = jnp.array([0.5, 0.3, obj_lengths[-2]/2+table_lengths[-1]])\n",
    "obj_goal_pose = SE3.from_rotation_and_translation(\n",
    "    SO3.from_rpy_radians(jnp.pi/2, 0,0), trans_goal\n",
    ")\n",
    "obj_goal.set_pose(obj_goal_pose)"
   ]
  },
  {
   "attachments": {},
   "cell_type": "markdown",
   "metadata": {},
   "source": [
    "### Regarding Kinematics"
   ]
  },
  {
   "cell_type": "code",
   "execution_count": 115,
   "metadata": {},
   "outputs": [],
   "source": [
    "#utility\n",
    "def to_posevec(pose:SE3):\n",
    "    return jnp.hstack([pose.translation(), pose.rotation().log()])\n",
    "\n",
    "def make_pose():\n",
    "    return SE3.from_rotation_and_translation(\n",
    "        SO3(np.random.random(4)).normalize(),\n",
    "        np.random.uniform([-0.3,-0.5,0.3],[0.6, 0.5, 0.8])\n",
    "    )\n",
    "\n",
    "# Kinematics\n",
    "def get_rotvec_angvel_map(v):\n",
    "    def skew(v):\n",
    "        v1, v2, v3 = v\n",
    "        return jnp.array([[0, -v3, v2],\n",
    "                        [v3, 0., -v1],\n",
    "                        [-v2, v1, 0.]])\n",
    "    vmag = jnp.linalg.norm(v)\n",
    "    vskew = skew(v)\n",
    "    return jnp.eye(3) \\\n",
    "        - 1/2*skew(v) \\\n",
    "        + vskew@vskew * 1/vmag**2 * (1-vmag/2 * jnp.sin(vmag)/(1-jnp.cos(vmag)))\n",
    "\n",
    "@jax.jit\n",
    "def get_ee_fk_jac(q):\n",
    "    # outputs ee_posevec and analytical jacobian\n",
    "    fks = panda_model.fk_fn(q)\n",
    "    p_ee = fks[-1][-3:]\n",
    "    rotvec_ee = SO3(fks[-1][:4]).log()\n",
    "    E = get_rotvec_angvel_map(rotvec_ee)\n",
    "    jac = []\n",
    "    for posevec in fks[1:8]:\n",
    "        p_frame = posevec[-3:]\n",
    "        rot_axis = SE3(posevec).as_matrix()[:3, 2]\n",
    "        lin_vel = jnp.cross(rot_axis, p_ee - p_frame)\n",
    "        jac.append(jnp.hstack([lin_vel, rot_axis]))\n",
    "    jac = jnp.array(jac).T\n",
    "    jac = jac.at[3:, :].set(E @ jac[3:, :])\n",
    "    return jnp.hstack([p_ee, rotvec_ee]), jac\n",
    "\n"
   ]
  },
  {
   "attachments": {},
   "cell_type": "markdown",
   "metadata": {},
   "source": [
    "### Problem"
   ]
  },
  {
   "cell_type": "code",
   "execution_count": 54,
   "metadata": {},
   "outputs": [],
   "source": [
    "# problem \n",
    "obj_start_pose = obj_start.pose\n",
    "obj_goal_pose = obj_goal.pose"
   ]
  },
  {
   "cell_type": "code",
   "execution_count": 73,
   "metadata": {},
   "outputs": [],
   "source": [
    "frame_pick = Frame(world.vis, \"g_pick\")\n",
    "frame_place = Frame(world.vis, \"g_place\")\n",
    "def show_grasp(grasp):\n",
    "    grasp_pose = grasp_reconst(grasp)\n",
    "    frame_pick.set_pose(obj_start_pose@grasp_pose)\n",
    "    frame_place.set_pose(obj_goal_pose@grasp_pose)"
   ]
  },
  {
   "cell_type": "code",
   "execution_count": 150,
   "metadata": {},
   "outputs": [],
   "source": [
    "def to_posevec(pose:SE3):\n",
    "    return jnp.hstack([pose.translation(), pose.rotation().log()])\n",
    "def to_SE3(posevec:Array):\n",
    "    return SE3.from_rotation_and_translation(\n",
    "        SO3.exp(posevec[3:]), posevec[:3]\n",
    "    )"
   ]
  },
  {
   "cell_type": "code",
   "execution_count": 471,
   "metadata": {},
   "outputs": [],
   "source": [
    "clipped_logit_viol = lambda g: jnp.clip(1. - grasp_logit_fn(g), a_min=0.)\n",
    "class GraspProb(PyCeres.CostFunction):\n",
    "    def __init__(self):\n",
    "        super().__init__()\n",
    "        self.set_num_residuals(1)\n",
    "        self.set_parameter_block_sizes([3])\n",
    "        self.weight = 1.\n",
    "        self.logit_threshold = 1.\n",
    "    \n",
    "    def set_weight(self, weight):\n",
    "        self.weight = weight\n",
    "\n",
    "    def Evaluate(self, parameters, residuals, jacobians):\n",
    "        grasp = parameters[0]\n",
    "        viol, jac = jax.value_and_grad(clipped_logit_viol)(grasp)\n",
    "        residuals[0] = (self.weight * viol).item()\n",
    "        if (jacobians != None):\n",
    "            jacobians[0][:] = self.weight * jac\n",
    "        show_grasp(grasp)\n",
    "        time.sleep(0.1)\n",
    "        return True\n",
    "\n",
    "grasp_fk = lambda g, obj_pose: to_posevec(obj_pose@grasp_reconst(g))\n",
    "class KinError(PyCeres.CostFunction):\n",
    "    def __init__(self):\n",
    "        super().__init__()\n",
    "        self.set_num_residuals(3)\n",
    "        self.set_parameter_block_sizes([3, 7])\n",
    "        self.weight_mat = None\n",
    "        self.obj_pose = None\n",
    "        \n",
    "    def set_obj_pose(self, obj_pose):\n",
    "        self.obj_pose = obj_pose\n",
    "        \n",
    "    def set_weight(self, weight):\n",
    "        self.weight_mat = np.diag(np.sqrt(weight))\n",
    "\n",
    "    def Evaluate(self, parameters, residuals, jacobians):\n",
    "        grasp, q  = parameters[0], parameters[1]\n",
    "        target, jac_grasp = value_and_jacrev(grasp_fk, grasp, self.obj_pose)\n",
    "        ee, jac_q = get_ee_fk_jac(q)\n",
    "        residuals[:] = (self.weight_mat @ (target - ee))[:3]\n",
    "        if (jacobians != None):\n",
    "            jacobians[0][:] = (self.weight_mat @ jac_grasp)[:3,:].flatten()\n",
    "            # (self.weight_mat @ jac_grasp).flatten()\n",
    "            jacobians[1][:] = - (self.weight_mat @ jac_q)[:3,:].flatten()\n",
    "        \n",
    "        frame_pick.set_pose(to_SE3(target))\n",
    "        panda.set_joint_angles(q)\n",
    "        time.sleep(0.1)\n",
    "        return True"
   ]
  },
  {
   "cell_type": "code",
   "execution_count": 472,
   "metadata": {},
   "outputs": [],
   "source": [
    "pose_weight = np.array([1, 1, 1, 0.3, 0.3, 0.3])\n",
    "feature_grasp_prob = GraspProb()\n",
    "feature_fk_error = KinError()\n",
    "feature_fk_error.set_weight(pose_weight*1.)\n",
    "feature_fk_error.set_obj_pose(obj_start_pose)"
   ]
  },
  {
   "cell_type": "code",
   "execution_count": 546,
   "metadata": {},
   "outputs": [],
   "source": [
    "g_pick = np.array([-1., -1., 0.])*0.8\n",
    "q_pick = panda.neutral.copy()"
   ]
  },
  {
   "cell_type": "code",
   "execution_count": 547,
   "metadata": {},
   "outputs": [],
   "source": [
    "problem = PyCeres.Problem()\n",
    "problem.AddResidualBlock(feature_grasp_prob, None, g_pick)\n",
    "#problem.AddResidualBlock(feature_fk_error, None, g_pick, q_pick)\n",
    "\n",
    "options = PyCeres.SolverOptions()\n",
    "options.minimizer_type = PyCeres.MinimizerType.LINE_SEARCH\n",
    "options.line_search_direction_type = PyCeres.LineSearchDirectionType.STEEPEST_DESCENT\n",
    "#options.minimizer_type = PyCeres.MinimizerType.TRUST_REGION\n",
    "#options.trust_region_strategy_type = PyCeres.TrustRegionStrategyType.DOGLEG\n",
    "options.initial_trust_region_radius = 1.\n",
    "options.linear_solver_type = PyCeres.LinearSolverType.SPARSE_NORMAL_CHOLESKY\n",
    "options.parameter_tolerance = 1e-4\n",
    "options.minimizer_progress_to_stdout = True\n",
    "summary = PyCeres.Summary()\n"
   ]
  },
  {
   "cell_type": "code",
   "execution_count": 516,
   "metadata": {},
   "outputs": [
    {
     "data": {
      "text/plain": [
       "True"
      ]
     },
     "execution_count": 516,
     "metadata": {},
     "output_type": "execute_result"
    }
   ],
   "source": [
    "parameters = [g_pick]\n",
    "residuals = [0.]\n",
    "jacobians = [np.zeros(3)]\n",
    "feature_grasp_prob.Evaluate(parameters, residuals, jacobians)"
   ]
  },
  {
   "cell_type": "code",
   "execution_count": 517,
   "metadata": {},
   "outputs": [
    {
     "data": {
      "text/plain": [
       "[array([-0.06931173,  0.79933673, -0.24714694])]"
      ]
     },
     "execution_count": 517,
     "metadata": {},
     "output_type": "execute_result"
    }
   ],
   "source": [
    "parameters"
   ]
  },
  {
   "cell_type": "code",
   "execution_count": 518,
   "metadata": {},
   "outputs": [
    {
     "data": {
      "text/plain": [
       "[46.27421951293945]"
      ]
     },
     "execution_count": 518,
     "metadata": {},
     "output_type": "execute_result"
    }
   ],
   "source": [
    "residuals"
   ]
  },
  {
   "cell_type": "code",
   "execution_count": 519,
   "metadata": {},
   "outputs": [
    {
     "data": {
      "text/plain": [
       "0.0006431364369985808"
      ]
     },
     "execution_count": 519,
     "metadata": {},
     "output_type": "execute_result"
    }
   ],
   "source": [
    "1/(jacobians[0]@jacobians[0]) * residuals[0]"
   ]
  },
  {
   "cell_type": "code",
   "execution_count": 548,
   "metadata": {},
   "outputs": [
    {
     "name": "stdout",
     "output_type": "stream",
     "text": [
      "   0: f: 1.144981e+05 d: 0.00e+00 g: 3.18e+05 h: 0.00e+00 s: 0.00e+00 e:  0 it: 1.68e-01 tt: 1.68e-01\n",
      "   1: f: 6.978464e+03 d: 1.08e+05 g: 6.23e+04 h: 1.00e+00 s: 3.14e-06 e:  1 it: 1.52e-01 tt: 3.20e-01\n",
      "   2: f: 8.821766e+01 d: 6.89e+03 g: 6.66e+03 h: 1.90e-01 s: 2.91e-06 e:  2 it: 3.06e-01 tt: 6.26e-01\n",
      "   3: f: 4.073176e+01 d: 4.75e+01 g: 1.41e+03 h: 2.18e-02 s: 3.13e-06 e:  2 it: 3.43e-01 tt: 9.69e-01\n",
      "   4: f: 1.111487e-01 d: 4.06e+01 g: 5.19e+01 h: 6.19e-02 s: 4.03e-05 e:  1 it: 1.80e-01 tt: 1.15e+00\n",
      "   5: f: 5.492741e-02 d: 5.62e-02 g: 3.65e+01 h: 1.12e-03 s: 1.89e-05 e:  2 it: 3.49e-01 tt: 1.50e+00\n"
     ]
    }
   ],
   "source": [
    "PyCeres.Solve(options, problem, summary)"
   ]
  },
  {
   "cell_type": "code",
   "execution_count": 425,
   "metadata": {},
   "outputs": [],
   "source": [
    "show_grasp(g_pick)\n",
    "panda.set_joint_angles(q_pick)"
   ]
  },
  {
   "cell_type": "code",
   "execution_count": 157,
   "metadata": {},
   "outputs": [],
   "source": [
    "panda.set_joint_angles(q_pick)"
   ]
  },
  {
   "cell_type": "code",
   "execution_count": 145,
   "metadata": {},
   "outputs": [],
   "source": [
    "grasp_pose = grasp_reconst(g_pick)\n",
    "frame_pick.set_pose(obj_start_pose@grasp_pose)\n",
    "frame_place.set_pose(obj_goal_pose@grasp_pose)"
   ]
  },
  {
   "cell_type": "code",
   "execution_count": 197,
   "metadata": {},
   "outputs": [
    {
     "name": "stdout",
     "output_type": "stream",
     "text": [
      "Ceres Solver Report: Iterations: 42, Initial cost: 1.826630e+02, Final cost: 1.700756e-02, Termination: CONVERGENCE\n"
     ]
    }
   ],
   "source": [
    "print(summary.BriefReport())"
   ]
  }
 ],
 "metadata": {
  "kernelspec": {
   "display_name": "cu11",
   "language": "python",
   "name": "python3"
  },
  "language_info": {
   "codemirror_mode": {
    "name": "ipython",
    "version": 3
   },
   "file_extension": ".py",
   "mimetype": "text/x-python",
   "name": "python",
   "nbconvert_exporter": "python",
   "pygments_lexer": "ipython3",
   "version": "3.8.16"
  },
  "orig_nbformat": 4
 },
 "nbformat": 4,
 "nbformat_minor": 2
}
