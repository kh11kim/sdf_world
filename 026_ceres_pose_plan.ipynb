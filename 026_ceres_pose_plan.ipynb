{
 "cells": [
  {
   "cell_type": "code",
   "execution_count": 108,
   "metadata": {},
   "outputs": [],
   "source": [
    "import numpy as np\n",
    "import jax\n",
    "import jax.numpy as jnp\n",
    "from jaxlie import SE3, SO3\n",
    "import jax_dataclasses as jdc\n",
    "from functools import partial\n",
    "import PyCeres\n",
    "\n",
    "from sdf_world.sdf_world import *\n",
    "from sdf_world.robots import *\n",
    "from sdf_world.util import *\n",
    "\n",
    "from flax import linen as nn\n",
    "from flax.training import orbax_utils\n",
    "import orbax\n",
    "import pickle\n",
    "import time"
   ]
  },
  {
   "cell_type": "code",
   "execution_count": 2,
   "metadata": {},
   "outputs": [
    {
     "name": "stdout",
     "output_type": "stream",
     "text": [
      "You can open the visualizer by visiting the following URL:\n",
      "http://127.0.0.1:7002/static/\n"
     ]
    }
   ],
   "source": [
    "world = SDFWorld()\n",
    "panda_model = RobotModel(PANDA_URDF, PANDA_PACKAGE)\n",
    "panda = Robot(world.vis, \"panda\", panda_model, alpha=0.5)\n",
    "panda.reduce_dim([7, 8], [0.04, 0.04])"
   ]
  },
  {
   "attachments": {},
   "cell_type": "markdown",
   "metadata": {},
   "source": [
    "### Regarding Grasp"
   ]
  },
  {
   "cell_type": "code",
   "execution_count": 45,
   "metadata": {},
   "outputs": [],
   "source": [
    "#load object\n",
    "class GraspNet(nn.Module):\n",
    "    hidden_dim: int\n",
    "    @nn.compact\n",
    "    def __call__(self, x):\n",
    "        x = nn.Dense(features=self.hidden_dim)(x)\n",
    "        x = nn.relu(x)\n",
    "        x = nn.Dense(features=self.hidden_dim)(x)\n",
    "        x = nn.relu(x)\n",
    "        x = nn.Dense(features=self.hidden_dim)(x)\n",
    "        x = nn.relu(x)\n",
    "        logit = nn.Dense(features=5)(x)\n",
    "        return logit\n",
    "\n",
    "orbax_checkpointer = orbax.checkpoint.PyTreeCheckpointer()\n",
    "raw_restored = orbax_checkpointer.restore(\"model/grasp_net\")\n",
    "params = raw_restored[\"params\"]\n",
    "grasp_net = GraspNet(raw_restored[\"hidden_dim\"])\n",
    "grasp_fn = lambda x: grasp_net.apply(params, x)\n",
    "with open(\"./sdf_world/assets/object\"+'/info.pkl', 'rb') as f:\n",
    "    obj_data = pickle.load(f)\n",
    "scale_to_norm = obj_data[\"scale_to_norm\"]\n",
    "def grasp_reconst(g:Array):\n",
    "    rot = SO3(grasp_fn(g)[1:5]).normalize()\n",
    "    trans = g/scale_to_norm\n",
    "    return SE3.from_rotation_and_translation(rot, trans)\n",
    "grasp_logit_fn = lambda g: grasp_fn(g)[0]"
   ]
  },
  {
   "cell_type": "code",
   "execution_count": 19,
   "metadata": {},
   "outputs": [],
   "source": [
    "table_lengths = [0.4, 0.4, 0.2]\n",
    "table_start = Box(world.vis, \"table_start\", table_lengths, 'green', 0.5)\n",
    "table_goal = Box(world.vis, \"table_goal\", table_lengths, 'blue', 0.5)\n",
    "table_start.set_translate([0.5, -0.3, 0.2/2])\n",
    "table_goal.set_translate([0.5, 0.3, 0.2/2])"
   ]
  },
  {
   "cell_type": "code",
   "execution_count": 38,
   "metadata": {},
   "outputs": [],
   "source": [
    "obj_start = Mesh(world.vis, \"obj_start\", \"./sdf_world/assets/object/mesh.obj\",\n",
    "                 alpha=0.5)\n",
    "obj_goal = Mesh(world.vis, \"obj_goal\", \"./sdf_world/assets/object/mesh.obj\",\n",
    "                 alpha=0.5)\n",
    "obj_lengths = obj_start.mesh.bounding_box.primitive.extents"
   ]
  },
  {
   "cell_type": "code",
   "execution_count": 40,
   "metadata": {},
   "outputs": [],
   "source": [
    "obj_start.set_translate([0.5, -0.3, obj_lengths[-1]/2+table_lengths[-1]])\n",
    "trans_goal = jnp.array([0.5, 0.3, obj_lengths[-2]/2+table_lengths[-1]])\n",
    "obj_goal_pose = SE3.from_rotation_and_translation(\n",
    "    SO3.from_rpy_radians(jnp.pi/2, 0,0), trans_goal\n",
    ")\n",
    "obj_goal.set_pose(obj_goal_pose)"
   ]
  },
  {
   "attachments": {},
   "cell_type": "markdown",
   "metadata": {},
   "source": [
    "### Regarding Kinematics"
   ]
  },
  {
   "cell_type": "code",
   "execution_count": 115,
   "metadata": {},
   "outputs": [],
   "source": [
    "#utility\n",
    "def to_posevec(pose:SE3):\n",
    "    return jnp.hstack([pose.translation(), pose.rotation().log()])\n",
    "\n",
    "def make_pose():\n",
    "    return SE3.from_rotation_and_translation(\n",
    "        SO3(np.random.random(4)).normalize(),\n",
    "        np.random.uniform([-0.3,-0.5,0.3],[0.6, 0.5, 0.8])\n",
    "    )\n",
    "\n",
    "# Kinematics\n",
    "def get_rotvec_angvel_map(v):\n",
    "    def skew(v):\n",
    "        v1, v2, v3 = v\n",
    "        return jnp.array([[0, -v3, v2],\n",
    "                        [v3, 0., -v1],\n",
    "                        [-v2, v1, 0.]])\n",
    "    vmag = jnp.linalg.norm(v)\n",
    "    vskew = skew(v)\n",
    "    return jnp.eye(3) \\\n",
    "        - 1/2*skew(v) \\\n",
    "        + vskew@vskew * 1/vmag**2 * (1-vmag/2 * jnp.sin(vmag)/(1-jnp.cos(vmag)))\n",
    "\n",
    "@jax.jit\n",
    "def get_ee_fk_jac(q):\n",
    "    # outputs ee_posevec and analytical jacobian\n",
    "    fks = panda_model.fk_fn(q)\n",
    "    p_ee = fks[-1][-3:]\n",
    "    rotvec_ee = SO3(fks[-1][:4]).log()\n",
    "    E = get_rotvec_angvel_map(rotvec_ee)\n",
    "    jac = []\n",
    "    for posevec in fks[1:8]:\n",
    "        p_frame = posevec[-3:]\n",
    "        rot_axis = SE3(posevec).as_matrix()[:3, 2]\n",
    "        lin_vel = jnp.cross(rot_axis, p_ee - p_frame)\n",
    "        jac.append(jnp.hstack([lin_vel, rot_axis]))\n",
    "    jac = jnp.array(jac).T\n",
    "    jac = jac.at[3:, :].set(E @ jac[3:, :])\n",
    "    return jnp.hstack([p_ee, rotvec_ee]), jac\n",
    "\n"
   ]
  },
  {
   "attachments": {},
   "cell_type": "markdown",
   "metadata": {},
   "source": [
    "### Problem"
   ]
  },
  {
   "cell_type": "code",
   "execution_count": 54,
   "metadata": {},
   "outputs": [],
   "source": [
    "# problem \n",
    "obj_start_pose = obj_start.pose\n",
    "obj_goal_pose = obj_goal.pose"
   ]
  },
  {
   "cell_type": "code",
   "execution_count": 73,
   "metadata": {},
   "outputs": [],
   "source": [
    "frame_pick = Frame(world.vis, \"g_pick\")\n",
    "frame_place = Frame(world.vis, \"g_place\")\n",
    "def show_grasp(grasp):\n",
    "    grasp_pose = grasp_reconst(grasp)\n",
    "    frame_pick.set_pose(obj_start_pose@grasp_pose)\n",
    "    frame_place.set_pose(obj_goal_pose@grasp_pose)"
   ]
  },
  {
   "cell_type": "code",
   "execution_count": 150,
   "metadata": {},
   "outputs": [],
   "source": [
    "def to_posevec(pose:SE3):\n",
    "    return jnp.hstack([pose.translation(), pose.rotation().log()])\n",
    "def to_SE3(posevec:Array):\n",
    "    return SE3.from_rotation_and_translation(\n",
    "        SO3.exp(posevec[3:]), posevec[:3]\n",
    "    )"
   ]
  },
  {
   "cell_type": "code",
   "execution_count": 363,
   "metadata": {},
   "outputs": [],
   "source": [
    "clipped_logit_viol = lambda g: jnp.clip(1. - grasp_logit_fn(g), a_min=0.)\n",
    "class GraspProb(PyCeres.CostFunction):\n",
    "    def __init__(self):\n",
    "        super().__init__()\n",
    "        self.set_num_residuals(1)\n",
    "        self.set_parameter_block_sizes([3])\n",
    "        self.weight = 1.\n",
    "        self.logit_threshold = 1.\n",
    "    \n",
    "    def set_weight(self, weight):\n",
    "        self.weight = weight\n",
    "\n",
    "    def Evaluate(self, parameters, residuals, jacobians):\n",
    "        grasp = parameters[0]\n",
    "        viol, jac = jax.value_and_grad(clipped_logit_viol)(grasp)\n",
    "        residuals[0] = self.weight * viol\n",
    "        if (jacobians != None):\n",
    "            jacobians[0][:] = self.weight * jac\n",
    "        show_grasp(grasp)\n",
    "        time.sleep(0.1)\n",
    "        return True\n",
    "\n",
    "grasp_fk = lambda g, obj_pose: to_posevec(obj_pose@grasp_reconst(g))\n",
    "class KinError(PyCeres.CostFunction):\n",
    "    def __init__(self):\n",
    "        super().__init__()\n",
    "        self.set_num_residuals(3)\n",
    "        self.set_parameter_block_sizes([3, 7])\n",
    "        self.weight_mat = None\n",
    "        self.obj_pose = None\n",
    "        \n",
    "    def set_obj_pose(self, obj_pose):\n",
    "        self.obj_pose = obj_pose\n",
    "        \n",
    "    def set_weight(self, weight):\n",
    "        self.weight_mat = np.diag(np.sqrt(weight))\n",
    "\n",
    "    def Evaluate(self, parameters, residuals, jacobians):\n",
    "        grasp, q  = parameters[0], parameters[1]\n",
    "        target, jac_grasp = value_and_jacrev(grasp_fk, grasp, self.obj_pose)\n",
    "        ee, jac_q = get_ee_fk_jac(q)\n",
    "        residuals[:] = self.weight_mat @ (target - ee)[:3]\n",
    "        if (jacobians != None):\n",
    "            jacobians[0][:] = (self.weight_mat @jac_grasp)[:3,:].flatten()\n",
    "            # (self.weight_mat @ jac_grasp).flatten()\n",
    "            jacobians[1][:] = - (self.weight_mat @ jac_q)[:3,:].flatten()\n",
    "        \n",
    "        frame_pick.set_pose(to_SE3(target))\n",
    "        panda.set_joint_angles(q)\n",
    "        time.sleep(0.1)\n",
    "        return True"
   ]
  },
  {
   "cell_type": "code",
   "execution_count": 364,
   "metadata": {},
   "outputs": [],
   "source": [
    "pose_weight = np.array([1, 1, 1, 0.3, 0.3, 0.3])\n",
    "feature_grasp_prob = GraspProb()\n",
    "feature_fk_error = KinError()\n",
    "feature_fk_error.set_weight(pose_weight*0.1)\n",
    "feature_fk_error.set_obj_pose(obj_start_pose)"
   ]
  },
  {
   "cell_type": "code",
   "execution_count": 365,
   "metadata": {},
   "outputs": [],
   "source": [
    "g_pick = np.ones(3)*0.8\n",
    "q_pick = panda.neutral.copy()"
   ]
  },
  {
   "cell_type": "code",
   "execution_count": 371,
   "metadata": {},
   "outputs": [],
   "source": [
    "problem = PyCeres.Problem()\n",
    "problem.AddResidualBlock(feature_grasp_prob, None, g_pick)\n",
    "problem.AddResidualBlock(feature_fk_error, None, g_pick, q_pick)\n",
    "\n",
    "options = PyCeres.SolverOptions()\n",
    "#options.minimizer_type = PyCeres.MinimizerType.LINE_SEARCH\n",
    "options.minimizer_type = PyCeres.MinimizerType.TRUST_REGION\n",
    "options.linear_solver_type = PyCeres.LinearSolverType.SPARSE_NORMAL_CHOLESKY\n",
    "#options.parameter_tolerance = 1e-4\n",
    "options.minimizer_progress_to_stdout = True\n",
    "summary = PyCeres.Summary()\n"
   ]
  },
  {
   "cell_type": "code",
   "execution_count": 372,
   "metadata": {},
   "outputs": [
    {
     "name": "stdout",
     "output_type": "stream",
     "text": [
      "iter      cost      cost_change  |gradient|   |step|    tr_ratio  tr_radius  ls_iter  iter_time  total_time\n",
      "   0  3.993054e-01    0.00e+00    1.47e-01   0.00e+00   0.00e+00  1.00e+04        0    3.25e-01    3.25e-01\n",
      "   1  3.292985e-01    7.00e-02    1.16e-01   6.05e+00   1.75e-01  7.85e+03        1    7.25e-01    1.05e+00\n",
      "   2  5.797845e-01   -2.50e-01    1.16e-01   6.24e+00  -7.61e-01  3.93e+03        1    3.63e-01    1.41e+00\n",
      "   3  5.795436e-01   -2.50e-01    1.16e-01   6.24e+00  -7.60e-01  9.81e+02        1    3.42e-01    1.76e+00\n",
      "   4  5.780406e-01   -2.49e-01    1.16e-01   6.19e+00  -7.55e-01  1.23e+02        1    3.44e-01    2.10e+00\n",
      "   5  5.600733e-01   -2.31e-01    1.16e-01   5.83e+00  -7.02e-01  7.67e+00        1    3.74e-01    2.47e+00\n",
      "   6  2.529881e-01    7.63e-02    1.05e-01   3.46e+00   2.47e-01  6.79e+00        1    7.51e-01    3.23e+00\n",
      "   7  2.445811e-01    8.41e-03    1.01e-01   3.40e+00   3.62e-02  3.78e+00        1    7.25e-01    3.95e+00\n",
      "   8  7.628743e-02    1.68e-01    7.47e-02   2.53e+00   7.40e-01  4.24e+00        1    7.39e-01    4.69e+00\n",
      "   9  3.945152e-02    3.68e-02    4.58e-02   1.21e+00   5.40e-01  4.25e+00        1    7.34e-01    5.42e+00\n",
      "  10  1.143862e-02    2.80e-02    1.97e-02   1.08e+00   8.72e-01  7.23e+00        1    6.77e-01    6.10e+00\n",
      "  11  2.600998e-03    8.84e-03    1.26e-02   7.27e-01   9.80e-01  2.17e+01        1    7.61e-01    6.86e+00\n",
      "  12  1.195568e-04    2.48e-03    2.06e-03   4.17e-01   9.88e-01  6.51e+01        1    7.01e-01    7.56e+00\n",
      "  13  2.986279e-05    8.97e-05    2.90e-04   1.58e-01   9.67e-01  1.95e+02        1    6.90e-01    8.25e+00\n",
      "  14  1.145472e-05    1.84e-05    3.99e-04   1.89e-01   8.45e-01  2.91e+02        1    7.49e-01    9.00e+00\n",
      "  15  5.216898e-06    6.24e-06    2.26e-04   1.34e-01   8.42e-01  4.27e+02        1    7.06e-01    9.71e+00\n",
      "  16  3.053583e-06    2.16e-06    1.44e-04   1.03e-01   8.05e-01  5.52e+02        1    7.52e-01    1.05e+01\n",
      "  17  2.293501e-06    7.60e-07    8.65e-05   7.44e-02   7.72e-01  6.58e+02        1    7.30e-01    1.12e+01\n",
      "  18  2.044963e-06    2.49e-07    4.72e-05   4.94e-02   7.53e-01  7.56e+02        1    6.68e-01    1.19e+01\n",
      "  19  1.965539e-06    7.94e-08    2.37e-05   3.22e-02   7.79e-01  9.14e+02        1    6.89e-01    1.25e+01\n",
      "  20  1.926900e-06    3.86e-08    1.27e-05   2.72e-02   8.81e-01  1.64e+03        1    7.02e-01    1.32e+01\n",
      "  21  1.876462e-06    5.04e-08    1.77e-05   4.34e-02   9.49e-01  4.92e+03        1    6.60e-01    1.39e+01\n",
      "  22  1.873818e-06    2.64e-09    1.64e-04   1.24e-01   1.78e-02  2.59e+03        1    6.25e-01    1.45e+01\n",
      "  23  1.660103e-06    2.14e-07    4.07e-05   6.59e-02   9.51e-01  7.78e+03        1    6.24e-01    1.52e+01\n",
      "  24  2.232154e-06   -5.72e-07    4.07e-05   1.83e-01  -2.65e+00  3.89e+03        1    3.66e-01    1.55e+01\n",
      "  25  1.599051e-06    6.11e-08    9.96e-05   9.44e-02   5.17e-01  3.89e+03        1    6.54e-01    1.62e+01\n",
      "  26  1.486738e-06    1.12e-07    7.74e-05   9.03e-02   7.34e-01  4.33e+03        1    6.79e-01    1.69e+01\n",
      "  27  1.433246e-06    5.35e-08    1.16e-04   9.27e-02   4.00e-01  4.30e+03        1    7.32e-01    1.76e+01\n",
      "  28  1.341021e-06    9.22e-08    9.65e-05   8.73e-02   5.83e-01  4.32e+03        1    6.63e-01    1.83e+01\n",
      "  29  1.330480e-06    1.05e-08    1.31e-04   8.07e-02   7.77e-02  2.69e+03        1    6.54e-01    1.89e+01\n",
      "  30  1.222871e-06    1.08e-07    4.89e-05   5.41e-02   6.91e-01  2.85e+03        1    6.70e-01    1.96e+01\n",
      "  31  1.178978e-06    4.39e-08    4.02e-05   4.45e-02   7.16e-01  3.10e+03        1    7.67e-01    2.03e+01\n",
      "  32  1.149041e-06    2.99e-08    2.52e-05   4.36e-02   7.79e-01  3.75e+03        1    7.16e-01    2.11e+01\n"
     ]
    },
    {
     "ename": "KeyboardInterrupt",
     "evalue": "",
     "output_type": "error",
     "traceback": [
      "\u001b[0;31m---------------------------------------------------------------------------\u001b[0m",
      "\u001b[0;31mKeyboardInterrupt\u001b[0m                         Traceback (most recent call last)",
      "Cell \u001b[0;32mIn[372], line 1\u001b[0m\n\u001b[0;32m----> 1\u001b[0m PyCeres\u001b[39m.\u001b[39;49mSolve(options, problem, summary)\n",
      "Cell \u001b[0;32mIn[363], line 15\u001b[0m, in \u001b[0;36mGraspProb.Evaluate\u001b[0;34m(self, parameters, residuals, jacobians)\u001b[0m\n\u001b[1;32m     13\u001b[0m \u001b[39mdef\u001b[39;00m \u001b[39mEvaluate\u001b[39m(\u001b[39mself\u001b[39m, parameters, residuals, jacobians):\n\u001b[1;32m     14\u001b[0m     grasp \u001b[39m=\u001b[39m parameters[\u001b[39m0\u001b[39m]\n\u001b[0;32m---> 15\u001b[0m     viol, jac \u001b[39m=\u001b[39m jax\u001b[39m.\u001b[39;49mvalue_and_grad(clipped_logit_viol)(grasp)\n\u001b[1;32m     16\u001b[0m     residuals[\u001b[39m0\u001b[39m] \u001b[39m=\u001b[39m \u001b[39mself\u001b[39m\u001b[39m.\u001b[39mweight \u001b[39m*\u001b[39m viol\n\u001b[1;32m     17\u001b[0m     \u001b[39mif\u001b[39;00m (jacobians \u001b[39m!=\u001b[39m \u001b[39mNone\u001b[39;00m):\n",
      "    \u001b[0;31m[... skipping hidden 1 frame]\u001b[0m\n",
      "File \u001b[0;32m~/miniconda3/envs/cu11/lib/python3.8/site-packages/jax/_src/api.py:735\u001b[0m, in \u001b[0;36mvalue_and_grad.<locals>.value_and_grad_f\u001b[0;34m(*args, **kwargs)\u001b[0m\n\u001b[1;32m    733\u001b[0m   _check_input_dtype_grad(holomorphic, allow_int, leaf)\n\u001b[1;32m    734\u001b[0m \u001b[39mif\u001b[39;00m \u001b[39mnot\u001b[39;00m has_aux:\n\u001b[0;32m--> 735\u001b[0m   ans, vjp_py \u001b[39m=\u001b[39m _vjp(f_partial, \u001b[39m*\u001b[39;49mdyn_args, reduce_axes\u001b[39m=\u001b[39;49mreduce_axes)\n\u001b[1;32m    736\u001b[0m \u001b[39melse\u001b[39;00m:\n\u001b[1;32m    737\u001b[0m   ans, vjp_py, aux \u001b[39m=\u001b[39m _vjp(\n\u001b[1;32m    738\u001b[0m       f_partial, \u001b[39m*\u001b[39mdyn_args, has_aux\u001b[39m=\u001b[39m\u001b[39mTrue\u001b[39;00m, reduce_axes\u001b[39m=\u001b[39mreduce_axes)\n",
      "File \u001b[0;32m~/miniconda3/envs/cu11/lib/python3.8/site-packages/jax/_src/api.py:2258\u001b[0m, in \u001b[0;36m_vjp\u001b[0;34m(fun, has_aux, reduce_axes, *primals)\u001b[0m\n\u001b[1;32m   2256\u001b[0m \u001b[39mif\u001b[39;00m \u001b[39mnot\u001b[39;00m has_aux:\n\u001b[1;32m   2257\u001b[0m   flat_fun, out_tree \u001b[39m=\u001b[39m flatten_fun_nokwargs(fun, in_tree)\n\u001b[0;32m-> 2258\u001b[0m   out_primal, out_vjp \u001b[39m=\u001b[39m ad\u001b[39m.\u001b[39;49mvjp(\n\u001b[1;32m   2259\u001b[0m       flat_fun, primals_flat, reduce_axes\u001b[39m=\u001b[39;49mreduce_axes)\n\u001b[1;32m   2260\u001b[0m   out_tree \u001b[39m=\u001b[39m out_tree()\n\u001b[1;32m   2261\u001b[0m \u001b[39melse\u001b[39;00m:\n",
      "File \u001b[0;32m~/miniconda3/envs/cu11/lib/python3.8/site-packages/jax/_src/interpreters/ad.py:139\u001b[0m, in \u001b[0;36mvjp\u001b[0;34m(traceable, primals, has_aux, reduce_axes)\u001b[0m\n\u001b[1;32m    137\u001b[0m \u001b[39mdef\u001b[39;00m \u001b[39mvjp\u001b[39m(traceable, primals, has_aux\u001b[39m=\u001b[39m\u001b[39mFalse\u001b[39;00m, reduce_axes\u001b[39m=\u001b[39m()):\n\u001b[1;32m    138\u001b[0m   \u001b[39mif\u001b[39;00m \u001b[39mnot\u001b[39;00m has_aux:\n\u001b[0;32m--> 139\u001b[0m     out_primals, pvals, jaxpr, consts \u001b[39m=\u001b[39m linearize(traceable, \u001b[39m*\u001b[39;49mprimals)\n\u001b[1;32m    140\u001b[0m   \u001b[39melse\u001b[39;00m:\n\u001b[1;32m    141\u001b[0m     out_primals, pvals, jaxpr, consts, aux \u001b[39m=\u001b[39m linearize(traceable, \u001b[39m*\u001b[39mprimals, has_aux\u001b[39m=\u001b[39m\u001b[39mTrue\u001b[39;00m)\n",
      "File \u001b[0;32m~/miniconda3/envs/cu11/lib/python3.8/site-packages/jax/_src/interpreters/ad.py:128\u001b[0m, in \u001b[0;36mlinearize\u001b[0;34m(traceable, *primals, **kwargs)\u001b[0m\n\u001b[1;32m    126\u001b[0m _, in_tree \u001b[39m=\u001b[39m tree_flatten(((primals, primals), {}))\n\u001b[1;32m    127\u001b[0m jvpfun_flat, out_tree \u001b[39m=\u001b[39m flatten_fun(jvpfun, in_tree)\n\u001b[0;32m--> 128\u001b[0m jaxpr, out_pvals, consts \u001b[39m=\u001b[39m pe\u001b[39m.\u001b[39;49mtrace_to_jaxpr_nounits(jvpfun_flat, in_pvals)\n\u001b[1;32m    129\u001b[0m out_primals_pvals, out_tangents_pvals \u001b[39m=\u001b[39m tree_unflatten(out_tree(), out_pvals)\n\u001b[1;32m    130\u001b[0m \u001b[39massert\u001b[39;00m \u001b[39mall\u001b[39m(out_primal_pval\u001b[39m.\u001b[39mis_known() \u001b[39mfor\u001b[39;00m out_primal_pval \u001b[39min\u001b[39;00m out_primals_pvals)\n",
      "File \u001b[0;32m~/miniconda3/envs/cu11/lib/python3.8/site-packages/jax/_src/profiler.py:314\u001b[0m, in \u001b[0;36mannotate_function.<locals>.wrapper\u001b[0;34m(*args, **kwargs)\u001b[0m\n\u001b[1;32m    311\u001b[0m \u001b[39m@wraps\u001b[39m(func)\n\u001b[1;32m    312\u001b[0m \u001b[39mdef\u001b[39;00m \u001b[39mwrapper\u001b[39m(\u001b[39m*\u001b[39margs, \u001b[39m*\u001b[39m\u001b[39m*\u001b[39mkwargs):\n\u001b[1;32m    313\u001b[0m   \u001b[39mwith\u001b[39;00m TraceAnnotation(name, \u001b[39m*\u001b[39m\u001b[39m*\u001b[39mdecorator_kwargs):\n\u001b[0;32m--> 314\u001b[0m     \u001b[39mreturn\u001b[39;00m func(\u001b[39m*\u001b[39;49margs, \u001b[39m*\u001b[39;49m\u001b[39m*\u001b[39;49mkwargs)\n\u001b[1;32m    315\u001b[0m   \u001b[39mreturn\u001b[39;00m wrapper\n",
      "File \u001b[0;32m~/miniconda3/envs/cu11/lib/python3.8/site-packages/jax/_src/interpreters/partial_eval.py:771\u001b[0m, in \u001b[0;36mtrace_to_jaxpr_nounits\u001b[0;34m(fun, pvals, instantiate)\u001b[0m\n\u001b[1;32m    769\u001b[0m \u001b[39mwith\u001b[39;00m core\u001b[39m.\u001b[39mnew_main(JaxprTrace, name_stack\u001b[39m=\u001b[39mcurrent_name_stack) \u001b[39mas\u001b[39;00m main:\n\u001b[1;32m    770\u001b[0m   fun \u001b[39m=\u001b[39m trace_to_subjaxpr_nounits(fun, main, instantiate)\n\u001b[0;32m--> 771\u001b[0m   jaxpr, (out_pvals, consts, env) \u001b[39m=\u001b[39m fun\u001b[39m.\u001b[39;49mcall_wrapped(pvals)\n\u001b[1;32m    772\u001b[0m   \u001b[39massert\u001b[39;00m \u001b[39mnot\u001b[39;00m env\n\u001b[1;32m    773\u001b[0m   \u001b[39mdel\u001b[39;00m main, fun, env\n",
      "File \u001b[0;32m~/miniconda3/envs/cu11/lib/python3.8/site-packages/jax/_src/linear_util.py:166\u001b[0m, in \u001b[0;36mWrappedFun.call_wrapped\u001b[0;34m(self, *args, **kwargs)\u001b[0m\n\u001b[1;32m    163\u001b[0m gen \u001b[39m=\u001b[39m gen_static_args \u001b[39m=\u001b[39m out_store \u001b[39m=\u001b[39m \u001b[39mNone\u001b[39;00m\n\u001b[1;32m    165\u001b[0m \u001b[39mtry\u001b[39;00m:\n\u001b[0;32m--> 166\u001b[0m   ans \u001b[39m=\u001b[39m \u001b[39mself\u001b[39;49m\u001b[39m.\u001b[39;49mf(\u001b[39m*\u001b[39;49margs, \u001b[39m*\u001b[39;49m\u001b[39m*\u001b[39;49m\u001b[39mdict\u001b[39;49m(\u001b[39mself\u001b[39;49m\u001b[39m.\u001b[39;49mparams, \u001b[39m*\u001b[39;49m\u001b[39m*\u001b[39;49mkwargs))\n\u001b[1;32m    167\u001b[0m \u001b[39mexcept\u001b[39;00m:\n\u001b[1;32m    168\u001b[0m   \u001b[39m# Some transformations yield from inside context managers, so we have to\u001b[39;00m\n\u001b[1;32m    169\u001b[0m   \u001b[39m# interrupt them before reraising the exception. Otherwise they will only\u001b[39;00m\n\u001b[1;32m    170\u001b[0m   \u001b[39m# get garbage-collected at some later time, running their cleanup tasks\u001b[39;00m\n\u001b[1;32m    171\u001b[0m   \u001b[39m# only after this exception is handled, which can corrupt the global\u001b[39;00m\n\u001b[1;32m    172\u001b[0m   \u001b[39m# state.\u001b[39;00m\n\u001b[1;32m    173\u001b[0m   \u001b[39mwhile\u001b[39;00m stack:\n",
      "Cell \u001b[0;32mIn[363], line 1\u001b[0m, in \u001b[0;36m<lambda>\u001b[0;34m(g)\u001b[0m\n\u001b[0;32m----> 1\u001b[0m clipped_logit_viol \u001b[39m=\u001b[39m \u001b[39mlambda\u001b[39;00m g: jnp\u001b[39m.\u001b[39mclip(\u001b[39m1.\u001b[39m \u001b[39m-\u001b[39m grasp_logit_fn(g), a_min\u001b[39m=\u001b[39m\u001b[39m0.\u001b[39m)\n\u001b[1;32m      2\u001b[0m \u001b[39mclass\u001b[39;00m \u001b[39mGraspProb\u001b[39;00m(PyCeres\u001b[39m.\u001b[39mCostFunction):\n\u001b[1;32m      3\u001b[0m     \u001b[39mdef\u001b[39;00m \u001b[39m__init__\u001b[39m(\u001b[39mself\u001b[39m):\n",
      "Cell \u001b[0;32mIn[45], line 27\u001b[0m, in \u001b[0;36m<lambda>\u001b[0;34m(g)\u001b[0m\n\u001b[1;32m     25\u001b[0m     trans \u001b[39m=\u001b[39m g\u001b[39m/\u001b[39mscale_to_norm\n\u001b[1;32m     26\u001b[0m     \u001b[39mreturn\u001b[39;00m SE3\u001b[39m.\u001b[39mfrom_rotation_and_translation(rot, trans)\n\u001b[0;32m---> 27\u001b[0m grasp_logit_fn \u001b[39m=\u001b[39m \u001b[39mlambda\u001b[39;00m g: grasp_fn(g)[\u001b[39m0\u001b[39m]\n",
      "Cell \u001b[0;32mIn[45], line 19\u001b[0m, in \u001b[0;36m<lambda>\u001b[0;34m(x)\u001b[0m\n\u001b[1;32m     17\u001b[0m params \u001b[39m=\u001b[39m raw_restored[\u001b[39m\"\u001b[39m\u001b[39mparams\u001b[39m\u001b[39m\"\u001b[39m]\n\u001b[1;32m     18\u001b[0m grasp_net \u001b[39m=\u001b[39m GraspNet(raw_restored[\u001b[39m\"\u001b[39m\u001b[39mhidden_dim\u001b[39m\u001b[39m\"\u001b[39m])\n\u001b[0;32m---> 19\u001b[0m grasp_fn \u001b[39m=\u001b[39m \u001b[39mlambda\u001b[39;00m x: grasp_net\u001b[39m.\u001b[39;49mapply(params, x)\n\u001b[1;32m     20\u001b[0m \u001b[39mwith\u001b[39;00m \u001b[39mopen\u001b[39m(\u001b[39m\"\u001b[39m\u001b[39m./sdf_world/assets/object\u001b[39m\u001b[39m\"\u001b[39m\u001b[39m+\u001b[39m\u001b[39m'\u001b[39m\u001b[39m/info.pkl\u001b[39m\u001b[39m'\u001b[39m, \u001b[39m'\u001b[39m\u001b[39mrb\u001b[39m\u001b[39m'\u001b[39m) \u001b[39mas\u001b[39;00m f:\n\u001b[1;32m     21\u001b[0m     obj_data \u001b[39m=\u001b[39m pickle\u001b[39m.\u001b[39mload(f)\n",
      "    \u001b[0;31m[... skipping hidden 1 frame]\u001b[0m\n",
      "File \u001b[0;32m~/miniconda3/envs/cu11/lib/python3.8/site-packages/flax/linen/module.py:1485\u001b[0m, in \u001b[0;36mModule.apply\u001b[0;34m(self, variables, rngs, method, mutable, capture_intermediates, *args, **kwargs)\u001b[0m\n\u001b[1;32m   1483\u001b[0m   method \u001b[39m=\u001b[39m \u001b[39mself\u001b[39m\u001b[39m.\u001b[39m\u001b[39m__call__\u001b[39m\n\u001b[1;32m   1484\u001b[0m method \u001b[39m=\u001b[39m _get_unbound_fn(method)\n\u001b[0;32m-> 1485\u001b[0m \u001b[39mreturn\u001b[39;00m apply(\n\u001b[1;32m   1486\u001b[0m     method, \u001b[39mself\u001b[39;49m,\n\u001b[1;32m   1487\u001b[0m     mutable\u001b[39m=\u001b[39;49mmutable,\n\u001b[1;32m   1488\u001b[0m     capture_intermediates\u001b[39m=\u001b[39;49mcapture_intermediates,\n\u001b[1;32m   1489\u001b[0m )(variables, \u001b[39m*\u001b[39;49margs, \u001b[39m*\u001b[39;49m\u001b[39m*\u001b[39;49mkwargs, rngs\u001b[39m=\u001b[39;49mrngs)\n",
      "File \u001b[0;32m~/miniconda3/envs/cu11/lib/python3.8/site-packages/flax/core/scope.py:933\u001b[0m, in \u001b[0;36mapply.<locals>.wrapper\u001b[0;34m(variables, rngs, *args, **kwargs)\u001b[0m\n\u001b[1;32m    929\u001b[0m   \u001b[39mraise\u001b[39;00m errors\u001b[39m.\u001b[39mApplyScopeInvalidVariablesStructureError(variables)\n\u001b[1;32m    931\u001b[0m \u001b[39mwith\u001b[39;00m bind(variables, rngs\u001b[39m=\u001b[39mrngs, mutable\u001b[39m=\u001b[39mmutable,\n\u001b[1;32m    932\u001b[0m           flags\u001b[39m=\u001b[39mflags)\u001b[39m.\u001b[39mtemporary() \u001b[39mas\u001b[39;00m root:\n\u001b[0;32m--> 933\u001b[0m   y \u001b[39m=\u001b[39m fn(root, \u001b[39m*\u001b[39;49margs, \u001b[39m*\u001b[39;49m\u001b[39m*\u001b[39;49mkwargs)\n\u001b[1;32m    934\u001b[0m \u001b[39mif\u001b[39;00m mutable \u001b[39mis\u001b[39;00m \u001b[39mnot\u001b[39;00m \u001b[39mFalse\u001b[39;00m:\n\u001b[1;32m    935\u001b[0m   \u001b[39mreturn\u001b[39;00m y, root\u001b[39m.\u001b[39mmutable_variables()\n",
      "File \u001b[0;32m~/miniconda3/envs/cu11/lib/python3.8/site-packages/flax/linen/module.py:2056\u001b[0m, in \u001b[0;36mapply.<locals>.scope_fn\u001b[0;34m(scope, *args, **kwargs)\u001b[0m\n\u001b[1;32m   2054\u001b[0m _context\u001b[39m.\u001b[39mcapture_stack\u001b[39m.\u001b[39mappend(capture_intermediates)\n\u001b[1;32m   2055\u001b[0m \u001b[39mtry\u001b[39;00m:\n\u001b[0;32m-> 2056\u001b[0m   \u001b[39mreturn\u001b[39;00m fn(module\u001b[39m.\u001b[39;49mclone(parent\u001b[39m=\u001b[39;49mscope), \u001b[39m*\u001b[39;49margs, \u001b[39m*\u001b[39;49m\u001b[39m*\u001b[39;49mkwargs)\n\u001b[1;32m   2057\u001b[0m \u001b[39mfinally\u001b[39;00m:\n\u001b[1;32m   2058\u001b[0m   _context\u001b[39m.\u001b[39mcapture_stack\u001b[39m.\u001b[39mpop()\n",
      "File \u001b[0;32m~/miniconda3/envs/cu11/lib/python3.8/site-packages/flax/linen/module.py:428\u001b[0m, in \u001b[0;36mwrap_method_once.<locals>.wrapped_module_method\u001b[0;34m(*args, **kwargs)\u001b[0m\n\u001b[1;32m    426\u001b[0m \u001b[39mif\u001b[39;00m args \u001b[39mand\u001b[39;00m \u001b[39misinstance\u001b[39m(args[\u001b[39m0\u001b[39m], Module):\n\u001b[1;32m    427\u001b[0m   \u001b[39mself\u001b[39m, args \u001b[39m=\u001b[39m args[\u001b[39m0\u001b[39m], args[\u001b[39m1\u001b[39m:]\n\u001b[0;32m--> 428\u001b[0m   \u001b[39mreturn\u001b[39;00m \u001b[39mself\u001b[39;49m\u001b[39m.\u001b[39;49m_call_wrapped_method(fun, args, kwargs)\n\u001b[1;32m    429\u001b[0m \u001b[39melse\u001b[39;00m:\n\u001b[1;32m    430\u001b[0m   \u001b[39mreturn\u001b[39;00m fun(\u001b[39m*\u001b[39margs, \u001b[39m*\u001b[39m\u001b[39m*\u001b[39mkwargs)\n",
      "File \u001b[0;32m~/miniconda3/envs/cu11/lib/python3.8/site-packages/flax/linen/module.py:860\u001b[0m, in \u001b[0;36mModule._call_wrapped_method\u001b[0;34m(self, fun, args, kwargs)\u001b[0m\n\u001b[1;32m    858\u001b[0m \u001b[39mif\u001b[39;00m _use_named_call:\n\u001b[1;32m    859\u001b[0m   \u001b[39mwith\u001b[39;00m jax\u001b[39m.\u001b[39mnamed_scope(_derive_profiling_name(\u001b[39mself\u001b[39m, fun)):\n\u001b[0;32m--> 860\u001b[0m     y \u001b[39m=\u001b[39m fun(\u001b[39mself\u001b[39;49m, \u001b[39m*\u001b[39;49margs, \u001b[39m*\u001b[39;49m\u001b[39m*\u001b[39;49mkwargs)\n\u001b[1;32m    861\u001b[0m \u001b[39melse\u001b[39;00m:\n\u001b[1;32m    862\u001b[0m   y \u001b[39m=\u001b[39m fun(\u001b[39mself\u001b[39m, \u001b[39m*\u001b[39margs, \u001b[39m*\u001b[39m\u001b[39m*\u001b[39mkwargs)\n",
      "Cell \u001b[0;32mIn[45], line 8\u001b[0m, in \u001b[0;36mGraspNet.__call__\u001b[0;34m(self, x)\u001b[0m\n\u001b[1;32m      6\u001b[0m x \u001b[39m=\u001b[39m nn\u001b[39m.\u001b[39mDense(features\u001b[39m=\u001b[39m\u001b[39mself\u001b[39m\u001b[39m.\u001b[39mhidden_dim)(x)\n\u001b[1;32m      7\u001b[0m x \u001b[39m=\u001b[39m nn\u001b[39m.\u001b[39mrelu(x)\n\u001b[0;32m----> 8\u001b[0m x \u001b[39m=\u001b[39m nn\u001b[39m.\u001b[39;49mDense(features\u001b[39m=\u001b[39;49m\u001b[39mself\u001b[39;49m\u001b[39m.\u001b[39;49mhidden_dim)(x)\n\u001b[1;32m      9\u001b[0m x \u001b[39m=\u001b[39m nn\u001b[39m.\u001b[39mrelu(x)\n\u001b[1;32m     10\u001b[0m x \u001b[39m=\u001b[39m nn\u001b[39m.\u001b[39mDense(features\u001b[39m=\u001b[39m\u001b[39mself\u001b[39m\u001b[39m.\u001b[39mhidden_dim)(x)\n",
      "File \u001b[0;32m~/miniconda3/envs/cu11/lib/python3.8/site-packages/flax/linen/module.py:428\u001b[0m, in \u001b[0;36mwrap_method_once.<locals>.wrapped_module_method\u001b[0;34m(*args, **kwargs)\u001b[0m\n\u001b[1;32m    426\u001b[0m \u001b[39mif\u001b[39;00m args \u001b[39mand\u001b[39;00m \u001b[39misinstance\u001b[39m(args[\u001b[39m0\u001b[39m], Module):\n\u001b[1;32m    427\u001b[0m   \u001b[39mself\u001b[39m, args \u001b[39m=\u001b[39m args[\u001b[39m0\u001b[39m], args[\u001b[39m1\u001b[39m:]\n\u001b[0;32m--> 428\u001b[0m   \u001b[39mreturn\u001b[39;00m \u001b[39mself\u001b[39;49m\u001b[39m.\u001b[39;49m_call_wrapped_method(fun, args, kwargs)\n\u001b[1;32m    429\u001b[0m \u001b[39melse\u001b[39;00m:\n\u001b[1;32m    430\u001b[0m   \u001b[39mreturn\u001b[39;00m fun(\u001b[39m*\u001b[39margs, \u001b[39m*\u001b[39m\u001b[39m*\u001b[39mkwargs)\n",
      "File \u001b[0;32m~/miniconda3/envs/cu11/lib/python3.8/site-packages/flax/linen/module.py:860\u001b[0m, in \u001b[0;36mModule._call_wrapped_method\u001b[0;34m(self, fun, args, kwargs)\u001b[0m\n\u001b[1;32m    858\u001b[0m \u001b[39mif\u001b[39;00m _use_named_call:\n\u001b[1;32m    859\u001b[0m   \u001b[39mwith\u001b[39;00m jax\u001b[39m.\u001b[39mnamed_scope(_derive_profiling_name(\u001b[39mself\u001b[39m, fun)):\n\u001b[0;32m--> 860\u001b[0m     y \u001b[39m=\u001b[39m fun(\u001b[39mself\u001b[39;49m, \u001b[39m*\u001b[39;49margs, \u001b[39m*\u001b[39;49m\u001b[39m*\u001b[39;49mkwargs)\n\u001b[1;32m    861\u001b[0m \u001b[39melse\u001b[39;00m:\n\u001b[1;32m    862\u001b[0m   y \u001b[39m=\u001b[39m fun(\u001b[39mself\u001b[39m, \u001b[39m*\u001b[39margs, \u001b[39m*\u001b[39m\u001b[39m*\u001b[39mkwargs)\n",
      "File \u001b[0;32m~/miniconda3/envs/cu11/lib/python3.8/site-packages/flax/linen/linear.py:196\u001b[0m, in \u001b[0;36mDense.__call__\u001b[0;34m(self, inputs)\u001b[0m\n\u001b[1;32m    186\u001b[0m \u001b[39m@compact\u001b[39m\n\u001b[1;32m    187\u001b[0m \u001b[39mdef\u001b[39;00m \u001b[39m__call__\u001b[39m(\u001b[39mself\u001b[39m, inputs: Array) \u001b[39m-\u001b[39m\u001b[39m>\u001b[39m Array:\n\u001b[1;32m    188\u001b[0m \u001b[39m  \u001b[39m\u001b[39m\"\"\"Applies a linear transformation to the inputs along the last dimension.\u001b[39;00m\n\u001b[1;32m    189\u001b[0m \n\u001b[1;32m    190\u001b[0m \u001b[39m  Args:\u001b[39;00m\n\u001b[0;32m   (...)\u001b[0m\n\u001b[1;32m    194\u001b[0m \u001b[39m    The transformed input.\u001b[39;00m\n\u001b[1;32m    195\u001b[0m \u001b[39m  \"\"\"\u001b[39;00m\n\u001b[0;32m--> 196\u001b[0m   kernel \u001b[39m=\u001b[39m \u001b[39mself\u001b[39;49m\u001b[39m.\u001b[39;49mparam(\u001b[39m'\u001b[39;49m\u001b[39mkernel\u001b[39;49m\u001b[39m'\u001b[39;49m,\n\u001b[1;32m    197\u001b[0m                       \u001b[39mself\u001b[39;49m\u001b[39m.\u001b[39;49mkernel_init,\n\u001b[1;32m    198\u001b[0m                       (jnp\u001b[39m.\u001b[39;49mshape(inputs)[\u001b[39m-\u001b[39;49m\u001b[39m1\u001b[39;49m], \u001b[39mself\u001b[39;49m\u001b[39m.\u001b[39;49mfeatures),\n\u001b[1;32m    199\u001b[0m                       \u001b[39mself\u001b[39;49m\u001b[39m.\u001b[39;49mparam_dtype)\n\u001b[1;32m    200\u001b[0m   \u001b[39mif\u001b[39;00m \u001b[39mself\u001b[39m\u001b[39m.\u001b[39muse_bias:\n\u001b[1;32m    201\u001b[0m     bias \u001b[39m=\u001b[39m \u001b[39mself\u001b[39m\u001b[39m.\u001b[39mparam(\u001b[39m'\u001b[39m\u001b[39mbias\u001b[39m\u001b[39m'\u001b[39m, \u001b[39mself\u001b[39m\u001b[39m.\u001b[39mbias_init, (\u001b[39mself\u001b[39m\u001b[39m.\u001b[39mfeatures,),\n\u001b[1;32m    202\u001b[0m                       \u001b[39mself\u001b[39m\u001b[39m.\u001b[39mparam_dtype)\n",
      "File \u001b[0;32m~/miniconda3/envs/cu11/lib/python3.8/site-packages/flax/linen/module.py:1237\u001b[0m, in \u001b[0;36mModule.param\u001b[0;34m(self, name, init_fn, unbox, *init_args)\u001b[0m\n\u001b[1;32m   1235\u001b[0m   \u001b[39mraise\u001b[39;00m errors\u001b[39m.\u001b[39mNameInUseError(\u001b[39m'\u001b[39m\u001b[39mparam\u001b[39m\u001b[39m'\u001b[39m, name, \u001b[39mself\u001b[39m\u001b[39m.\u001b[39m\u001b[39m__class__\u001b[39m\u001b[39m.\u001b[39m\u001b[39m__name__\u001b[39m)\n\u001b[1;32m   1236\u001b[0m \u001b[39massert\u001b[39;00m \u001b[39mself\u001b[39m\u001b[39m.\u001b[39mscope \u001b[39mis\u001b[39;00m \u001b[39mnot\u001b[39;00m \u001b[39mNone\u001b[39;00m\n\u001b[0;32m-> 1237\u001b[0m v \u001b[39m=\u001b[39m \u001b[39mself\u001b[39;49m\u001b[39m.\u001b[39;49mscope\u001b[39m.\u001b[39;49mparam(name, init_fn, \u001b[39m*\u001b[39;49minit_args, unbox\u001b[39m=\u001b[39;49munbox)\n\u001b[1;32m   1238\u001b[0m \u001b[39mself\u001b[39m\u001b[39m.\u001b[39m_state\u001b[39m.\u001b[39mchildren[name] \u001b[39m=\u001b[39m \u001b[39m'\u001b[39m\u001b[39mparams\u001b[39m\u001b[39m'\u001b[39m\n\u001b[1;32m   1239\u001b[0m \u001b[39mreturn\u001b[39;00m v\n",
      "File \u001b[0;32m~/miniconda3/envs/cu11/lib/python3.8/site-packages/flax/core/scope.py:827\u001b[0m, in \u001b[0;36mScope.param\u001b[0;34m(self, name, init_fn, unbox, *init_args)\u001b[0m\n\u001b[1;32m    821\u001b[0m value \u001b[39m=\u001b[39m \u001b[39mself\u001b[39m\u001b[39m.\u001b[39mget_variable(\u001b[39m'\u001b[39m\u001b[39mparams\u001b[39m\u001b[39m'\u001b[39m, name)\n\u001b[1;32m    822\u001b[0m \u001b[39m# Validate that the shape of the init_fn output is the same as the shape\u001b[39;00m\n\u001b[1;32m    823\u001b[0m \u001b[39m# of the existing parameter. This is to make sure that the hparams set up\u001b[39;00m\n\u001b[1;32m    824\u001b[0m \u001b[39m# in a Flax Module match the shapes coming in during apply, and if not,\u001b[39;00m\n\u001b[1;32m    825\u001b[0m \u001b[39m# catch it with an error message.\u001b[39;00m\n\u001b[1;32m    826\u001b[0m \u001b[39m# NOTE: We could consider moving this to `self.`\u001b[39;00m\n\u001b[0;32m--> 827\u001b[0m abs_value \u001b[39m=\u001b[39m jax\u001b[39m.\u001b[39;49meval_shape(\u001b[39mlambda\u001b[39;49;00m rng: init_fn(rng, \u001b[39m*\u001b[39;49minit_args), abs_rng)\n\u001b[1;32m    828\u001b[0m abs_value_flat \u001b[39m=\u001b[39m jax\u001b[39m.\u001b[39mtree_util\u001b[39m.\u001b[39mtree_leaves(abs_value)\n\u001b[1;32m    829\u001b[0m value_flat \u001b[39m=\u001b[39m jax\u001b[39m.\u001b[39mtree_util\u001b[39m.\u001b[39mtree_leaves(value)\n",
      "    \u001b[0;31m[... skipping hidden 1 frame]\u001b[0m\n",
      "File \u001b[0;32m~/miniconda3/envs/cu11/lib/python3.8/site-packages/jax/_src/api.py:2829\u001b[0m, in \u001b[0;36meval_shape\u001b[0;34m(fun, *args, **kwargs)\u001b[0m\n\u001b[1;32m   2827\u001b[0m wrapped_fun, out_tree \u001b[39m=\u001b[39m flatten_fun(lu\u001b[39m.\u001b[39mwrap_init(fun), in_tree)\n\u001b[1;32m   2828\u001b[0m debug_info \u001b[39m=\u001b[39m pe\u001b[39m.\u001b[39mdebug_info(fun, in_tree, out_tree, \u001b[39mTrue\u001b[39;00m, \u001b[39m\"\u001b[39m\u001b[39meval_shape\u001b[39m\u001b[39m\"\u001b[39m)\n\u001b[0;32m-> 2829\u001b[0m out \u001b[39m=\u001b[39m pe\u001b[39m.\u001b[39;49mabstract_eval_fun(wrapped_fun\u001b[39m.\u001b[39;49mcall_wrapped,\n\u001b[1;32m   2830\u001b[0m                            \u001b[39m*\u001b[39;49m\u001b[39mmap\u001b[39;49m(shaped_abstractify, args_flat),\n\u001b[1;32m   2831\u001b[0m                            debug_info\u001b[39m=\u001b[39;49mdebug_info)\n\u001b[1;32m   2832\u001b[0m out \u001b[39m=\u001b[39m [ShapeDtypeStruct(x\u001b[39m.\u001b[39mshape, x\u001b[39m.\u001b[39mdtype, x\u001b[39m.\u001b[39mnamed_shape) \u001b[39mfor\u001b[39;00m x \u001b[39min\u001b[39;00m out]\n\u001b[1;32m   2833\u001b[0m \u001b[39mreturn\u001b[39;00m tree_unflatten(out_tree(), out)\n",
      "File \u001b[0;32m~/miniconda3/envs/cu11/lib/python3.8/site-packages/jax/_src/interpreters/partial_eval.py:664\u001b[0m, in \u001b[0;36mabstract_eval_fun\u001b[0;34m(fun, debug_info, *avals, **params)\u001b[0m\n\u001b[1;32m    663\u001b[0m \u001b[39mdef\u001b[39;00m \u001b[39mabstract_eval_fun\u001b[39m(fun, \u001b[39m*\u001b[39mavals, debug_info\u001b[39m=\u001b[39m\u001b[39mNone\u001b[39;00m, \u001b[39m*\u001b[39m\u001b[39m*\u001b[39mparams):\n\u001b[0;32m--> 664\u001b[0m   _, avals_out, _ \u001b[39m=\u001b[39m trace_to_jaxpr_dynamic(\n\u001b[1;32m    665\u001b[0m       lu\u001b[39m.\u001b[39;49mwrap_init(fun, params), avals, debug_info)\n\u001b[1;32m    666\u001b[0m   \u001b[39massert\u001b[39;00m \u001b[39mall\u001b[39m(\u001b[39misinstance\u001b[39m(aval, AbstractValue) \u001b[39mfor\u001b[39;00m aval \u001b[39min\u001b[39;00m avals_out)\n\u001b[1;32m    667\u001b[0m   \u001b[39mreturn\u001b[39;00m avals_out\n",
      "File \u001b[0;32m~/miniconda3/envs/cu11/lib/python3.8/site-packages/jax/_src/profiler.py:314\u001b[0m, in \u001b[0;36mannotate_function.<locals>.wrapper\u001b[0;34m(*args, **kwargs)\u001b[0m\n\u001b[1;32m    311\u001b[0m \u001b[39m@wraps\u001b[39m(func)\n\u001b[1;32m    312\u001b[0m \u001b[39mdef\u001b[39;00m \u001b[39mwrapper\u001b[39m(\u001b[39m*\u001b[39margs, \u001b[39m*\u001b[39m\u001b[39m*\u001b[39mkwargs):\n\u001b[1;32m    313\u001b[0m   \u001b[39mwith\u001b[39;00m TraceAnnotation(name, \u001b[39m*\u001b[39m\u001b[39m*\u001b[39mdecorator_kwargs):\n\u001b[0;32m--> 314\u001b[0m     \u001b[39mreturn\u001b[39;00m func(\u001b[39m*\u001b[39;49margs, \u001b[39m*\u001b[39;49m\u001b[39m*\u001b[39;49mkwargs)\n\u001b[1;32m    315\u001b[0m   \u001b[39mreturn\u001b[39;00m wrapper\n",
      "File \u001b[0;32m~/miniconda3/envs/cu11/lib/python3.8/site-packages/jax/_src/interpreters/partial_eval.py:2049\u001b[0m, in \u001b[0;36mtrace_to_jaxpr_dynamic\u001b[0;34m(fun, in_avals, debug_info, keep_inputs)\u001b[0m\n\u001b[1;32m   2047\u001b[0m \u001b[39mwith\u001b[39;00m core\u001b[39m.\u001b[39mnew_main(DynamicJaxprTrace, dynamic\u001b[39m=\u001b[39m\u001b[39mTrue\u001b[39;00m) \u001b[39mas\u001b[39;00m main:  \u001b[39m# type: ignore\u001b[39;00m\n\u001b[1;32m   2048\u001b[0m   main\u001b[39m.\u001b[39mjaxpr_stack \u001b[39m=\u001b[39m ()  \u001b[39m# type: ignore\u001b[39;00m\n\u001b[0;32m-> 2049\u001b[0m   jaxpr, out_avals, consts \u001b[39m=\u001b[39m trace_to_subjaxpr_dynamic(\n\u001b[1;32m   2050\u001b[0m     fun, main, in_avals, keep_inputs\u001b[39m=\u001b[39;49mkeep_inputs, debug_info\u001b[39m=\u001b[39;49mdebug_info)\n\u001b[1;32m   2051\u001b[0m   \u001b[39mdel\u001b[39;00m main, fun\n\u001b[1;32m   2052\u001b[0m \u001b[39mreturn\u001b[39;00m jaxpr, out_avals, consts\n",
      "File \u001b[0;32m~/miniconda3/envs/cu11/lib/python3.8/site-packages/jax/_src/interpreters/partial_eval.py:2066\u001b[0m, in \u001b[0;36mtrace_to_subjaxpr_dynamic\u001b[0;34m(fun, main, in_avals, keep_inputs, debug_info)\u001b[0m\n\u001b[1;32m   2064\u001b[0m in_tracers \u001b[39m=\u001b[39m _input_type_to_tracers(trace\u001b[39m.\u001b[39mnew_arg, in_avals)\n\u001b[1;32m   2065\u001b[0m in_tracers_ \u001b[39m=\u001b[39m [t \u001b[39mfor\u001b[39;00m t, keep \u001b[39min\u001b[39;00m \u001b[39mzip\u001b[39m(in_tracers, keep_inputs) \u001b[39mif\u001b[39;00m keep]\n\u001b[0;32m-> 2066\u001b[0m ans \u001b[39m=\u001b[39m fun\u001b[39m.\u001b[39;49mcall_wrapped(\u001b[39m*\u001b[39;49min_tracers_)\n\u001b[1;32m   2067\u001b[0m out_tracers \u001b[39m=\u001b[39m \u001b[39mmap\u001b[39m(trace\u001b[39m.\u001b[39mfull_raise, ans)\n\u001b[1;32m   2068\u001b[0m jaxpr, consts \u001b[39m=\u001b[39m frame\u001b[39m.\u001b[39mto_jaxpr(out_tracers)\n",
      "File \u001b[0;32m~/miniconda3/envs/cu11/lib/python3.8/site-packages/jax/_src/linear_util.py:166\u001b[0m, in \u001b[0;36mWrappedFun.call_wrapped\u001b[0;34m(self, *args, **kwargs)\u001b[0m\n\u001b[1;32m    163\u001b[0m gen \u001b[39m=\u001b[39m gen_static_args \u001b[39m=\u001b[39m out_store \u001b[39m=\u001b[39m \u001b[39mNone\u001b[39;00m\n\u001b[1;32m    165\u001b[0m \u001b[39mtry\u001b[39;00m:\n\u001b[0;32m--> 166\u001b[0m   ans \u001b[39m=\u001b[39m \u001b[39mself\u001b[39;49m\u001b[39m.\u001b[39;49mf(\u001b[39m*\u001b[39;49margs, \u001b[39m*\u001b[39;49m\u001b[39m*\u001b[39;49m\u001b[39mdict\u001b[39;49m(\u001b[39mself\u001b[39;49m\u001b[39m.\u001b[39;49mparams, \u001b[39m*\u001b[39;49m\u001b[39m*\u001b[39;49mkwargs))\n\u001b[1;32m    167\u001b[0m \u001b[39mexcept\u001b[39;00m:\n\u001b[1;32m    168\u001b[0m   \u001b[39m# Some transformations yield from inside context managers, so we have to\u001b[39;00m\n\u001b[1;32m    169\u001b[0m   \u001b[39m# interrupt them before reraising the exception. Otherwise they will only\u001b[39;00m\n\u001b[1;32m    170\u001b[0m   \u001b[39m# get garbage-collected at some later time, running their cleanup tasks\u001b[39;00m\n\u001b[1;32m    171\u001b[0m   \u001b[39m# only after this exception is handled, which can corrupt the global\u001b[39;00m\n\u001b[1;32m    172\u001b[0m   \u001b[39m# state.\u001b[39;00m\n\u001b[1;32m    173\u001b[0m   \u001b[39mwhile\u001b[39;00m stack:\n",
      "File \u001b[0;32m~/miniconda3/envs/cu11/lib/python3.8/site-packages/jax/_src/linear_util.py:166\u001b[0m, in \u001b[0;36mWrappedFun.call_wrapped\u001b[0;34m(self, *args, **kwargs)\u001b[0m\n\u001b[1;32m    163\u001b[0m gen \u001b[39m=\u001b[39m gen_static_args \u001b[39m=\u001b[39m out_store \u001b[39m=\u001b[39m \u001b[39mNone\u001b[39;00m\n\u001b[1;32m    165\u001b[0m \u001b[39mtry\u001b[39;00m:\n\u001b[0;32m--> 166\u001b[0m   ans \u001b[39m=\u001b[39m \u001b[39mself\u001b[39;49m\u001b[39m.\u001b[39;49mf(\u001b[39m*\u001b[39;49margs, \u001b[39m*\u001b[39;49m\u001b[39m*\u001b[39;49m\u001b[39mdict\u001b[39;49m(\u001b[39mself\u001b[39;49m\u001b[39m.\u001b[39;49mparams, \u001b[39m*\u001b[39;49m\u001b[39m*\u001b[39;49mkwargs))\n\u001b[1;32m    167\u001b[0m \u001b[39mexcept\u001b[39;00m:\n\u001b[1;32m    168\u001b[0m   \u001b[39m# Some transformations yield from inside context managers, so we have to\u001b[39;00m\n\u001b[1;32m    169\u001b[0m   \u001b[39m# interrupt them before reraising the exception. Otherwise they will only\u001b[39;00m\n\u001b[1;32m    170\u001b[0m   \u001b[39m# get garbage-collected at some later time, running their cleanup tasks\u001b[39;00m\n\u001b[1;32m    171\u001b[0m   \u001b[39m# only after this exception is handled, which can corrupt the global\u001b[39;00m\n\u001b[1;32m    172\u001b[0m   \u001b[39m# state.\u001b[39;00m\n\u001b[1;32m    173\u001b[0m   \u001b[39mwhile\u001b[39;00m stack:\n",
      "File \u001b[0;32m~/miniconda3/envs/cu11/lib/python3.8/site-packages/flax/core/scope.py:827\u001b[0m, in \u001b[0;36mScope.param.<locals>.<lambda>\u001b[0;34m(rng)\u001b[0m\n\u001b[1;32m    821\u001b[0m value \u001b[39m=\u001b[39m \u001b[39mself\u001b[39m\u001b[39m.\u001b[39mget_variable(\u001b[39m'\u001b[39m\u001b[39mparams\u001b[39m\u001b[39m'\u001b[39m, name)\n\u001b[1;32m    822\u001b[0m \u001b[39m# Validate that the shape of the init_fn output is the same as the shape\u001b[39;00m\n\u001b[1;32m    823\u001b[0m \u001b[39m# of the existing parameter. This is to make sure that the hparams set up\u001b[39;00m\n\u001b[1;32m    824\u001b[0m \u001b[39m# in a Flax Module match the shapes coming in during apply, and if not,\u001b[39;00m\n\u001b[1;32m    825\u001b[0m \u001b[39m# catch it with an error message.\u001b[39;00m\n\u001b[1;32m    826\u001b[0m \u001b[39m# NOTE: We could consider moving this to `self.`\u001b[39;00m\n\u001b[0;32m--> 827\u001b[0m abs_value \u001b[39m=\u001b[39m jax\u001b[39m.\u001b[39meval_shape(\u001b[39mlambda\u001b[39;00m rng: init_fn(rng, \u001b[39m*\u001b[39;49minit_args), abs_rng)\n\u001b[1;32m    828\u001b[0m abs_value_flat \u001b[39m=\u001b[39m jax\u001b[39m.\u001b[39mtree_util\u001b[39m.\u001b[39mtree_leaves(abs_value)\n\u001b[1;32m    829\u001b[0m value_flat \u001b[39m=\u001b[39m jax\u001b[39m.\u001b[39mtree_util\u001b[39m.\u001b[39mtree_leaves(value)\n",
      "File \u001b[0;32m~/miniconda3/envs/cu11/lib/python3.8/site-packages/jax/_src/nn/initializers.py:281\u001b[0m, in \u001b[0;36mvariance_scaling.<locals>.init\u001b[0;34m(key, shape, dtype)\u001b[0m\n\u001b[1;32m    278\u001b[0m \u001b[39mif\u001b[39;00m jnp\u001b[39m.\u001b[39missubdtype(dtype, jnp\u001b[39m.\u001b[39mfloating):\n\u001b[1;32m    279\u001b[0m   \u001b[39m# constant is stddev of standard normal truncated to (-2, 2)\u001b[39;00m\n\u001b[1;32m    280\u001b[0m   stddev \u001b[39m=\u001b[39m jnp\u001b[39m.\u001b[39msqrt(variance) \u001b[39m/\u001b[39m jnp\u001b[39m.\u001b[39marray(\u001b[39m.87962566103423978\u001b[39m, dtype)\n\u001b[0;32m--> 281\u001b[0m   \u001b[39mreturn\u001b[39;00m random\u001b[39m.\u001b[39;49mtruncated_normal(key, \u001b[39m-\u001b[39;49m\u001b[39m2\u001b[39;49m, \u001b[39m2\u001b[39;49m, named_shape, dtype) \u001b[39m*\u001b[39m stddev\n\u001b[1;32m    282\u001b[0m \u001b[39melse\u001b[39;00m:\n\u001b[1;32m    283\u001b[0m   \u001b[39m# constant is stddev of complex standard normal truncated to 2\u001b[39;00m\n\u001b[1;32m    284\u001b[0m   stddev \u001b[39m=\u001b[39m jnp\u001b[39m.\u001b[39msqrt(variance) \u001b[39m/\u001b[39m jnp\u001b[39m.\u001b[39marray(\u001b[39m.95311164380491208\u001b[39m, dtype)\n",
      "File \u001b[0;32m~/miniconda3/envs/cu11/lib/python3.8/site-packages/jax/_src/random.py:724\u001b[0m, in \u001b[0;36mtruncated_normal\u001b[0;34m(key, lower, upper, shape, dtype)\u001b[0m\n\u001b[1;32m    722\u001b[0m \u001b[39mif\u001b[39;00m shape \u001b[39mis\u001b[39;00m \u001b[39mnot\u001b[39;00m \u001b[39mNone\u001b[39;00m:\n\u001b[1;32m    723\u001b[0m   shape \u001b[39m=\u001b[39m core\u001b[39m.\u001b[39mas_named_shape(shape)\n\u001b[0;32m--> 724\u001b[0m \u001b[39mreturn\u001b[39;00m _truncated_normal(key, lower, upper, shape, dtype)\n",
      "    \u001b[0;31m[... skipping hidden 1 frame]\u001b[0m\n",
      "File \u001b[0;32m~/miniconda3/envs/cu11/lib/python3.8/site-packages/jax/_src/pjit.py:238\u001b[0m, in \u001b[0;36m_cpp_pjit.<locals>.cache_miss\u001b[0;34m(*args, **kwargs)\u001b[0m\n\u001b[1;32m    236\u001b[0m \u001b[39m@api_boundary\u001b[39m\n\u001b[1;32m    237\u001b[0m \u001b[39mdef\u001b[39;00m \u001b[39mcache_miss\u001b[39m(\u001b[39m*\u001b[39margs, \u001b[39m*\u001b[39m\u001b[39m*\u001b[39mkwargs):\n\u001b[0;32m--> 238\u001b[0m   outs, out_flat, out_tree, args_flat \u001b[39m=\u001b[39m _python_pjit_helper(\n\u001b[1;32m    239\u001b[0m       fun, infer_params_fn, \u001b[39m*\u001b[39;49margs, \u001b[39m*\u001b[39;49m\u001b[39m*\u001b[39;49mkwargs)\n\u001b[1;32m    241\u001b[0m   executable \u001b[39m=\u001b[39m _read_most_recent_pjit_call_executable()\n\u001b[1;32m    243\u001b[0m   use_fastpath \u001b[39m=\u001b[39m (\n\u001b[1;32m    244\u001b[0m       executable \u001b[39mis\u001b[39;00m \u001b[39mnot\u001b[39;00m \u001b[39mNone\u001b[39;00m \u001b[39mand\u001b[39;00m\n\u001b[1;32m    245\u001b[0m       \u001b[39misinstance\u001b[39m(executable, pxla\u001b[39m.\u001b[39mMeshExecutable) \u001b[39mand\u001b[39;00m\n\u001b[0;32m   (...)\u001b[0m\n\u001b[1;32m    251\u001b[0m       \u001b[39mall\u001b[39m(\u001b[39misinstance\u001b[39m(x, xc\u001b[39m.\u001b[39mArrayImpl) \u001b[39mfor\u001b[39;00m x \u001b[39min\u001b[39;00m out_flat)\n\u001b[1;32m    252\u001b[0m   )\n",
      "File \u001b[0;32m~/miniconda3/envs/cu11/lib/python3.8/site-packages/jax/_src/pjit.py:185\u001b[0m, in \u001b[0;36m_python_pjit_helper\u001b[0;34m(fun, infer_params_fn, *args, **kwargs)\u001b[0m\n\u001b[1;32m    183\u001b[0m   dispatch\u001b[39m.\u001b[39mcheck_arg(arg)\n\u001b[1;32m    184\u001b[0m \u001b[39mtry\u001b[39;00m:\n\u001b[0;32m--> 185\u001b[0m   out_flat \u001b[39m=\u001b[39m pjit_p\u001b[39m.\u001b[39;49mbind(\u001b[39m*\u001b[39;49margs_flat, \u001b[39m*\u001b[39;49m\u001b[39m*\u001b[39;49mparams)\n\u001b[1;32m    186\u001b[0m \u001b[39mexcept\u001b[39;00m pxla\u001b[39m.\u001b[39mDeviceAssignmentMismatchError \u001b[39mas\u001b[39;00m e:\n\u001b[1;32m    187\u001b[0m   fails, \u001b[39m=\u001b[39m e\u001b[39m.\u001b[39margs\n",
      "File \u001b[0;32m~/miniconda3/envs/cu11/lib/python3.8/site-packages/jax/_src/core.py:2592\u001b[0m, in \u001b[0;36mAxisPrimitive.bind\u001b[0;34m(self, *args, **params)\u001b[0m\n\u001b[1;32m   2588\u001b[0m axis_main \u001b[39m=\u001b[39m \u001b[39mmax\u001b[39m((axis_frame(a)\u001b[39m.\u001b[39mmain_trace \u001b[39mfor\u001b[39;00m a \u001b[39min\u001b[39;00m used_axis_names(\u001b[39mself\u001b[39m, params)),\n\u001b[1;32m   2589\u001b[0m                 default\u001b[39m=\u001b[39m\u001b[39mNone\u001b[39;00m, key\u001b[39m=\u001b[39m\u001b[39mlambda\u001b[39;00m t: \u001b[39mgetattr\u001b[39m(t, \u001b[39m'\u001b[39m\u001b[39mlevel\u001b[39m\u001b[39m'\u001b[39m, \u001b[39m-\u001b[39m\u001b[39m1\u001b[39m))\n\u001b[1;32m   2590\u001b[0m top_trace \u001b[39m=\u001b[39m (top_trace \u001b[39mif\u001b[39;00m \u001b[39mnot\u001b[39;00m axis_main \u001b[39mor\u001b[39;00m axis_main\u001b[39m.\u001b[39mlevel \u001b[39m<\u001b[39m top_trace\u001b[39m.\u001b[39mlevel\n\u001b[1;32m   2591\u001b[0m              \u001b[39melse\u001b[39;00m axis_main\u001b[39m.\u001b[39mwith_cur_sublevel())\n\u001b[0;32m-> 2592\u001b[0m \u001b[39mreturn\u001b[39;00m \u001b[39mself\u001b[39;49m\u001b[39m.\u001b[39;49mbind_with_trace(top_trace, args, params)\n",
      "File \u001b[0;32m~/miniconda3/envs/cu11/lib/python3.8/site-packages/jax/_src/core.py:363\u001b[0m, in \u001b[0;36mPrimitive.bind_with_trace\u001b[0;34m(self, trace, args, params)\u001b[0m\n\u001b[1;32m    362\u001b[0m \u001b[39mdef\u001b[39;00m \u001b[39mbind_with_trace\u001b[39m(\u001b[39mself\u001b[39m, trace, args, params):\n\u001b[0;32m--> 363\u001b[0m   out \u001b[39m=\u001b[39m trace\u001b[39m.\u001b[39;49mprocess_primitive(\u001b[39mself\u001b[39;49m, \u001b[39mmap\u001b[39;49m(trace\u001b[39m.\u001b[39;49mfull_raise, args), params)\n\u001b[1;32m    364\u001b[0m   \u001b[39mreturn\u001b[39;00m \u001b[39mmap\u001b[39m(full_lower, out) \u001b[39mif\u001b[39;00m \u001b[39mself\u001b[39m\u001b[39m.\u001b[39mmultiple_results \u001b[39melse\u001b[39;00m full_lower(out)\n",
      "File \u001b[0;32m~/miniconda3/envs/cu11/lib/python3.8/site-packages/jax/_src/interpreters/partial_eval.py:1790\u001b[0m, in \u001b[0;36mDynamicJaxprTrace.process_primitive\u001b[0;34m(self, primitive, tracers, params)\u001b[0m\n\u001b[1;32m   1788\u001b[0m \u001b[39mdef\u001b[39;00m \u001b[39mprocess_primitive\u001b[39m(\u001b[39mself\u001b[39m, primitive, tracers, params):\n\u001b[1;32m   1789\u001b[0m   \u001b[39mif\u001b[39;00m primitive \u001b[39min\u001b[39;00m custom_staging_rules:\n\u001b[0;32m-> 1790\u001b[0m     \u001b[39mreturn\u001b[39;00m custom_staging_rules[primitive](\u001b[39mself\u001b[39;49m, \u001b[39m*\u001b[39;49mtracers, \u001b[39m*\u001b[39;49m\u001b[39m*\u001b[39;49mparams)\n\u001b[1;32m   1791\u001b[0m   \u001b[39mreturn\u001b[39;00m \u001b[39mself\u001b[39m\u001b[39m.\u001b[39mdefault_process_primitive(primitive, tracers, params)\n",
      "File \u001b[0;32m~/miniconda3/envs/cu11/lib/python3.8/site-packages/jax/_src/pjit.py:1388\u001b[0m, in \u001b[0;36mpjit_staging_rule\u001b[0;34m(trace, *args, **params)\u001b[0m\n\u001b[1;32m   1384\u001b[0m \u001b[39mif\u001b[39;00m (params[\u001b[39m\"\u001b[39m\u001b[39minline\u001b[39m\u001b[39m\"\u001b[39m] \u001b[39mand\u001b[39;00m\n\u001b[1;32m   1385\u001b[0m     \u001b[39mall\u001b[39m(_is_unspecified(i) \u001b[39mfor\u001b[39;00m i \u001b[39min\u001b[39;00m params[\u001b[39m\"\u001b[39m\u001b[39min_shardings\u001b[39m\u001b[39m\"\u001b[39m]) \u001b[39mand\u001b[39;00m\n\u001b[1;32m   1386\u001b[0m     \u001b[39mall\u001b[39m(_is_unspecified(o) \u001b[39mfor\u001b[39;00m o \u001b[39min\u001b[39;00m params[\u001b[39m\"\u001b[39m\u001b[39mout_shardings\u001b[39m\u001b[39m\"\u001b[39m])):\n\u001b[1;32m   1387\u001b[0m   jaxpr \u001b[39m=\u001b[39m params[\u001b[39m'\u001b[39m\u001b[39mjaxpr\u001b[39m\u001b[39m'\u001b[39m]\n\u001b[0;32m-> 1388\u001b[0m   \u001b[39mreturn\u001b[39;00m core\u001b[39m.\u001b[39;49meval_jaxpr(jaxpr\u001b[39m.\u001b[39;49mjaxpr, jaxpr\u001b[39m.\u001b[39;49mconsts, \u001b[39m*\u001b[39;49margs)\n\u001b[1;32m   1389\u001b[0m \u001b[39melif\u001b[39;00m config\u001b[39m.\u001b[39mjax_dynamic_shapes:\n\u001b[1;32m   1390\u001b[0m   source_info \u001b[39m=\u001b[39m source_info_util\u001b[39m.\u001b[39mcurrent()\n",
      "File \u001b[0;32m~/miniconda3/envs/cu11/lib/python3.8/site-packages/jax/_src/core.py:426\u001b[0m, in \u001b[0;36meval_jaxpr\u001b[0;34m(jaxpr, consts, *args)\u001b[0m\n\u001b[1;32m    424\u001b[0m name_stack \u001b[39m=\u001b[39m source_info_util\u001b[39m.\u001b[39mcurrent_name_stack() \u001b[39m+\u001b[39m eqn\u001b[39m.\u001b[39msource_info\u001b[39m.\u001b[39mname_stack\n\u001b[1;32m    425\u001b[0m \u001b[39mwith\u001b[39;00m source_info_util\u001b[39m.\u001b[39muser_context(eqn\u001b[39m.\u001b[39msource_info\u001b[39m.\u001b[39mtraceback, name_stack\u001b[39m=\u001b[39mname_stack):\n\u001b[0;32m--> 426\u001b[0m   ans \u001b[39m=\u001b[39m eqn\u001b[39m.\u001b[39;49mprimitive\u001b[39m.\u001b[39;49mbind(\u001b[39m*\u001b[39;49msubfuns, \u001b[39m*\u001b[39;49m\u001b[39mmap\u001b[39;49m(read, eqn\u001b[39m.\u001b[39;49minvars), \u001b[39m*\u001b[39;49m\u001b[39m*\u001b[39;49mbind_params)\n\u001b[1;32m    427\u001b[0m \u001b[39mif\u001b[39;00m eqn\u001b[39m.\u001b[39mprimitive\u001b[39m.\u001b[39mmultiple_results:\n\u001b[1;32m    428\u001b[0m   \u001b[39mmap\u001b[39m(write, eqn\u001b[39m.\u001b[39moutvars, ans)\n",
      "File \u001b[0;32m~/miniconda3/envs/cu11/lib/python3.8/site-packages/jax/_src/core.py:2592\u001b[0m, in \u001b[0;36mAxisPrimitive.bind\u001b[0;34m(self, *args, **params)\u001b[0m\n\u001b[1;32m   2588\u001b[0m axis_main \u001b[39m=\u001b[39m \u001b[39mmax\u001b[39m((axis_frame(a)\u001b[39m.\u001b[39mmain_trace \u001b[39mfor\u001b[39;00m a \u001b[39min\u001b[39;00m used_axis_names(\u001b[39mself\u001b[39m, params)),\n\u001b[1;32m   2589\u001b[0m                 default\u001b[39m=\u001b[39m\u001b[39mNone\u001b[39;00m, key\u001b[39m=\u001b[39m\u001b[39mlambda\u001b[39;00m t: \u001b[39mgetattr\u001b[39m(t, \u001b[39m'\u001b[39m\u001b[39mlevel\u001b[39m\u001b[39m'\u001b[39m, \u001b[39m-\u001b[39m\u001b[39m1\u001b[39m))\n\u001b[1;32m   2590\u001b[0m top_trace \u001b[39m=\u001b[39m (top_trace \u001b[39mif\u001b[39;00m \u001b[39mnot\u001b[39;00m axis_main \u001b[39mor\u001b[39;00m axis_main\u001b[39m.\u001b[39mlevel \u001b[39m<\u001b[39m top_trace\u001b[39m.\u001b[39mlevel\n\u001b[1;32m   2591\u001b[0m              \u001b[39melse\u001b[39;00m axis_main\u001b[39m.\u001b[39mwith_cur_sublevel())\n\u001b[0;32m-> 2592\u001b[0m \u001b[39mreturn\u001b[39;00m \u001b[39mself\u001b[39;49m\u001b[39m.\u001b[39;49mbind_with_trace(top_trace, args, params)\n",
      "File \u001b[0;32m~/miniconda3/envs/cu11/lib/python3.8/site-packages/jax/_src/core.py:364\u001b[0m, in \u001b[0;36mPrimitive.bind_with_trace\u001b[0;34m(self, trace, args, params)\u001b[0m\n\u001b[1;32m    362\u001b[0m \u001b[39mdef\u001b[39;00m \u001b[39mbind_with_trace\u001b[39m(\u001b[39mself\u001b[39m, trace, args, params):\n\u001b[1;32m    363\u001b[0m   out \u001b[39m=\u001b[39m trace\u001b[39m.\u001b[39mprocess_primitive(\u001b[39mself\u001b[39m, \u001b[39mmap\u001b[39m(trace\u001b[39m.\u001b[39mfull_raise, args), params)\n\u001b[0;32m--> 364\u001b[0m   \u001b[39mreturn\u001b[39;00m \u001b[39mmap\u001b[39;49m(full_lower, out) \u001b[39mif\u001b[39;00m \u001b[39mself\u001b[39m\u001b[39m.\u001b[39mmultiple_results \u001b[39melse\u001b[39;00m full_lower(out)\n",
      "File \u001b[0;32m~/miniconda3/envs/cu11/lib/python3.8/site-packages/jax/_src/util.py:78\u001b[0m, in \u001b[0;36msafe_map\u001b[0;34m(f, *args)\u001b[0m\n\u001b[1;32m     76\u001b[0m \u001b[39mfor\u001b[39;00m arg \u001b[39min\u001b[39;00m args[\u001b[39m1\u001b[39m:]:\n\u001b[1;32m     77\u001b[0m   \u001b[39massert\u001b[39;00m \u001b[39mlen\u001b[39m(arg) \u001b[39m==\u001b[39m n, \u001b[39mf\u001b[39m\u001b[39m'\u001b[39m\u001b[39mlength mismatch: \u001b[39m\u001b[39m{\u001b[39;00m\u001b[39mlist\u001b[39m(\u001b[39mmap\u001b[39m(\u001b[39mlen\u001b[39m,\u001b[39m \u001b[39margs))\u001b[39m}\u001b[39;00m\u001b[39m'\u001b[39m\n\u001b[0;32m---> 78\u001b[0m \u001b[39mreturn\u001b[39;00m \u001b[39mlist\u001b[39;49m(\u001b[39mmap\u001b[39;49m(f, \u001b[39m*\u001b[39;49margs))\n",
      "File \u001b[0;32m~/miniconda3/envs/cu11/lib/python3.8/site-packages/jax/_src/core.py:1214\u001b[0m, in \u001b[0;36mfull_lower\u001b[0;34m(val)\u001b[0m\n\u001b[1;32m   1211\u001b[0m       \u001b[39mif\u001b[39;00m leaked_tracers:\n\u001b[1;32m   1212\u001b[0m         \u001b[39mraise\u001b[39;00m leaked_tracer_error(\u001b[39m\"\u001b[39m\u001b[39msublevel\u001b[39m\u001b[39m\"\u001b[39m, t(), leaked_tracers)\n\u001b[0;32m-> 1214\u001b[0m \u001b[39mdef\u001b[39;00m \u001b[39mfull_lower\u001b[39m(val):\n\u001b[1;32m   1215\u001b[0m   \u001b[39mif\u001b[39;00m \u001b[39misinstance\u001b[39m(val, Tracer):\n\u001b[1;32m   1216\u001b[0m     \u001b[39mreturn\u001b[39;00m val\u001b[39m.\u001b[39mfull_lower()\n",
      "\u001b[0;31mKeyboardInterrupt\u001b[0m: "
     ]
    }
   ],
   "source": [
    "PyCeres.Solve(options, problem, summary)"
   ]
  },
  {
   "cell_type": "code",
   "execution_count": 340,
   "metadata": {},
   "outputs": [],
   "source": [
    "show_grasp(g_pick)\n",
    "panda.set_joint_angles(q_pick)"
   ]
  },
  {
   "cell_type": "code",
   "execution_count": 157,
   "metadata": {},
   "outputs": [],
   "source": [
    "panda.set_joint_angles(q_pick)"
   ]
  },
  {
   "cell_type": "code",
   "execution_count": 145,
   "metadata": {},
   "outputs": [],
   "source": [
    "grasp_pose = grasp_reconst(g_pick)\n",
    "frame_pick.set_pose(obj_start_pose@grasp_pose)\n",
    "frame_place.set_pose(obj_goal_pose@grasp_pose)"
   ]
  },
  {
   "cell_type": "code",
   "execution_count": 197,
   "metadata": {},
   "outputs": [
    {
     "name": "stdout",
     "output_type": "stream",
     "text": [
      "Ceres Solver Report: Iterations: 42, Initial cost: 1.826630e+02, Final cost: 1.700756e-02, Termination: CONVERGENCE\n"
     ]
    }
   ],
   "source": [
    "print(summary.BriefReport())"
   ]
  }
 ],
 "metadata": {
  "kernelspec": {
   "display_name": "cu11",
   "language": "python",
   "name": "python3"
  },
  "language_info": {
   "codemirror_mode": {
    "name": "ipython",
    "version": 3
   },
   "file_extension": ".py",
   "mimetype": "text/x-python",
   "name": "python",
   "nbconvert_exporter": "python",
   "pygments_lexer": "ipython3",
   "version": "3.8.16"
  },
  "orig_nbformat": 4
 },
 "nbformat": 4,
 "nbformat_minor": 2
}
