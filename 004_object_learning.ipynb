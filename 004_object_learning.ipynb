{
 "cells": [
  {
   "cell_type": "code",
   "execution_count": 115,
   "metadata": {},
   "outputs": [],
   "source": [
    "import numpy as np\n",
    "import jax\n",
    "import jax.numpy as jnp\n",
    "from jaxlie import SE3, SO3\n",
    "import orbax\n",
    "import optax\n",
    "import pandas as pd\n",
    "from flax.training import orbax_utils\n",
    "from flax.training.train_state import TrainState\n",
    "from sdf_world.sdf_world import *\n",
    "from sdf_world.robots import *\n",
    "from sdf_world.util import *\n",
    "\n",
    "from scipy.spatial import cKDTree\n",
    "import pickle"
   ]
  },
  {
   "cell_type": "code",
   "execution_count": 6,
   "metadata": {},
   "outputs": [],
   "source": [
    "df_succ = pd.read_csv('./data/003_cracker_box/succ.csv')\n",
    "df_fail = pd.read_csv('./data/003_cracker_box/fail.csv')\n",
    "with open(\"./sdf_world/assets/object\"+'/info.pkl', 'rb') as f:\n",
    "    obj_data = pickle.load(f)\n",
    "scale_to_norm = obj_data[\"scale_to_norm\"]"
   ]
  },
  {
   "cell_type": "code",
   "execution_count": 7,
   "metadata": {},
   "outputs": [],
   "source": [
    "columns = [\"x\", \"y\", \"z\", \"d\", \"a1\", \"a2\", \"a3\", \"g1\", \"g2\", \"g3\", \"depth\", \"width\"]"
   ]
  },
  {
   "cell_type": "code",
   "execution_count": 41,
   "metadata": {},
   "outputs": [],
   "source": [
    "succ_points = df_succ[[\"x\", \"y\", \"z\"]].to_numpy()\n",
    "rand_points = np.random.uniform(-1, 1, [50000,3])\n",
    "noise = np.random.normal(scale=0.1, size=[len(succ_points),3])\n",
    "df_rand = pd.DataFrame(rand_points, columns=[\"x\", \"y\", \"z\"])\n",
    "df_perturb = pd.DataFrame(succ_points+noise, columns=[\"x\", \"y\", \"z\"])"
   ]
  },
  {
   "cell_type": "code",
   "execution_count": 42,
   "metadata": {},
   "outputs": [],
   "source": [
    "df_succ[\"succ\"] = 1\n",
    "df_succ[\"d\"] = 0.\n",
    "df_rand[\"succ\"] = 0\n",
    "df_fail[\"succ\"] = 0\n",
    "df_perturb[\"succ\"] = 0"
   ]
  },
  {
   "cell_type": "code",
   "execution_count": 62,
   "metadata": {},
   "outputs": [],
   "source": [
    "succ_point_tree = cKDTree(succ_points)\n",
    "df = pd.concat([df_succ, df_rand, df_fail, df_perturb])\n",
    "df.reset_index(inplace=True, drop=True)\n",
    "\n",
    "for i, row in df.iterrows():\n",
    "    if row[\"succ\"] == 1: continue\n",
    "    point = row[[\"x\", \"y\", \"z\"]].to_numpy()\n",
    "    d, idx = succ_point_tree.query(point, k=1, p=2)\n",
    "    df.loc[i, \"d\"] = d"
   ]
  },
  {
   "cell_type": "code",
   "execution_count": 66,
   "metadata": {},
   "outputs": [],
   "source": [
    "def rot6d_to_qtn(rot6d):\n",
    "    z, y = rot6d[:3], rot6d[3:6]\n",
    "    x = jnp.cross(y, z)\n",
    "    R = jnp.vstack([x, y, z]).T\n",
    "    return SO3.from_matrix(R).parameters()\n",
    "rot6d_to_qtn_batch = jax.vmap(rot6d_to_qtn)"
   ]
  },
  {
   "cell_type": "code",
   "execution_count": 73,
   "metadata": {},
   "outputs": [],
   "source": [
    "rot6ds = jnp.array(df[[\"a1\", \"a2\", \"a3\", \"g1\", \"g2\", \"g3\"]].to_numpy())\n",
    "qtns = rot6d_to_qtn_batch(rot6ds)\n",
    "is_succ = df['succ'].to_numpy()[:,None]\n",
    "d = df[\"d\"].to_numpy()[:,None]\n",
    "inputs = df[[\"x\", \"y\", \"z\"]].to_numpy()\n",
    "labels = np.asarray(jnp.hstack([is_succ, d, qtns]))"
   ]
  },
  {
   "cell_type": "code",
   "execution_count": 74,
   "metadata": {},
   "outputs": [],
   "source": [
    "from sdf_world.dataset import NumpyDataset, numpy_collate\n",
    "from torch.utils.data import DataLoader\n",
    "from sklearn.model_selection import train_test_split\n",
    "\n",
    "batch_size = 128\n",
    "grasp_dataset = NumpyDataset(inputs, labels)\n",
    "train_dataset, val_dataset = train_test_split(grasp_dataset, train_size=0.9, shuffle=True)\n",
    "train_loader = DataLoader(\n",
    "    train_dataset, batch_size=batch_size, shuffle=True, collate_fn=numpy_collate)\n",
    "val_loader = DataLoader(\n",
    "    val_dataset, batch_size=batch_size, collate_fn=numpy_collate)"
   ]
  },
  {
   "cell_type": "code",
   "execution_count": 81,
   "metadata": {},
   "outputs": [],
   "source": [
    "from flax import linen as nn\n",
    "\n",
    "class GraspNet(nn.Module):\n",
    "    hidden_dim: int\n",
    "    @nn.compact\n",
    "    def __call__(self, x):\n",
    "        x = nn.Dense(features=self.hidden_dim)(x)\n",
    "        x = nn.relu(x)\n",
    "        x = nn.Dense(features=self.hidden_dim)(x)\n",
    "        x = nn.relu(x)\n",
    "        x = nn.Dense(features=self.hidden_dim)(x)\n",
    "        x = nn.relu(x)\n",
    "        logit = nn.Dense(features=6)(x)\n",
    "        return logit"
   ]
  },
  {
   "cell_type": "code",
   "execution_count": 82,
   "metadata": {},
   "outputs": [],
   "source": [
    "def rot_loss_qtn(qtn_pred, qtn_true):\n",
    "    normalization = lambda x: x/safe_2norm(x)\n",
    "    qtn_loss = lambda x, y: 1 - jnp.abs(x@y)\n",
    "    flip_z180 = lambda qtn: (SO3(qtn) @ SO3.from_z_radians(jnp.pi)).parameters()\n",
    "\n",
    "    qtn_pred_norm = jax.vmap(normalization)(qtn_pred)\n",
    "    qtn_true_flip = jax.vmap(flip_z180)(qtn_true)\n",
    "    loss1 = jax.vmap(qtn_loss)(qtn_pred_norm, qtn_true)\n",
    "    loss2 = jax.vmap(qtn_loss)(qtn_pred_norm, qtn_true_flip)\n",
    "    return jnp.minimum(loss1, loss2)\n",
    "\n",
    "def grasp_config_loss_fn(pred, label):\n",
    "    _, d_pred, qtn_pred = pred[:,0], pred[:,1], pred[:,2:]\n",
    "    succ, d_true, qtn_true = label[:,0], label[:,1], label[:,2:]\n",
    "\n",
    "    num_succ_samples = succ.sum()\n",
    "    no_succ = num_succ_samples==0.\n",
    "    den = jnp.where(no_succ, 1., num_succ_samples)\n",
    "    losses_rot = jnp.where(succ, rot_loss_qtn(qtn_pred, jnp.nan_to_num(qtn_true)), 0.).sum()\n",
    "    loss_rot = jnp.where(no_succ, 0., losses_rot/den)\n",
    "    return loss_rot\n",
    "\n",
    "def grasp_loss_qtn_fn(state:TrainState, params, batch):\n",
    "    x, y = batch\n",
    "    pred = state.apply_fn(params, x).squeeze()\n",
    "    p_pred, d_pred = pred[:,0], pred[:,1]\n",
    "    p_true, d_true = y[:,0], y[:,1]\n",
    "    loss_p = optax.sigmoid_binary_cross_entropy(p_pred, p_true).mean()\n",
    "    loss_d = optax.l2_loss(d_pred, d_true).mean()\n",
    "    loss_grasp = grasp_config_loss_fn(pred, y)\n",
    "    return loss_p + loss_d + loss_grasp\n",
    "\n",
    "@jax.jit\n",
    "def train_step(state:TrainState, batch):\n",
    "    losses, grads = jax.value_and_grad(grasp_loss_qtn_fn, argnums=1)(state, state.params, batch)\n",
    "    state = state.apply_gradients(grads=grads)\n",
    "    return state, losses"
   ]
  },
  {
   "cell_type": "code",
   "execution_count": 83,
   "metadata": {},
   "outputs": [],
   "source": [
    "grasp_net = GraspNet(32)\n",
    "key1, key2 = jax.random.split(jax.random.PRNGKey(0))\n",
    "x = jax.random.normal(key1, (3,)) # Dummy input data\n",
    "params = grasp_net.init(key2, x) # Initialization call\n",
    "tx = optax.adam(learning_rate=0.001)\n",
    "state = TrainState.create(apply_fn=grasp_net.apply, params=params, tx=tx)"
   ]
  },
  {
   "cell_type": "code",
   "execution_count": 84,
   "metadata": {},
   "outputs": [
    {
     "name": "stdout",
     "output_type": "stream",
     "text": [
      "0 : losses0.16402554512023926\n",
      "1 : losses0.20534221827983856\n",
      "2 : losses0.10707911103963852\n",
      "3 : losses0.07724257558584213\n",
      "4 : losses0.1458583027124405\n",
      "5 : losses0.046451959758996964\n",
      "6 : losses0.04527512565255165\n",
      "7 : losses0.06805877387523651\n",
      "8 : losses0.08287391811609268\n",
      "9 : losses0.13976643979549408\n",
      "10 : losses0.01128773856908083\n",
      "11 : losses0.22251591086387634\n",
      "12 : losses0.07920899987220764\n",
      "13 : losses0.10807240754365921\n",
      "14 : losses0.03861228749155998\n",
      "15 : losses0.09120075404644012\n",
      "16 : losses0.06354366987943649\n",
      "17 : losses0.035901132971048355\n",
      "18 : losses0.02986280992627144\n",
      "19 : losses0.019774653017520905\n",
      "20 : losses0.07369060814380646\n",
      "21 : losses0.030681263655424118\n",
      "22 : losses0.06776847690343857\n",
      "23 : losses0.007744227070361376\n",
      "24 : losses0.026766926050186157\n",
      "25 : losses0.09204673022031784\n",
      "26 : losses0.0461374893784523\n",
      "27 : losses0.0549372136592865\n",
      "28 : losses0.03419981151819229\n",
      "29 : losses0.02735881507396698\n",
      "30 : losses0.06729982793331146\n",
      "31 : losses0.0632430911064148\n",
      "32 : losses0.019114641472697258\n",
      "33 : losses0.025190748274326324\n",
      "34 : losses0.08327355235815048\n",
      "35 : losses0.045072540640830994\n",
      "36 : losses0.018188506364822388\n",
      "37 : losses0.02273131161928177\n",
      "38 : losses0.07270307838916779\n",
      "39 : losses0.14052210748195648\n",
      "40 : losses0.019921941682696342\n",
      "41 : losses0.032072022557258606\n",
      "42 : losses0.012453963048756123\n",
      "43 : losses0.04729606211185455\n",
      "44 : losses0.050722356885671616\n",
      "45 : losses0.10418422520160675\n",
      "46 : losses0.006920651067048311\n",
      "47 : losses0.045446231961250305\n",
      "48 : losses0.022427711635828018\n",
      "49 : losses0.014298245310783386\n",
      "50 : losses0.028298847377300262\n",
      "51 : losses0.10737840831279755\n",
      "52 : losses0.03309933468699455\n",
      "53 : losses0.03815257176756859\n",
      "54 : losses0.018719304352998734\n",
      "55 : losses0.08085787296295166\n",
      "56 : losses0.015157121233642101\n",
      "57 : losses0.060396578162908554\n",
      "58 : losses0.10167811810970306\n",
      "59 : losses0.01915411278605461\n",
      "60 : losses0.0677412673830986\n",
      "61 : losses0.04855268448591232\n",
      "62 : losses0.04402250424027443\n",
      "63 : losses0.020076274871826172\n",
      "64 : losses0.04037017002701759\n",
      "65 : losses0.057032980024814606\n",
      "66 : losses0.0002511111961212009\n",
      "67 : losses0.03705758973956108\n",
      "68 : losses0.027678897604346275\n",
      "69 : losses0.007180728018283844\n",
      "70 : losses0.02411523088812828\n",
      "71 : losses0.04264667630195618\n",
      "72 : losses0.03726779669523239\n",
      "73 : losses0.07728502154350281\n",
      "74 : losses0.028764910995960236\n",
      "75 : losses0.0051849535666406155\n",
      "76 : losses0.012075996957719326\n",
      "77 : losses0.027031660079956055\n",
      "78 : losses0.039562854915857315\n",
      "79 : losses0.043251924216747284\n",
      "80 : losses0.0191092099994421\n",
      "81 : losses0.031850192695856094\n",
      "82 : losses0.0213181022554636\n",
      "83 : losses0.04978266730904579\n",
      "84 : losses0.08140865713357925\n",
      "85 : losses0.08688955008983612\n",
      "86 : losses0.027727702632546425\n",
      "87 : losses0.002700572367757559\n",
      "88 : losses0.018384376540780067\n",
      "89 : losses0.04616241157054901\n",
      "90 : losses0.033058926463127136\n",
      "91 : losses0.05405380204319954\n",
      "92 : losses0.014301080256700516\n",
      "93 : losses0.03837363421916962\n",
      "94 : losses0.05302910879254341\n",
      "95 : losses0.015941821038722992\n",
      "96 : losses0.042305104434490204\n",
      "97 : losses0.07637953758239746\n",
      "98 : losses0.05512494593858719\n",
      "99 : losses0.06738383322954178\n"
     ]
    }
   ],
   "source": [
    "for epoch in range(100):\n",
    "    for i, batch in enumerate(train_loader):\n",
    "        state, losses = train_step(state, batch)    \n",
    "    print(f\"{epoch} : losses{losses.item()}\")"
   ]
  },
  {
   "cell_type": "code",
   "execution_count": 118,
   "metadata": {},
   "outputs": [],
   "source": [
    "#save\n",
    "orbax_checkpointer = orbax.checkpoint.PyTreeCheckpointer()\n",
    "ckpt = {\n",
    "    \"params\": state.params,\n",
    "    \"hidden_dim\": 10,\n",
    "    \"scale_to_norm\": scale_to_norm\n",
    "}\n",
    "save_args = orbax_utils.save_args_from_target(ckpt)\n",
    "orbax_checkpointer.save('model/grasp_net_prob_dist', ckpt, save_args=save_args)"
   ]
  },
  {
   "cell_type": "code",
   "execution_count": 85,
   "metadata": {},
   "outputs": [
    {
     "name": "stdout",
     "output_type": "stream",
     "text": [
      "Jupyter environment detected. Enabling Open3D WebVisualizer.\n",
      "[Open3D INFO] WebRTC GUI backend enabled.\n",
      "[Open3D INFO] WebRTCWindowSystem: HTTP handshake server disabled.\n"
     ]
    }
   ],
   "source": [
    "import trimesh\n",
    "import open3d as o3d\n",
    "def to_pointcloud(points:np.ndarray):\n",
    "    points = o3d.utility.Vector3dVector(points)\n",
    "    return o3d.geometry.PointCloud(points)"
   ]
  },
  {
   "cell_type": "code",
   "execution_count": 86,
   "metadata": {},
   "outputs": [],
   "source": [
    "grasp_fn = lambda x: grasp_net.apply(state.params, x)"
   ]
  },
  {
   "cell_type": "code",
   "execution_count": 87,
   "metadata": {},
   "outputs": [],
   "source": [
    "mesh_path = \"sdf_world/assets/object/norm_mesh.obj\"\n",
    "mesh = trimesh.load_mesh(mesh_path)"
   ]
  },
  {
   "cell_type": "code",
   "execution_count": 104,
   "metadata": {},
   "outputs": [],
   "source": [
    "# eval_points = mesh.as_open3d.sample_points_uniformly(10000).point #surface points\n",
    "eval_points = np.random.uniform(-1, 1, size=(100000, 3))"
   ]
  },
  {
   "cell_type": "code",
   "execution_count": 107,
   "metadata": {},
   "outputs": [],
   "source": [
    "preds = grasp_fn(eval_points)"
   ]
  },
  {
   "cell_type": "code",
   "execution_count": 108,
   "metadata": {},
   "outputs": [],
   "source": [
    "qual, d, qtns = preds[:,0], preds[:,1], preds[:,2:]"
   ]
  },
  {
   "cell_type": "code",
   "execution_count": 112,
   "metadata": {},
   "outputs": [],
   "source": [
    "v = d # - jnp.exp(qual) # + d\n",
    "thres = 0.05\n",
    "bool_idx = v < thres   # jnp.sign(qual) > 0 #d < 0.03 # jnp.sign(qual) == 1\n",
    "fail_bool_idx = v > thres #jnp.sign(qual) == -1"
   ]
  },
  {
   "cell_type": "code",
   "execution_count": 91,
   "metadata": {},
   "outputs": [],
   "source": [
    "def get_yaxis_from_qtn(qtn):\n",
    "    return SO3(qtn).normalize().as_matrix()[:,1]\n",
    "def get_zaxis_from_qtn(qtn):\n",
    "    return SO3(qtn).normalize().as_matrix()[:,2]"
   ]
  },
  {
   "cell_type": "code",
   "execution_count": 110,
   "metadata": {},
   "outputs": [],
   "source": [
    "succ_points = jnp.array(eval_points)[bool_idx]\n",
    "succ_pc = to_pointcloud(succ_points)"
   ]
  },
  {
   "cell_type": "code",
   "execution_count": 113,
   "metadata": {},
   "outputs": [],
   "source": [
    "o3d.visualization.draw_geometries([succ_pc])"
   ]
  }
 ],
 "metadata": {
  "kernelspec": {
   "display_name": "cu11",
   "language": "python",
   "name": "python3"
  },
  "language_info": {
   "codemirror_mode": {
    "name": "ipython",
    "version": 3
   },
   "file_extension": ".py",
   "mimetype": "text/x-python",
   "name": "python",
   "nbconvert_exporter": "python",
   "pygments_lexer": "ipython3",
   "version": "3.8.16"
  },
  "orig_nbformat": 4
 },
 "nbformat": 4,
 "nbformat_minor": 2
}
