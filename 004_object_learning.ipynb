{
 "cells": [
  {
   "cell_type": "code",
   "execution_count": 1,
   "metadata": {},
   "outputs": [],
   "source": [
    "import numpy as np\n",
    "import jax\n",
    "import jax.numpy as jnp\n",
    "from jaxlie import SE3, SO3\n",
    "import orbax\n",
    "import optax\n",
    "import pandas as pd\n",
    "\n",
    "from flax.training import orbax_utils\n",
    "from flax.training.train_state import TrainState\n",
    "from sdf_world.sdf_world import *\n",
    "from sdf_world.robots import *\n",
    "from sdf_world.util import *\n",
    "from sdf_world.network import *\n",
    "\n",
    "from scipy.spatial import cKDTree\n",
    "import pickle"
   ]
  },
  {
   "cell_type": "code",
   "execution_count": 2,
   "metadata": {},
   "outputs": [],
   "source": [
    "obj_folder_path = \"./sdf_world/assets/waffle_box/\"\n",
    "df_succ = pd.read_csv(obj_folder_path+'succ.csv')\n",
    "df_fail = pd.read_csv(obj_folder_path+'fail.csv')\n",
    "with open(obj_folder_path+'info.pkl', 'rb') as f:\n",
    "    obj_data = pickle.load(f)\n",
    "scale_to_norm = obj_data[\"scale_to_norm\"]\n",
    "\n",
    "#if non scaled, \n",
    "xyz_label = [\"x\", \"y\", \"z\"]\n",
    "df_succ.loc[:, xyz_label] *= scale_to_norm\n",
    "df_fail.loc[:, xyz_label] *= scale_to_norm"
   ]
  },
  {
   "cell_type": "code",
   "execution_count": 3,
   "metadata": {},
   "outputs": [],
   "source": [
    "columns = [\"x\", \"y\", \"z\", \"d\", \"a1\", \"a2\", \"a3\", \"g1\", \"g2\", \"g3\", \"depth\", \"width\"]"
   ]
  },
  {
   "cell_type": "code",
   "execution_count": 4,
   "metadata": {},
   "outputs": [],
   "source": [
    "succ_points = df_succ[[\"x\", \"y\", \"z\"]].to_numpy()\n",
    "rand_points = np.random.uniform(-1, 1, [50000,3])\n",
    "noise = np.random.normal(scale=0.1, size=[len(succ_points),3])\n",
    "df_rand = pd.DataFrame(rand_points, columns=[\"x\", \"y\", \"z\"])\n",
    "df_perturb = pd.DataFrame(succ_points+noise, columns=[\"x\", \"y\", \"z\"])"
   ]
  },
  {
   "cell_type": "code",
   "execution_count": 5,
   "metadata": {},
   "outputs": [],
   "source": [
    "df_succ[\"succ\"] = 1\n",
    "df_succ[\"d\"] = 0.\n",
    "df_rand[\"succ\"] = 0\n",
    "df_fail[\"succ\"] = 0\n",
    "df_perturb[\"succ\"] = 0\n",
    "\n",
    "df = pd.concat([df_succ, df_rand, df_fail, df_perturb])\n",
    "df.reset_index(inplace=True, drop=True)"
   ]
  },
  {
   "cell_type": "code",
   "execution_count": 8,
   "metadata": {},
   "outputs": [],
   "source": [
    "# succ_point_tree = cKDTree(succ_points)\n",
    "# df = pd.concat([df_succ, df_rand, df_fail, df_perturb])\n",
    "# df.reset_index(inplace=True, drop=True)\n",
    "\n",
    "# calculate_distance\n",
    "# for i, row in df.iterrows():\n",
    "#     if row[\"succ\"] == 1: continue\n",
    "#     point = row[[\"x\", \"y\", \"z\"]].to_numpy()\n",
    "#     d, idx = succ_point_tree.query(point, k=1, p=2)\n",
    "#     df.loc[i, \"d\"] = d"
   ]
  },
  {
   "cell_type": "code",
   "execution_count": 6,
   "metadata": {},
   "outputs": [],
   "source": [
    "def rot6d_to_qtn(rot6d):\n",
    "    z, y = rot6d[:3], rot6d[3:6]\n",
    "    x = jnp.cross(y, z)\n",
    "    R = jnp.vstack([x, y, z]).T\n",
    "    return SO3.from_matrix(R).parameters()\n",
    "rot6d_to_qtn_batch = jax.vmap(rot6d_to_qtn)"
   ]
  },
  {
   "cell_type": "code",
   "execution_count": 7,
   "metadata": {},
   "outputs": [],
   "source": [
    "rot6ds = jnp.array(df[[\"a1\", \"a2\", \"a3\", \"g1\", \"g2\", \"g3\"]].to_numpy())\n",
    "qtns = rot6d_to_qtn_batch(rot6ds)\n",
    "dw = df[[\"depth\", \"width\"]].to_numpy()\n",
    "is_succ = df['succ'].to_numpy()[:,None]\n",
    "# d = df[\"d\"].to_numpy()[:,None]\n",
    "inputs = df[[\"x\", \"y\", \"z\"]].to_numpy()\n",
    "labels = np.asarray(jnp.hstack([is_succ, qtns, dw]))"
   ]
  },
  {
   "cell_type": "code",
   "execution_count": 8,
   "metadata": {},
   "outputs": [
    {
     "name": "stdout",
     "output_type": "stream",
     "text": [
      "Jupyter environment detected. Enabling Open3D WebVisualizer.\n",
      "[Open3D INFO] WebRTC GUI backend enabled.\n",
      "[Open3D INFO] WebRTCWindowSystem: HTTP handshake server disabled.\n"
     ]
    }
   ],
   "source": [
    "import open3d as o3d\n",
    "def to_pointcloud(xyz):\n",
    "    return o3d.geometry.PointCloud(o3d.utility.Vector3dVector(xyz))"
   ]
  },
  {
   "cell_type": "code",
   "execution_count": 58,
   "metadata": {},
   "outputs": [],
   "source": [
    "xyz = df_fail[[\"x\", \"y\", \"z\"]].to_numpy()\n",
    "frame = o3d.geometry.TriangleMesh.create_coordinate_frame(0.1)\n",
    "o3d.visualization.draw_geometries([to_pointcloud(xyz), frame])"
   ]
  },
  {
   "cell_type": "code",
   "execution_count": 10,
   "metadata": {},
   "outputs": [],
   "source": [
    "def rot_loss_qtn(qtn_pred, qtn_true):\n",
    "    normalization = lambda x: x/safe_2norm(x)\n",
    "    qtn_loss = lambda x, y: 1 - jnp.abs(x@y)\n",
    "    flip_z180 = lambda qtn: (SO3(qtn) @ SO3.from_z_radians(jnp.pi)).parameters()\n",
    "\n",
    "    qtn_pred_norm = jax.vmap(normalization)(qtn_pred)\n",
    "    qtn_true_flip = jax.vmap(flip_z180)(qtn_true)\n",
    "    loss1 = jax.vmap(qtn_loss)(qtn_pred_norm, qtn_true)\n",
    "    loss2 = jax.vmap(qtn_loss)(qtn_pred_norm, qtn_true_flip)\n",
    "    return jnp.minimum(loss1, loss2)\n",
    "\n",
    "def grasp_config_loss_fn(pred, label):\n",
    "    # _, d_pred, qtn_pred = pred[:,0], pred[:,1], pred[:,2:]\n",
    "    # succ, d_true, qtn_true = label[:,0], label[:,1], label[:,2:]\n",
    "    _, qtn_pred = pred[:,0], pred[:,1:5]\n",
    "    succ, qtn_true = label[:,0], label[:,1:5]\n",
    "    dw_pred, dw_true = pred[:,5:], label[:, 5:]\n",
    "    \n",
    "    num_succ_samples = succ.sum()\n",
    "    no_succ = num_succ_samples == 0.\n",
    "    den = jnp.where(no_succ, 1., num_succ_samples)\n",
    "    \n",
    "    losses_rot = jnp.where(succ, rot_loss_qtn(qtn_pred, jnp.nan_to_num(qtn_true)), 0.).sum()\n",
    "    loss_rot = jnp.where(no_succ, 0., losses_rot/den)\n",
    "    \n",
    "    losses_dw = jnp.where(succ, optax.l2_loss(dw_pred, jnp.nan_to_num(dw_true)).sum(axis=-1), 0.).sum()\n",
    "    loss_dw = jnp.where(no_succ, 0., losses_dw/den)\n",
    "    return loss_rot + loss_dw\n",
    "\n",
    "def grasp_loss_qtn_fn(state:TrainState, params, batch):\n",
    "    x, y = batch\n",
    "    pred = state.apply_fn(params, x).squeeze()\n",
    "    p_pred = pred[:,0]\n",
    "    p_true = y[:,0]\n",
    "    loss_p = optax.sigmoid_binary_cross_entropy(p_pred, p_true).mean()\n",
    "    # loss_d = optax.l2_loss(d_pred, d_true).mean()\n",
    "    loss_grasp = grasp_config_loss_fn(pred, y)\n",
    "    return loss_p + loss_grasp\n",
    "\n",
    "@jax.jit\n",
    "def train_step(state:TrainState, batch):\n",
    "    losses, grads = jax.value_and_grad(grasp_loss_qtn_fn, argnums=1)(state, state.params, batch)\n",
    "    state = state.apply_gradients(grads=grads)\n",
    "    return state, losses"
   ]
  },
  {
   "cell_type": "code",
   "execution_count": 11,
   "metadata": {},
   "outputs": [],
   "source": [
    "hidden_dim = 32\n",
    "grasp_net = GraspNet(hidden_dim, 7)\n",
    "key1, key2 = jax.random.split(jax.random.PRNGKey(0))\n",
    "x = jax.random.normal(key1, (3,)) # Dummy input data\n",
    "params = grasp_net.init(key2, x) # Initialization call\n",
    "tx = optax.adam(learning_rate=0.001)\n",
    "state = TrainState.create(apply_fn=grasp_net.apply, params=params, tx=tx)"
   ]
  },
  {
   "cell_type": "code",
   "execution_count": 9,
   "metadata": {},
   "outputs": [],
   "source": [
    "from sdf_world.dataset import NumpyDataset, numpy_collate\n",
    "from torch.utils.data import DataLoader\n",
    "from sklearn.model_selection import train_test_split\n",
    "\n",
    "batch_size = 256\n",
    "grasp_dataset = NumpyDataset(inputs, labels)\n",
    "train_dataset, val_dataset = train_test_split(grasp_dataset, train_size=0.9, shuffle=True)\n",
    "train_loader = DataLoader(\n",
    "    train_dataset, batch_size=batch_size, shuffle=True, collate_fn=numpy_collate)\n",
    "val_loader = DataLoader(\n",
    "    val_dataset, batch_size=batch_size, collate_fn=numpy_collate)"
   ]
  },
  {
   "cell_type": "code",
   "execution_count": 20,
   "metadata": {},
   "outputs": [
    {
     "name": "stdout",
     "output_type": "stream",
     "text": [
      "0 : losses0.035095714032649994\n",
      "1 : losses0.04895775392651558\n",
      "2 : losses0.04885614663362503\n",
      "3 : losses0.028917066752910614\n",
      "4 : losses0.047990307211875916\n",
      "5 : losses0.013853542506694794\n",
      "6 : losses0.03493417054414749\n",
      "7 : losses0.012565002776682377\n",
      "8 : losses0.012770280241966248\n",
      "9 : losses0.0390767864882946\n",
      "10 : losses0.025458360090851784\n",
      "11 : losses0.0360000841319561\n",
      "12 : losses0.03757218271493912\n",
      "13 : losses0.02851737290620804\n",
      "14 : losses0.011066142469644547\n",
      "15 : losses0.04934161901473999\n",
      "16 : losses0.02899705059826374\n",
      "17 : losses0.02733563631772995\n",
      "18 : losses0.02459053508937359\n",
      "19 : losses0.032926153391599655\n",
      "20 : losses0.01940654218196869\n",
      "21 : losses0.04499977082014084\n",
      "22 : losses0.03145228326320648\n",
      "23 : losses0.01725192554295063\n",
      "24 : losses0.026518424972891808\n",
      "25 : losses0.017685260623693466\n",
      "26 : losses0.013019411824643612\n",
      "27 : losses0.06600137799978256\n",
      "28 : losses0.038713276386260986\n",
      "29 : losses0.02998065948486328\n",
      "30 : losses0.0476401187479496\n",
      "31 : losses0.03572981804609299\n",
      "32 : losses0.01844698004424572\n",
      "33 : losses0.03629281371831894\n",
      "34 : losses0.012096130289137363\n",
      "35 : losses0.01576877385377884\n",
      "36 : losses0.02405545301735401\n",
      "37 : losses0.030168714001774788\n",
      "38 : losses0.04217620939016342\n",
      "39 : losses0.01900838315486908\n",
      "40 : losses0.03705406188964844\n",
      "41 : losses0.029165934771299362\n",
      "42 : losses0.020645746961236\n",
      "43 : losses0.023214135318994522\n",
      "44 : losses0.027275608852505684\n",
      "45 : losses0.030415242537856102\n",
      "46 : losses0.017096320167183876\n",
      "47 : losses0.01751049794256687\n",
      "48 : losses0.020412003621459007\n",
      "49 : losses0.028631316497921944\n",
      "50 : losses0.027944311499595642\n",
      "51 : losses0.021830758079886436\n",
      "52 : losses0.023939456790685654\n",
      "53 : losses0.013372644782066345\n",
      "54 : losses0.023810522630810738\n",
      "55 : losses0.02490983158349991\n",
      "56 : losses0.03621869161725044\n",
      "57 : losses0.04731176793575287\n",
      "58 : losses0.010544070973992348\n",
      "59 : losses0.030880119651556015\n",
      "60 : losses0.02141810581088066\n",
      "61 : losses0.026653502136468887\n",
      "62 : losses0.046539872884750366\n",
      "63 : losses0.00648864870890975\n",
      "64 : losses0.018491704016923904\n",
      "65 : losses0.03876275196671486\n",
      "66 : losses0.02992754429578781\n",
      "67 : losses0.02058234065771103\n",
      "68 : losses0.03524893522262573\n",
      "69 : losses0.01734471134841442\n",
      "70 : losses0.016356337815523148\n",
      "71 : losses0.03599730506539345\n",
      "72 : losses0.01667015068233013\n",
      "73 : losses0.012312817387282848\n",
      "74 : losses0.041316621005535126\n",
      "75 : losses0.02321338839828968\n",
      "76 : losses0.024367112666368484\n",
      "77 : losses0.016392234712839127\n",
      "78 : losses0.02050502598285675\n",
      "79 : losses0.025843027979135513\n",
      "80 : losses0.035526737570762634\n",
      "81 : losses0.025938939303159714\n",
      "82 : losses0.05783071368932724\n",
      "83 : losses0.0294381994754076\n",
      "84 : losses0.02033112943172455\n",
      "85 : losses0.022617638111114502\n",
      "86 : losses0.01648172177374363\n",
      "87 : losses0.03694049268960953\n",
      "88 : losses0.036483414471149445\n",
      "89 : losses0.017250053584575653\n",
      "90 : losses0.059909529983997345\n",
      "91 : losses0.02786516584455967\n",
      "92 : losses0.02923700027167797\n",
      "93 : losses0.009544828906655312\n",
      "94 : losses0.07328154891729355\n",
      "95 : losses0.032250240445137024\n",
      "96 : losses0.0318407341837883\n",
      "97 : losses0.028196681290864944\n",
      "98 : losses0.04160940647125244\n",
      "99 : losses0.015641964972019196\n"
     ]
    }
   ],
   "source": [
    "for epoch in range(100):\n",
    "    for i, batch in enumerate(train_loader):\n",
    "        state, losses = train_step(state, batch)    \n",
    "    print(f\"{epoch} : losses{losses.item()}\")"
   ]
  },
  {
   "cell_type": "code",
   "execution_count": 27,
   "metadata": {},
   "outputs": [],
   "source": [
    "#save\n",
    "orbax_checkpointer = orbax.checkpoint.PyTreeCheckpointer()\n",
    "ckpt = {\n",
    "    \"params\": state.params,\n",
    "    \"hidden_dim\": hidden_dim,\n",
    "    \"out_dim\":7,\n",
    "    \"scale_to_norm\": scale_to_norm,\n",
    "    \"distance?\":False,\n",
    "}\n",
    "save_args = orbax_utils.save_args_from_target(ckpt)\n",
    "orbax_checkpointer.save('model/grasp_net_waffle', ckpt, save_args=save_args)"
   ]
  },
  {
   "cell_type": "code",
   "execution_count": 21,
   "metadata": {},
   "outputs": [],
   "source": [
    "import trimesh\n",
    "import open3d as o3d\n",
    "def to_pointcloud(points:np.ndarray):\n",
    "    points = o3d.utility.Vector3dVector(points)\n",
    "    return o3d.geometry.PointCloud(points)"
   ]
  },
  {
   "cell_type": "code",
   "execution_count": 22,
   "metadata": {},
   "outputs": [],
   "source": [
    "grasp_fn = lambda x: grasp_net.apply(state.params, x)"
   ]
  },
  {
   "cell_type": "code",
   "execution_count": 23,
   "metadata": {},
   "outputs": [],
   "source": [
    "mesh_path = \"./sdf_world/assets/waffle_box/waffle_box_scale12.03.obj\"\n",
    "mesh = trimesh.load_mesh(mesh_path)\n",
    "eval_points = mesh.as_open3d.sample_points_uniformly(10000).points #surface points\n",
    "# eval_points = np.random.uniform(-1, 1, size=(100000, 3))\n",
    "preds = grasp_fn(eval_points)\n",
    "qual, qtns = preds[:,0], preds[:,1:5]\n",
    "bool_idx = qual > 1 #jnp.sign(qual) == 1"
   ]
  },
  {
   "cell_type": "code",
   "execution_count": 24,
   "metadata": {},
   "outputs": [],
   "source": [
    "def get_approach_dir(qtn):\n",
    "    return SO3(qtn).normalize().as_matrix()[:,-1]"
   ]
  },
  {
   "cell_type": "code",
   "execution_count": 25,
   "metadata": {},
   "outputs": [],
   "source": [
    "zs = jax.vmap(get_approach_dir)(qtns)\n",
    "zs = np.array(zs).astype(float)[bool_idx]\n",
    "\n",
    "succ_points = jnp.array(eval_points)[bool_idx]\n",
    "succ_pc = to_pointcloud(succ_points)\n",
    "succ_pc.normals = o3d.utility.Vector3dVector(zs)"
   ]
  },
  {
   "cell_type": "code",
   "execution_count": 26,
   "metadata": {},
   "outputs": [],
   "source": [
    "o3d.visualization.draw_geometries([succ_pc])"
   ]
  },
  {
   "cell_type": "code",
   "execution_count": 133,
   "metadata": {},
   "outputs": [],
   "source": [
    "# o3d.visualization.draw_geometries([\n",
    "#     #to_pointcloud(df_succ.loc[:, xyz_label].to_numpy()),\n",
    "#     to_pointcloud(df_fail.loc[:, xyz_label].to_numpy())\n",
    "# ])\n"
   ]
  }
 ],
 "metadata": {
  "kernelspec": {
   "display_name": "cu11",
   "language": "python",
   "name": "python3"
  },
  "language_info": {
   "codemirror_mode": {
    "name": "ipython",
    "version": 3
   },
   "file_extension": ".py",
   "mimetype": "text/x-python",
   "name": "python",
   "nbconvert_exporter": "python",
   "pygments_lexer": "ipython3",
   "version": "3.8.16"
  },
  "orig_nbformat": 4
 },
 "nbformat": 4,
 "nbformat_minor": 2
}
