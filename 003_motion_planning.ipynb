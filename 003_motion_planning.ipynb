{
 "cells": [
  {
   "cell_type": "code",
   "execution_count": 2,
   "metadata": {},
   "outputs": [],
   "source": [
    "import numpy as np\n",
    "import jax\n",
    "import jax.numpy as jnp\n",
    "from jaxlie import SE3, SO3\n",
    "import orbax\n",
    "from flax.training import orbax_utils\n",
    "\n",
    "from sdf_world.sdf_world import *\n",
    "from sdf_world.robots import *\n",
    "from sdf_world.util import *"
   ]
  },
  {
   "cell_type": "code",
   "execution_count": 3,
   "metadata": {},
   "outputs": [],
   "source": [
    "orbax_checkpointer = orbax.checkpoint.PyTreeCheckpointer()\n",
    "net_dict = orbax_checkpointer.restore(\"model/grasp_net\")"
   ]
  },
  {
   "cell_type": "code",
   "execution_count": 2,
   "metadata": {},
   "outputs": [
    {
     "name": "stdout",
     "output_type": "stream",
     "text": [
      "You can open the visualizer by visiting the following URL:\n",
      "http://127.0.0.1:7007/static/\n"
     ]
    },
    {
     "data": {
      "text/html": [
       "\n",
       "            <div style=\"height: 400px; width: 100%; overflow-x: auto; overflow-y: hidden; resize: both\">\n",
       "            <iframe src=\"http://127.0.0.1:7007/static/\" style=\"width: 100%; height: 100%; border: none\"></iframe>\n",
       "            </div>\n",
       "            "
      ],
      "text/plain": [
       "<IPython.core.display.HTML object>"
      ]
     },
     "execution_count": 2,
     "metadata": {},
     "output_type": "execute_result"
    }
   ],
   "source": [
    "world = SDFWorld()\n",
    "world.show_in_jupyter()"
   ]
  },
  {
   "cell_type": "code",
   "execution_count": 3,
   "metadata": {},
   "outputs": [
    {
     "name": "stderr",
     "output_type": "stream",
     "text": [
      "concatenating texture: may result in visual artifacts\n",
      "concatenating texture: may result in visual artifacts\n",
      "concatenating texture: may result in visual artifacts\n",
      "concatenating texture: may result in visual artifacts\n",
      "concatenating texture: may result in visual artifacts\n",
      "concatenating texture: may result in visual artifacts\n",
      "concatenating texture: may result in visual artifacts\n",
      "concatenating texture: may result in visual artifacts\n"
     ]
    }
   ],
   "source": [
    "panda_model = RobotModel(PANDA_URDF, PANDA_PACKAGE)\n",
    "panda = Robot(world.vis, \"panda\", panda_model, alpha=0.5)"
   ]
  },
  {
   "cell_type": "code",
   "execution_count": 4,
   "metadata": {},
   "outputs": [],
   "source": [
    "box_start = Box(world.vis, \"box_start\", [0.06, 0.15, 0.25], \"green\", 0.5)\n",
    "box_start.set_translate([0.4, -0.3, 0.25/2])\n",
    "box_goal = Box(world.vis, \"box_goal\", [0.06, 0.15, 0.25], \"blue\", 0.5)\n",
    "goal_pose = SE3.from_rotation_and_translation(\n",
    "    rotation=SO3.from_x_radians(jnp.pi/2),\n",
    "    translation=jnp.array([0.4, 0.3, 0.15/2])\n",
    ")\n",
    "box_goal.set_pose(goal_pose)\n",
    "ground = Box(world.vis, \"ground\", [2, 2, 0.5], \"white\", alpha=0.1)\n",
    "ground.set_translate([0,0,-ground.lengths[-1]/2])"
   ]
  },
  {
   "cell_type": "code",
   "execution_count": 5,
   "metadata": {},
   "outputs": [
    {
     "name": "stderr",
     "output_type": "stream",
     "text": [
      "concatenating texture: may result in visual artifacts\n",
      "concatenating texture: may result in visual artifacts\n",
      "concatenating texture: may result in visual artifacts\n"
     ]
    }
   ],
   "source": [
    "hand_model = RobotModel(HAND_URDF, PANDA_PACKAGE, True)\n",
    "hand1 = Robot(world.vis, \"hand1\", hand_model, color=\"yellow\", alpha=0.5)\n",
    "hand2 = Robot(world.vis, \"hand2\", hand_model, color=\"yellow\", alpha=0.5)\n",
    "frame = Frame(world.vis, \"frame\")\n",
    "def set_hand_pose(pose, hand:Robot):\n",
    "    ee_base_pose = pose @ SE3.from_translation(jnp.array([0,0,-0.105]))\n",
    "    hand.set_pose(ee_base_pose)"
   ]
  },
  {
   "cell_type": "code",
   "execution_count": 30,
   "metadata": {},
   "outputs": [],
   "source": [
    "scale_to_world = jnp.linalg.norm(box_start.lengths)/2/0.8\n",
    "scale_to_obj = 1/scale_to_world\n",
    "hand_pose_wrt_ee = SE3.from_translation(jnp.array([0,0,-0.105]))\n",
    "box_x = box_start.pose.rotation().as_matrix()[:,0]\n",
    "def grasp_reconst(g:Array):\n",
    "    normalize = lambda v: v/safe_2norm(v)    \n",
    "    z = normalize(-g) #box.pose.translation() \n",
    "    _y = box_x\n",
    "    x = normalize(jnp.cross(_y, z))\n",
    "    y = jnp.cross(z, x)\n",
    "    rot_mat = jnp.vstack([x, y, z]).T\n",
    "    grasp_pose = SE3.from_rotation_and_translation(\n",
    "        SO3.from_matrix(rot_mat), g*scale_to_world)\n",
    "    return grasp_pose\n",
    "def get_grasp_dist(g):\n",
    "    vec_to_center = - g*scale_to_world\n",
    "    dist_surface = jnp.abs(box_start.distance(g, SE3.identity(), box_start.lengths/2))\n",
    "    dist_center = safe_2norm(vec_to_center)\n",
    "    p_surface = vec_to_center*dist_surface/dist_center + g\n",
    "    p_surface_proj = p_surface.at[0].set(0.)\n",
    "    return safe_2norm(p_surface_proj - g*scale_to_world)"
   ]
  },
  {
   "cell_type": "code",
   "execution_count": 31,
   "metadata": {},
   "outputs": [],
   "source": [
    "import orbax\n",
    "from flax.training import orbax_utils\n",
    "import flax.linen as nn\n",
    "class ManipNet(nn.Module):\n",
    "    hidden_dim: int\n",
    "    @nn.compact\n",
    "    def __call__(self, x):\n",
    "        x = nn.Dense(features=self.hidden_dim)(x)\n",
    "        x = nn.relu(x)\n",
    "        x = nn.Dense(features=self.hidden_dim)(x)\n",
    "        x = nn.relu(x)\n",
    "        x = nn.Dense(features=self.hidden_dim)(x)\n",
    "        x = nn.relu(x)\n",
    "        x = nn.Dense(features=1)(x)\n",
    "        return nn.softplus(x)\n",
    "\n",
    "#load\n",
    "orbax_checkpointer = orbax.checkpoint.PyTreeCheckpointer()\n",
    "ckpt = orbax_checkpointer.restore('model/manip_net')\n",
    "manip_net = ManipNet(64)\n",
    "params = ckpt[\"params\"]\n",
    "\n",
    "ws_r = 1.\n",
    "ws_center = jnp.array([0,0,0.5])\n",
    "def get_manip_value(posevec):\n",
    "    _, xyz = posevec[:4], posevec[4:]\n",
    "    is_out_of_bound = jnp.linalg.norm(xyz - ws_center) > ws_r\n",
    "    return jax.lax.cond(\n",
    "        is_out_of_bound, lambda x:jnp.array(0.), \n",
    "        lambda x: manip_net.apply(params, x)[0], posevec)"
   ]
  },
  {
   "cell_type": "code",
   "execution_count": 32,
   "metadata": {},
   "outputs": [],
   "source": [
    "#penetration\n",
    "qhand = jnp.array([0.04, 0.04])\n",
    "hand_pc = hand1.get_surface_points_fn(qhand)\n",
    "env = SDFContainer([ground], 0.05)\n",
    "def get_hand_pcs(g, obj1, obj2):\n",
    "    result = []\n",
    "    for obj in [obj1, obj2]:\n",
    "        grasp_pose = grasp_reconst(g)\n",
    "        hand_base_pose_wrt_world = obj.pose @ grasp_pose @ hand_pose_wrt_ee\n",
    "        assigned_hand_pc = jax.vmap(hand_base_pose_wrt_world.apply)(hand_pc)\n",
    "        result.append(assigned_hand_pc)\n",
    "    return jnp.vstack(result)\n",
    "\n",
    "def constr_penetration(g, obj1, obj2, env):\n",
    "    points = get_hand_pcs(g, obj1, obj2)\n",
    "    return env.penetration_sum(points)"
   ]
  },
  {
   "cell_type": "code",
   "execution_count": 33,
   "metadata": {},
   "outputs": [],
   "source": [
    "g_init = jnp.array(np.random.normal(size=3))\n",
    "grasp_pose = grasp_reconst(g_init)\n",
    "set_hand_pose(box_start.pose @ grasp_pose, hand1)\n",
    "set_hand_pose(box_goal.pose @ grasp_pose, hand2)\n",
    "\n",
    "points = get_hand_pcs(g_init, box_start, box_goal)\n",
    "#pc.reload(points=points)\n",
    "g = g_init"
   ]
  },
  {
   "cell_type": "code",
   "execution_count": 34,
   "metadata": {},
   "outputs": [],
   "source": [
    "obj1_pose = box_start.pose\n",
    "obj2_pose = box_goal.pose"
   ]
  },
  {
   "cell_type": "code",
   "execution_count": 35,
   "metadata": {},
   "outputs": [],
   "source": [
    "@jax.jit\n",
    "def grasp_to_posevecs(g, apply_zflip=False):\n",
    "    if apply_zflip:\n",
    "        zflip = SE3.from_rotation(SO3.from_z_radians(jnp.pi))\n",
    "    else:\n",
    "        zflip = SE3.identity()\n",
    "    grasp_pose_wrt_obj = grasp_reconst(g)\n",
    "    poses = []\n",
    "    poses += [obj1_pose @ grasp_pose_wrt_obj @ hand_pose_wrt_ee @ zflip]\n",
    "    poses += [obj2_pose @ grasp_pose_wrt_obj @ hand_pose_wrt_ee @ zflip]\n",
    "    poses = jnp.vstack([pose.parameters() for pose in poses])\n",
    "    return poses\n",
    "\n",
    "def constr_penet(posevecs):\n",
    "    assigned_points_fn = \\\n",
    "        lambda posevec, points :jax.vmap(SE3(posevec).apply)(points)\n",
    "    points = jax.vmap(assigned_points_fn, in_axes=(0, None))(posevecs, hand_pc)\n",
    "    points = jnp.vstack(points)\n",
    "    return env.penetration_sum(points)\n",
    "def constr_kin(posevecs):\n",
    "    manip_min = jax.vmap(get_manip_value)(posevecs).min()\n",
    "    return manip_min\n",
    "\n",
    "def constraints(g):\n",
    "    posevecs = grasp_to_posevecs(g)\n",
    "    dist = get_grasp_dist(g)\n",
    "    penet = constr_penet(posevecs)\n",
    "    manip = constr_kin(posevecs)\n",
    "    return jnp.hstack([dist, penet, manip])"
   ]
  },
  {
   "cell_type": "code",
   "execution_count": 36,
   "metadata": {},
   "outputs": [],
   "source": [
    "from sdf_world.nlp import NLP\n",
    "prob = NLP()"
   ]
  },
  {
   "cell_type": "code",
   "execution_count": 37,
   "metadata": {},
   "outputs": [],
   "source": [
    "prob.add_var(\"g\", 3, -1*np.ones(3), np.ones(3))"
   ]
  },
  {
   "cell_type": "code",
   "execution_count": 38,
   "metadata": {},
   "outputs": [],
   "source": [
    "prob.add_con(\"con\", 3, [\"g\"], constraints, \n",
    "             lower=np.array([0., 0., 0.1]),\n",
    "             upper=np.array([0., 0., 2.])\n",
    ")"
   ]
  },
  {
   "cell_type": "code",
   "execution_count": 39,
   "metadata": {},
   "outputs": [],
   "source": [
    "prob.add_objective(lambda g:jnp.array(0.))"
   ]
  },
  {
   "cell_type": "code",
   "execution_count": 40,
   "metadata": {},
   "outputs": [],
   "source": [
    "prob.build()"
   ]
  },
  {
   "cell_type": "code",
   "execution_count": 53,
   "metadata": {},
   "outputs": [
    {
     "name": "stdout",
     "output_type": "stream",
     "text": [
      "This is Ipopt version 3.14.10, running with linear solver MUMPS 5.2.1.\n",
      "\n",
      "Number of nonzeros in equality constraint Jacobian...:        6\n",
      "Number of nonzeros in inequality constraint Jacobian.:        3\n",
      "Number of nonzeros in Lagrangian Hessian.............:        0\n",
      "\n",
      "Total number of variables............................:        3\n",
      "                     variables with only lower bounds:        0\n",
      "                variables with lower and upper bounds:        3\n",
      "                     variables with only upper bounds:        0\n",
      "Total number of equality constraints.................:        2\n",
      "Total number of inequality constraints...............:        1\n",
      "        inequality constraints with only lower bounds:        0\n",
      "   inequality constraints with lower and upper bounds:        1\n",
      "        inequality constraints with only upper bounds:        0\n",
      "\n",
      "iter    objective    inf_pr   inf_du lg(mu)  ||d||  lg(rg) alpha_du alpha_pr  ls\n",
      "   0  0.0000000e+00 6.79e-06 0.00e+00   0.0 0.00e+00    -  0.00e+00 0.00e+00   0\n",
      "   1  0.0000000e+00 1.95e-02 4.22e-08  -6.1 2.85e-07    -  9.90e-01 2.28e-02h  2\n",
      "   2  0.0000000e+00 1.64e-01 1.30e+04  -2.2 4.86e-03    -  1.00e+00 1.32e-04f  3\n",
      "   3  0.0000000e+00 2.47e-02 1.30e+04  -2.2 1.70e-06    -  1.00e+00 1.00e+00h  1\n",
      "   4  0.0000000e+00 2.26e-02 1.10e+06  -2.2 4.22e-06    -  1.00e+00 1.56e-02h  7\n",
      "   5  0.0000000e+00 1.86e-02 3.57e+04  -2.2 5.05e-06    -  1.00e+00 1.00e+00H  1\n",
      "   6  0.0000000e+00 1.79e-01 4.48e+05  -2.2 1.07e-04    -  6.07e-01 5.00e-01h  2\n",
      "   7  0.0000000e+00 1.75e-01 5.63e+05  -2.2 1.52e-04    -  1.00e+00 2.86e-02h  6\n",
      "   8  0.0000000e+00 1.74e-01 1.86e+06  -2.2 2.63e-04    -  1.00e+00 7.14e-03h  8\n",
      "   9  0.0000000e+00 1.34e-01 2.64e+06  -2.2 1.13e-04    -  1.00e+00 5.71e-02h  5\n",
      "iter    objective    inf_pr   inf_du lg(mu)  ||d||  lg(rg) alpha_du alpha_pr  ls\n",
      "  10  0.0000000e+00 3.15e-01 7.80e+06  -2.2 4.95e-05    -  1.00e+00 4.57e-01h  2\n",
      "  11  0.0000000e+00 3.15e-01 2.26e+06  -2.2 5.75e-03    -  1.00e+00 2.44e-04h 13\n",
      "  12  0.0000000e+00 3.20e-01 2.22e+02  -2.2 5.46e-02    -  1.00e+00 1.00e+00s 22\n",
      "  13  0.0000000e+00 8.00e-01 4.81e+01  -2.2 5.46e-02    -  1.00e+00 1.00e+00s 22\n",
      "  14  0.0000000e+00 3.21e-01 2.98e+01  -3.3 2.98e-02    -  9.36e-01 1.00e+00h  1\n",
      "  15  0.0000000e+00 3.30e-01 3.08e+01  -3.3 2.98e-02    -  1.00e+00 5.00e-01h  2\n",
      "  16  0.0000000e+00 3.47e-01 1.23e+02  -3.3 1.50e-02    -  1.00e+00 5.00e-01h  2\n",
      "  17  0.0000000e+00 3.12e-01 7.91e+02  -3.3 1.40e-02    -  1.00e+00 1.00e+00h  1\n",
      "  18  0.0000000e+00 2.04e-02 1.50e+07  -3.3 8.57e-03    -  9.49e-02 1.00e+00h  1\n",
      "  19  0.0000000e+00 2.37e-03 1.36e+02  -3.3 1.48e-02    -  1.00e+00 1.00e+00h  1\n",
      "iter    objective    inf_pr   inf_du lg(mu)  ||d||  lg(rg) alpha_du alpha_pr  ls\n",
      "  20  0.0000000e+00 1.10e-02 8.67e+02  -3.3 6.25e-03    -  1.00e+00 1.00e+00h  1\n",
      "  21  0.0000000e+00 2.07e-03 1.51e+02  -3.3 8.28e-03    -  1.00e+00 1.00e+00h  1\n",
      "  22  0.0000000e+00 1.61e-02 1.89e+04  -5.0 1.09e-02    -  9.02e-01 1.00e+00h  1\n",
      "  23  0.0000000e+00 1.47e-02 1.86e+04  -5.0 8.81e-03    -  1.00e+00 8.43e-02h  2\n",
      "  24  0.0000000e+00 2.02e-03 2.28e+04  -5.0 1.11e-02    -  5.05e-01 1.00e+00h  1\n",
      "  25  0.0000000e+00 1.99e-03 3.17e+03  -5.0 3.01e-02    -  1.00e+00 4.23e-02h  1\n",
      "  26  0.0000000e+00 1.29e-03 1.88e+04  -5.0 1.68e-02    -  1.00e+00 5.00e-01h  2\n",
      "  27  0.0000000e+00 2.85e-04 7.53e+03  -5.0 6.14e-03    -  1.00e+00 1.00e+00h  1\n",
      "elapsed: 0.1486540000000005\n",
      "  28  0.0000000e+00 8.51e-04 1.03e+03  -5.0 8.31e-04    -  1.00e+00 1.00e+00h  1\n",
      "\n",
      "Number of Iterations....: 28\n",
      "\n",
      "                                   (scaled)                 (unscaled)\n",
      "Objective...............:   0.0000000000000000e+00    0.0000000000000000e+00\n",
      "Dual infeasibility......:   1.0312159273124553e+03    1.0312159273124553e+03\n",
      "Constraint violation....:   8.5102126467972994e-04    8.5102126467972994e-04\n",
      "Variable bound violation:   0.0000000000000000e+00    0.0000000000000000e+00\n",
      "Complementarity.........:   1.0019927496108042e-05    1.0019927496108042e-05\n",
      "Overall NLP error.......:   8.5102126467972994e-04    1.0312159273124553e+03\n",
      "\n",
      "\n",
      "Number of objective function evaluations             = 109\n",
      "Number of objective gradient evaluations             = 29\n",
      "Number of equality constraint evaluations            = 109\n",
      "Number of inequality constraint evaluations          = 109\n",
      "Number of equality constraint Jacobian evaluations   = 29\n",
      "Number of inequality constraint Jacobian evaluations = 29\n",
      "Number of Lagrangian Hessian evaluations             = 0\n",
      "Total seconds in IPOPT                               = 0.146\n",
      "\n",
      "EXIT: Solved To Acceptable Level.\n"
     ]
    }
   ],
   "source": [
    "xsol, info = prob.solve(jnp.zeros(3), viol_tol=0.001)"
   ]
  },
  {
   "cell_type": "code",
   "execution_count": 55,
   "metadata": {},
   "outputs": [],
   "source": [
    "posevecs = grasp_to_posevecs(xsol)\n",
    "set_hand_pose(box_start.pose @ grasp_pose, hand1)\n",
    "set_hand_pose(box_goal.pose @ grasp_pose, hand2)\n",
    "hand1.set_pose(SE3(posevecs[0]))\n",
    "hand2.set_pose(SE3(posevecs[1]))"
   ]
  },
  {
   "cell_type": "code",
   "execution_count": 57,
   "metadata": {},
   "outputs": [],
   "source": [
    "grasp_pose = grasp_reconst(xsol)\n",
    "set_hand_pose(box_start.pose@grasp_pose, hand1)"
   ]
  },
  {
   "cell_type": "code",
   "execution_count": 58,
   "metadata": {},
   "outputs": [
    {
     "data": {
      "text/plain": [
       "SE3(wxyz=[-0.52173    -0.47728    -0.47151998  0.52694   ], xyz=[ 7.9999998e-05  6.9199996e-03 -6.8999996e-04])"
      ]
     },
     "execution_count": 58,
     "metadata": {},
     "output_type": "execute_result"
    }
   ],
   "source": [
    "grasp_pose"
   ]
  },
  {
   "cell_type": "code",
   "execution_count": 59,
   "metadata": {},
   "outputs": [
    {
     "data": {
      "text/plain": [
       "SE3(wxyz=[1. 0. 0. 0.], xyz=[ 0.39999998 -0.29999998  0.125     ])"
      ]
     },
     "execution_count": 59,
     "metadata": {},
     "output_type": "execute_result"
    }
   ],
   "source": [
    "box_start.pose"
   ]
  },
  {
   "cell_type": "code",
   "execution_count": 56,
   "metadata": {},
   "outputs": [
    {
     "data": {
      "text/plain": [
       "Array(0.00085102, dtype=float32)"
      ]
     },
     "execution_count": 56,
     "metadata": {},
     "output_type": "execute_result"
    }
   ],
   "source": [
    "get_grasp_dist(xsol)"
   ]
  },
  {
   "cell_type": "code",
   "execution_count": 54,
   "metadata": {},
   "outputs": [
    {
     "data": {
      "text/plain": [
       "Array([0.00085102, 0.        , 0.7391411 ], dtype=float32)"
      ]
     },
     "execution_count": 54,
     "metadata": {},
     "output_type": "execute_result"
    }
   ],
   "source": [
    "constraints(xsol)"
   ]
  },
  {
   "cell_type": "code",
   "execution_count": 156,
   "metadata": {},
   "outputs": [
    {
     "name": "stdout",
     "output_type": "stream",
     "text": [
      "CPU times: user 6 µs, sys: 15 µs, total: 21 µs\n",
      "Wall time: 39.1 µs\n"
     ]
    },
    {
     "data": {
      "text/plain": [
       "Array([[-0.33871344, -0.62070376, -0.11753047,  0.6972708 ,  0.58595467,\n",
       "        -0.16174097,  0.07724981],\n",
       "       [ 0.19939728, -0.6784104 , -0.5761515 ,  0.40993834,  0.58595467,\n",
       "         0.3477502 ,  0.21325906]], dtype=float32)"
      ]
     },
     "execution_count": 156,
     "metadata": {},
     "output_type": "execute_result"
    }
   ],
   "source": [
    "%time\n",
    "grasp_to_posevecs(g)"
   ]
  },
  {
   "cell_type": "code",
   "execution_count": 146,
   "metadata": {},
   "outputs": [
    {
     "data": {
      "text/plain": [
       "Array([0.23824543, 0.27298832], dtype=float32)"
      ]
     },
     "execution_count": 146,
     "metadata": {},
     "output_type": "execute_result"
    }
   ],
   "source": []
  },
  {
   "cell_type": "code",
   "execution_count": 138,
   "metadata": {},
   "outputs": [
    {
     "name": "stdout",
     "output_type": "stream",
     "text": [
      "CPU times: user 2 µs, sys: 15 µs, total: 17 µs\n",
      "Wall time: 33.9 µs\n"
     ]
    },
    {
     "data": {
      "text/plain": [
       "Array(0.00012368, dtype=float32)"
      ]
     },
     "execution_count": 138,
     "metadata": {},
     "output_type": "execute_result"
    }
   ],
   "source": [
    "%time \n",
    "constr_penet(poses)"
   ]
  },
  {
   "cell_type": "code",
   "execution_count": 125,
   "metadata": {},
   "outputs": [],
   "source": [
    "pc.reload(points=points)"
   ]
  },
  {
   "cell_type": "code",
   "execution_count": 121,
   "metadata": {},
   "outputs": [],
   "source": [
    "pc = PointCloud(world.vis, \"pc\", points, size=0.01, color=\"red\")"
   ]
  },
  {
   "cell_type": "code",
   "execution_count": 79,
   "metadata": {},
   "outputs": [],
   "source": [
    "g_grad = jax.grad(constr_penetration)(g, box_start, box_goal, env)\n",
    "g = - g_grad*0.01 + g\n",
    "grasp_pose = grasp_reconst(g, box_start)\n",
    "set_hand_pose(box_start.pose @ grasp_pose, hand1)\n",
    "set_hand_pose(box_goal.pose @ grasp_pose, hand2)"
   ]
  },
  {
   "cell_type": "code",
   "execution_count": 80,
   "metadata": {},
   "outputs": [
    {
     "name": "stdout",
     "output_type": "stream",
     "text": [
      "0.00089821743\n"
     ]
    }
   ],
   "source": [
    "print(constr_penetration(g, box_start, box_goal, env))"
   ]
  },
  {
   "cell_type": "code",
   "execution_count": 42,
   "metadata": {},
   "outputs": [
    {
     "data": {
      "text/plain": [
       "Array(11.353209, dtype=float32)"
      ]
     },
     "execution_count": 42,
     "metadata": {},
     "output_type": "execute_result"
    }
   ],
   "source": [
    "env.penetration_sum(points)"
   ]
  },
  {
   "cell_type": "code",
   "execution_count": 167,
   "metadata": {},
   "outputs": [
    {
     "name": "stdout",
     "output_type": "stream",
     "text": [
      "4.9822407e-05\n"
     ]
    }
   ],
   "source": [
    "grad_p = penet_grad_fn(g, box_start)\n",
    "g = - grad_p*0.05 + g\n",
    "grasp_pose = grasp_reconst(g, box_start)\n",
    "set_hand_pose(box_start.pose @ grasp_pose, hand1)\n",
    "set_hand_pose(box_goal.pose @ grasp_pose, hand2)\n",
    "print(penetrations(g, box_start))"
   ]
  },
  {
   "cell_type": "code",
   "execution_count": 168,
   "metadata": {},
   "outputs": [],
   "source": [
    "grasp_pose = grasp_reconst(g, box_start)\n",
    "hand_base_pose_wrt_world = box_start.pose @ grasp_pose @ hand_pose_wrt_ee\n",
    "assigned_hand_pc = jax.vmap(hand_base_pose_wrt_world.apply)(hand_pc)"
   ]
  },
  {
   "cell_type": "code",
   "execution_count": 175,
   "metadata": {},
   "outputs": [
    {
     "data": {
      "text/plain": [
       "Array([ 0.24431565, -0.1587292 ,  0.04776791], dtype=float32)"
      ]
     },
     "execution_count": 175,
     "metadata": {},
     "output_type": "execute_result"
    }
   ],
   "source": [
    "assigned_hand_pc[8]"
   ]
  },
  {
   "cell_type": "code",
   "execution_count": 174,
   "metadata": {},
   "outputs": [
    {
     "data": {
      "text/plain": [
       "Array(8, dtype=int32)"
      ]
     },
     "execution_count": 174,
     "metadata": {},
     "output_type": "execute_result"
    }
   ],
   "source": [
    "jax.vmap(env.penetration)(assigned_hand_pc).argmax()"
   ]
  },
  {
   "cell_type": "code",
   "execution_count": 170,
   "metadata": {},
   "outputs": [],
   "source": [
    "pc_start = PointCloud(world.vis, \"pc_start\", \n",
    "                      assigned_hand_pc, size=0.01, color=\"red\")"
   ]
  },
  {
   "cell_type": "code",
   "execution_count": 181,
   "metadata": {},
   "outputs": [],
   "source": [
    "del pc_goal"
   ]
  },
  {
   "cell_type": "code",
   "execution_count": 61,
   "metadata": {},
   "outputs": [
    {
     "data": {
      "text/plain": [
       "Array(0.80027175, dtype=float32)"
      ]
     },
     "execution_count": 61,
     "metadata": {},
     "output_type": "execute_result"
    }
   ],
   "source": [
    "penetrations(box_start.pose @ grasp_pose)"
   ]
  },
  {
   "cell_type": "code",
   "execution_count": 24,
   "metadata": {},
   "outputs": [],
   "source": [
    "def assign_hand_pc(ee_pose):\n",
    "    hand_base_pose = ee_pose @ hand_pose_wrt_ee\n",
    "    return jax.vmap(hand_base_pose.apply)(hand_pc)"
   ]
  },
  {
   "cell_type": "code",
   "execution_count": 52,
   "metadata": {},
   "outputs": [],
   "source": [
    "hand_pc_start = assign_hand_pc(box_start.pose@grasp_pose)\n",
    "hand_pc_goal = assign_hand_pc(box_goal.pose@grasp_pose)"
   ]
  },
  {
   "cell_type": "code",
   "execution_count": 59,
   "metadata": {},
   "outputs": [
    {
     "data": {
      "text/plain": [
       "Array(3.8270435, dtype=float32)"
      ]
     },
     "execution_count": 59,
     "metadata": {},
     "output_type": "execute_result"
    }
   ],
   "source": [
    "jax.jit(env.penetration_sum)(hand_pc_start)"
   ]
  },
  {
   "cell_type": "code",
   "execution_count": 55,
   "metadata": {},
   "outputs": [
    {
     "data": {
      "text/plain": [
       "Array([0.0903221 , 0.05407002, 0.16405903, 0.02178621, 0.11948074,\n",
       "       0.11161787, 0.07293419, 0.07485468, 0.15773171, 0.11410213,\n",
       "       0.01828003, 0.04888446, 0.14840655, 0.05378092, 0.13687733,\n",
       "       0.06560025, 0.10658304, 0.05655343, 0.14534341, 0.00621273,\n",
       "       0.08871541, 0.09663767, 0.05944959, 0.10215046, 0.0749354 ,\n",
       "       0.10418446, 0.06886864, 0.08655269, 0.08516046, 0.08507899,\n",
       "       0.07272626, 0.10985497, 0.07414203, 0.07997886, 0.09959988,\n",
       "       0.06137355, 0.09734934, 0.06699882, 0.09366957, 0.09004926,\n",
       "       0.03192899, 0.00810587, 0.00903368, 0.02626381, 0.00995794,\n",
       "       0.01350285, 0.0228666 , 0.03721107, 0.00403808, 0.02144613,\n",
       "       0.02283757, 0.03633609, 0.01403445, 0.01210649, 0.00574847,\n",
       "       0.027432  , 0.00623619, 0.02207015, 0.01279055, 0.0181395 ],      dtype=float32)"
      ]
     },
     "execution_count": 55,
     "metadata": {},
     "output_type": "execute_result"
    }
   ],
   "source": [
    "jax.vmap(ground.penetration, in_axes=(0, None))(hand_pc_start, 0.05)"
   ]
  },
  {
   "cell_type": "code",
   "execution_count": 35,
   "metadata": {},
   "outputs": [],
   "source": [
    "pc_start = PointCloud(world.vis, \"pc_start\", hand_pc_start, size=0.01, color=\"red\")\n",
    "pc_goal = PointCloud(world.vis, \"pc_goal\", hand_pc_goal, size=0.01, color=\"red\")"
   ]
  },
  {
   "cell_type": "code",
   "execution_count": 34,
   "metadata": {},
   "outputs": [],
   "source": [
    "del pc_start, pc_goal"
   ]
  }
 ],
 "metadata": {
  "kernelspec": {
   "display_name": "opt_env",
   "language": "python",
   "name": "python3"
  },
  "language_info": {
   "codemirror_mode": {
    "name": "ipython",
    "version": 3
   },
   "file_extension": ".py",
   "mimetype": "text/x-python",
   "name": "python",
   "nbconvert_exporter": "python",
   "pygments_lexer": "ipython3",
   "version": "3.8.16"
  },
  "orig_nbformat": 4
 },
 "nbformat": 4,
 "nbformat_minor": 2
}
