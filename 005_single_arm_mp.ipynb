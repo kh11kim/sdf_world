{
 "cells": [
  {
   "cell_type": "code",
   "execution_count": 1,
   "metadata": {},
   "outputs": [],
   "source": [
    "import numpy as np\n",
    "import jax\n",
    "import jax.numpy as jnp\n",
    "from jaxlie import SE3, SO3\n",
    "import orbax\n",
    "from flax.training import orbax_utils\n",
    "\n",
    "from sdf_world.sdf_world import *\n",
    "from sdf_world.robots import *\n",
    "from sdf_world.util import *\n",
    "from sdf_world.network import *"
   ]
  },
  {
   "cell_type": "code",
   "execution_count": 2,
   "metadata": {},
   "outputs": [
    {
     "name": "stdout",
     "output_type": "stream",
     "text": [
      "You can open the visualizer by visiting the following URL:\n",
      "http://127.0.0.1:7001/static/\n"
     ]
    },
    {
     "data": {
      "text/html": [
       "\n",
       "            <div style=\"height: 400px; width: 100%; overflow-x: auto; overflow-y: hidden; resize: both\">\n",
       "            <iframe src=\"http://127.0.0.1:7001/static/\" style=\"width: 100%; height: 100%; border: none\"></iframe>\n",
       "            </div>\n",
       "            "
      ],
      "text/plain": [
       "<IPython.core.display.HTML object>"
      ]
     },
     "execution_count": 2,
     "metadata": {},
     "output_type": "execute_result"
    }
   ],
   "source": [
    "world = SDFWorld()\n",
    "world.show_in_jupyter()"
   ]
  },
  {
   "cell_type": "code",
   "execution_count": 3,
   "metadata": {},
   "outputs": [],
   "source": [
    "panda_model = RobotModel(PANDA_URDF, PANDA_PACKAGE)\n",
    "panda = Robot(world.vis, \"panda\", panda_model, alpha=0.5)\n",
    "panda.reduce_dim([7,8], [0.04, 0.04])"
   ]
  },
  {
   "cell_type": "code",
   "execution_count": 4,
   "metadata": {},
   "outputs": [],
   "source": [
    "obj_start = Mesh(world.vis, \"obj_start\", \"./sdf_world/assets/object/mesh.obj\",\n",
    "                 alpha=0.5)\n",
    "d, w, h = obj_start.mesh.bounding_box.primitive.extents\n",
    "obj_start.set_translate([0.4, -0.3, h/2])\n",
    "\n",
    "obj_goal = Mesh(world.vis, \"obj_goal\", \"./sdf_world/assets/object/mesh.obj\",\n",
    "                alpha=0.5)\n",
    "goal_pose = SE3.from_rotation_and_translation(\n",
    "    rotation=SO3.from_x_radians(jnp.pi/2),\n",
    "    translation=jnp.array([0.4, 0.3, w/2])\n",
    ")\n",
    "obj_goal.set_pose(goal_pose)\n",
    "\n",
    "\n",
    "hand_model = RobotModel(HAND_URDF, PANDA_PACKAGE, True)\n",
    "hand1 = Robot(world.vis, \"hand1\", hand_model, color=\"yellow\", alpha=0.5)\n",
    "hand2 = Robot(world.vis, \"hand2\", hand_model, color=\"yellow\", alpha=0.5)\n",
    "qhand = jnp.array([0.04, 0.04])\n",
    "hand1.set_joint_angles(qhand)\n",
    "hand2.set_joint_angles(qhand)\n",
    "\n",
    "ground = Box(world.vis, \"ground\", [2, 2, 0.5], \"gray\", alpha=0.5)\n",
    "ground.set_translate([0,0,-ground.lengths[-1]/2])\n",
    "\n",
    "import pickle\n",
    "with open(\"./sdf_world/assets/object\"+'/info.pkl', 'rb') as f:\n",
    "    obj_data = pickle.load(f)\n",
    "scale_to_norm = obj_data[\"scale_to_norm\"]"
   ]
  },
  {
   "cell_type": "code",
   "execution_count": 23,
   "metadata": {},
   "outputs": [],
   "source": [
    "obj_points = obj_start.mesh.sample(200)\n",
    "obj_points = farthest_point_sampling(obj_points, 20)"
   ]
  },
  {
   "cell_type": "code",
   "execution_count": 5,
   "metadata": {},
   "outputs": [],
   "source": [
    "# visualize\n",
    "def set_hand_pose(pose, hand:Robot):\n",
    "    ee_base_pose = pose @ SE3.from_translation(jnp.array([0,0,-0.105]))\n",
    "    hand.set_pose(ee_base_pose)"
   ]
  },
  {
   "cell_type": "code",
   "execution_count": 6,
   "metadata": {},
   "outputs": [],
   "source": [
    "orbax_checkpointer = orbax.checkpoint.PyTreeCheckpointer()\n",
    "\n",
    "grasp_net_dict = orbax_checkpointer.restore(\"model/grasp_net\")\n",
    "manip_net_dict = orbax_checkpointer.restore(\"model/manip_net\")\n",
    "\n",
    "grasp_net = GraspNet(10)\n",
    "manip_net = ManipNet(64)\n",
    "grasp_fn = lambda x: grasp_net.apply(grasp_net_dict['params'], x)\n",
    "manip_fn = lambda posevecs: manip_net.apply(manip_net_dict[\"params\"], posevecs)[0]"
   ]
  },
  {
   "cell_type": "code",
   "execution_count": 7,
   "metadata": {},
   "outputs": [],
   "source": [
    "def grasp_reconst(g:Array):\n",
    "    rot = SO3(grasp_fn(g)[1:5]).normalize()\n",
    "    trans = g/scale_to_norm\n",
    "    return SE3.from_rotation_and_translation(rot, trans)"
   ]
  },
  {
   "cell_type": "code",
   "execution_count": 8,
   "metadata": {},
   "outputs": [],
   "source": [
    "g = jnp.array([0,0,0.])\n",
    "grasp_pose = grasp_reconst(g)\n",
    "set_hand_pose(obj_start.pose @ grasp_pose, hand1)\n",
    "set_hand_pose(obj_goal.pose @ grasp_pose, hand2)"
   ]
  },
  {
   "cell_type": "code",
   "execution_count": 209,
   "metadata": {},
   "outputs": [],
   "source": [
    "# differential modules:\n",
    "# grasp prob\n",
    "tcp_wrt_ee = SE3.from_translation(jnp.array([0,0,-0.105]))\n",
    "hand_pc = hand1.get_surface_points_fn(qhand)\n",
    "hand_pc = jax.vmap(tcp_wrt_ee.apply)(hand_pc)\n",
    "env = SDFContainer([ground], 0.05)\n",
    "\n",
    "def get_grasp_logit(g:Array):\n",
    "    return grasp_fn(g)[0]\n",
    "\n",
    "def SE3_interp(pose1:SE3, pose2:SE3, num=5):\n",
    "    diff_vec_pos = pose2.translation() - pose1.translation()\n",
    "    diff_vec_rot = (pose1.rotation().inverse() @ pose2.rotation()).log()\n",
    "    result = []\n",
    "    for r in range(num-1):\n",
    "        ratio = (r)/(num-1)\n",
    "        pos = pose1.translation() + diff_vec_pos* ratio\n",
    "        rot = pose1.rotation() @ SO3.exp(diff_vec_rot*ratio)\n",
    "        result += [SE3.from_rotation_and_translation(rot, pos)]\n",
    "    result += [pose2]\n",
    "    return result\n",
    "\n",
    "def grasp_to_posevecs(grasp_pose, apply_zflip=False):\n",
    "    if apply_zflip:\n",
    "        zflip = SE3.from_rotation(SO3.from_z_radians(jnp.pi))\n",
    "    else:\n",
    "        zflip = SE3.identity()\n",
    "    poses = []\n",
    "    pose_pick = obj_start.pose @ grasp_pose @ zflip\n",
    "    pose_place = obj_goal.pose @ grasp_pose @ zflip\n",
    "    poses = [pose_pick, pose_place]\n",
    "    #SE3_interp(pose_pick, pose_place)\n",
    "    poses = jnp.vstack([pose.parameters() for pose in poses])\n",
    "    return poses\n",
    "\n",
    "# Penetration\n",
    "assign_points_fn = lambda posevec, points :jax.vmap(SE3(posevec).apply)(points)\n",
    "assign_hands_points_fn = lambda posevecs: jnp.vstack(\n",
    "    jax.vmap(assign_points_fn, in_axes=(0, None))(posevecs, hand_pc))\n",
    "# def assign_obj_points_fn(posevec, grasp_pose):\n",
    "#     obj_pose = SE3(posevec) @ grasp_pose.inverse()\n",
    "#     return jax.vmap(obj_pose.apply)(obj_points)\n",
    "# def assign_ee_and_obj_points(posevecs, grasp_pose):\n",
    "#     ee_points = assign_hands_points_fn(posevecs)\n",
    "#     obj_points = jnp.vstack(jax.vmap(assign_obj_points_fn, in_axes=(0, None))(posevecs, grasp_pose))\n",
    "#     return jnp.vstack([ee_points, obj_points])\n",
    "\n",
    "def penetration(posevecs):\n",
    "    points = assign_hands_points_fn(posevecs)\n",
    "    return env.penetration_sum(points)\n",
    "\n",
    "# Manipulability\n",
    "ws_r = 1.\n",
    "ws_center = jnp.array([0,0,0.5])\n",
    "def get_manip_value(posevec):\n",
    "    _, xyz = posevec[:4], posevec[4:]\n",
    "    is_out_of_bound = jnp.linalg.norm(xyz - ws_center) > ws_r\n",
    "    return jax.lax.cond(\n",
    "        is_out_of_bound, lambda x:jnp.array(0.), manip_fn, posevec)\n",
    "def manipulability(posevecs):\n",
    "    return jax.vmap(get_manip_value)(posevecs)\n",
    "\n",
    "def constraints(g, apply_zflip=False):\n",
    "    grasp_pose = grasp_reconst(g)\n",
    "    posevecs = grasp_to_posevecs(grasp_pose, apply_zflip)\n",
    "    logit = get_grasp_logit(g)\n",
    "    penet = penetration(posevecs)\n",
    "    manips = manipulability(posevecs)\n",
    "    return jnp.hstack([logit, penet, manips])\n",
    "\n",
    "def soft_constraint(g):\n",
    "    grasp_pose = grasp_reconst(g)\n",
    "    posevecs = grasp_to_posevecs(grasp_pose)\n",
    "    logit = get_grasp_logit(g)\n",
    "    penet = penetration(posevecs)\n",
    "    manips = manipulability(posevecs)\n",
    "    return - logit + penet*5 - manips.min()"
   ]
  },
  {
   "cell_type": "code",
   "execution_count": 63,
   "metadata": {},
   "outputs": [],
   "source": [
    "global pc\n",
    "pc = None\n",
    "def view_hands(g):\n",
    "    global pc\n",
    "    grasp_pose = grasp_reconst(g)\n",
    "    posevecs = grasp_to_posevecs(grasp_pose)\n",
    "    set_hand_pose(SE3(posevecs[0]), hand1)\n",
    "    set_hand_pose(SE3(posevecs[1]), hand2)\n",
    "    points = assign_hands_points_fn(posevecs)\n",
    "    if pc is None:\n",
    "        pc = PointCloud(world.vis, \"pc\", points, 0.01, \"red\")\n",
    "    else:\n",
    "        pc.reload(points=points)"
   ]
  },
  {
   "cell_type": "code",
   "execution_count": 210,
   "metadata": {},
   "outputs": [],
   "source": [
    "import optax\n",
    "\n",
    "optimizer = optax.adam(0.05)\n",
    "state = optimizer.init(g)\n",
    "eval = jax.jit(jax.value_and_grad(soft_constraint)).lower(g).compile()"
   ]
  },
  {
   "cell_type": "code",
   "execution_count": 1400,
   "metadata": {},
   "outputs": [],
   "source": [
    "g = np.random.normal(size=3)\n",
    "g = g/jnp.linalg.norm(g)\n",
    "view_hands(g)"
   ]
  },
  {
   "cell_type": "code",
   "execution_count": 1401,
   "metadata": {},
   "outputs": [],
   "source": [
    "g_init = g.copy()"
   ]
  },
  {
   "cell_type": "code",
   "execution_count": 1468,
   "metadata": {},
   "outputs": [],
   "source": [
    "g = g_init"
   ]
  },
  {
   "cell_type": "code",
   "execution_count": 1530,
   "metadata": {},
   "outputs": [
    {
     "name": "stdout",
     "output_type": "stream",
     "text": [
      "value: -3.809521198272705\n"
     ]
    }
   ],
   "source": [
    "val, grads = eval(g)\n",
    "updates, state = optimizer.update(grads, state)\n",
    "g = optax.apply_updates(g, updates)\n",
    "print(f\"value: {val}\")\n",
    "view_hands(g)\n",
    "\n",
    "# grasp_pose = grasp_reconst(g)\n",
    "# posevecs = grasp_to_posevecs(\n",
    "# grasp_pose)\n",
    "# logit = get_grasp_logit(g)\n",
    "# penet = penetration(posevecs)\n",
    "# manips = manipulability(posevecs)\n",
    "# print(logit, penet)"
   ]
  },
  {
   "cell_type": "code",
   "execution_count": 2255,
   "metadata": {},
   "outputs": [],
   "source": [
    "from sdf_world.nlp import NLP\n",
    "prob = NLP()"
   ]
  },
  {
   "cell_type": "code",
   "execution_count": 2266,
   "metadata": {},
   "outputs": [],
   "source": [
    "from functools import partial\n",
    "prob.add_var(\"g\", 3, -1*np.ones(3), np.ones(3))\n",
    "prob.add_con(\"con\", 4, [\"g\"], partial(constraints, apply_zflip=True), \n",
    "             lower=np.array([0.5, 0., 0.1, 0.1]),\n",
    "             upper=np.array([jnp.inf, 0., jnp.inf, jnp.inf])\n",
    ")\n",
    "ee_pose_init = SE3(panda_model.fk_fn(panda.neutral)[-1])\n",
    "def SE3_distance(pose1, pose2):\n",
    "    pos_err = pose1.translation() - pose2.translation()\n",
    "    rot_err = (pose1.rotation().inverse()@pose2.rotation()).log()\n",
    "    return safe_2norm(pos_err) + safe_2norm(rot_err)/3\n",
    "\n",
    "def objective(g):\n",
    "    grasp_pose = grasp_reconst(g)\n",
    "    posevecs = grasp_to_posevecs(grasp_pose, False)\n",
    "    poses = [ee_pose_init, SE3(posevecs[0]), SE3(posevecs[1]), ee_pose_init]\n",
    "    error = 0.\n",
    "    for i in range(len(poses)-1):\n",
    "        pose1, pose2 = poses[i], poses[i+1]\n",
    "        error += SE3_distance(pose1, pose2)\n",
    "    return error\n",
    "\n",
    "prob.add_objective(objective)\n",
    "prob.build()"
   ]
  },
  {
   "cell_type": "code",
   "execution_count": 2247,
   "metadata": {},
   "outputs": [],
   "source": [
    "panda.set_joint_angles(panda.neutral)"
   ]
  },
  {
   "cell_type": "code",
   "execution_count": 2267,
   "metadata": {},
   "outputs": [
    {
     "name": "stdout",
     "output_type": "stream",
     "text": [
      "This is Ipopt version 3.14.10, running with linear solver MUMPS 5.2.1.\n",
      "\n",
      "Number of nonzeros in equality constraint Jacobian...:        3\n",
      "Number of nonzeros in inequality constraint Jacobian.:        9\n",
      "Number of nonzeros in Lagrangian Hessian.............:        0\n",
      "\n",
      "Total number of variables............................:        3\n",
      "                     variables with only lower bounds:        0\n",
      "                variables with lower and upper bounds:        3\n",
      "                     variables with only upper bounds:        0\n",
      "Total number of equality constraints.................:        1\n",
      "Total number of inequality constraints...............:        3\n",
      "        inequality constraints with only lower bounds:        3\n",
      "   inequality constraints with lower and upper bounds:        0\n",
      "        inequality constraints with only upper bounds:        0\n",
      "\n",
      "iter    objective    inf_pr   inf_du lg(mu)  ||d||  lg(rg) alpha_du alpha_pr  ls\n",
      "   0  3.8153131e+00 2.30e-03 1.02e+00   0.0 0.00e+00    -  0.00e+00 0.00e+00   0\n",
      "   1  3.7991376e+00 1.48e+01 3.51e+00  -1.0 1.15e-01    -  7.67e-01 1.00e+00F  1\n",
      "   2  3.5975599e+00 2.05e+00 1.90e+00  -0.7 4.76e-01    -  3.43e-01 2.17e-01H  1\n",
      "   3  3.5994527e+00 4.73e+00 2.82e+00  -2.0 1.82e+00    -  5.94e-01 9.92e-01h  1\n",
      "   4  3.5956578e+00 2.25e+00 7.03e-01  -2.2 9.86e-01    -  1.00e+00 1.00e+00h  1\n",
      "   5  3.5951281e+00 1.88e+00 5.26e-01  -2.2 7.86e-01    -  7.66e-01 1.25e-01h  4\n",
      "   6  3.5233264e+00 0.00e+00 2.93e+00  -1.3 1.39e+00    -  1.00e+00 7.87e-01h  1\n",
      "   7  3.5174139e+00 0.00e+00 3.26e-01  -1.6 5.11e-01    -  1.00e+00 1.00e+00f  1\n",
      "   8  3.4595404e+00 0.00e+00 8.15e-01  -2.1 8.36e+00    -  8.68e-01 1.87e-01F  1\n",
      "   9  3.4634223e+00 6.58e+00 1.15e+01  -2.5 2.19e-01    -  1.00e+00 2.50e-01h  3\n",
      "iter    objective    inf_pr   inf_du lg(mu)  ||d||  lg(rg) alpha_du alpha_pr  ls\n",
      "  10  3.4470015e+00 4.43e+00 7.76e-01  -2.4 1.02e+00    -  6.78e-01 5.55e-01h  1\n",
      "  11  3.4839063e+00 3.30e+00 1.14e+00  -2.6 3.44e-01    -  1.00e+00 1.00e+00h  1\n",
      "  12  3.4491580e+00 0.00e+00 1.12e+00  -2.8 1.76e-01    -  1.00e+00 1.00e+00h  1\n",
      "  13  3.4537730e+00 0.00e+00 1.12e+00  -2.3 1.17e+00    -  1.00e+00 1.00e+00h  1\n",
      "  14  3.4434147e+00 3.73e-01 1.01e+00  -2.4 6.77e-01    -  1.00e+00 1.00e+00h  1\n",
      "  15  3.4425259e+00 0.00e+00 8.11e-01  -2.6 8.63e-01    -  1.00e+00 1.00e+00h  1\n",
      "  16  3.4381402e+00 6.25e-01 1.01e+00  -3.1 1.72e-01    -  1.00e+00 5.00e-01h  2\n",
      "  17  3.4407432e+00 0.00e+00 7.15e-01  -3.5 7.31e-02    -  7.21e-01 1.56e-01H  1\n",
      "  18  3.4364724e+00 0.00e+00 5.05e-01  -4.2 9.94e-02    -  1.00e+00 1.25e-01h  4\n",
      "  19  3.4555264e+00 1.72e-03 9.97e+00  -6.0 2.36e-02    -  9.82e-01 1.00e+00H  1\n",
      "iter    objective    inf_pr   inf_du lg(mu)  ||d||  lg(rg) alpha_du alpha_pr  ls\n",
      "  20  3.4337816e+00 6.07e-01 8.06e-01  -5.8 7.72e-02    -  1.00e+00 1.00e+00h  1\n",
      "  21  3.4353576e+00 1.03e-01 5.57e-01  -5.6 1.08e-02    -  1.00e+00 1.00e+00h  1\n",
      "  22  3.4349589e+00 0.00e+00 4.88e-01  -5.7 5.18e-03    -  1.00e+00 1.00e+00h  1\n",
      "  23  3.4346611e+00 5.34e-03 2.17e-01  -6.7 6.48e-02    -  1.00e+00 3.12e-02h  6\n",
      "  24  3.4347427e+00 2.69e-05 5.44e-01  -7.1 1.13e-03    -  1.00e+00 9.64e-01H  1\n",
      "  25  3.4346485e+00 4.04e-06 5.45e-01  -9.1 5.37e-04    -  1.00e+00 1.00e+00h  1\n",
      "  26  3.4346304e+00 7.08e-03 1.69e-01  -9.5 2.09e-01    -  1.00e+00 3.91e-03f  9\n",
      "  27  3.4345136e+00 2.05e-05 1.65e-01 -10.8 1.51e-03    -  1.00e+00 1.00e+00h  1\n",
      "  28  3.4345124e+00 3.58e-03 5.26e-01 -10.9 2.33e-02    -  1.00e+00 1.56e-02h  7\n",
      "  29  3.4344919e+00 3.36e-03 5.22e-01 -10.6 8.00e-03    -  1.00e+00 6.25e-02h  5\n",
      "iter    objective    inf_pr   inf_du lg(mu)  ||d||  lg(rg) alpha_du alpha_pr  ls\n",
      "  30  3.4344885e+00 3.35e-03 5.22e-01 -10.9 2.06e-02    -  1.00e+00 3.91e-03h  9\n",
      "  31  3.4344876e+00 3.34e-03 5.22e-01 -10.6 2.14e-02    -  1.00e+00 9.77e-04h 11\n",
      "  32  3.4344881e+00 3.33e-03 8.55e+00 -10.6 2.21e-02    -  1.00e+00 1.22e-04h 14\n",
      "  33  3.4344745e+00 2.57e-05 4.78e-01 -10.9 1.35e-04    -  1.00e+00 1.00e+00h  1\n",
      "  34  3.4347310e+00 6.90e-06 1.64e-01 -11.0 1.32e-03    -  1.00e+00 1.00e+00H  1\n",
      "  35  3.4345810e+00 0.00e+00 1.73e-01 -11.0 7.07e-04    -  1.00e+00 1.00e+00h  1\n",
      "  36  3.4345241e+00 8.96e-03 8.57e+00 -10.4 5.21e-01    -  1.00e+00 1.95e-03f 10\n",
      "  37  3.4344654e+00 7.13e-05 1.67e-01 -10.4 4.58e-04    -  1.00e+00 1.00e+00h  1\n",
      "  38  3.4345109e+00 4.24e-05 5.20e-01 -11.0 2.44e-04    -  1.00e+00 1.00e+00H  1\n",
      "  39  3.4344897e+00 0.00e+00 5.21e-01 -11.0 1.20e-04    -  1.00e+00 1.00e+00h  1\n",
      "iter    objective    inf_pr   inf_du lg(mu)  ||d||  lg(rg) alpha_du alpha_pr  ls\n",
      "  40  3.4344890e+00 0.00e+00 5.21e-01 -10.6 1.11e+00    -  1.00e+00 5.41e-06h 18\n",
      "  41  3.4344888e+00 0.00e+00 5.21e-01 -10.9 2.16e-01    -  1.00e+00 4.77e-07h 22\n",
      "  42  3.4344888e+00 0.00e+00 8.55e+00 -10.9 3.95e-01    -  7.28e-01 1.56e-07h 23\n",
      "  43  3.4344766e+00 1.40e-03 9.24e+00 -10.9 2.59e-01    -  1.00e+00 8.14e-04h 11\n",
      "  44  3.4344697e+00 6.87e-04 8.55e+00 -10.9 1.11e-04    -  1.00e+00 1.00e+00h  1\n",
      "  45  3.4344676e+00 2.77e-04 1.79e-01 -10.9 5.04e-05    -  1.00e+00 9.91e-01h  1\n",
      "  46  3.4344666e+00 2.54e-04 8.56e+00 -10.9 2.72e-05    -  1.00e+00 1.00e+00h  1\n",
      "  47  3.4344649e+00 0.00e+00 9.25e+00 -10.9 1.30e-05    -  1.00e+00 1.00e+00h  1\n",
      "  48  3.4344649e+00 0.00e+00 9.25e+00 -11.0 7.19e-06    -  1.00e+00 1.95e-03h 10\n",
      "  49  3.4344649e+00 0.00e+00 9.25e+00 -11.0 7.17e-06    -  1.00e+00 2.44e-04h 13\n",
      "iter    objective    inf_pr   inf_du lg(mu)  ||d||  lg(rg) alpha_du alpha_pr  ls\n",
      "  50  3.4344649e+00 0.00e+00 9.25e+00 -11.0 7.17e-06    -  1.00e+00 1.53e-05h 17\n",
      "  51  3.4344649e+00 4.67e-07 1.80e-01 -11.0 9.60e+01    -  1.18e-01 1.19e-09f 23\n",
      "In iteration 51, 1 Slack too small, adjusting variable bound\n",
      "  52  3.4344649e+00 4.67e-07 1.80e-01 -11.0 7.59e-07    -  1.00e+00 2.82e-03h  1\n",
      "  53  3.4344649e+00 4.67e-07 2.20e-01 -11.0 2.52e-07    -  1.00e+00 5.00e-01h  2\n",
      "  54  3.4344649e+00 0.00e+00 8.80e-01 -11.0 1.26e-07    -  9.64e-01 1.00e+00H  1\n",
      "  55r 3.4344649e+00 0.00e+00 9.99e+02  -6.0 0.00e+00    -  0.00e+00 4.98e-15R 17\n",
      "  56r 3.4479289e+00 0.00e+00 9.24e-02  -9.0 1.86e+03    -  1.00e+00 9.89e-04f  1\n",
      "  57r 3.4796159e+00 0.00e+00 2.07e-02  -5.5 2.05e-01    -  1.00e+00 1.00e+00h  1\n",
      "\n",
      "Number of Iterations....: 57\n",
      "\n",
      "                                   (scaled)                 (unscaled)\n",
      "Objective...............:   3.4786894321441650e+00    3.4786894321441650e+00\n",
      "elapsed: 0.29162478899999655\n",
      "Dual infeasibility......:   6.9214754680801438e-01    6.9214754680801438e-01\n",
      "Constraint violation....:   0.0000000000000000e+00    0.0000000000000000e+00\n",
      "Variable bound violation:   0.0000000000000000e+00    0.0000000000000000e+00\n",
      "Complementarity.........:   5.8473656296522238e-04    5.8473656296522238e-04\n",
      "Overall NLP error.......:   6.9214754680801438e-01    6.9214754680801438e-01\n",
      "\n",
      "\n",
      "Number of objective function evaluations             = 329\n",
      "Number of objective gradient evaluations             = 57\n",
      "Number of equality constraint evaluations            = 329\n",
      "Number of inequality constraint evaluations          = 329\n",
      "Number of equality constraint Jacobian evaluations   = 60\n",
      "Number of inequality constraint Jacobian evaluations = 60\n",
      "Number of Lagrangian Hessian evaluations             = 0\n",
      "Total seconds in IPOPT                               = 0.236\n",
      "\n",
      "EXIT: Converged to a point of local infeasibility. Problem may be infeasible.\n"
     ]
    }
   ],
   "source": [
    "xsol, info = prob.solve(g, viol_tol=0.01)"
   ]
  },
  {
   "cell_type": "code",
   "execution_count": 2270,
   "metadata": {},
   "outputs": [],
   "source": [
    "view_hands(xsol)"
   ]
  },
  {
   "cell_type": "code",
   "execution_count": 2271,
   "metadata": {},
   "outputs": [
    {
     "data": {
      "text/plain": [
       "Array([2.4893446 , 0.        , 0.2854541 , 0.38682485], dtype=float32)"
      ]
     },
     "execution_count": 2271,
     "metadata": {},
     "output_type": "execute_result"
    }
   ],
   "source": [
    "constraints(xsol)"
   ]
  },
  {
   "cell_type": "code",
   "execution_count": 2272,
   "metadata": {},
   "outputs": [
    {
     "data": {
      "text/plain": [
       "Array(3.4786894, dtype=float32)"
      ]
     },
     "execution_count": 2272,
     "metadata": {},
     "output_type": "execute_result"
    }
   ],
   "source": [
    "objective(xsol)"
   ]
  },
  {
   "cell_type": "code",
   "execution_count": 2283,
   "metadata": {},
   "outputs": [],
   "source": [
    "from scipy.optimize import minimize\n",
    "from functools import partial\n",
    "@jax.jit\n",
    "def _pose_error(target_pose, q):\n",
    "    q = jnp.hstack([q, 0.04, 0.04])\n",
    "    ee_pose = SE3(panda_model.fk_fn(q)[-1])\n",
    "    pos_error = ee_pose.translation() - target_pose.translation()\n",
    "    pos_error = jnp.sum(pos_error **2)\n",
    "    orn_error = (target_pose.inverse()@ee_pose).rotation().log()\n",
    "    orn_error = jnp.sum(orn_error ** 2)\n",
    "    return pos_error + orn_error/3\n",
    "\n",
    "_pose_error_vg = jax.jit(jax.value_and_grad(_pose_error, argnums=1)).lower(SE3.identity(), jnp.zeros(7)).compile()\n",
    "\n",
    "def inverse_kinematics(pose, x0=panda_model.neutral[:7]):\n",
    "    pose_error = partial(_pose_error_vg, pose)\n",
    "    res = minimize(\n",
    "        pose_error, x0, \n",
    "        method=\"SLSQP\", jac=True,\n",
    "        bounds=[(lb, ub) for lb, ub in zip(panda.lb, panda.ub)])\n",
    "    if res.success and _pose_error(pose, res.x) < 0.001:\n",
    "        print(f\"success:{res.success}\")    \n",
    "        return res.x\n",
    "    print(\"fail\")\n",
    "    return None"
   ]
  },
  {
   "cell_type": "code",
   "execution_count": 2614,
   "metadata": {},
   "outputs": [
    {
     "name": "stdout",
     "output_type": "stream",
     "text": [
      "success:True\n",
      "success:True\n"
     ]
    }
   ],
   "source": [
    "grasp_pose = grasp_reconst(xsol)\n",
    "posevecs = grasp_to_posevecs(grasp_pose)\n",
    "\n",
    "@jax.jit\n",
    "def is_collision(q, grasp_pose=None):\n",
    "    grasp_pose = None\n",
    "    if grasp_pose is None:\n",
    "        points = panda_model.get_surface_points_fn(q)\n",
    "    else:\n",
    "        robot_points = panda_model.get_surface_points_fn(q)\n",
    "        ee_pose = SE3(panda_model.fk_fn(q)[-1])\n",
    "        obj_pose = ee_pose @ grasp_pose.inverse()\n",
    "        grasped_obj_points = jax.vmap(obj_pose.apply)(obj_points)\n",
    "        points = jnp.vstack([robot_points, grasped_obj_points])\n",
    "    return env.penetration_sum(points) != 0.\n",
    "\n",
    "# check key poses\n",
    "ee_pick = SE3(posevecs[0])\n",
    "ee_place = SE3(posevecs[1])\n",
    "key_poses = [ee_pick, ee_place]\n",
    "for pose in key_poses:\n",
    "    q = inverse_kinematics(pose)\n",
    "    if is_collision(q):\n",
    "        print(\"There is collision in IK\")\n",
    "    "
   ]
  },
  {
   "cell_type": "code",
   "execution_count": 2284,
   "metadata": {},
   "outputs": [
    {
     "name": "stdout",
     "output_type": "stream",
     "text": [
      "success:True\n",
      "success:True\n",
      "success:True\n",
      "success:True\n",
      "success:True\n",
      "success:True\n"
     ]
    }
   ],
   "source": [
    "#grasp_offset = SE3.from_translation(jnp.array([0,0,depth]))\n",
    "pre_pose = SE3.from_translation(jnp.array([0,0,-0.1]))\n",
    "up_pose = SE3.from_translation(jnp.array([0,0,0.1]))\n",
    "grasp_pose = grasp_reconst(xsol)\n",
    "posevecs = grasp_to_posevecs(grasp_pose)\n",
    "\n",
    "ee_pick = SE3(posevecs[0])\n",
    "ee_place = SE3(posevecs[1])\n",
    "q_pick = inverse_kinematics(ee_pick)\n",
    "q_place = inverse_kinematics(ee_place)\n",
    "\n",
    "ee0_pre = ee_pick @ pre_pose\n",
    "ee0_post = up_pose @ ee_pick\n",
    "q_pick_pre = inverse_kinematics(ee0_pre, q_pick)\n",
    "q_pick_post = inverse_kinematics(ee0_post, q_pick)\n",
    "\n",
    "ee1_pre = up_pose @ ee_place\n",
    "ee1_post = ee_place @ pre_pose\n",
    "q_place_pre = inverse_kinematics(ee1_pre, q_place)\n",
    "q_place_post = inverse_kinematics(ee1_post, q_place)\n",
    "\n",
    "qs = [panda.neutral, q_pick_pre, q_pick, q_pick_post, q_place_pre, q_place, q_place_post, panda.neutral]\n",
    "# ee_poses = [ee0_pre, ee_pick, ee0_post, ee1_pre, ee_place, ee1_post]\n",
    "\n",
    "# qs = []\n",
    "# for ee in ee_poses:\n",
    "#     qs += [inverse_kinematics(ee)]\n",
    "# qs.insert(0, panda.neutral)\n",
    "# qs += [panda.neutral]"
   ]
  },
  {
   "cell_type": "code",
   "execution_count": null,
   "metadata": {},
   "outputs": [],
   "source": []
  },
  {
   "cell_type": "code",
   "execution_count": 2591,
   "metadata": {},
   "outputs": [],
   "source": [
    "from copy import deepcopy\n",
    "class Config:\n",
    "    def __init__(self, q, parent=None):\n",
    "        self.q = q\n",
    "        self.parent = parent\n",
    "    def __repr__(self):\n",
    "        return self.q.__repr__()\n",
    "\n",
    "def nearest_node(node_rand, tree):\n",
    "    node_near = tree[0]\n",
    "    for node in tree:\n",
    "        if np.linalg.norm(node.q - node_rand.q) < np.linalg.norm(node_near.q - node_rand.q):\n",
    "            node_near = node\n",
    "    return node_near\n",
    "\n",
    "def backtrack(last_node):\n",
    "    path = [last_node.q]\n",
    "    while True:\n",
    "        if last_node.parent is None:\n",
    "            break\n",
    "        last_node = last_node.parent\n",
    "        path.append(last_node.q)\n",
    "    return path[::-1]\n",
    "\n",
    "def get_direct_path(q1, q2, grasp_pose=None, partial=False):\n",
    "    q_diff = q2-q1\n",
    "    num_interp = np.ceil(np.linalg.norm(q_diff) / 0.1).astype(int)\n",
    "    ratio = np.linspace(0,1, num_interp, endpoint=True)\n",
    "    path = [q1 + q_diff*r for r in ratio][1:]\n",
    "    i = 0\n",
    "    for q in path:\n",
    "        if is_collision(q, grasp_pose):\n",
    "            if not partial: return None\n",
    "            break\n",
    "        i += 1\n",
    "    if i == 0:  return None\n",
    "    return path[:i+1]\n",
    "\n",
    "def rrt(q_start, q_goal, grasp_pose=None):\n",
    "    start = Config(q_start)\n",
    "    goal = Config(q_goal)\n",
    "    tree1 = [start]\n",
    "    tree2 = [goal]\n",
    "    \n",
    "    direct_path = get_direct_path(q_start, q_goal, grasp_pose)\n",
    "    if direct_path is not None:\n",
    "        print(\"end: direct path\")\n",
    "        return direct_path\n",
    "    \n",
    "    tree_a, tree_b = tree1, tree2\n",
    "    is_fwd = True\n",
    "\n",
    "    for _ in range(200):\n",
    "        node_rand = Config(panda.get_random_config())\n",
    "        node_near_a = nearest_node(node_rand, tree_a)\n",
    "        path = get_direct_path(node_near_a.q, node_rand.q, grasp_pose=grasp_pose, partial=True)\n",
    "        if path is None: continue\n",
    "\n",
    "        parent = node_near_a\n",
    "        for q in path:\n",
    "            node = Config(q, parent)\n",
    "            tree_a.append(node)\n",
    "            parent = node\n",
    "        \n",
    "        node_a = deepcopy(node)\n",
    "        node_near_b = nearest_node(node_rand, tree_b)\n",
    "        path = get_direct_path(node_near_b.q, node_a.q, grasp_pose=grasp_pose, partial=True)\n",
    "        if path is None: continue\n",
    "\n",
    "        parent = node_near_b\n",
    "        for q in path:\n",
    "            node = Config(q, parent)\n",
    "            tree_b.append(node)\n",
    "            parent = node\n",
    "\n",
    "        if np.allclose(path[-1], node_a.q): #connected\n",
    "            node_fwd, node_bwd = node_a, node\n",
    "            if not is_fwd:  node_fwd, node_bwd = node_bwd, node_fwd\n",
    "            path_fwd = backtrack(node_fwd)\n",
    "            path_bwd = backtrack(node_bwd)[::-1]\n",
    "            path = [q for q in (*path_fwd, *path_bwd)] \n",
    "            return path\n",
    "        tree_a, tree_b = tree_b, tree_a\n",
    "        is_fwd = not is_fwd\n",
    "\n",
    "    return None\n",
    "\n",
    "\n",
    "def smooth_path(path, grasp_pose=None):\n",
    "    smoothed_path = path\n",
    "    for _ in range(50):\n",
    "        i = np.random.randint(0, len(smoothed_path) -1)\n",
    "        j = np.random.randint(0, len(smoothed_path) -1)\n",
    "        if abs(i - j) <= 1:\n",
    "            continue\n",
    "        if j < i:\n",
    "            i, j = j, i\n",
    "        shortcut = get_direct_path(smoothed_path[i], smoothed_path[j], partial=True)\n",
    "        if shortcut is None: continue\n",
    "        if (len(shortcut) < (j - i)) and all(not is_collision(q, grasp_pose) for q in shortcut):\n",
    "            smoothed_path = smoothed_path[:i + 1] + shortcut + smoothed_path[j + 1:]\n",
    "    print(\"smoothed\")\n",
    "    return smoothed_path"
   ]
  },
  {
   "cell_type": "code",
   "execution_count": 2615,
   "metadata": {},
   "outputs": [],
   "source": [
    "import time\n",
    "# move-pick-move-place-move\n",
    "\n",
    "class Move:\n",
    "    def __init__(self, q1, q2, grasp=None):\n",
    "        self.q1 = q1\n",
    "        self.q2 = q2\n",
    "        self.grasp_pose = None\n",
    "        self.path = self.get_path(q1, q2)\n",
    "        if grasp is not None:\n",
    "            self.grasp_pose = grasp_reconst(grasp)\n",
    "        self.path = smooth_path(self.path, None)\n",
    "    \n",
    "    def get_path(self, q1, q2, num=20):\n",
    "        return rrt(q1, q2, None)\n",
    "    \n",
    "    def show(self):\n",
    "        for q in self.path:\n",
    "            panda.set_joint_angles(q)\n",
    "            ee_pose = SE3(panda_model.fk_fn(q)[-1])\n",
    "            if self.grasp_pose is not None:\n",
    "                obj.set_pose(ee_pose @ self.grasp_pose.inverse())\n",
    "            time.sleep(0.05)\n",
    "\n",
    "class Pick:\n",
    "    def __init__(self, q1, q2, q3, grasp):\n",
    "        self.q1 = q1\n",
    "        self.q2 = q2\n",
    "        self.q3 = q3\n",
    "        self.path = self.get_path(q1, q2)\n",
    "        self.path = smooth_path(self.path)\n",
    "        self.grasp_pose = grasp_reconst(grasp)\n",
    "    \n",
    "    def get_path(self, q1, q2, num=20):\n",
    "        return rrt(q1, q2)\n",
    "\n",
    "    def show(self):\n",
    "        for q in self.path:\n",
    "            panda.set_joint_angles(q)\n",
    "            time.sleep(0.05)\n",
    "        for q in self.get_path(self.q2, self.q3):\n",
    "            panda.set_joint_angles(q)\n",
    "            ee_pose = SE3(panda_model.fk_fn(q)[-1])\n",
    "            obj.set_pose(ee_pose @ self.grasp_pose.inverse())\n",
    "            time.sleep(0.05)\n",
    "\n",
    "class Place:\n",
    "    def __init__(self, q1, q2, q3, grasp):\n",
    "        self.q1 = q1\n",
    "        self.q2 = q2\n",
    "        self.q3 = q3\n",
    "        self.path = self.get_path(q1, q2)\n",
    "        self.path = smooth_path(self.path)\n",
    "        self.grasp_pose = grasp_reconst(grasp)\n",
    "    \n",
    "    def get_path(self, q1, q2, num=20):\n",
    "        return rrt(q1, q2)\n",
    "\n",
    "    def show(self):\n",
    "        for q in self.path:\n",
    "            panda.set_joint_angles(q)\n",
    "            ee_pose = SE3(panda_model.fk_fn(q)[-1])\n",
    "            obj.set_pose(ee_pose @ self.grasp_pose.inverse())\n",
    "            time.sleep(0.05)\n",
    "        for q in self.get_path(self.q2, self.q3):\n",
    "            panda.set_joint_angles(q)\n",
    "            time.sleep(0.05)\n",
    "\n"
   ]
  },
  {
   "cell_type": "code",
   "execution_count": 1564,
   "metadata": {},
   "outputs": [],
   "source": [
    "obj = Mesh(world.vis, \"obj\", \"./sdf_world/assets/object/mesh.obj\",\n",
    "                alpha=0.8, color=\"blue\")\n",
    "obj.set_translate([0.4, -0.3, h/2])"
   ]
  },
  {
   "cell_type": "code",
   "execution_count": 2616,
   "metadata": {},
   "outputs": [
    {
     "name": "stdout",
     "output_type": "stream",
     "text": [
      "smoothed\n",
      "end: direct path\n",
      "smoothed\n",
      "smoothed\n",
      "end: direct path\n",
      "smoothed\n",
      "smoothed\n"
     ]
    }
   ],
   "source": [
    "move1 = Move(qs[0], qs[1])\n",
    "pick = Pick(qs[1], qs[2], qs[3], xsol)\n",
    "move2 = Move(qs[3], qs[4], xsol)\n",
    "place = Place(qs[4], qs[5], qs[6], xsol)\n",
    "move3 = Move(qs[6], qs[7])"
   ]
  },
  {
   "cell_type": "code",
   "execution_count": 2618,
   "metadata": {},
   "outputs": [
    {
     "name": "stdout",
     "output_type": "stream",
     "text": [
      "end: direct path\n",
      "end: direct path\n"
     ]
    }
   ],
   "source": [
    "move1.show()\n",
    "pick.show()\n",
    "move2.show()\n",
    "place.show()\n",
    "move3.show()"
   ]
  },
  {
   "cell_type": "code",
   "execution_count": 2459,
   "metadata": {},
   "outputs": [
    {
     "name": "stdout",
     "output_type": "stream",
     "text": [
      "end\n"
     ]
    }
   ],
   "source": [
    "q_start = panda.neutral\n",
    "q_goal = qs[3]\n",
    "\n",
    "path = rrt(q_start, q_goal)"
   ]
  },
  {
   "cell_type": "code",
   "execution_count": 53,
   "metadata": {},
   "outputs": [],
   "source": [
    "dt = 1/10"
   ]
  },
  {
   "cell_type": "code",
   "execution_count": 773,
   "metadata": {},
   "outputs": [],
   "source": [
    "dim = 7\n",
    "n = 10\n",
    "\n",
    "to_mat = lambda vec:vec.reshape(-1, dim)\n",
    "to_vec = lambda vec:vec.flatten()\n",
    "\n",
    "def vector_integrate(x_init, xdots):\n",
    "    dt_vec = jnp.full(n, dt)    \n",
    "    lower_tri = jnp.tril(jnp.ones((n,n)))\n",
    "    lower_tri = jnp.kron(lower_tri @ jnp.diag(dt_vec), jnp.eye(7))\n",
    "    xs = to_vec(x_init + to_mat(lower_tri @ xdots))\n",
    "    return xs\n",
    "def rollout(state, u):\n",
    "    q, qdot = state\n",
    "    qdots = vector_integrate(qdot, u)\n",
    "    qs = vector_integrate(q, qdots)\n",
    "    return qs"
   ]
  },
  {
   "cell_type": "code",
   "execution_count": 975,
   "metadata": {},
   "outputs": [],
   "source": [
    "def goal_pose_reaching_cost(q, target_pose):\n",
    "    pose_curr = SE3(panda_model.fk_fn(q)[-1])\n",
    "    pos_error = pose_curr.translation() - target_pose.translation()\n",
    "    pos_error = jnp.sum(pos_error **2)\n",
    "    orn_error = (target_pose.inverse()@pose_curr).rotation().log() /3\n",
    "    orn_error = jnp.sum(orn_error**2)\n",
    "    return pos_error + orn_error"
   ]
  },
  {
   "cell_type": "code",
   "execution_count": 977,
   "metadata": {},
   "outputs": [],
   "source": [
    "#initialize\n",
    "state_curr = panda.neutral, jnp.zeros(dim)\n",
    "u = np.zeros(dim*n)"
   ]
  },
  {
   "cell_type": "code",
   "execution_count": 89,
   "metadata": {},
   "outputs": [],
   "source": [
    "frame = Frame(world.vis, \"frame\")"
   ]
  },
  {
   "cell_type": "code",
   "execution_count": 781,
   "metadata": {},
   "outputs": [],
   "source": [
    "qtn = np.random.normal(size=4)\n",
    "qtn = qtn/jnp.linalg.norm(qtn)\n",
    "goal_pose = SE3.from_rotation_and_translation(\n",
    "    SO3(qtn), jnp.array([0.4, 0, 0.4]))\n",
    "frame.set_pose(goal_pose)"
   ]
  },
  {
   "cell_type": "code",
   "execution_count": 978,
   "metadata": {},
   "outputs": [],
   "source": [
    "def cost(state, u):\n",
    "    qs = rollout(state, u)\n",
    "    return jax.vmap(goal_pose_reaching_cost, in_axes=(0, None))(\n",
    "        to_mat(qs), goal_pose\n",
    "    ).sum()"
   ]
  },
  {
   "cell_type": "code",
   "execution_count": 1034,
   "metadata": {},
   "outputs": [],
   "source": [
    "draw_ee_traj(u)"
   ]
  },
  {
   "cell_type": "code",
   "execution_count": 1199,
   "metadata": {},
   "outputs": [],
   "source": [
    "from sdf_world.nlp import NLP"
   ]
  },
  {
   "cell_type": "code",
   "execution_count": 1206,
   "metadata": {},
   "outputs": [],
   "source": [
    "mpc = NLP()\n",
    "for i in range(n):\n",
    "    mpc.add_var(f\"u{i}\", dim, panda.lb, panda.ub)\n",
    "    mpc.add_var(f\"q{i}\", dim, np.ones(7)*-1, np.ones(7))"
   ]
  },
  {
   "cell_type": "code",
   "execution_count": 1461,
   "metadata": {},
   "outputs": [],
   "source": [
    "robot_dim = 7\n",
    "num_steps = 30\n",
    "\n",
    "to_mat = lambda vec:vec.reshape(-1, robot_dim)\n",
    "to_vec = lambda vec:vec.flatten()\n",
    "\n",
    "get_qs = lambda x: x[:robot_dim*num_steps]\n",
    "get_qdots = lambda x: x[robot_dim*num_steps:-robot_dim*num_steps]\n",
    "get_us = lambda x: x[-robot_dim*num_steps:]\n",
    "qs = jnp.tile(panda.neutral, num_steps)\n",
    "qdots = jnp.zeros(robot_dim*num_steps)\n",
    "us = jnp.zeros(robot_dim*num_steps)\n",
    "x = jnp.hstack([qs, qdots, us])\n",
    "u_lb, u_ub = np.ones(robot_dim)*-1, np.ones(robot_dim)\n",
    "qdot_lb, qdot_ub = np.ones(robot_dim)*-1, np.ones(robot_dim)\n",
    "\n",
    "dim = x.shape[0]\n",
    "lb = np.hstack([\n",
    "    np.tile(panda.lb, num_steps), \n",
    "    np.tile(qdot_lb, num_steps),\n",
    "    np.tile(u_lb, num_steps)\n",
    "])\n",
    "ub = np.hstack([\n",
    "    np.tile(panda.ub, num_steps), \n",
    "    np.tile(qdot_ub, num_steps),\n",
    "    np.tile(u_ub, num_steps)\n",
    "])"
   ]
  },
  {
   "cell_type": "code",
   "execution_count": 1462,
   "metadata": {},
   "outputs": [],
   "source": [
    "#dynamic constraints\n",
    "def constr_init_goal(x):\n",
    "    qs = to_mat(get_qs(x))\n",
    "    q_init, q_goal = qs[0], qs[-1]\n",
    "    return jnp.hstack([q_init-panda.neutral, q_goal-panda.neutral])\n",
    "\n",
    "def constr_dynamics(x):\n",
    "    qs = to_mat(get_qs(x))\n",
    "    qdots = to_mat(get_qdots(x))\n",
    "    us = to_mat(get_us(x))\n",
    "\n",
    "    err_vel_dyn = qs[:-1] + qdots[:-1]*dt  - qs[1:]\n",
    "    err_acc_dyn = qdots[:-1] + us[:-1]*dt  - qdots[1:]\n",
    "    return jnp.hstack([err_vel_dyn.flatten(), err_acc_dyn.flatten()])\n",
    "\n",
    "def constr_fn(x):\n",
    "    return jnp.hstack([\n",
    "        constr_init_goal(x),\n",
    "        constr_dynamics(x)\n",
    "    ])\n",
    "\n",
    "_jac_constr_fn = jax.jacrev(constr_fn)\n",
    "row, col = np.nonzero(_jac_constr_fn(np.random.random(dim)))\n",
    "jac_constr_fn = lambda x: _jac_constr_fn(x)[row, col]\n",
    "jac_constr_fn = jax.jit(jac_constr_fn).lower(x).compile()\n",
    "jac_struct_fn = lambda : (row, col)\n",
    "constr_fn = jax.jit(constr_fn).lower(x).compile()\n",
    "const_dim = constr_fn(x).shape[0]"
   ]
  },
  {
   "cell_type": "code",
   "execution_count": 1516,
   "metadata": {},
   "outputs": [],
   "source": [
    "get_tcp = lambda q: panda_model.fk_fn(q)[-1][-3:]\n",
    "def objective(x):\n",
    "    qs = to_mat(get_qs(x))\n",
    "    tcps = jax.vmap(get_tcp)(qs)\n",
    "    target_point = np.array([0.4, 0.4, 0.4])\n",
    "    return jnp.sum((tcps - target_point).flatten()**2)\n",
    "grad_fn = jax.jit(jax.grad(objective)).lower(x).compile()\n",
    "obj_fn = jax.jit(objective).lower(x).compile()"
   ]
  },
  {
   "cell_type": "code",
   "execution_count": 1517,
   "metadata": {},
   "outputs": [],
   "source": [
    "class MPCProb:\n",
    "    pass    \n",
    "mpc = MPCProb()\n",
    "setattr(mpc, \"objective\", obj_fn)\n",
    "setattr(mpc, \"gradient\", grad_fn)\n",
    "setattr(mpc, \"constraints\", constr_fn)\n",
    "setattr(mpc, \"jacobian\", jac_constr_fn)\n",
    "setattr(mpc, \"jacobianstructure\", jac_struct_fn)"
   ]
  },
  {
   "cell_type": "code",
   "execution_count": 1518,
   "metadata": {},
   "outputs": [],
   "source": [
    "import cyipopt\n",
    "ipopt = cyipopt.Problem(\n",
    "    n=dim, m=const_dim,\n",
    "    problem_obj=mpc,\n",
    "    lb=lb, ub=ub,\n",
    "    cl=jnp.zeros(const_dim), \n",
    "    cu=jnp.zeros(const_dim)\n",
    ")\n",
    "ipopt.add_option(\"acceptable_tol\", 0.01)\n",
    "ipopt.add_option(\"acceptable_constr_viol_tol\", 0.01)\n",
    "ipopt.add_option(\"acceptable_iter\", 2)"
   ]
  },
  {
   "cell_type": "code",
   "execution_count": 1522,
   "metadata": {},
   "outputs": [
    {
     "data": {
      "text/plain": [
       "Array([-4.90109503e-01, -9.50984508e-02, -4.90109473e-01,  2.03994036e-01,\n",
       "       -1.41606554e-01,  1.20430313e-01,  3.72529030e-09, -3.81158859e-01,\n",
       "       -5.77685833e-02, -3.72178853e-01,  1.34905607e-01, -1.19563460e-01,\n",
       "        7.55352974e-02, -1.72239112e-09, -2.72918075e-01, -2.59929933e-02,\n",
       "       -2.62308151e-01,  7.65750781e-02, -9.27229822e-02,  4.04165611e-02,\n",
       "        9.14376130e-10, -1.76066607e-01, -3.44259362e-03, -1.67656764e-01,\n",
       "        3.30046341e-02, -6.43205270e-02,  1.63540244e-02,  5.86894089e-10,\n",
       "       -9.62055698e-02,  8.71504098e-03, -9.13946256e-02,  5.52916434e-03,\n",
       "       -3.71367037e-02,  2.78617488e-03,  1.00207931e-09, -3.44693176e-02,\n",
       "        1.10447705e-02, -3.31875756e-02, -7.66679458e-03, -1.36465877e-02,\n",
       "       -2.95832008e-03, -3.30039995e-10,  9.82091483e-03,  5.49811590e-03,\n",
       "        8.39256216e-03, -9.67822690e-03,  4.39268490e-03, -3.67637910e-03,\n",
       "        2.66421551e-10,  3.67679670e-02,  1.17470848e-03,  3.29275802e-02,\n",
       "       -1.01040518e-02,  1.57755986e-02, -2.93548801e-03,  1.38928868e-10,\n",
       "        4.79636379e-02, -6.96791627e-04,  4.21380326e-02, -8.59025214e-03,\n",
       "        2.01798752e-02, -4.32105502e-04,  3.99720257e-10,  4.95212153e-02,\n",
       "       -5.40791138e-04,  4.22989503e-02, -7.22623989e-03,  2.02820078e-02,\n",
       "        1.82557350e-03, -3.44460460e-10,  4.26190905e-02, -4.81270254e-04,\n",
       "        3.55230346e-02, -5.43942489e-03,  1.70214102e-02,  2.64547835e-03,\n",
       "       -1.49178447e-10,  2.83610355e-02, -5.33298939e-04,  2.31971592e-02,\n",
       "       -3.08663957e-03,  1.10432338e-02,  2.23043934e-03, -1.17172050e-10,\n",
       "        7.66348932e-03, -7.92765175e-04,  6.26506843e-03, -5.25047653e-05,\n",
       "        2.78634322e-03,  9.38392477e-04, -1.59179336e-11,  1.14161952e-03,\n",
       "       -1.00280205e-03,  1.04357256e-03,  1.20967755e-03,  1.27762236e-04,\n",
       "        7.94120133e-04, -3.81881193e-11,  1.97527464e-03, -1.07113586e-03,\n",
       "        1.70577923e-03,  1.34187739e-03,  3.68821668e-04,  1.07396673e-03,\n",
       "        6.58602062e-11,  1.94921508e-03, -1.07312854e-03,  1.68547756e-03,\n",
       "        1.34064211e-03,  3.60476261e-04,  1.06562185e-03,  5.22319965e-11,\n",
       "        1.07467198e-03, -1.01609901e-03,  9.92199522e-04,  1.20836345e-03,\n",
       "        1.06340740e-04,  7.69052596e-04, -5.41380274e-11,  7.58140162e-03,\n",
       "       -8.02941504e-04,  6.20070472e-03, -6.47880079e-05,  2.76240217e-03,\n",
       "        9.01013147e-04, -3.64330788e-12,  2.82730069e-02, -5.34190389e-04,\n",
       "        2.31263302e-02, -3.11399065e-03,  1.10209035e-02,  2.18237354e-03,\n",
       "        2.50889087e-10,  4.25354689e-02, -4.86705569e-04,  3.54557224e-02,\n",
       "       -5.47515228e-03,  1.70033239e-02,  2.58758012e-03,  4.74845052e-10,\n",
       "        4.94519845e-02, -5.64285554e-04,  4.22452912e-02, -7.26222806e-03,\n",
       "        2.02705264e-02,  1.76002248e-03,  1.20586208e-10,  4.79094088e-02,\n",
       "       -7.42934179e-04,  4.20989543e-02, -8.62115156e-03,  2.01736707e-02,\n",
       "       -5.02400100e-04,  6.41751097e-11,  3.67299281e-02,  1.13378000e-03,\n",
       "        3.29002365e-02, -1.01456884e-02,  1.57736577e-02, -3.00556398e-03,\n",
       "        3.62598840e-10,  9.80129000e-03,  5.45964018e-03,  8.37962236e-03,\n",
       "       -9.72427800e-03,  4.39261505e-03, -3.74267064e-03,  1.98145500e-10,\n",
       "       -3.44689600e-02,  1.10033490e-02, -3.31840292e-02, -7.70885404e-03,\n",
       "       -1.36468112e-02, -3.01797409e-03,  1.40584433e-10, -9.61876661e-02,\n",
       "        8.68494995e-03, -9.13784131e-02,  5.48792165e-03, -3.71390097e-02,\n",
       "        2.73625413e-03, -2.24261359e-10, -1.76039100e-01, -3.46080516e-03,\n",
       "       -1.67634815e-01,  3.29714268e-02, -6.43249303e-02,  1.63177140e-02,\n",
       "       -5.20387289e-10, -2.72896290e-01, -2.60039382e-02, -2.62292743e-01,\n",
       "        7.65616894e-02, -9.27255824e-02,  4.04001102e-02, -6.02149441e-11,\n",
       "       -3.81147176e-01, -5.77749498e-02, -3.72172266e-01,  1.34904385e-01,\n",
       "       -1.19563296e-01,  7.55308643e-02, -2.12872209e-09, -4.90109503e-01,\n",
       "       -9.50984508e-02, -4.90109473e-01,  2.03994036e-01, -1.41606554e-01,\n",
       "        1.20430313e-01,  3.72529030e-09,  0.00000000e+00,  0.00000000e+00,\n",
       "        0.00000000e+00,  0.00000000e+00,  0.00000000e+00,  0.00000000e+00,\n",
       "        0.00000000e+00,  0.00000000e+00,  0.00000000e+00,  0.00000000e+00,\n",
       "        0.00000000e+00,  0.00000000e+00,  0.00000000e+00,  0.00000000e+00,\n",
       "        0.00000000e+00,  0.00000000e+00,  0.00000000e+00,  0.00000000e+00,\n",
       "        0.00000000e+00,  0.00000000e+00,  0.00000000e+00,  0.00000000e+00,\n",
       "        0.00000000e+00,  0.00000000e+00,  0.00000000e+00,  0.00000000e+00,\n",
       "        0.00000000e+00,  0.00000000e+00,  0.00000000e+00,  0.00000000e+00,\n",
       "        0.00000000e+00,  0.00000000e+00,  0.00000000e+00,  0.00000000e+00,\n",
       "        0.00000000e+00,  0.00000000e+00,  0.00000000e+00,  0.00000000e+00,\n",
       "        0.00000000e+00,  0.00000000e+00,  0.00000000e+00,  0.00000000e+00,\n",
       "        0.00000000e+00,  0.00000000e+00,  0.00000000e+00,  0.00000000e+00,\n",
       "        0.00000000e+00,  0.00000000e+00,  0.00000000e+00,  0.00000000e+00,\n",
       "        0.00000000e+00,  0.00000000e+00,  0.00000000e+00,  0.00000000e+00,\n",
       "        0.00000000e+00,  0.00000000e+00,  0.00000000e+00,  0.00000000e+00,\n",
       "        0.00000000e+00,  0.00000000e+00,  0.00000000e+00,  0.00000000e+00,\n",
       "        0.00000000e+00,  0.00000000e+00,  0.00000000e+00,  0.00000000e+00,\n",
       "        0.00000000e+00,  0.00000000e+00,  0.00000000e+00,  0.00000000e+00,\n",
       "        0.00000000e+00,  0.00000000e+00,  0.00000000e+00,  0.00000000e+00,\n",
       "        0.00000000e+00,  0.00000000e+00,  0.00000000e+00,  0.00000000e+00,\n",
       "        0.00000000e+00,  0.00000000e+00,  0.00000000e+00,  0.00000000e+00,\n",
       "        0.00000000e+00,  0.00000000e+00,  0.00000000e+00,  0.00000000e+00,\n",
       "        0.00000000e+00,  0.00000000e+00,  0.00000000e+00,  0.00000000e+00,\n",
       "        0.00000000e+00,  0.00000000e+00,  0.00000000e+00,  0.00000000e+00,\n",
       "        0.00000000e+00,  0.00000000e+00,  0.00000000e+00,  0.00000000e+00,\n",
       "        0.00000000e+00,  0.00000000e+00,  0.00000000e+00,  0.00000000e+00,\n",
       "        0.00000000e+00,  0.00000000e+00,  0.00000000e+00,  0.00000000e+00,\n",
       "        0.00000000e+00,  0.00000000e+00,  0.00000000e+00,  0.00000000e+00,\n",
       "        0.00000000e+00,  0.00000000e+00,  0.00000000e+00,  0.00000000e+00,\n",
       "        0.00000000e+00,  0.00000000e+00,  0.00000000e+00,  0.00000000e+00,\n",
       "        0.00000000e+00,  0.00000000e+00,  0.00000000e+00,  0.00000000e+00,\n",
       "        0.00000000e+00,  0.00000000e+00,  0.00000000e+00,  0.00000000e+00,\n",
       "        0.00000000e+00,  0.00000000e+00,  0.00000000e+00,  0.00000000e+00,\n",
       "        0.00000000e+00,  0.00000000e+00,  0.00000000e+00,  0.00000000e+00,\n",
       "        0.00000000e+00,  0.00000000e+00,  0.00000000e+00,  0.00000000e+00,\n",
       "        0.00000000e+00,  0.00000000e+00,  0.00000000e+00,  0.00000000e+00,\n",
       "        0.00000000e+00,  0.00000000e+00,  0.00000000e+00,  0.00000000e+00,\n",
       "        0.00000000e+00,  0.00000000e+00,  0.00000000e+00,  0.00000000e+00,\n",
       "        0.00000000e+00,  0.00000000e+00,  0.00000000e+00,  0.00000000e+00,\n",
       "        0.00000000e+00,  0.00000000e+00,  0.00000000e+00,  0.00000000e+00,\n",
       "        0.00000000e+00,  0.00000000e+00,  0.00000000e+00,  0.00000000e+00,\n",
       "        0.00000000e+00,  0.00000000e+00,  0.00000000e+00,  0.00000000e+00,\n",
       "        0.00000000e+00,  0.00000000e+00,  0.00000000e+00,  0.00000000e+00,\n",
       "        0.00000000e+00,  0.00000000e+00,  0.00000000e+00,  0.00000000e+00,\n",
       "        0.00000000e+00,  0.00000000e+00,  0.00000000e+00,  0.00000000e+00,\n",
       "        0.00000000e+00,  0.00000000e+00,  0.00000000e+00,  0.00000000e+00,\n",
       "        0.00000000e+00,  0.00000000e+00,  0.00000000e+00,  0.00000000e+00,\n",
       "        0.00000000e+00,  0.00000000e+00,  0.00000000e+00,  0.00000000e+00,\n",
       "        0.00000000e+00,  0.00000000e+00,  0.00000000e+00,  0.00000000e+00,\n",
       "        0.00000000e+00,  0.00000000e+00,  0.00000000e+00,  0.00000000e+00,\n",
       "        0.00000000e+00,  0.00000000e+00,  0.00000000e+00,  0.00000000e+00,\n",
       "        0.00000000e+00,  0.00000000e+00,  0.00000000e+00,  0.00000000e+00,\n",
       "        0.00000000e+00,  0.00000000e+00,  0.00000000e+00,  0.00000000e+00,\n",
       "        0.00000000e+00,  0.00000000e+00,  0.00000000e+00,  0.00000000e+00,\n",
       "        0.00000000e+00,  0.00000000e+00,  0.00000000e+00,  0.00000000e+00,\n",
       "        0.00000000e+00,  0.00000000e+00,  0.00000000e+00,  0.00000000e+00,\n",
       "        0.00000000e+00,  0.00000000e+00,  0.00000000e+00,  0.00000000e+00,\n",
       "        0.00000000e+00,  0.00000000e+00,  0.00000000e+00,  0.00000000e+00,\n",
       "        0.00000000e+00,  0.00000000e+00,  0.00000000e+00,  0.00000000e+00,\n",
       "        0.00000000e+00,  0.00000000e+00,  0.00000000e+00,  0.00000000e+00,\n",
       "        0.00000000e+00,  0.00000000e+00,  0.00000000e+00,  0.00000000e+00,\n",
       "        0.00000000e+00,  0.00000000e+00,  0.00000000e+00,  0.00000000e+00,\n",
       "        0.00000000e+00,  0.00000000e+00,  0.00000000e+00,  0.00000000e+00,\n",
       "        0.00000000e+00,  0.00000000e+00,  0.00000000e+00,  0.00000000e+00,\n",
       "        0.00000000e+00,  0.00000000e+00,  0.00000000e+00,  0.00000000e+00,\n",
       "        0.00000000e+00,  0.00000000e+00,  0.00000000e+00,  0.00000000e+00,\n",
       "        0.00000000e+00,  0.00000000e+00,  0.00000000e+00,  0.00000000e+00,\n",
       "        0.00000000e+00,  0.00000000e+00,  0.00000000e+00,  0.00000000e+00,\n",
       "        0.00000000e+00,  0.00000000e+00,  0.00000000e+00,  0.00000000e+00,\n",
       "        0.00000000e+00,  0.00000000e+00,  0.00000000e+00,  0.00000000e+00,\n",
       "        0.00000000e+00,  0.00000000e+00,  0.00000000e+00,  0.00000000e+00,\n",
       "        0.00000000e+00,  0.00000000e+00,  0.00000000e+00,  0.00000000e+00,\n",
       "        0.00000000e+00,  0.00000000e+00,  0.00000000e+00,  0.00000000e+00,\n",
       "        0.00000000e+00,  0.00000000e+00,  0.00000000e+00,  0.00000000e+00,\n",
       "        0.00000000e+00,  0.00000000e+00,  0.00000000e+00,  0.00000000e+00,\n",
       "        0.00000000e+00,  0.00000000e+00,  0.00000000e+00,  0.00000000e+00,\n",
       "        0.00000000e+00,  0.00000000e+00,  0.00000000e+00,  0.00000000e+00,\n",
       "        0.00000000e+00,  0.00000000e+00,  0.00000000e+00,  0.00000000e+00,\n",
       "        0.00000000e+00,  0.00000000e+00,  0.00000000e+00,  0.00000000e+00,\n",
       "        0.00000000e+00,  0.00000000e+00,  0.00000000e+00,  0.00000000e+00,\n",
       "        0.00000000e+00,  0.00000000e+00,  0.00000000e+00,  0.00000000e+00,\n",
       "        0.00000000e+00,  0.00000000e+00,  0.00000000e+00,  0.00000000e+00,\n",
       "        0.00000000e+00,  0.00000000e+00,  0.00000000e+00,  0.00000000e+00,\n",
       "        0.00000000e+00,  0.00000000e+00,  0.00000000e+00,  0.00000000e+00,\n",
       "        0.00000000e+00,  0.00000000e+00,  0.00000000e+00,  0.00000000e+00,\n",
       "        0.00000000e+00,  0.00000000e+00,  0.00000000e+00,  0.00000000e+00,\n",
       "        0.00000000e+00,  0.00000000e+00,  0.00000000e+00,  0.00000000e+00,\n",
       "        0.00000000e+00,  0.00000000e+00,  0.00000000e+00,  0.00000000e+00,\n",
       "        0.00000000e+00,  0.00000000e+00,  0.00000000e+00,  0.00000000e+00,\n",
       "        0.00000000e+00,  0.00000000e+00,  0.00000000e+00,  0.00000000e+00,\n",
       "        0.00000000e+00,  0.00000000e+00,  0.00000000e+00,  0.00000000e+00,\n",
       "        0.00000000e+00,  0.00000000e+00,  0.00000000e+00,  0.00000000e+00,\n",
       "        0.00000000e+00,  0.00000000e+00,  0.00000000e+00,  0.00000000e+00,\n",
       "        0.00000000e+00,  0.00000000e+00,  0.00000000e+00,  0.00000000e+00,\n",
       "        0.00000000e+00,  0.00000000e+00,  0.00000000e+00,  0.00000000e+00,\n",
       "        0.00000000e+00,  0.00000000e+00,  0.00000000e+00,  0.00000000e+00,\n",
       "        0.00000000e+00,  0.00000000e+00,  0.00000000e+00,  0.00000000e+00,\n",
       "        0.00000000e+00,  0.00000000e+00,  0.00000000e+00,  0.00000000e+00,\n",
       "        0.00000000e+00,  0.00000000e+00,  0.00000000e+00,  0.00000000e+00,\n",
       "        0.00000000e+00,  0.00000000e+00,  0.00000000e+00,  0.00000000e+00,\n",
       "        0.00000000e+00,  0.00000000e+00,  0.00000000e+00,  0.00000000e+00,\n",
       "        0.00000000e+00,  0.00000000e+00,  0.00000000e+00,  0.00000000e+00,\n",
       "        0.00000000e+00,  0.00000000e+00,  0.00000000e+00,  0.00000000e+00,\n",
       "        0.00000000e+00,  0.00000000e+00,  0.00000000e+00,  0.00000000e+00,\n",
       "        0.00000000e+00,  0.00000000e+00,  0.00000000e+00,  0.00000000e+00,\n",
       "        0.00000000e+00,  0.00000000e+00], dtype=float32)"
      ]
     },
     "execution_count": 1522,
     "metadata": {},
     "output_type": "execute_result"
    }
   ],
   "source": [
    "mpc.gradient(x)"
   ]
  },
  {
   "cell_type": "code",
   "execution_count": 1520,
   "metadata": {},
   "outputs": [
    {
     "name": "stdout",
     "output_type": "stream",
     "text": [
      "238 µs ± 2.55 µs per loop (mean ± std. dev. of 7 runs, 1,000 loops each)\n"
     ]
    }
   ],
   "source": [
    "%timeit mpc.gradient(x)"
   ]
  },
  {
   "cell_type": "code",
   "execution_count": 1476,
   "metadata": {},
   "outputs": [
    {
     "name": "stdout",
     "output_type": "stream",
     "text": [
      "This is Ipopt version 3.14.10, running with linear solver MUMPS 5.2.1.\n",
      "\n",
      "Number of nonzeros in equality constraint Jacobian...:     1232\n",
      "Number of nonzeros in inequality constraint Jacobian.:        0\n",
      "Number of nonzeros in Lagrangian Hessian.............:        0\n",
      "\n",
      "Total number of variables............................:      630\n",
      "                     variables with only lower bounds:        0\n",
      "                variables with lower and upper bounds:      630\n",
      "                     variables with only upper bounds:        0\n",
      "Total number of equality constraints.................:      420\n",
      "Total number of inequality constraints...............:        0\n",
      "        inequality constraints with only lower bounds:        0\n",
      "   inequality constraints with lower and upper bounds:        0\n",
      "        inequality constraints with only upper bounds:        0\n",
      "\n",
      "iter    objective    inf_pr   inf_du lg(mu)  ||d||  lg(rg) alpha_du alpha_pr  ls\n",
      "   0  9.1086924e-01 9.28e-03 1.04e-02   0.0 0.00e+00    -  0.00e+00 0.00e+00   0\n",
      "   1  9.4309813e-01 1.19e-07 5.08e-02  -1.3 5.06e-02    -  9.94e-01 1.00e+00f  1\n",
      "   2  9.4106346e-01 1.19e-07 5.58e-02  -2.8 5.73e-02    -  9.20e-01 1.00e+00f  1\n",
      "   3  9.3876064e-01 2.38e-07 1.49e-02  -3.4 7.29e-02    -  9.77e-01 1.00e+00f  1\n",
      "   4  9.1916728e-01 1.19e-07 1.27e-02  -4.3 5.74e-02    -  1.00e+00 1.00e+00f  1\n",
      "   5  9.1342521e-01 1.19e-07 7.11e-03  -5.5 8.54e-02    -  1.00e+00 5.50e-01f  1\n",
      "   6  9.1115654e-01 1.19e-07 4.37e-03  -5.7 6.82e-02    -  1.00e+00 6.03e-01f  1\n",
      "\n",
      "Number of Iterations....: 6\n",
      "\n",
      "                                   (scaled)                 (unscaled)\n",
      "Objective...............:   9.1115653514862061e-01    9.1115653514862061e-01\n",
      "Dual infeasibility......:   4.3711195618208309e-03    4.3711195618208309e-03\n",
      "Constraint violation....:   1.1920928955078125e-07    1.1920928955078125e-07\n",
      "Variable bound violation:   0.0000000000000000e+00    0.0000000000000000e+00\n",
      "Complementarity.........:   1.9618226337894906e-05    1.9618226337894906e-05\n",
      "Overall NLP error.......:   4.3711195618208309e-03    4.3711195618208309e-03\n",
      "\n",
      "\n",
      "Number of objective function evaluations             = 7\n",
      "Number of objective gradient evaluations             = 7\n",
      "Number of equality constraint evaluations            = 7\n",
      "Number of inequality constraint evaluations          = 0\n",
      "Number of equality constraint Jacobian evaluations   = 7\n",
      "Number of inequality constraint Jacobian evaluations = 0\n",
      "Number of Lagrangian Hessian evaluations             = 0\n",
      "Total seconds in IPOPT                               = 0.049\n",
      "\n",
      "EXIT: Solved To Acceptable Level.\n"
     ]
    }
   ],
   "source": [
    "x, info = ipopt.solve(x)"
   ]
  },
  {
   "cell_type": "code",
   "execution_count": 1477,
   "metadata": {},
   "outputs": [],
   "source": [
    "i = 0"
   ]
  },
  {
   "cell_type": "code",
   "execution_count": 1507,
   "metadata": {},
   "outputs": [
    {
     "name": "stdout",
     "output_type": "stream",
     "text": [
      "[6.1263680e-01 4.6566129e-10 5.5448973e-01]\n"
     ]
    }
   ],
   "source": [
    "q = to_mat(get_qs(x))[i]\n",
    "tcp = panda_model.fk_fn(q)[-1][-3:]\n",
    "panda.set_joint_angles(to_mat(get_qs(x))[i])\n",
    "\n",
    "print(tcp)\n",
    "i += 1"
   ]
  },
  {
   "cell_type": "code",
   "execution_count": 1469,
   "metadata": {},
   "outputs": [
    {
     "name": "stdout",
     "output_type": "stream",
     "text": [
      "CPU times: user 13 µs, sys: 2 µs, total: 15 µs\n",
      "Wall time: 32.2 µs\n"
     ]
    },
    {
     "data": {
      "text/plain": [
       "Array([ 1. ,  1. ,  1. , ...,  1. , -1. ,  0.1], dtype=float32)"
      ]
     },
     "execution_count": 1469,
     "metadata": {},
     "output_type": "execute_result"
    }
   ],
   "source": [
    "%time\n",
    "mpc.jacobian(x)"
   ]
  },
  {
   "cell_type": "code",
   "execution_count": null,
   "metadata": {},
   "outputs": [],
   "source": [
    "mpc.add_var(\"x\", 105, )"
   ]
  },
  {
   "cell_type": "code",
   "execution_count": 1244,
   "metadata": {},
   "outputs": [
    {
     "data": {
      "text/plain": [
       "(105,)"
      ]
     },
     "execution_count": 1244,
     "metadata": {},
     "output_type": "execute_result"
    }
   ],
   "source": [
    "x.shape"
   ]
  },
  {
   "cell_type": "code",
   "execution_count": 1238,
   "metadata": {},
   "outputs": [],
   "source": []
  },
  {
   "cell_type": "code",
   "execution_count": 1239,
   "metadata": {},
   "outputs": [
    {
     "data": {
      "text/plain": [
       "Array([[0., 0., 0., 0., 0., 0., 0.],\n",
       "       [0., 0., 0., 0., 0., 0., 0.],\n",
       "       [0., 0., 0., 0., 0., 0., 0.],\n",
       "       [0., 0., 0., 0., 0., 0., 0.]], dtype=float32)"
      ]
     },
     "execution_count": 1239,
     "metadata": {},
     "output_type": "execute_result"
    }
   ],
   "source": [
    "err"
   ]
  },
  {
   "cell_type": "code",
   "execution_count": null,
   "metadata": {},
   "outputs": [],
   "source": []
  },
  {
   "cell_type": "code",
   "execution_count": 1221,
   "metadata": {},
   "outputs": [
    {
     "data": {
      "text/plain": [
       "Array([ 0.    ,  0.    ,  0.    , -1.5708,  0.    ,  1.8675,  0.    ],      dtype=float32)"
      ]
     },
     "execution_count": 1221,
     "metadata": {},
     "output_type": "execute_result"
    }
   ],
   "source": [
    "qs[0]"
   ]
  },
  {
   "cell_type": "code",
   "execution_count": 1217,
   "metadata": {},
   "outputs": [
    {
     "data": {
      "text/plain": [
       "Array([ 0.    ,  0.    ,  0.    , -1.5708,  0.    ,  1.8675,  0.    ,\n",
       "        0.    ,  0.    ,  0.    , -1.5708,  0.    ,  1.8675,  0.    ,\n",
       "        0.    ,  0.    ,  0.    , -1.5708,  0.    ,  1.8675,  0.    ,\n",
       "        0.    ,  0.    ,  0.    , -1.5708,  0.    ,  1.8675,  0.    ,\n",
       "        0.    ,  0.    ,  0.    , -1.5708,  0.    ,  1.8675,  0.    ],      dtype=float32)"
      ]
     },
     "execution_count": 1217,
     "metadata": {},
     "output_type": "execute_result"
    }
   ],
   "source": [
    "get_qs(x)"
   ]
  },
  {
   "cell_type": "code",
   "execution_count": 1216,
   "metadata": {},
   "outputs": [
    {
     "data": {
      "text/plain": [
       "Array([ 0.    ,  0.    ,  0.    , -1.5708,  0.    ,  1.8675,  0.    ,\n",
       "        0.    ,  0.    ,  0.    , -1.5708,  0.    ,  1.8675,  0.    ,\n",
       "        0.    ,  0.    ,  0.    , -1.5708,  0.    ,  1.8675,  0.    ,\n",
       "        0.    ,  0.    ,  0.    , -1.5708,  0.    ,  1.8675,  0.    ,\n",
       "        0.    ,  0.    ,  0.    , -1.5708,  0.    ,  1.8675,  0.    ,\n",
       "        0.    ,  0.    ,  0.    ,  0.    ,  0.    ,  0.    ,  0.    ,\n",
       "        0.    ,  0.    ,  0.    ,  0.    ,  0.    ,  0.    ,  0.    ,\n",
       "        0.    ,  0.    ,  0.    ,  0.    ,  0.    ,  0.    ,  0.    ,\n",
       "        0.    ,  0.    ,  0.    ,  0.    ,  0.    ,  0.    ,  0.    ,\n",
       "        0.    ,  0.    ,  0.    ,  0.    ,  0.    ,  0.    ,  0.    ],      dtype=float32)"
      ]
     },
     "execution_count": 1216,
     "metadata": {},
     "output_type": "execute_result"
    }
   ],
   "source": [
    "x"
   ]
  },
  {
   "cell_type": "code",
   "execution_count": null,
   "metadata": {},
   "outputs": [],
   "source": [
    "\n",
    "mpc.add_var()"
   ]
  },
  {
   "cell_type": "code",
   "execution_count": 1030,
   "metadata": {},
   "outputs": [],
   "source": [
    "u_grad = jax.grad(cost, argnums=1)(state_curr, u)\n",
    "u_hess = jax.hessian(cost, argnums=1)(state_curr, u)"
   ]
  },
  {
   "cell_type": "code",
   "execution_count": 1179,
   "metadata": {},
   "outputs": [
    {
     "name": "stdout",
     "output_type": "stream",
     "text": [
      "0.49036166\n"
     ]
    }
   ],
   "source": [
    "u_grad = jax.grad(cost, argnums=1)(state_curr, u)\n",
    "u = u - u_grad * 1.\n",
    "draw_ee_traj(u)\n",
    "\n",
    "print(cost(state_curr, u))"
   ]
  },
  {
   "cell_type": "code",
   "execution_count": 1180,
   "metadata": {},
   "outputs": [],
   "source": [
    "i = 0"
   ]
  },
  {
   "cell_type": "code",
   "execution_count": 1197,
   "metadata": {},
   "outputs": [],
   "source": [
    "qs = rollout(state_curr, u)\n",
    "panda.set_joint_angles(to_mat(qs)[i])\n",
    "i += 1"
   ]
  },
  {
   "cell_type": "code",
   "execution_count": null,
   "metadata": {},
   "outputs": [],
   "source": [
    "q"
   ]
  },
  {
   "cell_type": "code",
   "execution_count": 755,
   "metadata": {},
   "outputs": [],
   "source": [
    "world.vis[\"line\"].delete()"
   ]
  },
  {
   "cell_type": "code",
   "execution_count": 759,
   "metadata": {},
   "outputs": [],
   "source": [
    "import meshcat.geometry as g\n",
    "get_ee_pos = lambda q: panda_model.fk_fn(q)[-1][-3:]\n",
    "def draw_ee_traj(u):\n",
    "    qs = rollout(state_curr, u)    \n",
    "    vertices = jax.vmap(get_ee_pos)(to_mat(qs))\n",
    "    world.vis[\"line\"].set_object(\n",
    "        g.Line(\n",
    "            g.PointsGeometry(vertices.T),\n",
    "            g.MeshLambertMaterial(color=0xff0000)\n",
    "        )\n",
    "    )"
   ]
  },
  {
   "cell_type": "code",
   "execution_count": 144,
   "metadata": {},
   "outputs": [],
   "source": []
  },
  {
   "cell_type": "code",
   "execution_count": 128,
   "metadata": {},
   "outputs": [],
   "source": [
    "qs = rollout(state_curr, unew)"
   ]
  },
  {
   "cell_type": "code",
   "execution_count": 134,
   "metadata": {},
   "outputs": [
    {
     "data": {
      "text/plain": [
       "Array([ 2.1451635e-03,  9.0127572e-04,  2.1451635e-03, -1.5716413e+00,\n",
       "       -6.1933900e-04,  1.8666126e+00, -2.2325052e-03,  6.0454607e-03,\n",
       "        2.5399588e-03,  6.0454607e-03, -1.5731711e+00, -1.7454098e-03,\n",
       "        1.8649993e+00, -6.2916055e-03,  1.1349866e-02,  4.7685681e-03,\n",
       "        1.1349866e-02, -1.5752516e+00, -3.2768664e-03,  1.8628051e+00,\n",
       "       -1.1811983e-02,  1.7746355e-02,  7.4560083e-03,  1.7746352e-02,\n",
       "       -1.5777605e+00, -5.1236227e-03,  1.8601592e+00, -1.8468907e-02,\n",
       "        2.4961904e-02,  1.0487571e-02,  2.4961902e-02, -1.5805906e+00,\n",
       "       -7.2068535e-03,  1.8571745e+00, -2.5978243e-02,  3.2762501e-02,\n",
       "        1.3764938e-02,  3.2762498e-02, -1.5836501e+00, -9.4589954e-03,\n",
       "        1.8539478e+00, -3.4096442e-02,  4.0953126e-02,  1.7206172e-02,\n",
       "        4.0953122e-02, -1.5868627e+00, -1.1823744e-02,  1.8505597e+00,\n",
       "       -4.2620555e-02,  4.9377769e-02,  2.0745728e-02,  4.9377762e-02,\n",
       "       -1.5901670e+00, -1.4256057e-02,  1.8470749e+00, -5.1388212e-02,\n",
       "        5.7919420e-02,  2.4334446e-02,  5.7919417e-02, -1.5935173e+00,\n",
       "       -1.6722154e-02,  1.8435416e+00, -6.0277641e-02,  6.6500075e-02,\n",
       "        2.7939547e-02,  6.6500068e-02, -1.5968828e+00, -1.9199509e-02,\n",
       "        1.8399923e+00, -6.9207661e-02], dtype=float32)"
      ]
     },
     "execution_count": 134,
     "metadata": {},
     "output_type": "execute_result"
    }
   ],
   "source": []
  },
  {
   "cell_type": "code",
   "execution_count": 133,
   "metadata": {},
   "outputs": [],
   "source": [
    "panda.set_joint_angles(to_mat(qs)[9])"
   ]
  },
  {
   "cell_type": "code",
   "execution_count": 120,
   "metadata": {},
   "outputs": [
    {
     "data": {
      "text/plain": [
       "Array([[-3.2211264e-04,  7.6030346e-04, -3.2211264e-04, -1.5715439e+00,\n",
       "        -2.2423945e-04,  1.8667434e+00,  2.4247805e-04],\n",
       "       [-8.5896702e-04,  2.0274757e-03, -8.5896702e-04, -1.5727838e+00,\n",
       "        -5.9797184e-04,  1.8654826e+00,  6.4660812e-04],\n",
       "       [-1.5246664e-03,  3.5987697e-03, -1.5246664e-03, -1.5743214e+00,\n",
       "        -1.0614000e-03,  1.8639191e+00,  1.1477295e-03],\n",
       "       [-2.2547883e-03,  5.3221239e-03, -2.2547883e-03, -1.5760077e+00,\n",
       "        -1.5696762e-03,  1.8622044e+00,  1.6973463e-03],\n",
       "       [-3.0063845e-03,  7.0961653e-03, -3.0063845e-03, -1.5777436e+00,\n",
       "        -2.0929016e-03,  1.8604393e+00,  2.2631285e-03]], dtype=float32)"
      ]
     },
     "execution_count": 120,
     "metadata": {},
     "output_type": "execute_result"
    }
   ],
   "source": [
    "to_mat(qs)"
   ]
  },
  {
   "cell_type": "code",
   "execution_count": null,
   "metadata": {},
   "outputs": [],
   "source": []
  },
  {
   "cell_type": "code",
   "execution_count": 88,
   "metadata": {},
   "outputs": [
    {
     "data": {
      "text/plain": [
       "Array([ 9.91998 , 10.063185, 10.306283, 10.559819, 10.092124], dtype=float32)"
      ]
     },
     "execution_count": 88,
     "metadata": {},
     "output_type": "execute_result"
    }
   ],
   "source": [
    "jax.vmap(goal_pose_reaching_cost, in_axes=(0, None))(to_mat(qs), SE3.identity())"
   ]
  },
  {
   "cell_type": "code",
   "execution_count": 76,
   "metadata": {},
   "outputs": [],
   "source": [
    "q = to_mat(qs)[0]"
   ]
  },
  {
   "cell_type": "code",
   "execution_count": 81,
   "metadata": {},
   "outputs": [],
   "source": [
    "pose_curr = SE3(panda_model.fk_fn(q)[-1])"
   ]
  },
  {
   "cell_type": "code",
   "execution_count": 82,
   "metadata": {},
   "outputs": [
    {
     "data": {
      "text/plain": [
       "SE3(wxyz=[0.05169 0.91142 0.38204 0.14382], xyz=[0.6174  0.01408 0.55513])"
      ]
     },
     "execution_count": 82,
     "metadata": {},
     "output_type": "execute_result"
    }
   ],
   "source": [
    "pose_curr"
   ]
  },
  {
   "cell_type": "code",
   "execution_count": 70,
   "metadata": {},
   "outputs": [],
   "source": [
    "qs = rollout(state_curr, u)"
   ]
  },
  {
   "cell_type": "code",
   "execution_count": 71,
   "metadata": {},
   "outputs": [
    {
     "data": {
      "text/plain": [
       "Array([ 0.01      ,  0.01      ,  0.01      , -1.5608    ,  0.01      ,\n",
       "        1.8774999 ,  0.01      ,  0.03      ,  0.03      ,  0.03      ,\n",
       "       -1.5408    ,  0.03      ,  1.8974999 ,  0.03      ,  0.06      ,\n",
       "        0.06      ,  0.06      , -1.5107999 ,  0.06      ,  1.9275    ,\n",
       "        0.06      ,  0.10000001,  0.10000001,  0.10000001, -1.4707999 ,\n",
       "        0.10000001,  1.9675    ,  0.10000001,  0.15      ,  0.15      ,\n",
       "        0.15      , -1.4208    ,  0.15      ,  2.0175    ,  0.15      ],      dtype=float32)"
      ]
     },
     "execution_count": 71,
     "metadata": {},
     "output_type": "execute_result"
    }
   ],
   "source": [
    "qs"
   ]
  },
  {
   "cell_type": "code",
   "execution_count": 69,
   "metadata": {},
   "outputs": [],
   "source": [
    "panda.set_joint_angles(to_mat(qs)[4])"
   ]
  },
  {
   "cell_type": "code",
   "execution_count": 19,
   "metadata": {},
   "outputs": [
    {
     "data": {
      "text/plain": [
       "<sdf_world.robots.Robot at 0x7f9f81d35e50>"
      ]
     },
     "execution_count": 19,
     "metadata": {},
     "output_type": "execute_result"
    }
   ],
   "source": [
    "panda"
   ]
  },
  {
   "cell_type": "code",
   "execution_count": 18,
   "metadata": {},
   "outputs": [
    {
     "data": {
      "text/plain": [
       "Array([ 5.9999998e-05,  5.9999998e-05,  5.9999998e-05, -1.5707400e+00,\n",
       "        5.9999998e-05,  1.8675599e+00,  5.9999998e-05], dtype=float32)"
      ]
     },
     "execution_count": 18,
     "metadata": {},
     "output_type": "execute_result"
    }
   ],
   "source": [
    "to_mat(qs)[2]"
   ]
  },
  {
   "cell_type": "code",
   "execution_count": null,
   "metadata": {},
   "outputs": [],
   "source": []
  },
  {
   "cell_type": "code",
   "execution_count": 2686,
   "metadata": {},
   "outputs": [
    {
     "data": {
      "text/plain": [
       "Array([[ 1.00000007e-05,  1.00000007e-05,  1.00000007e-05,\n",
       "        -1.57078993e+00,  1.00000007e-05,  1.86750996e+00,\n",
       "         1.00000007e-05],\n",
       "       [ 3.00000029e-05,  3.00000029e-05,  3.00000029e-05,\n",
       "        -1.57076991e+00,  3.00000029e-05,  1.86752999e+00,\n",
       "         3.00000029e-05],\n",
       "       [ 5.99999985e-05,  5.99999985e-05,  5.99999985e-05,\n",
       "        -1.57073998e+00,  5.99999985e-05,  1.86755991e+00,\n",
       "         5.99999985e-05],\n",
       "       [ 1.00000005e-04,  1.00000005e-04,  1.00000005e-04,\n",
       "        -1.57069993e+00,  1.00000005e-04,  1.86759996e+00,\n",
       "         1.00000005e-04],\n",
       "       [ 1.50000007e-04,  1.50000007e-04,  1.50000007e-04,\n",
       "        -1.57064998e+00,  1.50000007e-04,  1.86764991e+00,\n",
       "         1.50000007e-04]], dtype=float32)"
      ]
     },
     "execution_count": 2686,
     "metadata": {},
     "output_type": "execute_result"
    }
   ],
   "source": [
    "to_mat(qs)"
   ]
  },
  {
   "cell_type": "code",
   "execution_count": 2650,
   "metadata": {},
   "outputs": [],
   "source": [
    "lower_tri_q = jnp.kron(lower_tri, jnp.eye(7)).astype(int)"
   ]
  },
  {
   "cell_type": "code",
   "execution_count": 2652,
   "metadata": {},
   "outputs": [
    {
     "data": {
      "text/plain": [
       "(35, 35)"
      ]
     },
     "execution_count": 2652,
     "metadata": {},
     "output_type": "execute_result"
    }
   ],
   "source": [
    "lower_tri_q.shape"
   ]
  },
  {
   "cell_type": "code",
   "execution_count": null,
   "metadata": {},
   "outputs": [],
   "source": []
  },
  {
   "cell_type": "code",
   "execution_count": 2461,
   "metadata": {},
   "outputs": [],
   "source": [
    "i=0"
   ]
  },
  {
   "cell_type": "code",
   "execution_count": 2514,
   "metadata": {},
   "outputs": [
    {
     "ename": "IndexError",
     "evalue": "list index out of range",
     "output_type": "error",
     "traceback": [
      "\u001b[0;31m---------------------------------------------------------------------------\u001b[0m",
      "\u001b[0;31mIndexError\u001b[0m                                Traceback (most recent call last)",
      "Cell \u001b[0;32mIn[2514], line 1\u001b[0m\n\u001b[0;32m----> 1\u001b[0m panda\u001b[39m.\u001b[39mset_joint_angles(path[i])\n\u001b[1;32m      2\u001b[0m i\u001b[39m+\u001b[39m\u001b[39m=\u001b[39m \u001b[39m1\u001b[39m\n",
      "\u001b[0;31mIndexError\u001b[0m: list index out of range"
     ]
    }
   ],
   "source": [
    "panda.set_joint_angles(path[i])\n",
    "i+= 1"
   ]
  },
  {
   "cell_type": "code",
   "execution_count": 2516,
   "metadata": {},
   "outputs": [],
   "source": [
    "panda.set_joint_angles(qs[3])"
   ]
  },
  {
   "cell_type": "code",
   "execution_count": 2382,
   "metadata": {},
   "outputs": [
    {
     "name": "stdout",
     "output_type": "stream",
     "text": [
      "end\n",
      "end\n",
      "end\n",
      "end\n",
      "end\n",
      "end\n",
      "end\n",
      "end\n",
      "end\n",
      "end\n",
      "end\n",
      "end\n",
      "end\n",
      "end\n",
      "end\n",
      "end\n",
      "end\n",
      "end\n",
      "end\n",
      "end\n",
      "end\n",
      "end\n",
      "end\n",
      "end\n",
      "end\n",
      "end\n",
      "end\n",
      "end\n",
      "end\n",
      "end\n",
      "end\n",
      "end\n",
      "end\n",
      "end\n",
      "end\n",
      "end\n",
      "end\n",
      "end\n",
      "end\n",
      "end\n",
      "end\n",
      "end\n",
      "end\n",
      "end\n",
      "end\n",
      "end\n",
      "end\n",
      "end\n",
      "end\n",
      "end\n",
      "end\n",
      "end\n",
      "end\n",
      "end\n",
      "end\n",
      "end\n",
      "end\n",
      "end\n",
      "end\n",
      "end\n",
      "end\n",
      "end\n"
     ]
    }
   ],
   "source": [
    "tree = [Config(q_start)]\n",
    "step_size = 0.2\n",
    "for _ in range(1000):\n",
    "    if np.random.random() < 0.3:\n",
    "        node_rand = Config(q_goal)\n",
    "    else:\n",
    "        node_rand = Config(panda.get_random_config())\n",
    "    node_near = nearest_node(node_rand, tree)\n",
    "    diff = node_rand.q - node_near.q\n",
    "    q_new = node_near.q + step_size*(diff) / np.linalg.norm(diff)\n",
    "    if not is_collision(q_new):\n",
    "        panda.set_joint_angles(q_new)\n",
    "        node_new = Config(q_new, node_near)\n",
    "        tree.append(node_new)\n",
    "        if np.linalg.norm(q_goal - q_new) < step_size:\n",
    "            print(\"end\")\n",
    "            #return node_new"
   ]
  },
  {
   "cell_type": "code",
   "execution_count": 2356,
   "metadata": {},
   "outputs": [],
   "source": [
    "q_goal = \n",
    "near_node = nearest_node(Config(q_goal), tree)"
   ]
  },
  {
   "cell_type": "code",
   "execution_count": 2363,
   "metadata": {},
   "outputs": [
    {
     "ename": "AttributeError",
     "evalue": "'NoneType' object has no attribute 'q'",
     "output_type": "error",
     "traceback": [
      "\u001b[0;31m---------------------------------------------------------------------------\u001b[0m",
      "\u001b[0;31mAttributeError\u001b[0m                            Traceback (most recent call last)",
      "Cell \u001b[0;32mIn[2363], line 2\u001b[0m\n\u001b[1;32m      1\u001b[0m near_node \u001b[39m=\u001b[39m near_node\u001b[39m.\u001b[39mparent\n\u001b[0;32m----> 2\u001b[0m panda\u001b[39m.\u001b[39mset_joint_angles(near_node\u001b[39m.\u001b[39;49mq)\n",
      "\u001b[0;31mAttributeError\u001b[0m: 'NoneType' object has no attribute 'q'"
     ]
    }
   ],
   "source": [
    "near_node = near_node.parent\n",
    "panda.set_joint_angles(near_node.q)"
   ]
  },
  {
   "cell_type": "code",
   "execution_count": null,
   "metadata": {},
   "outputs": [
    {
     "data": {
      "text/plain": [
       "array([-2.27098848,  0.72912031,  1.32183182, -1.34565211,  2.03104704,\n",
       "        0.90633754,  0.03920187])"
      ]
     },
     "execution_count": 2289,
     "metadata": {},
     "output_type": "execute_result"
    }
   ],
   "source": [
    "panda.get_random_config()"
   ]
  },
  {
   "cell_type": "code",
   "execution_count": null,
   "metadata": {},
   "outputs": [],
   "source": [
    "from sdf_world.nlp import NLP\n",
    "mp = NLP()"
   ]
  },
  {
   "cell_type": "code",
   "execution_count": null,
   "metadata": {},
   "outputs": [],
   "source": [
    "#q0, q1, q2, q3, q4\n",
    "mp.add_var(\"qinit\", 7, panda.neutral, panda.neutral)\n",
    "mp.add_var(\"qmove\", 7, panda.lb, panda.ub)\n",
    "mp.add_var(\"qpick\", 7, panda.lb, panda.ub)\n",
    "mp.add_var(\"qmovehold\", 7, panda.lb, panda.ub)\n",
    "mp.add_var(\"qplace\", 7, panda.lb, panda.ub)\n",
    "mp.add_var(\"qhoming\", 7, panda.lb, panda.ub)\n",
    "mp.add_var(\"qhome\", 7, panda.neutral, panda.neutral)"
   ]
  },
  {
   "cell_type": "code",
   "execution_count": null,
   "metadata": {},
   "outputs": [
    {
     "data": {
      "text/plain": [
       "array([ 1.44554337,  1.82764066, -0.97383876, -2.44912557,  0.39810294,\n",
       "        2.66130424,  2.64500663])"
      ]
     },
     "execution_count": 2223,
     "metadata": {},
     "output_type": "execute_result"
    }
   ],
   "source": [
    "q_pick"
   ]
  },
  {
   "cell_type": "code",
   "execution_count": null,
   "metadata": {},
   "outputs": [],
   "source": []
  },
  {
   "cell_type": "code",
   "execution_count": null,
   "metadata": {},
   "outputs": [
    {
     "data": {
      "text/plain": [
       "Array(True, dtype=bool)"
      ]
     },
     "execution_count": 2232,
     "metadata": {},
     "output_type": "execute_result"
    }
   ],
   "source": [
    "is_collision(q_pick)"
   ]
  },
  {
   "cell_type": "code",
   "execution_count": null,
   "metadata": {},
   "outputs": [],
   "source": [
    "panda.set_joint_angles(q_pick)"
   ]
  },
  {
   "cell_type": "code",
   "execution_count": null,
   "metadata": {},
   "outputs": [],
   "source": [
    "pick.show()"
   ]
  },
  {
   "cell_type": "code",
   "execution_count": 2367,
   "metadata": {},
   "outputs": [],
   "source": [
    "move1.show()\n",
    "pick.show()\n",
    "move2.show()\n",
    "place.show()\n",
    "move3.show()"
   ]
  },
  {
   "cell_type": "code",
   "execution_count": null,
   "metadata": {},
   "outputs": [],
   "source": [
    "mp = NLP()"
   ]
  },
  {
   "cell_type": "code",
   "execution_count": null,
   "metadata": {},
   "outputs": [],
   "source": [
    "mp.add_var(\"q0\", 7, lower=qs[0], upper=qs[0])\n",
    "mp.add_var(\"qgoal\", 7, lower=qs[-1], upper=qs[-1])\n"
   ]
  },
  {
   "cell_type": "code",
   "execution_count": null,
   "metadata": {},
   "outputs": [],
   "source": [
    "qs_cont = []\n",
    "for i in range(len(qs)-1):\n",
    "    q1, q2 = qs[i], qs[i+1]\n",
    "    qs_cont.append(jnp.linspace(q1, q2, 5))\n",
    "qs_cont = jnp.vstack(qs_cont)\n",
    "qs_path = jnp.hstack([\n",
    "    jnp.vstack(qs_cont), \n",
    "    jnp.full((len(qs_cont),2), 0.04)])"
   ]
  },
  {
   "cell_type": "code",
   "execution_count": null,
   "metadata": {},
   "outputs": [],
   "source": []
  },
  {
   "cell_type": "code",
   "execution_count": null,
   "metadata": {},
   "outputs": [],
   "source": [
    "world.vis[\"obj_pc\"].delete()"
   ]
  },
  {
   "cell_type": "code",
   "execution_count": null,
   "metadata": {},
   "outputs": [],
   "source": [
    "obj_points = obj.mesh.sample(20)\n",
    "def get_obj_pc(q, grasp):\n",
    "    ee_pose = SE3(panda_model.fk_fn(q)[-1])\n",
    "    grasp_pose = grasp_reconst(grasp)\n",
    "    obj_pose = ee_pose @ grasp_pose.inverse()\n",
    "    return jax.vmap(obj_pose.apply)(obj_points)\n",
    "get_move_hold_pc = jax.vmap(get_obj_pc, in_axes=(0, None))"
   ]
  },
  {
   "cell_type": "code",
   "execution_count": null,
   "metadata": {},
   "outputs": [],
   "source": [
    "def get_path_points(qs):\n",
    "    return jnp.vstack(jax.vmap(panda.get_surface_points_fn)(qs))\n",
    "def get_object_point(q, grasp_pose):\n",
    "    ee_pose = SE3(panda_model.fk_fn(q)[-1])\n",
    "    obj_pose = ee_pose @ grasp_pose.inverse()\n",
    "    return jax.vmap(obj_pose.apply)(obj_points)\n",
    "def get_hold_path_points(qs, grasp):\n",
    "    grasp_pose = grasp_reconst(grasp)\n",
    "    obj_points = jnp.vstack(jax.vmap(get_object_point, in_axes=(0, None))(qs, grasp_pose))\n",
    "    path_points = get_path_points(qs)\n",
    "    return jnp.vstack([obj_points, path_points])"
   ]
  },
  {
   "cell_type": "code",
   "execution_count": null,
   "metadata": {},
   "outputs": [],
   "source": [
    "qs_movehold = jnp.linspace(qs[3], qs[4], 4)"
   ]
  },
  {
   "cell_type": "code",
   "execution_count": null,
   "metadata": {},
   "outputs": [],
   "source": [
    "points = get_hold_path_points(qs_movehold, xsol)"
   ]
  },
  {
   "cell_type": "code",
   "execution_count": null,
   "metadata": {},
   "outputs": [],
   "source": [
    "del pc_path"
   ]
  },
  {
   "cell_type": "code",
   "execution_count": null,
   "metadata": {},
   "outputs": [],
   "source": [
    "pc_path = PointCloud(world.vis, \"pc_path\", points, 0.01, \"blue\")"
   ]
  },
  {
   "cell_type": "code",
   "execution_count": null,
   "metadata": {},
   "outputs": [],
   "source": [
    "del pc_path"
   ]
  },
  {
   "cell_type": "code",
   "execution_count": null,
   "metadata": {},
   "outputs": [],
   "source": [
    "obj.set_translate([0.4, -0.3, h/2])\n",
    "move1.show()\n",
    "pick.show()\n",
    "move2.show()\n",
    "place.show()\n",
    "move3.show()"
   ]
  },
  {
   "cell_type": "code",
   "execution_count": null,
   "metadata": {},
   "outputs": [],
   "source": [
    "i = 0"
   ]
  },
  {
   "cell_type": "code",
   "execution_count": null,
   "metadata": {},
   "outputs": [],
   "source": [
    "panda.set_joint_angles(qs[i])\n",
    "i+=1"
   ]
  },
  {
   "cell_type": "code",
   "execution_count": null,
   "metadata": {},
   "outputs": [],
   "source": [
    "obj = Mesh(world.vis, \"obj\", \"./sdf_world/assets/object/mesh.obj\",\n",
    "                alpha=0.8, color=\"blue\")\n",
    "obj.set_translate([0.4, -0.3, h/2])\n",
    "obj_points = obj.mesh.sample(20)\n",
    "obj.set_translate([0.4, -0.3, h/2])"
   ]
  },
  {
   "cell_type": "code",
   "execution_count": null,
   "metadata": {},
   "outputs": [],
   "source": [
    "class Pick:\n",
    "    def __init__(self):\n",
    "        pass"
   ]
  },
  {
   "cell_type": "code",
   "execution_count": null,
   "metadata": {},
   "outputs": [],
   "source": [
    "paths = []\n",
    "for i in range(len(qs)-1):\n",
    "    q1, q2 = qs[i], qs[i+1]\n",
    "    path = np.linspace(q1, q2, 20)\n",
    "    paths.append(path)\n",
    "paths = np.vstack(paths)"
   ]
  },
  {
   "cell_type": "code",
   "execution_count": null,
   "metadata": {},
   "outputs": [],
   "source": [
    "\n",
    "for q in paths:\n",
    "    panda.set_joint_angles(q)\n",
    "    time.sleep(0.05)"
   ]
  },
  {
   "cell_type": "code",
   "execution_count": null,
   "metadata": {},
   "outputs": [
    {
     "name": "stdout",
     "output_type": "stream",
     "text": [
      "-14.847334 3.2866842e-06 [0.48995048 0.5860477 ]\n"
     ]
    }
   ],
   "source": [
    "posevecs = grasp_to_posevecs(g)\n",
    "logit = get_grasp_logit(g)\n",
    "penet = penetration(posevecs)\n",
    "manips = manipulability(posevecs)\n",
    "print(logit, penet, manips)"
   ]
  },
  {
   "cell_type": "code",
   "execution_count": null,
   "metadata": {},
   "outputs": [
    {
     "data": {
      "text/plain": [
       "Array([-1.2881178 ,  0.16389363,  0.04734417], dtype=float32)"
      ]
     },
     "execution_count": 4387,
     "metadata": {},
     "output_type": "execute_result"
    }
   ],
   "source": [
    "jax.grad(get_grasp_logit)(g)"
   ]
  },
  {
   "cell_type": "code",
   "execution_count": null,
   "metadata": {},
   "outputs": [
    {
     "data": {
      "text/plain": [
       "Array([0.51384914, 0.58879846], dtype=float32)"
      ]
     },
     "execution_count": 4390,
     "metadata": {},
     "output_type": "execute_result"
    }
   ],
   "source": [
    "manipulability(posevecs)"
   ]
  },
  {
   "cell_type": "code",
   "execution_count": null,
   "metadata": {},
   "outputs": [
    {
     "data": {
      "text/plain": [
       "Array([-1.2881178 ,  0.16389363,  0.04734417], dtype=float32)"
      ]
     },
     "execution_count": 3936,
     "metadata": {},
     "output_type": "execute_result"
    }
   ],
   "source": [
    "jax.grad(get_grasp_logit)(g)"
   ]
  },
  {
   "cell_type": "code",
   "execution_count": null,
   "metadata": {},
   "outputs": [
    {
     "data": {
      "text/plain": [
       "Array(-14.845617, dtype=float32)"
      ]
     },
     "execution_count": 2816,
     "metadata": {},
     "output_type": "execute_result"
    }
   ],
   "source": [
    "get_grasp_logit(g)"
   ]
  },
  {
   "cell_type": "code",
   "execution_count": null,
   "metadata": {},
   "outputs": [],
   "source": [
    "from sdf_world.nlp import NLP\n",
    "prob = NLP()"
   ]
  },
  {
   "cell_type": "code",
   "execution_count": null,
   "metadata": {},
   "outputs": [
    {
     "data": {
      "text/plain": [
       "Array([-1.8105585e+01,  7.8934552e-03,  5.7361335e-01,  6.2390339e-01],      dtype=float32)"
      ]
     },
     "execution_count": 59,
     "metadata": {},
     "output_type": "execute_result"
    }
   ],
   "source": [
    "constraints(g)"
   ]
  },
  {
   "cell_type": "code",
   "execution_count": null,
   "metadata": {},
   "outputs": [
    {
     "data": {
      "text/plain": [
       "Array(0.00789346, dtype=float32)"
      ]
     },
     "execution_count": 54,
     "metadata": {},
     "output_type": "execute_result"
    }
   ],
   "source": [
    "posevecs = grasp_to_posevecs(g)\n",
    "penetration(posevecs)"
   ]
  },
  {
   "cell_type": "code",
   "execution_count": null,
   "metadata": {},
   "outputs": [
    {
     "data": {
      "text/plain": [
       "Array(0.02936802, dtype=float32)"
      ]
     },
     "execution_count": 57,
     "metadata": {},
     "output_type": "execute_result"
    }
   ],
   "source": [
    "points[:,-1].min()"
   ]
  },
  {
   "cell_type": "code",
   "execution_count": null,
   "metadata": {},
   "outputs": [],
   "source": [
    "posevecs = grasp_to_posevecs(g)\n",
    "points = assign_hands_points_fn(posevecs)\n",
    "pc = PointCloud(world.vis, \"pc\", points, 0.01, \"red\")"
   ]
  },
  {
   "cell_type": "code",
   "execution_count": null,
   "metadata": {},
   "outputs": [],
   "source": [
    "world.vis[\"pc\"].delete()"
   ]
  },
  {
   "cell_type": "code",
   "execution_count": null,
   "metadata": {},
   "outputs": [
    {
     "data": {
      "text/plain": [
       "Array(0.00789346, dtype=float32)"
      ]
     },
     "execution_count": 31,
     "metadata": {},
     "output_type": "execute_result"
    }
   ],
   "source": [
    "penetration()"
   ]
  },
  {
   "cell_type": "code",
   "execution_count": null,
   "metadata": {},
   "outputs": [
    {
     "data": {
      "text/plain": [
       "Array([[ 0.3635179 ,  0.4089301 , -0.35115376,  0.75981706,  0.36155713,\n",
       "        -0.21275215,  0.06269744],\n",
       "       [-0.03211129,  0.54620326, -0.78557503,  0.28896856,  0.36155713,\n",
       "         0.34398812,  0.16934496]], dtype=float32)"
      ]
     },
     "execution_count": 23,
     "metadata": {},
     "output_type": "execute_result"
    }
   ],
   "source": [
    "get_grasp_to_posevecs(g)"
   ]
  },
  {
   "cell_type": "code",
   "execution_count": null,
   "metadata": {},
   "outputs": [
    {
     "data": {
      "text/plain": [
       "Array(-18.105585, dtype=float32)"
      ]
     },
     "execution_count": 21,
     "metadata": {},
     "output_type": "execute_result"
    }
   ],
   "source": [
    "get_grasp_logit(g)"
   ]
  },
  {
   "cell_type": "code",
   "execution_count": null,
   "metadata": {},
   "outputs": [],
   "source": []
  }
 ],
 "metadata": {
  "kernelspec": {
   "display_name": "cu11",
   "language": "python",
   "name": "python3"
  },
  "language_info": {
   "codemirror_mode": {
    "name": "ipython",
    "version": 3
   },
   "file_extension": ".py",
   "mimetype": "text/x-python",
   "name": "python",
   "nbconvert_exporter": "python",
   "pygments_lexer": "ipython3",
   "version": "3.8.16"
  },
  "orig_nbformat": 4
 },
 "nbformat": 4,
 "nbformat_minor": 2
}
