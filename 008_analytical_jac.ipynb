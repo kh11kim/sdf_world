{
 "cells": [
  {
   "cell_type": "code",
   "execution_count": 1,
   "metadata": {},
   "outputs": [],
   "source": [
    "import numpy as np\n",
    "import jax\n",
    "import jax.numpy as jnp\n",
    "from jaxlie import SE3, SO3\n",
    "\n",
    "from sdf_world.sdf_world import *\n",
    "from sdf_world.robots import *\n",
    "from sdf_world.util import *"
   ]
  },
  {
   "cell_type": "code",
   "execution_count": 2,
   "metadata": {},
   "outputs": [
    {
     "name": "stdout",
     "output_type": "stream",
     "text": [
      "You can open the visualizer by visiting the following URL:\n",
      "http://127.0.0.1:7001/static/\n"
     ]
    }
   ],
   "source": [
    "world = SDFWorld()"
   ]
  },
  {
   "cell_type": "code",
   "execution_count": 3,
   "metadata": {},
   "outputs": [],
   "source": [
    "frame = Frame(world.vis, \"frame\")\n",
    "frame_curr = Frame(world.vis, \"frame_curr\")"
   ]
  },
  {
   "cell_type": "code",
   "execution_count": 4,
   "metadata": {},
   "outputs": [],
   "source": [
    "panda_model = RobotModel(PANDA_URDF, PANDA_PACKAGE)"
   ]
  },
  {
   "cell_type": "code",
   "execution_count": 5,
   "metadata": {},
   "outputs": [],
   "source": [
    "panda = Robot(world.vis, \"panda\", panda_model, alpha=0.5)\n",
    "panda.reduce_dim([7, 8], [0.04, 0.04])"
   ]
  },
  {
   "cell_type": "code",
   "execution_count": 9,
   "metadata": {},
   "outputs": [],
   "source": [
    "def get_ee_pose(q):\n",
    "    return panda_model.fk_fn(q)[-1]\n",
    "def get_qtn_map_mat(qtn):\n",
    "    q0, q1, q2, q3 = qtn\n",
    "    return jnp.array([\n",
    "        [-q1, q0, -q3, q2],\n",
    "        [-q2, q3, q0, -q1],\n",
    "        [-q3, -q2, q1, q0],\n",
    "    ])"
   ]
  },
  {
   "cell_type": "code",
   "execution_count": 253,
   "metadata": {},
   "outputs": [],
   "source": [
    "qtn = np.random.normal(size=4)\n",
    "qtn = qtn/np.linalg.norm(qtn)\n",
    "target_pose = SE3.from_rotation_and_translation(\n",
    "    SO3(qtn), jnp.array([0.4, 0.05, 0.4])).parameters()\n",
    "frame.set_pose(SE3(target_pose))"
   ]
  },
  {
   "cell_type": "code",
   "execution_count": 254,
   "metadata": {},
   "outputs": [],
   "source": [
    "#init\n",
    "q = panda.neutral\n",
    "panda.set_joint_angles(q)"
   ]
  },
  {
   "cell_type": "code",
   "execution_count": 255,
   "metadata": {},
   "outputs": [],
   "source": [
    "def analytical_jacobian_qtn(q):\n",
    "    ee_pose = panda_model.fk_fn(q)[-1]\n",
    "    geom_jac = panda_model.jac_fn(q) #wrt world\n",
    "    pos_jac = geom_jac[:3, :]\n",
    "    rot_jac_angvel = geom_jac[3:, :]\n",
    "    H = get_qtn_map_mat(ee_pose[:4])\n",
    "    rot_jac_qtn = 1/2 * H.T @ rot_jac_angvel\n",
    "    return jnp.vstack([pos_jac, rot_jac_qtn])"
   ]
  },
  {
   "cell_type": "code",
   "execution_count": 363,
   "metadata": {},
   "outputs": [
    {
     "name": "stdout",
     "output_type": "stream",
     "text": [
      "[ 0.03280118  0.00828883 -0.00603953]\n",
      "0.8077729\n"
     ]
    }
   ],
   "source": [
    "ee_pose = panda_model.fk_fn(q)[-1]\n",
    "geom_jac = panda_model.jac_fn(q) #wrt world\n",
    "pos_jac = geom_jac[:3, :]\n",
    "rot_jac_angvel = geom_jac[3:, :]\n",
    "\n",
    "pos_jac_body = SO3(ee_pose[:4]).as_matrix().T @ pos_jac\n",
    "rot_jac_body = SO3(ee_pose[:4]).as_matrix().T @ rot_jac_angvel\n",
    "\n",
    "qtn_target = (SO3(ee_pose[:4]).inverse() @ SO3(target_pose[:4])).parameters()\n",
    "H = get_qtn_map_mat(qtn_target)\n",
    "rot_jac_qtn = 1/2 * H.T @ rot_jac_body\n",
    "jac = jnp.vstack([pos_jac_body, rot_jac_qtn[1:,:]])\n",
    "\n",
    "pos_err = SO3(ee_pose[:4]).inverse().apply(target_pose[-3:] - ee_pose[-3:])\n",
    "rot_err = qtn_target[1:]\n",
    "\n",
    "error = jnp.hstack([pos_err, rot_err])\n",
    "#jac_pinv = np.linalg.pinv(jac)\n",
    "q_delta = jac.T @ error\n",
    "\n",
    "q += q_delta*1.\n",
    "panda.set_joint_angles(q)\n",
    "print(rot_err)\n",
    "print(ee_pose[0])"
   ]
  },
  {
   "cell_type": "code",
   "execution_count": null,
   "metadata": {},
   "outputs": [],
   "source": []
  },
  {
   "cell_type": "code",
   "execution_count": 46,
   "metadata": {},
   "outputs": [
    {
     "data": {
      "text/plain": [
       "Array([ 0.00928172,  0.00740224,  0.00683788, -0.03211983,  0.0250527 ,\n",
       "       -0.02126297], dtype=float32)"
      ]
     },
     "execution_count": 46,
     "metadata": {},
     "output_type": "execute_result"
    }
   ],
   "source": [
    "error"
   ]
  },
  {
   "cell_type": "code",
   "execution_count": 45,
   "metadata": {},
   "outputs": [
    {
     "data": {
      "text/plain": [
       "Array([[ 7.3535487e-02, -2.0712869e-01,  3.4838462e-01,  4.8920855e-01,\n",
       "         8.0805145e-02, -6.3188925e-02],\n",
       "       [ 3.9328170e-01,  2.1349944e-02, -9.4064571e-02, -1.0126683e-01,\n",
       "         3.4390864e-01, -3.4799409e-01],\n",
       "       [ 3.7498474e-02, -1.8973646e-01,  3.2346365e-01,  4.6685290e-01,\n",
       "         1.7491509e-01,  3.6374912e-02],\n",
       "       [-1.9736950e-01, -1.5633115e-01, -1.3805738e-01,  1.2512822e-01,\n",
       "        -3.9369780e-01,  2.8098023e-01],\n",
       "       [-9.9392697e-02, -1.8150987e-01,  1.0244548e-08, -2.7937528e-01,\n",
       "         1.7814527e-01,  3.7441111e-01],\n",
       "       [ 1.8594682e-01, -1.0182233e-01, -8.7999985e-02, -2.4921830e-01,\n",
       "        -4.3298435e-01,  2.0102682e-02],\n",
       "       [-7.9794003e-09,  1.7375532e-09, -3.1136788e-10, -1.2526370e-02,\n",
       "        -1.6059941e-02, -4.9947190e-01]], dtype=float32)"
      ]
     },
     "execution_count": 45,
     "metadata": {},
     "output_type": "execute_result"
    }
   ],
   "source": [
    "jac.T"
   ]
  },
  {
   "cell_type": "code",
   "execution_count": 3658,
   "metadata": {},
   "outputs": [
    {
     "data": {
      "text/plain": [
       "Array([[-7.7002821e-03,  2.4585027e-01, -1.9977307e-02, -5.6794697e-01,\n",
       "        -1.0608960e-02, -2.0810066e-01, -4.6566129e-10],\n",
       "       [-2.4906400e-01,  6.8868876e-02, -2.0071512e-01,  1.3302273e-01,\n",
       "         4.9682923e-02, -4.2795356e-02,  1.0710210e-08],\n",
       "       [ 0.0000000e+00, -2.3775479e-01,  1.3434693e-02,  2.1414879e-01,\n",
       "        -9.3831425e-04,  8.6894460e-02, -1.8917490e-10],\n",
       "       [ 2.4423324e-01, -3.1565249e-03,  2.4088922e-01, -1.5847936e-02,\n",
       "        -2.4149153e-01, -1.1343132e-03, -2.4423325e-01],\n",
       "       [ 4.3626493e-01, -3.6058852e-03,  4.2856318e-01, -3.4465697e-02,\n",
       "        -4.2976633e-01, -4.6560867e-03, -4.3626496e-01],\n",
       "       [ 2.6207364e-03,  3.5421392e-01, -6.0970344e-02, -4.7458217e-01,\n",
       "         5.8485121e-02, -3.7562874e-01,  2.6207366e-03]], dtype=float32)"
      ]
     },
     "execution_count": 3658,
     "metadata": {},
     "output_type": "execute_result"
    }
   ],
   "source": [
    "jac"
   ]
  },
  {
   "cell_type": "code",
   "execution_count": 3656,
   "metadata": {},
   "outputs": [
    {
     "data": {
      "text/plain": [
       "Array(0.9999998, dtype=float32)"
      ]
     },
     "execution_count": 3656,
     "metadata": {},
     "output_type": "execute_result"
    }
   ],
   "source": [
    "jnp.linalg.norm(ee_qtn)"
   ]
  },
  {
   "cell_type": "code",
   "execution_count": 3338,
   "metadata": {},
   "outputs": [
    {
     "data": {
      "text/plain": [
       "Array([-0.34707612,  0.8533501 , -0.38542277,  0.05273522], dtype=float32)"
      ]
     },
     "execution_count": 3338,
     "metadata": {},
     "output_type": "execute_result"
    }
   ],
   "source": [
    "rot_err"
   ]
  },
  {
   "cell_type": "code",
   "execution_count": 3335,
   "metadata": {},
   "outputs": [
    {
     "data": {
      "text/plain": [
       "Array(3.063508, dtype=float32)"
      ]
     },
     "execution_count": 3335,
     "metadata": {},
     "output_type": "execute_result"
    }
   ],
   "source": [
    "jnp.linalg.cond(jac[:3, :])"
   ]
  },
  {
   "cell_type": "code",
   "execution_count": 3317,
   "metadata": {},
   "outputs": [],
   "source": []
  },
  {
   "cell_type": "code",
   "execution_count": 3273,
   "metadata": {},
   "outputs": [
    {
     "data": {
      "text/plain": [
       "SO3(wxyz=[-0.83207     0.03318     0.52836996  0.16544999])"
      ]
     },
     "execution_count": 3273,
     "metadata": {},
     "output_type": "execute_result"
    }
   ],
   "source": [
    "SE3(ee_pose).rotation().inverse()"
   ]
  },
  {
   "cell_type": "code",
   "execution_count": 3266,
   "metadata": {},
   "outputs": [
    {
     "name": "stdout",
     "output_type": "stream",
     "text": [
      "SO3(wxyz=[ 0.14987999 -0.80438    -0.57364    -0.03809   ])\n"
     ]
    }
   ],
   "source": [
    "pos_jac, qtn_jac = analytical_jacobian_qtn(q)\n",
    "ee_pose = get_ee_pose(q)\n",
    "\n",
    "jac = jnp.vstack([pos_jac, qtn_jac[1:]])\n",
    "\n",
    "\n",
    "pos_delta = target_pose[-3:] - ee_pose[-3:]\n",
    "pos_mag = 2.\n",
    "pos_delta = pos_delta if np.linalg.norm(pos_delta) < pos_mag else pos_delta/np.linalg.norm(pos_delta)*pos_mag\n",
    "\n",
    "qtn_target = target_pose[:4]\n",
    "rot_target_vec = SO3(qtn_target).log()\n",
    "rot_angle = jnp.linalg.norm(rot_target_vec)\n",
    "rot_delta = SO3(qtn_target) \\\n",
    "    if rot_angle < 3. \\\n",
    "    else SO3.exp(rot_target_vec/rot_angle*3.)\n",
    "\n",
    "#rot_delta = SO3(target_pose[:4]) # since we are on the world frame\n",
    "#(SO3(ee_pose[:4]).inverse() @ SO3(target_pose[:4]))\n",
    "#rot_delta = SO3(ee_pose[:4])@rot_delta\n",
    "# rot_delta_vec = rot_delta.log()\n",
    "# rot_delta_mag = jnp.linalg.norm(rot_delta_vec)\n",
    "# rot_delta = rot_delta \\\n",
    "#     if rot_delta_mag < 0.5 \\\n",
    "#     else SO3.exp(rot_delta_vec/rot_delta_mag*0.5)\n",
    "\n",
    "qtn_delta = rot_delta.parameters()\n",
    "qtn_delta = qtn_delta[1:] if qtn_delta[0] >= 0 else -qtn_delta[1:]\n",
    "\n",
    "delta = jnp.hstack([pos_delta, qtn_delta])\n",
    "#delta = jnp.hstack([pos_delta, jnp.zeros(3)])\n",
    "#delta = jnp.hstack([jnp.zeros(3), qtn_delta])\n",
    "\n",
    "q_vel = jnp.linalg.pinv(jac) @ delta\n",
    "\n",
    "q = q + q_vel * 0.1\n",
    "print(rot_delta)\n",
    "panda.set_joint_angles(q)"
   ]
  },
  {
   "cell_type": "code",
   "execution_count": 2742,
   "metadata": {},
   "outputs": [
    {
     "data": {
      "text/plain": [
       "Array([ 0.9689124 , -0.22714303, -0.08552869, -0.04795405], dtype=float32)"
      ]
     },
     "execution_count": 2742,
     "metadata": {},
     "output_type": "execute_result"
    }
   ],
   "source": [
    "qtn_delta = rot_delta.parameters()\n",
    "qtn_delta"
   ]
  },
  {
   "cell_type": "code",
   "execution_count": 2743,
   "metadata": {},
   "outputs": [
    {
     "data": {
      "text/plain": [
       "Array([-0.22714303, -0.08552869, -0.04795405], dtype=float32)"
      ]
     },
     "execution_count": 2743,
     "metadata": {},
     "output_type": "execute_result"
    }
   ],
   "source": [
    "qtn_delta = qtn_delta[1:] if qtn_delta[0] >= 0 else -qtn_delta[1:]\n",
    "qtn_delta"
   ]
  },
  {
   "cell_type": "code",
   "execution_count": 2205,
   "metadata": {},
   "outputs": [],
   "source": []
  },
  {
   "cell_type": "code",
   "execution_count": 65,
   "metadata": {},
   "outputs": [],
   "source": [
    "qtn_vel = (SO3(ee_pose[:4]).inverse()@SO3(target_pose[:4])).parameters()"
   ]
  },
  {
   "cell_type": "code",
   "execution_count": null,
   "metadata": {},
   "outputs": [],
   "source": []
  },
  {
   "cell_type": "code",
   "execution_count": 38,
   "metadata": {},
   "outputs": [],
   "source": []
  },
  {
   "cell_type": "code",
   "execution_count": 26,
   "metadata": {},
   "outputs": [],
   "source": [
    "q = panda.neutral"
   ]
  },
  {
   "cell_type": "code",
   "execution_count": 35,
   "metadata": {},
   "outputs": [
    {
     "data": {
      "text/plain": [
       "Array([[-0.06827764, -0.18924005, -0.06827764,  0.18924005, -0.4568656 ,\n",
       "         0.18924008, -0.06827764],\n",
       "       [-0.18924005,  0.06827764, -0.18924005, -0.06827766,  0.0282822 ,\n",
       "        -0.06827763,  0.18924001],\n",
       "       [ 0.4568659 ,  0.02828152,  0.4568659 , -0.0282815 , -0.06827927,\n",
       "        -0.02828156, -0.45686582],\n",
       "       [ 0.02828152, -0.4568659 ,  0.02828152,  0.4568659 ,  0.18923992,\n",
       "         0.45686597,  0.02828153]], dtype=float32)"
      ]
     },
     "execution_count": 35,
     "metadata": {},
     "output_type": "execute_result"
    }
   ],
   "source": []
  },
  {
   "cell_type": "code",
   "execution_count": 31,
   "metadata": {},
   "outputs": [
    {
     "data": {
      "text/plain": [
       "Array([[-4.6566129e-10,  2.2148973e-01, -4.6566129e-10,  9.4510257e-02,\n",
       "         1.6653345e-15,  1.7700882e-01,  8.9062968e-10],\n",
       "       [ 6.1263680e-01,  0.0000000e+00,  6.1263680e-01,  3.1598617e-08,\n",
       "         1.7700827e-01, -1.1160222e-08,  7.4505806e-09],\n",
       "       [ 0.0000000e+00, -6.1263680e-01,  0.0000000e+00,  5.3013682e-01,\n",
       "         4.6566123e-10,  1.4613657e-01,  2.7228692e-10],\n",
       "       [ 0.0000000e+00,  0.0000000e+00,  0.0000000e+00,  0.0000000e+00,\n",
       "         9.9999988e-01,  0.0000000e+00,  2.9236585e-01],\n",
       "       [ 0.0000000e+00,  1.0000000e+00,  0.0000000e+00, -1.0000000e+00,\n",
       "         0.0000000e+00, -1.0000001e+00,  0.0000000e+00],\n",
       "       [ 1.0000000e+00,  0.0000000e+00,  1.0000000e+00,  5.9604645e-08,\n",
       "        -3.5762787e-06, -7.6368451e-08, -9.5630634e-01]], dtype=float32)"
      ]
     },
     "execution_count": 31,
     "metadata": {},
     "output_type": "execute_result"
    }
   ],
   "source": [
    "geom_jac"
   ]
  },
  {
   "cell_type": "code",
   "execution_count": 15,
   "metadata": {},
   "outputs": [
    {
     "data": {
      "text/plain": [
       "(6, 7)"
      ]
     },
     "execution_count": 15,
     "metadata": {},
     "output_type": "execute_result"
    }
   ],
   "source": []
  },
  {
   "cell_type": "code",
   "execution_count": 3,
   "metadata": {},
   "outputs": [],
   "source": [
    "frame = Frame(world.vis, \"frame\")\n",
    "frame_curr = Frame(world.vis, \"frame_curr\")"
   ]
  },
  {
   "cell_type": "code",
   "execution_count": 12,
   "metadata": {},
   "outputs": [],
   "source": [
    "frame.set_pose(SE3.identity())"
   ]
  },
  {
   "cell_type": "code",
   "execution_count": 19,
   "metadata": {},
   "outputs": [],
   "source": [
    "qtn = np.random.random(4)\n",
    "qtn /= np.linalg.norm(qtn)\n",
    "qtn_curr = qtn"
   ]
  },
  {
   "cell_type": "code",
   "execution_count": 20,
   "metadata": {},
   "outputs": [],
   "source": [
    "frame_curr.set_pose(SE3.from_rotation(SO3(qtn_curr)))"
   ]
  },
  {
   "cell_type": "code",
   "execution_count": 23,
   "metadata": {},
   "outputs": [],
   "source": [
    "qtn_target = jnp.array([1, 0,0,0.])"
   ]
  },
  {
   "cell_type": "code",
   "execution_count": 278,
   "metadata": {},
   "outputs": [],
   "source": [
    "angvel = (SO3(qtn_curr).inverse() @ SO3(qtn_target)).log()\n",
    "H = get_qtn_map_mat(qtn_curr)\n",
    "gain = 0.1\n",
    "qtn_update = gain * 1/2*H.T @ angvel\n",
    "\n",
    "qtn_curr += qtn_update\n",
    "frame_curr.set_pose(SE3.from_rotation(SO3(qtn_curr)))"
   ]
  },
  {
   "cell_type": "code",
   "execution_count": 58,
   "metadata": {},
   "outputs": [],
   "source": []
  },
  {
   "cell_type": "code",
   "execution_count": 40,
   "metadata": {},
   "outputs": [
    {
     "data": {
      "text/plain": [
       "Array([[ 0.31938317, -0.49195808,  0.39933908],\n",
       "       [ 0.49195808,  0.31938317, -0.7046275 ],\n",
       "       [-0.39933908,  0.7046275 ,  0.31938317]], dtype=float32)"
      ]
     },
     "execution_count": 40,
     "metadata": {},
     "output_type": "execute_result"
    }
   ],
   "source": [
    "skew(xyz)+jnp.eye(3)*w"
   ]
  },
  {
   "cell_type": "code",
   "execution_count": 43,
   "metadata": {},
   "outputs": [],
   "source": []
  },
  {
   "cell_type": "code",
   "execution_count": 45,
   "metadata": {},
   "outputs": [
    {
     "data": {
      "text/plain": [
       "Array([[-0.35231376, -0.19966954, -0.24597904],\n",
       "       [ 0.15969159,  0.24597904, -0.19966954],\n",
       "       [-0.24597904,  0.15969159,  0.35231376],\n",
       "       [ 0.19966954, -0.35231376,  0.15969159]], dtype=float32)"
      ]
     },
     "execution_count": 45,
     "metadata": {},
     "output_type": "execute_result"
    }
   ],
   "source": [
    "H = get_qtn_map_mat(qtn_curr)\n",
    "1/2 * H.T"
   ]
  },
  {
   "cell_type": "code",
   "execution_count": 36,
   "metadata": {},
   "outputs": [
    {
     "data": {
      "text/plain": [
       "Array([-0.092619  , -0.21266943,  0.30528843], dtype=float32)"
      ]
     },
     "execution_count": 36,
     "metadata": {},
     "output_type": "execute_result"
    }
   ],
   "source": [
    "skew(xyz) @ jnp.ones(3)"
   ]
  },
  {
   "cell_type": "code",
   "execution_count": 27,
   "metadata": {},
   "outputs": [
    {
     "data": {
      "text/plain": [
       "Array([-1.8525608, -1.0499163, -1.2934241], dtype=float32)"
      ]
     },
     "execution_count": 27,
     "metadata": {},
     "output_type": "execute_result"
    }
   ],
   "source": [
    "angvel"
   ]
  }
 ],
 "metadata": {
  "kernelspec": {
   "display_name": "cu11",
   "language": "python",
   "name": "python3"
  },
  "language_info": {
   "codemirror_mode": {
    "name": "ipython",
    "version": 3
   },
   "file_extension": ".py",
   "mimetype": "text/x-python",
   "name": "python",
   "nbconvert_exporter": "python",
   "pygments_lexer": "ipython3",
   "version": "3.8.16"
  },
  "orig_nbformat": 4
 },
 "nbformat": 4,
 "nbformat_minor": 2
}
