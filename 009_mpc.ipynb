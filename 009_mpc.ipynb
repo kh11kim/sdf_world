{
 "cells": [
  {
   "cell_type": "code",
   "execution_count": 1,
   "metadata": {},
   "outputs": [],
   "source": [
    "import numpy as np\n",
    "import jax\n",
    "import jax.numpy as jnp\n",
    "from jaxlie import SE3, SO3\n",
    "\n",
    "from sdf_world.sdf_world import *\n",
    "from sdf_world.robots import *\n",
    "from sdf_world.util import *"
   ]
  },
  {
   "cell_type": "code",
   "execution_count": 2,
   "metadata": {},
   "outputs": [
    {
     "name": "stdout",
     "output_type": "stream",
     "text": [
      "You can open the visualizer by visiting the following URL:\n",
      "http://127.0.0.1:7001/static/\n"
     ]
    }
   ],
   "source": [
    "world = SDFWorld()"
   ]
  },
  {
   "cell_type": "code",
   "execution_count": 3,
   "metadata": {},
   "outputs": [],
   "source": [
    "panda_model = RobotModel(PANDA_URDF, PANDA_PACKAGE)\n",
    "panda = Robot(world.vis, \"panda\", panda_model, alpha=0.5)\n",
    "panda.reduce_dim([7, 8], [0.04, 0.04])"
   ]
  },
  {
   "cell_type": "code",
   "execution_count": 669,
   "metadata": {},
   "outputs": [],
   "source": [
    "robot_dim = 7\n",
    "horizon = 10\n",
    "dim = robot_dim * horizon\n",
    "u = jnp.zeros(dim)"
   ]
  },
  {
   "cell_type": "code",
   "execution_count": 884,
   "metadata": {},
   "outputs": [],
   "source": [
    "to_mat = lambda x: x.reshape(-1, robot_dim)\n",
    "to_vec = lambda x: x.flatten()\n",
    "dt = 0.1\n",
    "dt_vec = jnp.ones(dim) * dt\n",
    "\n",
    "umax = 1.\n",
    "lower_tri = np.tril(np.full((horizon,horizon), 1))\n",
    "upper_tri = np.triu(np.full((horizon,horizon), 1))\n",
    "eye = np.eye(robot_dim)\n",
    "integration_mat = np.kron(lower_tri, eye) @ np.diag(dt_vec)\n",
    "double_integration_mat = integration_mat@integration_mat\n",
    "qdot_max = umax*np.kron(upper_tri, eye)@dt_vec"
   ]
  },
  {
   "cell_type": "code",
   "execution_count": 919,
   "metadata": {},
   "outputs": [],
   "source": [
    "# @jax.jit\n",
    "# def integration(q0, qdots):\n",
    "#     result = []\n",
    "#     q = q0\n",
    "#     for qdot in to_mat(qdots):\n",
    "#         q += qdot*dt\n",
    "#         result.append(q)\n",
    "#     return jnp.hstack(result)\n",
    "\n",
    "@jax.jit\n",
    "def integration(q0, qdots):\n",
    "    return integration_mat@qdots + jnp.tile(q0, horizon)\n",
    "    \n",
    "@jax.jit\n",
    "def rollout(us, state):\n",
    "    q0, qdot0 = state\n",
    "    qdots = integration(qdot0, us)\n",
    "    qs = integration(q0, qdots)\n",
    "    return qs, qdots"
   ]
  },
  {
   "cell_type": "code",
   "execution_count": 673,
   "metadata": {},
   "outputs": [],
   "source": [
    "# # helper fn\n",
    "# get_ee = lambda q: panda_model.fk_fn(q)[-1]\n",
    "# get_pos_jac = lambda q: panda_model.jac_fn(q)[:3, :]\n",
    "# get_ee_pos = lambda q: get_ee(q)[-3:]"
   ]
  },
  {
   "cell_type": "code",
   "execution_count": 920,
   "metadata": {},
   "outputs": [],
   "source": [
    "# Kinematics\n",
    "@jax.jit\n",
    "def get_ee_fk_jac(q):\n",
    "    fks = panda_model.fk_fn(q)\n",
    "    p_ee = fks[-1][-3:]\n",
    "    jac = []\n",
    "    for posevec in fks[1:8]:\n",
    "        p_frame = posevec[-3:]\n",
    "        rot_axis = SE3(posevec).as_matrix()[:3, 2]\n",
    "        lin_vel = jnp.cross(rot_axis, p_ee - p_frame)\n",
    "        jac.append(jnp.hstack([lin_vel, rot_axis]))\n",
    "    jac = jnp.array(jac).T\n",
    "    return fks[-1], jac"
   ]
  },
  {
   "cell_type": "code",
   "execution_count": 921,
   "metadata": {},
   "outputs": [],
   "source": [
    "from scipy.optimize import minimize, Bounds\n",
    "# optimization functions\n",
    "# Objective / gradient\n",
    "@jax.jit\n",
    "def vg_pos_err(q, target):\n",
    "    ee_pose, ee_jac = get_ee_fk_jac(q)\n",
    "    err = target - ee_pose[-3:]\n",
    "    pos_jac = ee_jac[:3, :]\n",
    "    val = jnp.sum(err**2)\n",
    "    grad_poserr = - 2*pos_jac.T@err\n",
    "    return val, grad_poserr\n",
    "\n",
    "def vg_objective(u, state, target):\n",
    "    qs, _ = rollout(u, state)\n",
    "    vals, grads = jax.vmap(vg_pos_err, in_axes=(0,None))(to_mat(qs), target)\n",
    "    grads = grads.flatten() @ double_integration_mat\n",
    "    return vals.sum(), grads\n",
    "\n",
    "# Constraints\n",
    "lb, ub = -np.ones(dim), np.ones(dim)\n",
    "bounds = Bounds(lb, ub)\n",
    "def constr_stop(u, state):\n",
    "    _, qdot0 = state\n",
    "    qdots = integration(qdot0, u)\n",
    "    qdot_max_viol = qdot_max - jnp.abs(qdots)\n",
    "    return jnp.min(qdot_max_viol)"
   ]
  },
  {
   "cell_type": "code",
   "execution_count": 936,
   "metadata": {},
   "outputs": [],
   "source": [
    "# dynamics\n",
    "def update_dynamics(u, state):\n",
    "    q, qdot = state\n",
    "    q_new = q + qdot*dt\n",
    "    qdot_new = qdot + u*dt\n",
    "    return q_new, qdot_new"
   ]
  },
  {
   "cell_type": "code",
   "execution_count": 2084,
   "metadata": {},
   "outputs": [],
   "source": [
    "# problem initialize\n",
    "target_point = jnp.array([0.4, 0.2, 0.6])\n",
    "state = (panda.neutral, jnp.zeros(robot_dim))\n",
    "u = jnp.zeros(dim)\n",
    "point.set_translate(target_point)"
   ]
  },
  {
   "cell_type": "code",
   "execution_count": 1703,
   "metadata": {},
   "outputs": [],
   "source": [
    "#compile\n",
    "vg_objective_j = jax.jit(vg_objective).lower(u, state, target_point).compile()\n",
    "constr_stop_j = jax.jit(constr_stop).lower(u, state).compile()\n",
    "jac_constr_stop_j = jax.jit(jax.grad(constr_stop)).lower(u, state).compile()"
   ]
  },
  {
   "cell_type": "code",
   "execution_count": 2112,
   "metadata": {},
   "outputs": [
    {
     "name": "stdout",
     "output_type": "stream",
     "text": [
      "Optimization terminated successfully elapsed:0.002440276090055704\n"
     ]
    }
   ],
   "source": [
    "import time\n",
    "tic = time.perf_counter()\n",
    "constraints = tuple([\n",
    "    {\"type\":\"ineq\", \n",
    "     \"fun\":constr_stop_j, \"jac\":jac_constr_stop_j, \"args\":(state,)}\n",
    "])\n",
    "res = minimize(\n",
    "    fun=vg_objective_j,\n",
    "    x0=u,\n",
    "    args=(state,target_point),\n",
    "    method=\"SLSQP\",\n",
    "    jac=True,\n",
    "    bounds=bounds,\n",
    "    constraints=constraints,\n",
    "    options={'ftol':0.0001}\n",
    ")\n",
    "toc = time.perf_counter()\n",
    "print(res.message, f\"elapsed:{toc-tic}\")\n",
    "\n",
    "draw_ee_traj(res.x, state)\n",
    "state_new = update_dynamics(res.x[:robot_dim], state)\n",
    "qs, qdots = rollout(res.x, state)\n",
    "last_qdot = to_mat(qdots)[-1]\n",
    "unew = jnp.hstack([res.x[robot_dim:], - last_qdot/ dt])\n",
    "u, state = unew, state_new"
   ]
  },
  {
   "cell_type": "code",
   "execution_count": 1800,
   "metadata": {},
   "outputs": [
    {
     "data": {
      "text/plain": [
       "(Array(0.11125635, dtype=float32),\n",
       " Array([-8.7218604e-04,  1.4898673e-02, -5.2387547e-04,  2.1761764e-02,\n",
       "        -1.3568599e-03,  2.4745822e-02, -1.1241400e-09, -7.1360671e-04,\n",
       "         1.2189822e-02, -4.2862538e-04,  1.7805079e-02, -1.1101582e-03,\n",
       "         2.0246582e-02, -9.1975089e-10, -5.7088537e-04,  9.7518582e-03,\n",
       "        -3.4290028e-04,  1.4244063e-02, -8.8812655e-04,  1.6197266e-02,\n",
       "        -7.3580075e-10, -4.4402198e-04,  7.5847786e-03, -2.6670026e-04,\n",
       "         1.1078715e-02, -6.9076510e-04,  1.2597873e-02, -5.7228944e-10,\n",
       "        -3.3301648e-04,  5.6885839e-03, -2.0002518e-04,  8.3090374e-03,\n",
       "        -5.1807379e-04,  9.4484044e-03, -4.2921711e-10, -2.3786891e-04,\n",
       "         4.0632742e-03, -1.4287513e-04,  5.9350263e-03, -3.7005273e-04,\n",
       "         6.7488607e-03, -3.0658365e-10, -1.5857928e-04,  2.7088495e-03,\n",
       "        -9.5250085e-05,  3.9566844e-03, -2.4670182e-04,  4.4992408e-03,\n",
       "        -2.0438909e-10, -9.5147567e-05,  1.6253097e-03, -5.7150053e-05,\n",
       "         2.3740106e-03, -1.4802109e-04,  2.6995442e-03, -1.2263346e-10,\n",
       "        -4.7573783e-05,  8.1265485e-04, -2.8575027e-05,  1.1870053e-03,\n",
       "        -7.4010546e-05,  1.3497722e-03, -6.1316729e-11, -1.5857928e-05,\n",
       "         2.7088495e-04, -9.5250089e-06,  3.9566844e-04, -2.4670182e-05,\n",
       "         4.4992406e-04, -2.0438909e-11], dtype=float32))"
      ]
     },
     "execution_count": 1800,
     "metadata": {},
     "output_type": "execute_result"
    }
   ],
   "source": [
    "vg_objective_j(u, state, target_point)"
   ]
  },
  {
   "cell_type": "code",
   "execution_count": 1957,
   "metadata": {},
   "outputs": [
    {
     "data": {
      "text/plain": [
       "Array(0.1, dtype=float32)"
      ]
     },
     "execution_count": 1957,
     "metadata": {},
     "output_type": "execute_result"
    }
   ],
   "source": [
    "constr_stop(unew, state_new)"
   ]
  },
  {
   "cell_type": "code",
   "execution_count": 933,
   "metadata": {},
   "outputs": [],
   "source": [
    "import meshcat.geometry as g\n",
    "get_ee_pos = lambda q: panda_model.fk_fn(q)[-1][-3:]\n",
    "def draw_ee_traj(u, state):\n",
    "    world.vis[\"line\"].delete()\n",
    "    world.vis[\"line_pc\"].delete()\n",
    "\n",
    "    q = state[0]\n",
    "    panda.set_joint_angles(q)\n",
    "    qs, _ = rollout(u, state)    \n",
    "    vertices = jax.vmap(get_ee_pos)(to_mat(qs))\n",
    "    color = Colors.read(\"red\")\n",
    "    colors = np.tile(Colors.read(\"red\", return_rgb=True), \n",
    "                     vertices.shape[0]).reshape(-1, 3)\n",
    "    point_obj = g.PointsGeometry(vertices.T, colors.T)\n",
    "    line_material = g.MeshBasicMaterial(color=color)\n",
    "    point_material = g.PointsMaterial(size=0.02)\n",
    "    world.vis[\"line\"].set_object(\n",
    "        g.Line(point_obj, line_material)\n",
    "    )\n",
    "    world.vis[\"line_pc\"].set_object(\n",
    "        point_obj, point_material)"
   ]
  },
  {
   "cell_type": "code",
   "execution_count": 896,
   "metadata": {},
   "outputs": [
    {
     "name": "stdout",
     "output_type": "stream",
     "text": [
      "Optimization terminated successfully\n"
     ]
    },
    {
     "data": {
      "text/plain": [
       "0.004479089053347707"
      ]
     },
     "execution_count": 896,
     "metadata": {},
     "output_type": "execute_result"
    }
   ],
   "source": [
    "import time\n",
    "constraints = tuple([\n",
    "    {\"type\":\"ineq\", \"fun\":constr_stop_j, \"jac\":jac_constr_stop_j, \"args\":(state,)}\n",
    "])\n",
    "tic = time.perf_counter()\n",
    "res = minimize(\n",
    "    fun=vg_objective_j,\n",
    "    x0=u,\n",
    "    args=(state,),\n",
    "    method=\"SLSQP\",\n",
    "    jac=True,\n",
    "    bounds=bounds,\n",
    "    constraints=constraints,\n",
    "    options={'ftol':0.01}\n",
    ")\n",
    "toc = time.perf_counter()\n",
    "print(res.message)\n",
    "toc-tic"
   ]
  },
  {
   "cell_type": "code",
   "execution_count": 794,
   "metadata": {},
   "outputs": [],
   "source": [
    "world.vis[\"line\"].delete()"
   ]
  },
  {
   "cell_type": "code",
   "execution_count": 839,
   "metadata": {},
   "outputs": [],
   "source": [
    "draw_ee_traj(res.x, state)"
   ]
  },
  {
   "cell_type": "code",
   "execution_count": null,
   "metadata": {},
   "outputs": [],
   "source": []
  },
  {
   "cell_type": "code",
   "execution_count": 628,
   "metadata": {},
   "outputs": [
    {
     "name": "stdout",
     "output_type": "stream",
     "text": [
      "0.20689468\n"
     ]
    }
   ],
   "source": [
    "value, grads = vg_objective(unext, state)\n",
    "unext = unext - grads\n",
    "\n",
    "qs = rollout(state, unext)\n",
    "panda.set_joint_angles(to_mat(qs)[0])\n",
    "print(value)"
   ]
  },
  {
   "cell_type": "code",
   "execution_count": 503,
   "metadata": {},
   "outputs": [
    {
     "data": {
      "text/plain": [
       "Array(0.26821747, dtype=float32)"
      ]
     },
     "execution_count": 503,
     "metadata": {},
     "output_type": "execute_result"
    }
   ],
   "source": []
  },
  {
   "cell_type": "code",
   "execution_count": 402,
   "metadata": {},
   "outputs": [],
   "source": []
  },
  {
   "cell_type": "code",
   "execution_count": 404,
   "metadata": {},
   "outputs": [
    {
     "data": {
      "text/plain": [
       "Array([[ 0.01328348,  0.01220716,  0.013152  , -1.5656508 ,  0.01068715,\n",
       "         1.8745259 ,  0.01      ],\n",
       "       [ 0.0385356 ,  0.03588177,  0.03817638, -1.553735  ,  0.03175081,\n",
       "         1.8895615 ,  0.03      ],\n",
       "       [ 0.07481594,  0.07043503,  0.0741664 , -1.5337601 ,  0.06298567,\n",
       "         1.9133978 ,  0.06      ],\n",
       "       [ 0.12152295,  0.1154272 ,  0.12054996, -1.5047567 ,  0.10427634,\n",
       "         1.9466316 ,  0.10000001],\n",
       "       [ 0.1783392 ,  0.17056578,  0.17703146, -1.4660778 ,  0.15557502,\n",
       "         1.9896635 ,  0.15      ]], dtype=float32)"
      ]
     },
     "execution_count": 404,
     "metadata": {},
     "output_type": "execute_result"
    }
   ],
   "source": [
    "to_mat(qs)"
   ]
  },
  {
   "cell_type": "code",
   "execution_count": 395,
   "metadata": {},
   "outputs": [
    {
     "data": {
      "text/plain": [
       "Array([1.3283477 , 1.2207156 , 1.3151999 , 0.5149158 , 1.0687147 ,\n",
       "       0.7025927 , 1.        , 1.1968642 , 1.1467453 , 1.1872379 ,\n",
       "       0.67666173, 1.0376508 , 0.8009746 , 1.        , 1.1028215 ,\n",
       "       1.0878648 , 1.0965645 , 0.80591327, 1.0171207 , 0.88006043,\n",
       "       1.        , 1.0426666 , 1.0438911 , 1.0393531 , 0.9028455 ,\n",
       "       1.0055797 , 0.93974584, 1.        , 1.0109245 , 1.0146418 ,\n",
       "       1.0097942 , 0.9675567 , 1.0008031 , 0.97982305, 1.        ],      dtype=float32)"
      ]
     },
     "execution_count": 395,
     "metadata": {},
     "output_type": "execute_result"
    }
   ],
   "source": [
    "unext"
   ]
  },
  {
   "cell_type": "code",
   "execution_count": 131,
   "metadata": {},
   "outputs": [],
   "source": [
    "val, grad = jax.vmap(cost_pos_vg, out_axes=(0,0))(qs)"
   ]
  },
  {
   "cell_type": "code",
   "execution_count": 139,
   "metadata": {},
   "outputs": [
    {
     "data": {
      "text/plain": [
       "Array([-2.2193089e-02, -1.5408222e-02, -2.1307826e-02,  3.1913638e-02,\n",
       "       -4.6295011e-03,  1.9339101e-02,  8.2798035e-10, -1.3543896e-02,\n",
       "       -1.0370999e-02, -1.2890394e-02,  2.1388866e-02, -2.5997330e-03,\n",
       "        1.2993046e-02,  5.8132033e-10, -7.2516296e-03, -6.2921420e-03,\n",
       "       -6.8211695e-03,  1.2912054e-02, -1.2322738e-03,  7.8615453e-03,\n",
       "        4.3733650e-10, -3.1223432e-03, -3.1866729e-03, -2.8897203e-03,\n",
       "        6.5005664e-03, -4.3687542e-04,  3.9649447e-03,  2.6147917e-10,\n",
       "       -8.4964902e-04, -1.0780505e-03, -7.6785660e-04,  2.1830455e-03,\n",
       "       -8.1807942e-05,  1.3326881e-03,  7.6598526e-11], dtype=float32)"
      ]
     },
     "execution_count": 139,
     "metadata": {},
     "output_type": "execute_result"
    }
   ],
   "source": [
    "grad.flatten() @ jac_rollout(state, u)"
   ]
  },
  {
   "cell_type": "code",
   "execution_count": 111,
   "metadata": {},
   "outputs": [],
   "source": [
    "panda.set_joint_angles(q - 0.5 * grad)"
   ]
  },
  {
   "cell_type": "code",
   "execution_count": 92,
   "metadata": {},
   "outputs": [
    {
     "data": {
      "text/plain": [
       "Array([[-2.7173555e-03,  4.8802570e-01, -2.6683933e-03, -1.7285609e-01,\n",
       "        -2.7030234e-03,  2.1101448e-01, -3.6379788e-11],\n",
       "       [ 9.3230933e-02,  4.8804199e-03,  8.8346086e-02, -3.4582587e-03,\n",
       "         9.0075001e-02,  6.3232258e-03,  4.6566129e-10],\n",
       "       [ 0.0000000e+00, -9.3253441e-02,  1.7847964e-05,  7.6109590e-03,\n",
       "         9.0121484e-06,  9.0115853e-02, -1.7053026e-13]], dtype=float32)"
      ]
     },
     "execution_count": 92,
     "metadata": {},
     "output_type": "execute_result"
    }
   ],
   "source": [
    "get_pos_jac(q)"
   ]
  },
  {
   "cell_type": "code",
   "execution_count": 84,
   "metadata": {},
   "outputs": [
    {
     "data": {
      "text/plain": [
       "Array([0.10589164, 0.10027977, 0.09383675, 0.08904492, 0.08927719],      dtype=float32)"
      ]
     },
     "execution_count": 84,
     "metadata": {},
     "output_type": "execute_result"
    }
   ],
   "source": [
    "jax.vmap(cost_pos)(qs)"
   ]
  },
  {
   "cell_type": "code",
   "execution_count": 86,
   "metadata": {},
   "outputs": [],
   "source": [
    "panda.set_joint_angles(qs[0])"
   ]
  },
  {
   "cell_type": "code",
   "execution_count": 65,
   "metadata": {},
   "outputs": [
    {
     "data": {
      "text/plain": [
       "Array(0.3103109, dtype=float32)"
      ]
     },
     "execution_count": 65,
     "metadata": {},
     "output_type": "execute_result"
    }
   ],
   "source": []
  },
  {
   "cell_type": "code",
   "execution_count": 57,
   "metadata": {},
   "outputs": [],
   "source": [
    "point.set_translate(target_point)"
   ]
  },
  {
   "cell_type": "code",
   "execution_count": 56,
   "metadata": {},
   "outputs": [],
   "source": [
    "point = Sphere(world.vis, \"point\", 0.02, \"red\")"
   ]
  },
  {
   "cell_type": "code",
   "execution_count": 25,
   "metadata": {},
   "outputs": [],
   "source": []
  },
  {
   "cell_type": "code",
   "execution_count": 27,
   "metadata": {},
   "outputs": [
    {
     "data": {
      "text/plain": [
       "Array([0.1, 0.1, 0.1, 0.1, 0.1, 0.1, 0.1, 0.2, 0.2, 0.2, 0.2, 0.2, 0.2,\n",
       "       0.2, 0.3, 0.3, 0.3, 0.3, 0.3, 0.3, 0.3, 0.4, 0.4, 0.4, 0.4, 0.4,\n",
       "       0.4, 0.4, 0.5, 0.5, 0.5, 0.5, 0.5, 0.5, 0.5], dtype=float32)"
      ]
     },
     "execution_count": 27,
     "metadata": {},
     "output_type": "execute_result"
    }
   ],
   "source": [
    "integration2(q0, u)"
   ]
  },
  {
   "cell_type": "code",
   "execution_count": 36,
   "metadata": {},
   "outputs": [
    {
     "name": "stdout",
     "output_type": "stream",
     "text": [
      "27.2 µs ± 753 ns per loop (mean ± std. dev. of 7 runs, 10,000 loops each)\n"
     ]
    }
   ],
   "source": [
    "%timeit integration(q0, u).block_until_ready()"
   ]
  },
  {
   "cell_type": "code",
   "execution_count": 37,
   "metadata": {},
   "outputs": [
    {
     "name": "stdout",
     "output_type": "stream",
     "text": [
      "24.4 µs ± 327 ns per loop (mean ± std. dev. of 7 runs, 10,000 loops each)\n"
     ]
    }
   ],
   "source": [
    "%timeit integration2(q0, u).block_until_ready()"
   ]
  },
  {
   "cell_type": "code",
   "execution_count": 12,
   "metadata": {},
   "outputs": [
    {
     "data": {
      "text/plain": [
       "Array([[0.1, 0. , 0. , ..., 0. , 0. , 0. ],\n",
       "       [0. , 0.1, 0. , ..., 0. , 0. , 0. ],\n",
       "       [0. , 0. , 0.1, ..., 0. , 0. , 0. ],\n",
       "       ...,\n",
       "       [0. , 0. , 0. , ..., 0.1, 0. , 0. ],\n",
       "       [0. , 0. , 0. , ..., 0. , 0.1, 0. ],\n",
       "       [0. , 0. , 0. , ..., 0. , 0. , 0.1]], dtype=float32)"
      ]
     },
     "execution_count": 12,
     "metadata": {},
     "output_type": "execute_result"
    }
   ],
   "source": [
    "integration_mat"
   ]
  }
 ],
 "metadata": {
  "kernelspec": {
   "display_name": "cu11",
   "language": "python",
   "name": "python3"
  },
  "language_info": {
   "codemirror_mode": {
    "name": "ipython",
    "version": 3
   },
   "file_extension": ".py",
   "mimetype": "text/x-python",
   "name": "python",
   "nbconvert_exporter": "python",
   "pygments_lexer": "ipython3",
   "version": "3.8.16"
  },
  "orig_nbformat": 4
 },
 "nbformat": 4,
 "nbformat_minor": 2
}
