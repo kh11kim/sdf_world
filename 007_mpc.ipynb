{
 "cells": [
  {
   "cell_type": "code",
   "execution_count": 1,
   "metadata": {},
   "outputs": [],
   "source": [
    "import numpy as np\n",
    "import jax\n",
    "import jax.numpy as jnp\n",
    "from jaxlie import SE3, SO3\n",
    "\n",
    "from sdf_world.sdf_world import *\n",
    "from sdf_world.robots import *\n",
    "from sdf_world.util import *\n",
    "#from sdf_world.network import *"
   ]
  },
  {
   "cell_type": "code",
   "execution_count": 2,
   "metadata": {},
   "outputs": [
    {
     "name": "stdout",
     "output_type": "stream",
     "text": [
      "You can open the visualizer by visiting the following URL:\n",
      "http://127.0.0.1:7001/static/\n"
     ]
    }
   ],
   "source": [
    "world = SDFWorld()"
   ]
  },
  {
   "cell_type": "code",
   "execution_count": 3,
   "metadata": {},
   "outputs": [],
   "source": [
    "panda_model = RobotModel(PANDA_URDF, PANDA_PACKAGE)\n",
    "panda = Robot(world.vis, \"panda\", panda_model, alpha=0.5)\n",
    "panda.reduce_dim([7,8], [0.04, 0.04])"
   ]
  },
  {
   "cell_type": "code",
   "execution_count": 4,
   "metadata": {},
   "outputs": [],
   "source": [
    "frame = Frame(world.vis, \"frame\")"
   ]
  },
  {
   "cell_type": "code",
   "execution_count": 240,
   "metadata": {},
   "outputs": [],
   "source": [
    "robot_dim = 7\n",
    "n = 20\n",
    "dt = 1/10\n",
    "dim = n * robot_dim\n",
    "\n",
    "x0 = jnp.zeros(robot_dim*n)\n",
    "to_mat = lambda vec:vec.reshape(-1, robot_dim)\n",
    "to_vec = lambda vec:vec.flatten()\n",
    "\n",
    "def vector_integrate(x_init, xdots):\n",
    "    dt_vec = jnp.full(n, dt)    \n",
    "    lower_tri = jnp.tril(jnp.ones((n,n)))\n",
    "    lower_tri = jnp.kron(lower_tri @ jnp.diag(dt_vec), jnp.eye(7))\n",
    "    xs = to_vec(x_init + to_mat(lower_tri @ xdots))\n",
    "    return xs\n",
    "def rollout(state, u):\n",
    "    q, qdot = state\n",
    "    qdots = vector_integrate(qdot, u)\n",
    "    qs = vector_integrate(q, qdots)\n",
    "    return qs\n",
    "def goal_pose_reaching_cost(q, target_pose):\n",
    "    pose_curr = SE3(panda_model.fk_fn(q)[-1])\n",
    "    pos_error = pose_curr.translation() - target_pose.translation()\n",
    "    pos_error = jnp.sum(pos_error **2)\n",
    "    orn_error = (target_pose.inverse()@pose_curr).rotation().log() /3\n",
    "    orn_error = jnp.sum(orn_error**2)\n",
    "    return pos_error + orn_error"
   ]
  },
  {
   "cell_type": "code",
   "execution_count": 648,
   "metadata": {},
   "outputs": [],
   "source": [
    "from scipy.optimize import minimize"
   ]
  },
  {
   "cell_type": "code",
   "execution_count": 653,
   "metadata": {},
   "outputs": [],
   "source": [
    "def objective(x):\n",
    "    qs = rollout(state, x)\n",
    "    return jax.vmap(goal_pose_reaching_cost, in_axes=(0, None))(\n",
    "        to_mat(qs), goal_pose).sum()\n",
    "def cineq_fn(x):\n",
    "    qs = rollout(state, x)\n",
    "    ub_viol = to_mat(qs) - panda.ub\n",
    "    lb_viol = panda.lb - to_mat(qs)\n",
    "    return jnp.hstack([ub_viol.flatten(), lb_viol.flatten()])\n",
    "lb = -np.ones(dim)\n",
    "ub = np.ones(dim)"
   ]
  },
  {
   "cell_type": "code",
   "execution_count": 654,
   "metadata": {},
   "outputs": [],
   "source": [
    "from functools import partial\n",
    "def value_and_jacrev(x, f):\n",
    "    y, pullback = jax.vjp(f, x)\n",
    "    basis = jnp.eye(y.size, dtype=y.dtype)\n",
    "    jac = jax.vmap(pullback)(basis)[0]\n",
    "    return y, jac"
   ]
  },
  {
   "cell_type": "code",
   "execution_count": 655,
   "metadata": {},
   "outputs": [],
   "source": [
    "#precompile\n",
    "obj_val_grad = jax.jit(jax.value_and_grad(objective)).lower(x0).compile()\n",
    "cineq_fn_jit = jax.jit(cineq_fn).lower(x0).compile()\n",
    "jac_cineq_fn_jit = jax.jit(jax.jacrev(cineq_fn)).lower(x0).compile()"
   ]
  },
  {
   "cell_type": "code",
   "execution_count": 678,
   "metadata": {},
   "outputs": [],
   "source": [
    "constr = ({\"type\":'ineq', 'fun':cineq_fn_jit})\n",
    "bounds = [(l, u) for l, u in zip(lb, ub)]"
   ]
  },
  {
   "cell_type": "code",
   "execution_count": null,
   "metadata": {},
   "outputs": [],
   "source": [
    ", 'jac':jac_cineq_fn_jit"
   ]
  },
  {
   "cell_type": "code",
   "execution_count": 679,
   "metadata": {},
   "outputs": [],
   "source": [
    "res = minimize(\n",
    "    obj_val_grad, x0, \n",
    "    method=\"SLSQP\", jac=True, bounds=bounds,\n",
    "    constraints=constr) #options={\"ftol\":0.01}"
   ]
  },
  {
   "cell_type": "code",
   "execution_count": 684,
   "metadata": {},
   "outputs": [
    {
     "data": {
      "text/plain": [
       "[(-1.0, 1.0),\n",
       " (-1.0, 1.0),\n",
       " (-1.0, 1.0),\n",
       " (-1.0, 1.0),\n",
       " (-1.0, 1.0),\n",
       " (-1.0, 1.0),\n",
       " (-1.0, 1.0),\n",
       " (-1.0, 1.0),\n",
       " (-1.0, 1.0),\n",
       " (-1.0, 1.0),\n",
       " (-1.0, 1.0),\n",
       " (-1.0, 1.0),\n",
       " (-1.0, 1.0),\n",
       " (-1.0, 1.0),\n",
       " (-1.0, 1.0),\n",
       " (-1.0, 1.0),\n",
       " (-1.0, 1.0),\n",
       " (-1.0, 1.0),\n",
       " (-1.0, 1.0),\n",
       " (-1.0, 1.0),\n",
       " (-1.0, 1.0),\n",
       " (-1.0, 1.0),\n",
       " (-1.0, 1.0),\n",
       " (-1.0, 1.0),\n",
       " (-1.0, 1.0),\n",
       " (-1.0, 1.0),\n",
       " (-1.0, 1.0),\n",
       " (-1.0, 1.0),\n",
       " (-1.0, 1.0),\n",
       " (-1.0, 1.0),\n",
       " (-1.0, 1.0),\n",
       " (-1.0, 1.0),\n",
       " (-1.0, 1.0),\n",
       " (-1.0, 1.0),\n",
       " (-1.0, 1.0),\n",
       " (-1.0, 1.0),\n",
       " (-1.0, 1.0),\n",
       " (-1.0, 1.0),\n",
       " (-1.0, 1.0),\n",
       " (-1.0, 1.0),\n",
       " (-1.0, 1.0),\n",
       " (-1.0, 1.0),\n",
       " (-1.0, 1.0),\n",
       " (-1.0, 1.0),\n",
       " (-1.0, 1.0),\n",
       " (-1.0, 1.0),\n",
       " (-1.0, 1.0),\n",
       " (-1.0, 1.0),\n",
       " (-1.0, 1.0),\n",
       " (-1.0, 1.0),\n",
       " (-1.0, 1.0),\n",
       " (-1.0, 1.0),\n",
       " (-1.0, 1.0),\n",
       " (-1.0, 1.0),\n",
       " (-1.0, 1.0),\n",
       " (-1.0, 1.0),\n",
       " (-1.0, 1.0),\n",
       " (-1.0, 1.0),\n",
       " (-1.0, 1.0),\n",
       " (-1.0, 1.0),\n",
       " (-1.0, 1.0),\n",
       " (-1.0, 1.0),\n",
       " (-1.0, 1.0),\n",
       " (-1.0, 1.0),\n",
       " (-1.0, 1.0),\n",
       " (-1.0, 1.0),\n",
       " (-1.0, 1.0),\n",
       " (-1.0, 1.0),\n",
       " (-1.0, 1.0),\n",
       " (-1.0, 1.0),\n",
       " (-1.0, 1.0),\n",
       " (-1.0, 1.0),\n",
       " (-1.0, 1.0),\n",
       " (-1.0, 1.0),\n",
       " (-1.0, 1.0),\n",
       " (-1.0, 1.0),\n",
       " (-1.0, 1.0),\n",
       " (-1.0, 1.0),\n",
       " (-1.0, 1.0),\n",
       " (-1.0, 1.0),\n",
       " (-1.0, 1.0),\n",
       " (-1.0, 1.0),\n",
       " (-1.0, 1.0),\n",
       " (-1.0, 1.0),\n",
       " (-1.0, 1.0),\n",
       " (-1.0, 1.0),\n",
       " (-1.0, 1.0),\n",
       " (-1.0, 1.0),\n",
       " (-1.0, 1.0),\n",
       " (-1.0, 1.0),\n",
       " (-1.0, 1.0),\n",
       " (-1.0, 1.0),\n",
       " (-1.0, 1.0),\n",
       " (-1.0, 1.0),\n",
       " (-1.0, 1.0),\n",
       " (-1.0, 1.0),\n",
       " (-1.0, 1.0),\n",
       " (-1.0, 1.0),\n",
       " (-1.0, 1.0),\n",
       " (-1.0, 1.0),\n",
       " (-1.0, 1.0),\n",
       " (-1.0, 1.0),\n",
       " (-1.0, 1.0),\n",
       " (-1.0, 1.0),\n",
       " (-1.0, 1.0),\n",
       " (-1.0, 1.0),\n",
       " (-1.0, 1.0),\n",
       " (-1.0, 1.0),\n",
       " (-1.0, 1.0),\n",
       " (-1.0, 1.0),\n",
       " (-1.0, 1.0),\n",
       " (-1.0, 1.0),\n",
       " (-1.0, 1.0),\n",
       " (-1.0, 1.0),\n",
       " (-1.0, 1.0),\n",
       " (-1.0, 1.0),\n",
       " (-1.0, 1.0),\n",
       " (-1.0, 1.0),\n",
       " (-1.0, 1.0),\n",
       " (-1.0, 1.0),\n",
       " (-1.0, 1.0),\n",
       " (-1.0, 1.0),\n",
       " (-1.0, 1.0),\n",
       " (-1.0, 1.0),\n",
       " (-1.0, 1.0),\n",
       " (-1.0, 1.0),\n",
       " (-1.0, 1.0),\n",
       " (-1.0, 1.0),\n",
       " (-1.0, 1.0),\n",
       " (-1.0, 1.0),\n",
       " (-1.0, 1.0),\n",
       " (-1.0, 1.0),\n",
       " (-1.0, 1.0),\n",
       " (-1.0, 1.0),\n",
       " (-1.0, 1.0),\n",
       " (-1.0, 1.0),\n",
       " (-1.0, 1.0),\n",
       " (-1.0, 1.0),\n",
       " (-1.0, 1.0),\n",
       " (-1.0, 1.0)]"
      ]
     },
     "execution_count": 684,
     "metadata": {},
     "output_type": "execute_result"
    }
   ],
   "source": [
    "bounds"
   ]
  },
  {
   "cell_type": "code",
   "execution_count": 520,
   "metadata": {},
   "outputs": [],
   "source": [
    "import nlopt\n",
    "\n",
    "opt = nlopt.opt(nlopt.LD_AUGLAG, dim)\n",
    "\n",
    "def f(x, grad):\n",
    "    val, grads = obj_val_grad(x)\n",
    "    if grad.size > 0:\n",
    "        grad[:] = grads\n",
    "    return val.item()\n",
    "def cineq(result, x, grad):\n",
    "    val, grads = cineq_fn_val_grad(x)\n",
    "    if grad.size > 0:\n",
    "       grad[:] = grads\n",
    "    result[:] = val\n",
    "opt.set_min_objective(f)\n",
    "opt.add_inequality_mconstraint(cineq, np.full(dim*2, 0.01))\n",
    "opt.set_lower_bounds(lb)\n",
    "opt.set_upper_bounds(ub)\n",
    "xtol = 1e-2\n"
   ]
  },
  {
   "cell_type": "code",
   "execution_count": 521,
   "metadata": {},
   "outputs": [],
   "source": [
    "opt2 = nlopt.opt(nlopt.LD_SLSQP, dim)\n",
    "opt2.set_xtol_rel(xtol)\n",
    "\n",
    "opt.set_xtol_rel(xtol*10)\n",
    "opt.set_local_optimizer(opt2)"
   ]
  },
  {
   "cell_type": "code",
   "execution_count": 522,
   "metadata": {},
   "outputs": [],
   "source": [
    "xopt = opt.optimize(x0)"
   ]
  },
  {
   "cell_type": "code",
   "execution_count": 627,
   "metadata": {},
   "outputs": [
    {
     "name": "stdout",
     "output_type": "stream",
     "text": [
      "0.0719231809489429\n",
      "0.12245099293068051\n",
      "0.17294700792990625\n",
      "0.2233892648946494\n",
      "0.27373430295847356\n",
      "0.3257537828758359\n",
      "0.37680774996988475\n",
      "0.42739091999828815\n",
      "0.4775787799153477\n",
      "0.529890367994085\n",
      "0.005299723159987479\n"
     ]
    }
   ],
   "source": [
    "import time\n",
    "tic = time.perf_counter()\n",
    "for i in range(10):\n",
    "    xopt = opt.optimize(xopt)\n",
    "    print(time.perf_counter()-tic)\n",
    "toc = time.perf_counter()\n",
    "elapsed = (toc-tic)/100\n",
    "print(elapsed)"
   ]
  },
  {
   "cell_type": "code",
   "execution_count": 647,
   "metadata": {},
   "outputs": [
    {
     "name": "stdout",
     "output_type": "stream",
     "text": [
      "CPU times: user 9 µs, sys: 0 ns, total: 9 µs\n",
      "Wall time: 19.1 µs\n"
     ]
    },
    {
     "data": {
      "text/plain": [
       "array([ 1.        , -1.        ,  1.        , -1.        , -1.        ,\n",
       "        1.        , -1.        ,  1.        , -1.        ,  0.59301524,\n",
       "       -1.        , -1.        ,  1.        , -1.        ,  1.        ,\n",
       "       -1.        , -1.        , -1.        , -1.        ,  1.        ,\n",
       "       -1.        ,  1.        , -1.        , -1.        , -1.        ,\n",
       "       -0.90145735,  1.        , -1.        ,  1.        , -1.        ,\n",
       "       -1.        , -1.        ,  0.2810863 ,  1.        , -1.        ,\n",
       "        1.        , -0.42073285, -1.        , -1.        ,  1.        ,\n",
       "        1.        , -1.        ,  1.        , -0.01279864, -1.        ,\n",
       "       -1.        ,  1.        ,  1.        , -1.        ,  0.32739543,\n",
       "        0.02293431, -1.        , -1.        ,  1.        ,  1.        ,\n",
       "       -1.        , -0.55936623, -0.05741769, -1.        , -1.        ,\n",
       "        1.        ,  1.        , -1.        , -0.62991175, -0.10965685,\n",
       "       -1.        , -1.        ,  1.        ,  1.        , -1.        ,\n",
       "       -0.27850369, -0.0902917 , -1.        , -1.        ,  1.        ,\n",
       "        1.        , -1.        ,  0.20557781, -0.03776291, -1.        ,\n",
       "        0.74124459,  1.        ,  1.        , -1.        ,  0.62134995,\n",
       "       -0.03739231, -1.        ,  1.        ,  0.6615505 ,  0.40331129,\n",
       "       -1.        ,  0.85176638, -0.11224541, -1.        ,  1.        ,\n",
       "        0.30814718, -0.40041701, -0.46130651,  0.86597713, -0.22648691,\n",
       "       -1.        ,  1.        ,  0.03601306, -0.70174988, -0.1188303 ,\n",
       "        0.71135438, -0.32734215, -0.10017066,  1.        , -0.13556725,\n",
       "       -0.68095429,  0.04790118,  0.48212573, -0.37452725,  0.48360762,\n",
       "        1.        , -0.21479008, -0.49738915,  0.10479222,  0.26126658,\n",
       "       -0.34879938,  0.66103807,  1.        , -0.22041597, -0.27644773,\n",
       "        0.09808306,  0.09893832, -0.25361761,  0.54732798,  1.        ,\n",
       "       -0.17047829, -0.10155505,  0.06251876,  0.0143335 , -0.11745964,\n",
       "        0.2692804 ,  0.57514468, -0.08449314, -0.01177523,  0.02408443])"
      ]
     },
     "execution_count": 647,
     "metadata": {},
     "output_type": "execute_result"
    }
   ],
   "source": [
    "%time \n",
    "opt.optimize(xopt)"
   ]
  },
  {
   "cell_type": "code",
   "execution_count": 625,
   "metadata": {},
   "outputs": [
    {
     "name": "stdout",
     "output_type": "stream",
     "text": [
      "CPU times: user 8 µs, sys: 0 ns, total: 8 µs\n",
      "Wall time: 16.5 µs\n"
     ]
    }
   ],
   "source": [
    "%time\n",
    "xopt = opt.optimize(xopt)"
   ]
  },
  {
   "cell_type": "code",
   "execution_count": 667,
   "metadata": {},
   "outputs": [],
   "source": [
    "qs = rollout(state, res.x)"
   ]
  },
  {
   "cell_type": "code",
   "execution_count": 668,
   "metadata": {},
   "outputs": [],
   "source": [
    "i = 0"
   ]
  },
  {
   "cell_type": "code",
   "execution_count": 673,
   "metadata": {},
   "outputs": [],
   "source": [
    "panda.set_joint_angles(to_mat(qs)[i])\n",
    "i += 1"
   ]
  },
  {
   "cell_type": "code",
   "execution_count": 382,
   "metadata": {},
   "outputs": [
    {
     "data": {
      "text/plain": [
       "Array(0.00224686, dtype=float32)"
      ]
     },
     "execution_count": 382,
     "metadata": {},
     "output_type": "execute_result"
    }
   ],
   "source": [
    "goal_pose_reaching_cost(to_mat(qs)[-1], goal_pose)"
   ]
  },
  {
   "cell_type": "code",
   "execution_count": 351,
   "metadata": {},
   "outputs": [
    {
     "data": {
      "text/plain": [
       "Array([0.2801563 , 0.26153243, 0.23993082, 0.21622306, 0.19183062,\n",
       "       0.1678482 , 0.14501941, 0.12335581, 0.103462  , 0.08421466,\n",
       "       0.06530553, 0.04805544, 0.0331141 , 0.02121489, 0.01230958,\n",
       "       0.00614255, 0.00258136, 0.00103878, 0.00105415, 0.00224686],      dtype=float32)"
      ]
     },
     "execution_count": 351,
     "metadata": {},
     "output_type": "execute_result"
    }
   ],
   "source": [
    "jax.vmap(goal_pose_reaching_cost, in_axes=(0, None))(\n",
    "        to_mat(qs), goal_pose)"
   ]
  },
  {
   "cell_type": "code",
   "execution_count": 129,
   "metadata": {},
   "outputs": [
    {
     "data": {
      "text/plain": [
       "(140,)"
      ]
     },
     "execution_count": 129,
     "metadata": {},
     "output_type": "execute_result"
    }
   ],
   "source": [
    "cineq_fn(u).shape"
   ]
  },
  {
   "cell_type": "code",
   "execution_count": 107,
   "metadata": {},
   "outputs": [
    {
     "data": {
      "text/plain": [
       "(70,)"
      ]
     },
     "execution_count": 107,
     "metadata": {},
     "output_type": "execute_result"
    }
   ],
   "source": [
    "\n",
    "cineq_fn_val_grad = jax.jit(jax.value_and_grad(cineq_fn)).lower(x0).compile()"
   ]
  },
  {
   "cell_type": "code",
   "execution_count": null,
   "metadata": {},
   "outputs": [],
   "source": [
    "opt.set_lower_bounds(lb)\n",
    "opt.set_upper_bounds(ub)\n",
    "def f(x, grad):\n",
    "    val, grads = jax.value_and_grad(objective)(x)\n",
    "    if grad.size > 0:\n",
    "        grad[:] = grads\n",
    "    return val.item()\n",
    "opt.set_min_objective(f)"
   ]
  },
  {
   "cell_type": "code",
   "execution_count": 93,
   "metadata": {},
   "outputs": [],
   "source": [
    "state = panda.neutral, jnp.zeros(robot_dim)\n",
    "u = jnp.zeros(robot_dim*n)"
   ]
  },
  {
   "cell_type": "code",
   "execution_count": 100,
   "metadata": {},
   "outputs": [
    {
     "data": {
      "text/plain": [
       "Array([0.29052478, 0.29052478, 0.29052478, 0.29052478, 0.29052478,\n",
       "       0.29052478, 0.29052478, 0.29052478, 0.29052478, 0.29052478],      dtype=float32)"
      ]
     },
     "execution_count": 100,
     "metadata": {},
     "output_type": "execute_result"
    }
   ],
   "source": [
    "qs = rollout(state, u)\n",
    "jax.vmap(goal_pose_reaching_cost, in_axes=(0, None))(\n",
    "    to_mat(qs), goal_pose)"
   ]
  },
  {
   "cell_type": "code",
   "execution_count": 97,
   "metadata": {},
   "outputs": [],
   "source": [
    "# problem\n",
    "qtn = np.random.random(4)\n",
    "xyz = np.random.uniform([0.3, -1, 0.3], [0.6, 1, 0.6])\n",
    "goal_pose = SE3.from_rotation_and_translation(SO3(qtn).normalize(), xyz)\n",
    "frame.set_pose(goal_pose)"
   ]
  }
 ],
 "metadata": {
  "kernelspec": {
   "display_name": "cu11",
   "language": "python",
   "name": "python3"
  },
  "language_info": {
   "codemirror_mode": {
    "name": "ipython",
    "version": 3
   },
   "file_extension": ".py",
   "mimetype": "text/x-python",
   "name": "python",
   "nbconvert_exporter": "python",
   "pygments_lexer": "ipython3",
   "version": "3.8.16"
  },
  "orig_nbformat": 4
 },
 "nbformat": 4,
 "nbformat_minor": 2
}
