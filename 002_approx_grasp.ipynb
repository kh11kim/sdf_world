{
 "cells": [
  {
   "cell_type": "code",
   "execution_count": 1,
   "metadata": {},
   "outputs": [],
   "source": [
    "import numpy as np\n",
    "import jax\n",
    "import jax.numpy as jnp\n",
    "from jaxlie import SE3, SO3\n",
    "\n",
    "from sdf_world.sdf_world import *\n",
    "from sdf_world.robots import *\n",
    "from sdf_world.util import *"
   ]
  },
  {
   "cell_type": "code",
   "execution_count": 2,
   "metadata": {},
   "outputs": [
    {
     "name": "stdout",
     "output_type": "stream",
     "text": [
      "You can open the visualizer by visiting the following URL:\n",
      "http://127.0.0.1:7005/static/\n"
     ]
    },
    {
     "data": {
      "text/html": [
       "\n",
       "            <div style=\"height: 400px; width: 100%; overflow-x: auto; overflow-y: hidden; resize: both\">\n",
       "            <iframe src=\"http://127.0.0.1:7005/static/\" style=\"width: 100%; height: 100%; border: none\"></iframe>\n",
       "            </div>\n",
       "            "
      ],
      "text/plain": [
       "<IPython.core.display.HTML object>"
      ]
     },
     "execution_count": 2,
     "metadata": {},
     "output_type": "execute_result"
    }
   ],
   "source": [
    "world = SDFWorld()\n",
    "world.show_in_jupyter()"
   ]
  },
  {
   "cell_type": "code",
   "execution_count": 3,
   "metadata": {},
   "outputs": [
    {
     "name": "stderr",
     "output_type": "stream",
     "text": [
      "concatenating texture: may result in visual artifacts\n",
      "concatenating texture: may result in visual artifacts\n",
      "concatenating texture: may result in visual artifacts\n",
      "concatenating texture: may result in visual artifacts\n",
      "concatenating texture: may result in visual artifacts\n",
      "concatenating texture: may result in visual artifacts\n",
      "concatenating texture: may result in visual artifacts\n",
      "concatenating texture: may result in visual artifacts\n"
     ]
    }
   ],
   "source": [
    "panda_model = RobotModel(PANDA_URDF, PANDA_PACKAGE)\n",
    "panda = Robot(world.vis, \"panda\", panda_model, alpha=0.5)"
   ]
  },
  {
   "cell_type": "code",
   "execution_count": 8,
   "metadata": {},
   "outputs": [],
   "source": [
    "box = Box(world.vis, \"box\", [0.06, 0.15, 0.25], \"green\", 0.5)\n",
    "box.set_translate([0.4, 0, 0.25/2])"
   ]
  },
  {
   "cell_type": "code",
   "execution_count": 13,
   "metadata": {},
   "outputs": [
    {
     "name": "stderr",
     "output_type": "stream",
     "text": [
      "concatenating texture: may result in visual artifacts\n",
      "concatenating texture: may result in visual artifacts\n",
      "concatenating texture: may result in visual artifacts\n"
     ]
    }
   ],
   "source": [
    "HAND_URDF = PANDA_PACKAGE / \"hand.urdf\"\n",
    "hand_model = RobotModel(HAND_URDF, PANDA_PACKAGE, True)\n",
    "hand = Robot(world.vis, \"hand\", hand_model, alpha=0.5)"
   ]
  },
  {
   "cell_type": "code",
   "execution_count": 16,
   "metadata": {},
   "outputs": [
    {
     "data": {
      "text/plain": [
       "Array([0.4  , 0.   , 0.125], dtype=float32)"
      ]
     },
     "execution_count": 16,
     "metadata": {},
     "output_type": "execute_result"
    }
   ],
   "source": []
  },
  {
   "cell_type": "code",
   "execution_count": 267,
   "metadata": {},
   "outputs": [],
   "source": [
    "box_x = box.pose.rotation().as_matrix()[:,0]\n",
    "def grasp_point_to_pose(p):\n",
    "    normalize = lambda v: v/safe_2norm(v)\n",
    "    z = normalize(box.pose.translation() - p)\n",
    "    _y = box_x\n",
    "    x = normalize(jnp.cross(_y, z))\n",
    "    y = jnp.cross(z, x)\n",
    "    rot_mat = jnp.vstack([x, y, z]).T\n",
    "    grasp_pose = SE3.from_rotation_and_translation(\n",
    "        SO3.from_matrix(rot_mat), p)\n",
    "    return grasp_pose\n",
    "\n",
    "def set_hand_pose(pose):\n",
    "    ee_base_pose = pose @ SE3.from_translation(jnp.array([0,0,-0.105]))\n",
    "    hand.set_pose(ee_base_pose)\n",
    "    frame.set_pose(pose)"
   ]
  },
  {
   "cell_type": "code",
   "execution_count": 276,
   "metadata": {},
   "outputs": [],
   "source": [
    "def get_grasp_dist(g):\n",
    "    vec_to_center = box.pose.translation() - g\n",
    "    dist_surface = jnp.abs(box.distance(g, box.pose, box.lengths/2))\n",
    "    dist_center = jnp.linalg.norm(vec_to_center)\n",
    "    p_surface = vec_to_center*dist_surface/dist_center + g\n",
    "    p_surface_wrt_box = box.pose.inverse().apply(p_surface)\n",
    "    p_surface_proj_wrt_box = p_surface_wrt_box.at[0].set(0.)\n",
    "    p_surface_proj = box.pose.apply(p_surface_proj_wrt_box)\n",
    "    return safe_2norm(p_surface_proj - g)"
   ]
  },
  {
   "cell_type": "code",
   "execution_count": 277,
   "metadata": {},
   "outputs": [],
   "source": [
    "p = np.array([0.47, -0.1, 0.4])\n",
    "set_hand_pose(grasp_point_to_pose(p))"
   ]
  },
  {
   "cell_type": "code",
   "execution_count": 278,
   "metadata": {},
   "outputs": [
    {
     "name": "stdout",
     "output_type": "stream",
     "text": [
      "[ 0.46946636 -0.09985061  0.39913225]\n"
     ]
    }
   ],
   "source": [
    "grad_p = jax.grad(get_grasp_dist)(p)\n",
    "p = - grad_p*0.001 + p\n",
    "grasp_pose = grasp_point_to_pose(p)\n",
    "set_hand_pose(grasp_pose)\n",
    "print(p)"
   ]
  },
  {
   "cell_type": "code",
   "execution_count": 279,
   "metadata": {},
   "outputs": [],
   "source": [
    "from flax.training import orbax_utils\n",
    "from flax import linen as nn\n",
    "#load\n",
    "orbax_checkpointer = orbax.checkpoint.PyTreeCheckpointer()\n",
    "ckpt = orbax_checkpointer.restore('model/manip_net')\n",
    "params = ckpt[\"params\"]\n",
    "\n",
    "class ManipNet(nn.Module):\n",
    "    hidden_dim: int\n",
    "    @nn.compact\n",
    "    def __call__(self, x):\n",
    "        x = nn.Dense(features=self.hidden_dim)(x)\n",
    "        x = nn.relu(x)\n",
    "        x = nn.Dense(features=self.hidden_dim)(x)\n",
    "        x = nn.relu(x)\n",
    "        x = nn.Dense(features=self.hidden_dim)(x)\n",
    "        x = nn.relu(x)\n",
    "        x = nn.Dense(features=1)(x)\n",
    "        return nn.softplus(x)\n",
    "manip_net = ManipNet(64)\n",
    "ws_r = 1.\n",
    "ws_center = jnp.array([0,0,0.5])\n",
    "def get_manip_value(pose:SE3):\n",
    "    xyz = pose.translation()\n",
    "    is_out_of_bound = jnp.linalg.norm(xyz - ws_center) > ws_r\n",
    "    return jax.lax.cond(\n",
    "        is_out_of_bound, lambda x:jnp.array([0.]), \n",
    "        lambda x: manip_net.apply(params, x), pose.parameters())[0]"
   ]
  },
  {
   "cell_type": "code",
   "execution_count": 280,
   "metadata": {},
   "outputs": [],
   "source": [
    "from sdf_world.nlp import NLP"
   ]
  },
  {
   "cell_type": "code",
   "execution_count": 293,
   "metadata": {},
   "outputs": [],
   "source": [
    "prob = NLP()\n",
    "prob.add_var(\"g\", 3, np.ones(3)*-1, np.ones(3))\n",
    "prob.add_con(\"grasp\", 1, [\"g\"], get_grasp_dist, 0.)"
   ]
  },
  {
   "cell_type": "code",
   "execution_count": 294,
   "metadata": {},
   "outputs": [],
   "source": [
    "pre_pose = SE3.from_translation(jnp.array([0,0,-0.05]))\n",
    "def neg_manipulability(g):\n",
    "    grasp_pose = grasp_point_to_pose(g)\n",
    "    grasp_pose_rev = grasp_pose @ SE3.from_rotation(SO3.from_z_radians(jnp.pi))\n",
    "    return - jnp.maximum(\n",
    "        get_manip_value(grasp_pose @ pre_pose),\n",
    "        get_manip_value(grasp_pose_rev @ pre_pose),\n",
    "    )\n",
    "prob.add_objective(neg_manipulability)"
   ]
  },
  {
   "cell_type": "code",
   "execution_count": 295,
   "metadata": {},
   "outputs": [],
   "source": [
    "prob.build()"
   ]
  },
  {
   "cell_type": "code",
   "execution_count": 296,
   "metadata": {},
   "outputs": [
    {
     "name": "stdout",
     "output_type": "stream",
     "text": [
      "This is Ipopt version 3.14.10, running with linear solver MUMPS 5.2.1.\n",
      "\n",
      "Number of nonzeros in equality constraint Jacobian...:        3\n",
      "Number of nonzeros in inequality constraint Jacobian.:        0\n",
      "Number of nonzeros in Lagrangian Hessian.............:        0\n",
      "\n",
      "Total number of variables............................:        3\n",
      "                     variables with only lower bounds:        0\n",
      "                variables with lower and upper bounds:        3\n",
      "                     variables with only upper bounds:        0\n",
      "Total number of equality constraints.................:        1\n",
      "Total number of inequality constraints...............:        0\n",
      "        inequality constraints with only lower bounds:        0\n",
      "   inequality constraints with lower and upper bounds:        0\n",
      "        inequality constraints with only upper bounds:        0\n",
      "\n",
      "iter    objective    inf_pr   inf_du lg(mu)  ||d||  lg(rg) alpha_du alpha_pr  ls\n",
      "   0 -5.5888420e-01 4.15e-01 7.49e-01   0.0 0.00e+00    -  0.00e+00 0.00e+00   0\n",
      "   1 -5.5371434e-04 1.75e-01 1.54e+00  -6.0 4.60e-01    -  6.78e-01 1.00e+00h  1\n",
      "   2 -2.4765745e-01 3.65e-02 8.75e+00  -1.2 1.43e-01    -  9.91e-01 1.00e+00h  1\n",
      "   3 -6.5944427e-01 4.68e-01 1.31e+00  -1.4 1.22e+00    -  1.00e+00 4.13e-01f  2\n",
      "   4 -6.6548169e-01 1.97e-01 1.16e+01  -1.6 4.07e-01    -  1.00e+00 1.00e+00h  1\n",
      "   5 -7.7429301e-01 6.22e-02 1.63e+00  -2.3 1.82e-01    -  1.00e+00 1.00e+00f  1\n",
      "   6 -7.8102237e-01 7.29e-02 1.85e+00  -2.9 1.57e-01    -  1.00e+00 1.00e+00h  1\n",
      "   7 -8.2425892e-01 3.90e-02 9.66e-01  -3.9 7.22e-02    -  1.00e+00 1.00e+00h  1\n",
      "   8 -7.7402091e-01 1.18e-02 5.02e+00  -4.9 4.14e-02    -  1.00e+00 1.00e+00h  1\n",
      "   9 -7.8647757e-01 1.24e-02 6.50e+00  -5.5 1.97e-01    -  1.00e+00 2.50e-01f  3\n",
      "iter    objective    inf_pr   inf_du lg(mu)  ||d||  lg(rg) alpha_du alpha_pr  ls\n",
      "  10 -8.0018747e-01 2.19e-02 2.80e+00  -7.0 2.49e-02    -  9.94e-01 1.00e+00F  1\n",
      "  11 -6.9841039e-01 2.11e-02 9.52e+00  -8.0 3.45e-02    -  1.00e+00 1.00e+00h  1\n",
      "  12 -8.0027133e-01 7.39e-03 1.99e+00  -8.2 3.54e-02    -  1.00e+00 1.00e+00f  1\n",
      "  13 -7.8708774e-01 6.36e-03 5.85e+00  -9.7 8.50e-03    -  1.00e+00 1.00e+00h  1\n",
      "  14 -8.0301559e-01 8.54e-04 2.27e+00 -11.0 6.28e-03    -  1.00e+00 1.00e+00h  1\n",
      "  15 -8.0380791e-01 1.34e-03 1.92e+00 -11.0 2.71e-03    -  1.00e+00 1.00e+00h  1\n",
      "  16 -8.0831528e-01 2.69e-04 1.45e+00 -11.0 2.66e-03    -  1.00e+00 1.00e+00h  1\n",
      "  17 -8.0937636e-01 2.62e-04 3.23e+00 -11.0 5.35e-03    -  1.00e+00 2.50e-01h  3\n",
      "  18 -8.0242622e-01 1.92e-04 9.65e-01 -11.0 9.37e-04    -  1.00e+00 1.00e+00h  1\n",
      "  19 -8.0973053e-01 1.05e-04 1.98e+00 -11.0 9.01e-04    -  1.00e+00 1.00e+00h  1\n",
      "iter    objective    inf_pr   inf_du lg(mu)  ||d||  lg(rg) alpha_du alpha_pr  ls\n",
      "  20 -8.0307156e-01 6.90e-05 1.36e+00 -11.0 1.26e-04    -  1.00e+00 1.00e+00h  1\n",
      "  21 -8.0963093e-01 2.03e-05 1.32e+00 -11.0 6.09e-05    -  1.00e+00 1.00e+00h  1\n",
      "  22 -8.0966467e-01 3.14e-04 3.58e+00 -11.0 2.82e-04    -  1.00e+00 1.00e+00h  1\n",
      "  23 -8.0310130e-01 2.32e-04 2.36e+00 -11.0 4.52e-04    -  1.00e+00 5.00e-01h  2\n",
      "  24 -8.0312091e-01 1.29e-05 3.59e+00 -11.0 2.25e-04    -  1.00e+00 1.00e+00h  1\n",
      "  25 -8.0974948e-01 1.86e-05 1.38e+00 -11.0 1.67e-05    -  1.00e+00 1.00e+00h  1\n",
      "  26 -8.0987436e-01 1.31e-05 1.21e+00 -11.0 1.19e-04    -  1.00e+00 1.00e+00h  1\n",
      "  27 -8.0995286e-01 4.91e-05 1.14e+00 -11.0 3.39e-04    -  1.00e+00 2.50e-01h  3\n",
      "  28 -8.0298769e-01 3.50e-05 3.40e+00 -11.0 1.14e-04    -  1.00e+00 1.00e+00h  1\n",
      "  29 -8.0308640e-01 9.40e-05 1.45e+00 -11.0 1.55e-04    -  1.00e+00 1.00e+00h  1\n",
      "iter    objective    inf_pr   inf_du lg(mu)  ||d||  lg(rg) alpha_du alpha_pr  ls\n",
      "  30 -8.0312246e-01 6.78e-06 2.10e+00 -11.0 9.42e-05    -  1.00e+00 1.00e+00h  1\n",
      "  31 -8.0972886e-01 8.81e-05 2.57e+00 -11.0 1.77e-04    -  1.00e+00 1.00e+00h  1\n",
      "  32 -8.0314380e-01 4.47e-05 2.30e+00 -11.0 1.63e-04    -  1.00e+00 5.00e-01h  2\n",
      "  33 -8.0982435e-01 2.19e-05 1.49e+00 -11.0 4.18e-05    -  1.00e+00 1.00e+00h  1\n",
      "  34 -8.0983436e-01 1.62e-05 1.33e+00 -11.0 2.46e-05    -  1.00e+00 5.00e-01h  2\n",
      "  35 -8.0313331e-01 1.41e-05 1.65e+00 -11.0 8.44e-05    -  1.00e+00 5.00e-01h  2\n",
      "  36 -8.0986619e-01 4.65e-06 2.12e+00 -11.0 1.50e-05    -  1.00e+00 1.00e+00h  1\n",
      "  37 -8.0313629e-01 1.97e-06 1.84e+00 -11.0 1.13e-05    -  1.00e+00 1.00e+00h  1\n",
      "  38 -8.0987614e-01 1.89e-06 1.75e+00 -11.0 2.27e-06    -  1.00e+00 1.00e+00h  1\n",
      "  39 -8.0313534e-01 1.00e-06 1.54e+00 -11.0 2.23e-06    -  1.00e+00 1.00e+00h  1\n",
      "iter    objective    inf_pr   inf_du lg(mu)  ||d||  lg(rg) alpha_du alpha_pr  ls\n",
      "  40 -8.0987883e-01 1.01e-06 9.93e+03 -11.0 1.76e-06    -  1.00e+00 1.00e+00h  1\n",
      "  41 -8.0987871e-01 1.00e-06 7.00e+03 -11.0 4.31e-05    -  1.00e+00 7.81e-03h  8\n",
      "  42 -8.0987877e-01 1.00e-06 7.31e+03 -11.0 6.17e-05    -  1.00e+00 4.88e-04h 12\n",
      "  43r-8.0987877e-01 1.00e-06 9.99e+02  -6.0 0.00e+00    -  0.00e+00 4.77e-07R 22\n",
      "  44r-8.0312425e-01 8.32e-06 7.12e-02  -9.0 8.47e-03    -  1.00e+00 9.90e-04f  1\n",
      "  45r-8.0987883e-01 1.00e-06 4.38e-08  -7.3 8.38e-06    -  1.00e+00 9.94e-01h  1\n",
      "\n",
      "Number of Iterations....: 45\n",
      "\n",
      "                                   (scaled)                 (unscaled)\n",
      "Objective...............:  -8.0987882614135742e-01   -8.0987882614135742e-01\n",
      "elapsed: 0.19671800000000417\n",
      "Dual infeasibility......:   1.1876976052473889e+00    1.1876976052473889e+00\n",
      "Constraint violation....:   9.9999999747524271e-07    9.9999999747524271e-07\n",
      "Variable bound violation:   0.0000000000000000e+00    0.0000000000000000e+00\n",
      "Complementarity.........:   4.5941763480909860e-08    4.5941763480909860e-08\n",
      "Overall NLP error.......:   8.3138915477392450e-01    1.1876976052473889e+00\n",
      "\n",
      "\n",
      "Number of objective function evaluations             = 110\n",
      "Number of objective gradient evaluations             = 45\n",
      "Number of equality constraint evaluations            = 110\n",
      "Number of inequality constraint evaluations          = 0\n",
      "Number of equality constraint Jacobian evaluations   = 48\n",
      "Number of inequality constraint Jacobian evaluations = 0\n",
      "Number of Lagrangian Hessian evaluations             = 0\n",
      "Total seconds in IPOPT                               = 0.192\n",
      "\n",
      "EXIT: Converged to a point of local infeasibility. Problem may be infeasible.\n"
     ]
    }
   ],
   "source": [
    "xsol, info = prob.solve(jnp.zeros(3))"
   ]
  },
  {
   "cell_type": "code",
   "execution_count": 297,
   "metadata": {},
   "outputs": [],
   "source": [
    "set_hand_pose(grasp_point_to_pose(xsol))"
   ]
  },
  {
   "cell_type": "code",
   "execution_count": 298,
   "metadata": {},
   "outputs": [
    {
     "data": {
      "text/plain": [
       "Array(-0.8098788, dtype=float32)"
      ]
     },
     "execution_count": 298,
     "metadata": {},
     "output_type": "execute_result"
    }
   ],
   "source": [
    "neg_manipulability(xsol)"
   ]
  },
  {
   "cell_type": "code",
   "execution_count": 230,
   "metadata": {},
   "outputs": [
    {
     "data": {
      "text/plain": [
       "Array(0.5928991, dtype=float32)"
      ]
     },
     "execution_count": 230,
     "metadata": {},
     "output_type": "execute_result"
    }
   ],
   "source": [
    "get_manip_value(grasp_point_to_pose(p))"
   ]
  },
  {
   "cell_type": "code",
   "execution_count": 139,
   "metadata": {},
   "outputs": [
    {
     "data": {
      "text/plain": [
       "Array([0.        , 0.01050212, 0.        ], dtype=float32)"
      ]
     },
     "execution_count": 139,
     "metadata": {},
     "output_type": "execute_result"
    }
   ],
   "source": [
    "grad_p"
   ]
  },
  {
   "cell_type": "code",
   "execution_count": 91,
   "metadata": {},
   "outputs": [
    {
     "data": {
      "text/plain": [
       "Array([ 0.       , -2.5078523, -5.0157065], dtype=float32)"
      ]
     },
     "execution_count": 91,
     "metadata": {},
     "output_type": "execute_result"
    }
   ],
   "source": [
    "grad_p"
   ]
  },
  {
   "cell_type": "code",
   "execution_count": 78,
   "metadata": {},
   "outputs": [
    {
     "data": {
      "text/plain": [
       "Array(0.35493147, dtype=float32)"
      ]
     },
     "execution_count": 78,
     "metadata": {},
     "output_type": "execute_result"
    }
   ],
   "source": [
    "box.distance(p, box.pose, box.lengths/2)"
   ]
  },
  {
   "cell_type": "code",
   "execution_count": 77,
   "metadata": {},
   "outputs": [
    {
     "data": {
      "text/plain": [
       "Array(2.374961e-05, dtype=float32)"
      ]
     },
     "execution_count": 77,
     "metadata": {},
     "output_type": "execute_result"
    }
   ],
   "source": [
    "get_grasp_prob(p)"
   ]
  },
  {
   "cell_type": "code",
   "execution_count": 26,
   "metadata": {},
   "outputs": [],
   "source": []
  },
  {
   "cell_type": "code",
   "execution_count": 22,
   "metadata": {},
   "outputs": [],
   "source": [
    "frame = Frame(world.vis, \"frame\")"
   ]
  },
  {
   "cell_type": "code",
   "execution_count": 12,
   "metadata": {},
   "outputs": [
    {
     "data": {
      "text/plain": [
       "Array(0.37, dtype=float32)"
      ]
     },
     "execution_count": 12,
     "metadata": {},
     "output_type": "execute_result"
    }
   ],
   "source": [
    "box.distance(jnp.zeros(3), box.pose, box.lengths/2)"
   ]
  }
 ],
 "metadata": {
  "kernelspec": {
   "display_name": "opt_env",
   "language": "python",
   "name": "python3"
  },
  "language_info": {
   "codemirror_mode": {
    "name": "ipython",
    "version": 3
   },
   "file_extension": ".py",
   "mimetype": "text/x-python",
   "name": "python",
   "nbconvert_exporter": "python",
   "pygments_lexer": "ipython3",
   "version": "3.8.15"
  },
  "orig_nbformat": 4
 },
 "nbformat": 4,
 "nbformat_minor": 2
}
