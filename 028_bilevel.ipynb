{
 "cells": [
  {
   "cell_type": "code",
   "execution_count": 1,
   "metadata": {},
   "outputs": [],
   "source": [
    "import numpy as np\n",
    "import jax\n",
    "import jax.numpy as jnp\n",
    "from jaxlie import SE3, SO3\n",
    "import jax_dataclasses as jdc\n",
    "from functools import partial\n",
    "\n",
    "from sdf_world.sdf_world import *\n",
    "from sdf_world.robots import *\n",
    "from sdf_world.util import *\n",
    "from sdf_world.network import *\n",
    "\n",
    "from flax import linen as nn\n",
    "from flax.training import orbax_utils\n",
    "import orbax\n",
    "import pickle\n",
    "import time\n",
    "\n",
    "import cyipopt"
   ]
  },
  {
   "cell_type": "code",
   "execution_count": 2,
   "metadata": {},
   "outputs": [],
   "source": [
    "orbax_checkpointer = orbax.checkpoint.PyTreeCheckpointer()\n",
    "restored_grasp = orbax_checkpointer.restore(\"model/grasp_net_prob_dist\")\n",
    "restored_manip = orbax_checkpointer.restore(\"model/manip_net_posevec\")\n",
    "\n",
    "\n",
    "to_posevec = lambda x: jnp.hstack([x[4:], SO3(x[:4]).log()])\n",
    "to_wxyzxyz = lambda x: jnp.hstack([SO3.exp(x[3:]).parameters(), x[:3]])\n",
    "\n",
    "#grasp net\n",
    "grasp_net = GraspNet(32)\n",
    "grasp_fn = lambda x: grasp_net.apply(restored_grasp[\"params\"], x)\n",
    "def grasp_reconst(g:Array, obj_pose:SE3):\n",
    "    rot = SO3(grasp_fn(g)[2:]).normalize()\n",
    "    trans = g/restored_grasp[\"scale_to_norm\"]\n",
    "    return obj_pose @ SE3.from_rotation_and_translation(rot, trans)\n",
    "def grasp_reconst_posevec(g, obj_pose):\n",
    "    rot = SO3(grasp_fn(g)[2:]).normalize()\n",
    "    trans = g/restored_grasp[\"scale_to_norm\"]\n",
    "    grasp_pose = obj_pose @ SE3.from_rotation_and_translation(rot, trans)\n",
    "    return to_posevec(grasp_pose.parameters())\n",
    "grasp_logit_fn = lambda g: grasp_fn(g)[0]\n",
    "grasp_dist_fn = lambda g: grasp_fn(g)[1]"
   ]
  },
  {
   "cell_type": "code",
   "execution_count": 2,
   "metadata": {},
   "outputs": [
    {
     "name": "stdout",
     "output_type": "stream",
     "text": [
      "You can open the visualizer by visiting the following URL:\n",
      "http://127.0.0.1:7009/static/\n"
     ]
    }
   ],
   "source": [
    "world = SDFWorld()\n",
    "# panda_model = RobotModel(PANDA_URDF, PANDA_PACKAGE)\n",
    "# panda1 = Robot(world.vis, \"panda\", panda_model, alpha=0.5)\n",
    "# panda1.reduce_dim([7, 8], [0.04, 0.04])\n",
    "# panda2 = Robot(world.vis, \"panda\", panda_model, alpha=0.5)\n",
    "# panda2.reduce_dim([7, 8], [0.04, 0.04])"
   ]
  },
  {
   "cell_type": "code",
   "execution_count": 17,
   "metadata": {},
   "outputs": [
    {
     "name": "stderr",
     "output_type": "stream",
     "text": [
      "concatenating texture: may result in visual artifacts\n",
      "concatenating texture: may result in visual artifacts\n",
      "concatenating texture: may result in visual artifacts\n",
      "concatenating texture: may result in visual artifacts\n",
      "concatenating texture: may result in visual artifacts\n",
      "concatenating texture: may result in visual artifacts\n",
      "concatenating texture: may result in visual artifacts\n",
      "concatenating texture: may result in visual artifacts\n"
     ]
    }
   ],
   "source": [
    "panda_model = RobotModel(PANDA_URDF, PANDA_PACKAGE)\n",
    "panda1 = Robot(world.vis, \"panda\", panda_model, alpha=0.5)\n",
    "panda1.reduce_dim([7, 8], [0.04, 0.04])"
   ]
  },
  {
   "cell_type": "code",
   "execution_count": 3,
   "metadata": {},
   "outputs": [
    {
     "data": {
      "text/html": [
       "\n",
       "            <div style=\"height: 400px; width: 100%; overflow-x: auto; overflow-y: hidden; resize: both\">\n",
       "            <iframe src=\"http://127.0.0.1:7009/static/\" style=\"width: 100%; height: 100%; border: none\"></iframe>\n",
       "            </div>\n",
       "            "
      ],
      "text/plain": [
       "<IPython.core.display.HTML object>"
      ]
     },
     "execution_count": 3,
     "metadata": {},
     "output_type": "execute_result"
    }
   ],
   "source": [
    "world.show_in_jupyter()"
   ]
  },
  {
   "cell_type": "code",
   "execution_count": 5,
   "metadata": {},
   "outputs": [],
   "source": [
    "frame = Frame(world.vis, \"frame\")"
   ]
  },
  {
   "cell_type": "code",
   "execution_count": 6,
   "metadata": {},
   "outputs": [],
   "source": [
    "table_lengths = [0.4, 0.4, 0.2]\n",
    "table_start = Box(world.vis, \"table_start\", table_lengths, 'white', 0.5)\n",
    "table_goal = Box(world.vis, \"table_goal\", table_lengths, 'white', 0.5)\n",
    "obj_start = Mesh(world.vis, \"obj_start\", \n",
    "                 \"./sdf_world/assets/object/mesh.obj\",\n",
    "                 color=\"blue\",\n",
    "                 alpha=0.5)\n",
    "obj_goal = Mesh(world.vis, \"obj_goal\", \n",
    "                \"./sdf_world/assets/object/mesh.obj\",\n",
    "                color=\"green\",\n",
    "                 alpha=0.5)"
   ]
  },
  {
   "cell_type": "code",
   "execution_count": 7,
   "metadata": {},
   "outputs": [],
   "source": [
    "table_start.set_translate([0.5, -0.3, 0.2/2])\n",
    "table_goal.set_translate([0.5, 0.3, 0.2/2])\n",
    "obj_lengths = obj_start.mesh.bounding_box.primitive.extents\n",
    "obj_start.set_translate([0.5, -0.3, obj_lengths[-1]/2+table_lengths[-1]])\n",
    "trans_goal = jnp.array([0.5, 0.3, obj_lengths[-2]/2+table_lengths[-1]])\n",
    "obj_goal_pose = SE3.from_rotation_and_translation(\n",
    "    SO3.from_rpy_radians(jnp.pi/2, 0,0), trans_goal\n",
    ")\n",
    "obj_goal.set_pose(obj_goal_pose)"
   ]
  },
  {
   "cell_type": "code",
   "execution_count": 8,
   "metadata": {},
   "outputs": [
    {
     "name": "stderr",
     "output_type": "stream",
     "text": [
      "WARNING:trimesh:concatenating texture: may result in visual artifacts\n",
      "WARNING:trimesh:concatenating texture: may result in visual artifacts\n",
      "WARNING:trimesh:concatenating texture: may result in visual artifacts\n"
     ]
    }
   ],
   "source": [
    "hand_model = RobotModel(HAND_URDF, PANDA_PACKAGE, True)\n",
    "for link_name, link in hand_model.links.items():\n",
    "    link.set_surface_points(10)\n",
    "hand1 = Robot(world.vis, \"hand1\", hand_model, color=\"yellow\", alpha=0.5)"
   ]
  },
  {
   "cell_type": "code",
   "execution_count": 9,
   "metadata": {},
   "outputs": [],
   "source": [
    "hand_pc = hand1.get_surface_points_fn(jnp.array([0.04, 0.04]))\n",
    "hand_pose_wrt_ee = SE3.from_translation(jnp.array([0,0,-0.105]))\n",
    "env = SDFContainer([table_start, table_goal], 0.05)\n",
    "# x -> grasps\n",
    "@jax.jit\n",
    "def get_hand_points(x, obj_pose1, obj_pose2):\n",
    "    result = []\n",
    "    for pose in [obj_pose1, obj_pose2]:\n",
    "        grasp_pose = grasp_reconst(x, pose)\n",
    "        hand_base_pose_wrt_world = grasp_pose @ hand_pose_wrt_ee\n",
    "        assigned_hand_pc = jax.vmap(hand_base_pose_wrt_world.apply)(hand_pc)\n",
    "        result.append(assigned_hand_pc)\n",
    "    return jnp.vstack(result)\n",
    "\n",
    "@jax.jit\n",
    "def distance_constr(x):\n",
    "    hand_pcs = get_hand_points(x, obj_start.pose, obj_goal.pose)\n",
    "    distances = env.distances(hand_pcs)\n",
    "    top4_indices = jnp.argpartition(distances, 4)[:4]\n",
    "    return distances[top4_indices]"
   ]
  },
  {
   "cell_type": "code",
   "execution_count": 10,
   "metadata": {},
   "outputs": [],
   "source": [
    "x = jnp.array([0,0,-0.5])\n",
    "hand_pcs = get_hand_points(x, obj_start.pose, obj_goal.pose)\n",
    "pc = PointCloud(world.vis, \"hand_pc\", hand_pcs, color=\"red\")"
   ]
  },
  {
   "cell_type": "code",
   "execution_count": 11,
   "metadata": {},
   "outputs": [],
   "source": [
    "# Kinematics\n",
    "def get_rotvec_angvel_map(v):\n",
    "    def skew(v):\n",
    "        v1, v2, v3 = v\n",
    "        return jnp.array([[0, -v3, v2],\n",
    "                        [v3, 0., -v1],\n",
    "                        [-v2, v1, 0.]])\n",
    "    vmag = jnp.linalg.norm(v)\n",
    "    vskew = skew(v)\n",
    "    return jnp.eye(3) \\\n",
    "        - 1/2*skew(v) \\\n",
    "        + vskew@vskew * 1/vmag**2 * (1-vmag/2 * jnp.sin(vmag)/(1-jnp.cos(vmag)))\n",
    "\n",
    "@jax.jit\n",
    "def get_ee_fk_jac(q):\n",
    "    # outputs ee_posevec and analytical jacobian\n",
    "    fks = panda_model.fk_fn(q)\n",
    "    p_ee = fks[-1][-3:]\n",
    "    rotvec_ee = SO3(fks[-1][:4]).log()\n",
    "    E = get_rotvec_angvel_map(rotvec_ee)\n",
    "    jac = []\n",
    "    for posevec in fks[1:8]:\n",
    "        p_frame = posevec[-3:]\n",
    "        rot_axis = SE3(posevec).as_matrix()[:3, 2]\n",
    "        lin_vel = jnp.cross(rot_axis, p_ee - p_frame)\n",
    "        jac.append(jnp.hstack([lin_vel, rot_axis]))\n",
    "    jac = jnp.array(jac).T\n",
    "    jac = jac.at[3:, :].set(E @ jac[3:, :])\n",
    "    return jnp.hstack([p_ee, rotvec_ee]), jac"
   ]
  },
  {
   "cell_type": "code",
   "execution_count": 30,
   "metadata": {},
   "outputs": [],
   "source": [
    "import time\n",
    "#q = panda1.neutral\n",
    "# x-> manip\n",
    "def objective(x):\n",
    "    frame.set_pose(grasp_reconst(x, obj_start.pose))\n",
    "    hand_pcs = get_hand_points(x, obj_start.pose, obj_goal.pose)\n",
    "    pc.reload(points=hand_pcs)\n",
    "    time.sleep(0.05)\n",
    "    posevec_grasp = grasp_reconst_posevec(x, obj_start.pose)\n",
    "    posevec_ee, _ = get_ee_fk_jac(q)\n",
    "    return 0.5*jnp.sum((posevec_ee[:3] - posevec_grasp[:3])**2)\n",
    "\n",
    "def gradient(x):\n",
    "    posevec_grasp = grasp_reconst_posevec(x, obj_start.pose)\n",
    "    posevec_ee, _ = get_ee_fk_jac(q)\n",
    "    err = posevec_ee[:3] - posevec_grasp[:3]\n",
    "    jac = jnp.eye(3)*1/restored_grasp[\"scale_to_norm\"]\n",
    "    return -jac.T@err\n",
    "\n",
    "def constraints(x):\n",
    "    logit = grasp_logit_fn(x)\n",
    "    dists = distance_constr(x)\n",
    "    return jnp.hstack([logit, dists])\n",
    "\n",
    "def jacobian(x):\n",
    "    jac_logit = jax.grad(grasp_logit_fn)(x)\n",
    "    jac_dists = jax.jacrev(distance_constr)(x)\n",
    "    return jnp.vstack([jac_logit, jac_dists])"
   ]
  },
  {
   "cell_type": "code",
   "execution_count": 31,
   "metadata": {},
   "outputs": [
    {
     "name": "stdout",
     "output_type": "stream",
     "text": [
      "This is Ipopt version 3.14.10, running with linear solver MUMPS 5.2.1.\n",
      "\n",
      "Number of nonzeros in equality constraint Jacobian...:        0\n",
      "Number of nonzeros in inequality constraint Jacobian.:       15\n",
      "Number of nonzeros in Lagrangian Hessian.............:        0\n",
      "\n",
      "Total number of variables............................:        3\n",
      "                     variables with only lower bounds:        0\n",
      "                variables with lower and upper bounds:        3\n",
      "                     variables with only upper bounds:        0\n",
      "Total number of equality constraints.................:        0\n",
      "Total number of inequality constraints...............:        5\n",
      "        inequality constraints with only lower bounds:        5\n",
      "   inequality constraints with lower and upper bounds:        0\n",
      "        inequality constraints with only upper bounds:        0\n",
      "\n",
      "iter    objective    inf_pr   inf_du lg(mu)  ||d||  lg(rg) alpha_du alpha_pr  ls\n",
      "   0  1.2301975e-01 2.83e+01 9.99e-01   0.0 0.00e+00    -  0.00e+00 0.00e+00   0\n",
      "   1  1.2379089e-01 2.65e+01 1.14e+01  -6.3 2.04e-01    -  8.22e-01 6.20e-02h  1\n",
      "   2  1.2672825e-01 2.63e+01 3.42e+02  -0.3 8.78e+00    -  2.13e-01 7.81e-03h  1\n",
      "   3  1.2672943e-01 2.64e+01 1.55e+03  -0.5 7.39e+01    -  5.46e-02 3.88e-04h  1\n",
      "   4  1.5775208e-01 9.13e+01 3.04e+03   0.4 2.62e+00    -  3.97e-02 1.82e-01f  1\n",
      "   5  8.6005270e-02 9.71e+01 7.68e+02   0.2 4.61e+00    -  7.49e-03 5.05e-01f  1\n",
      "   6  8.2555577e-02 7.62e+01 7.44e+02  -6.3 4.98e+00    -  3.21e-01 2.34e-01h  1\n",
      "   7  5.5115201e-02 9.36e+01 4.62e+03   0.5 1.04e+01    -  1.95e-01 1.00e+00f  1\n",
      "   8  8.2533985e-02 1.95e+02 3.37e+02   0.2 7.12e+00    -  7.15e-01 1.00e+00f  1\n",
      "   9  3.8572852e-02 1.35e+02 9.96e+01   0.2 5.20e+00    -  6.41e-01 1.00e+00h  1\n",
      "iter    objective    inf_pr   inf_du lg(mu)  ||d||  lg(rg) alpha_du alpha_pr  ls\n",
      "  10  5.0342213e-02 2.08e+01 4.97e+00   0.1 5.41e+00    -  9.30e-01 1.00e+00f  1\n",
      "  11  4.8061706e-02 3.33e+01 1.68e+00  -0.4 4.17e+00    -  9.30e-01 1.00e+00h  1\n",
      "  12  4.7240220e-02 1.16e-01 3.56e+00  -0.5 1.95e+01    -  1.00e+00 9.97e-01h  1\n",
      "  13  4.7601141e-02 0.00e+00 7.68e-01  -1.1 2.46e+00    -  9.93e-01 1.00e+00f  1\n",
      "  14  4.6240218e-02 0.00e+00 4.29e-01  -1.3 9.90e-01    -  1.00e+00 1.00e+00h  1\n",
      "  15  4.6387162e-02 0.00e+00 8.91e-02  -2.9 2.86e+00    -  1.00e+00 1.00e+00h  1\n",
      "  16  4.6296615e-02 0.00e+00 2.30e-02  -3.9 1.11e-01    -  1.00e+00 1.00e+00h  1\n",
      "\n",
      "Number of Iterations....: 16\n",
      "\n",
      "                                   (scaled)                 (unscaled)\n",
      "Objective...............:   4.6296615153551102e-02    4.6296615153551102e-02\n",
      "Dual infeasibility......:   2.3031057428784120e-02    2.3031057428784120e-02\n",
      "Constraint violation....:   0.0000000000000000e+00    0.0000000000000000e+00\n",
      "Variable bound violation:   0.0000000000000000e+00    0.0000000000000000e+00\n",
      "Complementarity.........:   1.3001887795627122e-03    1.3001887795627122e-03\n",
      "Overall NLP error.......:   2.3031057428784120e-02    2.3031057428784120e-02\n",
      "\n",
      "\n",
      "Number of objective function evaluations             = 17\n",
      "Number of objective gradient evaluations             = 17\n",
      "Number of equality constraint evaluations            = 0\n",
      "Number of inequality constraint evaluations          = 17\n",
      "Number of equality constraint Jacobian evaluations   = 0\n",
      "Number of inequality constraint Jacobian evaluations = 17\n",
      "Number of Lagrangian Hessian evaluations             = 0\n",
      "Total seconds in IPOPT                               = 4.399\n",
      "\n",
      "EXIT: Solved To Acceptable Level.\n"
     ]
    }
   ],
   "source": [
    "class Prob:\n",
    "    pass\n",
    "prob = Prob()\n",
    "lb = -np.ones(3)\n",
    "ub = np.ones(3)\n",
    "setattr(prob, \"objective\", objective)\n",
    "setattr(prob, \"gradient\", gradient)\n",
    "setattr(prob, \"constraints\", constraints)\n",
    "setattr(prob, \"jacobian\", jacobian)\n",
    "ipopt = cyipopt.Problem(\n",
    "    n=3, m=5,\n",
    "    problem_obj = prob,\n",
    "    lb=lb, ub=ub,\n",
    "    cl=[1., 0.05, 0.05, 0.05, 0.05], \n",
    "    cu=[np.inf, np.inf, np.inf, np.inf, np.inf]\n",
    ")\n",
    "ipopt.add_option(\"acceptable_iter\", 2)\n",
    "ipopt.add_option(\"acceptable_tol\", 1.) #release\n",
    "ipopt.add_option(\"acceptable_obj_change_tol\", 0.01)\n",
    "ipopt.add_option(\"acceptable_dual_inf_tol\", 1.) \n",
    "ipopt.add_option('mu_strategy', 'adaptive')\n",
    "xsol, info = ipopt.solve(jnp.array([0., -0.5, -0.5]))"
   ]
  },
  {
   "cell_type": "code",
   "execution_count": 32,
   "metadata": {},
   "outputs": [],
   "source": [
    "import time\n",
    "g = xsol.copy()\n",
    "\n",
    "# x-> manip\n",
    "def objective(x):\n",
    "    panda1.set_joint_angles(x)\n",
    "    time.sleep(0.1)\n",
    "\n",
    "    posevec_grasp = grasp_reconst_posevec(g, obj_start.pose)\n",
    "    posevec_ee, _ = get_ee_fk_jac(x)\n",
    "    return 0.5*jnp.sum((posevec_grasp - posevec_ee)**2)\n",
    "\n",
    "def gradient(x):\n",
    "    posevec_grasp = grasp_reconst_posevec(g, obj_start.pose)\n",
    "    posevec_ee, jac_ee = get_ee_fk_jac(x)\n",
    "    err = posevec_grasp - posevec_ee\n",
    "    return -jac_ee.T @ err\n",
    "\n",
    "# def constraints(x):\n",
    "#     logit = grasp_logit_fn(x)\n",
    "#     dists = distance_constr(x)\n",
    "#     return jnp.hstack([logit, dists])\n",
    "\n",
    "# def jacobian(x):\n",
    "#     jac_logit = jax.grad(grasp_logit_fn)(x)\n",
    "#     jac_dists = jax.jacrev(distance_constr)(x)\n",
    "#     return jnp.vstack([jac_logit, jac_dists])"
   ]
  },
  {
   "cell_type": "code",
   "execution_count": 34,
   "metadata": {},
   "outputs": [
    {
     "name": "stdout",
     "output_type": "stream",
     "text": [
      "This is Ipopt version 3.14.10, running with linear solver MUMPS 5.2.1.\n",
      "\n",
      "Number of nonzeros in equality constraint Jacobian...:        0\n",
      "Number of nonzeros in inequality constraint Jacobian.:        0\n",
      "Number of nonzeros in Lagrangian Hessian.............:        0\n",
      "\n",
      "Total number of variables............................:        7\n",
      "                     variables with only lower bounds:        0\n",
      "                variables with lower and upper bounds:        7\n",
      "                     variables with only upper bounds:        0\n",
      "Total number of equality constraints.................:        0\n",
      "Total number of inequality constraints...............:        0\n",
      "        inequality constraints with only lower bounds:        0\n",
      "   inequality constraints with lower and upper bounds:        0\n",
      "        inequality constraints with only upper bounds:        0\n",
      "\n",
      "iter    objective    inf_pr   inf_du lg(mu)  ||d||  lg(rg) alpha_du alpha_pr  ls\n",
      "   0  2.4926333e+00 0.00e+00 2.43e+00   0.0 0.00e+00    -  0.00e+00 0.00e+00   0\n",
      "   1  1.4854821e+00 0.00e+00 2.59e+00  -5.6 1.45e+00    -  6.65e-01 1.00e+00f  1\n",
      "   2  6.8204336e-02 0.00e+00 2.65e-01  -0.6 4.16e-01    -  9.82e-01 1.00e+00f  1\n",
      "   3  4.1014995e-02 0.00e+00 8.51e-02  -2.3 6.04e-02    -  9.70e-01 1.00e+00f  1\n",
      "   4  3.5033364e-02 0.00e+00 6.13e-02  -3.7 5.07e-02    -  1.00e+00 1.00e+00f  1\n",
      "   5  2.4761084e-02 0.00e+00 8.45e-02  -4.9 1.23e-01    -  1.00e+00 1.00e+00f  1\n",
      "   6  2.3058766e-02 0.00e+00 1.41e-01  -5.9 3.74e-01    -  1.00e+00 2.50e-01f  3\n",
      "   7  1.3467774e-02 0.00e+00 1.13e-01  -6.6 3.67e-01    -  1.00e+00 1.00e+00f  1\n",
      "   8  5.7609039e-03 0.00e+00 4.94e-02  -7.2 1.30e-01    -  1.00e+00 1.00e+00f  1\n",
      "   9  3.7029330e-03 0.00e+00 1.71e-02  -8.7 3.58e-02    -  1.00e+00 1.00e+00f  1\n",
      "iter    objective    inf_pr   inf_du lg(mu)  ||d||  lg(rg) alpha_du alpha_pr  ls\n",
      "  10  3.1573684e-03 0.00e+00 2.40e-02 -10.3 4.95e-02    -  1.00e+00 1.00e+00f  1\n",
      "  11  2.4307801e-03 0.00e+00 4.33e-02 -11.0 3.15e-01    -  1.00e+00 2.50e-01f  3\n",
      "  12  7.8741711e-04 0.00e+00 4.08e-02 -11.0 1.66e-01    -  1.00e+00 1.00e+00f  1\n",
      "  13  7.5350376e-04 0.00e+00 2.16e-02 -11.0 7.54e-02    -  1.00e+00 5.00e-01f  2\n",
      "  14  7.8235738e-05 0.00e+00 3.55e-03 -11.0 4.58e-02    -  1.00e+00 1.00e+00f  1\n",
      "  15  2.1570895e-05 0.00e+00 2.04e-03 -11.0 1.24e-02    -  1.00e+00 1.00e+00f  1\n",
      "\n",
      "Number of Iterations....: 15\n",
      "\n",
      "                                   (scaled)                 (unscaled)\n",
      "Objective...............:   2.1570895114564337e-05    2.1570895114564337e-05\n",
      "Dual infeasibility......:   2.0448938011245225e-03    2.0448938011245225e-03\n",
      "Constraint violation....:   0.0000000000000000e+00    0.0000000000000000e+00\n",
      "Variable bound violation:   0.0000000000000000e+00    0.0000000000000000e+00\n",
      "Complementarity.........:   9.9999898898936640e-12    9.9999898898936640e-12\n",
      "Overall NLP error.......:   2.0448938011245225e-03    2.0448938011245225e-03\n",
      "\n",
      "\n",
      "Number of objective function evaluations             = 33\n",
      "Number of objective gradient evaluations             = 16\n",
      "Number of equality constraint evaluations            = 0\n",
      "Number of inequality constraint evaluations          = 0\n",
      "Number of equality constraint Jacobian evaluations   = 0\n",
      "Number of inequality constraint Jacobian evaluations = 0\n",
      "Number of Lagrangian Hessian evaluations             = 0\n",
      "Total seconds in IPOPT                               = 5.374\n",
      "\n",
      "EXIT: Solved To Acceptable Level.\n"
     ]
    }
   ],
   "source": [
    "class Prob:\n",
    "    pass\n",
    "prob = Prob()\n",
    "lb = panda1.lb\n",
    "ub = panda1.ub\n",
    "setattr(prob, \"objective\", objective)\n",
    "setattr(prob, \"gradient\", gradient)\n",
    "# setattr(prob, \"constraints\", constraints)\n",
    "# setattr(prob, \"jacobian\", jacobian)\n",
    "ipopt = cyipopt.Problem(\n",
    "    n=7, m=0,\n",
    "    problem_obj = prob,\n",
    "    lb=lb, ub=ub,\n",
    "    #cl=[1., 0.5, 0.05, 0.05, 0.05, 0.05], \n",
    "    #cu=[np.inf, np.inf, np.inf, np.inf, np.inf, np.inf]\n",
    ")\n",
    "ipopt.add_option(\"acceptable_iter\", 2)\n",
    "ipopt.add_option(\"acceptable_tol\", 0.01) #release\n",
    "ipopt.add_option(\"acceptable_obj_change_tol\", 0.001)\n",
    "ipopt.add_option(\"acceptable_dual_inf_tol\", 1.) \n",
    "ipopt.add_option('mu_strategy', 'adaptive')\n",
    "xsol, info = ipopt.solve(q)"
   ]
  },
  {
   "cell_type": "code",
   "execution_count": null,
   "metadata": {},
   "outputs": [],
   "source": []
  }
 ],
 "metadata": {
  "kernelspec": {
   "display_name": "opt_env",
   "language": "python",
   "name": "python3"
  },
  "language_info": {
   "codemirror_mode": {
    "name": "ipython",
    "version": 3
   },
   "file_extension": ".py",
   "mimetype": "text/x-python",
   "name": "python",
   "nbconvert_exporter": "python",
   "pygments_lexer": "ipython3",
   "version": "3.8.15"
  },
  "orig_nbformat": 4
 },
 "nbformat": 4,
 "nbformat_minor": 2
}
