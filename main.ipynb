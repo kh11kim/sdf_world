{
 "cells": [
  {
   "cell_type": "code",
   "execution_count": 238,
   "metadata": {},
   "outputs": [],
   "source": [
    "import numpy as np\n",
    "import jax\n",
    "import jax.numpy as jnp\n",
    "from jaxlie import SE3, SO3\n",
    "from typing import *\n",
    "from sdf_world.sdf_world import *\n",
    "from sdf_world.sparse_ipopt import *"
   ]
  },
  {
   "cell_type": "code",
   "execution_count": 23,
   "metadata": {},
   "outputs": [],
   "source": [
    "from jax._src import linear_util as lu\n",
    "from jax._src.api import _std_basis, _jvp, _jacfwd_unravel\n",
    "from jax._src.api_util import argnums_partial\n",
    "from functools import partial\n",
    "\n",
    "def value_and_jacfwd(fun: Callable, argnums=0):\n",
    "    def value_and_jacfwd_f(*args, **kwargs):\n",
    "        f = lu.wrap_init(fun, kwargs)\n",
    "        f_partial, dyn_args = argnums_partial(f, argnums, args,\n",
    "                                            require_static_args_hashable=False)\n",
    "        pushfwd: Callable = partial(_jvp, f_partial, dyn_args)\n",
    "        y, jac = jax.vmap(pushfwd, out_axes=(None, -1))(_std_basis(dyn_args))\n",
    "        example_args = dyn_args[0] if isinstance(argnums, int) else dyn_args\n",
    "        jac_tree = jax.tree_map(partial(_jacfwd_unravel, example_args), y, jac)\n",
    "        return y, jac_tree\n",
    "    return value_and_jacfwd_f"
   ]
  },
  {
   "cell_type": "code",
   "execution_count": 7,
   "metadata": {},
   "outputs": [
    {
     "name": "stdout",
     "output_type": "stream",
     "text": [
      "You can open the visualizer by visiting the following URL:\n",
      "http://127.0.0.1:7001/static/\n"
     ]
    }
   ],
   "source": [
    "world = SDFWorld()"
   ]
  },
  {
   "cell_type": "code",
   "execution_count": 8,
   "metadata": {},
   "outputs": [
    {
     "data": {
      "text/html": [
       "\n",
       "            <div style=\"height: 400px; width: 100%; overflow-x: auto; overflow-y: hidden; resize: both\">\n",
       "            <iframe src=\"http://127.0.0.1:7001/static/\" style=\"width: 100%; height: 100%; border: none\"></iframe>\n",
       "            </div>\n",
       "            "
      ],
      "text/plain": [
       "<IPython.core.display.HTML object>"
      ]
     },
     "execution_count": 8,
     "metadata": {},
     "output_type": "execute_result"
    }
   ],
   "source": [
    "world.show_in_jupyter()"
   ]
  },
  {
   "cell_type": "code",
   "execution_count": 9,
   "metadata": {},
   "outputs": [],
   "source": [
    "frame = Frame(world.vis, \"frame\")"
   ]
  },
  {
   "cell_type": "code",
   "execution_count": 10,
   "metadata": {},
   "outputs": [],
   "source": [
    "p1 = Sphere(world.vis, \"p1\", 0.02)\n",
    "p2 = Sphere(world.vis, \"p2\", 0.02)\n",
    "p3 = Sphere(world.vis, \"p3\", 0.02, \"blue\")\n",
    "p4 = Sphere(world.vis, \"p4\", 0.02, \"blue\")\n",
    "ps = [p1, p2, p3, p4]"
   ]
  },
  {
   "cell_type": "code",
   "execution_count": 232,
   "metadata": {},
   "outputs": [],
   "source": [
    "def residual(ec, rot_points, ref_points):\n",
    "    rot = SO3.exp(ec)\n",
    "    d = jax.vmap(rot.apply)(rot_points) - ref_points\n",
    "    return jnp.hstack(d)\n",
    "vg_residual_fn = value_and_jacfwd(residual, argnums=0)"
   ]
  },
  {
   "cell_type": "code",
   "execution_count": 227,
   "metadata": {},
   "outputs": [],
   "source": [
    "l, L = 0.1, 0.4\n",
    "locations = []\n",
    "rot_points = np.random.uniform(-l, l, size=(2, 3))\n",
    "ref_points = np.random.uniform(-L, L, size=(2, 3))\n",
    "\n",
    "def draw(ec):\n",
    "    rot = SO3.exp(ec)\n",
    "    frame.set_pose(SE3.from_rotation(rot))\n",
    "    p1.set_translate(rot.apply(rot_points[0]))\n",
    "    p2.set_translate(rot.apply(rot_points[1]))\n",
    "    p3.set_translate(ref_points[0])\n",
    "    p4.set_translate(ref_points[1])    "
   ]
  },
  {
   "cell_type": "code",
   "execution_count": 228,
   "metadata": {},
   "outputs": [],
   "source": [
    "ec = jnp.zeros(3)\n",
    "draw(ec)"
   ]
  },
  {
   "cell_type": "code",
   "execution_count": 192,
   "metadata": {},
   "outputs": [],
   "source": [
    "from typing import NamedTuple\n",
    "\n",
    "class Carry(NamedTuple):\n",
    "    rot_points: jnp.ndarray\n",
    "    ref_points: jnp.ndarray\n",
    "    ec: jnp.ndarray = jnp.zeros(3)\n",
    "    d: jnp.ndarray = jnp.zeros(3)\n",
    "    i: int = 0\n",
    "    damping: float = 0.04\n",
    "    threshold: float = 1e-4\n",
    "    max_iter: int = 10\n",
    "\n",
    "    def update(self, d):\n",
    "        return Carry(\n",
    "            self.rot_points, self.ref_points, self.ec+d, d, self.i+1, self.damping)"
   ]
  },
  {
   "cell_type": "code",
   "execution_count": 209,
   "metadata": {},
   "outputs": [],
   "source": [
    "def get_rot_body(carry:Carry):\n",
    "    res, jac = vg_residual_fn(carry.ec, carry.rot_points, carry.ref_points)\n",
    "    hess = jac.T@jac\n",
    "    d = jnp.linalg.solve((hess+carry.damping*jnp.eye(3)), -jac.T@res)\n",
    "    return carry.update(d)\n",
    "    \n",
    "def get_rot_cond(carry:Carry):\n",
    "    return (jnp.linalg.norm(carry.d) > carry.threshold) | (carry.i < carry.max_iter)"
   ]
  },
  {
   "cell_type": "code",
   "execution_count": 229,
   "metadata": {},
   "outputs": [],
   "source": [
    "carry = Carry(rot_points, ref_points)\n",
    "result = jax.lax.while_loop(get_rot_cond, get_rot_body, carry)\n",
    "draw(result.ec)"
   ]
  },
  {
   "cell_type": "code",
   "execution_count": 231,
   "metadata": {},
   "outputs": [],
   "source": [
    "def residual_sumsqr(ec, rot_points, ref_points):\n",
    "    res = residual(ec, rot_points, ref_points)\n",
    "    return 1/2 * res.T @ res"
   ]
  },
  {
   "cell_type": "code",
   "execution_count": 237,
   "metadata": {},
   "outputs": [],
   "source": [
    "grad_residual_sumsqr = jax.grad(residual_sumsqr)  #(result.ec, rot_points, ref_points)"
   ]
  },
  {
   "cell_type": "code",
   "execution_count": 234,
   "metadata": {},
   "outputs": [
    {
     "data": {
      "text/plain": [
       "Array([0., 0., 0.], dtype=float32)"
      ]
     },
     "execution_count": 234,
     "metadata": {},
     "output_type": "execute_result"
    }
   ],
   "source": [
    "ec"
   ]
  },
  {
   "cell_type": "code",
   "execution_count": 40,
   "metadata": {},
   "outputs": [],
   "source": [
    "class cyipopt"
   ]
  }
 ],
 "metadata": {
  "kernelspec": {
   "display_name": "opt_env",
   "language": "python",
   "name": "python3"
  },
  "language_info": {
   "codemirror_mode": {
    "name": "ipython",
    "version": 3
   },
   "file_extension": ".py",
   "mimetype": "text/x-python",
   "name": "python",
   "nbconvert_exporter": "python",
   "pygments_lexer": "ipython3",
   "version": "3.8.15"
  },
  "orig_nbformat": 4
 },
 "nbformat": 4,
 "nbformat_minor": 2
}
