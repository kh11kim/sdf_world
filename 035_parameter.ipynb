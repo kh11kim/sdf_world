{
 "cells": [
  {
   "cell_type": "code",
   "execution_count": 1,
   "metadata": {},
   "outputs": [],
   "source": [
    "import numpy as np\n",
    "import jax.numpy as jnp\n",
    "import jax\n",
    "import cyipopt\n",
    "\n",
    "from functools import partial\n",
    "from typing import *\n",
    "from dataclasses import dataclass, field\n",
    "from jaxlie import SE3, SO3\n",
    "import jax_dataclasses as jdc\n",
    "\n",
    "from sdf_world.sdf_world import *\n",
    "from sdf_world.robots import *\n",
    "from sdf_world.util import *\n",
    "from sdf_world.network import *\n",
    "from sdf_world.sparse_ipopt import *\n",
    "\n",
    "from flax import linen as nn\n",
    "from flax.training import orbax_utils\n",
    "import orbax\n",
    "import pickle\n",
    "import time"
   ]
  },
  {
   "cell_type": "code",
   "execution_count": 2,
   "metadata": {},
   "outputs": [],
   "source": [
    "@dataclass\n",
    "class Variable:\n",
    "    name: str\n",
    "    coord: np.ndarray\n",
    "    lb: np.ndarray\n",
    "    ub: np.ndarray\n",
    "    \n",
    "    @property\n",
    "    def dim(self): return len(self.coord)\n",
    "\n",
    "@dataclass\n",
    "class Parameter:\n",
    "    name: str\n",
    "    coord: np.ndarray\n",
    "    dim: int\n",
    "\n",
    "    @property\n",
    "    def lb(self): return np.full(self.dim, -np.inf)\n",
    "    @property\n",
    "    def ub(self): return np.full(self.dim, np.inf)\n",
    "\n",
    "@dataclass\n",
    "class Constraint:\n",
    "    name: str\n",
    "    coord: np.ndarray\n",
    "    inputs: List[Variable]\n",
    "    fn: \"Function\"\n",
    "    lb: np.ndarray\n",
    "    ub: np.ndarray\n",
    "\n",
    "    @property\n",
    "    def dim(self): return len(self.coord)\n",
    "\n",
    "@dataclass\n",
    "class Function:\n",
    "    name: str\n",
    "    in_dims: List[int]\n",
    "    out_dim: int\n",
    "    eval_fn: Callable\n",
    "    jac_fn: Callable\n",
    "    constraints: List[Constraint] = field(default_factory=list)\n",
    "\n",
    "class SparseIPOPT():\n",
    "    def __init__(self):\n",
    "        self.x_info: Dict[str,Variable] = {}\n",
    "        self.c_info: Dict[str,Constraint] = {}\n",
    "        self.fn_info: Dict[str,Function] = {}\n",
    "        self.obj_info: Dict = {}\n",
    "        self.param_info: Dict[str, Array] = {}\n",
    "\n",
    "        self.x_idx, self.c_idx = 0, 0\n",
    "        self.param_info: Dict[str, np.ndarray] = {}\n",
    "\n",
    "    @property\n",
    "    def xdim(self):\n",
    "        return sum([x.dim for x in self.x_info.values()])\n",
    "    @property\n",
    "    def cdim(self):\n",
    "        return sum([c.dim for c in self.c_info.values()])\n",
    "    @property\n",
    "    def input_info(self):\n",
    "        return {**self.x_info, **self.param_info}\n",
    "    \n",
    "    def add_variable(self, name, dim, lb=-np.inf, ub=np.inf):\n",
    "        assert name not in self.x_info\n",
    "        assert isinstance(lb, float) or len(lb) == dim\n",
    "        assert isinstance(ub, float) or len(ub) == dim\n",
    "\n",
    "        if isinstance(lb, float): lb = np.full(dim, lb)\n",
    "        if isinstance(ub, float): ub = np.full(dim, ub)\n",
    "\n",
    "        coord = np.arange(self.x_idx, self.x_idx+dim)\n",
    "        self.x_info[name] = Variable(\n",
    "            name, coord, lb, ub)\n",
    "        \n",
    "        self.x_idx += dim\n",
    "    \n",
    "    def add_parameter(self, name, dim):\n",
    "        assert name not in self.param_info\n",
    "        #TODO: name also should not be in \"variable\"\n",
    "        coord = np.arange(self.x_idx, self.x_idx+dim)\n",
    "        self.x_info[name] = Parameter(name, coord, dim)\n",
    "        self.x_idx += dim\n",
    "    \n",
    "    def set_objective(self, fn_name, input_x_names):\n",
    "        self.obj_info[\"fn\"] = self.fn_info[fn_name]\n",
    "        self.obj_info[\"inputs\"] = [self.x_info[name] for name in input_x_names]\n",
    "    \n",
    "    def set_debug_callback(self, debug_callback:Callable):\n",
    "        self.obj_info[\"debug_cb\"] = debug_callback\n",
    "\n",
    "    def set_constr(self, name, cfn_name, input_x_names, lb, ub):\n",
    "        c_fn = self.fn_info[cfn_name]\n",
    "        dim = c_fn.out_dim\n",
    "        assert name not in self.c_info\n",
    "        assert isinstance(lb, float) or len(lb) == dim\n",
    "        assert isinstance(ub, float) or len(ub) == dim\n",
    "        if isinstance(lb, float): lb = np.full(dim, lb)\n",
    "        if isinstance(ub, float): ub = np.full(dim, ub)\n",
    "\n",
    "        vars = [self.x_info[name] for name in input_x_names]\n",
    "        self.c_info[name] = Constraint(\n",
    "            name, np.arange(self.c_idx, self.c_idx+dim), vars, \n",
    "            c_fn, lb, ub\n",
    "        )\n",
    "        c_fn.constraints.append(self.c_info[name])\n",
    "        self.c_idx += dim\n",
    "\n",
    "    def register_fn(self, name, in_dims, out_dim, eval_fn, jac_fn, compile=False):\n",
    "        if compile:\n",
    "            fn_inputs = [jnp.zeros(dim) for dim in in_dims]\n",
    "            eval_fn = jax.jit(eval_fn).lower(*fn_inputs).compile()\n",
    "            jac_fn = jax.jit(jac_fn).lower(*fn_inputs).compile()\n",
    "        self.fn_info[name] = Function(\n",
    "            name, in_dims, out_dim, eval_fn, jac_fn)\n",
    "    \n",
    "    def get_objective_fn(self, compile=True):\n",
    "        no_obj = False\n",
    "        if \"fn\" not in self.obj_info: \n",
    "            objective = lambda x: 0.\n",
    "            no_obj = True\n",
    "        else:\n",
    "            def objective(x):        \n",
    "                xs = {var.name:x[var.coord] for var in self.x_info.values()}\n",
    "                fn_input = [xs[var.name] for var in self.obj_info[\"inputs\"]]    \n",
    "                val = self.obj_info[\"fn\"].eval_fn(*fn_input)\n",
    "                return val\n",
    "        \n",
    "        if \"debug_cb\" in self.obj_info:\n",
    "            def objective_debug(x):\n",
    "                xs = {var.name:x[var.coord] for var in self.x_info.values()}\n",
    "                self.obj_info[\"debug_cb\"](xs)    \n",
    "                return objective(x)\n",
    "            return objective_debug\n",
    "        elif compile and not no_obj:\n",
    "            return jax.jit(objective)\n",
    "        return objective\n",
    "    \n",
    "    def get_gradient_fn(self, compile=True):\n",
    "        no_obj = False\n",
    "        if \"fn\" not in self.obj_info: \n",
    "            gradient = lambda x: np.zeros(self.xdim)\n",
    "            no_obj = True\n",
    "        else:\n",
    "            grad_value_dict = {var.name: np.zeros(var.dim) for var in self.x_info.values()}\n",
    "            def gradient(x):\n",
    "                xs = {var.name:x[var.coord] for var in self.x_info.values()}\n",
    "                fn_input = [xs[var.name] for var in self.obj_info[\"inputs\"]]    \n",
    "                grads = self.obj_info[\"fn\"].jac_fn(*fn_input)\n",
    "                for var, grad in zip(self.obj_info['inputs'], grads):\n",
    "                    grad_value_dict[var.name] = grad\n",
    "                return jnp.hstack(grad_value_dict.values())\n",
    "        if compile and not no_obj:\n",
    "            return jax.jit(gradient)\n",
    "        return gradient      \n",
    "    \n",
    "    def get_constraint_fn(self, compile=True):\n",
    "        def constraints(x):\n",
    "            xs = {var.name:x[var.coord] for var in self.x_info.values()}\n",
    "            result = []\n",
    "            for constr in self.c_info.values():\n",
    "                fn_input = [xs[var.name] for var in constr.inputs]    \n",
    "                out = constr.fn.eval_fn(*fn_input)\n",
    "                result.append(out)\n",
    "            return jnp.hstack(result)\n",
    "        if compile:\n",
    "            return jax.jit(constraints)\n",
    "        return constraints\n",
    "    \n",
    "    def get_jacobian_fn(self, compile=True):\n",
    "        def jacobian(x):\n",
    "            xs = {var.name:x[var.coord] for var in self.x_info.values()}\n",
    "            result = []\n",
    "            for constr in self.c_info.values():\n",
    "                fn_input = [xs[var.name] for var in constr.inputs]    \n",
    "                indices_var = [i for i, var in enumerate(constr.inputs) \n",
    "                               if isinstance(var, Variable)]\n",
    "                jacs = constr.fn.jac_fn(*fn_input)\n",
    "                for i, jac in enumerate(jacs):\n",
    "                    if i in indices_var:\n",
    "                        result.append(jac.flatten())\n",
    "            return jnp.hstack(result)\n",
    "        if compile:\n",
    "            return jax.jit(jacobian)\n",
    "        return jacobian\n",
    "    \n",
    "    def get_jacobian_structure(self):\n",
    "        rows, cols = [], []\n",
    "        for constr in self.c_info.values():\n",
    "            for var in constr.inputs:\n",
    "                if isinstance(var, Parameter): continue\n",
    "                row, col = np.indices((constr.dim, var.dim)).reshape(2, -1)\n",
    "                row += constr.coord[0]\n",
    "                col += var.coord[0]\n",
    "                rows.append(row)\n",
    "                cols.append(col)\n",
    "        rows = np.hstack(rows)\n",
    "        cols = np.hstack(cols)\n",
    "        return rows, cols\n",
    "\n",
    "    def print_sparsity(self):\n",
    "        row, col = self.get_jacobian_structure()\n",
    "        jac_struct = np.full((self.cdim, self.xdim), -1, dtype=int)\n",
    "        jac_struct[row, col] = 1\n",
    "        for row in jac_struct:\n",
    "            row_str = \"\"\n",
    "            for val in row:\n",
    "                if val == -1: row_str += \"- \"\n",
    "                else: row_str += f\"o \"\n",
    "            print(row_str)\n",
    "    \n",
    "    def build(self, compile=True):\n",
    "        lb = np.hstack([x.lb for x in self.x_info.values()])\n",
    "        ub = np.hstack([x.ub for x in self.x_info.values()])\n",
    "        cl = np.hstack([c.lb for c in self.c_info.values()])\n",
    "        cu = np.hstack([c.ub for c in self.c_info.values()])\n",
    "        row, col = self.get_jacobian_structure()\n",
    "        jac_struct_fn = lambda : (row, col)\n",
    "\n",
    "        fns = {\n",
    "            \"objective\": self.get_objective_fn(compile),\n",
    "            \"gradient\": self.get_gradient_fn(compile),\n",
    "            \"constraints\": self.get_constraint_fn(compile),\n",
    "            \"jacobian\": self.get_jacobian_fn(compile),\n",
    "        }\n",
    "        class Prob:\n",
    "            pass\n",
    "        prob = Prob()\n",
    "        xdummy = jnp.zeros(self.xdim)\n",
    "        for fn_name, fn in fns.items():\n",
    "            print(f\"compiling {fn_name} ...\")\n",
    "            fn(xdummy)\n",
    "            setattr(prob, fn_name, fn)\n",
    "        setattr(prob, \"jacobianstructure\", jac_struct_fn)\n",
    "\n",
    "        ipopt = cyipopt.Problem(\n",
    "            n=self.xdim, m=self.cdim,\n",
    "            problem_obj=prob,\n",
    "            lb=lb, ub=ub, cl=cl, cu=cu\n",
    "        )\n",
    "        # default option\n",
    "        ipopt.add_option(\"acceptable_iter\", 2)\n",
    "        ipopt.add_option(\"acceptable_tol\", 0.1) #release\n",
    "        ipopt.add_option(\"acceptable_obj_change_tol\", 0.0001)\n",
    "        ipopt.add_option(\"acceptable_dual_inf_tol\", 1.) \n",
    "        ipopt.add_option('mu_strategy', 'adaptive')\n",
    "        self.print_sparsity()\n",
    "        return ipopt"
   ]
  },
  {
   "cell_type": "code",
   "execution_count": 3,
   "metadata": {},
   "outputs": [],
   "source": [
    "# models \n",
    "orbax_checkpointer = orbax.checkpoint.PyTreeCheckpointer()\n",
    "restored_grasp = orbax_checkpointer.restore(\"model/grasp_net_prob_dist\")\n",
    "restored_manip = orbax_checkpointer.restore(\"model/manip_net_posevec\")\n",
    "\n",
    "#grasp net\n",
    "grasp_net = GraspNet(32)\n",
    "grasp_fn = lambda x: grasp_net.apply(restored_grasp[\"params\"], x)\n",
    "\n",
    "grasp_logit_fn = lambda g: grasp_fn(g)[0]\n",
    "grasp_dist_fn = lambda g: grasp_fn(g)[1]\n",
    "#manip net\n",
    "manip_net = ManipNet(64)\n",
    "manip_fn = lambda x: manip_net.apply(restored_manip[\"params\"], x)[0]"
   ]
  },
  {
   "cell_type": "code",
   "execution_count": 4,
   "metadata": {},
   "outputs": [
    {
     "name": "stdout",
     "output_type": "stream",
     "text": [
      "You can open the visualizer by visiting the following URL:\n",
      "http://127.0.0.1:7002/static/\n"
     ]
    }
   ],
   "source": [
    "world = SDFWorld()"
   ]
  },
  {
   "cell_type": "code",
   "execution_count": 5,
   "metadata": {},
   "outputs": [
    {
     "data": {
      "text/html": [
       "\n",
       "            <div style=\"height: 400px; width: 100%; overflow-x: auto; overflow-y: hidden; resize: both\">\n",
       "            <iframe src=\"http://127.0.0.1:7002/static/\" style=\"width: 100%; height: 100%; border: none\"></iframe>\n",
       "            </div>\n",
       "            "
      ],
      "text/plain": [
       "<IPython.core.display.HTML object>"
      ]
     },
     "execution_count": 5,
     "metadata": {},
     "output_type": "execute_result"
    }
   ],
   "source": [
    "world.show_in_jupyter()"
   ]
  },
  {
   "attachments": {},
   "cell_type": "markdown",
   "metadata": {},
   "source": [
    "## Env setting"
   ]
  },
  {
   "cell_type": "code",
   "execution_count": 6,
   "metadata": {},
   "outputs": [],
   "source": [
    "# robot, hand\n",
    "panda_model = RobotModel(PANDA_URDF, PANDA_PACKAGE)\n",
    "panda = Robot(world.vis, \"panda\", panda_model, alpha=0.5)\n",
    "panda.reduce_dim([7, 8], [0.04, 0.04])\n",
    "\n",
    "hand_model = RobotModel(HAND_URDF, PANDA_PACKAGE, True)\n",
    "for link_name, link in hand_model.links.items():\n",
    "    link.set_surface_points(10)\n",
    "hand = Robot(world.vis, \"hand1\", hand_model, color=\"white\", alpha=0.5)"
   ]
  },
  {
   "cell_type": "code",
   "execution_count": 7,
   "metadata": {},
   "outputs": [],
   "source": [
    "#load sdf meshes\n",
    "table_lengths = [0.4, 0.4, 0.2]\n",
    "table_start = Box(world.vis, \"table_start\", table_lengths, 'white', 0.5)\n",
    "table_goal = Box(world.vis, \"table_goal\", table_lengths, 'white', 0.5)\n",
    "obj_start = Mesh(world.vis, \"obj_start\", \n",
    "                 \"./sdf_world/assets/object/mesh.obj\",\n",
    "                 color=\"blue\", alpha=0.5)\n",
    "obj_goal = Mesh(world.vis, \"obj_goal\", \n",
    "                \"./sdf_world/assets/object/mesh.obj\",\n",
    "                color=\"green\", alpha=0.5)"
   ]
  },
  {
   "cell_type": "code",
   "execution_count": 8,
   "metadata": {},
   "outputs": [],
   "source": [
    "table_start.set_translate([0.5, -0.3, 0.2/2])\n",
    "table_goal.set_translate([0.5, 0.3, 0.2/2])\n",
    "obj_lengths = obj_start.mesh.bounding_box.primitive.extents\n",
    "obj_start.set_translate([0.5, -0.3, obj_lengths[-1]/2+table_lengths[-1]])\n",
    "trans_goal = jnp.array([0.5, 0.3, obj_lengths[-2]/2+table_lengths[-1]])\n",
    "obj_goal_pose = SE3.from_rotation_and_translation(\n",
    "    SO3.from_rpy_radians(jnp.pi/2, 0,0), trans_goal)\n",
    "obj_goal.set_pose(obj_goal_pose)"
   ]
  },
  {
   "cell_type": "code",
   "execution_count": 9,
   "metadata": {},
   "outputs": [],
   "source": [
    "#visualization\n",
    "pc_hand = PointCloud(world.vis, \"hand_pc\", np.zeros((100,3)), color=\"red\", size=0.01)"
   ]
  },
  {
   "cell_type": "code",
   "execution_count": 10,
   "metadata": {},
   "outputs": [],
   "source": [
    "to_posevec = lambda x: jnp.hstack([x[4:], SO3(x[:4]).log()])\n",
    "to_wxyzxyz = lambda x: jnp.hstack([SO3.exp(x[3:]).parameters(), x[:3]])\n",
    "\n",
    "# constants\n",
    "hand_pc = hand.get_surface_points_fn(jnp.array([0.04, 0.04]))\n",
    "hand_pose_wrt_ee = SE3.from_translation(jnp.array([0,0,-0.105]))\n",
    "ws_lb = np.array([-1,-1,-0.5, -np.pi, -np.pi, -np.pi])\n",
    "ws_ub = np.array([1,1,1.5, np.pi, np.pi, np.pi])\n",
    "obj_start_posevec = to_posevec(obj_start.pose.parameters())\n",
    "obj_goal_posevec = to_posevec(obj_goal.pose.parameters())\n",
    "\n",
    "# prepare functions\n",
    "env = SDFContainer([table_start, table_goal], 0.05)\n",
    "def grasp_reconst(grasp:Array):\n",
    "    rot = SO3(grasp_fn(grasp)[2:]).normalize()\n",
    "    trans = grasp/restored_grasp[\"scale_to_norm\"]\n",
    "    return SE3.from_rotation_and_translation(rot, trans)\n",
    "\n",
    "@jax.jit\n",
    "def get_hand_pc(grasp, posevec):\n",
    "    grasp_pose = grasp_reconst(grasp)\n",
    "    hand_base_pose_wrt_world = SE3(to_wxyzxyz(posevec)) @ grasp_pose @ hand_pose_wrt_ee\n",
    "    assigned_hand_pc = jax.vmap(hand_base_pose_wrt_world.apply)(hand_pc)\n",
    "    return assigned_hand_pc\n",
    "\n",
    "#constr fns\n",
    "def grasp_cfn(grasp):\n",
    "    return grasp_logit_fn(grasp)\n",
    "jac_grasp_cfn = jax.grad(grasp_cfn, argnums=[0])\n",
    "\n",
    "def manip_constr_fn(grasp, posevec):\n",
    "    obj_pose = SE3(to_wxyzxyz(posevec))\n",
    "    grasp_pose = obj_pose @ grasp_reconst(grasp)\n",
    "    zflip = SE3.from_rotation(SO3.from_z_radians(jnp.pi))\n",
    "    grasp_pose_flip = grasp_pose @ zflip\n",
    "    posevecs = [to_posevec(pose.parameters()) for pose in [grasp_pose, grasp_pose_flip]]\n",
    "    return jax.vmap(manip_fn)(jnp.vstack(posevecs)).max()\n",
    "jac_manip_constr_fn = jax.grad(manip_constr_fn, argnums=[0,1])\n",
    "\n",
    "# manip_cfn_start = partial(manip_constr_fn,\n",
    "#                           posevec=obj_start_posevec)\n",
    "# jac_manip_cfn_start = jax.grad(manip_cfn_start, argnums=[0])\n",
    "# manip_cfn_goal = partial(manip_constr_fn, \n",
    "#                             posevec=obj_goal_posevec)\n",
    "# jac_manip_cfn_goal = jax.grad(manip_cfn_goal, argnums=[0])\n",
    "\n",
    "#TODO is it necessary to define 4dim distance constr?\n",
    "def _dist_cfn(g1, posevec1, posevec2):\n",
    "    obj_poses = jnp.vstack([posevec1, posevec2])\n",
    "    pcs = jax.vmap(get_hand_pc, (None,0))(g1, obj_poses)\n",
    "    distances = env.distances(jnp.vstack(pcs)).reshape(2, -1)\n",
    "    # top4_indices = jnp.argpartition(distances, 1)[:1]\n",
    "    return distances.min(axis=-1)\n",
    "dist_cfn = partial(_dist_cfn, posevec1=obj_start_posevec, posevec2=obj_goal_posevec)\n",
    "jac_dist_cfn = lambda grasp: [jax.jacrev(dist_cfn)(grasp)]\n"
   ]
  },
  {
   "cell_type": "code",
   "execution_count": 11,
   "metadata": {},
   "outputs": [],
   "source": [
    "bdr = SparseIPOPT()\n",
    "bdr.add_variable(\"g_pick\", 3, -1., 1.)\n",
    "bdr.add_parameter(\"p_start\", 6)\n",
    "bdr.add_parameter(\"p_goal\", 6)\n",
    "\n",
    "def debug_callback(x_dict):\n",
    "    grasp = x_dict[\"g_pick\"]\n",
    "    p_start = x_dict[\"p_start\"]\n",
    "    p_goal = x_dict[\"p_goal\"]\n",
    "    posevecs = jnp.vstack([p_start, p_goal])\n",
    "    points = jax.vmap(get_hand_pc, in_axes=(None,0))(grasp, posevecs)\n",
    "    pc_hand.reload(points=np.vstack(points))\n",
    "bdr.set_debug_callback(debug_callback)\n",
    "\n",
    "bdr.register_fn(\"grasp_logit_fn\", [3], 1,\n",
    "                          grasp_cfn, jac_grasp_cfn)\n",
    "bdr.register_fn(\"manip_fn\", [3, 6], 1,\n",
    "                          manip_constr_fn, jac_manip_constr_fn)\n",
    "bdr.register_fn(\"dist_fn\", [3], 2,\n",
    "                          dist_cfn, jac_dist_cfn)\n",
    "\n",
    "bdr.set_constr(\"grasp_prob_pick\", \"grasp_logit_fn\", [\"g_pick\"], \n",
    "                   1., np.inf)\n",
    "bdr.set_constr(\"manip_pick\", \"manip_fn\", [\"g_pick\", \"p_start\"],\n",
    "                   0.3, np.inf)\n",
    "bdr.set_constr(\"manip_place\", \"manip_fn\", [\"g_pick\", \"p_goal\"],\n",
    "                   0.3, np.inf)\n",
    "bdr.set_constr(\"dist\", \"dist_fn\", [\"g_pick\"], \n",
    "                   0.05, np.inf)"
   ]
  },
  {
   "cell_type": "code",
   "execution_count": 12,
   "metadata": {},
   "outputs": [
    {
     "name": "stdout",
     "output_type": "stream",
     "text": [
      "compiling objective ...\n",
      "compiling gradient ...\n",
      "compiling constraints ...\n",
      "compiling jacobian ...\n",
      "o o o - - - - - - - - - - - - \n",
      "o o o - - - - - - - - - - - - \n",
      "o o o - - - - - - - - - - - - \n",
      "o o o - - - - - - - - - - - - \n",
      "o o o - - - - - - - - - - - - \n"
     ]
    }
   ],
   "source": [
    "ipopt = bdr.build()"
   ]
  },
  {
   "cell_type": "code",
   "execution_count": 30,
   "metadata": {},
   "outputs": [],
   "source": [
    "obj_start_posevec2 = obj_start_posevec+ np.array([0., 0., 0.0, 0., 0., 0.])\n",
    "obj_goal_posevec2 = obj_goal_posevec+ np.array([0.0, 0., 0.0, 0., 0., 0.0])"
   ]
  },
  {
   "cell_type": "code",
   "execution_count": 31,
   "metadata": {},
   "outputs": [
    {
     "name": "stdout",
     "output_type": "stream",
     "text": [
      "This is Ipopt version 3.14.10, running with linear solver MUMPS 5.2.1.\n",
      "\n",
      "Number of nonzeros in equality constraint Jacobian...:        0\n",
      "Number of nonzeros in inequality constraint Jacobian.:       15\n",
      "Number of nonzeros in Lagrangian Hessian.............:        0\n",
      "\n",
      "Total number of variables............................:       15\n",
      "                     variables with only lower bounds:        0\n",
      "                variables with lower and upper bounds:        3\n",
      "                     variables with only upper bounds:        0\n",
      "Total number of equality constraints.................:        0\n",
      "Total number of inequality constraints...............:        5\n",
      "        inequality constraints with only lower bounds:        5\n",
      "   inequality constraints with lower and upper bounds:        0\n",
      "        inequality constraints with only upper bounds:        0\n",
      "\n",
      "iter    objective    inf_pr   inf_du lg(mu)  ||d||  lg(rg) alpha_du alpha_pr  ls\n",
      "   0  0.0000000e+00 2.88e+02 1.00e+00   0.0 0.00e+00    -  0.00e+00 0.00e+00   0\n",
      "   1  0.0000000e+00 2.20e+01 6.87e+00  -0.7 6.07e-01    -  4.57e-01 1.00e+00h  1\n",
      "   2  0.0000000e+00 1.49e+01 1.21e+00  -1.3 1.21e-01    -  9.95e-01 1.00e+00h  1\n",
      "   3  0.0000000e+00 7.65e-01 4.73e-01  -1.9 5.27e-01    -  9.85e-01 1.00e+00h  1\n",
      "   4  0.0000000e+00 0.00e+00 1.12e-02  -3.1 4.42e-02    -  9.99e-01 1.00e+00h  1\n",
      "   5  0.0000000e+00 0.00e+00 3.41e-03  -5.2 3.84e-01    -  9.97e-01 1.00e+00h  1\n",
      "\n",
      "Number of Iterations....: 5\n",
      "\n",
      "                                   (scaled)                 (unscaled)\n",
      "Objective...............:   0.0000000000000000e+00    0.0000000000000000e+00\n",
      "Dual infeasibility......:   3.4111557349464586e-03    3.4111557349464586e-03\n",
      "Constraint violation....:   0.0000000000000000e+00    0.0000000000000000e+00\n",
      "Variable bound violation:   0.0000000000000000e+00    0.0000000000000000e+00\n",
      "Complementarity.........:   2.5643849652691773e-04    2.5643849652691773e-04\n",
      "Overall NLP error.......:   3.4111557349464586e-03    3.4111557349464586e-03\n",
      "\n",
      "\n",
      "Number of objective function evaluations             = 6\n",
      "Number of objective gradient evaluations             = 6\n",
      "Number of equality constraint evaluations            = 0\n",
      "Number of inequality constraint evaluations          = 6\n",
      "Number of equality constraint Jacobian evaluations   = 0\n",
      "Number of inequality constraint Jacobian evaluations = 6\n",
      "Number of Lagrangian Hessian evaluations             = 0\n",
      "Total seconds in IPOPT                               = 0.028\n",
      "\n",
      "EXIT: Solved To Acceptable Level.\n"
     ]
    }
   ],
   "source": [
    "xinit = jnp.hstack([np.random.uniform(-1,1,size=3), obj_start_posevec2, obj_goal_posevec2])\n",
    "xsol, info = ipopt.solve(xinit)"
   ]
  },
  {
   "cell_type": "code",
   "execution_count": 221,
   "metadata": {},
   "outputs": [],
   "source": [
    "@jax.jit\n",
    "def get_ee_fk_jac(q):\n",
    "    # outputs ee_pose and geometric jacobian\n",
    "    fks = panda_model.fk_fn(q)\n",
    "    ee = SE3(fks[-1])\n",
    "    p_ee = fks[-1][-3:]\n",
    "    jac = []\n",
    "    for posevec in fks[1:8]:\n",
    "        p_frame = posevec[-3:]\n",
    "        rot_axis = SE3(posevec).as_matrix()[:3, 2]\n",
    "        lin_vel = jnp.cross(rot_axis, p_ee - p_frame)\n",
    "        jac.append(jnp.hstack([lin_vel, rot_axis]))\n",
    "    jac = jnp.array(jac).T #geometric jacobian\n",
    "    return ee, jac\n",
    "\n",
    "# Kinematics\n",
    "def get_rotvec_angvel_map(v):\n",
    "    def skew(v):\n",
    "        v1, v2, v3 = v\n",
    "        return jnp.array([[0, -v3, v2],\n",
    "                        [v3, 0., -v1],\n",
    "                        [-v2, v1, 0.]])\n",
    "    def identity(v, vmag):\n",
    "        return np.eye(3)\n",
    "    def angvel_to_ecvel(v, vmag):\n",
    "        vskew = skew(v)\n",
    "        term3 = vskew@vskew * 1/vmag**2 * (1-vmag/2 * jnp.sin(vmag)/(1-jnp.cos(vmag)))\n",
    "        return jnp.eye(3) - 1/2*skew(v) + term3\n",
    "    vmag = jnp.linalg.norm(v)\n",
    "    return jax.lax.cond(vmag < 1e-3, identity, angvel_to_ecvel, v, vmag)\n",
    "\n",
    "def pose_error(posevec, posevec_d):\n",
    "    pose = SE3(to_wxyzxyz(posevec))\n",
    "    pose_d = SE3(to_wxyzxyz(posevec_d))\n",
    "    R = pose.rotation().as_matrix()\n",
    "    err_pos = R.T@(pose_d.translation() - pose.translation())\n",
    "    err_rot = pose.rotation().inverse() @ pose_d.rotation()\n",
    "    return jnp.hstack([err_pos, err_rot.log()])\n",
    "\n",
    "def get_grasp_pose(grasp, obj_posevec):\n",
    "    obj_pose = SE3(to_wxyzxyz(obj_posevec))\n",
    "    grasp_pose = obj_pose @ grasp_reconst(grasp)\n",
    "    return to_posevec(grasp_pose.parameters())\n",
    "\n",
    "def kin_error_fn(q, grasp, p_obj):\n",
    "    obj_pose = SE3(to_wxyzxyz(p_obj))\n",
    "    target_pose = obj_pose @ grasp_reconst(grasp)\n",
    "    ee_pose, _ = get_ee_fk_jac(q)\n",
    "    target_posevec = to_posevec(target_pose.parameters())\n",
    "    ee_posevec = to_posevec(ee_pose.parameters())\n",
    "    # represented in body\n",
    "    err = pose_error(ee_posevec, target_posevec)\n",
    "    # R_ee = ee_pose.rotation().as_matrix()\n",
    "    # err_pos = R_ee.T@(target_pose.translation() - ee_pose.translation())\n",
    "    # err_rot = ee_pose.rotation().inverse() @ target_pose.rotation()\n",
    "    # err = jnp.hstack([err_pos, err_rot.log()])\n",
    "    return err\n",
    "\n",
    "def jac_kin_error_fn(q, grasp, p_obj):\n",
    "    ee_pose, geom_jac = get_ee_fk_jac(q)\n",
    "    ee_posevec = to_posevec(ee_pose.parameters())\n",
    "    obj_pose = SE3(to_wxyzxyz(p_obj))\n",
    "    target_pose = obj_pose @ grasp_reconst(grasp)\n",
    "    target_posevec = get_grasp_pose(grasp, p_obj) # obj_pose @ grasp_reconst(grasp)\n",
    "\n",
    "    # ee_jac, pose_jac = jax.jacrev(pose_error)(ee_posevec, target_posevec)\n",
    "    err_rot = ee_pose.rotation().inverse() @ target_pose.rotation()\n",
    "    R_ee = ee_pose.rotation().as_matrix()\n",
    "    B = get_rotvec_angvel_map(err_rot.log())\n",
    "    jac_pos = - R_ee.T @ geom_jac[:3]\n",
    "    jac_rot = - B @ R_ee.T @ geom_jac[3:]\n",
    "    jac_q = jnp.vstack([jac_pos, jac_rot])\n",
    "    jac_poseerr_gpose = jax.jacrev(pose_error, argnums=1)(ee_posevec, target_posevec)\n",
    "    jac_grasp, jac_objpose = jax.jacrev(get_grasp_pose, argnums=[0,1])(grasp, p_obj)\n",
    "    return jac_q, jac_poseerr_gpose@jac_grasp, jac_poseerr_gpose@jac_objpose\n",
    "\n",
    "def travelled_distance(*qs):\n",
    "    qs_mat = jnp.vstack([panda.neutral, *qs, panda.neutral])\n",
    "    qdiff = qs_mat[1:] - qs_mat[:-1]\n",
    "    return 0.5*jnp.sum(qdiff.flatten() ** 2)\n",
    "\n",
    "# def debug_callback(x_dict):\n",
    "#     q = x_dict[\"q_pick\"]\n",
    "#     panda.set_joint_angles(q)\n",
    "#     time.sleep(0.5)"
   ]
  },
  {
   "cell_type": "code",
   "execution_count": 222,
   "metadata": {},
   "outputs": [],
   "source": [
    "num_robot_points = 200\n",
    "num_link_points = 20\n",
    "safe_dist = 0.05\n",
    "\n",
    "#get links_points_mat\n",
    "links_points_mat = []\n",
    "for link in panda_model.links.values():\n",
    "    if not link.has_mesh: continue\n",
    "    if not panda_model.is_floating and link == panda_model.root_link: continue\n",
    "    links_points_mat.append(link.surface_points)\n",
    "links_points_mat = np.array(links_points_mat)\n",
    "fk_assign = lambda wxyzxyz, link_points: jax.vmap(SE3(wxyzxyz).apply)(link_points)"
   ]
  },
  {
   "cell_type": "code",
   "execution_count": 223,
   "metadata": {},
   "outputs": [],
   "source": [
    "def point_jacobian(point, link_idx, joint_frames):\n",
    "    def get_lin_vel(target_point, joint_frame):\n",
    "        joint_to_target = target_point - joint_frame[-3:]\n",
    "        rot_axis = SO3(joint_frame[:4]).as_matrix()[:3,2]\n",
    "        return jnp.cross(rot_axis, joint_to_target)\n",
    "    lin_jac = jax.vmap(get_lin_vel, in_axes=(None,0))(point, joint_frames).T\n",
    "    masking = np.tile(np.arange(7),3).reshape(-1,7) + 1\n",
    "    masking = jnp.where(masking > link_idx, 0, 1)\n",
    "    return masking * lin_jac\n",
    "\n",
    "def distance_fn(q):\n",
    "    fks = panda_model.fk_fn(q)\n",
    "    link_frames = fks[1:-1]\n",
    "    assigned_points = jax.vmap(fk_assign)(link_frames, links_points_mat)\n",
    "    distances = env.distances(jnp.vstack(assigned_points))\n",
    "    min_distance = distances.min() - safe_dist\n",
    "    return jnp.where(min_distance < 0., min_distance, 0.)\n",
    "\n",
    "def jac_distance_fn(q):\n",
    "    fks = panda_model.fk_fn(q)\n",
    "    joint_frames = fks[1:8]\n",
    "    assigned_points = jax.vmap(fk_assign)(fks[1:-1], links_points_mat)\n",
    "    distances = env.distances(jnp.vstack(assigned_points)).reshape(10,-1)\n",
    "    idx_link, idx_point = jnp.unravel_index(distances.argmin(), distances.shape)\n",
    "    min_point = assigned_points[idx_link, idx_point, :]\n",
    "    jac_point = jax.lax.cond(distances.min() < safe_dist, \n",
    "                point_jacobian, lambda x,y,z :np.zeros((3,7)), min_point, idx_link, joint_frames)\n",
    "    repulsive_grad = jax.grad(env.distance)(min_point)\n",
    "    return repulsive_grad @ jac_point"
   ]
  },
  {
   "cell_type": "code",
   "execution_count": 224,
   "metadata": {},
   "outputs": [],
   "source": [
    "num_mid_configs = 3\n",
    "num_traj = 2 + num_mid_configs*3\n",
    "idx_pick = num_mid_configs\n",
    "idx_place = 2*num_mid_configs + 1\n",
    "qs = [panda.get_random_config() for i in range(num_traj)]\n",
    "qs = jnp.vstack(qs)\n",
    "def jac_travelled_distance(*qs):\n",
    "    return jax.grad(travelled_distance, argnums=np.arange(num_traj))(*qs)"
   ]
  },
  {
   "cell_type": "code",
   "execution_count": 225,
   "metadata": {},
   "outputs": [],
   "source": [
    "# #functions\n",
    "# kin_error_fn_start = partial(kin_error_fn, grasp=xsol, p_obj=obj_start_posevec)\n",
    "# jac_kin_error_fn_start = partial(jac_kin_error_fn, grasp=xsol, p_obj=obj_start_posevec)\n",
    "# kin_error_fn_goal = partial(kin_error_fn, grasp=xsol, p_obj=obj_goal_posevec)\n",
    "# jac_kin_error_fn_goal = partial(jac_kin_error_fn, grasp=xsol, p_obj=obj_goal_posevec)"
   ]
  },
  {
   "cell_type": "code",
   "execution_count": 226,
   "metadata": {},
   "outputs": [],
   "source": [
    "grasp = xsol[:3]\n",
    "\n",
    "bdr = SparseIPOPT()\n",
    "q_names = []\n",
    "for i in range(num_traj):\n",
    "    q_name = f\"q{i}\"\n",
    "    bdr.add_variable(q_name, 7, panda.lb, panda.ub)\n",
    "    q_names.append(q_name)\n",
    "bdr.add_parameter(\"grasp\", 3)\n",
    "bdr.add_parameter(\"p_start\", 6)\n",
    "bdr.add_parameter(\"p_goal\", 6)\n",
    "\n",
    "bdr.register_fn(\"kin_err\", [7], 6,\n",
    "                kin_error_fn, jac_kin_error_fn)\n",
    "# bdr.register_fn(\"kin_err_goal\", [7], 6,\n",
    "#                           kin_error_fn_goal, jac_kin_error_fn_goal)\n",
    "bdr.register_fn(\"travelled_distance\", [7]*num_traj, 1,\n",
    "                travelled_distance, jac_travelled_distance)\n",
    "# bdr.register_fn(\"distance_fn\", [7]*num_traj, num_traj,\n",
    "#                 jax.vmap(distance_fn), jax.vmap(jac_distance_fn))\n",
    "#bdr.set_debug_callback(debug_callback)\n",
    "\n",
    "bdr.set_objective(\"travelled_distance\", q_names)\n",
    "bdr.set_constr(\"kin_err_start\", \"kin_err\", [f\"q{idx_pick}\", \"grasp\", \"p_start\"], \n",
    "                   0., 0.)\n",
    "bdr.set_constr(\"kin_err_goal\", \"kin_err\", [f\"q{idx_place}\", \"grasp\", \"p_goal\"], \n",
    "                   0., 0.)\n",
    "# bdr.set_constr(\"manip_pick\", \"manip_fn_start\", [\"g_pick\"],\n",
    "#                    0.3, np.inf)\n",
    "# bdr.set_constr(\"dist\", \"dist_fn\", [\"g_pick\"], \n",
    "#                    0.05, np.inf)"
   ]
  },
  {
   "cell_type": "code",
   "execution_count": 227,
   "metadata": {},
   "outputs": [
    {
     "name": "stdout",
     "output_type": "stream",
     "text": [
      "compiling objective ...\n",
      "compiling gradient ...\n",
      "compiling constraints ...\n",
      "compiling jacobian ...\n",
      "- - - - - - - - - - - - - - - - - - - - - o o o o o o o - - - - - - - - - - - - - - - - - - - - - - - - - - - - - - - - - - - - - - - - - - - - - - - - - - - - - - - - - - - - - - - - \n",
      "- - - - - - - - - - - - - - - - - - - - - o o o o o o o - - - - - - - - - - - - - - - - - - - - - - - - - - - - - - - - - - - - - - - - - - - - - - - - - - - - - - - - - - - - - - - - \n",
      "- - - - - - - - - - - - - - - - - - - - - o o o o o o o - - - - - - - - - - - - - - - - - - - - - - - - - - - - - - - - - - - - - - - - - - - - - - - - - - - - - - - - - - - - - - - - \n",
      "- - - - - - - - - - - - - - - - - - - - - o o o o o o o - - - - - - - - - - - - - - - - - - - - - - - - - - - - - - - - - - - - - - - - - - - - - - - - - - - - - - - - - - - - - - - - \n",
      "- - - - - - - - - - - - - - - - - - - - - o o o o o o o - - - - - - - - - - - - - - - - - - - - - - - - - - - - - - - - - - - - - - - - - - - - - - - - - - - - - - - - - - - - - - - - \n",
      "- - - - - - - - - - - - - - - - - - - - - o o o o o o o - - - - - - - - - - - - - - - - - - - - - - - - - - - - - - - - - - - - - - - - - - - - - - - - - - - - - - - - - - - - - - - - \n",
      "- - - - - - - - - - - - - - - - - - - - - - - - - - - - - - - - - - - - - - - - - - - - - - - - - o o o o o o o - - - - - - - - - - - - - - - - - - - - - - - - - - - - - - - - - - - - \n",
      "- - - - - - - - - - - - - - - - - - - - - - - - - - - - - - - - - - - - - - - - - - - - - - - - - o o o o o o o - - - - - - - - - - - - - - - - - - - - - - - - - - - - - - - - - - - - \n",
      "- - - - - - - - - - - - - - - - - - - - - - - - - - - - - - - - - - - - - - - - - - - - - - - - - o o o o o o o - - - - - - - - - - - - - - - - - - - - - - - - - - - - - - - - - - - - \n",
      "- - - - - - - - - - - - - - - - - - - - - - - - - - - - - - - - - - - - - - - - - - - - - - - - - o o o o o o o - - - - - - - - - - - - - - - - - - - - - - - - - - - - - - - - - - - - \n",
      "- - - - - - - - - - - - - - - - - - - - - - - - - - - - - - - - - - - - - - - - - - - - - - - - - o o o o o o o - - - - - - - - - - - - - - - - - - - - - - - - - - - - - - - - - - - - \n",
      "- - - - - - - - - - - - - - - - - - - - - - - - - - - - - - - - - - - - - - - - - - - - - - - - - o o o o o o o - - - - - - - - - - - - - - - - - - - - - - - - - - - - - - - - - - - - \n"
     ]
    }
   ],
   "source": [
    "ipopt = bdr.build()"
   ]
  },
  {
   "cell_type": "code",
   "execution_count": 231,
   "metadata": {},
   "outputs": [],
   "source": [
    "jac_fn = bdr.get_jacobian_fn()"
   ]
  },
  {
   "cell_type": "code",
   "execution_count": 157,
   "metadata": {},
   "outputs": [],
   "source": [
    "   \n",
    "indices_var = [i for i, var in enumerate(constr.inputs) \n",
    "                if isinstance(var, Variable)]"
   ]
  },
  {
   "cell_type": "code",
   "execution_count": 163,
   "metadata": {},
   "outputs": [
    {
     "data": {
      "text/plain": [
       "(6, 7)"
      ]
     },
     "execution_count": 163,
     "metadata": {},
     "output_type": "execute_result"
    }
   ],
   "source": [
    "constr.fn.jac_fn(*fn_input).shape"
   ]
  },
  {
   "cell_type": "code",
   "execution_count": 158,
   "metadata": {},
   "outputs": [
    {
     "data": {
      "text/plain": [
       "[0]"
      ]
     },
     "execution_count": 158,
     "metadata": {},
     "output_type": "execute_result"
    }
   ],
   "source": [
    "indices_var"
   ]
  },
  {
   "cell_type": "code",
   "execution_count": 238,
   "metadata": {},
   "outputs": [
    {
     "data": {
      "text/plain": [
       "Array([-4.33199584e-01, -2.31209863e-02, -4.33199584e-01, -1.73506126e-01,\n",
       "       -1.25163734e-01, -1.49906665e-01, -5.92689986e-09,  4.33199495e-01,\n",
       "       -2.31209658e-02,  4.33199495e-01, -1.73506051e-01,  1.25163704e-01,\n",
       "       -1.49906650e-01,  4.60980987e-09, -4.42835635e-09, -6.50624454e-01,\n",
       "       -4.42835635e-09,  4.79341596e-01, -8.73500050e-10,  8.79999846e-02,\n",
       "       -7.86546060e-17, -1.26841128e-01, -9.51816201e-01, -1.26841128e-01,\n",
       "        9.51816201e-01, -3.64949912e-01,  9.51816320e-01,  1.45999491e-02,\n",
       "       -1.67321891e-01,  3.82988185e-01, -1.67321891e-01, -3.82988185e-01,\n",
       "       -9.40804362e-01, -3.82988244e-01, -1.15048304e-01,  9.79172051e-01,\n",
       "       -6.95779398e-02,  9.79172051e-01,  6.95779994e-02, -2.02340573e-01,\n",
       "        6.95778728e-02, -9.95544910e-01, -4.33199584e-01, -2.31209863e-02,\n",
       "       -4.33199584e-01, -1.73506126e-01, -1.25163734e-01, -1.49906665e-01,\n",
       "       -5.92689986e-09,  4.33199495e-01, -2.31209658e-02,  4.33199495e-01,\n",
       "       -1.73506051e-01,  1.25163704e-01, -1.49906650e-01,  4.60980987e-09,\n",
       "       -4.42835635e-09, -6.50624454e-01, -4.42835635e-09,  4.79341596e-01,\n",
       "       -8.73500050e-10,  8.79999846e-02, -7.86546060e-17, -8.68043602e-01,\n",
       "       -6.14649892e-01, -8.68043602e-01,  6.14649832e-01, -2.85090178e-01,\n",
       "        6.14650011e-01,  7.46764064e-01,  7.07441568e-02,  4.89003390e-01,\n",
       "        7.07441568e-02, -4.89003390e-01, -9.04782832e-01, -4.89003450e-01,\n",
       "       -3.32180649e-01,  6.72757566e-01, -7.90427327e-01,  6.72757566e-01,\n",
       "        7.90427387e-01, -4.23087716e-01,  7.90427387e-01, -7.67058074e-01],      dtype=float32)"
      ]
     },
     "execution_count": 238,
     "metadata": {},
     "output_type": "execute_result"
    }
   ],
   "source": [
    "bdr.get_jacobian_fn()(x0)"
   ]
  },
  {
   "cell_type": "code",
   "execution_count": 239,
   "metadata": {},
   "outputs": [
    {
     "data": {
      "text/plain": [
       "Array(0., dtype=float32)"
      ]
     },
     "execution_count": 239,
     "metadata": {},
     "output_type": "execute_result"
    }
   ],
   "source": [
    "bdr.get_objective_fn()(x0)"
   ]
  },
  {
   "cell_type": "code",
   "execution_count": 240,
   "metadata": {},
   "outputs": [
    {
     "data": {
      "text/plain": [
       "(Array([0., 0., 0., 0., 0., 0., 0.], dtype=float32),\n",
       " Array([0., 0., 0., 0., 0., 0., 0.], dtype=float32),\n",
       " Array([0., 0., 0., 0., 0., 0., 0.], dtype=float32),\n",
       " Array([0., 0., 0., 0., 0., 0., 0.], dtype=float32),\n",
       " Array([0., 0., 0., 0., 0., 0., 0.], dtype=float32),\n",
       " Array([0., 0., 0., 0., 0., 0., 0.], dtype=float32),\n",
       " Array([0., 0., 0., 0., 0., 0., 0.], dtype=float32),\n",
       " Array([0., 0., 0., 0., 0., 0., 0.], dtype=float32),\n",
       " Array([0., 0., 0., 0., 0., 0., 0.], dtype=float32),\n",
       " Array([0., 0., 0., 0., 0., 0., 0.], dtype=float32),\n",
       " Array([0., 0., 0., 0., 0., 0., 0.], dtype=float32))"
      ]
     },
     "execution_count": 240,
     "metadata": {},
     "output_type": "execute_result"
    }
   ],
   "source": [
    "bdr.get_gradient_fn()(x0)"
   ]
  },
  {
   "cell_type": "code",
   "execution_count": 250,
   "metadata": {},
   "outputs": [],
   "source": [
    "xs = {var.name:x[var.coord] for var in bdr.x_info.values()}\n",
    "fn_input = [xs[var.name] for var in bdr.obj_info[\"inputs\"]] "
   ]
  },
  {
   "cell_type": "code",
   "execution_count": 264,
   "metadata": {},
   "outputs": [
    {
     "data": {
      "text/plain": [
       "Array([ 0.        ,  0.        ,  0.        , -1.5708    ,  0.        ,\n",
       "        1.8675    ,  0.        ,  0.        ,  0.        ,  0.        ,\n",
       "       -1.5708    ,  0.        ,  1.8675    ,  0.        ,  0.        ,\n",
       "        0.        ,  0.        , -1.5708    ,  0.        ,  1.8675    ,\n",
       "        0.        ,  0.        ,  0.        ,  0.        , -1.5708    ,\n",
       "        0.        ,  1.8675    ,  0.        ,  0.        ,  0.        ,\n",
       "        0.        , -1.5708    ,  0.        ,  1.8675    ,  0.        ,\n",
       "        0.        ,  0.        ,  0.        , -1.5708    ,  0.        ,\n",
       "        1.8675    ,  0.        ,  0.        ,  0.        ,  0.        ,\n",
       "       -1.5708    ,  0.        ,  1.8675    ,  0.        ,  0.        ,\n",
       "        0.        ,  0.        , -1.5708    ,  0.        ,  1.8675    ,\n",
       "        0.        ,  0.        ,  0.        ,  0.        , -1.5708    ,\n",
       "        0.        ,  1.8675    ,  0.        ,  0.        ,  0.        ,\n",
       "        0.        , -1.5708    ,  0.        ,  1.8675    ,  0.        ,\n",
       "        0.        ,  0.        ,  0.        , -1.5708    ,  0.        ,\n",
       "        1.8675    ,  0.        , -0.01598347,  0.32027173,  0.76622844,\n",
       "        0.5       , -0.3       ,  0.30668557,  0.        ,  0.        ,\n",
       "        0.        ,  0.5       ,  0.3       ,  0.2820971 ,  1.5707966 ,\n",
       "        0.        ,  0.        ], dtype=float32)"
      ]
     },
     "execution_count": 264,
     "metadata": {},
     "output_type": "execute_result"
    }
   ],
   "source": []
  },
  {
   "cell_type": "code",
   "execution_count": 251,
   "metadata": {},
   "outputs": [
    {
     "data": {
      "text/plain": [
       "(Array([0., 0., 0., 0., 0., 0., 0.], dtype=float32),\n",
       " Array([0., 0., 0., 0., 0., 0., 0.], dtype=float32),\n",
       " Array([0., 0., 0., 0., 0., 0., 0.], dtype=float32),\n",
       " Array([0., 0., 0., 0., 0., 0., 0.], dtype=float32),\n",
       " Array([0., 0., 0., 0., 0., 0., 0.], dtype=float32),\n",
       " Array([0., 0., 0., 0., 0., 0., 0.], dtype=float32),\n",
       " Array([0., 0., 0., 0., 0., 0., 0.], dtype=float32),\n",
       " Array([0., 0., 0., 0., 0., 0., 0.], dtype=float32),\n",
       " Array([0., 0., 0., 0., 0., 0., 0.], dtype=float32),\n",
       " Array([0., 0., 0., 0., 0., 0., 0.], dtype=float32),\n",
       " Array([0., 0., 0., 0., 0., 0., 0.], dtype=float32))"
      ]
     },
     "execution_count": 251,
     "metadata": {},
     "output_type": "execute_result"
    }
   ],
   "source": [
    "grads = bdr.obj_info[\"fn\"].jac_fn(*fn_input)\n",
    "for "
   ]
  },
  {
   "cell_type": "code",
   "execution_count": 237,
   "metadata": {},
   "outputs": [
    {
     "data": {
      "text/plain": [
       "(Array([[-4.33199584e-01, -2.31209844e-02, -4.33199584e-01,\n",
       "         -1.73506126e-01, -1.25163734e-01, -1.49906665e-01,\n",
       "         -5.92689986e-09],\n",
       "        [ 4.33199495e-01, -2.31209695e-02,  4.33199495e-01,\n",
       "         -1.73506051e-01,  1.25163704e-01, -1.49906650e-01,\n",
       "          4.60980987e-09],\n",
       "        [-4.42835635e-09, -6.50624454e-01, -4.42835635e-09,\n",
       "          4.79341567e-01, -8.73500050e-10,  8.79999846e-02,\n",
       "         -8.32667268e-17],\n",
       "        [-1.26841098e-01, -9.51816320e-01, -1.26841098e-01,\n",
       "          9.51816320e-01, -3.64949971e-01,  9.51816440e-01,\n",
       "          1.45998970e-02],\n",
       "        [-1.67321920e-01,  3.82988244e-01, -1.67321920e-01,\n",
       "         -3.82988244e-01, -9.40804482e-01, -3.82988304e-01,\n",
       "         -1.15048304e-01],\n",
       "        [ 9.79172051e-01, -6.95779622e-02,  9.79172051e-01,\n",
       "          6.95780218e-02, -2.02340573e-01,  6.95778951e-02,\n",
       "         -9.95544910e-01]], dtype=float32),\n",
       " Array([[ 9.0177409e-02,  9.4297603e-02,  2.7569398e-02],\n",
       "        [ 9.0177417e-02, -9.4297610e-02,  2.7569396e-02],\n",
       "        [ 3.8989015e-02,  1.9871733e-09, -1.2753014e-01],\n",
       "        [ 5.2597413e+00, -2.4666992e-01,  1.1195600e-02],\n",
       "        [-8.3678520e-01, -7.9786345e-02, -4.5342672e-01],\n",
       "        [ 2.5450921e+00, -1.4217891e-01, -3.8186106e-01]], dtype=float32),\n",
       " Array([[ 6.7621082e-01,  7.0710683e-01,  2.0673388e-01, -6.3423805e-02,\n",
       "          6.9537148e-02, -3.0388478e-02],\n",
       "        [ 6.7621088e-01, -7.0710689e-01,  2.0673387e-01,  8.1083208e-02,\n",
       "          6.9537155e-02, -2.7374076e-02],\n",
       "        [ 2.9236585e-01,  1.4901161e-08, -9.5630670e-01, -4.0844299e-02,\n",
       "          2.7836118e-02, -1.2487080e-02],\n",
       "        [ 0.0000000e+00,  0.0000000e+00,  0.0000000e+00,  3.6495048e-01,\n",
       "          9.5181662e-01,  1.2684125e-01],\n",
       "        [ 0.0000000e+00,  0.0000000e+00,  0.0000000e+00,  9.4080538e-01,\n",
       "         -3.8298827e-01,  1.6732192e-01],\n",
       "        [ 0.0000000e+00,  0.0000000e+00,  0.0000000e+00,  2.0233709e-01,\n",
       "          6.9577977e-02, -9.7917223e-01]], dtype=float32))"
      ]
     },
     "execution_count": 237,
     "metadata": {},
     "output_type": "execute_result"
    }
   ],
   "source": [
    "jac_kin_error_fn(panda.neutral, xsol[:3], obj_start_posevec)"
   ]
  },
  {
   "cell_type": "code",
   "execution_count": 236,
   "metadata": {},
   "outputs": [
    {
     "name": "stdout",
     "output_type": "stream",
     "text": [
      "This is Ipopt version 3.14.10, running with linear solver MUMPS 5.2.1.\n",
      "\n",
      "Number of nonzeros in equality constraint Jacobian...:       84\n",
      "Number of nonzeros in inequality constraint Jacobian.:        0\n",
      "Number of nonzeros in Lagrangian Hessian.............:        0\n",
      "\n"
     ]
    },
    {
     "ename": "IndexError",
     "evalue": "Out of bounds on buffer access (axis 0)",
     "output_type": "error",
     "traceback": [
      "\u001b[0;31m---------------------------------------------------------------------------\u001b[0m",
      "\u001b[0;31mIndexError\u001b[0m                                Traceback (most recent call last)",
      "\u001b[0;31mIndexError\u001b[0m: Out of bounds on buffer access (axis 0)"
     ]
    },
    {
     "name": "stderr",
     "output_type": "stream",
     "text": [
      "Exception ignored in: 'ipopt_wrapper.gradient_cb'\n",
      "Traceback (most recent call last):\n",
      "  File \"/tmp/ipykernel_340429/2521261114.py\", line 4, in <module>\n",
      "IndexError: Out of bounds on buffer access (axis 0)\n"
     ]
    },
    {
     "name": "stdout",
     "output_type": "stream",
     "text": [
      "\n",
      "Number of Iterations....: 0\n",
      "\n",
      "Number of objective function evaluations             = 0\n",
      "Number of objective gradient evaluations             = 1\n",
      "Number of equality constraint evaluations            = 0\n",
      "Number of inequality constraint evaluations          = 0\n",
      "Number of equality constraint Jacobian evaluations   = 1\n",
      "Number of inequality constraint Jacobian evaluations = 0\n",
      "Number of Lagrangian Hessian evaluations             = 0\n",
      "Total seconds in IPOPT                               = 0.004\n",
      "\n",
      "EXIT: Invalid number in NLP function or derivative detected.\n"
     ]
    }
   ],
   "source": [
    "qinit = np.tile(panda.neutral, num_traj)\n",
    "x0 = jnp.hstack([qinit, xsol[:3], obj_start_posevec, obj_goal_posevec])\n",
    "ipopt.add_option(\"nlp_scaling_method\", \"none\")\n",
    "traj, info = ipopt.solve(x0)"
   ]
  },
  {
   "cell_type": "code",
   "execution_count": 688,
   "metadata": {},
   "outputs": [],
   "source": [
    "i = 0"
   ]
  },
  {
   "cell_type": "code",
   "execution_count": 702,
   "metadata": {},
   "outputs": [],
   "source": [
    "panda.set_joint_angles(traj.reshape(-1, 7)[i])\n",
    "i+= 1"
   ]
  },
  {
   "cell_type": "code",
   "execution_count": null,
   "metadata": {},
   "outputs": [],
   "source": []
  },
  {
   "cell_type": "code",
   "execution_count": null,
   "metadata": {},
   "outputs": [],
   "source": []
  },
  {
   "cell_type": "code",
   "execution_count": 291,
   "metadata": {},
   "outputs": [],
   "source": [
    "\n",
    "ws_lb = np.array([-1,-1,-0.5, -np.pi, -np.pi, -np.pi])\n",
    "ws_ub = np.array([1,1,1.5, np.pi, np.pi, np.pi])\n",
    "\n",
    "grasp_fn = lambda g: 0.\n",
    "manip_fn = lambda g, pose: 0.\n",
    "_dist_fn = lambda g1, g2, pose, pose_st, pose_ed: jnp.zeros(4)\n",
    "manip_fn_start = partial(manip_fn, pose=np.zeros(6))\n",
    "manip_fn_goal = partial(manip_fn, pose=np.zeros(6))\n",
    "dist_fn = partial(_dist_fn, pose_st=np.zeros(6), pose_ed=np.zeros(6))\n",
    "\n",
    "jac_grasp_fn = lambda g: [jnp.zeros(3)]\n",
    "jac_manip_fn = lambda g, pose: [jnp.zeros(3), jnp.zeros(6)]\n",
    "jac_manip_fn_start = lambda g: [jnp.zeros(3)]\n",
    "jac_manip_fn_goal = lambda g: [jnp.zeros(3)]\n",
    "jac_dist_fn = lambda g1, g2, pose: [jnp.zeros((4,3)), jnp.zeros((4,3)), jnp.zeros((4,6))]\n",
    "\n",
    "bdr = SparseIPOPT()\n",
    "bdr.add_variable(\"g_pick\", 3, -1., 1.)\n",
    "bdr.add_variable(\"g_place\", 3, -1., 1.)\n",
    "bdr.add_variable(\"p_ho\", 6, ws_lb, ws_ub)\n",
    "\n",
    "bdr.register_fn(\"grasp_logit_fn\", [3], 1,\n",
    "                          grasp_fn, jac_grasp_fn)\n",
    "bdr.register_fn(\"manip_fn\", [3, 6], 1,\n",
    "                          manip_fn, jac_manip_fn)\n",
    "bdr.register_fn(\"manip_fn_start\", [3], 1,\n",
    "                          manip_fn_start, jac_manip_fn_start)\n",
    "bdr.register_fn(\"manip_fn_goal\", [3], 1,\n",
    "                          manip_fn_goal, jac_manip_fn_goal)\n",
    "bdr.register_fn(\"dist_fn\", [3, 3, 6], 4,\n",
    "                          dist_fn, jac_dist_fn)\n",
    "\n",
    "bdr.set_constr(\"grasp_prob_pick\", \"grasp_logit_fn\", [\"g_pick\"], \n",
    "                   1., np.inf)\n",
    "bdr.set_constr(\"grasp_prob_place\", \"grasp_logit_fn\", [\"g_place\"], \n",
    "                   1., np.inf)\n",
    "bdr.set_constr(\"manip_pick\", \"manip_fn_start\", [\"g_pick\"],\n",
    "                   0.3, np.inf)\n",
    "bdr.set_constr(\"manip_place\", \"manip_fn_goal\",[\"g_place\"], \n",
    "                   0.3, np.inf)\n",
    "bdr.set_constr(\"manip_ho_1\", \"manip_fn\", [\"g_pick\", \"p_ho\"], \n",
    "                   0.3, np.inf)\n",
    "bdr.set_constr(\"manip_ho_2\", \"manip_fn\", [\"g_place\", \"p_ho\"], \n",
    "                   0.3, np.inf)\n",
    "bdr.set_constr(\"dist\", \"dist_fn\", [\"g_pick\", \"g_place\", \"p_ho\"], \n",
    "                   0.05, np.inf)"
   ]
  },
  {
   "cell_type": "code",
   "execution_count": 292,
   "metadata": {},
   "outputs": [
    {
     "name": "stdout",
     "output_type": "stream",
     "text": [
      "compiling objective ...\n",
      "compiling gradient ...\n",
      "compiling constraints ...\n",
      "compiling jacobian ...\n",
      "o o o - - - - - - - - - \n",
      "- - - o o o - - - - - - \n",
      "o o o - - - - - - - - - \n",
      "- - - o o o - - - - - - \n",
      "o o o - - - o o o o o o \n",
      "- - - o o o o o o o o o \n",
      "o o o o o o o o o o o o \n",
      "o o o o o o o o o o o o \n",
      "o o o o o o o o o o o o \n",
      "o o o o o o o o o o o o \n"
     ]
    },
    {
     "data": {
      "text/plain": [
       "<ipopt_wrapper.Problem at 0x7f6ecc6ee1c0>"
      ]
     },
     "execution_count": 292,
     "metadata": {},
     "output_type": "execute_result"
    }
   ],
   "source": [
    "bdr.build()"
   ]
  },
  {
   "cell_type": "code",
   "execution_count": null,
   "metadata": {},
   "outputs": [],
   "source": []
  },
  {
   "cell_type": "code",
   "execution_count": 283,
   "metadata": {},
   "outputs": [],
   "source": [
    "obj = bdr.get_objective_fn()\n",
    "grad = bdr.get_gradient_fn()\n",
    "constr = bdr.get_constraint_fn()\n",
    "jac = bdr.get_jacobian_fn()"
   ]
  },
  {
   "cell_type": "code",
   "execution_count": 284,
   "metadata": {},
   "outputs": [
    {
     "name": "stdout",
     "output_type": "stream",
     "text": [
      "17.1 µs ± 606 ns per loop (mean ± std. dev. of 7 runs, 100,000 loops each)\n"
     ]
    }
   ],
   "source": [
    "%timeit constr(x)"
   ]
  },
  {
   "cell_type": "code",
   "execution_count": 255,
   "metadata": {},
   "outputs": [
    {
     "data": {
      "text/plain": [
       "Array(0., dtype=float32)"
      ]
     },
     "execution_count": 255,
     "metadata": {},
     "output_type": "execute_result"
    }
   ],
   "source": [
    "obj(x)"
   ]
  },
  {
   "cell_type": "code",
   "execution_count": 257,
   "metadata": {},
   "outputs": [
    {
     "name": "stdout",
     "output_type": "stream",
     "text": [
      "208 µs ± 1.82 µs per loop (mean ± std. dev. of 7 runs, 1,000 loops each)\n"
     ]
    }
   ],
   "source": [
    "%timeit obj(x)"
   ]
  },
  {
   "cell_type": "code",
   "execution_count": null,
   "metadata": {},
   "outputs": [],
   "source": []
  },
  {
   "cell_type": "code",
   "execution_count": 217,
   "metadata": {},
   "outputs": [],
   "source": [
    "jac = bdr.get_jacobian_fn()"
   ]
  },
  {
   "cell_type": "code",
   "execution_count": 218,
   "metadata": {},
   "outputs": [
    {
     "name": "stdout",
     "output_type": "stream",
     "text": [
      "6.09 ms ± 36.6 µs per loop (mean ± std. dev. of 7 runs, 100 loops each)\n"
     ]
    }
   ],
   "source": [
    "%timeit jac(x)"
   ]
  },
  {
   "cell_type": "code",
   "execution_count": 220,
   "metadata": {},
   "outputs": [],
   "source": [
    "jac = jax.jit(jac)"
   ]
  },
  {
   "cell_type": "code",
   "execution_count": 222,
   "metadata": {},
   "outputs": [
    {
     "name": "stdout",
     "output_type": "stream",
     "text": [
      "16.9 µs ± 59.1 ns per loop (mean ± std. dev. of 7 runs, 100,000 loops each)\n"
     ]
    }
   ],
   "source": [
    "%timeit jac(x)"
   ]
  },
  {
   "cell_type": "code",
   "execution_count": 185,
   "metadata": {},
   "outputs": [],
   "source": [
    "x = np.arange(bdr.xdim)"
   ]
  },
  {
   "cell_type": "code",
   "execution_count": 120,
   "metadata": {},
   "outputs": [],
   "source": [
    "def constraints(x):\n",
    "    xs = {var.name:x[var.coord] for var in bdr.x_info.values()}\n",
    "    result = []\n",
    "    for constr in bdr.c_info.values():\n",
    "        fn_input = [xs[var.name] for var in constr.inputs]    \n",
    "        out = constr.fn.eval_fn(*fn_input)\n",
    "        result.append(out)\n",
    "    return np.hstack(result)"
   ]
  },
  {
   "cell_type": "code",
   "execution_count": 153,
   "metadata": {},
   "outputs": [],
   "source": [
    "def jacobian(x):\n",
    "    xs = {var.name:x[var.coord] for var in bdr.x_info.values()}\n",
    "    result = []\n",
    "    for constr in bdr.c_info.values():\n",
    "        fn_input = [xs[var.name] for var in constr.inputs]    \n",
    "        jacs = constr.fn.jac_fn(*fn_input)\n",
    "        for jac in jacs:\n",
    "            result.append(jac.flatten())\n",
    "    return np.hstack(result)"
   ]
  },
  {
   "cell_type": "code",
   "execution_count": 164,
   "metadata": {},
   "outputs": [],
   "source": [
    "def get_jacobian_structure():\n",
    "    rows, cols = [], []\n",
    "    for constr in bdr.c_info.values():\n",
    "        for var in constr.inputs:\n",
    "            row, col = np.indices((constr.dim, var.dim)).reshape(2, -1)\n",
    "            row += constr.coord[0]\n",
    "            col += var.coord[0]\n",
    "            rows.append(row)\n",
    "            cols.append(col)\n",
    "    rows = np.hstack(rows)\n",
    "    cols = np.hstack(cols)\n",
    "    return rows, cols"
   ]
  },
  {
   "cell_type": "code",
   "execution_count": 181,
   "metadata": {},
   "outputs": [],
   "source": [
    "def objective(x):\n",
    "    if \"fn\" in bdr.obj_info: \n",
    "        val = 0. #no objective\n",
    "    else:\n",
    "        xs = {var.name:x[var.coord] for var in bdr.x_info.values()}\n",
    "        fn_input = [xs[var.name] for var in bdr.obj_info[\"inputs\"]]    \n",
    "        val = bdr.obj_info[\"fn\"].eval_fn(*fn_input)\n",
    "    if \"debug_cb\" in bdr.obj_info:\n",
    "            bdr.obj_info[\"debug_cb\"]\n",
    "    return val"
   ]
  },
  {
   "cell_type": "code",
   "execution_count": 180,
   "metadata": {},
   "outputs": [],
   "source": [
    "def gradient(x):\n",
    "    if \"fn\" in bdr.obj_info: \n",
    "        grad = np.zeros(bdr.xdim) #no objective\n",
    "    else:\n",
    "        xs = {var.name:x[var.coord] for var in bdr.x_info.values()}\n",
    "        fn_input = [xs[var.name] for var in bdr.obj_info[\"inputs\"]]    \n",
    "        grad = bdr.obj_info[\"fn\"].jac_fn(*fn_input)\n",
    "    return grad"
   ]
  },
  {
   "cell_type": "code",
   "execution_count": 179,
   "metadata": {},
   "outputs": [
    {
     "data": {
      "text/plain": [
       "[]"
      ]
     },
     "execution_count": 179,
     "metadata": {},
     "output_type": "execute_result"
    }
   ],
   "source": [
    "gradient(x)"
   ]
  },
  {
   "cell_type": "code",
   "execution_count": null,
   "metadata": {},
   "outputs": [],
   "source": []
  },
  {
   "cell_type": "code",
   "execution_count": 138,
   "metadata": {},
   "outputs": [],
   "source": [
    "xdim = constr.inputs[0].dim\n",
    "cdim = constr.dim"
   ]
  },
  {
   "cell_type": "code",
   "execution_count": 143,
   "metadata": {},
   "outputs": [],
   "source": [
    "row, col = np.indices((cdim, xdim)).reshape(2, -1)"
   ]
  },
  {
   "cell_type": "code",
   "execution_count": 147,
   "metadata": {},
   "outputs": [],
   "source": [
    "row = row + constr.coord[0]\n",
    "col = col + constr.inputs[0].coord[0]"
   ]
  },
  {
   "cell_type": "code",
   "execution_count": 148,
   "metadata": {},
   "outputs": [
    {
     "data": {
      "text/plain": [
       "(array([12, 12, 12, 13, 13, 13, 14, 14, 14, 15, 15, 15]),\n",
       " array([0, 1, 2, 0, 1, 2, 0, 1, 2, 0, 1, 2]))"
      ]
     },
     "execution_count": 148,
     "metadata": {},
     "output_type": "execute_result"
    }
   ],
   "source": [
    "row, col"
   ]
  },
  {
   "cell_type": "code",
   "execution_count": 133,
   "metadata": {},
   "outputs": [
    {
     "data": {
      "text/plain": [
       "[Array([[0., 0., 0.],\n",
       "        [0., 0., 0.],\n",
       "        [0., 0., 0.],\n",
       "        [0., 0., 0.]], dtype=float32),\n",
       " Array([[0., 0., 0.],\n",
       "        [0., 0., 0.],\n",
       "        [0., 0., 0.],\n",
       "        [0., 0., 0.]], dtype=float32),\n",
       " Array([[0., 0., 0., 0., 0., 0.],\n",
       "        [0., 0., 0., 0., 0., 0.],\n",
       "        [0., 0., 0., 0., 0., 0.],\n",
       "        [0., 0., 0., 0., 0., 0.]], dtype=float32)]"
      ]
     },
     "execution_count": 133,
     "metadata": {},
     "output_type": "execute_result"
    }
   ],
   "source": []
  },
  {
   "cell_type": "code",
   "execution_count": null,
   "metadata": {},
   "outputs": [],
   "source": []
  },
  {
   "cell_type": "code",
   "execution_count": 47,
   "metadata": {},
   "outputs": [],
   "source": [
    "# jacobian sparsity\n",
    "x_idx = {}\n",
    "x_idx[\"x1\"] = np.arange(0, 3)\n",
    "x_idx[\"x2\"] = np.arange(3, 6)\n",
    "x_idx[\"x3\"] = np.arange(6, 9)\n",
    "\n",
    "constr_idx = {}\n",
    "constr_idx[\"c1\"] = np.arange(0, 3)\n",
    "constr_idx[\"c2\"] = np.arange(3, 6)"
   ]
  },
  {
   "cell_type": "code",
   "execution_count": 33,
   "metadata": {},
   "outputs": [
    {
     "data": {
      "text/plain": [
       "3"
      ]
     },
     "execution_count": 33,
     "metadata": {},
     "output_type": "execute_result"
    }
   ],
   "source": []
  },
  {
   "cell_type": "code",
   "execution_count": null,
   "metadata": {},
   "outputs": [],
   "source": []
  },
  {
   "cell_type": "code",
   "execution_count": 45,
   "metadata": {},
   "outputs": [],
   "source": [
    "rowcol = np.indices((len(x_idx[\"x1\"]), len(constr_idx[\"c1\"]))) "
   ]
  },
  {
   "cell_type": "code",
   "execution_count": 46,
   "metadata": {},
   "outputs": [
    {
     "data": {
      "text/plain": [
       "array([[0, 0, 0, 1, 1, 1, 2, 2, 2],\n",
       "       [0, 1, 2, 0, 1, 2, 0, 1, 2]])"
      ]
     },
     "execution_count": 46,
     "metadata": {},
     "output_type": "execute_result"
    }
   ],
   "source": [
    "rowcol.reshape(2, -1)"
   ]
  },
  {
   "cell_type": "code",
   "execution_count": 44,
   "metadata": {},
   "outputs": [
    {
     "data": {
      "text/plain": [
       "array([[[0, 0, 0],\n",
       "        [1, 1, 1],\n",
       "        [2, 2, 2]],\n",
       "\n",
       "       [[0, 1, 2],\n",
       "        [0, 1, 2],\n",
       "        [0, 1, 2]]])"
      ]
     },
     "execution_count": 44,
     "metadata": {},
     "output_type": "execute_result"
    }
   ],
   "source": [
    "rowcol"
   ]
  },
  {
   "cell_type": "code",
   "execution_count": 26,
   "metadata": {},
   "outputs": [
    {
     "name": "stdout",
     "output_type": "stream",
     "text": [
      "139 ns ± 0.334 ns per loop (mean ± std. dev. of 7 runs, 10,000,000 loops each)\n"
     ]
    }
   ],
   "source": [
    "%timeit x[idx[\"x3\"]]"
   ]
  },
  {
   "cell_type": "code",
   "execution_count": 16,
   "metadata": {},
   "outputs": [
    {
     "data": {
      "text/plain": [
       "array([ 0,  4,  8, 12, 16, 20, 24, 28, 32, 36, 40, 44, 48, 52, 56, 60, 64,\n",
       "       68, 72, 76, 80])"
      ]
     },
     "execution_count": 16,
     "metadata": {},
     "output_type": "execute_result"
    }
   ],
   "source": [
    "x"
   ]
  },
  {
   "cell_type": "code",
   "execution_count": 8,
   "metadata": {},
   "outputs": [
    {
     "data": {
      "text/plain": [
       "1"
      ]
     },
     "execution_count": 8,
     "metadata": {},
     "output_type": "execute_result"
    }
   ],
   "source": [
    "x[x_idx[\"x1\"][0]:]"
   ]
  },
  {
   "cell_type": "code",
   "execution_count": 13,
   "metadata": {},
   "outputs": [],
   "source": [
    "x = np.arange(21) * 4"
   ]
  },
  {
   "cell_type": "code",
   "execution_count": null,
   "metadata": {},
   "outputs": [],
   "source": []
  }
 ],
 "metadata": {
  "kernelspec": {
   "display_name": "cu11",
   "language": "python",
   "name": "python3"
  },
  "language_info": {
   "codemirror_mode": {
    "name": "ipython",
    "version": 3
   },
   "file_extension": ".py",
   "mimetype": "text/x-python",
   "name": "python",
   "nbconvert_exporter": "python",
   "pygments_lexer": "ipython3",
   "version": "3.8.16"
  },
  "orig_nbformat": 4
 },
 "nbformat": 4,
 "nbformat_minor": 2
}
