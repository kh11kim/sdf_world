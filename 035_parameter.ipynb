{
 "cells": [
  {
   "cell_type": "code",
   "execution_count": 1,
   "metadata": {},
   "outputs": [],
   "source": [
    "import numpy as np\n",
    "import jax.numpy as jnp\n",
    "import jax\n",
    "import cyipopt\n",
    "\n",
    "from functools import partial\n",
    "from typing import *\n",
    "from dataclasses import dataclass, field\n",
    "from jaxlie import SE3, SO3\n",
    "import jax_dataclasses as jdc\n",
    "\n",
    "from sdf_world.sdf_world import *\n",
    "from sdf_world.robots import *\n",
    "from sdf_world.util import *\n",
    "from sdf_world.network import *\n",
    "from sdf_world.sparse_ipopt import *\n",
    "\n",
    "from flax import linen as nn\n",
    "from flax.training import orbax_utils\n",
    "import orbax\n",
    "import pickle\n",
    "import time"
   ]
  },
  {
   "cell_type": "code",
   "execution_count": 136,
   "metadata": {},
   "outputs": [],
   "source": [
    "@dataclass\n",
    "class Variable:\n",
    "    name: str\n",
    "    coord: np.ndarray\n",
    "    lb: np.ndarray\n",
    "    ub: np.ndarray\n",
    "    \n",
    "    @property\n",
    "    def dim(self): return len(self.coord)\n",
    "\n",
    "@dataclass\n",
    "class Parameter:\n",
    "    name: str\n",
    "    coord: np.ndarray\n",
    "    dim: int\n",
    "\n",
    "    @property\n",
    "    def lb(self): return np.full(self.dim, -np.inf)\n",
    "    @property\n",
    "    def ub(self): return np.full(self.dim, np.inf)\n",
    "\n",
    "@dataclass\n",
    "class Constraint:\n",
    "    name: str\n",
    "    coord: np.ndarray\n",
    "    inputs: List[Variable]\n",
    "    fn: \"Function\"\n",
    "    lb: np.ndarray\n",
    "    ub: np.ndarray\n",
    "\n",
    "    @property\n",
    "    def dim(self): return len(self.coord)\n",
    "\n",
    "@dataclass\n",
    "class Function:\n",
    "    name: str\n",
    "    in_dims: List[int]\n",
    "    out_dim: int\n",
    "    eval_fn: Callable\n",
    "    jac_fn: Callable\n",
    "    constraints: List[Constraint] = field(default_factory=list)\n",
    "\n",
    "class SparseIPOPT():\n",
    "    def __init__(self):\n",
    "        self.x_info: Dict[str,Variable] = {}\n",
    "        self.c_info: Dict[str,Constraint] = {}\n",
    "        self.fn_info: Dict[str,Function] = {}\n",
    "        self.obj_info: Dict = {}\n",
    "        self.param_info: Dict[str, Array] = {}\n",
    "\n",
    "        self.x_idx, self.c_idx = 0, 0\n",
    "        self.param_info: Dict[str, np.ndarray] = {}\n",
    "\n",
    "    @property\n",
    "    def xdim(self):\n",
    "        return sum([x.dim for x in self.x_info.values()])\n",
    "    @property\n",
    "    def cdim(self):\n",
    "        return sum([c.dim for c in self.c_info.values()])\n",
    "    @property\n",
    "    def input_info(self):\n",
    "        return {**self.x_info, **self.param_info}\n",
    "    \n",
    "    def add_variable(self, name, dim, lb=-np.inf, ub=np.inf):\n",
    "        assert name not in self.x_info\n",
    "        assert isinstance(lb, float) or len(lb) == dim\n",
    "        assert isinstance(ub, float) or len(ub) == dim\n",
    "\n",
    "        if isinstance(lb, float): lb = np.full(dim, lb)\n",
    "        if isinstance(ub, float): ub = np.full(dim, ub)\n",
    "\n",
    "        coord = np.arange(self.x_idx, self.x_idx+dim)\n",
    "        self.x_info[name] = Variable(\n",
    "            name, coord, lb, ub)\n",
    "        \n",
    "        self.x_idx += dim\n",
    "    \n",
    "    def add_parameter(self, name, dim):\n",
    "        assert name not in self.param_info\n",
    "        #TODO: name also should not be in \"variable\"\n",
    "        coord = np.arange(self.x_idx, self.x_idx+dim)\n",
    "        self.x_info[name] = Parameter(name, coord, dim)\n",
    "        self.x_idx += dim\n",
    "    \n",
    "    def set_objective(self, fn_name, input_x_names):\n",
    "        self.obj_info[\"fn\"] = self.fn_info[fn_name]\n",
    "        self.obj_info[\"inputs\"] = [self.x_info[name] for name in input_x_names]\n",
    "    \n",
    "    def set_debug_callback(self, debug_callback:Callable):\n",
    "        self.obj_info[\"debug_cb\"] = debug_callback\n",
    "\n",
    "    def set_constr(self, name, cfn_name, input_x_names, lb, ub):\n",
    "        c_fn = self.fn_info[cfn_name]\n",
    "        dim = c_fn.out_dim\n",
    "        assert name not in self.c_info\n",
    "        assert isinstance(lb, float) or len(lb) == dim\n",
    "        assert isinstance(ub, float) or len(ub) == dim\n",
    "        if isinstance(lb, float): lb = np.full(dim, lb)\n",
    "        if isinstance(ub, float): ub = np.full(dim, ub)\n",
    "\n",
    "        vars = [self.x_info[name] for name in input_x_names]\n",
    "        self.c_info[name] = Constraint(\n",
    "            name, np.arange(self.c_idx, self.c_idx+dim), vars, \n",
    "            c_fn, lb, ub\n",
    "        )\n",
    "        c_fn.constraints.append(self.c_info[name])\n",
    "        self.c_idx += dim\n",
    "\n",
    "    def register_fn(self, name, in_dims, out_dim, eval_fn, jac_fn, compile=False):\n",
    "        if compile:\n",
    "            fn_inputs = [jnp.zeros(dim) for dim in in_dims]\n",
    "            eval_fn = jax.jit(eval_fn).lower(*fn_inputs).compile()\n",
    "            jac_fn = jax.jit(jac_fn).lower(*fn_inputs).compile()\n",
    "        self.fn_info[name] = Function(\n",
    "            name, in_dims, out_dim, eval_fn, jac_fn)\n",
    "    \n",
    "    def get_objective_fn(self, compile=True):\n",
    "        no_obj = False\n",
    "        if \"fn\" not in self.obj_info: \n",
    "            objective = lambda x: 0.\n",
    "            no_obj = True\n",
    "        else:\n",
    "            def objective(x):        \n",
    "                xs = {var.name:x[var.coord] for var in self.x_info.values()}\n",
    "                fn_input = [xs[var.name] for var in self.obj_info[\"inputs\"]]    \n",
    "                val = self.obj_info[\"fn\"].eval_fn(*fn_input)\n",
    "                return val\n",
    "        \n",
    "        if \"debug_cb\" in self.obj_info:\n",
    "            def objective_debug(x):\n",
    "                xs = {var.name:x[var.coord] for var in self.x_info.values()}\n",
    "                self.obj_info[\"debug_cb\"](xs)    \n",
    "                return objective(x)\n",
    "            return objective_debug\n",
    "        elif compile and not no_obj:\n",
    "            return jax.jit(objective)\n",
    "        return objective\n",
    "    \n",
    "    def get_gradient_fn(self, compile=True):\n",
    "        no_obj = False\n",
    "        if \"fn\" not in self.obj_info: \n",
    "            gradient = lambda x: np.zeros(self.xdim)\n",
    "            no_obj = True\n",
    "        else:\n",
    "            def gradient(x):\n",
    "                xs = {var.name:x[var.coord] for var in self.x_info.values()}\n",
    "                fn_input = [xs[var.name] for var in self.obj_info[\"inputs\"]]    \n",
    "                grad = self.obj_info[\"fn\"].jac_fn(*fn_input)\n",
    "                return grad\n",
    "        if compile and not no_obj:\n",
    "            return jax.jit(gradient)\n",
    "        return gradient      \n",
    "    \n",
    "    def get_constraint_fn(self, compile=True):\n",
    "        def constraints(x):\n",
    "            xs = {var.name:x[var.coord] for var in self.x_info.values()}\n",
    "            result = []\n",
    "            for constr in self.c_info.values():\n",
    "                fn_input = [xs[var.name] for var in constr.inputs]    \n",
    "                out = constr.fn.eval_fn(*fn_input)\n",
    "                result.append(out)\n",
    "            return jnp.hstack(result)\n",
    "        if compile:\n",
    "            return jax.jit(constraints)\n",
    "        return constraints\n",
    "    \n",
    "    def get_jacobian_fn(self, compile=True):\n",
    "        def jacobian(x):\n",
    "            xs = {var.name:x[var.coord] for var in self.x_info.values()}\n",
    "            result = []\n",
    "            for constr in self.c_info.values():\n",
    "                fn_input = [xs[var.name] for var in constr.inputs]    \n",
    "                indices_var = [i for i, var in enumerate(constr.inputs) \n",
    "                               if isinstance(var, Variable)]\n",
    "                jacs = constr.fn.jac_fn(*fn_input)\n",
    "                for i, jac in enumerate(jacs):\n",
    "                    if i in indices_var:\n",
    "                        result.append(jac.flatten())\n",
    "            return jnp.hstack(result)\n",
    "        if compile:\n",
    "            return jax.jit(jacobian)\n",
    "        return jacobian\n",
    "    \n",
    "    def get_jacobian_structure(self):\n",
    "        rows, cols = [], []\n",
    "        for constr in self.c_info.values():\n",
    "            for var in constr.inputs:\n",
    "                if isinstance(var, Parameter): continue\n",
    "                row, col = np.indices((constr.dim, var.dim)).reshape(2, -1)\n",
    "                row += constr.coord[0]\n",
    "                col += var.coord[0]\n",
    "                rows.append(row)\n",
    "                cols.append(col)\n",
    "        rows = np.hstack(rows)\n",
    "        cols = np.hstack(cols)\n",
    "        return rows, cols\n",
    "\n",
    "    def print_sparsity(self):\n",
    "        row, col = self.get_jacobian_structure()\n",
    "        jac_struct = np.full((self.cdim, self.xdim), -1, dtype=int)\n",
    "        jac_struct[row, col] = 1\n",
    "        for row in jac_struct:\n",
    "            row_str = \"\"\n",
    "            for val in row:\n",
    "                if val == -1: row_str += \"- \"\n",
    "                else: row_str += f\"o \"\n",
    "            print(row_str)\n",
    "    \n",
    "    def build(self, compile=True):\n",
    "        lb = np.hstack([x.lb for x in self.x_info.values()])\n",
    "        ub = np.hstack([x.ub for x in self.x_info.values()])\n",
    "        cl = np.hstack([c.lb for c in self.c_info.values()])\n",
    "        cu = np.hstack([c.ub for c in self.c_info.values()])\n",
    "        row, col = self.get_jacobian_structure()\n",
    "        jac_struct_fn = lambda : (row, col)\n",
    "\n",
    "        fns = {\n",
    "            \"objective\": self.get_objective_fn(compile),\n",
    "            \"gradient\": self.get_gradient_fn(compile),\n",
    "            \"constraints\": self.get_constraint_fn(compile),\n",
    "            \"jacobian\": self.get_jacobian_fn(compile),\n",
    "        }\n",
    "        class Prob:\n",
    "            pass\n",
    "        prob = Prob()\n",
    "        xdummy = jnp.zeros(self.xdim)\n",
    "        for fn_name, fn in fns.items():\n",
    "            print(f\"compiling {fn_name} ...\")\n",
    "            fn(xdummy)\n",
    "            setattr(prob, fn_name, fn)\n",
    "        setattr(prob, \"jacobianstructure\", jac_struct_fn)\n",
    "\n",
    "        ipopt = cyipopt.Problem(\n",
    "            n=self.xdim, m=self.cdim,\n",
    "            problem_obj=prob,\n",
    "            lb=lb, ub=ub, cl=cl, cu=cu\n",
    "        )\n",
    "        # default option\n",
    "        ipopt.add_option(\"acceptable_iter\", 2)\n",
    "        ipopt.add_option(\"acceptable_tol\", 0.1) #release\n",
    "        ipopt.add_option(\"acceptable_obj_change_tol\", 0.0001)\n",
    "        ipopt.add_option(\"acceptable_dual_inf_tol\", 1.) \n",
    "        ipopt.add_option('mu_strategy', 'adaptive')\n",
    "        self.print_sparsity()\n",
    "        return ipopt"
   ]
  },
  {
   "cell_type": "code",
   "execution_count": 137,
   "metadata": {},
   "outputs": [],
   "source": [
    "# models \n",
    "orbax_checkpointer = orbax.checkpoint.PyTreeCheckpointer()\n",
    "restored_grasp = orbax_checkpointer.restore(\"model/grasp_net_prob_dist\")\n",
    "restored_manip = orbax_checkpointer.restore(\"model/manip_net_posevec\")\n",
    "\n",
    "#grasp net\n",
    "grasp_net = GraspNet(32)\n",
    "grasp_fn = lambda x: grasp_net.apply(restored_grasp[\"params\"], x)\n",
    "\n",
    "grasp_logit_fn = lambda g: grasp_fn(g)[0]\n",
    "grasp_dist_fn = lambda g: grasp_fn(g)[1]\n",
    "#manip net\n",
    "manip_net = ManipNet(64)\n",
    "manip_fn = lambda x: manip_net.apply(restored_manip[\"params\"], x)[0]"
   ]
  },
  {
   "cell_type": "code",
   "execution_count": 138,
   "metadata": {},
   "outputs": [
    {
     "name": "stdout",
     "output_type": "stream",
     "text": [
      "You can open the visualizer by visiting the following URL:\n",
      "http://127.0.0.1:7009/static/\n"
     ]
    }
   ],
   "source": [
    "world = SDFWorld()"
   ]
  },
  {
   "cell_type": "code",
   "execution_count": 139,
   "metadata": {},
   "outputs": [
    {
     "data": {
      "text/html": [
       "\n",
       "            <div style=\"height: 400px; width: 100%; overflow-x: auto; overflow-y: hidden; resize: both\">\n",
       "            <iframe src=\"http://127.0.0.1:7009/static/\" style=\"width: 100%; height: 100%; border: none\"></iframe>\n",
       "            </div>\n",
       "            "
      ],
      "text/plain": [
       "<IPython.core.display.HTML object>"
      ]
     },
     "execution_count": 139,
     "metadata": {},
     "output_type": "execute_result"
    }
   ],
   "source": [
    "world.show_in_jupyter()"
   ]
  },
  {
   "attachments": {},
   "cell_type": "markdown",
   "metadata": {},
   "source": [
    "## Env setting"
   ]
  },
  {
   "cell_type": "code",
   "execution_count": 140,
   "metadata": {},
   "outputs": [
    {
     "name": "stderr",
     "output_type": "stream",
     "text": [
      "WARNING:trimesh:concatenating texture: may result in visual artifacts\n",
      "WARNING:trimesh:concatenating texture: may result in visual artifacts\n",
      "WARNING:trimesh:concatenating texture: may result in visual artifacts\n",
      "WARNING:trimesh:concatenating texture: may result in visual artifacts\n",
      "WARNING:trimesh:concatenating texture: may result in visual artifacts\n",
      "WARNING:trimesh:concatenating texture: may result in visual artifacts\n",
      "WARNING:trimesh:concatenating texture: may result in visual artifacts\n",
      "WARNING:trimesh:concatenating texture: may result in visual artifacts\n",
      "WARNING:trimesh:concatenating texture: may result in visual artifacts\n",
      "WARNING:trimesh:concatenating texture: may result in visual artifacts\n",
      "WARNING:trimesh:concatenating texture: may result in visual artifacts\n"
     ]
    }
   ],
   "source": [
    "# robot, hand\n",
    "panda_model = RobotModel(PANDA_URDF, PANDA_PACKAGE)\n",
    "panda = Robot(world.vis, \"panda\", panda_model, alpha=0.5)\n",
    "panda.reduce_dim([7, 8], [0.04, 0.04])\n",
    "\n",
    "hand_model = RobotModel(HAND_URDF, PANDA_PACKAGE, True)\n",
    "for link_name, link in hand_model.links.items():\n",
    "    link.set_surface_points(10)\n",
    "hand = Robot(world.vis, \"hand1\", hand_model, color=\"white\", alpha=0.5)"
   ]
  },
  {
   "cell_type": "code",
   "execution_count": 141,
   "metadata": {},
   "outputs": [],
   "source": [
    "#load sdf meshes\n",
    "table_lengths = [0.4, 0.4, 0.2]\n",
    "table_start = Box(world.vis, \"table_start\", table_lengths, 'white', 0.5)\n",
    "table_goal = Box(world.vis, \"table_goal\", table_lengths, 'white', 0.5)\n",
    "obj_start = Mesh(world.vis, \"obj_start\", \n",
    "                 \"./sdf_world/assets/object/mesh.obj\",\n",
    "                 color=\"blue\", alpha=0.5)\n",
    "obj_goal = Mesh(world.vis, \"obj_goal\", \n",
    "                \"./sdf_world/assets/object/mesh.obj\",\n",
    "                color=\"green\", alpha=0.5)"
   ]
  },
  {
   "cell_type": "code",
   "execution_count": 142,
   "metadata": {},
   "outputs": [],
   "source": [
    "table_start.set_translate([0.5, -0.3, 0.2/2])\n",
    "table_goal.set_translate([0.5, 0.3, 0.2/2])\n",
    "obj_lengths = obj_start.mesh.bounding_box.primitive.extents\n",
    "obj_start.set_translate([0.5, -0.3, obj_lengths[-1]/2+table_lengths[-1]])\n",
    "trans_goal = jnp.array([0.5, 0.3, obj_lengths[-2]/2+table_lengths[-1]])\n",
    "obj_goal_pose = SE3.from_rotation_and_translation(\n",
    "    SO3.from_rpy_radians(jnp.pi/2, 0,0), trans_goal)\n",
    "obj_goal.set_pose(obj_goal_pose)"
   ]
  },
  {
   "cell_type": "code",
   "execution_count": 143,
   "metadata": {},
   "outputs": [],
   "source": [
    "#visualization\n",
    "pc_hand = PointCloud(world.vis, \"hand_pc\", np.zeros((100,3)), color=\"red\", size=0.01)"
   ]
  },
  {
   "cell_type": "code",
   "execution_count": 144,
   "metadata": {},
   "outputs": [],
   "source": [
    "to_posevec = lambda x: jnp.hstack([x[4:], SO3(x[:4]).log()])\n",
    "to_wxyzxyz = lambda x: jnp.hstack([SO3.exp(x[3:]).parameters(), x[:3]])\n",
    "\n",
    "# constants\n",
    "hand_pc = hand.get_surface_points_fn(jnp.array([0.04, 0.04]))\n",
    "hand_pose_wrt_ee = SE3.from_translation(jnp.array([0,0,-0.105]))\n",
    "ws_lb = np.array([-1,-1,-0.5, -np.pi, -np.pi, -np.pi])\n",
    "ws_ub = np.array([1,1,1.5, np.pi, np.pi, np.pi])\n",
    "obj_start_posevec = to_posevec(obj_start.pose.parameters())\n",
    "obj_goal_posevec = to_posevec(obj_goal.pose.parameters())\n",
    "\n",
    "# prepare functions\n",
    "env = SDFContainer([table_start, table_goal], 0.05)\n",
    "def grasp_reconst(grasp:Array):\n",
    "    rot = SO3(grasp_fn(grasp)[2:]).normalize()\n",
    "    trans = grasp/restored_grasp[\"scale_to_norm\"]\n",
    "    return SE3.from_rotation_and_translation(rot, trans)\n",
    "\n",
    "@jax.jit\n",
    "def get_hand_pc(grasp, posevec):\n",
    "    grasp_pose = grasp_reconst(grasp)\n",
    "    hand_base_pose_wrt_world = SE3(to_wxyzxyz(posevec)) @ grasp_pose @ hand_pose_wrt_ee\n",
    "    assigned_hand_pc = jax.vmap(hand_base_pose_wrt_world.apply)(hand_pc)\n",
    "    return assigned_hand_pc\n",
    "\n",
    "#constr fns\n",
    "def grasp_cfn(grasp):\n",
    "    return grasp_logit_fn(grasp)\n",
    "jac_grasp_cfn = jax.grad(grasp_cfn, argnums=[0])\n",
    "\n",
    "def manip_constr_fn(grasp, posevec):\n",
    "    obj_pose = SE3(to_wxyzxyz(posevec))\n",
    "    grasp_pose = obj_pose @ grasp_reconst(grasp)\n",
    "    zflip = SE3.from_rotation(SO3.from_z_radians(jnp.pi))\n",
    "    grasp_pose_flip = grasp_pose @ zflip\n",
    "    posevecs = [to_posevec(pose.parameters()) for pose in [grasp_pose, grasp_pose_flip]]\n",
    "    return jax.vmap(manip_fn)(jnp.vstack(posevecs)).max()\n",
    "jac_manip_constr_fn = jax.grad(manip_constr_fn, argnums=[0,1])\n",
    "\n",
    "# manip_cfn_start = partial(manip_constr_fn,\n",
    "#                           posevec=obj_start_posevec)\n",
    "# jac_manip_cfn_start = jax.grad(manip_cfn_start, argnums=[0])\n",
    "# manip_cfn_goal = partial(manip_constr_fn, \n",
    "#                             posevec=obj_goal_posevec)\n",
    "# jac_manip_cfn_goal = jax.grad(manip_cfn_goal, argnums=[0])\n",
    "\n",
    "#TODO is it necessary to define 4dim distance constr?\n",
    "def _dist_cfn(g1, posevec1, posevec2):\n",
    "    obj_poses = jnp.vstack([posevec1, posevec2])\n",
    "    pcs = jax.vmap(get_hand_pc, (None,0))(g1, obj_poses)\n",
    "    distances = env.distances(jnp.vstack(pcs)).reshape(2, -1)\n",
    "    # top4_indices = jnp.argpartition(distances, 1)[:1]\n",
    "    return distances.min(axis=-1)\n",
    "dist_cfn = partial(_dist_cfn, posevec1=obj_start_posevec, posevec2=obj_goal_posevec)\n",
    "jac_dist_cfn = lambda grasp: [jax.jacrev(dist_cfn)(grasp)]\n"
   ]
  },
  {
   "cell_type": "code",
   "execution_count": 146,
   "metadata": {},
   "outputs": [],
   "source": [
    "bdr = SparseIPOPT()\n",
    "bdr.add_variable(\"g_pick\", 3, -1., 1.)\n",
    "bdr.add_parameter(\"p_start\", 6)\n",
    "bdr.add_parameter(\"p_goal\", 6)\n",
    "\n",
    "def debug_callback(x_dict):\n",
    "    grasp = x_dict[\"g_pick\"]\n",
    "    p_start = x_dict[\"p_start\"]\n",
    "    p_goal = x_dict[\"p_goal\"]\n",
    "    posevecs = jnp.vstack([p_start, p_goal])\n",
    "    points = jax.vmap(get_hand_pc, in_axes=(None,0))(grasp, posevecs)\n",
    "    pc_hand.reload(points=np.vstack(points))\n",
    "bdr.set_debug_callback(debug_callback)\n",
    "\n",
    "bdr.register_fn(\"grasp_logit_fn\", [3], 1,\n",
    "                          grasp_cfn, jac_grasp_cfn)\n",
    "bdr.register_fn(\"manip_fn\", [3, 6], 1,\n",
    "                          manip_constr_fn, jac_manip_constr_fn)\n",
    "bdr.register_fn(\"dist_fn\", [3], 2,\n",
    "                          dist_cfn, jac_dist_cfn)\n",
    "\n",
    "bdr.set_constr(\"grasp_prob_pick\", \"grasp_logit_fn\", [\"g_pick\"], \n",
    "                   1., np.inf)\n",
    "bdr.set_constr(\"manip_pick\", \"manip_fn\", [\"g_pick\", \"p_start\"],\n",
    "                   0.3, np.inf)\n",
    "bdr.set_constr(\"manip_place\", \"manip_fn\", [\"g_pick\", \"p_goal\"],\n",
    "                   0.3, np.inf)\n",
    "bdr.set_constr(\"dist\", \"dist_fn\", [\"g_pick\"], \n",
    "                   0.05, np.inf)"
   ]
  },
  {
   "cell_type": "code",
   "execution_count": 147,
   "metadata": {},
   "outputs": [
    {
     "name": "stdout",
     "output_type": "stream",
     "text": [
      "compiling objective ...\n",
      "compiling gradient ...\n",
      "compiling constraints ...\n",
      "compiling jacobian ...\n",
      "o o o - - - - - - - - - - - - \n",
      "o o o - - - - - - - - - - - - \n",
      "o o o - - - - - - - - - - - - \n",
      "o o o - - - - - - - - - - - - \n",
      "o o o - - - - - - - - - - - - \n"
     ]
    }
   ],
   "source": [
    "ipopt = bdr.build()"
   ]
  },
  {
   "cell_type": "code",
   "execution_count": 148,
   "metadata": {},
   "outputs": [],
   "source": [
    "obj_start_posevec2 = obj_start_posevec+ np.array([0., 0., 0.0, 0., 0., 0.])\n",
    "obj_goal_posevec2 = obj_goal_posevec+ np.array([0., 0., 0.1, 0., 0., 0.])"
   ]
  },
  {
   "cell_type": "code",
   "execution_count": 149,
   "metadata": {},
   "outputs": [
    {
     "name": "stdout",
     "output_type": "stream",
     "text": [
      "This is Ipopt version 3.14.10, running with linear solver MUMPS 5.2.1.\n",
      "\n",
      "Number of nonzeros in equality constraint Jacobian...:        0\n",
      "Number of nonzeros in inequality constraint Jacobian.:       15\n",
      "Number of nonzeros in Lagrangian Hessian.............:        0\n",
      "\n",
      "Total number of variables............................:       15\n",
      "                     variables with only lower bounds:        0\n",
      "                variables with lower and upper bounds:        3\n",
      "                     variables with only upper bounds:        0\n",
      "Total number of equality constraints.................:        0\n",
      "Total number of inequality constraints...............:        5\n",
      "        inequality constraints with only lower bounds:        5\n",
      "   inequality constraints with lower and upper bounds:        0\n",
      "        inequality constraints with only upper bounds:        0\n",
      "\n",
      "iter    objective    inf_pr   inf_du lg(mu)  ||d||  lg(rg) alpha_du alpha_pr  ls\n",
      "   0  0.0000000e+00 1.39e+02 1.01e+00   0.0 0.00e+00    -  0.00e+00 0.00e+00   0\n",
      "   1  0.0000000e+00 3.84e+01 2.26e+00  -0.6 4.77e-01    -  6.84e-01 1.00e+00f  1\n",
      "   2  0.0000000e+00 1.98e+01 9.18e-01  -0.9 3.78e-01    -  9.35e-01 1.00e+00h  1\n",
      "   3  0.0000000e+00 8.57e+00 2.75e-01  -1.5 1.29e+00    -  9.56e-01 1.00e+00h  1\n",
      "   4  0.0000000e+00 0.00e+00 4.35e-02  -2.1 2.03e+00    -  1.00e+00 1.00e+00h  1\n",
      "   5  0.0000000e+00 7.24e-01 9.42e-02  -3.8 2.71e+00    -  9.92e-01 1.00e+00h  1\n",
      "   6  0.0000000e+00 0.00e+00 2.29e-02  -5.2 5.36e-01    -  1.00e+00 1.00e+00h  1\n",
      "   7  0.0000000e+00 0.00e+00 1.72e-03  -6.6 5.41e-02    -  1.00e+00 1.00e+00h  1\n",
      "\n",
      "Number of Iterations....: 7\n",
      "\n",
      "                                   (scaled)                 (unscaled)\n",
      "Objective...............:   0.0000000000000000e+00    0.0000000000000000e+00\n",
      "Dual infeasibility......:   1.7167909056146514e-03    1.7167909056146514e-03\n",
      "Constraint violation....:   0.0000000000000000e+00    0.0000000000000000e+00\n",
      "Variable bound violation:   0.0000000000000000e+00    0.0000000000000000e+00\n",
      "Complementarity.........:   1.8308661654849364e-05    1.8308661654849364e-05\n",
      "Overall NLP error.......:   1.7167909056146514e-03    1.7167909056146514e-03\n",
      "\n",
      "\n",
      "Number of objective function evaluations             = 8\n",
      "Number of objective gradient evaluations             = 8\n",
      "Number of equality constraint evaluations            = 0\n",
      "Number of inequality constraint evaluations          = 8\n",
      "Number of equality constraint Jacobian evaluations   = 0\n",
      "Number of inequality constraint Jacobian evaluations = 8\n",
      "Number of Lagrangian Hessian evaluations             = 0\n",
      "Total seconds in IPOPT                               = 0.063\n",
      "\n",
      "EXIT: Solved To Acceptable Level.\n"
     ]
    }
   ],
   "source": [
    "xinit = jnp.hstack([np.random.uniform(-1,1,size=3), obj_start_posevec2, obj_goal_posevec2])\n",
    "xsol, info = ipopt.solve(xinit)"
   ]
  },
  {
   "cell_type": "code",
   "execution_count": 112,
   "metadata": {},
   "outputs": [
    {
     "data": {
      "text/plain": [
       "array([-0.05837939,  0.58290226,  0.06873965,  0.5       , -0.30000001,\n",
       "        0.60668558,  0.        ,  0.        ,  0.        ,  0.5       ,\n",
       "        0.30000001,  0.2820971 ,  1.57079637,  0.        ,  0.        ])"
      ]
     },
     "execution_count": 112,
     "metadata": {},
     "output_type": "execute_result"
    }
   ],
   "source": [
    "xsol"
   ]
  },
  {
   "cell_type": "code",
   "execution_count": 649,
   "metadata": {},
   "outputs": [],
   "source": [
    "@jax.jit\n",
    "def get_ee_fk_jac(q):\n",
    "    # outputs ee_pose and geometric jacobian\n",
    "    fks = panda_model.fk_fn(q)\n",
    "    ee = SE3(fks[-1])\n",
    "    p_ee = fks[-1][-3:]\n",
    "    jac = []\n",
    "    for posevec in fks[1:8]:\n",
    "        p_frame = posevec[-3:]\n",
    "        rot_axis = SE3(posevec).as_matrix()[:3, 2]\n",
    "        lin_vel = jnp.cross(rot_axis, p_ee - p_frame)\n",
    "        jac.append(jnp.hstack([lin_vel, rot_axis]))\n",
    "    jac = jnp.array(jac).T #geometric jacobian\n",
    "    return ee, jac\n",
    "\n",
    "# Kinematics\n",
    "def get_rotvec_angvel_map(v):\n",
    "    def skew(v):\n",
    "        v1, v2, v3 = v\n",
    "        return jnp.array([[0, -v3, v2],\n",
    "                        [v3, 0., -v1],\n",
    "                        [-v2, v1, 0.]])\n",
    "    def identity(v, vmag):\n",
    "        return np.eye(3)\n",
    "    def angvel_to_ecvel(v, vmag):\n",
    "        vskew = skew(v)\n",
    "        term3 = vskew@vskew * 1/vmag**2 * (1-vmag/2 * jnp.sin(vmag)/(1-jnp.cos(vmag)))\n",
    "        return jnp.eye(3) - 1/2*skew(v) + term3\n",
    "    vmag = jnp.linalg.norm(v)\n",
    "    return jax.lax.cond(vmag < 1e-3, identity, angvel_to_ecvel, v, vmag)\n",
    "\n",
    "def kin_error_fn(q, grasp, p_obj):\n",
    "    obj_pose = SE3(to_wxyzxyz(p_obj))\n",
    "    target_pose = obj_pose @ grasp_reconst(grasp)\n",
    "    ee_pose, _ = get_ee_fk_jac(q)\n",
    "    # represented in body\n",
    "    R_ee = ee_pose.rotation().as_matrix()\n",
    "    err_pos = R_ee.T@(target_pose.translation() - ee_pose.translation())\n",
    "    err_rot = ee_pose.rotation().inverse() @ target_pose.rotation()\n",
    "    err = jnp.hstack([err_pos, err_rot.log()])\n",
    "    return err\n",
    "\n",
    "def jac_kin_error_fn(q, grasp, p_obj):\n",
    "    ee_pose, geom_jac = get_ee_fk_jac(q)\n",
    "    obj_pose = SE3(to_wxyzxyz(p_obj))\n",
    "    target_pose = obj_pose @ grasp_reconst(grasp)\n",
    "    err_rot = ee_pose.rotation().inverse() @ target_pose.rotation()\n",
    "    R_ee = ee_pose.rotation().as_matrix()\n",
    "    B = get_rotvec_angvel_map(err_rot.log())\n",
    "    jac_pos = - R_ee.T @ geom_jac[:3]\n",
    "    jac_rot = - B @ R_ee.T @ geom_jac[3:]\n",
    "    jac = jnp.vstack([jac_pos, jac_rot])\n",
    "    return jac\n",
    "\n",
    "def travelled_distance(*qs):\n",
    "    qs_mat = jnp.vstack([panda.neutral, *qs, panda.neutral])\n",
    "    qdiff = qs_mat[1:] - qs_mat[:-1]\n",
    "    return 0.5*jnp.sum(qdiff.flatten() ** 2)\n",
    "\n",
    "# def debug_callback(x_dict):\n",
    "#     q = x_dict[\"q_pick\"]\n",
    "#     panda.set_joint_angles(q)\n",
    "#     time.sleep(0.5)"
   ]
  },
  {
   "cell_type": "code",
   "execution_count": 682,
   "metadata": {},
   "outputs": [],
   "source": [
    "num_mid_configs = 4\n",
    "num_traj = 2 + num_mid_configs*3\n",
    "idx_pick = num_mid_configs\n",
    "idx_place = 2*num_mid_configs + 1\n",
    "qs = [panda.get_random_config() for i in range(num_traj)]\n",
    "def jac_travelled_distance(*qs):\n",
    "    return [jax.grad(travelled_distance, argnums=i)(*qs) for i in range(num_traj)]"
   ]
  },
  {
   "cell_type": "code",
   "execution_count": 734,
   "metadata": {},
   "outputs": [],
   "source": [
    "fks = panda_model.fk_fn(q)"
   ]
  },
  {
   "cell_type": "code",
   "execution_count": 737,
   "metadata": {},
   "outputs": [],
   "source": [
    "point = fks[-1][-3:]\n",
    "joint_frames = fks[1:8]\n",
    "link_idx = 5 #index starts from 0 (base)"
   ]
  },
  {
   "cell_type": "code",
   "execution_count": 780,
   "metadata": {},
   "outputs": [],
   "source": [
    "def point_jacobian(point, link_idx, joint_frames):\n",
    "    def get_lin_vel(target_point, joint_frame):\n",
    "        joint_to_target = target_point - joint_frame[-3:]\n",
    "        rot_axis = SO3(joint_frame[:4]).as_matrix()[:3,2]\n",
    "        return jnp.cross(rot_axis, joint_to_target)\n",
    "    lin_jac = jax.vmap(get_lin_vel, in_axes=(None,0))(point, joint_frames).T\n",
    "    masking = np.tile(np.arange(7),3).reshape(-1,7) + 1\n",
    "    masking = jnp.where(masking > link_idx, 0, 1)\n",
    "    return masking * lin_jac"
   ]
  },
  {
   "cell_type": "code",
   "execution_count": 705,
   "metadata": {},
   "outputs": [],
   "source": [
    "num_robot_points = 200\n",
    "num_link_points = 20\n",
    "safe_dist = 0.05\n",
    "\n",
    "def point_jacobian(point, link_idx, joint_frames):\n",
    "    def get_lin_vel(target_point, joint_frame):\n",
    "        joint_to_target = target_point - joint_frame[-3:]\n",
    "        rot_axis = SO3(joint_frame[:4]).as_matrix()[:3,2]\n",
    "        return jnp.cross(rot_axis, joint_to_target)\n",
    "    lin_jac = jax.vmap(get_lin_vel, in_axes=(None,0))(point, joint_frames).T\n",
    "    masking = np.tile(np.arange(7),3).reshape(-1,7) + 1\n",
    "    masking = jnp.where(masking > link_idx, 0, 1)\n",
    "    return masking * lin_jac\n",
    "\n",
    "#get links_points_mat\n",
    "links_points_mat = []\n",
    "for link in panda_model.links.values():\n",
    "    if not link.has_mesh: continue\n",
    "    if not panda_model.is_floating and link == panda_model.root_link: continue\n",
    "    links_points_mat.append(link.surface_points)\n",
    "links_points_mat = np.array(links_points_mat)\n",
    "fk_assign = lambda wxyzxyz, link_points: jax.vmap(SE3(wxyzxyz).apply)(link_points)\n",
    "\n",
    "@jax.jit\n",
    "def get_distance(q):\n",
    "    def no_col(point, link_idx, fks):\n",
    "        return np.zeros(7)\n",
    "    def col(point, link_idx, joint_frames):\n",
    "        jac_point = point_jacobian(point, link_idx, joint_frames)\n",
    "        repulsive_grad = jax.grad(env.distance)(point)\n",
    "        return repulsive_grad @ jac_point\n",
    "    \n",
    "    fks = panda_model.fk_fn(q)\n",
    "    joint_frames = fks[1:8]\n",
    "    assigned_points = jax.vmap(fk_assign)(fks[1:-1], links_points_mat)\n",
    "    distances = jax.vmap(env.distances)(assigned_points)\n",
    "    link_idx, point_idx = jnp.unravel_index(\n",
    "        distances.argmin(), distances.shape)\n",
    "    point = assigned_points[link_idx, point_idx]\n",
    "    min_dist = distances[link_idx, point_idx] - safe_dist\n",
    "    is_penet = min_dist < 0.\n",
    "    penet = jnp.where(is_penet, min_dist, 0.)\n",
    "    jac = jax.lax.cond(is_penet, col, no_col, point, link_idx, fks)\n",
    "    return penet, jac"
   ]
  },
  {
   "cell_type": "code",
   "execution_count": 795,
   "metadata": {},
   "outputs": [],
   "source": [
    "def distance_fn(q):\n",
    "    fks = panda_model.fk_fn(q)\n",
    "    link_frames = fks[1:-1]\n",
    "    assigned_points = jax.vmap(fk_assign)(link_frames, links_points_mat)\n",
    "    distances = env.distances(jnp.vstack(assigned_points))\n",
    "    min_distance = distances.min() - safe_dist\n",
    "    return jnp.where(min_distance < 0., min_distance, 0.)\n",
    "\n",
    "def jac_distance_fn(q):\n",
    "    fks = panda_model.fk_fn(q)\n",
    "    joint_frames = fks[1:8]\n",
    "    assigned_points = jax.vmap(fk_assign)(fks[1:-1], links_points_mat)\n",
    "    distances = env.distances(jnp.vstack(assigned_points)).reshape(10,-1)\n",
    "    idx_link, idx_point = jnp.unravel_index(distances.argmin(), distances.shape)\n",
    "    min_point = assigned_points[idx_link, idx_point, :]\n",
    "    jac_point = jax.lax.cond(distances.min() < safe_dist, \n",
    "                point_jacobian, lambda x,y,z :np.zeros((3,7)), min_point, idx_link, joint_frames)\n",
    "    repulsive_grad = jax.grad(env.distance)(min_point)\n",
    "    return repulsive_grad @ jac_point"
   ]
  },
  {
   "cell_type": "code",
   "execution_count": 801,
   "metadata": {},
   "outputs": [
    {
     "name": "stdout",
     "output_type": "stream",
     "text": [
      "-0.082056075\n",
      "[-0.65396947 -0.11670688 -0.21286523 -0.36249185 -0.15967956  0.06131834\n",
      " -0.02420784]\n"
     ]
    }
   ],
   "source": [
    "q = panda.get_random_config()\n",
    "print(distance_fn(q))\n",
    "print(jac_distance_fn(q))\n",
    "panda.set_joint_angles(q)"
   ]
  },
  {
   "cell_type": "code",
   "execution_count": 817,
   "metadata": {},
   "outputs": [],
   "source": [
    "p = jac_distance_fn(q)"
   ]
  },
  {
   "cell_type": "code",
   "execution_count": 821,
   "metadata": {},
   "outputs": [],
   "source": [
    "panda.set_joint_angles(q+p*0.2)"
   ]
  },
  {
   "cell_type": "code",
   "execution_count": 783,
   "metadata": {},
   "outputs": [
    {
     "data": {
      "text/plain": [
       "Array([ 0.05505148, -0.02312517,  0.23556668], dtype=float32)"
      ]
     },
     "execution_count": 783,
     "metadata": {},
     "output_type": "execute_result"
    }
   ],
   "source": [
    "min_point"
   ]
  },
  {
   "cell_type": "code",
   "execution_count": 732,
   "metadata": {},
   "outputs": [
    {
     "data": {
      "text/plain": [
       "Array([ 0.05505148, -0.02312517,  0.23556668], dtype=float32)"
      ]
     },
     "execution_count": 732,
     "metadata": {},
     "output_type": "execute_result"
    }
   ],
   "source": []
  },
  {
   "cell_type": "code",
   "execution_count": 728,
   "metadata": {},
   "outputs": [
    {
     "data": {
      "text/plain": [
       "Array([[0.3117254 , 0.31055614, 0.34238088, 0.2786736 , 0.39402267,\n",
       "        0.26430878, 0.36405295, 0.26162234, 0.3626349 , 0.3551146 ,\n",
       "        0.33446103, 0.2652848 , 0.29746625, 0.37432685, 0.37087482,\n",
       "        0.27892295, 0.3393221 , 0.2820959 , 0.25918046, 0.35224268],\n",
       "       [0.32526854, 0.47191682, 0.352341  , 0.36099726, 0.42293075,\n",
       "        0.32136983, 0.45327535, 0.3808206 , 0.3142373 , 0.38473314,\n",
       "        0.42135528, 0.28267846, 0.4166375 , 0.42346215, 0.3649975 ,\n",
       "        0.35117   , 0.38716203, 0.28573707, 0.33924487, 0.4768054 ],\n",
       "       [0.44682345, 0.4818144 , 0.54184407, 0.48670498, 0.42681915,\n",
       "        0.53986657, 0.54020506, 0.47823602, 0.54100335, 0.5017965 ,\n",
       "        0.48321864, 0.42773756, 0.5406214 , 0.48008537, 0.48298666,\n",
       "        0.5560313 , 0.43863133, 0.47832033, 0.4439269 , 0.5434081 ],\n",
       "       [0.48520607, 0.5169513 , 0.60584164, 0.46079126, 0.54102826,\n",
       "        0.5778429 , 0.56102276, 0.5639171 , 0.45859742, 0.5272784 ,\n",
       "        0.5114207 , 0.51572883, 0.5799139 , 0.5819558 , 0.509473  ,\n",
       "        0.45711887, 0.47630557, 0.50836927, 0.6050572 , 0.55407226],\n",
       "       [0.5706162 , 0.5242483 , 0.51019824, 0.50460315, 0.581114  ,\n",
       "        0.5814098 , 0.5472679 , 0.5818493 , 0.48240933, 0.48947605,\n",
       "        0.5000405 , 0.58677626, 0.48213893, 0.57764125, 0.58365476,\n",
       "        0.49573404, 0.48879513, 0.5825729 , 0.51291424, 0.5274386 ],\n",
       "       [0.5126634 , 0.5422726 , 0.63018155, 0.5698326 , 0.54110646,\n",
       "        0.49289313, 0.5848197 , 0.6248596 , 0.523184  , 0.5912045 ,\n",
       "        0.52874583, 0.569705  , 0.53355664, 0.5076    , 0.5251344 ,\n",
       "        0.58706194, 0.62901556, 0.49994355, 0.5880242 , 0.5679729 ],\n",
       "       [0.48003903, 0.50250185, 0.5028535 , 0.5212339 , 0.4583871 ,\n",
       "        0.47694242, 0.46774405, 0.5071194 , 0.52345484, 0.488793  ,\n",
       "        0.46492985, 0.5164446 , 0.4623859 , 0.4857579 , 0.5043745 ,\n",
       "        0.5045655 , 0.51491195, 0.4683091 , 0.47172862, 0.4777257 ],\n",
       "       [0.44209448, 0.38110182, 0.41910174, 0.47086155, 0.40292028,\n",
       "        0.48581794, 0.46682683, 0.43198016, 0.41612956, 0.45091867,\n",
       "        0.43093026, 0.43379784, 0.47732708, 0.40152928, 0.4048435 ,\n",
       "        0.4670476 , 0.48403212, 0.42211974, 0.38312426, 0.4584076 ],\n",
       "       [0.3620281 , 0.41588703, 0.38920787, 0.38849416, 0.4081739 ,\n",
       "        0.39767146, 0.37924778, 0.40801123, 0.37657285, 0.36856532,\n",
       "        0.3953964 , 0.3759565 , 0.40125963, 0.36495438, 0.41291666,\n",
       "        0.41090637, 0.38855213, 0.4010002 , 0.36561763, 0.38615456],\n",
       "       [0.38731876, 0.36196065, 0.41055292, 0.38102838, 0.36583748,\n",
       "        0.39152426, 0.40227178, 0.4065221 , 0.37654635, 0.3867334 ,\n",
       "        0.36366314, 0.39624518, 0.38081777, 0.37734604, 0.40112096,\n",
       "        0.35677606, 0.36358732, 0.40416098, 0.4006568 , 0.3710711 ]],      dtype=float32)"
      ]
     },
     "execution_count": 728,
     "metadata": {},
     "output_type": "execute_result"
    }
   ],
   "source": [
    "distances"
   ]
  },
  {
   "cell_type": "code",
   "execution_count": 722,
   "metadata": {},
   "outputs": [
    {
     "data": {
      "text/plain": [
       "Array([0.25918046, 0.28267846, 0.42681915, 0.45711887, 0.48213893,\n",
       "       0.49289313, 0.4583871 , 0.38110182, 0.3620281 , 0.35677606],      dtype=float32)"
      ]
     },
     "execution_count": 722,
     "metadata": {},
     "output_type": "execute_result"
    }
   ],
   "source": [
    "link_min_distances"
   ]
  },
  {
   "cell_type": "code",
   "execution_count": 719,
   "metadata": {},
   "outputs": [
    {
     "data": {
      "text/plain": [
       "Array([0.25918046, 0.28267846, 0.42681915, 0.45711887, 0.48213893,\n",
       "       0.49289313, 0.4583871 , 0.38110182, 0.3620281 , 0.35677606],      dtype=float32)"
      ]
     },
     "execution_count": 719,
     "metadata": {},
     "output_type": "execute_result"
    }
   ],
   "source": [
    "min_dist_link_idx = link_min_distances.argmin()"
   ]
  },
  {
   "cell_type": "code",
   "execution_count": 718,
   "metadata": {},
   "outputs": [
    {
     "data": {
      "text/plain": [
       "Array(0, dtype=int32)"
      ]
     },
     "execution_count": 718,
     "metadata": {},
     "output_type": "execute_result"
    }
   ],
   "source": [
    "link_min_distances.argmin()"
   ]
  },
  {
   "cell_type": "code",
   "execution_count": 683,
   "metadata": {},
   "outputs": [],
   "source": [
    "#functions\n",
    "kin_error_fn_start = partial(kin_error_fn, grasp=xsol, p_obj=obj_start_posevec)\n",
    "jac_kin_error_fn_start = partial(jac_kin_error_fn, grasp=xsol, p_obj=obj_start_posevec)\n",
    "kin_error_fn_goal = partial(kin_error_fn, grasp=xsol, p_obj=obj_goal_posevec)\n",
    "jac_kin_error_fn_goal = partial(jac_kin_error_fn, grasp=xsol, p_obj=obj_goal_posevec)"
   ]
  },
  {
   "cell_type": "code",
   "execution_count": 684,
   "metadata": {},
   "outputs": [],
   "source": [
    "bdr = SparseIPOPT()\n",
    "q_names = []\n",
    "for i in range(num_traj):\n",
    "    q_name = f\"q{i}\"\n",
    "    bdr.add_variable(q_name, 7, panda.lb, panda.ub)\n",
    "    q_names.append(q_name)\n",
    "\n",
    "\n",
    "bdr.register_fn(\"kin_err_start\", [7], 6,\n",
    "                          kin_error_fn_start, jac_kin_error_fn_start)\n",
    "bdr.register_fn(\"kin_err_goal\", [7], 6,\n",
    "                          kin_error_fn_goal, jac_kin_error_fn_goal)\n",
    "bdr.register_fn(\"travelled_distance\", [7]*num_traj, 1,\n",
    "                travelled_distance, jac_travelled_distance)\n",
    "# bdr.register_fn(\"manip_fn_start\", [3], 1,\n",
    "#                           manip_cfn_start, jac_manip_cfn_start)\n",
    "# bdr.register_fn(\"manip_fn_goal\", [3], 1,\n",
    "#                           manip_cfn_goal, jac_manip_cfn_goal)\n",
    "# bdr.register_fn(\"dist_fn\", [3], 2,\n",
    "#                           dist_cfn, jac_dist_cfn)\n",
    "#bdr.set_debug_callback(debug_callback)\n",
    "\n",
    "bdr.set_objective(\"travelled_distance\", q_names)\n",
    "bdr.set_constr(\"kin_err_start\", \"kin_err_start\", [f\"q{idx_pick}\"], \n",
    "                   0., 0.)\n",
    "bdr.set_constr(\"kin_err_goal\", \"kin_err_goal\", [f\"q{idx_place}\"], \n",
    "                   0., 0.)\n",
    "# bdr.set_constr(\"manip_pick\", \"manip_fn_start\", [\"g_pick\"],\n",
    "#                    0.3, np.inf)\n",
    "# bdr.set_constr(\"dist\", \"dist_fn\", [\"g_pick\"], \n",
    "#                    0.05, np.inf)"
   ]
  },
  {
   "cell_type": "code",
   "execution_count": 685,
   "metadata": {},
   "outputs": [
    {
     "name": "stdout",
     "output_type": "stream",
     "text": [
      "compiling objective ...\n",
      "compiling gradient ...\n",
      "compiling constraints ...\n",
      "compiling jacobian ...\n",
      "- - - - - - - - - - - - - - - - - - - - - - - - - - - - o o o o o o o - - - - - - - - - - - - - - - - - - - - - - - - - - - - - - - - - - - - - - - - - - - - - - - - - - - - - - - - - - - - - - - \n",
      "- - - - - - - - - - - - - - - - - - - - - - - - - - - - o o o o o o o - - - - - - - - - - - - - - - - - - - - - - - - - - - - - - - - - - - - - - - - - - - - - - - - - - - - - - - - - - - - - - - \n",
      "- - - - - - - - - - - - - - - - - - - - - - - - - - - - o o o o o o o - - - - - - - - - - - - - - - - - - - - - - - - - - - - - - - - - - - - - - - - - - - - - - - - - - - - - - - - - - - - - - - \n",
      "- - - - - - - - - - - - - - - - - - - - - - - - - - - - o o o o o o o - - - - - - - - - - - - - - - - - - - - - - - - - - - - - - - - - - - - - - - - - - - - - - - - - - - - - - - - - - - - - - - \n",
      "- - - - - - - - - - - - - - - - - - - - - - - - - - - - o o o o o o o - - - - - - - - - - - - - - - - - - - - - - - - - - - - - - - - - - - - - - - - - - - - - - - - - - - - - - - - - - - - - - - \n",
      "- - - - - - - - - - - - - - - - - - - - - - - - - - - - o o o o o o o - - - - - - - - - - - - - - - - - - - - - - - - - - - - - - - - - - - - - - - - - - - - - - - - - - - - - - - - - - - - - - - \n",
      "- - - - - - - - - - - - - - - - - - - - - - - - - - - - - - - - - - - - - - - - - - - - - - - - - - - - - - - - - - - - - - - o o o o o o o - - - - - - - - - - - - - - - - - - - - - - - - - - - - \n",
      "- - - - - - - - - - - - - - - - - - - - - - - - - - - - - - - - - - - - - - - - - - - - - - - - - - - - - - - - - - - - - - - o o o o o o o - - - - - - - - - - - - - - - - - - - - - - - - - - - - \n",
      "- - - - - - - - - - - - - - - - - - - - - - - - - - - - - - - - - - - - - - - - - - - - - - - - - - - - - - - - - - - - - - - o o o o o o o - - - - - - - - - - - - - - - - - - - - - - - - - - - - \n",
      "- - - - - - - - - - - - - - - - - - - - - - - - - - - - - - - - - - - - - - - - - - - - - - - - - - - - - - - - - - - - - - - o o o o o o o - - - - - - - - - - - - - - - - - - - - - - - - - - - - \n",
      "- - - - - - - - - - - - - - - - - - - - - - - - - - - - - - - - - - - - - - - - - - - - - - - - - - - - - - - - - - - - - - - o o o o o o o - - - - - - - - - - - - - - - - - - - - - - - - - - - - \n",
      "- - - - - - - - - - - - - - - - - - - - - - - - - - - - - - - - - - - - - - - - - - - - - - - - - - - - - - - - - - - - - - - o o o o o o o - - - - - - - - - - - - - - - - - - - - - - - - - - - - \n"
     ]
    }
   ],
   "source": [
    "ipopt = bdr.build()"
   ]
  },
  {
   "cell_type": "code",
   "execution_count": 686,
   "metadata": {},
   "outputs": [
    {
     "name": "stdout",
     "output_type": "stream",
     "text": [
      "This is Ipopt version 3.14.10, running with linear solver MUMPS 5.2.1.\n",
      "\n",
      "Number of nonzeros in equality constraint Jacobian...:       84\n",
      "Number of nonzeros in inequality constraint Jacobian.:        0\n",
      "Number of nonzeros in Lagrangian Hessian.............:        0\n",
      "\n",
      "Total number of variables............................:       98\n",
      "                     variables with only lower bounds:        0\n",
      "                variables with lower and upper bounds:       98\n",
      "                     variables with only upper bounds:        0\n",
      "Total number of equality constraints.................:       12\n",
      "Total number of inequality constraints...............:        0\n",
      "        inequality constraints with only lower bounds:        0\n",
      "   inequality constraints with lower and upper bounds:        0\n",
      "        inequality constraints with only upper bounds:        0\n",
      "\n",
      "iter    objective    inf_pr   inf_du lg(mu)  ||d||  lg(rg) alpha_du alpha_pr  ls\n",
      "   0  0.0000000e+00 1.32e+00 0.00e+00   0.0 0.00e+00    -  0.00e+00 0.00e+00   0\n",
      "   1  3.7500110e+00 4.31e-01 2.37e+00  -0.2 1.14e+00    -  8.58e-01 1.00e+00h  1\n",
      "   2  2.4486866e+00 2.05e-01 2.85e+00  -0.8 8.22e-01    -  7.45e-01 1.00e+00f  1\n",
      "   3  1.5483414e+00 4.87e-03 6.82e-01  -1.0 3.36e-01    -  9.76e-01 1.00e+00f  1\n",
      "   4  1.0486840e+00 1.23e-04 3.23e-01  -1.8 3.30e-01    -  9.96e-01 1.00e+00f  1\n",
      "   5  8.2942748e-01 1.36e-04 3.06e-01  -2.7 4.12e-01    -  9.98e-01 1.00e+00f  1\n",
      "   6  6.7818010e-01 1.31e-04 2.76e-01  -3.5 3.64e-01    -  1.00e+00 5.00e-01f  2\n",
      "   7  6.5851760e-01 6.54e-05 1.59e-01  -4.2 1.29e-01    -  1.00e+00 5.00e-01f  2\n",
      "   8  6.5447742e-01 1.76e-06 2.05e-02  -5.5 3.24e-02    -  1.00e+00 1.00e+00h  1\n",
      "   9  6.5475315e-01 1.49e-06 2.00e-02  -7.2 1.29e-02    -  1.00e+00 1.00e+00h  1\n",
      "iter    objective    inf_pr   inf_du lg(mu)  ||d||  lg(rg) alpha_du alpha_pr  ls\n",
      "  10  6.5411961e-01 5.36e-07 6.67e-03  -8.9 7.15e-03    -  1.00e+00 1.00e+00h  1\n",
      "  11  6.5405977e-01 2.53e-07 3.37e-03 -10.7 2.19e-03    -  1.00e+00 1.00e+00h  1\n",
      "  12  6.5394753e-01 1.04e-06 8.28e-03 -11.0 6.88e-03    -  1.00e+00 1.00e+00h  1\n",
      "  13  6.5410864e-01 2.64e-07 1.47e-02 -11.0 1.12e-02    -  1.00e+00 1.00e+00H  1\n",
      "  14  6.5383613e-01 2.98e-07 4.20e-03 -11.0 5.68e-03    -  1.00e+00 1.00e+00h  1\n",
      "  15  6.5379059e-01 2.38e-07 2.43e-03 -11.0 2.14e-03    -  1.00e+00 1.00e+00h  1\n",
      "  16  6.5375787e-01 5.07e-07 1.80e-03 -11.0 2.98e-03    -  1.00e+00 1.00e+00h  1\n",
      "\n",
      "Number of Iterations....: 16\n",
      "\n",
      "                                   (scaled)                 (unscaled)\n",
      "Objective...............:   6.5375787019729614e-01    6.5375787019729614e-01\n",
      "Dual infeasibility......:   1.8004858290767733e-03    1.8004858290767733e-03\n",
      "Constraint violation....:   5.0663953743423917e-07    5.0663953743423917e-07\n",
      "Variable bound violation:   0.0000000000000000e+00    0.0000000000000000e+00\n",
      "Complementarity.........:   9.9999999999997134e-12    9.9999999999997134e-12\n",
      "Overall NLP error.......:   1.8004858290767733e-03    1.8004858290767733e-03\n",
      "\n",
      "\n",
      "Number of objective function evaluations             = 24\n",
      "Number of objective gradient evaluations             = 17\n",
      "Number of equality constraint evaluations            = 24\n",
      "Number of inequality constraint evaluations          = 0\n",
      "Number of equality constraint Jacobian evaluations   = 17\n",
      "Number of inequality constraint Jacobian evaluations = 0\n",
      "Number of Lagrangian Hessian evaluations             = 0\n",
      "Total seconds in IPOPT                               = 0.068\n",
      "\n",
      "EXIT: Solved To Acceptable Level.\n"
     ]
    }
   ],
   "source": [
    "x0 = np.tile(panda.neutral, num_traj)\n",
    "traj, info = ipopt.solve(x0)"
   ]
  },
  {
   "cell_type": "code",
   "execution_count": 688,
   "metadata": {},
   "outputs": [],
   "source": [
    "i = 0"
   ]
  },
  {
   "cell_type": "code",
   "execution_count": 702,
   "metadata": {},
   "outputs": [],
   "source": [
    "panda.set_joint_angles(traj.reshape(-1, 7)[i])\n",
    "i+= 1"
   ]
  },
  {
   "cell_type": "code",
   "execution_count": null,
   "metadata": {},
   "outputs": [],
   "source": []
  },
  {
   "cell_type": "code",
   "execution_count": null,
   "metadata": {},
   "outputs": [],
   "source": []
  },
  {
   "cell_type": "code",
   "execution_count": 291,
   "metadata": {},
   "outputs": [],
   "source": [
    "\n",
    "ws_lb = np.array([-1,-1,-0.5, -np.pi, -np.pi, -np.pi])\n",
    "ws_ub = np.array([1,1,1.5, np.pi, np.pi, np.pi])\n",
    "\n",
    "grasp_fn = lambda g: 0.\n",
    "manip_fn = lambda g, pose: 0.\n",
    "_dist_fn = lambda g1, g2, pose, pose_st, pose_ed: jnp.zeros(4)\n",
    "manip_fn_start = partial(manip_fn, pose=np.zeros(6))\n",
    "manip_fn_goal = partial(manip_fn, pose=np.zeros(6))\n",
    "dist_fn = partial(_dist_fn, pose_st=np.zeros(6), pose_ed=np.zeros(6))\n",
    "\n",
    "jac_grasp_fn = lambda g: [jnp.zeros(3)]\n",
    "jac_manip_fn = lambda g, pose: [jnp.zeros(3), jnp.zeros(6)]\n",
    "jac_manip_fn_start = lambda g: [jnp.zeros(3)]\n",
    "jac_manip_fn_goal = lambda g: [jnp.zeros(3)]\n",
    "jac_dist_fn = lambda g1, g2, pose: [jnp.zeros((4,3)), jnp.zeros((4,3)), jnp.zeros((4,6))]\n",
    "\n",
    "bdr = SparseIPOPT()\n",
    "bdr.add_variable(\"g_pick\", 3, -1., 1.)\n",
    "bdr.add_variable(\"g_place\", 3, -1., 1.)\n",
    "bdr.add_variable(\"p_ho\", 6, ws_lb, ws_ub)\n",
    "\n",
    "bdr.register_fn(\"grasp_logit_fn\", [3], 1,\n",
    "                          grasp_fn, jac_grasp_fn)\n",
    "bdr.register_fn(\"manip_fn\", [3, 6], 1,\n",
    "                          manip_fn, jac_manip_fn)\n",
    "bdr.register_fn(\"manip_fn_start\", [3], 1,\n",
    "                          manip_fn_start, jac_manip_fn_start)\n",
    "bdr.register_fn(\"manip_fn_goal\", [3], 1,\n",
    "                          manip_fn_goal, jac_manip_fn_goal)\n",
    "bdr.register_fn(\"dist_fn\", [3, 3, 6], 4,\n",
    "                          dist_fn, jac_dist_fn)\n",
    "\n",
    "bdr.set_constr(\"grasp_prob_pick\", \"grasp_logit_fn\", [\"g_pick\"], \n",
    "                   1., np.inf)\n",
    "bdr.set_constr(\"grasp_prob_place\", \"grasp_logit_fn\", [\"g_place\"], \n",
    "                   1., np.inf)\n",
    "bdr.set_constr(\"manip_pick\", \"manip_fn_start\", [\"g_pick\"],\n",
    "                   0.3, np.inf)\n",
    "bdr.set_constr(\"manip_place\", \"manip_fn_goal\",[\"g_place\"], \n",
    "                   0.3, np.inf)\n",
    "bdr.set_constr(\"manip_ho_1\", \"manip_fn\", [\"g_pick\", \"p_ho\"], \n",
    "                   0.3, np.inf)\n",
    "bdr.set_constr(\"manip_ho_2\", \"manip_fn\", [\"g_place\", \"p_ho\"], \n",
    "                   0.3, np.inf)\n",
    "bdr.set_constr(\"dist\", \"dist_fn\", [\"g_pick\", \"g_place\", \"p_ho\"], \n",
    "                   0.05, np.inf)"
   ]
  },
  {
   "cell_type": "code",
   "execution_count": 292,
   "metadata": {},
   "outputs": [
    {
     "name": "stdout",
     "output_type": "stream",
     "text": [
      "compiling objective ...\n",
      "compiling gradient ...\n",
      "compiling constraints ...\n",
      "compiling jacobian ...\n",
      "o o o - - - - - - - - - \n",
      "- - - o o o - - - - - - \n",
      "o o o - - - - - - - - - \n",
      "- - - o o o - - - - - - \n",
      "o o o - - - o o o o o o \n",
      "- - - o o o o o o o o o \n",
      "o o o o o o o o o o o o \n",
      "o o o o o o o o o o o o \n",
      "o o o o o o o o o o o o \n",
      "o o o o o o o o o o o o \n"
     ]
    },
    {
     "data": {
      "text/plain": [
       "<ipopt_wrapper.Problem at 0x7f6ecc6ee1c0>"
      ]
     },
     "execution_count": 292,
     "metadata": {},
     "output_type": "execute_result"
    }
   ],
   "source": [
    "bdr.build()"
   ]
  },
  {
   "cell_type": "code",
   "execution_count": null,
   "metadata": {},
   "outputs": [],
   "source": []
  },
  {
   "cell_type": "code",
   "execution_count": 283,
   "metadata": {},
   "outputs": [],
   "source": [
    "obj = bdr.get_objective_fn()\n",
    "grad = bdr.get_gradient_fn()\n",
    "constr = bdr.get_constraint_fn()\n",
    "jac = bdr.get_jacobian_fn()"
   ]
  },
  {
   "cell_type": "code",
   "execution_count": 284,
   "metadata": {},
   "outputs": [
    {
     "name": "stdout",
     "output_type": "stream",
     "text": [
      "17.1 µs ± 606 ns per loop (mean ± std. dev. of 7 runs, 100,000 loops each)\n"
     ]
    }
   ],
   "source": [
    "%timeit constr(x)"
   ]
  },
  {
   "cell_type": "code",
   "execution_count": 255,
   "metadata": {},
   "outputs": [
    {
     "data": {
      "text/plain": [
       "Array(0., dtype=float32)"
      ]
     },
     "execution_count": 255,
     "metadata": {},
     "output_type": "execute_result"
    }
   ],
   "source": [
    "obj(x)"
   ]
  },
  {
   "cell_type": "code",
   "execution_count": 257,
   "metadata": {},
   "outputs": [
    {
     "name": "stdout",
     "output_type": "stream",
     "text": [
      "208 µs ± 1.82 µs per loop (mean ± std. dev. of 7 runs, 1,000 loops each)\n"
     ]
    }
   ],
   "source": [
    "%timeit obj(x)"
   ]
  },
  {
   "cell_type": "code",
   "execution_count": null,
   "metadata": {},
   "outputs": [],
   "source": []
  },
  {
   "cell_type": "code",
   "execution_count": 217,
   "metadata": {},
   "outputs": [],
   "source": [
    "jac = bdr.get_jacobian_fn()"
   ]
  },
  {
   "cell_type": "code",
   "execution_count": 218,
   "metadata": {},
   "outputs": [
    {
     "name": "stdout",
     "output_type": "stream",
     "text": [
      "6.09 ms ± 36.6 µs per loop (mean ± std. dev. of 7 runs, 100 loops each)\n"
     ]
    }
   ],
   "source": [
    "%timeit jac(x)"
   ]
  },
  {
   "cell_type": "code",
   "execution_count": 220,
   "metadata": {},
   "outputs": [],
   "source": [
    "jac = jax.jit(jac)"
   ]
  },
  {
   "cell_type": "code",
   "execution_count": 222,
   "metadata": {},
   "outputs": [
    {
     "name": "stdout",
     "output_type": "stream",
     "text": [
      "16.9 µs ± 59.1 ns per loop (mean ± std. dev. of 7 runs, 100,000 loops each)\n"
     ]
    }
   ],
   "source": [
    "%timeit jac(x)"
   ]
  },
  {
   "cell_type": "code",
   "execution_count": 185,
   "metadata": {},
   "outputs": [],
   "source": [
    "x = np.arange(bdr.xdim)"
   ]
  },
  {
   "cell_type": "code",
   "execution_count": 120,
   "metadata": {},
   "outputs": [],
   "source": [
    "def constraints(x):\n",
    "    xs = {var.name:x[var.coord] for var in bdr.x_info.values()}\n",
    "    result = []\n",
    "    for constr in bdr.c_info.values():\n",
    "        fn_input = [xs[var.name] for var in constr.inputs]    \n",
    "        out = constr.fn.eval_fn(*fn_input)\n",
    "        result.append(out)\n",
    "    return np.hstack(result)"
   ]
  },
  {
   "cell_type": "code",
   "execution_count": 153,
   "metadata": {},
   "outputs": [],
   "source": [
    "def jacobian(x):\n",
    "    xs = {var.name:x[var.coord] for var in bdr.x_info.values()}\n",
    "    result = []\n",
    "    for constr in bdr.c_info.values():\n",
    "        fn_input = [xs[var.name] for var in constr.inputs]    \n",
    "        jacs = constr.fn.jac_fn(*fn_input)\n",
    "        for jac in jacs:\n",
    "            result.append(jac.flatten())\n",
    "    return np.hstack(result)"
   ]
  },
  {
   "cell_type": "code",
   "execution_count": 164,
   "metadata": {},
   "outputs": [],
   "source": [
    "def get_jacobian_structure():\n",
    "    rows, cols = [], []\n",
    "    for constr in bdr.c_info.values():\n",
    "        for var in constr.inputs:\n",
    "            row, col = np.indices((constr.dim, var.dim)).reshape(2, -1)\n",
    "            row += constr.coord[0]\n",
    "            col += var.coord[0]\n",
    "            rows.append(row)\n",
    "            cols.append(col)\n",
    "    rows = np.hstack(rows)\n",
    "    cols = np.hstack(cols)\n",
    "    return rows, cols"
   ]
  },
  {
   "cell_type": "code",
   "execution_count": 181,
   "metadata": {},
   "outputs": [],
   "source": [
    "def objective(x):\n",
    "    if \"fn\" in bdr.obj_info: \n",
    "        val = 0. #no objective\n",
    "    else:\n",
    "        xs = {var.name:x[var.coord] for var in bdr.x_info.values()}\n",
    "        fn_input = [xs[var.name] for var in bdr.obj_info[\"inputs\"]]    \n",
    "        val = bdr.obj_info[\"fn\"].eval_fn(*fn_input)\n",
    "    if \"debug_cb\" in bdr.obj_info:\n",
    "            bdr.obj_info[\"debug_cb\"]\n",
    "    return val"
   ]
  },
  {
   "cell_type": "code",
   "execution_count": 180,
   "metadata": {},
   "outputs": [],
   "source": [
    "def gradient(x):\n",
    "    if \"fn\" in bdr.obj_info: \n",
    "        grad = np.zeros(bdr.xdim) #no objective\n",
    "    else:\n",
    "        xs = {var.name:x[var.coord] for var in bdr.x_info.values()}\n",
    "        fn_input = [xs[var.name] for var in bdr.obj_info[\"inputs\"]]    \n",
    "        grad = bdr.obj_info[\"fn\"].jac_fn(*fn_input)\n",
    "    return grad"
   ]
  },
  {
   "cell_type": "code",
   "execution_count": 179,
   "metadata": {},
   "outputs": [
    {
     "data": {
      "text/plain": [
       "[]"
      ]
     },
     "execution_count": 179,
     "metadata": {},
     "output_type": "execute_result"
    }
   ],
   "source": [
    "gradient(x)"
   ]
  },
  {
   "cell_type": "code",
   "execution_count": null,
   "metadata": {},
   "outputs": [],
   "source": []
  },
  {
   "cell_type": "code",
   "execution_count": 138,
   "metadata": {},
   "outputs": [],
   "source": [
    "xdim = constr.inputs[0].dim\n",
    "cdim = constr.dim"
   ]
  },
  {
   "cell_type": "code",
   "execution_count": 143,
   "metadata": {},
   "outputs": [],
   "source": [
    "row, col = np.indices((cdim, xdim)).reshape(2, -1)"
   ]
  },
  {
   "cell_type": "code",
   "execution_count": 147,
   "metadata": {},
   "outputs": [],
   "source": [
    "row = row + constr.coord[0]\n",
    "col = col + constr.inputs[0].coord[0]"
   ]
  },
  {
   "cell_type": "code",
   "execution_count": 148,
   "metadata": {},
   "outputs": [
    {
     "data": {
      "text/plain": [
       "(array([12, 12, 12, 13, 13, 13, 14, 14, 14, 15, 15, 15]),\n",
       " array([0, 1, 2, 0, 1, 2, 0, 1, 2, 0, 1, 2]))"
      ]
     },
     "execution_count": 148,
     "metadata": {},
     "output_type": "execute_result"
    }
   ],
   "source": [
    "row, col"
   ]
  },
  {
   "cell_type": "code",
   "execution_count": 133,
   "metadata": {},
   "outputs": [
    {
     "data": {
      "text/plain": [
       "[Array([[0., 0., 0.],\n",
       "        [0., 0., 0.],\n",
       "        [0., 0., 0.],\n",
       "        [0., 0., 0.]], dtype=float32),\n",
       " Array([[0., 0., 0.],\n",
       "        [0., 0., 0.],\n",
       "        [0., 0., 0.],\n",
       "        [0., 0., 0.]], dtype=float32),\n",
       " Array([[0., 0., 0., 0., 0., 0.],\n",
       "        [0., 0., 0., 0., 0., 0.],\n",
       "        [0., 0., 0., 0., 0., 0.],\n",
       "        [0., 0., 0., 0., 0., 0.]], dtype=float32)]"
      ]
     },
     "execution_count": 133,
     "metadata": {},
     "output_type": "execute_result"
    }
   ],
   "source": []
  },
  {
   "cell_type": "code",
   "execution_count": null,
   "metadata": {},
   "outputs": [],
   "source": []
  },
  {
   "cell_type": "code",
   "execution_count": 47,
   "metadata": {},
   "outputs": [],
   "source": [
    "# jacobian sparsity\n",
    "x_idx = {}\n",
    "x_idx[\"x1\"] = np.arange(0, 3)\n",
    "x_idx[\"x2\"] = np.arange(3, 6)\n",
    "x_idx[\"x3\"] = np.arange(6, 9)\n",
    "\n",
    "constr_idx = {}\n",
    "constr_idx[\"c1\"] = np.arange(0, 3)\n",
    "constr_idx[\"c2\"] = np.arange(3, 6)"
   ]
  },
  {
   "cell_type": "code",
   "execution_count": 33,
   "metadata": {},
   "outputs": [
    {
     "data": {
      "text/plain": [
       "3"
      ]
     },
     "execution_count": 33,
     "metadata": {},
     "output_type": "execute_result"
    }
   ],
   "source": []
  },
  {
   "cell_type": "code",
   "execution_count": null,
   "metadata": {},
   "outputs": [],
   "source": []
  },
  {
   "cell_type": "code",
   "execution_count": 45,
   "metadata": {},
   "outputs": [],
   "source": [
    "rowcol = np.indices((len(x_idx[\"x1\"]), len(constr_idx[\"c1\"]))) "
   ]
  },
  {
   "cell_type": "code",
   "execution_count": 46,
   "metadata": {},
   "outputs": [
    {
     "data": {
      "text/plain": [
       "array([[0, 0, 0, 1, 1, 1, 2, 2, 2],\n",
       "       [0, 1, 2, 0, 1, 2, 0, 1, 2]])"
      ]
     },
     "execution_count": 46,
     "metadata": {},
     "output_type": "execute_result"
    }
   ],
   "source": [
    "rowcol.reshape(2, -1)"
   ]
  },
  {
   "cell_type": "code",
   "execution_count": 44,
   "metadata": {},
   "outputs": [
    {
     "data": {
      "text/plain": [
       "array([[[0, 0, 0],\n",
       "        [1, 1, 1],\n",
       "        [2, 2, 2]],\n",
       "\n",
       "       [[0, 1, 2],\n",
       "        [0, 1, 2],\n",
       "        [0, 1, 2]]])"
      ]
     },
     "execution_count": 44,
     "metadata": {},
     "output_type": "execute_result"
    }
   ],
   "source": [
    "rowcol"
   ]
  },
  {
   "cell_type": "code",
   "execution_count": 26,
   "metadata": {},
   "outputs": [
    {
     "name": "stdout",
     "output_type": "stream",
     "text": [
      "139 ns ± 0.334 ns per loop (mean ± std. dev. of 7 runs, 10,000,000 loops each)\n"
     ]
    }
   ],
   "source": [
    "%timeit x[idx[\"x3\"]]"
   ]
  },
  {
   "cell_type": "code",
   "execution_count": 16,
   "metadata": {},
   "outputs": [
    {
     "data": {
      "text/plain": [
       "array([ 0,  4,  8, 12, 16, 20, 24, 28, 32, 36, 40, 44, 48, 52, 56, 60, 64,\n",
       "       68, 72, 76, 80])"
      ]
     },
     "execution_count": 16,
     "metadata": {},
     "output_type": "execute_result"
    }
   ],
   "source": [
    "x"
   ]
  },
  {
   "cell_type": "code",
   "execution_count": 8,
   "metadata": {},
   "outputs": [
    {
     "data": {
      "text/plain": [
       "1"
      ]
     },
     "execution_count": 8,
     "metadata": {},
     "output_type": "execute_result"
    }
   ],
   "source": [
    "x[x_idx[\"x1\"][0]:]"
   ]
  },
  {
   "cell_type": "code",
   "execution_count": 13,
   "metadata": {},
   "outputs": [],
   "source": [
    "x = np.arange(21) * 4"
   ]
  },
  {
   "cell_type": "code",
   "execution_count": null,
   "metadata": {},
   "outputs": [],
   "source": []
  }
 ],
 "metadata": {
  "kernelspec": {
   "display_name": "cu11",
   "language": "python",
   "name": "python3"
  },
  "language_info": {
   "codemirror_mode": {
    "name": "ipython",
    "version": 3
   },
   "file_extension": ".py",
   "mimetype": "text/x-python",
   "name": "python",
   "nbconvert_exporter": "python",
   "pygments_lexer": "ipython3",
   "version": "3.8.15"
  },
  "orig_nbformat": 4
 },
 "nbformat": 4,
 "nbformat_minor": 2
}
