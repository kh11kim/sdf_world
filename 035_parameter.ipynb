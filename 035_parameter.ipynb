{
 "cells": [
  {
   "cell_type": "code",
   "execution_count": 1,
   "metadata": {},
   "outputs": [],
   "source": [
    "import numpy as np\n",
    "import jax.numpy as jnp\n",
    "import jax\n",
    "import cyipopt\n",
    "\n",
    "from functools import partial\n",
    "from typing import *\n",
    "from dataclasses import dataclass, field\n",
    "from jaxlie import SE3, SO3\n",
    "import jax_dataclasses as jdc\n",
    "\n",
    "from sdf_world.sdf_world import *\n",
    "from sdf_world.robots import *\n",
    "from sdf_world.util import *\n",
    "from sdf_world.network import *\n",
    "from sdf_world.sparse_ipopt import *\n",
    "\n",
    "from flax import linen as nn\n",
    "from flax.training import orbax_utils\n",
    "import orbax\n",
    "import pickle\n",
    "import time"
   ]
  },
  {
   "cell_type": "code",
   "execution_count": 778,
   "metadata": {},
   "outputs": [],
   "source": [
    "@dataclass\n",
    "class Variable:\n",
    "    name: str\n",
    "    coord: np.ndarray\n",
    "    lb: np.ndarray\n",
    "    ub: np.ndarray\n",
    "    \n",
    "    @property\n",
    "    def dim(self): return len(self.coord)\n",
    "\n",
    "@dataclass\n",
    "class Parameter:\n",
    "    name: str\n",
    "    coord: np.ndarray\n",
    "    dim: int\n",
    "\n",
    "    @property\n",
    "    def lb(self): return np.full(self.dim, -np.inf)\n",
    "    @property\n",
    "    def ub(self): return np.full(self.dim, np.inf)\n",
    "\n",
    "@dataclass\n",
    "class Constraint:\n",
    "    name: str\n",
    "    coord: np.ndarray\n",
    "    inputs: List[Variable]\n",
    "    fn: \"Function\"\n",
    "    lb: np.ndarray\n",
    "    ub: np.ndarray\n",
    "    jac_indices: np.ndarray\n",
    "\n",
    "    @property\n",
    "    def dim(self): return len(self.coord)\n",
    "\n",
    "@dataclass\n",
    "class Function:\n",
    "    name: str\n",
    "    in_dims: List[int]\n",
    "    out_dim: int\n",
    "    eval_fn: Callable\n",
    "    jac_fn: Callable\n",
    "    custom_jac_indices: Optional[List[np.ndarray]]\n",
    "    constraints: List[Constraint] = field(default_factory=list)\n",
    "\n",
    "class SparseIPOPT():\n",
    "    def __init__(self):\n",
    "        self.x_info: Dict[str,Variable] = {}\n",
    "        self.c_info: Dict[str,Constraint] = {}\n",
    "        self.fn_info: Dict[str,Function] = {}\n",
    "        self.obj_info: Dict = {}\n",
    "        self.param_info: Dict[str, Array] = {}\n",
    "\n",
    "        self.x_idx, self.c_idx = 0, 0\n",
    "        self.param_info: Dict[str, np.ndarray] = {}\n",
    "\n",
    "    @property\n",
    "    def xdim(self):\n",
    "        return sum([x.dim for x in self.x_info.values()])\n",
    "    @property\n",
    "    def cdim(self):\n",
    "        return sum([c.dim for c in self.c_info.values()])\n",
    "    @property\n",
    "    def input_info(self):\n",
    "        return {**self.x_info, **self.param_info}\n",
    "    \n",
    "    def add_variable(self, name, dim, lb=-np.inf, ub=np.inf):\n",
    "        assert name not in self.x_info\n",
    "        assert isinstance(lb, float) or len(lb) == dim\n",
    "        assert isinstance(ub, float) or len(ub) == dim\n",
    "\n",
    "        if isinstance(lb, float): lb = np.full(dim, lb)\n",
    "        if isinstance(ub, float): ub = np.full(dim, ub)\n",
    "\n",
    "        coord = np.arange(self.x_idx, self.x_idx+dim)\n",
    "        self.x_info[name] = Variable(\n",
    "            name, coord, lb, ub)\n",
    "        \n",
    "        self.x_idx += dim\n",
    "    \n",
    "    def add_parameter(self, name, dim):\n",
    "        assert name not in self.param_info\n",
    "        #TODO: name also should not be in \"variable\"\n",
    "        coord = np.arange(self.x_idx, self.x_idx+dim)\n",
    "        self.x_info[name] = Parameter(name, coord, dim)\n",
    "        self.x_idx += dim\n",
    "    \n",
    "    def set_objective(self, fn_name, input_x_names):\n",
    "        self.obj_info[\"fn\"] = self.fn_info[fn_name]\n",
    "        self.obj_info[\"inputs\"] = [self.x_info[name] for name in input_x_names]\n",
    "    \n",
    "    def set_debug_callback(self, debug_callback:Callable):\n",
    "        self.obj_info[\"debug_cb\"] = debug_callback\n",
    "\n",
    "    def set_constr(self, name, cfn_name, input_x_names, lb, ub):\n",
    "        c_fn = self.fn_info[cfn_name]\n",
    "        cdim = c_fn.out_dim\n",
    "        assert name not in self.c_info\n",
    "        assert isinstance(lb, float) or len(lb) == cdim\n",
    "        assert isinstance(ub, float) or len(ub) == cdim\n",
    "        if isinstance(lb, float): lb = np.full(cdim, lb)\n",
    "        if isinstance(ub, float): ub = np.full(cdim, ub)\n",
    "\n",
    "        vars = [self.x_info[name] for name in input_x_names]\n",
    "        c_coord = np.arange(self.c_idx, self.c_idx+cdim)\n",
    "\n",
    "        jac_indices = []\n",
    "        for i, var in enumerate(vars):\n",
    "            if isinstance(var, Parameter):\n",
    "                jac_indices.append(None)\n",
    "                continue\n",
    "            \n",
    "            if c_fn.custom_jac_indices is None:\n",
    "                row, col = np.indices((cdim, var.dim)).reshape(2, -1)\n",
    "            else:\n",
    "                row, col = c_fn.custom_jac_indices[i]\n",
    "            row += c_coord[0] #offset\n",
    "            col += var.coord[0]\n",
    "            jac_indices.append(np.vstack([row, col]))\n",
    "\n",
    "        self.c_info[name] = Constraint(\n",
    "            name, c_coord, vars, \n",
    "            c_fn, lb, ub,\n",
    "            jac_indices\n",
    "        )\n",
    "        c_fn.constraints.append(self.c_info[name])\n",
    "        self.c_idx += cdim\n",
    "\n",
    "    def register_fn(self, name, in_dims, out_dim, eval_fn, jac_fn, custom_jac_indices=None):\n",
    "        self.fn_info[name] = Function(\n",
    "            name, in_dims, out_dim, eval_fn, jac_fn, custom_jac_indices)\n",
    "    \n",
    "    def get_objective_fn(self, compile=True):\n",
    "        no_obj = False\n",
    "        if \"fn\" not in self.obj_info: \n",
    "            objective = lambda x: 0.\n",
    "            no_obj = True\n",
    "        else:\n",
    "            def objective(x):        \n",
    "                xs = {var.name:x[var.coord] for var in self.x_info.values()}\n",
    "                fn_input = [xs[var.name] for var in self.obj_info[\"inputs\"]]    \n",
    "                val = self.obj_info[\"fn\"].eval_fn(*fn_input)\n",
    "                return val\n",
    "        \n",
    "        if \"debug_cb\" in self.obj_info:\n",
    "            def objective_debug(x):\n",
    "                xs = {var.name:x[var.coord] for var in self.x_info.values()}\n",
    "                self.obj_info[\"debug_cb\"](xs)    \n",
    "                return objective(x)\n",
    "            return objective_debug\n",
    "        elif compile and not no_obj:\n",
    "            return jax.jit(objective)\n",
    "        return objective\n",
    "    \n",
    "    def get_gradient_fn(self, compile=True):\n",
    "        no_obj = False\n",
    "        if \"fn\" not in self.obj_info: \n",
    "            gradient = lambda x: np.zeros(self.xdim)\n",
    "            no_obj = True\n",
    "        else:\n",
    "            grad_value_dict = {var.name: np.zeros(var.dim) for var in self.x_info.values()}\n",
    "            def gradient(x):\n",
    "                xs = {var.name:x[var.coord] for var in self.x_info.values()}\n",
    "                fn_input = [xs[var.name] for var in self.obj_info[\"inputs\"]]    \n",
    "                grads = self.obj_info[\"fn\"].jac_fn(*fn_input)\n",
    "                for var, grad in zip(self.obj_info['inputs'], grads):\n",
    "                    grad_value_dict[var.name] = grad\n",
    "                return jnp.hstack(grad_value_dict.values())\n",
    "        if compile and not no_obj:\n",
    "            return jax.jit(gradient)\n",
    "        return gradient      \n",
    "    \n",
    "    def get_constraint_fn(self, compile=True):\n",
    "        def constraints(x):\n",
    "            xs = {var.name:x[var.coord] for var in self.x_info.values()}\n",
    "            result = []\n",
    "            for constr in self.c_info.values():\n",
    "                fn_input = [xs[var.name] for var in constr.inputs]    \n",
    "                out = constr.fn.eval_fn(*fn_input)\n",
    "                result.append(out)\n",
    "            return jnp.hstack(result)\n",
    "        if compile:\n",
    "            return jax.jit(constraints)\n",
    "        return constraints\n",
    "    \n",
    "    def get_jacobian_fn(self, compile=True):\n",
    "        def jacobian(x):\n",
    "            xs = {var.name:x[var.coord] for var in self.x_info.values()}\n",
    "            result = []\n",
    "            for constr in self.c_info.values():\n",
    "                fn_input = [xs[var.name] for var in constr.inputs]    \n",
    "                indices_var = [i for i, var in enumerate(constr.inputs) \n",
    "                               if isinstance(var, Variable)]\n",
    "                jacs = constr.fn.jac_fn(*fn_input)\n",
    "                for i, jac in enumerate(jacs):\n",
    "                    if i in indices_var:\n",
    "                        result.append(jac.flatten())\n",
    "            return jnp.hstack(result)\n",
    "        if compile:\n",
    "            return jax.jit(jacobian)\n",
    "        return jacobian\n",
    "    \n",
    "    def get_jacobian_structure(self):\n",
    "        rows, cols = [], []\n",
    "        rows, cols = [], []\n",
    "        for constr in self.c_info.values():\n",
    "            for jac_idx in constr.jac_indices:\n",
    "                if jac_idx is None: continue\n",
    "                rows.append(jac_idx[0])\n",
    "                cols.append(jac_idx[1])\n",
    "        rows = np.hstack(rows)\n",
    "        cols = np.hstack(cols)\n",
    "        return rows, cols\n",
    "    # for constr in self.c_info.values():\n",
    "        #     for var in constr.inputs:\n",
    "        #         if isinstance(var, Parameter): continue\n",
    "        #         row, col = np.indices((constr.dim, var.dim)).reshape(2, -1)\n",
    "        #         row += constr.coord[0]\n",
    "        #         col += var.coord[0]\n",
    "        #         rows.append(row)\n",
    "        #         cols.append(col)\n",
    "\n",
    "    def print_sparsity(self):\n",
    "        row, col = self.get_jacobian_structure()\n",
    "        jac_struct = np.full((self.cdim, self.xdim), -1, dtype=int)\n",
    "        jac_struct[row, col] = 1\n",
    "        for row in jac_struct:\n",
    "            row_str = \"\"\n",
    "            for val in row:\n",
    "                if val == -1: row_str += \"-\"\n",
    "                else: row_str += f\"o\"\n",
    "            print(row_str)\n",
    "    \n",
    "    def build(self, compile=True):\n",
    "        lb = np.hstack([x.lb for x in self.x_info.values()])\n",
    "        ub = np.hstack([x.ub for x in self.x_info.values()])\n",
    "        cl = np.hstack([c.lb for c in self.c_info.values()])\n",
    "        cu = np.hstack([c.ub for c in self.c_info.values()])\n",
    "        row, col = self.get_jacobian_structure()\n",
    "        jac_struct_fn = lambda : (row, col)\n",
    "\n",
    "        fns = {\n",
    "            \"objective\": self.get_objective_fn(compile),\n",
    "            \"gradient\": self.get_gradient_fn(compile),\n",
    "            \"constraints\": self.get_constraint_fn(compile),\n",
    "            \"jacobian\": self.get_jacobian_fn(compile),\n",
    "        }\n",
    "        class Prob:\n",
    "            pass\n",
    "        prob = Prob()\n",
    "        xdummy = jnp.zeros(self.xdim)\n",
    "        for fn_name, fn in fns.items():\n",
    "            print(f\"compiling {fn_name} ...\")\n",
    "            fn(xdummy)\n",
    "            setattr(prob, fn_name, fn)\n",
    "        setattr(prob, \"jacobianstructure\", jac_struct_fn)\n",
    "\n",
    "        ipopt = cyipopt.Problem(\n",
    "            n=self.xdim, m=self.cdim,\n",
    "            problem_obj=prob,\n",
    "            lb=lb, ub=ub, cl=cl, cu=cu\n",
    "        )\n",
    "        # default option\n",
    "        ipopt.add_option(\"acceptable_iter\", 2)\n",
    "        ipopt.add_option(\"acceptable_tol\", 0.1) #release\n",
    "        ipopt.add_option(\"acceptable_obj_change_tol\", 0.0001)\n",
    "        ipopt.add_option(\"acceptable_dual_inf_tol\", 1.) \n",
    "        ipopt.add_option('mu_strategy', 'adaptive')\n",
    "        self.print_sparsity()\n",
    "        return ipopt"
   ]
  },
  {
   "cell_type": "code",
   "execution_count": 3,
   "metadata": {},
   "outputs": [],
   "source": [
    "# models \n",
    "orbax_checkpointer = orbax.checkpoint.PyTreeCheckpointer()\n",
    "restored_grasp = orbax_checkpointer.restore(\"model/grasp_net_prob_dist\")\n",
    "restored_manip = orbax_checkpointer.restore(\"model/manip_net_posevec\")\n",
    "\n",
    "#grasp net\n",
    "grasp_net = GraspNet(32)\n",
    "grasp_fn = lambda x: grasp_net.apply(restored_grasp[\"params\"], x)\n",
    "\n",
    "grasp_logit_fn = lambda g: grasp_fn(g)[0]\n",
    "grasp_dist_fn = lambda g: grasp_fn(g)[1]\n",
    "#manip net\n",
    "manip_net = ManipNet(64)\n",
    "manip_fn = lambda x: manip_net.apply(restored_manip[\"params\"], x)[0]"
   ]
  },
  {
   "cell_type": "code",
   "execution_count": 4,
   "metadata": {},
   "outputs": [
    {
     "name": "stdout",
     "output_type": "stream",
     "text": [
      "You can open the visualizer by visiting the following URL:\n",
      "http://127.0.0.1:7002/static/\n"
     ]
    }
   ],
   "source": [
    "world = SDFWorld()"
   ]
  },
  {
   "cell_type": "code",
   "execution_count": 5,
   "metadata": {},
   "outputs": [
    {
     "data": {
      "text/html": [
       "\n",
       "            <div style=\"height: 400px; width: 100%; overflow-x: auto; overflow-y: hidden; resize: both\">\n",
       "            <iframe src=\"http://127.0.0.1:7002/static/\" style=\"width: 100%; height: 100%; border: none\"></iframe>\n",
       "            </div>\n",
       "            "
      ],
      "text/plain": [
       "<IPython.core.display.HTML object>"
      ]
     },
     "execution_count": 5,
     "metadata": {},
     "output_type": "execute_result"
    }
   ],
   "source": [
    "world.show_in_jupyter()"
   ]
  },
  {
   "attachments": {},
   "cell_type": "markdown",
   "metadata": {},
   "source": [
    "## Env setting"
   ]
  },
  {
   "cell_type": "code",
   "execution_count": 6,
   "metadata": {},
   "outputs": [],
   "source": [
    "# robot, hand\n",
    "panda_model = RobotModel(PANDA_URDF, PANDA_PACKAGE)\n",
    "panda = Robot(world.vis, \"panda\", panda_model, alpha=0.5)\n",
    "panda.reduce_dim([7, 8], [0.04, 0.04])\n",
    "\n",
    "hand_model = RobotModel(HAND_URDF, PANDA_PACKAGE, True)\n",
    "for link_name, link in hand_model.links.items():\n",
    "    link.set_surface_points(10)\n",
    "hand = Robot(world.vis, \"hand1\", hand_model, color=\"white\", alpha=0.5)"
   ]
  },
  {
   "cell_type": "code",
   "execution_count": 7,
   "metadata": {},
   "outputs": [],
   "source": [
    "#load sdf meshes\n",
    "table_lengths = [0.4, 0.4, 0.2]\n",
    "table_start = Box(world.vis, \"table_start\", table_lengths, 'white', 0.5)\n",
    "table_goal = Box(world.vis, \"table_goal\", table_lengths, 'white', 0.5)\n",
    "obj_start = Mesh(world.vis, \"obj_start\", \n",
    "                 \"./sdf_world/assets/object/mesh.obj\",\n",
    "                 color=\"blue\", alpha=0.5)\n",
    "obj_goal = Mesh(world.vis, \"obj_goal\", \n",
    "                \"./sdf_world/assets/object/mesh.obj\",\n",
    "                color=\"green\", alpha=0.5)"
   ]
  },
  {
   "cell_type": "code",
   "execution_count": 8,
   "metadata": {},
   "outputs": [],
   "source": [
    "table_start.set_translate([0.5, -0.3, 0.2/2])\n",
    "table_goal.set_translate([0.5, 0.3, 0.2/2])\n",
    "obj_lengths = obj_start.mesh.bounding_box.primitive.extents\n",
    "obj_start.set_translate([0.5, -0.3, obj_lengths[-1]/2+table_lengths[-1]])\n",
    "trans_goal = jnp.array([0.5, 0.3, obj_lengths[-2]/2+table_lengths[-1]])\n",
    "obj_goal_pose = SE3.from_rotation_and_translation(\n",
    "    SO3.from_rpy_radians(jnp.pi/2, 0,0), trans_goal)\n",
    "obj_goal.set_pose(obj_goal_pose)"
   ]
  },
  {
   "cell_type": "code",
   "execution_count": 9,
   "metadata": {},
   "outputs": [],
   "source": [
    "#visualization\n",
    "pc_hand = PointCloud(world.vis, \"hand_pc\", np.zeros((100,3)), color=\"red\", size=0.01)"
   ]
  },
  {
   "cell_type": "code",
   "execution_count": 10,
   "metadata": {},
   "outputs": [],
   "source": [
    "to_posevec = lambda x: jnp.hstack([x[4:], SO3(x[:4]).log()])\n",
    "to_wxyzxyz = lambda x: jnp.hstack([SO3.exp(x[3:]).parameters(), x[:3]])\n",
    "\n",
    "# constants\n",
    "hand_pc = hand.get_surface_points_fn(jnp.array([0.04, 0.04]))\n",
    "hand_pose_wrt_ee = SE3.from_translation(jnp.array([0,0,-0.105]))\n",
    "ws_lb = np.array([-1,-1,-0.5, -np.pi, -np.pi, -np.pi])\n",
    "ws_ub = np.array([1,1,1.5, np.pi, np.pi, np.pi])\n",
    "obj_start_posevec = to_posevec(obj_start.pose.parameters())\n",
    "obj_goal_posevec = to_posevec(obj_goal.pose.parameters())\n",
    "\n",
    "# prepare functions\n",
    "env = SDFContainer([table_start, table_goal], 0.05)\n",
    "def grasp_reconst(grasp:Array):\n",
    "    rot = SO3(grasp_fn(grasp)[2:]).normalize()\n",
    "    trans = grasp/restored_grasp[\"scale_to_norm\"]\n",
    "    return SE3.from_rotation_and_translation(rot, trans)\n",
    "\n",
    "@jax.jit\n",
    "def get_hand_pc(grasp, posevec):\n",
    "    grasp_pose = grasp_reconst(grasp)\n",
    "    hand_base_pose_wrt_world = SE3(to_wxyzxyz(posevec)) @ grasp_pose @ hand_pose_wrt_ee\n",
    "    assigned_hand_pc = jax.vmap(hand_base_pose_wrt_world.apply)(hand_pc)\n",
    "    return assigned_hand_pc\n",
    "\n",
    "#constr fns\n",
    "def grasp_cfn(grasp):\n",
    "    return grasp_logit_fn(grasp)\n",
    "jac_grasp_cfn = jax.grad(grasp_cfn, argnums=[0])\n",
    "\n",
    "def manip_constr_fn(grasp, posevec):\n",
    "    obj_pose = SE3(to_wxyzxyz(posevec))\n",
    "    grasp_pose = obj_pose @ grasp_reconst(grasp)\n",
    "    zflip = SE3.from_rotation(SO3.from_z_radians(jnp.pi))\n",
    "    grasp_pose_flip = grasp_pose @ zflip\n",
    "    posevecs = [to_posevec(pose.parameters()) for pose in [grasp_pose, grasp_pose_flip]]\n",
    "    return jax.vmap(manip_fn)(jnp.vstack(posevecs)).max()\n",
    "jac_manip_constr_fn = jax.grad(manip_constr_fn, argnums=[0,1])\n",
    "\n",
    "#TODO is it necessary to define 4dim distance constr?\n",
    "def _dist_cfn(g1, posevec1, posevec2):\n",
    "    obj_poses = jnp.vstack([posevec1, posevec2])\n",
    "    pcs = jax.vmap(get_hand_pc, (None,0))(g1, obj_poses)\n",
    "    distances = env.distances(jnp.vstack(pcs)).reshape(2, -1)\n",
    "    # top4_indices = jnp.argpartition(distances, 1)[:1]\n",
    "    return distances.min(axis=-1)\n",
    "dist_cfn = partial(_dist_cfn, posevec1=obj_start_posevec, posevec2=obj_goal_posevec)\n",
    "jac_dist_cfn = lambda grasp: [jax.jacrev(dist_cfn)(grasp)]\n"
   ]
  },
  {
   "cell_type": "code",
   "execution_count": 11,
   "metadata": {},
   "outputs": [],
   "source": [
    "bdr = SparseIPOPT()\n",
    "bdr.add_variable(\"g_pick\", 3, -1., 1.)\n",
    "bdr.add_parameter(\"p_start\", 6)\n",
    "bdr.add_parameter(\"p_goal\", 6)\n",
    "\n",
    "def debug_callback(x_dict):\n",
    "    grasp = x_dict[\"g_pick\"]\n",
    "    p_start = x_dict[\"p_start\"]\n",
    "    p_goal = x_dict[\"p_goal\"]\n",
    "    posevecs = jnp.vstack([p_start, p_goal])\n",
    "    points = jax.vmap(get_hand_pc, in_axes=(None,0))(grasp, posevecs)\n",
    "    pc_hand.reload(points=np.vstack(points))\n",
    "bdr.set_debug_callback(debug_callback)\n",
    "\n",
    "bdr.register_fn(\"grasp_logit_fn\", [3], 1,\n",
    "                          grasp_cfn, jac_grasp_cfn)\n",
    "bdr.register_fn(\"manip_fn\", [3, 6], 1,\n",
    "                          manip_constr_fn, jac_manip_constr_fn)\n",
    "bdr.register_fn(\"dist_fn\", [3], 2,\n",
    "                          dist_cfn, jac_dist_cfn)\n",
    "\n",
    "bdr.set_constr(\"grasp_prob_pick\", \"grasp_logit_fn\", [\"g_pick\"], \n",
    "                   1., np.inf)\n",
    "bdr.set_constr(\"manip_pick\", \"manip_fn\", [\"g_pick\", \"p_start\"],\n",
    "                   0.3, np.inf)\n",
    "bdr.set_constr(\"manip_place\", \"manip_fn\", [\"g_pick\", \"p_goal\"],\n",
    "                   0.3, np.inf)\n",
    "bdr.set_constr(\"dist\", \"dist_fn\", [\"g_pick\"], \n",
    "                   0.05, np.inf)"
   ]
  },
  {
   "cell_type": "code",
   "execution_count": 12,
   "metadata": {},
   "outputs": [
    {
     "name": "stdout",
     "output_type": "stream",
     "text": [
      "compiling objective ...\n",
      "compiling gradient ...\n",
      "compiling constraints ...\n",
      "compiling jacobian ...\n",
      "o o o - - - - - - - - - - - - \n",
      "o o o - - - - - - - - - - - - \n",
      "o o o - - - - - - - - - - - - \n",
      "o o o - - - - - - - - - - - - \n",
      "o o o - - - - - - - - - - - - \n"
     ]
    }
   ],
   "source": [
    "ipopt = bdr.build()"
   ]
  },
  {
   "cell_type": "code",
   "execution_count": 30,
   "metadata": {},
   "outputs": [],
   "source": [
    "obj_start_posevec2 = obj_start_posevec+ np.array([0., 0., 0.0, 0., 0., 0.])\n",
    "obj_goal_posevec2 = obj_goal_posevec+ np.array([0.0, 0., 0.0, 0., 0., 0.0])"
   ]
  },
  {
   "cell_type": "code",
   "execution_count": 31,
   "metadata": {},
   "outputs": [
    {
     "name": "stdout",
     "output_type": "stream",
     "text": [
      "This is Ipopt version 3.14.10, running with linear solver MUMPS 5.2.1.\n",
      "\n",
      "Number of nonzeros in equality constraint Jacobian...:        0\n",
      "Number of nonzeros in inequality constraint Jacobian.:       15\n",
      "Number of nonzeros in Lagrangian Hessian.............:        0\n",
      "\n",
      "Total number of variables............................:       15\n",
      "                     variables with only lower bounds:        0\n",
      "                variables with lower and upper bounds:        3\n",
      "                     variables with only upper bounds:        0\n",
      "Total number of equality constraints.................:        0\n",
      "Total number of inequality constraints...............:        5\n",
      "        inequality constraints with only lower bounds:        5\n",
      "   inequality constraints with lower and upper bounds:        0\n",
      "        inequality constraints with only upper bounds:        0\n",
      "\n",
      "iter    objective    inf_pr   inf_du lg(mu)  ||d||  lg(rg) alpha_du alpha_pr  ls\n",
      "   0  0.0000000e+00 2.88e+02 1.00e+00   0.0 0.00e+00    -  0.00e+00 0.00e+00   0\n",
      "   1  0.0000000e+00 2.20e+01 6.87e+00  -0.7 6.07e-01    -  4.57e-01 1.00e+00h  1\n",
      "   2  0.0000000e+00 1.49e+01 1.21e+00  -1.3 1.21e-01    -  9.95e-01 1.00e+00h  1\n",
      "   3  0.0000000e+00 7.65e-01 4.73e-01  -1.9 5.27e-01    -  9.85e-01 1.00e+00h  1\n",
      "   4  0.0000000e+00 0.00e+00 1.12e-02  -3.1 4.42e-02    -  9.99e-01 1.00e+00h  1\n",
      "   5  0.0000000e+00 0.00e+00 3.41e-03  -5.2 3.84e-01    -  9.97e-01 1.00e+00h  1\n",
      "\n",
      "Number of Iterations....: 5\n",
      "\n",
      "                                   (scaled)                 (unscaled)\n",
      "Objective...............:   0.0000000000000000e+00    0.0000000000000000e+00\n",
      "Dual infeasibility......:   3.4111557349464586e-03    3.4111557349464586e-03\n",
      "Constraint violation....:   0.0000000000000000e+00    0.0000000000000000e+00\n",
      "Variable bound violation:   0.0000000000000000e+00    0.0000000000000000e+00\n",
      "Complementarity.........:   2.5643849652691773e-04    2.5643849652691773e-04\n",
      "Overall NLP error.......:   3.4111557349464586e-03    3.4111557349464586e-03\n",
      "\n",
      "\n",
      "Number of objective function evaluations             = 6\n",
      "Number of objective gradient evaluations             = 6\n",
      "Number of equality constraint evaluations            = 0\n",
      "Number of inequality constraint evaluations          = 6\n",
      "Number of equality constraint Jacobian evaluations   = 0\n",
      "Number of inequality constraint Jacobian evaluations = 6\n",
      "Number of Lagrangian Hessian evaluations             = 0\n",
      "Total seconds in IPOPT                               = 0.028\n",
      "\n",
      "EXIT: Solved To Acceptable Level.\n"
     ]
    }
   ],
   "source": [
    "xinit = jnp.hstack([np.random.uniform(-1,1,size=3), obj_start_posevec2, obj_goal_posevec2])\n",
    "xsol, info = ipopt.solve(xinit)"
   ]
  },
  {
   "cell_type": "code",
   "execution_count": 2,
   "metadata": {},
   "outputs": [],
   "source": [
    "# Kinematics\n",
    "def get_rotvec_angvel_map(v):\n",
    "    def skew(v):\n",
    "        v1, v2, v3 = v\n",
    "        return jnp.array([[0, -v3, v2],\n",
    "                        [v3, 0., -v1],\n",
    "                        [-v2, v1, 0.]])\n",
    "    def identity(v, vmag):\n",
    "        return np.eye(3)\n",
    "    def angvel_to_ecvel(v, vmag):\n",
    "        vskew = skew(v)\n",
    "        term3 = vskew@vskew * 1/vmag**2 * (1-vmag/2 * jnp.sin(vmag)/(1-jnp.cos(vmag)))\n",
    "        return jnp.eye(3) - 1/2*skew(v) + term3\n",
    "    vmag = jnp.linalg.norm(v)\n",
    "    return jax.lax.cond(vmag < 1e-3, identity, angvel_to_ecvel, v, vmag)\n",
    "\n",
    "@jax.jit\n",
    "def get_ee_fk_jac(q):\n",
    "    # outputs ee_pose and geometric jacobian\n",
    "    fks = panda_model.fk_fn(q)\n",
    "    ee = SE3(fks[-1])\n",
    "    p_ee = fks[-1][-3:]\n",
    "    jac = []\n",
    "    for posevec in fks[1:8]:\n",
    "        p_frame = posevec[-3:]\n",
    "        rot_axis = SE3(posevec).as_matrix()[:3, 2]\n",
    "        lin_vel = jnp.cross(rot_axis, p_ee - p_frame)\n",
    "        jac.append(jnp.hstack([lin_vel, rot_axis]))\n",
    "    jac = jnp.array(jac).T #geometric jacobian\n",
    "    return ee, jac\n",
    "\n",
    "def body_pose_error(posevec, posevec_d):\n",
    "    pose = SE3(to_wxyzxyz(posevec))\n",
    "    pose_d = SE3(to_wxyzxyz(posevec_d))\n",
    "    R = pose.rotation().as_matrix()\n",
    "    err_pos = R.T@(pose_d.translation() - pose.translation())\n",
    "    err_rot = pose.rotation().inverse() @ pose_d.rotation()\n",
    "    return jnp.hstack([err_pos, err_rot.log()])\n",
    "\n",
    "def get_grasp_pose(grasp, obj_posevec):\n",
    "    obj_pose = SE3(to_wxyzxyz(obj_posevec))\n",
    "    grasp_pose = obj_pose @ grasp_reconst(grasp)\n",
    "    return to_posevec(grasp_pose.parameters())\n",
    "\n",
    "def kin_error_fn(q, grasp, p_obj):\n",
    "    obj_pose = SE3(to_wxyzxyz(p_obj))\n",
    "    target_pose = obj_pose @ grasp_reconst(grasp)\n",
    "    ee_pose, _ = get_ee_fk_jac(q)\n",
    "    target_posevec = to_posevec(target_pose.parameters())\n",
    "    ee_posevec = to_posevec(ee_pose.parameters())\n",
    "    # represented in body\n",
    "    err = body_pose_error(ee_posevec, target_posevec)\n",
    "    return err\n",
    "\n",
    "def jac_kin_error_fn(q, grasp, p_obj):\n",
    "    ee_pose, geom_jac = get_ee_fk_jac(q)\n",
    "    ee_posevec = to_posevec(ee_pose.parameters())\n",
    "    obj_pose = SE3(to_wxyzxyz(p_obj))\n",
    "    target_pose = obj_pose @ grasp_reconst(grasp)\n",
    "    target_posevec = get_grasp_pose(grasp, p_obj) # obj_pose @ grasp_reconst(grasp)\n",
    "    err_rot = ee_pose.rotation().inverse() @ target_pose.rotation()\n",
    "    R_ee = ee_pose.rotation().as_matrix()\n",
    "    B = get_rotvec_angvel_map(err_rot.log())\n",
    "    jac_pos = - R_ee.T @ geom_jac[:3]\n",
    "    jac_rot = - B @ R_ee.T @ geom_jac[3:]\n",
    "    jac_q = jnp.vstack([jac_pos, jac_rot])\n",
    "    jac_poseerr_gpose = jax.jacrev(body_pose_error, argnums=1)(ee_posevec, target_posevec)\n",
    "    jac_grasp, jac_objpose = jax.jacrev(get_grasp_pose, argnums=[0,1])(grasp, p_obj)\n",
    "    return jac_q, jac_poseerr_gpose@jac_grasp, jac_poseerr_gpose@jac_objpose\n",
    "\n",
    "def travelled_distance(*qs):\n",
    "    qs_mat = jnp.vstack([panda.neutral, *qs, panda.neutral])\n",
    "    qdiff = qs_mat[1:] - qs_mat[:-1]\n",
    "    return 0.5*jnp.sum(qdiff.flatten() ** 2)"
   ]
  },
  {
   "cell_type": "code",
   "execution_count": 222,
   "metadata": {},
   "outputs": [],
   "source": [
    "num_robot_points = 200\n",
    "num_link_points = 20\n",
    "safe_dist = 0.05\n",
    "\n",
    "#links_points_mat\n",
    "links_points_mat = []\n",
    "for link in panda_model.links.values():\n",
    "    if not link.has_mesh: continue\n",
    "    if not panda_model.is_floating and link == panda_model.root_link: continue\n",
    "    links_points_mat.append(link.surface_points)\n",
    "links_points_mat = np.array(links_points_mat)\n",
    "fk_assign = lambda wxyzxyz, link_points: jax.vmap(SE3(wxyzxyz).apply)(link_points)"
   ]
  },
  {
   "cell_type": "code",
   "execution_count": 358,
   "metadata": {},
   "outputs": [],
   "source": [
    "def point_jacobian(point, link_idx, joint_frames):\n",
    "    def get_lin_vel(target_point, joint_frame):\n",
    "        joint_to_target = target_point - joint_frame[-3:]\n",
    "        rot_axis = SO3(joint_frame[:4]).as_matrix()[:3,2]\n",
    "        return jnp.cross(rot_axis, joint_to_target)\n",
    "    lin_jac = jax.vmap(get_lin_vel, in_axes=(None,0))(point, joint_frames).T\n",
    "    masking = np.tile(np.arange(7),3).reshape(-1,7) + 1\n",
    "    masking = jnp.where(masking > link_idx, 0, 1)\n",
    "    return masking * lin_jac\n",
    "\n",
    "def distance_fn(q):\n",
    "    fks = panda_model.fk_fn(q)\n",
    "    link_frames = fks[1:-1]\n",
    "    assigned_points = jax.vmap(fk_assign)(link_frames, links_points_mat)\n",
    "    distances = env.distances(jnp.vstack(assigned_points))\n",
    "    min_distance = distances.min() - safe_dist\n",
    "    return jnp.where(min_distance < 0., min_distance, 0.)\n",
    "\n",
    "def jac_distance_fn(q):\n",
    "    fks = panda_model.fk_fn(q)\n",
    "    joint_frames = fks[1:8]\n",
    "    assigned_points = jax.vmap(fk_assign)(fks[1:-1], links_points_mat)\n",
    "    distances = env.distances(jnp.vstack(assigned_points)).reshape(10,-1)\n",
    "    idx_link, idx_point = jnp.unravel_index(distances.argmin(), distances.shape)\n",
    "    min_point = assigned_points[idx_link, idx_point, :]\n",
    "    jac_point = jax.lax.cond(distances.min() < safe_dist, \n",
    "                point_jacobian, lambda x,y,z :np.zeros((3,7)), min_point, idx_link, joint_frames)\n",
    "    repulsive_grad = jax.grad(env.distance)(min_point)\n",
    "    return repulsive_grad @ jac_point\n"
   ]
  },
  {
   "cell_type": "code",
   "execution_count": 733,
   "metadata": {},
   "outputs": [],
   "source": [
    "num_mid_configs = 3\n",
    "num_traj = 2 + num_mid_configs*3\n",
    "idx_pick = num_mid_configs\n",
    "idx_place = 2*num_mid_configs + 1\n",
    "qs = [panda.get_random_config() for i in range(num_traj)]\n",
    "qs = jnp.vstack(qs)\n",
    "def jac_travelled_distance(*qs):\n",
    "    return jax.grad(travelled_distance, argnums=np.arange(num_traj))(*qs)\n",
    "def distance_constr_fn(*qs):\n",
    "    qs = jnp.vstack(qs)\n",
    "    return jax.vmap(distance_fn)(qs)\n",
    "\n",
    "def jac_distance_constr_fn(*qs):\n",
    "    qs = jnp.vstack(qs)\n",
    "    jacs = jax.vmap(jac_distance_fn)(qs)\n",
    "    # jacs = jax.vmap(jac_distance_fn)(qs)\n",
    "    # result = jnp.zeros((num_traj, num_traj*7))\n",
    "    # for i, jac in enumerate(jacs):\n",
    "    #     result = result.at[i, i*7:(i+1)*7].set(jac)\n",
    "    return jacs"
   ]
  },
  {
   "cell_type": "code",
   "execution_count": 786,
   "metadata": {},
   "outputs": [],
   "source": [
    "cdim = num_traj\n",
    "rdim = 7\n",
    "rowcols = []\n",
    "for i in range(num_traj):\n",
    "    jac_struct = np.zeros((cdim, rdim), dtype=int)\n",
    "    jac_struct[i,:] = 1\n",
    "    rowcol = np.nonzero(jac_struct)\n",
    "    rowcols.append(np.vstack(rowcol))"
   ]
  },
  {
   "cell_type": "code",
   "execution_count": 430,
   "metadata": {},
   "outputs": [],
   "source": [
    "pc_traj = PointCloud(world.vis, \"pc_traj\", np.zeros((num_traj,3)), 0.03, \"blue\")"
   ]
  },
  {
   "cell_type": "code",
   "execution_count": 492,
   "metadata": {},
   "outputs": [],
   "source": [
    "grasp = xsol[:3]\n",
    "\n",
    "bdr = SparseIPOPT()\n",
    "q_names = []\n",
    "for i in range(2):\n",
    "    q_name = f\"q{i}\"\n",
    "    bdr.add_variable(q_name, 7, panda.lb, panda.ub)\n",
    "    q_names.append(q_name)\n",
    "bdr.add_parameter(\"grasp\", 3)\n",
    "bdr.add_parameter(\"p_start\", 6)\n",
    "bdr.add_parameter(\"p_goal\", 6)\n",
    "\n",
    "bdr.register_fn(\"kin_err\", [7], 6,\n",
    "                kin_error_fn, jac_kin_error_fn)\n",
    "# bdr.register_fn(\"travelled_distance\", [7]*num_traj, 1,\n",
    "#                 travelled_distance, jac_travelled_distance)\n",
    "# bdr.register_fn(\"distance_fn\", [7]*num_traj, num_traj,\n",
    "#                 distance_constr_fn, jac_distance_constr_fn)\n",
    "\n",
    "# def debug_callback(x_dict):\n",
    "#     qs = [x_dict[q_name] for q_name in q_names]\n",
    "#     qs = jnp.vstack(qs)\n",
    "#     ees = jax.vmap(panda_model.fk_fn)(qs)[:, -1, -3:]\n",
    "#     pc_traj.reload(points=ees)\n",
    "#     time.sleep(0.1)\n",
    "#     # grasp = x_dict[\"g_pick\"]\n",
    "#     # p_start = x_dict[\"p_start\"]\n",
    "#     # p_goal = x_dict[\"p_goal\"]\n",
    "#     # posevecs = jnp.vstack([p_start, p_goal])\n",
    "#     # points = jax.vmap(get_hand_pc, in_axes=(None,0))(grasp, posevecs)\n",
    "#     #pc_hand.reload(points=np.vstack(points))\n",
    "\n",
    "# bdr.set_debug_callback(debug_callback)\n",
    "\n",
    "#bdr.set_objective(\"travelled_distance\", q_names)\n",
    "bdr.set_constr(\"kin_err_start\", \"kin_err\", [f\"q0\", \"grasp\", \"p_start\"], \n",
    "                   0., 0.)\n",
    "bdr.set_constr(\"kin_err_goal\", \"kin_err\", [f\"q1\", \"grasp\", \"p_goal\"], \n",
    "                   0., 0.)\n",
    "\n",
    "# bdr.set_constr(\"manip_pick\", \"manip_fn_start\", [\"g_pick\"],\n",
    "#                    0.3, np.inf)\n",
    "# bdr.set_constr(\"dist\", \"distance_fn\", q_names, \n",
    "#                    0.0, np.inf)"
   ]
  },
  {
   "cell_type": "code",
   "execution_count": 493,
   "metadata": {},
   "outputs": [
    {
     "name": "stdout",
     "output_type": "stream",
     "text": [
      "compiling objective ...\n",
      "compiling gradient ...\n",
      "compiling constraints ...\n",
      "compiling jacobian ...\n",
      "o o o o o o o - - - - - - - - - - - - - - - - - - - - - - \n",
      "o o o o o o o - - - - - - - - - - - - - - - - - - - - - - \n",
      "o o o o o o o - - - - - - - - - - - - - - - - - - - - - - \n",
      "o o o o o o o - - - - - - - - - - - - - - - - - - - - - - \n",
      "o o o o o o o - - - - - - - - - - - - - - - - - - - - - - \n",
      "o o o o o o o - - - - - - - - - - - - - - - - - - - - - - \n",
      "- - - - - - - o o o o o o o - - - - - - - - - - - - - - - \n",
      "- - - - - - - o o o o o o o - - - - - - - - - - - - - - - \n",
      "- - - - - - - o o o o o o o - - - - - - - - - - - - - - - \n",
      "- - - - - - - o o o o o o o - - - - - - - - - - - - - - - \n",
      "- - - - - - - o o o o o o o - - - - - - - - - - - - - - - \n",
      "- - - - - - - o o o o o o o - - - - - - - - - - - - - - - \n"
     ]
    }
   ],
   "source": [
    "ipopt = bdr.build()"
   ]
  },
  {
   "cell_type": "code",
   "execution_count": 497,
   "metadata": {},
   "outputs": [
    {
     "name": "stdout",
     "output_type": "stream",
     "text": [
      "This is Ipopt version 3.14.10, running with linear solver MUMPS 5.2.1.\n",
      "\n",
      "Number of nonzeros in equality constraint Jacobian...:       84\n",
      "Number of nonzeros in inequality constraint Jacobian.:        0\n",
      "Number of nonzeros in Lagrangian Hessian.............:        0\n",
      "\n",
      "Total number of variables............................:       29\n",
      "                     variables with only lower bounds:        0\n",
      "                variables with lower and upper bounds:       14\n",
      "                     variables with only upper bounds:        0\n",
      "Total number of equality constraints.................:       12\n",
      "Total number of inequality constraints...............:        0\n",
      "        inequality constraints with only lower bounds:        0\n",
      "   inequality constraints with lower and upper bounds:        0\n",
      "        inequality constraints with only upper bounds:        0\n",
      "\n",
      "iter    objective    inf_pr   inf_du lg(mu)  ||d||  lg(rg) alpha_du alpha_pr  ls\n",
      "   0  0.0000000e+00 1.45e+00 0.00e+00   0.0 0.00e+00    -  0.00e+00 0.00e+00   0\n",
      "   1  0.0000000e+00 1.38e+00 4.38e+00  -5.6 1.88e+00    -  4.50e-01 8.26e-01h  1\n",
      "   2  0.0000000e+00 9.16e-01 1.14e+01  -0.3 2.05e+00    -  7.96e-01 1.00e+00h  1\n",
      "   3  0.0000000e+00 5.35e-01 2.56e+01   0.2 1.63e+00    -  7.54e-01 1.00e+00f  1\n",
      "   4  0.0000000e+00 1.19e-01 5.03e+00  -0.5 7.42e-01    -  9.98e-01 1.00e+00h  1\n",
      "   5  0.0000000e+00 1.41e-02 7.72e-01  -0.8 1.59e-01    -  9.74e-01 1.00e+00h  1\n",
      "   6  0.0000000e+00 5.61e-04 1.21e-01  -2.7 3.29e-02    -  9.95e-01 1.00e+00h  1\n",
      "   7  0.0000000e+00 2.03e-07 4.60e-04  -4.1 4.60e-04    -  1.00e+00 1.00e+00h  1\n",
      "\n",
      "Number of Iterations....: 7\n",
      "\n",
      "                                   (scaled)                 (unscaled)\n",
      "Objective...............:   0.0000000000000000e+00    0.0000000000000000e+00\n",
      "Dual infeasibility......:   4.5977636764087446e-04    4.5977636764087446e-04\n",
      "Constraint violation....:   2.0256268840057601e-07    2.0256268840057601e-07\n",
      "Variable bound violation:   0.0000000000000000e+00    0.0000000000000000e+00\n",
      "Complementarity.........:   8.1191279236397760e-05    8.1191279236397760e-05\n",
      "Overall NLP error.......:   4.5977636764087446e-04    4.5977636764087446e-04\n",
      "\n",
      "\n",
      "Number of objective function evaluations             = 8\n",
      "Number of objective gradient evaluations             = 8\n",
      "Number of equality constraint evaluations            = 8\n",
      "Number of inequality constraint evaluations          = 0\n",
      "Number of equality constraint Jacobian evaluations   = 8\n",
      "Number of inequality constraint Jacobian evaluations = 0\n",
      "Number of Lagrangian Hessian evaluations             = 0\n",
      "Total seconds in IPOPT                               = 0.015\n",
      "\n",
      "EXIT: Solved To Acceptable Level.\n"
     ]
    }
   ],
   "source": [
    "qinit = np.tile(panda.neutral, 2)\n",
    "x0 = jnp.hstack([qinit, xsol[:3], obj_start_posevec, obj_goal_posevec])\n",
    "ipopt.add_option(\"nlp_scaling_method\", \"none\")\n",
    "ipopt.add_option(\"acceptable_tol\", 1.)\n",
    "ipopt.add_option(\"acceptable_obj_change_tol\", 0.1)\n",
    "traj, info = ipopt.solve(x0)"
   ]
  },
  {
   "cell_type": "code",
   "execution_count": 788,
   "metadata": {},
   "outputs": [],
   "source": [
    "grasp = xsol[:3]\n",
    "\n",
    "bdr = SparseIPOPT()\n",
    "q_names = []\n",
    "for i in range(num_traj):\n",
    "    q_name = f\"q{i}\"\n",
    "    bdr.add_variable(q_name, 7, panda.lb, panda.ub)\n",
    "    q_names.append(q_name)\n",
    "bdr.add_parameter(\"grasp\", 3)\n",
    "bdr.add_parameter(\"p_start\", 6)\n",
    "bdr.add_parameter(\"p_goal\", 6)\n",
    "\n",
    "bdr.register_fn(\"kin_err\", [7], 6,\n",
    "                kin_error_fn, jac_kin_error_fn)\n",
    "bdr.register_fn(\"travelled_distance\", [7]*num_traj, 1,\n",
    "                travelled_distance, jac_travelled_distance)\n",
    "bdr.register_fn(\"distance_fn\", [7]*num_traj, num_traj,\n",
    "                distance_constr_fn, jac_distance_constr_fn, rowcols)\n",
    "\n",
    "def debug_callback(x_dict):\n",
    "    qs = [x_dict[q_name] for q_name in q_names]\n",
    "    qs = jnp.vstack(qs)\n",
    "    ees = jax.vmap(panda_model.fk_fn)(qs)[:, -1, -3:]\n",
    "    pc_traj.reload(points=ees)\n",
    "    time.sleep(0.1)\n",
    "\n",
    "#bdr.set_debug_callback(debug_callback)\n",
    "\n",
    "bdr.set_objective(\"travelled_distance\", q_names)\n",
    "bdr.set_constr(\"kin_err_start\", \"kin_err\", [f\"q{idx_pick}\", \"grasp\", \"p_start\"], \n",
    "                   0., 0.)\n",
    "bdr.set_constr(\"kin_err_goal\", \"kin_err\", [f\"q{idx_place}\", \"grasp\", \"p_goal\"], \n",
    "                   0., 0.)\n",
    "\n",
    "bdr.set_constr(\"dist\", \"distance_fn\", q_names, \n",
    "                   0.0, np.inf)"
   ]
  },
  {
   "cell_type": "code",
   "execution_count": 791,
   "metadata": {},
   "outputs": [
    {
     "name": "stdout",
     "output_type": "stream",
     "text": [
      "---------------------ooooooo----------------------------------------------------------------\n",
      "---------------------ooooooo----------------------------------------------------------------\n",
      "---------------------ooooooo----------------------------------------------------------------\n",
      "---------------------ooooooo----------------------------------------------------------------\n",
      "---------------------ooooooo----------------------------------------------------------------\n",
      "---------------------ooooooo----------------------------------------------------------------\n",
      "-------------------------------------------------ooooooo------------------------------------\n",
      "-------------------------------------------------ooooooo------------------------------------\n",
      "-------------------------------------------------ooooooo------------------------------------\n",
      "-------------------------------------------------ooooooo------------------------------------\n",
      "-------------------------------------------------ooooooo------------------------------------\n",
      "-------------------------------------------------ooooooo------------------------------------\n",
      "ooooooo-------------------------------------------------------------------------------------\n",
      "-------ooooooo------------------------------------------------------------------------------\n",
      "--------------ooooooo-----------------------------------------------------------------------\n",
      "---------------------ooooooo----------------------------------------------------------------\n",
      "----------------------------ooooooo---------------------------------------------------------\n",
      "-----------------------------------ooooooo--------------------------------------------------\n",
      "------------------------------------------ooooooo-------------------------------------------\n",
      "-------------------------------------------------ooooooo------------------------------------\n",
      "--------------------------------------------------------ooooooo-----------------------------\n",
      "---------------------------------------------------------------ooooooo----------------------\n",
      "----------------------------------------------------------------------ooooooo---------------\n"
     ]
    }
   ],
   "source": [
    "bdr.print_sparsity()"
   ]
  },
  {
   "cell_type": "code",
   "execution_count": 792,
   "metadata": {},
   "outputs": [
    {
     "name": "stdout",
     "output_type": "stream",
     "text": [
      "compiling objective ...\n",
      "compiling gradient ...\n",
      "compiling constraints ...\n",
      "compiling jacobian ...\n",
      "---------------------ooooooo----------------------------------------------------------------\n",
      "---------------------ooooooo----------------------------------------------------------------\n",
      "---------------------ooooooo----------------------------------------------------------------\n",
      "---------------------ooooooo----------------------------------------------------------------\n",
      "---------------------ooooooo----------------------------------------------------------------\n",
      "---------------------ooooooo----------------------------------------------------------------\n",
      "-------------------------------------------------ooooooo------------------------------------\n",
      "-------------------------------------------------ooooooo------------------------------------\n",
      "-------------------------------------------------ooooooo------------------------------------\n",
      "-------------------------------------------------ooooooo------------------------------------\n",
      "-------------------------------------------------ooooooo------------------------------------\n",
      "-------------------------------------------------ooooooo------------------------------------\n",
      "ooooooo-------------------------------------------------------------------------------------\n",
      "-------ooooooo------------------------------------------------------------------------------\n",
      "--------------ooooooo-----------------------------------------------------------------------\n",
      "---------------------ooooooo----------------------------------------------------------------\n",
      "----------------------------ooooooo---------------------------------------------------------\n",
      "-----------------------------------ooooooo--------------------------------------------------\n",
      "------------------------------------------ooooooo-------------------------------------------\n",
      "-------------------------------------------------ooooooo------------------------------------\n",
      "--------------------------------------------------------ooooooo-----------------------------\n",
      "---------------------------------------------------------------ooooooo----------------------\n",
      "----------------------------------------------------------------------ooooooo---------------\n"
     ]
    }
   ],
   "source": [
    "ipopt = bdr.build()"
   ]
  },
  {
   "cell_type": "code",
   "execution_count": 808,
   "metadata": {},
   "outputs": [
    {
     "name": "stdout",
     "output_type": "stream",
     "text": [
      "This is Ipopt version 3.14.10, running with linear solver MUMPS 5.2.1.\n",
      "\n",
      "Number of nonzeros in equality constraint Jacobian...:       84\n",
      "Number of nonzeros in inequality constraint Jacobian.:       77\n",
      "Number of nonzeros in Lagrangian Hessian.............:        0\n",
      "\n",
      "Total number of variables............................:       92\n",
      "                     variables with only lower bounds:        0\n",
      "                variables with lower and upper bounds:       77\n",
      "                     variables with only upper bounds:        0\n",
      "Total number of equality constraints.................:       12\n",
      "Total number of inequality constraints...............:       11\n",
      "        inequality constraints with only lower bounds:       11\n",
      "   inequality constraints with lower and upper bounds:        0\n",
      "        inequality constraints with only upper bounds:        0\n",
      "\n",
      "iter    objective    inf_pr   inf_du lg(mu)  ||d||  lg(rg) alpha_du alpha_pr  ls\n",
      "   0  9.8304302e-02 1.59e+00 6.15e-03   0.0 0.00e+00    -  0.00e+00 0.00e+00   0\n",
      "   1  5.8272047e+00 6.75e-01 4.33e+00  -5.6 1.63e+00    -  6.43e-01 9.90e-01h  1\n",
      "   2  5.4844341e+00 2.60e-01 1.71e+02  -0.6 6.97e-01    -  9.27e-01 9.90e-01h  1\n",
      "   3  3.0529349e+00 9.40e-03 1.34e+00  -1.0 9.48e-01    -  1.00e+00 1.00e+00h  1\n",
      "   4  1.8913320e+00 1.39e-04 8.20e+03  -1.9 4.41e-01    -  9.93e-01 1.00e+00f  1\n",
      "   5  1.5362284e+00 2.13e-04 4.19e-01  -3.0 2.51e-01    -  1.00e+00 1.00e+00f  1\n",
      "   6  1.4976132e+00 5.79e-05 1.88e-01  -4.4 1.94e-01    -  1.00e+00 1.00e+00f  1\n",
      "   7  1.4738799e+00 8.58e-05 1.65e+03  -5.5 8.36e-02    -  1.00e+00 5.00e-01f  2\n",
      "   8  1.4656708e+00 8.34e-07 8.73e-02  -5.9 5.15e-02    -  1.00e+00 1.00e+00h  1\n",
      "   9  1.4625334e+00 1.16e-04 6.42e-02  -7.4 3.87e-02    -  1.00e+00 1.00e+00f  1\n",
      "\n",
      "Number of Iterations....: 9\n",
      "\n",
      "                                   (scaled)                 (unscaled)\n",
      "Objective...............:   1.4625333547592163e+00    1.4625333547592163e+00\n",
      "Dual infeasibility......:   6.4210341780796876e-02    6.4210341780796876e-02\n",
      "Constraint violation....:   1.1551378702279180e-04    1.1551378702279180e-04\n",
      "Variable bound violation:   0.0000000000000000e+00    0.0000000000000000e+00\n",
      "Complementarity.........:   5.2965942120292344e-08    5.2965942120292344e-08\n",
      "Overall NLP error.......:   6.4210341780796876e-02    6.4210341780796876e-02\n",
      "\n",
      "\n",
      "Number of objective function evaluations             = 14\n",
      "Number of objective gradient evaluations             = 10\n",
      "Number of equality constraint evaluations            = 14\n",
      "Number of inequality constraint evaluations          = 14\n",
      "Number of equality constraint Jacobian evaluations   = 10\n",
      "Number of inequality constraint Jacobian evaluations = 10\n",
      "Number of Lagrangian Hessian evaluations             = 0\n",
      "Total seconds in IPOPT                               = 0.037\n",
      "\n",
      "EXIT: Solved To Acceptable Level.\n"
     ]
    }
   ],
   "source": [
    "q0 = panda.neutral\n",
    "q_pick = traj[:7]\n",
    "q_place = traj[7:14]\n",
    "waypoints = [q0, q_pick, q_place, q0]\n",
    "qs = []\n",
    "for i, qstart in enumerate(waypoints[:-1]):\n",
    "    qs_ = np.linspace(qstart, waypoints[i+1], num_mid_configs+2, endpoint=True)\n",
    "    qs.extend(qs_[1:])\n",
    "#qs.append(q0)\n",
    "qs = np.vstack(qs[:-1])\n",
    "\n",
    "x0 = jnp.hstack([qs.flatten(), xsol[:3], obj_start_posevec, obj_goal_posevec])\n",
    "\n",
    "ipopt.add_option(\"nlp_scaling_method\", \"none\")\n",
    "ipopt.add_option(\"acceptable_tol\", 1.)\n",
    "ipopt.add_option(\"acceptable_obj_change_tol\", 0.1)\n",
    "traj, info = ipopt.solve(x0)"
   ]
  },
  {
   "cell_type": "code",
   "execution_count": 794,
   "metadata": {},
   "outputs": [],
   "source": [
    "i = 0"
   ]
  },
  {
   "cell_type": "code",
   "execution_count": 807,
   "metadata": {},
   "outputs": [
    {
     "ename": "IndexError",
     "evalue": "index 11 is out of bounds for axis 0 with size 11",
     "output_type": "error",
     "traceback": [
      "\u001b[0;31m---------------------------------------------------------------------------\u001b[0m",
      "\u001b[0;31mIndexError\u001b[0m                                Traceback (most recent call last)",
      "Cell \u001b[0;32mIn[807], line 1\u001b[0m\n\u001b[0;32m----> 1\u001b[0m panda\u001b[39m.\u001b[39mset_joint_angles(qs[i])\n\u001b[1;32m      2\u001b[0m i\u001b[39m+\u001b[39m\u001b[39m=\u001b[39m \u001b[39m1\u001b[39m\n",
      "\u001b[0;31mIndexError\u001b[0m: index 11 is out of bounds for axis 0 with size 11"
     ]
    }
   ],
   "source": [
    "panda.set_joint_angles(qs[i])\n",
    "i+= 1"
   ]
  },
  {
   "cell_type": "code",
   "execution_count": 809,
   "metadata": {},
   "outputs": [],
   "source": [
    "i = 0\n",
    "qs = traj[:num_traj*7].reshape(-1,7)"
   ]
  },
  {
   "cell_type": "code",
   "execution_count": 821,
   "metadata": {},
   "outputs": [
    {
     "ename": "IndexError",
     "evalue": "index 11 is out of bounds for axis 0 with size 11",
     "output_type": "error",
     "traceback": [
      "\u001b[0;31m---------------------------------------------------------------------------\u001b[0m",
      "\u001b[0;31mIndexError\u001b[0m                                Traceback (most recent call last)",
      "Cell \u001b[0;32mIn[821], line 1\u001b[0m\n\u001b[0;32m----> 1\u001b[0m panda\u001b[39m.\u001b[39mset_joint_angles(qs[i])\n\u001b[1;32m      2\u001b[0m i\u001b[39m+\u001b[39m\u001b[39m=\u001b[39m \u001b[39m1\u001b[39m\n",
      "\u001b[0;31mIndexError\u001b[0m: index 11 is out of bounds for axis 0 with size 11"
     ]
    }
   ],
   "source": [
    "panda.set_joint_angles(qs[i])\n",
    "i+= 1"
   ]
  },
  {
   "cell_type": "code",
   "execution_count": 571,
   "metadata": {},
   "outputs": [],
   "source": [
    "traj_mat = traj[:7*num_traj].reshape(-1,7)\n",
    "i = 0"
   ]
  },
  {
   "cell_type": "code",
   "execution_count": 583,
   "metadata": {},
   "outputs": [
    {
     "ename": "IndexError",
     "evalue": "index 11 is out of bounds for axis 0 with size 11",
     "output_type": "error",
     "traceback": [
      "\u001b[0;31m---------------------------------------------------------------------------\u001b[0m",
      "\u001b[0;31mIndexError\u001b[0m                                Traceback (most recent call last)",
      "Cell \u001b[0;32mIn[583], line 1\u001b[0m\n\u001b[0;32m----> 1\u001b[0m panda\u001b[39m.\u001b[39mset_joint_angles(traj_mat[i])\n\u001b[1;32m      2\u001b[0m i\u001b[39m+\u001b[39m\u001b[39m=\u001b[39m \u001b[39m1\u001b[39m\n",
      "\u001b[0;31mIndexError\u001b[0m: index 11 is out of bounds for axis 0 with size 11"
     ]
    }
   ],
   "source": [
    "panda.set_joint_angles(traj_mat[i])\n",
    "i+= 1"
   ]
  },
  {
   "cell_type": "code",
   "execution_count": 291,
   "metadata": {},
   "outputs": [],
   "source": [
    "\n",
    "ws_lb = np.array([-1,-1,-0.5, -np.pi, -np.pi, -np.pi])\n",
    "ws_ub = np.array([1,1,1.5, np.pi, np.pi, np.pi])\n",
    "\n",
    "grasp_fn = lambda g: 0.\n",
    "manip_fn = lambda g, pose: 0.\n",
    "_dist_fn = lambda g1, g2, pose, pose_st, pose_ed: jnp.zeros(4)\n",
    "manip_fn_start = partial(manip_fn, pose=np.zeros(6))\n",
    "manip_fn_goal = partial(manip_fn, pose=np.zeros(6))\n",
    "dist_fn = partial(_dist_fn, pose_st=np.zeros(6), pose_ed=np.zeros(6))\n",
    "\n",
    "jac_grasp_fn = lambda g: [jnp.zeros(3)]\n",
    "jac_manip_fn = lambda g, pose: [jnp.zeros(3), jnp.zeros(6)]\n",
    "jac_manip_fn_start = lambda g: [jnp.zeros(3)]\n",
    "jac_manip_fn_goal = lambda g: [jnp.zeros(3)]\n",
    "jac_dist_fn = lambda g1, g2, pose: [jnp.zeros((4,3)), jnp.zeros((4,3)), jnp.zeros((4,6))]\n",
    "\n",
    "bdr = SparseIPOPT()\n",
    "bdr.add_variable(\"g_pick\", 3, -1., 1.)\n",
    "bdr.add_variable(\"g_place\", 3, -1., 1.)\n",
    "bdr.add_variable(\"p_ho\", 6, ws_lb, ws_ub)\n",
    "\n",
    "bdr.register_fn(\"grasp_logit_fn\", [3], 1,\n",
    "                          grasp_fn, jac_grasp_fn)\n",
    "bdr.register_fn(\"manip_fn\", [3, 6], 1,\n",
    "                          manip_fn, jac_manip_fn)\n",
    "bdr.register_fn(\"manip_fn_start\", [3], 1,\n",
    "                          manip_fn_start, jac_manip_fn_start)\n",
    "bdr.register_fn(\"manip_fn_goal\", [3], 1,\n",
    "                          manip_fn_goal, jac_manip_fn_goal)\n",
    "bdr.register_fn(\"dist_fn\", [3, 3, 6], 4,\n",
    "                          dist_fn, jac_dist_fn)\n",
    "\n",
    "bdr.set_constr(\"grasp_prob_pick\", \"grasp_logit_fn\", [\"g_pick\"], \n",
    "                   1., np.inf)\n",
    "bdr.set_constr(\"grasp_prob_place\", \"grasp_logit_fn\", [\"g_place\"], \n",
    "                   1., np.inf)\n",
    "bdr.set_constr(\"manip_pick\", \"manip_fn_start\", [\"g_pick\"],\n",
    "                   0.3, np.inf)\n",
    "bdr.set_constr(\"manip_place\", \"manip_fn_goal\",[\"g_place\"], \n",
    "                   0.3, np.inf)\n",
    "bdr.set_constr(\"manip_ho_1\", \"manip_fn\", [\"g_pick\", \"p_ho\"], \n",
    "                   0.3, np.inf)\n",
    "bdr.set_constr(\"manip_ho_2\", \"manip_fn\", [\"g_place\", \"p_ho\"], \n",
    "                   0.3, np.inf)\n",
    "bdr.set_constr(\"dist\", \"dist_fn\", [\"g_pick\", \"g_place\", \"p_ho\"], \n",
    "                   0.05, np.inf)"
   ]
  },
  {
   "cell_type": "code",
   "execution_count": 292,
   "metadata": {},
   "outputs": [
    {
     "name": "stdout",
     "output_type": "stream",
     "text": [
      "compiling objective ...\n",
      "compiling gradient ...\n",
      "compiling constraints ...\n",
      "compiling jacobian ...\n",
      "o o o - - - - - - - - - \n",
      "- - - o o o - - - - - - \n",
      "o o o - - - - - - - - - \n",
      "- - - o o o - - - - - - \n",
      "o o o - - - o o o o o o \n",
      "- - - o o o o o o o o o \n",
      "o o o o o o o o o o o o \n",
      "o o o o o o o o o o o o \n",
      "o o o o o o o o o o o o \n",
      "o o o o o o o o o o o o \n"
     ]
    },
    {
     "data": {
      "text/plain": [
       "<ipopt_wrapper.Problem at 0x7f6ecc6ee1c0>"
      ]
     },
     "execution_count": 292,
     "metadata": {},
     "output_type": "execute_result"
    }
   ],
   "source": [
    "bdr.build()"
   ]
  },
  {
   "cell_type": "code",
   "execution_count": null,
   "metadata": {},
   "outputs": [],
   "source": []
  },
  {
   "cell_type": "code",
   "execution_count": 283,
   "metadata": {},
   "outputs": [],
   "source": [
    "obj = bdr.get_objective_fn()\n",
    "grad = bdr.get_gradient_fn()\n",
    "constr = bdr.get_constraint_fn()\n",
    "jac = bdr.get_jacobian_fn()"
   ]
  },
  {
   "cell_type": "code",
   "execution_count": 284,
   "metadata": {},
   "outputs": [
    {
     "name": "stdout",
     "output_type": "stream",
     "text": [
      "17.1 µs ± 606 ns per loop (mean ± std. dev. of 7 runs, 100,000 loops each)\n"
     ]
    }
   ],
   "source": [
    "%timeit constr(x)"
   ]
  },
  {
   "cell_type": "code",
   "execution_count": 255,
   "metadata": {},
   "outputs": [
    {
     "data": {
      "text/plain": [
       "Array(0., dtype=float32)"
      ]
     },
     "execution_count": 255,
     "metadata": {},
     "output_type": "execute_result"
    }
   ],
   "source": [
    "obj(x)"
   ]
  },
  {
   "cell_type": "code",
   "execution_count": 257,
   "metadata": {},
   "outputs": [
    {
     "name": "stdout",
     "output_type": "stream",
     "text": [
      "208 µs ± 1.82 µs per loop (mean ± std. dev. of 7 runs, 1,000 loops each)\n"
     ]
    }
   ],
   "source": [
    "%timeit obj(x)"
   ]
  },
  {
   "cell_type": "code",
   "execution_count": null,
   "metadata": {},
   "outputs": [],
   "source": []
  },
  {
   "cell_type": "code",
   "execution_count": 217,
   "metadata": {},
   "outputs": [],
   "source": [
    "jac = bdr.get_jacobian_fn()"
   ]
  },
  {
   "cell_type": "code",
   "execution_count": 218,
   "metadata": {},
   "outputs": [
    {
     "name": "stdout",
     "output_type": "stream",
     "text": [
      "6.09 ms ± 36.6 µs per loop (mean ± std. dev. of 7 runs, 100 loops each)\n"
     ]
    }
   ],
   "source": [
    "%timeit jac(x)"
   ]
  },
  {
   "cell_type": "code",
   "execution_count": 220,
   "metadata": {},
   "outputs": [],
   "source": [
    "jac = jax.jit(jac)"
   ]
  },
  {
   "cell_type": "code",
   "execution_count": 222,
   "metadata": {},
   "outputs": [
    {
     "name": "stdout",
     "output_type": "stream",
     "text": [
      "16.9 µs ± 59.1 ns per loop (mean ± std. dev. of 7 runs, 100,000 loops each)\n"
     ]
    }
   ],
   "source": [
    "%timeit jac(x)"
   ]
  },
  {
   "cell_type": "code",
   "execution_count": 185,
   "metadata": {},
   "outputs": [],
   "source": [
    "x = np.arange(bdr.xdim)"
   ]
  },
  {
   "cell_type": "code",
   "execution_count": 120,
   "metadata": {},
   "outputs": [],
   "source": [
    "def constraints(x):\n",
    "    xs = {var.name:x[var.coord] for var in bdr.x_info.values()}\n",
    "    result = []\n",
    "    for constr in bdr.c_info.values():\n",
    "        fn_input = [xs[var.name] for var in constr.inputs]    \n",
    "        out = constr.fn.eval_fn(*fn_input)\n",
    "        result.append(out)\n",
    "    return np.hstack(result)"
   ]
  },
  {
   "cell_type": "code",
   "execution_count": 153,
   "metadata": {},
   "outputs": [],
   "source": [
    "def jacobian(x):\n",
    "    xs = {var.name:x[var.coord] for var in bdr.x_info.values()}\n",
    "    result = []\n",
    "    for constr in bdr.c_info.values():\n",
    "        fn_input = [xs[var.name] for var in constr.inputs]    \n",
    "        jacs = constr.fn.jac_fn(*fn_input)\n",
    "        for jac in jacs:\n",
    "            result.append(jac.flatten())\n",
    "    return np.hstack(result)"
   ]
  },
  {
   "cell_type": "code",
   "execution_count": 164,
   "metadata": {},
   "outputs": [],
   "source": [
    "def get_jacobian_structure():\n",
    "    rows, cols = [], []\n",
    "    for constr in bdr.c_info.values():\n",
    "        for var in constr.inputs:\n",
    "            row, col = np.indices((constr.dim, var.dim)).reshape(2, -1)\n",
    "            row += constr.coord[0]\n",
    "            col += var.coord[0]\n",
    "            rows.append(row)\n",
    "            cols.append(col)\n",
    "    rows = np.hstack(rows)\n",
    "    cols = np.hstack(cols)\n",
    "    return rows, cols"
   ]
  },
  {
   "cell_type": "code",
   "execution_count": 181,
   "metadata": {},
   "outputs": [],
   "source": [
    "def objective(x):\n",
    "    if \"fn\" in bdr.obj_info: \n",
    "        val = 0. #no objective\n",
    "    else:\n",
    "        xs = {var.name:x[var.coord] for var in bdr.x_info.values()}\n",
    "        fn_input = [xs[var.name] for var in bdr.obj_info[\"inputs\"]]    \n",
    "        val = bdr.obj_info[\"fn\"].eval_fn(*fn_input)\n",
    "    if \"debug_cb\" in bdr.obj_info:\n",
    "            bdr.obj_info[\"debug_cb\"]\n",
    "    return val"
   ]
  },
  {
   "cell_type": "code",
   "execution_count": 180,
   "metadata": {},
   "outputs": [],
   "source": [
    "def gradient(x):\n",
    "    if \"fn\" in bdr.obj_info: \n",
    "        grad = np.zeros(bdr.xdim) #no objective\n",
    "    else:\n",
    "        xs = {var.name:x[var.coord] for var in bdr.x_info.values()}\n",
    "        fn_input = [xs[var.name] for var in bdr.obj_info[\"inputs\"]]    \n",
    "        grad = bdr.obj_info[\"fn\"].jac_fn(*fn_input)\n",
    "    return grad"
   ]
  },
  {
   "cell_type": "code",
   "execution_count": 179,
   "metadata": {},
   "outputs": [
    {
     "data": {
      "text/plain": [
       "[]"
      ]
     },
     "execution_count": 179,
     "metadata": {},
     "output_type": "execute_result"
    }
   ],
   "source": [
    "gradient(x)"
   ]
  },
  {
   "cell_type": "code",
   "execution_count": null,
   "metadata": {},
   "outputs": [],
   "source": []
  },
  {
   "cell_type": "code",
   "execution_count": 138,
   "metadata": {},
   "outputs": [],
   "source": [
    "xdim = constr.inputs[0].dim\n",
    "cdim = constr.dim"
   ]
  },
  {
   "cell_type": "code",
   "execution_count": 143,
   "metadata": {},
   "outputs": [],
   "source": [
    "row, col = np.indices((cdim, xdim)).reshape(2, -1)"
   ]
  },
  {
   "cell_type": "code",
   "execution_count": 147,
   "metadata": {},
   "outputs": [],
   "source": [
    "row = row + constr.coord[0]\n",
    "col = col + constr.inputs[0].coord[0]"
   ]
  },
  {
   "cell_type": "code",
   "execution_count": 148,
   "metadata": {},
   "outputs": [
    {
     "data": {
      "text/plain": [
       "(array([12, 12, 12, 13, 13, 13, 14, 14, 14, 15, 15, 15]),\n",
       " array([0, 1, 2, 0, 1, 2, 0, 1, 2, 0, 1, 2]))"
      ]
     },
     "execution_count": 148,
     "metadata": {},
     "output_type": "execute_result"
    }
   ],
   "source": [
    "row, col"
   ]
  },
  {
   "cell_type": "code",
   "execution_count": 133,
   "metadata": {},
   "outputs": [
    {
     "data": {
      "text/plain": [
       "[Array([[0., 0., 0.],\n",
       "        [0., 0., 0.],\n",
       "        [0., 0., 0.],\n",
       "        [0., 0., 0.]], dtype=float32),\n",
       " Array([[0., 0., 0.],\n",
       "        [0., 0., 0.],\n",
       "        [0., 0., 0.],\n",
       "        [0., 0., 0.]], dtype=float32),\n",
       " Array([[0., 0., 0., 0., 0., 0.],\n",
       "        [0., 0., 0., 0., 0., 0.],\n",
       "        [0., 0., 0., 0., 0., 0.],\n",
       "        [0., 0., 0., 0., 0., 0.]], dtype=float32)]"
      ]
     },
     "execution_count": 133,
     "metadata": {},
     "output_type": "execute_result"
    }
   ],
   "source": []
  },
  {
   "cell_type": "code",
   "execution_count": null,
   "metadata": {},
   "outputs": [],
   "source": []
  },
  {
   "cell_type": "code",
   "execution_count": 47,
   "metadata": {},
   "outputs": [],
   "source": [
    "# jacobian sparsity\n",
    "x_idx = {}\n",
    "x_idx[\"x1\"] = np.arange(0, 3)\n",
    "x_idx[\"x2\"] = np.arange(3, 6)\n",
    "x_idx[\"x3\"] = np.arange(6, 9)\n",
    "\n",
    "constr_idx = {}\n",
    "constr_idx[\"c1\"] = np.arange(0, 3)\n",
    "constr_idx[\"c2\"] = np.arange(3, 6)"
   ]
  },
  {
   "cell_type": "code",
   "execution_count": 33,
   "metadata": {},
   "outputs": [
    {
     "data": {
      "text/plain": [
       "3"
      ]
     },
     "execution_count": 33,
     "metadata": {},
     "output_type": "execute_result"
    }
   ],
   "source": []
  },
  {
   "cell_type": "code",
   "execution_count": null,
   "metadata": {},
   "outputs": [],
   "source": []
  },
  {
   "cell_type": "code",
   "execution_count": 45,
   "metadata": {},
   "outputs": [],
   "source": [
    "rowcol = np.indices((len(x_idx[\"x1\"]), len(constr_idx[\"c1\"]))) "
   ]
  },
  {
   "cell_type": "code",
   "execution_count": 46,
   "metadata": {},
   "outputs": [
    {
     "data": {
      "text/plain": [
       "array([[0, 0, 0, 1, 1, 1, 2, 2, 2],\n",
       "       [0, 1, 2, 0, 1, 2, 0, 1, 2]])"
      ]
     },
     "execution_count": 46,
     "metadata": {},
     "output_type": "execute_result"
    }
   ],
   "source": [
    "rowcol.reshape(2, -1)"
   ]
  },
  {
   "cell_type": "code",
   "execution_count": 44,
   "metadata": {},
   "outputs": [
    {
     "data": {
      "text/plain": [
       "array([[[0, 0, 0],\n",
       "        [1, 1, 1],\n",
       "        [2, 2, 2]],\n",
       "\n",
       "       [[0, 1, 2],\n",
       "        [0, 1, 2],\n",
       "        [0, 1, 2]]])"
      ]
     },
     "execution_count": 44,
     "metadata": {},
     "output_type": "execute_result"
    }
   ],
   "source": [
    "rowcol"
   ]
  },
  {
   "cell_type": "code",
   "execution_count": 26,
   "metadata": {},
   "outputs": [
    {
     "name": "stdout",
     "output_type": "stream",
     "text": [
      "139 ns ± 0.334 ns per loop (mean ± std. dev. of 7 runs, 10,000,000 loops each)\n"
     ]
    }
   ],
   "source": [
    "%timeit x[idx[\"x3\"]]"
   ]
  },
  {
   "cell_type": "code",
   "execution_count": 16,
   "metadata": {},
   "outputs": [
    {
     "data": {
      "text/plain": [
       "array([ 0,  4,  8, 12, 16, 20, 24, 28, 32, 36, 40, 44, 48, 52, 56, 60, 64,\n",
       "       68, 72, 76, 80])"
      ]
     },
     "execution_count": 16,
     "metadata": {},
     "output_type": "execute_result"
    }
   ],
   "source": [
    "x"
   ]
  },
  {
   "cell_type": "code",
   "execution_count": 8,
   "metadata": {},
   "outputs": [
    {
     "data": {
      "text/plain": [
       "1"
      ]
     },
     "execution_count": 8,
     "metadata": {},
     "output_type": "execute_result"
    }
   ],
   "source": [
    "x[x_idx[\"x1\"][0]:]"
   ]
  },
  {
   "cell_type": "code",
   "execution_count": 13,
   "metadata": {},
   "outputs": [],
   "source": [
    "x = np.arange(21) * 4"
   ]
  },
  {
   "cell_type": "code",
   "execution_count": null,
   "metadata": {},
   "outputs": [],
   "source": []
  }
 ],
 "metadata": {
  "kernelspec": {
   "display_name": "cu11",
   "language": "python",
   "name": "python3"
  },
  "language_info": {
   "codemirror_mode": {
    "name": "ipython",
    "version": 3
   },
   "file_extension": ".py",
   "mimetype": "text/x-python",
   "name": "python",
   "nbconvert_exporter": "python",
   "pygments_lexer": "ipython3",
   "version": "3.8.16"
  },
  "orig_nbformat": 4
 },
 "nbformat": 4,
 "nbformat_minor": 2
}
