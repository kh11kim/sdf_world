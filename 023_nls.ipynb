{
 "cells": [
  {
   "cell_type": "code",
   "execution_count": 1,
   "metadata": {},
   "outputs": [],
   "source": [
    "import numpy as np\n",
    "import jax\n",
    "from jax import Array\n",
    "import jax.numpy as jnp\n",
    "import jax_dataclasses as jdc\n",
    "from typing import *\n",
    "from jax.experimental.sparse import BCOO"
   ]
  },
  {
   "cell_type": "code",
   "execution_count": null,
   "metadata": {},
   "outputs": [],
   "source": [
    "from sdf_world.sdf_world import *\n",
    "from sdf_world.robots import *\n",
    "from sdf_world.util import *\n",
    "\n",
    "world = SDFWorld()\n",
    "panda_model = RobotModel(PANDA_URDF, PANDA_PACKAGE)\n",
    "panda = Robot(world.vis, \"panda\", panda_model, alpha=0.5)\n",
    "panda.reduce_dim([7, 8], [0.04, 0.04])"
   ]
  },
  {
   "cell_type": "code",
   "execution_count": 78,
   "metadata": {},
   "outputs": [],
   "source": [
    "@jdc.pytree_dataclass\n",
    "class Params:\n",
    "    q0: Array\n",
    "    target: Array\n",
    "    \n",
    "@jdc.pytree_dataclass\n",
    "class Var:\n",
    "    name: str\n",
    "    dim: int\n",
    "\n",
    "    def freeze(self, key):\n",
    "        return FrozenVar(key, self.dim)\n",
    "\n",
    "@jdc.pytree_dataclass\n",
    "class FrozenVar:\n",
    "    key: int\n",
    "    dim: int\n",
    "\n",
    "@jdc.pytree_dataclass\n",
    "class Feature:\n",
    "    name: str\n",
    "    dim: int\n",
    "    vars: List[Var]\n",
    "    value_and_jac_fn: Callable\n",
    "    weight: Array\n",
    "\n",
    "    @property\n",
    "    def x_dim(self):\n",
    "        return np.sum([var.dim for var in self.vars])\n",
    "\n",
    "    def freeze(self, key, x_coord, jac_indices): #frozen_var_map:Dict[str, FrozenVar]\n",
    "        #frozen_vars = [frozen_var_map[var.name] for var in self.vars]\n",
    "        return FrozenFeature(\n",
    "            key, self.dim, self.x_dim, x_coord, jac_indices,\n",
    "            jax.tree_util.Partial(self.value_and_jac_fn),\n",
    "            self.weight\n",
    "        )\n",
    "    \n",
    "@jdc.pytree_dataclass\n",
    "class FrozenFeature:\n",
    "    key: int\n",
    "    dim: int\n",
    "    x_dim: int\n",
    "    x_coord: Array\n",
    "    jac_indices: Array\n",
    "    value_and_jac_fn: Callable\n",
    "    weight: Array"
   ]
  },
  {
   "cell_type": "code",
   "execution_count": 89,
   "metadata": {},
   "outputs": [],
   "source": [
    "@jdc.pytree_dataclass\n",
    "class FactorGraph:\n",
    "    x_dim:int\n",
    "    feat_dim:int\n",
    "    vars: Dict[str, FrozenVar]\n",
    "    features: Dict[str, FrozenFeature]\n",
    "    #coords_map: Dict[str, Array]\n",
    "    # feature_var_map: Tuple\n",
    "    # x_coords_map: List[Array]\n",
    "    # x_offsets: List[int]\n",
    "    # jac_indices: List[Array]\n",
    "    # weight_mat: BCOO\n",
    "\n",
    "class FactorGraphBuilder:\n",
    "    def __init__(self):\n",
    "        self.vars: Dict[str,Var] = dict()\n",
    "        self.features: Dict[str, Feature] = dict()\n",
    "\n",
    "    @property\n",
    "    def x_dim(self):\n",
    "        return np.sum([var.dim for var in self.vars.values()])\n",
    "    @property\n",
    "    def feat_dim(self):\n",
    "        return np.sum([feat.dim for feat in self.features.values()])\n",
    "    @property\n",
    "    def weight_vec(self):\n",
    "        weights = []\n",
    "        for name, feature in self.features.items():\n",
    "            self.jac_indices[name] = self.get_jac_indices(feature)\n",
    "            weights.append(feature.weight)\n",
    "        return np.hstack(weights)\n",
    "    \n",
    "    def add_var(self, var:Var):\n",
    "        self.vars[var.name] = var\n",
    "\n",
    "    def add_feature(self, feature:Feature):\n",
    "        self.features[feature.name] = feature\n",
    "\n",
    "    def get_jac_indices(self, feature):\n",
    "        indices_list = []\n",
    "        for var in feature.vars:\n",
    "            indices = np.indices((feature.dim, var.dim)).reshape(2, -1).T\n",
    "            indices[:,0] += self.feat_offset[feature.name]\n",
    "            indices[:,1] += self.x_offsets[var.name]\n",
    "            indices_list.append(indices)\n",
    "        return np.vstack(indices_list)\n",
    "    \n",
    "    def build(self):\n",
    "        self.x_coords_map = dict()\n",
    "        self.x_offsets = dict()\n",
    "        self.feat_offset = dict()\n",
    "        self.jac_indices = dict()\n",
    "\n",
    "        frozen_vars = {}\n",
    "        for idx, var in enumerate(self.vars.values()):\n",
    "            frozen_vars[idx] = var.freeze(idx)\n",
    "        \n",
    "        #calculate x indices(coordinate)\n",
    "        offset = 0\n",
    "        for name, var in self.vars.items():\n",
    "            self.x_coords_map[name] = np.arange(var.dim) + offset\n",
    "            self.x_offsets[name] = offset\n",
    "            offset += var.dim\n",
    "\n",
    "        #calculate feature indices\n",
    "        offset = 0\n",
    "        for name, feat in self.features.items():\n",
    "            self.feat_offset[name] = offset\n",
    "            offset += feat.dim\n",
    "\n",
    "        frozen_features = {}\n",
    "        for idx, feat in enumerate(self.features.values()):\n",
    "            var_names = [var.name for var in feat.vars]\n",
    "            x_coords = [self.x_coords_map[name] for name in var_names]\n",
    "            jac_indices = self.get_jac_indices(feat)\n",
    "            frozen_features[idx] =\\\n",
    "                feat.freeze(\n",
    "                    idx, \n",
    "                    np.hstack(x_coords), \n",
    "                    jac_indices)\n",
    "\n",
    "        return FactorGraph(\n",
    "            self.x_dim, \n",
    "            self.feat_dim,\n",
    "            frozen_vars, \n",
    "            frozen_features)\n",
    "\n",
    "        # #calculate x_coords, offset\n",
    "        # offset = 0\n",
    "        # for name, var in self.vars.items():\n",
    "        #     self.x_coords[name] = np.arange(var.dim) + offset\n",
    "        #     self.x_offsets[name] = offset\n",
    "        #     offset += var.dim\n",
    "            \n",
    "        # offset = 0\n",
    "        # for name, feature in self.features.items():\n",
    "        #     self.feat_offset[name] = offset\n",
    "        #     offset += feature.dim\n",
    "\n",
    "        # #freeze var, features\n",
    "        # self.frozen_vars = []\n",
    "        # self.var_idx_map = {}\n",
    "        # for i, var in enumerate(self.vars.values()):\n",
    "        #     self.frozen_vars.append(var.freeze(i))\n",
    "        #     self.var_idx_map[var.name] = i\n",
    "        # self.frozen_features = []\n",
    "        # for i, feature in enumerate(self.features.values()):\n",
    "        #     self.frozen_features.append(\n",
    "        #         feature.freeze(i, self.var_idx_map))\n",
    "        # eye_indices = np.tile(np.arange(self.feat_dim), 2).reshape(2,-1).T\n",
    "        # weight_mat = BCOO((self.weight_vec, eye_indices), shape=(self.feat_dim,self.feat_dim))\n",
    "        # var_indices = {var.name:i for i, var in enumerate(self.vars.values())}\n",
    "        # feature_var_map = {i:list(var_indices[var.name] for var in feature.vars)\n",
    "        #                    for i, feature in enumerate(self.features.values())}\n",
    "        # x_coords_map = []\n",
    "        # for feature in self.features.values():\n",
    "        #     var_names = [var.name for var in feature.vars]\n",
    "        #     coords = [self.x_coords[name] for name in var_names]\n",
    "        #     x_coords_map.append(np.hstack(coords))\n",
    "        #     self.jac_indices[feature.name] = self.get_jac_indices(feature)\n",
    "\n",
    "        # return FactorGraph(\n",
    "        #     self.x_dim,\n",
    "        #     self.feat_dim,\n",
    "        #     self.frozen_vars,\n",
    "        #     self.frozen_features,\n",
    "        #     feature_var_map,\n",
    "        #     x_coords_map,\n",
    "        #     self.x_offsets,\n",
    "        #     list(self.jac_indices.values()),\n",
    "        #     weight_mat\n",
    "        # )"
   ]
  },
  {
   "cell_type": "code",
   "execution_count": 11,
   "metadata": {},
   "outputs": [],
   "source": [
    "@jax.jit\n",
    "def get_feature_and_jac(x, param, graph:FactorGraph): #, param:Params\n",
    "    vals = []\n",
    "    data, indices = [], []\n",
    "    for i, feature in enumerate(graph.features):\n",
    "        xin = x[graph.x_coords_map[i]]\n",
    "        val, jac = feature.value_and_jac_fn(xin, param)\n",
    "        vals.append(val)\n",
    "        data.append(jac.flatten())\n",
    "        indices.append(graph.jac_indices[i])\n",
    "    jac_data = jnp.hstack(data)\n",
    "    jac_indices = jnp.vstack(indices)\n",
    "    val = jnp.hstack(vals)\n",
    "    return val, jac_data, jac_indices\n"
   ]
  },
  {
   "cell_type": "code",
   "execution_count": 55,
   "metadata": {},
   "outputs": [],
   "source": [
    "# Kinematics\n",
    "def get_rotvec_angvel_map(v):\n",
    "    def skew(v):\n",
    "        v1, v2, v3 = v\n",
    "        return jnp.array([[0, -v3, v2],\n",
    "                        [v3, 0., -v1],\n",
    "                        [-v2, v1, 0.]])\n",
    "    vmag = jnp.linalg.norm(v)\n",
    "    vskew = skew(v)\n",
    "    return jnp.eye(3) \\\n",
    "        - 1/2*skew(v) \\\n",
    "        + vskew@vskew * 1/vmag**2 * (1-vmag/2 * jnp.sin(vmag)/(1-jnp.cos(vmag)))\n",
    "\n",
    "@jax.jit\n",
    "def get_ee_fk_jac(q):\n",
    "    # outputs ee_posevec and analytical jacobian\n",
    "    fks = panda_model.fk_fn(q)\n",
    "    p_ee = fks[-1][-3:]\n",
    "    rotvec_ee = SO3(fks[-1][:4]).log()\n",
    "    E = get_rotvec_angvel_map(rotvec_ee)\n",
    "    jac = []\n",
    "    for posevec in fks[1:8]:\n",
    "        p_frame = posevec[-3:]\n",
    "        rot_axis = SE3(posevec).as_matrix()[:3, 2]\n",
    "        lin_vel = jnp.cross(rot_axis, p_ee - p_frame)\n",
    "        jac.append(jnp.hstack([lin_vel, rot_axis]))\n",
    "    jac = jnp.array(jac).T\n",
    "    jac = jac.at[3:, :].set(E @ jac[3:, :])\n",
    "    return jnp.hstack([p_ee, rotvec_ee]), jac\n",
    "\n",
    "def to_posevec(pose:SE3):\n",
    "    return jnp.hstack([pose.translation(), pose.rotation().log()])"
   ]
  },
  {
   "cell_type": "code",
   "execution_count": 154,
   "metadata": {},
   "outputs": [],
   "source": [
    "# feature functions\n",
    "pose_weight = np.array([1, 1, 1, 0.3, 0.3, 0.3])\n",
    "@jax.jit\n",
    "def vj_pose_error(x, param:Params):\n",
    "    ee, robot_jac = get_ee_fk_jac(x)\n",
    "    residual = param.target - ee\n",
    "    jac = - robot_jac\n",
    "    return residual, jac"
   ]
  },
  {
   "cell_type": "code",
   "execution_count": 155,
   "metadata": {},
   "outputs": [],
   "source": [
    "builder = FactorGraphBuilder()\n",
    "var_q1 = Var(\"q1\", 7)\n",
    "var_q2 = Var(\"q2\", 7)\n",
    "#var_pose = Var(\"pose\", 6)\n",
    "feat_pose_err1 = Feature(\n",
    "    \"pose_err1\", 6, [var_q1], vj_pose_error, pose_weight)\n",
    "feat_pose_err2 = Feature(\n",
    "    \"pose_err2\", 6, [var_q2], vj_pose_error, pose_weight)\n",
    "builder.add_var(var_q1)\n",
    "builder.add_var(var_q2)\n",
    "builder.add_feature(feat_pose_err1)\n",
    "builder.add_feature(feat_pose_err2)"
   ]
  },
  {
   "cell_type": "code",
   "execution_count": 156,
   "metadata": {},
   "outputs": [],
   "source": [
    "fg = builder.build()"
   ]
  },
  {
   "cell_type": "code",
   "execution_count": 163,
   "metadata": {},
   "outputs": [],
   "source": [
    "@jax.jit\n",
    "def feature_and_jac(x, param:Params, graph:FactorGraph):\n",
    "    features = []\n",
    "    jacs = []\n",
    "    jac_indices = []\n",
    "    for feature in graph.features.values():\n",
    "        xin = x[feature.x_coord]\n",
    "        val, jac = feature.value_and_jac_fn(xin, param)\n",
    "        features.append(val)\n",
    "        jacs.append(jac.flatten())\n",
    "        jac_indices.append(feature.jac_indices.T)\n",
    "    return jnp.hstack(features), jnp.hstack(jacs), jnp.hstack(jac_indices)"
   ]
  },
  {
   "cell_type": "code",
   "execution_count": 173,
   "metadata": {},
   "outputs": [
    {
     "data": {
      "text/plain": [
       "{1: 2, 2: 3}"
      ]
     },
     "execution_count": 173,
     "metadata": {},
     "output_type": "execute_result"
    }
   ],
   "source": [
    "jax.tree_map(lambda x, param: a+1 , {1:1, 2:2})"
   ]
  },
  {
   "cell_type": "code",
   "execution_count": 179,
   "metadata": {},
   "outputs": [],
   "source": [
    "xins = {}\n",
    "params = {}\n",
    "for key, feature in fg.features.items():\n",
    "    xins[key] = x[feature.x_coord]\n",
    "    params[key] = param\n"
   ]
  },
  {
   "cell_type": "code",
   "execution_count": 180,
   "metadata": {},
   "outputs": [
    {
     "data": {
      "text/plain": [
       "{0: Params(q0=array([ 0.    ,  0.    ,  0.    , -1.5708,  0.    ,  1.8675,  0.    ]), target=Array([-0.23464473,  0.35054806,  0.41998622,  1.4455944 ,  1.6146585 ,\n",
       "         1.8347615 ], dtype=float32)),\n",
       " 1: Params(q0=array([ 0.    ,  0.    ,  0.    , -1.5708,  0.    ,  1.8675,  0.    ]), target=Array([-0.23464473,  0.35054806,  0.41998622,  1.4455944 ,  1.6146585 ,\n",
       "         1.8347615 ], dtype=float32))}"
      ]
     },
     "execution_count": 180,
     "metadata": {},
     "output_type": "execute_result"
    }
   ],
   "source": [
    "jax.tree_map(Feature.value_and_jac_fn, )"
   ]
  },
  {
   "cell_type": "code",
   "execution_count": 178,
   "metadata": {},
   "outputs": [
    {
     "data": {
      "text/plain": [
       "{0: Array([ 0.    ,  0.    ,  0.    , -1.5708,  0.    ,  1.8675,  0.    ],      dtype=float32),\n",
       " 1: Array([ 0.    ,  0.    ,  0.    , -1.5708,  0.    ,  1.8675,  0.    ],      dtype=float32)}"
      ]
     },
     "execution_count": 178,
     "metadata": {},
     "output_type": "execute_result"
    }
   ],
   "source": [
    "xins"
   ]
  },
  {
   "cell_type": "code",
   "execution_count": 175,
   "metadata": {},
   "outputs": [
    {
     "data": {
      "text/plain": [
       "Array([ 0.    ,  0.    ,  0.    , -1.5708,  0.    ,  1.8675,  0.    ,\n",
       "        0.    ,  0.    ,  0.    , -1.5708,  0.    ,  1.8675,  0.    ],      dtype=float32)"
      ]
     },
     "execution_count": 175,
     "metadata": {},
     "output_type": "execute_result"
    }
   ],
   "source": [
    "x"
   ]
  },
  {
   "cell_type": "code",
   "execution_count": 171,
   "metadata": {},
   "outputs": [
    {
     "data": {
      "text/plain": [
       "{0: FrozenFeature(key=0, dim=6, x_dim=7, x_coord=array([0, 1, 2, 3, 4, 5, 6]), jac_indices=array([[0, 0],\n",
       "        [0, 1],\n",
       "        [0, 2],\n",
       "        [0, 3],\n",
       "        [0, 4],\n",
       "        [0, 5],\n",
       "        [0, 6],\n",
       "        [1, 0],\n",
       "        [1, 1],\n",
       "        [1, 2],\n",
       "        [1, 3],\n",
       "        [1, 4],\n",
       "        [1, 5],\n",
       "        [1, 6],\n",
       "        [2, 0],\n",
       "        [2, 1],\n",
       "        [2, 2],\n",
       "        [2, 3],\n",
       "        [2, 4],\n",
       "        [2, 5],\n",
       "        [2, 6],\n",
       "        [3, 0],\n",
       "        [3, 1],\n",
       "        [3, 2],\n",
       "        [3, 3],\n",
       "        [3, 4],\n",
       "        [3, 5],\n",
       "        [3, 6],\n",
       "        [4, 0],\n",
       "        [4, 1],\n",
       "        [4, 2],\n",
       "        [4, 3],\n",
       "        [4, 4],\n",
       "        [4, 5],\n",
       "        [4, 6],\n",
       "        [5, 0],\n",
       "        [5, 1],\n",
       "        [5, 2],\n",
       "        [5, 3],\n",
       "        [5, 4],\n",
       "        [5, 5],\n",
       "        [5, 6]]), value_and_jac_fn=Partial(<PjitFunction of <function vj_pose_error at 0x7fdc705d7f70>>), weight=array([1. , 1. , 1. , 0.3, 0.3, 0.3])),\n",
       " 1: FrozenFeature(key=1, dim=6, x_dim=7, x_coord=array([ 7,  8,  9, 10, 11, 12, 13]), jac_indices=array([[ 6,  7],\n",
       "        [ 6,  8],\n",
       "        [ 6,  9],\n",
       "        [ 6, 10],\n",
       "        [ 6, 11],\n",
       "        [ 6, 12],\n",
       "        [ 6, 13],\n",
       "        [ 7,  7],\n",
       "        [ 7,  8],\n",
       "        [ 7,  9],\n",
       "        [ 7, 10],\n",
       "        [ 7, 11],\n",
       "        [ 7, 12],\n",
       "        [ 7, 13],\n",
       "        [ 8,  7],\n",
       "        [ 8,  8],\n",
       "        [ 8,  9],\n",
       "        [ 8, 10],\n",
       "        [ 8, 11],\n",
       "        [ 8, 12],\n",
       "        [ 8, 13],\n",
       "        [ 9,  7],\n",
       "        [ 9,  8],\n",
       "        [ 9,  9],\n",
       "        [ 9, 10],\n",
       "        [ 9, 11],\n",
       "        [ 9, 12],\n",
       "        [ 9, 13],\n",
       "        [10,  7],\n",
       "        [10,  8],\n",
       "        [10,  9],\n",
       "        [10, 10],\n",
       "        [10, 11],\n",
       "        [10, 12],\n",
       "        [10, 13],\n",
       "        [11,  7],\n",
       "        [11,  8],\n",
       "        [11,  9],\n",
       "        [11, 10],\n",
       "        [11, 11],\n",
       "        [11, 12],\n",
       "        [11, 13]]), value_and_jac_fn=Partial(<PjitFunction of <function vj_pose_error at 0x7fdc705d7f70>>), weight=array([1. , 1. , 1. , 0.3, 0.3, 0.3]))}"
      ]
     },
     "execution_count": 171,
     "metadata": {},
     "output_type": "execute_result"
    }
   ],
   "source": [
    "fg.features"
   ]
  },
  {
   "cell_type": "code",
   "execution_count": null,
   "metadata": {},
   "outputs": [],
   "source": [
    "jax.tree_map()"
   ]
  },
  {
   "cell_type": "code",
   "execution_count": 158,
   "metadata": {},
   "outputs": [],
   "source": [
    "x = jnp.hstack([panda.neutral, panda.neutral])\n",
    "param = Params(panda.neutral, to_posevec(make_pose()))"
   ]
  },
  {
   "cell_type": "code",
   "execution_count": 170,
   "metadata": {},
   "outputs": [
    {
     "name": "stdout",
     "output_type": "stream",
     "text": [
      "255 µs ± 6.96 µs per loop (mean ± std. dev. of 7 runs, 1,000 loops each)\n"
     ]
    }
   ],
   "source": [
    "%timeit feature_and_jac(x, param, fg)"
   ]
  },
  {
   "cell_type": "code",
   "execution_count": 160,
   "metadata": {},
   "outputs": [
    {
     "name": "stdout",
     "output_type": "stream",
     "text": [
      "260 µs ± 3.12 µs per loop (mean ± std. dev. of 7 runs, 1,000 loops each)\n"
     ]
    }
   ],
   "source": [
    "%timeit feature_and_jac(x, param, fg)"
   ]
  },
  {
   "cell_type": "code",
   "execution_count": null,
   "metadata": {},
   "outputs": [],
   "source": [
    "builder.add_feature(\n",
    "    Feature()\n",
    ")"
   ]
  },
  {
   "cell_type": "code",
   "execution_count": 33,
   "metadata": {},
   "outputs": [],
   "source": [
    "frame = Frame(world.vis, \"frame\")\n",
    "def make_pose():\n",
    "    return SE3.from_rotation_and_translation(\n",
    "        SO3(np.random.random(4)).normalize(),\n",
    "        np.random.uniform([-0.3,-0.5,0.3],[0.6, 0.5, 0.8])\n",
    "    )"
   ]
  }
 ],
 "metadata": {
  "kernelspec": {
   "display_name": "cu11",
   "language": "python",
   "name": "python3"
  },
  "language_info": {
   "codemirror_mode": {
    "name": "ipython",
    "version": 3
   },
   "file_extension": ".py",
   "mimetype": "text/x-python",
   "name": "python",
   "nbconvert_exporter": "python",
   "pygments_lexer": "ipython3",
   "version": "3.8.16"
  },
  "orig_nbformat": 4
 },
 "nbformat": 4,
 "nbformat_minor": 2
}
