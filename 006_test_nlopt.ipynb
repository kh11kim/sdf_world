{
 "cells": [
  {
   "cell_type": "code",
   "execution_count": 55,
   "metadata": {},
   "outputs": [],
   "source": [
    "import nlopt\n",
    "import numpy as np\n",
    "import jax.numpy as jnp\n",
    "import jax"
   ]
  },
  {
   "cell_type": "code",
   "execution_count": 66,
   "metadata": {},
   "outputs": [],
   "source": [
    "opt = nlopt.opt(nlopt.LD_AUGLAG, 4)\n",
    "x0 = jnp.array([1.0, 5.0, 5.0, 1.0])"
   ]
  },
  {
   "cell_type": "code",
   "execution_count": 67,
   "metadata": {},
   "outputs": [],
   "source": [
    "#objective\n",
    "def objective(x):\n",
    "    return x[0]*x[3]*np.sum(x[:3]) + x[2]\n",
    "\n",
    "def f(x, grad):\n",
    "    val, grads = jax.value_and_grad(objective)(x)\n",
    "    if grad.size > 0:\n",
    "        grad[:] = grads\n",
    "    return val.item()\n",
    "opt.set_min_objective(f)"
   ]
  },
  {
   "cell_type": "code",
   "execution_count": 68,
   "metadata": {},
   "outputs": [],
   "source": [
    "#bound constraints\n",
    "lb = np.array([1.0, 1.0, 1.0, 1.0])\n",
    "ub = np.array([5.0, 5.0, 5.0, 5.0])\n",
    "opt.set_lower_bounds(lb)\n",
    "opt.set_upper_bounds(ub)"
   ]
  },
  {
   "cell_type": "code",
   "execution_count": 69,
   "metadata": {},
   "outputs": [],
   "source": [
    "#constraints\n",
    "def ceq_fn(x):\n",
    "    return jnp.sum(x**2) - 40\n",
    "def cineq_fn(x):\n",
    "    return 25 - jnp.prod(x)\n",
    "ceq_fn_val_grad = jax.jit(jax.value_and_grad(ceq_fn)).lower(x0).compile()\n",
    "cineq_fn_val_grad = jax.jit(jax.value_and_grad(cineq_fn)).lower(x0).compile()\n",
    "\n",
    "def ceq(result, x, grad):\n",
    "    val, grads = ceq_fn_val_grad(x)\n",
    "    if grad.size > 0:\n",
    "       grad[:] = grads\n",
    "    result[:] = val\n",
    "\n",
    "def cineq(result, x, grad):\n",
    "    val, grads = cineq_fn_val_grad(x)\n",
    "    if grad.size > 0:\n",
    "       grad[:] = grads\n",
    "    result[:] = val\n",
    "\n",
    "opt.add_inequality_mconstraint(cineq, [0.01])\n",
    "opt.add_equality_mconstraint(ceq, [0.01])\n"
   ]
  },
  {
   "cell_type": "code",
   "execution_count": 70,
   "metadata": {},
   "outputs": [],
   "source": [
    "xtol = 1e-4\n",
    "opt.set_xtol_rel(xtol*10)\n",
    "\n",
    "opt2 = nlopt.opt(nlopt.LD_SLSQP, 4)\n",
    "opt2.set_xtol_rel(xtol)\n",
    "opt.set_local_optimizer(opt2)"
   ]
  },
  {
   "cell_type": "code",
   "execution_count": 88,
   "metadata": {},
   "outputs": [
    {
     "name": "stdout",
     "output_type": "stream",
     "text": [
      "CPU times: user 4 µs, sys: 0 ns, total: 4 µs\n",
      "Wall time: 8.34 µs\n"
     ]
    }
   ],
   "source": [
    "%time\n",
    "xopt = opt.optimize(xopt)"
   ]
  },
  {
   "cell_type": "code",
   "execution_count": 89,
   "metadata": {},
   "outputs": [
    {
     "data": {
      "text/plain": [
       "array([1.        , 4.74322359, 3.82087298, 1.3794318 ])"
      ]
     },
     "execution_count": 89,
     "metadata": {},
     "output_type": "execute_result"
    }
   ],
   "source": [
    "xopt"
   ]
  },
  {
   "cell_type": "code",
   "execution_count": 119,
   "metadata": {},
   "outputs": [
    {
     "data": {
      "text/plain": [
       "array([1.        , 4.74319474, 3.82094769, 1.37939895])"
      ]
     },
     "execution_count": 119,
     "metadata": {},
     "output_type": "execute_result"
    }
   ],
   "source": [
    "xopt"
   ]
  },
  {
   "cell_type": "code",
   "execution_count": 87,
   "metadata": {},
   "outputs": [
    {
     "name": "stdout",
     "output_type": "stream",
     "text": [
      "[-25.  -5.  -5. -25.]\n"
     ]
    }
   ],
   "source": [
    "result = np.zeros(1)\n",
    "grad = np.zeros(4)\n",
    "cineq(result, x0, grad)\n",
    "print(grad)"
   ]
  },
  {
   "cell_type": "code",
   "execution_count": 81,
   "metadata": {},
   "outputs": [
    {
     "data": {
      "text/plain": [
       "16.0"
      ]
     },
     "execution_count": 81,
     "metadata": {},
     "output_type": "execute_result"
    }
   ],
   "source": [
    "f(x0, grad)"
   ]
  },
  {
   "cell_type": "code",
   "execution_count": 82,
   "metadata": {},
   "outputs": [
    {
     "data": {
      "text/plain": [
       "array([12.,  1.,  2., 11.])"
      ]
     },
     "execution_count": 82,
     "metadata": {},
     "output_type": "execute_result"
    }
   ],
   "source": [
    "grad"
   ]
  },
  {
   "cell_type": "code",
   "execution_count": 51,
   "metadata": {},
   "outputs": [],
   "source": [
    "val, grads = jax.value_and_grad(ceq_fn)(x0)"
   ]
  },
  {
   "cell_type": "code",
   "execution_count": 54,
   "metadata": {},
   "outputs": [],
   "source": [
    "result[:] = val"
   ]
  },
  {
   "cell_type": "code",
   "execution_count": 57,
   "metadata": {},
   "outputs": [
    {
     "data": {
      "text/plain": [
       "array([12.])"
      ]
     },
     "execution_count": 57,
     "metadata": {},
     "output_type": "execute_result"
    }
   ],
   "source": [
    "result"
   ]
  },
  {
   "cell_type": "code",
   "execution_count": 48,
   "metadata": {},
   "outputs": [],
   "source": [
    "result = np.zeros(1)\n",
    "cineq(result, x0, np.array([]))"
   ]
  },
  {
   "cell_type": "code",
   "execution_count": 50,
   "metadata": {},
   "outputs": [
    {
     "data": {
      "text/plain": [
       "(1,)"
      ]
     },
     "execution_count": 50,
     "metadata": {},
     "output_type": "execute_result"
    }
   ],
   "source": [
    "result.shape"
   ]
  },
  {
   "cell_type": "code",
   "execution_count": 14,
   "metadata": {},
   "outputs": [],
   "source": [
    "grad = np.zeros(4)"
   ]
  },
  {
   "cell_type": "code",
   "execution_count": 32,
   "metadata": {},
   "outputs": [
    {
     "data": {
      "text/plain": [
       "16.0"
      ]
     },
     "execution_count": 32,
     "metadata": {},
     "output_type": "execute_result"
    }
   ],
   "source": [
    "f(x0, grad)"
   ]
  },
  {
   "cell_type": "code",
   "execution_count": 33,
   "metadata": {},
   "outputs": [
    {
     "data": {
      "text/plain": [
       "array([12.,  1.,  2., 11.])"
      ]
     },
     "execution_count": 33,
     "metadata": {},
     "output_type": "execute_result"
    }
   ],
   "source": [
    "grad"
   ]
  },
  {
   "cell_type": "code",
   "execution_count": 21,
   "metadata": {},
   "outputs": [
    {
     "data": {
      "text/plain": [
       "dtype('float64')"
      ]
     },
     "execution_count": 21,
     "metadata": {},
     "output_type": "execute_result"
    }
   ],
   "source": [
    "grad.dtype"
   ]
  }
 ],
 "metadata": {
  "kernelspec": {
   "display_name": "cu11",
   "language": "python",
   "name": "python3"
  },
  "language_info": {
   "codemirror_mode": {
    "name": "ipython",
    "version": 3
   },
   "file_extension": ".py",
   "mimetype": "text/x-python",
   "name": "python",
   "nbconvert_exporter": "python",
   "pygments_lexer": "ipython3",
   "version": "3.8.16"
  },
  "orig_nbformat": 4
 },
 "nbformat": 4,
 "nbformat_minor": 2
}
