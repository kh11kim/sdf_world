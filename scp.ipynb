{
 "cells": [
  {
   "cell_type": "code",
   "execution_count": 45,
   "metadata": {},
   "outputs": [],
   "source": [
    "import jax\n",
    "from jax import Array\n",
    "import jax.numpy as jnp\n",
    "import jax_dataclasses as jdc\n",
    "from typing import *\n",
    "import numpy as np\n",
    "\n",
    "import osqp\n",
    "from scipy import sparse"
   ]
  },
  {
   "cell_type": "code",
   "execution_count": 189,
   "metadata": {},
   "outputs": [],
   "source": [
    "from jax.experimental.sparse.csr import *\n",
    "import scipy\n",
    "\n",
    "@jdc.pytree_dataclass\n",
    "class SparseCooCoordinates:\n",
    "    rows: Array\n",
    "    cols: Array\n",
    "\n",
    "@jdc.pytree_dataclass\n",
    "class SparseCooMatrix:\n",
    "    values: Array\n",
    "    coords: SparseCooCoordinates\n",
    "    shape: Tuple[int, int] = jdc.static_field()\n",
    "\n",
    "    def __matmul__(self, other: Array):\n",
    "        assert other.shape == (\n",
    "            self.shape[1],\n",
    "        ), \"Inner product only supported for 1D vectors!\"\n",
    "        return (\n",
    "            jnp.zeros(self.shape[0], dtype=other.dtype)\n",
    "            .at[self.coords.rows]\n",
    "            .add(self.values * other[self.coords.cols])\n",
    "        )\n",
    "\n",
    "    def as_dense(self) -> jnp.ndarray:\n",
    "        return (\n",
    "            jnp.zeros(self.shape)\n",
    "            .at[self.coords.rows, self.coords.cols]\n",
    "            .set(self.values)\n",
    "        )\n",
    "\n",
    "    @staticmethod\n",
    "    def from_scipy(matrix: scipy.sparse.coo_matrix) -> \"SparseCooMatrix\":\n",
    "        return SparseCooMatrix(\n",
    "            values=matrix.data,\n",
    "            coords=SparseCooCoordinates(\n",
    "                rows=matrix.row,\n",
    "                cols=matrix.col,\n",
    "            ),\n",
    "            shape=matrix.shape,\n",
    "        )\n",
    "\n",
    "    def as_scipy_coo_matrix(self) -> scipy.sparse.coo_matrix:\n",
    "        return scipy.sparse.coo_matrix(\n",
    "            (self.values, (self.coords.rows, self.coords.cols)), shape=self.shape\n",
    "        )\n",
    "\n",
    "    @property\n",
    "    def T(self):\n",
    "        return SparseCooMatrix(\n",
    "            values=self.values,\n",
    "            coords=SparseCooCoordinates(\n",
    "                rows=self.coords.cols,\n",
    "                cols=self.coords.rows,\n",
    "            ),\n",
    "            shape=self.shape[::-1],\n",
    "        )"
   ]
  },
  {
   "cell_type": "code",
   "execution_count": 194,
   "metadata": {},
   "outputs": [],
   "source": [
    "class Problem:\n",
    "    def __init__(\n",
    "        self,\n",
    "        dim,\n",
    "        eq_dim,\n",
    "        ineq_dim,\n",
    "        obj_fn, \n",
    "        ceq_fn, \n",
    "        cineq_fn, \n",
    "        grad_fn=None, \n",
    "        hess_fn=None,\n",
    "        ceq_jac_fn=None,\n",
    "        cineq_jac_fn=None,\n",
    "    ):\n",
    "        self.dim = dim\n",
    "        self.eq_dim = eq_dim\n",
    "        self.ineq_dim = ineq_dim\n",
    "        self.f = obj_fn\n",
    "        self.grad_f = jax.grad(obj_fn)\n",
    "        self.hess_f = jax.hessian(obj_fn)\n",
    "        self.g = ceq_fn\n",
    "        self.h = cineq_fn\n",
    "        self.jac_g = jax.jacrev(ceq_fn)\n",
    "        self.jac_h = jax.jacrev(cineq_fn)\n",
    "\n",
    "obj_fn = lambda x: x[0]*x[3]*jnp.sum(x[:3]) + x[2]\n",
    "ceq_fn = lambda x: jnp.sum(x**2) - 40\n",
    "cineq_fn = lambda x: jnp.prod(x) - 25 # >= 0\n",
    "\n",
    "prob = Problem(4, 1, 1, obj_fn, ceq_fn, cineq_fn)"
   ]
  },
  {
   "cell_type": "code",
   "execution_count": 197,
   "metadata": {},
   "outputs": [],
   "source": [
    "dim = 4\n",
    "eq_dim = 1\n",
    "ineq_dim = 1\n",
    "x = jnp.ones(4)"
   ]
  },
  {
   "cell_type": "code",
   "execution_count": 196,
   "metadata": {},
   "outputs": [],
   "source": [
    "grad = prob.grad_f(x)\n",
    "hess = prob.hess_f(x)\n",
    "ceq = prob.g(x)\n",
    "cineq = prob.h(x)\n",
    "ceq_jac = prob.jac_g(x)\n",
    "cineq_jac = prob.jac_h(x)"
   ]
  },
  {
   "cell_type": "code",
   "execution_count": 198,
   "metadata": {},
   "outputs": [],
   "source": [
    "hess_coord = SparseCooCoordinates(np.arange(dim), np.arange(dim))\n",
    "dim_aug = dim+eq_dim*2+ineq_dim\n",
    "hess = SparseCooMatrix(hess, hess_coord, shape=(dim_aug,dim_aug))"
   ]
  },
  {
   "cell_type": "code",
   "execution_count": null,
   "metadata": {},
   "outputs": [],
   "source": []
  },
  {
   "cell_type": "code",
   "execution_count": 182,
   "metadata": {},
   "outputs": [],
   "source": []
  },
  {
   "cell_type": "code",
   "execution_count": 180,
   "metadata": {},
   "outputs": [],
   "source": [
    "mat = MyCSC.fromdense(jnp.eye(10)[2:])"
   ]
  },
  {
   "cell_type": "code",
   "execution_count": 181,
   "metadata": {},
   "outputs": [
    {
     "data": {
      "text/plain": [
       "CSC(float32[8, 10], nse=8)"
      ]
     },
     "execution_count": 181,
     "metadata": {},
     "output_type": "execute_result"
    }
   ],
   "source": [
    "mat"
   ]
  },
  {
   "cell_type": "code",
   "execution_count": 173,
   "metadata": {},
   "outputs": [
    {
     "ename": "AttributeError",
     "evalue": "'CSC' object has no attribute 'as_scipy'",
     "output_type": "error",
     "traceback": [
      "\u001b[0;31m---------------------------------------------------------------------------\u001b[0m",
      "\u001b[0;31mAttributeError\u001b[0m                            Traceback (most recent call last)",
      "Cell \u001b[0;32mIn[173], line 1\u001b[0m\n\u001b[0;32m----> 1\u001b[0m mat\u001b[39m.\u001b[39;49mas_scipy()\n",
      "\u001b[0;31mAttributeError\u001b[0m: 'CSC' object has no attribute 'as_scipy'"
     ]
    }
   ],
   "source": [
    "mat.as_scipy()"
   ]
  },
  {
   "cell_type": "code",
   "execution_count": 144,
   "metadata": {},
   "outputs": [],
   "source": [
    "mat = CSC.fromdense(jnp.eye(10))"
   ]
  },
  {
   "cell_type": "code",
   "execution_count": 146,
   "metadata": {},
   "outputs": [
    {
     "data": {
      "text/plain": [
       "Array([[1., 0., 0., 0., 0., 0., 0., 0., 0., 0.],\n",
       "       [0., 1., 0., 0., 0., 0., 0., 0., 0., 0.],\n",
       "       [0., 0., 1., 0., 0., 0., 0., 0., 0., 0.],\n",
       "       [0., 0., 0., 1., 0., 0., 0., 0., 0., 0.],\n",
       "       [0., 0., 0., 0., 1., 0., 0., 0., 0., 0.],\n",
       "       [0., 0., 0., 0., 0., 1., 0., 0., 0., 0.],\n",
       "       [0., 0., 0., 0., 0., 0., 1., 0., 0., 0.],\n",
       "       [0., 0., 0., 0., 0., 0., 0., 1., 0., 0.],\n",
       "       [0., 0., 0., 0., 0., 0., 0., 0., 1., 0.],\n",
       "       [0., 0., 0., 0., 0., 0., 0., 0., 0., 1.]], dtype=float32)"
      ]
     },
     "execution_count": 146,
     "metadata": {},
     "output_type": "execute_result"
    }
   ],
   "source": [
    "mat.todense()"
   ]
  },
  {
   "cell_type": "code",
   "execution_count": null,
   "metadata": {},
   "outputs": [],
   "source": []
  },
  {
   "cell_type": "code",
   "execution_count": 137,
   "metadata": {},
   "outputs": [
    {
     "data": {
      "text/plain": [
       "Array([[2., 1., 1., 4.],\n",
       "       [1., 0., 0., 1.],\n",
       "       [1., 0., 0., 1.],\n",
       "       [4., 1., 1., 0.]], dtype=float32)"
      ]
     },
     "execution_count": 137,
     "metadata": {},
     "output_type": "execute_result"
    }
   ],
   "source": [
    "prob.hess_f(jnp.ones(4))"
   ]
  },
  {
   "cell_type": "code",
   "execution_count": null,
   "metadata": {},
   "outputs": [],
   "source": []
  },
  {
   "cell_type": "code",
   "execution_count": null,
   "metadata": {},
   "outputs": [],
   "source": []
  },
  {
   "cell_type": "code",
   "execution_count": 107,
   "metadata": {},
   "outputs": [],
   "source": [
    "@jdc.pytree_dataclass\n",
    "class Param:\n",
    "    q0: Array\n",
    "    target: Array\n",
    "\n",
    "@jdc.pytree_dataclass\n",
    "class Residual:\n",
    "    error_and_jac_fn: Callable[[Array, Param], Tuple[Array]]\n",
    "    weights: Array\n",
    "\n",
    "@jdc.pytree_dataclass\n",
    "class Constr:\n",
    "    value_and_jac_fn: Callable[[Array, Param], Tuple[Array]]\n",
    "    lb: Array\n",
    "    ub: Array\n",
    "    \n",
    "    @property\n",
    "    def dim(self):\n",
    "        return len(self.lb)\n",
    "    \n",
    "    def is_eq_constr(self):\n",
    "        return jnp.array_equal(self.lb, self.ub)\n",
    "    \n",
    "    def value_and_jac_onesided(self, x, param):\n",
    "        cval, cjac = self.value_and_jac_fn(x, param)\n",
    "        cval_onesided = jnp.hstack([cval-self.lb, self.ub-cval])\n",
    "        cjac_onesided = jnp.vstack([cjac, -cjac])\n",
    "        return cval_onesided, cjac_onesided\n",
    "    \n",
    "    def get_bounds_onesided(self):\n",
    "        lb = jnp.zeros(self.dim*2)\n",
    "        if self.is_eq_constr():\n",
    "            ub = jnp.zeros(self.dim*2)\n",
    "        else:\n",
    "            ub = jnp.full(self.dim*2, jnp.inf)\n",
    "        return lb, ub\n",
    "\n",
    "\n",
    "def get_residual_weights(res_fns:Tuple[Residual]):\n",
    "    weights = []\n",
    "    for res_fn in res_fns:\n",
    "        weights.append(res_fn.weights)\n",
    "    return jnp.hstack(weights)\n",
    "\n",
    "# def get_constr_bounds(constr_fns:Tuple[ConstrFn]):\n",
    "#     lbs, ubs = [], []\n",
    "#     for constr_fn in constr_fns:\n",
    "#         zeros = jnp.zeros(constr_fn.dim)\n",
    "#         if constr_fn.is_eq_constr():\n",
    "#             ubs.append(zeros)\n",
    "#         else:\n",
    "#             ubs.append(np.full(constr_fn.dim, np.inf))\n",
    "#         lbs.append(zeros)\n",
    "#         lbs.append(zeros)\n",
    "#     return jnp.hstack(lbs), jnp.hstack(ubs)\n",
    "\n",
    "def eval_residual(x:Array, param:Param, res_fns:Tuple[Residual]):\n",
    "    errors, jacs = [], []\n",
    "    for res_fn in res_fns:\n",
    "        error, jac = res_fn.error_and_jac_fn(x, param)\n",
    "        errors.append(error)\n",
    "        jacs.append(jac)\n",
    "    return jnp.hstack(errors), jnp.vstack(jacs)\n",
    "\n",
    "def eval_constr(x, state, constr_fns:Tuple[Constr]):\n",
    "    ceq, ceq_jacs = [], []\n",
    "    cineq, cineq_jacs = [], []\n",
    "    for constr_fn in constr_fns:\n",
    "        val, jac = constr_fn.value_and_jac_onesided(x, state)\n",
    "        if constr_fn.is_eq_constr():\n",
    "            ceq.append(val)\n",
    "            ceq_jacs.append(jac)\n",
    "        else:\n",
    "            cineq.append(val)\n",
    "            cineq_jacs.append(jac)\n",
    "    return jnp.hstack(ceq), jnp.vstack(ceq_jacs), jnp.hstack(cineq), jnp.vstack(cineq_jacs)"
   ]
  },
  {
   "cell_type": "code",
   "execution_count": 3,
   "metadata": {},
   "outputs": [
    {
     "name": "stdout",
     "output_type": "stream",
     "text": [
      "You can open the visualizer by visiting the following URL:\n",
      "http://127.0.0.1:7007/static/\n"
     ]
    }
   ],
   "source": [
    "from sdf_world.sdf_world import *\n",
    "from sdf_world.robots import *\n",
    "from sdf_world.util import *\n",
    "\n",
    "world = SDFWorld()\n",
    "panda_model = RobotModel(PANDA_URDF, PANDA_PACKAGE)\n",
    "panda = Robot(world.vis, \"panda\", panda_model, alpha=0.5)\n",
    "panda.reduce_dim([7, 8], [0.04, 0.04])"
   ]
  },
  {
   "cell_type": "code",
   "execution_count": 108,
   "metadata": {},
   "outputs": [],
   "source": [
    "robot_dim = 7\n",
    "horizon = 1\n",
    "dim = robot_dim * horizon\n",
    "dt = 0.1\n",
    "\n",
    "to_mat = lambda x: x.reshape(-1, robot_dim)\n",
    "to_vec = lambda x: x.flatten()\n",
    "def to_posevec(pose:SE3):\n",
    "    return jnp.hstack([pose.translation(), pose.rotation().log()])\n",
    "\n",
    "# Kinematics\n",
    "def get_rotvec_angvel_map(v):\n",
    "    def skew(v):\n",
    "        v1, v2, v3 = v\n",
    "        return jnp.array([[0, -v3, v2],\n",
    "                        [v3, 0., -v1],\n",
    "                        [-v2, v1, 0.]])\n",
    "    vmag = jnp.linalg.norm(v)\n",
    "    vskew = skew(v)\n",
    "    return jnp.eye(3) \\\n",
    "        - 1/2*skew(v) \\\n",
    "        + vskew@vskew * 1/vmag**2 * (1-vmag/2 * jnp.sin(vmag)/(1-jnp.cos(vmag)))\n",
    "\n",
    "@jax.jit\n",
    "def get_ee_fk_jac(q):\n",
    "    # outputs ee_posevec and analytical jacobian\n",
    "    fks = panda_model.fk_fn(q)\n",
    "    p_ee = fks[-1][-3:]\n",
    "    rotvec_ee = SO3(fks[-1][:4]).log()\n",
    "    E = get_rotvec_angvel_map(rotvec_ee)\n",
    "    jac = []\n",
    "    for posevec in fks[1:8]:\n",
    "        p_frame = posevec[-3:]\n",
    "        rot_axis = SE3(posevec).as_matrix()[:3, 2]\n",
    "        lin_vel = jnp.cross(rot_axis, p_ee - p_frame)\n",
    "        jac.append(jnp.hstack([lin_vel, rot_axis]))\n",
    "    jac = jnp.array(jac).T\n",
    "    jac = jac.at[3:, :].set(E @ jac[3:, :])\n",
    "    return jnp.hstack([p_ee, rotvec_ee]), jac"
   ]
  },
  {
   "cell_type": "code",
   "execution_count": 8,
   "metadata": {},
   "outputs": [],
   "source": [
    "frame = Frame(world.vis, \"frame\")\n",
    "def make_pose():\n",
    "    return SE3.from_rotation_and_translation(\n",
    "        SO3(np.random.random(4)).normalize(),\n",
    "        np.random.uniform([-0.3,-0.5,0.3],[0.6, 0.5, 0.8])\n",
    "    )"
   ]
  },
  {
   "cell_type": "code",
   "execution_count": 109,
   "metadata": {},
   "outputs": [],
   "source": [
    "@jax.jit\n",
    "def vg_pose_error(x:Array, param:Param):\n",
    "    ee, jac = get_ee_fk_jac(x)\n",
    "    error = param.target - ee\n",
    "    return error, -jac\n",
    "\n",
    "@jax.jit\n",
    "def vj_joint_limit(x:Array, param:Param):\n",
    "    cval = x\n",
    "    cjac = jnp.eye(robot_dim)\n",
    "    return cval, cjac"
   ]
  },
  {
   "cell_type": "code",
   "execution_count": 13,
   "metadata": {},
   "outputs": [],
   "source": [
    "pose_d = make_pose()\n",
    "frame.set_pose(pose_d)\n",
    "posevec_d = to_posevec(pose_d)"
   ]
  },
  {
   "cell_type": "code",
   "execution_count": 110,
   "metadata": {},
   "outputs": [],
   "source": [
    "x = panda.neutral\n",
    "param = Param(panda.neutral, posevec_d)"
   ]
  },
  {
   "cell_type": "code",
   "execution_count": 111,
   "metadata": {},
   "outputs": [],
   "source": [
    "pose_error = Residual(vg_pose_error, jnp.array([1, 1, 1, 0.3, 0.3, 0.3]))\n",
    "joint_limit = Constr(vj_joint_limit, panda.lb, panda.ub)\n",
    "joint_limit_ = Constr(vj_joint_limit, panda.lb, panda.lb)\n",
    "res_fns = [pose_error]\n",
    "constr_fns = [joint_limit, joint_limit_]\n",
    "\n",
    "\n",
    "weight = get_residual_weights(res_fns)\n",
    "W = jnp.diag(weight)\n",
    "dim_x = 7\n",
    "dim_error = 6\n",
    "dim_eq = 14\n",
    "dim_ineq = 14"
   ]
  },
  {
   "cell_type": "code",
   "execution_count": 117,
   "metadata": {},
   "outputs": [],
   "source": [
    "class Problem:\n",
    "    def __init__(self, dim, res_fns:List[Residual], constr_fns:List[Constr]):\n",
    "        self.res_fns = res_fns\n",
    "        self.constr_fns = constr_fns\n",
    "        self.dim_x = dim\n",
    "        self.dim_error = 0\n",
    "        for res_fn in res_fns:\n",
    "            self.dim_error += len(res_fn.weights)\n",
    "        self.dim_eq = 0\n",
    "        self.dim_ineq = 0\n",
    "        for constr_fn in constr_fns:\n",
    "            if constr_fn.is_eq_constr():\n",
    "                self.dim_eq += len(constr_fn.lb)\n",
    "            else:\n",
    "                self.dim_ineq += len(constr_fn.lb)\n",
    "\n",
    "    \n",
    "prob = Problem(7, res_fns, constr_fns)"
   ]
  },
  {
   "cell_type": "code",
   "execution_count": null,
   "metadata": {},
   "outputs": [],
   "source": []
  },
  {
   "cell_type": "code",
   "execution_count": 116,
   "metadata": {},
   "outputs": [
    {
     "data": {
      "text/plain": [
       "6"
      ]
     },
     "execution_count": 116,
     "metadata": {},
     "output_type": "execute_result"
    }
   ],
   "source": [
    "prob.dim_error"
   ]
  },
  {
   "cell_type": "code",
   "execution_count": 118,
   "metadata": {},
   "outputs": [],
   "source": [
    "error, jac = eval_residual(x, param, res_fns)\n",
    "ceq, ceq_jac, cineq, cineq_jac = eval_constr(x, param, constr_fns)\n",
    "\n",
    "grad = jac.T @ W @ error\n",
    "hess = jac.T @ W @ jac"
   ]
  },
  {
   "cell_type": "code",
   "execution_count": 119,
   "metadata": {},
   "outputs": [],
   "source": [
    "mu = 1."
   ]
  },
  {
   "cell_type": "code",
   "execution_count": 126,
   "metadata": {},
   "outputs": [],
   "source": [
    "dim_aug = prob.dim_x + prob.dim_eq *2 + prob.dim_ineq\n",
    "P = jnp.zeros((dim_aug, dim_aug))\n",
    "P = P.at[:dim_x, :dim_x].set(hess)\n",
    "q = jnp.hstack([grad, jnp.full(prob.dim_eq*2+prob.dim_ineq, mu)])\n"
   ]
  },
  {
   "cell_type": "code",
   "execution_count": null,
   "metadata": {},
   "outputs": [],
   "source": [
    "A = jnp.hstack(\n",
    "    [ceq_jac, \n",
    "     -jnp.eye(prob.dim_eq), \n",
    "     jnp.eye(prob.dim_eq), \n",
    "     jnp.zeros((prob.dim_ineq, prob.dim_ineq)) ])"
   ]
  },
  {
   "cell_type": "code",
   "execution_count": 129,
   "metadata": {},
   "outputs": [
    {
     "data": {
      "text/plain": [
       "Array([[ 1.,  0.,  0.,  0.,  0.,  0.,  0.],\n",
       "       [ 0.,  1.,  0.,  0.,  0.,  0.,  0.],\n",
       "       [ 0.,  0.,  1.,  0.,  0.,  0.,  0.],\n",
       "       [ 0.,  0.,  0.,  1.,  0.,  0.,  0.],\n",
       "       [ 0.,  0.,  0.,  0.,  1.,  0.,  0.],\n",
       "       [ 0.,  0.,  0.,  0.,  0.,  1.,  0.],\n",
       "       [ 0.,  0.,  0.,  0.,  0.,  0.,  1.],\n",
       "       [-1., -0., -0., -0., -0., -0., -0.],\n",
       "       [-0., -1., -0., -0., -0., -0., -0.],\n",
       "       [-0., -0., -1., -0., -0., -0., -0.],\n",
       "       [-0., -0., -0., -1., -0., -0., -0.],\n",
       "       [-0., -0., -0., -0., -1., -0., -0.],\n",
       "       [-0., -0., -0., -0., -0., -1., -0.],\n",
       "       [-0., -0., -0., -0., -0., -0., -1.]], dtype=float32)"
      ]
     },
     "execution_count": 129,
     "metadata": {},
     "output_type": "execute_result"
    }
   ],
   "source": [
    "ceq_jac"
   ]
  },
  {
   "cell_type": "code",
   "execution_count": 124,
   "metadata": {},
   "outputs": [
    {
     "data": {
      "text/plain": [
       "28"
      ]
     },
     "execution_count": 124,
     "metadata": {},
     "output_type": "execute_result"
    }
   ],
   "source": [
    "dim_aug"
   ]
  },
  {
   "cell_type": "code",
   "execution_count": null,
   "metadata": {},
   "outputs": [],
   "source": [
    "jnp.vstack([ceq_jac, jnp.eye(dim_eq)])"
   ]
  },
  {
   "cell_type": "code",
   "execution_count": 105,
   "metadata": {},
   "outputs": [
    {
     "data": {
      "text/plain": [
       "14"
      ]
     },
     "execution_count": 105,
     "metadata": {},
     "output_type": "execute_result"
    }
   ],
   "source": [
    "dim_eq"
   ]
  },
  {
   "cell_type": "code",
   "execution_count": 104,
   "metadata": {},
   "outputs": [
    {
     "data": {
      "text/plain": [
       "Array([[ 1.,  0.,  0.,  0.,  0.,  0.,  0.],\n",
       "       [ 0.,  1.,  0.,  0.,  0.,  0.,  0.],\n",
       "       [ 0.,  0.,  1.,  0.,  0.,  0.,  0.],\n",
       "       [ 0.,  0.,  0.,  1.,  0.,  0.,  0.],\n",
       "       [ 0.,  0.,  0.,  0.,  1.,  0.,  0.],\n",
       "       [ 0.,  0.,  0.,  0.,  0.,  1.,  0.],\n",
       "       [ 0.,  0.,  0.,  0.,  0.,  0.,  1.],\n",
       "       [-1., -0., -0., -0., -0., -0., -0.],\n",
       "       [-0., -1., -0., -0., -0., -0., -0.],\n",
       "       [-0., -0., -1., -0., -0., -0., -0.],\n",
       "       [-0., -0., -0., -1., -0., -0., -0.],\n",
       "       [-0., -0., -0., -0., -1., -0., -0.],\n",
       "       [-0., -0., -0., -0., -0., -1., -0.],\n",
       "       [-0., -0., -0., -0., -0., -0., -1.]], dtype=float32)"
      ]
     },
     "execution_count": 104,
     "metadata": {},
     "output_type": "execute_result"
    }
   ],
   "source": [
    "ceq_jac"
   ]
  },
  {
   "cell_type": "code",
   "execution_count": null,
   "metadata": {},
   "outputs": [],
   "source": []
  },
  {
   "cell_type": "code",
   "execution_count": 43,
   "metadata": {},
   "outputs": [],
   "source": [
    "val = error@jnp.diag(weight)@error\n",
    "grad = jac.T @ error\n",
    "hess = jac.T @ jnp.diag(weight) @ jac"
   ]
  },
  {
   "cell_type": "code",
   "execution_count": null,
   "metadata": {},
   "outputs": [],
   "source": [
    "# merit fn\n",
    "merit = \n",
    "for constr_fn in constr_fns:\n"
   ]
  },
  {
   "cell_type": "code",
   "execution_count": null,
   "metadata": {},
   "outputs": [],
   "source": [
    "#f\n",
    "\n",
    "#g\n",
    "\n",
    "#h"
   ]
  }
 ],
 "metadata": {
  "kernelspec": {
   "display_name": "cu11",
   "language": "python",
   "name": "python3"
  },
  "language_info": {
   "codemirror_mode": {
    "name": "ipython",
    "version": 3
   },
   "file_extension": ".py",
   "mimetype": "text/x-python",
   "name": "python",
   "nbconvert_exporter": "python",
   "pygments_lexer": "ipython3",
   "version": "3.8.16"
  },
  "orig_nbformat": 4
 },
 "nbformat": 4,
 "nbformat_minor": 2
}
