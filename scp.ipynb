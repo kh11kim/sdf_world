{
 "cells": [
  {
   "cell_type": "code",
   "execution_count": 45,
   "metadata": {},
   "outputs": [],
   "source": [
    "import jax\n",
    "from jax import Array\n",
    "import jax.numpy as jnp\n",
    "import jax_dataclasses as jdc\n",
    "from typing import *\n",
    "import numpy as np\n",
    "\n",
    "import osqp\n",
    "from scipy import sparse"
   ]
  },
  {
   "cell_type": "code",
   "execution_count": 218,
   "metadata": {},
   "outputs": [],
   "source": [
    "from jax.experimental.sparse import CSC\n",
    "import scipy"
   ]
  },
  {
   "cell_type": "code",
   "execution_count": 785,
   "metadata": {},
   "outputs": [],
   "source": [
    "class Problem:\n",
    "    def __init__(\n",
    "        self,\n",
    "        dim,\n",
    "        eq_dim,\n",
    "        ineq_dim,\n",
    "        obj_fn, \n",
    "        constr_fn, \n",
    "        \n",
    "        # grad_fn=None, \n",
    "        # hess_fn=None,\n",
    "        # ceq_jac_fn=None,\n",
    "        # cineq_jac_fn=None,\n",
    "    ):\n",
    "        self.dim = dim\n",
    "        self.eq_dim = eq_dim\n",
    "        self.ineq_dim = ineq_dim\n",
    "        self.f = obj_fn\n",
    "        self.grad_f = jax.grad(obj_fn)\n",
    "        self.hess_f = jax.hessian(obj_fn)\n",
    "        self.g = constr_fn\n",
    "        self.jac_g = jax.jacrev(constr_fn)\n",
    "        # self.g = ceq_fn\n",
    "        # self.h = cineq_fn\n",
    "        # self.jac_g = jax.jacrev(ceq_fn)\n",
    "        # self.jac_h = jax.jacrev(cineq_fn)\n",
    "    \n",
    "    def eval_merit(self, x, mu):\n",
    "        val_constr = self.g(x)\n",
    "        fval = self.f(x)\n",
    "        eq_viol = jnp.abs(val_constr[:self.eq_dim])\n",
    "        ineq_viol = jnp.maximum(0., -val_constr[-self.ineq_dim:])\n",
    "        return fval + mu * jnp.sum(jnp.hstack([eq_viol, ineq_viol]))\n",
    "    \n",
    "    def eval_merit_pred(self, x, sol, mu):\n",
    "        p = sol[:self.dim]\n",
    "        viol = sol[self.dim:]\n",
    "        hess = self.hess_f(x)\n",
    "        grad = self.grad_f(x)\n",
    "        return prob.f(x) + 1/2*p@hess@p + grad@p + jnp.sum(viol)*mu\n",
    "\n",
    "obj_fn = lambda x: x[0]*x[3]*jnp.sum(x[:3]) + x[2]\n",
    "ceq_fn = lambda x: jnp.sum(x**2) - 40\n",
    "cineq_fn = lambda x: jnp.prod(x) - 25 # >= 0\n",
    "constr_fn = lambda x: jnp.hstack([ceq_fn(x), cineq_fn(x)])\n",
    "\n",
    "prob = Problem(4, 1, 1, obj_fn, constr_fn)"
   ]
  },
  {
   "cell_type": "code",
   "execution_count": 415,
   "metadata": {},
   "outputs": [],
   "source": [
    "from jax.experimental.sparse import BCOO\n",
    "from scipy.sparse import csc_array\n",
    "\n",
    "def bcoo_to_scipy(bcoo:BCOO):\n",
    "    rows, cols = bcoo.indices.T\n",
    "    return scipy.sparse.csc_matrix(\n",
    "        (bcoo.data, (rows, cols)), shape=bcoo.shape)"
   ]
  },
  {
   "cell_type": "code",
   "execution_count": 527,
   "metadata": {},
   "outputs": [],
   "source": [
    "dim = 4\n",
    "eq_dim = 1\n",
    "ineq_dim = 1\n",
    "constr_dim = eq_dim + ineq_dim\n",
    "aug_dim = dim + eq_dim*2 + ineq_dim"
   ]
  },
  {
   "cell_type": "code",
   "execution_count": 787,
   "metadata": {},
   "outputs": [],
   "source": [
    "#predefined\n",
    "P_shape = (aug_dim, aug_dim)\n",
    "\n",
    "A_shape = (constr_dim+aug_dim, aug_dim)\n",
    "A_fix = np.zeros(A_shape)\n",
    "A_fix[:eq_dim, dim:dim+eq_dim] = np.eye(eq_dim)\n",
    "A_fix[:eq_dim, dim+eq_dim:dim+2*eq_dim] = -np.eye(eq_dim) #r\n",
    "A_fix[eq_dim:eq_dim+ineq_dim, -ineq_dim:] = np.eye(ineq_dim) #s\n",
    "A_fix[-aug_dim:, -aug_dim:] = np.eye(aug_dim)\n",
    "A_fix_indices = np.nonzero(A_fix)\n",
    "A_fix_val = A_fix[A_fix_indices]\n",
    "\n",
    "hess_indices = np.indices((dim,dim)).reshape(2,-1)\n",
    "const_jac_indices = np.indices((constr_dim,dim)).reshape(2,-1)"
   ]
  },
  {
   "cell_type": "code",
   "execution_count": 865,
   "metadata": {},
   "outputs": [],
   "source": [
    "mu = 0.1\n",
    "step_size = 1.\n",
    "max_step_size = 100\n",
    "x = np.array([1, 5, 5, 1.])"
   ]
  },
  {
   "cell_type": "code",
   "execution_count": 790,
   "metadata": {},
   "outputs": [
    {
     "name": "stdout",
     "output_type": "stream",
     "text": [
      "solved [-4.20159537e-01 -5.83835721e-01 -6.66164283e-01  6.70159552e-01\n",
      " -1.42288300e-08 -9.33079456e-09 -9.42992406e-09]\n",
      "ratio:0.9265150427818298\n",
      "size up\n",
      "\n",
      "solved [ 3.16423270e-01  4.13109128e-03 -9.64888337e-02 -2.92753690e-01\n",
      " -2.41369211e-04 -1.17281038e-03 -8.96571162e-04]\n",
      "ratio:0.7337083220481873\n",
      "size up\n",
      "\n",
      "solved [-0.0083267   0.00409842 -0.07333934  0.14720635 -0.00068086 -0.00077998\n",
      " -0.00074513]\n",
      "ratio:1.0331720113754272\n",
      "size up\n",
      "\n",
      "solved [-7.74924855e-02  1.27618642e-02 -5.62686598e-02  1.52892702e-01\n",
      "  2.50649107e-09  5.21556792e-09  4.90848455e-09]\n",
      "ratio:-0.16906237602233887\n",
      "size down\n",
      "solved [-7.74933645e-02  1.27616386e-02 -5.62688412e-02  1.52894361e-01\n",
      "  4.45795946e-09 -2.30728637e-10 -2.28819771e-10]\n",
      "ratio:-0.16915658116340637\n",
      "size down\n",
      "solved [-7.74933645e-02  1.27616386e-02 -5.62688412e-02  1.52894361e-01\n",
      "  4.45795946e-09 -2.30728637e-10 -2.28819771e-10]\n",
      "ratio:-0.16915658116340637\n",
      "size down\n",
      "solved [-7.74933645e-02  1.27616386e-02 -5.62688412e-02  1.52894361e-01\n",
      "  4.45795946e-09 -2.30728637e-10 -2.28819771e-10]\n",
      "ratio:-0.16915658116340637\n",
      "size down\n",
      "solved [-7.74933645e-02  1.27616386e-02 -5.62688412e-02  1.52894361e-01\n",
      "  4.45795946e-09 -2.30728637e-10 -2.28819771e-10]\n",
      "ratio:-0.16915658116340637\n",
      "size down\n",
      "solved [-7.74933645e-02  1.27616386e-02 -5.62688412e-02  1.52894361e-01\n",
      "  4.45795946e-09 -2.30728637e-10 -2.28819771e-10]\n",
      "ratio:-0.16915658116340637\n",
      "size down\n",
      "solved [-7.74933645e-02  1.27616386e-02 -5.62688412e-02  1.52894361e-01\n",
      "  4.45795946e-09 -2.30728637e-10 -2.28819771e-10]\n",
      "ratio:-0.16915658116340637\n",
      "size down\n",
      "solved [-7.74933645e-02  1.27616386e-02 -5.62688412e-02  1.52894361e-01\n",
      "  4.45795946e-09 -2.30728637e-10 -2.28819771e-10]\n",
      "ratio:-0.16915658116340637\n",
      "size down\n",
      "solved [-7.74933645e-02  1.27616386e-02 -5.62688412e-02  1.52894361e-01\n",
      "  4.45795946e-09 -2.30728637e-10 -2.28819771e-10]\n",
      "ratio:-0.16915658116340637\n",
      "size down\n",
      "solved [-7.74933645e-02  1.27616386e-02 -5.62688412e-02  1.52894361e-01\n",
      "  4.45795946e-09 -2.30728637e-10 -2.28819771e-10]\n",
      "ratio:-0.16915658116340637\n",
      "size down\n",
      "\n",
      "solved [-2.08944187e-05 -7.27648283e-06 -7.28085035e-06  1.29352602e-05\n",
      " -1.17726170e-06  2.69681064e-02  6.08772591e-02]\n",
      "ratio:0.09891808032989502\n",
      "small step\n",
      "\n",
      "step_size:7.62939453125e-06\n"
     ]
    }
   ],
   "source": [
    "import osqp\n",
    "\n",
    "for j in range(5):\n",
    "    # eval function\n",
    "    grad = prob.grad_f(x)\n",
    "    try:\n",
    "        hess_true = prob.hess_f(x)\n",
    "        np.linalg.cholesky(hess_true)\n",
    "        hess = hess_true\n",
    "    except:\n",
    "        eigs, _ = np.linalg.eigh(hess_true)\n",
    "        hess = hess_true - eigs[0] * np.eye(dim) * 1.1\n",
    "    cval = prob.g(x)\n",
    "    cjac = prob.jac_g(x)\n",
    "\n",
    "    # convexify\n",
    "    scaling = hess/hess[0,0]\n",
    "    step_vector = scaling @ jnp.full(dim, step_size)\n",
    "    P = csc_array((hess.flatten(), hess_indices), shape=P_shape)\n",
    "    q = np.hstack([grad, np.full(eq_dim*2+ineq_dim, mu)])\n",
    "    A = csc_array((\n",
    "        np.hstack([cjac.flatten(), A_fix_val]), \n",
    "        np.hstack([const_jac_indices, A_fix_indices])), \n",
    "        shape=A_shape)\n",
    "    l = np.hstack([-cval, np.full(dim,-step_vector), np.zeros(constr_dim+eq_dim)])\n",
    "    u = np.hstack([-cval[:eq_dim], np.inf, np.full(dim,step_vector), np.full(constr_dim+eq_dim, np.inf)])\n",
    "\n",
    "    merit_curr = prob.eval_merit(x, mu)\n",
    "    for i in range(10):\n",
    "        #solve qp\n",
    "        qp = osqp.OSQP()\n",
    "        qp.setup(P, q, A, l, u, verbose=False)\n",
    "        res = qp.solve()\n",
    "        print(res.info.status, res.x)\n",
    "        p = res.x[:dim]\n",
    "\n",
    "        # eval improve\n",
    "        merit_next = prob.eval_merit(x+p, mu)\n",
    "        merit_pred = prob.f(x) + 1/2*p@hess@p + grad@p + jnp.sum(res.x[4:])*mu\n",
    "        true_reduction = merit_curr - merit_next\n",
    "        pred_reduction = merit_curr - merit_pred\n",
    "        ratio = true_reduction/pred_reduction\n",
    "        print(f\"ratio:{ratio}\")\n",
    "\n",
    "        # update\n",
    "        if jnp.linalg.norm(p) < 0.01:\n",
    "            print(\"small step\")\n",
    "            break\n",
    "        elif ratio > 0.5:\n",
    "            print(\"size up\")\n",
    "            step_size = np.minimum(2*step_size, max_step_size)\n",
    "            x = x + p\n",
    "            break # escape trust region loop\n",
    "        elif ratio < 0.25:\n",
    "            print(\"size down\")\n",
    "            step_size /= 4\n",
    "    \n",
    "    print()\n",
    "print(f\"step_size:{step_size}\")"
   ]
  },
  {
   "cell_type": "code",
   "execution_count": 866,
   "metadata": {},
   "outputs": [],
   "source": [
    "def convexify(x, prob:Problem):\n",
    "    # eval function\n",
    "    grad = prob.grad_f(x)\n",
    "    try:\n",
    "        hess_true = prob.hess_f(x)\n",
    "        np.linalg.cholesky(hess_true)\n",
    "        hess = hess_true\n",
    "    except:\n",
    "        eigs, _ = np.linalg.eigh(hess_true)\n",
    "        hess = hess_true - eigs[0] * np.eye(dim) * 1.1\n",
    "    cval = prob.g(x)\n",
    "    cjac = prob.jac_g(x)\n",
    "\n",
    "    # convexify\n",
    "    scaling = hess/hess[0,0]\n",
    "    step_vector = scaling @ jnp.full(dim, step_size)\n",
    "    P = csc_array((hess.flatten(), hess_indices), shape=P_shape)\n",
    "    q = np.hstack([grad, np.full(eq_dim*2+ineq_dim, mu)])\n",
    "    A = csc_array((\n",
    "        np.hstack([cjac.flatten(), A_fix_val]), \n",
    "        np.hstack([const_jac_indices, A_fix_indices])), \n",
    "        shape=A_shape)\n",
    "    l = np.hstack([-cval, np.full(dim,-step_vector), np.zeros(constr_dim+eq_dim)])\n",
    "    u = np.hstack([-cval[:eq_dim], np.inf, np.full(dim,step_vector), np.full(constr_dim+eq_dim, np.inf)])\n",
    "    model = (P, q, A, l, u)\n",
    "    return model\n",
    "    \n",
    "def trust_region_loop(x, mu, step_size, xtol=0.01):\n",
    "    P, q, A, l, u = convexify(x, prob)\n",
    "    qp = osqp.OSQP()\n",
    "    qp.setup(P, q, A, l, u, verbose=False)\n",
    "    for i in range(10):\n",
    "        #solve qp\n",
    "        res = qp.solve()\n",
    "        print(res.info.status, res.x)\n",
    "        p = res.x[:dim]\n",
    "\n",
    "        # eval improve\n",
    "        merit_curr = prob.eval_merit(x, mu)\n",
    "        merit_next = prob.eval_merit(x + p, mu)\n",
    "        merit_pred = prob.eval_merit_pred(x, res.x, mu)\n",
    "        ratio = (merit_curr - merit_next)/(merit_curr - merit_pred)\n",
    "        print(f\"ratio:{ratio}\")\n",
    "\n",
    "        # update\n",
    "        if step_size < xtol:\n",
    "            print(\"small step\")\n",
    "            return \"converged\", x, step_size * 4\n",
    "        elif ratio > 0.4:\n",
    "            print(\"size up\")\n",
    "            step_size = np.minimum(2*step_size, max_step_size)\n",
    "            return \"updated\", x + p, step_size\n",
    "        else: #  ratio < 0.25:\n",
    "            print(\"size down\")\n",
    "            step_size /= 4\n",
    "    print(f\"step_size: {step_size}\")\n",
    "    print(f\"p: {p}\")"
   ]
  },
  {
   "cell_type": "code",
   "execution_count": 907,
   "metadata": {},
   "outputs": [
    {
     "name": "stdout",
     "output_type": "stream",
     "text": [
      "solved [ 0.0212854  -0.00765709 -0.00414677  0.02295921 -0.00188036 -0.00188314\n",
      " -0.00029584]\n",
      "ratio:-0.17543241381645203\n",
      "size down\n",
      "solved [ 2.12697068e-02 -7.65140608e-03 -4.14501793e-03  2.29485101e-02\n",
      "  9.79335212e-09  1.11369923e-08  1.96430145e-09]\n",
      "ratio:-2.6324422359466553\n",
      "small step\n"
     ]
    }
   ],
   "source": [
    "opt_state, x, step_size = trust_region_loop(x, mu, step_size)"
   ]
  },
  {
   "cell_type": "code",
   "execution_count": 908,
   "metadata": {},
   "outputs": [],
   "source": [
    "mu *= 10"
   ]
  },
  {
   "cell_type": "code",
   "execution_count": 910,
   "metadata": {},
   "outputs": [
    {
     "data": {
      "text/plain": [
       "100000000.0"
      ]
     },
     "execution_count": 910,
     "metadata": {},
     "output_type": "execute_result"
    },
    {
     "ename": "",
     "evalue": "",
     "output_type": "error",
     "traceback": [
      "\u001b[1;31mThe Kernel crashed while executing code in the the current cell or a previous cell. Please review the code in the cell(s) to identify a possible cause of the failure. Click <a href='https://aka.ms/vscodeJupyterKernelCrash'>here</a> for more info. View Jupyter <a href='command:jupyter.viewOutput'>log</a> for further details."
     ]
    }
   ],
   "source": [
    "mu"
   ]
  },
  {
   "cell_type": "code",
   "execution_count": 909,
   "metadata": {},
   "outputs": [
    {
     "data": {
      "text/plain": [
       "array([1.24832096, 4.41153495, 4.22183547, 1.07527271])"
      ]
     },
     "execution_count": 909,
     "metadata": {},
     "output_type": "execute_result"
    }
   ],
   "source": [
    "x"
   ]
  },
  {
   "cell_type": "code",
   "execution_count": 812,
   "metadata": {},
   "outputs": [
    {
     "data": {
      "text/plain": [
       "2.0"
      ]
     },
     "execution_count": 812,
     "metadata": {},
     "output_type": "execute_result"
    }
   ],
   "source": [
    "step_size"
   ]
  },
  {
   "cell_type": "code",
   "execution_count": 774,
   "metadata": {},
   "outputs": [
    {
     "data": {
      "text/plain": [
       "3.0517578125e-05"
      ]
     },
     "execution_count": 774,
     "metadata": {},
     "output_type": "execute_result"
    }
   ],
   "source": [
    "step_size"
   ]
  },
  {
   "cell_type": "code",
   "execution_count": 759,
   "metadata": {},
   "outputs": [
    {
     "name": "stdout",
     "output_type": "stream",
     "text": [
      "step_size:0.0078125\n"
     ]
    }
   ],
   "source": []
  },
  {
   "cell_type": "code",
   "execution_count": 760,
   "metadata": {},
   "outputs": [
    {
     "data": {
      "text/plain": [
       "array([1.06879893, 4.82043342, 3.73254552, 1.29986486])"
      ]
     },
     "execution_count": 760,
     "metadata": {},
     "output_type": "execute_result"
    }
   ],
   "source": [
    "x"
   ]
  },
  {
   "cell_type": "code",
   "execution_count": 718,
   "metadata": {},
   "outputs": [
    {
     "data": {
      "text/plain": [
       "Array(True, dtype=bool)"
      ]
     },
     "execution_count": 718,
     "metadata": {},
     "output_type": "execute_result"
    }
   ],
   "source": [
    "ratio > 0.75"
   ]
  },
  {
   "cell_type": "code",
   "execution_count": 713,
   "metadata": {},
   "outputs": [
    {
     "data": {
      "text/plain": [
       "0.03125"
      ]
     },
     "execution_count": 713,
     "metadata": {},
     "output_type": "execute_result"
    }
   ],
   "source": [
    "step_size*2"
   ]
  },
  {
   "cell_type": "code",
   "execution_count": 691,
   "metadata": {},
   "outputs": [
    {
     "data": {
      "text/plain": [
       "0.015625"
      ]
     },
     "execution_count": 691,
     "metadata": {},
     "output_type": "execute_result"
    }
   ],
   "source": [
    "step_size"
   ]
  },
  {
   "cell_type": "code",
   "execution_count": 542,
   "metadata": {},
   "outputs": [
    {
     "data": {
      "text/plain": [
       "Array([17.2], dtype=float32)"
      ]
     },
     "execution_count": 542,
     "metadata": {},
     "output_type": "execute_result"
    }
   ],
   "source": [
    "prob.eval_merit(x, mu)"
   ]
  },
  {
   "cell_type": "code",
   "execution_count": 491,
   "metadata": {},
   "outputs": [
    {
     "data": {
      "text/plain": [
       "Array(16., dtype=float32)"
      ]
     },
     "execution_count": 491,
     "metadata": {},
     "output_type": "execute_result"
    }
   ],
   "source": [
    "prob.f(x) + g"
   ]
  },
  {
   "cell_type": "code",
   "execution_count": 480,
   "metadata": {},
   "outputs": [
    {
     "data": {
      "text/plain": [
       "array([-0.4209399 , -0.54875484, -0.6310834 ,  0.65108425,  0.0015923 ,\n",
       "        0.66060736,  0.14706493])"
      ]
     },
     "execution_count": 480,
     "metadata": {},
     "output_type": "execute_result"
    }
   ],
   "source": [
    "p"
   ]
  },
  {
   "cell_type": "code",
   "execution_count": 485,
   "metadata": {},
   "outputs": [
    {
     "data": {
      "text/plain": [
       "array([-4.19622070e-01, -5.83757353e-01, -6.66085914e-01,  6.69649671e-01,\n",
       "        5.12204052e-04, -7.07267509e-04, -5.69044454e-05])"
      ]
     },
     "execution_count": 485,
     "metadata": {},
     "output_type": "execute_result"
    }
   ],
   "source": [
    "p"
   ]
  },
  {
   "cell_type": "code",
   "execution_count": 348,
   "metadata": {},
   "outputs": [],
   "source": [
    "A = csc_array((A_fix_val, A_fix_indices), shape=A_shape)"
   ]
  },
  {
   "cell_type": "code",
   "execution_count": 349,
   "metadata": {},
   "outputs": [
    {
     "data": {
      "text/plain": [
       "array([[ 0.,  0.,  0.,  0.,  1., -1.,  0.],\n",
       "       [ 0.,  0.,  0.,  0.,  0.,  0.,  1.],\n",
       "       [ 1.,  0.,  0.,  0.,  0.,  0.,  0.],\n",
       "       [ 0.,  1.,  0.,  0.,  0.,  0.,  0.],\n",
       "       [ 0.,  0.,  1.,  0.,  0.,  0.,  0.],\n",
       "       [ 0.,  0.,  0.,  1.,  0.,  0.,  0.],\n",
       "       [ 0.,  0.,  0.,  0.,  1.,  0.,  0.],\n",
       "       [ 0.,  0.,  0.,  0.,  0.,  1.,  0.],\n",
       "       [ 0.,  0.,  0.,  0.,  0.,  0.,  1.]])"
      ]
     },
     "execution_count": 349,
     "metadata": {},
     "output_type": "execute_result"
    }
   ],
   "source": [
    "A.todense()"
   ]
  },
  {
   "cell_type": "code",
   "execution_count": 322,
   "metadata": {},
   "outputs": [],
   "source": []
  },
  {
   "cell_type": "code",
   "execution_count": 338,
   "metadata": {},
   "outputs": [
    {
     "data": {
      "text/plain": [
       "array([ 1., -1.,  1.,  1.,  1.,  1.,  1.,  1.,  1.,  1.])"
      ]
     },
     "execution_count": 338,
     "metadata": {},
     "output_type": "execute_result"
    }
   ],
   "source": [
    "A_fixture_val"
   ]
  },
  {
   "cell_type": "code",
   "execution_count": 324,
   "metadata": {},
   "outputs": [
    {
     "data": {
      "text/plain": [
       "array([0, 0, 1, 2, 3, 4, 5, 6, 7, 8])"
      ]
     },
     "execution_count": 324,
     "metadata": {},
     "output_type": "execute_result"
    }
   ],
   "source": [
    "jnp.rows"
   ]
  },
  {
   "cell_type": "code",
   "execution_count": 305,
   "metadata": {},
   "outputs": [
    {
     "data": {
      "text/plain": [
       "1"
      ]
     },
     "execution_count": 305,
     "metadata": {},
     "output_type": "execute_result"
    }
   ],
   "source": [
    "eq_dim"
   ]
  },
  {
   "cell_type": "code",
   "execution_count": null,
   "metadata": {},
   "outputs": [],
   "source": [
    "mats = []\n",
    "informations =[]\n",
    "for mat"
   ]
  },
  {
   "cell_type": "code",
   "execution_count": null,
   "metadata": {},
   "outputs": [],
   "source": [
    "jnp.block([[jnp.ones(eq_dim, dim), jnp.ones(eq_dim, eq_dim), jnp.ones(eq_dim, eq_dim), ],\n",
    "           [],\n",
    "           []])"
   ]
  },
  {
   "cell_type": "code",
   "execution_count": 300,
   "metadata": {},
   "outputs": [
    {
     "data": {
      "text/plain": [
       "Array([[0, 0],\n",
       "       [0, 1],\n",
       "       [0, 2],\n",
       "       [0, 3],\n",
       "       [1, 0],\n",
       "       [1, 1],\n",
       "       [1, 2],\n",
       "       [1, 3]], dtype=int32)"
      ]
     },
     "execution_count": 300,
     "metadata": {},
     "output_type": "execute_result"
    }
   ],
   "source": [
    "get_mat_indices(constr_dim, dim, 0,0)"
   ]
  },
  {
   "cell_type": "code",
   "execution_count": 289,
   "metadata": {},
   "outputs": [],
   "source": [
    "ceq_jac_indices = jnp.indices((eq_dim+ineq_dim, dim)).reshape(2,-1).T"
   ]
  },
  {
   "cell_type": "code",
   "execution_count": 298,
   "metadata": {},
   "outputs": [],
   "source": [
    "def get_mat_indices(dim_row, dim_cols, row_offset, col_offset):\n",
    "    rows, cols = jnp.indices((dim_row, dim_cols)).reshape(2,-1)\n",
    "    rows += row_offset\n",
    "    cols += col_offset\n",
    "    return jnp.vstack([rows, cols]).T"
   ]
  },
  {
   "cell_type": "code",
   "execution_count": 296,
   "metadata": {},
   "outputs": [
    {
     "data": {
      "text/plain": [
       "Array([[0, 0, 0, 0, 1, 1, 1, 1],\n",
       "       [0, 1, 2, 3, 0, 1, 2, 3]], dtype=int32)"
      ]
     },
     "execution_count": 296,
     "metadata": {},
     "output_type": "execute_result"
    }
   ],
   "source": []
  },
  {
   "cell_type": "code",
   "execution_count": 290,
   "metadata": {},
   "outputs": [
    {
     "data": {
      "text/plain": [
       "Array([[0, 0],\n",
       "       [0, 1],\n",
       "       [0, 2],\n",
       "       [0, 3]], dtype=int32)"
      ]
     },
     "execution_count": 290,
     "metadata": {},
     "output_type": "execute_result"
    }
   ],
   "source": [
    "ceq_jac_indices"
   ]
  },
  {
   "cell_type": "code",
   "execution_count": 288,
   "metadata": {},
   "outputs": [
    {
     "data": {
      "text/plain": [
       "Array([2., 2., 2., 2.], dtype=float32)"
      ]
     },
     "execution_count": 288,
     "metadata": {},
     "output_type": "execute_result"
    }
   ],
   "source": [
    "ceq_jac"
   ]
  },
  {
   "cell_type": "code",
   "execution_count": 280,
   "metadata": {},
   "outputs": [
    {
     "data": {
      "text/plain": [
       "Array([[ 0,  1,  2,  3,  0,  0,  0],\n",
       "       [ 4,  5,  6,  7,  0,  0,  0],\n",
       "       [ 8,  9, 10, 11,  0,  0,  0],\n",
       "       [12, 13, 14, 15,  0,  0,  0],\n",
       "       [ 0,  0,  0,  0,  0,  0,  0],\n",
       "       [ 0,  0,  0,  0,  0,  0,  0],\n",
       "       [ 0,  0,  0,  0,  0,  0,  0]], dtype=int32)"
      ]
     },
     "execution_count": 280,
     "metadata": {},
     "output_type": "execute_result"
    }
   ],
   "source": [
    "P.todense()"
   ]
  },
  {
   "cell_type": "code",
   "execution_count": 254,
   "metadata": {},
   "outputs": [],
   "source": [
    "row, col = np.indices((4,4))"
   ]
  },
  {
   "cell_type": "code",
   "execution_count": 217,
   "metadata": {},
   "outputs": [
    {
     "data": {
      "text/plain": [
       "matrix([[2., 1., 1., 4., 0., 0., 0.],\n",
       "        [1., 0., 0., 1., 0., 0., 0.],\n",
       "        [1., 0., 0., 1., 0., 0., 0.],\n",
       "        [4., 1., 1., 0., 0., 0., 0.],\n",
       "        [0., 0., 0., 0., 0., 0., 0.],\n",
       "        [0., 0., 0., 0., 0., 0., 0.],\n",
       "        [0., 0., 0., 0., 0., 0., 0.]], dtype=float32)"
      ]
     },
     "execution_count": 217,
     "metadata": {},
     "output_type": "execute_result"
    }
   ],
   "source": [
    "P.as_scipy_coo_matrix().tocsc().todense()"
   ]
  },
  {
   "cell_type": "code",
   "execution_count": 205,
   "metadata": {},
   "outputs": [
    {
     "data": {
      "text/plain": [
       "16"
      ]
     },
     "execution_count": 205,
     "metadata": {},
     "output_type": "execute_result"
    }
   ],
   "source": [
    "len(hess.flatten())"
   ]
  },
  {
   "cell_type": "code",
   "execution_count": 213,
   "metadata": {},
   "outputs": [],
   "source": []
  },
  {
   "cell_type": "code",
   "execution_count": null,
   "metadata": {},
   "outputs": [],
   "source": [
    "hess_coord()"
   ]
  },
  {
   "cell_type": "code",
   "execution_count": 204,
   "metadata": {},
   "outputs": [
    {
     "ename": "ValueError",
     "evalue": "row, column, and data array must all be the same length",
     "output_type": "error",
     "traceback": [
      "\u001b[0;31m---------------------------------------------------------------------------\u001b[0m",
      "\u001b[0;31mValueError\u001b[0m                                Traceback (most recent call last)",
      "Cell \u001b[0;32mIn[204], line 1\u001b[0m\n\u001b[0;32m----> 1\u001b[0m P\u001b[39m.\u001b[39;49mas_scipy_coo_matrix()\n",
      "Cell \u001b[0;32mIn[189], line 44\u001b[0m, in \u001b[0;36mSparseCooMatrix.as_scipy_coo_matrix\u001b[0;34m(self)\u001b[0m\n\u001b[1;32m     43\u001b[0m \u001b[39mdef\u001b[39;00m \u001b[39mas_scipy_coo_matrix\u001b[39m(\u001b[39mself\u001b[39m) \u001b[39m-\u001b[39m\u001b[39m>\u001b[39m scipy\u001b[39m.\u001b[39msparse\u001b[39m.\u001b[39mcoo_matrix:\n\u001b[0;32m---> 44\u001b[0m     \u001b[39mreturn\u001b[39;00m scipy\u001b[39m.\u001b[39;49msparse\u001b[39m.\u001b[39;49mcoo_matrix(\n\u001b[1;32m     45\u001b[0m         (\u001b[39mself\u001b[39;49m\u001b[39m.\u001b[39;49mvalues, (\u001b[39mself\u001b[39;49m\u001b[39m.\u001b[39;49mcoords\u001b[39m.\u001b[39;49mrows, \u001b[39mself\u001b[39;49m\u001b[39m.\u001b[39;49mcoords\u001b[39m.\u001b[39;49mcols)), shape\u001b[39m=\u001b[39;49m\u001b[39mself\u001b[39;49m\u001b[39m.\u001b[39;49mshape\n\u001b[1;32m     46\u001b[0m     )\n",
      "File \u001b[0;32m~/miniconda3/envs/cu11/lib/python3.8/site-packages/scipy/sparse/_coo.py:197\u001b[0m, in \u001b[0;36mcoo_matrix.__init__\u001b[0;34m(self, arg1, shape, dtype, copy)\u001b[0m\n\u001b[1;32m    194\u001b[0m \u001b[39mif\u001b[39;00m dtype \u001b[39mis\u001b[39;00m \u001b[39mnot\u001b[39;00m \u001b[39mNone\u001b[39;00m:\n\u001b[1;32m    195\u001b[0m     \u001b[39mself\u001b[39m\u001b[39m.\u001b[39mdata \u001b[39m=\u001b[39m \u001b[39mself\u001b[39m\u001b[39m.\u001b[39mdata\u001b[39m.\u001b[39mastype(dtype, copy\u001b[39m=\u001b[39m\u001b[39mFalse\u001b[39;00m)\n\u001b[0;32m--> 197\u001b[0m \u001b[39mself\u001b[39;49m\u001b[39m.\u001b[39;49m_check()\n",
      "File \u001b[0;32m~/miniconda3/envs/cu11/lib/python3.8/site-packages/scipy/sparse/_coo.py:282\u001b[0m, in \u001b[0;36mcoo_matrix._check\u001b[0;34m(self)\u001b[0m\n\u001b[1;32m    279\u001b[0m \u001b[39mself\u001b[39m\u001b[39m.\u001b[39mcol \u001b[39m=\u001b[39m np\u001b[39m.\u001b[39masarray(\u001b[39mself\u001b[39m\u001b[39m.\u001b[39mcol, dtype\u001b[39m=\u001b[39midx_dtype)\n\u001b[1;32m    280\u001b[0m \u001b[39mself\u001b[39m\u001b[39m.\u001b[39mdata \u001b[39m=\u001b[39m to_native(\u001b[39mself\u001b[39m\u001b[39m.\u001b[39mdata)\n\u001b[0;32m--> 282\u001b[0m \u001b[39mif\u001b[39;00m \u001b[39mself\u001b[39;49m\u001b[39m.\u001b[39;49mnnz \u001b[39m>\u001b[39m \u001b[39m0\u001b[39m:\n\u001b[1;32m    283\u001b[0m     \u001b[39mif\u001b[39;00m \u001b[39mself\u001b[39m\u001b[39m.\u001b[39mrow\u001b[39m.\u001b[39mmax() \u001b[39m>\u001b[39m\u001b[39m=\u001b[39m \u001b[39mself\u001b[39m\u001b[39m.\u001b[39mshape[\u001b[39m0\u001b[39m]:\n\u001b[1;32m    284\u001b[0m         \u001b[39mraise\u001b[39;00m \u001b[39mValueError\u001b[39;00m(\u001b[39m'\u001b[39m\u001b[39mrow index exceeds matrix dimensions\u001b[39m\u001b[39m'\u001b[39m)\n",
      "File \u001b[0;32m~/miniconda3/envs/cu11/lib/python3.8/site-packages/scipy/sparse/_base.py:299\u001b[0m, in \u001b[0;36mspmatrix.nnz\u001b[0;34m(self)\u001b[0m\n\u001b[1;32m    291\u001b[0m \u001b[39m@property\u001b[39m\n\u001b[1;32m    292\u001b[0m \u001b[39mdef\u001b[39;00m \u001b[39mnnz\u001b[39m(\u001b[39mself\u001b[39m):\n\u001b[1;32m    293\u001b[0m \u001b[39m    \u001b[39m\u001b[39m\"\"\"Number of stored values, including explicit zeros.\u001b[39;00m\n\u001b[1;32m    294\u001b[0m \n\u001b[1;32m    295\u001b[0m \u001b[39m    See also\u001b[39;00m\n\u001b[1;32m    296\u001b[0m \u001b[39m    --------\u001b[39;00m\n\u001b[1;32m    297\u001b[0m \u001b[39m    count_nonzero : Number of non-zero entries\u001b[39;00m\n\u001b[1;32m    298\u001b[0m \u001b[39m    \"\"\"\u001b[39;00m\n\u001b[0;32m--> 299\u001b[0m     \u001b[39mreturn\u001b[39;00m \u001b[39mself\u001b[39;49m\u001b[39m.\u001b[39;49mgetnnz()\n",
      "File \u001b[0;32m~/miniconda3/envs/cu11/lib/python3.8/site-packages/scipy/sparse/_coo.py:244\u001b[0m, in \u001b[0;36mcoo_matrix.getnnz\u001b[0;34m(self, axis)\u001b[0m\n\u001b[1;32m    242\u001b[0m nnz \u001b[39m=\u001b[39m \u001b[39mlen\u001b[39m(\u001b[39mself\u001b[39m\u001b[39m.\u001b[39mdata)\n\u001b[1;32m    243\u001b[0m \u001b[39mif\u001b[39;00m nnz \u001b[39m!=\u001b[39m \u001b[39mlen\u001b[39m(\u001b[39mself\u001b[39m\u001b[39m.\u001b[39mrow) \u001b[39mor\u001b[39;00m nnz \u001b[39m!=\u001b[39m \u001b[39mlen\u001b[39m(\u001b[39mself\u001b[39m\u001b[39m.\u001b[39mcol):\n\u001b[0;32m--> 244\u001b[0m     \u001b[39mraise\u001b[39;00m \u001b[39mValueError\u001b[39;00m(\u001b[39m'\u001b[39m\u001b[39mrow, column, and data array must all be the \u001b[39m\u001b[39m'\u001b[39m\n\u001b[1;32m    245\u001b[0m                      \u001b[39m'\u001b[39m\u001b[39msame length\u001b[39m\u001b[39m'\u001b[39m)\n\u001b[1;32m    247\u001b[0m \u001b[39mif\u001b[39;00m \u001b[39mself\u001b[39m\u001b[39m.\u001b[39mdata\u001b[39m.\u001b[39mndim \u001b[39m!=\u001b[39m \u001b[39m1\u001b[39m \u001b[39mor\u001b[39;00m \u001b[39mself\u001b[39m\u001b[39m.\u001b[39mrow\u001b[39m.\u001b[39mndim \u001b[39m!=\u001b[39m \u001b[39m1\u001b[39m \u001b[39mor\u001b[39;00m \\\n\u001b[1;32m    248\u001b[0m         \u001b[39mself\u001b[39m\u001b[39m.\u001b[39mcol\u001b[39m.\u001b[39mndim \u001b[39m!=\u001b[39m \u001b[39m1\u001b[39m:\n\u001b[1;32m    249\u001b[0m     \u001b[39mraise\u001b[39;00m \u001b[39mValueError\u001b[39;00m(\u001b[39m'\u001b[39m\u001b[39mrow, column, and data arrays must be 1-D\u001b[39m\u001b[39m'\u001b[39m)\n",
      "\u001b[0;31mValueError\u001b[0m: row, column, and data array must all be the same length"
     ]
    }
   ],
   "source": [
    "P.as_scipy_coo_matrix()"
   ]
  },
  {
   "cell_type": "code",
   "execution_count": 199,
   "metadata": {},
   "outputs": [
    {
     "data": {
      "text/plain": [
       "SparseCooMatrix(values=Array([[2., 1., 1., 4.],\n",
       "       [1., 0., 0., 1.],\n",
       "       [1., 0., 0., 1.],\n",
       "       [4., 1., 1., 0.]], dtype=float32), coords=SparseCooCoordinates(rows=array([0, 1, 2, 3]), cols=array([0, 1, 2, 3])), shape=(7, 7))"
      ]
     },
     "execution_count": 199,
     "metadata": {},
     "output_type": "execute_result"
    }
   ],
   "source": [
    "hess"
   ]
  },
  {
   "cell_type": "code",
   "execution_count": 182,
   "metadata": {},
   "outputs": [],
   "source": []
  },
  {
   "cell_type": "code",
   "execution_count": 180,
   "metadata": {},
   "outputs": [],
   "source": [
    "mat = MyCSC.fromdense(jnp.eye(10)[2:])"
   ]
  },
  {
   "cell_type": "code",
   "execution_count": 181,
   "metadata": {},
   "outputs": [
    {
     "data": {
      "text/plain": [
       "CSC(float32[8, 10], nse=8)"
      ]
     },
     "execution_count": 181,
     "metadata": {},
     "output_type": "execute_result"
    }
   ],
   "source": [
    "mat"
   ]
  },
  {
   "cell_type": "code",
   "execution_count": 173,
   "metadata": {},
   "outputs": [
    {
     "ename": "AttributeError",
     "evalue": "'CSC' object has no attribute 'as_scipy'",
     "output_type": "error",
     "traceback": [
      "\u001b[0;31m---------------------------------------------------------------------------\u001b[0m",
      "\u001b[0;31mAttributeError\u001b[0m                            Traceback (most recent call last)",
      "Cell \u001b[0;32mIn[173], line 1\u001b[0m\n\u001b[0;32m----> 1\u001b[0m mat\u001b[39m.\u001b[39;49mas_scipy()\n",
      "\u001b[0;31mAttributeError\u001b[0m: 'CSC' object has no attribute 'as_scipy'"
     ]
    }
   ],
   "source": [
    "mat.as_scipy()"
   ]
  },
  {
   "cell_type": "code",
   "execution_count": 144,
   "metadata": {},
   "outputs": [],
   "source": [
    "mat = CSC.fromdense(jnp.eye(10))"
   ]
  },
  {
   "cell_type": "code",
   "execution_count": 146,
   "metadata": {},
   "outputs": [
    {
     "data": {
      "text/plain": [
       "Array([[1., 0., 0., 0., 0., 0., 0., 0., 0., 0.],\n",
       "       [0., 1., 0., 0., 0., 0., 0., 0., 0., 0.],\n",
       "       [0., 0., 1., 0., 0., 0., 0., 0., 0., 0.],\n",
       "       [0., 0., 0., 1., 0., 0., 0., 0., 0., 0.],\n",
       "       [0., 0., 0., 0., 1., 0., 0., 0., 0., 0.],\n",
       "       [0., 0., 0., 0., 0., 1., 0., 0., 0., 0.],\n",
       "       [0., 0., 0., 0., 0., 0., 1., 0., 0., 0.],\n",
       "       [0., 0., 0., 0., 0., 0., 0., 1., 0., 0.],\n",
       "       [0., 0., 0., 0., 0., 0., 0., 0., 1., 0.],\n",
       "       [0., 0., 0., 0., 0., 0., 0., 0., 0., 1.]], dtype=float32)"
      ]
     },
     "execution_count": 146,
     "metadata": {},
     "output_type": "execute_result"
    }
   ],
   "source": [
    "mat.todense()"
   ]
  },
  {
   "cell_type": "code",
   "execution_count": null,
   "metadata": {},
   "outputs": [],
   "source": []
  },
  {
   "cell_type": "code",
   "execution_count": 137,
   "metadata": {},
   "outputs": [
    {
     "data": {
      "text/plain": [
       "Array([[2., 1., 1., 4.],\n",
       "       [1., 0., 0., 1.],\n",
       "       [1., 0., 0., 1.],\n",
       "       [4., 1., 1., 0.]], dtype=float32)"
      ]
     },
     "execution_count": 137,
     "metadata": {},
     "output_type": "execute_result"
    }
   ],
   "source": [
    "prob.hess_f(jnp.ones(4))"
   ]
  },
  {
   "cell_type": "code",
   "execution_count": null,
   "metadata": {},
   "outputs": [],
   "source": []
  },
  {
   "cell_type": "code",
   "execution_count": null,
   "metadata": {},
   "outputs": [],
   "source": []
  },
  {
   "cell_type": "code",
   "execution_count": 107,
   "metadata": {},
   "outputs": [],
   "source": [
    "@jdc.pytree_dataclass\n",
    "class Param:\n",
    "    q0: Array\n",
    "    target: Array\n",
    "\n",
    "@jdc.pytree_dataclass\n",
    "class Residual:\n",
    "    error_and_jac_fn: Callable[[Array, Param], Tuple[Array]]\n",
    "    weights: Array\n",
    "\n",
    "@jdc.pytree_dataclass\n",
    "class Constr:\n",
    "    value_and_jac_fn: Callable[[Array, Param], Tuple[Array]]\n",
    "    lb: Array\n",
    "    ub: Array\n",
    "    \n",
    "    @property\n",
    "    def dim(self):\n",
    "        return len(self.lb)\n",
    "    \n",
    "    def is_eq_constr(self):\n",
    "        return jnp.array_equal(self.lb, self.ub)\n",
    "    \n",
    "    def value_and_jac_onesided(self, x, param):\n",
    "        cval, cjac = self.value_and_jac_fn(x, param)\n",
    "        cval_onesided = jnp.hstack([cval-self.lb, self.ub-cval])\n",
    "        cjac_onesided = jnp.vstack([cjac, -cjac])\n",
    "        return cval_onesided, cjac_onesided\n",
    "    \n",
    "    def get_bounds_onesided(self):\n",
    "        lb = jnp.zeros(self.dim*2)\n",
    "        if self.is_eq_constr():\n",
    "            ub = jnp.zeros(self.dim*2)\n",
    "        else:\n",
    "            ub = jnp.full(self.dim*2, jnp.inf)\n",
    "        return lb, ub\n",
    "\n",
    "\n",
    "def get_residual_weights(res_fns:Tuple[Residual]):\n",
    "    weights = []\n",
    "    for res_fn in res_fns:\n",
    "        weights.append(res_fn.weights)\n",
    "    return jnp.hstack(weights)\n",
    "\n",
    "# def get_constr_bounds(constr_fns:Tuple[ConstrFn]):\n",
    "#     lbs, ubs = [], []\n",
    "#     for constr_fn in constr_fns:\n",
    "#         zeros = jnp.zeros(constr_fn.dim)\n",
    "#         if constr_fn.is_eq_constr():\n",
    "#             ubs.append(zeros)\n",
    "#         else:\n",
    "#             ubs.append(np.full(constr_fn.dim, np.inf))\n",
    "#         lbs.append(zeros)\n",
    "#         lbs.append(zeros)\n",
    "#     return jnp.hstack(lbs), jnp.hstack(ubs)\n",
    "\n",
    "def eval_residual(x:Array, param:Param, res_fns:Tuple[Residual]):\n",
    "    errors, jacs = [], []\n",
    "    for res_fn in res_fns:\n",
    "        error, jac = res_fn.error_and_jac_fn(x, param)\n",
    "        errors.append(error)\n",
    "        jacs.append(jac)\n",
    "    return jnp.hstack(errors), jnp.vstack(jacs)\n",
    "\n",
    "def eval_constr(x, state, constr_fns:Tuple[Constr]):\n",
    "    ceq, ceq_jacs = [], []\n",
    "    cineq, cineq_jacs = [], []\n",
    "    for constr_fn in constr_fns:\n",
    "        val, jac = constr_fn.value_and_jac_onesided(x, state)\n",
    "        if constr_fn.is_eq_constr():\n",
    "            ceq.append(val)\n",
    "            ceq_jacs.append(jac)\n",
    "        else:\n",
    "            cineq.append(val)\n",
    "            cineq_jacs.append(jac)\n",
    "    return jnp.hstack(ceq), jnp.vstack(ceq_jacs), jnp.hstack(cineq), jnp.vstack(cineq_jacs)"
   ]
  },
  {
   "cell_type": "code",
   "execution_count": 3,
   "metadata": {},
   "outputs": [
    {
     "name": "stdout",
     "output_type": "stream",
     "text": [
      "You can open the visualizer by visiting the following URL:\n",
      "http://127.0.0.1:7007/static/\n"
     ]
    }
   ],
   "source": [
    "from sdf_world.sdf_world import *\n",
    "from sdf_world.robots import *\n",
    "from sdf_world.util import *\n",
    "\n",
    "world = SDFWorld()\n",
    "panda_model = RobotModel(PANDA_URDF, PANDA_PACKAGE)\n",
    "panda = Robot(world.vis, \"panda\", panda_model, alpha=0.5)\n",
    "panda.reduce_dim([7, 8], [0.04, 0.04])"
   ]
  },
  {
   "cell_type": "code",
   "execution_count": 108,
   "metadata": {},
   "outputs": [],
   "source": [
    "robot_dim = 7\n",
    "horizon = 1\n",
    "dim = robot_dim * horizon\n",
    "dt = 0.1\n",
    "\n",
    "to_mat = lambda x: x.reshape(-1, robot_dim)\n",
    "to_vec = lambda x: x.flatten()\n",
    "def to_posevec(pose:SE3):\n",
    "    return jnp.hstack([pose.translation(), pose.rotation().log()])\n",
    "\n",
    "# Kinematics\n",
    "def get_rotvec_angvel_map(v):\n",
    "    def skew(v):\n",
    "        v1, v2, v3 = v\n",
    "        return jnp.array([[0, -v3, v2],\n",
    "                        [v3, 0., -v1],\n",
    "                        [-v2, v1, 0.]])\n",
    "    vmag = jnp.linalg.norm(v)\n",
    "    vskew = skew(v)\n",
    "    return jnp.eye(3) \\\n",
    "        - 1/2*skew(v) \\\n",
    "        + vskew@vskew * 1/vmag**2 * (1-vmag/2 * jnp.sin(vmag)/(1-jnp.cos(vmag)))\n",
    "\n",
    "@jax.jit\n",
    "def get_ee_fk_jac(q):\n",
    "    # outputs ee_posevec and analytical jacobian\n",
    "    fks = panda_model.fk_fn(q)\n",
    "    p_ee = fks[-1][-3:]\n",
    "    rotvec_ee = SO3(fks[-1][:4]).log()\n",
    "    E = get_rotvec_angvel_map(rotvec_ee)\n",
    "    jac = []\n",
    "    for posevec in fks[1:8]:\n",
    "        p_frame = posevec[-3:]\n",
    "        rot_axis = SE3(posevec).as_matrix()[:3, 2]\n",
    "        lin_vel = jnp.cross(rot_axis, p_ee - p_frame)\n",
    "        jac.append(jnp.hstack([lin_vel, rot_axis]))\n",
    "    jac = jnp.array(jac).T\n",
    "    jac = jac.at[3:, :].set(E @ jac[3:, :])\n",
    "    return jnp.hstack([p_ee, rotvec_ee]), jac"
   ]
  },
  {
   "cell_type": "code",
   "execution_count": 8,
   "metadata": {},
   "outputs": [],
   "source": [
    "frame = Frame(world.vis, \"frame\")\n",
    "def make_pose():\n",
    "    return SE3.from_rotation_and_translation(\n",
    "        SO3(np.random.random(4)).normalize(),\n",
    "        np.random.uniform([-0.3,-0.5,0.3],[0.6, 0.5, 0.8])\n",
    "    )"
   ]
  },
  {
   "cell_type": "code",
   "execution_count": 109,
   "metadata": {},
   "outputs": [],
   "source": [
    "@jax.jit\n",
    "def vg_pose_error(x:Array, param:Param):\n",
    "    ee, jac = get_ee_fk_jac(x)\n",
    "    error = param.target - ee\n",
    "    return error, -jac\n",
    "\n",
    "@jax.jit\n",
    "def vj_joint_limit(x:Array, param:Param):\n",
    "    cval = x\n",
    "    cjac = jnp.eye(robot_dim)\n",
    "    return cval, cjac"
   ]
  },
  {
   "cell_type": "code",
   "execution_count": 13,
   "metadata": {},
   "outputs": [],
   "source": [
    "pose_d = make_pose()\n",
    "frame.set_pose(pose_d)\n",
    "posevec_d = to_posevec(pose_d)"
   ]
  },
  {
   "cell_type": "code",
   "execution_count": 110,
   "metadata": {},
   "outputs": [],
   "source": [
    "x = panda.neutral\n",
    "param = Param(panda.neutral, posevec_d)"
   ]
  },
  {
   "cell_type": "code",
   "execution_count": 111,
   "metadata": {},
   "outputs": [],
   "source": [
    "pose_error = Residual(vg_pose_error, jnp.array([1, 1, 1, 0.3, 0.3, 0.3]))\n",
    "joint_limit = Constr(vj_joint_limit, panda.lb, panda.ub)\n",
    "joint_limit_ = Constr(vj_joint_limit, panda.lb, panda.lb)\n",
    "res_fns = [pose_error]\n",
    "constr_fns = [joint_limit, joint_limit_]\n",
    "\n",
    "\n",
    "weight = get_residual_weights(res_fns)\n",
    "W = jnp.diag(weight)\n",
    "dim_x = 7\n",
    "dim_error = 6\n",
    "dim_eq = 14\n",
    "dim_ineq = 14"
   ]
  },
  {
   "cell_type": "code",
   "execution_count": 117,
   "metadata": {},
   "outputs": [],
   "source": [
    "class Problem:\n",
    "    def __init__(self, dim, res_fns:List[Residual], constr_fns:List[Constr]):\n",
    "        self.res_fns = res_fns\n",
    "        self.constr_fns = constr_fns\n",
    "        self.dim_x = dim\n",
    "        self.dim_error = 0\n",
    "        for res_fn in res_fns:\n",
    "            self.dim_error += len(res_fn.weights)\n",
    "        self.dim_eq = 0\n",
    "        self.dim_ineq = 0\n",
    "        for constr_fn in constr_fns:\n",
    "            if constr_fn.is_eq_constr():\n",
    "                self.dim_eq += len(constr_fn.lb)\n",
    "            else:\n",
    "                self.dim_ineq += len(constr_fn.lb)\n",
    "\n",
    "    \n",
    "prob = Problem(7, res_fns, constr_fns)"
   ]
  },
  {
   "cell_type": "code",
   "execution_count": null,
   "metadata": {},
   "outputs": [],
   "source": []
  },
  {
   "cell_type": "code",
   "execution_count": 116,
   "metadata": {},
   "outputs": [
    {
     "data": {
      "text/plain": [
       "6"
      ]
     },
     "execution_count": 116,
     "metadata": {},
     "output_type": "execute_result"
    }
   ],
   "source": [
    "prob.dim_error"
   ]
  },
  {
   "cell_type": "code",
   "execution_count": 118,
   "metadata": {},
   "outputs": [],
   "source": [
    "error, jac = eval_residual(x, param, res_fns)\n",
    "ceq, ceq_jac, cineq, cineq_jac = eval_constr(x, param, constr_fns)\n",
    "\n",
    "grad = jac.T @ W @ error\n",
    "hess = jac.T @ W @ jac"
   ]
  },
  {
   "cell_type": "code",
   "execution_count": 119,
   "metadata": {},
   "outputs": [],
   "source": [
    "mu = 1."
   ]
  },
  {
   "cell_type": "code",
   "execution_count": 126,
   "metadata": {},
   "outputs": [],
   "source": [
    "dim_aug = prob.dim_x + prob.dim_eq *2 + prob.dim_ineq\n",
    "P = jnp.zeros((dim_aug, dim_aug))\n",
    "P = P.at[:dim_x, :dim_x].set(hess)\n",
    "q = jnp.hstack([grad, jnp.full(prob.dim_eq*2+prob.dim_ineq, mu)])\n"
   ]
  },
  {
   "cell_type": "code",
   "execution_count": null,
   "metadata": {},
   "outputs": [],
   "source": [
    "A_fix = jnp.hstack(\n",
    "    [ceq_jac, \n",
    "     -jnp.eye(prob.dim_eq), \n",
    "     jnp.eye(prob.dim_eq), \n",
    "     jnp.zeros((prob.dim_ineq, prob.dim_ineq)) ])"
   ]
  },
  {
   "cell_type": "code",
   "execution_count": 129,
   "metadata": {},
   "outputs": [
    {
     "data": {
      "text/plain": [
       "Array([[ 1.,  0.,  0.,  0.,  0.,  0.,  0.],\n",
       "       [ 0.,  1.,  0.,  0.,  0.,  0.,  0.],\n",
       "       [ 0.,  0.,  1.,  0.,  0.,  0.,  0.],\n",
       "       [ 0.,  0.,  0.,  1.,  0.,  0.,  0.],\n",
       "       [ 0.,  0.,  0.,  0.,  1.,  0.,  0.],\n",
       "       [ 0.,  0.,  0.,  0.,  0.,  1.,  0.],\n",
       "       [ 0.,  0.,  0.,  0.,  0.,  0.,  1.],\n",
       "       [-1., -0., -0., -0., -0., -0., -0.],\n",
       "       [-0., -1., -0., -0., -0., -0., -0.],\n",
       "       [-0., -0., -1., -0., -0., -0., -0.],\n",
       "       [-0., -0., -0., -1., -0., -0., -0.],\n",
       "       [-0., -0., -0., -0., -1., -0., -0.],\n",
       "       [-0., -0., -0., -0., -0., -1., -0.],\n",
       "       [-0., -0., -0., -0., -0., -0., -1.]], dtype=float32)"
      ]
     },
     "execution_count": 129,
     "metadata": {},
     "output_type": "execute_result"
    }
   ],
   "source": [
    "ceq_jac"
   ]
  },
  {
   "cell_type": "code",
   "execution_count": 124,
   "metadata": {},
   "outputs": [
    {
     "data": {
      "text/plain": [
       "28"
      ]
     },
     "execution_count": 124,
     "metadata": {},
     "output_type": "execute_result"
    }
   ],
   "source": [
    "dim_aug"
   ]
  },
  {
   "cell_type": "code",
   "execution_count": null,
   "metadata": {},
   "outputs": [],
   "source": [
    "jnp.vstack([ceq_jac, jnp.eye(dim_eq)])"
   ]
  },
  {
   "cell_type": "code",
   "execution_count": 105,
   "metadata": {},
   "outputs": [
    {
     "data": {
      "text/plain": [
       "14"
      ]
     },
     "execution_count": 105,
     "metadata": {},
     "output_type": "execute_result"
    }
   ],
   "source": [
    "dim_eq"
   ]
  },
  {
   "cell_type": "code",
   "execution_count": 104,
   "metadata": {},
   "outputs": [
    {
     "data": {
      "text/plain": [
       "Array([[ 1.,  0.,  0.,  0.,  0.,  0.,  0.],\n",
       "       [ 0.,  1.,  0.,  0.,  0.,  0.,  0.],\n",
       "       [ 0.,  0.,  1.,  0.,  0.,  0.,  0.],\n",
       "       [ 0.,  0.,  0.,  1.,  0.,  0.,  0.],\n",
       "       [ 0.,  0.,  0.,  0.,  1.,  0.,  0.],\n",
       "       [ 0.,  0.,  0.,  0.,  0.,  1.,  0.],\n",
       "       [ 0.,  0.,  0.,  0.,  0.,  0.,  1.],\n",
       "       [-1., -0., -0., -0., -0., -0., -0.],\n",
       "       [-0., -1., -0., -0., -0., -0., -0.],\n",
       "       [-0., -0., -1., -0., -0., -0., -0.],\n",
       "       [-0., -0., -0., -1., -0., -0., -0.],\n",
       "       [-0., -0., -0., -0., -1., -0., -0.],\n",
       "       [-0., -0., -0., -0., -0., -1., -0.],\n",
       "       [-0., -0., -0., -0., -0., -0., -1.]], dtype=float32)"
      ]
     },
     "execution_count": 104,
     "metadata": {},
     "output_type": "execute_result"
    }
   ],
   "source": [
    "ceq_jac"
   ]
  },
  {
   "cell_type": "code",
   "execution_count": null,
   "metadata": {},
   "outputs": [],
   "source": []
  },
  {
   "cell_type": "code",
   "execution_count": 43,
   "metadata": {},
   "outputs": [],
   "source": [
    "val = error@jnp.diag(weight)@error\n",
    "grad = jac.T @ error\n",
    "hess = jac.T @ jnp.diag(weight) @ jac"
   ]
  },
  {
   "cell_type": "code",
   "execution_count": null,
   "metadata": {},
   "outputs": [],
   "source": [
    "# merit fn\n",
    "merit = \n",
    "for constr_fn in constr_fns:\n"
   ]
  },
  {
   "cell_type": "code",
   "execution_count": null,
   "metadata": {},
   "outputs": [],
   "source": [
    "#f\n",
    "\n",
    "#g\n",
    "\n",
    "#h"
   ]
  }
 ],
 "metadata": {
  "kernelspec": {
   "display_name": "cu11",
   "language": "python",
   "name": "python3"
  },
  "language_info": {
   "codemirror_mode": {
    "name": "ipython",
    "version": 3
   },
   "file_extension": ".py",
   "mimetype": "text/x-python",
   "name": "python",
   "nbconvert_exporter": "python",
   "pygments_lexer": "ipython3",
   "version": "3.8.16"
  },
  "orig_nbformat": 4
 },
 "nbformat": 4,
 "nbformat_minor": 2
}
