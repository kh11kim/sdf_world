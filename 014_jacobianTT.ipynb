{
 "cells": [
  {
   "cell_type": "code",
   "execution_count": 1,
   "metadata": {},
   "outputs": [],
   "source": [
    "from sympy import *"
   ]
  },
  {
   "cell_type": "code",
   "execution_count": 20,
   "metadata": {},
   "outputs": [],
   "source": [
    "q = symbols('q')\n",
    "xd, yd, zd = symbols('x_d y_d z_d')\n",
    "qwd, qxd, qyd, qzd = symbols('q_wd q_xd q_yd q_zd')\n",
    "xe = Function(\"x_e\")(q)\n",
    "ye = Function(\"y_e\")(q)\n",
    "ze = Function(\"z_e\")(q)\n",
    "qwe = Function(\"q_we\")(q)\n",
    "qxe = Function(\"q_xe\")(q)\n",
    "qye = Function(\"q_ye\")(q)\n",
    "qze = Function(\"q_ze\")(q)"
   ]
  },
  {
   "cell_type": "code",
   "execution_count": 15,
   "metadata": {},
   "outputs": [],
   "source": [
    "pe = Matrix([[xe, ye, ze]]).T\n",
    "pd = Matrix([[xd, yd, zd]]).T"
   ]
  },
  {
   "cell_type": "code",
   "execution_count": 17,
   "metadata": {},
   "outputs": [],
   "source": [
    "J = (pd - pe).T @ (pd - pe)"
   ]
  },
  {
   "cell_type": "code",
   "execution_count": 18,
   "metadata": {},
   "outputs": [
    {
     "data": {
      "text/latex": [
       "$\\displaystyle \\left[\\begin{matrix}- 2 \\left(x_{d} - x_{e}{\\left(q \\right)}\\right) \\frac{d}{d q} x_{e}{\\left(q \\right)} - 2 \\left(y_{d} - y_{e}{\\left(q \\right)}\\right) \\frac{d}{d q} y_{e}{\\left(q \\right)} - 2 \\left(z_{d} - z_{e}{\\left(q \\right)}\\right) \\frac{d}{d q} z_{e}{\\left(q \\right)}\\end{matrix}\\right]$"
      ],
      "text/plain": [
       "Matrix([[-2*(x_d - x_e(q))*Derivative(x_e(q), q) - 2*(y_d - y_e(q))*Derivative(y_e(q), q) - 2*(z_d - z_e(q))*Derivative(z_e(q), q)]])"
      ]
     },
     "execution_count": 18,
     "metadata": {},
     "output_type": "execute_result"
    }
   ],
   "source": [
    "J.jacobian([q])"
   ]
  }
 ],
 "metadata": {
  "kernelspec": {
   "display_name": "cu11",
   "language": "python",
   "name": "python3"
  },
  "language_info": {
   "codemirror_mode": {
    "name": "ipython",
    "version": 3
   },
   "file_extension": ".py",
   "mimetype": "text/x-python",
   "name": "python",
   "nbconvert_exporter": "python",
   "pygments_lexer": "ipython3",
   "version": "3.8.16"
  },
  "orig_nbformat": 4
 },
 "nbformat": 4,
 "nbformat_minor": 2
}
