{
 "cells": [
  {
   "cell_type": "code",
   "execution_count": 1,
   "metadata": {},
   "outputs": [],
   "source": [
    "import numpy as np\n",
    "import jax\n",
    "import jax.numpy as jnp\n",
    "from jaxlie import SE3, SO3\n",
    "import cyipopt\n",
    "\n",
    "from sdf_world.sdf_world import *\n",
    "from sdf_world.robots import *\n",
    "from sdf_world.util import *"
   ]
  },
  {
   "cell_type": "code",
   "execution_count": 2,
   "metadata": {},
   "outputs": [
    {
     "name": "stdout",
     "output_type": "stream",
     "text": [
      "You can open the visualizer by visiting the following URL:\n",
      "http://127.0.0.1:7001/static/\n"
     ]
    }
   ],
   "source": [
    "world = SDFWorld()"
   ]
  },
  {
   "cell_type": "code",
   "execution_count": 3,
   "metadata": {},
   "outputs": [],
   "source": [
    "panda_model = RobotModel(PANDA_URDF, PANDA_PACKAGE)\n",
    "panda = Robot(world.vis, \"panda\", panda_model, alpha=0.5)\n",
    "panda.reduce_dim([7, 8], [0.04, 0.04])"
   ]
  },
  {
   "cell_type": "code",
   "execution_count": 4,
   "metadata": {},
   "outputs": [],
   "source": [
    "# ik\n",
    "robot_dim = 7\n",
    "horizon = 5\n",
    "dim = robot_dim * horizon\n",
    "dt = 0.1\n",
    "\n",
    "to_mat = lambda x: x.reshape(-1, robot_dim)\n",
    "to_vec = lambda x: x.flatten()\n",
    "\n",
    "def to_qdots_mat(q0, qs):\n",
    "    qs = jnp.vstack([q0, to_mat(qs)])\n",
    "    return (qs[1:] - qs[:-1]) /dt"
   ]
  },
  {
   "cell_type": "code",
   "execution_count": 5,
   "metadata": {},
   "outputs": [],
   "source": [
    "# Kinematics\n",
    "def skew(v):\n",
    "    v1, v2, v3 = v\n",
    "    return jnp.array([[0, -v3, v2],\n",
    "                      [v3, 0., -v1],\n",
    "                      [-v2, v1, 0.]])\n",
    "\n",
    "def get_rotvec_angvel_map(v):\n",
    "    vmag = jnp.linalg.norm(v)\n",
    "    vskew = skew(v)\n",
    "    return jnp.eye(3) \\\n",
    "        - 1/2*skew(v) \\\n",
    "        + vskew@vskew * 1/vmag**2 * (1-vmag/2 * jnp.sin(vmag)/(1-jnp.cos(vmag)))\n",
    "\n",
    "@jax.jit\n",
    "def get_ee_fk_jac(q):\n",
    "    fks = panda_model.fk_fn(q)\n",
    "    p_ee = fks[-1][-3:]\n",
    "    rotvec_ee = SO3(fks[-1][:4]).log()\n",
    "    E = get_rotvec_angvel_map(rotvec_ee)\n",
    "    jac = []\n",
    "    for posevec in fks[1:8]:\n",
    "        p_frame = posevec[-3:]\n",
    "        rot_axis = SE3(posevec).as_matrix()[:3, 2]\n",
    "        lin_vel = jnp.cross(rot_axis, p_ee - p_frame)\n",
    "        jac.append(jnp.hstack([lin_vel, rot_axis]))\n",
    "    jac = jnp.array(jac).T\n",
    "    jac = jac.at[3:, :].set(E @ jac[3:, :])\n",
    "    return jnp.hstack([p_ee, rotvec_ee]), jac"
   ]
  },
  {
   "cell_type": "code",
   "execution_count": 6,
   "metadata": {},
   "outputs": [],
   "source": [
    "frame = Frame(world.vis, \"frame\")\n",
    "frame_ee = Frame(world.vis, \"frame_ee\")"
   ]
  },
  {
   "cell_type": "code",
   "execution_count": 14,
   "metadata": {},
   "outputs": [],
   "source": [
    "def make_pose():\n",
    "    return SE3.from_rotation_and_translation(\n",
    "        SO3(np.random.random(4)).normalize(),\n",
    "        np.random.uniform([-0.3,-0.5,0.3],[0.6, 0.5, 0.8])\n",
    "    )"
   ]
  },
  {
   "cell_type": "code",
   "execution_count": 15,
   "metadata": {},
   "outputs": [],
   "source": [
    "import time\n",
    "W = np.diag([1,1,1,0.3,0.3,0.3])\n",
    "def to_posevec(pose:SE3):\n",
    "    return jnp.hstack([\n",
    "        pose.translation(), pose.rotation().log()\n",
    "    ])\n",
    "def to_SE3(posevec:Array):\n",
    "    return SE3.from_rotation_and_translation(\n",
    "        SO3.exp(posevec[3:]), posevec[:3]\n",
    "    )\n",
    "\n",
    "def pose_error(q, target:SE3):\n",
    "    ee_posevec, _ = get_ee_fk_jac(q)\n",
    "    target_posevec = to_posevec(target)\n",
    "    err = (target_posevec - ee_posevec)\n",
    "    val = err@W@err#jnp.sum(err[:3]**2) + 0.3*jnp.sum(err[3:]**2)\n",
    "    return val\n",
    "\n",
    "def pose_error_grad(q, target:SE3):\n",
    "    ee_posevec, jac = get_ee_fk_jac(q)\n",
    "    target_posevec = to_posevec(target)\n",
    "    err = (target_posevec - ee_posevec)\n",
    "    grad_err = - 2*jac.T @ W @err\n",
    "    return grad_err\n",
    "\n",
    "def pose_error_hess(q, lagrange, obj_factor):\n",
    "    _, jac = get_ee_fk_jac(q)\n",
    "    return jac.T@W@jac"
   ]
  },
  {
   "cell_type": "code",
   "execution_count": 38,
   "metadata": {},
   "outputs": [],
   "source": [
    "x = jnp.zeros(dim)"
   ]
  },
  {
   "cell_type": "code",
   "execution_count": 39,
   "metadata": {},
   "outputs": [],
   "source": [
    "get_ee_point = lambda q:panda_model.fk_fn(q)[-1][-3:]\n",
    "get_ee_points = jax.vmap(get_ee_point)\n",
    "points = get_ee_points(to_mat(x))\n",
    "traj = DottedLine(world.vis, \"traj\", points)"
   ]
  },
  {
   "cell_type": "code",
   "execution_count": 70,
   "metadata": {},
   "outputs": [],
   "source": [
    "def objective(x, target:SE3):\n",
    "    val = jax.vmap(pose_error, in_axes=(0,None))(to_mat(x), target).sum()\n",
    "    traj.reload(points=get_ee_points(to_mat(x)))\n",
    "    return val\n",
    "\n",
    "def gradient(x, target:SE3):\n",
    "    grads = jax.vmap(pose_error_grad, in_axes=(0,None))(to_mat(x), target)\n",
    "    return grads.flatten()\n",
    "\n",
    "def hessian(x, lagrange, obj_factor):\n",
    "    hessians = jax.vmap(pose_error_hess, in_axes=(0, None, None))(to_mat(x), 0,1.)\n",
    "    result = jnp.zeros([dim, dim])\n",
    "    for i in range(5):\n",
    "        start, end = i*robot_dim, (i+1)*robot_dim\n",
    "        result = result.at[start:end, start:end].set(hessians[i])\n",
    "    return result\n",
    "\n",
    "qvel_lb = -jnp.ones(dim)\n",
    "qvel_ub = jnp.ones(dim)\n",
    "def constraints(x, q0):\n",
    "    qdots = to_qdots_mat(q0, x).flatten()\n",
    "    ub_viol = qvel_ub - qdots\n",
    "    lb_viol = qdots - qvel_lb\n",
    "    return jnp.hstack([lb_viol, ub_viol])\n",
    "jacobian = jax.jacrev(constraints)\n"
   ]
  },
  {
   "cell_type": "code",
   "execution_count": 74,
   "metadata": {},
   "outputs": [],
   "source": [
    "pose_d = make_pose()\n",
    "frame.set_pose(pose_d)"
   ]
  },
  {
   "cell_type": "code",
   "execution_count": 44,
   "metadata": {},
   "outputs": [],
   "source": [
    "#state initialize\n",
    "x = jnp.tile(panda.neutral, horizon)"
   ]
  },
  {
   "cell_type": "code",
   "execution_count": 21,
   "metadata": {},
   "outputs": [],
   "source": [
    "import cyipopt\n",
    "from functools import partial"
   ]
  },
  {
   "cell_type": "code",
   "execution_count": 82,
   "metadata": {},
   "outputs": [
    {
     "name": "stdout",
     "output_type": "stream",
     "text": [
      "This is Ipopt version 3.14.10, running with linear solver MUMPS 5.2.1.\n",
      "\n",
      "Number of nonzeros in equality constraint Jacobian...:        0\n",
      "Number of nonzeros in inequality constraint Jacobian.:     2450\n",
      "Number of nonzeros in Lagrangian Hessian.............:        0\n",
      "\n",
      "Total number of variables............................:       35\n",
      "                     variables with only lower bounds:        0\n",
      "                variables with lower and upper bounds:       35\n",
      "                     variables with only upper bounds:        0\n",
      "Total number of equality constraints.................:        0\n",
      "Total number of inequality constraints...............:       70\n",
      "        inequality constraints with only lower bounds:       70\n",
      "   inequality constraints with lower and upper bounds:        0\n",
      "        inequality constraints with only upper bounds:        0\n",
      "\n",
      "iter    objective    inf_pr   inf_du lg(mu)  ||d||  lg(rg) alpha_du alpha_pr  ls\n",
      "   0  6.1271391e+00 0.00e+00 2.74e-01   0.0 0.00e+00    -  0.00e+00 0.00e+00   0\n",
      "   1  5.2227907e+00 0.00e+00 2.15e-01  -0.6 2.60e-01    -  1.00e+00 1.00e+00f  1\n",
      "   2  4.0922651e+00 0.00e+00 4.90e-02  -1.4 4.50e-01    -  9.95e-01 1.00e+00f  1\n",
      "   3  3.4678903e+00 0.00e+00 8.33e-02  -2.4 3.53e-01    -  9.67e-01 1.00e+00f  1\n",
      "   4  3.2535110e+00 0.00e+00 9.16e-02  -2.6 3.60e-01    -  9.40e-01 1.00e+00f  1\n",
      "   5  3.1810303e+00 0.00e+00 7.33e-02  -3.3 5.17e-01    -  9.99e-01 8.87e-01f  1\n",
      "   6  3.1611767e+00 0.00e+00 1.99e-02  -3.8 2.87e-01    -  1.00e+00 9.54e-01f  1\n",
      "   7  3.1547348e+00 0.00e+00 2.32e-02  -4.5 2.03e-01    -  1.00e+00 1.00e+00f  1\n",
      "   8  3.1515455e+00 0.00e+00 3.46e-02  -5.2 7.93e-01    -  1.00e+00 4.79e-01f  1\n",
      "   9  3.1485882e+00 0.00e+00 6.75e-02  -4.2 5.62e+00    -  1.00e+00 6.93e-02f  1\n",
      "iter    objective    inf_pr   inf_du lg(mu)  ||d||  lg(rg) alpha_du alpha_pr  ls\n",
      "  10  3.1445296e+00 0.00e+00 6.40e-02  -3.9 2.92e+00    -  1.00e+00 2.50e-01f  1\n",
      "  11  3.1411417e+00 0.00e+00 1.08e-01  -3.1 4.41e+00    -  1.00e+00 2.02e-01f  1\n",
      "  12  3.1380062e+00 0.00e+00 1.21e-01  -3.4 6.32e-01    -  9.97e-01 6.52e-01f  1\n",
      "  13  3.1405234e+00 0.00e+00 6.58e-02  -3.2 4.65e-01    -  1.00e+00 9.67e-01f  1\n",
      "  14  3.1314178e+00 0.00e+00 4.13e-02  -3.3 2.81e-01    -  1.00e+00 1.00e+00f  1\n",
      "  15  3.1205320e+00 0.00e+00 4.33e-02  -3.5 5.13e-01    -  1.00e+00 7.52e-01f  1\n",
      "  16  3.1199565e+00 0.00e+00 4.10e-02  -3.1 3.41e+00    -  1.00e+00 1.71e-01f  1\n",
      "  17  3.1131730e+00 0.00e+00 2.37e-02  -4.1 1.95e-01    -  1.00e+00 7.42e-01f  1\n",
      "  18  3.1098294e+00 0.00e+00 2.74e-02  -4.2 3.19e-01    -  1.00e+00 1.00e+00h  1\n",
      "  19  3.1082668e+00 0.00e+00 2.00e-02  -4.8 1.66e-01    -  1.00e+00 9.79e-01h  1\n",
      "iter    objective    inf_pr   inf_du lg(mu)  ||d||  lg(rg) alpha_du alpha_pr  ls\n",
      "  20  3.1077659e+00 0.00e+00 1.15e-02  -5.5 1.39e-01    -  1.00e+00 8.77e-01h  1\n",
      "  21  3.1080141e+00 0.00e+00 2.68e-02  -5.6 4.58e-01    -  1.00e+00 1.00e+00h  1\n",
      "  22  3.1077199e+00 0.00e+00 1.54e-02  -5.1 2.45e-01    -  1.00e+00 7.06e-01h  1\n",
      "  23  3.1078780e+00 0.00e+00 6.71e-03  -4.9 1.65e-01    -  1.00e+00 1.00e+00h  1\n",
      "  24  3.1076896e+00 0.00e+00 6.98e-03  -4.9 1.31e-01    -  1.00e+00 1.00e+00h  1\n",
      "\n",
      "Number of Iterations....: 24\n",
      "\n",
      "                                   (scaled)                 (unscaled)\n",
      "Objective...............:   3.1076896190643311e+00    3.1076896190643311e+00\n",
      "Dual infeasibility......:   6.9816345162569864e-03    6.9816345162569864e-03\n",
      "Constraint violation....:   0.0000000000000000e+00    0.0000000000000000e+00\n",
      "Variable bound violation:   0.0000000000000000e+00    0.0000000000000000e+00\n",
      "Complementarity.........:   1.5648501120371483e-05    1.5648501120371483e-05\n",
      "Overall NLP error.......:   6.9816345162569864e-03    6.9816345162569864e-03\n",
      "\n",
      "\n",
      "Number of objective function evaluations             = 25\n",
      "Number of objective gradient evaluations             = 25\n",
      "Number of equality constraint evaluations            = 0\n",
      "Number of inequality constraint evaluations          = 25\n",
      "Number of equality constraint Jacobian evaluations   = 0\n",
      "Number of inequality constraint Jacobian evaluations = 25\n",
      "Number of Lagrangian Hessian evaluations             = 0\n",
      "Total seconds in IPOPT                               = 0.774\n",
      "\n",
      "EXIT: Solved To Acceptable Level.\n"
     ]
    }
   ],
   "source": [
    "class Prob:\n",
    "    pass\n",
    "prob = Prob()\n",
    "setattr(prob, \"objective\", partial(objective, target=pose_d))\n",
    "setattr(prob, \"gradient\", partial(gradient, target=pose_d))\n",
    "setattr(prob, \"constraints\", partial(constraints, q0=panda.neutral))\n",
    "setattr(prob, \"jacobian\", partial(jacobian, q0=panda.neutral))\n",
    "#setattr(prob, \"hessian\", hessian)\n",
    "\n",
    "ipopt = cyipopt.Problem(\n",
    "    n=35, m=dim*2,\n",
    "    problem_obj=prob,\n",
    "    lb=np.tile(panda.lb,horizon), ub=np.tile(panda.ub, horizon),\n",
    "    cl=np.zeros(dim*2), cu=np.full(dim*2,np.inf)\n",
    ")\n",
    "ipopt.add_option(\"nlp_scaling_method\", \"none\")\n",
    "ipopt.add_option(\"mu_strategy\", \"adaptive\")\n",
    "ipopt.add_option(\"acceptable_tol\", 0.01)\n",
    "#ipopt.add_option(\"acceptable_obj_change_tol\", 0.001)\n",
    "ipopt.add_option(\"acceptable_iter\", 2)\n",
    "ipopt.add_option(\"max_iter\", 100)\n",
    "xsol, info = ipopt.solve(np.tile(panda.neutral, horizon))"
   ]
  },
  {
   "cell_type": "code",
   "execution_count": 81,
   "metadata": {},
   "outputs": [],
   "source": [
    "panda.set_joint_angles(to_mat(xsol)[4])"
   ]
  },
  {
   "cell_type": "code",
   "execution_count": null,
   "metadata": {},
   "outputs": [],
   "source": []
  },
  {
   "cell_type": "code",
   "execution_count": 35,
   "metadata": {},
   "outputs": [],
   "source": []
  },
  {
   "cell_type": "code",
   "execution_count": 37,
   "metadata": {},
   "outputs": [],
   "source": []
  },
  {
   "cell_type": "code",
   "execution_count": null,
   "metadata": {},
   "outputs": [],
   "source": [
    "traj.reload(points=)"
   ]
  },
  {
   "cell_type": "code",
   "execution_count": 1689,
   "metadata": {},
   "outputs": [],
   "source": [
    "def rot_error(q, rot_d):\n",
    "    ee_pose, _ = get_ee_fk_jac(q)\n",
    "    orn_diff = SE3(ee_pose).rotation().inverse() @ rot_d\n",
    "    orn_error = orn_diff.parameters()[1:]\n",
    "    return 1/2 * orn_error @ orn_error"
   ]
  },
  {
   "cell_type": "code",
   "execution_count": 1680,
   "metadata": {},
   "outputs": [],
   "source": [
    "def get_qtn_map(qtn):\n",
    "    q0, q1, q2, q3 = qtn\n",
    "    return jnp.array([\n",
    "        [-q1, q0, -q3, q2],\n",
    "        [-q2, q3, q0, -q1],\n",
    "        [-q3, -q2, q1, q0],\n",
    "    ])\n",
    "def skew(v):\n",
    "    v1, v2, v3 = v\n",
    "    return jnp.array([[0, -v3, v2],\n",
    "                      [v3, 0., -v1],\n",
    "                      [-v2, v1, 0.]])"
   ]
  },
  {
   "cell_type": "code",
   "execution_count": 1667,
   "metadata": {},
   "outputs": [],
   "source": [
    "qtn = make_pose().rotation().parameters()\n",
    "rot_d = make_pose().rotation()"
   ]
  },
  {
   "cell_type": "code",
   "execution_count": 1690,
   "metadata": {},
   "outputs": [
    {
     "data": {
      "text/plain": [
       "Array([-0.18696576, -0.02868757, -0.18696575,  0.02868757,  0.02062087,\n",
       "        0.02868757,  0.18482518], dtype=float32)"
      ]
     },
     "execution_count": 1690,
     "metadata": {},
     "output_type": "execute_result"
    }
   ],
   "source": [
    "jax.grad(rot_error)(panda.neutral, rot_d)"
   ]
  },
  {
   "cell_type": "code",
   "execution_count": 1707,
   "metadata": {},
   "outputs": [],
   "source": [
    "q = panda.neutral"
   ]
  },
  {
   "cell_type": "code",
   "execution_count": 1708,
   "metadata": {},
   "outputs": [],
   "source": [
    "ee_pose, jac = get_ee_fk_jac(q)\n",
    "orn_diff = SO3(qtn).inverse() @ rot_d\n",
    "orn_error = orn_diff.parameters()[1:]"
   ]
  },
  {
   "cell_type": "code",
   "execution_count": 1711,
   "metadata": {},
   "outputs": [],
   "source": [
    "qtn_d = rot_d.parameters()\n",
    "qval, qvec = qtn_d[0], qtn_d[1:]\n",
    "H = get_qtn_map(ee_pose[:4]) #ee_pose[:4]"
   ]
  },
  {
   "cell_type": "code",
   "execution_count": 1715,
   "metadata": {},
   "outputs": [
    {
     "data": {
      "text/plain": [
       "Array([[-0.0361715 , -0.36486605, -0.0361715 ,  0.36486605, -0.33988822,\n",
       "         0.36486608, -0.06478072],\n",
       "       [-0.36486605,  0.0361715 , -0.36486605, -0.03617152,  0.00635148,\n",
       "        -0.03617148,  0.35078028],\n",
       "       [ 0.33988836,  0.00635018,  0.33988836, -0.00635016, -0.03617271,\n",
       "        -0.00635021, -0.3356127 ],\n",
       "       [ 0.00635018, -0.33988836,  0.00635018,  0.33988836,  0.364866  ,\n",
       "         0.3398884 ,  0.10060166]], dtype=float32)"
      ]
     },
     "execution_count": 1715,
     "metadata": {},
     "output_type": "execute_result"
    }
   ],
   "source": [
    "1/2*H.T@jac[3:,:]"
   ]
  },
  {
   "cell_type": "code",
   "execution_count": 1712,
   "metadata": {},
   "outputs": [
    {
     "data": {
      "text/plain": [
       "Array([-0.04278407, -0.44524294, -0.04278407,  0.44524294, -0.1600342 ,\n",
       "        0.445243  , -0.0058739 ], dtype=float32)"
      ]
     },
     "execution_count": 1712,
     "metadata": {},
     "output_type": "execute_result"
    }
   ],
   "source": [
    "1/2 * orn_error @ jnp.vstack([qvec, -jnp.eye(3)*qval - skew(qvec)]).T @ H.T @ jac[3:,:]"
   ]
  },
  {
   "cell_type": "code",
   "execution_count": 1705,
   "metadata": {},
   "outputs": [
    {
     "data": {
      "text/plain": [
       "(7, 7)"
      ]
     },
     "execution_count": 1705,
     "metadata": {},
     "output_type": "execute_result"
    }
   ],
   "source": [
    "jac.shape"
   ]
  },
  {
   "cell_type": "code",
   "execution_count": null,
   "metadata": {},
   "outputs": [],
   "source": []
  },
  {
   "cell_type": "code",
   "execution_count": 1240,
   "metadata": {},
   "outputs": [],
   "source": [
    "def pose_error(pose:Array, pose_d:SE3, weight=0.3):\n",
    "    pos_error = pose_d.translation() - pose[-3:]\n",
    "    orn_diff = SO3(pose[:4]).inverse() @ pose_d.rotation()\n",
    "    orn_error = orn_diff.parameters()[1:]\n",
    "    return pos_error @ pos_error + weight * orn_error @ orn_error"
   ]
  },
  {
   "cell_type": "code",
   "execution_count": 1297,
   "metadata": {},
   "outputs": [],
   "source": [
    "def pose_error(q, pose_d):\n",
    "    ee_pose = panda_model.fk_fn(q)[-1]\n",
    "    pos_error = pose_d.translation() - ee_pose[-3:]\n",
    "    orn_diff = SO3(ee_pose[:4]).inverse() @ pose_d.rotation()\n",
    "    orn_error = orn_diff.parameters()[1:]\n",
    "    return pos_error @ pos_error + orn_error @ orn_error"
   ]
  },
  {
   "cell_type": "code",
   "execution_count": 1659,
   "metadata": {},
   "outputs": [],
   "source": [
    "q = panda.neutral"
   ]
  },
  {
   "cell_type": "code",
   "execution_count": 1660,
   "metadata": {},
   "outputs": [],
   "source": [
    "q_grad = jax.grad(pose_error)(q, pose_d)"
   ]
  },
  {
   "cell_type": "code",
   "execution_count": 1661,
   "metadata": {},
   "outputs": [
    {
     "data": {
      "text/plain": [
       "Array([-0.11435245,  0.27144504, -0.11435244, -0.20746024,  0.02325282,\n",
       "       -0.33237973,  0.1296407 ], dtype=float32)"
      ]
     },
     "execution_count": 1661,
     "metadata": {},
     "output_type": "execute_result"
    }
   ],
   "source": [
    "q_grad"
   ]
  },
  {
   "cell_type": "code",
   "execution_count": 1658,
   "metadata": {},
   "outputs": [],
   "source": [
    "q_grad = jax.grad(pose_error)(q, pose_d)\n",
    "q -= q_grad*0.5\n",
    "panda.set_joint_angles(q)\n",
    "#print(pose_error(ee_pose, pose_d))"
   ]
  },
  {
   "cell_type": "code",
   "execution_count": 1296,
   "metadata": {},
   "outputs": [
    {
     "name": "stdout",
     "output_type": "stream",
     "text": [
      "4.7153628e-07\n"
     ]
    }
   ],
   "source": [
    "ee_pose, jac = get_ee_fk_jac(q)\n",
    "q_grad = jax.grad(pose_error)(ee_pose, pose_d)[-3:] @ jac[:3,:]\n",
    "q -= q_grad*1.\n",
    "panda.set_joint_angles(q)\n",
    "print(pose_error(ee_pose, pose_d))"
   ]
  },
  {
   "cell_type": "code",
   "execution_count": 1024,
   "metadata": {},
   "outputs": [
    {
     "data": {
      "text/plain": [
       "Array([ 0.        ,  0.        ,  0.        ,  0.        ,  0.841351  ,\n",
       "       -0.608469  , -0.07974565], dtype=float32)"
      ]
     },
     "execution_count": 1024,
     "metadata": {},
     "output_type": "execute_result"
    }
   ],
   "source": [
    "jax.grad(pose_error)(ee_pose, pose_d)"
   ]
  },
  {
   "cell_type": "code",
   "execution_count": null,
   "metadata": {},
   "outputs": [],
   "source": []
  },
  {
   "cell_type": "code",
   "execution_count": 292,
   "metadata": {},
   "outputs": [
    {
     "data": {
      "text/plain": [
       "Array([1.50614709e-01, 9.87606347e-02, 3.19140136e-01, 3.22840922e-02,\n",
       "       1.12083755e-01, 1.27956733e-01, 3.96228828e-09], dtype=float32)"
      ]
     },
     "execution_count": 292,
     "metadata": {},
     "output_type": "execute_result"
    }
   ],
   "source": [
    "ee_pose, jac = get_ee_fk_jac(q)\n",
    "jax.grad(pos_error)(ee_pose[-3:], pose_d.translation()) @ jac[:3, :]"
   ]
  },
  {
   "cell_type": "code",
   "execution_count": 285,
   "metadata": {},
   "outputs": [],
   "source": [
    "def pose_error(q, pose_d):\n",
    "    ee_pose, jac = get_ee_fk_jac(q)\n",
    "    pos_error = pose_d.translation() - ee_pose[-3:]\n",
    "    orn_diff = SO3(ee_pose[:4]).inverse() @ pose_d.rotation()\n",
    "    orn_error = orn_diff.parameters()[1:]\n",
    "    return pos_error @ pos_error + orn_error @ orn_error\n",
    "\n",
    "def pose_error_grad(q, pose_d):\n",
    "    ee_pose, jac = get_ee_fk_jac(q)\n",
    "    pos_error = pose_d.translation() - ee_pose[-3:]\n",
    "    orn_diff = SO3(ee_pose[:4]).inverse() @ pose_d.rotation()\n",
    "    orn_error = orn_diff.parameters()[1:]\n",
    "    error = jnp.hstack([pos_error, orn_error])\n",
    "    return - error @ jac[:3, :]\n",
    "\n",
    "def get_qtn_angvel_map(qtn):\n",
    "    q0, q1, q2, q3 = qtn\n",
    "    return 1/2 * jnp.array([\n",
    "        [-q1, q0, -q3, q2],\n",
    "        [-q2, q3, q0, -q1],\n",
    "        [-q3, -q2, q1, q0],\n",
    "    ]).T\n",
    "def qtn_error(qtn:Array, qtn_d:Array):\n",
    "    orn_diff = SO3(qtn).inverse() @ SO3(qtn_d)\n",
    "    orn_error = orn_diff.parameters()[1:]\n",
    "    return orn_error@orn_error"
   ]
  },
  {
   "cell_type": "code",
   "execution_count": 98,
   "metadata": {},
   "outputs": [],
   "source": [
    "q = panda.neutral"
   ]
  },
  {
   "cell_type": "code",
   "execution_count": 244,
   "metadata": {},
   "outputs": [],
   "source": [
    "ee_pose, jac = get_ee_fk_jac(q)"
   ]
  },
  {
   "cell_type": "code",
   "execution_count": 260,
   "metadata": {},
   "outputs": [],
   "source": [
    "ee_pose, jac = get_ee_fk_jac(q)\n",
    "pos_error = pose_d.translation() - ee_pose[-3:]\n",
    "orn_diff = SO3(ee_pose[:4]).inverse() @ pose_d.rotation()\n",
    "orn_error = orn_diff.parameters()[1:]\n",
    "error = jnp.hstack([pos_error, orn_error])"
   ]
  },
  {
   "cell_type": "code",
   "execution_count": 266,
   "metadata": {},
   "outputs": [
    {
     "data": {
      "text/plain": [
       "Array([ 0.03801263, -0.41752088,  0.6661166 ], dtype=float32)"
      ]
     },
     "execution_count": 266,
     "metadata": {},
     "output_type": "execute_result"
    }
   ],
   "source": [
    "2*orn_error @ "
   ]
  },
  {
   "cell_type": "code",
   "execution_count": 269,
   "metadata": {},
   "outputs": [],
   "source": [
    "orn_d = pose_d.rotation().parameters()"
   ]
  },
  {
   "cell_type": "code",
   "execution_count": 280,
   "metadata": {},
   "outputs": [],
   "source": []
  },
  {
   "cell_type": "code",
   "execution_count": 284,
   "metadata": {},
   "outputs": [
    {
     "data": {
      "text/plain": [
       "Array([-0.07927534, -0.44725028,  0.55431426,  0.3254203 ], dtype=float32)"
      ]
     },
     "execution_count": 284,
     "metadata": {},
     "output_type": "execute_result"
    }
   ],
   "source": [
    "jax.grad(qtn_error)(ee_pose[:4], pose_d.parameters()[:4])"
   ]
  },
  {
   "cell_type": "code",
   "execution_count": 273,
   "metadata": {},
   "outputs": [
    {
     "data": {
      "text/plain": [
       "Array([[0.81050926],\n",
       "       [0.5543198 ],\n",
       "       [0.18218307]], dtype=float32)"
      ]
     },
     "execution_count": 273,
     "metadata": {},
     "output_type": "execute_result"
    }
   ],
   "source": [
    "jnp.hstack([qtn_d[1:,None], -jnp.eye(3)*qtn_d])"
   ]
  },
  {
   "cell_type": "code",
   "execution_count": 258,
   "metadata": {},
   "outputs": [
    {
     "data": {
      "text/plain": [
       "Array([-0.06068315, -0.15786007, -0.10256918,  0.16130203, -0.05043432,\n",
       "        0.17560862,  0.06313524], dtype=float32)"
      ]
     },
     "execution_count": 258,
     "metadata": {},
     "output_type": "execute_result"
    }
   ],
   "source": [
    "orn_error @ get_qtn_angvel_map(ee_pose[:4])[1:] @ jac[3:]"
   ]
  },
  {
   "cell_type": "code",
   "execution_count": 254,
   "metadata": {},
   "outputs": [],
   "source": [
    "orn_error"
   ]
  },
  {
   "cell_type": "code",
   "execution_count": 238,
   "metadata": {},
   "outputs": [],
   "source": [
    "q_grad = pos_error_grad(q, pose_d)\n",
    "q -= q_grad*0.1\n",
    "panda.set_joint_angles(q)"
   ]
  },
  {
   "cell_type": "code",
   "execution_count": 16,
   "metadata": {},
   "outputs": [
    {
     "data": {
      "text/plain": [
       "Array(0.2659558, dtype=float32)"
      ]
     },
     "execution_count": 16,
     "metadata": {},
     "output_type": "execute_result"
    }
   ],
   "source": []
  },
  {
   "cell_type": "code",
   "execution_count": 789,
   "metadata": {},
   "outputs": [
    {
     "data": {
      "text/plain": [
       "SO3(wxyz=[0.61263996 0.         0.55449    2.77159   ])"
      ]
     },
     "execution_count": 789,
     "metadata": {},
     "output_type": "execute_result"
    }
   ],
   "source": [
    "SO3(ee_pose[:4])"
   ]
  },
  {
   "cell_type": "code",
   "execution_count": null,
   "metadata": {},
   "outputs": [],
   "source": []
  },
  {
   "cell_type": "code",
   "execution_count": 783,
   "metadata": {},
   "outputs": [
    {
     "data": {
      "text/plain": [
       "Array([[-0.45957762,  0.52428114, -0.45957762, -0.52428114,  0.85152006,\n",
       "        -0.52428114,  0.68845195],\n",
       "       [ 1.4331958 ,  0.21716428,  1.4331958 , -0.21716419,  0.11006793,\n",
       "        -0.21716441, -1.3383926 ],\n",
       "       [ 0.10288757, -1.338393  ,  0.10288757,  1.338393  ,  0.68845165,\n",
       "         1.3383931 ,  0.10288784]], dtype=float32)"
      ]
     },
     "execution_count": 783,
     "metadata": {},
     "output_type": "execute_result"
    }
   ],
   "source": [
    "jac[3:,:]"
   ]
  },
  {
   "cell_type": "code",
   "execution_count": 275,
   "metadata": {},
   "outputs": [],
   "source": [
    "def to_posevec(pose:SE3):\n",
    "    return jnp.hstack([\n",
    "        pose.translation(), pose.rotation().log()\n",
    "    ])\n",
    "def to_SE3(posevec:Array):\n",
    "    return SE3.from_rotation_and_translation(\n",
    "        SO3.exp(posevec[3:]), posevec[:3]\n",
    "    )\n",
    "\n",
    "@jax.jit\n",
    "def pose_err(q, target:SE3):\n",
    "    ee_posevec, _ = get_ee_fk_jac(q)\n",
    "    target_posevec = to_posevec(target)\n",
    "    err = (target_posevec - ee_posevec)\n",
    "    val = jnp.sum(err**2)\n",
    "    return val\n",
    "\n",
    "@jax.jit\n",
    "def pose_err_grad(q, target:SE3):\n",
    "    ee_posevec, jac = get_ee_fk_jac(q)\n",
    "    target_posevec = to_posevec(target)\n",
    "    err = (target_posevec - ee_posevec)\n",
    "    grad_err = - 2*jac.T@err\n",
    "    return grad_err"
   ]
  },
  {
   "cell_type": "code",
   "execution_count": 711,
   "metadata": {},
   "outputs": [],
   "source": [
    "q = panda.neutral"
   ]
  },
  {
   "cell_type": "code",
   "execution_count": 774,
   "metadata": {},
   "outputs": [
    {
     "name": "stdout",
     "output_type": "stream",
     "text": [
      "0.209952\n"
     ]
    }
   ],
   "source": [
    "q_grad = pose_err_grad(q, target)\n",
    "q -= q_grad*0.1\n",
    "panda.set_joint_angles(q)\n",
    "print(pose_err(q, target))"
   ]
  },
  {
   "cell_type": "code",
   "execution_count": null,
   "metadata": {},
   "outputs": [],
   "source": []
  },
  {
   "cell_type": "code",
   "execution_count": 66,
   "metadata": {},
   "outputs": [],
   "source": []
  },
  {
   "cell_type": "code",
   "execution_count": 9,
   "metadata": {},
   "outputs": [],
   "source": [
    "def obj_fn(x, target):\n",
    "    return pose_err(x, target)\n",
    "def grad_fn(x, target):\n",
    "    return pose_err_grad(x, target)"
   ]
  },
  {
   "cell_type": "code",
   "execution_count": 38,
   "metadata": {},
   "outputs": [],
   "source": [
    "def make_random_pose():\n",
    "    return SE3.from_rotation_and_translation(\n",
    "        SO3(np.random.random(4)).normalize(),\n",
    "        np.random.uniform([-0.,-0.5,0.3],[0.5,0.5,0.8])\n",
    "    )"
   ]
  },
  {
   "cell_type": "code",
   "execution_count": null,
   "metadata": {},
   "outputs": [],
   "source": [
    "frame = Frame(world.vis, \"frame\")"
   ]
  },
  {
   "cell_type": "code",
   "execution_count": 55,
   "metadata": {},
   "outputs": [],
   "source": [
    "target = make_random_pose()\n",
    "frame.set_pose(target)"
   ]
  },
  {
   "cell_type": "code",
   "execution_count": 56,
   "metadata": {},
   "outputs": [],
   "source": [
    "from functools import partial\n",
    "target = make_random_pose()\n",
    "objective = partial(obj_fn, target=target)\n",
    "gradient = partial(grad_fn, target=target)\n",
    "# constraints = partial(constr_fn, q0=q0)\n",
    "# jacobian = partial(constr_fn_jac, q0=q0)\n",
    "class Prob:\n",
    "    pass\n",
    "prob = Prob()\n",
    "setattr(prob, \"objective\", objective)\n",
    "setattr(prob, \"gradient\", gradient)\n",
    "# setattr(prob, \"constraints\", constraints)\n",
    "# setattr(prob, \"jacobian\", jacobian)\n",
    "\n",
    "ipopt = cyipopt.Problem(\n",
    "    n=7, m=0,\n",
    "    problem_obj=prob,\n",
    "    lb=panda_model.lb[:7], ub=panda_model.ub[:7],\n",
    "    #cl=np.zeros(dim), cu=np.full(dim, np.inf)\n",
    ")"
   ]
  },
  {
   "cell_type": "code",
   "execution_count": 59,
   "metadata": {},
   "outputs": [
    {
     "name": "stdout",
     "output_type": "stream",
     "text": [
      "This is Ipopt version 3.14.10, running with linear solver MUMPS 5.2.1.\n",
      "\n",
      "Number of nonzeros in equality constraint Jacobian...:        0\n",
      "Number of nonzeros in inequality constraint Jacobian.:        0\n",
      "Number of nonzeros in Lagrangian Hessian.............:        0\n",
      "\n",
      "Total number of variables............................:        7\n",
      "                     variables with only lower bounds:        0\n",
      "                variables with lower and upper bounds:        7\n",
      "                     variables with only upper bounds:        0\n",
      "Total number of equality constraints.................:        0\n",
      "Total number of inequality constraints...............:        0\n",
      "        inequality constraints with only lower bounds:        0\n",
      "   inequality constraints with lower and upper bounds:        0\n",
      "        inequality constraints with only upper bounds:        0\n",
      "\n",
      "iter    objective    inf_pr   inf_du lg(mu)  ||d||  lg(rg) alpha_du alpha_pr  ls\n",
      "   0  6.6770287e+00 0.00e+00 5.14e+00   0.0 0.00e+00    -  0.00e+00 0.00e+00   0\n",
      "   1  3.4405947e-01 0.00e+00 2.96e+00   0.4 2.63e+00    -  9.06e-01 1.79e-01f  3\n",
      "   2  2.2366787e-01 0.00e+00 3.91e-01  -1.2 1.04e-01    -  9.79e-01 1.00e+00f  1\n",
      "   3  1.7468244e-01 0.00e+00 1.21e-01  -2.5 1.19e-01    -  1.00e+00 1.00e+00f  1\n",
      "   4  1.6876371e-01 0.00e+00 1.04e-01  -3.9 2.94e-02    -  1.00e+00 1.00e+00f  1\n",
      "   5  1.3306826e-01 0.00e+00 2.36e-01  -4.6 7.26e-01    -  1.00e+00 5.00e-01f  2\n",
      "   6  1.2422496e-01 0.00e+00 4.74e-01  -5.4 4.41e-01    -  1.00e+00 1.00e+00f  1\n",
      "   7  6.8578638e-02 0.00e+00 3.29e-01  -6.1 2.52e-01    -  1.00e+00 1.00e+00f  1\n",
      "   8  6.4637236e-02 0.00e+00 3.38e-01  -6.4 1.66e-01    -  1.00e+00 1.00e+00f  1\n",
      "   9  3.8383938e-02 0.00e+00 1.25e-01  -7.5 1.56e-01    -  1.00e+00 1.00e+00f  1\n",
      "iter    objective    inf_pr   inf_du lg(mu)  ||d||  lg(rg) alpha_du alpha_pr  ls\n",
      "  10  2.5287669e-02 0.00e+00 1.62e-01  -8.1 9.91e-01    -  1.00e+00 2.50e-01f  3\n",
      "  11  7.0947064e-03 0.00e+00 5.67e-02  -7.3 1.64e+00    -  1.00e+00 1.81e-01f  3\n",
      "  12  4.9264883e-03 0.00e+00 1.26e-01  -7.7 9.87e-01    -  1.00e+00 9.27e-02f  4\n",
      "  13  3.4396721e-03 0.00e+00 9.03e-02  -9.1 1.96e-01    -  1.00e+00 1.00e+00f  1\n",
      "  14  2.3052834e-03 0.00e+00 7.63e-02  -8.1 3.73e-01    -  1.00e+00 2.50e-01f  3\n",
      "  15  6.1885722e-04 0.00e+00 2.44e-02  -8.6 1.59e-01    -  1.00e+00 5.00e-01f  2\n",
      "  16  5.4573355e-04 0.00e+00 1.13e-02  -9.0 1.84e-01    -  1.00e+00 1.25e-01f  4\n",
      "  17  4.9784867e-04 0.00e+00 3.73e-02  -9.9 7.81e-02    -  1.00e+00 5.00e-01f  2\n",
      "  18  3.9778015e-04 0.00e+00 1.30e-02 -11.0 2.88e-01    -  1.00e+00 2.50e-01f  3\n",
      "  19  3.7876519e-04 0.00e+00 2.41e-02 -10.9 2.70e-01    -  1.00e+00 1.25e-01f  4\n",
      "iter    objective    inf_pr   inf_du lg(mu)  ||d||  lg(rg) alpha_du alpha_pr  ls\n",
      "  20  6.2159103e-05 0.00e+00 1.21e-02 -11.0 5.92e-02    -  1.00e+00 1.00e+00f  1\n",
      "  21  5.6604098e-05 0.00e+00 8.98e-03 -11.0 1.10e-01    -  1.00e+00 6.25e-02f  5\n",
      "  22  4.7707370e-05 0.00e+00 3.04e-03 -11.0 6.18e-02    -  1.00e+00 1.25e-01f  4\n",
      "  23  2.8424734e-05 0.00e+00 3.68e-03 -11.0 3.04e-02    -  1.00e+00 1.00e+00f  1\n",
      "  24  2.7734814e-05 0.00e+00 4.99e-03 -11.0 1.11e-01    -  1.00e+00 6.25e-02f  5\n",
      "  25  4.3128071e-06 0.00e+00 1.37e-03 -11.0 2.08e-02    -  1.00e+00 1.00e+00f  1\n",
      "  26  2.9551900e-06 0.00e+00 9.37e-04 -11.0 4.85e-02    -  1.00e+00 6.25e-02f  5\n",
      "  27  2.5955164e-06 0.00e+00 1.85e-03 -11.0 1.38e-02    -  1.00e+00 6.25e-02f  5\n",
      "  28  3.7722355e-08 0.00e+00 2.67e-04 -11.0 4.46e-03    -  1.00e+00 1.00e+00f  1\n",
      "  29  3.7292548e-08 0.00e+00 9.92e-05 -11.0 3.82e-03    -  1.00e+00 6.25e-02f  5\n",
      "iter    objective    inf_pr   inf_du lg(mu)  ||d||  lg(rg) alpha_du alpha_pr  ls\n",
      "  30  3.3970217e-08 0.00e+00 2.47e-04 -11.0 1.19e-03    -  1.00e+00 5.00e-01f  2\n",
      "  31  9.7836113e-09 0.00e+00 7.28e-05 -11.0 2.25e-03    -  1.00e+00 2.50e-01f  3\n",
      "  32  8.6608249e-09 0.00e+00 8.90e-05 -11.0 9.35e-04    -  1.00e+00 1.25e-01f  4\n",
      "\n",
      "Number of Iterations....: 32\n",
      "\n",
      "                                   (scaled)                 (unscaled)\n",
      "Objective...............:   8.6608249461050946e-09    8.6608249461050946e-09\n",
      "Dual infeasibility......:   8.8978253434888419e-05    8.8978253434888419e-05\n",
      "Constraint violation....:   0.0000000000000000e+00    0.0000000000000000e+00\n",
      "Variable bound violation:   0.0000000000000000e+00    0.0000000000000000e+00\n",
      "Complementarity.........:   1.0010633081872227e-11    1.0010633081872227e-11\n",
      "Overall NLP error.......:   8.8978253434888419e-05    8.8978253434888419e-05\n",
      "\n",
      "\n",
      "Number of objective function evaluations             = 164\n",
      "Number of objective gradient evaluations             = 33\n",
      "Number of equality constraint evaluations            = 0\n",
      "Number of inequality constraint evaluations          = 0\n",
      "Number of equality constraint Jacobian evaluations   = 0\n",
      "Number of inequality constraint Jacobian evaluations = 0\n",
      "Number of Lagrangian Hessian evaluations             = 0\n",
      "Total seconds in IPOPT                               = 0.107\n",
      "\n",
      "EXIT: Solved To Acceptable Level.\n"
     ]
    }
   ],
   "source": [
    "#ipopt.add_option(\"acceptable_obj_change_tol\", 1.)\n",
    "ipopt.add_option(\"acceptable_tol\", 0.0001)\n",
    "ipopt.add_option(\"acceptable_iter\", 2)\n",
    "ipopt.add_option(\"print_level\", 5)\n",
    "ipopt.add_option(\"max_iter\", 100)\n",
    "\n",
    "xsol, info = ipopt.solve(panda.neutral)"
   ]
  },
  {
   "cell_type": "code",
   "execution_count": 61,
   "metadata": {},
   "outputs": [],
   "source": [
    "panda.set_joint_angles(xsol)"
   ]
  },
  {
   "cell_type": "code",
   "execution_count": 28,
   "metadata": {},
   "outputs": [],
   "source": []
  }
 ],
 "metadata": {
  "kernelspec": {
   "display_name": "cu11",
   "language": "python",
   "name": "python3"
  },
  "language_info": {
   "codemirror_mode": {
    "name": "ipython",
    "version": 3
   },
   "file_extension": ".py",
   "mimetype": "text/x-python",
   "name": "python",
   "nbconvert_exporter": "python",
   "pygments_lexer": "ipython3",
   "version": "3.8.16"
  },
  "orig_nbformat": 4
 },
 "nbformat": 4,
 "nbformat_minor": 2
}
