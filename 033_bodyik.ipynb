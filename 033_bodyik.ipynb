{
 "cells": [
  {
   "cell_type": "code",
   "execution_count": 1,
   "metadata": {},
   "outputs": [],
   "source": [
    "import numpy as np\n",
    "import jax\n",
    "import jax.numpy as jnp\n",
    "from jaxlie import SE3, SO3\n",
    "import jax_dataclasses as jdc\n",
    "from functools import partial\n",
    "\n",
    "from sdf_world.sdf_world import *\n",
    "from sdf_world.robots import *\n",
    "from sdf_world.util import *\n",
    "from sdf_world.network import *\n",
    "from sdf_world.sparse_ipopt import *"
   ]
  },
  {
   "cell_type": "code",
   "execution_count": 2,
   "metadata": {},
   "outputs": [
    {
     "name": "stdout",
     "output_type": "stream",
     "text": [
      "You can open the visualizer by visiting the following URL:\n",
      "http://127.0.0.1:7002/static/\n"
     ]
    }
   ],
   "source": [
    "world = SDFWorld()"
   ]
  },
  {
   "cell_type": "code",
   "execution_count": 3,
   "metadata": {},
   "outputs": [],
   "source": [
    "# robot, hand\n",
    "panda_model = RobotModel(PANDA_URDF, PANDA_PACKAGE)\n",
    "panda = Robot(world.vis, \"panda\", panda_model, alpha=0.5)\n",
    "panda.reduce_dim([7, 8], [0.04, 0.04])"
   ]
  },
  {
   "cell_type": "code",
   "execution_count": 4,
   "metadata": {},
   "outputs": [],
   "source": [
    "frame = Frame(world.vis, \"frame\")"
   ]
  },
  {
   "cell_type": "code",
   "execution_count": 699,
   "metadata": {},
   "outputs": [],
   "source": [
    "frame2 = Frame(world.vis, \"frame2\")"
   ]
  },
  {
   "cell_type": "code",
   "execution_count": 949,
   "metadata": {},
   "outputs": [],
   "source": [
    "def skew(v):\n",
    "    v1, v2, v3 = v\n",
    "    return jnp.array([[0, -v3, v2],\n",
    "                      [v3, 0., -v1],\n",
    "                      [-v2, v1, 0.]])\n",
    "\n",
    "@jax.custom_jvp\n",
    "def fk(q):\n",
    "    fks = panda_model.fk_fn(q)\n",
    "    return fks[-1]\n",
    "\n",
    "@fk.defjvp\n",
    "def fk_jvp(primals, tangents):\n",
    "    q, = primals\n",
    "    q_dot, = tangents\n",
    "    fks = panda_model.fk_fn(q)\n",
    "    qtn, p_ee = fks[-1][:4], fks[-1][-3:]\n",
    "    w, xyz = qtn[0], qtn[1:]\n",
    "    geom_jac = []\n",
    "    for posevec in fks[1:8]:\n",
    "        p_frame = posevec[-3:]\n",
    "        rot_axis = SE3(posevec).as_matrix()[:3, 2]\n",
    "        lin_vel = jnp.cross(rot_axis, p_ee - p_frame)\n",
    "        geom_jac.append(jnp.hstack([lin_vel, rot_axis]))\n",
    "    geom_jac = jnp.array(geom_jac).T  #geom_jacobian\n",
    "    H = jnp.hstack([-xyz[:,None], skew(xyz)+jnp.eye(3)*w])\n",
    "    rot_jac = 0.5*H.T@geom_jac[3:,:]\n",
    "    jac = jnp.vstack([rot_jac, geom_jac[:3,:]])\n",
    "    return fks[-1], jac@q_dot"
   ]
  },
  {
   "cell_type": "code",
   "execution_count": 2068,
   "metadata": {},
   "outputs": [],
   "source": [
    "t = np.random.uniform([0.3,-0.4, 0.5], [0.7, 0.4, 0.7])\n",
    "qtn = SO3(np.random.normal(size=4)).normalize()\n",
    "target_pose = SE3.from_rotation_and_translation(qtn, t)\n",
    "frame.set_pose(target_pose)\n",
    "\n",
    "q = panda.neutral.copy()\n",
    "panda.set_joint_angles(q)\n",
    "ee = fk(q)\n",
    "frame2.set_pose(SE3(ee))"
   ]
  },
  {
   "cell_type": "code",
   "execution_count": 1838,
   "metadata": {},
   "outputs": [],
   "source": [
    "q = panda.neutral.copy()\n",
    "panda.set_joint_angles(q)"
   ]
  },
  {
   "cell_type": "code",
   "execution_count": 2020,
   "metadata": {},
   "outputs": [],
   "source": [
    "def error_vec(q, target_pose):\n",
    "    target = target_pose.parameters()\n",
    "    curr = fk(q)\n",
    "    #R_curr = SO3(curr[:4]).as_matrix()\n",
    "    pos_err = (target[-3:] - curr[-3:]) #R_curr.T @ \n",
    "    rot_err = (SO3(curr[:4]).inverse()@SO3(target[:4])).log()\n",
    "    return jnp.hstack([pos_err, 0.5*rot_err])\n",
    "error_jac = jax.jit(jax.jacfwd(error_vec))"
   ]
  },
  {
   "cell_type": "code",
   "execution_count": 2069,
   "metadata": {},
   "outputs": [],
   "source": [
    "#dq = fk_grad(q, target_pose)\n",
    "d = -jnp.linalg.pinv(error_jac(q, target_pose))@error_vec(q, target_pose)\n",
    "\n",
    "\n",
    "q += d*0.3\n",
    "panda.set_joint_angles(q)\n",
    "ee = fk(q)\n",
    "frame2.set_pose(SE3(ee))\n",
    "#error(q, target_pose)"
   ]
  },
  {
   "cell_type": "code",
   "execution_count": 1624,
   "metadata": {},
   "outputs": [
    {
     "name": "stdout",
     "output_type": "stream",
     "text": [
      "[ 0.06209511  0.9251849   0.34851304  0.13680421  0.58107424 -0.01059722\n",
      "  0.5536008 ]\n",
      "SE3(wxyz=[0.0621     0.92519    0.34851    0.13679999], xyz=[ 0.58107 -0.0106   0.5536 ])\n"
     ]
    }
   ],
   "source": [
    "print(fk(q))\n",
    "print(SE3(fk(q)).normalize())"
   ]
  },
  {
   "cell_type": "code",
   "execution_count": 934,
   "metadata": {},
   "outputs": [
    {
     "data": {
      "text/plain": [
       "Array(0.00557508, dtype=float32)"
      ]
     },
     "execution_count": 934,
     "metadata": {},
     "output_type": "execute_result"
    }
   ],
   "source": [
    "error(q, target_pose)"
   ]
  },
  {
   "cell_type": "code",
   "execution_count": 58,
   "metadata": {},
   "outputs": [],
   "source": []
  },
  {
   "cell_type": "code",
   "execution_count": 38,
   "metadata": {},
   "outputs": [],
   "source": [
    "ee = fk(q)"
   ]
  },
  {
   "cell_type": "code",
   "execution_count": 7,
   "metadata": {},
   "outputs": [],
   "source": [
    "q = jnp.zeros(7)"
   ]
  },
  {
   "cell_type": "code",
   "execution_count": 23,
   "metadata": {},
   "outputs": [],
   "source": [
    "fks = panda_model.fk_fn(q)\n",
    "p_ee = fks[-1][-3:]\n",
    "qtn = fks[-1][:4]\n",
    "jac = []\n",
    "for posevec in fks[1:8]:\n",
    "    p_frame = posevec[-3:]\n",
    "    rot_axis = SE3(posevec).as_matrix()[:3, 2]\n",
    "    lin_vel = jnp.cross(rot_axis, p_ee - p_frame)\n",
    "    jac.append(jnp.hstack([lin_vel, rot_axis]))\n",
    "jac = jnp.array(jac).T  #geom_jacobian\n",
    "w, xyz = qtn[0], qtn[1:]\n",
    "H = jnp.hstack([-xyz[:,None], skew(xyz)+jnp.eye(3)*w])\n",
    "rot_jac = 0.5*H.T@jac[3:,:]\n",
    "jac = jnp.vstack([jac[:3,:], rot_jac])"
   ]
  },
  {
   "cell_type": "code",
   "execution_count": 25,
   "metadata": {},
   "outputs": [
    {
     "data": {
      "text/plain": [
       "(7, 7)"
      ]
     },
     "execution_count": 25,
     "metadata": {},
     "output_type": "execute_result"
    }
   ],
   "source": [
    "jac.shape"
   ]
  },
  {
   "cell_type": "code",
   "execution_count": 18,
   "metadata": {},
   "outputs": [],
   "source": [
    "\n",
    "\n"
   ]
  },
  {
   "cell_type": "code",
   "execution_count": 21,
   "metadata": {},
   "outputs": [
    {
     "data": {
      "text/plain": [
       "Array([[-0.4619397 , -0.19134168, -0.        ],\n",
       "       [ 0.        ,  0.        , -0.19134168],\n",
       "       [ 0.        ,  0.        ,  0.4619397 ],\n",
       "       [ 0.19134168, -0.4619397 ,  0.        ]], dtype=float32)"
      ]
     },
     "execution_count": 21,
     "metadata": {},
     "output_type": "execute_result"
    }
   ],
   "source": []
  },
  {
   "cell_type": "code",
   "execution_count": 22,
   "metadata": {},
   "outputs": [
    {
     "data": {
      "text/plain": [
       "Array([[ 0.0000000e+00, -1.9134168e-01,  0.0000000e+00,  1.9134165e-01,\n",
       "         0.0000000e+00,  1.9134165e-01,  0.0000000e+00],\n",
       "       [-1.9134168e-01,  0.0000000e+00, -1.9134168e-01, -2.2809706e-08,\n",
       "        -1.9134168e-01, -2.2809706e-08,  1.9134165e-01],\n",
       "       [ 4.6193969e-01,  0.0000000e+00,  4.6193969e-01,  5.5067503e-08,\n",
       "         4.6193969e-01,  5.5067503e-08, -4.6193963e-01],\n",
       "       [ 0.0000000e+00, -4.6193969e-01,  0.0000000e+00,  4.6193963e-01,\n",
       "         0.0000000e+00,  4.6193963e-01,  0.0000000e+00]], dtype=float32)"
      ]
     },
     "execution_count": 22,
     "metadata": {},
     "output_type": "execute_result"
    }
   ],
   "source": []
  },
  {
   "cell_type": "code",
   "execution_count": 14,
   "metadata": {},
   "outputs": [],
   "source": [
    "@jax.jit\n",
    "def get_ee_fk_jac(q):\n",
    "    # outputs ee_posevec and analytical jacobian\n",
    "    fks = panda_model.fk_fn(q)\n",
    "    ee = SE3(fks[-1])\n",
    "    p_ee = fks[-1][-3:]\n",
    "    #rotvec_ee = SO3(fks[-1][:4]).log()\n",
    "    #E = get_rotvec_angvel_map(rotvec_ee)\n",
    "    jac = []\n",
    "    for posevec in fks[1:8]:\n",
    "        p_frame = posevec[-3:]\n",
    "        rot_axis = SE3(posevec).as_matrix()[:3, 2]\n",
    "        lin_vel = jnp.cross(rot_axis, p_ee - p_frame)\n",
    "        jac.append(jnp.hstack([lin_vel, rot_axis]))\n",
    "    jac = jnp.array(jac).T #geometric jacobian\n",
    "    #jac = jac.at[3:, :].set(E @ jac[3:, :])\n",
    "    return ee, jac"
   ]
  },
  {
   "cell_type": "code",
   "execution_count": 353,
   "metadata": {},
   "outputs": [],
   "source": [
    "def get_rotvec_angvel_map(v):\n",
    "    def skew(v):\n",
    "        v1, v2, v3 = v\n",
    "        return jnp.array([[0, -v3, v2],\n",
    "                        [v3, 0., -v1],\n",
    "                        [-v2, v1, 0.]])\n",
    "    vmag = jnp.linalg.norm(v)\n",
    "    vskew = skew(v)\n",
    "    cot = jnp.cos(vmag/2)/jnp.sin(vmag/2)\n",
    "    alpha = (vmag/2)*cot\n",
    "    return jnp.eye(3) \\\n",
    "        + 1/2*skew(v) \\\n",
    "        + (1-alpha)/vmag**2 * vskew@vskew\n",
    "    # return jnp.eye(3) \\\n",
    "    #     - 1/2*skew(v) \\\n",
    "    #     + vskew@vskew * 1/vmag**2 * (1-vmag/2 * jnp.sin(vmag)/(1-jnp.cos(vmag)))"
   ]
  },
  {
   "cell_type": "code",
   "execution_count": 637,
   "metadata": {},
   "outputs": [],
   "source": [
    "t = np.random.uniform([0.3,-0.5, 0.5], [0.8, 0.5, 0.8])\n",
    "qtn = SO3(np.random.normal(size=4)).normalize()\n",
    "target_pose = SE3.from_rotation_and_translation(qtn, t)\n",
    "frame.set_pose(target_pose)\n",
    "\n",
    "q = panda.neutral.copy()\n",
    "panda.set_joint_angles(q)"
   ]
  },
  {
   "cell_type": "code",
   "execution_count": 689,
   "metadata": {},
   "outputs": [],
   "source": [
    "ee_pose, geom_jac = get_ee_fk_jac(q)\n",
    "R_ee = ee_pose.rotation().as_matrix()\n",
    "err_t = R_ee.T@(target_pose.translation() - ee_pose.translation()) #body\n",
    "err_r = ee_pose.rotation().inverse() @ target_pose.rotation()\n",
    "err = jnp.hstack([err_t, err_r.log()])\n",
    "\n",
    "B = get_rotvec_angvel_map(err_r.log())\n",
    "jac_t = - R_ee.T @ geom_jac[:3]\n",
    "jac_r = - B @ R_ee.T @ geom_jac[3:]\n",
    "jac = jnp.vstack([jac_t, jac_r]) #, jac_r\n",
    "hess = jac.T@jac\n",
    "d = - jnp.linalg.pinv(hess)@jac.T@err\n",
    "q = q + d * 0.05\n",
    "panda.set_joint_angles(q)"
   ]
  }
 ],
 "metadata": {
  "kernelspec": {
   "display_name": "cu11",
   "language": "python",
   "name": "python3"
  },
  "language_info": {
   "codemirror_mode": {
    "name": "ipython",
    "version": 3
   },
   "file_extension": ".py",
   "mimetype": "text/x-python",
   "name": "python",
   "nbconvert_exporter": "python",
   "pygments_lexer": "ipython3",
   "version": "3.8.16"
  },
  "orig_nbformat": 4
 },
 "nbformat": 4,
 "nbformat_minor": 2
}
