{
 "cells": [
  {
   "cell_type": "code",
   "execution_count": 1,
   "metadata": {},
   "outputs": [],
   "source": [
    "import numpy as np\n",
    "import jax\n",
    "import jax.numpy as jnp\n",
    "from jaxlie import SE3, SO3\n",
    "import jax_dataclasses as jdc\n",
    "from functools import partial\n",
    "\n",
    "from sdf_world.sdf_world import *\n",
    "from sdf_world.robots import *\n",
    "from sdf_world.util import *\n",
    "from sdf_world.network import *\n",
    "from sdf_world.sparse_ipopt import *\n",
    "\n",
    "from flax import linen as nn\n",
    "from flax.training import orbax_utils\n",
    "import orbax\n",
    "import pickle\n",
    "import time"
   ]
  },
  {
   "attachments": {},
   "cell_type": "markdown",
   "metadata": {},
   "source": [
    "### Load Models"
   ]
  },
  {
   "cell_type": "code",
   "execution_count": 2,
   "metadata": {},
   "outputs": [],
   "source": [
    "orbax_checkpointer = orbax.checkpoint.PyTreeCheckpointer()\n",
    "restored_grasp = orbax_checkpointer.restore(\"model/grasp_net_prob_dist\")\n",
    "restored_manip = orbax_checkpointer.restore(\"model/manip_net_posevec\")\n",
    "\n",
    "#grasp net\n",
    "grasp_net = GraspNet(32)\n",
    "grasp_fn = lambda x: grasp_net.apply(restored_grasp[\"params\"], x)\n",
    "\n",
    "grasp_logit_fn = lambda g: grasp_fn(g)[0]\n",
    "grasp_dist_fn = lambda g: grasp_fn(g)[1]\n",
    "#manip net\n",
    "manip_net = ManipNet(64)\n",
    "manip_fn = lambda x: manip_net.apply(restored_manip[\"params\"], x)[0]"
   ]
  },
  {
   "attachments": {},
   "cell_type": "markdown",
   "metadata": {},
   "source": [
    "### Load world"
   ]
  },
  {
   "cell_type": "code",
   "execution_count": 3,
   "metadata": {},
   "outputs": [
    {
     "name": "stdout",
     "output_type": "stream",
     "text": [
      "You can open the visualizer by visiting the following URL:\n",
      "http://127.0.0.1:7001/static/\n"
     ]
    },
    {
     "data": {
      "text/html": [
       "\n",
       "            <div style=\"height: 400px; width: 100%; overflow-x: auto; overflow-y: hidden; resize: both\">\n",
       "            <iframe src=\"http://127.0.0.1:7001/static/\" style=\"width: 100%; height: 100%; border: none\"></iframe>\n",
       "            </div>\n",
       "            "
      ],
      "text/plain": [
       "<IPython.core.display.HTML object>"
      ]
     },
     "execution_count": 3,
     "metadata": {},
     "output_type": "execute_result"
    }
   ],
   "source": [
    "world = SDFWorld()\n",
    "world.show_in_jupyter()"
   ]
  },
  {
   "cell_type": "code",
   "execution_count": 4,
   "metadata": {},
   "outputs": [],
   "source": [
    "# robot, hand\n",
    "panda_model = RobotModel(PANDA_URDF, PANDA_PACKAGE)\n",
    "panda = Robot(world.vis, \"panda\", panda_model, alpha=0.5)\n",
    "panda.reduce_dim([7, 8], [0.04, 0.04])\n",
    "\n",
    "hand_model = RobotModel(HAND_URDF, PANDA_PACKAGE, True)\n",
    "for link_name, link in hand_model.links.items():\n",
    "    link.set_surface_points(10)\n",
    "hand = Robot(world.vis, \"hand1\", hand_model, color=\"yellow\", alpha=0.5)"
   ]
  },
  {
   "cell_type": "code",
   "execution_count": 5,
   "metadata": {},
   "outputs": [],
   "source": [
    "#load sdf meshes\n",
    "table_lengths = [0.4, 0.4, 0.2]\n",
    "table_start = Box(world.vis, \"table_start\", table_lengths, 'white', 0.5)\n",
    "table_goal = Box(world.vis, \"table_goal\", table_lengths, 'white', 0.5)\n",
    "obj_start = Mesh(world.vis, \"obj_start\", \n",
    "                 \"./sdf_world/assets/object/mesh.obj\",\n",
    "                 color=\"blue\", alpha=0.5)\n",
    "obj_goal = Mesh(world.vis, \"obj_goal\", \n",
    "                \"./sdf_world/assets/object/mesh.obj\",\n",
    "                color=\"green\", alpha=0.5)"
   ]
  },
  {
   "cell_type": "code",
   "execution_count": 6,
   "metadata": {},
   "outputs": [],
   "source": [
    "table_start.set_translate([0.5, -0.3, 0.2/2])\n",
    "table_goal.set_translate([0.5, 0.3, 0.2/2])\n",
    "obj_lengths = obj_start.mesh.bounding_box.primitive.extents\n",
    "obj_start.set_translate([0.5, -0.3, obj_lengths[-1]/2+table_lengths[-1]])\n",
    "trans_goal = jnp.array([0.5, 0.3, obj_lengths[-2]/2+table_lengths[-1]])\n",
    "obj_goal_pose = SE3.from_rotation_and_translation(\n",
    "    SO3.from_rpy_radians(jnp.pi/2, 0,0), trans_goal)\n",
    "obj_goal.set_pose(obj_goal_pose)"
   ]
  },
  {
   "cell_type": "code",
   "execution_count": 352,
   "metadata": {},
   "outputs": [],
   "source": [
    "to_posevec = lambda x: jnp.hstack([x[4:], SO3(x[:4]).log()])\n",
    "to_wxyzxyz = lambda x: jnp.hstack([SO3.exp(x[3:]).parameters(), x[:3]])\n",
    "env = SDFContainer([table_start, table_goal], 0.05)\n",
    "def grasp_reconst(grasp:Array):\n",
    "    rot = SO3(grasp_fn(grasp)[2:]).normalize()\n",
    "    trans = grasp/restored_grasp[\"scale_to_norm\"]\n",
    "    return SE3.from_rotation_and_translation(rot, trans)\n",
    "\n",
    "#visualization\n",
    "hand_pc = hand.get_surface_points_fn(jnp.array([0.04, 0.04]))\n",
    "hand_pose_wrt_ee = SE3.from_translation(jnp.array([0,0,-0.105]))\n",
    "@jax.jit\n",
    "def get_hand_pc(grasp, posevec):\n",
    "    grasp_pose = grasp_reconst(grasp)\n",
    "    hand_base_pose_wrt_world = SE3(to_wxyzxyz(posevec)) @ grasp_pose @ hand_pose_wrt_ee\n",
    "    assigned_hand_pc = jax.vmap(hand_base_pose_wrt_world.apply)(hand_pc)\n",
    "    return assigned_hand_pc\n",
    "\n",
    "pc_hand = PointCloud(world.vis, \"hand_pc\", np.zeros((100,3)), color=\"red\", size=0.01)"
   ]
  },
  {
   "cell_type": "code",
   "execution_count": 353,
   "metadata": {},
   "outputs": [],
   "source": [
    "# Kinematics\n",
    "def get_rotvec_angvel_map(v):\n",
    "    def skew(v):\n",
    "        v1, v2, v3 = v\n",
    "        return jnp.array([[0, -v3, v2],\n",
    "                        [v3, 0., -v1],\n",
    "                        [-v2, v1, 0.]])\n",
    "    def identity(v, vmag):\n",
    "        return np.eye(3)\n",
    "    def angvel_to_ecvel(v, vmag):\n",
    "        vskew = skew(v)\n",
    "        term3 = vskew@vskew * 1/vmag**2 * (1-vmag/2 * jnp.sin(vmag)/(1-jnp.cos(vmag)))\n",
    "        return jnp.eye(3) - 1/2*skew(v) + term3\n",
    "    vmag = jnp.linalg.norm(v)\n",
    "    return jax.lax.cond(vmag < 1e-3, identity, angvel_to_ecvel, v, vmag)\n",
    "    \n",
    "    \n",
    "\n",
    "@jax.jit\n",
    "def get_ee_fk_jac(q):\n",
    "    # outputs ee_posevec and analytical jacobian\n",
    "    fks = panda_model.fk_fn(q)\n",
    "    ee = SE3(fks[-1])\n",
    "    p_ee = fks[-1][-3:]\n",
    "    #rotvec_ee = SO3(fks[-1][:4]).log()\n",
    "    #E = get_rotvec_angvel_map(rotvec_ee)\n",
    "    jac = []\n",
    "    for posevec in fks[1:8]:\n",
    "        p_frame = posevec[-3:]\n",
    "        rot_axis = SE3(posevec).as_matrix()[:3, 2]\n",
    "        lin_vel = jnp.cross(rot_axis, p_ee - p_frame)\n",
    "        jac.append(jnp.hstack([lin_vel, rot_axis]))\n",
    "    jac = jnp.array(jac).T #geometric jacobian\n",
    "    #jac = jac.at[3:, :].set(E @ jac[3:, :])\n",
    "    return ee, jac"
   ]
  },
  {
   "attachments": {},
   "cell_type": "markdown",
   "metadata": {},
   "source": [
    "### Prepare functions"
   ]
  },
  {
   "cell_type": "code",
   "execution_count": 354,
   "metadata": {},
   "outputs": [],
   "source": [
    "#constr fns\n",
    "def grasp_constr_fn(grasp):\n",
    "    return grasp_logit_fn(grasp)\n",
    "\n",
    "def manip_constr_fn(grasp, posevec):\n",
    "    obj_pose = SE3(to_wxyzxyz(posevec))\n",
    "    grasp_pose = obj_pose @ grasp_reconst(grasp)\n",
    "    zflip = SE3.from_rotation(SO3.from_z_radians(jnp.pi))\n",
    "    grasp_pose_flip = grasp_pose @ zflip\n",
    "    posevecs = [to_posevec(pose.parameters()) for pose in [grasp_pose, grasp_pose_flip]]\n",
    "    return jax.vmap(manip_fn)(jnp.vstack(posevecs)).max()\n",
    "\n",
    "def dist_constr_fn(g1, posevec_st, posevec_ed):\n",
    "    grasps = jnp.vstack([g1, g1])\n",
    "    obj_poses = jnp.vstack([posevec_st, posevec_ed])\n",
    "    pcs = jax.vmap(get_hand_pc, (0,0))(grasps, obj_poses)\n",
    "    distances = env.distances(jnp.vstack(pcs))\n",
    "    top4_indices = jnp.argpartition(distances, 4)[:4]\n",
    "    return distances[top4_indices]\n",
    "\n",
    "grasp_constr_jac_fns = [jax.jacrev(grasp_constr_fn)]\n",
    "manip_constr_jac_fns = [jax.jacrev(manip_constr_fn, argnums=argnums) for argnums in [0,1]]\n",
    "dist_constr_jac_fns = [jax.jacrev(dist_constr_fn)] + [None]*2\n",
    "\n",
    "ws_lb = np.array([-1,-1,-0.5, -np.pi, -np.pi, -np.pi])\n",
    "ws_ub = np.array([1,1,1.5, np.pi, np.pi, np.pi])"
   ]
  },
  {
   "cell_type": "code",
   "execution_count": 355,
   "metadata": {},
   "outputs": [],
   "source": [
    "import time\n",
    "builder = SparseIPOPTBuilder()\n",
    "\n",
    "builder.add_variable(\"g_pick\", 3, -1., 1.)\n",
    "builder.add_parameter(\"p_start\", to_posevec(obj_start.pose.parameters()))\n",
    "builder.add_parameter(\"p_goal\", to_posevec(obj_goal.pose.parameters()))\n",
    "\n",
    "builder.register_fn(\"grasp_constr\", [3], 1,\n",
    "                          grasp_constr_fn, grasp_constr_jac_fns)\n",
    "builder.register_fn(\"manip_constr\", [3, 6], 1,\n",
    "                          manip_constr_fn, manip_constr_jac_fns)\n",
    "builder.register_fn(\"dist_constr\", [3, 6, 6], 4,\n",
    "                          dist_constr_fn, dist_constr_jac_fns)\n",
    "\n",
    "def debug_obj(g_pick, posevec_st, posevec_ed):\n",
    "    grasps = jnp.vstack([g_pick, g_pick])\n",
    "    obj_poses = jnp.vstack([posevec_st, posevec_ed])\n",
    "    pcs = jax.vmap(get_hand_pc, (0,0))(grasps, obj_poses)\n",
    "    pc_hand.reload(points=np.vstack(pcs), color=\"red\")\n",
    "    time.sleep(0.1)\n",
    "    return 0.\n",
    "builder.register_fn(\"debug_obj\", [3, 6, 6], 1,\n",
    "                    debug_obj, [None, None, None])\n",
    "\n",
    "builder.add_objective([\"g_pick\", \"p_start\", \"p_goal\"], \"debug_obj\")\n",
    "\n",
    "builder.add_constr(\"grasp_prob\", [\"g_pick\"], \"grasp_constr\",\n",
    "                   1., np.inf)\n",
    "builder.add_constr(\"manip_pick\", [\"g_pick\", \"p_start\"], \"manip_constr\",\n",
    "                   0.3, np.inf)\n",
    "builder.add_constr(\"manip_place\", [\"g_pick\", \"p_goal\"], \"manip_constr\",\n",
    "                   0.3, np.inf)\n",
    "builder.add_constr(\"dist\", [\"g_pick\", \"p_start\", \"p_goal\"], \"dist_constr\",\n",
    "                   0.05, np.inf)\n",
    "\n",
    "builder.freeze()"
   ]
  },
  {
   "cell_type": "code",
   "execution_count": 446,
   "metadata": {},
   "outputs": [
    {
     "data": {
      "text/plain": [
       "0.0"
      ]
     },
     "execution_count": 446,
     "metadata": {},
     "output_type": "execute_result"
    }
   ],
   "source": [
    "debug_obj(xsol, builder.param_dict[\"p_start\"], builder.param_dict[\"p_goal\"])"
   ]
  },
  {
   "cell_type": "code",
   "execution_count": 356,
   "metadata": {},
   "outputs": [
    {
     "name": "stdout",
     "output_type": "stream",
     "text": [
      "\n",
      "Sparsity pattern:\n",
      "00 01 02 \n",
      "03 04 05 \n",
      "06 07 08 \n",
      "09 10 11 \n",
      "12 13 14 \n",
      "15 16 17 \n",
      "18 19 20 \n"
     ]
    }
   ],
   "source": [
    "ipopt = builder.build(compile_obj=False)"
   ]
  },
  {
   "cell_type": "code",
   "execution_count": 389,
   "metadata": {},
   "outputs": [],
   "source": [
    "xlist = []"
   ]
  },
  {
   "cell_type": "code",
   "execution_count": 394,
   "metadata": {},
   "outputs": [],
   "source": [
    "xlist.append(xinit)"
   ]
  },
  {
   "cell_type": "code",
   "execution_count": 404,
   "metadata": {},
   "outputs": [
    {
     "name": "stdout",
     "output_type": "stream",
     "text": [
      "This is Ipopt version 3.14.10, running with linear solver MUMPS 5.2.1.\n",
      "\n",
      "Number of nonzeros in equality constraint Jacobian...:        0\n",
      "Number of nonzeros in inequality constraint Jacobian.:       21\n",
      "Number of nonzeros in Lagrangian Hessian.............:        0\n",
      "\n",
      "Total number of variables............................:        3\n",
      "                     variables with only lower bounds:        0\n",
      "                variables with lower and upper bounds:        3\n",
      "                     variables with only upper bounds:        0\n",
      "Total number of equality constraints.................:        0\n",
      "Total number of inequality constraints...............:        7\n",
      "        inequality constraints with only lower bounds:        7\n",
      "   inequality constraints with lower and upper bounds:        0\n",
      "        inequality constraints with only upper bounds:        0\n",
      "\n",
      "iter    objective    inf_pr   inf_du lg(mu)  ||d||  lg(rg) alpha_du alpha_pr  ls\n",
      "   0  0.0000000e+00 4.99e+02 1.01e+00   0.0 0.00e+00    -  0.00e+00 0.00e+00   0\n",
      "   1  0.0000000e+00 2.27e+02 1.35e+01  -0.7 1.59e+00    -  3.74e-02 6.47e-01f  1\n",
      "   2  0.0000000e+00 1.20e+02 1.61e+01  -0.5 5.16e-01    -  9.57e-01 4.38e-01f  1\n",
      "   3  0.0000000e+00 9.31e+01 2.99e+01  -1.1 8.56e-01    -  7.14e-01 2.94e-01h  1\n",
      "   4  0.0000000e+00 9.25e+01 5.41e+01  -6.9 4.36e+00    -  1.11e-01 5.36e-03h  1\n",
      "   5  0.0000000e+00 2.59e+02 1.31e+02  -0.6 2.99e+02    -  9.46e-02 3.53e-01f  1\n",
      "   6  0.0000000e+00 2.61e+02 2.14e+02  -0.5 2.17e+02    -  1.00e+00 1.74e-02h  1\n",
      "   7  0.0000000e+00 2.62e+02 7.75e+02  -0.5 1.83e+02    -  2.15e-02 7.41e-03h  1\n",
      "   8  0.0000000e+00 2.50e+02 1.90e+02  -0.5 1.78e+02    -  5.42e-03 9.64e-02h  1\n",
      "   9  0.0000000e+00 2.50e+02 1.40e+03  -0.5 1.50e+02    -  6.30e-01 7.11e-02h  1\n",
      "iter    objective    inf_pr   inf_du lg(mu)  ||d||  lg(rg) alpha_du alpha_pr  ls\n",
      "  10  0.0000000e+00 2.51e+02 1.39e+03  -0.5 1.45e+02    -  1.44e-02 2.00e-02h  1\n",
      "  11  0.0000000e+00 2.31e+02 9.75e+02  -0.5 1.27e+02    -  1.46e-01 5.49e-01f  1\n",
      "  12  0.0000000e+00 2.27e+02 1.02e+03  -0.5 2.51e+01    -  6.71e-02 2.77e-02h  1\n",
      "  13  0.0000000e+00 1.97e+02 7.57e+02  -0.5 9.25e-01    -  3.27e-02 1.31e-01f  1\n",
      "  14  0.0000000e+00 1.82e+02 2.63e+02  -0.5 1.03e+00    -  2.34e-01 1.00e+00f  1\n",
      "  15  0.0000000e+00 1.77e+02 3.13e+03  -0.5 1.22e+01    -  2.84e-01 3.33e-02h  1\n",
      "  16  0.0000000e+00 3.39e+01 4.08e+03  -0.5 1.81e+00    -  6.59e-01 3.57e-01h  1\n",
      "  17  0.0000000e+00 3.22e+01 3.60e+03  -0.4 6.49e-01    -  6.58e-01 5.07e-02H  1\n",
      "  18  0.0000000e+00 3.19e+01 2.35e+03  -1.5 2.33e-01    -  5.78e-01 8.42e-03h  1\n",
      "  19  0.0000000e+00 1.99e+01 5.59e+03  -0.6 2.63e-01    -  5.19e-01 1.00e+00f  1\n",
      "iter    objective    inf_pr   inf_du lg(mu)  ||d||  lg(rg) alpha_du alpha_pr  ls\n",
      "  20  0.0000000e+00 1.88e+01 5.94e+03  -6.0 3.09e-01    -  6.62e-01 5.34e-02h  1\n",
      "  21  0.0000000e+00 6.73e+01 6.37e+02  -1.2 2.61e-01    -  8.18e-01 1.00e+00f  1\n",
      "  22  0.0000000e+00 1.57e+00 2.49e+02  -1.3 2.79e-01    -  2.96e-02 1.00e+00f  1\n",
      "  23  0.0000000e+00 0.00e+00 6.99e+00  -2.8 1.74e-01    -  1.00e+00 1.00e+00h  1\n",
      "  24  0.0000000e+00 0.00e+00 1.67e-01  -2.8 2.24e-02    -  1.00e+00 1.00e+00h  1\n",
      "  25  0.0000000e+00 0.00e+00 2.06e-02  -4.7 1.59e-02    -  1.00e+00 1.00e+00h  1\n",
      "\n",
      "Number of Iterations....: 25\n",
      "\n",
      "                                   (scaled)                 (unscaled)\n",
      "Objective...............:   0.0000000000000000e+00    0.0000000000000000e+00\n",
      "Dual infeasibility......:   2.0582423096270484e-02    2.0582423096270484e-02\n",
      "Constraint violation....:   0.0000000000000000e+00    0.0000000000000000e+00\n",
      "Variable bound violation:   0.0000000000000000e+00    0.0000000000000000e+00\n",
      "Complementarity.........:   2.3975210297487476e-05    2.3975210297487476e-05\n",
      "Overall NLP error.......:   2.0582423096270484e-02    2.0582423096270484e-02\n",
      "\n",
      "\n",
      "Number of objective function evaluations             = 27\n",
      "Number of objective gradient evaluations             = 26\n",
      "Number of equality constraint evaluations            = 0\n",
      "Number of inequality constraint evaluations          = 27\n",
      "Number of equality constraint Jacobian evaluations   = 0\n",
      "Number of inequality constraint Jacobian evaluations = 26\n",
      "Number of Lagrangian Hessian evaluations             = 0\n",
      "Total seconds in IPOPT                               = 2.931\n",
      "\n",
      "EXIT: Solved To Acceptable Level.\n"
     ]
    }
   ],
   "source": [
    "ipopt.add_option(\"acceptable_iter\", 2)\n",
    "ipopt.add_option(\"acceptable_tol\", 1.) #release\n",
    "ipopt.add_option(\"acceptable_obj_change_tol\", 0.01)\n",
    "ipopt.add_option(\"acceptable_dual_inf_tol\", 1.) \n",
    "ipopt.add_option('mu_strategy', 'adaptive')\n",
    "\n",
    "xinit = np.random.uniform(-1, 1, size=3)\n",
    "xsol, info = ipopt.solve(xlist[1])"
   ]
  },
  {
   "cell_type": "code",
   "execution_count": 359,
   "metadata": {},
   "outputs": [],
   "source": [
    "grasp = xsol"
   ]
  },
  {
   "cell_type": "code",
   "execution_count": 155,
   "metadata": {},
   "outputs": [],
   "source": [
    "frame = Frame(world.vis, \"frame\")\n",
    "frame2 = Frame(world.vis, \"frame2\")"
   ]
  },
  {
   "cell_type": "code",
   "execution_count": 14,
   "metadata": {},
   "outputs": [],
   "source": [
    "q = panda.neutral\n",
    "panda.set_joint_angles(q)\n",
    "target_pose = (obj_start.pose @ grasp_reconst(grasp))"
   ]
  },
  {
   "cell_type": "code",
   "execution_count": 15,
   "metadata": {},
   "outputs": [],
   "source": [
    "def kin_error_fn(q, grasp, p_obj):\n",
    "    obj_pose = SE3(to_wxyzxyz(p_obj))\n",
    "    target_pose = obj_pose @ grasp_reconst(grasp)\n",
    "    ee_pose, _ = get_ee_fk_jac(q)\n",
    "    # represented in body\n",
    "    R_ee = ee_pose.rotation().as_matrix()\n",
    "    err_pos = R_ee.T@(target_pose.translation() - ee_pose.translation())\n",
    "    err_rot = ee_pose.rotation().inverse() @ target_pose.rotation()\n",
    "    err = jnp.hstack([err_pos, err_rot.log()])\n",
    "    return err\n",
    "\n",
    "def kin_error_jac_fn(q, grasp, p_obj):\n",
    "    ee_pose, geom_jac = get_ee_fk_jac(q)\n",
    "    obj_pose = SE3(to_wxyzxyz(p_obj))\n",
    "    target_pose = obj_pose @ grasp_reconst(grasp)\n",
    "    err_rot = ee_pose.rotation().inverse() @ target_pose.rotation()\n",
    "    R_ee = ee_pose.rotation().as_matrix()\n",
    "    B = get_rotvec_angvel_map(err_rot.log())\n",
    "    jac_pos = - R_ee.T @ geom_jac[:3]\n",
    "    jac_rot = - B @ R_ee.T @ geom_jac[3:]\n",
    "    jac = jnp.vstack([jac_pos, jac_rot])\n",
    "    return jac\n",
    "\n",
    "\n",
    "num_q_mid = 1\n",
    "num_traj = num_q_mid*3+2\n",
    "idx_pick = num_q_mid\n",
    "idx_place = idx_pick + num_q_mid + 1\n",
    "q0 = panda.neutral\n",
    "def min_dist(*qs):\n",
    "    qs = jnp.vstack([q0, *qs, q0])\n",
    "    qdiff = qs[1:] - qs[:-1]\n",
    "    return 0.5*jnp.sum(qdiff.flatten()**2)\n",
    "grads_min_dist = [jax.grad(min_dist, argnums=i) for i in range(num_traj)]\n",
    "\n",
    "def debug_obj2(*qs):\n",
    "    panda.set_joint_angles(qs[0])\n",
    "    # posevec_ee, jac = get_ee_fk_jac(q)\n",
    "    # obj_pose = SE3(to_wxyzxyz(p_obj))\n",
    "    # frame2.set_pose(SE3(to_wxyzxyz(posevec_ee)))\n",
    "    # grasp_pose = obj_pose @ grasp_reconst(grasp)\n",
    "    # frame.set_pose(grasp_pose)\n",
    "    # pc.reload(points=np.vstack(pcs))\n",
    "    time.sleep(0.1)\n",
    "    return min_dist(*qs)\n",
    "\n",
    "\n",
    "builder2 = SparseIPOPTBuilder()\n",
    "\n",
    "for i in range(num_traj):\n",
    "    idx = i+1\n",
    "    builder2.add_variable(f\"q{idx}\", 7, panda.lb, panda.ub)\n",
    "builder2.add_parameter(\"p_start\", to_posevec(obj_start.pose.parameters()))\n",
    "builder2.add_parameter(\"p_goal\", to_posevec(obj_goal.pose.parameters()))\n",
    "builder2.add_parameter(\"grasp\", xsol)"
   ]
  },
  {
   "cell_type": "code",
   "execution_count": 463,
   "metadata": {},
   "outputs": [],
   "source": [
    "builder2.register_fn(\"kin_constr\", [7, 3, 6], 6,\n",
    "                          kin_error_fn, [kin_error_jac_fn, None, None])\n",
    "builder2.register_fn(\"obj\", [7]*num_traj, 1,\n",
    "                          debug_obj2, grads_min_dist)"
   ]
  },
  {
   "cell_type": "code",
   "execution_count": 464,
   "metadata": {},
   "outputs": [],
   "source": [
    "builder2.add_objective(list(builder2.x_info.keys()), \"obj\")\n",
    "builder2.add_constr(\"kin_pick\", [f\"q{idx_pick+1}\", \"grasp\", \"p_start\"], \"kin_constr\",\n",
    "                   0., 0.)\n",
    "builder2.add_constr(\"kin_place\", [f\"q{idx_place+1}\", \"grasp\", \"p_goal\"], \"kin_constr\",\n",
    "                    0., 0.)"
   ]
  },
  {
   "cell_type": "code",
   "execution_count": 465,
   "metadata": {},
   "outputs": [
    {
     "name": "stdout",
     "output_type": "stream",
     "text": [
      "\n",
      "Sparsity pattern:\n",
      "-- -- -- -- -- -- -- 00 01 02 03 04 05 06 -- -- -- -- -- -- -- -- -- -- -- -- -- -- -- -- -- -- -- -- -- \n",
      "-- -- -- -- -- -- -- 07 08 09 10 11 12 13 -- -- -- -- -- -- -- -- -- -- -- -- -- -- -- -- -- -- -- -- -- \n",
      "-- -- -- -- -- -- -- 14 15 16 17 18 19 20 -- -- -- -- -- -- -- -- -- -- -- -- -- -- -- -- -- -- -- -- -- \n",
      "-- -- -- -- -- -- -- 21 22 23 24 25 26 27 -- -- -- -- -- -- -- -- -- -- -- -- -- -- -- -- -- -- -- -- -- \n",
      "-- -- -- -- -- -- -- 28 29 30 31 32 33 34 -- -- -- -- -- -- -- -- -- -- -- -- -- -- -- -- -- -- -- -- -- \n",
      "-- -- -- -- -- -- -- 35 36 37 38 39 40 41 -- -- -- -- -- -- -- -- -- -- -- -- -- -- -- -- -- -- -- -- -- \n",
      "-- -- -- -- -- -- -- -- -- -- -- -- -- -- -- -- -- -- -- -- -- 42 43 44 45 46 47 48 -- -- -- -- -- -- -- \n",
      "-- -- -- -- -- -- -- -- -- -- -- -- -- -- -- -- -- -- -- -- -- 49 50 51 52 53 54 55 -- -- -- -- -- -- -- \n",
      "-- -- -- -- -- -- -- -- -- -- -- -- -- -- -- -- -- -- -- -- -- 56 57 58 59 60 61 62 -- -- -- -- -- -- -- \n",
      "-- -- -- -- -- -- -- -- -- -- -- -- -- -- -- -- -- -- -- -- -- 63 64 65 66 67 68 69 -- -- -- -- -- -- -- \n",
      "-- -- -- -- -- -- -- -- -- -- -- -- -- -- -- -- -- -- -- -- -- 70 71 72 73 74 75 76 -- -- -- -- -- -- -- \n",
      "-- -- -- -- -- -- -- -- -- -- -- -- -- -- -- -- -- -- -- -- -- 77 78 79 80 81 82 83 -- -- -- -- -- -- -- \n"
     ]
    }
   ],
   "source": [
    "builder2.freeze()\n",
    "ipopt2 = builder2.build(compile_obj=False)"
   ]
  },
  {
   "cell_type": "code",
   "execution_count": 475,
   "metadata": {},
   "outputs": [
    {
     "name": "stdout",
     "output_type": "stream",
     "text": [
      "This is Ipopt version 3.14.10, running with linear solver MUMPS 5.2.1.\n",
      "\n",
      "Number of nonzeros in equality constraint Jacobian...:       84\n",
      "Number of nonzeros in inequality constraint Jacobian.:        0\n",
      "Number of nonzeros in Lagrangian Hessian.............:        0\n",
      "\n",
      "Total number of variables............................:       35\n",
      "                     variables with only lower bounds:        0\n",
      "                variables with lower and upper bounds:       35\n",
      "                     variables with only upper bounds:        0\n",
      "Total number of equality constraints.................:       12\n",
      "Total number of inequality constraints...............:        0\n",
      "        inequality constraints with only lower bounds:        0\n",
      "   inequality constraints with lower and upper bounds:        0\n",
      "        inequality constraints with only upper bounds:        0\n",
      "\n",
      "iter    objective    inf_pr   inf_du lg(mu)  ||d||  lg(rg) alpha_du alpha_pr  ls\n",
      "   0  0.0000000e+00 1.56e+00 0.00e+00   0.0 0.00e+00    -  0.00e+00 0.00e+00   0\n",
      "   1  3.6183753e+00 2.55e-01 1.79e+00  -1.2 1.46e+00    -  6.73e-01 1.00e+00h  1\n",
      "   2  2.1949768e+00 1.33e-01 1.63e+00  -0.5 6.98e-01    -  9.99e-01 1.00e+00f  1\n",
      "   3  1.6882292e+00 1.18e-02 6.78e-01  -1.0 3.57e-01    -  9.48e-01 1.00e+00f  1\n",
      "   4  1.6207660e+00 1.01e-03 2.46e-01  -2.0 1.30e-01    -  1.00e+00 1.00e+00h  1\n",
      "   5  1.6137069e+00 2.80e-06 5.84e-02  -3.5 3.90e-02    -  1.00e+00 1.00e+00h  1\n",
      "   6  1.6123489e+00 2.15e-05 2.59e-02  -5.2 1.63e-02    -  1.00e+00 1.00e+00h  1\n",
      "   7  1.6115148e+00 2.26e-05 1.30e-02  -6.9 1.67e-02    -  1.00e+00 1.00e+00h  1\n",
      "   8  1.6121790e+00 4.17e-06 4.30e-02  -8.4 5.02e-02    -  1.00e+00 1.00e+00H  1\n",
      "   9  1.6110399e+00 3.16e-06 1.92e-02  -9.9 2.69e-02    -  1.00e+00 1.00e+00h  1\n",
      "iter    objective    inf_pr   inf_du lg(mu)  ||d||  lg(rg) alpha_du alpha_pr  ls\n",
      "  10  1.6105072e+00 1.82e-05 6.72e-03 -11.0 1.75e-02    -  1.00e+00 1.00e+00h  1\n",
      "  11  1.6104966e+00 5.10e-07 2.37e-03 -11.0 3.83e-03    -  1.00e+00 1.00e+00h  1\n",
      "  12  1.6104963e+00 1.79e-07 1.59e-03 -11.0 1.14e-03    -  1.00e+00 1.00e+00h  1\n",
      "\n",
      "Number of Iterations....: 12\n",
      "\n",
      "                                   (scaled)                 (unscaled)\n",
      "Objective...............:   1.6104962825775146e+00    1.6104962825775146e+00\n",
      "Dual infeasibility......:   1.5915315294794236e-03    1.5915315294794236e-03\n",
      "Constraint violation....:   1.7881396274788131e-07    1.7881396274788131e-07\n",
      "Variable bound violation:   0.0000000000000000e+00    0.0000000000000000e+00\n",
      "Complementarity.........:   1.0000000003741849e-11    1.0000000003741849e-11\n",
      "Overall NLP error.......:   1.5915315294794236e-03    1.5915315294794236e-03\n",
      "\n",
      "\n",
      "Number of objective function evaluations             = 14\n",
      "Number of objective gradient evaluations             = 13\n",
      "Number of equality constraint evaluations            = 14\n",
      "Number of inequality constraint evaluations          = 0\n",
      "Number of equality constraint Jacobian evaluations   = 13\n",
      "Number of inequality constraint Jacobian evaluations = 0\n",
      "Number of Lagrangian Hessian evaluations             = 0\n",
      "Total seconds in IPOPT                               = 1.522\n",
      "\n",
      "EXIT: Solved To Acceptable Level.\n"
     ]
    }
   ],
   "source": [
    "ipopt2.add_option(\"acceptable_iter\", 2)\n",
    "ipopt2.add_option(\"acceptable_tol\", 0.1) #release\n",
    "ipopt2.add_option(\"acceptable_obj_change_tol\", 0.0001)\n",
    "ipopt2.add_option(\"acceptable_dual_inf_tol\", 1.) \n",
    "ipopt2.add_option('mu_strategy', 'adaptive')\n",
    "\n",
    "qs_init = jnp.tile(panda.neutral, 5)\n",
    "qsol, info = ipopt2.solve(qs_init)"
   ]
  },
  {
   "cell_type": "code",
   "execution_count": 469,
   "metadata": {},
   "outputs": [],
   "source": [
    "qs = qsol.reshape(-1, 7)"
   ]
  },
  {
   "cell_type": "code",
   "execution_count": 481,
   "metadata": {},
   "outputs": [],
   "source": [
    "panda.set_joint_angles(qs[0])"
   ]
  },
  {
   "cell_type": "code",
   "execution_count": 544,
   "metadata": {},
   "outputs": [],
   "source": [
    "qs = qsol.reshape(-1, 7)"
   ]
  },
  {
   "cell_type": "code",
   "execution_count": null,
   "metadata": {},
   "outputs": [],
   "source": [
    "def distance_fn(*qs):\n",
    "    body_points = jnp.vstack(jax.vmap(panda.get_surface_points_fn)(qs))\n",
    "    \n",
    "    return err\n",
    "\n",
    "def kin_error_jac_fn(q, grasp, p_obj):\n",
    "    ee_pose, geom_jac = get_ee_fk_jac(q)\n",
    "    obj_pose = SE3(to_wxyzxyz(p_obj))\n",
    "    target_pose = obj_pose @ grasp_reconst(grasp)\n",
    "    err_rot = ee_pose.rotation().inverse() @ target_pose.rotation()\n",
    "    R_ee = ee_pose.rotation().as_matrix()\n",
    "    B = get_rotvec_angvel_map(err_rot.log())\n",
    "    jac_pos = - R_ee.T @ geom_jac[:3]\n",
    "    jac_rot = - B @ R_ee.T @ geom_jac[3:]\n",
    "    jac = jnp.vstack([jac_pos, jac_rot])\n",
    "    return jac"
   ]
  },
  {
   "cell_type": "code",
   "execution_count": null,
   "metadata": {},
   "outputs": [],
   "source": [
    "def dist_constr_fn(g1, posevec_st, posevec_ed):\n",
    "    grasps = jnp.vstack([g1, g1])\n",
    "    obj_poses = jnp.vstack([posevec_st, posevec_ed])\n",
    "    pcs = jax.vmap(get_hand_pc, (0,0))(grasps, obj_poses)\n",
    "    distances = env.distances(jnp.vstack(pcs))\n",
    "    top4_indices = jnp.argpartition(distances, 4)[:4]\n",
    "    return distances[top4_indices]"
   ]
  },
  {
   "cell_type": "code",
   "execution_count": 600,
   "metadata": {},
   "outputs": [],
   "source": [
    "def exact_dist_constr_fn(*qs):\n",
    "    qs = jnp.vstack(qs)\n",
    "    hold_indices = np.array([2])\n",
    "    body_points = jnp.vstack(jax.vmap(panda.get_surface_points_fn)(qs))\n",
    "    _obj_points = jnp.vstack(jax.vmap(get_object_points)(qs[hold_indices]))\n",
    "    points = jnp.vstack([body_points, _obj_points])\n",
    "    distances = env.distances(points)\n",
    "    top4_indices = jnp.argpartition(distances, 4)[:4]\n",
    "    #visualize\n",
    "    body_pc.reload(points=body_points, size=0.01)\n",
    "    obj_pc.reload(points=_obj_points)\n",
    "    return distances[top4_indices]"
   ]
  },
  {
   "cell_type": "code",
   "execution_count": 17,
   "metadata": {},
   "outputs": [],
   "source": [
    "body_pc = PointCloud(world.vis, \"body_pc\", body_points, 0.01, \"blue\")"
   ]
  },
  {
   "cell_type": "code",
   "execution_count": 18,
   "metadata": {},
   "outputs": [],
   "source": [
    "hold_indices = np.array([2])\n",
    "qs = np.random.uniform(panda.lb, panda.ub, size=(10, 7))\n",
    "body_points = jnp.vstack(jax.vmap(panda.get_surface_points_fn)(qs))\n",
    "distances = env.distances(body_points)\n",
    "top4_indices = jnp.argpartition(distances, 4)[:4]\n",
    "body_pc.reload(points=body_points)"
   ]
  },
  {
   "cell_type": "code",
   "execution_count": 19,
   "metadata": {},
   "outputs": [
    {
     "data": {
      "text/plain": [
       "Array([5, 2, 4, 5], dtype=int32)"
      ]
     },
     "execution_count": 19,
     "metadata": {},
     "output_type": "execute_result"
    }
   ],
   "source": [
    "num_robot_points = 200\n",
    "num_link_points = 20\n",
    "\n",
    "q_idx = 0\n",
    "top4_indices\n",
    "q_indices = top4_indices // (num_robot_points)\n",
    "link_indices = (top4_indices % (num_robot_points)) // (num_link_points)"
   ]
  },
  {
   "cell_type": "code",
   "execution_count": 28,
   "metadata": {},
   "outputs": [],
   "source": [
    "idx = 0\n",
    "idx = top4_indices[0]"
   ]
  },
  {
   "cell_type": "code",
   "execution_count": 44,
   "metadata": {},
   "outputs": [
    {
     "data": {
      "text/plain": [
       "array([[-2.70112616, -1.62282564,  1.93425929, -0.29548673,  1.50865186,\n",
       "         2.92775226, -0.0541662 ],\n",
       "       [-2.70112616, -1.62282564,  1.93425929, -0.29548673,  1.50865186,\n",
       "         2.92775226, -0.0541662 ],\n",
       "       [-2.70112616, -1.62282564,  1.93425929, -0.29548673,  1.50865186,\n",
       "         2.92775226, -0.0541662 ],\n",
       "       [-2.70112616, -1.62282564,  1.93425929, -0.29548673,  1.50865186,\n",
       "         2.92775226, -0.0541662 ]])"
      ]
     },
     "execution_count": 44,
     "metadata": {},
     "output_type": "execute_result"
    }
   ],
   "source": []
  },
  {
   "cell_type": "code",
   "execution_count": 34,
   "metadata": {},
   "outputs": [],
   "source": [
    "q = qs[q_indices[idx]]\n",
    "link_idx = link_indices[idx]\n",
    "point = body_points[top4_indices[idx]]"
   ]
  },
  {
   "cell_type": "code",
   "execution_count": 46,
   "metadata": {},
   "outputs": [
    {
     "data": {
      "text/plain": [
       "Array([[ 0.        ,  0.6725969 , -0.11665344,  0.12553938, -0.01713071,\n",
       "        -0.02625567,  0.        ],\n",
       "       [-0.33804867, -0.06244549, -0.11472226, -0.03939329, -0.11984427,\n",
       "        -0.09958047,  0.        ],\n",
       "       [ 0.        ,  0.71785617, -0.08789232,  0.14302959,  0.02254761,\n",
       "         0.00635397,  0.        ],\n",
       "       [-0.00839625,  0.7350494 , -0.09208698,  0.14283697,  0.02348387,\n",
       "         0.02148601,  0.        ]], dtype=float32)"
      ]
     },
     "execution_count": 46,
     "metadata": {},
     "output_type": "execute_result"
    }
   ],
   "source": [
    "def grad(q, point, link_idx):\n",
    "    point_jac = point_jacobian(q, point, link_idx)\n",
    "    repulsive_grad = jax.grad(env.distance)(point)\n",
    "    return repulsive_grad @ point_jac\n",
    "jax.vmap(grad)(qs[q_indices], body_points[top4_indices], link_indices)"
   ]
  },
  {
   "cell_type": "code",
   "execution_count": 24,
   "metadata": {},
   "outputs": [
    {
     "data": {
      "text/plain": [
       "Array([0.03654607, 0.        , 0.99933195], dtype=float32)"
      ]
     },
     "execution_count": 24,
     "metadata": {},
     "output_type": "execute_result"
    }
   ],
   "source": [
    "point = body_points[top4_indices[3]]\n",
    "jac_point = point_jacobian()\n",
    "jax.grad(env.distance)()"
   ]
  },
  {
   "cell_type": "code",
   "execution_count": 26,
   "metadata": {},
   "outputs": [],
   "source": [
    "idx = top4_indices[0]\n",
    "point = body_points[idx]\n",
    "num_robot_points = 200\n",
    "num_link_points = 20\n",
    "#q_idx = idx // (num_robot_points)\n",
    "# link_idx = (idx % (num_robot_points)) // (num_link_points)\n",
    "# point_idx = ((idx % (200)) % (20))\n",
    "\n",
    "def point_jacobian(q, point, link_idx):\n",
    "    q_idx = idx // (num_robot_points)\n",
    "    link_idx = (idx % (num_robot_points)) // (num_link_points)\n",
    "    link_joint_map = jnp.array([0, 1, 2, 3, 4, 5, 6, 6, 6, 6, 6])\n",
    "    fks = panda_model.fk_fn(qs[q_idx])\n",
    "    pos_jac = []\n",
    "    for i, joint in enumerate(panda_model.joints.values()):\n",
    "        if joint.joint_type != \"revolute\": continue\n",
    "        joint_idx = i+1\n",
    "        p_frame = fks[joint_idx][-3:]\n",
    "        rot_axis = SE3(fks[joint_idx]).as_matrix()[:3, 2]\n",
    "        lin_vel = jnp.cross(rot_axis, point - p_frame)\n",
    "        pos_jac.append(lin_vel)\n",
    "    point_jac = jnp.vstack(pos_jac).T\n",
    "    masking = np.tile(np.arange(7),3).reshape(-1,7)\n",
    "    masking = jnp.where(masking > link_joint_map[link_idx], 0, 1)\n",
    "    return point_jac * masking"
   ]
  },
  {
   "cell_type": "code",
   "execution_count": 756,
   "metadata": {},
   "outputs": [
    {
     "data": {
      "text/plain": [
       "Array([[ 0.48613888, -0.1033943 ,  0.28012142],\n",
       "       [ 0.53716546, -0.09549025,  0.28453344],\n",
       "       [ 0.5810802 , -0.09781151,  0.2921302 ],\n",
       "       [ 0.48826456, -0.05896187,  0.28394106]], dtype=float32)"
      ]
     },
     "execution_count": 756,
     "metadata": {},
     "output_type": "execute_result"
    }
   ],
   "source": [
    "body_points[top4_indices]"
   ]
  },
  {
   "cell_type": "code",
   "execution_count": 764,
   "metadata": {},
   "outputs": [],
   "source": [
    "point_jacs = jax.vmap(point_jacobian, in_axes=(None, 0, 0))(jnp.array(qs), body_points[top4_indices], top4_indices)"
   ]
  },
  {
   "cell_type": "code",
   "execution_count": 784,
   "metadata": {},
   "outputs": [],
   "source": [
    "repulsive_grad = jax.jacrev(env.distances)(body_points[top4_indices])"
   ]
  },
  {
   "cell_type": "code",
   "execution_count": 608,
   "metadata": {},
   "outputs": [],
   "source": [
    "link = 3\n",
    "idx_point = 10"
   ]
  },
  {
   "cell_type": "code",
   "execution_count": 620,
   "metadata": {},
   "outputs": [
    {
     "data": {
      "text/plain": [
       "Array([[-1.        ,  0.66697174, -0.9989123 ,  0.        ,  0.        ,\n",
       "         0.        ,  0.        ],\n",
       "       [ 1.        ,  0.00612833,  0.971879  ,  0.        ,  0.        ,\n",
       "         0.        ,  0.        ],\n",
       "       [ 0.        , -1.0091455 ,  0.04052969,  0.        ,  0.        ,\n",
       "         0.        ,  0.        ]], dtype=float32)"
      ]
     },
     "execution_count": 620,
     "metadata": {},
     "output_type": "execute_result"
    }
   ],
   "source": [
    "surface_point = np.ones(3)\n",
    "fks = panda_model.fk_fn(q)\n",
    "pos_jac = []\n",
    "for i, joint in enumerate(panda_model.joints.values()):\n",
    "    if joint.joint_type != \"revolute\": continue\n",
    "    joint_idx = i+1\n",
    "    p_frame = fks[joint_idx][-3:]\n",
    "    rot_axis = SE3(fks[joint_idx]).as_matrix()[:3, 2]\n",
    "    lin_vel = jnp.cross(rot_axis, surface_point - p_frame)\n",
    "    pos_jac.append(lin_vel)\n",
    "point_jac = jnp.vstack(pos_jac).T.at[:,link:].set(0.)\n",
    "point_jac"
   ]
  },
  {
   "cell_type": "code",
   "execution_count": 610,
   "metadata": {},
   "outputs": [
    {
     "data": {
      "text/plain": [
       "(6, 7)"
      ]
     },
     "execution_count": 610,
     "metadata": {},
     "output_type": "execute_result"
    }
   ],
   "source": [
    "panda_model.jac_fn(q).shape"
   ]
  },
  {
   "cell_type": "code",
   "execution_count": 546,
   "metadata": {},
   "outputs": [
    {
     "name": "stdout",
     "output_type": "stream",
     "text": [
      "0.009939231007592753\n"
     ]
    }
   ],
   "source": [
    "tic = time.perf_counter()\n",
    "body_points = jnp.vstack(jax.vmap(panda.get_surface_points_fn)(qs))\n",
    "body_pc.reload(points=body_points, size=0.01)\n",
    "toc = time.perf_counter()\n",
    "print(toc-tic)"
   ]
  },
  {
   "cell_type": "code",
   "execution_count": 496,
   "metadata": {},
   "outputs": [],
   "source": [
    "body_pc = PointCloud(world.vis, \"body_pc\", body_points, 0.02, \"blue\")"
   ]
  },
  {
   "cell_type": "code",
   "execution_count": 505,
   "metadata": {},
   "outputs": [],
   "source": [
    "q_pick, q_place = qs[idx_pick], qs[idx_place]"
   ]
  },
  {
   "cell_type": "code",
   "execution_count": 599,
   "metadata": {},
   "outputs": [],
   "source": [
    "obj_points = farthest_point_sampling(obj_start.mesh.sample(100), 15)\n",
    "obj_pc = PointCloud(world.vis, \"obj_pc\", obj_points, 0.02, \"green\")\n",
    "def get_object_points(q):\n",
    "    ee, _ = get_ee_fk_jac(q)\n",
    "    grasp_pose = grasp_reconst(grasp)\n",
    "    obj_pose = ee @ grasp_pose.inverse()\n",
    "    obj_points_q = jax.vmap(obj_pose.apply)(obj_points)\n",
    "    return obj_points_q\n",
    "#obj_pc.reload(points=obj_points_q)"
   ]
  },
  {
   "cell_type": "code",
   "execution_count": 554,
   "metadata": {},
   "outputs": [],
   "source": []
  },
  {
   "cell_type": "code",
   "execution_count": 556,
   "metadata": {},
   "outputs": [],
   "source": []
  },
  {
   "cell_type": "code",
   "execution_count": 414,
   "metadata": {},
   "outputs": [
    {
     "data": {
      "text/plain": [
       "Array([-6.316279 , -2.021728 , -1.417364 , -1.2467048, -3.4943879,\n",
       "       -3.5216036, -6.7881074], dtype=float32)"
      ]
     },
     "execution_count": 414,
     "metadata": {},
     "output_type": "execute_result"
    }
   ],
   "source": []
  },
  {
   "cell_type": "code",
   "execution_count": 390,
   "metadata": {},
   "outputs": [],
   "source": [
    "q_pick = qsol[:7]\n",
    "grasp = builder2.param_dict[\"grasp\"]\n",
    "p_start = builder2.param_dict[\"p_start\"]\n",
    "\n",
    "#kin_error_jac_fn(q_pick, grasp, p_start)\n",
    "ee_pose, geom_jac = get_ee_fk_jac(q_pick)\n",
    "obj_pose = SE3(to_wxyzxyz(p_start))\n",
    "target_pose = obj_pose @ grasp_reconst(grasp)\n",
    "err_rot = ee_pose.rotation().inverse() @ target_pose.rotation()\n",
    "R_ee = ee_pose.rotation().as_matrix()\n",
    "B = get_rotvec_angvel_map(err_rot.log())"
   ]
  },
  {
   "cell_type": "code",
   "execution_count": 392,
   "metadata": {},
   "outputs": [
    {
     "data": {
      "text/plain": [
       "Array([[ 1.000000e+00,  0.000000e+00,  0.000000e+00],\n",
       "       [ 0.000000e+00,  1.048576e+00,  5.000000e-04],\n",
       "       [ 0.000000e+00, -5.000000e-04,  1.048576e+00]], dtype=float32)"
      ]
     },
     "execution_count": 392,
     "metadata": {},
     "output_type": "execute_result"
    }
   ],
   "source": [
    "get_rotvec_angvel_map(np.array([0.001,0,0.]))"
   ]
  },
  {
   "cell_type": "code",
   "execution_count": 396,
   "metadata": {},
   "outputs": [
    {
     "name": "stdout",
     "output_type": "stream",
     "text": [
      "This is Ipopt version 3.14.10, running with linear solver MUMPS 5.2.1.\n",
      "\n",
      "Number of nonzeros in equality constraint Jacobian...:       84\n",
      "Number of nonzeros in inequality constraint Jacobian.:        0\n",
      "Number of nonzeros in Lagrangian Hessian.............:        0\n",
      "\n",
      "Total number of variables............................:       14\n",
      "                     variables with only lower bounds:        0\n",
      "                variables with lower and upper bounds:       14\n",
      "                     variables with only upper bounds:        0\n",
      "Total number of equality constraints.................:       12\n",
      "Total number of inequality constraints...............:        0\n",
      "        inequality constraints with only lower bounds:        0\n",
      "   inequality constraints with lower and upper bounds:        0\n",
      "        inequality constraints with only upper bounds:        0\n",
      "\n",
      "iter    objective    inf_pr   inf_du lg(mu)  ||d||  lg(rg) alpha_du alpha_pr  ls\n",
      "   0  0.0000000e+00 1.56e+00 0.00e+00   0.0 0.00e+00    -  0.00e+00 0.00e+00   0\n",
      "   1  1.5876288e+00 2.55e-01 2.36e+00  -1.2 1.46e+00    -  6.73e-01 1.00e+00h  1\n",
      "   2  1.3607557e+00 1.34e-01 8.26e-01  -0.5 6.98e-01    -  9.89e-01 1.00e+00f  1\n",
      "   3  1.5442342e+00 8.49e-03 6.99e-01  -1.0 2.62e-01    -  9.20e-01 1.00e+00h  1\n",
      "   4  1.5330988e+00 1.59e-03 1.55e-01  -2.3 1.13e-01    -  9.98e-01 1.00e+00h  1\n",
      "   5  1.5218243e+00 2.80e-04 5.51e-02  -3.6 5.82e-02    -  1.00e+00 1.00e+00h  1\n",
      "   6  1.5210965e+00 3.46e-06 3.01e-02  -5.3 1.22e-02    -  1.00e+00 1.00e+00h  1\n",
      "   7  1.5114487e+00 1.98e-03 1.95e-01  -6.3 2.14e-01    -  1.00e+00 1.00e+00f  1\n",
      "   8  1.4871217e+00 5.91e-02 1.09e+00  -7.2 9.34e-01    -  1.00e+00 1.00e+00h  1\n",
      "   9  1.4723947e+00 7.78e-03 1.63e+00  -7.4 2.13e-01    -  1.00e+00 1.00e+00h  1\n",
      "iter    objective    inf_pr   inf_du lg(mu)  ||d||  lg(rg) alpha_du alpha_pr  ls\n",
      "  10  1.4650073e+00 3.62e-02 1.70e+00  -5.5 2.61e+00    -  1.00e+00 1.74e-01h  3\n",
      "  11  1.4326138e+00 1.63e-03 1.62e+00  -6.7 8.78e-02    -  1.00e+00 1.00e+00h  1\n",
      "  12  1.3066377e+00 1.18e-01 1.05e+00  -7.7 3.52e-01    -  1.00e+00 1.00e+00f  1\n",
      "  13  1.2555803e+00 7.38e-03 1.98e-01  -8.5 1.82e-01    -  1.00e+00 1.00e+00h  1\n",
      "  14  1.2273801e+00 1.45e-04 2.52e-02  -9.7 1.45e-02    -  1.00e+00 1.00e+00h  1\n",
      "  15  1.2276480e+00 8.80e-05 1.04e-02 -11.0 1.38e-02    -  1.00e+00 1.00e+00h  1\n",
      "  16  1.2274969e+00 6.41e-06 2.15e-03 -11.0 5.62e-03    -  1.00e+00 1.00e+00h  1\n",
      "  17  1.2274976e+00 4.74e-07 4.03e-04 -11.0 1.78e-04    -  1.00e+00 1.00e+00h  1\n",
      "  18  1.2274984e+00 4.17e-07 7.54e-04 -11.0 2.49e-04    -  1.00e+00 1.00e+00h  1\n",
      "\n",
      "Number of Iterations....: 18\n",
      "\n",
      "                                   (scaled)                 (unscaled)\n",
      "Objective...............:   1.2274983681856728e+00    1.2274983681856728e+00\n",
      "Dual infeasibility......:   7.5379704544089438e-04    7.5379704544089438e-04\n",
      "Constraint violation....:   4.1723257027115324e-07    4.1723257027115324e-07\n",
      "Variable bound violation:   0.0000000000000000e+00    0.0000000000000000e+00\n",
      "Complementarity.........:   9.9999999999999525e-12    9.9999999999999525e-12\n",
      "Overall NLP error.......:   7.5379704544089438e-04    7.5379704544089438e-04\n",
      "\n",
      "\n",
      "Number of objective function evaluations             = 22\n",
      "Number of objective gradient evaluations             = 19\n",
      "Number of equality constraint evaluations            = 22\n",
      "Number of inequality constraint evaluations          = 0\n",
      "Number of equality constraint Jacobian evaluations   = 19\n",
      "Number of inequality constraint Jacobian evaluations = 0\n",
      "Number of Lagrangian Hessian evaluations             = 0\n",
      "Total seconds in IPOPT                               = 2.345\n",
      "\n",
      "EXIT: Solved To Acceptable Level.\n"
     ]
    }
   ],
   "source": [
    "ipopt2.add_option(\"acceptable_iter\", 2)\n",
    "ipopt2.add_option(\"acceptable_tol\", 0.1) #release\n",
    "ipopt2.add_option(\"acceptable_obj_change_tol\", 0.0001)\n",
    "ipopt2.add_option(\"acceptable_dual_inf_tol\", 1.) \n",
    "ipopt2.add_option('mu_strategy', 'adaptive')\n",
    "\n",
    "qs_init = jnp.tile(panda.neutral, 2)\n",
    "qsol, info = ipopt2.solve(qs_init)"
   ]
  },
  {
   "cell_type": "code",
   "execution_count": 399,
   "metadata": {},
   "outputs": [],
   "source": [
    "panda.set_joint_angles(qsol[:7])"
   ]
  },
  {
   "cell_type": "code",
   "execution_count": 400,
   "metadata": {},
   "outputs": [],
   "source": [
    "panda.set_joint_angles(qsol[7:])"
   ]
  },
  {
   "cell_type": "code",
   "execution_count": 247,
   "metadata": {},
   "outputs": [
    {
     "data": {
      "text/plain": [
       "array([ 0.07027957,  0.09895435, -0.09649118, -2.27088913, -1.55379442,\n",
       "        1.61022823,  0.01779843])"
      ]
     },
     "execution_count": 247,
     "metadata": {},
     "output_type": "execute_result"
    }
   ],
   "source": [
    "qsol[7:]"
   ]
  },
  {
   "cell_type": "code",
   "execution_count": 246,
   "metadata": {},
   "outputs": [],
   "source": [
    "panda.set_joint_angles(qsol[7:])"
   ]
  },
  {
   "cell_type": "code",
   "execution_count": 503,
   "metadata": {},
   "outputs": [
    {
     "data": {
      "text/plain": [
       "array([-0.11530018,  0.2158832 , -0.1962212 ,  0.24268597, -0.00360402,\n",
       "       -0.77968186], dtype=float32)"
      ]
     },
     "execution_count": 503,
     "metadata": {},
     "output_type": "execute_result"
    }
   ],
   "source": [
    "np.hstack([p_body, rot_body.log()])"
   ]
  },
  {
   "cell_type": "code",
   "execution_count": 491,
   "metadata": {},
   "outputs": [],
   "source": [
    "\n",
    "Rt = jnp.block([[R.T, np.zeros((3,3))],[np.zeros((3,3)), R.T]])"
   ]
  },
  {
   "cell_type": "code",
   "execution_count": null,
   "metadata": {},
   "outputs": [],
   "source": [
    "E = get_rotvec_angvel_map(rot_body.log())"
   ]
  },
  {
   "cell_type": "code",
   "execution_count": 501,
   "metadata": {},
   "outputs": [],
   "source": []
  },
  {
   "cell_type": "code",
   "execution_count": 477,
   "metadata": {},
   "outputs": [
    {
     "data": {
      "text/plain": [
       "Array([6.1263680e-01, 4.6566129e-10, 5.5448973e-01], dtype=float32)"
      ]
     },
     "execution_count": 477,
     "metadata": {},
     "output_type": "execute_result"
    }
   ],
   "source": []
  },
  {
   "cell_type": "code",
   "execution_count": null,
   "metadata": {},
   "outputs": [],
   "source": [
    "q = panda.neutral\n",
    "panda.set_joint_angles(q)\n",
    "ee_pose, geom_jac = get_ee_fk_jac(q)\n",
    "frame.set_pose(SE3(to_wxyzxyz(ee_posevec)))\n",
    "\n",
    "target_pose = (obj_goal.pose @ grasp_reconst(grasp))\n",
    "target_posevec = to_posevec(target_pose.parameters())\n",
    "frame2.set_pose(SE3(to_wxyzxyz(target_posevec)))\n",
    "\n",
    "ee_posevec, jac = get_ee_fk_jac(q)\n",
    "err = target_posevec - ee_posevec\n",
    "d = - jnp.linalg.pinv(jac.T@jac).T@(-jac.T)@err\n",
    "\n",
    "q += d*0.05\n",
    "panda.set_joint_angles(q)\n",
    "frame.set_pose(SE3(to_wxyzxyz(ee_posevec)))"
   ]
  },
  {
   "cell_type": "code",
   "execution_count": 395,
   "metadata": {},
   "outputs": [],
   "source": [
    "panda.set_joint_angles(panda.neutral)"
   ]
  },
  {
   "cell_type": "code",
   "execution_count": 232,
   "metadata": {},
   "outputs": [],
   "source": [
    "zflip = SE3.from_rotation(SO3.from_z_radians(jnp.pi))\n",
    "\n",
    "def kin_error_fn(q, grasp, p_obj):\n",
    "    ee_pose, jac = get_ee_fk_jac(q)\n",
    "    obj_pose = SE3(to_wxyzxyz(p_obj))\n",
    "    grasp_pose = obj_pose @ grasp_reconst(grasp) @ zflip\n",
    "    grasp_posevec = to_posevec(grasp_pose.parameters())\n",
    "    err = grasp_posevec - posevec_ee\n",
    "    return err\n",
    "\n",
    "def kin_error_jac_fn(q, grasp, p_obj):\n",
    "    _, jac = get_ee_fk_jac(q)\n",
    "    return - jac\n",
    "\n",
    "def debug_obj2(q, grasp, p_obj):\n",
    "    panda.set_joint_angles(q)\n",
    "    posevec_ee, jac = get_ee_fk_jac(q)\n",
    "    #obj_pose = SE3(to_wxyzxyz(p_obj))\n",
    "    #frame2.set_pose(SE3(to_wxyzxyz(posevec_ee)))\n",
    "    #grasp_pose = obj_pose @ grasp_reconst(grasp) @ zflip\n",
    "    #frame.set_pose(grasp_pose)\n",
    "    #pc.reload(points=np.vstack(pcs))\n",
    "    time.sleep(0.1)\n",
    "    return 0.\n",
    "\n",
    "builder2 = SparseIPOPTBuilder()\n",
    "\n",
    "builder2.add_variable(\"q_pick\", 7, panda.lb, panda.ub)\n",
    "#builder2.add_variable(\"q_place\", 7, panda.lb, panda.ub)\n",
    "builder2.add_parameter(\"p_start\", to_posevec(obj_start.pose.parameters()))\n",
    "#builder2.add_parameter(\"p_goal\", to_posevec(obj_goal.pose.parameters()))\n",
    "builder2.add_parameter(\"grasp\", xsol)\n",
    "\n",
    "builder2.register_fn(\"kin_constr\", [7, 3, 6], 6,\n",
    "                          kin_error_fn, [kin_error_jac_fn, None, None])\n",
    "builder2.register_fn(\"obj_debug\", [7, 3, 6], 1,\n",
    "                          debug_obj2, [None, None, None])\n",
    "builder2.add_objective([\"q_pick\", \"grasp\", \"p_start\"], \"obj_debug\")\n",
    "builder2.add_constr(\"kin\", [\"q_pick\", \"grasp\", \"p_start\"], \"kin_constr\",\n",
    "                   0., 0.)"
   ]
  },
  {
   "cell_type": "code",
   "execution_count": 233,
   "metadata": {},
   "outputs": [
    {
     "ename": "TypeError",
     "evalue": "unsupported operand type(s) for -: 'BatchTracer' and 'SE3'",
     "output_type": "error",
     "traceback": [
      "\u001b[0;31m---------------------------------------------------------------------------\u001b[0m",
      "\u001b[0;31mTypeError\u001b[0m                                 Traceback (most recent call last)",
      "Cell \u001b[0;32mIn[233], line 2\u001b[0m\n\u001b[1;32m      1\u001b[0m builder2\u001b[39m.\u001b[39mfreeze()\n\u001b[0;32m----> 2\u001b[0m ipopt2 \u001b[39m=\u001b[39m builder2\u001b[39m.\u001b[39;49mbuild(compile_obj\u001b[39m=\u001b[39;49m\u001b[39mFalse\u001b[39;49;00m)\n",
      "File \u001b[0;32m/media/polde/datadrive/ws/sdf_world/sdf_world/sparse_ipopt.py:289\u001b[0m, in \u001b[0;36mSparseIPOPTBuilder.build\u001b[0;34m(self, compile_obj)\u001b[0m\n\u001b[1;32m    287\u001b[0m         \u001b[39msetattr\u001b[39m(prob, fn_name, fn)\n\u001b[1;32m    288\u001b[0m     \u001b[39melse\u001b[39;00m:\n\u001b[0;32m--> 289\u001b[0m         \u001b[39msetattr\u001b[39m(prob, fn_name, jax\u001b[39m.\u001b[39;49mjit(fn)\u001b[39m.\u001b[39;49mlower(xdummy)\u001b[39m.\u001b[39mcompile())\n\u001b[1;32m    290\u001b[0m jac_struct_fn \u001b[39m=\u001b[39m \u001b[39mlambda\u001b[39;00m : (\u001b[39mself\u001b[39m\u001b[39m.\u001b[39mjac_rows, \u001b[39mself\u001b[39m\u001b[39m.\u001b[39mjac_cols)\n\u001b[1;32m    291\u001b[0m \u001b[39msetattr\u001b[39m(prob, \u001b[39m\"\u001b[39m\u001b[39mjacobianstructure\u001b[39m\u001b[39m\"\u001b[39m, jac_struct_fn)\n",
      "    \u001b[0;31m[... skipping hidden 11 frame]\u001b[0m\n",
      "File \u001b[0;32m/media/polde/datadrive/ws/sdf_world/sdf_world/sparse_ipopt.py:187\u001b[0m, in \u001b[0;36mSparseIPOPTBuilder.get_constr_fn.<locals>.constraints\u001b[0;34m(x)\u001b[0m\n\u001b[1;32m    185\u001b[0m             inputs\u001b[39m.\u001b[39mappend(input_dict[input_name])\n\u001b[1;32m    186\u001b[0m         input_batch\u001b[39m.\u001b[39mappend(jnp\u001b[39m.\u001b[39mvstack(inputs))\n\u001b[0;32m--> 187\u001b[0m     cval \u001b[39m=\u001b[39m jax\u001b[39m.\u001b[39;49mvmap(cfn\u001b[39m.\u001b[39;49mfn)(\u001b[39m*\u001b[39;49minput_batch)\n\u001b[1;32m    188\u001b[0m     cvals\u001b[39m.\u001b[39mappend(cval\u001b[39m.\u001b[39mflatten())\n\u001b[1;32m    189\u001b[0m \u001b[39mreturn\u001b[39;00m jnp\u001b[39m.\u001b[39mhstack(cvals, dtype\u001b[39m=\u001b[39m\u001b[39mfloat\u001b[39m)\n",
      "    \u001b[0;31m[... skipping hidden 3 frame]\u001b[0m\n",
      "Cell \u001b[0;32mIn[232], line 8\u001b[0m, in \u001b[0;36mkin_error_fn\u001b[0;34m(q, grasp, p_obj)\u001b[0m\n\u001b[1;32m      6\u001b[0m grasp_pose \u001b[39m=\u001b[39m obj_pose \u001b[39m@\u001b[39m grasp_reconst(grasp) \u001b[39m@\u001b[39m zflip\n\u001b[1;32m      7\u001b[0m grasp_posevec \u001b[39m=\u001b[39m to_posevec(grasp_pose\u001b[39m.\u001b[39mparameters())\n\u001b[0;32m----> 8\u001b[0m err \u001b[39m=\u001b[39m grasp_posevec \u001b[39m-\u001b[39;49m posevec_ee\n\u001b[1;32m      9\u001b[0m \u001b[39mreturn\u001b[39;00m err\n",
      "\u001b[0;31mTypeError\u001b[0m: unsupported operand type(s) for -: 'BatchTracer' and 'SE3'"
     ]
    }
   ],
   "source": [
    "builder2.freeze()\n",
    "ipopt2 = builder2.build(compile_obj=False)"
   ]
  },
  {
   "cell_type": "code",
   "execution_count": 231,
   "metadata": {},
   "outputs": [
    {
     "name": "stdout",
     "output_type": "stream",
     "text": [
      "This is Ipopt version 3.14.10, running with linear solver MUMPS 5.2.1.\n",
      "\n",
      "Number of nonzeros in equality constraint Jacobian...:       42\n",
      "Number of nonzeros in inequality constraint Jacobian.:        0\n",
      "Number of nonzeros in Lagrangian Hessian.............:        0\n",
      "\n",
      "Total number of variables............................:        7\n",
      "                     variables with only lower bounds:        0\n",
      "                variables with lower and upper bounds:        7\n",
      "                     variables with only upper bounds:        0\n",
      "Total number of equality constraints.................:        6\n",
      "Total number of inequality constraints...............:        0\n",
      "        inequality constraints with only lower bounds:        0\n",
      "   inequality constraints with lower and upper bounds:        0\n",
      "        inequality constraints with only upper bounds:        0\n",
      "\n",
      "iter    objective    inf_pr   inf_du lg(mu)  ||d||  lg(rg) alpha_du alpha_pr  ls\n",
      "   0  0.0000000e+00 1.56e+00 0.00e+00   0.0 0.00e+00    -  0.00e+00 0.00e+00   0\n",
      "\n",
      "Number of Iterations....: 0\n",
      "\n",
      "                                   (scaled)                 (unscaled)\n",
      "Objective...............:   0.0000000000000000e+00    0.0000000000000000e+00\n",
      "Dual infeasibility......:   0.0000000000000000e+00    0.0000000000000000e+00\n",
      "Constraint violation....:   1.5604978799819946e+00    1.5604978799819946e+00\n",
      "Variable bound violation:   0.0000000000000000e+00    0.0000000000000000e+00\n",
      "Complementarity.........:   2.9671000296709997e+00    2.9671000296709997e+00\n",
      "Overall NLP error.......:   2.9671000296709997e+00    2.9671000296709997e+00\n",
      "\n",
      "\n",
      "Number of objective function evaluations             = 1\n",
      "Number of objective gradient evaluations             = 1\n",
      "Number of equality constraint evaluations            = 1\n",
      "Number of inequality constraint evaluations          = 0\n",
      "Number of equality constraint Jacobian evaluations   = 1\n",
      "Number of inequality constraint Jacobian evaluations = 0\n",
      "Number of Lagrangian Hessian evaluations             = 0\n",
      "Total seconds in IPOPT                               = 0.138\n",
      "\n",
      "EXIT: Stopping optimization at current point as requested by user.\n"
     ]
    },
    {
     "ename": "NameError",
     "evalue": "name 'frame2' is not defined",
     "output_type": "error",
     "traceback": [
      "\u001b[0;31m---------------------------------------------------------------------------\u001b[0m",
      "\u001b[0;31mNameError\u001b[0m                                 Traceback (most recent call last)",
      "Cell \u001b[0;32mIn[231], line 1\u001b[0m\n\u001b[0;32m----> 1\u001b[0m qsol, info \u001b[39m=\u001b[39m ipopt2\u001b[39m.\u001b[39;49msolve(panda\u001b[39m.\u001b[39;49mneutral)\n",
      "File \u001b[0;32m~/miniconda3/envs/cu11/lib/python3.8/site-packages/cyipopt/cython/ipopt_wrapper.pyx:642\u001b[0m, in \u001b[0;36mipopt_wrapper.Problem.solve\u001b[0;34m()\u001b[0m\n",
      "File \u001b[0;32m~/miniconda3/envs/cu11/lib/python3.8/site-packages/cyipopt/cython/ipopt_wrapper.pyx:676\u001b[0m, in \u001b[0;36mipopt_wrapper.objective_cb\u001b[0;34m()\u001b[0m\n",
      "File \u001b[0;32m/media/polde/datadrive/ws/sdf_world/sdf_world/sparse_ipopt.py:140\u001b[0m, in \u001b[0;36mSparseIPOPTBuilder.get_objective_fn.<locals>.objective\u001b[0;34m(x)\u001b[0m\n\u001b[1;32m    138\u001b[0m input_names \u001b[39m=\u001b[39m [x\u001b[39m.\u001b[39mname \u001b[39mfor\u001b[39;00m x \u001b[39min\u001b[39;00m \u001b[39mself\u001b[39m\u001b[39m.\u001b[39mobj_info\u001b[39m.\u001b[39minputs]\n\u001b[1;32m    139\u001b[0m inputs \u001b[39m=\u001b[39m [input_dict[name] \u001b[39mfor\u001b[39;00m name \u001b[39min\u001b[39;00m input_names]\n\u001b[0;32m--> 140\u001b[0m \u001b[39mreturn\u001b[39;00m \u001b[39mself\u001b[39;49m\u001b[39m.\u001b[39;49mobj_info\u001b[39m.\u001b[39;49mfn_info\u001b[39m.\u001b[39;49mfn(\u001b[39m*\u001b[39;49minputs)\n",
      "Cell \u001b[0;32mIn[229], line 23\u001b[0m, in \u001b[0;36mdebug_obj2\u001b[0;34m(q, grasp, p_obj)\u001b[0m\n\u001b[1;32m     21\u001b[0m posevec_ee, jac \u001b[39m=\u001b[39m get_ee_fk_jac(q)\n\u001b[1;32m     22\u001b[0m obj_pose \u001b[39m=\u001b[39m SE3(to_wxyzxyz(p_obj))\n\u001b[0;32m---> 23\u001b[0m frame2\u001b[39m.\u001b[39mset_pose(SE3(to_wxyzxyz(posevec_ee)))\n\u001b[1;32m     24\u001b[0m grasp_pose \u001b[39m=\u001b[39m obj_pose \u001b[39m@\u001b[39m grasp_reconst(grasp)\n\u001b[1;32m     25\u001b[0m frame\u001b[39m.\u001b[39mset_pose(grasp_pose)\n",
      "\u001b[0;31mNameError\u001b[0m: name 'frame2' is not defined"
     ]
    }
   ],
   "source": [
    "qsol, info = ipopt2.solve(panda.neutral)"
   ]
  },
  {
   "cell_type": "code",
   "execution_count": 16,
   "metadata": {},
   "outputs": [],
   "source": [
    "import PyCeres"
   ]
  },
  {
   "cell_type": "code",
   "execution_count": 449,
   "metadata": {},
   "outputs": [],
   "source": [
    "class IK(PyCeres.CostFunction):\n",
    "    def __init__(self, grasp, obj_pose, viz=False):\n",
    "        super().__init__()\n",
    "        self.set_num_residuals(6)\n",
    "        self.set_parameter_block_sizes([7])\n",
    "        self.target_pose = (obj_pose @ grasp_reconst(grasp))\n",
    "        self.viz = viz\n",
    "    \n",
    "    def Evaluate(self, parameters, residuals, jacobians):\n",
    "        q = parameters[0]\n",
    "        ee_pose, geom_jac = get_ee_fk_jac(q)\n",
    "        R_ee = ee_pose.rotation().as_matrix()\n",
    "        err_t = R_ee.T@(self.target_pose.translation() - ee_pose.translation()) #body\n",
    "        err_r = ee_pose.rotation().inverse() @ self.target_pose.rotation()\n",
    "        err = jnp.hstack([err_t, err_r.log()])\n",
    "\n",
    "        if (jacobians != None):\n",
    "            B = get_rotvec_angvel_map(err_r.log())\n",
    "            jac_t = - R_ee.T @ geom_jac[:3]\n",
    "            jac_r = - B @ R_ee.T @ geom_jac[3:]\n",
    "            jac = jnp.vstack([jac_t, jac_r]) \n",
    "            jacobians[0][:] = jac.flatten()\n",
    "        residuals[:] = err\n",
    "        if self.viz:\n",
    "            panda.set_joint_angles(q)\n",
    "            time.sleep(0.1)\n",
    "        return True\n",
    "    \n",
    "class DistanceBetween(PyCeres.CostFunction):\n",
    "    def __init__(self):\n",
    "        super().__init__()\n",
    "        self.set_num_residuals(7)\n",
    "        self.set_parameter_block_sizes([7,7])\n",
    "        self.weight = 0.1\n",
    "\n",
    "    def Evaluate(self, parameters, residuals, jacobians):\n",
    "        q1, q2 = parameters[0], parameters[1]\n",
    "        err = (q1-q2)\n",
    "        residuals[:] = err*self.weight\n",
    "        if (jacobians != None):\n",
    "            jacobians[0][:] = np.eye(7).flatten() * self.weight\n",
    "            jacobians[1][:] = - np.eye(7).flatten() * self.weight\n",
    "        return True\n",
    "\n",
    "class DistanceFrom(PyCeres.CostFunction):\n",
    "    def __init__(self, target_config):\n",
    "        super().__init__()\n",
    "        self.target_config = target_config\n",
    "        self.set_num_residuals(7)\n",
    "        self.set_parameter_block_sizes([7])\n",
    "        self.weight = 0.1\n",
    "\n",
    "    def Evaluate(self, parameters, residuals, jacobians):\n",
    "        q = parameters[0]\n",
    "        err = (self.target_config - q)\n",
    "        residuals[:] = err*self.weight\n",
    "        if (jacobians != None):\n",
    "            jacobians[0][:] = - np.eye(7).flatten() * self.weight\n",
    "        return True\n",
    "\n",
    "# def point_jacobian(q, point, link_idx):\n",
    "#     link_joint_map = jnp.array([0, 1, 2, 3, 4, 5, 6, 6, 6, 6, 6])\n",
    "#     fks = panda_model.fk_fn(q)\n",
    "#     pos_jac = []\n",
    "#     for i, joint in enumerate(panda_model.joints.values()):\n",
    "#         if joint.joint_type != \"revolute\": continue\n",
    "#         joint_idx = i+1\n",
    "#         p_frame = fks[joint_idx][-3:]\n",
    "#         rot_axis = SE3(fks[joint_idx]).as_matrix()[:3, 2]\n",
    "#         lin_vel = jnp.cross(rot_axis, point - p_frame)\n",
    "#         pos_jac.append(lin_vel)\n",
    "#     point_jac = jnp.vstack(pos_jac).T\n",
    "#     masking = np.tile(np.arange(7),3).reshape(-1,7)\n",
    "#     masking = jnp.where(masking > link_joint_map[link_idx], 0, 1)\n",
    "#     return point_jac * masking\n",
    "\n",
    "# pc = PointCloud(world.vis, \"pc\", np.zeros((10,3)), 0.01, \"blue\")\n",
    "# num_link_points = 20\n",
    "# class Collision(PyCeres.CostFunction):\n",
    "#     def __init__(self, viz=False):\n",
    "#         super().__init__()\n",
    "#         self.set_num_residuals(1)\n",
    "#         self.set_parameter_block_sizes([7])\n",
    "#         self.safe_dist = 0.05\n",
    "#         self.weight = 1.\n",
    "#         self.viz = viz\n",
    "    \n",
    "#     def Evaluate(self, parameters, residuals, jacobians):\n",
    "#         q = parameters[0]\n",
    "\n",
    "#         robot_pc = panda.get_surface_points_fn(q)\n",
    "#         distances = env.distances(robot_pc)\n",
    "#         idx = distances.argmin()\n",
    "#         min_dist = distances[idx]\n",
    "\n",
    "#         if self.viz:\n",
    "#             panda.set_joint_angles(q)\n",
    "#             pc.reload(points=robot_pc, color=\"blue\")\n",
    "#             time.sleep(0.1)\n",
    "        \n",
    "#         if min_dist > self.safe_dist:\n",
    "#             residuals[:] = 0.\n",
    "#             if (jacobians != None):\n",
    "#                 jacobians[0][:] = np.zeros(7)\n",
    "#             return True\n",
    "#         else:\n",
    "#             residuals[:] = min_dist - self.safe_dist\n",
    "#             if (jacobians != None):\n",
    "#                 point = robot_pc[idx]\n",
    "#                 link_idx = idx // num_link_points\n",
    "#                 jac_point = point_jacobian(q, point, link_idx)\n",
    "#                 repulsive_grad = jax.grad(env.distance)(point)\n",
    "#                 jacobians[0][:] = repulsive_grad @ jac_point\n",
    "#             return True\n",
    "\n",
    "class CollisionObject(PyCeres.CostFunction):\n",
    "    def __init__(self, grasp, obj_points, viz=False):\n",
    "        super().__init__()\n",
    "        self.grasp_pose = grasp_reconst(grasp)\n",
    "        self.obj_points = obj_points\n",
    "        self.set_num_residuals(1)\n",
    "        self.set_parameter_block_sizes([7])\n",
    "        self.safe_dist = 0.05\n",
    "        self.weight = 1.\n",
    "        self.viz = viz\n",
    "    \n",
    "    def Evaluate(self, parameters, residuals, jacobians):\n",
    "        q = parameters[0]\n",
    "        \n",
    "        fks = panda_model.fk_fn(q)\n",
    "        obj_pose = SE3(fks[-1]) @ self.grasp_pose.inverse()\n",
    "        obj_points = jax.vmap(obj_pose.apply)(self.obj_points)\n",
    "        distances = env.distances(obj_points)\n",
    "        idx = distances.argmin()\n",
    "        min_dist = distances[idx]\n",
    "\n",
    "        if self.viz:\n",
    "            pc.reload(points=obj_points, color=\"green\")\n",
    "            time.sleep(0.1)\n",
    "            \n",
    "        if min_dist > self.safe_dist:\n",
    "            residuals[:] = 0.\n",
    "            if (jacobians != None):\n",
    "                jacobians[0][:] = np.zeros(7)\n",
    "            return True\n",
    "        else:\n",
    "            residuals[:] = min_dist - self.safe_dist\n",
    "            if (jacobians != None):\n",
    "                point = obj_points[idx]\n",
    "                jac_point = point_jacobian(q, point, -1)\n",
    "                repulsive_grad = jax.grad(env.distance)(point)\n",
    "                jacobians[0][:] = repulsive_grad @ jac_point\n",
    "            return True\n",
    "        \n",
    "        "
   ]
  },
  {
   "cell_type": "code",
   "execution_count": 468,
   "metadata": {},
   "outputs": [],
   "source": [
    "points = jax.vmap(panda.get_surface_points_fn)(qs)"
   ]
  },
  {
   "cell_type": "code",
   "execution_count": 481,
   "metadata": {},
   "outputs": [],
   "source": [
    "q1 = qs[0]\n",
    "safe_dist = 0.05"
   ]
  },
  {
   "cell_type": "code",
   "execution_count": 817,
   "metadata": {},
   "outputs": [],
   "source": [
    "def point_jacobian(point, last_joint_idx, fks):\n",
    "    pos_jac = []\n",
    "    for i, joint in enumerate(panda_model.joints.values()):\n",
    "        if joint.joint_type != \"revolute\": continue\n",
    "        joint_idx = i+1\n",
    "        p_frame = fks[joint_idx][-3:]\n",
    "        rot_axis = SE3(fks[joint_idx]).as_matrix()[:3, 2]\n",
    "        lin_vel = jnp.cross(rot_axis, point - p_frame)\n",
    "        pos_jac.append(lin_vel)\n",
    "    point_jac = jnp.vstack(pos_jac).T\n",
    "    masking = np.tile(np.arange(7),3).reshape(-1,7)\n",
    "    masking = jnp.where(masking > last_joint_idx, 0, 1)\n",
    "    return point_jac * masking\n",
    "\n",
    "#get links_points\n",
    "links_points = []\n",
    "for link in panda_model.links.values():\n",
    "    if not link.has_mesh: continue\n",
    "    if not panda_model.is_floating and link == panda_model.root_link: continue\n",
    "    links_points.append(link.surface_points)\n",
    "links_points = np.array(links_points)\n",
    "fk_assign = lambda wxyzxyz, link_points: jax.vmap(SE3(wxyzxyz).apply)(link_points)\n",
    "\n",
    "@jax.jit\n",
    "def get_col_vj(q):\n",
    "    def no_col(point, link_idx, fks):\n",
    "        return np.zeros(7)\n",
    "    def col(point, link_idx, fks):\n",
    "        last_joint_idx = jnp.maximum(link_idx, 6)\n",
    "        jac_point = point_jacobian(point, last_joint_idx, fks)\n",
    "        repulsive_grad = jax.grad(env.distance)(point)\n",
    "        return repulsive_grad @ jac_point\n",
    "    \n",
    "    fks = panda_model.fk_fn(q)\n",
    "    assigned_points = jax.vmap(fk_assign)(fks[1:-1], links_points)\n",
    "    distances = jax.vmap(env.distances)(assigned_points)\n",
    "    link_idx, point_idx = jnp.unravel_index(\n",
    "        distances.argmin(), distances.shape)\n",
    "    point = assigned_points[link_idx, point_idx]\n",
    "    min_dist = distances[link_idx, point_idx] - safe_dist\n",
    "    is_penet = min_dist < 0.\n",
    "    penet = jnp.where(is_penet, min_dist, 0.)\n",
    "    jac = jax.lax.cond(is_penet, col, no_col, point, link_idx, fks)\n",
    "    return penet, jac\n",
    "\n",
    "obj_points = farthest_point_sampling(obj_start.mesh.sample(200), 20)\n",
    "@jax.jit\n",
    "def get_col_obj_vj(q, grasp_pose:SE3):\n",
    "    def no_col(point, fks):\n",
    "        return np.zeros(7)\n",
    "    def col(point, fks):\n",
    "        last_joint_idx = 6 #calculate full jacobian\n",
    "        jac_point = point_jacobian(point, last_joint_idx, fks)\n",
    "        repulsive_grad = jax.grad(env.distance)(point)\n",
    "        return repulsive_grad @ jac_point\n",
    "    \n",
    "    fks = panda_model.fk_fn(q)\n",
    "    obj_pose = SE3(fks[-1]) @ grasp_pose.inverse()\n",
    "    assigned_points = jax.vmap(obj_pose.apply)(obj_points)\n",
    "    distances = env.distances(assigned_points)\n",
    "    idx = distances.argmin()\n",
    "    point = assigned_points[idx]\n",
    "    min_dist = distances[idx] - safe_dist\n",
    "    is_penet = min_dist < 0.\n",
    "    penet = jnp.where(is_penet, min_dist, 0.)\n",
    "    jac = jax.lax.cond(is_penet, col, no_col, point, fks)\n",
    "    return penet, jac"
   ]
  },
  {
   "cell_type": "code",
   "execution_count": 821,
   "metadata": {},
   "outputs": [],
   "source": [
    "penets, jacs = jax.vmap(get_col_obj_vj, in_axes=(0, None))(qs, grasp_reconst(grasp))"
   ]
  },
  {
   "cell_type": "code",
   "execution_count": 825,
   "metadata": {},
   "outputs": [],
   "source": [
    "class CollisionBatch(PyCeres.CostFunction):\n",
    "    def __init__(self, num_traj, viz=False):\n",
    "        super().__init__()\n",
    "        self.set_num_residuals(num_traj)\n",
    "        self.set_parameter_block_sizes([7]*num_traj)\n",
    "        self.safe_dist = 0.05\n",
    "        self.weight = 1.\n",
    "        self.viz = viz\n",
    "    \n",
    "    def Evaluate(self, parameters, residuals, jacobians):\n",
    "        qs = jnp.array(parameters)\n",
    "        penets, jacs = jax.vmap(get_col_vj)(qs)\n",
    "        residuals[:] = penets\n",
    "        if (jacobians != None):\n",
    "            jacobians[:] = jacs\n",
    "        return True\n",
    "    \n",
    "class CollisionObjectBatch(PyCeres.CostFunction):\n",
    "    def __init__(self, grasp, num_hold, viz=False):\n",
    "        super().__init__()\n",
    "        self.set_num_residuals(num_hold)\n",
    "        self.set_parameter_block_sizes([7]*num_hold)\n",
    "        self.grasp_pose = grasp_reconst(grasp)\n",
    "        self.safe_dist = 0.05\n",
    "        self.weight = 1.\n",
    "        self.viz = viz\n",
    "    \n",
    "    def Evaluate(self, parameters, residuals, jacobians):\n",
    "        qs = jnp.array(parameters)\n",
    "        penets, jacs = jax.vmap(get_col_obj_vj)(qs)\n",
    "        residuals[:] = penets\n",
    "        if (jacobians != None):\n",
    "            jacobians[:] = jacs\n",
    "        return True"
   ]
  },
  {
   "cell_type": "code",
   "execution_count": 845,
   "metadata": {},
   "outputs": [],
   "source": [
    "num_mid_point = 3\n",
    "num_traj = num_mid_point*3 + 2\n",
    "qs = np.array([panda.neutral.copy() for i in range(num_traj)])\n",
    "#qs = [*qs]\n",
    "idx_pick = num_mid_point\n",
    "idx_place = idx_pick + num_mid_point + 1\n",
    "\n",
    "grasp = xsol"
   ]
  },
  {
   "cell_type": "code",
   "execution_count": 846,
   "metadata": {},
   "outputs": [
    {
     "ename": "",
     "evalue": "",
     "output_type": "error",
     "traceback": [
      "\u001b[1;31mCannot execute code, session has been disposed. Please try restarting the Kernel."
     ]
    },
    {
     "ename": "",
     "evalue": "",
     "output_type": "error",
     "traceback": [
      "\u001b[1;31mThe Kernel crashed while executing code in the the current cell or a previous cell. Please review the code in the cell(s) to identify a possible cause of the failure. Click <a href='https://aka.ms/vscodeJupyterKernelCrash'>here</a> for more info. View Jupyter <a href='command:jupyter.viewOutput'>log</a> for further details."
     ]
    }
   ],
   "source": [
    "problem = PyCeres.Problem()\n",
    "feat_ik_pick = IK(grasp, obj_start.pose, viz=False)\n",
    "feat_ik_place = IK(grasp, obj_goal.pose)\n",
    "feat_dist_between = DistanceBetween()\n",
    "feat_dist_from_home = DistanceFrom(panda.neutral)\n",
    "feat_col = CollisionBatch(num_traj)\n",
    "feat_col_obj = CollisionObjectBatch(grasp, 3)\n",
    "\n",
    "for i in range(num_traj-1):\n",
    "    problem.AddResidualBlock(feat_dist_between, None, qs[i], qs[i+1])\n",
    "# for i in range(num_traj):\n",
    "#     problem.AddResidualBlock(feat_col, None, qs[i])\n",
    "# for i in np.arange(idx_pick+1, idx_place):\n",
    "#     problem.AddResidualBlock(feat_col_obj, None, qs[i])\n",
    "problem.AddResidualBlock(feat_col, None, qs.reshape(1, -1))\n",
    "problem.AddResidualBlock(feat_col_obj, None, *qs[idx_pick+1:idx_place])\n",
    "problem.AddResidualBlock(feat_dist_from_home, None, qs[0])\n",
    "problem.AddResidualBlock(feat_dist_from_home, None, qs[-1])\n",
    "problem.AddResidualBlock(feat_ik_pick, None, qs[idx_pick])\n",
    "problem.AddResidualBlock(feat_ik_place, None, qs[idx_place])\n",
    "\n",
    "options = PyCeres.SolverOptions()\n",
    "options.linear_solver_type = PyCeres.LinearSolverType.SPARSE_NORMAL_CHOLESKY\n",
    "options.parameter_tolerance = 1e-3\n",
    "options.minimizer_progress_to_stdout = True\n",
    "summary = PyCeres.Summary()"
   ]
  },
  {
   "cell_type": "code",
   "execution_count": null,
   "metadata": {},
   "outputs": [],
   "source": [
    "PyCeres.Solve(options, problem, summary)"
   ]
  },
  {
   "cell_type": "code",
   "execution_count": 826,
   "metadata": {},
   "outputs": [],
   "source": []
  },
  {
   "cell_type": "code",
   "execution_count": 789,
   "metadata": {},
   "outputs": [],
   "source": [
    "qs = np.random.uniform(panda.lb, panda.ub, size=(11,7))\n",
    "qs = jnp.array(qs)\n",
    "parameters = qs\n",
    "residuals = np.zeros(11)\n",
    "jacobians = [*np.zeros_like(qs)]\n",
    "feat_col.Evaluate(parameters, residuals, jacobians)"
   ]
  },
  {
   "cell_type": "code",
   "execution_count": 796,
   "metadata": {},
   "outputs": [
    {
     "data": {
      "text/plain": [
       "0.001087398995878175"
      ]
     },
     "execution_count": 796,
     "metadata": {},
     "output_type": "execute_result"
    }
   ],
   "source": [
    "tic = time.perf_counter()\n",
    "get_col_vj(q)\n",
    "toc = time.perf_counter()\n",
    "toc-tic"
   ]
  },
  {
   "cell_type": "code",
   "execution_count": 740,
   "metadata": {},
   "outputs": [
    {
     "data": {
      "text/plain": [
       "0.0005161419976502657"
      ]
     },
     "execution_count": 740,
     "metadata": {},
     "output_type": "execute_result"
    }
   ],
   "source": [
    "q = panda.get_random_config()\n",
    "panda.set_joint_angles(q)\n",
    "tic = time.perf_counter()\n",
    "penet, jac = get_col_vj(q)\n",
    "toc = time.perf_counter()\n",
    "toc-tic"
   ]
  },
  {
   "cell_type": "code",
   "execution_count": 177,
   "metadata": {},
   "outputs": [],
   "source": [
    "# collision test\n",
    "# q = panda.get_random_config()\n",
    "# panda.set_joint_angles(q)\n",
    "\n",
    "# problem = PyCeres.Problem()\n",
    "# problem.AddResidualBlock(feat_col, None, q)\n",
    "\n",
    "# options = PyCeres.SolverOptions()\n",
    "# options.linear_solver_type = PyCeres.LinearSolverType.SPARSE_NORMAL_CHOLESKY\n",
    "# options.minimizer_progress_to_stdout = True\n",
    "# summary = PyCeres.Summary()\n",
    "# PyCeres.Solve(options, problem, summary)"
   ]
  },
  {
   "cell_type": "code",
   "execution_count": 165,
   "metadata": {},
   "outputs": [
    {
     "data": {
      "text/plain": [
       "True"
      ]
     },
     "execution_count": 165,
     "metadata": {},
     "output_type": "execute_result"
    }
   ],
   "source": [
    "# parameters = [q]\n",
    "# residuals = np.zeros(1)\n",
    "# jacobians = [np.zeros(7)]\n",
    "# feat_col.Evaluate(parameters, residuals, jacobians)"
   ]
  },
  {
   "cell_type": "code",
   "execution_count": 450,
   "metadata": {},
   "outputs": [],
   "source": []
  },
  {
   "cell_type": "code",
   "execution_count": 361,
   "metadata": {},
   "outputs": [],
   "source": [
    "obj_points = farthest_point_sampling(obj_start.mesh.sample(200), 20)"
   ]
  },
  {
   "cell_type": "code",
   "execution_count": 451,
   "metadata": {},
   "outputs": [
    {
     "name": "stdout",
     "output_type": "stream",
     "text": [
      "iter      cost      cost_change  |gradient|   |step|    tr_ratio  tr_radius  ls_iter  iter_time  total_time\n",
      "   0  2.074764e+00    0.00e+00    1.49e+00   0.00e+00   0.00e+00  1.00e+04        0    2.29e+00    2.29e+00\n",
      "   1  1.877118e+00    1.98e-01    1.78e+00   5.88e+00   9.63e-02  6.55e+03        1    4.66e+00    6.95e+00\n",
      "   2  4.975296e-01    1.38e+00    7.35e-01   3.69e+00   7.41e-01  7.37e+03        1    4.44e+00    1.14e+01\n",
      "   3  3.477292e-01    1.50e-01    6.61e-01   3.15e+00   3.17e-01  7.03e+03        1    4.51e+00    1.59e+01\n",
      "   4  1.320875e-01    2.16e-01    3.35e-01   2.68e+00   6.57e-01  7.25e+03        1    4.48e+00    2.04e+01\n",
      "   5  4.349268e-02    8.86e-02    1.32e-01   1.46e+00   7.41e-01  8.16e+03        1    4.56e+00    2.49e+01\n",
      "   6  1.316158e-02    3.03e-02    1.80e-02   6.80e-01   9.99e-01  2.45e+04        1    4.41e+00    2.93e+01\n",
      "   7  2.460875e-02   -1.14e-02    1.80e-02   4.27e-01  -1.83e+01  1.22e+04        1    2.05e+00    3.14e+01\n",
      "   8  2.460898e-02   -1.14e-02    1.80e-02   4.24e-01  -1.83e+01  3.06e+03        1    2.11e+00    3.35e+01\n",
      "   9  2.460846e-02   -1.14e-02    1.80e-02   4.07e-01  -1.83e+01  3.83e+02        1    2.15e+00    3.56e+01\n",
      "  10  2.454686e-02   -1.14e-02    1.80e-02   3.51e-01  -1.85e+01  2.39e+01        1    2.14e+00    3.78e+01\n",
      "  11  2.338790e-02   -1.02e-02    1.80e-02   2.89e-01  -1.74e+01  7.48e-01        1    2.16e+00    3.99e+01\n",
      "  12  1.337977e-02   -2.18e-04    1.80e-02   6.68e-02  -7.37e-01  1.17e-02        1    2.05e+00    4.20e+01\n"
     ]
    }
   ],
   "source": [
    "problem = PyCeres.Problem()\n",
    "feat_ik_pick = IK(grasp, obj_start.pose, viz=False)\n",
    "feat_ik_place = IK(grasp, obj_goal.pose)\n",
    "feat_dist_between = DistanceBetween()\n",
    "feat_dist_from_home = DistanceFrom(panda.neutral)\n",
    "feat_col = Collision(viz=True)\n",
    "feat_col_obj = CollisionObject(grasp, obj_points, viz=True)\n",
    "\n",
    "for i in range(num_traj-1):\n",
    "    problem.AddResidualBlock(feat_dist_between, None, qs[i], qs[i+1])\n",
    "for i in range(num_traj):\n",
    "    problem.AddResidualBlock(feat_col, None, qs[i])\n",
    "for i in np.arange(idx_pick+1, idx_place):\n",
    "    problem.AddResidualBlock(feat_col_obj, None, qs[i])\n",
    "\n",
    "problem.AddResidualBlock(feat_dist_from_home, None, qs[0])\n",
    "problem.AddResidualBlock(feat_dist_from_home, None, qs[-1])\n",
    "problem.AddResidualBlock(feat_ik_pick, None, qs[idx_pick])\n",
    "problem.AddResidualBlock(feat_ik_place, None, qs[idx_place])\n",
    "\n",
    "options = PyCeres.SolverOptions()\n",
    "options.linear_solver_type = PyCeres.LinearSolverType.SPARSE_NORMAL_CHOLESKY\n",
    "options.parameter_tolerance = 1e-3\n",
    "options.minimizer_progress_to_stdout = True\n",
    "summary = PyCeres.Summary()\n",
    "PyCeres.Solve(options, problem, summary)"
   ]
  },
  {
   "cell_type": "code",
   "execution_count": 452,
   "metadata": {},
   "outputs": [],
   "source": [
    "qs_vis = [panda.neutral.copy(), *qs, panda.neutral.copy()]\n",
    "i = 0"
   ]
  },
  {
   "cell_type": "code",
   "execution_count": 465,
   "metadata": {},
   "outputs": [],
   "source": [
    "panda.set_joint_angles(qs_vis[i]) #qs[4]\n",
    "i+= 1"
   ]
  },
  {
   "cell_type": "code",
   "execution_count": 165,
   "metadata": {},
   "outputs": [],
   "source": [
    "class IK(PyCeres.CostFunction):\n",
    "    def __init__(self, grasp):\n",
    "        super().__init__()\n",
    "        self.set_num_residuals(6)\n",
    "        self.set_parameter_block_sizes([7])\n",
    "        target_pose = (obj_goal.pose @ grasp_reconst(grasp))\n",
    "        target_posevec = to_posevec(target_pose.parameters())\n",
    "        self.ik_target = target_posevec\n",
    "    \n",
    "    def Evaluate(self, parameters, residuals, jacobians):\n",
    "        #parameters = [q]\n",
    "        #residuals = [err]\n",
    "        #jacobians = [jac_q]\n",
    "        q = parameters[0]\n",
    "        ee_posevec, jac = get_ee_fk_jac(q)\n",
    "        err = self.ik_target - ee_posevec\n",
    "        if (jacobians != None):\n",
    "            jacobians[0][:] = -jac.flatten()\n",
    "        residuals[:] = err\n",
    "        panda.set_joint_angles(q)\n",
    "        time.sleep(0.1)\n",
    "        return True    \n",
    "    \n",
    "class IK2(PyCeres.CostFunction):\n",
    "    def __init__(self, grasp, obj_poses):\n",
    "        super().__init__()\n",
    "        self.set_num_residuals(12)\n",
    "        self.set_parameter_block_sizes([7, 7])\n",
    "        target_posevecs = []\n",
    "        for obj_pose in obj_poses:\n",
    "            target_pose = (obj_pose @ grasp_reconst(grasp))\n",
    "            target_posevec = to_posevec(target_pose.parameters())\n",
    "            target_posevecs.append(target_posevec)\n",
    "        self.target_posevecs = jnp.hstack(target_posevecs)\n",
    "        frame2.set_pose(SE3(to_wxyzxyz(target_posevecs[1])))\n",
    "    \n",
    "    def Evaluate(self, parameters, residuals, jacobians):\n",
    "        #parameters = [q1, q2]\n",
    "        #residuals = [err1_err2]\n",
    "        #jacobians = [jac_q1, jac_q2]\n",
    "        q1, q2 = parameters[0], parameters[1]\n",
    "        ee_posevecs, jacs = jax.vmap(get_ee_fk_jac)(jnp.vstack([q1,q2]))\n",
    "        err = self.target_posevecs - jnp.hstack(ee_posevecs)\n",
    "        if (jacobians != None):\n",
    "            jac1 = jnp.pad(-jacs[0], ((0,6),(0,0))).flatten()\n",
    "            jac2 = jnp.pad(-jacs[1], ((6,0),(0,0))).flatten()\n",
    "            jacobians[0][:] = jac1\n",
    "            jacobians[1][:] = jac2\n",
    "        residuals[:] = err\n",
    "        # panda.set_joint_angles(q1)\n",
    "        # time.sleep(0.1)\n",
    "        panda.set_joint_angles(q2)\n",
    "        frame.set_pose(SE3(to_wxyzxyz(ee_posevecs[1])))\n",
    "        time.sleep(1.)\n",
    "        return True    \n",
    "\n",
    "# mid_steps = 2\n",
    "# pick_idx = mid_steps\n",
    "# place_idx = mid_steps*2+1\n",
    "# class TravelledDistance(PyCeres.CostFunction):\n",
    "#     def __init__(self):\n",
    "#         super().__init__()\n",
    "#         self.q0 = panda.neutral\n",
    "#         q_num = (mid_steps*3+2)\n",
    "#         in_dim = 7*q_num\n",
    "#         self.set_num_residuals(in_dim+1)\n",
    "#         self.set_parameter_block_sizes([7]*q_num)\n",
    "#         self.Iblock = np.vstack([-np.eye(7), np.eye(7)])\n",
    "    \n",
    "#     def Evaluate(self, parameters, residuals, jacobians):\n",
    "#         q1, q2 = parameters[0], parameters[1]\n",
    "#         qerr1 = self.q0 - q1\n",
    "#         qerr2 = q1 - q2\n",
    "#         qerr3 = q2 - self.q0\n",
    "#         qerr = np.hstack([qerr1, qerr2, qerr3])\n",
    "#         if (jacobians != None):\n",
    "#             jacobians[0][:] = jnp.pad(self.Iblock, ((0,7),(0,0))).flatten()*0.001\n",
    "#             jacobians[1][:] = jnp.pad(self.Iblock, ((7,0),(0,0))).flatten()*0.001\n",
    "#         residuals[:] = qerr*0.001\n",
    "#         return True\n",
    "\n",
    "class ConfigDiff(PyCeres.CostFunction):\n",
    "    def __init__(self, q):\n",
    "        super().__init__()\n",
    "        self.q_target = q\n",
    "        self.set_num_residuals(7)\n",
    "        self.set_parameter_block_sizes([7])\n",
    "        self.weight = 0.01\n",
    "\n",
    "    def Evaluate(self, parameters, residuals, jacobians):\n",
    "        q = parameters[0]\n",
    "        qerr = (self.q_target - q) * self.weight\n",
    "        residuals[:] = qerr\n",
    "        if (jacobians != None):\n",
    "            jacobians[0][:] = - np.eye(7).flatten() * self.weight\n",
    "        return True\n",
    "\n",
    "class ConfigDiffBetween(PyCeres.CostFunction):\n",
    "    def __init__(self):\n",
    "        super().__init__()\n",
    "        self.set_num_residuals(7)\n",
    "        self.set_parameter_block_sizes([7,7])\n",
    "        self.weight = 0.01\n",
    "\n",
    "    def Evaluate(self, parameters, residuals, jacobians):\n",
    "        q1, q2 = parameters[0], parameters[1]\n",
    "        qerr = (q1-q2)*self.weight\n",
    "        residuals[:] = qerr\n",
    "        if (jacobians != None):\n",
    "            jacobians[0][:] = np.eye(7).flatten() * self.weight\n",
    "            jacobians[1][:] = - np.eye(7).flatten() * self.weight\n",
    "        return True\n"
   ]
  },
  {
   "cell_type": "code",
   "execution_count": 163,
   "metadata": {},
   "outputs": [],
   "source": [
    "mid_steps = 2\n",
    "pick_idx = mid_steps\n",
    "place_idx = mid_steps*2+1\n",
    "q_num = mid_steps*3+2\n",
    "qs = np.tile(panda.neutral, q_num).reshape(-1, 7)"
   ]
  },
  {
   "cell_type": "code",
   "execution_count": 164,
   "metadata": {},
   "outputs": [
    {
     "name": "stdout",
     "output_type": "stream",
     "text": [
      "iter      cost      cost_change  |gradient|   |step|    tr_ratio  tr_radius  ls_iter  iter_time  total_time\n",
      "   0  2.062161e+01    0.00e+00    4.80e+00   0.00e+00   0.00e+00  1.00e+04        0    1.01e+00    1.01e+00\n",
      "   1  4.185447e+00    1.64e+01    1.92e+00   1.54e+01   7.97e-01  1.27e+04        1    2.03e+00    3.05e+00\n",
      "   2  3.422278e+00    7.63e-01    2.63e+00   9.69e+00   1.82e-01  1.01e+04        1    2.05e+00    5.10e+00\n",
      "   3  4.522949e+00   -1.10e+00    2.63e+00   5.33e+01  -3.32e-01  5.04e+03        1    1.04e+00    6.13e+00\n",
      "   4  6.379828e+00   -2.96e+00    2.63e+00   4.51e+01  -9.02e-01  1.26e+03        1    1.01e+00    7.15e+00\n",
      "   5  5.553830e+00   -2.13e+00    2.63e+00   2.35e+01  -6.94e-01  1.57e+02        1    1.02e+00    8.16e+00\n",
      "   6  9.432352e-01    2.48e+00    1.21e+00   4.70e+00   8.96e-01  3.14e+02        1    2.10e+00    1.03e+01\n",
      "   7  1.530258e+01   -1.44e+01    1.21e+00   4.86e+00  -1.54e+01  1.57e+02        1    1.03e+00    1.13e+01\n",
      "   8  1.591114e+01   -1.50e+01    1.21e+00   4.40e+00  -1.61e+01  3.92e+01        1    1.02e+00    1.23e+01\n",
      "   9  1.817242e+01   -1.72e+01    1.21e+00   3.03e+00  -1.94e+01  4.90e+00        1    1.02e+00    1.33e+01\n",
      "  10  1.898721e-01    7.53e-01    2.68e-01   1.07e+00   1.04e+00  1.47e+01        1    2.03e+00    1.54e+01\n",
      "  11  1.265856e-01    6.33e-02    4.67e-02   9.82e-01   9.42e-01  4.41e+01        1    2.05e+00    1.74e+01\n",
      "  12  8.814519e-02    3.84e-02    2.13e-01   1.31e+00   7.91e-01  5.50e+01        1    2.05e+00    1.95e+01\n",
      "  13  4.810260e-02    4.00e-02    1.89e-01   1.36e+00   6.65e-01  5.70e+01        1    2.05e+00    2.15e+01\n",
      "  14  1.331284e-02    3.48e-02    5.75e-02   8.07e-01   9.38e-01  1.71e+02        1    2.07e+00    2.36e+01\n",
      "  15  7.366778e-03    5.95e-03    4.75e-02   7.13e-01   8.49e-01  2.59e+02        1    2.07e+00    2.57e+01\n",
      "  16  5.993151e-03    1.37e-03    2.84e-02   4.16e-01   8.32e-01  3.65e+02        1    2.06e+00    2.77e+01\n",
      "  17  5.661466e-03    3.32e-04    2.24e-02   2.78e-01   7.26e-01  4.03e+02        1    2.06e+00    2.98e+01\n",
      "  18  5.492961e-03    1.69e-04    1.23e-02   2.11e-01   8.31e-01  5.68e+02        1    2.07e+00    3.18e+01\n",
      "  19  5.401957e-03    9.10e-05    1.04e-02   2.56e-01   8.04e-01  7.32e+02        1    2.05e+00    3.39e+01\n",
      "  20  5.301620e-03    1.00e-04    6.72e-03   3.12e-01   9.10e-01  1.63e+03        1    2.04e+00    3.59e+01\n"
     ]
    },
    {
     "ename": "TypeError",
     "evalue": "Cannot determine dtype of [[-2.6727405 -1.2061212  4.1728516 -6.379529  -4.1083183  5.074463\n   9.221579 ]]",
     "output_type": "error",
     "traceback": [
      "\u001b[0;31m---------------------------------------------------------------------------\u001b[0m",
      "\u001b[0;31mTypeError\u001b[0m                                 Traceback (most recent call last)",
      "File \u001b[0;32m~/miniconda3/envs/cu11/lib/python3.8/site-packages/jax/_src/dtypes.py:611\u001b[0m, in \u001b[0;36mdtype\u001b[0;34m(x, canonicalize)\u001b[0m\n\u001b[1;32m    610\u001b[0m \u001b[39mtry\u001b[39;00m:\n\u001b[0;32m--> 611\u001b[0m   dt \u001b[39m=\u001b[39m np\u001b[39m.\u001b[39;49mresult_type(x)\n\u001b[1;32m    612\u001b[0m \u001b[39mexcept\u001b[39;00m \u001b[39mTypeError\u001b[39;00m \u001b[39mas\u001b[39;00m err:\n",
      "File \u001b[0;32m<__array_function__ internals>:200\u001b[0m, in \u001b[0;36mresult_type\u001b[0;34m(*args, **kwargs)\u001b[0m\n",
      "\u001b[0;31mTypeError\u001b[0m: Cannot interpret 'Array([[-2.6727405, -1.2061212,  4.1728516, -6.379529 , -4.1083183,\n         5.074463 ,  9.221579 ]], dtype=float32)' as a data type",
      "\nThe above exception was the direct cause of the following exception:\n",
      "\u001b[0;31mTypeError\u001b[0m                                 Traceback (most recent call last)",
      "Cell \u001b[0;32mIn[164], line 15\u001b[0m\n\u001b[1;32m     13\u001b[0m options\u001b[39m.\u001b[39mminimizer_progress_to_stdout \u001b[39m=\u001b[39m \u001b[39mTrue\u001b[39;00m\n\u001b[1;32m     14\u001b[0m summary \u001b[39m=\u001b[39m PyCeres\u001b[39m.\u001b[39mSummary()\n\u001b[0;32m---> 15\u001b[0m PyCeres\u001b[39m.\u001b[39;49mSolve(options, problem, summary)\n",
      "Cell \u001b[0;32mIn[162], line 42\u001b[0m, in \u001b[0;36mIK2.Evaluate\u001b[0;34m(self, parameters, residuals, jacobians)\u001b[0m\n\u001b[1;32m     37\u001b[0m \u001b[39mdef\u001b[39;00m \u001b[39mEvaluate\u001b[39m(\u001b[39mself\u001b[39m, parameters, residuals, jacobians):\n\u001b[1;32m     38\u001b[0m     \u001b[39m#parameters = [q1, q2]\u001b[39;00m\n\u001b[1;32m     39\u001b[0m     \u001b[39m#residuals = [err1_err2]\u001b[39;00m\n\u001b[1;32m     40\u001b[0m     \u001b[39m#jacobians = [jac_q1, jac_q2]\u001b[39;00m\n\u001b[1;32m     41\u001b[0m     q1, q2 \u001b[39m=\u001b[39m parameters[\u001b[39m0\u001b[39m], parameters[\u001b[39m1\u001b[39m]\n\u001b[0;32m---> 42\u001b[0m     ee_posevecs, jacs \u001b[39m=\u001b[39m jax\u001b[39m.\u001b[39mvmap(get_ee_fk_jac)(jnp\u001b[39m.\u001b[39;49mvstack([q1,q2]))\n\u001b[1;32m     43\u001b[0m     err \u001b[39m=\u001b[39m \u001b[39mself\u001b[39m\u001b[39m.\u001b[39mtarget_posevecs \u001b[39m-\u001b[39m jnp\u001b[39m.\u001b[39mhstack(ee_posevecs)\n\u001b[1;32m     44\u001b[0m     \u001b[39mif\u001b[39;00m (jacobians \u001b[39m!=\u001b[39m \u001b[39mNone\u001b[39;00m):\n",
      "File \u001b[0;32m~/miniconda3/envs/cu11/lib/python3.8/site-packages/jax/_src/numpy/lax_numpy.py:1786\u001b[0m, in \u001b[0;36mvstack\u001b[0;34m(tup, dtype)\u001b[0m\n\u001b[1;32m   1784\u001b[0m \u001b[39melse\u001b[39;00m:\n\u001b[1;32m   1785\u001b[0m   arrs \u001b[39m=\u001b[39m [atleast_2d(m) \u001b[39mfor\u001b[39;00m m \u001b[39min\u001b[39;00m tup]\n\u001b[0;32m-> 1786\u001b[0m \u001b[39mreturn\u001b[39;00m concatenate(arrs, axis\u001b[39m=\u001b[39;49m\u001b[39m0\u001b[39;49m, dtype\u001b[39m=\u001b[39;49mdtype)\n",
      "File \u001b[0;32m~/miniconda3/envs/cu11/lib/python3.8/site-packages/jax/_src/numpy/lax_numpy.py:1766\u001b[0m, in \u001b[0;36mconcatenate\u001b[0;34m(arrays, axis, dtype)\u001b[0m\n\u001b[1;32m   1764\u001b[0m axis \u001b[39m=\u001b[39m _canonicalize_axis(axis, ndim(arrays[\u001b[39m0\u001b[39m]))\n\u001b[1;32m   1765\u001b[0m \u001b[39mif\u001b[39;00m dtype \u001b[39mis\u001b[39;00m \u001b[39mNone\u001b[39;00m:\n\u001b[0;32m-> 1766\u001b[0m   arrays_out \u001b[39m=\u001b[39m util\u001b[39m.\u001b[39;49mpromote_dtypes(\u001b[39m*\u001b[39;49marrays)\n\u001b[1;32m   1767\u001b[0m \u001b[39melse\u001b[39;00m:\n\u001b[1;32m   1768\u001b[0m   arrays_out \u001b[39m=\u001b[39m [asarray(arr, dtype\u001b[39m=\u001b[39mdtype) \u001b[39mfor\u001b[39;00m arr \u001b[39min\u001b[39;00m arrays]\n",
      "File \u001b[0;32m~/miniconda3/envs/cu11/lib/python3.8/site-packages/jax/_src/numpy/util.py:282\u001b[0m, in \u001b[0;36mpromote_dtypes\u001b[0;34m(*args)\u001b[0m\n\u001b[1;32m    280\u001b[0m   \u001b[39mreturn\u001b[39;00m [_asarray(arg) \u001b[39mfor\u001b[39;00m arg \u001b[39min\u001b[39;00m args]\n\u001b[1;32m    281\u001b[0m \u001b[39melse\u001b[39;00m:\n\u001b[0;32m--> 282\u001b[0m   to_dtype, weak_type \u001b[39m=\u001b[39m dtypes\u001b[39m.\u001b[39;49m_lattice_result_type(\u001b[39m*\u001b[39;49margs)\n\u001b[1;32m    283\u001b[0m   to_dtype \u001b[39m=\u001b[39m dtypes\u001b[39m.\u001b[39mcanonicalize_dtype(to_dtype)\n\u001b[1;32m    284\u001b[0m   \u001b[39mreturn\u001b[39;00m [lax\u001b[39m.\u001b[39m_convert_element_type(x, to_dtype, weak_type) \u001b[39mfor\u001b[39;00m x \u001b[39min\u001b[39;00m args]\n",
      "File \u001b[0;32m~/miniconda3/envs/cu11/lib/python3.8/site-packages/jax/_src/dtypes.py:620\u001b[0m, in \u001b[0;36m_lattice_result_type\u001b[0;34m(*args)\u001b[0m\n\u001b[1;32m    619\u001b[0m \u001b[39mdef\u001b[39;00m \u001b[39m_lattice_result_type\u001b[39m(\u001b[39m*\u001b[39margs: Any) \u001b[39m-\u001b[39m\u001b[39m>\u001b[39m Tuple[DType, \u001b[39mbool\u001b[39m]:\n\u001b[0;32m--> 620\u001b[0m   dtypes, weak_types \u001b[39m=\u001b[39m \u001b[39mzip\u001b[39;49m(\u001b[39m*\u001b[39;49m(_dtype_and_weaktype(arg) \u001b[39mfor\u001b[39;49;00m arg \u001b[39min\u001b[39;49;00m args))\n\u001b[1;32m    621\u001b[0m   \u001b[39mif\u001b[39;00m \u001b[39mlen\u001b[39m(dtypes) \u001b[39m==\u001b[39m \u001b[39m1\u001b[39m:\n\u001b[1;32m    622\u001b[0m     out_dtype \u001b[39m=\u001b[39m dtypes[\u001b[39m0\u001b[39m]\n",
      "File \u001b[0;32m~/miniconda3/envs/cu11/lib/python3.8/site-packages/jax/_src/dtypes.py:620\u001b[0m, in \u001b[0;36m<genexpr>\u001b[0;34m(.0)\u001b[0m\n\u001b[1;32m    619\u001b[0m \u001b[39mdef\u001b[39;00m \u001b[39m_lattice_result_type\u001b[39m(\u001b[39m*\u001b[39margs: Any) \u001b[39m-\u001b[39m\u001b[39m>\u001b[39m Tuple[DType, \u001b[39mbool\u001b[39m]:\n\u001b[0;32m--> 620\u001b[0m   dtypes, weak_types \u001b[39m=\u001b[39m \u001b[39mzip\u001b[39m(\u001b[39m*\u001b[39m(_dtype_and_weaktype(arg) \u001b[39mfor\u001b[39;00m arg \u001b[39min\u001b[39;00m args))\n\u001b[1;32m    621\u001b[0m   \u001b[39mif\u001b[39;00m \u001b[39mlen\u001b[39m(dtypes) \u001b[39m==\u001b[39m \u001b[39m1\u001b[39m:\n\u001b[1;32m    622\u001b[0m     out_dtype \u001b[39m=\u001b[39m dtypes[\u001b[39m0\u001b[39m]\n",
      "File \u001b[0;32m~/miniconda3/envs/cu11/lib/python3.8/site-packages/jax/_src/dtypes.py:459\u001b[0m, in \u001b[0;36m_dtype_and_weaktype\u001b[0;34m(value)\u001b[0m\n\u001b[1;32m    457\u001b[0m \u001b[39mdef\u001b[39;00m \u001b[39m_dtype_and_weaktype\u001b[39m(value: Any) \u001b[39m-\u001b[39m\u001b[39m>\u001b[39m Tuple[DType, \u001b[39mbool\u001b[39m]:\n\u001b[1;32m    458\u001b[0m \u001b[39m  \u001b[39m\u001b[39m\"\"\"Return a (dtype, weak_type) tuple for the given input.\"\"\"\u001b[39;00m\n\u001b[0;32m--> 459\u001b[0m   \u001b[39mreturn\u001b[39;00m dtype(value), \u001b[39many\u001b[39m(value \u001b[39mis\u001b[39;00m typ \u001b[39mfor\u001b[39;00m typ \u001b[39min\u001b[39;00m _weak_types) \u001b[39mor\u001b[39;00m is_weakly_typed(value)\n",
      "File \u001b[0;32m~/miniconda3/envs/cu11/lib/python3.8/site-packages/jax/_src/dtypes.py:613\u001b[0m, in \u001b[0;36mdtype\u001b[0;34m(x, canonicalize)\u001b[0m\n\u001b[1;32m    611\u001b[0m     dt \u001b[39m=\u001b[39m np\u001b[39m.\u001b[39mresult_type(x)\n\u001b[1;32m    612\u001b[0m   \u001b[39mexcept\u001b[39;00m \u001b[39mTypeError\u001b[39;00m \u001b[39mas\u001b[39;00m err:\n\u001b[0;32m--> 613\u001b[0m     \u001b[39mraise\u001b[39;00m \u001b[39mTypeError\u001b[39;00m(\u001b[39mf\u001b[39m\u001b[39m\"\u001b[39m\u001b[39mCannot determine dtype of \u001b[39m\u001b[39m{\u001b[39;00mx\u001b[39m}\u001b[39;00m\u001b[39m\"\u001b[39m) \u001b[39mfrom\u001b[39;00m \u001b[39merr\u001b[39;00m\n\u001b[1;32m    614\u001b[0m \u001b[39mif\u001b[39;00m dt \u001b[39mnot\u001b[39;00m \u001b[39min\u001b[39;00m _jax_dtype_set:\n\u001b[1;32m    615\u001b[0m   \u001b[39mraise\u001b[39;00m \u001b[39mTypeError\u001b[39;00m(\u001b[39mf\u001b[39m\u001b[39m\"\u001b[39m\u001b[39mValue \u001b[39m\u001b[39m'\u001b[39m\u001b[39m{\u001b[39;00mx\u001b[39m}\u001b[39;00m\u001b[39m'\u001b[39m\u001b[39m with dtype \u001b[39m\u001b[39m{\u001b[39;00mdt\u001b[39m}\u001b[39;00m\u001b[39m is not a valid JAX array \u001b[39m\u001b[39m\"\u001b[39m\n\u001b[1;32m    616\u001b[0m                   \u001b[39m\"\u001b[39m\u001b[39mtype. Only arrays of numeric types are supported by JAX.\u001b[39m\u001b[39m\"\u001b[39m)\n",
      "\u001b[0;31mTypeError\u001b[0m: Cannot determine dtype of [[-2.6727405 -1.2061212  4.1728516 -6.379529  -4.1083183  5.074463\n   9.221579 ]]"
     ]
    }
   ],
   "source": [
    "problem = PyCeres.Problem()\n",
    "feat_dist = ConfigDiffBetween()\n",
    "feat_boundary = ConfigDiff(panda.neutral)\n",
    "feat_ik2 = IK2(grasp, [obj_start.pose, obj_goal.pose])\n",
    "for i in range(0, q_num-1):\n",
    "    problem.AddResidualBlock(feat_dist, None, qs[i], qs[i+1])\n",
    "problem.AddResidualBlock(feat_boundary, None, qs[0])\n",
    "problem.AddResidualBlock(feat_boundary, None, qs[-1])\n",
    "problem.AddResidualBlock(feat_ik2, None, qs[pick_idx], qs[place_idx])\n",
    "\n",
    "options = PyCeres.SolverOptions()\n",
    "options.linear_solver_type = PyCeres.LinearSolverType.SPARSE_NORMAL_CHOLESKY\n",
    "options.minimizer_progress_to_stdout = True\n",
    "summary = PyCeres.Summary()\n",
    "PyCeres.Solve(options, problem, summary)"
   ]
  },
  {
   "cell_type": "code",
   "execution_count": 143,
   "metadata": {},
   "outputs": [],
   "source": [
    "i = 0"
   ]
  },
  {
   "cell_type": "code",
   "execution_count": 152,
   "metadata": {},
   "outputs": [
    {
     "ename": "IndexError",
     "evalue": "index 8 is out of bounds for axis 0 with size 8",
     "output_type": "error",
     "traceback": [
      "\u001b[0;31m---------------------------------------------------------------------------\u001b[0m",
      "\u001b[0;31mIndexError\u001b[0m                                Traceback (most recent call last)",
      "Cell \u001b[0;32mIn[152], line 1\u001b[0m\n\u001b[0;32m----> 1\u001b[0m panda\u001b[39m.\u001b[39mset_joint_angles(qs[i])\n\u001b[1;32m      2\u001b[0m i \u001b[39m+\u001b[39m\u001b[39m=\u001b[39m \u001b[39m1\u001b[39m\n",
      "\u001b[0;31mIndexError\u001b[0m: index 8 is out of bounds for axis 0 with size 8"
     ]
    }
   ],
   "source": [
    "panda.set_joint_angles(qs[i])\n",
    "i += 1"
   ]
  },
  {
   "cell_type": "code",
   "execution_count": 407,
   "metadata": {},
   "outputs": [],
   "source": [
    "q = panda.neutral\n",
    "panda.set_joint_angles(q)\n",
    "ee_posevec, jac = get_ee_fk_jac(q)\n",
    "frame.set_pose(SE3(to_wxyzxyz(ee_posevec)))\n",
    "\n",
    "target_pose = (obj_goal.pose @ grasp_reconst(grasp))\n",
    "target_posevec = to_posevec(target_pose.parameters())\n",
    "frame2.set_pose(SE3(to_wxyzxyz(target_posevec)))\n",
    "\n",
    "ee_posevec, jac = get_ee_fk_jac(q)\n",
    "err = target_posevec - ee_posevec\n",
    "d = - jnp.linalg.pinv(jac.T@jac).T@(-jac.T)@err\n",
    "\n",
    "q += d*0.05\n",
    "panda.set_joint_angles(q)\n",
    "frame.set_pose(SE3(to_wxyzxyz(ee_posevec)))"
   ]
  },
  {
   "cell_type": "code",
   "execution_count": 408,
   "metadata": {},
   "outputs": [],
   "source": [
    "target_pose = (obj_goal.pose @ grasp_reconst(grasp))\n",
    "target_posevec = to_posevec(target_pose.parameters())\n",
    "frame2.set_pose(SE3(to_wxyzxyz(target_posevec)))"
   ]
  },
  {
   "cell_type": "code",
   "execution_count": 466,
   "metadata": {},
   "outputs": [],
   "source": [
    "ee_posevec, jac = get_ee_fk_jac(q)\n",
    "err = target_posevec - ee_posevec\n",
    "d = - jnp.linalg.pinv(jac.T@jac).T@(-jac.T)@err\n",
    "\n",
    "q += d*0.05\n",
    "panda.set_joint_angles(q)\n",
    "frame.set_pose(SE3(to_wxyzxyz(ee_posevec)))"
   ]
  },
  {
   "cell_type": "code",
   "execution_count": 182,
   "metadata": {},
   "outputs": [
    {
     "data": {
      "text/plain": [
       "Array([ 1.1487997, -2.256655 ,  1.1487826, -4.188451 , -6.3163266,\n",
       "        4.429671 ,  4.023236 ], dtype=float32)"
      ]
     },
     "execution_count": 182,
     "metadata": {},
     "output_type": "execute_result"
    }
   ],
   "source": [
    "d"
   ]
  },
  {
   "cell_type": "code",
   "execution_count": 166,
   "metadata": {},
   "outputs": [
    {
     "name": "stdout",
     "output_type": "stream",
     "text": [
      "iter      cost      cost_change  |gradient|   |step|    tr_ratio  tr_radius  ls_iter  iter_time  total_time\n",
      "   0  1.804322e+01    0.00e+00    4.80e+00   0.00e+00   0.00e+00  1.00e+04        0    1.45e-01    1.45e-01\n",
      "   1  3.617087e+00    1.44e+01    1.93e+00   1.00e+01   8.00e-01  1.27e+04        1    2.11e-01    3.56e-01\n",
      "   2  7.131869e+00   -3.51e+00    1.93e+00   6.44e+00  -9.72e-01  6.37e+03        1    1.08e-01    4.65e-01\n",
      "   3  7.135639e+00   -3.52e+00    1.93e+00   6.42e+00  -9.73e-01  1.59e+03        1    1.21e-01    5.85e-01\n",
      "   4  7.170883e+00   -3.55e+00    1.93e+00   6.30e+00  -9.83e-01  1.99e+02        1    1.16e-01    7.01e-01\n",
      "   5  8.156652e+00   -4.54e+00    1.93e+00   5.46e+00  -1.26e+00  1.24e+01        1    1.05e-01    8.06e-01\n",
      "   6  1.946371e+01   -1.58e+01    1.93e+00   2.63e+00  -4.78e+00  3.89e-01        1    1.20e-01    9.26e-01\n",
      "   7  1.925257e+00    1.69e+00    1.49e+00   6.80e-01   9.59e-01  1.17e+00        1    2.41e-01    1.17e+00\n",
      "   8  7.193471e-01    1.21e+00    7.70e-01   8.63e-01   1.04e+00  3.50e+00        1    2.41e-01    1.41e+00\n",
      "   9  3.519492e-01    3.67e-01    2.38e-01   7.27e-01   9.60e-01  1.05e+01        1    2.37e-01    1.65e+00\n",
      "  10  2.213318e-01    1.31e-01    1.52e-01   8.69e-01   8.20e-01  1.42e+01        1    2.23e-01    1.87e+00\n",
      "  11  1.827610e-01    3.86e-02    5.72e-02   5.22e-01   8.21e-01  1.93e+01        1    2.25e-01    2.09e+00\n",
      "  12  1.684422e-01    1.43e-02    2.68e-02   3.49e-01   9.15e-01  4.50e+01        1    2.40e-01    2.33e+00\n",
      "  13  1.221839e-01    4.63e-02    6.49e-02   7.39e-01   1.54e+00  1.35e+02        1    2.40e-01    2.57e+00\n",
      "  14  1.920431e+01   -1.91e+01    6.49e-02   1.75e+00  -2.02e+02  6.75e+01        1    1.04e-01    2.68e+00\n",
      "  15  1.941443e+01   -1.93e+01    6.49e-02   1.24e+00  -2.54e+02  1.69e+01        1    1.05e-01    2.78e+00\n",
      "  16  7.235168e-02    4.98e-02    9.11e-02   5.53e-01   1.23e+00  5.06e+01        1    2.42e-01    3.02e+00\n",
      "  17  1.322895e-02    5.91e-02    5.02e-02   8.87e-01   1.05e+00  1.52e+02        1    2.28e-01    3.25e+00\n",
      "  18  9.365188e-04    1.23e-02    8.06e-03   5.22e-01   9.70e-01  4.56e+02        1    2.26e-01    3.48e+00\n",
      "  19  2.149506e-05    9.15e-04    1.89e-03   1.89e-01   9.90e-01  1.37e+03        1    2.44e-01    3.72e+00\n",
      "  20  6.721897e-08    2.14e-05    6.33e-05   3.31e-02   9.99e-01  4.10e+03        1    2.21e-01    3.94e+00\n",
      "  21  2.270076e-11    6.72e-08    1.79e-06   1.97e-03   1.00e+00  1.23e+04        1    2.31e-01    4.17e+00\n",
      "  22  1.443567e-13    2.26e-11    5.30e-07   3.67e-05   9.94e-01  3.69e+04        1    2.40e-01    4.41e+00\n",
      "  23  1.858028e-13   -4.14e-14    5.30e-07   6.63e-07  -2.87e-01  1.85e+04        1    1.21e-01    4.54e+00\n",
      "  24  1.858028e-13   -4.14e-14    5.30e-07   6.62e-07  -2.87e-01  4.62e+03        1    1.19e-01    4.65e+00\n",
      "  25  1.858028e-13   -4.14e-14    5.30e-07   6.58e-07  -2.87e-01  5.77e+02        1    1.13e-01    4.77e+00\n",
      "  26  7.041659e-13   -5.60e-13    5.30e-07   6.25e-07  -3.88e+00  3.61e+01        1    1.19e-01    4.89e+00\n",
      "  27  7.041659e-13   -5.60e-13    5.30e-07   4.34e-07  -3.94e+00  1.13e+00        1    1.20e-01    5.01e+00\n",
      "  28  6.228351e-14    8.21e-14    2.96e-07   1.92e-07   7.22e-01  1.23e+00        1    2.37e-01    5.24e+00\n"
     ]
    }
   ],
   "source": [
    "problem = PyCeres.Problem()\n",
    "q = panda.neutral.copy()\n",
    "# feat_dist = ConfigDiffBetween()\n",
    "# feat_boundary = ConfigDiff(panda.neutral)\n",
    "feat_ik = IK(grasp)\n",
    "# for i in range(0, q_num-1):\n",
    "#     problem.AddResidualBlock(feat_dist, None, qs[i], qs[i+1])\n",
    "# problem.AddResidualBlock(feat_boundary, None, qs[0])\n",
    "# problem.AddResidualBlock(feat_boundary, None, qs[-1])\n",
    "problem.AddResidualBlock(feat_ik, None, q)\n",
    "\n",
    "options = PyCeres.SolverOptions()\n",
    "options.linear_solver_type = PyCeres.LinearSolverType.SPARSE_NORMAL_CHOLESKY\n",
    "options.minimizer_progress_to_stdout = True\n",
    "summary = PyCeres.Summary()\n",
    "PyCeres.Solve(options, problem, summary)"
   ]
  },
  {
   "cell_type": "code",
   "execution_count": 89,
   "metadata": {},
   "outputs": [],
   "source": [
    "qs = np.tile(panda.neutral).reshape(-1, 7)\n",
    "q2 = np.array(panda.neutral)\n",
    "feat_ik2 = IK2(grasp, [obj_start.pose, obj_goal.pose])\n",
    "feat_dist = TravelledDistance()\n",
    "panda.set_joint_angles(q1)"
   ]
  },
  {
   "cell_type": "code",
   "execution_count": 90,
   "metadata": {},
   "outputs": [
    {
     "name": "stdout",
     "output_type": "stream",
     "text": [
      "iter      cost      cost_change  |gradient|   |step|    tr_ratio  tr_radius  ls_iter  iter_time  total_time\n",
      "   0  2.062161e+01    0.00e+00    4.80e+00   0.00e+00   0.00e+00  1.00e+04        0    2.19e-01    2.19e-01\n",
      "   1  4.194706e+00    1.64e+01    1.93e+00   1.02e+01   7.97e-01  1.26e+04        1    4.68e-01    6.87e-01\n",
      "   2  6.949550e+00   -2.75e+00    1.93e+00   6.52e+00  -6.57e-01  6.32e+03        1    2.26e-01    9.13e-01\n",
      "   3  7.074964e+00   -2.88e+00    1.93e+00   6.50e+00  -6.87e-01  1.58e+03        1    2.47e-01    1.16e+00\n",
      "   4  7.203941e+00   -3.01e+00    1.93e+00   6.38e+00  -7.17e-01  1.97e+02        1    2.21e-01    1.38e+00\n",
      "   5  8.223922e+00   -4.03e+00    1.93e+00   5.53e+00  -9.64e-01  1.23e+01        1    2.39e-01    1.62e+00\n",
      "   6  1.950366e+01   -1.53e+01    1.93e+00   2.70e+00  -3.94e+00  3.86e-01        1    2.30e-01    1.85e+00\n",
      "   7  2.096153e+00    2.10e+00    1.49e+00   7.29e-01   9.69e-01  1.16e+00        1    4.61e-01    2.31e+00\n",
      "   8  7.523395e-01    1.34e+00    7.75e-01   8.87e-01   1.03e+00  3.47e+00        1    4.77e-01    2.79e+00\n",
      "   9  3.672182e-01    3.85e-01    2.39e-01   7.38e-01   9.62e-01  1.04e+01        1    4.82e-01    3.27e+00\n",
      "  10  2.285111e-01    1.39e-01    1.52e-01   8.91e-01   8.29e-01  1.46e+01        1    4.85e-01    3.75e+00\n",
      "  11  1.852040e-01    4.33e-02    5.79e-02   5.63e-01   8.29e-01  2.04e+01        1    4.63e-01    4.22e+00\n",
      "  12  1.686056e-01    1.66e-02    2.66e-02   3.86e-01   9.27e-01  5.39e+01        1    4.79e-01    4.70e+00\n",
      "  13  1.129841e-01    5.56e-02    6.55e-02   8.68e-01   1.57e+00  1.62e+02        1    4.80e-01    5.18e+00\n",
      "  14  1.926680e+01   -1.92e+01    6.55e-02   1.78e+00  -2.01e+02  8.08e+01        1    2.24e-01    5.40e+00\n",
      "  15  1.939822e+01   -1.93e+01    6.55e-02   1.32e+00  -2.38e+02  2.02e+01        1    2.27e-01    5.63e+00\n",
      "  16  5.593781e-02    5.70e-02    9.02e-02   6.32e-01   1.20e+00  6.06e+01        1    4.77e-01    6.11e+00\n",
      "  17  8.320691e-03    4.76e-02    3.99e-02   8.37e-01   1.01e+00  1.82e+02        1    4.71e-01    6.58e+00\n",
      "  18  6.528689e-04    7.67e-03    7.49e-03   4.39e-01   9.74e-01  5.46e+02        1    4.93e-01    7.07e+00\n",
      "  19  1.413798e-04    5.11e-04    1.60e-03   1.46e-01   9.92e-01  1.64e+03        1    4.75e-01    7.54e+00\n",
      "  20  1.321600e-04    9.22e-06    2.14e-04   2.34e-02   9.99e-01  4.91e+03        1    4.78e-01    8.02e+00\n",
      "  21  1.319019e-04    2.58e-07    2.18e-04   2.53e-02   9.61e-01  1.47e+04        1    4.81e-01    8.50e+00\n",
      "  22  1.319556e-04   -5.37e-08    2.18e-04   7.45e-02  -7.58e-02  7.37e+03        1    2.46e-01    8.75e+00\n",
      "  23  1.315886e-04    3.13e-07    4.89e-04   3.76e-02   8.62e-01  1.19e+04        1    4.75e-01    9.22e+00\n",
      "  24  1.313005e-04    2.88e-07    1.22e-03   5.96e-02   4.79e-01  1.19e+04        1    4.79e-01    9.70e+00\n",
      "  25  1.307533e-04    5.47e-07    1.17e-03   5.86e-02   6.48e-01  1.22e+04        1    4.65e-01    1.02e+01\n",
      "  26  1.302426e-04    5.11e-07    1.19e-03   5.91e-02   6.19e-01  1.23e+04        1    4.67e-01    1.06e+01\n",
      "  27  1.297272e-04    5.15e-07    1.18e-03   5.90e-02   6.20e-01  1.25e+04        1    4.57e-01    1.11e+01\n",
      "  28  1.292231e-04    5.04e-07    1.18e-03   5.89e-02   6.11e-01  1.27e+04        1    4.72e-01    1.16e+01\n",
      "  29  1.287279e-04    4.95e-07    1.18e-03   5.87e-02   6.05e-01  1.28e+04        1    4.88e-01    1.21e+01\n",
      "  30  1.282401e-04    4.88e-07    1.18e-03   5.84e-02   6.01e-01  1.29e+04        1    4.80e-01    1.25e+01\n",
      "  31  1.277618e-04    4.78e-07    1.18e-03   5.81e-02   5.95e-01  1.30e+04        1    4.48e-01    1.30e+01\n",
      "  32  1.272911e-04    4.71e-07    1.18e-03   5.78e-02   5.92e-01  1.31e+04        1    4.59e-01    1.34e+01\n",
      "  33  1.268305e-04    4.61e-07    1.17e-03   5.75e-02   5.87e-01  1.31e+04        1    4.83e-01    1.39e+01\n",
      "  34  1.263778e-04    4.53e-07    1.17e-03   5.71e-02   5.83e-01  1.32e+04        1    4.84e-01    1.44e+01\n",
      "  35  1.259319e-04    4.46e-07    1.16e-03   5.67e-02   5.80e-01  1.32e+04        1    4.70e-01    1.49e+01\n",
      "  36  1.254941e-04    4.38e-07    1.16e-03   5.64e-02   5.77e-01  1.33e+04        1    4.52e-01    1.53e+01\n",
      "  37  1.250640e-04    4.30e-07    1.15e-03   5.60e-02   5.74e-01  1.33e+04        1    5.07e-01    1.58e+01\n",
      "  38  1.246405e-04    4.24e-07    1.15e-03   5.57e-02   5.71e-01  1.34e+04        1    4.70e-01    1.63e+01\n",
      "  39  1.242231e-04    4.17e-07    1.14e-03   5.54e-02   5.70e-01  1.34e+04        1    4.78e-01    1.68e+01\n",
      "  40  1.238130e-04    4.10e-07    1.14e-03   5.50e-02   5.67e-01  1.34e+04        1    4.92e-01    1.73e+01\n",
      "  41  1.234071e-04    4.06e-07    1.13e-03   5.47e-02   5.67e-01  1.35e+04        1    4.92e-01    1.78e+01\n",
      "  42  1.230088e-04    3.98e-07    1.12e-03   5.44e-02   5.64e-01  1.35e+04        1    4.91e-01    1.83e+01\n",
      "  43  1.226144e-04    3.94e-07    1.12e-03   5.41e-02   5.64e-01  1.35e+04        1    4.83e-01    1.87e+01\n",
      "  44  1.222264e-04    3.88e-07    1.11e-03   5.39e-02   5.62e-01  1.36e+04        1    4.84e-01    1.92e+01\n",
      "  45  1.218417e-04    3.85e-07    1.10e-03   5.36e-02   5.63e-01  1.36e+04        1    4.89e-01    1.97e+01\n",
      "  46  1.214628e-04    3.79e-07    1.10e-03   5.34e-02   5.61e-01  1.36e+04        1    4.67e-01    2.02e+01\n",
      "  47  1.210871e-04    3.76e-07    1.09e-03   5.31e-02   5.63e-01  1.36e+04        1    4.65e-01    2.06e+01\n",
      "  48  1.207173e-04    3.70e-07    1.09e-03   5.29e-02   5.61e-01  1.37e+04        1    4.69e-01    2.11e+01\n",
      "  49  1.203509e-04    3.66e-07    1.08e-03   5.27e-02   5.61e-01  1.37e+04        1    4.65e-01    2.16e+01\n",
      "  50  1.199879e-04    3.63e-07    1.08e-03   5.25e-02   5.62e-01  1.37e+04        1    4.68e-01    2.21e+01\n"
     ]
    }
   ],
   "source": [
    "problem = PyCeres.Problem()\n",
    "problem.AddResidualBlock(feat_ik2, None, q1, q2)\n",
    "problem.AddResidualBlock(feat_dist, None, q1, q2)\n",
    "options = PyCeres.SolverOptions()\n",
    "options.linear_solver_type = PyCeres.LinearSolverType.SPARSE_NORMAL_CHOLESKY\n",
    "options.minimizer_progress_to_stdout = True\n",
    "summary = PyCeres.Summary()\n",
    "PyCeres.Solve(options, problem, summary)"
   ]
  },
  {
   "cell_type": "code",
   "execution_count": 87,
   "metadata": {},
   "outputs": [],
   "source": [
    "panda.set_joint_angles(q2)"
   ]
  },
  {
   "cell_type": "code",
   "execution_count": 503,
   "metadata": {},
   "outputs": [
    {
     "data": {
      "text/plain": [
       "array([-0.17116671, -0.0994386 , -0.31581191, -2.00006747,  0.07544014,\n",
       "        2.03134143, -1.35211934])"
      ]
     },
     "execution_count": 503,
     "metadata": {},
     "output_type": "execute_result"
    }
   ],
   "source": [
    "init[0]"
   ]
  },
  {
   "cell_type": "code",
   "execution_count": 497,
   "metadata": {},
   "outputs": [],
   "source": [
    "panda.set_joint_angles()"
   ]
  },
  {
   "cell_type": "code",
   "execution_count": 464,
   "metadata": {},
   "outputs": [
    {
     "ename": "TypeError",
     "evalue": "descriptor '__dir__' of 'object' object needs an argument",
     "output_type": "error",
     "traceback": [
      "\u001b[0;31m---------------------------------------------------------------------------\u001b[0m",
      "\u001b[0;31mTypeError\u001b[0m                                 Traceback (most recent call last)",
      "Cell \u001b[0;32mIn[464], line 1\u001b[0m\n\u001b[0;32m----> 1\u001b[0m PyCeres\u001b[39m.\u001b[39;49mLinearSolverType\u001b[39m.\u001b[39;49m\u001b[39m__dir__\u001b[39;49m()\n",
      "\u001b[0;31mTypeError\u001b[0m: descriptor '__dir__' of 'object' object needs an argument"
     ]
    }
   ],
   "source": [
    "print(summary.BriefReport())"
   ]
  },
  {
   "cell_type": "code",
   "execution_count": 396,
   "metadata": {},
   "outputs": [],
   "source": [
    "q = panda.neutral.copy()\n",
    "\n",
    "\n",
    "panda.set_joint_angles(panda.neutral)"
   ]
  },
  {
   "cell_type": "code",
   "execution_count": 454,
   "metadata": {},
   "outputs": [],
   "source": [
    "ee, jac = get_ee_fk_jac(q)\n",
    "err = target_posevec - ee\n",
    "grad = - jac.T @ err\n",
    "hess = jac.T@jac\n",
    "d = - jnp.linalg.pinv(hess) @ grad\n",
    "\n",
    "q = q + d*0.1\n",
    "\n",
    "panda.set_joint_angles(q)"
   ]
  },
  {
   "cell_type": "code",
   "execution_count": 19,
   "metadata": {},
   "outputs": [
    {
     "name": "stdout",
     "output_type": "stream",
     "text": [
      "This is Ipopt version 3.14.10, running with linear solver MUMPS 5.2.1.\n",
      "\n",
      "Number of nonzeros in equality constraint Jacobian...:       42\n",
      "Number of nonzeros in inequality constraint Jacobian.:        0\n",
      "Number of nonzeros in Lagrangian Hessian.............:        0\n",
      "\n",
      "Total number of variables............................:        7\n",
      "                     variables with only lower bounds:        0\n",
      "                variables with lower and upper bounds:        7\n",
      "                     variables with only upper bounds:        0\n",
      "Total number of equality constraints.................:        6\n",
      "Total number of inequality constraints...............:        0\n",
      "        inequality constraints with only lower bounds:        0\n",
      "   inequality constraints with lower and upper bounds:        0\n",
      "        inequality constraints with only upper bounds:        0\n",
      "\n",
      "iter    objective    inf_pr   inf_du lg(mu)  ||d||  lg(rg) alpha_du alpha_pr  ls\n",
      "   0  0.0000000e+00 2.39e+00 0.00e+00   0.0 0.00e+00    -  0.00e+00 0.00e+00   0\n",
      "   1  0.0000000e+00 2.72e+00 4.40e+00  -5.6 2.92e+00    -  3.46e-01 5.33e-01h  1\n",
      "   2  0.0000000e+00 2.47e+00 1.02e+01  -0.1 6.69e+00    -  3.35e-01 1.35e-01H  1\n",
      "   3  0.0000000e+00 2.44e+00 1.27e+03  -0.0 2.19e+00    -  7.31e-01 1.24e-02h  1\n",
      "   4  0.0000000e+00 2.43e+00 1.52e+06   0.5 3.21e+00    -  1.00e+00 8.86e-04h  1\n",
      "   5  0.0000000e+00 2.43e+00 9.52e+10   1.2 3.29e+00    -  1.00e+00 1.58e-05h  1\n",
      "   6r 0.0000000e+00 2.43e+00 9.97e+02   3.1 0.00e+00    -  0.00e+00 3.89e-07R  3\n",
      "   7r 0.0000000e+00 1.75e+00 1.43e+02   1.5 6.79e+00    -  8.88e-01 4.78e-01f  1\n",
      "   8  0.0000000e+00 1.06e+00 2.86e+01  -0.1 4.85e+00    -  7.00e-02 2.97e-01f  1\n",
      "   9  0.0000000e+00 3.19e-01 1.21e+01  -0.1 1.40e+00    -  6.77e-01 5.96e-01h  1\n",
      "iter    objective    inf_pr   inf_du lg(mu)  ||d||  lg(rg) alpha_du alpha_pr  ls\n",
      "  10  0.0000000e+00 1.94e-01 8.75e+00  -0.7 6.49e-01    -  9.61e-01 5.92e-01h  1\n",
      "  11  0.0000000e+00 1.52e-01 8.47e+01  -1.2 2.34e-01    -  1.00e+00 2.16e-01h  1\n",
      "  12  0.0000000e+00 1.51e-01 1.97e+04  -1.9 6.83e-01    -  1.00e+00 6.31e-03h  1\n",
      "  13  0.0000000e+00 1.51e-01 3.96e+07   0.3 1.18e+00    -  1.00e+00 5.08e-04h  1\n",
      "  14r 0.0000000e+00 1.51e-01 1.00e+03   2.5 0.00e+00    -  0.00e+00 3.17e-07R  5\n",
      "  15r 0.0000000e+00 9.33e-02 1.66e+01   0.0 4.96e-01    -  9.92e-01 7.59e-01f  1\n",
      "  16  0.0000000e+00 9.24e-02 1.31e+02  -1.5 9.24e-02    -  9.74e-01 9.94e-03h  1\n",
      "  17  0.0000000e+00 9.24e-02 6.94e+05  -1.7 6.43e-01    -  9.85e-01 1.91e-04h  1\n",
      "  18  0.0000000e+00 9.23e-02 1.29e+09  -1.9 1.35e+00    -  1.00e+00 4.73e-04h  1\n",
      "  19r 0.0000000e+00 9.23e-02 1.00e+03   3.4 0.00e+00    -  0.00e+00 3.01e-07R  5\n",
      "iter    objective    inf_pr   inf_du lg(mu)  ||d||  lg(rg) alpha_du alpha_pr  ls\n",
      "  20r 0.0000000e+00 9.01e-02 4.96e+01  -2.9 2.56e+00    -  9.51e-01 9.70e-01f  1\n",
      "  21r 0.0000000e+00 1.99e-02 6.26e+00  -4.5 1.14e-01    -  9.27e-01 8.79e-01f  1\n",
      "  22r 0.0000000e+00 1.99e-02 9.95e+02  -1.0 0.00e+00    -  0.00e+00 2.90e-07R  5\n",
      "  23r 0.0000000e+00 2.06e-02 9.98e+02  -5.9 1.49e+00    -  4.59e-02 1.74e-03f  1\n",
      "  24r 0.0000000e+00 3.75e-02 8.88e+02   0.1 1.20e+00    -  1.00e+00 5.92e-02f  1\n",
      "  25r 0.0000000e+00 3.69e-02 1.69e+02  -1.4 3.04e-02    -  1.00e+00 8.21e-01f  1\n",
      "  26r 0.0000000e+00 4.10e-02 7.17e+00  -2.2 1.69e-02    -  1.00e+00 1.00e+00f  1\n",
      "  27r 0.0000000e+00 3.90e-02 2.20e-01  -1.6 8.78e-03    -  1.00e+00 1.00e+00f  1\n",
      "  28r 0.0000000e+00 3.90e-02 4.10e-02  -3.5 7.46e-04    -  1.00e+00 1.00e+00f  1\n",
      "  29r 0.0000000e+00 3.91e-02 1.75e-03  -5.4 1.15e-04    -  1.00e+00 1.00e+00f  1\n",
      "iter    objective    inf_pr   inf_du lg(mu)  ||d||  lg(rg) alpha_du alpha_pr  ls\n",
      "  30r 0.0000000e+00 3.91e-02 2.85e-04  -7.4 2.49e-06    -  1.00e+00 1.00e+00h  1\n",
      "  31r 0.0000000e+00 3.91e-02 2.17e-04  -9.0 4.04e-07    -  1.00e+00 1.00e+00h  1\n",
      "  32r 0.0000000e+00 3.91e-02 1.85e-04  -9.0 1.76e-07    -  1.00e+00 1.00e+00h  1\n",
      "  33r 0.0000000e+00 3.91e-02 1.14e-04  -9.0 1.95e-07    -  1.00e+00 1.00e+00h  1\n",
      "  34r 0.0000000e+00 3.91e-02 1.89e-04  -9.0 1.29e-07    -  1.00e+00 1.00e+00h  1\n",
      "  35r 0.0000000e+00 3.91e-02 2.20e-04  -9.0 6.37e-07    -  1.00e+00 2.50e-01h  3\n",
      "  36r 0.0000000e+00 3.91e-02 1.99e-04  -9.0 1.94e-07    -  1.00e+00 1.00e+00H  1\n",
      "  37r 0.0000000e+00 3.91e-02 7.49e-05  -9.0 2.00e-07    -  1.00e+00 1.00e+00h  1\n",
      "  38r 0.0000000e+00 3.91e-02 1.84e-04  -9.0 3.29e-07    -  1.00e+00 5.00e-01h  2\n",
      "  39r 0.0000000e+00 3.91e-02 2.57e-04  -9.0 2.71e-07    -  1.00e+00 1.00e+00h  1\n",
      "iter    objective    inf_pr   inf_du lg(mu)  ||d||  lg(rg) alpha_du alpha_pr  ls\n",
      "  40r 0.0000000e+00 3.91e-02 2.14e-04  -9.0 2.12e-07    -  1.00e+00 1.00e+00h  1\n",
      "  41r 0.0000000e+00 3.91e-02 2.16e-04  -9.0 1.60e-07    -  1.00e+00 5.00e-01h  2\n",
      "  42r 0.0000000e+00 3.91e-02 6.68e-04  -9.0 2.16e-07    -  1.00e+00 1.00e+00h  1\n",
      "  43r 0.0000000e+00 3.91e-02 2.64e-04  -9.0 3.29e-07    -  1.00e+00 1.00e+00H  1\n",
      "  44r 0.0000000e+00 3.82e-02 1.25e+00  -9.0 3.48e-03    -  1.00e+00 1.00e+00H  1\n",
      "  45r 0.0000000e+00 3.91e-02 1.18e-03  -9.0 3.79e-03    -  1.00e+00 1.00e+00f  1\n",
      "  46r 0.0000000e+00 3.91e-02 4.78e-04  -9.0 1.82e-06    -  1.00e+00 1.00e+00h  1\n",
      "  47r 0.0000000e+00 3.91e-02 1.82e-04  -9.0 2.32e-07    -  1.00e+00 1.00e+00h  1\n",
      "  48r 0.0000000e+00 3.91e-02 2.33e-04  -9.0 3.35e-07    -  1.00e+00 1.00e+00h  1\n",
      "  49r 0.0000000e+00 3.91e-02 3.07e-04  -9.0 1.72e-07    -  1.00e+00 1.00e+00h  1\n",
      "iter    objective    inf_pr   inf_du lg(mu)  ||d||  lg(rg) alpha_du alpha_pr  ls\n",
      "  50r 0.0000000e+00 3.91e-02 6.69e-04  -9.0 8.41e-07    -  1.00e+00 1.00e+00h  1\n",
      "  51r 0.0000000e+00 3.91e-02 7.70e-05  -9.0 5.77e-07    -  1.00e+00 1.00e+00h  1\n",
      "  52r 0.0000000e+00 3.91e-02 1.27e-04  -9.0 1.24e-07    -  1.00e+00 1.00e+00h  1\n",
      "  53r 0.0000000e+00 3.91e-02 5.16e-04  -9.0 7.43e-07    -  1.00e+00 2.50e-01h  3\n",
      "  54r 0.0000000e+00 3.91e-02 6.56e-05  -9.0 2.16e-07    -  1.00e+00 1.00e+00H  1\n",
      "  55r 0.0000000e+00 3.91e-02 4.40e-04  -9.0 3.46e-07    -  1.00e+00 1.00e+00h  1\n",
      "  56r 0.0000000e+00 3.91e-02 3.27e-04  -9.0 2.14e-07    -  1.00e+00 1.00e+00h  1\n",
      "  57r 0.0000000e+00 3.91e-02 2.41e-04  -9.0 1.95e-07    -  1.00e+00 1.00e+00H  1\n",
      "  58r 0.0000000e+00 3.91e-02 1.91e-04  -9.0 2.06e-07    -  1.00e+00 1.00e+00h  1\n",
      "  59r 0.0000000e+00 3.91e-02 1.61e-04  -9.0 3.27e-07    -  1.00e+00 5.00e-01h  2\n",
      "iter    objective    inf_pr   inf_du lg(mu)  ||d||  lg(rg) alpha_du alpha_pr  ls\n",
      "  60r 0.0000000e+00 3.91e-02 7.72e-05  -9.0 1.47e-07    -  1.00e+00 1.25e-01h  4\n",
      "  61r 0.0000000e+00 3.91e-02 4.71e-03  -9.0 3.74e-03    -  1.00e+00 3.91e-03h  9\n",
      "  62r 0.0000000e+00 3.91e-02 4.70e-03  -9.0 1.45e-05    -  1.00e+00 3.91e-03h  9\n",
      "  63r 0.0000000e+00 4.43e-02 7.75e+01  -7.0 1.28e+02    -  7.29e-05 1.35e-03f  1\n",
      "  64r 0.0000000e+00 3.83e-02 1.29e+00  -9.0 1.72e-01    -  1.00e+00 9.80e-01f  1\n",
      "  65r 0.0000000e+00 3.64e-02 1.21e+00  -9.0 8.37e-03    -  9.70e-01 1.00e+00h  1\n",
      "  66r 0.0000000e+00 3.80e-02 9.75e-01  -2.5 7.13e-03    -  1.00e+00 1.00e+00f  1\n",
      "  67r 0.0000000e+00 3.87e-02 1.09e-02  -2.5 3.21e-03    -  1.00e+00 1.00e+00h  1\n",
      "  68r 0.0000000e+00 3.90e-02 1.62e-02  -3.7 1.24e-03    -  1.00e+00 1.00e+00f  1\n",
      "  69r 0.0000000e+00 3.91e-02 1.98e-03  -3.7 1.67e-04    -  1.00e+00 1.00e+00h  1\n",
      "iter    objective    inf_pr   inf_du lg(mu)  ||d||  lg(rg) alpha_du alpha_pr  ls\n",
      "  70r 0.0000000e+00 3.91e-02 1.05e-03  -5.6 4.55e-05    -  1.00e+00 1.00e+00f  1\n",
      "  71r 0.0000000e+00 3.91e-02 9.39e-05  -5.6 1.07e-06    -  1.00e+00 1.00e+00h  1\n",
      "  72r 0.0000000e+00 3.91e-02 1.88e-04  -8.4 1.10e-06    -  1.00e+00 1.00e+00H  1\n",
      "  73r 0.0000000e+00 3.91e-02 2.49e-04  -8.4 1.22e-07    -  1.00e+00 1.00e+00h  1\n",
      "  74r 0.0000000e+00 3.91e-02 1.14e-04  -8.4 2.78e-07    -  1.00e+00 2.50e-01h  3\n",
      "  75r 0.0000000e+00 3.91e-02 6.28e-03  -8.4 2.31e-07    -  1.00e+00 1.00e+00H  1\n",
      "  76r 0.0000000e+00 3.91e-02 7.14e-03  -8.4 8.04e-07    -  1.00e+00 6.25e-02h  5\n",
      "  77r 0.0000000e+00 3.91e-02 9.89e-04  -8.4 1.20e-04    -  1.00e+00 3.12e-02h  6\n",
      "  78r 0.0000000e+00 3.91e-02 3.49e-04  -8.4 3.46e-06    -  1.00e+00 1.00e+00H  1\n",
      "  79r 0.0000000e+00 3.91e-02 2.98e-04  -9.0 4.06e-07    -  1.00e+00 1.00e+00h  1\n",
      "iter    objective    inf_pr   inf_du lg(mu)  ||d||  lg(rg) alpha_du alpha_pr  ls\n",
      "  80r 0.0000000e+00 3.91e-02 8.84e-05  -9.0 2.37e-07    -  1.00e+00 1.00e+00h  1\n",
      "  81r 0.0000000e+00 3.91e-02 2.76e-04  -9.0 2.38e-07    -  1.00e+00 1.00e+00H  1\n",
      "  82r 0.0000000e+00 3.91e-02 1.51e-04  -9.0 2.95e-07    -  1.00e+00 1.00e+00h  1\n",
      "  83r 0.0000000e+00 3.91e-02 1.87e-04  -9.0 2.60e-07    -  1.00e+00 1.00e+00h  1\n",
      "  84r 0.0000000e+00 3.91e-02 5.70e-03  -9.0 1.30e-05    -  1.00e+00 1.00e+00h  1\n",
      "  85r 0.0000000e+00 3.91e-02 2.22e-04  -9.0 1.29e-05    -  1.00e+00 1.00e+00h  1\n",
      "  86r 0.0000000e+00 3.91e-02 1.48e-04  -9.0 3.04e-07    -  1.00e+00 5.00e-01h  2\n",
      "  87r 0.0000000e+00 3.91e-02 5.40e-04  -9.0 2.01e-07    -  1.00e+00 1.00e+00H  1\n",
      "  88r 0.0000000e+00 3.91e-02 2.39e-04  -9.0 3.43e-07    -  1.00e+00 1.00e+00H  1\n",
      "  89r 0.0000000e+00 3.91e-02 6.37e-04  -9.0 5.24e-07    -  1.00e+00 1.00e+00h  1\n",
      "iter    objective    inf_pr   inf_du lg(mu)  ||d||  lg(rg) alpha_du alpha_pr  ls\n",
      "  90r 0.0000000e+00 3.91e-02 3.35e-04  -9.0 3.06e-07    -  1.00e+00 1.00e+00h  1\n",
      "  91r 0.0000000e+00 3.91e-02 1.78e-04  -9.0 3.56e-07    -  1.00e+00 1.00e+00h  1\n",
      "  92r 0.0000000e+00 3.91e-02 1.90e-04  -9.0 2.49e-07    -  1.00e+00 5.00e-01h  2\n",
      "  93r 0.0000000e+00 3.91e-02 1.99e-04  -9.0 3.15e-07    -  1.00e+00 1.00e+00H  1\n",
      "  94r 0.0000000e+00 3.91e-02 2.80e-04  -9.0 3.82e-07    -  1.00e+00 2.50e-01h  3\n",
      "  95r 0.0000000e+00 3.91e-02 1.71e-04  -9.0 1.10e-05    -  1.00e+00 1.56e-02h  7\n",
      "  96r 0.0000000e+00 3.91e-02 1.72e-04  -9.0 1.67e-07    -  1.00e+00 2.50e-01h  3\n",
      "  97r 0.0000000e+00 3.91e-02 1.49e-04  -9.0 1.58e-07    -  1.00e+00 1.25e-01h  4\n",
      "  98r 0.0000000e+00 3.91e-02 4.99e-04  -9.0 3.52e+00    -  2.63e-03 3.74e-07h 18\n",
      "  99r 0.0000000e+00 3.91e-02 1.64e-04  -9.0 1.05e-06    -  1.00e+00 1.00e+00h  1\n",
      "iter    objective    inf_pr   inf_du lg(mu)  ||d||  lg(rg) alpha_du alpha_pr  ls\n",
      " 100r 0.0000000e+00 3.91e-02 1.12e-04  -9.0 3.53e-07    -  1.00e+00 5.00e-01h  2\n",
      " 101r 0.0000000e+00 3.91e-02 4.69e-05  -9.0 2.26e-07    -  1.00e+00 5.00e-01h  2\n",
      " 102r 0.0000000e+00 3.91e-02 1.82e-04  -9.0 1.44e-07    -  1.00e+00 1.00e+00h  1\n",
      " 103r 0.0000000e+00 3.91e-02 3.41e-04  -9.0 5.27e-07    -  1.00e+00 6.25e-02h  5\n",
      " 104r 0.0000000e+00 3.91e-02 7.11e-05  -9.0 3.21e-03    -  1.00e+00 3.81e-06h 19\n",
      " 105r 0.0000000e+00 3.91e-02 1.32e-04  -9.0 4.52e-07    -  1.00e+00 7.81e-03h  8\n",
      " 106r 0.0000000e+00 3.91e-02 1.32e-04  -9.0 6.79e-06    -  0.00e+00 4.77e-07R 22\n",
      " 107r 0.0000000e+00 3.91e-02 2.28e-03  -9.0 6.79e-06    -  1.00e+00 1.00e+00f  1\n",
      " 108r 0.0000000e+00 3.91e-02 7.71e-05  -9.0 6.76e-06    -  1.00e+00 1.00e+00h  1\n",
      " 109r 0.0000000e+00 3.91e-02 1.70e-04  -9.0 4.94e-07    -  1.00e+00 1.00e+00h  1\n",
      "iter    objective    inf_pr   inf_du lg(mu)  ||d||  lg(rg) alpha_du alpha_pr  ls\n",
      " 110r 0.0000000e+00 3.91e-02 1.20e-04  -9.0 2.77e-07    -  1.00e+00 1.00e+00h  1\n",
      " 111r 0.0000000e+00 3.91e-02 5.58e-04  -9.0 2.77e-07    -  1.00e+00 1.00e+00h  1\n",
      " 112r 0.0000000e+00 3.91e-02 1.21e-04  -9.0 2.73e-07    -  1.00e+00 1.00e+00h  1\n",
      " 113r 0.0000000e+00 3.91e-02 2.01e-04  -9.0 1.23e-07    -  1.00e+00 1.00e+00h  1\n",
      " 114r 0.0000000e+00 3.91e-02 1.29e-04  -9.0 4.06e-07    -  1.00e+00 2.50e-01h  3\n",
      " 115r 0.0000000e+00 3.91e-02 3.49e-04  -9.0 2.66e-07    -  1.00e+00 1.00e+00H  1\n",
      " 116r 0.0000000e+00 3.91e-02 2.54e-04  -9.0 5.61e-07    -  1.00e+00 5.00e-01h  2\n",
      " 117r 0.0000000e+00 3.91e-02 1.05e-02  -9.0 3.16e-05    -  1.00e+00 1.00e+00h  1\n",
      " 118r 0.0000000e+00 3.91e-02 7.91e-03  -9.0 3.15e-05    -  1.00e+00 2.50e-01h  3\n",
      " 119r 0.0000000e+00 3.91e-02 4.71e-04  -9.0 2.28e-05    -  1.00e+00 1.00e+00h  1\n",
      "iter    objective    inf_pr   inf_du lg(mu)  ||d||  lg(rg) alpha_du alpha_pr  ls\n",
      " 120r 0.0000000e+00 3.91e-02 2.27e-04  -9.0 9.08e-07    -  1.00e+00 6.25e-02h  5\n",
      " 121r 0.0000000e+00 3.91e-02 9.51e-02  -9.0 7.45e+00    -  2.32e-02 3.88e-05h  6\n",
      " 122r 0.0000000e+00 3.91e-02 8.32e-02  -9.0 2.88e-04    -  1.00e+00 1.25e-01h  4\n",
      " 123r 0.0000000e+00 3.91e-02 5.82e-04  -9.0 2.53e-04    -  1.00e+00 1.00e+00H  1\n",
      " 124r 0.0000000e+00 3.91e-02 2.57e-04  -9.0 5.84e-07    -  1.00e+00 1.00e+00H  1\n",
      " 125r 0.0000000e+00 3.91e-02 7.82e-05  -9.0 1.89e-07    -  1.00e+00 1.25e-01h  4\n",
      " 126r 0.0000000e+00 3.91e-02 1.13e-04  -9.0 8.71e-08    -  1.00e+00 6.25e-02h  5\n",
      " 127r 0.0000000e+00 4.43e-02 7.76e+01  -7.0 3.60e+00    -  3.46e-03 4.80e-02h  1\n",
      " 128r 0.0000000e+00 3.83e-02 1.35e+00  -8.6 1.73e-01    -  1.00e+00 9.80e-01f  1\n",
      " 129r 0.0000000e+00 3.80e-02 1.15e+03  -3.7 8.82e+02    -  6.63e-04 1.35e-06f  8\n",
      "iter    objective    inf_pr   inf_du lg(mu)  ||d||  lg(rg) alpha_du alpha_pr  ls\n",
      " 130r 0.0000000e+00 4.18e-02 3.34e+01  -2.0 2.69e-02    -  9.71e-01 1.00e+00h  1\n",
      " 131r 0.0000000e+00 3.99e-02 8.26e+00  -2.0 2.10e-02    -  5.68e-01 1.00e+00f  1\n",
      " 132r 0.0000000e+00 3.83e-02 3.95e-01  -2.0 7.29e-03    -  1.00e+00 1.00e+00f  1\n",
      " 133r 0.0000000e+00 3.89e-02 1.00e-01  -3.0 2.40e-03    -  1.00e+00 1.00e+00f  1\n",
      " 134r 0.0000000e+00 3.90e-02 5.90e-03  -3.0 6.90e-04    -  1.00e+00 1.00e+00h  1\n",
      " 135r 0.0000000e+00 3.91e-02 5.34e-04  -4.5 2.40e-04    -  1.00e+00 1.00e+00f  1\n",
      " 136r 0.0000000e+00 3.91e-02 1.41e-04  -6.8 1.48e-05    -  1.00e+00 1.00e+00h  1\n",
      " 137r 0.0000000e+00 3.91e-02 1.03e-04  -6.8 5.78e-07    -  1.00e+00 1.00e+00h  1\n",
      " 138r 0.0000000e+00 3.91e-02 3.53e-05  -6.8 2.47e-07    -  1.00e+00 2.50e-01h  3\n",
      " 139r 0.0000000e+00 3.91e-02 1.13e-04  -6.8 2.10e-07    -  1.00e+00 2.50e-01h  3\n",
      "iter    objective    inf_pr   inf_du lg(mu)  ||d||  lg(rg) alpha_du alpha_pr  ls\n",
      " 140r 0.0000000e+00 3.91e-02 8.66e-02  -6.8 1.92e-04    -  1.00e+00 1.00e+00H  1\n",
      " 141r 0.0000000e+00 3.91e-02 2.08e-04  -6.8 1.92e-04    -  1.00e+00 1.00e+00h  1\n",
      " 142r 0.0000000e+00 3.91e-02 2.75e-04  -6.8 5.20e-07    -  1.00e+00 1.00e+00h  1\n",
      " 143r 0.0000000e+00 3.91e-02 1.70e-04  -6.8 2.64e-07    -  1.00e+00 1.00e+00H  1\n",
      " 144r 0.0000000e+00 3.91e-02 1.55e-04  -6.8 5.29e-07    -  1.00e+00 1.00e+00h  1\n",
      " 145r 0.0000000e+00 3.91e-02 7.04e-05  -6.8 1.99e-07    -  1.00e+00 1.00e+00h  1\n",
      " 146r 0.0000000e+00 3.91e-02 2.16e-05  -6.8 8.20e-08    -  1.00e+00 2.50e-01h  3\n",
      " 147r 0.0000000e+00 3.91e-02 5.63e-05  -6.8 4.37e-04    -  1.00e+00 3.05e-05h 16\n",
      " 148r 0.0000000e+00 3.91e-02 9.53e-02  -6.8 9.38e-03    -  1.00e+00 3.08e-02h  6\n",
      " 149r 0.0000000e+00 3.91e-02 9.53e-02  -6.8 2.89e-04    -  1.00e+00 4.88e-04h 12\n",
      "iter    objective    inf_pr   inf_du lg(mu)  ||d||  lg(rg) alpha_du alpha_pr  ls\n",
      " 150r 0.0000000e+00 3.91e-02 9.39e-02  -6.8 2.89e-04    -  1.00e+00 1.56e-02h  7\n",
      " 151r 0.0000000e+00 3.91e-02 7.08e-03  -6.8 2.89e-04    -  1.00e+00 1.00e+00h  1\n",
      " 152r 0.0000000e+00 3.91e-02 1.52e-04  -6.8 4.30e-06    -  1.00e+00 1.00e+00h  1\n",
      " 153r 0.0000000e+00 3.91e-02 1.94e-04  -6.8 4.38e-07    -  1.00e+00 1.00e+00H  1\n",
      " 154r 0.0000000e+00 3.91e-02 1.63e-04  -6.8 5.58e-07    -  1.00e+00 6.25e-02h  5\n",
      " 155r 0.0000000e+00 3.91e-02 1.62e-04  -6.8 4.15e-07    -  1.00e+00 5.00e-01h  2\n",
      " 156r 0.0000000e+00 3.91e-02 3.31e-04  -6.8 2.82e-07    -  1.00e+00 1.00e+00H  1\n",
      " 157r 0.0000000e+00 3.91e-02 1.88e-04  -6.8 2.43e-07    -  1.00e+00 3.12e-02h  6\n",
      " 158r 0.0000000e+00 3.91e-02 1.68e-03  -6.8 8.15e-04    -  1.00e+00 7.81e-03h  8\n",
      " 159r 0.0000000e+00 3.91e-02 4.53e-04  -6.8 5.86e-06    -  1.00e+00 1.00e+00s 22\n",
      "iter    objective    inf_pr   inf_du lg(mu)  ||d||  lg(rg) alpha_du alpha_pr  ls\n",
      " 160r 0.0000000e+00 3.91e-02 2.24e-04  -6.8 3.84e-07    -  0.00e+00 0.00e+00R  1\n",
      " 161r 0.0000000e+00 3.91e-02 1.74e-04  -6.8 4.77e-07    -  1.00e+00 1.25e-01f  4\n",
      " 162r 0.0000000e+00 3.91e-02 1.23e-05  -6.8 4.75e-04    -  1.00e+00 6.10e-05h 15\n",
      " 163r 0.0000000e+00 3.91e-02 1.81e-06  -6.8 9.19e-03    -  1.00e+00 4.77e-07h 22\n",
      "\n",
      "Number of Iterations....: 163\n",
      "\n",
      "                                   (scaled)                 (unscaled)\n",
      "Objective...............:   0.0000000000000000e+00    0.0000000000000000e+00\n",
      "Dual infeasibility......:   7.0868466329181492e-06    7.0868466329181492e-06\n",
      "Constraint violation....:   3.9070516824722290e-02    3.9070516824722290e-02\n",
      "Variable bound violation:   3.7947147646377744e-08    3.7947147646377744e-08\n",
      "Complementarity.........:   1.5379043612158027e-07    1.5379043612158027e-07\n",
      "Overall NLP error.......:   3.9070516824722290e-02    3.9070516824722290e-02\n",
      "\n",
      "\n",
      "Number of objective function evaluations             = 534\n",
      "Number of objective gradient evaluations             = 23\n",
      "Number of equality constraint evaluations            = 536\n",
      "Number of inequality constraint evaluations          = 0\n",
      "Number of equality constraint Jacobian evaluations   = 170\n",
      "Number of inequality constraint Jacobian evaluations = 0\n",
      "Number of Lagrangian Hessian evaluations             = 0\n",
      "Total seconds in IPOPT                               = 84.735\n",
      "\n",
      "EXIT: Stopping optimization at current point as requested by user.\n"
     ]
    },
    {
     "ename": "KeyboardInterrupt",
     "evalue": "",
     "output_type": "error",
     "traceback": [
      "\u001b[0;31m---------------------------------------------------------------------------\u001b[0m",
      "\u001b[0;31mKeyboardInterrupt\u001b[0m                         Traceback (most recent call last)",
      "Cell \u001b[0;32mIn[19], line 1\u001b[0m\n\u001b[0;32m----> 1\u001b[0m qsol, info \u001b[39m=\u001b[39m ipopt2\u001b[39m.\u001b[39;49msolve(panda\u001b[39m.\u001b[39;49mneutral)\n",
      "File \u001b[0;32m~/miniconda3/envs/cu11/lib/python3.8/site-packages/cyipopt/cython/ipopt_wrapper.pyx:642\u001b[0m, in \u001b[0;36mipopt_wrapper.Problem.solve\u001b[0;34m()\u001b[0m\n",
      "File \u001b[0;32m~/miniconda3/envs/cu11/lib/python3.8/site-packages/cyipopt/cython/ipopt_wrapper.pyx:676\u001b[0m, in \u001b[0;36mipopt_wrapper.objective_cb\u001b[0;34m()\u001b[0m\n",
      "File \u001b[0;32m/media/polde/datadrive/ws/sdf_world/sdf_world/sparse_ipopt.py:140\u001b[0m, in \u001b[0;36mSparseIPOPTBuilder.get_objective_fn.<locals>.objective\u001b[0;34m(x)\u001b[0m\n\u001b[1;32m    138\u001b[0m input_names \u001b[39m=\u001b[39m [x\u001b[39m.\u001b[39mname \u001b[39mfor\u001b[39;00m x \u001b[39min\u001b[39;00m \u001b[39mself\u001b[39m\u001b[39m.\u001b[39mobj_info\u001b[39m.\u001b[39minputs]\n\u001b[1;32m    139\u001b[0m inputs \u001b[39m=\u001b[39m [input_dict[name] \u001b[39mfor\u001b[39;00m name \u001b[39min\u001b[39;00m input_names]\n\u001b[0;32m--> 140\u001b[0m \u001b[39mreturn\u001b[39;00m \u001b[39mself\u001b[39;49m\u001b[39m.\u001b[39;49mobj_info\u001b[39m.\u001b[39;49mfn_info\u001b[39m.\u001b[39;49mfn(\u001b[39m*\u001b[39;49minputs)\n",
      "Cell \u001b[0;32mIn[17], line 22\u001b[0m, in \u001b[0;36mdebug_obj2\u001b[0;34m(q, grasp, p_obj)\u001b[0m\n\u001b[1;32m     20\u001b[0m frame\u001b[39m.\u001b[39mset_pose(grasp_pose)\n\u001b[1;32m     21\u001b[0m \u001b[39m#pc.reload(points=np.vstack(pcs))\u001b[39;00m\n\u001b[0;32m---> 22\u001b[0m time\u001b[39m.\u001b[39;49msleep(\u001b[39m0.1\u001b[39;49m)\n\u001b[1;32m     23\u001b[0m \u001b[39mreturn\u001b[39;00m \u001b[39m0.\u001b[39m\n",
      "\u001b[0;31mKeyboardInterrupt\u001b[0m: "
     ]
    }
   ],
   "source": [
    "qsol, info = ipopt2.solve(panda.neutral)"
   ]
  },
  {
   "cell_type": "code",
   "execution_count": 22,
   "metadata": {},
   "outputs": [
    {
     "data": {
      "text/plain": [
       "SE3(wxyz=[ 0.00842    -0.68869996 -0.72375    -0.04238   ], xyz=[-0.00169     0.05138     0.10241999])"
      ]
     },
     "execution_count": 22,
     "metadata": {},
     "output_type": "execute_result"
    }
   ],
   "source": [
    "\n"
   ]
  },
  {
   "cell_type": "code",
   "execution_count": 19,
   "metadata": {},
   "outputs": [],
   "source": [
    "x = jnp.zeros(3)\n",
    "zip_x_ndo = zip(builder.xnames, builder.xdims, builder.xoffsets)\n",
    "input_dict = {name:x[offset:offset+dim] \n",
    "                    for name, dim, offset in zip_x_ndo}\n",
    "input_dict.update(builder.param_dict)\n",
    "input_names = [x.name for x in builder.obj_info.inputs]\n",
    "inputs = [input_dict[name] for name in input_names]"
   ]
  },
  {
   "cell_type": "code",
   "execution_count": 16,
   "metadata": {},
   "outputs": [
    {
     "data": {
      "text/plain": [
       "[('g_pick', 3, 0)]"
      ]
     },
     "execution_count": 16,
     "metadata": {},
     "output_type": "execute_result"
    }
   ],
   "source": [
    "list(zip_x_ndo)"
   ]
  },
  {
   "cell_type": "code",
   "execution_count": 17,
   "metadata": {},
   "outputs": [
    {
     "data": {
      "text/plain": [
       "['g_pick', 'p_start', 'p_goal']"
      ]
     },
     "execution_count": 17,
     "metadata": {},
     "output_type": "execute_result"
    }
   ],
   "source": [
    "[x.name for x in builder.obj_info.inputs]"
   ]
  },
  {
   "cell_type": "code",
   "execution_count": 43,
   "metadata": {},
   "outputs": [],
   "source": [
    "builder = SparseIPOPTBuilder()\n",
    "\n",
    "builder.add_variable(\"g_pick\", 3, -1., 1.)\n",
    "builder.add_variable(\"g_place\", 3, -1., 1.)\n",
    "builder.add_variable(\"p_ho\", 6, ws_lb, ws_ub)\n",
    "builder.add_parameter(\"p_start\", to_posevec(obj_start.pose.parameters()))\n",
    "builder.add_parameter(\"p_goal\", to_posevec(obj_goal.pose.parameters()))\n",
    "\n",
    "builder.register_fn(\"grasp_constr\", [3], 1,\n",
    "                          grasp_constr_fn, grasp_constr_jac_fns)\n",
    "builder.register_fn(\"manip_constr\", [3, 6], 1,\n",
    "                          manip_constr_fn, manip_constr_jac_fns)\n",
    "builder.register_fn(\"dist_constr\", [3, 3, 6, 6, 6], 4,\n",
    "                          dist_constr_fn, dist_constr_jac_fns)\n",
    "\n",
    "builder.add_constr(\"grasp_prob_pick\", [\"g_pick\"], \"grasp_constr\",\n",
    "                   1., np.inf)\n",
    "builder.add_constr(\"grasp_prob_place\", [\"g_place\"], \"grasp_constr\",\n",
    "                   1., np.inf)\n",
    "builder.add_constr(\"manip_pick\", [\"g_pick\", \"p_start\"], \"manip_constr\",\n",
    "                   0.3, np.inf)\n",
    "builder.add_constr(\"manip_place\", [\"g_place\", \"p_goal\"], \"manip_constr\",\n",
    "                   0.3, np.inf)\n",
    "builder.add_constr(\"manip_ho_1\", [\"g_pick\", \"p_ho\"], \"manip_constr\",\n",
    "                   0.3, np.inf)\n",
    "builder.add_constr(\"manip_ho_2\", [\"g_place\", \"p_ho\"], \"manip_constr\",\n",
    "                   0.3, np.inf)\n",
    "builder.add_constr(\"dist\", [\"g_pick\", \"g_place\", \"p_ho\", \"p_start\", \"p_goal\"], \"dist_constr\",\n",
    "                   0.05, np.inf)\n",
    "builder.freeze()"
   ]
  },
  {
   "cell_type": "code",
   "execution_count": 45,
   "metadata": {},
   "outputs": [
    {
     "name": "stdout",
     "output_type": "stream",
     "text": [
      "\n",
      "Sparsity pattern:\n",
      "00 01 02 -- -- -- -- -- -- -- -- -- \n",
      "-- -- -- 03 04 05 -- -- -- -- -- -- \n",
      "06 07 08 -- -- -- -- -- -- -- -- -- \n",
      "-- -- -- 09 10 11 -- -- -- -- -- -- \n",
      "12 13 14 -- -- -- 18 19 20 21 22 23 \n",
      "-- -- -- 15 16 17 24 25 26 27 28 29 \n",
      "30 31 32 42 43 44 54 55 56 57 58 59 \n",
      "33 34 35 45 46 47 60 61 62 63 64 65 \n",
      "36 37 38 48 49 50 66 67 68 69 70 71 \n",
      "39 40 41 51 52 53 72 73 74 75 76 77 \n"
     ]
    }
   ],
   "source": [
    "ipopt = builder.build(True)"
   ]
  },
  {
   "cell_type": "code",
   "execution_count": null,
   "metadata": {},
   "outputs": [],
   "source": [
    "x = [np.zeros(3), np.zer]\n",
    "ipopt.solve()"
   ]
  },
  {
   "cell_type": "code",
   "execution_count": 17,
   "metadata": {},
   "outputs": [
    {
     "data": {
      "text/plain": [
       "Array([0.4810451, 0.5339005], dtype=float32)"
      ]
     },
     "execution_count": 17,
     "metadata": {},
     "output_type": "execute_result"
    }
   ],
   "source": [
    "grasp = jnp.zeros(3)\n",
    "posevec = jnp.zeros(6)\n",
    "\n"
   ]
  },
  {
   "cell_type": "code",
   "execution_count": 23,
   "metadata": {},
   "outputs": [
    {
     "data": {
      "text/plain": [
       "Array([0.26522437, 0.26522437, 0.26522437, 0.26522437], dtype=float32)"
      ]
     },
     "execution_count": 23,
     "metadata": {},
     "output_type": "execute_result"
    }
   ],
   "source": [
    "dist_constr_fn(grasp, grasp, posevec, posevec, posevec)"
   ]
  }
 ],
 "metadata": {
  "kernelspec": {
   "display_name": "opt_env",
   "language": "python",
   "name": "python3"
  },
  "language_info": {
   "codemirror_mode": {
    "name": "ipython",
    "version": 3
   },
   "file_extension": ".py",
   "mimetype": "text/x-python",
   "name": "python",
   "nbconvert_exporter": "python",
   "pygments_lexer": "ipython3",
   "version": "3.8.16"
  },
  "orig_nbformat": 4
 },
 "nbformat": 4,
 "nbformat_minor": 2
}
