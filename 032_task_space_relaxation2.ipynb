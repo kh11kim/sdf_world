{
 "cells": [
  {
   "cell_type": "code",
   "execution_count": 1,
   "metadata": {},
   "outputs": [],
   "source": [
    "import numpy as np\n",
    "import jax\n",
    "import jax.numpy as jnp\n",
    "from jaxlie import SE3, SO3\n",
    "import jax_dataclasses as jdc\n",
    "from functools import partial\n",
    "\n",
    "from sdf_world.sdf_world import *\n",
    "from sdf_world.robots import *\n",
    "from sdf_world.util import *\n",
    "from sdf_world.network import *\n",
    "from sdf_world.sparse_ipopt import *\n",
    "\n",
    "from flax import linen as nn\n",
    "from flax.training import orbax_utils\n",
    "import orbax\n",
    "import pickle\n",
    "import time"
   ]
  },
  {
   "attachments": {},
   "cell_type": "markdown",
   "metadata": {},
   "source": [
    "### Load Models"
   ]
  },
  {
   "cell_type": "code",
   "execution_count": 2,
   "metadata": {},
   "outputs": [],
   "source": [
    "orbax_checkpointer = orbax.checkpoint.PyTreeCheckpointer()\n",
    "restored_grasp = orbax_checkpointer.restore(\"model/grasp_net_prob_dist\")\n",
    "restored_manip = orbax_checkpointer.restore(\"model/manip_net_posevec\")\n",
    "\n",
    "#grasp net\n",
    "grasp_net = GraspNet(32)\n",
    "grasp_fn = lambda x: grasp_net.apply(restored_grasp[\"params\"], x)\n",
    "\n",
    "grasp_logit_fn = lambda g: grasp_fn(g)[0]\n",
    "grasp_dist_fn = lambda g: grasp_fn(g)[1]\n",
    "#manip net\n",
    "manip_net = ManipNet(64)\n",
    "manip_fn = lambda x: manip_net.apply(restored_manip[\"params\"], x)[0]"
   ]
  },
  {
   "attachments": {},
   "cell_type": "markdown",
   "metadata": {},
   "source": [
    "### Load world"
   ]
  },
  {
   "cell_type": "code",
   "execution_count": 3,
   "metadata": {},
   "outputs": [
    {
     "name": "stdout",
     "output_type": "stream",
     "text": [
      "You can open the visualizer by visiting the following URL:\n",
      "http://127.0.0.1:7000/static/\n"
     ]
    },
    {
     "data": {
      "text/html": [
       "\n",
       "            <div style=\"height: 400px; width: 100%; overflow-x: auto; overflow-y: hidden; resize: both\">\n",
       "            <iframe src=\"http://127.0.0.1:7000/static/\" style=\"width: 100%; height: 100%; border: none\"></iframe>\n",
       "            </div>\n",
       "            "
      ],
      "text/plain": [
       "<IPython.core.display.HTML object>"
      ]
     },
     "execution_count": 3,
     "metadata": {},
     "output_type": "execute_result"
    }
   ],
   "source": [
    "world = SDFWorld()\n",
    "world.show_in_jupyter()"
   ]
  },
  {
   "cell_type": "code",
   "execution_count": 4,
   "metadata": {},
   "outputs": [],
   "source": [
    "# robot, hand\n",
    "panda_model = RobotModel(PANDA_URDF, PANDA_PACKAGE)\n",
    "panda = Robot(world.vis, \"panda\", panda_model, alpha=0.5)\n",
    "panda.reduce_dim([7, 8], [0.04, 0.04])\n",
    "\n",
    "hand_model = RobotModel(HAND_URDF, PANDA_PACKAGE, True)\n",
    "for link_name, link in hand_model.links.items():\n",
    "    link.set_surface_points(10)\n",
    "hand = Robot(world.vis, \"hand1\", hand_model, color=\"yellow\", alpha=0.5)"
   ]
  },
  {
   "cell_type": "code",
   "execution_count": 5,
   "metadata": {},
   "outputs": [],
   "source": [
    "#load sdf meshes\n",
    "table_lengths = [0.4, 0.4, 0.2]\n",
    "table_start = Box(world.vis, \"table_start\", table_lengths, 'white', 0.5)\n",
    "table_goal = Box(world.vis, \"table_goal\", table_lengths, 'white', 0.5)\n",
    "obj_start = Mesh(world.vis, \"obj_start\", \n",
    "                 \"./sdf_world/assets/object/mesh.obj\",\n",
    "                 color=\"blue\", alpha=0.5)\n",
    "obj_goal = Mesh(world.vis, \"obj_goal\", \n",
    "                \"./sdf_world/assets/object/mesh.obj\",\n",
    "                color=\"green\", alpha=0.5)"
   ]
  },
  {
   "cell_type": "code",
   "execution_count": 6,
   "metadata": {},
   "outputs": [],
   "source": [
    "table_start.set_translate([0.5, -0.3, 0.2/2])\n",
    "table_goal.set_translate([0.5, 0.3, 0.2/2])\n",
    "obj_lengths = obj_start.mesh.bounding_box.primitive.extents\n",
    "obj_start.set_translate([0.5, -0.3, obj_lengths[-1]/2+table_lengths[-1]])\n",
    "trans_goal = jnp.array([0.5, 0.3, obj_lengths[-2]/2+table_lengths[-1]])\n",
    "obj_goal_pose = SE3.from_rotation_and_translation(\n",
    "    SO3.from_rpy_radians(jnp.pi/2, 0,0), trans_goal)\n",
    "obj_goal.set_pose(obj_goal_pose)"
   ]
  },
  {
   "cell_type": "code",
   "execution_count": 7,
   "metadata": {},
   "outputs": [],
   "source": [
    "to_posevec = lambda x: jnp.hstack([x[4:], SO3(x[:4]).log()])\n",
    "to_wxyzxyz = lambda x: jnp.hstack([SO3.exp(x[3:]).parameters(), x[:3]])\n",
    "env = SDFContainer([table_start, table_goal], 0.05)\n",
    "def grasp_reconst(grasp:Array):\n",
    "    rot = SO3(grasp_fn(grasp)[2:]).normalize()\n",
    "    trans = grasp/restored_grasp[\"scale_to_norm\"]\n",
    "    return SE3.from_rotation_and_translation(rot, trans)\n",
    "\n",
    "#visualization\n",
    "hand_pc = hand.get_surface_points_fn(jnp.array([0.04, 0.04]))\n",
    "hand_pose_wrt_ee = SE3.from_translation(jnp.array([0,0,-0.105]))\n",
    "@jax.jit\n",
    "def get_hand_pc(grasp, posevec):\n",
    "    grasp_pose = grasp_reconst(grasp)\n",
    "    hand_base_pose_wrt_world = SE3(to_wxyzxyz(posevec)) @ grasp_pose @ hand_pose_wrt_ee\n",
    "    assigned_hand_pc = jax.vmap(hand_base_pose_wrt_world.apply)(hand_pc)\n",
    "    return assigned_hand_pc\n",
    "\n",
    "pc = PointCloud(world.vis, \"hand_pc\", np.zeros((100,3)), color=\"red\")"
   ]
  },
  {
   "cell_type": "code",
   "execution_count": 8,
   "metadata": {},
   "outputs": [],
   "source": [
    "# Kinematics\n",
    "def get_rotvec_angvel_map(v):\n",
    "    def skew(v):\n",
    "        v1, v2, v3 = v\n",
    "        return jnp.array([[0, -v3, v2],\n",
    "                        [v3, 0., -v1],\n",
    "                        [-v2, v1, 0.]])\n",
    "    vmag = jnp.linalg.norm(v)\n",
    "    vskew = skew(v)\n",
    "    return jnp.eye(3) \\\n",
    "        - 1/2*skew(v) \\\n",
    "        + vskew@vskew * 1/vmag**2 * (1-vmag/2 * jnp.sin(vmag)/(1-jnp.cos(vmag)))\n",
    "\n",
    "@jax.jit\n",
    "def get_ee_fk_jac(q):\n",
    "    # outputs ee_posevec and analytical jacobian\n",
    "    fks = panda_model.fk_fn(q)\n",
    "    p_ee = fks[-1][-3:]\n",
    "    rotvec_ee = SO3(fks[-1][:4]).log()\n",
    "    E = get_rotvec_angvel_map(rotvec_ee)\n",
    "    jac = []\n",
    "    for posevec in fks[1:8]:\n",
    "        p_frame = posevec[-3:]\n",
    "        rot_axis = SE3(posevec).as_matrix()[:3, 2]\n",
    "        lin_vel = jnp.cross(rot_axis, p_ee - p_frame)\n",
    "        jac.append(jnp.hstack([lin_vel, rot_axis]))\n",
    "    jac = jnp.array(jac).T\n",
    "    jac = jac.at[3:, :].set(E @ jac[3:, :])\n",
    "    return jnp.hstack([p_ee, rotvec_ee]), jac"
   ]
  },
  {
   "attachments": {},
   "cell_type": "markdown",
   "metadata": {},
   "source": [
    "### Prepare functions"
   ]
  },
  {
   "cell_type": "code",
   "execution_count": 9,
   "metadata": {},
   "outputs": [],
   "source": [
    "#constr fns\n",
    "def grasp_constr_fn(grasp):\n",
    "    return grasp_logit_fn(grasp)\n",
    "\n",
    "def manip_constr_fn(grasp, posevec):\n",
    "    obj_pose = SE3(to_wxyzxyz(posevec))\n",
    "    grasp_pose = obj_pose @ grasp_reconst(grasp)\n",
    "    zflip = SE3.from_rotation(SO3.from_z_radians(jnp.pi))\n",
    "    grasp_pose_flip = grasp_pose @ zflip\n",
    "    posevecs = [to_posevec(pose.parameters()) for pose in [grasp_pose, grasp_pose_flip]]\n",
    "    return jax.vmap(manip_fn)(jnp.vstack(posevecs)).max()\n",
    "\n",
    "def dist_constr_fn(g1, posevec_st, posevec_ed):\n",
    "    grasps = jnp.vstack([g1, g1])\n",
    "    obj_poses = jnp.vstack([posevec_st, posevec_ed])\n",
    "    pcs = jax.vmap(get_hand_pc, (0,0))(grasps, obj_poses)\n",
    "    distances = env.distances(jnp.vstack(pcs))\n",
    "    top4_indices = jnp.argpartition(distances, 4)[:4]\n",
    "    return distances[top4_indices]\n",
    "\n",
    "# def dist_constr_fn2(g1, g2, posevec_ho, posevec_st, posevec_ed):\n",
    "#     grasps = jnp.vstack([g1, g1, g2, g2])\n",
    "#     obj_poses = jnp.vstack([posevec_st, posevec_ho, posevec_ho, posevec_ed])\n",
    "#     pcs = jax.vmap(get_hand_pc, (0,0))(grasps, obj_poses)\n",
    "#     distances = env.distances(jnp.vstack(pcs))\n",
    "#     top4_indices = jnp.argpartition(distances, 4)[:4]\n",
    "#     return distances[top4_indices]\n",
    "\n",
    "grasp_constr_jac_fns = [jax.jacrev(grasp_constr_fn)]\n",
    "manip_constr_jac_fns = [jax.jacrev(manip_constr_fn, argnums=argnums) for argnums in [0,1]]\n",
    "dist_constr_jac_fns = [jax.jacrev(dist_constr_fn)] + [None]*2\n",
    "\n",
    "ws_lb = np.array([-1,-1,-0.5, -np.pi, -np.pi, -np.pi])\n",
    "ws_ub = np.array([1,1,1.5, np.pi, np.pi, np.pi])"
   ]
  },
  {
   "cell_type": "code",
   "execution_count": 10,
   "metadata": {},
   "outputs": [],
   "source": [
    "import time\n",
    "builder = SparseIPOPTBuilder()\n",
    "\n",
    "builder.add_variable(\"g_pick\", 3, -1., 1.)\n",
    "builder.add_parameter(\"p_start\", to_posevec(obj_start.pose.parameters()))\n",
    "builder.add_parameter(\"p_goal\", to_posevec(obj_goal.pose.parameters()))\n",
    "\n",
    "builder.register_fn(\"grasp_constr\", [3], 1,\n",
    "                          grasp_constr_fn, grasp_constr_jac_fns)\n",
    "builder.register_fn(\"manip_constr\", [3, 6], 1,\n",
    "                          manip_constr_fn, manip_constr_jac_fns)\n",
    "builder.register_fn(\"dist_constr\", [3, 6, 6], 4,\n",
    "                          dist_constr_fn, dist_constr_jac_fns)\n",
    "\n",
    "def debug_obj(g_pick, posevec_st, posevec_ed):\n",
    "    grasps = jnp.vstack([g_pick, g_pick])\n",
    "    obj_poses = jnp.vstack([posevec_st, posevec_ed])\n",
    "    pcs = jax.vmap(get_hand_pc, (0,0))(grasps, obj_poses)\n",
    "    pc.reload(points=np.vstack(pcs))\n",
    "    time.sleep(0.1)\n",
    "    return 0.\n",
    "builder.register_fn(\"debug_obj\", [3, 6, 6], 1,\n",
    "                    debug_obj, [None, None, None])\n",
    "\n",
    "builder.add_objective([\"g_pick\", \"p_start\", \"p_goal\"], \"debug_obj\")\n",
    "\n",
    "builder.add_constr(\"grasp_prob\", [\"g_pick\"], \"grasp_constr\",\n",
    "                   1., np.inf)\n",
    "builder.add_constr(\"manip_pick\", [\"g_pick\", \"p_start\"], \"manip_constr\",\n",
    "                   0.3, np.inf)\n",
    "builder.add_constr(\"manip_place\", [\"g_pick\", \"p_goal\"], \"manip_constr\",\n",
    "                   0.3, np.inf)\n",
    "builder.add_constr(\"dist\", [\"g_pick\", \"p_start\", \"p_goal\"], \"dist_constr\",\n",
    "                   0.05, np.inf)\n",
    "\n",
    "builder.freeze()"
   ]
  },
  {
   "cell_type": "code",
   "execution_count": 11,
   "metadata": {},
   "outputs": [
    {
     "name": "stdout",
     "output_type": "stream",
     "text": [
      "\n",
      "Sparsity pattern:\n",
      "00 01 02 \n",
      "03 04 05 \n",
      "06 07 08 \n",
      "09 10 11 \n",
      "12 13 14 \n",
      "15 16 17 \n",
      "18 19 20 \n"
     ]
    }
   ],
   "source": [
    "ipopt = builder.build(compile_obj=False)"
   ]
  },
  {
   "cell_type": "code",
   "execution_count": 393,
   "metadata": {},
   "outputs": [
    {
     "name": "stdout",
     "output_type": "stream",
     "text": [
      "This is Ipopt version 3.14.10, running with linear solver MUMPS 5.2.1.\n",
      "\n",
      "Number of nonzeros in equality constraint Jacobian...:        0\n",
      "Number of nonzeros in inequality constraint Jacobian.:       21\n",
      "Number of nonzeros in Lagrangian Hessian.............:        0\n",
      "\n",
      "Total number of variables............................:        3\n",
      "                     variables with only lower bounds:        0\n",
      "                variables with lower and upper bounds:        3\n",
      "                     variables with only upper bounds:        0\n",
      "Total number of equality constraints.................:        0\n",
      "Total number of inequality constraints...............:        7\n",
      "        inequality constraints with only lower bounds:        7\n",
      "   inequality constraints with lower and upper bounds:        0\n",
      "        inequality constraints with only upper bounds:        0\n",
      "\n",
      "iter    objective    inf_pr   inf_du lg(mu)  ||d||  lg(rg) alpha_du alpha_pr  ls\n",
      "   0  0.0000000e+00 2.70e+02 1.00e+00   0.0 0.00e+00    -  0.00e+00 0.00e+00   0\n",
      "   1  0.0000000e+00 2.54e+02 6.92e+01   0.6 3.78e+00    -  2.33e-01 5.62e-02f  1\n",
      "   2  0.0000000e+00 2.54e+02 1.15e+02  -5.8 7.02e+01    -  1.73e-01 3.14e-03h  1\n",
      "   3  0.0000000e+00 2.09e+02 1.84e+02   1.1 2.35e+01    -  2.32e-01 1.58e-01f  1\n",
      "   4  0.0000000e+00 2.06e+02 1.11e+02   0.3 6.84e+01    -  6.27e-01 5.38e-02h  1\n",
      "   5  0.0000000e+00 1.85e+02 2.98e+03   0.9 1.94e+01    -  6.57e-01 1.26e-01f  1\n",
      "   6  0.0000000e+00 4.40e+02 4.87e+03   2.4 1.91e+01    -  2.43e-01 4.44e-01f  1\n",
      "   7  0.0000000e+00 1.58e+02 1.78e+03   2.0 2.78e+00    -  1.00e+00 1.00e+00h  1\n",
      "   8  0.0000000e+00 7.16e+01 2.24e+03   2.0 2.73e+00    -  1.00e+00 5.52e-01h  1\n",
      "   9  0.0000000e+00 9.55e+00 1.22e+03   1.8 1.21e+00    -  9.86e-01 1.00e+00f  1\n",
      "iter    objective    inf_pr   inf_du lg(mu)  ||d||  lg(rg) alpha_du alpha_pr  ls\n",
      "  10  0.0000000e+00 0.00e+00 4.71e+02   1.5 7.68e+00    -  6.98e-01 1.00e+00h  1\n",
      "  11  0.0000000e+00 0.00e+00 3.28e+01   0.3 2.41e-01    -  9.97e-01 1.00e+00h  1\n",
      "  12  0.0000000e+00 0.00e+00 6.18e-01  -1.2 4.29e-03    -  9.99e-01 1.00e+00h  1\n",
      "  13  0.0000000e+00 0.00e+00 3.96e-03  -3.1 1.10e-04    -  1.00e+00 1.00e+00h  1\n",
      "  14  0.0000000e+00 0.00e+00 3.33e-05  -5.2 1.14e-03    -  1.00e+00 1.00e+00h  1\n",
      "  15  0.0000000e+00 0.00e+00 1.13e-09 -11.0 1.40e-07    -  1.00e+00 1.00e+00h  1\n",
      "\n",
      "Number of Iterations....: 15\n",
      "\n",
      "                                   (scaled)                 (unscaled)\n",
      "Objective...............:   0.0000000000000000e+00    0.0000000000000000e+00\n",
      "Dual infeasibility......:   1.1305120372225323e-09    1.1305120372225323e-09\n",
      "Constraint violation....:   0.0000000000000000e+00    0.0000000000000000e+00\n",
      "Variable bound violation:   0.0000000000000000e+00    0.0000000000000000e+00\n",
      "Complementarity.........:   2.5320131420237587e-10    2.5320131420237587e-10\n",
      "Overall NLP error.......:   1.1305120372225323e-09    1.1305120372225323e-09\n",
      "\n",
      "\n",
      "Number of objective function evaluations             = 16\n",
      "Number of objective gradient evaluations             = 16\n",
      "Number of equality constraint evaluations            = 0\n",
      "Number of inequality constraint evaluations          = 16\n",
      "Number of equality constraint Jacobian evaluations   = 0\n",
      "Number of inequality constraint Jacobian evaluations = 16\n",
      "Number of Lagrangian Hessian evaluations             = 0\n",
      "Total seconds in IPOPT                               = 1.784\n",
      "\n",
      "EXIT: Optimal Solution Found.\n"
     ]
    }
   ],
   "source": [
    "xsol, info = ipopt.solve(-np.ones(3))"
   ]
  },
  {
   "cell_type": "code",
   "execution_count": 394,
   "metadata": {},
   "outputs": [],
   "source": [
    "grasp = xsol"
   ]
  },
  {
   "cell_type": "code",
   "execution_count": 14,
   "metadata": {},
   "outputs": [],
   "source": [
    "frame = Frame(world.vis, \"frame\")"
   ]
  },
  {
   "cell_type": "code",
   "execution_count": 15,
   "metadata": {},
   "outputs": [],
   "source": [
    "frame2 = Frame(world.vis, \"frame2\")"
   ]
  },
  {
   "cell_type": "code",
   "execution_count": 395,
   "metadata": {},
   "outputs": [],
   "source": [
    "panda.set_joint_angles(panda.neutral)"
   ]
  },
  {
   "cell_type": "code",
   "execution_count": 17,
   "metadata": {},
   "outputs": [],
   "source": [
    "zflip = SE3.from_rotation(SO3.from_z_radians(jnp.pi))\n",
    "def kin_error_fn(q, grasp, p_obj):\n",
    "    posevec_ee, jac = get_ee_fk_jac(q)\n",
    "    obj_pose = SE3(to_wxyzxyz(p_obj))\n",
    "    grasp_pose = obj_pose @ grasp_reconst(grasp) @ zflip\n",
    "    grasp_posevec = to_posevec(grasp_pose.parameters())\n",
    "    err = grasp_posevec - posevec_ee\n",
    "    return err\n",
    "\n",
    "def kin_error_jac_fn(q, grasp, p_obj):\n",
    "    _, jac = get_ee_fk_jac(q)\n",
    "    return - jac\n",
    "\n",
    "def debug_obj2(q, grasp, p_obj):\n",
    "    panda.set_joint_angles(q)\n",
    "    posevec_ee, jac = get_ee_fk_jac(q)\n",
    "    obj_pose = SE3(to_wxyzxyz(p_obj))\n",
    "    frame2.set_pose(SE3(to_wxyzxyz(posevec_ee)))\n",
    "    grasp_pose = obj_pose @ grasp_reconst(grasp) @ zflip\n",
    "    frame.set_pose(grasp_pose)\n",
    "    #pc.reload(points=np.vstack(pcs))\n",
    "    time.sleep(0.1)\n",
    "    return 0.\n",
    "\n",
    "builder2 = SparseIPOPTBuilder()\n",
    "\n",
    "builder2.add_variable(\"q_pick\", 7, panda.lb, panda.ub)\n",
    "#builder2.add_variable(\"q_place\", 7, panda.lb, panda.ub)\n",
    "builder2.add_parameter(\"p_start\", to_posevec(obj_start.pose.parameters()))\n",
    "#builder2.add_parameter(\"p_goal\", to_posevec(obj_goal.pose.parameters()))\n",
    "builder2.add_parameter(\"grasp\", xsol)\n",
    "\n",
    "builder2.register_fn(\"kin_constr\", [7, 3, 6], 6,\n",
    "                          kin_error_fn, [kin_error_jac_fn, None, None])\n",
    "builder2.register_fn(\"obj_debug\", [7, 3, 6], 1,\n",
    "                          debug_obj2, [None, None, None])\n",
    "builder2.add_objective([\"q_pick\", \"grasp\", \"p_start\"], \"obj_debug\")\n",
    "builder2.add_constr(\"kin\", [\"q_pick\", \"grasp\", \"p_start\"], \"kin_constr\",\n",
    "                   0., 0.)"
   ]
  },
  {
   "cell_type": "code",
   "execution_count": 18,
   "metadata": {},
   "outputs": [
    {
     "name": "stdout",
     "output_type": "stream",
     "text": [
      "\n",
      "Sparsity pattern:\n",
      "00 01 02 03 04 05 06 \n",
      "07 08 09 10 11 12 13 \n",
      "14 15 16 17 18 19 20 \n",
      "21 22 23 24 25 26 27 \n",
      "28 29 30 31 32 33 34 \n",
      "35 36 37 38 39 40 41 \n"
     ]
    }
   ],
   "source": [
    "builder2.freeze()\n",
    "ipopt2 = builder2.build(compile_obj=False)"
   ]
  },
  {
   "cell_type": "code",
   "execution_count": 456,
   "metadata": {},
   "outputs": [],
   "source": [
    "import PyCeres"
   ]
  },
  {
   "cell_type": "code",
   "execution_count": 457,
   "metadata": {},
   "outputs": [],
   "source": [
    "class IK(PyCeres.CostFunction):\n",
    "    def __init__(self, grasp):\n",
    "        super().__init__()\n",
    "        self.set_num_residuals(6)\n",
    "        self.set_parameter_block_sizes([7])\n",
    "        target_pose = (obj_start.pose @ grasp_reconst(grasp))\n",
    "        target_posevec = to_posevec(target_pose.parameters())\n",
    "        self.ik_target = target_posevec\n",
    "    \n",
    "    def Evaluate(self, parameters, residuals, jacobians):\n",
    "        #parameters = [q]\n",
    "        #residuals = [err]\n",
    "        #jacobians = [jac_q]\n",
    "        q = parameters[0]\n",
    "        ee_posevec, jac = get_ee_fk_jac(q)\n",
    "        err = self.target_posevec - ee_posevec\n",
    "        if (jacobians != None):\n",
    "            jacobians[0][:] = jac.flatten()\n",
    "        residuals[0][:] = err\n",
    "        panda.set_joint_angles(q)\n",
    "        time.sleep(0.1)\n",
    "        return True    "
   ]
  },
  {
   "cell_type": "code",
   "execution_count": 459,
   "metadata": {},
   "outputs": [],
   "source": [
    "feat_ik = IK(grasp)"
   ]
  },
  {
   "cell_type": "code",
   "execution_count": 460,
   "metadata": {},
   "outputs": [
    {
     "data": {
      "text/plain": [
       "Array([ 0.496085  , -0.25153726,  0.4085922 ,  2.095177  ,  2.2025557 ,\n",
       "        0.19674964], dtype=float32)"
      ]
     },
     "execution_count": 460,
     "metadata": {},
     "output_type": "execute_result"
    }
   ],
   "source": [
    "feat_ik.ik_target"
   ]
  },
  {
   "cell_type": "code",
   "execution_count": 396,
   "metadata": {},
   "outputs": [],
   "source": [
    "q = panda.neutral.copy()\n",
    "\n",
    "\n",
    "panda.set_joint_angles(panda.neutral)"
   ]
  },
  {
   "cell_type": "code",
   "execution_count": 454,
   "metadata": {},
   "outputs": [],
   "source": [
    "ee, jac = get_ee_fk_jac(q)\n",
    "err = target_posevec - ee\n",
    "grad = - jac.T @ err\n",
    "hess = jac.T@jac\n",
    "d = - jnp.linalg.pinv(hess) @ grad\n",
    "\n",
    "q = q + d*0.1\n",
    "\n",
    "panda.set_joint_angles(q)"
   ]
  },
  {
   "cell_type": "code",
   "execution_count": 19,
   "metadata": {},
   "outputs": [
    {
     "name": "stdout",
     "output_type": "stream",
     "text": [
      "This is Ipopt version 3.14.10, running with linear solver MUMPS 5.2.1.\n",
      "\n",
      "Number of nonzeros in equality constraint Jacobian...:       42\n",
      "Number of nonzeros in inequality constraint Jacobian.:        0\n",
      "Number of nonzeros in Lagrangian Hessian.............:        0\n",
      "\n",
      "Total number of variables............................:        7\n",
      "                     variables with only lower bounds:        0\n",
      "                variables with lower and upper bounds:        7\n",
      "                     variables with only upper bounds:        0\n",
      "Total number of equality constraints.................:        6\n",
      "Total number of inequality constraints...............:        0\n",
      "        inequality constraints with only lower bounds:        0\n",
      "   inequality constraints with lower and upper bounds:        0\n",
      "        inequality constraints with only upper bounds:        0\n",
      "\n",
      "iter    objective    inf_pr   inf_du lg(mu)  ||d||  lg(rg) alpha_du alpha_pr  ls\n",
      "   0  0.0000000e+00 2.39e+00 0.00e+00   0.0 0.00e+00    -  0.00e+00 0.00e+00   0\n",
      "   1  0.0000000e+00 2.72e+00 4.40e+00  -5.6 2.92e+00    -  3.46e-01 5.33e-01h  1\n",
      "   2  0.0000000e+00 2.47e+00 1.02e+01  -0.1 6.69e+00    -  3.35e-01 1.35e-01H  1\n",
      "   3  0.0000000e+00 2.44e+00 1.27e+03  -0.0 2.19e+00    -  7.31e-01 1.24e-02h  1\n",
      "   4  0.0000000e+00 2.43e+00 1.52e+06   0.5 3.21e+00    -  1.00e+00 8.86e-04h  1\n",
      "   5  0.0000000e+00 2.43e+00 9.52e+10   1.2 3.29e+00    -  1.00e+00 1.58e-05h  1\n",
      "   6r 0.0000000e+00 2.43e+00 9.97e+02   3.1 0.00e+00    -  0.00e+00 3.89e-07R  3\n",
      "   7r 0.0000000e+00 1.75e+00 1.43e+02   1.5 6.79e+00    -  8.88e-01 4.78e-01f  1\n",
      "   8  0.0000000e+00 1.06e+00 2.86e+01  -0.1 4.85e+00    -  7.00e-02 2.97e-01f  1\n",
      "   9  0.0000000e+00 3.19e-01 1.21e+01  -0.1 1.40e+00    -  6.77e-01 5.96e-01h  1\n",
      "iter    objective    inf_pr   inf_du lg(mu)  ||d||  lg(rg) alpha_du alpha_pr  ls\n",
      "  10  0.0000000e+00 1.94e-01 8.75e+00  -0.7 6.49e-01    -  9.61e-01 5.92e-01h  1\n",
      "  11  0.0000000e+00 1.52e-01 8.47e+01  -1.2 2.34e-01    -  1.00e+00 2.16e-01h  1\n",
      "  12  0.0000000e+00 1.51e-01 1.97e+04  -1.9 6.83e-01    -  1.00e+00 6.31e-03h  1\n",
      "  13  0.0000000e+00 1.51e-01 3.96e+07   0.3 1.18e+00    -  1.00e+00 5.08e-04h  1\n",
      "  14r 0.0000000e+00 1.51e-01 1.00e+03   2.5 0.00e+00    -  0.00e+00 3.17e-07R  5\n",
      "  15r 0.0000000e+00 9.33e-02 1.66e+01   0.0 4.96e-01    -  9.92e-01 7.59e-01f  1\n",
      "  16  0.0000000e+00 9.24e-02 1.31e+02  -1.5 9.24e-02    -  9.74e-01 9.94e-03h  1\n",
      "  17  0.0000000e+00 9.24e-02 6.94e+05  -1.7 6.43e-01    -  9.85e-01 1.91e-04h  1\n",
      "  18  0.0000000e+00 9.23e-02 1.29e+09  -1.9 1.35e+00    -  1.00e+00 4.73e-04h  1\n",
      "  19r 0.0000000e+00 9.23e-02 1.00e+03   3.4 0.00e+00    -  0.00e+00 3.01e-07R  5\n",
      "iter    objective    inf_pr   inf_du lg(mu)  ||d||  lg(rg) alpha_du alpha_pr  ls\n",
      "  20r 0.0000000e+00 9.01e-02 4.96e+01  -2.9 2.56e+00    -  9.51e-01 9.70e-01f  1\n",
      "  21r 0.0000000e+00 1.99e-02 6.26e+00  -4.5 1.14e-01    -  9.27e-01 8.79e-01f  1\n",
      "  22r 0.0000000e+00 1.99e-02 9.95e+02  -1.0 0.00e+00    -  0.00e+00 2.90e-07R  5\n",
      "  23r 0.0000000e+00 2.06e-02 9.98e+02  -5.9 1.49e+00    -  4.59e-02 1.74e-03f  1\n",
      "  24r 0.0000000e+00 3.75e-02 8.88e+02   0.1 1.20e+00    -  1.00e+00 5.92e-02f  1\n",
      "  25r 0.0000000e+00 3.69e-02 1.69e+02  -1.4 3.04e-02    -  1.00e+00 8.21e-01f  1\n",
      "  26r 0.0000000e+00 4.10e-02 7.17e+00  -2.2 1.69e-02    -  1.00e+00 1.00e+00f  1\n",
      "  27r 0.0000000e+00 3.90e-02 2.20e-01  -1.6 8.78e-03    -  1.00e+00 1.00e+00f  1\n",
      "  28r 0.0000000e+00 3.90e-02 4.10e-02  -3.5 7.46e-04    -  1.00e+00 1.00e+00f  1\n",
      "  29r 0.0000000e+00 3.91e-02 1.75e-03  -5.4 1.15e-04    -  1.00e+00 1.00e+00f  1\n",
      "iter    objective    inf_pr   inf_du lg(mu)  ||d||  lg(rg) alpha_du alpha_pr  ls\n",
      "  30r 0.0000000e+00 3.91e-02 2.85e-04  -7.4 2.49e-06    -  1.00e+00 1.00e+00h  1\n",
      "  31r 0.0000000e+00 3.91e-02 2.17e-04  -9.0 4.04e-07    -  1.00e+00 1.00e+00h  1\n",
      "  32r 0.0000000e+00 3.91e-02 1.85e-04  -9.0 1.76e-07    -  1.00e+00 1.00e+00h  1\n",
      "  33r 0.0000000e+00 3.91e-02 1.14e-04  -9.0 1.95e-07    -  1.00e+00 1.00e+00h  1\n",
      "  34r 0.0000000e+00 3.91e-02 1.89e-04  -9.0 1.29e-07    -  1.00e+00 1.00e+00h  1\n",
      "  35r 0.0000000e+00 3.91e-02 2.20e-04  -9.0 6.37e-07    -  1.00e+00 2.50e-01h  3\n",
      "  36r 0.0000000e+00 3.91e-02 1.99e-04  -9.0 1.94e-07    -  1.00e+00 1.00e+00H  1\n",
      "  37r 0.0000000e+00 3.91e-02 7.49e-05  -9.0 2.00e-07    -  1.00e+00 1.00e+00h  1\n",
      "  38r 0.0000000e+00 3.91e-02 1.84e-04  -9.0 3.29e-07    -  1.00e+00 5.00e-01h  2\n",
      "  39r 0.0000000e+00 3.91e-02 2.57e-04  -9.0 2.71e-07    -  1.00e+00 1.00e+00h  1\n",
      "iter    objective    inf_pr   inf_du lg(mu)  ||d||  lg(rg) alpha_du alpha_pr  ls\n",
      "  40r 0.0000000e+00 3.91e-02 2.14e-04  -9.0 2.12e-07    -  1.00e+00 1.00e+00h  1\n",
      "  41r 0.0000000e+00 3.91e-02 2.16e-04  -9.0 1.60e-07    -  1.00e+00 5.00e-01h  2\n",
      "  42r 0.0000000e+00 3.91e-02 6.68e-04  -9.0 2.16e-07    -  1.00e+00 1.00e+00h  1\n",
      "  43r 0.0000000e+00 3.91e-02 2.64e-04  -9.0 3.29e-07    -  1.00e+00 1.00e+00H  1\n",
      "  44r 0.0000000e+00 3.82e-02 1.25e+00  -9.0 3.48e-03    -  1.00e+00 1.00e+00H  1\n",
      "  45r 0.0000000e+00 3.91e-02 1.18e-03  -9.0 3.79e-03    -  1.00e+00 1.00e+00f  1\n",
      "  46r 0.0000000e+00 3.91e-02 4.78e-04  -9.0 1.82e-06    -  1.00e+00 1.00e+00h  1\n",
      "  47r 0.0000000e+00 3.91e-02 1.82e-04  -9.0 2.32e-07    -  1.00e+00 1.00e+00h  1\n",
      "  48r 0.0000000e+00 3.91e-02 2.33e-04  -9.0 3.35e-07    -  1.00e+00 1.00e+00h  1\n",
      "  49r 0.0000000e+00 3.91e-02 3.07e-04  -9.0 1.72e-07    -  1.00e+00 1.00e+00h  1\n",
      "iter    objective    inf_pr   inf_du lg(mu)  ||d||  lg(rg) alpha_du alpha_pr  ls\n",
      "  50r 0.0000000e+00 3.91e-02 6.69e-04  -9.0 8.41e-07    -  1.00e+00 1.00e+00h  1\n",
      "  51r 0.0000000e+00 3.91e-02 7.70e-05  -9.0 5.77e-07    -  1.00e+00 1.00e+00h  1\n",
      "  52r 0.0000000e+00 3.91e-02 1.27e-04  -9.0 1.24e-07    -  1.00e+00 1.00e+00h  1\n",
      "  53r 0.0000000e+00 3.91e-02 5.16e-04  -9.0 7.43e-07    -  1.00e+00 2.50e-01h  3\n",
      "  54r 0.0000000e+00 3.91e-02 6.56e-05  -9.0 2.16e-07    -  1.00e+00 1.00e+00H  1\n",
      "  55r 0.0000000e+00 3.91e-02 4.40e-04  -9.0 3.46e-07    -  1.00e+00 1.00e+00h  1\n",
      "  56r 0.0000000e+00 3.91e-02 3.27e-04  -9.0 2.14e-07    -  1.00e+00 1.00e+00h  1\n",
      "  57r 0.0000000e+00 3.91e-02 2.41e-04  -9.0 1.95e-07    -  1.00e+00 1.00e+00H  1\n",
      "  58r 0.0000000e+00 3.91e-02 1.91e-04  -9.0 2.06e-07    -  1.00e+00 1.00e+00h  1\n",
      "  59r 0.0000000e+00 3.91e-02 1.61e-04  -9.0 3.27e-07    -  1.00e+00 5.00e-01h  2\n",
      "iter    objective    inf_pr   inf_du lg(mu)  ||d||  lg(rg) alpha_du alpha_pr  ls\n",
      "  60r 0.0000000e+00 3.91e-02 7.72e-05  -9.0 1.47e-07    -  1.00e+00 1.25e-01h  4\n",
      "  61r 0.0000000e+00 3.91e-02 4.71e-03  -9.0 3.74e-03    -  1.00e+00 3.91e-03h  9\n",
      "  62r 0.0000000e+00 3.91e-02 4.70e-03  -9.0 1.45e-05    -  1.00e+00 3.91e-03h  9\n",
      "  63r 0.0000000e+00 4.43e-02 7.75e+01  -7.0 1.28e+02    -  7.29e-05 1.35e-03f  1\n",
      "  64r 0.0000000e+00 3.83e-02 1.29e+00  -9.0 1.72e-01    -  1.00e+00 9.80e-01f  1\n",
      "  65r 0.0000000e+00 3.64e-02 1.21e+00  -9.0 8.37e-03    -  9.70e-01 1.00e+00h  1\n",
      "  66r 0.0000000e+00 3.80e-02 9.75e-01  -2.5 7.13e-03    -  1.00e+00 1.00e+00f  1\n",
      "  67r 0.0000000e+00 3.87e-02 1.09e-02  -2.5 3.21e-03    -  1.00e+00 1.00e+00h  1\n",
      "  68r 0.0000000e+00 3.90e-02 1.62e-02  -3.7 1.24e-03    -  1.00e+00 1.00e+00f  1\n",
      "  69r 0.0000000e+00 3.91e-02 1.98e-03  -3.7 1.67e-04    -  1.00e+00 1.00e+00h  1\n",
      "iter    objective    inf_pr   inf_du lg(mu)  ||d||  lg(rg) alpha_du alpha_pr  ls\n",
      "  70r 0.0000000e+00 3.91e-02 1.05e-03  -5.6 4.55e-05    -  1.00e+00 1.00e+00f  1\n",
      "  71r 0.0000000e+00 3.91e-02 9.39e-05  -5.6 1.07e-06    -  1.00e+00 1.00e+00h  1\n",
      "  72r 0.0000000e+00 3.91e-02 1.88e-04  -8.4 1.10e-06    -  1.00e+00 1.00e+00H  1\n",
      "  73r 0.0000000e+00 3.91e-02 2.49e-04  -8.4 1.22e-07    -  1.00e+00 1.00e+00h  1\n",
      "  74r 0.0000000e+00 3.91e-02 1.14e-04  -8.4 2.78e-07    -  1.00e+00 2.50e-01h  3\n",
      "  75r 0.0000000e+00 3.91e-02 6.28e-03  -8.4 2.31e-07    -  1.00e+00 1.00e+00H  1\n",
      "  76r 0.0000000e+00 3.91e-02 7.14e-03  -8.4 8.04e-07    -  1.00e+00 6.25e-02h  5\n",
      "  77r 0.0000000e+00 3.91e-02 9.89e-04  -8.4 1.20e-04    -  1.00e+00 3.12e-02h  6\n",
      "  78r 0.0000000e+00 3.91e-02 3.49e-04  -8.4 3.46e-06    -  1.00e+00 1.00e+00H  1\n",
      "  79r 0.0000000e+00 3.91e-02 2.98e-04  -9.0 4.06e-07    -  1.00e+00 1.00e+00h  1\n",
      "iter    objective    inf_pr   inf_du lg(mu)  ||d||  lg(rg) alpha_du alpha_pr  ls\n",
      "  80r 0.0000000e+00 3.91e-02 8.84e-05  -9.0 2.37e-07    -  1.00e+00 1.00e+00h  1\n",
      "  81r 0.0000000e+00 3.91e-02 2.76e-04  -9.0 2.38e-07    -  1.00e+00 1.00e+00H  1\n",
      "  82r 0.0000000e+00 3.91e-02 1.51e-04  -9.0 2.95e-07    -  1.00e+00 1.00e+00h  1\n",
      "  83r 0.0000000e+00 3.91e-02 1.87e-04  -9.0 2.60e-07    -  1.00e+00 1.00e+00h  1\n",
      "  84r 0.0000000e+00 3.91e-02 5.70e-03  -9.0 1.30e-05    -  1.00e+00 1.00e+00h  1\n",
      "  85r 0.0000000e+00 3.91e-02 2.22e-04  -9.0 1.29e-05    -  1.00e+00 1.00e+00h  1\n",
      "  86r 0.0000000e+00 3.91e-02 1.48e-04  -9.0 3.04e-07    -  1.00e+00 5.00e-01h  2\n",
      "  87r 0.0000000e+00 3.91e-02 5.40e-04  -9.0 2.01e-07    -  1.00e+00 1.00e+00H  1\n",
      "  88r 0.0000000e+00 3.91e-02 2.39e-04  -9.0 3.43e-07    -  1.00e+00 1.00e+00H  1\n",
      "  89r 0.0000000e+00 3.91e-02 6.37e-04  -9.0 5.24e-07    -  1.00e+00 1.00e+00h  1\n",
      "iter    objective    inf_pr   inf_du lg(mu)  ||d||  lg(rg) alpha_du alpha_pr  ls\n",
      "  90r 0.0000000e+00 3.91e-02 3.35e-04  -9.0 3.06e-07    -  1.00e+00 1.00e+00h  1\n",
      "  91r 0.0000000e+00 3.91e-02 1.78e-04  -9.0 3.56e-07    -  1.00e+00 1.00e+00h  1\n",
      "  92r 0.0000000e+00 3.91e-02 1.90e-04  -9.0 2.49e-07    -  1.00e+00 5.00e-01h  2\n",
      "  93r 0.0000000e+00 3.91e-02 1.99e-04  -9.0 3.15e-07    -  1.00e+00 1.00e+00H  1\n",
      "  94r 0.0000000e+00 3.91e-02 2.80e-04  -9.0 3.82e-07    -  1.00e+00 2.50e-01h  3\n",
      "  95r 0.0000000e+00 3.91e-02 1.71e-04  -9.0 1.10e-05    -  1.00e+00 1.56e-02h  7\n",
      "  96r 0.0000000e+00 3.91e-02 1.72e-04  -9.0 1.67e-07    -  1.00e+00 2.50e-01h  3\n",
      "  97r 0.0000000e+00 3.91e-02 1.49e-04  -9.0 1.58e-07    -  1.00e+00 1.25e-01h  4\n",
      "  98r 0.0000000e+00 3.91e-02 4.99e-04  -9.0 3.52e+00    -  2.63e-03 3.74e-07h 18\n",
      "  99r 0.0000000e+00 3.91e-02 1.64e-04  -9.0 1.05e-06    -  1.00e+00 1.00e+00h  1\n",
      "iter    objective    inf_pr   inf_du lg(mu)  ||d||  lg(rg) alpha_du alpha_pr  ls\n",
      " 100r 0.0000000e+00 3.91e-02 1.12e-04  -9.0 3.53e-07    -  1.00e+00 5.00e-01h  2\n",
      " 101r 0.0000000e+00 3.91e-02 4.69e-05  -9.0 2.26e-07    -  1.00e+00 5.00e-01h  2\n",
      " 102r 0.0000000e+00 3.91e-02 1.82e-04  -9.0 1.44e-07    -  1.00e+00 1.00e+00h  1\n",
      " 103r 0.0000000e+00 3.91e-02 3.41e-04  -9.0 5.27e-07    -  1.00e+00 6.25e-02h  5\n",
      " 104r 0.0000000e+00 3.91e-02 7.11e-05  -9.0 3.21e-03    -  1.00e+00 3.81e-06h 19\n",
      " 105r 0.0000000e+00 3.91e-02 1.32e-04  -9.0 4.52e-07    -  1.00e+00 7.81e-03h  8\n",
      " 106r 0.0000000e+00 3.91e-02 1.32e-04  -9.0 6.79e-06    -  0.00e+00 4.77e-07R 22\n",
      " 107r 0.0000000e+00 3.91e-02 2.28e-03  -9.0 6.79e-06    -  1.00e+00 1.00e+00f  1\n",
      " 108r 0.0000000e+00 3.91e-02 7.71e-05  -9.0 6.76e-06    -  1.00e+00 1.00e+00h  1\n",
      " 109r 0.0000000e+00 3.91e-02 1.70e-04  -9.0 4.94e-07    -  1.00e+00 1.00e+00h  1\n",
      "iter    objective    inf_pr   inf_du lg(mu)  ||d||  lg(rg) alpha_du alpha_pr  ls\n",
      " 110r 0.0000000e+00 3.91e-02 1.20e-04  -9.0 2.77e-07    -  1.00e+00 1.00e+00h  1\n",
      " 111r 0.0000000e+00 3.91e-02 5.58e-04  -9.0 2.77e-07    -  1.00e+00 1.00e+00h  1\n",
      " 112r 0.0000000e+00 3.91e-02 1.21e-04  -9.0 2.73e-07    -  1.00e+00 1.00e+00h  1\n",
      " 113r 0.0000000e+00 3.91e-02 2.01e-04  -9.0 1.23e-07    -  1.00e+00 1.00e+00h  1\n",
      " 114r 0.0000000e+00 3.91e-02 1.29e-04  -9.0 4.06e-07    -  1.00e+00 2.50e-01h  3\n",
      " 115r 0.0000000e+00 3.91e-02 3.49e-04  -9.0 2.66e-07    -  1.00e+00 1.00e+00H  1\n",
      " 116r 0.0000000e+00 3.91e-02 2.54e-04  -9.0 5.61e-07    -  1.00e+00 5.00e-01h  2\n",
      " 117r 0.0000000e+00 3.91e-02 1.05e-02  -9.0 3.16e-05    -  1.00e+00 1.00e+00h  1\n",
      " 118r 0.0000000e+00 3.91e-02 7.91e-03  -9.0 3.15e-05    -  1.00e+00 2.50e-01h  3\n",
      " 119r 0.0000000e+00 3.91e-02 4.71e-04  -9.0 2.28e-05    -  1.00e+00 1.00e+00h  1\n",
      "iter    objective    inf_pr   inf_du lg(mu)  ||d||  lg(rg) alpha_du alpha_pr  ls\n",
      " 120r 0.0000000e+00 3.91e-02 2.27e-04  -9.0 9.08e-07    -  1.00e+00 6.25e-02h  5\n",
      " 121r 0.0000000e+00 3.91e-02 9.51e-02  -9.0 7.45e+00    -  2.32e-02 3.88e-05h  6\n",
      " 122r 0.0000000e+00 3.91e-02 8.32e-02  -9.0 2.88e-04    -  1.00e+00 1.25e-01h  4\n",
      " 123r 0.0000000e+00 3.91e-02 5.82e-04  -9.0 2.53e-04    -  1.00e+00 1.00e+00H  1\n",
      " 124r 0.0000000e+00 3.91e-02 2.57e-04  -9.0 5.84e-07    -  1.00e+00 1.00e+00H  1\n",
      " 125r 0.0000000e+00 3.91e-02 7.82e-05  -9.0 1.89e-07    -  1.00e+00 1.25e-01h  4\n",
      " 126r 0.0000000e+00 3.91e-02 1.13e-04  -9.0 8.71e-08    -  1.00e+00 6.25e-02h  5\n",
      " 127r 0.0000000e+00 4.43e-02 7.76e+01  -7.0 3.60e+00    -  3.46e-03 4.80e-02h  1\n",
      " 128r 0.0000000e+00 3.83e-02 1.35e+00  -8.6 1.73e-01    -  1.00e+00 9.80e-01f  1\n",
      " 129r 0.0000000e+00 3.80e-02 1.15e+03  -3.7 8.82e+02    -  6.63e-04 1.35e-06f  8\n",
      "iter    objective    inf_pr   inf_du lg(mu)  ||d||  lg(rg) alpha_du alpha_pr  ls\n",
      " 130r 0.0000000e+00 4.18e-02 3.34e+01  -2.0 2.69e-02    -  9.71e-01 1.00e+00h  1\n",
      " 131r 0.0000000e+00 3.99e-02 8.26e+00  -2.0 2.10e-02    -  5.68e-01 1.00e+00f  1\n",
      " 132r 0.0000000e+00 3.83e-02 3.95e-01  -2.0 7.29e-03    -  1.00e+00 1.00e+00f  1\n",
      " 133r 0.0000000e+00 3.89e-02 1.00e-01  -3.0 2.40e-03    -  1.00e+00 1.00e+00f  1\n",
      " 134r 0.0000000e+00 3.90e-02 5.90e-03  -3.0 6.90e-04    -  1.00e+00 1.00e+00h  1\n",
      " 135r 0.0000000e+00 3.91e-02 5.34e-04  -4.5 2.40e-04    -  1.00e+00 1.00e+00f  1\n",
      " 136r 0.0000000e+00 3.91e-02 1.41e-04  -6.8 1.48e-05    -  1.00e+00 1.00e+00h  1\n",
      " 137r 0.0000000e+00 3.91e-02 1.03e-04  -6.8 5.78e-07    -  1.00e+00 1.00e+00h  1\n",
      " 138r 0.0000000e+00 3.91e-02 3.53e-05  -6.8 2.47e-07    -  1.00e+00 2.50e-01h  3\n",
      " 139r 0.0000000e+00 3.91e-02 1.13e-04  -6.8 2.10e-07    -  1.00e+00 2.50e-01h  3\n",
      "iter    objective    inf_pr   inf_du lg(mu)  ||d||  lg(rg) alpha_du alpha_pr  ls\n",
      " 140r 0.0000000e+00 3.91e-02 8.66e-02  -6.8 1.92e-04    -  1.00e+00 1.00e+00H  1\n",
      " 141r 0.0000000e+00 3.91e-02 2.08e-04  -6.8 1.92e-04    -  1.00e+00 1.00e+00h  1\n",
      " 142r 0.0000000e+00 3.91e-02 2.75e-04  -6.8 5.20e-07    -  1.00e+00 1.00e+00h  1\n",
      " 143r 0.0000000e+00 3.91e-02 1.70e-04  -6.8 2.64e-07    -  1.00e+00 1.00e+00H  1\n",
      " 144r 0.0000000e+00 3.91e-02 1.55e-04  -6.8 5.29e-07    -  1.00e+00 1.00e+00h  1\n",
      " 145r 0.0000000e+00 3.91e-02 7.04e-05  -6.8 1.99e-07    -  1.00e+00 1.00e+00h  1\n",
      " 146r 0.0000000e+00 3.91e-02 2.16e-05  -6.8 8.20e-08    -  1.00e+00 2.50e-01h  3\n",
      " 147r 0.0000000e+00 3.91e-02 5.63e-05  -6.8 4.37e-04    -  1.00e+00 3.05e-05h 16\n",
      " 148r 0.0000000e+00 3.91e-02 9.53e-02  -6.8 9.38e-03    -  1.00e+00 3.08e-02h  6\n",
      " 149r 0.0000000e+00 3.91e-02 9.53e-02  -6.8 2.89e-04    -  1.00e+00 4.88e-04h 12\n",
      "iter    objective    inf_pr   inf_du lg(mu)  ||d||  lg(rg) alpha_du alpha_pr  ls\n",
      " 150r 0.0000000e+00 3.91e-02 9.39e-02  -6.8 2.89e-04    -  1.00e+00 1.56e-02h  7\n",
      " 151r 0.0000000e+00 3.91e-02 7.08e-03  -6.8 2.89e-04    -  1.00e+00 1.00e+00h  1\n",
      " 152r 0.0000000e+00 3.91e-02 1.52e-04  -6.8 4.30e-06    -  1.00e+00 1.00e+00h  1\n",
      " 153r 0.0000000e+00 3.91e-02 1.94e-04  -6.8 4.38e-07    -  1.00e+00 1.00e+00H  1\n",
      " 154r 0.0000000e+00 3.91e-02 1.63e-04  -6.8 5.58e-07    -  1.00e+00 6.25e-02h  5\n",
      " 155r 0.0000000e+00 3.91e-02 1.62e-04  -6.8 4.15e-07    -  1.00e+00 5.00e-01h  2\n",
      " 156r 0.0000000e+00 3.91e-02 3.31e-04  -6.8 2.82e-07    -  1.00e+00 1.00e+00H  1\n",
      " 157r 0.0000000e+00 3.91e-02 1.88e-04  -6.8 2.43e-07    -  1.00e+00 3.12e-02h  6\n",
      " 158r 0.0000000e+00 3.91e-02 1.68e-03  -6.8 8.15e-04    -  1.00e+00 7.81e-03h  8\n",
      " 159r 0.0000000e+00 3.91e-02 4.53e-04  -6.8 5.86e-06    -  1.00e+00 1.00e+00s 22\n",
      "iter    objective    inf_pr   inf_du lg(mu)  ||d||  lg(rg) alpha_du alpha_pr  ls\n",
      " 160r 0.0000000e+00 3.91e-02 2.24e-04  -6.8 3.84e-07    -  0.00e+00 0.00e+00R  1\n",
      " 161r 0.0000000e+00 3.91e-02 1.74e-04  -6.8 4.77e-07    -  1.00e+00 1.25e-01f  4\n",
      " 162r 0.0000000e+00 3.91e-02 1.23e-05  -6.8 4.75e-04    -  1.00e+00 6.10e-05h 15\n",
      " 163r 0.0000000e+00 3.91e-02 1.81e-06  -6.8 9.19e-03    -  1.00e+00 4.77e-07h 22\n",
      "\n",
      "Number of Iterations....: 163\n",
      "\n",
      "                                   (scaled)                 (unscaled)\n",
      "Objective...............:   0.0000000000000000e+00    0.0000000000000000e+00\n",
      "Dual infeasibility......:   7.0868466329181492e-06    7.0868466329181492e-06\n",
      "Constraint violation....:   3.9070516824722290e-02    3.9070516824722290e-02\n",
      "Variable bound violation:   3.7947147646377744e-08    3.7947147646377744e-08\n",
      "Complementarity.........:   1.5379043612158027e-07    1.5379043612158027e-07\n",
      "Overall NLP error.......:   3.9070516824722290e-02    3.9070516824722290e-02\n",
      "\n",
      "\n",
      "Number of objective function evaluations             = 534\n",
      "Number of objective gradient evaluations             = 23\n",
      "Number of equality constraint evaluations            = 536\n",
      "Number of inequality constraint evaluations          = 0\n",
      "Number of equality constraint Jacobian evaluations   = 170\n",
      "Number of inequality constraint Jacobian evaluations = 0\n",
      "Number of Lagrangian Hessian evaluations             = 0\n",
      "Total seconds in IPOPT                               = 84.735\n",
      "\n",
      "EXIT: Stopping optimization at current point as requested by user.\n"
     ]
    },
    {
     "ename": "KeyboardInterrupt",
     "evalue": "",
     "output_type": "error",
     "traceback": [
      "\u001b[0;31m---------------------------------------------------------------------------\u001b[0m",
      "\u001b[0;31mKeyboardInterrupt\u001b[0m                         Traceback (most recent call last)",
      "Cell \u001b[0;32mIn[19], line 1\u001b[0m\n\u001b[0;32m----> 1\u001b[0m qsol, info \u001b[39m=\u001b[39m ipopt2\u001b[39m.\u001b[39;49msolve(panda\u001b[39m.\u001b[39;49mneutral)\n",
      "File \u001b[0;32m~/miniconda3/envs/cu11/lib/python3.8/site-packages/cyipopt/cython/ipopt_wrapper.pyx:642\u001b[0m, in \u001b[0;36mipopt_wrapper.Problem.solve\u001b[0;34m()\u001b[0m\n",
      "File \u001b[0;32m~/miniconda3/envs/cu11/lib/python3.8/site-packages/cyipopt/cython/ipopt_wrapper.pyx:676\u001b[0m, in \u001b[0;36mipopt_wrapper.objective_cb\u001b[0;34m()\u001b[0m\n",
      "File \u001b[0;32m/media/polde/datadrive/ws/sdf_world/sdf_world/sparse_ipopt.py:140\u001b[0m, in \u001b[0;36mSparseIPOPTBuilder.get_objective_fn.<locals>.objective\u001b[0;34m(x)\u001b[0m\n\u001b[1;32m    138\u001b[0m input_names \u001b[39m=\u001b[39m [x\u001b[39m.\u001b[39mname \u001b[39mfor\u001b[39;00m x \u001b[39min\u001b[39;00m \u001b[39mself\u001b[39m\u001b[39m.\u001b[39mobj_info\u001b[39m.\u001b[39minputs]\n\u001b[1;32m    139\u001b[0m inputs \u001b[39m=\u001b[39m [input_dict[name] \u001b[39mfor\u001b[39;00m name \u001b[39min\u001b[39;00m input_names]\n\u001b[0;32m--> 140\u001b[0m \u001b[39mreturn\u001b[39;00m \u001b[39mself\u001b[39;49m\u001b[39m.\u001b[39;49mobj_info\u001b[39m.\u001b[39;49mfn_info\u001b[39m.\u001b[39;49mfn(\u001b[39m*\u001b[39;49minputs)\n",
      "Cell \u001b[0;32mIn[17], line 22\u001b[0m, in \u001b[0;36mdebug_obj2\u001b[0;34m(q, grasp, p_obj)\u001b[0m\n\u001b[1;32m     20\u001b[0m frame\u001b[39m.\u001b[39mset_pose(grasp_pose)\n\u001b[1;32m     21\u001b[0m \u001b[39m#pc.reload(points=np.vstack(pcs))\u001b[39;00m\n\u001b[0;32m---> 22\u001b[0m time\u001b[39m.\u001b[39;49msleep(\u001b[39m0.1\u001b[39;49m)\n\u001b[1;32m     23\u001b[0m \u001b[39mreturn\u001b[39;00m \u001b[39m0.\u001b[39m\n",
      "\u001b[0;31mKeyboardInterrupt\u001b[0m: "
     ]
    }
   ],
   "source": [
    "qsol, info = ipopt2.solve(panda.neutral)"
   ]
  },
  {
   "cell_type": "code",
   "execution_count": 22,
   "metadata": {},
   "outputs": [
    {
     "data": {
      "text/plain": [
       "SE3(wxyz=[ 0.00842    -0.68869996 -0.72375    -0.04238   ], xyz=[-0.00169     0.05138     0.10241999])"
      ]
     },
     "execution_count": 22,
     "metadata": {},
     "output_type": "execute_result"
    }
   ],
   "source": [
    "\n"
   ]
  },
  {
   "cell_type": "code",
   "execution_count": 19,
   "metadata": {},
   "outputs": [],
   "source": [
    "x = jnp.zeros(3)\n",
    "zip_x_ndo = zip(builder.xnames, builder.xdims, builder.xoffsets)\n",
    "input_dict = {name:x[offset:offset+dim] \n",
    "                    for name, dim, offset in zip_x_ndo}\n",
    "input_dict.update(builder.param_dict)\n",
    "input_names = [x.name for x in builder.obj_info.inputs]\n",
    "inputs = [input_dict[name] for name in input_names]"
   ]
  },
  {
   "cell_type": "code",
   "execution_count": 16,
   "metadata": {},
   "outputs": [
    {
     "data": {
      "text/plain": [
       "[('g_pick', 3, 0)]"
      ]
     },
     "execution_count": 16,
     "metadata": {},
     "output_type": "execute_result"
    }
   ],
   "source": [
    "list(zip_x_ndo)"
   ]
  },
  {
   "cell_type": "code",
   "execution_count": 17,
   "metadata": {},
   "outputs": [
    {
     "data": {
      "text/plain": [
       "['g_pick', 'p_start', 'p_goal']"
      ]
     },
     "execution_count": 17,
     "metadata": {},
     "output_type": "execute_result"
    }
   ],
   "source": [
    "[x.name for x in builder.obj_info.inputs]"
   ]
  },
  {
   "cell_type": "code",
   "execution_count": 43,
   "metadata": {},
   "outputs": [],
   "source": [
    "builder = SparseIPOPTBuilder()\n",
    "\n",
    "builder.add_variable(\"g_pick\", 3, -1., 1.)\n",
    "builder.add_variable(\"g_place\", 3, -1., 1.)\n",
    "builder.add_variable(\"p_ho\", 6, ws_lb, ws_ub)\n",
    "builder.add_parameter(\"p_start\", to_posevec(obj_start.pose.parameters()))\n",
    "builder.add_parameter(\"p_goal\", to_posevec(obj_goal.pose.parameters()))\n",
    "\n",
    "builder.register_fn(\"grasp_constr\", [3], 1,\n",
    "                          grasp_constr_fn, grasp_constr_jac_fns)\n",
    "builder.register_fn(\"manip_constr\", [3, 6], 1,\n",
    "                          manip_constr_fn, manip_constr_jac_fns)\n",
    "builder.register_fn(\"dist_constr\", [3, 3, 6, 6, 6], 4,\n",
    "                          dist_constr_fn, dist_constr_jac_fns)\n",
    "\n",
    "builder.add_constr(\"grasp_prob_pick\", [\"g_pick\"], \"grasp_constr\",\n",
    "                   1., np.inf)\n",
    "builder.add_constr(\"grasp_prob_place\", [\"g_place\"], \"grasp_constr\",\n",
    "                   1., np.inf)\n",
    "builder.add_constr(\"manip_pick\", [\"g_pick\", \"p_start\"], \"manip_constr\",\n",
    "                   0.3, np.inf)\n",
    "builder.add_constr(\"manip_place\", [\"g_place\", \"p_goal\"], \"manip_constr\",\n",
    "                   0.3, np.inf)\n",
    "builder.add_constr(\"manip_ho_1\", [\"g_pick\", \"p_ho\"], \"manip_constr\",\n",
    "                   0.3, np.inf)\n",
    "builder.add_constr(\"manip_ho_2\", [\"g_place\", \"p_ho\"], \"manip_constr\",\n",
    "                   0.3, np.inf)\n",
    "builder.add_constr(\"dist\", [\"g_pick\", \"g_place\", \"p_ho\", \"p_start\", \"p_goal\"], \"dist_constr\",\n",
    "                   0.05, np.inf)\n",
    "builder.freeze()"
   ]
  },
  {
   "cell_type": "code",
   "execution_count": 45,
   "metadata": {},
   "outputs": [
    {
     "name": "stdout",
     "output_type": "stream",
     "text": [
      "\n",
      "Sparsity pattern:\n",
      "00 01 02 -- -- -- -- -- -- -- -- -- \n",
      "-- -- -- 03 04 05 -- -- -- -- -- -- \n",
      "06 07 08 -- -- -- -- -- -- -- -- -- \n",
      "-- -- -- 09 10 11 -- -- -- -- -- -- \n",
      "12 13 14 -- -- -- 18 19 20 21 22 23 \n",
      "-- -- -- 15 16 17 24 25 26 27 28 29 \n",
      "30 31 32 42 43 44 54 55 56 57 58 59 \n",
      "33 34 35 45 46 47 60 61 62 63 64 65 \n",
      "36 37 38 48 49 50 66 67 68 69 70 71 \n",
      "39 40 41 51 52 53 72 73 74 75 76 77 \n"
     ]
    }
   ],
   "source": [
    "ipopt = builder.build(True)"
   ]
  },
  {
   "cell_type": "code",
   "execution_count": null,
   "metadata": {},
   "outputs": [],
   "source": [
    "x = [np.zeros(3), np.zer]\n",
    "ipopt.solve()"
   ]
  },
  {
   "cell_type": "code",
   "execution_count": 17,
   "metadata": {},
   "outputs": [
    {
     "data": {
      "text/plain": [
       "Array([0.4810451, 0.5339005], dtype=float32)"
      ]
     },
     "execution_count": 17,
     "metadata": {},
     "output_type": "execute_result"
    }
   ],
   "source": [
    "grasp = jnp.zeros(3)\n",
    "posevec = jnp.zeros(6)\n",
    "\n"
   ]
  },
  {
   "cell_type": "code",
   "execution_count": 23,
   "metadata": {},
   "outputs": [
    {
     "data": {
      "text/plain": [
       "Array([0.26522437, 0.26522437, 0.26522437, 0.26522437], dtype=float32)"
      ]
     },
     "execution_count": 23,
     "metadata": {},
     "output_type": "execute_result"
    }
   ],
   "source": [
    "dist_constr_fn(grasp, grasp, posevec, posevec, posevec)"
   ]
  }
 ],
 "metadata": {
  "kernelspec": {
   "display_name": "opt_env",
   "language": "python",
   "name": "python3"
  },
  "language_info": {
   "codemirror_mode": {
    "name": "ipython",
    "version": 3
   },
   "file_extension": ".py",
   "mimetype": "text/x-python",
   "name": "python",
   "nbconvert_exporter": "python",
   "pygments_lexer": "ipython3",
   "version": "3.8.16"
  },
  "orig_nbformat": 4
 },
 "nbformat": 4,
 "nbformat_minor": 2
}
