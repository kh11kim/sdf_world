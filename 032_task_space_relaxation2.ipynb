{
 "cells": [
  {
   "cell_type": "code",
   "execution_count": 1,
   "metadata": {},
   "outputs": [],
   "source": [
    "import numpy as np\n",
    "import jax\n",
    "import jax.numpy as jnp\n",
    "from jaxlie import SE3, SO3\n",
    "import jax_dataclasses as jdc\n",
    "from functools import partial\n",
    "\n",
    "from sdf_world.sdf_world import *\n",
    "from sdf_world.robots import *\n",
    "from sdf_world.util import *\n",
    "from sdf_world.network import *\n",
    "from sdf_world.sparse_ipopt import *\n",
    "\n",
    "from flax import linen as nn\n",
    "from flax.training import orbax_utils\n",
    "import orbax\n",
    "import pickle\n",
    "import time"
   ]
  },
  {
   "cell_type": "markdown",
   "metadata": {},
   "source": [
    "### Load Models"
   ]
  },
  {
   "cell_type": "code",
   "execution_count": 2,
   "metadata": {},
   "outputs": [],
   "source": [
    "orbax_checkpointer = orbax.checkpoint.PyTreeCheckpointer()\n",
    "restored_grasp = orbax_checkpointer.restore(\"model/grasp_net_prob_dist\")\n",
    "restored_manip = orbax_checkpointer.restore(\"model/manip_net_posevec\")\n",
    "\n",
    "#grasp net\n",
    "grasp_net = GraspNet(32)\n",
    "grasp_fn = lambda x: grasp_net.apply(restored_grasp[\"params\"], x)\n",
    "\n",
    "grasp_logit_fn = lambda g: grasp_fn(g)[0]\n",
    "grasp_dist_fn = lambda g: grasp_fn(g)[1]\n",
    "#manip net\n",
    "manip_net = ManipNet(64)\n",
    "manip_fn = lambda x: manip_net.apply(restored_manip[\"params\"], x)[0]"
   ]
  },
  {
   "cell_type": "markdown",
   "metadata": {},
   "source": [
    "### Load world"
   ]
  },
  {
   "cell_type": "code",
   "execution_count": 3,
   "metadata": {},
   "outputs": [
    {
     "name": "stdout",
     "output_type": "stream",
     "text": [
      "You can open the visualizer by visiting the following URL:\n",
      "http://127.0.0.1:7011/static/\n"
     ]
    },
    {
     "data": {
      "text/html": [
       "\n",
       "            <div style=\"height: 400px; width: 100%; overflow-x: auto; overflow-y: hidden; resize: both\">\n",
       "            <iframe src=\"http://127.0.0.1:7011/static/\" style=\"width: 100%; height: 100%; border: none\"></iframe>\n",
       "            </div>\n",
       "            "
      ],
      "text/plain": [
       "<IPython.core.display.HTML object>"
      ]
     },
     "execution_count": 3,
     "metadata": {},
     "output_type": "execute_result"
    }
   ],
   "source": [
    "world = SDFWorld()\n",
    "world.show_in_jupyter()"
   ]
  },
  {
   "cell_type": "code",
   "execution_count": 4,
   "metadata": {},
   "outputs": [
    {
     "name": "stderr",
     "output_type": "stream",
     "text": [
      "WARNING:trimesh:concatenating texture: may result in visual artifacts\n",
      "WARNING:trimesh:concatenating texture: may result in visual artifacts\n",
      "WARNING:trimesh:concatenating texture: may result in visual artifacts\n",
      "WARNING:trimesh:concatenating texture: may result in visual artifacts\n",
      "WARNING:trimesh:concatenating texture: may result in visual artifacts\n",
      "WARNING:trimesh:concatenating texture: may result in visual artifacts\n",
      "WARNING:trimesh:concatenating texture: may result in visual artifacts\n",
      "WARNING:trimesh:concatenating texture: may result in visual artifacts\n",
      "WARNING:trimesh:concatenating texture: may result in visual artifacts\n",
      "WARNING:trimesh:concatenating texture: may result in visual artifacts\n",
      "WARNING:trimesh:concatenating texture: may result in visual artifacts\n"
     ]
    }
   ],
   "source": [
    "# robot, hand\n",
    "panda_model = RobotModel(PANDA_URDF, PANDA_PACKAGE)\n",
    "panda = Robot(world.vis, \"panda\", panda_model, alpha=0.5)\n",
    "panda.reduce_dim([7, 8], [0.04, 0.04])\n",
    "\n",
    "hand_model = RobotModel(HAND_URDF, PANDA_PACKAGE, True)\n",
    "for link_name, link in hand_model.links.items():\n",
    "    link.set_surface_points(10)\n",
    "hand = Robot(world.vis, \"hand1\", hand_model, color=\"yellow\", alpha=0.5)"
   ]
  },
  {
   "cell_type": "code",
   "execution_count": 5,
   "metadata": {},
   "outputs": [],
   "source": [
    "#load sdf meshes\n",
    "table_lengths = [0.4, 0.4, 0.2]\n",
    "table_start = Box(world.vis, \"table_start\", table_lengths, 'white', 0.5)\n",
    "table_goal = Box(world.vis, \"table_goal\", table_lengths, 'white', 0.5)\n",
    "obj_start = Mesh(world.vis, \"obj_start\", \n",
    "                 \"./sdf_world/assets/object/mesh.obj\",\n",
    "                 color=\"blue\", alpha=0.5)\n",
    "obj_goal = Mesh(world.vis, \"obj_goal\", \n",
    "                \"./sdf_world/assets/object/mesh.obj\",\n",
    "                color=\"green\", alpha=0.5)"
   ]
  },
  {
   "cell_type": "code",
   "execution_count": 6,
   "metadata": {},
   "outputs": [],
   "source": [
    "table_start.set_translate([0.5, -0.3, 0.2/2])\n",
    "table_goal.set_translate([0.5, 0.3, 0.2/2])\n",
    "obj_lengths = obj_start.mesh.bounding_box.primitive.extents\n",
    "obj_start.set_translate([0.5, -0.3, obj_lengths[-1]/2+table_lengths[-1]])\n",
    "trans_goal = jnp.array([0.5, 0.3, obj_lengths[-2]/2+table_lengths[-1]])\n",
    "obj_goal_pose = SE3.from_rotation_and_translation(\n",
    "    SO3.from_rpy_radians(jnp.pi/2, 0,0), trans_goal)\n",
    "obj_goal.set_pose(obj_goal_pose)"
   ]
  },
  {
   "cell_type": "code",
   "execution_count": 7,
   "metadata": {},
   "outputs": [],
   "source": [
    "to_posevec = lambda x: jnp.hstack([x[4:], SO3(x[:4]).log()])\n",
    "to_wxyzxyz = lambda x: jnp.hstack([SO3.exp(x[3:]).parameters(), x[:3]])\n",
    "env = SDFContainer([table_start, table_goal], 0.05)\n",
    "def grasp_reconst(grasp:Array):\n",
    "    rot = SO3(grasp_fn(grasp)[2:]).normalize()\n",
    "    trans = grasp/restored_grasp[\"scale_to_norm\"]\n",
    "    return SE3.from_rotation_and_translation(rot, trans)\n",
    "\n",
    "#visualization\n",
    "hand_pc = hand.get_surface_points_fn(jnp.array([0.04, 0.04]))\n",
    "hand_pose_wrt_ee = SE3.from_translation(jnp.array([0,0,-0.105]))\n",
    "@jax.jit\n",
    "def get_hand_pc(grasp, posevec):\n",
    "    grasp_pose = grasp_reconst(grasp)\n",
    "    hand_base_pose_wrt_world = SE3(to_wxyzxyz(posevec)) @ grasp_pose @ hand_pose_wrt_ee\n",
    "    assigned_hand_pc = jax.vmap(hand_base_pose_wrt_world.apply)(hand_pc)\n",
    "    return assigned_hand_pc\n",
    "\n",
    "pc = PointCloud(world.vis, \"hand_pc\", np.zeros((100,3)), color=\"red\")"
   ]
  },
  {
   "attachments": {},
   "cell_type": "markdown",
   "metadata": {},
   "source": [
    "### Prepare functions"
   ]
  },
  {
   "cell_type": "code",
   "execution_count": 8,
   "metadata": {},
   "outputs": [],
   "source": [
    "#constr fns\n",
    "def grasp_constr_fn(grasp):\n",
    "    return grasp_logit_fn(grasp)\n",
    "\n",
    "def manip_constr_fn(grasp, posevec):\n",
    "    obj_pose = SE3(to_wxyzxyz(posevec))\n",
    "    grasp_pose = obj_pose @ grasp_reconst(grasp)\n",
    "    zflip = SE3.from_rotation(SO3.from_z_radians(jnp.pi))\n",
    "    grasp_pose_flip = grasp_pose @ zflip\n",
    "    posevecs = [to_posevec(pose.parameters()) for pose in [grasp_pose, grasp_pose_flip]]\n",
    "    return jax.vmap(manip_fn)(jnp.vstack(posevecs)).max()\n",
    "\n",
    "def dist_constr_fn(g1, posevec_st, posevec_ed):\n",
    "    grasps = jnp.vstack([g1, g1])\n",
    "    obj_poses = jnp.vstack([posevec_st, posevec_ed])\n",
    "    pcs = jax.vmap(get_hand_pc, (0,0))(grasps, obj_poses)\n",
    "    distances = env.distances(jnp.vstack(pcs))\n",
    "    top4_indices = jnp.argpartition(distances, 4)[:4]\n",
    "    return distances[top4_indices]\n",
    "\n",
    "def dist_constr_fn2(g1, g2, posevec_ho, posevec_st, posevec_ed):\n",
    "    grasps = jnp.vstack([g1, g1, g2, g2])\n",
    "    obj_poses = jnp.vstack([posevec_st, posevec_ho, posevec_ho, posevec_ed])\n",
    "    pcs = jax.vmap(get_hand_pc, (0,0))(grasps, obj_poses)\n",
    "    distances = env.distances(jnp.vstack(pcs))\n",
    "    top4_indices = jnp.argpartition(distances, 4)[:4]\n",
    "    return distances[top4_indices]\n",
    "\n",
    "grasp_constr_jac_fns = [jax.jacrev(grasp_constr_fn)]\n",
    "manip_constr_jac_fns = [jax.jacrev(manip_constr_fn, argnums=argnums) for argnums in [0,1]]\n",
    "dist_constr_jac_fns = [jax.jacrev(dist_constr_fn)] + [None]*2\n",
    "\n",
    "ws_lb = np.array([-1,-1,-0.5, -np.pi, -np.pi, -np.pi])\n",
    "ws_ub = np.array([1,1,1.5, np.pi, np.pi, np.pi])"
   ]
  },
  {
   "cell_type": "code",
   "execution_count": 9,
   "metadata": {},
   "outputs": [],
   "source": [
    "import time\n",
    "builder = SparseIPOPTBuilder()\n",
    "\n",
    "builder.add_variable(\"g_pick\", 3, -1., 1.)\n",
    "builder.add_parameter(\"p_start\", to_posevec(obj_start.pose.parameters()))\n",
    "builder.add_parameter(\"p_goal\", to_posevec(obj_goal.pose.parameters()))\n",
    "\n",
    "builder.register_fn(\"grasp_constr\", [3], 1,\n",
    "                          grasp_constr_fn, grasp_constr_jac_fns)\n",
    "builder.register_fn(\"manip_constr\", [3, 6], 1,\n",
    "                          manip_constr_fn, manip_constr_jac_fns)\n",
    "builder.register_fn(\"dist_constr\", [3, 6, 6], 4,\n",
    "                          dist_constr_fn, dist_constr_jac_fns)\n",
    "\n",
    "def debug_obj(g_pick, posevec_st, posevec_ed):\n",
    "    grasps = jnp.vstack([g_pick, g_pick])\n",
    "    obj_poses = jnp.vstack([posevec_st, posevec_ed])\n",
    "    pcs = jax.vmap(get_hand_pc, (0,0))(grasps, obj_poses)\n",
    "    pc.reload(points=np.vstack(pcs))\n",
    "    time.sleep(0.1)\n",
    "    return 0.\n",
    "builder.register_fn(\"debug_obj\", [3, 6, 6], 1,\n",
    "                    debug_obj, [None, None, None])\n",
    "\n",
    "builder.add_objective([\"g_pick\", \"p_start\", \"p_goal\"], \"debug_obj\")\n",
    "\n",
    "builder.add_constr(\"grasp_prob\", [\"g_pick\"], \"grasp_constr\",\n",
    "                   1., np.inf)\n",
    "builder.add_constr(\"manip_pick\", [\"g_pick\", \"p_start\"], \"manip_constr\",\n",
    "                   0.3, np.inf)\n",
    "builder.add_constr(\"manip_place\", [\"g_pick\", \"p_goal\"], \"manip_constr\",\n",
    "                   0.3, np.inf)\n",
    "builder.add_constr(\"dist\", [\"g_pick\", \"p_start\", \"p_goal\"], \"dist_constr\",\n",
    "                   0.05, np.inf)\n",
    "\n",
    "builder.freeze()"
   ]
  },
  {
   "cell_type": "code",
   "execution_count": 10,
   "metadata": {},
   "outputs": [
    {
     "name": "stdout",
     "output_type": "stream",
     "text": [
      "\n",
      "Sparsity pattern:\n",
      "00 01 02 \n",
      "03 04 05 \n",
      "06 07 08 \n",
      "09 10 11 \n",
      "12 13 14 \n",
      "15 16 17 \n",
      "18 19 20 \n"
     ]
    }
   ],
   "source": [
    "ipopt = builder.build(compile_obj=False)"
   ]
  },
  {
   "cell_type": "code",
   "execution_count": 13,
   "metadata": {},
   "outputs": [
    {
     "name": "stdout",
     "output_type": "stream",
     "text": [
      "This is Ipopt version 3.14.10, running with linear solver MUMPS 5.2.1.\n",
      "\n",
      "Number of nonzeros in equality constraint Jacobian...:        0\n",
      "Number of nonzeros in inequality constraint Jacobian.:       21\n",
      "Number of nonzeros in Lagrangian Hessian.............:        0\n",
      "\n",
      "Total number of variables............................:        3\n",
      "                     variables with only lower bounds:        0\n",
      "                variables with lower and upper bounds:        3\n",
      "                     variables with only upper bounds:        0\n",
      "Total number of equality constraints.................:        0\n",
      "Total number of inequality constraints...............:        7\n",
      "        inequality constraints with only lower bounds:        7\n",
      "   inequality constraints with lower and upper bounds:        0\n",
      "        inequality constraints with only upper bounds:        0\n",
      "\n",
      "iter    objective    inf_pr   inf_du lg(mu)  ||d||  lg(rg) alpha_du alpha_pr  ls\n",
      "   0  0.0000000e+00 1.81e+02 1.00e+00   0.0 0.00e+00    -  0.00e+00 0.00e+00   0\n",
      "   1  0.0000000e+00 2.70e+02 5.21e+00  -0.9 6.89e-01    -  6.30e-01 1.00e+00h  1\n",
      "   2  0.0000000e+00 1.67e+02 9.03e+00  -0.8 4.69e-01    -  5.16e-01 8.83e-01h  1\n",
      "   3  0.0000000e+00 6.63e+01 4.48e+00  -0.9 5.51e-01    -  9.43e-01 1.00e+00h  1\n",
      "   4  0.0000000e+00 6.09e+01 3.24e+00  -1.0 1.26e+00    -  7.68e-02 2.53e-02H  1\n",
      "   5  0.0000000e+00 3.99e+01 1.68e+01  -1.8 3.50e-01    -  9.01e-01 1.00e+00h  1\n",
      "   6  0.0000000e+00 3.98e+01 1.56e+01  -1.7 2.34e-01    -  1.00e+00 1.25e-01h  4\n",
      "   7  0.0000000e+00 3.19e+00 4.21e+00  -2.2 3.00e-01    -  4.91e-01 1.00e+00h  1\n",
      "   8  0.0000000e+00 2.42e+00 3.88e+00  -1.7 1.45e+00    -  1.00e+00 1.00e+00h  1\n",
      "   9  0.0000000e+00 0.00e+00 3.12e+00  -1.8 5.75e-01    -  1.00e+00 1.00e+00h  1\n",
      "iter    objective    inf_pr   inf_du lg(mu)  ||d||  lg(rg) alpha_du alpha_pr  ls\n",
      "  10  0.0000000e+00 0.00e+00 3.22e-01  -3.5 1.11e-01    -  1.00e+00 1.00e+00h  1\n",
      "  11  0.0000000e+00 0.00e+00 6.44e-03  -5.2 3.13e-02    -  1.00e+00 1.00e+00h  1\n",
      "  12  0.0000000e+00 0.00e+00 7.29e-07 -11.0 5.75e-07    -  9.94e-01 1.00e+00H  1\n",
      "  13  0.0000000e+00 0.00e+00 2.18e-10 -11.0 3.61e-05    -  1.00e+00 1.00e+00h  1\n",
      "\n",
      "Number of Iterations....: 13\n",
      "\n",
      "                                   (scaled)                 (unscaled)\n",
      "Objective...............:   0.0000000000000000e+00    0.0000000000000000e+00\n",
      "Dual infeasibility......:   2.1805343197475349e-10    2.1805343197475349e-10\n",
      "Constraint violation....:   0.0000000000000000e+00    0.0000000000000000e+00\n",
      "Variable bound violation:   0.0000000000000000e+00    0.0000000000000000e+00\n",
      "Complementarity.........:   1.0853247162802200e-11    1.0853247162802200e-11\n",
      "Overall NLP error.......:   2.1805343197475349e-10    2.1805343197475349e-10\n",
      "\n",
      "\n",
      "Number of objective function evaluations             = 20\n",
      "Number of objective gradient evaluations             = 14\n",
      "Number of equality constraint evaluations            = 0\n",
      "Number of inequality constraint evaluations          = 20\n",
      "Number of equality constraint Jacobian evaluations   = 0\n",
      "Number of inequality constraint Jacobian evaluations = 14\n",
      "Number of Lagrangian Hessian evaluations             = 0\n",
      "Total seconds in IPOPT                               = 2.301\n",
      "\n",
      "EXIT: Optimal Solution Found.\n"
     ]
    }
   ],
   "source": [
    "xsol, info = ipopt.solve(np.zeros(3))"
   ]
  },
  {
   "cell_type": "code",
   "execution_count": 24,
   "metadata": {},
   "outputs": [],
   "source": [
    "test = ((0,1),(1,2))"
   ]
  },
  {
   "cell_type": "code",
   "execution_count": 27,
   "metadata": {},
   "outputs": [
    {
     "ename": "StopIteration",
     "evalue": "",
     "output_type": "error",
     "traceback": [
      "\u001b[0;31m---------------------------------------------------------------------------\u001b[0m",
      "\u001b[0;31mStopIteration\u001b[0m                             Traceback (most recent call last)",
      "Cell \u001b[0;32mIn[27], line 1\u001b[0m\n\u001b[0;32m----> 1\u001b[0m \u001b[39mnext\u001b[39;49m(test)\n",
      "\u001b[0;31mStopIteration\u001b[0m: "
     ]
    }
   ],
   "source": [
    "next(test)"
   ]
  },
  {
   "cell_type": "code",
   "execution_count": 19,
   "metadata": {},
   "outputs": [],
   "source": [
    "x = jnp.zeros(3)\n",
    "zip_x_ndo = zip(builder.xnames, builder.xdims, builder.xoffsets)\n",
    "input_dict = {name:x[offset:offset+dim] \n",
    "                    for name, dim, offset in zip_x_ndo}\n",
    "input_dict.update(builder.param_dict)\n",
    "input_names = [x.name for x in builder.obj_info.inputs]\n",
    "inputs = [input_dict[name] for name in input_names]"
   ]
  },
  {
   "cell_type": "code",
   "execution_count": 18,
   "metadata": {},
   "outputs": [
    {
     "data": {
      "text/plain": [
       "[Array([0., 0., 0.], dtype=float32),\n",
       " array([ 0.5       , -0.3       ,  0.30668557,  0.        ,  0.        ,\n",
       "         0.        ], dtype=float32),\n",
       " array([0.5      , 0.3      , 0.2820971, 1.5707964, 0.       , 0.       ],\n",
       "       dtype=float32)]"
      ]
     },
     "execution_count": 18,
     "metadata": {},
     "output_type": "execute_result"
    }
   ],
   "source": [
    "inputs"
   ]
  },
  {
   "cell_type": "code",
   "execution_count": 16,
   "metadata": {},
   "outputs": [
    {
     "data": {
      "text/plain": [
       "[('g_pick', 3, 0)]"
      ]
     },
     "execution_count": 16,
     "metadata": {},
     "output_type": "execute_result"
    }
   ],
   "source": [
    "list(zip_x_ndo)"
   ]
  },
  {
   "cell_type": "code",
   "execution_count": 17,
   "metadata": {},
   "outputs": [
    {
     "data": {
      "text/plain": [
       "['g_pick', 'p_start', 'p_goal']"
      ]
     },
     "execution_count": 17,
     "metadata": {},
     "output_type": "execute_result"
    }
   ],
   "source": [
    "[x.name for x in builder.obj_info.inputs]"
   ]
  },
  {
   "cell_type": "code",
   "execution_count": 43,
   "metadata": {},
   "outputs": [],
   "source": [
    "builder = SparseIPOPTBuilder()\n",
    "\n",
    "builder.add_variable(\"g_pick\", 3, -1., 1.)\n",
    "builder.add_variable(\"g_place\", 3, -1., 1.)\n",
    "builder.add_variable(\"p_ho\", 6, ws_lb, ws_ub)\n",
    "builder.add_parameter(\"p_start\", to_posevec(obj_start.pose.parameters()))\n",
    "builder.add_parameter(\"p_goal\", to_posevec(obj_goal.pose.parameters()))\n",
    "\n",
    "builder.register_fn(\"grasp_constr\", [3], 1,\n",
    "                          grasp_constr_fn, grasp_constr_jac_fns)\n",
    "builder.register_fn(\"manip_constr\", [3, 6], 1,\n",
    "                          manip_constr_fn, manip_constr_jac_fns)\n",
    "builder.register_fn(\"dist_constr\", [3, 3, 6, 6, 6], 4,\n",
    "                          dist_constr_fn, dist_constr_jac_fns)\n",
    "\n",
    "builder.add_constr(\"grasp_prob_pick\", [\"g_pick\"], \"grasp_constr\",\n",
    "                   1., np.inf)\n",
    "builder.add_constr(\"grasp_prob_place\", [\"g_place\"], \"grasp_constr\",\n",
    "                   1., np.inf)\n",
    "builder.add_constr(\"manip_pick\", [\"g_pick\", \"p_start\"], \"manip_constr\",\n",
    "                   0.3, np.inf)\n",
    "builder.add_constr(\"manip_place\", [\"g_place\", \"p_goal\"], \"manip_constr\",\n",
    "                   0.3, np.inf)\n",
    "builder.add_constr(\"manip_ho_1\", [\"g_pick\", \"p_ho\"], \"manip_constr\",\n",
    "                   0.3, np.inf)\n",
    "builder.add_constr(\"manip_ho_2\", [\"g_place\", \"p_ho\"], \"manip_constr\",\n",
    "                   0.3, np.inf)\n",
    "builder.add_constr(\"dist\", [\"g_pick\", \"g_place\", \"p_ho\", \"p_start\", \"p_goal\"], \"dist_constr\",\n",
    "                   0.05, np.inf)\n",
    "builder.freeze()"
   ]
  },
  {
   "cell_type": "code",
   "execution_count": 45,
   "metadata": {},
   "outputs": [
    {
     "name": "stdout",
     "output_type": "stream",
     "text": [
      "\n",
      "Sparsity pattern:\n",
      "00 01 02 -- -- -- -- -- -- -- -- -- \n",
      "-- -- -- 03 04 05 -- -- -- -- -- -- \n",
      "06 07 08 -- -- -- -- -- -- -- -- -- \n",
      "-- -- -- 09 10 11 -- -- -- -- -- -- \n",
      "12 13 14 -- -- -- 18 19 20 21 22 23 \n",
      "-- -- -- 15 16 17 24 25 26 27 28 29 \n",
      "30 31 32 42 43 44 54 55 56 57 58 59 \n",
      "33 34 35 45 46 47 60 61 62 63 64 65 \n",
      "36 37 38 48 49 50 66 67 68 69 70 71 \n",
      "39 40 41 51 52 53 72 73 74 75 76 77 \n"
     ]
    }
   ],
   "source": [
    "ipopt = builder.build(True)"
   ]
  },
  {
   "cell_type": "code",
   "execution_count": null,
   "metadata": {},
   "outputs": [],
   "source": [
    "x = [np.zeros(3), np.zer]\n",
    "ipopt.solve()"
   ]
  },
  {
   "cell_type": "code",
   "execution_count": 17,
   "metadata": {},
   "outputs": [
    {
     "data": {
      "text/plain": [
       "Array([0.4810451, 0.5339005], dtype=float32)"
      ]
     },
     "execution_count": 17,
     "metadata": {},
     "output_type": "execute_result"
    }
   ],
   "source": [
    "grasp = jnp.zeros(3)\n",
    "posevec = jnp.zeros(6)\n",
    "\n"
   ]
  },
  {
   "cell_type": "code",
   "execution_count": 23,
   "metadata": {},
   "outputs": [
    {
     "data": {
      "text/plain": [
       "Array([0.26522437, 0.26522437, 0.26522437, 0.26522437], dtype=float32)"
      ]
     },
     "execution_count": 23,
     "metadata": {},
     "output_type": "execute_result"
    }
   ],
   "source": [
    "dist_constr_fn(grasp, grasp, posevec, posevec, posevec)"
   ]
  }
 ],
 "metadata": {
  "kernelspec": {
   "display_name": "opt_env",
   "language": "python",
   "name": "python3"
  },
  "language_info": {
   "codemirror_mode": {
    "name": "ipython",
    "version": 3
   },
   "file_extension": ".py",
   "mimetype": "text/x-python",
   "name": "python",
   "nbconvert_exporter": "python",
   "pygments_lexer": "ipython3",
   "version": "3.8.15"
  },
  "orig_nbformat": 4
 },
 "nbformat": 4,
 "nbformat_minor": 2
}
