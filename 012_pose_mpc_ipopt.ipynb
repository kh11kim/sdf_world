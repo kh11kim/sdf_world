{
 "cells": [
  {
   "cell_type": "code",
   "execution_count": 1,
   "metadata": {},
   "outputs": [],
   "source": [
    "import numpy as np\n",
    "import jax\n",
    "import jax.numpy as jnp\n",
    "from jaxlie import SE3, SO3\n",
    "import cyipopt\n",
    "\n",
    "from sdf_world.sdf_world import *\n",
    "from sdf_world.robots import *\n",
    "from sdf_world.util import *"
   ]
  },
  {
   "cell_type": "code",
   "execution_count": 2,
   "metadata": {},
   "outputs": [
    {
     "name": "stdout",
     "output_type": "stream",
     "text": [
      "You can open the visualizer by visiting the following URL:\n",
      "http://127.0.0.1:7001/static/\n"
     ]
    }
   ],
   "source": [
    "world = SDFWorld()"
   ]
  },
  {
   "cell_type": "code",
   "execution_count": 3,
   "metadata": {},
   "outputs": [],
   "source": [
    "panda_model = RobotModel(PANDA_URDF, PANDA_PACKAGE)\n",
    "panda = Robot(world.vis, \"panda\", panda_model, alpha=0.5)\n",
    "panda.reduce_dim([7, 8], [0.04, 0.04])"
   ]
  },
  {
   "cell_type": "code",
   "execution_count": 618,
   "metadata": {},
   "outputs": [],
   "source": [
    "# configurations\n",
    "robot_dim = 7\n",
    "horizon = 20\n",
    "dim = robot_dim * horizon\n",
    "dt = 0.1\n",
    "\n",
    "qdot_lb = -np.ones(dim)\n",
    "qdot_ub = np.ones(dim)\n",
    "\n",
    "#dt_vec = jnp.ones(dim) * dt\n",
    "dt_vec = jnp.ones(horizon*robot_dim) * dt\n",
    "#jnp.hstack([jnp.ones(robot_dim*6)*dt1, jnp.ones(robot_dim*10)*dt2])\n",
    "\n",
    "lower_tri = np.tril(np.full((horizon,horizon), 1))\n",
    "upper_tri = np.triu(np.full((horizon,horizon), 1))\n",
    "eye = np.eye(robot_dim)\n",
    "integration_mat = np.kron(lower_tri, eye) @ np.diag(dt_vec)\n",
    "double_integration_mat = integration_mat@integration_mat\n",
    "#qdot_max = qdot_max*np.kron(upper_tri, eye)@dt_vec\n",
    "\n",
    "to_mat = lambda x: x.reshape(-1, robot_dim)\n",
    "to_vec = lambda x: x.flatten()\n",
    "def to_qdots_mat(q0, qs):\n",
    "    qs = jnp.vstack([q0, to_mat(qs)])\n",
    "    return (qs[1:] - qs[:-1]) /dt"
   ]
  },
  {
   "cell_type": "code",
   "execution_count": 619,
   "metadata": {},
   "outputs": [],
   "source": [
    "#state initialize\n",
    "q0 = panda.neutral\n",
    "qs = jnp.tile(q0, horizon)"
   ]
  },
  {
   "cell_type": "code",
   "execution_count": 112,
   "metadata": {},
   "outputs": [],
   "source": [
    "# # rollout\n",
    "# @jax.jit\n",
    "# def rollout(q0, qdots):\n",
    "#     return integration_mat@qdots + jnp.tile(q0, horizon)"
   ]
  },
  {
   "cell_type": "code",
   "execution_count": 153,
   "metadata": {},
   "outputs": [],
   "source": [
    "# state, u initialize\n",
    "q0 = panda.neutral\n",
    "qdots = jnp.zeros(dim)\n",
    "#draw_ee_traj(u, state)"
   ]
  },
  {
   "cell_type": "code",
   "execution_count": 620,
   "metadata": {},
   "outputs": [],
   "source": [
    "# Kinematics\n",
    "def skew(v):\n",
    "    v1, v2, v3 = v\n",
    "    return jnp.array([[0, -v3, v2],\n",
    "                      [v3, 0., -v1],\n",
    "                      [-v2, v1, 0.]])\n",
    "\n",
    "def get_rotvec_angvel_map(v):\n",
    "    vmag = jnp.linalg.norm(v)\n",
    "    return jnp.eye(3) \\\n",
    "        - 1/2*skew(v) \\\n",
    "        + skew(v)@skew(v) * 1/vmag**2 * (1-vmag/2 * jnp.sin(vmag)/(1-jnp.cos(vmag)))\n",
    "\n",
    "@jax.jit\n",
    "def get_ee_fk_jac(q):\n",
    "    #TODO: rotation change with quaternion\n",
    "    fks = panda_model.fk_fn(q)\n",
    "    p_ee = fks[-1][-3:]\n",
    "    rotvec_ee = SO3(fks[-1][:4]).log()\n",
    "    E = get_rotvec_angvel_map(rotvec_ee)\n",
    "    jac = []\n",
    "    for posevec in fks[1:8]:\n",
    "        p_frame = posevec[-3:]\n",
    "        rot_axis = SE3(posevec).as_matrix()[:3, 2]\n",
    "        lin_vel = jnp.cross(rot_axis, p_ee - p_frame)\n",
    "        jac.append(jnp.hstack([lin_vel, rot_axis]))\n",
    "    jac = jnp.array(jac).T\n",
    "    jac = jac.at[3:, :].set(E @ jac[3:, :])\n",
    "    return jnp.hstack([p_ee, rotvec_ee]), jac\n"
   ]
  },
  {
   "cell_type": "code",
   "execution_count": 621,
   "metadata": {},
   "outputs": [],
   "source": [
    "def to_posevec(pose:SE3):\n",
    "    return jnp.hstack([\n",
    "        pose.translation(), pose.rotation().log()\n",
    "    ])\n",
    "def to_SE3(posevec:Array):\n",
    "    return SE3.from_rotation_and_translation(\n",
    "        SO3.exp(posevec[3:]), posevec[:3]\n",
    "    )\n",
    "\n",
    "@jax.jit\n",
    "def pose_err(q, target:SE3):\n",
    "    ee_posevec, _ = get_ee_fk_jac(q)\n",
    "    target_posevec = to_posevec(target)\n",
    "    err = (target_posevec - ee_posevec)\n",
    "    val = jnp.sum(err**2)\n",
    "    return val\n",
    "\n",
    "@jax.jit\n",
    "def pose_err_grad(q, target:SE3):\n",
    "    ee_posevec, jac = get_ee_fk_jac(q)\n",
    "    target_posevec = to_posevec(target)\n",
    "    err = (target_posevec - ee_posevec)\n",
    "    grad_err = - 2*jac.T@err\n",
    "    return grad_err"
   ]
  },
  {
   "cell_type": "code",
   "execution_count": 622,
   "metadata": {},
   "outputs": [],
   "source": [
    "#decision vars: qs\n",
    "def obj_fn(qs, q0, target):\n",
    "    errs = jax.vmap(pose_err, in_axes=(0,None))(\n",
    "        to_mat(qs), target)\n",
    "    qdots = to_qdots_mat(q0, qs).flatten()\n",
    "    draw_ee_traj(q0, qdots) #debug\n",
    "    return errs.sum()\n",
    "\n",
    "def grad_fn(qs, q0, target):\n",
    "    err_grads = jax.vmap(pose_err_grad, in_axes=(0,None))(\n",
    "        to_mat(qs), target)\n",
    "    return err_grads.flatten() @ integration_mat\n",
    "\n",
    "qdots_lb = -jnp.ones(dim)\n",
    "qdots_ub = jnp.ones(dim)\n",
    "\n",
    "def constr_fn(qs, q0):\n",
    "    #qdots_mat = to_qdots_mat(q0, qs)\n",
    "    ub_viol = qdots_ub - to_qdots_mat(q0, qs).flatten()\n",
    "    lb_viol = to_qdots_mat(q0, qs).flatten() - qdots_lb\n",
    "    return jnp.hstack([lb_viol, ub_viol])\n",
    "\n",
    "constr_fn_jac = jax.jacrev(constr_fn, argnums=0)"
   ]
  },
  {
   "cell_type": "code",
   "execution_count": 590,
   "metadata": {},
   "outputs": [],
   "source": [
    "# #decision vars: qdots\n",
    "# def obj_fn(qdots, q0, target):\n",
    "#     qs = rollout(q0, qdots)\n",
    "#     errs = jax.vmap(pose_err, in_axes=(0,None))(to_mat(qs), target)\n",
    "\n",
    "#     draw_ee_traj(q0, qdots) #debug\n",
    "#     return errs.sum()\n",
    "\n",
    "# def grad_fn(qdots, q0, target):\n",
    "#     qs = rollout(q0, qdots)\n",
    "#     err_grads = jax.vmap(pose_err_grad, in_axes=(0,None))(to_mat(qs), target)\n",
    "#     return err_grads.flatten() @ integration_mat"
   ]
  },
  {
   "cell_type": "code",
   "execution_count": 591,
   "metadata": {},
   "outputs": [],
   "source": [
    "import cyipopt\n",
    "from functools import partial"
   ]
  },
  {
   "cell_type": "code",
   "execution_count": 584,
   "metadata": {},
   "outputs": [],
   "source": [
    "frame = Frame(world.vis, \"frame\")\n",
    "frame_ee = Frame(world.vis, \"frame_ee\")"
   ]
  },
  {
   "cell_type": "code",
   "execution_count": 583,
   "metadata": {},
   "outputs": [],
   "source": [
    "del frame, frame_ee"
   ]
  },
  {
   "cell_type": "code",
   "execution_count": 623,
   "metadata": {},
   "outputs": [],
   "source": [
    "def make_random_pose():\n",
    "    return SE3.from_rotation_and_translation(\n",
    "        SO3(np.random.random(4)).normalize(),\n",
    "        np.random.uniform([-0.,-0.5,0.3],[0.5,0.5,0.8])\n",
    "    )\n",
    "target = make_random_pose()\n",
    "frame.set_pose(target)"
   ]
  },
  {
   "cell_type": "code",
   "execution_count": 624,
   "metadata": {},
   "outputs": [],
   "source": [
    "objective = partial(obj_fn, q0=q0, target=target)\n",
    "gradient = partial(grad_fn, q0=q0, target=target)\n",
    "constraints = partial(constr_fn, q0=q0)\n",
    "jacobian = partial(constr_fn_jac, q0=q0)\n",
    "class Prob:\n",
    "    pass\n",
    "prob = Prob()\n",
    "setattr(prob, \"objective\", objective)\n",
    "setattr(prob, \"gradient\", gradient)\n",
    "setattr(prob, \"constraints\", constraints)\n",
    "setattr(prob, \"jacobian\", jacobian)"
   ]
  },
  {
   "cell_type": "code",
   "execution_count": 625,
   "metadata": {},
   "outputs": [],
   "source": [
    "ipopt = cyipopt.Problem(\n",
    "    n=dim, m=0,\n",
    "    problem_obj=prob,\n",
    "    lb=qdot_lb, ub=qdot_ub,\n",
    "    cl=np.zeros(dim), cu=np.full(dim, np.inf)\n",
    ")"
   ]
  },
  {
   "cell_type": "code",
   "execution_count": 626,
   "metadata": {},
   "outputs": [
    {
     "name": "stdout",
     "output_type": "stream",
     "text": [
      "This is Ipopt version 3.14.10, running with linear solver MUMPS 5.2.1.\n",
      "\n",
      "Number of nonzeros in equality constraint Jacobian...:        0\n",
      "Number of nonzeros in inequality constraint Jacobian.:        0\n",
      "Number of nonzeros in Lagrangian Hessian.............:        0\n",
      "\n",
      "Total number of variables............................:      140\n",
      "                     variables with only lower bounds:        0\n",
      "                variables with lower and upper bounds:      140\n",
      "                     variables with only upper bounds:        0\n",
      "Total number of equality constraints.................:        0\n",
      "Total number of inequality constraints...............:        0\n",
      "        inequality constraints with only lower bounds:        0\n",
      "   inequality constraints with lower and upper bounds:        0\n",
      "        inequality constraints with only upper bounds:        0\n",
      "\n",
      "iter    objective    inf_pr   inf_du lg(mu)  ||d||  lg(rg) alpha_du alpha_pr  ls\n",
      "   0  5.6487805e+02 0.00e+00 1.95e+01   0.0 0.00e+00    -  0.00e+00 0.00e+00   0\n",
      "   1  2.0908319e+02 0.00e+00 5.10e+00   0.8 6.49e+00    -  5.57e-01 1.53e-01f  1\n",
      "   2  1.2909395e+02 0.00e+00 5.19e+00   0.0 5.26e-01    -  9.41e-01 4.81e-01f  2\n",
      "   3  5.2854324e+01 0.00e+00 3.94e+00  -0.8 4.13e-01    -  9.91e-01 1.00e+00f  1\n",
      "   4  3.5163296e+01 0.00e+00 2.36e+00  -1.0 2.20e-01    -  9.91e-01 1.00e+00f  1\n",
      "   5  2.2986645e+01 0.00e+00 3.07e+00  -1.2 3.13e-01    -  9.97e-01 9.48e-01f  1\n",
      "   6  2.0185266e+01 0.00e+00 3.49e+00  -0.9 3.57e-01    -  1.00e+00 2.01e-01f  3\n",
      "   7  7.4351952e+01 0.00e+00 9.32e+00   0.5 1.93e+01    -  3.05e-01 4.88e-02f  1\n",
      "   8  6.2238659e+01 0.00e+00 6.62e+00  -0.2 4.76e+00    -  4.73e-01 1.30e-01f  2\n",
      "   9  6.0658131e+01 0.00e+00 3.82e+00  -0.9 1.48e+00    -  4.98e-01 3.31e-02f  5\n",
      "iter    objective    inf_pr   inf_du lg(mu)  ||d||  lg(rg) alpha_du alpha_pr  ls\n",
      "  10  5.9661667e+01 0.00e+00 2.46e+00  -0.9 2.31e+00    -  5.88e-01 1.78e-02f  6\n",
      "  11  5.9657658e+01 0.00e+00 2.60e+00  -0.9 1.97e+00    -  3.51e-01 7.91e-05f 14\n",
      "  12  5.9656498e+01 0.00e+00 2.58e+00  -0.9 1.67e+00    -  1.00e+00 2.52e-05f 16\n",
      "  13  5.9656147e+01 0.00e+00 2.63e+00  -0.9 1.42e+00    -  3.22e-01 7.63e-06f 18\n",
      "  14  5.9656010e+01 0.00e+00 2.93e+00  -0.9 1.01e+00    -  1.00e+00 3.81e-06f 19\n",
      "  15  5.9655937e+01 0.00e+00 3.09e+00  -0.9 6.69e-01    -  6.88e-01 1.91e-06f 20\n",
      "  16  4.4655807e+01 0.00e+00 1.07e+00  -0.9 5.08e-01    -  6.39e-01 1.00e+00f  1\n",
      "  17  4.2475586e+01 0.00e+00 9.54e-01  -1.6 2.08e-01    -  1.00e+00 2.50e-01f  3\n",
      "  18  4.1025311e+01 0.00e+00 8.31e-01  -1.6 5.19e-01    -  1.00e+00 8.50e-02f  4\n",
      "  19  4.0136658e+01 0.00e+00 9.68e-01  -1.6 7.10e-01    -  1.00e+00 4.63e-02f  5\n",
      "iter    objective    inf_pr   inf_du lg(mu)  ||d||  lg(rg) alpha_du alpha_pr  ls\n",
      "  20  3.3195068e+01 0.00e+00 4.39e-01  -1.6 9.54e-01    -  1.00e+00 3.38e-01f  2\n",
      "  21  2.6299858e+01 0.00e+00 5.65e-01  -1.6 6.31e-01    -  1.00e+00 5.17e-01f  1\n",
      "  22  2.5926044e+01 0.00e+00 4.77e-01  -1.6 4.78e-01    -  1.00e+00 7.64e-02f  4\n",
      "  23  2.5925598e+01 0.00e+00 5.82e-01  -1.6 6.44e-01    -  1.00e+00 1.00e-04f 14\n",
      "  24  2.5925488e+01 0.00e+00 4.89e-01  -1.6 5.78e-01    -  1.00e+00 2.79e-05f 16\n",
      "  25  2.5925421e+01 0.00e+00 4.06e-01  -1.6 6.17e-01    -  1.00e+00 1.53e-05f 17\n",
      "  26  2.5925411e+01 0.00e+00 4.21e-01  -1.6 1.55e+00    -  7.96e-01 8.39e-07f 21\n",
      "  27  2.5925407e+01 0.00e+00 9.02e-01  -1.6 4.10e+00    -  6.81e-01 1.37e-07f 22\n",
      "  28  2.5925404e+01 0.00e+00 5.35e-01  -1.6 9.43e-01    -  1.00e+00 9.54e-07f 21\n",
      "  29  2.5925402e+01 0.00e+00 5.10e-01  -1.6 1.47e+00    -  5.69e-01 1.38e-08f 27\n",
      "iter    objective    inf_pr   inf_du lg(mu)  ||d||  lg(rg) alpha_du alpha_pr  ls\n",
      "  30  2.5925402e+01 0.00e+00 5.53e-01  -1.6 1.55e+00    -  1.00e+00 2.01e-13f 43\n",
      "  31  2.5925402e+01 0.00e+00 5.45e-01  -1.6 1.46e+00    -  6.57e-01 4.27e-13f 42\n",
      "  32  3.9764532e+02 0.00e+00 9.51e+00  -1.6 3.75e-01    -  8.28e-01 7.16e-01w  1\n",
      "  33  3.7343863e+02 0.00e+00 9.51e+00  -1.6 8.80e+00    -  4.02e-02 2.51e-02w  1\n",
      "  34  3.7151041e+02 0.00e+00 9.47e+00  -1.6 5.97e+01    -  1.01e-02 3.09e-04w  1\n",
      "  35  2.5925402e+01 0.00e+00 3.63e-01  -1.6 5.14e+01    -  8.28e-01 6.67e-10f 30\n",
      "  36  2.5925402e+01 0.00e+00 3.32e-01  -1.6 2.46e+00    -  1.66e-01 1.43e-10f 30\n",
      "  37  2.5925402e+01 0.00e+00 3.78e-01  -1.6 3.78e-01    -  1.00e+00 1.16e-10f 34\n",
      "  38  2.5925402e+01 0.00e+00 3.83e-01  -1.6 3.83e-01    -  1.00e+00 1.46e-11f 37\n",
      "  39  2.5925402e+01 0.00e+00 3.90e-01  -1.6 3.90e-01    -  1.00e+00 1.82e-12f 40\n",
      "iter    objective    inf_pr   inf_du lg(mu)  ||d||  lg(rg) alpha_du alpha_pr  ls\n",
      "  40  2.5925402e+01 0.00e+00 3.89e-01  -1.6 3.88e-01    -  9.32e-01 4.55e-13f 42\n",
      "  41  2.5925402e+01 0.00e+00 4.67e-01  -1.6 4.67e-01    -  1.00e+00 1.14e-13f 44\n",
      "  42  2.5925402e+01 0.00e+00 3.89e-01  -1.6 3.89e-01    -  8.16e-01 1.78e-15f 50\n",
      "  43  2.5925402e+01 0.00e+00 4.61e-01  -1.6 4.61e-01    -  1.00e+00 4.44e-16f 52\n",
      "  44  2.5925402e+01 0.00e+00 3.89e-01  -1.6 3.89e-01    -  8.17e-01 4.44e-16f 52\n",
      "  45  4.5619193e+02 0.00e+00 1.18e+01  -1.6 4.61e-01    -  1.00e+00 1.00e+00w  1\n",
      "  46  3.9218307e+02 0.00e+00 1.14e+01  -1.6 1.12e+01    -  4.50e-02 4.54e-02w  1\n",
      "  47  3.3187726e+02 0.00e+00 1.08e+01  -1.6 4.90e+01    -  2.05e-02 1.02e-02w  1\n",
      "  48  2.5925402e+01 0.00e+00 4.61e-01  -1.6 2.98e+01    -  1.00e+00 4.44e-16f 51\n",
      "  49  2.5925402e+01 0.00e+00 3.72e-01  -1.6 1.63e+00    -  3.22e-01 1.58e-16f 53\n",
      "iter    objective    inf_pr   inf_du lg(mu)  ||d||  lg(rg) alpha_du alpha_pr  ls\n",
      "  50  2.5925402e+01 0.00e+00 3.49e-01  -1.6 2.65e+00    -  5.83e-01 1.15e-16f 53\n",
      "  51  2.5925402e+01 0.00e+00 3.95e-01  -1.6 3.95e-01    -  9.85e-01 2.22e-16f 53\n",
      "  52  2.5925402e+01 0.00e+00 4.68e-01  -1.6 4.68e-01    -  1.00e+00 4.44e-16f 52\n",
      "  53  2.5925402e+01 0.00e+00 3.91e-01  -1.6 3.93e-01    -  8.16e-01 2.22e-16f 53\n",
      "  54  2.5925402e+01 0.00e+00 4.61e-01  -1.6 4.61e-01    -  1.00e+00 4.44e-16f 52\n",
      "  55  2.5925402e+01 0.00e+00 3.90e-01  -1.6 3.90e-01    -  8.17e-01 4.44e-16f 52\n",
      "  56  2.5925402e+01 0.00e+00 4.61e-01  -1.6 4.61e-01    -  1.00e+00 4.44e-16f 52\n",
      "  57  2.5925402e+01 0.00e+00 3.90e-01  -1.6 3.90e-01    -  8.17e-01 4.44e-16f 52\n",
      "  58  4.5656012e+02 0.00e+00 1.18e+01  -1.6 4.61e-01    -  1.00e+00 1.00e+00w  1\n",
      "  59  3.9275311e+02 0.00e+00 1.14e+01  -1.6 1.12e+01    -  4.49e-02 4.51e-02w  1\n",
      "iter    objective    inf_pr   inf_du lg(mu)  ||d||  lg(rg) alpha_du alpha_pr  ls\n",
      "  60  3.3094757e+02 0.00e+00 1.07e+01  -1.6 1.05e+01    -  1.04e-01 4.81e-02w  1\n",
      "  61  2.5925402e+01 0.00e+00 4.61e-01  -1.6 1.62e+01    -  1.00e+00 4.44e-16f 51\n",
      "  62  2.5925402e+01 0.00e+00 3.96e-01  -1.6 1.21e+00    -  2.99e-01 2.22e-16f 53\n",
      "  63  2.5925402e+01 0.00e+00 3.97e-01  -1.6 2.34e+00    -  3.72e-01 1.31e-16f 53\n",
      "  64  2.5925402e+01 0.00e+00 3.95e-01  -1.6 3.95e-01    -  1.00e+00 2.22e-16f 53\n",
      "  65  2.5925402e+01 0.00e+00 3.91e-01  -1.6 3.91e-01    -  1.00e+00 4.44e-16f 52\n",
      "  66  2.5925402e+01 0.00e+00 3.92e-01  -1.6 3.92e-01    -  1.00e+00 2.22e-16f 53\n",
      "  67  2.5925402e+01 0.00e+00 4.17e-01  -1.6 4.17e-01    -  1.00e+00 4.44e-16f 52\n",
      "  68  2.5925402e+01 0.00e+00 3.90e-01  -1.6 3.90e-01    -  8.34e-01 4.44e-16f 52\n",
      "  69  2.5925402e+01 0.00e+00 4.64e-01  -1.6 4.64e-01    -  1.00e+00 4.44e-16f 52\n",
      "iter    objective    inf_pr   inf_du lg(mu)  ||d||  lg(rg) alpha_du alpha_pr  ls\n",
      "  70  2.5925402e+01 0.00e+00 3.90e-01  -1.6 3.90e-01    -  8.17e-01 4.44e-16f 52\n",
      "  71  4.5670535e+02 0.00e+00 1.18e+01  -1.6 4.61e-01    -  1.00e+00 1.00e+00w  1\n",
      "  72  3.9297153e+02 0.00e+00 1.14e+01  -1.6 1.12e+01    -  4.48e-02 4.50e-02w  1\n",
      "  73  3.3095029e+02 0.00e+00 1.07e+01  -1.6 1.05e+01    -  1.04e-01 4.82e-02w  1\n",
      "  74  2.5925402e+01 0.00e+00 4.61e-01  -1.6 1.62e+01    -  1.00e+00 4.44e-16f 51\n",
      "  75  2.5925402e+01 0.00e+00 3.97e-01  -1.6 1.21e+00    -  2.96e-01 2.22e-16f 53\n",
      "  76  2.5925402e+01 0.00e+00 3.97e-01  -1.6 2.34e+00    -  3.49e-01 1.31e-16f 53\n",
      "  77  2.5925402e+01 0.00e+00 3.95e-01  -1.6 3.95e-01    -  1.00e+00 2.22e-16f 53\n",
      "  78  2.5925402e+01 0.00e+00 3.91e-01  -1.6 3.91e-01    -  1.00e+00 4.44e-16f 52\n",
      "  79  2.5925402e+01 0.00e+00 3.92e-01  -1.6 3.92e-01    -  1.00e+00 2.22e-16f 53\n",
      "iter    objective    inf_pr   inf_du lg(mu)  ||d||  lg(rg) alpha_du alpha_pr  ls\n",
      "  80  2.5925402e+01 0.00e+00 3.89e-01  -1.6 3.89e-01    -  1.00e+00 4.44e-16f 52\n",
      "  81  2.5925402e+01 0.00e+00 3.90e-01  -1.6 3.90e-01    -  9.13e-01 4.44e-16f 52\n",
      "  82  2.5925402e+01 0.00e+00 4.67e-01  -1.6 4.67e-01    -  1.00e+00 4.44e-16f 52\n",
      "  83  2.5925402e+01 0.00e+00 3.90e-01  -1.6 3.90e-01    -  8.16e-01 4.44e-16f 52\n",
      "  84  4.5676196e+02 0.00e+00 1.18e+01  -1.6 4.61e-01    -  1.00e+00 1.00e+00w  1\n",
      "  85  3.9305304e+02 0.00e+00 1.14e+01  -1.6 1.12e+01    -  4.48e-02 4.50e-02w  1\n",
      "  86  3.3095166e+02 0.00e+00 1.07e+01  -1.6 1.05e+01    -  1.04e-01 4.83e-02w  1\n",
      "  87  2.5925402e+01 0.00e+00 4.61e-01  -1.6 1.62e+01    -  1.00e+00 4.44e-16f 51\n",
      "  88  2.5925402e+01 0.00e+00 3.97e-01  -1.6 1.22e+00    -  2.95e-01 2.22e-16f 53\n",
      "  89  2.5925402e+01 0.00e+00 3.97e-01  -1.6 2.34e+00    -  3.37e-01 1.31e-16f 53\n",
      "iter    objective    inf_pr   inf_du lg(mu)  ||d||  lg(rg) alpha_du alpha_pr  ls\n",
      "  90  2.5925402e+01 0.00e+00 3.94e-01  -1.6 3.94e-01    -  1.00e+00 2.22e-16f 53\n",
      "  91  2.5925402e+01 0.00e+00 3.91e-01  -1.6 3.91e-01    -  1.00e+00 4.44e-16f 52\n",
      "  92  2.5925402e+01 0.00e+00 3.92e-01  -1.6 3.92e-01    -  1.00e+00 2.22e-16f 53\n",
      "  93  2.5925402e+01 0.00e+00 3.89e-01  -1.6 3.89e-01    -  1.00e+00 4.44e-16f 52\n",
      "  94  2.5925402e+01 0.00e+00 3.90e-01  -1.6 3.90e-01    -  1.00e+00 4.44e-16f 52\n",
      "  95  2.5925402e+01 0.00e+00 4.60e-01  -1.6 4.60e-01    -  1.00e+00 4.44e-16f 52\n",
      "  96  2.5925402e+01 0.00e+00 3.90e-01  -1.6 3.90e-01    -  8.17e-01 4.44e-16f 52\n",
      "  97  4.5682507e+02 0.00e+00 1.18e+01  -1.6 4.61e-01    -  1.00e+00 1.00e+00w  1\n",
      "  98  3.9314325e+02 0.00e+00 1.14e+01  -1.6 1.12e+01    -  4.48e-02 4.50e-02w  1\n",
      "  99  3.3094995e+02 0.00e+00 1.07e+01  -1.6 1.05e+01    -  1.04e-01 4.84e-02w  1\n",
      "iter    objective    inf_pr   inf_du lg(mu)  ||d||  lg(rg) alpha_du alpha_pr  ls\n",
      " 100  2.5925402e+01 0.00e+00 4.61e-01  -1.6 1.62e+01    -  1.00e+00 4.44e-16f 51\n",
      "\n",
      "Number of Iterations....: 100\n",
      "\n",
      "                                   (scaled)                 (unscaled)\n",
      "Objective...............:   2.5925401687622070e+01    2.5925401687622070e+01\n",
      "Dual infeasibility......:   4.6144009429556387e-01    4.6144009429556387e-01\n",
      "Constraint violation....:   0.0000000000000000e+00    0.0000000000000000e+00\n",
      "Variable bound violation:   0.0000000000000000e+00    0.0000000000000000e+00\n",
      "Complementarity.........:   1.1603696977114220e-01    1.1603696977114220e-01\n",
      "Overall NLP error.......:   4.6144009429556387e-01    4.6144009429556387e-01\n",
      "\n",
      "\n",
      "Number of objective function evaluations             = 3208\n",
      "Number of objective gradient evaluations             = 101\n",
      "Number of equality constraint evaluations            = 0\n",
      "Number of inequality constraint evaluations          = 0\n",
      "Number of equality constraint Jacobian evaluations   = 0\n",
      "Number of inequality constraint Jacobian evaluations = 0\n",
      "Number of Lagrangian Hessian evaluations             = 0\n",
      "Total seconds in IPOPT                               = 33.107\n",
      "\n",
      "EXIT: Maximum Number of Iterations Exceeded.\n"
     ]
    }
   ],
   "source": [
    "#ipopt.add_option(\"acceptable_obj_change_tol\", 1.)\n",
    "ipopt.add_option(\"acceptable_tol\", 0.0001)\n",
    "ipopt.add_option(\"acceptable_iter\", 2)\n",
    "ipopt.add_option(\"print_level\", 5)\n",
    "ipopt.add_option(\"max_iter\", 100)\n",
    "\n",
    "qsol, info = ipopt.solve(qdots)"
   ]
  },
  {
   "cell_type": "code",
   "execution_count": 629,
   "metadata": {},
   "outputs": [],
   "source": [
    "#qs = rollout(q0, to_qdots_mat(q0, qsol)) \n",
    "draw_ee_traj(q0, to_qdots_mat(q0, qsol).flatten())"
   ]
  },
  {
   "cell_type": "code",
   "execution_count": 643,
   "metadata": {},
   "outputs": [],
   "source": [
    "i=0"
   ]
  },
  {
   "cell_type": "code",
   "execution_count": 665,
   "metadata": {},
   "outputs": [
    {
     "ename": "IndexError",
     "evalue": "index 20 is out of bounds for axis 0 with size 20",
     "output_type": "error",
     "traceback": [
      "\u001b[0;31m---------------------------------------------------------------------------\u001b[0m",
      "\u001b[0;31mIndexError\u001b[0m                                Traceback (most recent call last)",
      "Cell \u001b[0;32mIn[665], line 1\u001b[0m\n\u001b[0;32m----> 1\u001b[0m panda\u001b[39m.\u001b[39mset_joint_angles(to_mat(qsol)[i])\n\u001b[1;32m      2\u001b[0m frame_ee\u001b[39m.\u001b[39mset_pose(SE3(panda_model\u001b[39m.\u001b[39mfk_fn(to_mat(qsol)[i])[\u001b[39m-\u001b[39m\u001b[39m1\u001b[39m]))\n\u001b[1;32m      3\u001b[0m i\u001b[39m+\u001b[39m\u001b[39m=\u001b[39m \u001b[39m1\u001b[39m\n",
      "\u001b[0;31mIndexError\u001b[0m: index 20 is out of bounds for axis 0 with size 20"
     ]
    }
   ],
   "source": [
    "panda.set_joint_angles(to_mat(qsol)[i])\n",
    "frame_ee.set_pose(SE3(panda_model.fk_fn(to_mat(qsol)[i])[-1]))\n",
    "i+= 1"
   ]
  },
  {
   "cell_type": "code",
   "execution_count": 543,
   "metadata": {},
   "outputs": [
    {
     "data": {
      "text/plain": [
       "Array(0.0190942, dtype=float32)"
      ]
     },
     "execution_count": 543,
     "metadata": {},
     "output_type": "execute_result"
    }
   ],
   "source": [
    "pose_err(to_mat(qs)[-1], target)"
   ]
  },
  {
   "cell_type": "code",
   "execution_count": 544,
   "metadata": {},
   "outputs": [
    {
     "data": {
      "text/plain": [
       "Array([-0.00276927,  0.00031458,  0.08400258, -0.00164529, -0.00213077,\n",
       "       -0.00996618,  0.02344448], dtype=float32)"
      ]
     },
     "execution_count": 544,
     "metadata": {},
     "output_type": "execute_result"
    }
   ],
   "source": [
    "pose_err_grad(to_mat(qs)[-1], target)"
   ]
  },
  {
   "cell_type": "code",
   "execution_count": 539,
   "metadata": {},
   "outputs": [
    {
     "data": {
      "text/plain": [
       "Array([ 0.18797217, -1.5620015 , -1.7517192 , -2.6781812 , -1.1485922 ,\n",
       "        3.8666735 , -1.8566442 ], dtype=float32)"
      ]
     },
     "execution_count": 539,
     "metadata": {},
     "output_type": "execute_result"
    }
   ],
   "source": []
  },
  {
   "cell_type": "code",
   "execution_count": 151,
   "metadata": {},
   "outputs": [
    {
     "data": {
      "text/plain": [
       "SE3(wxyz=[-0.49978998 -0.51574    -0.41063    -0.56179   ], xyz=[ 0.08882    -0.15044999  0.35022998])"
      ]
     },
     "execution_count": 151,
     "metadata": {},
     "output_type": "execute_result"
    }
   ],
   "source": []
  },
  {
   "cell_type": "code",
   "execution_count": 12,
   "metadata": {},
   "outputs": [],
   "source": []
  },
  {
   "cell_type": "code",
   "execution_count": 41,
   "metadata": {},
   "outputs": [
    {
     "data": {
      "text/plain": [
       "Array([-0.63412786,  1.6975825 , -0.63412786, -1.4206374 ,  3.382577  ,\n",
       "       -1.1811363 ,  1.8599132 ], dtype=float32)"
      ]
     },
     "execution_count": 41,
     "metadata": {},
     "output_type": "execute_result"
    }
   ],
   "source": [
    "pose_err_grad(panda.neutral, target)"
   ]
  },
  {
   "cell_type": "code",
   "execution_count": 18,
   "metadata": {},
   "outputs": [],
   "source": [
    "#visualize\n",
    "import meshcat.geometry as g\n",
    "get_ee_pos = lambda q: panda_model.fk_fn(q)[-1][-3:]\n",
    "def draw_ee_traj(q0, qdots):\n",
    "    world.vis[\"line\"].delete()\n",
    "    world.vis[\"line_pc\"].delete()\n",
    "\n",
    "    panda.set_joint_angles(q0)\n",
    "    qs = rollout(q0, qdots)    \n",
    "    vertices = jax.vmap(get_ee_pos)(to_mat(qs))\n",
    "    color = Colors.read(\"red\")\n",
    "    colors = np.tile(Colors.read(\"red\", return_rgb=True), \n",
    "                     vertices.shape[0]).reshape(-1, 3)\n",
    "    point_obj = g.PointsGeometry(vertices.T, colors.T)\n",
    "    line_material = g.MeshBasicMaterial(color=color)\n",
    "    point_material = g.PointsMaterial(size=0.02)\n",
    "    world.vis[\"line\"].set_object(\n",
    "        g.Line(point_obj, line_material)\n",
    "    )\n",
    "    world.vis[\"line_pc\"].set_object(\n",
    "        point_obj, point_material)\n",
    "\n",
    "def make_random_pose():\n",
    "    return SE3.from_rotation_and_translation(\n",
    "        SO3(np.random.random(4)).normalize(),\n",
    "        np.random.uniform([-0.,-0.5,0.3],[0.5,0.5,0.8])\n",
    "    )"
   ]
  },
  {
   "cell_type": "code",
   "execution_count": 30,
   "metadata": {},
   "outputs": [],
   "source": [
    "draw_ee_traj(q0, rollout(q0, qdots))"
   ]
  },
  {
   "cell_type": "code",
   "execution_count": null,
   "metadata": {},
   "outputs": [],
   "source": []
  }
 ],
 "metadata": {
  "kernelspec": {
   "display_name": "cu11",
   "language": "python",
   "name": "python3"
  },
  "language_info": {
   "codemirror_mode": {
    "name": "ipython",
    "version": 3
   },
   "file_extension": ".py",
   "mimetype": "text/x-python",
   "name": "python",
   "nbconvert_exporter": "python",
   "pygments_lexer": "ipython3",
   "version": "3.8.16"
  },
  "orig_nbformat": 4
 },
 "nbformat": 4,
 "nbformat_minor": 2
}
