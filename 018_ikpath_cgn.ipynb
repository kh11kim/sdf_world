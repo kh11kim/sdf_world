{
 "cells": [
  {
   "cell_type": "code",
   "execution_count": 1,
   "metadata": {},
   "outputs": [],
   "source": [
    "import numpy as np\n",
    "import jax\n",
    "import jax.numpy as jnp\n",
    "from jaxlie import SE3, SO3\n",
    "import jax_dataclasses as jdc\n",
    "import cyipopt\n",
    "from functools import partial\n",
    "\n",
    "from sdf_world.sdf_world import *\n",
    "from sdf_world.robots import *\n",
    "from sdf_world.util import *"
   ]
  },
  {
   "cell_type": "code",
   "execution_count": 2,
   "metadata": {},
   "outputs": [
    {
     "name": "stdout",
     "output_type": "stream",
     "text": [
      "You can open the visualizer by visiting the following URL:\n",
      "http://127.0.0.1:7003/static/\n"
     ]
    }
   ],
   "source": [
    "world = SDFWorld()"
   ]
  },
  {
   "cell_type": "code",
   "execution_count": 3,
   "metadata": {},
   "outputs": [],
   "source": [
    "panda_model = RobotModel(PANDA_URDF, PANDA_PACKAGE)\n",
    "panda = Robot(world.vis, \"panda\", panda_model, alpha=0.5)\n",
    "panda.reduce_dim([7, 8], [0.04, 0.04])"
   ]
  },
  {
   "cell_type": "code",
   "execution_count": 4,
   "metadata": {},
   "outputs": [],
   "source": [
    "robot_dim = 7\n",
    "horizon = 10\n",
    "dim = robot_dim * horizon\n",
    "dt = 0.1\n",
    "\n",
    "to_mat = lambda x: x.reshape(-1, robot_dim)\n",
    "to_vec = lambda x: x.flatten()\n",
    "def to_posevec(pose:SE3):\n",
    "    return jnp.hstack([pose.translation(), pose.rotation().log()])\n",
    "def to_vel(x, state):\n",
    "    qmat = jnp.vstack([state.q0, to_mat(x)])\n",
    "    vel_mat = (qmat[1:] - qmat[:-1]) / dt\n",
    "    return vel_mat.flatten()"
   ]
  },
  {
   "cell_type": "code",
   "execution_count": 5,
   "metadata": {},
   "outputs": [],
   "source": [
    "# Kinematics\n",
    "def get_rotvec_angvel_map(v):\n",
    "    def skew(v):\n",
    "        v1, v2, v3 = v\n",
    "        return jnp.array([[0, -v3, v2],\n",
    "                        [v3, 0., -v1],\n",
    "                        [-v2, v1, 0.]])\n",
    "    vmag = jnp.linalg.norm(v)\n",
    "    vskew = skew(v)\n",
    "    return jnp.eye(3) \\\n",
    "        - 1/2*skew(v) \\\n",
    "        + vskew@vskew * 1/vmag**2 * (1-vmag/2 * jnp.sin(vmag)/(1-jnp.cos(vmag)))\n",
    "\n",
    "@jax.jit\n",
    "def get_ee_fk_jac(q):\n",
    "    # outputs ee_posevec and analytical jacobian\n",
    "    fks = panda_model.fk_fn(q)\n",
    "    p_ee = fks[-1][-3:]\n",
    "    rotvec_ee = SO3(fks[-1][:4]).log()\n",
    "    E = get_rotvec_angvel_map(rotvec_ee)\n",
    "    jac = []\n",
    "    for posevec in fks[1:8]:\n",
    "        p_frame = posevec[-3:]\n",
    "        rot_axis = SE3(posevec).as_matrix()[:3, 2]\n",
    "        lin_vel = jnp.cross(rot_axis, p_ee - p_frame)\n",
    "        jac.append(jnp.hstack([lin_vel, rot_axis]))\n",
    "    jac = jnp.array(jac).T\n",
    "    jac = jac.at[3:, :].set(E @ jac[3:, :])\n",
    "    return jnp.hstack([p_ee, rotvec_ee]), jac"
   ]
  },
  {
   "cell_type": "code",
   "execution_count": null,
   "metadata": {},
   "outputs": [],
   "source": [
    "@jdc.pytree_dataclass\n",
    "class State:\n",
    "    q0: Array\n",
    "    target: Array"
   ]
  },
  {
   "cell_type": "code",
   "execution_count": 6,
   "metadata": {},
   "outputs": [],
   "source": [
    "frame = Frame(world.vis, \"frame\")\n",
    "frame_ee = Frame(world.vis, \"frame_ee\")\n",
    "line = DottedLine(world.vis, \"line\", np.zeros([horizon+1, 3]))\n",
    "def make_pose():\n",
    "    return SE3.from_rotation_and_translation(\n",
    "        SO3(np.random.random(4)).normalize(),\n",
    "        np.random.uniform([-0.3,-0.5,0.3],[0.6, 0.5, 0.8])\n",
    "    )\n",
    "def draw_traj(x, state):\n",
    "    get_ee_point = lambda q: panda_model.fk_fn(q)[-1,-3:]\n",
    "    qmat = jnp.vstack([state.q0, to_mat(x)])\n",
    "    points = jax.vmap(get_ee_point)(qmat)\n",
    "    line.reload(points=points)\n",
    "    panda.set_joint_angles(qmat[-1])"
   ]
  },
  {
   "cell_type": "code",
   "execution_count": 8,
   "metadata": {},
   "outputs": [],
   "source": [
    "# CGN fns\n",
    "class ResidualFn:\n",
    "    def get_error_and_jac(self, x, state):\n",
    "        pass\n",
    "    def get_weight(self):\n",
    "        pass\n",
    "\n",
    "class ConstraintFn:\n",
    "    def get_value_and_jac(self, x, state):\n",
    "        pass\n",
    "    def get_bounds(self):\n",
    "        pass\n",
    "\n",
    "@jax.jit\n",
    "def residual_eval(x, state, res_fns:Tuple[ResidualFn]):\n",
    "    errors, jacs = [], []\n",
    "    for res_fn in res_fns:\n",
    "        error, jac = res_fn.get_error_and_jac(x, state)\n",
    "        errors.append(error)\n",
    "        jacs.append(jac)\n",
    "    return jnp.hstack(errors), jnp.vstack(jacs)\n",
    "\n",
    "def residual_weights(res_fns:Tuple[ResidualFn]):\n",
    "    weights = []\n",
    "    for res_fn in res_fns:\n",
    "        weights.append(res_fn.get_weight())\n",
    "    return jnp.hstack(weights)\n",
    "\n",
    "@jax.jit\n",
    "def constr_eval(x, state, constr_fns:Tuple[ConstraintFn]):\n",
    "    vals, jacs = [], []\n",
    "    for constr_fn in constr_fns:\n",
    "        val, jac = constr_fn.get_value_and_jac(x, state)\n",
    "        vals.append(val)\n",
    "        jacs.append(jac)\n",
    "    return jnp.hstack(vals), jnp.vstack(jacs)\n",
    "\n",
    "def constr_bounds(constr_fns:Tuple[ConstraintFn]):\n",
    "    lbs, ubs = [], []\n",
    "    for constr_fn in constr_fns:\n",
    "        lb, ub = constr_fn.get_bounds()\n",
    "        lbs.append(lb)\n",
    "        ubs.append(ub)\n",
    "    return jnp.hstack(lbs), jnp.hstack(ubs)"
   ]
  },
  {
   "cell_type": "code",
   "execution_count": 9,
   "metadata": {},
   "outputs": [],
   "source": [
    "@jdc.pytree_dataclass\n",
    "class FinalPoseError(ResidualFn):\n",
    "    def get_error_and_jac(self, x, state:State):\n",
    "        q_final = x[-robot_dim:]\n",
    "        ee, jac = get_ee_fk_jac(q_final)\n",
    "        error = state.target - ee\n",
    "        zeropad = jnp.zeros([6, dim-robot_dim])\n",
    "        return error, jnp.hstack([zeropad, -jac])\n",
    "    \n",
    "    def get_weight(self):\n",
    "        return np.array([1,1,1,0.3,0.3,0.3])\n",
    "\n",
    "@jdc.pytree_dataclass\n",
    "class Velocity(ResidualFn):\n",
    "    def get_error_and_jac(self, x, state:State):\n",
    "        vel_fn = lambda x, state: to_vel(x, state)\n",
    "        return value_and_jacrev(vel_fn, x, state)\n",
    "    \n",
    "    def get_weight(self):\n",
    "        return np.ones(dim)*0.00001/horizon\n",
    "\n",
    "@jdc.pytree_dataclass\n",
    "class JointLimit(ConstraintFn):\n",
    "    \"\"\" lb < val < ub. dval/dx = jac\"\"\"\n",
    "    robot_lb: Array\n",
    "    robot_ub: Array\n",
    "    def get_value_and_jac(self, x, state):\n",
    "        val = x\n",
    "        jac = jnp.eye(dim)\n",
    "        return val, jac\n",
    "    \n",
    "    def get_bounds(self):\n",
    "        lb = jnp.tile(self.robot_lb, horizon)\n",
    "        ub = jnp.tile(self.robot_ub, horizon)\n",
    "        return lb, ub"
   ]
  },
  {
   "cell_type": "code",
   "execution_count": 10,
   "metadata": {},
   "outputs": [],
   "source": [
    "res_fns = [FinalPoseError(), Velocity()] #, \n",
    "constr_fns = [JointLimit(panda.lb, panda.ub)]"
   ]
  },
  {
   "cell_type": "code",
   "execution_count": 2048,
   "metadata": {},
   "outputs": [],
   "source": [
    "# problem setting\n",
    "pose_d = make_pose()\n",
    "frame.set_pose(pose_d)\n",
    "posevec_d = to_posevec(pose_d)\n",
    "state = State(panda.neutral, posevec_d)"
   ]
  },
  {
   "cell_type": "code",
   "execution_count": 2049,
   "metadata": {},
   "outputs": [],
   "source": [
    "x = jnp.tile(panda.neutral, horizon)\n",
    "panda.set_joint_angles(state.q0)"
   ]
  },
  {
   "cell_type": "code",
   "execution_count": 2050,
   "metadata": {},
   "outputs": [],
   "source": [
    "import osqp\n",
    "from scipy import sparse\n",
    "\n",
    "prob = osqp.OSQP()\n",
    "is_qp_init = False\n",
    "weights = residual_weights(res_fns)\n",
    "lb, ub = constr_bounds(constr_fns)\n",
    "W = jnp.diag(weights)\n",
    "\n",
    "tr_length = 0.1 # trust-region length\n",
    "max_tr_length = 1.\n",
    "\n",
    "err, jac = residual_eval(x, state, res_fns)\n",
    "val = err@W@err"
   ]
  },
  {
   "cell_type": "code",
   "execution_count": 2088,
   "metadata": {},
   "outputs": [
    {
     "name": "stdout",
     "output_type": "stream",
     "text": [
      "solved\n"
     ]
    }
   ],
   "source": [
    "cval, cjac = constr_eval(x, state, constr_fns)\n",
    "P = sparse.csc_matrix(jac.T@W@jac)  # hess = jac.T@W@jac\n",
    "q = np.asarray(jac.T@W@err)         # grad = jac.T@W@err\n",
    "A = sparse.csc_matrix(np.vstack([cjac, np.eye(dim)]))\n",
    "l = np.hstack([lb-cval, np.full(dim, -tr_length)])\n",
    "u = np.hstack([ub-cval, np.full(dim, tr_length)])\n",
    "\n",
    "if not is_qp_init:\n",
    "    qp_settings = dict(check_termination=10, verbose=False)\n",
    "    prob.setup(P, q, A, l, u, **qp_settings)\n",
    "    is_qp_init = True\n",
    "else:\n",
    "    prob.update(\n",
    "        Px=sparse.triu(P).data, Ax=A.data,\n",
    "        q=q, l=l, u=u)\n",
    "res = prob.solve()\n",
    "print(res.info.status)\n",
    "p = res.x\n",
    "\n",
    "err_new, jac_new = residual_eval(x+p, state, res_fns)\n",
    "val_new = err_new@W@err_new\n",
    "pred_reduction = 0.5*(val - (err+jac@p)@W@(err+jac@p))\n",
    "true_reduction = val - val_new\n",
    "ratio = true_reduction/pred_reduction\n",
    "\n",
    "if ratio < 0.25:\n",
    "    tr_length /= 4\n",
    "elif ratio > 0.75 and np.abs(np.linalg.norm(p, np.inf) - tr_length) < 1e-3:\n",
    "    tr_length = np.minimum(2*tr_length, max_tr_length)\n",
    "else: pass\n",
    "\n",
    "if ratio > 0.2:\n",
    "    x = x + p\n",
    "    err, jac, val = err_new, jac_new, val_new\n",
    "\n",
    "draw_traj(x, state)\n",
    "# panda.set_joint_angles(x)"
   ]
  },
  {
   "cell_type": "code",
   "execution_count": 2101,
   "metadata": {},
   "outputs": [
    {
     "ename": "",
     "evalue": "",
     "output_type": "error",
     "traceback": [
      "\u001b[1;31mThe Kernel crashed while executing code in the the current cell or a previous cell. Please review the code in the cell(s) to identify a possible cause of the failure. Click <a href='https://aka.ms/vscodeJupyterKernelCrash'>here</a> for more info. View Jupyter <a href='command:jupyter.viewOutput'>log</a> for further details."
     ]
    }
   ],
   "source": [
    "panda.set_joint_angles(to_mat(x)[9])"
   ]
  }
 ],
 "metadata": {
  "kernelspec": {
   "display_name": "cu11",
   "language": "python",
   "name": "python3"
  },
  "language_info": {
   "codemirror_mode": {
    "name": "ipython",
    "version": 3
   },
   "file_extension": ".py",
   "mimetype": "text/x-python",
   "name": "python",
   "nbconvert_exporter": "python",
   "pygments_lexer": "ipython3",
   "version": "3.8.16"
  },
  "orig_nbformat": 4
 },
 "nbformat": 4,
 "nbformat_minor": 2
}
