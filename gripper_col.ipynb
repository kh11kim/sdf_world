{
 "cells": [
  {
   "cell_type": "code",
   "execution_count": 1,
   "metadata": {},
   "outputs": [],
   "source": [
    "from sdf_world.sdf_world import *\n",
    "from sdf_world.robots import *\n",
    "from sdf_world.util import *\n",
    "from sdf_world.network import *"
   ]
  },
  {
   "cell_type": "code",
   "execution_count": 2,
   "metadata": {},
   "outputs": [],
   "source": [
    "orbax_checkpointer = orbax.checkpoint.PyTreeCheckpointer()\n",
    "restored_grasp = orbax_checkpointer.restore(\"model/grasp_net_prob_dist\")\n",
    "restored_manip = orbax_checkpointer.restore(\"model/manip_net_posevec\")\n",
    "\n",
    "#grasp net\n",
    "grasp_net = GraspNet(32)\n",
    "grasp_fn = lambda x: grasp_net.apply(restored_grasp[\"params\"], x)\n",
    "\n",
    "grasp_logit_fn = lambda g: grasp_fn(g)[0]\n",
    "grasp_dist_fn = lambda g: grasp_fn(g)[1]\n",
    "#manip net\n",
    "manip_net = ManipNet(64)\n",
    "manip_fn = lambda x: manip_net.apply(restored_manip[\"params\"], x)[0]"
   ]
  },
  {
   "cell_type": "code",
   "execution_count": 3,
   "metadata": {},
   "outputs": [
    {
     "name": "stdout",
     "output_type": "stream",
     "text": [
      "You can open the visualizer by visiting the following URL:\n",
      "http://127.0.0.1:7010/static/\n"
     ]
    }
   ],
   "source": [
    "world = SDFWorld()"
   ]
  },
  {
   "cell_type": "code",
   "execution_count": 4,
   "metadata": {},
   "outputs": [
    {
     "data": {
      "text/html": [
       "\n",
       "            <div style=\"height: 400px; width: 100%; overflow-x: auto; overflow-y: hidden; resize: both\">\n",
       "            <iframe src=\"http://127.0.0.1:7010/static/\" style=\"width: 100%; height: 100%; border: none\"></iframe>\n",
       "            </div>\n",
       "            "
      ],
      "text/plain": [
       "<IPython.core.display.HTML object>"
      ]
     },
     "execution_count": 4,
     "metadata": {},
     "output_type": "execute_result"
    }
   ],
   "source": [
    "world.show_in_jupyter()"
   ]
  },
  {
   "cell_type": "code",
   "execution_count": 5,
   "metadata": {},
   "outputs": [
    {
     "name": "stderr",
     "output_type": "stream",
     "text": [
      "WARNING:trimesh:concatenating texture: may result in visual artifacts\n",
      "WARNING:trimesh:concatenating texture: may result in visual artifacts\n",
      "WARNING:trimesh:concatenating texture: may result in visual artifacts\n"
     ]
    }
   ],
   "source": [
    "hand_model = RobotModel(HAND_URDF, PANDA_PACKAGE, True)\n",
    "for link_name, link in hand_model.links.items():\n",
    "    link.set_surface_points(10)"
   ]
  },
  {
   "cell_type": "code",
   "execution_count": 6,
   "metadata": {},
   "outputs": [],
   "source": [
    "class PandaHand:\n",
    "    def __init__(self, hand_model, name=\"hand\"):\n",
    "        self.model = hand_model\n",
    "        self.robot = Robot(world.vis, name, hand_model, color=\"white\", alpha=0.5, visualized_mesh=\"visual\")\n",
    "        self.hand_pose_wrt_ee = SE3.from_translation(jnp.array([0,0,-0.105]))\n",
    "        self.hand_pc = self.robot.get_surface_points_fn(jnp.array([0.04, 0.04]))\n",
    "    \n",
    "    def get_bounding_box(self, name):\n",
    "        fks = self.model.fk_fn(jnp.array([0.04, 0.04]))\n",
    "        hand_points = []\n",
    "        for i, link in enumerate(hand_model.links.values()):\n",
    "            pts = jax.vmap(SE3(fks[i]).apply)(link.collision_mesh.vertices)\n",
    "            hand_points.append(pts)\n",
    "        hand_points = np.vstack(hand_points, dtype=float)\n",
    "        min_points = hand_points.min(axis=0)\n",
    "        max_points = hand_points.max(axis=0)\n",
    "        extents = max_points - min_points\n",
    "        center = (max_points + min_points) / 2\n",
    "        box = Box(world.vis, name, extents, alpha=0.5, visualize=False)\n",
    "        box.set_translate(center)\n",
    "        return box\n",
    "    \n",
    "    def set_pose(self, pose):\n",
    "        self.robot.set_pose(pose @ self.hand_pose_wrt_ee)"
   ]
  },
  {
   "cell_type": "code",
   "execution_count": 7,
   "metadata": {},
   "outputs": [],
   "source": [
    "def grasp_reconst(grasp:Array):\n",
    "    rot = SO3(grasp_fn(grasp)[2:]).normalize()\n",
    "    trans = grasp/restored_grasp[\"scale_to_norm\"]\n",
    "    return SE3.from_rotation_and_translation(rot, trans)"
   ]
  },
  {
   "cell_type": "code",
   "execution_count": 22,
   "metadata": {},
   "outputs": [],
   "source": [
    "pc_hands = PointCloud(world.vis, \"pc_hands\", np.zeros((10,3)), size=0.01, color=\"red\")"
   ]
  },
  {
   "cell_type": "code",
   "execution_count": 8,
   "metadata": {},
   "outputs": [],
   "source": [
    "hand1 = PandaHand(hand_model, \"hand1\")\n",
    "hand2 = PandaHand(hand_model, \"hand2\")"
   ]
  },
  {
   "cell_type": "code",
   "execution_count": 37,
   "metadata": {},
   "outputs": [],
   "source": [
    "del hand1, hand2"
   ]
  },
  {
   "cell_type": "code",
   "execution_count": 11,
   "metadata": {},
   "outputs": [],
   "source": [
    "obj = Mesh(world.vis, \"obj\", \n",
    "                 \"./sdf_world/assets/object/mesh.obj\",\n",
    "                 color=\"white\", alpha=0.5)"
   ]
  },
  {
   "cell_type": "code",
   "execution_count": 51,
   "metadata": {},
   "outputs": [],
   "source": [
    "hand_pc = hand1.hand_pc\n",
    "hand_bb = hand1.get_bounding_box(\"hand_bb\")\n",
    "def hands_collision(grasp1, grasp2):\n",
    "    grasp_pose1 = grasp_reconst(grasp1) @ hand1.hand_pose_wrt_ee\n",
    "    grasp_pose2 = grasp_reconst(grasp2) @ hand1.hand_pose_wrt_ee\n",
    "    grasp1_wrt_2 = grasp_pose1.inverse() @ grasp_pose2\n",
    "    points = jax.vmap(grasp1_wrt_2.apply)(hand_pc)\n",
    "    return jax.vmap(hand_bb.sdf)(points).min()"
   ]
  },
  {
   "cell_type": "code",
   "execution_count": 264,
   "metadata": {},
   "outputs": [
    {
     "name": "stdout",
     "output_type": "stream",
     "text": [
      "[ 0.12983679 -0.15415074 -0.07238102  0.18586288 -0.34047881  0.11690921]\n",
      "-0.017185275\n"
     ]
    }
   ],
   "source": [
    "grasp12 = np.random.normal(size=6)*0.3\n",
    "\n",
    "print(grasp12)\n",
    "print(hands_collision(grasp12[:3], grasp12[3:]))\n",
    "hand1.set_pose(grasp_reconst(grasp12[:3]))\n",
    "hand2.set_pose(grasp_reconst(grasp12[3:]))"
   ]
  },
  {
   "cell_type": "code",
   "execution_count": 64,
   "metadata": {},
   "outputs": [],
   "source": [
    "jac_hands_col = jax.jacfwd(hands_collision, argnums=[0,1])"
   ]
  },
  {
   "cell_type": "code",
   "execution_count": 273,
   "metadata": {},
   "outputs": [
    {
     "name": "stdout",
     "output_type": "stream",
     "text": [
      "0.0145794\n"
     ]
    }
   ],
   "source": [
    "grads = jac_hands_col(grasp12[:3], grasp12[3:])\n",
    "grasp12 += jnp.hstack(grads) * 0.1\n",
    "print(hands_collision(grasp12[:3], grasp12[3:]))\n",
    "hand1.set_pose(grasp_reconst(grasp12[:3]))\n",
    "hand2.set_pose(grasp_reconst(grasp12[3:]))"
   ]
  },
  {
   "cell_type": "code",
   "execution_count": 11,
   "metadata": {},
   "outputs": [],
   "source": [
    "hand_bb = hand.get_bounding_box(\"hand_bb\")\n",
    "hand_pc = hand.hand_pc"
   ]
  },
  {
   "cell_type": "code",
   "execution_count": 13,
   "metadata": {},
   "outputs": [
    {
     "data": {
      "text/plain": [
       "Array([-7.99929909e-03, -3.69697646e-03, -4.14564321e-03, -1.71705130e-02,\n",
       "       -6.71752403e-03, -2.89463834e-03, -1.11606643e-02, -8.74026679e-03,\n",
       "       -3.25338007e-03, -7.06460746e-03, -2.14846060e-02, -1.51975619e-05,\n",
       "       -2.13337895e-02, -2.60398295e-02, -2.11889800e-02, -2.12817453e-02,\n",
       "       -9.90752690e-03, -2.17491519e-02, -2.11603846e-02, -2.41197553e-02,\n",
       "       -6.41627776e-05, -2.27419790e-02, -2.28510369e-02, -2.17692498e-02,\n",
       "       -2.12432910e-02, -2.22314205e-02, -1.85975116e-02, -2.12153438e-02,\n",
       "       -1.75805669e-02, -1.26740765e-02], dtype=float32)"
      ]
     },
     "execution_count": 13,
     "metadata": {},
     "output_type": "execute_result"
    }
   ],
   "source": [
    "jax.vmap(hand_bb.sdf)(hand_pc)"
   ]
  },
  {
   "cell_type": "code",
   "execution_count": 22,
   "metadata": {},
   "outputs": [],
   "source": [
    "link = hand_model.links['panda_hand']"
   ]
  },
  {
   "cell_type": "code",
   "execution_count": 55,
   "metadata": {},
   "outputs": [],
   "source": [
    "fks = hand_model.fk_fn(jnp.array([0.04, 0.04]))\n",
    "hand_points = []\n",
    "for i, link in enumerate(hand_model.links.values()):\n",
    "    pts = jax.vmap(SE3(fks[i]).apply)(link.collision_mesh.vertices)\n",
    "    hand_points.append(pts)"
   ]
  },
  {
   "cell_type": "code",
   "execution_count": 56,
   "metadata": {},
   "outputs": [],
   "source": [
    "hand_points = np.vstack(hand_points, dtype=float)\n",
    "min_points = hand_points.min(axis=0)\n",
    "max_points = hand_points.max(axis=0)\n",
    "extents = max_points - min_points\n",
    "center = (max_points + min_points) / 2"
   ]
  },
  {
   "cell_type": "code",
   "execution_count": 52,
   "metadata": {},
   "outputs": [
    {
     "ename": "NameError",
     "evalue": "name 'box' is not defined",
     "output_type": "error",
     "traceback": [
      "\u001b[0;31m---------------------------------------------------------------------------\u001b[0m",
      "\u001b[0;31mNameError\u001b[0m                                 Traceback (most recent call last)",
      "Cell \u001b[0;32mIn[52], line 1\u001b[0m\n\u001b[0;32m----> 1\u001b[0m \u001b[39mdel\u001b[39;00m box\n",
      "\u001b[0;31mNameError\u001b[0m: name 'box' is not defined"
     ]
    }
   ],
   "source": [
    "del box"
   ]
  },
  {
   "cell_type": "code",
   "execution_count": 62,
   "metadata": {},
   "outputs": [],
   "source": [
    "box = Box(world.vis, \"palm\", extents, alpha=0.5)\n",
    "box.set_translate(center)"
   ]
  }
 ],
 "metadata": {
  "kernelspec": {
   "display_name": "opt_env",
   "language": "python",
   "name": "python3"
  },
  "language_info": {
   "codemirror_mode": {
    "name": "ipython",
    "version": 3
   },
   "file_extension": ".py",
   "mimetype": "text/x-python",
   "name": "python",
   "nbconvert_exporter": "python",
   "pygments_lexer": "ipython3",
   "version": "3.8.15"
  },
  "orig_nbformat": 4
 },
 "nbformat": 4,
 "nbformat_minor": 2
}
