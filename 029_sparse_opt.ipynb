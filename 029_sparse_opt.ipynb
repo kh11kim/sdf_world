{
 "cells": [
  {
   "cell_type": "code",
   "execution_count": 1,
   "metadata": {},
   "outputs": [],
   "source": [
    "import cyipopt\n",
    "import jax\n",
    "import jax.numpy as jnp\n",
    "import numpy as np"
   ]
  },
  {
   "cell_type": "code",
   "execution_count": 85,
   "metadata": {},
   "outputs": [],
   "source": [
    "class SparseIPOPTBuilder:\n",
    "    def __init__(self):\n",
    "        self.vars = {}\n",
    "        self.constrs = {}\n",
    "        self.params = {}\n",
    "        self.var_offset = 0\n",
    "        self.constr_offset = 0\n",
    "        self.objective_fn = None\n",
    "\n",
    "    @property\n",
    "    def var_names(self):\n",
    "        return list(self.vars.keys())\n",
    "    @property\n",
    "    def var_dims(self):\n",
    "        return [self.vars[varname][\"dim\"] for varname in self.var_names]\n",
    "    @property\n",
    "    def var_offsets(self):\n",
    "        return [self.vars[varname][\"offset\"] for varname in self.var_names]\n",
    "    @property\n",
    "    def constr_dims(self):\n",
    "        return [constr[\"dim\"] for constr in self.constrs.values()]\n",
    "    @property\n",
    "    def xdim(self):\n",
    "        return sum(self.var_dims)\n",
    "    @property\n",
    "    def cdim(self):\n",
    "        return sum(self.constr_dims)\n",
    "    @property\n",
    "    def xdummy(self):\n",
    "        return jnp.zeros(self.xdim)\n",
    "    @property\n",
    "    def lb(self):\n",
    "        return np.hstack([var[\"lb\"] for var in self.vars.values()])\n",
    "    @property\n",
    "    def ub(self):\n",
    "        return np.hstack([var[\"ub\"] for var in self.vars.values()])\n",
    "    @property\n",
    "    def cl(self):\n",
    "        if self.cdim != 0:\n",
    "            return np.hstack([constr[\"lb\"] for constr in self.constrs.values()])\n",
    "        return None\n",
    "    @property\n",
    "    def cu(self):\n",
    "        if self.cdim != 0:\n",
    "            return np.hstack([constr[\"ub\"] for constr in self.constrs.values()])\n",
    "        return None\n",
    "    \n",
    "    def as_vector(self, val, dim):\n",
    "        if isinstance(val, float):\n",
    "            return np.full(dim, val)\n",
    "        assert len(val) == dim\n",
    "        return val\n",
    "    \n",
    "    def add_variable(self, name, dim, lb=-np.inf, ub=np.inf):\n",
    "        assert name not in self.vars\n",
    "        self.vars[name] = dict(\n",
    "            name=name, dim=dim, offset=self.var_offset,\n",
    "            lb=self.as_vector(lb, dim),\n",
    "            ub=self.as_vector(ub, dim)\n",
    "        )\n",
    "        self.var_offset += dim\n",
    "    \n",
    "    def add_parameter(self, name, dim, value):\n",
    "        assert name not in self.params\n",
    "        self.params[name] = dict(\n",
    "            name=name, dim=dim, value=np.asarray(value)\n",
    "        )\n",
    "\n",
    "    def add_constr(self, name, vars, dim, lb, ub, constr_fn, jac_fn, params=[]):\n",
    "        assert name not in self.constrs\n",
    "        self.constrs[name] = dict(\n",
    "            name=name, vars=vars, dim=dim, offset=self.constr_offset,\n",
    "            constr_fn=constr_fn, jac_fn=jac_fn, \n",
    "            lb=self.as_vector(lb, dim), \n",
    "            ub=self.as_vector(ub, dim),\n",
    "            params=params\n",
    "        )\n",
    "        self.constr_offset += dim\n",
    "    \n",
    "    def set_objective(self, vars, obj_fn, grad_fn, params=[]):\n",
    "        self.obj_vars = vars\n",
    "        self.obj_params = params\n",
    "        self.objective_fn = obj_fn\n",
    "        self.gradient_fn = grad_fn\n",
    "\n",
    "    def build(self, compile=True):\n",
    "        # sparse jacobian\n",
    "        if len(self.constr_dims) != 0:\n",
    "            jac_rows, jac_cols = [], []\n",
    "            for constr in self.constrs.values():\n",
    "                #indices = []\n",
    "                for var in constr[\"vars\"]:\n",
    "                    var_dim = self.vars[var][\"dim\"]\n",
    "                    var_offset = self.vars[var][\"offset\"]\n",
    "                    constr_dim = constr[\"dim\"]\n",
    "                    constr_offset = constr[\"offset\"]\n",
    "                    row, col = np.indices((constr_dim, var_dim))\n",
    "                    row, col = (row.flatten()+constr_offset, col.flatten()+var_offset)\n",
    "                    #indices.append(rowcol)\n",
    "                    jac_rows.append(row)\n",
    "                    jac_cols.append(col)\n",
    "                #constr[\"indices\"] = indices\n",
    "            jac_rows, jac_cols = np.hstack(jac_rows), np.hstack(jac_cols)\n",
    "            self.jac_rows = jac_rows\n",
    "            self.jac_cols = jac_cols\n",
    "\n",
    "        class Prob:\n",
    "            pass\n",
    "        prob = Prob()\n",
    "        setattr(prob, \"objective\", self.get_objective_fn(compile))\n",
    "        setattr(prob, \"gradient\", self.get_gradient_fn(compile))\n",
    "            \n",
    "        if len(self.constr_dims) != 0:\n",
    "            setattr(prob, \"constraints\", self.get_constr_fn(compile))\n",
    "            setattr(prob, \"jacobian\", self.get_sparse_jacobian_fn(compile))\n",
    "            setattr(prob, \"jacobianstructure\", self.get_sparse_jac_indices_fn())\n",
    "        ipopt = cyipopt.Problem(\n",
    "            n=self.xdim, m=self.cdim,\n",
    "            problem_obj=prob,\n",
    "            lb=self.lb, ub=self.ub,\n",
    "            cl=self.cl, cu=self.cu\n",
    "        )\n",
    "        self.print_summary()\n",
    "        return ipopt\n",
    "    \n",
    "    def get_objective_fn(self, compile=True):\n",
    "        if self.objective_fn is None:\n",
    "            return lambda x: 0.\n",
    "        \n",
    "        def objective(x):\n",
    "            xs = {name:x[offset:offset+dim] \n",
    "                  for name, dim, offset in zip(self.var_names, self.var_dims, self.var_offsets)}\n",
    "            inputs = [xs[var] for var in self.obj_vars] + [self.params[param] for param in self.obj_params]\n",
    "            return self.objective_fn(*inputs)\n",
    "        if compile:\n",
    "            return jax.jit(objective).lower(self.xdummy).compile()\n",
    "        return objective\n",
    "    \n",
    "    def get_gradient_fn(self, compile=True):\n",
    "        if self.objective_fn is None:\n",
    "            return lambda x: np.zeros(self.xdim)\n",
    "        \n",
    "        out = {name:np.zeros(dim) for name, dim in zip(self.var_names, self.var_dims)}\n",
    "        def gradient(x):\n",
    "            xs = {name:x[offset:offset+dim] \n",
    "                  for name, dim, offset in zip(self.var_names, self.var_dims, self.var_offsets)}\n",
    "            grads = self.gradient_fn(*[xs[var] for var in self.obj_vars])\n",
    "            for grad, varname in zip(grads, self.obj_vars):\n",
    "                out[varname] = grad\n",
    "            return jnp.hstack([out[name] for name in self.var_names])\n",
    "        if compile:\n",
    "            return jax.jit(gradient).lower(self.xdummy).compile()\n",
    "        return gradient\n",
    "    \n",
    "    def get_constr_fn(self, compile=True):\n",
    "        def constraints(x):\n",
    "            xs = {name:x[offset:offset+dim] \n",
    "                  for name, dim, offset in zip(self.var_names, self.var_dims, self.var_offsets)}\n",
    "            \n",
    "            val_list= []\n",
    "            for constr in self.constrs.values():\n",
    "                constr_fn = constr[\"constr_fn\"]\n",
    "                inputs = [xs[var] for var in constr[\"vars\"]] + \\\n",
    "                         [self.params[param] for param in constr[\"params\"]]\n",
    "                val = constr_fn(*inputs)\n",
    "                val_list.append(val)\n",
    "            return jnp.hstack(val_list)\n",
    "        if compile:\n",
    "            return jax.jit(constraints).lower(self.xdummy).compile()\n",
    "        return constraints\n",
    "     \n",
    "    def get_sparse_jacobian_fn(self, compile=True):\n",
    "        names = list(self.vars.keys())\n",
    "        dims = [self.vars[varname][\"dim\"] for varname in names]\n",
    "        offsets = [self.vars[varname][\"offset\"] for varname in names]\n",
    "        def jacobian(x):\n",
    "            xs = {name:x[offset:offset+dim] for name, dim, offset in zip(names, dims, offsets)}\n",
    "            val_list= []\n",
    "            for constr in self.constrs.values():\n",
    "                jac_fn = constr[\"jac_fn\"]\n",
    "                inputs = [xs[var] for var in constr[\"vars\"]] + \\\n",
    "                         [self.params[param] for param in constr[\"params\"]]\n",
    "                vals = jac_fn(*inputs)\n",
    "                for val in vals:\n",
    "                    val_list.append(val.flatten())\n",
    "            return jnp.hstack(val_list)\n",
    "        if compile:\n",
    "            return jax.jit(jacobian).lower(self.xdummy).compile()\n",
    "        return jacobian\n",
    "    \n",
    "    def get_sparse_jac_indices_fn(self):\n",
    "        def jacobian_structure():\n",
    "            return (self.jac_rows, self.jac_cols)\n",
    "        return jacobian_structure\n",
    "\n",
    "    def print_summary(self):\n",
    "        jac_structure = np.zeros((self.cdim, self.xdim))\n",
    "        row, col = self.get_sparse_jac_indices_fn()()\n",
    "        jac_structure[row, col] = 1\n",
    "        print(\"-- Summary --\")\n",
    "        print(\"x variables (dim)\") \n",
    "        print([f\"{var['name']}({var['dim']})\" for var in self.vars.values()])\n",
    "        print(\"constraints (dim)\")\n",
    "        print([f\"{constr['name']}({constr['dim']})\" for constr in self.constrs.values()])\n",
    "        print(\"\\nSparsity pattern:\")\n",
    "        for row in jac_structure:\n",
    "            print(\" \".join([\"o\" if val==1. else \"-\" for val in row]))"
   ]
  },
  {
   "cell_type": "code",
   "execution_count": 86,
   "metadata": {},
   "outputs": [],
   "source": [
    "#function\n",
    "ws_lb = np.array([-1,-1,-0.5, -np.pi, -np.pi, -np.pi])\n",
    "ws_ub = np.array([1,1,1.5, np.pi, np.pi, np.pi])\n",
    "\n",
    "grasp_fn = lambda g: 0.\n",
    "manip_fn = lambda g, pose: 0.\n",
    "dist_fn = lambda g1, g2, pose, pose_st, pose_ed: jnp.zeros(4)\n",
    "\n",
    "jac_grasp_fn = lambda g: [jnp.zeros(3)]\n",
    "jac_manip_fn = lambda g, pose: [jnp.zeros(3), jnp.zeros(6)]\n",
    "jac_dist_fn = lambda g1, g2, pose, pose_st, pose_ed: [jnp.zeros(3), jnp.zeros(3), jnp.zeros(6)]"
   ]
  },
  {
   "cell_type": "code",
   "execution_count": 87,
   "metadata": {},
   "outputs": [
    {
     "name": "stdout",
     "output_type": "stream",
     "text": [
      "-- Summary --\n",
      "x variables (dim)\n",
      "['g_pick(3)', 'g_place(3)', 'p_ho(6)']\n",
      "constraints (dim)\n",
      "['grasp_prob_pick(1)', 'grasp_prob_place(1)', 'manip_pick(1)', 'manip_place(1)', 'manip_ho_left(1)', 'manip_ho_right(1)', 'dist(4)']\n",
      "\n",
      "Sparsity pattern:\n",
      "o o o - - - - - - - - -\n",
      "- - - o o o - - - - - -\n",
      "o o o - - - - - - - - -\n",
      "- - - o o o - - - - - -\n",
      "o o o - - - o o o o o o\n",
      "- - - o o o o o o o o o\n",
      "o o o o o o o o o o o o\n",
      "o o o o o o o o o o o o\n",
      "o o o o o o o o o o o o\n",
      "o o o o o o o o o o o o\n"
     ]
    }
   ],
   "source": [
    "builder = SparseIPOPTBuilder()\n",
    "\n",
    "builder.add_variable(\"g_pick\", 3, -1., 1.)\n",
    "builder.add_variable(\"g_place\", 3, -1., 1.)\n",
    "builder.add_variable(\"p_ho\", 6, ws_lb, ws_ub)\n",
    "builder.add_parameter(\"p_start\", 6, jnp.zeros(6))\n",
    "builder.add_parameter(\"p_goal\", 6, jnp.zeros(6))\n",
    "\n",
    "#constr\n",
    "builder.add_constr(\"grasp_prob_pick\", [\"g_pick\"], 1, \n",
    "                   1., np.inf,\n",
    "                   grasp_fn, jac_grasp_fn)\n",
    "builder.add_constr(\"grasp_prob_place\", [\"g_place\"], 1, \n",
    "                   1., np.inf,\n",
    "                   grasp_fn, jac_grasp_fn)\n",
    "builder.add_constr(\"manip_pick\", [\"g_pick\"], 1,\n",
    "                   0.3, np.inf,\n",
    "                   manip_fn, jac_manip_fn, params=[\"p_start\"])\n",
    "builder.add_constr(\"manip_place\", [\"g_place\"], 1,\n",
    "                   0.3, np.inf,\n",
    "                   manip_fn, jac_manip_fn, params=[\"p_goal\"])\n",
    "builder.add_constr(\"manip_ho_left\", [\"g_pick\", \"p_ho\"], 1,\n",
    "                   0.3, np.inf,\n",
    "                   manip_fn, jac_manip_fn)\n",
    "builder.add_constr(\"manip_ho_right\", [\"g_place\", \"p_ho\"], 1,\n",
    "                   0.3, np.inf,\n",
    "                   manip_fn, jac_manip_fn)\n",
    "builder.add_constr(\"dist\", [\"g_pick\", \"g_place\", \"p_ho\"], 4, \n",
    "                   0.05, np.inf,\n",
    "                   dist_fn, jac_dist_fn, params=[\"p_start\", \"p_goal\"])\n",
    "ipopt = builder.build()"
   ]
  },
  {
   "cell_type": "code",
   "execution_count": 89,
   "metadata": {},
   "outputs": [],
   "source": [
    "import numpy as np\n",
    "import jax\n",
    "import jax.numpy as jnp\n",
    "from jaxlie import SE3, SO3\n",
    "import jax_dataclasses as jdc\n",
    "from functools import partial\n",
    "\n",
    "from sdf_world.sdf_world import *\n",
    "from sdf_world.robots import *\n",
    "from sdf_world.util import *\n",
    "from sdf_world.network import *\n",
    "\n",
    "from flax import linen as nn\n",
    "from flax.training import orbax_utils\n",
    "import orbax\n",
    "import pickle\n",
    "import time"
   ]
  },
  {
   "cell_type": "code",
   "execution_count": 100,
   "metadata": {},
   "outputs": [],
   "source": [
    "orbax_checkpointer = orbax.checkpoint.PyTreeCheckpointer()\n",
    "restored_grasp = orbax_checkpointer.restore(\"model/grasp_net_prob_dist\")\n",
    "restored_manip = orbax_checkpointer.restore(\"model/manip_net_posevec\")\n",
    "\n",
    "#grasp net\n",
    "grasp_net = GraspNet(32)\n",
    "grasp_fn = lambda x: grasp_net.apply(restored_grasp[\"params\"], x)\n",
    "def grasp_reconst(g:Array):\n",
    "    rot = SO3(grasp_fn(g)[2:]).normalize()\n",
    "    trans = g/restored_grasp[\"scale_to_norm\"]\n",
    "    return SE3.from_rotation_and_translation(rot, trans)\n",
    "grasp_logit_fn = lambda g: grasp_fn(g)[0]\n",
    "grasp_dist_fn = lambda g: grasp_fn(g)[1]\n",
    "#manip net\n",
    "manip_net = ManipNet(64)\n",
    "manip_fn = lambda x: manip_net.apply(restored_manip[\"params\"], x)[0]"
   ]
  },
  {
   "cell_type": "code",
   "execution_count": 91,
   "metadata": {},
   "outputs": [
    {
     "name": "stdout",
     "output_type": "stream",
     "text": [
      "You can open the visualizer by visiting the following URL:\n",
      "http://127.0.0.1:7010/static/\n"
     ]
    },
    {
     "name": "stderr",
     "output_type": "stream",
     "text": [
      "WARNING:trimesh:concatenating texture: may result in visual artifacts\n",
      "WARNING:trimesh:concatenating texture: may result in visual artifacts\n",
      "WARNING:trimesh:concatenating texture: may result in visual artifacts\n",
      "WARNING:trimesh:concatenating texture: may result in visual artifacts\n",
      "WARNING:trimesh:concatenating texture: may result in visual artifacts\n",
      "WARNING:trimesh:concatenating texture: may result in visual artifacts\n",
      "WARNING:trimesh:concatenating texture: may result in visual artifacts\n",
      "WARNING:trimesh:concatenating texture: may result in visual artifacts\n"
     ]
    }
   ],
   "source": [
    "world = SDFWorld()\n",
    "panda_model = RobotModel(PANDA_URDF, PANDA_PACKAGE)\n",
    "panda = Robot(world.vis, \"panda\", panda_model, alpha=0.5)\n",
    "panda.reduce_dim([7, 8], [0.04, 0.04])"
   ]
  },
  {
   "cell_type": "code",
   "execution_count": 92,
   "metadata": {},
   "outputs": [
    {
     "data": {
      "text/html": [
       "\n",
       "            <div style=\"height: 400px; width: 100%; overflow-x: auto; overflow-y: hidden; resize: both\">\n",
       "            <iframe src=\"http://127.0.0.1:7010/static/\" style=\"width: 100%; height: 100%; border: none\"></iframe>\n",
       "            </div>\n",
       "            "
      ],
      "text/plain": [
       "<IPython.core.display.HTML object>"
      ]
     },
     "execution_count": 92,
     "metadata": {},
     "output_type": "execute_result"
    }
   ],
   "source": [
    "world.show_in_jupyter()"
   ]
  },
  {
   "cell_type": "code",
   "execution_count": 93,
   "metadata": {},
   "outputs": [],
   "source": [
    "table_lengths = [0.4, 0.4, 0.2]\n",
    "table_start = Box(world.vis, \"table_start\", table_lengths, 'white', 0.5)\n",
    "table_goal = Box(world.vis, \"table_goal\", table_lengths, 'white', 0.5)\n",
    "obj_start = Mesh(world.vis, \"obj_start\", \n",
    "                 \"./sdf_world/assets/object/mesh.obj\",\n",
    "                 color=\"blue\",\n",
    "                 alpha=0.5)\n",
    "obj_goal = Mesh(world.vis, \"obj_goal\", \n",
    "                \"./sdf_world/assets/object/mesh.obj\",\n",
    "                color=\"green\",\n",
    "                 alpha=0.5)"
   ]
  },
  {
   "cell_type": "code",
   "execution_count": 94,
   "metadata": {},
   "outputs": [],
   "source": [
    "table_start.set_translate([0.5, -0.3, 0.2/2])\n",
    "table_goal.set_translate([0.5, 0.3, 0.2/2])\n",
    "obj_lengths = obj_start.mesh.bounding_box.primitive.extents\n",
    "obj_start.set_translate([0.5, -0.3, obj_lengths[-1]/2+table_lengths[-1]])\n",
    "trans_goal = jnp.array([0.5, 0.3, obj_lengths[-2]/2+table_lengths[-1]])\n",
    "obj_goal_pose = SE3.from_rotation_and_translation(\n",
    "    SO3.from_rpy_radians(jnp.pi/2, 0,0), trans_goal\n",
    ")\n",
    "obj_goal.set_pose(obj_goal_pose)"
   ]
  },
  {
   "cell_type": "code",
   "execution_count": 95,
   "metadata": {},
   "outputs": [
    {
     "name": "stderr",
     "output_type": "stream",
     "text": [
      "WARNING:trimesh:concatenating texture: may result in visual artifacts\n",
      "WARNING:trimesh:concatenating texture: may result in visual artifacts\n",
      "WARNING:trimesh:concatenating texture: may result in visual artifacts\n"
     ]
    }
   ],
   "source": [
    "hand_model = RobotModel(HAND_URDF, PANDA_PACKAGE, True)\n",
    "for link_name, link in hand_model.links.items():\n",
    "    link.set_surface_points(10)\n",
    "hand1 = Robot(world.vis, \"hand1\", hand_model, color=\"yellow\", alpha=0.5)"
   ]
  },
  {
   "cell_type": "code",
   "execution_count": 96,
   "metadata": {},
   "outputs": [],
   "source": [
    "hand_pc = hand1.get_surface_points_fn(jnp.array([0.04, 0.04]))\n",
    "hand_pose_wrt_ee = SE3.from_translation(jnp.array([0,0,-0.105]))\n",
    "env = SDFContainer([table_start, table_goal], 0.05)\n",
    "# x -> grasps\n",
    "\n",
    "\n",
    "\n",
    "# @jax.jit\n",
    "# def distance_constr(x):\n",
    "#     hand_pcs = get_hand_points(x, obj_start.pose, obj_goal.pose)\n",
    "#     distances = env.distances(hand_pcs)\n",
    "#     top4_indices = jnp.argpartition(distances, 4)[:4]\n",
    "#     return distances[top4_indices]"
   ]
  },
  {
   "cell_type": "code",
   "execution_count": 108,
   "metadata": {},
   "outputs": [],
   "source": [
    "#functions\n",
    "to_posevec = lambda x: jnp.hstack([x[4:], SO3(x[:4]).log()])\n",
    "to_wxyzxyz = lambda x: jnp.hstack([SO3.exp(x[3:]).parameters(), x[:3]])\n",
    "def get_hand_points(grasp, obj_posevec):\n",
    "    grasp_pose = grasp_reconst(grasp)\n",
    "    hand_base_pose_wrt_world = SE3(to_wxyzxyz(obj_posevec)) @ grasp_pose @ hand_pose_wrt_ee\n",
    "    assigned_hand_pc = jax.vmap(hand_base_pose_wrt_world.apply)(hand_pc)\n",
    "    return assigned_hand_pc\n",
    "\n",
    "# input: g(3), output: logit(1)\n",
    "grasp_logit_fn \n",
    "# input: g(3),p(6) output: manip(1)\n",
    "def manip_fn(grasp, obj_posevec):\n",
    "    obj_pose = SE3(to_wxyzxyz(obj_posevec))\n",
    "    posevec = to_posevec(grasp_reconst(grasp, obj_pose).parameters())\n",
    "    zflip = (SO3.exp(posevec[3:]) @ SO3.from_z_radians(jnp.pi)).log()\n",
    "    posevec_flip = jnp.hstack([posevec[:3], zflip])\n",
    "    return jnp.maximum(manip_fn(posevec), manip_fn(posevec_flip))\n",
    "# input: g1, g2(3), p_ho, p_st, p_ed(6) output: dist(4)\n",
    "def dist_fn(g1, g2, obj_pose_ho, obj_pose_st, obj_pose_ed):\n",
    "    grasps = jnp.vstack([g1, g1, g2, g2])\n",
    "    obj_poses = jnp.vstack([obj_pose_st, obj_pose_ho, obj_pose_ho, obj_pose_ed])\n",
    "    pcs = jax.vmap(get_hand_points, (0,0))(grasps, obj_poses)\n",
    "    distances = env.distances(jnp.vstack(pcs))\n",
    "    top4_indices = jnp.argpartition(distances, 4)[:4]\n",
    "    return distances[top4_indices]"
   ]
  },
  {
   "cell_type": "code",
   "execution_count": null,
   "metadata": {},
   "outputs": [],
   "source": [
    "builder = SparseIPOPTBuilder()\n",
    "\n",
    "builder.add_variable(\"g_pick\", 3, -1., 1.)\n",
    "builder.add_variable(\"g_place\", 3, -1., 1.)\n",
    "builder.add_variable(\"p_ho\", 6, ws_lb, ws_ub)\n",
    "builder.add_parameter(\"p_start\", 6, jnp.zeros(6))\n",
    "builder.add_parameter(\"p_goal\", 6, jnp.zeros(6))\n",
    "\n",
    "#constr\n",
    "builder.add_constr(\"grasp_prob_pick\", [\"g_pick\"], 1, \n",
    "                   1., np.inf,\n",
    "                   grasp_fn, jac_grasp_fn)\n",
    "builder.add_constr(\"grasp_prob_place\", [\"g_place\"], 1, \n",
    "                   1., np.inf,\n",
    "                   grasp_fn, jac_grasp_fn)\n",
    "builder.add_constr(\"manip_pick\", [\"g_pick\", \"p_start\"], 1,\n",
    "                   0.3, np.inf,\n",
    "                   manip_fn, jac_manip_fn)\n",
    "builder.add_constr(\"manip_place\", [\"g_place\", \"p_goal\"], 1,\n",
    "                   0.3, np.inf,\n",
    "                   manip_fn, jac_manip_fn, params=[\"p_goal\"])\n",
    "builder.add_constr(\"manip_ho_left\", [\"g_pick\", \"p_ho\"], 1,\n",
    "                   0.3, np.inf,\n",
    "                   manip_fn, jac_manip_fn)\n",
    "builder.add_constr(\"manip_ho_right\", [\"g_place\", \"p_ho\"], 1,\n",
    "                   0.3, np.inf,\n",
    "                   manip_fn, jac_manip_fn)\n",
    "builder.add_constr(\"dist\", [\"g_pick\", \"g_place\", \"p_ho\",\"p_start\", \"p_goal\"], 4, \n",
    "                   0.05, np.inf,\n",
    "                   dist_fn, jac_dist_fn)\n",
    "ipopt = builder.build()"
   ]
  },
  {
   "cell_type": "code",
   "execution_count": 112,
   "metadata": {},
   "outputs": [
    {
     "data": {
      "text/plain": [
       "{1: 1, 2: 2, 3: 3, 4: 4}"
      ]
     },
     "execution_count": 112,
     "metadata": {},
     "output_type": "execute_result"
    }
   ],
   "source": [
    "{**{1:1, 2:2}, **{3:3, 4:4}}"
   ]
  },
  {
   "cell_type": "code",
   "execution_count": 111,
   "metadata": {},
   "outputs": [
    {
     "data": {
      "text/plain": [
       "{'p_start': {'name': 'p_start',\n",
       "  'dim': 6,\n",
       "  'value': array([0., 0., 0., 0., 0., 0.], dtype=float32)},\n",
       " 'p_goal': {'name': 'p_goal',\n",
       "  'dim': 6,\n",
       "  'value': array([0., 0., 0., 0., 0., 0.], dtype=float32)}}"
      ]
     },
     "execution_count": 111,
     "metadata": {},
     "output_type": "execute_result"
    }
   ],
   "source": [
    "builder.params"
   ]
  },
  {
   "cell_type": "code",
   "execution_count": 11,
   "metadata": {},
   "outputs": [],
   "source": [
    "x = jnp.array([0,0,-0.5])\n",
    "hand_pcs = get_hand_points(x, obj_start.pose, obj_goal.pose)"
   ]
  },
  {
   "cell_type": "code",
   "execution_count": 12,
   "metadata": {},
   "outputs": [],
   "source": []
  },
  {
   "cell_type": "code",
   "execution_count": 13,
   "metadata": {},
   "outputs": [],
   "source": [
    "def grasp_to_manip(x, obj_pose):\n",
    "    posevec = to_posevec(grasp_reconst(x, obj_pose).parameters())\n",
    "    posevec = to_posevec(grasp_reconst(x, obj_start.pose).parameters())\n",
    "    zflip = (SO3.exp(posevec[3:]) @ SO3.from_z_radians(jnp.pi)).log()\n",
    "    posevec_flip = jnp.hstack([posevec[:3], zflip])\n",
    "    return jnp.maximum(manip_fn(posevec), manip_fn(posevec_flip))"
   ]
  },
  {
   "cell_type": "code",
   "execution_count": 14,
   "metadata": {},
   "outputs": [],
   "source": [
    "x = jnp.zeros(3)"
   ]
  },
  {
   "cell_type": "code",
   "execution_count": 15,
   "metadata": {},
   "outputs": [],
   "source": [
    "frame = Frame(world.vis, \"frame\")"
   ]
  },
  {
   "cell_type": "code",
   "execution_count": 16,
   "metadata": {},
   "outputs": [],
   "source": [
    "pc = PointCloud(world.vis, \"hand_pc\", hand_pcs, color=\"red\")"
   ]
  },
  {
   "cell_type": "code",
   "execution_count": 17,
   "metadata": {},
   "outputs": [],
   "source": [
    "def objective(x):\n",
    "    frame.set_pose(grasp_reconst(x, obj_start.pose))\n",
    "    hand_pcs = get_hand_points(x, obj_start.pose, obj_goal.pose)\n",
    "    pc.reload(points=hand_pcs)\n",
    "    time.sleep(0.05)\n",
    "    return 0.\n",
    "\n",
    "gradient = lambda x: [jnp.zeros(3, dtype=float)]"
   ]
  },
  {
   "cell_type": "code",
   "execution_count": 18,
   "metadata": {},
   "outputs": [],
   "source": [
    "builder = SparseIPOPTBuilder()\n",
    "\n",
    "builder.add_variable(\"g\", 3, -1., 1.)\n",
    "builder.set_objective([\"g\"], objective, gradient)\n",
    "builder.add_constr(\"logit\", [\"g\"], 1, 1., np.inf,\n",
    "                   grasp_logit_fn, jax.grad(grasp_logit_fn))\n",
    "grasp_to_manip_init = partial(grasp_to_manip, obj_pose=obj_start.pose)\n",
    "builder.add_constr(\"manip\", [\"g\"], 1, 0.4, np.inf,\n",
    "                   grasp_to_manip_init, jax.grad(grasp_to_manip_init))\n",
    "builder.add_constr(\"dist\", [\"g\"], 4, 0.05, np.inf,\n",
    "                   distance_constr, jax.jacrev(distance_constr))\n",
    "\n"
   ]
  },
  {
   "cell_type": "code",
   "execution_count": 19,
   "metadata": {},
   "outputs": [],
   "source": [
    "ipopt = builder.build(False)"
   ]
  },
  {
   "cell_type": "code",
   "execution_count": 20,
   "metadata": {},
   "outputs": [
    {
     "name": "stdout",
     "output_type": "stream",
     "text": [
      "\n",
      "******************************************************************************\n",
      "This program contains Ipopt, a library for large-scale nonlinear optimization.\n",
      " Ipopt is released as open source code under the Eclipse Public License (EPL).\n",
      "         For more information visit https://github.com/coin-or/Ipopt\n",
      "******************************************************************************\n",
      "\n",
      "This is Ipopt version 3.14.10, running with linear solver MUMPS 5.2.1.\n",
      "\n",
      "Number of nonzeros in equality constraint Jacobian...:        0\n",
      "Number of nonzeros in inequality constraint Jacobian.:       18\n",
      "Number of nonzeros in Lagrangian Hessian.............:        0\n",
      "\n",
      "Total number of variables............................:        3\n",
      "                     variables with only lower bounds:        0\n",
      "                variables with lower and upper bounds:        3\n",
      "                     variables with only upper bounds:        0\n",
      "Total number of equality constraints.................:        0\n",
      "Total number of inequality constraints...............:        6\n",
      "        inequality constraints with only lower bounds:        6\n",
      "   inequality constraints with lower and upper bounds:        0\n",
      "        inequality constraints with only upper bounds:        0\n",
      "\n",
      "iter    objective    inf_pr   inf_du lg(mu)  ||d||  lg(rg) alpha_du alpha_pr  ls\n",
      "   0  0.0000000e+00 1.81e+02 1.00e+00   0.0 0.00e+00    -  0.00e+00 0.00e+00   0\n",
      "   1  0.0000000e+00 2.97e+02 5.79e+00  -1.1 7.17e-01    -  6.04e-01 1.00e+00h  1\n",
      "   2  0.0000000e+00 1.66e+02 1.01e+01  -0.9 5.38e-01    -  4.48e-01 8.96e-01h  1\n",
      "   3  0.0000000e+00 7.29e+01 2.04e+00  -1.9 4.14e-01    -  8.39e-01 8.82e-01h  1\n",
      "   4  0.0000000e+00 4.26e+02 2.05e+02  -0.3 1.17e+00    -  1.52e-02 9.27e-01f  1\n",
      "   5  0.0000000e+00 4.04e+02 1.97e+02  -1.2 3.97e+00    -  1.00e+00 5.34e-02h  1\n",
      "   6  0.0000000e+00 3.10e+02 2.02e+02  -1.2 4.19e+00    -  4.31e-02 2.36e-01h  1\n",
      "   7  0.0000000e+00 2.56e+02 4.32e+01  -1.2 1.15e+00    -  4.79e-01 7.89e-01h  1\n",
      "   8  0.0000000e+00 1.67e+02 2.28e+01  -1.2 6.38e-01    -  4.35e-01 3.31e-01h  1\n",
      "   9  0.0000000e+00 1.42e+02 1.08e+02  -1.2 5.08e-01    -  9.74e-02 5.84e-01h  1\n",
      "iter    objective    inf_pr   inf_du lg(mu)  ||d||  lg(rg) alpha_du alpha_pr  ls\n",
      "  10  0.0000000e+00 1.18e+02 8.48e+01  -1.2 3.68e+00    -  5.22e-03 1.75e-01f  1\n",
      "  11  0.0000000e+00 2.72e+01 1.60e+01  -1.2 7.79e-01    -  3.21e-01 1.00e+00f  1\n",
      "  12  0.0000000e+00 6.36e-01 1.10e+00  -0.9 1.68e+00    -  1.00e+00 1.00e+00h  1\n",
      "  13  0.0000000e+00 1.68e+01 1.61e+00  -1.5 1.15e-01    -  9.95e-01 1.00e+00h  1\n",
      "  14  0.0000000e+00 0.00e+00 7.11e-01  -1.7 1.91e+00    -  1.00e+00 1.00e+00h  1\n",
      "  15  0.0000000e+00 0.00e+00 4.15e-02  -2.9 4.47e-02    -  1.00e+00 1.00e+00h  1\n",
      "  16  0.0000000e+00 0.00e+00 2.90e-04  -8.9 6.18e-04    -  9.90e-01 1.00e+00h  1\n",
      "  17  0.0000000e+00 0.00e+00 2.88e-08 -10.9 1.21e-06    -  1.00e+00 1.00e+00h  1\n",
      "  18  0.0000000e+00 0.00e+00 1.79e-10 -11.0 2.92e-03    -  1.00e+00 1.00e+00h  1\n"
     ]
    },
    {
     "data": {
      "text/plain": [
       "(array([-0.01110441,  0.42939996,  0.75746162]),\n",
       " {'x': array([-0.01110441,  0.42939996,  0.75746162]),\n",
       "  'g': array([2.06466198, 0.77494359, 0.11732963, 0.11914807, 0.12019696,\n",
       "         0.12429338]),\n",
       "  'obj_val': 0.0,\n",
       "  'mult_g': array([-1.34700831e-12, -2.75378836e-11, -1.44729489e-10, -1.27496547e-10,\n",
       "         -1.26756736e-10, -1.32878068e-10]),\n",
       "  'mult_x_L': array([1.01616863e-11, 6.87109409e-12, 5.63088396e-12]),\n",
       "  'mult_x_U': array([9.84278619e-12, 1.86238217e-11, 4.48245431e-11]),\n",
       "  'status': 0,\n",
       "  'status_msg': b'Algorithm terminated successfully at a locally optimal point, satisfying the convergence tolerances (can be specified by options).'})"
      ]
     },
     "execution_count": 20,
     "metadata": {},
     "output_type": "execute_result"
    },
    {
     "name": "stdout",
     "output_type": "stream",
     "text": [
      "\n",
      "Number of Iterations....: 18\n",
      "\n",
      "                                   (scaled)                 (unscaled)\n",
      "Objective...............:   0.0000000000000000e+00    0.0000000000000000e+00\n",
      "Dual infeasibility......:   1.7944592282149640e-10    1.7944592282149640e-10\n",
      "Constraint violation....:   0.0000000000000000e+00    0.0000000000000000e+00\n",
      "Variable bound violation:   0.0000000000000000e+00    0.0000000000000000e+00\n",
      "Complementarity.........:   1.0871672419843804e-11    1.0871672419843804e-11\n",
      "Overall NLP error.......:   1.7944592282149640e-10    1.7944592282149640e-10\n",
      "\n",
      "\n",
      "Number of objective function evaluations             = 19\n",
      "Number of objective gradient evaluations             = 19\n",
      "Number of equality constraint evaluations            = 0\n",
      "Number of inequality constraint evaluations          = 19\n",
      "Number of equality constraint Jacobian evaluations   = 0\n",
      "Number of inequality constraint Jacobian evaluations = 19\n",
      "Number of Lagrangian Hessian evaluations             = 0\n",
      "Total seconds in IPOPT                               = 17.055\n",
      "\n",
      "EXIT: Optimal Solution Found.\n"
     ]
    }
   ],
   "source": [
    "ipopt.solve(jnp.zeros(3))"
   ]
  },
  {
   "cell_type": "code",
   "execution_count": 91,
   "metadata": {},
   "outputs": [
    {
     "data": {
      "text/plain": [
       "array([inf, inf, inf, inf, inf, inf])"
      ]
     },
     "execution_count": 91,
     "metadata": {},
     "output_type": "execute_result"
    }
   ],
   "source": [
    "cu"
   ]
  },
  {
   "cell_type": "code",
   "execution_count": 47,
   "metadata": {},
   "outputs": [
    {
     "data": {
      "text/plain": [
       "Array([0., 0., 0.], dtype=float32)"
      ]
     },
     "execution_count": 47,
     "metadata": {},
     "output_type": "execute_result"
    }
   ],
   "source": [
    "builder.get_gradient_fn(compile=False)(x)"
   ]
  },
  {
   "cell_type": "code",
   "execution_count": 65,
   "metadata": {},
   "outputs": [],
   "source": [
    "jac = builder.get_sparse_jacobian_fn()"
   ]
  },
  {
   "cell_type": "code",
   "execution_count": 68,
   "metadata": {},
   "outputs": [
    {
     "data": {
      "text/plain": [
       "(18,)"
      ]
     },
     "execution_count": 68,
     "metadata": {},
     "output_type": "execute_result"
    }
   ],
   "source": [
    "jac(x).shape"
   ]
  },
  {
   "cell_type": "code",
   "execution_count": 70,
   "metadata": {},
   "outputs": [
    {
     "data": {
      "text/plain": [
       "(18,)"
      ]
     },
     "execution_count": 70,
     "metadata": {},
     "output_type": "execute_result"
    }
   ],
   "source": [
    "builder.get_sparse_jac_indices_fn()()"
   ]
  },
  {
   "cell_type": "code",
   "execution_count": 41,
   "metadata": {},
   "outputs": [],
   "source": [
    "x = jnp.zeros(3)\n",
    "xs = {name:x[offset:offset+dim] \n",
    "    for name, dim, offset in zip(builder.var_names, builder.var_dims, builder.var_offsets)}"
   ]
  },
  {
   "cell_type": "code",
   "execution_count": 43,
   "metadata": {},
   "outputs": [
    {
     "data": {
      "text/plain": [
       "Array([0., 0., 0.], dtype=float32)"
      ]
     },
     "execution_count": 43,
     "metadata": {},
     "output_type": "execute_result"
    }
   ],
   "source": [
    "builder.gradient_fn(*[xs[var] for var in builder.obj_vars])"
   ]
  },
  {
   "cell_type": "code",
   "execution_count": 38,
   "metadata": {},
   "outputs": [
    {
     "data": {
      "text/plain": [
       "[0]"
      ]
     },
     "execution_count": 38,
     "metadata": {},
     "output_type": "execute_result"
    }
   ],
   "source": [
    "\n",
    "    for grad, varname in zip(grads, self.obj_vars):\n",
    "        out[varname] = grad\n",
    "    return jnp.hstack([out[name] for name in self.varnames])\n",
    "if compile:\n",
    "    return jax.jit(gradient).lower(self.xdummy).compile()\n",
    "return gradient"
   ]
  },
  {
   "cell_type": "code",
   "execution_count": 79,
   "metadata": {},
   "outputs": [
    {
     "ename": "TypeError",
     "evalue": "add_constr() missing 2 required positional arguments: 'constr_fn' and 'jac_fn'",
     "output_type": "error",
     "traceback": [
      "\u001b[0;31m---------------------------------------------------------------------------\u001b[0m",
      "\u001b[0;31mTypeError\u001b[0m                                 Traceback (most recent call last)",
      "Cell \u001b[0;32mIn[79], line 11\u001b[0m\n\u001b[1;32m      7\u001b[0m builder\u001b[39m.\u001b[39mset_objective([\u001b[39m\"\u001b[39m\u001b[39mg_pick\u001b[39m\u001b[39m\"\u001b[39m, \u001b[39m\"\u001b[39m\u001b[39mg_place\u001b[39m\u001b[39m\"\u001b[39m], \n\u001b[1;32m      8\u001b[0m                       \u001b[39mlambda\u001b[39;00m g1, g2: jnp\u001b[39m.\u001b[39marray(\u001b[39m0.\u001b[39m, dtype\u001b[39m=\u001b[39m\u001b[39mfloat\u001b[39m),\n\u001b[1;32m      9\u001b[0m                       \u001b[39mlambda\u001b[39;00m g1, g2: [jnp\u001b[39m.\u001b[39marange(\u001b[39m3\u001b[39m), jnp\u001b[39m.\u001b[39marange(\u001b[39m3\u001b[39m)\u001b[39m*\u001b[39m\u001b[39m10\u001b[39m])\n\u001b[1;32m     10\u001b[0m \u001b[39m#constr\u001b[39;00m\n\u001b[0;32m---> 11\u001b[0m builder\u001b[39m.\u001b[39;49madd_constr(\u001b[39m\"\u001b[39;49m\u001b[39mgrasp_prob_pick\u001b[39;49m\u001b[39m\"\u001b[39;49m, [\u001b[39m\"\u001b[39;49m\u001b[39mg_pick\u001b[39;49m\u001b[39m\"\u001b[39;49m], \u001b[39m1\u001b[39;49m, \n\u001b[1;32m     12\u001b[0m                    \u001b[39mlambda\u001b[39;49;00m g: \u001b[39m0.\u001b[39;49m, \u001b[39mlambda\u001b[39;49;00m g: [jnp\u001b[39m.\u001b[39;49mzeros(\u001b[39m3\u001b[39;49m)])\n\u001b[1;32m     13\u001b[0m builder\u001b[39m.\u001b[39madd_constr(\u001b[39m\"\u001b[39m\u001b[39mgrasp_prob_place\u001b[39m\u001b[39m\"\u001b[39m, [\u001b[39m\"\u001b[39m\u001b[39mg_place\u001b[39m\u001b[39m\"\u001b[39m], \u001b[39m1\u001b[39m, \n\u001b[1;32m     14\u001b[0m                    \u001b[39mlambda\u001b[39;00m g: \u001b[39m0.\u001b[39m, \u001b[39mlambda\u001b[39;00m g: [jnp\u001b[39m.\u001b[39mzeros(\u001b[39m3\u001b[39m)])\n\u001b[1;32m     16\u001b[0m builder\u001b[39m.\u001b[39madd_constr(\u001b[39m\"\u001b[39m\u001b[39mmanip_pick\u001b[39m\u001b[39m\"\u001b[39m, [\u001b[39m\"\u001b[39m\u001b[39mg_pick\u001b[39m\u001b[39m\"\u001b[39m], \u001b[39m1\u001b[39m,\n\u001b[1;32m     17\u001b[0m                    \u001b[39mlambda\u001b[39;00m g: \u001b[39m0.\u001b[39m, \u001b[39mlambda\u001b[39;00m g: [jnp\u001b[39m.\u001b[39mzeros(\u001b[39m3\u001b[39m)])\n",
      "\u001b[0;31mTypeError\u001b[0m: add_constr() missing 2 required positional arguments: 'constr_fn' and 'jac_fn'"
     ]
    }
   ],
   "source": [
    "builder = SparseIPOPTBuilder()\n",
    "\n",
    "builder.add_variable(\"g_pick\", 3)\n",
    "builder.add_variable(\"g_place\", 3)\n",
    "builder.add_variable(\"p_handover\", 6)\n",
    "\n",
    "builder.set_objective([\"g_pick\", \"g_place\"], \n",
    "                      lambda g1, g2: jnp.array(0., dtype=float),\n",
    "                      lambda g1, g2: [jnp.arange(3), jnp.arange(3)*10])\n",
    "#constr\n",
    "builder.add_constr(\"grasp_prob_pick\", [\"g_pick\"], 1, \n",
    "                   lambda g: 0., lambda g: [jnp.zeros(3)])\n",
    "builder.add_constr(\"grasp_prob_place\", [\"g_place\"], 1, \n",
    "                   lambda g: 0., lambda g: [jnp.zeros(3)])\n",
    "\n",
    "builder.add_constr(\"manip_pick\", [\"g_pick\"], 1,\n",
    "                   lambda g: 0., lambda g: [jnp.zeros(3)])\n",
    "builder.add_constr(\"manip_place\", [\"g_place\"], 1,\n",
    "                   lambda g: 0., lambda g: [jnp.zeros(3)])\n",
    "\n",
    "builder.add_constr(\"manip_ho_left\", [\"g_pick\", \"p_handover\"], 1,\n",
    "                   lambda g, p: 0., lambda g, p: [jnp.zeros(3), jnp.zeros(6)])\n",
    "builder.add_constr(\"manip_ho_right\", [\"g_place\", \"p_handover\"], 1,\n",
    "                   lambda g, p: 0., lambda g, p: [jnp.zeros(3), jnp.zeros(6)])\n",
    "\n",
    "builder.add_constr(\"col\", [\"g_pick\", \"g_place\", \"p_handover\"], 4, \n",
    "                   lambda g1, g2, p: jnp.zeros(4),\n",
    "                   lambda g1, g2, p: [jnp.zeros((4,3)), jnp.zeros((4,3)), jnp.zeros((4,6))])"
   ]
  },
  {
   "cell_type": "code",
   "execution_count": 335,
   "metadata": {},
   "outputs": [],
   "source": [
    "builder.build()"
   ]
  },
  {
   "cell_type": "code",
   "execution_count": 341,
   "metadata": {},
   "outputs": [
    {
     "data": {
      "text/plain": [
       "Array([0., 0., 0., 0., 0., 0., 0., 0., 0., 0.], dtype=float32)"
      ]
     },
     "execution_count": 341,
     "metadata": {},
     "output_type": "execute_result"
    }
   ],
   "source": [
    "x = jnp.zeros(12)\n",
    "obj_fn = builder.get_objective_fn()\n",
    "grad_fn = builder.get_gradient_fn()\n",
    "constr_fn = builder.get_constr_fn()\n",
    "jac_fn = builder.get_sparse_jacobian_fn()\n",
    "obj_fn(x)\n",
    "grad_fn(x)\n",
    "jac_fn(x)\n",
    "constr_fn(x)"
   ]
  },
  {
   "cell_type": "code",
   "execution_count": 250,
   "metadata": {},
   "outputs": [],
   "source": []
  },
  {
   "cell_type": "code",
   "execution_count": 251,
   "metadata": {},
   "outputs": [],
   "source": [
    "x = jnp.arange(12, dtype=float)"
   ]
  },
  {
   "cell_type": "code",
   "execution_count": 252,
   "metadata": {},
   "outputs": [
    {
     "data": {
      "text/plain": [
       "(78,)"
      ]
     },
     "execution_count": 252,
     "metadata": {},
     "output_type": "execute_result"
    }
   ],
   "source": [
    "jac_fn(x).shape"
   ]
  },
  {
   "cell_type": "code",
   "execution_count": 253,
   "metadata": {},
   "outputs": [],
   "source": [
    "jac_struct = builder.get_sparse_jac_indices_fn()"
   ]
  },
  {
   "cell_type": "code",
   "execution_count": 260,
   "metadata": {},
   "outputs": [
    {
     "name": "stdout",
     "output_type": "stream",
     "text": [
      "4.72 µs ± 159 ns per loop (mean ± std. dev. of 7 runs, 100,000 loops each)\n"
     ]
    }
   ],
   "source": [
    "%timeit jac_fn(x)"
   ]
  },
  {
   "cell_type": "code",
   "execution_count": 185,
   "metadata": {},
   "outputs": [
    {
     "data": {
      "text/plain": [
       "(78,)"
      ]
     },
     "execution_count": 185,
     "metadata": {},
     "output_type": "execute_result"
    }
   ],
   "source": [
    "jnp.hstack(row_list).shape"
   ]
  },
  {
   "cell_type": "code",
   "execution_count": 182,
   "metadata": {},
   "outputs": [
    {
     "data": {
      "text/plain": [
       "{'name': 'grasp_prob_place',\n",
       " 'vars': ['g_place'],\n",
       " 'dim': 1,\n",
       " 'offset': 1,\n",
       " 'constr_fn': <function __main__.<lambda>(g)>,\n",
       " 'jac_fn': <function __main__.<lambda>(g)>,\n",
       " 'indices': [(array([1, 1, 1]), array([3, 4, 5]))]}"
      ]
     },
     "execution_count": 182,
     "metadata": {},
     "output_type": "execute_result"
    }
   ],
   "source": [
    "builder.constrs[\"grasp_prob_place\"]"
   ]
  },
  {
   "cell_type": "code",
   "execution_count": 179,
   "metadata": {},
   "outputs": [
    {
     "data": {
      "text/plain": [
       "(array([6, 6, 6, 7, 7, 7, 8, 8, 8, 9, 9, 9]),\n",
       " array([0, 1, 2, 0, 1, 2, 0, 1, 2, 0, 1, 2]))"
      ]
     },
     "execution_count": 179,
     "metadata": {},
     "output_type": "execute_result"
    }
   ],
   "source": [
    "constr[\"indices\"][0]"
   ]
  },
  {
   "cell_type": "code",
   "execution_count": null,
   "metadata": {},
   "outputs": [],
   "source": [
    "vals"
   ]
  },
  {
   "cell_type": "code",
   "execution_count": 156,
   "metadata": {},
   "outputs": [],
   "source": [
    "dummy_fn = lambda g, p : [jnp.zeros(3),jnp.zeros(6)]"
   ]
  },
  {
   "cell_type": "code",
   "execution_count": 157,
   "metadata": {},
   "outputs": [],
   "source": [
    "dummy_jit = jax.jit(dummy_fn)"
   ]
  },
  {
   "cell_type": "code",
   "execution_count": 158,
   "metadata": {},
   "outputs": [
    {
     "data": {
      "text/plain": [
       "[Array([0., 0., 0.], dtype=float32),\n",
       " Array([0., 0., 0., 0., 0., 0.], dtype=float32)]"
      ]
     },
     "execution_count": 158,
     "metadata": {},
     "output_type": "execute_result"
    }
   ],
   "source": [
    "dummy_jit(0., 1.)"
   ]
  },
  {
   "cell_type": "code",
   "execution_count": 137,
   "metadata": {},
   "outputs": [
    {
     "data": {
      "text/plain": [
       "'manip_ho_left'"
      ]
     },
     "execution_count": 137,
     "metadata": {},
     "output_type": "execute_result"
    }
   ],
   "source": [
    "constr[\"name\"]"
   ]
  },
  {
   "cell_type": "code",
   "execution_count": 135,
   "metadata": {},
   "outputs": [
    {
     "data": {
      "text/plain": [
       "[Array([0., 1., 2.], dtype=float32),\n",
       " Array([ 6.,  7.,  8.,  9., 10., 11.], dtype=float32)]"
      ]
     },
     "execution_count": 135,
     "metadata": {},
     "output_type": "execute_result"
    }
   ],
   "source": [
    "[xs[var] for var in constr[\"vars\"]]"
   ]
  },
  {
   "cell_type": "code",
   "execution_count": null,
   "metadata": {},
   "outputs": [],
   "source": [
    "vals"
   ]
  },
  {
   "cell_type": "code",
   "execution_count": 102,
   "metadata": {},
   "outputs": [],
   "source": [
    "jac_fn = constr[\"jac_fn\"]"
   ]
  },
  {
   "cell_type": "code",
   "execution_count": 103,
   "metadata": {},
   "outputs": [],
   "source": [
    "jacs = jac_fn(*[xs[var] for var in constr[\"vars\"]])"
   ]
  },
  {
   "cell_type": "code",
   "execution_count": 104,
   "metadata": {},
   "outputs": [
    {
     "data": {
      "text/plain": [
       "[(array([6, 6, 6, 7, 7, 7, 8, 8, 8, 9, 9, 9]),\n",
       "  array([0, 1, 2, 0, 1, 2, 0, 1, 2, 0, 1, 2])),\n",
       " (array([6, 6, 6, 7, 7, 7, 8, 8, 8, 9, 9, 9]),\n",
       "  array([3, 4, 5, 3, 4, 5, 3, 4, 5, 3, 4, 5])),\n",
       " (array([6, 6, 6, 6, 6, 6, 7, 7, 7, 7, 7, 7, 8, 8, 8, 8, 8, 8, 9, 9, 9, 9,\n",
       "         9, 9]),\n",
       "  array([ 6,  7,  8,  9, 10, 11,  6,  7,  8,  9, 10, 11,  6,  7,  8,  9, 10,\n",
       "         11,  6,  7,  8,  9, 10, 11]))]"
      ]
     },
     "execution_count": 104,
     "metadata": {},
     "output_type": "execute_result"
    }
   ],
   "source": [
    "constr[\"indices\"]"
   ]
  },
  {
   "cell_type": "code",
   "execution_count": 54,
   "metadata": {},
   "outputs": [
    {
     "data": {
      "text/plain": [
       "[0, 3, 6]"
      ]
     },
     "execution_count": 54,
     "metadata": {},
     "output_type": "execute_result"
    }
   ],
   "source": [
    "offsets"
   ]
  },
  {
   "cell_type": "code",
   "execution_count": 42,
   "metadata": {},
   "outputs": [
    {
     "data": {
      "text/plain": [
       "array([0, 0, 0])"
      ]
     },
     "execution_count": 42,
     "metadata": {},
     "output_type": "execute_result"
    }
   ],
   "source": []
  }
 ],
 "metadata": {
  "kernelspec": {
   "display_name": "opt_env",
   "language": "python",
   "name": "python3"
  },
  "language_info": {
   "codemirror_mode": {
    "name": "ipython",
    "version": 3
   },
   "file_extension": ".py",
   "mimetype": "text/x-python",
   "name": "python",
   "nbconvert_exporter": "python",
   "pygments_lexer": "ipython3",
   "version": "3.8.15"
  },
  "orig_nbformat": 4
 },
 "nbformat": 4,
 "nbformat_minor": 2
}
