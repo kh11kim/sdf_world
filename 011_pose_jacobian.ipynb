{
 "cells": [
  {
   "cell_type": "code",
   "execution_count": 1,
   "metadata": {},
   "outputs": [],
   "source": [
    "import numpy as np\n",
    "import jax\n",
    "import jax.numpy as jnp\n",
    "from jaxlie import SE3, SO3\n",
    "\n",
    "from sdf_world.sdf_world import *\n",
    "from sdf_world.robots import *\n",
    "from sdf_world.util import *"
   ]
  },
  {
   "cell_type": "code",
   "execution_count": 2,
   "metadata": {},
   "outputs": [
    {
     "name": "stdout",
     "output_type": "stream",
     "text": [
      "You can open the visualizer by visiting the following URL:\n",
      "http://127.0.0.1:7001/static/\n"
     ]
    }
   ],
   "source": [
    "world = SDFWorld()"
   ]
  },
  {
   "cell_type": "code",
   "execution_count": 3,
   "metadata": {},
   "outputs": [],
   "source": [
    "frame = Frame(world.vis, \"frame\")\n",
    "frame_curr = Frame(world.vis, \"frame_curr\")"
   ]
  },
  {
   "cell_type": "code",
   "execution_count": 606,
   "metadata": {},
   "outputs": [],
   "source": [
    "def make_pose():\n",
    "    return SE3.from_rotation_and_translation(\n",
    "        SO3(np.random.random(4)).normalize(),\n",
    "        np.random.uniform([-0.,-0.5,0.3],[0.5,0.5,0.8])\n",
    "    )"
   ]
  },
  {
   "cell_type": "code",
   "execution_count": 5,
   "metadata": {},
   "outputs": [],
   "source": [
    "pose_rand = make_pose()\n",
    "frame.set_pose(pose_rand)"
   ]
  },
  {
   "cell_type": "code",
   "execution_count": 13,
   "metadata": {},
   "outputs": [],
   "source": [
    "def to_posevec(pose:SE3):\n",
    "    return jnp.hstack([\n",
    "        pose.translation(), pose.rotation().log()\n",
    "    ])\n",
    "def to_SE3(posevec:Array):\n",
    "    return SE3.from_rotation_and_translation(\n",
    "        SO3.exp(posevec[3:]), posevec[:3]\n",
    "    )"
   ]
  },
  {
   "cell_type": "code",
   "execution_count": 604,
   "metadata": {},
   "outputs": [],
   "source": [
    "panda_model = RobotModel(PANDA_URDF, PANDA_PACKAGE)\n",
    "panda = Robot(world.vis, \"panda\", panda_model, alpha=0.5)\n",
    "panda.reduce_dim([7, 8], [0.04, 0.04])"
   ]
  },
  {
   "cell_type": "code",
   "execution_count": 1172,
   "metadata": {},
   "outputs": [],
   "source": [
    "# Kinematics\n",
    "def skew(v):\n",
    "    v1, v2, v3 = v\n",
    "    return jnp.array([[0, -v3, v2],\n",
    "                      [v3, 0., -v1],\n",
    "                      [-v2, v1, 0.]])\n",
    "\n",
    "def get_rotvec_angvel_map(v):\n",
    "    vmag = jnp.linalg.norm(v)\n",
    "    return jnp.eye(3) \\\n",
    "        - 1/2*skew(v) \\\n",
    "        + skew(v)@skew(v) * 1/vmag**2 * (1-vmag/2 * jnp.sin(vmag)/(1-jnp.cos(vmag)))\n",
    "\n",
    "@jax.jit\n",
    "def get_ee_fk_jac(q):\n",
    "    fks = panda_model.fk_fn(q)\n",
    "    p_ee = fks[-1][-3:]\n",
    "    rotvec_ee = SO3(fks[-1][:4]).log()\n",
    "    E = get_rotvec_angvel_map(rotvec_ee)\n",
    "    jac = []\n",
    "    for posevec in fks[1:8]:\n",
    "        p_frame = posevec[-3:]\n",
    "        rot_axis = SE3(posevec).as_matrix()[:3, 2]\n",
    "        lin_vel = jnp.cross(rot_axis, p_ee - p_frame)\n",
    "        jac.append(jnp.hstack([lin_vel, rot_axis]))\n",
    "    jac = jnp.array(jac).T\n",
    "    jac = jac.at[3:, :].set(E @ jac[3:, :])\n",
    "    return jnp.hstack([p_ee, rotvec_ee]), jac"
   ]
  },
  {
   "cell_type": "code",
   "execution_count": 1681,
   "metadata": {},
   "outputs": [],
   "source": [
    "posevec_d = to_posevec(make_pose())\n",
    "#posevec_curr = to_posevec(make_pose())\n",
    "\n",
    "frame.set_pose(to_SE3(posevec_d))\n",
    "#frame_curr.set_pose(to_SE3(posevec_curr))"
   ]
  },
  {
   "cell_type": "code",
   "execution_count": 1682,
   "metadata": {},
   "outputs": [],
   "source": [
    "q = panda.neutral\n",
    "panda.set_joint_angles(q)"
   ]
  },
  {
   "cell_type": "code",
   "execution_count": 1714,
   "metadata": {},
   "outputs": [],
   "source": [
    "ee_posevec, jac = get_ee_fk_jac(q)\n",
    "qupdate = jnp.linalg.pinv(jac) @ (posevec_d - ee_posevec)\n",
    "q += qupdate*0.1\n",
    "panda.set_joint_angles(q)"
   ]
  },
  {
   "cell_type": "code",
   "execution_count": 1634,
   "metadata": {},
   "outputs": [],
   "source": [
    "del frame_curr"
   ]
  },
  {
   "cell_type": "code",
   "execution_count": 1188,
   "metadata": {},
   "outputs": [],
   "source": []
  },
  {
   "cell_type": "code",
   "execution_count": null,
   "metadata": {},
   "outputs": [],
   "source": [
    "def get_error_twist(posevec_curr):\n",
    "    pos_err = posevec_d[:3] - posevec_curr[:3]\n",
    "    rot_diff = SO3.exp(posevec_curr[3:]).inverse() @ SO3.exp(posevec_d[3:]) # \n",
    "    rotvec_err = rot_diff.log()\n",
    "    return jnp.hstack([pos_err, rot_angvel])\n",
    "\n",
    "def get_error_twist(posevec_curr):\n",
    "    pos_err = posevec_d[:3] - posevec_curr[:3]\n",
    "    rot_diff = SO3.exp(posevec_curr[3:]).inverse() @ SO3.exp(posevec_d[3:]) # \n",
    "    rot_angvel = rot_diff.log()\n",
    "    rot_angvel = SO3.exp(posevec_curr[3:]).apply(rot_angvel)\n",
    "    return jnp.hstack([pos_err, rot_angvel])\n",
    "rotvec_dot = get_rotvec_angvel_map(posevec_curr[3:]) @ twist[3:]"
   ]
  },
  {
   "cell_type": "code",
   "execution_count": 1146,
   "metadata": {},
   "outputs": [],
   "source": []
  },
  {
   "cell_type": "code",
   "execution_count": 597,
   "metadata": {},
   "outputs": [],
   "source": [
    "#difference: input:posevec_curr, parameter:posevec_d\n",
    "def pose_difference(posevec_curr):\n",
    "    pos_err = posevec_d[:3] - posevec_curr[:3]\n",
    "    rot_diff = SO3.exp(posevec_curr[3:]).inverse() @ SO3.exp(posevec_d[3:])\n",
    "    rot_err = rot_diff.log()\n",
    "    return jnp.sum(pos_err**2) + jnp.sum(rot_err**2)"
   ]
  },
  {
   "cell_type": "code",
   "execution_count": 601,
   "metadata": {},
   "outputs": [],
   "source": [
    "vg_pose_difference = jax.jit(jax.value_and_grad(pose_difference))"
   ]
  },
  {
   "cell_type": "code",
   "execution_count": 1169,
   "metadata": {},
   "outputs": [],
   "source": [
    "twist = get_error_twist(posevec_curr)\n",
    "rotvec_dot = get_rotvec_angvel_map(posevec_curr[3:]) @ twist[3:]\n",
    "update = jnp.hstack([twist[:3], rotvec_dot])\n",
    "\n",
    "posevec_curr += update*0.1\n",
    "frame_curr.set_pose(to_SE3(posevec_curr))\n",
    "#print(val)"
   ]
  },
  {
   "cell_type": "code",
   "execution_count": 1145,
   "metadata": {},
   "outputs": [
    {
     "data": {
      "text/plain": [
       "(Array(2.703032, dtype=float32),\n",
       " Array([-0.51846766, -0.8305994 , -0.01259148, -0.58684206,  1.4605045 ,\n",
       "         2.165997  ], dtype=float32))"
      ]
     },
     "execution_count": 1145,
     "metadata": {},
     "output_type": "execute_result"
    }
   ],
   "source": [
    "vg_pose_difference(posevec_curr)"
   ]
  },
  {
   "cell_type": "code",
   "execution_count": 594,
   "metadata": {},
   "outputs": [
    {
     "name": "stdout",
     "output_type": "stream",
     "text": [
      "0.0072116824\n"
     ]
    }
   ],
   "source": [
    "val, grads = vg_pose_difference(posevec_curr)\n",
    "posevec_curr -= grads*0.1\n",
    "frame_curr.set_pose(to_SE3(posevec_curr))\n",
    "print(val)"
   ]
  },
  {
   "cell_type": "code",
   "execution_count": 112,
   "metadata": {},
   "outputs": [],
   "source": []
  },
  {
   "cell_type": "code",
   "execution_count": 50,
   "metadata": {},
   "outputs": [],
   "source": []
  },
  {
   "cell_type": "code",
   "execution_count": 51,
   "metadata": {},
   "outputs": [],
   "source": []
  }
 ],
 "metadata": {
  "kernelspec": {
   "display_name": "cu11",
   "language": "python",
   "name": "python3"
  },
  "language_info": {
   "codemirror_mode": {
    "name": "ipython",
    "version": 3
   },
   "file_extension": ".py",
   "mimetype": "text/x-python",
   "name": "python",
   "nbconvert_exporter": "python",
   "pygments_lexer": "ipython3",
   "version": "3.8.16"
  },
  "orig_nbformat": 4
 },
 "nbformat": 4,
 "nbformat_minor": 2
}
