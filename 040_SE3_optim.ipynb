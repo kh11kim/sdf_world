{
 "cells": [
  {
   "cell_type": "code",
   "execution_count": 1,
   "metadata": {},
   "outputs": [],
   "source": [
    "import numpy as np\n",
    "import jax.numpy as jnp\n",
    "import jax\n",
    "import cyipopt\n",
    "\n",
    "from functools import partial\n",
    "from typing import *\n",
    "from dataclasses import dataclass, field\n",
    "from jaxlie import SE3, SO3\n",
    "import jax_dataclasses as jdc\n",
    "\n",
    "from sdf_world.sdf_world import *\n",
    "from sdf_world.robots import *\n",
    "from sdf_world.util import *\n",
    "from sdf_world.network import *\n",
    "from sdf_world.sparse_ipopt import *\n",
    "\n",
    "import time"
   ]
  },
  {
   "cell_type": "code",
   "execution_count": 2,
   "metadata": {},
   "outputs": [
    {
     "name": "stdout",
     "output_type": "stream",
     "text": [
      "You can open the visualizer by visiting the following URL:\n",
      "http://127.0.0.1:7003/static/\n"
     ]
    }
   ],
   "source": [
    "world = SDFWorld()"
   ]
  },
  {
   "cell_type": "code",
   "execution_count": 3,
   "metadata": {},
   "outputs": [],
   "source": [
    "def get_random_pose():\n",
    "    pos = jnp.array([0,0,0.5]) #np.random.uniform(-1, 1, size=3)\n",
    "    rot = SO3(np.random.normal(size=4)).normalize()\n",
    "    return SE3.from_rotation_and_translation(rot, pos)"
   ]
  },
  {
   "cell_type": "code",
   "execution_count": 4,
   "metadata": {},
   "outputs": [],
   "source": [
    "box = Box(world.vis, \"box\", [0.1, 0.2, 0.3], \"red\")\n",
    "box_target = Box(world.vis, \"box_target\", [0.1, 0.2, 0.3], \"blue\")"
   ]
  },
  {
   "cell_type": "code",
   "execution_count": 5,
   "metadata": {},
   "outputs": [],
   "source": [
    "box_target.set_pose(get_random_pose())"
   ]
  },
  {
   "cell_type": "code",
   "execution_count": 6,
   "metadata": {},
   "outputs": [],
   "source": [
    "def qtn_err(qtn_like, qtn_d):\n",
    "    rot = SO3(qtn_like).normalize()\n",
    "    rot_err = rot.inverse() @ SO3(qtn_d)\n",
    "    return jnp.sum(rot_err.log() ** 2)\n",
    "jac_qtn_err = lambda qtn_like, qtn_d: [jax.grad(qtn_err)(qtn_like, qtn_d), np.zeros(4)]\n",
    "\n",
    "def qtn_constr(qtn_like):\n",
    "    return jnp.sum(qtn_like**2) - 1\n",
    "jac_qtn_constr = jax.grad(qtn_constr, argnums=[0])"
   ]
  },
  {
   "cell_type": "code",
   "execution_count": 7,
   "metadata": {},
   "outputs": [],
   "source": [
    "qtn_like = np.random.random(4)"
   ]
  },
  {
   "cell_type": "code",
   "execution_count": 8,
   "metadata": {},
   "outputs": [],
   "source": [
    "frame = Frame(world.vis, \"frame\", length=0.3)\n",
    "frame_d = Frame(world.vis, \"frame_d\", length=0.3)"
   ]
  },
  {
   "cell_type": "code",
   "execution_count": 9,
   "metadata": {},
   "outputs": [],
   "source": [
    "# optimization + constraint\n",
    "bdr1 = SparseIPOPT()\n",
    "bdr1.add_variable(\"qtn\", 4, -1., 1.)\n",
    "bdr1.add_variable(\"pos\", 3, -1., 1.)\n",
    "bdr1.add_parameter(\"qtn_d\", 4)\n",
    "\n",
    "\n",
    "def debug_callback(xdict):\n",
    "    qtn = xdict[\"qtn\"]\n",
    "    qtn_d = xdict[\"qtn_d\"]\n",
    "    pose = SE3.from_rotation(SO3(qtn).normalize())\n",
    "    pose_d = SE3.from_rotation_and_translation(SO3(qtn_d), jnp.array([0,0,0.5]))\n",
    "    box.set_pose(pose)\n",
    "    frame.set_pose(pose)\n",
    "    frame_d.set_pose(pose_d)\n",
    "    print(f\"err: {qtn_err(qtn, qtn_d)}  viol:{qtn_constr(qtn)}\")\n",
    "    time.sleep(0.5)\n",
    "bdr1.set_debug_callback(debug_callback)\n",
    "\n",
    "bdr1.register_fn(\"qtn_err\", [4, 4], 1, qtn_err, jac_qtn_err)\n",
    "bdr1.register_fn(\"qtn_constr\", [4], 1, qtn_constr, jac_qtn_constr)\n",
    "\n",
    "bdr1.set_objective(\"qtn_err\", [\"qtn\", \"qtn_d\"])\n",
    "#bdr1.set_constr(\"qtn_err\", \"qtn_err\", [\"qtn\", \"qtn_d\"], 0., 0.)\n",
    "bdr1.set_constr(\"qtn_constr\", \"qtn_constr\", [\"qtn\"], 0., 0.)\n"
   ]
  },
  {
   "cell_type": "code",
   "execution_count": 10,
   "metadata": {},
   "outputs": [
    {
     "name": "stdout",
     "output_type": "stream",
     "text": [
      "compiling objective ...\n",
      "err: nan  viol:-1.0\n",
      "compiling gradient ...\n",
      "compiling constraints ...\n",
      "compiling jacobian ...\n",
      "oooo-------\n"
     ]
    }
   ],
   "source": [
    "ipopt_qtn = bdr1.build()"
   ]
  },
  {
   "cell_type": "code",
   "execution_count": 11,
   "metadata": {},
   "outputs": [],
   "source": [
    "qtn_d = np.random.normal(size=4)\n",
    "qtn_d /= np.linalg.norm(qtn_d)\n",
    "\n",
    "pose_d = SE3.from_rotation_and_translation(SO3(qtn_d), box_target.pose.translation())\n",
    "box_target.set_pose(pose_d)\n",
    "box.set_pose(SE3.identity())"
   ]
  },
  {
   "cell_type": "code",
   "execution_count": 36,
   "metadata": {},
   "outputs": [
    {
     "name": "stdout",
     "output_type": "stream",
     "text": [
      "This is Ipopt version 3.14.10, running with linear solver MUMPS 5.2.1.\n",
      "\n",
      "Number of nonzeros in equality constraint Jacobian...:        4\n",
      "Number of nonzeros in inequality constraint Jacobian.:        0\n",
      "Number of nonzeros in Lagrangian Hessian.............:        0\n",
      "\n",
      "Total number of variables............................:       11\n",
      "                     variables with only lower bounds:        0\n",
      "                variables with lower and upper bounds:        7\n",
      "                     variables with only upper bounds:        0\n",
      "Total number of equality constraints.................:        1\n",
      "Total number of inequality constraints...............:        0\n",
      "        inequality constraints with only lower bounds:        0\n",
      "   inequality constraints with lower and upper bounds:        0\n",
      "        inequality constraints with only upper bounds:        0\n",
      "\n",
      "err: 9.072041511535645  viol:-0.019899964332580566\n",
      "iter    objective    inf_pr   inf_du lg(mu)  ||d||  lg(rg) alpha_du alpha_pr  ls\n",
      "   0  9.0720415e+00 1.99e-02 1.14e+01   0.0 0.00e+00    -  0.00e+00 0.00e+00   0\n",
      "err: 1.9096877574920654  viol:1.0946273803710938\n",
      "err: 1.5008803606033325  viol:0.8269917964935303\n",
      "   1  1.5008804e+00 8.27e-01 9.39e+01   0.5 3.81e+00    -  5.80e-01 2.60e-01F  1\n",
      "err: 2.7480862140655518  viol:0.14788377285003662\n",
      "   2  2.7480862e+00 1.48e-01 4.41e+00   0.2 3.74e-01    -  9.78e-01 1.00e+00f  1\n",
      "err: 0.9423683881759644  viol:0.1366657018661499\n",
      "   3  9.4236839e-01 1.37e-01 2.29e+00  -0.4 2.82e-01    -  1.00e+00 1.00e+00f  1\n",
      "err: 0.0931457057595253  viol:0.2718387842178345\n",
      "   4  9.3145706e-02 2.72e-01 1.18e+00  -1.4 4.70e-01    -  9.93e-01 1.00e+00f  1\n",
      "err: 0.006565894465893507  viol:0.05255484580993652\n",
      "   5  6.5658945e-03 5.26e-02 9.15e-01  -1.3 2.14e-01    -  9.24e-01 1.00e+00h  1\n",
      "err: 0.0012504400219768286  viol:0.0017924308776855469\n",
      "   6  1.2504400e-03 1.79e-03 2.65e-01  -1.4 3.05e-02    -  9.82e-01 1.00e+00h  1\n",
      "err: 0.0014958437532186508  viol:0.0013102293014526367\n",
      "   7  1.4958438e-03 1.31e-03 1.26e-01  -2.9 2.58e-02    -  9.97e-01 1.00e+00h  1\n",
      "err: 7.1149092946143355e-06  viol:0.0003854036331176758\n",
      "   8  7.1149093e-06 3.85e-04 8.82e-03  -4.2 1.66e-02    -  1.00e+00 1.00e+00h  1\n",
      "err: 5.829247697874962e-07  viol:2.86102294921875e-06\n",
      "   9  5.8292477e-07 2.86e-06 2.30e-03  -5.9 1.27e-03    -  1.00e+00 1.00e+00h  1\n",
      "\n",
      "Number of Iterations....: 9\n",
      "\n",
      "                                   (scaled)                 (unscaled)\n",
      "Objective...............:   5.8292476978749619e-07    5.8292476978749619e-07\n",
      "Dual infeasibility......:   2.3035437088928996e-03    2.3035437088928996e-03\n",
      "Constraint violation....:   2.8610229492187500e-06    2.8610229492187500e-06\n",
      "Variable bound violation:   0.0000000000000000e+00    0.0000000000000000e+00\n",
      "Complementarity.........:   1.5580473150668014e-06    1.5580473150668014e-06\n",
      "Overall NLP error.......:   2.3035437088928996e-03    2.3035437088928996e-03\n",
      "\n",
      "\n",
      "Number of objective function evaluations             = 11\n",
      "Number of objective gradient evaluations             = 10\n",
      "Number of equality constraint evaluations            = 11\n",
      "Number of inequality constraint evaluations          = 0\n",
      "Number of equality constraint Jacobian evaluations   = 10\n",
      "Number of inequality constraint Jacobian evaluations = 0\n",
      "Number of Lagrangian Hessian evaluations             = 0\n",
      "Total seconds in IPOPT                               = 5.637\n",
      "\n",
      "EXIT: Solved To Acceptable Level.\n"
     ]
    }
   ],
   "source": [
    "x0 = np.hstack([np.array([1,0,0,0.]), np.zeros(3), qtn_d])\n",
    "ipopt_qtn.add_option(\"acceptable_tol\", 0.01)\n",
    "\n",
    "#ipopt_qtn.add_option(\"acceptable_constr_viol_tol\", 0.001)\n",
    "xsol, info = ipopt_qtn.solve(x0)"
   ]
  },
  {
   "cell_type": "code",
   "execution_count": 24,
   "metadata": {},
   "outputs": [],
   "source": [
    "def ec_err(ec, ec_d):\n",
    "    rot = SO3.exp(ec)\n",
    "    rot_err = (rot.inverse() @ SO3.exp(ec_d))\n",
    "    return jnp.sum(rot_err.log() ** 2)\n",
    "jac_ec_err = lambda ec, ec_d: [jax.grad(ec_err)(ec, ec_d), np.zeros(4)]"
   ]
  },
  {
   "cell_type": "code",
   "execution_count": 32,
   "metadata": {},
   "outputs": [],
   "source": [
    "# optimization + constraint\n",
    "bdr2 = SparseIPOPT()\n",
    "bdr2.add_variable(\"ec\", 3, -np.pi, np.pi)\n",
    "bdr2.add_parameter(\"ec_d\", 3)\n",
    "\n",
    "\n",
    "def debug_callback(xdict):\n",
    "    ec = xdict[\"ec\"]\n",
    "    ec_d = xdict[\"ec_d\"]\n",
    "    pose = SE3.from_rotation(SO3.exp(ec))\n",
    "    pose_d = SE3.from_rotation_and_translation(SO3.exp(ec_d), jnp.array([0,0,0.5]))\n",
    "    box.set_pose(pose)\n",
    "    frame.set_pose(pose)\n",
    "    frame_d.set_pose(pose_d)\n",
    "    #print(f\"err: {qtn_err(qtn, qtn_d)}  viol:{qtn_constr(qtn)}\")\n",
    "    time.sleep(0.5)\n",
    "bdr2.set_debug_callback(debug_callback)\n",
    "\n",
    "bdr2.register_fn(\"ec_err\", [3, ], 1, ec_err, jac_ec_err)\n",
    "#bdr1.register_fn(\"qtn_constr\", [4], 1, qtn_constr, jac_qtn_constr)\n",
    "\n",
    "bdr2.set_objective(\"ec_err\", [\"ec\", \"ec_d\"])\n",
    "#bdr1.set_constr(\"qtn_err\", \"qtn_err\", [\"qtn\", \"qtn_d\"], 0., 0.)\n",
    "#bdr2.set_constr(\"qtn_constr\", \"qtn_constr\", [\"qtn\"], 0., 0.)\n"
   ]
  },
  {
   "cell_type": "code",
   "execution_count": 33,
   "metadata": {},
   "outputs": [
    {
     "name": "stdout",
     "output_type": "stream",
     "text": [
      "compiling objective ...\n",
      "compiling gradient ...\n",
      "no constraints\n"
     ]
    }
   ],
   "source": [
    "ipopt_ec = bdr2.build()"
   ]
  },
  {
   "cell_type": "code",
   "execution_count": 34,
   "metadata": {},
   "outputs": [],
   "source": [
    "ec_d = SO3(qtn_d).log()\n",
    "ec_init = SO3(qtn_like).log()\n",
    "#pose_d = SE3.from_rotation_and_translation(SO3(qtn_d), box_target.pose.translation())\n",
    "#box_target.set_pose(pose_d)\n",
    "#box.set_pose(SE3.identity())"
   ]
  },
  {
   "cell_type": "code",
   "execution_count": 37,
   "metadata": {},
   "outputs": [
    {
     "name": "stdout",
     "output_type": "stream",
     "text": [
      "This is Ipopt version 3.14.10, running with linear solver MUMPS 5.2.1.\n",
      "\n",
      "Number of nonzeros in equality constraint Jacobian...:        0\n",
      "Number of nonzeros in inequality constraint Jacobian.:        0\n",
      "Number of nonzeros in Lagrangian Hessian.............:        0\n",
      "\n",
      "Total number of variables............................:        6\n",
      "                     variables with only lower bounds:        0\n",
      "                variables with lower and upper bounds:        3\n",
      "                     variables with only upper bounds:        0\n",
      "Total number of equality constraints.................:        0\n",
      "Total number of inequality constraints...............:        0\n",
      "        inequality constraints with only lower bounds:        0\n",
      "   inequality constraints with lower and upper bounds:        0\n",
      "        inequality constraints with only upper bounds:        0\n",
      "\n",
      "iter    objective    inf_pr   inf_du lg(mu)  ||d||  lg(rg) alpha_du alpha_pr  ls\n",
      "   0  5.7099586e+00 0.00e+00 3.76e+00   0.0 0.00e+00    -  0.00e+00 0.00e+00   0\n",
      "   1  8.6896336e-01 0.00e+00 9.34e-01  -0.4 1.99e+00    -  7.40e-01 8.38e-01f  1\n",
      "   2  2.3160954e-01 0.00e+00 5.09e-01  -1.5 7.25e-01    -  9.99e-01 1.00e+00f  1\n",
      "   3  2.8517330e-03 0.00e+00 9.96e-02  -2.1 8.13e-01    -  9.84e-01 1.00e+00f  1\n",
      "   4  3.5528188e-05 0.00e+00 7.35e-03  -3.0 6.15e-02    -  9.74e-01 1.00e+00f  1\n",
      "   5  1.6283021e-06 0.00e+00 7.12e-04  -5.0 4.74e-03    -  9.99e-01 1.00e+00f  1\n",
      "\n",
      "Number of Iterations....: 5\n",
      "\n",
      "                                   (scaled)                 (unscaled)\n",
      "Objective...............:   1.6283021295748767e-06    1.6283021295748767e-06\n",
      "Dual infeasibility......:   7.1241952074832700e-04    7.1241952074832700e-04\n",
      "Constraint violation....:   0.0000000000000000e+00    0.0000000000000000e+00\n",
      "Variable bound violation:   0.0000000000000000e+00    0.0000000000000000e+00\n",
      "Complementarity.........:   9.2583205463157763e-05    9.2583205463157763e-05\n",
      "Overall NLP error.......:   7.1241952074832700e-04    7.1241952074832700e-04\n",
      "\n",
      "\n",
      "Number of objective function evaluations             = 6\n",
      "Number of objective gradient evaluations             = 6\n",
      "Number of equality constraint evaluations            = 0\n",
      "Number of inequality constraint evaluations          = 0\n",
      "Number of equality constraint Jacobian evaluations   = 0\n",
      "Number of inequality constraint Jacobian evaluations = 0\n",
      "Number of Lagrangian Hessian evaluations             = 0\n",
      "Total seconds in IPOPT                               = 3.108\n",
      "\n",
      "EXIT: Solved To Acceptable Level.\n"
     ]
    }
   ],
   "source": [
    "x0 = np.hstack([ec_init, ec_d])\n",
    "ipopt_ec.add_option(\"acceptable_tol\", 0.01)\n",
    "\n",
    "#ipopt_qtn.add_option(\"acceptable_constr_viol_tol\", 0.001)\n",
    "xsol, info = ipopt_ec.solve(x0)"
   ]
  }
 ],
 "metadata": {
  "kernelspec": {
   "display_name": "cu11",
   "language": "python",
   "name": "python3"
  },
  "language_info": {
   "codemirror_mode": {
    "name": "ipython",
    "version": 3
   },
   "file_extension": ".py",
   "mimetype": "text/x-python",
   "name": "python",
   "nbconvert_exporter": "python",
   "pygments_lexer": "ipython3",
   "version": "3.8.16"
  },
  "orig_nbformat": 4
 },
 "nbformat": 4,
 "nbformat_minor": 2
}
