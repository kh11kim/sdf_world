{
 "cells": [
  {
   "cell_type": "code",
   "execution_count": 1,
   "metadata": {},
   "outputs": [],
   "source": [
    "import numpy as np\n",
    "import jax.numpy as jnp\n",
    "import jax\n",
    "import cyipopt\n",
    "\n",
    "from functools import partial\n",
    "from typing import *\n",
    "from dataclasses import dataclass, field\n",
    "from jaxlie import SE3, SO3\n",
    "import jax_dataclasses as jdc\n",
    "\n",
    "from sdf_world.sdf_world import *\n",
    "from sdf_world.robots import *\n",
    "from sdf_world.util import *\n",
    "from sdf_world.network import *\n",
    "from sdf_world.sparse_ipopt import *\n",
    "\n",
    "import time"
   ]
  },
  {
   "cell_type": "code",
   "execution_count": 2,
   "metadata": {},
   "outputs": [],
   "source": [
    "class PandaHand:\n",
    "    def __init__(self, hand_model, name=\"hand\"):\n",
    "        self.model = hand_model\n",
    "        self.robot = Robot(world.vis, name, hand_model, color=\"white\", alpha=0.5, visualized_mesh=\"visual\")\n",
    "        self.hand_pose_wrt_ee = SE3.from_translation(jnp.array([0,0,-0.105]))\n",
    "        self.hand_pc = self.robot.get_surface_points_fn(jnp.array([0.04, 0.04]))\n",
    "    \n",
    "    def get_bounding_box(self, name):\n",
    "        fks = self.model.fk_fn(jnp.array([0.04, 0.04]))\n",
    "        hand_points = []\n",
    "        for i, link in enumerate(self.hand_model.links.values()):\n",
    "            pts = jax.vmap(SE3(fks[i]).apply)(link.collision_mesh.vertices)\n",
    "            hand_points.append(pts)\n",
    "        hand_points = np.vstack(hand_points, dtype=float)\n",
    "        min_points = hand_points.min(axis=0)\n",
    "        max_points = hand_points.max(axis=0)\n",
    "        extents = max_points - min_points\n",
    "        center = (max_points + min_points) / 2\n",
    "        box = Box(world.vis, name, extents, alpha=0.5, visualize=False)\n",
    "        box.set_translate(center)\n",
    "        return box\n",
    "    \n",
    "    def set_pose(self, pose):\n",
    "        self.robot.set_pose(pose @ self.hand_pose_wrt_ee)"
   ]
  },
  {
   "cell_type": "code",
   "execution_count": 3,
   "metadata": {},
   "outputs": [
    {
     "name": "stdout",
     "output_type": "stream",
     "text": [
      "You can open the visualizer by visiting the following URL:\n",
      "http://127.0.0.1:7003/static/\n"
     ]
    }
   ],
   "source": [
    "world = SDFWorld()"
   ]
  },
  {
   "cell_type": "code",
   "execution_count": 4,
   "metadata": {},
   "outputs": [],
   "source": [
    "# Load robot\n",
    "hand_model = RobotModel(HAND_URDF, PANDA_PACKAGE, True)\n",
    "for link_name, link in hand_model.links.items():\n",
    "    link.set_surface_points(10)\n",
    "hand1 = PandaHand(hand_model, \"hand1\")\n",
    "hand2 = PandaHand(hand_model, \"hand2\")"
   ]
  },
  {
   "cell_type": "code",
   "execution_count": null,
   "metadata": {},
   "outputs": [],
   "source": [
    "#load sdf meshes\n",
    "table_lengths = [0.4, 0.4, 0.2]\n",
    "table_start = Box(world.vis, \"table_start\", table_lengths, 'white', 0.5)\n",
    "table_goal = Box(world.vis, \"table_goal\", table_lengths, 'white', 0.5)\n",
    "obstacle = Box(world.vis, \"obstacle\", [0.4, 0.2, 0.35], 'white', 0.5)\n",
    "\n",
    "obj_start = Mesh(world.vis, \"obj_start\", \n",
    "                 \"./sdf_world/assets/object/mesh.obj\",\n",
    "                 color=\"blue\", alpha=0.5)\n",
    "obj_goal = Mesh(world.vis, \"obj_goal\", \n",
    "                \"./sdf_world/assets/object/mesh.obj\",\n",
    "                color=\"green\", alpha=0.5)\n",
    "obj_ho = Mesh(world.vis, \"obj_ho\", \n",
    "                \"./sdf_world/assets/object/mesh.obj\",\n",
    "                color=\"yellow\", alpha=0.5)\n",
    "obj = Mesh(world.vis, \"obj\", \n",
    "                \"./sdf_world/assets/object/mesh.obj\",\n",
    "                color=\"white\", alpha=0.8)"
   ]
  },
  {
   "cell_type": "code",
   "execution_count": null,
   "metadata": {},
   "outputs": [],
   "source": [
    "ydev = 0.4\n",
    "# panda1.set_translate([0,-ydev,0])\n",
    "# panda2.set_translate([0,ydev,0])\n",
    "\n",
    "table_start.set_translate([0.45, -ydev, 0.2/2])\n",
    "table_goal.set_translate([0.45, ydev, 0.2/2])\n",
    "obj_lengths = obj_start.mesh.bounding_box.primitive.extents\n",
    "obj_start.set_translate([0.45, -0.4, obj_lengths[-1]/2+table_lengths[-1]])\n",
    "trans_goal = jnp.array([0.45, 0.4, obj_lengths[-2]/2+table_lengths[-1]])\n",
    "obstacle.set_translate([0.45, 0., 0.35/2])\n",
    "obj_goal_pose = SE3.from_rotation_and_translation(\n",
    "    SO3.from_rpy_radians(jnp.pi/2, 0,0), trans_goal)\n",
    "obj_goal.set_pose(obj_goal_pose)\n",
    "obj.set_translate([0.45, -0.4, obj_lengths[-1]/2+table_lengths[-1]])\n",
    "obj_ho.set_translate([0.3, 0., 0.6])"
   ]
  },
  {
   "cell_type": "code",
   "execution_count": null,
   "metadata": {},
   "outputs": [],
   "source": [
    "hand1 = PandaHand(hand_model, \"hand1\")\n",
    "hand_pc = hand1.hand_pc\n",
    "safe_dist = 0.05\n",
    "env = SDFContainer([table_start, table_goal, obstacle], safe_dist)"
   ]
  },
  {
   "cell_type": "code",
   "execution_count": 5,
   "metadata": {},
   "outputs": [
    {
     "name": "stderr",
     "output_type": "stream",
     "text": [
      "2023-08-09 14:24:07.369374: E external/xla/xla/stream_executor/cuda/cuda_dnn.cc:429] Could not create cudnn handle: CUDNN_STATUS_NOT_INITIALIZED\n",
      "2023-08-09 14:24:07.369415: E external/xla/xla/stream_executor/cuda/cuda_dnn.cc:438] Possibly insufficient driver version: 515.105.1\n"
     ]
    },
    {
     "ename": "XlaRuntimeError",
     "evalue": "FAILED_PRECONDITION: DNN library initialization failed. Look at the errors above for more details.",
     "output_type": "error",
     "traceback": [
      "\u001b[0;31m---------------------------------------------------------------------------\u001b[0m",
      "\u001b[0;31mXlaRuntimeError\u001b[0m                           Traceback (most recent call last)",
      "Cell \u001b[0;32mIn[5], line 3\u001b[0m\n\u001b[1;32m      1\u001b[0m \u001b[39m# models \u001b[39;00m\n\u001b[1;32m      2\u001b[0m orbax_checkpointer \u001b[39m=\u001b[39m orbax\u001b[39m.\u001b[39mcheckpoint\u001b[39m.\u001b[39mPyTreeCheckpointer()\n\u001b[0;32m----> 3\u001b[0m restored_grasp \u001b[39m=\u001b[39m orbax_checkpointer\u001b[39m.\u001b[39;49mrestore(\u001b[39m\"\u001b[39;49m\u001b[39mmodel/grasp_net_prob_dist\u001b[39;49m\u001b[39m\"\u001b[39;49m)\n\u001b[1;32m      4\u001b[0m restored_manip \u001b[39m=\u001b[39m orbax_checkpointer\u001b[39m.\u001b[39mrestore(\u001b[39m\"\u001b[39m\u001b[39mmodel/manip_net\u001b[39m\u001b[39m\"\u001b[39m)\n\u001b[1;32m      6\u001b[0m \u001b[39m#grasp net\u001b[39;00m\n",
      "File \u001b[0;32m~/miniconda3/envs/cu11/lib/python3.8/site-packages/orbax/checkpoint/checkpointer.py:97\u001b[0m, in \u001b[0;36mCheckpointer.restore\u001b[0;34m(self, directory, item, *args, **kwargs)\u001b[0m\n\u001b[1;32m     95\u001b[0m   \u001b[39mraise\u001b[39;00m \u001b[39mValueError\u001b[39;00m(\u001b[39mf\u001b[39m\u001b[39m'\u001b[39m\u001b[39mFound incomplete checkpoint at \u001b[39m\u001b[39m{\u001b[39;00mdirectory\u001b[39m}\u001b[39;00m\u001b[39m.\u001b[39m\u001b[39m'\u001b[39m)\n\u001b[1;32m     96\u001b[0m logging\u001b[39m.\u001b[39minfo(\u001b[39m'\u001b[39m\u001b[39mRestoring item from \u001b[39m\u001b[39m%s\u001b[39;00m\u001b[39m.\u001b[39m\u001b[39m'\u001b[39m, directory)\n\u001b[0;32m---> 97\u001b[0m restored \u001b[39m=\u001b[39m \u001b[39mself\u001b[39;49m\u001b[39m.\u001b[39;49m_handler\u001b[39m.\u001b[39;49mrestore(directory, \u001b[39m*\u001b[39;49margs, item\u001b[39m=\u001b[39;49mitem, \u001b[39m*\u001b[39;49m\u001b[39m*\u001b[39;49mkwargs)\n\u001b[1;32m     98\u001b[0m logging\u001b[39m.\u001b[39minfo(\u001b[39m'\u001b[39m\u001b[39mFinished restoring checkpoint from \u001b[39m\u001b[39m%s\u001b[39;00m\u001b[39m.\u001b[39m\u001b[39m'\u001b[39m, directory)\n\u001b[1;32m     99\u001b[0m \u001b[39mreturn\u001b[39;00m restored\n",
      "File \u001b[0;32m~/miniconda3/envs/cu11/lib/python3.8/site-packages/orbax/checkpoint/pytree_checkpoint_handler.py:569\u001b[0m, in \u001b[0;36mPyTreeCheckpointHandler.restore\u001b[0;34m(self, directory, item, restore_args, transforms, transforms_default_to_original, transform_fn)\u001b[0m\n\u001b[1;32m    566\u001b[0m   \u001b[39mreturn\u001b[39;00m jax\u001b[39m.\u001b[39mtree_util\u001b[39m.\u001b[39mtree_unflatten(item_structure, flat)\n\u001b[1;32m    568\u001b[0m restored_item \u001b[39m=\u001b[39m asyncio\u001b[39m.\u001b[39mrun(_restore())\n\u001b[0;32m--> 569\u001b[0m utils\u001b[39m.\u001b[39;49msync_global_devices(\u001b[39m'\u001b[39;49m\u001b[39mPyTreeCheckpointHandler:restore\u001b[39;49m\u001b[39m'\u001b[39;49m)\n\u001b[1;32m    570\u001b[0m \u001b[39mreturn\u001b[39;00m restored_item\n",
      "File \u001b[0;32m~/miniconda3/envs/cu11/lib/python3.8/site-packages/orbax/checkpoint/utils.py:57\u001b[0m, in \u001b[0;36msync_global_devices\u001b[0;34m(name)\u001b[0m\n\u001b[1;32m     55\u001b[0m \u001b[39mdef\u001b[39;00m \u001b[39msync_global_devices\u001b[39m(name: \u001b[39mstr\u001b[39m):\n\u001b[1;32m     56\u001b[0m \u001b[39m  \u001b[39m\u001b[39m\"\"\"Thin wrapper to provide additional features support.\"\"\"\u001b[39;00m\n\u001b[0;32m---> 57\u001b[0m   multihost_utils\u001b[39m.\u001b[39;49msync_global_devices(name)\n",
      "File \u001b[0;32m~/miniconda3/envs/cu11/lib/python3.8/site-packages/jax/experimental/multihost_utils.py:82\u001b[0m, in \u001b[0;36msync_global_devices\u001b[0;34m(name)\u001b[0m\n\u001b[1;32m     80\u001b[0m \u001b[39m\u001b[39m\u001b[39m\"\"\"Creates a barrier across all hosts/devices.\"\"\"\u001b[39;00m\n\u001b[1;32m     81\u001b[0m h \u001b[39m=\u001b[39m np\u001b[39m.\u001b[39muint32(zlib\u001b[39m.\u001b[39mcrc32(name\u001b[39m.\u001b[39mencode()))\n\u001b[0;32m---> 82\u001b[0m assert_equal(h, \u001b[39mf\u001b[39;49m\u001b[39m\"\u001b[39;49m\u001b[39msync_global_devices name mismatch (\u001b[39;49m\u001b[39m'\u001b[39;49m\u001b[39m{\u001b[39;49;00mname\u001b[39m}\u001b[39;49;00m\u001b[39m'\u001b[39;49m\u001b[39m)\u001b[39;49m\u001b[39m\"\u001b[39;49m)\n",
      "File \u001b[0;32m~/miniconda3/envs/cu11/lib/python3.8/site-packages/jax/experimental/multihost_utils.py:153\u001b[0m, in \u001b[0;36massert_equal\u001b[0;34m(in_tree, fail_message)\u001b[0m\n\u001b[1;32m    151\u001b[0m \u001b[39mdef\u001b[39;00m \u001b[39massert_equal\u001b[39m(in_tree, fail_message: \u001b[39mstr\u001b[39m \u001b[39m=\u001b[39m \u001b[39m'\u001b[39m\u001b[39m'\u001b[39m):\n\u001b[1;32m    152\u001b[0m \u001b[39m  \u001b[39m\u001b[39m\"\"\"Verifies that all the hosts have the same tree of values.\"\"\"\u001b[39;00m\n\u001b[0;32m--> 153\u001b[0m   expected \u001b[39m=\u001b[39m broadcast_one_to_all(in_tree)\n\u001b[1;32m    154\u001b[0m   \u001b[39mif\u001b[39;00m \u001b[39mnot\u001b[39;00m jax\u001b[39m.\u001b[39mtree_util\u001b[39m.\u001b[39mtree_all(\n\u001b[1;32m    155\u001b[0m       jax\u001b[39m.\u001b[39mtree_util\u001b[39m.\u001b[39mtree_map(\u001b[39mlambda\u001b[39;00m \u001b[39m*\u001b[39mx: np\u001b[39m.\u001b[39mall(np\u001b[39m.\u001b[39mequal(\u001b[39m*\u001b[39mx)), in_tree, expected)):\n\u001b[1;32m    156\u001b[0m     \u001b[39mraise\u001b[39;00m \u001b[39mAssertionError\u001b[39;00m(\n\u001b[1;32m    157\u001b[0m         \u001b[39mf\u001b[39m\u001b[39m'\u001b[39m\u001b[39m{\u001b[39;00mfail_message\u001b[39m}\u001b[39;00m\u001b[39m Expected: \u001b[39m\u001b[39m{\u001b[39;00mexpected\u001b[39m}\u001b[39;00m\u001b[39m; got: \u001b[39m\u001b[39m{\u001b[39;00min_tree\u001b[39m}\u001b[39;00m\u001b[39m.\u001b[39m\u001b[39m'\u001b[39m)\n",
      "File \u001b[0;32m~/miniconda3/envs/cu11/lib/python3.8/site-packages/jax/experimental/multihost_utils.py:75\u001b[0m, in \u001b[0;36mbroadcast_one_to_all\u001b[0;34m(in_tree, is_source)\u001b[0m\n\u001b[1;32m     72\u001b[0m   \u001b[39mreturn\u001b[39;00m jax\u001b[39m.\u001b[39mdevice_get(x)[\u001b[39m0\u001b[39m]\n\u001b[1;32m     74\u001b[0m in_tree \u001b[39m=\u001b[39m jax\u001b[39m.\u001b[39mtree_util\u001b[39m.\u001b[39mtree_map(pre_pmap, in_tree)\n\u001b[0;32m---> 75\u001b[0m in_tree \u001b[39m=\u001b[39m jax\u001b[39m.\u001b[39mdevice_get(_psum(in_tree))\n\u001b[1;32m     76\u001b[0m \u001b[39mreturn\u001b[39;00m jax\u001b[39m.\u001b[39mtree_util\u001b[39m.\u001b[39mtree_map(post_pmap, in_tree)\n",
      "    \u001b[0;31m[... skipping hidden 10 frame]\u001b[0m\n",
      "File \u001b[0;32m~/miniconda3/envs/cu11/lib/python3.8/site-packages/jax/_src/dispatch.py:471\u001b[0m, in \u001b[0;36mbackend_compile\u001b[0;34m(backend, built_c, options, host_callbacks)\u001b[0m\n\u001b[1;32m    466\u001b[0m   \u001b[39mreturn\u001b[39;00m backend\u001b[39m.\u001b[39mcompile(built_c, compile_options\u001b[39m=\u001b[39moptions,\n\u001b[1;32m    467\u001b[0m                          host_callbacks\u001b[39m=\u001b[39mhost_callbacks)\n\u001b[1;32m    468\u001b[0m \u001b[39m# Some backends don't have `host_callbacks` option yet\u001b[39;00m\n\u001b[1;32m    469\u001b[0m \u001b[39m# TODO(sharadmv): remove this fallback when all backends allow `compile`\u001b[39;00m\n\u001b[1;32m    470\u001b[0m \u001b[39m# to take in `host_callbacks`\u001b[39;00m\n\u001b[0;32m--> 471\u001b[0m \u001b[39mreturn\u001b[39;00m backend\u001b[39m.\u001b[39;49mcompile(built_c, compile_options\u001b[39m=\u001b[39;49moptions)\n",
      "\u001b[0;31mXlaRuntimeError\u001b[0m: FAILED_PRECONDITION: DNN library initialization failed. Look at the errors above for more details."
     ]
    }
   ],
   "source": [
    "# models \n",
    "orbax_checkpointer = orbax.checkpoint.PyTreeCheckpointer()\n",
    "restored_grasp = orbax_checkpointer.restore(\"model/grasp_net_prob_dist\")\n",
    "restored_manip = orbax_checkpointer.restore(\"model/manip_net\")\n",
    "\n",
    "#grasp net\n",
    "grasp_net = GraspNet(32)\n",
    "grasp_fn = lambda x: grasp_net.apply(restored_grasp[\"params\"], x)\n",
    "\n",
    "grasp_logit_fn = lambda g: grasp_fn(g)[0]\n",
    "grasp_dist_fn = lambda g: grasp_fn(g)[1]\n",
    "\n",
    "#manip net: input: wxyzxyz\n",
    "manip_net = ManipNet(64)\n",
    "zflip = SE3.from_rotation(SO3.from_z_radians(jnp.pi))\n",
    "def manip_fn(pose_like:Array, robot_pose:Array):\n",
    "    grasp_pose_world = SE3(pose_like).normalize()\n",
    "    grasp_pose_robot = SE3(robot_pose).inverse() @ grasp_pose_world\n",
    "    grasp_pose_robot_flip = grasp_pose_robot @ zflip\n",
    "    inputs = jnp.vstack([\n",
    "        grasp_pose_robot.parameters(), \n",
    "        grasp_pose_robot_flip.parameters() ])\n",
    "    return jax.vmap(manip_net.apply, (None, 0))(\n",
    "        restored_manip[\"params\"], inputs).flatten()"
   ]
  },
  {
   "cell_type": "code",
   "execution_count": 8,
   "metadata": {},
   "outputs": [],
   "source": [
    "#functions\n",
    "def grasp_reconst(grasp:Array):\n",
    "    rot = SO3(grasp_fn(grasp)[2:]).normalize()\n",
    "    trans = grasp/restored_grasp[\"scale_to_norm\"]\n",
    "    return SE3.from_rotation_and_translation(rot, trans)\n",
    "def grasp_embedding(grasp_point):\n",
    "    grasp = grasp_point * restored_grasp[\"scale_to_norm\"]\n",
    "    return grasp"
   ]
  },
  {
   "cell_type": "code",
   "execution_count": 9,
   "metadata": {},
   "outputs": [],
   "source": [
    "frame1 = Frame(world.vis, \"frame1\")\n",
    "frame2 = Frame(world.vis, \"frame2\")"
   ]
  },
  {
   "cell_type": "code",
   "execution_count": 10,
   "metadata": {},
   "outputs": [],
   "source": [
    "def show_grasps(pose_ho, grasp1, grasp2):\n",
    "    hand1.set_pose(SE3(pose_ho) @ grasp_reconst(grasp1))\n",
    "    hand2.set_pose(SE3(pose_ho) @ grasp_reconst(grasp2))    "
   ]
  },
  {
   "cell_type": "code",
   "execution_count": 11,
   "metadata": {},
   "outputs": [],
   "source": [
    "grasp1 = np.random.normal(size=3)*0.5\n",
    "grasp2 = np.random.normal(size=3)*0.5\n",
    "\n",
    "#show_grasps(obj_pose)"
   ]
  },
  {
   "cell_type": "code",
   "execution_count": 12,
   "metadata": {},
   "outputs": [],
   "source": [
    "pose_r1 = SE3.from_translation(jnp.array([0, -0.4, 0])).parameters()\n",
    "pose_r2 = SE3.from_translation(jnp.array([0, 0.4, 0])).parameters()\n",
    "frame1.set_pose(pose_r1)\n",
    "frame2.set_pose(pose_r2)"
   ]
  },
  {
   "cell_type": "code",
   "execution_count": 13,
   "metadata": {},
   "outputs": [],
   "source": [
    "pose_g1w = (obj_ho.pose @ grasp_reconst(grasp1)).parameters()\n",
    "pose_g2w = (obj_ho.pose @ grasp_reconst(grasp2)).parameters()"
   ]
  },
  {
   "cell_type": "code",
   "execution_count": 163,
   "metadata": {},
   "outputs": [],
   "source": [
    "def manip_constr(qtn_like, pos, g1, g2):\n",
    "    pose_ho = SE3(jnp.hstack([qtn_like, pos])).normalize()\n",
    "    pose_g1w = (pose_ho @ grasp_reconst(g1)).parameters()\n",
    "    pose_g2w = (pose_ho @ grasp_reconst(g2)).parameters()\n",
    "    return manip_fn(pose_g1w, pose_r1).max() + \\\n",
    "           manip_fn(pose_g2w, pose_r2).max()    \n",
    "jac_manip_constr = jax.grad(manip_constr, argnums=[0])"
   ]
  },
  {
   "cell_type": "code",
   "execution_count": 164,
   "metadata": {},
   "outputs": [],
   "source": [
    "def qtn_constr(qtn_like):\n",
    "    return jnp.sum(qtn_like**2) - 1\n",
    "jac_qtn_constr = jax.grad(qtn_constr, argnums=[0])"
   ]
  },
  {
   "cell_type": "code",
   "execution_count": 16,
   "metadata": {},
   "outputs": [],
   "source": [
    "def split_qtn_pos(pose):\n",
    "    wxyzxyz = pose.parameters()\n",
    "    return wxyzxyz[:4], wxyzxyz[-3:]"
   ]
  },
  {
   "cell_type": "code",
   "execution_count": 17,
   "metadata": {},
   "outputs": [],
   "source": [
    "qtn, pos = split_qtn_pos(obj_ho.pose)"
   ]
  },
  {
   "cell_type": "code",
   "execution_count": 165,
   "metadata": {},
   "outputs": [],
   "source": [
    "def hash_array(x: Union[Array, np.ndarray]):\n",
    "    return hash((x.shape, tuple(np.asarray(x).flat)))\n",
    "\n",
    "class VGWrapper:\n",
    "    def __init__(self, eval_fn:Callable):\n",
    "        self.grads = {}\n",
    "        self.eval_fn = eval_fn\n",
    "\n",
    "    def reset(self):\n",
    "        self.grads = {}\n",
    "\n",
    "    def get_value(self, x):\n",
    "        val, grad = self.eval_fn(x)\n",
    "        self.grads[hash_array(x)] = grad\n",
    "        return val\n",
    "    \n",
    "    def get_grad(self, x):\n",
    "        key = hash_array(x)\n",
    "        if key in self.grads:\n",
    "            return self.grads[key]\n",
    "        _, grad = self.eval_fn(x)\n",
    "        return grad"
   ]
  },
  {
   "cell_type": "code",
   "execution_count": 166,
   "metadata": {},
   "outputs": [],
   "source": [
    "class QtnOpt:\n",
    "    def __init__(self):\n",
    "        self.a = 1\n",
    "        bdr_qtn = SparseIPOPT()\n",
    "        bdr_qtn.add_variable(\"qtn_ho\", 4, -1., 1.)\n",
    "        bdr_qtn.add_parameter(\"pos\", 3)\n",
    "        bdr_qtn.add_parameter(\"grasp1\", 3)\n",
    "        bdr_qtn.add_parameter(\"grasp2\", 3)\n",
    "\n",
    "        bdr_qtn.register_fn(\"manip_qtn\", [4, 3, 3, 3], 1,\n",
    "            manip_constr, jac_manip_constr, jac_out_argnums=[0])\n",
    "        bdr_qtn.register_fn(\"qtn_constr\", [4], 1, qtn_constr, jac_qtn_constr)\n",
    "\n",
    "        bdr_qtn.set_objective(\"manip_qtn\", [\"qtn_ho\", \"pos\", \"grasp1\", \"grasp2\"])\n",
    "        bdr_qtn.set_constr(\"qtn_constr\", \"qtn_constr\", [\"qtn_ho\"], 0., 0.)\n",
    "        self.ipopt_qtn = bdr_qtn.build()\n",
    "        self.ipopt_qtn.add_option(\"acceptable_obj_change_tol\", 0.01)\n",
    "\n",
    "        def get_sensitivity(qtn_star, pos, grasp1, grasp2):\n",
    "            grad_x_fn = jax.jit(jax.grad(manip_constr, argnums=[1,2,3]))\n",
    "            grad_z_fn = jax.jit(jax.grad(manip_constr))\n",
    "            grad_zz_fn = jax.jit(jax.hessian(manip_constr))\n",
    "            grad_zx_fn = jax.jit(jax.jacfwd(grad_z_fn, argnums=[1,2,3]))\n",
    "\n",
    "            grad_x = jnp.hstack(grad_x_fn(qtn_star, pos, grasp1, grasp2))\n",
    "            grad_z = grad_z_fn(qtn_star, pos, grasp1, grasp2)\n",
    "            grad_zz = grad_zz_fn(qtn_star, pos, grasp1, grasp2)\n",
    "            grad_zx = jnp.hstack(grad_zx_fn(qtn_star, pos, grasp1, grasp2))\n",
    "            dzdx = jnp.linalg.solve(grad_zz, -grad_zx)\n",
    "            return grad_x, grad_z, dzdx\n",
    "        self.get_sensitivity_fn = jax.jit(get_sensitivity)\n",
    "    \n",
    "    def __call__(self, qtn, pos, grasp1, grasp2):\n",
    "        x0 = np.hstack([qtn, pos, grasp1, grasp2])\n",
    "        sol, _ = self.ipopt_qtn.solve(x0)\n",
    "        qtn_star = sol[:4]\n",
    "        \n",
    "        grad_x, grad_z, dzdx = self.get_sensitivity_fn(\n",
    "            qtn_star, pos, grasp1, grasp2)\n",
    "        manip = manip_constr(qtn_star, pos, grasp1, grasp2)\n",
    "        return qtn_star, grad_x + grad_z @ dzdx"
   ]
  },
  {
   "cell_type": "code",
   "execution_count": 167,
   "metadata": {},
   "outputs": [
    {
     "name": "stdout",
     "output_type": "stream",
     "text": [
      "compiling objective ...\n",
      "compiling gradient ...\n",
      "compiling constraints ...\n",
      "compiling jacobian ...\n",
      "oooo---------\n"
     ]
    }
   ],
   "source": [
    "qtn_opt = QtnOpt()"
   ]
  },
  {
   "cell_type": "code",
   "execution_count": 177,
   "metadata": {},
   "outputs": [],
   "source": [
    "pose_o0 = obj_start.pose.parameters()"
   ]
  },
  {
   "cell_type": "code",
   "execution_count": 175,
   "metadata": {},
   "outputs": [
    {
     "data": {
      "text/plain": [
       "SE3(wxyz=[1. 0. 0. 0.], xyz=[ 0.45       -0.39999998  0.30668998])"
      ]
     },
     "execution_count": 175,
     "metadata": {},
     "output_type": "execute_result"
    }
   ],
   "source": [
    "obj_start_pose = obj_start.pose.parameters()\n"
   ]
  },
  {
   "cell_type": "code",
   "execution_count": 187,
   "metadata": {},
   "outputs": [],
   "source": [
    "hand_pose_wrt_ee = SE3.from_translation(jnp.array([0,0,-0.105]))\n",
    "def get_hand_pc(grasp, obj_pose):\n",
    "    grasp_pose = grasp_reconst(grasp)\n",
    "    hand_base_pose_wrt_world = SE3(obj_pose) @ grasp_pose @ hand_pose_wrt_ee\n",
    "    assigned_hand_pc = jax.vmap(hand_base_pose_wrt_world.apply)(hand_pc)\n",
    "    return assigned_hand_pc"
   ]
  },
  {
   "cell_type": "code",
   "execution_count": 197,
   "metadata": {},
   "outputs": [],
   "source": [
    "def total_grasp_constr(grasp, obj_pose, robot_pose):\n",
    "    assigned_hand_pc = get_hand_pc(grasp, obj_pose)\n",
    "    grasp_pose_w = SE3(obj_pose) @ grasp_reconst(grasp)\n",
    "    logit = grasp_logit_fn(grasp)\n",
    "    manip = manip_fn(grasp_pose_w.parameters(), robot_pose).max()\n",
    "    min_dist = env.distances(assigned_hand_pc).min()\n",
    "    return jnp.hstack([logit, manip, min_dist])\n",
    "jac_total_grasp_constr = jax.jacfwd(total_grasp_constr)"
   ]
  },
  {
   "cell_type": "code",
   "execution_count": 198,
   "metadata": {},
   "outputs": [
    {
     "data": {
      "text/plain": [
       "Array([[ 1.0604657e+02, -1.4969180e+02,  1.2857162e+01],\n",
       "       [ 1.2652088e+00,  7.4033326e-01,  5.9606463e-02],\n",
       "       [ 9.6904531e-02,  6.4486697e-02,  2.1396719e-01]], dtype=float32)"
      ]
     },
     "execution_count": 198,
     "metadata": {},
     "output_type": "execute_result"
    }
   ],
   "source": [
    "jac_total_grasp_constr(grasp2, pose_o0, pose_r1)"
   ]
  },
  {
   "cell_type": "code",
   "execution_count": 193,
   "metadata": {},
   "outputs": [],
   "source": [
    "pc_hand = PointCloud(world.vis, \"hand_pc\", np.zeros((10,3)), 0.01, \"red\")"
   ]
  },
  {
   "cell_type": "code",
   "execution_count": 196,
   "metadata": {},
   "outputs": [],
   "source": [
    "assigned_hand_pc = get_hand_pc(grasp2, pose_o0)\n",
    "pc_hand.reload(points=assigned_hand_pc)"
   ]
  },
  {
   "cell_type": "code",
   "execution_count": 172,
   "metadata": {},
   "outputs": [
    {
     "data": {
      "text/plain": [
       "Array([ 177.14746   ,    0.27306747, -255.30017   ], dtype=float32)"
      ]
     },
     "execution_count": 172,
     "metadata": {},
     "output_type": "execute_result"
    }
   ],
   "source": [
    "jax.grad(grasp_logit_fn)(grasp1)"
   ]
  },
  {
   "cell_type": "code",
   "execution_count": 170,
   "metadata": {},
   "outputs": [
    {
     "name": "stdout",
     "output_type": "stream",
     "text": [
      "This is Ipopt version 3.14.10, running with linear solver MUMPS 5.2.1.\n",
      "\n",
      "Number of nonzeros in equality constraint Jacobian...:        4\n",
      "Number of nonzeros in inequality constraint Jacobian.:        0\n",
      "Number of nonzeros in Lagrangian Hessian.............:        0\n",
      "\n",
      "Total number of variables............................:       13\n",
      "                     variables with only lower bounds:        0\n",
      "                variables with lower and upper bounds:        4\n",
      "                     variables with only upper bounds:        0\n",
      "Total number of equality constraints.................:        1\n",
      "Total number of inequality constraints...............:        0\n",
      "        inequality constraints with only lower bounds:        0\n",
      "   inequality constraints with lower and upper bounds:        0\n",
      "        inequality constraints with only upper bounds:        0\n",
      "\n",
      "iter    objective    inf_pr   inf_du lg(mu)  ||d||  lg(rg) alpha_du alpha_pr  ls\n",
      "   0  7.7611899e-01 1.99e-02 9.32e-01   0.0 0.00e+00    -  0.00e+00 0.00e+00   0\n",
      "   1  8.3933508e-01 1.43e-02 8.32e-01  -0.9 3.11e-01    -  8.39e-01 1.00e+00F  1\n",
      "   2  5.7844055e-01 3.45e-02 7.64e-01  -1.3 1.53e-01    -  9.30e-01 1.00e+00f  1\n",
      "   3  4.7717667e-01 1.49e-01 1.04e+00  -2.4 7.17e-01    -  9.98e-01 5.00e-01f  2\n",
      "   4  4.6459359e-01 2.68e-02 5.43e-01  -1.3 1.50e-01    -  9.03e-01 1.00e+00h  1\n",
      "   5  7.2951931e-01 2.12e-02 2.06e+00  -2.0 2.17e-01    -  9.37e-01 1.00e+00H  1\n",
      "   6  6.7978251e-01 3.13e-01 1.20e+00  -2.0 4.95e-01    -  1.00e+00 1.00e+00f  1\n",
      "   7  5.9102094e-01 1.70e-01 1.86e+00  -2.2 3.53e-01    -  8.59e-01 1.00e+00h  1\n",
      "   8  5.3017849e-01 6.24e-02 7.13e-01  -2.2 1.98e-01    -  3.46e-01 1.00e+00f  1\n",
      "   9  4.6665043e-01 4.42e-02 4.30e-01  -2.2 1.40e-01    -  1.00e+00 1.00e+00h  1\n",
      "iter    objective    inf_pr   inf_du lg(mu)  ||d||  lg(rg) alpha_du alpha_pr  ls\n",
      "  10  4.6063924e-01 2.73e-03 3.09e-01  -2.2 3.54e-02    -  1.00e+00 1.00e+00h  1\n",
      "  11  4.5358393e-01 1.54e-03 4.96e-01  -3.2 3.36e-02    -  1.00e+00 1.00e+00h  1\n",
      "\n",
      "Number of Iterations....: 11\n",
      "\n",
      "                                   (scaled)                 (unscaled)\n",
      "Objective...............:   4.5358392596244812e-01    4.5358392596244812e-01\n",
      "Dual infeasibility......:   4.9640893629215926e-01    4.9640893629215926e-01\n",
      "Constraint violation....:   1.5387535095214844e-03    1.5387535095214844e-03\n",
      "Variable bound violation:   0.0000000000000000e+00    0.0000000000000000e+00\n",
      "Complementarity.........:   8.4144491166895160e-04    8.4144491166895160e-04\n",
      "Overall NLP error.......:   4.9640893629215926e-01    4.9640893629215926e-01\n",
      "\n",
      "\n",
      "Number of objective function evaluations             = 16\n",
      "Number of objective gradient evaluations             = 12\n",
      "Number of equality constraint evaluations            = 16\n",
      "Number of inequality constraint evaluations          = 0\n",
      "Number of equality constraint Jacobian evaluations   = 12\n",
      "Number of inequality constraint Jacobian evaluations = 0\n",
      "Number of Lagrangian Hessian evaluations             = 0\n",
      "Total seconds in IPOPT                               = 0.024\n",
      "\n",
      "EXIT: Solved To Acceptable Level.\n"
     ]
    },
    {
     "data": {
      "text/plain": [
       "(array([ 0.90431294,  0.08678928, -0.33545722,  0.25237443]),\n",
       " Array([ 1.7293658 ,  0.88006276,  1.3888981 ,  0.49285924, -0.24766336,\n",
       "        -0.46177542,  0.4950693 ,  0.19820543,  0.3275724 ], dtype=float32))"
      ]
     },
     "execution_count": 170,
     "metadata": {},
     "output_type": "execute_result"
    }
   ],
   "source": [
    "qtn_opt(qtn, pos, grasp1, grasp2)"
   ]
  },
  {
   "cell_type": "code",
   "execution_count": null,
   "metadata": {},
   "outputs": [],
   "source": [
    "hess_fn = jax.hessian(manip_constr)\n",
    "def grad_tx_fn(qtn_star, pos, grasp1, grasp2):\n",
    "    fn = jax.jacfwd(jax.jacfwd(manip_constr), argnums=[1,2,3])\n",
    "    return jnp.hstack(fn(qtn_star, pos, grasp1, grasp2))"
   ]
  },
  {
   "cell_type": "code",
   "execution_count": null,
   "metadata": {},
   "outputs": [],
   "source": [
    "hess_zz = hess_fn(qtn_star, pos, grasp1, grasp2)\n",
    "jac_zx = grad_tx_fn(qtn_star, pos, grasp1, grasp2)\n",
    "dzdx = jnp.linalg.solve(hess_zz, -jac_zx)\n",
    "x_total_deriv = xgrads + zgrad @ dzdx"
   ]
  },
  {
   "cell_type": "code",
   "execution_count": null,
   "metadata": {},
   "outputs": [],
   "source": [
    "xgrads = jax.grad(manip_constr, argnums=[1,2,3])(qtn_star, pos, grasp1, grasp2)\n",
    "xgrads = jnp.hstack(xgrads)\n",
    "zgrad = jax.grad(manip_constr, argnums=0)(qtn_star, pos, grasp1, grasp2)"
   ]
  },
  {
   "cell_type": "code",
   "execution_count": 130,
   "metadata": {},
   "outputs": [],
   "source": [
    "qtn_opt = QtnOpt()"
   ]
  },
  {
   "cell_type": "code",
   "execution_count": 132,
   "metadata": {},
   "outputs": [
    {
     "name": "stdout",
     "output_type": "stream",
     "text": [
      "1\n"
     ]
    }
   ],
   "source": [
    "qtn_opt(3.)"
   ]
  },
  {
   "cell_type": "code",
   "execution_count": 18,
   "metadata": {},
   "outputs": [],
   "source": [
    "\n",
    "\n",
    "qtn_sol, info = ipopt_qtn.solve(x0)"
   ]
  },
  {
   "cell_type": "code",
   "execution_count": 119,
   "metadata": {},
   "outputs": [],
   "source": [
    "vg_grasp_logit_fn = jax.value_and_grad(grasp_logit_fn)\n",
    "grasp_logit_fn_ = FnValueAndJac(vg_grasp_logit_fn)"
   ]
  },
  {
   "cell_type": "code",
   "execution_count": 124,
   "metadata": {},
   "outputs": [],
   "source": [
    "x = np.zeros(3)"
   ]
  },
  {
   "cell_type": "code",
   "execution_count": 26,
   "metadata": {},
   "outputs": [],
   "source": [
    "qtn = bdr_qtn.split_solution(qtn_sol)['qtn_ho']\n",
    "pos = bdr_qtn.split_solution(qtn_sol)['pos']"
   ]
  },
  {
   "cell_type": "code",
   "execution_count": 37,
   "metadata": {},
   "outputs": [],
   "source": [
    "show_grasps(jnp.hstack([qtn_sol[:4], pos]), grasp1, grasp2)\n",
    "obj_ho.set_pose(SE3(jnp.hstack([qtn_sol[:4], pos])))"
   ]
  },
  {
   "cell_type": "code",
   "execution_count": 36,
   "metadata": {},
   "outputs": [
    {
     "name": "stdout",
     "output_type": "stream",
     "text": [
      "This is Ipopt version 3.14.10, running with linear solver MUMPS 5.2.1.\n",
      "\n",
      "Number of nonzeros in equality constraint Jacobian...:        4\n",
      "Number of nonzeros in inequality constraint Jacobian.:        0\n",
      "Number of nonzeros in Lagrangian Hessian.............:        0\n",
      "\n",
      "Total number of variables............................:       13\n",
      "                     variables with only lower bounds:        0\n",
      "                variables with lower and upper bounds:        4\n",
      "                     variables with only upper bounds:        0\n",
      "Total number of equality constraints.................:        1\n",
      "Total number of inequality constraints...............:        0\n",
      "        inequality constraints with only lower bounds:        0\n",
      "   inequality constraints with lower and upper bounds:        0\n",
      "        inequality constraints with only upper bounds:        0\n",
      "\n",
      "iter    objective    inf_pr   inf_du lg(mu)  ||d||  lg(rg) alpha_du alpha_pr  ls\n",
      "   0  7.7611899e-01 1.99e-02 9.32e-01   0.0 0.00e+00    -  0.00e+00 0.00e+00   0\n",
      "   1  8.3933508e-01 1.43e-02 8.32e-01  -0.9 3.11e-01    -  8.39e-01 1.00e+00F  1\n",
      "   2  5.7844055e-01 3.45e-02 7.64e-01  -1.3 1.53e-01    -  9.30e-01 1.00e+00f  1\n",
      "   3  4.7717667e-01 1.49e-01 1.04e+00  -2.4 7.17e-01    -  9.98e-01 5.00e-01f  2\n",
      "   4  4.6459359e-01 2.68e-02 5.43e-01  -1.3 1.50e-01    -  9.03e-01 1.00e+00h  1\n",
      "   5  7.2951931e-01 2.12e-02 2.06e+00  -2.0 2.17e-01    -  9.37e-01 1.00e+00H  1\n",
      "   6  6.7978251e-01 3.13e-01 1.20e+00  -2.0 4.95e-01    -  1.00e+00 1.00e+00f  1\n",
      "   7  5.9102094e-01 1.70e-01 1.86e+00  -2.2 3.53e-01    -  8.59e-01 1.00e+00h  1\n",
      "   8  5.3017849e-01 6.24e-02 7.13e-01  -2.2 1.98e-01    -  3.46e-01 1.00e+00f  1\n",
      "   9  4.6665043e-01 4.42e-02 4.30e-01  -2.2 1.40e-01    -  1.00e+00 1.00e+00h  1\n",
      "iter    objective    inf_pr   inf_du lg(mu)  ||d||  lg(rg) alpha_du alpha_pr  ls\n",
      "  10  4.6063924e-01 2.73e-03 3.09e-01  -2.2 3.54e-02    -  1.00e+00 1.00e+00h  1\n",
      "  11  4.5358393e-01 1.54e-03 4.96e-01  -3.2 3.36e-02    -  1.00e+00 1.00e+00h  1\n",
      "\n",
      "Number of Iterations....: 11\n",
      "\n",
      "                                   (scaled)                 (unscaled)\n",
      "Objective...............:   4.5358392596244812e-01    4.5358392596244812e-01\n",
      "Dual infeasibility......:   4.9640893629215926e-01    4.9640893629215926e-01\n",
      "Constraint violation....:   1.5387535095214844e-03    1.5387535095214844e-03\n",
      "Variable bound violation:   0.0000000000000000e+00    0.0000000000000000e+00\n",
      "Complementarity.........:   8.4144491166895160e-04    8.4144491166895160e-04\n",
      "Overall NLP error.......:   4.9640893629215926e-01    4.9640893629215926e-01\n",
      "\n",
      "\n",
      "Number of objective function evaluations             = 16\n",
      "Number of objective gradient evaluations             = 12\n",
      "Number of equality constraint evaluations            = 16\n",
      "Number of inequality constraint evaluations          = 0\n",
      "Number of equality constraint Jacobian evaluations   = 12\n",
      "Number of inequality constraint Jacobian evaluations = 0\n",
      "Number of Lagrangian Hessian evaluations             = 0\n",
      "Total seconds in IPOPT                               = 0.028\n",
      "\n",
      "EXIT: Solved To Acceptable Level.\n"
     ]
    }
   ],
   "source": [
    "qtn = SO3.identity().parameters() # qtn_sol[:4]\n",
    "pos = obj_ho.pose.parameters()[-3:] + np.array([0., -0.01, 0])\n",
    "x0 = np.hstack([qtn, pos, grasp1, grasp2])\n"
   ]
  },
  {
   "cell_type": "code",
   "execution_count": 33,
   "metadata": {},
   "outputs": [],
   "source": [
    "qtn_star = qtn_sol[:4]"
   ]
  },
  {
   "cell_type": "code",
   "execution_count": 38,
   "metadata": {},
   "outputs": [],
   "source": [
    "xgrads = jax.grad(manip_constr, argnums=[1,2,3])(qtn_star, pos, grasp1, grasp2)\n",
    "xgrads = jnp.hstack(xgrads)\n",
    "zgrad = jax.grad(manip_constr, argnums=0)(qtn_star, pos, grasp1, grasp2)"
   ]
  },
  {
   "cell_type": "code",
   "execution_count": 48,
   "metadata": {},
   "outputs": [],
   "source": [
    "hess_fn = jax.hessian(manip_constr)\n",
    "def grad_tx_fn(qtn_star, pos, grasp1, grasp2):\n",
    "    fn = jax.jacfwd(jax.jacfwd(manip_constr), argnums=[1,2,3])\n",
    "    return jnp.hstack(fn(qtn_star, pos, grasp1, grasp2))"
   ]
  },
  {
   "cell_type": "code",
   "execution_count": 83,
   "metadata": {},
   "outputs": [],
   "source": [
    "hess_zz = hess_fn(qtn_star, pos, grasp1, grasp2)\n",
    "jac_zx = grad_tx_fn(qtn_star, pos, grasp1, grasp2)\n",
    "dzdx = jnp.linalg.solve(hess_zz, -jac_zx)\n",
    "x_total_deriv = xgrads + zgrad @ dzdx"
   ]
  },
  {
   "cell_type": "code",
   "execution_count": 86,
   "metadata": {},
   "outputs": [],
   "source": [
    "x_total_deriv = xgrads + zgrad @ dzdx"
   ]
  },
  {
   "cell_type": "code",
   "execution_count": 79,
   "metadata": {},
   "outputs": [
    {
     "data": {
      "text/plain": [
       "Array([-3.4831464e-07, -4.0116720e-07, -1.6950071e-07, -1.4435500e-07,\n",
       "       -1.2572855e-08, -3.8184226e-08,  1.8626451e-07, -9.5926225e-08,\n",
       "       -2.0256266e-08], dtype=float32)"
      ]
     },
     "execution_count": 79,
     "metadata": {},
     "output_type": "execute_result"
    }
   ],
   "source": []
  },
  {
   "cell_type": "code",
   "execution_count": 55,
   "metadata": {},
   "outputs": [
    {
     "data": {
      "text/plain": [
       "(4, 9)"
      ]
     },
     "execution_count": 55,
     "metadata": {},
     "output_type": "execute_result"
    }
   ],
   "source": [
    "jac_zx.shape"
   ]
  }
 ],
 "metadata": {
  "kernelspec": {
   "display_name": "cu11",
   "language": "python",
   "name": "python3"
  },
  "language_info": {
   "codemirror_mode": {
    "name": "ipython",
    "version": 3
   },
   "file_extension": ".py",
   "mimetype": "text/x-python",
   "name": "python",
   "nbconvert_exporter": "python",
   "pygments_lexer": "ipython3",
   "version": "3.8.16"
  },
  "orig_nbformat": 4
 },
 "nbformat": 4,
 "nbformat_minor": 2
}
