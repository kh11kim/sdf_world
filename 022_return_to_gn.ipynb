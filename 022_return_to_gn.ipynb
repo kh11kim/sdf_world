{
 "cells": [
  {
   "cell_type": "code",
   "execution_count": 2,
   "metadata": {},
   "outputs": [],
   "source": [
    "import numpy as np\n",
    "import jax\n",
    "import jax.numpy as jnp\n",
    "from jaxlie import SE3, SO3\n",
    "import jax_dataclasses as jdc\n",
    "from functools import partial\n",
    "\n",
    "from sdf_world.sdf_world import *\n",
    "from sdf_world.robots import *\n",
    "from sdf_world.util import *"
   ]
  },
  {
   "cell_type": "code",
   "execution_count": 3,
   "metadata": {},
   "outputs": [
    {
     "name": "stdout",
     "output_type": "stream",
     "text": [
      "You can open the visualizer by visiting the following URL:\n",
      "http://127.0.0.1:7008/static/\n"
     ]
    }
   ],
   "source": [
    "world = SDFWorld()"
   ]
  },
  {
   "cell_type": "code",
   "execution_count": 7,
   "metadata": {},
   "outputs": [],
   "source": [
    "#load object\n",
    "from flax import linen as nn\n",
    "from flax.training import orbax_utils\n",
    "import orbax\n",
    "import pickle\n",
    "\n",
    "class GraspNet(nn.Module):\n",
    "    hidden_dim: int\n",
    "    @nn.compact\n",
    "    def __call__(self, x):\n",
    "        x = nn.Dense(features=self.hidden_dim)(x)\n",
    "        x = nn.relu(x)\n",
    "        x = nn.Dense(features=self.hidden_dim)(x)\n",
    "        x = nn.relu(x)\n",
    "        x = nn.Dense(features=self.hidden_dim)(x)\n",
    "        x = nn.relu(x)\n",
    "        logit = nn.Dense(features=5)(x)\n",
    "        return logit\n",
    "\n",
    "orbax_checkpointer = orbax.checkpoint.PyTreeCheckpointer()\n",
    "raw_restored = orbax_checkpointer.restore(\"model/grasp_net\")\n",
    "params = raw_restored[\"params\"]\n",
    "grasp_net = GraspNet(raw_restored[\"hidden_dim\"])\n",
    "grasp_fn = lambda x: grasp_net.apply(params, x)\n",
    "\n",
    "with open(\"./sdf_world/assets/object\"+'/info.pkl', 'rb') as f:\n",
    "    obj_data = pickle.load(f)\n",
    "scale_to_norm = obj_data[\"scale_to_norm\"]\n",
    "def grasp_reconst(g:Array):\n",
    "    rot = SO3(grasp_fn(g)[1:5]).normalize()\n",
    "    trans = g/scale_to_norm\n",
    "    return SE3.from_rotation_and_translation(rot, trans)\n",
    "grasp_logit_fn = lambda g: grasp_fn(g)[0]"
   ]
  },
  {
   "cell_type": "code",
   "execution_count": 5,
   "metadata": {},
   "outputs": [],
   "source": [
    "obj_start = Mesh(world.vis, \"obj_start\", \"./sdf_world/assets/object/mesh.obj\",\n",
    "                 alpha=0.5)\n",
    "frame = Frame(world.vis, \"grasp_pose\")\n",
    "d, w, h = obj_start.mesh.bounding_box.primitive.extents"
   ]
  },
  {
   "cell_type": "code",
   "execution_count": 512,
   "metadata": {},
   "outputs": [],
   "source": [
    "panda_model = RobotModel(PANDA_URDF, PANDA_PACKAGE)\n",
    "panda = Robot(world.vis, \"panda\", panda_model, alpha=0.5)\n",
    "panda.reduce_dim([7, 8], [0.04, 0.04])"
   ]
  },
  {
   "cell_type": "code",
   "execution_count": 514,
   "metadata": {},
   "outputs": [],
   "source": [
    "# Kinematics\n",
    "def get_rotvec_angvel_map(v):\n",
    "    def skew(v):\n",
    "        v1, v2, v3 = v\n",
    "        return jnp.array([[0, -v3, v2],\n",
    "                        [v3, 0., -v1],\n",
    "                        [-v2, v1, 0.]])\n",
    "    vmag = jnp.linalg.norm(v)\n",
    "    vskew = skew(v)\n",
    "    return jnp.eye(3) \\\n",
    "        - 1/2*skew(v) \\\n",
    "        + vskew@vskew * 1/vmag**2 * (1-vmag/2 * jnp.sin(vmag)/(1-jnp.cos(vmag)))\n",
    "\n",
    "@jax.jit\n",
    "def get_ee_fk_jac(q):\n",
    "    # outputs ee_posevec and analytical jacobian\n",
    "    fks = panda_model.fk_fn(q)\n",
    "    p_ee = fks[-1][-3:]\n",
    "    rotvec_ee = SO3(fks[-1][:4]).log()\n",
    "    E = get_rotvec_angvel_map(rotvec_ee)\n",
    "    jac = []\n",
    "    for posevec in fks[1:8]:\n",
    "        p_frame = posevec[-3:]\n",
    "        rot_axis = SE3(posevec).as_matrix()[:3, 2]\n",
    "        lin_vel = jnp.cross(rot_axis, p_ee - p_frame)\n",
    "        jac.append(jnp.hstack([lin_vel, rot_axis]))\n",
    "    jac = jnp.array(jac).T\n",
    "    jac = jac.at[3:, :].set(E @ jac[3:, :])\n",
    "    return jnp.hstack([p_ee, rotvec_ee]), jac\n",
    "\n",
    "def to_posevec(pose:SE3):\n",
    "    return jnp.hstack([pose.translation(), pose.rotation().log()])"
   ]
  },
  {
   "cell_type": "code",
   "execution_count": 504,
   "metadata": {},
   "outputs": [],
   "source": [
    "obj_start.set_translate([0.5,0, h/2])"
   ]
  },
  {
   "cell_type": "code",
   "execution_count": 1257,
   "metadata": {},
   "outputs": [],
   "source": [
    "@jdc.pytree_dataclass\n",
    "class Residual:\n",
    "    coordinate: Array\n",
    "    residual_and_jac_fn: Callable\n",
    "    weight: Array\n",
    "\n",
    "@jdc.pytree_dataclass\n",
    "class Param:\n",
    "    obj_pose: SE3\n",
    "    pose_goal: SE3"
   ]
  },
  {
   "cell_type": "code",
   "execution_count": 784,
   "metadata": {},
   "outputs": [],
   "source": [
    "x = jnp.hstack([jnp.array([-0.,-2.,0.]), panda.neutral])\n",
    "param = Param(obj_start.pose)"
   ]
  },
  {
   "cell_type": "code",
   "execution_count": 829,
   "metadata": {},
   "outputs": [],
   "source": [
    "def value_and_jacrev(x, state, f):\n",
    "    y, pullback = jax.vjp(f, x, state)\n",
    "    basis = jnp.eye(y.size, dtype=y.dtype)\n",
    "    jac = jax.vmap(pullback)(basis)\n",
    "    return y, jac[0]"
   ]
  },
  {
   "cell_type": "code",
   "execution_count": 830,
   "metadata": {},
   "outputs": [],
   "source": [
    "grasp_residual_fn = lambda x, param: jnp.array([1. - grasp_logit_fn(x)])\n",
    "vg_grasp_residual_fn = jax.jit(partial(value_and_jacrev, f=grasp_residual_fn))\n",
    "grasp_feature = Residual(\n",
    "    jnp.array([0, 1, 2]),\n",
    "    vg_grasp_residual_fn,\n",
    "    jnp.array(1.)\n",
    ")"
   ]
  },
  {
   "cell_type": "code",
   "execution_count": 1259,
   "metadata": {},
   "outputs": [],
   "source": [
    "def vg_kin_residual_fn(x, param:Param):\n",
    "    def grasp_fk(grasp, param:Param):\n",
    "        grasp_pose = param.obj_pose @ grasp_reconst(grasp)\n",
    "        return to_posevec(grasp_pose)\n",
    "    grasp, q = x[:3], x[3:]\n",
    "    grasp_posevec, grasp_jac = value_and_jacrev(grasp, param, grasp_fk)\n",
    "    ee_posevec, ee_jac = get_ee_fk_jac(q)\n",
    "    residual = grasp_posevec - ee_posevec\n",
    "    jac = jnp.hstack([grasp_jac, ee_jac])\n",
    "    return residual, jac\n",
    "\n",
    "kin_feature = Residual(\n",
    "    jnp.arange(10),\n",
    "    vg_kin_residual_fn,\n",
    "    jnp.array([1, 1, 1, 0.3, 0.3, 0.3])\n",
    ")\n",
    "\n",
    "def vg_fk_residual_fn(x, param:Param):\n",
    "    ee_posevec, ee_jac = get_ee_fk_jac(x)\n",
    "    residual = to_posevec(param.pose_goal) - ee_posevec\n",
    "    jac = - ee_jac\n",
    "    return residual, jac\n",
    "fk_feature = Residual(\n",
    "    jnp.arange(7),\n",
    "    vg_fk_residual_fn,\n",
    "    jnp.array([1, 1, 1, 0.3, 0.3, 0.3])\n",
    ")"
   ]
  },
  {
   "cell_type": "code",
   "execution_count": 1427,
   "metadata": {},
   "outputs": [],
   "source": [
    "def get_value_jacs(x, param, features:List[Residual]):\n",
    "    residuals, jacs = [], []\n",
    "    for feature in features:\n",
    "        input = x[feature.coordinate]\n",
    "        residual, jac = feature.residual_and_jac_fn(input, param)\n",
    "        jac_full = jnp.zeros((len(residual), len(x)))\n",
    "        jac_full = jac_full.at[:,feature.coordinate].set(jac)\n",
    "        residuals.append(residual)\n",
    "        jacs.append(jac_full)\n",
    "    return jnp.hstack(residuals), jnp.vstack(jacs)\n",
    "\n",
    "def calculate_step(residual, jac, weights):\n",
    "    grad = jac.T@jnp.diag(weights)@residual\n",
    "    hess_true = jac.T@jnp.diag(weights)@jac\n",
    "    try:\n",
    "        np.linalg.cholesky(hess_true)\n",
    "        hess = hess_true\n",
    "        print(\"hess\")\n",
    "    except:\n",
    "        min_eig = -jnp.linalg.eigh(hess_true)[0][0]\n",
    "        min_eig = jnp.maximum(min_eig, 1e-4)\n",
    "        hess = hess_true + jnp.eye(len(x)) * min_eig * 1.1\n",
    "        print(\"mod_hess\")\n",
    "    p = np.linalg.solve(hess, -grad)\n",
    "    return p"
   ]
  },
  {
   "cell_type": "code",
   "execution_count": 1428,
   "metadata": {},
   "outputs": [],
   "source": [
    "x = panda.neutral\n",
    "param = Param(obj_start.pose, frame.pose)\n",
    "weight_mat = jnp.array([1, 1, 1, 0.3, 0.3, 0.3])"
   ]
  },
  {
   "cell_type": "code",
   "execution_count": 1484,
   "metadata": {},
   "outputs": [
    {
     "name": "stdout",
     "output_type": "stream",
     "text": [
      "mod_hess\n"
     ]
    },
    {
     "ename": "",
     "evalue": "",
     "output_type": "error",
     "traceback": [
      "\u001b[1;31mThe Kernel crashed while executing code in the the current cell or a previous cell. Please review the code in the cell(s) to identify a possible cause of the failure. Click <a href='https://aka.ms/vscodeJupyterKernelCrash'>here</a> for more info. View Jupyter <a href='command:jupyter.viewOutput'>log</a> for further details."
     ]
    }
   ],
   "source": [
    "residual, jac = get_value_jacs(x, param, [fk_feature])\n",
    "p = calculate_step(residual, jac, weight_mat)\n",
    "x = x + p*0.1\n",
    "\n",
    "#frame.set_pose(grasp_fk(x[:3], param))\n",
    "panda.set_joint_angles(x)"
   ]
  },
  {
   "cell_type": "code",
   "execution_count": null,
   "metadata": {},
   "outputs": [],
   "source": []
  },
  {
   "cell_type": "code",
   "execution_count": null,
   "metadata": {},
   "outputs": [],
   "source": []
  },
  {
   "cell_type": "code",
   "execution_count": null,
   "metadata": {},
   "outputs": [],
   "source": []
  },
  {
   "cell_type": "code",
   "execution_count": 864,
   "metadata": {},
   "outputs": [],
   "source": [
    "features = [grasp_feature, kin_feature]\n",
    "residuals = []\n",
    "jacs = []\n",
    "for feature in features:\n",
    "    residual, jac = get_value_jac(x, param, feature)\n",
    "    residuals.append(residual)\n",
    "    jacs.append(jac)\n",
    "residual = jnp.hstack(residuals)\n",
    "jac = jnp.vstack(jacs).shape"
   ]
  },
  {
   "cell_type": "code",
   "execution_count": 1057,
   "metadata": {},
   "outputs": [],
   "source": [
    "x = jnp.hstack([jnp.ones(3), panda.neutral])"
   ]
  },
  {
   "cell_type": "code",
   "execution_count": 1054,
   "metadata": {},
   "outputs": [],
   "source": [
    "def grasp_fk(grasp, param:Param):\n",
    "    grasp_pose = param.obj_pose @ grasp_reconst(grasp)\n",
    "    return grasp_pose\n",
    "frame.set_pose(grasp_fk(x[:3], param))\n",
    "panda.set_joint_angles(x[3:])"
   ]
  },
  {
   "cell_type": "code",
   "execution_count": 887,
   "metadata": {},
   "outputs": [],
   "source": [
    "features = [grasp_feature, kin_feature]\n",
    "residuals = []\n",
    "jacs = []\n",
    "for feature in features:\n",
    "    residual, jac = get_value_jac(x, param, feature)\n",
    "    residuals.append(residual)\n",
    "    jacs.append(jac)\n",
    "residual = jnp.hstack(residuals)\n",
    "jac = jnp.vstack(jacs)"
   ]
  },
  {
   "cell_type": "code",
   "execution_count": null,
   "metadata": {},
   "outputs": [],
   "source": []
  },
  {
   "cell_type": "code",
   "execution_count": 1117,
   "metadata": {},
   "outputs": [
    {
     "name": "stdout",
     "output_type": "stream",
     "text": [
      "mod_hess\n"
     ]
    }
   ],
   "source": [
    "weight_mat = jnp.diag(jnp.array([1, 1, 1, 0.3, 0.3, 0.3, 1.]))\n",
    "features = [grasp_feature, kin_feature]\n",
    "residuals = []\n",
    "jacs = []\n",
    "for feature in features:\n",
    "    residual, jac = get_value_jac(x, param, feature)\n",
    "    residuals.append(residual)\n",
    "    jacs.append(jac)\n",
    "residual = jnp.hstack(residuals)\n",
    "jac = jnp.vstack(jacs)\n",
    "\n",
    "grad = - jac.T@weight_mat@residual\n",
    "hess_true = jac.T@weight_mat@jac\n",
    "\n",
    "try:\n",
    "    np.linalg.cholesky(hess_true)\n",
    "    hess = hess_true\n",
    "    print(\"hess\")\n",
    "except:\n",
    "    min_eig = -jnp.linalg.eigh(hess_true)[0][0]\n",
    "    min_eig = jnp.maximum(min_eig, 1e-4)\n",
    "    hess = hess_true + jnp.eye(len(x)) * min_eig * 1.1\n",
    "    print(\"mod_hess\")\n",
    "p = np.linalg.solve(hess, -grad)\n",
    "x = x + p*0.01\n",
    "\n",
    "frame.set_pose(grasp_fk(x[:3], param))\n",
    "panda.set_joint_angles(x[3:])"
   ]
  },
  {
   "cell_type": "code",
   "execution_count": 761,
   "metadata": {},
   "outputs": [],
   "source": [
    "grasp_fk_fn = lambda x:to_posevec(obj_start.pose@grasp_reconst(x))"
   ]
  },
  {
   "cell_type": "code",
   "execution_count": null,
   "metadata": {},
   "outputs": [],
   "source": []
  },
  {
   "cell_type": "code",
   "execution_count": null,
   "metadata": {},
   "outputs": [],
   "source": []
  },
  {
   "cell_type": "code",
   "execution_count": 1164,
   "metadata": {},
   "outputs": [],
   "source": [
    "x = panda.neutral"
   ]
  },
  {
   "cell_type": "code",
   "execution_count": 1252,
   "metadata": {},
   "outputs": [],
   "source": [
    "grasp = jnp.array([0,0,1])"
   ]
  },
  {
   "cell_type": "code",
   "execution_count": 1249,
   "metadata": {},
   "outputs": [],
   "source": [
    "grasp_pose = grasp_fk(grasp, param)\n",
    "frame.set_pose(grasp_pose)"
   ]
  },
  {
   "cell_type": "code",
   "execution_count": 1256,
   "metadata": {},
   "outputs": [
    {
     "data": {
      "text/plain": [
       "Array([0, 1, 2, 3, 4, 5, 6, 7, 8, 9], dtype=int32)"
      ]
     },
     "execution_count": 1256,
     "metadata": {},
     "output_type": "execute_result"
    }
   ],
   "source": [
    "kin_feature.coordinate"
   ]
  },
  {
   "cell_type": "code",
   "execution_count": 1253,
   "metadata": {},
   "outputs": [
    {
     "ename": "IndexError",
     "evalue": "index 7 is out of bounds for axis 0 with size 7",
     "output_type": "error",
     "traceback": [
      "\u001b[0;31m---------------------------------------------------------------------------\u001b[0m",
      "\u001b[0;31mIndexError\u001b[0m                                Traceback (most recent call last)",
      "Cell \u001b[0;32mIn[1253], line 4\u001b[0m\n\u001b[1;32m      2\u001b[0m ee, jac \u001b[39m=\u001b[39m get_ee_fk_jac(x)\n\u001b[1;32m      3\u001b[0m residual \u001b[39m=\u001b[39m to_posevec(grasp_pose) \u001b[39m-\u001b[39m ee\n\u001b[0;32m----> 4\u001b[0m residual, jac \u001b[39m=\u001b[39m get_value_jac(x, param, kin_feature)\n\u001b[1;32m      6\u001b[0m grad \u001b[39m=\u001b[39m \u001b[39m-\u001b[39m jac\u001b[39m.\u001b[39mT\u001b[39m@weight_mat\u001b[39m\u001b[39m@residual\u001b[39m \n\u001b[1;32m      7\u001b[0m hess_true \u001b[39m=\u001b[39m jac\u001b[39m.\u001b[39mT\u001b[39m@weight_mat\u001b[39m\u001b[39m@jac\u001b[39m\n",
      "Cell \u001b[0;32mIn[833], line 2\u001b[0m, in \u001b[0;36mget_value_jac\u001b[0;34m(x, param, feature)\u001b[0m\n\u001b[1;32m      1\u001b[0m \u001b[39mdef\u001b[39;00m \u001b[39mget_value_jac\u001b[39m(x, param, feature:Residual):\n\u001b[0;32m----> 2\u001b[0m     \u001b[39minput\u001b[39m \u001b[39m=\u001b[39m x[feature\u001b[39m.\u001b[39;49mcoordinate]\n\u001b[1;32m      3\u001b[0m     residual, jac \u001b[39m=\u001b[39m feature\u001b[39m.\u001b[39mresidual_and_jac_fn(\u001b[39minput\u001b[39m, param)\n\u001b[1;32m      4\u001b[0m     jac_full \u001b[39m=\u001b[39m jnp\u001b[39m.\u001b[39mzeros((\u001b[39mlen\u001b[39m(residual), \u001b[39mlen\u001b[39m(x)))\n",
      "\u001b[0;31mIndexError\u001b[0m: index 7 is out of bounds for axis 0 with size 7"
     ]
    }
   ],
   "source": [
    "weight_mat = jnp.diag(jnp.array([1, 1, 1, 0.3, 0.3, 0.3]))\n",
    "# ee, jac = get_ee_fk_jac(x)\n",
    "# residual = to_posevec(grasp_pose) - ee\n",
    "residual, jac = get_value_jac(x, param, kin_feature)\n",
    "\n",
    "grad = - jac.T@weight_mat@residual \n",
    "hess_true = jac.T@weight_mat@jac\n",
    "\n",
    "try:\n",
    "    np.linalg.cholesky(hess_true)\n",
    "    hess = hess_true\n",
    "    print(\"hess\")\n",
    "except:\n",
    "    min_eig = -jnp.linalg.eigh(hess_true)[0][0]\n",
    "    min_eig = jnp.maximum(min_eig, 1e-4)\n",
    "    hess = hess_true + jnp.eye(7) * min_eig * 1.1\n",
    "    print(\"mod_hess\")\n",
    "p = np.linalg.solve(hess, -grad)\n",
    "x = x + p*0.1\n",
    "\n",
    "panda.set_joint_angles(x)"
   ]
  },
  {
   "cell_type": "code",
   "execution_count": 757,
   "metadata": {},
   "outputs": [],
   "source": [
    "feature = grasp_feature"
   ]
  },
  {
   "cell_type": "code",
   "execution_count": 759,
   "metadata": {},
   "outputs": [],
   "source": [
    "val, jac = feature.residual_and_jac_fn(x[feature.coordinate])"
   ]
  },
  {
   "cell_type": "code",
   "execution_count": 760,
   "metadata": {},
   "outputs": [
    {
     "data": {
      "text/plain": [
       "Array(326.8755, dtype=float32)"
      ]
     },
     "execution_count": 760,
     "metadata": {},
     "output_type": "execute_result"
    }
   ],
   "source": [
    "val"
   ]
  },
  {
   "cell_type": "code",
   "execution_count": 732,
   "metadata": {},
   "outputs": [],
   "source": []
  },
  {
   "cell_type": "code",
   "execution_count": 736,
   "metadata": {},
   "outputs": [
    {
     "data": {
      "text/plain": [
       "(Array(326.8755, dtype=float32),\n",
       " Array([-283.92578 , -253.43362 ,  -11.379831], dtype=float32))"
      ]
     },
     "execution_count": 736,
     "metadata": {},
     "output_type": "execute_result"
    }
   ],
   "source": [
    "vg_grasp_residual_fn(x)"
   ]
  },
  {
   "cell_type": "code",
   "execution_count": 511,
   "metadata": {},
   "outputs": [],
   "source": [
    "residual = (1. - grasp_logit_fn(x))\n",
    "jac = - jax.grad(grasp_logit_fn)(x)\n",
    "p = - 1./(jac@jac) * jac*(residual)\n",
    "x = x + p\n",
    "\n",
    "grasp_pose = obj_start.pose@grasp_reconst(x)\n",
    "frame.set_pose(grasp_pose)"
   ]
  },
  {
   "cell_type": "code",
   "execution_count": 683,
   "metadata": {},
   "outputs": [],
   "source": [
    "x = panda.neutral"
   ]
  },
  {
   "cell_type": "code",
   "execution_count": 724,
   "metadata": {},
   "outputs": [
    {
     "name": "stdout",
     "output_type": "stream",
     "text": [
      "mod_hess\n"
     ]
    }
   ],
   "source": [
    "weight_mat = jnp.diag(jnp.array([1, 1, 1, 0.3, 0.3, 0.3]))\n",
    "ee, jac = get_ee_fk_jac(x)\n",
    "residual = to_posevec(grasp_pose) - ee\n",
    "\n",
    "grad = - jac.T@weight_mat@residual \n",
    "hess_true = jac.T@weight_mat@jac\n",
    "\n",
    "try:\n",
    "    np.linalg.cholesky(hess_true)\n",
    "    hess = hess_true\n",
    "    print(\"hess\")\n",
    "except:\n",
    "    min_eig = -jnp.linalg.eigh(hess_true)[0][0]\n",
    "    min_eig = jnp.maximum(min_eig, 1e-4)\n",
    "    hess = hess_true + jnp.eye(7) * min_eig * 1.1\n",
    "    print(\"mod_hess\")\n",
    "p = np.linalg.solve(hess, -grad)\n",
    "x = x + p*0.1\n",
    "\n",
    "panda.set_joint_angles(x)"
   ]
  },
  {
   "cell_type": "code",
   "execution_count": 12,
   "metadata": {},
   "outputs": [],
   "source": []
  }
 ],
 "metadata": {
  "kernelspec": {
   "display_name": "cu11",
   "language": "python",
   "name": "python3"
  },
  "language_info": {
   "codemirror_mode": {
    "name": "ipython",
    "version": 3
   },
   "file_extension": ".py",
   "mimetype": "text/x-python",
   "name": "python",
   "nbconvert_exporter": "python",
   "pygments_lexer": "ipython3",
   "version": "3.8.16"
  },
  "orig_nbformat": 4
 },
 "nbformat": 4,
 "nbformat_minor": 2
}
