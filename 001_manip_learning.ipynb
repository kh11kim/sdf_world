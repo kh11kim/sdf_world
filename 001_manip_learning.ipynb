{
 "cells": [
  {
   "cell_type": "code",
   "execution_count": 2,
   "metadata": {},
   "outputs": [],
   "source": [
    "import numpy as np\n",
    "import jax\n",
    "import jax.numpy as jnp\n",
    "from jaxlie import SE3, SO3\n",
    "\n",
    "from sdf_world.sdf_world import *\n",
    "from sdf_world.robots import *\n",
    "from sdf_world.util import *"
   ]
  },
  {
   "cell_type": "code",
   "execution_count": 3,
   "metadata": {},
   "outputs": [],
   "source": [
    "from flax import linen as nn\n",
    "import optax\n",
    "from flax.training.train_state import TrainState\n",
    "import orbax\n",
    "from flax.training import orbax_utils"
   ]
  },
  {
   "cell_type": "code",
   "execution_count": 8,
   "metadata": {},
   "outputs": [],
   "source": [
    "manip_data = np.load(\"manip_data.npz\")\n",
    "manip_map = manip_data[\"manip_map\"]\n",
    "qtn_grids = manip_data[\"qtn_grids\"]\n",
    "xyz_grids = manip_data[\"xyz_grids\"]"
   ]
  },
  {
   "cell_type": "code",
   "execution_count": 12,
   "metadata": {},
   "outputs": [],
   "source": [
    "to_posevec = lambda x: jnp.hstack([x[4:], SO3(x[:4]).log()])\n",
    "to_wxyzxyz = lambda x: jnp.hstack([SO3.exp(x[3:]).parameters(), x[:3]])"
   ]
  },
  {
   "cell_type": "code",
   "execution_count": 13,
   "metadata": {},
   "outputs": [],
   "source": [
    "manip_map = manip_map / manip_map.max() #scale to 0-1"
   ]
  },
  {
   "cell_type": "code",
   "execution_count": 14,
   "metadata": {},
   "outputs": [],
   "source": [
    "class ManipNet(nn.Module):\n",
    "    hidden_dim: int\n",
    "    @nn.compact\n",
    "    def __call__(self, x):\n",
    "        x = nn.Dense(features=self.hidden_dim)(x)\n",
    "        x = nn.relu(x)\n",
    "        x = nn.Dense(features=self.hidden_dim)(x)\n",
    "        x = nn.relu(x)\n",
    "        x = nn.Dense(features=self.hidden_dim)(x)\n",
    "        x = nn.relu(x)\n",
    "        x = nn.Dense(features=1)(x)\n",
    "        return nn.softplus(x)"
   ]
  },
  {
   "cell_type": "code",
   "execution_count": 15,
   "metadata": {},
   "outputs": [],
   "source": [
    "manip_net = ManipNet(64)\n",
    "key1, key2 = jax.random.split(jax.random.PRNGKey(0), 2)\n",
    "#x = jax.random.normal(key1, (7,)) #wxyzxyz\n",
    "x = jax.random.normal(key1, (6,)) #posevec\n",
    "params = manip_net.init(key2, jnp.zeros(6))\n",
    "tx = optax.adam(learning_rate=0.001)\n",
    "state = TrainState.create(\n",
    "    apply_fn=manip_net.apply,\n",
    "    params=params,\n",
    "    tx=tx\n",
    ")"
   ]
  },
  {
   "cell_type": "code",
   "execution_count": 16,
   "metadata": {},
   "outputs": [],
   "source": [
    "def loss_fn(state:TrainState, params, inputs, labels):\n",
    "    preds = state.apply_fn(params, inputs).flatten()\n",
    "    return optax.l2_loss(preds, labels).mean()\n",
    "\n",
    "@jax.jit\n",
    "def update(state:TrainState, inputs, labels):\n",
    "    losses, grads = jax.value_and_grad(loss_fn, argnums=1)(state, state.params, inputs, labels)\n",
    "    state = state.apply_gradients(grads=grads)\n",
    "    return state, losses"
   ]
  },
  {
   "cell_type": "code",
   "execution_count": 26,
   "metadata": {},
   "outputs": [
    {
     "name": "stdout",
     "output_type": "stream",
     "text": [
      "epoch9900  loss: 0.0033186052460223436\n"
     ]
    }
   ],
   "source": [
    "from IPython.display import clear_output\n",
    "to_rotvec = lambda x: SO3(x).log()\n",
    "\n",
    "num_batch = 128\n",
    "epochs = 10000\n",
    "data_len = np.prod(manip_map.shape)\n",
    "for i in range(epochs):\n",
    "    #generate sample batch:\n",
    "    rot_idxs = np.random.randint(len(qtn_grids), size=num_batch)\n",
    "    xyz_idxs = np.random.randint(len(xyz_grids), size=num_batch)\n",
    "    rotvecs = jax.vmap(to_rotvec)(qtn_grids[rot_idxs])\n",
    "    inputs = jnp.hstack([xyz_grids[xyz_idxs], rotvecs])\n",
    "    labels = jnp.asarray(manip_map[rot_idxs, xyz_idxs])\n",
    "    state, loss = update(state, inputs, labels)\n",
    "    if i%100 == 0:\n",
    "        clear_output(True)\n",
    "        print(f\"epoch{i}  loss: {loss.item()}\")"
   ]
  },
  {
   "cell_type": "code",
   "execution_count": 27,
   "metadata": {},
   "outputs": [],
   "source": [
    "trained_params = state.params"
   ]
  },
  {
   "cell_type": "code",
   "execution_count": 28,
   "metadata": {},
   "outputs": [],
   "source": [
    "#save\n",
    "orbax_checkpointer = orbax.checkpoint.PyTreeCheckpointer()\n",
    "ckpt = {\n",
    "    \"params\": trained_params\n",
    "}\n",
    "save_args = orbax_utils.save_args_from_target(ckpt)\n",
    "orbax_checkpointer.save('model/manip_net_posevec', ckpt, save_args=save_args, )"
   ]
  },
  {
   "attachments": {},
   "cell_type": "markdown",
   "metadata": {},
   "source": [
    "### Visualize"
   ]
  },
  {
   "cell_type": "code",
   "execution_count": 29,
   "metadata": {},
   "outputs": [],
   "source": [
    "#load\n",
    "orbax_checkpointer = orbax.checkpoint.PyTreeCheckpointer()\n",
    "ckpt = orbax_checkpointer.restore('model/manip_net_posevec')\n",
    "params = ckpt[\"params\"]\n",
    "\n",
    "#visualize\n",
    "ws_r = 1.\n",
    "ws_center = jnp.array([0,0,0.5])\n",
    "# def get_manip_value(wxyz_xyz):\n",
    "#     _, xyz = wxyz_xyz[:4], wxyz_xyz[4:]\n",
    "#     is_out_of_bound = jnp.linalg.norm(xyz - ws_center) > ws_r\n",
    "#     return jax.lax.cond(\n",
    "#         is_out_of_bound, lambda x:jnp.array([0.]), \n",
    "#         lambda x: manip_net.apply(params, x), wxyz_xyz)\n",
    "def get_manip_value(posevec):\n",
    "    xyz, rot = posevec[:3], posevec[3:]\n",
    "    is_out_of_bound = jnp.linalg.norm(xyz - ws_center) > ws_r\n",
    "    return jax.lax.cond(\n",
    "        is_out_of_bound, lambda x:jnp.array([0.]), \n",
    "        lambda x: manip_net.apply(params, x), posevec)"
   ]
  },
  {
   "cell_type": "code",
   "execution_count": 36,
   "metadata": {},
   "outputs": [
    {
     "data": {
      "text/plain": [
       "<matplotlib.image.AxesImage at 0x7facc81d69d0>"
      ]
     },
     "execution_count": 36,
     "metadata": {},
     "output_type": "execute_result"
    },
    {
     "data": {
      "image/png": "[encoded data removed]",
      "text/plain": [
       "<Figure size 640x480 with 1 Axes>"
      ]
     },
     "metadata": {},
     "output_type": "display_data"
    }
   ],
   "source": [
    "import matplotlib.pyplot as plt\n",
    "\n",
    "qtn = np.random.normal(size=4)\n",
    "qtn = qtn/np.linalg.norm(qtn)\n",
    "rot = SO3(qtn)\n",
    "z = 0.1\n",
    "\n",
    "xx = np.linspace(-1, 1, 40)\n",
    "yy = np.linspace(-1, 1, 40)\n",
    "X, Y = np.meshgrid(xx, yy, indexing=\"ij\")\n",
    "xyz_samples = np.vstack([X.flatten(), Y.flatten(), np.full(40*40, z)]).T\n",
    "qtn_samples = np.tile(qtn, len(xyz_samples)).reshape(-1, 4)\n",
    "rotvec_samples = jax.vmap(to_rotvec)(qtn_samples)\n",
    "samples = jnp.hstack([xyz_samples, rotvec_samples])\n",
    "manips = jax.vmap(get_manip_value)(samples).flatten()\n",
    "manips_xy = manips.reshape(40, -1)\n",
    "\n",
    "plt.imshow(manips_xy, cmap=\"jet\")"
   ]
  },
  {
   "cell_type": "code",
   "execution_count": 21,
   "metadata": {},
   "outputs": [
    {
     "name": "stdout",
     "output_type": "stream",
     "text": [
      "You can open the visualizer by visiting the following URL:\n",
      "http://127.0.0.1:7004/static/\n"
     ]
    },
    {
     "data": {
      "text/html": [
       "\n",
       "            <div style=\"height: 400px; width: 100%; overflow-x: auto; overflow-y: hidden; resize: both\">\n",
       "            <iframe src=\"http://127.0.0.1:7004/static/\" style=\"width: 100%; height: 100%; border: none\"></iframe>\n",
       "            </div>\n",
       "            "
      ],
      "text/plain": [
       "<IPython.core.display.HTML object>"
      ]
     },
     "execution_count": 21,
     "metadata": {},
     "output_type": "execute_result"
    }
   ],
   "source": [
    "world = SDFWorld()\n",
    "world.show_in_jupyter()"
   ]
  },
  {
   "cell_type": "code",
   "execution_count": 24,
   "metadata": {},
   "outputs": [
    {
     "name": "stderr",
     "output_type": "stream",
     "text": [
      "WARNING:trimesh:concatenating texture: may result in visual artifacts\n",
      "WARNING:trimesh:concatenating texture: may result in visual artifacts\n",
      "WARNING:trimesh:concatenating texture: may result in visual artifacts\n",
      "WARNING:trimesh:concatenating texture: may result in visual artifacts\n",
      "WARNING:trimesh:concatenating texture: may result in visual artifacts\n",
      "WARNING:trimesh:concatenating texture: may result in visual artifacts\n",
      "WARNING:trimesh:concatenating texture: may result in visual artifacts\n",
      "WARNING:trimesh:concatenating texture: may result in visual artifacts\n"
     ]
    }
   ],
   "source": [
    "panda_model = RobotModel(PANDA_URDF, PANDA_PACKAGE)\n",
    "panda = Robot(world.vis, \"panda\", panda_model, alpha=0.5)"
   ]
  },
  {
   "cell_type": "code",
   "execution_count": 28,
   "metadata": {},
   "outputs": [],
   "source": [
    "import matplotlib\n",
    "cmap_jet = matplotlib.colormaps[\"jet\"]\n",
    "frame = Frame(world.vis, \"frame\")"
   ]
  },
  {
   "cell_type": "code",
   "execution_count": 65,
   "metadata": {},
   "outputs": [],
   "source": [
    "ee = Frame(world.vis, \"ee\")\n",
    "ee.set_pose(SE3(panda_model.fk_fn(panda_model.q)[-1]))"
   ]
  },
  {
   "cell_type": "code",
   "execution_count": 148,
   "metadata": {},
   "outputs": [],
   "source": [
    "def get_meshgrid_samples(qtn, z):\n",
    "    xx = np.linspace(-1, 1, 40)\n",
    "    yy = np.linspace(-1, 1, 40)\n",
    "    X, Y = np.meshgrid(xx, yy, indexing=\"ij\")\n",
    "    xyz_samples = np.vstack([X.flatten(), Y.flatten(), np.full(40*40, z)]).T\n",
    "    qtn_samples = np.tile(qtn, len(xyz_samples)).reshape(-1, 4)\n",
    "    samples = jnp.hstack([qtn_samples, xyz_samples])\n",
    "    return samples\n",
    "\n",
    "#qtn = np.random.normal(size=4)\n",
    "#qtn = qtn/np.linalg.norm(qtn)\n",
    "#rot = SO3(qtn)\n",
    "rot = SO3.from_rpy_radians(-jnp.pi/2,np.pi/2,0)\n",
    "qtn = rot.parameters()\n",
    "\n",
    "samples_0_1 = get_meshgrid_samples(qtn, 0.2)\n",
    "manips_0_1 = jax.vmap(get_manip_value)(samples_0_1).flatten()\n",
    "\n",
    "\n",
    "samples_0_2 = get_meshgrid_samples(qtn, 0.8)\n",
    "manips_0_2 = jax.vmap(get_manip_value)(samples_0_2).flatten()\n",
    "\n",
    "#manips_xy = manips.reshape(40, -1)\n",
    "\n",
    "# colors = cmap_jet(scaling(manips))[:,:3]\n",
    "# manip_map_pc.reload(points=xyz_samples, color=colors)\n"
   ]
  },
  {
   "cell_type": "code",
   "execution_count": 147,
   "metadata": {},
   "outputs": [],
   "source": [
    "#offset, scale = scaling(manips_0_1)\n",
    "pc_size = 0.03\n",
    "manip_map_pc_0_1 = PointCloud(\n",
    "    world.vis, \"pc01\", size=pc_size, points=samples_0_1[:,4:], \n",
    "    color=cmap_jet(manips_0_1)[:,:3]\n",
    ")\n",
    "manip_map_pc_0_2 = PointCloud(\n",
    "    world.vis, \"pc02\", size=pc_size, points=samples_0_2[:,4:], \n",
    "    color=cmap_jet(manips_0_2)[:,:3]\n",
    ")\n",
    "max_pose = SE3(samples_0_1[manips_0_1.argmax()] + jnp.array([0,0,0,0,0,0,0.1]))\n",
    "frame.set_pose(max_pose)"
   ]
  },
  {
   "cell_type": "code",
   "execution_count": 146,
   "metadata": {},
   "outputs": [],
   "source": [
    "del manip_map_pc_0_1, manip_map_pc_0_2"
   ]
  },
  {
   "cell_type": "code",
   "execution_count": 138,
   "metadata": {},
   "outputs": [
    {
     "data": {
      "text/plain": [
       "(array([-2.9671, -1.8326, -2.9671, -3.1416, -2.9671, -0.0873, -2.9671]),\n",
       " array([2.9671, 1.8326, 2.9671, 0.    , 2.9671, 3.8223, 2.9671]))"
      ]
     },
     "execution_count": 138,
     "metadata": {},
     "output_type": "execute_result"
    }
   ],
   "source": [
    "panda_model.lb[:7], panda_model.ub[:7]"
   ]
  },
  {
   "cell_type": "code",
   "execution_count": 144,
   "metadata": {},
   "outputs": [
    {
     "data": {
      "text/plain": [
       "array([-0.30446265,  0.48782283, -0.02528399, -1.86806819,  1.34702644,\n",
       "        1.3384831 ,  1.53952219])"
      ]
     },
     "execution_count": 144,
     "metadata": {},
     "output_type": "execute_result"
    }
   ],
   "source": [
    "res.x"
   ]
  },
  {
   "cell_type": "code",
   "execution_count": 1,
   "metadata": {},
   "outputs": [
    {
     "ename": "NameError",
     "evalue": "name 'jax' is not defined",
     "output_type": "error",
     "traceback": [
      "\u001b[0;31m---------------------------------------------------------------------------\u001b[0m",
      "\u001b[0;31mNameError\u001b[0m                                 Traceback (most recent call last)",
      "Cell \u001b[0;32mIn[1], line 3\u001b[0m\n\u001b[1;32m      1\u001b[0m \u001b[39mfrom\u001b[39;00m \u001b[39mscipy\u001b[39;00m\u001b[39m.\u001b[39;00m\u001b[39moptimize\u001b[39;00m \u001b[39mimport\u001b[39;00m minimize\n\u001b[1;32m      2\u001b[0m \u001b[39mfrom\u001b[39;00m \u001b[39mfunctools\u001b[39;00m \u001b[39mimport\u001b[39;00m partial\n\u001b[0;32m----> 3\u001b[0m \u001b[39m@jax\u001b[39m\u001b[39m.\u001b[39mjit\n\u001b[1;32m      4\u001b[0m \u001b[39mdef\u001b[39;00m \u001b[39m_pose_error\u001b[39m(q, target_pose):\n\u001b[1;32m      5\u001b[0m     q \u001b[39m=\u001b[39m jnp\u001b[39m.\u001b[39mhstack([q, \u001b[39m0.04\u001b[39m, \u001b[39m0.04\u001b[39m])\n\u001b[1;32m      6\u001b[0m     ee_pose \u001b[39m=\u001b[39m SE3(panda_model\u001b[39m.\u001b[39mfk_fn(q)[\u001b[39m-\u001b[39m\u001b[39m1\u001b[39m])\n",
      "\u001b[0;31mNameError\u001b[0m: name 'jax' is not defined"
     ]
    }
   ],
   "source": [
    "from scipy.optimize import minimize\n",
    "from functools import partial\n",
    "@jax.jit\n",
    "def _pose_error(q, target_pose):\n",
    "    q = jnp.hstack([q, 0.04, 0.04])\n",
    "    ee_pose = SE3(panda_model.fk_fn(q)[-1])\n",
    "    diff = target_pose.inverse()@ ee_pose\n",
    "    return jnp.sum(diff.log() ** 2)\n",
    "_pose_error_vg = jax.value_and_grad(_pose_error)"
   ]
  },
  {
   "cell_type": "code",
   "execution_count": 143,
   "metadata": {},
   "outputs": [],
   "source": [
    "pose_error = partial(_pose_error_vg, target_pose=max_pose)\n",
    "res = minimize(pose_error, panda_model.neutral[:7], method=\"BFGS\", jac=True, tol=0.01)\n",
    "if res.success:\n",
    "    panda.set_joint_angles(q = jnp.hstack([res.x, 0.04, 0.04]))\n",
    "else:\n",
    "    print(res.message)"
   ]
  },
  {
   "cell_type": "code",
   "execution_count": 49,
   "metadata": {},
   "outputs": [],
   "source": [
    "del manip_map_pc"
   ]
  }
 ],
 "metadata": {
  "kernelspec": {
   "display_name": "opt_env",
   "language": "python",
   "name": "python3"
  },
  "language_info": {
   "codemirror_mode": {
    "name": "ipython",
    "version": 3
   },
   "file_extension": ".py",
   "mimetype": "text/x-python",
   "name": "python",
   "nbconvert_exporter": "python",
   "pygments_lexer": "ipython3",
   "version": "3.8.15"
  },
  "orig_nbformat": 4
 },
 "nbformat": 4,
 "nbformat_minor": 2
}
