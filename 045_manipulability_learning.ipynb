{
 "cells": [
  {
   "cell_type": "code",
   "execution_count": 1,
   "metadata": {},
   "outputs": [],
   "source": [
    "import numpy as np\n",
    "import jax.numpy as jnp\n",
    "import jax\n",
    "import cyipopt\n",
    "\n",
    "from functools import partial\n",
    "from typing import *\n",
    "from dataclasses import dataclass, field\n",
    "from jaxlie import SE3, SO3\n",
    "import jax_dataclasses as jdc\n",
    "\n",
    "from sdf_world.sdf_world import *\n",
    "from sdf_world.robot_model import *\n",
    "from sdf_world.robots import *\n",
    "\n",
    "import time"
   ]
  },
  {
   "cell_type": "code",
   "execution_count": 2,
   "metadata": {},
   "outputs": [
    {
     "name": "stdout",
     "output_type": "stream",
     "text": [
      "You can open the visualizer by visiting the following URL:\n",
      "http://127.0.0.1:7004/static/\n"
     ]
    }
   ],
   "source": [
    "world = SDFWorld()"
   ]
  },
  {
   "cell_type": "code",
   "execution_count": 3,
   "metadata": {},
   "outputs": [],
   "source": [
    "gen3 = get_predefined_robot(world.vis, \"gen3+hand_e\")"
   ]
  },
  {
   "cell_type": "code",
   "execution_count": 192,
   "metadata": {},
   "outputs": [],
   "source": [
    "fk_full = gen3.arm.model.get_serial_links_fk_fn(gen3.tool_pose_offset)"
   ]
  },
  {
   "cell_type": "code",
   "execution_count": 4,
   "metadata": {},
   "outputs": [],
   "source": [
    "fk_ee = gen3.arm.model.get_fk_ee_fn(gen3.tool_pose_offset)"
   ]
  },
  {
   "cell_type": "code",
   "execution_count": 5,
   "metadata": {},
   "outputs": [],
   "source": [
    "def get_random_config(size=1):\n",
    "    lb, ub = gen3.arm.model.lb, gen3.arm.model.ub\n",
    "    if size==1:\n",
    "        return np.random.uniform(lb, ub)\n",
    "    else:\n",
    "        return np.random.uniform(lb, ub, size=(size,7))"
   ]
  },
  {
   "cell_type": "code",
   "execution_count": 8,
   "metadata": {},
   "outputs": [],
   "source": [
    "frame = Frame(world.vis, \"frame\")"
   ]
  },
  {
   "cell_type": "code",
   "execution_count": 10,
   "metadata": {},
   "outputs": [],
   "source": [
    "q = get_random_config()\n",
    "gen3.set_joint_angles(q)\n",
    "frame.set_pose(SE3(fk(q)))"
   ]
  },
  {
   "cell_type": "code",
   "execution_count": 33,
   "metadata": {},
   "outputs": [],
   "source": [
    "jac = jax.jacfwd(fk)"
   ]
  },
  {
   "cell_type": "code",
   "execution_count": 197,
   "metadata": {},
   "outputs": [],
   "source": [
    "def geom_jac(q):\n",
    "    fks = fk_full(q)\n",
    "    qtn, p_ee = fks[-1][:4], fks[-1][-3:]\n",
    "    w, xyz = qtn[0], qtn[1:]\n",
    "    geom_jac = []\n",
    "    for posevec in fks[gen3.arm.model.movable_joints]:\n",
    "        p_frame = posevec[-3:]\n",
    "        rot_axis = SE3(posevec).as_matrix()[:3, 2]\n",
    "        lin_vel = jnp.cross(rot_axis, p_ee - p_frame)\n",
    "        geom_jac.append(jnp.hstack([lin_vel, rot_axis]))\n",
    "    geom_jac = jnp.array(geom_jac).T  #geom_jacobian\n",
    "    return geom_jac"
   ]
  },
  {
   "cell_type": "code",
   "execution_count": 51,
   "metadata": {},
   "outputs": [],
   "source": [
    "pos_jac = jac(q)[-3:,:]\n",
    "manip = jnp.sqrt(jnp.linalg.det(pos_jac@pos_jac.T))"
   ]
  },
  {
   "cell_type": "code",
   "execution_count": null,
   "metadata": {},
   "outputs": [],
   "source": []
  },
  {
   "cell_type": "code",
   "execution_count": 21,
   "metadata": {},
   "outputs": [],
   "source": [
    "limited_joint_indices = [i \n",
    "            for i, joint in enumerate(gen3.arm.model.joints.values())\n",
    "            if joint.joint_type in [\"revolute\", \"prismatic\"]]\n",
    "limited_joint_indices = np.array(limited_joint_indices)"
   ]
  },
  {
   "cell_type": "code",
   "execution_count": 200,
   "metadata": {},
   "outputs": [],
   "source": [
    "lb = gen3.arm.model.lb[limited_joint_indices]\n",
    "ub = gen3.arm.model.ub[limited_joint_indices]\n",
    "\n",
    "def joint_limit_potential(q, scale=2.):\n",
    "        q_limited_joint = q[limited_joint_indices]\n",
    "        value = jnp.sum( 0.1*(ub - lb)**2 / (4 * (q_limited_joint - lb) * (ub - q_limited_joint) ))\n",
    "        return jnp.exp(-value* scale) \n",
    "\n",
    "def get_manip_limit_penalized(q):\n",
    "    #pos_jac = jac(q)[-3:,:]\n",
    "    j = geom_jac(q)\n",
    "    manip = jnp.sqrt(jnp.linalg.det(j@j.T))\n",
    "    limit_penalty = joint_limit_potential(q)\n",
    "    return manip * limit_penalty\n"
   ]
  },
  {
   "cell_type": "code",
   "execution_count": 201,
   "metadata": {},
   "outputs": [
    {
     "data": {
      "text/plain": [
       "[<matplotlib.lines.Line2D at 0x7fdd89fe8df0>]"
      ]
     },
     "execution_count": 201,
     "metadata": {},
     "output_type": "execute_result"
    },
    {
     "data": {
      "image/png": "[encoded data removed]",
      "text/plain": [
       "<Figure size 640x480 with 1 Axes>"
      ]
     },
     "metadata": {},
     "output_type": "display_data"
    }
   ],
   "source": [
    "qs = np.linspace(gen3.arm.model.lb+0.01, gen3.arm.model.ub-0.01, 100)\n",
    "plt.plot([joint_limit_potential(q, 2.) for q in qs])"
   ]
  },
  {
   "cell_type": "code",
   "execution_count": 202,
   "metadata": {},
   "outputs": [],
   "source": [
    "ws_r = 1.\n",
    "ws_center = jnp.array([0,0,0.5])\n",
    "xyz_res = 41\n",
    "xx = jnp.linspace(-1, 1, xyz_res, endpoint=True)\n",
    "yy = jnp.linspace(-1, 1, xyz_res, endpoint=True)\n",
    "zz = jnp.linspace(-0.5, 1.5, xyz_res, endpoint=True)\n",
    "zz = jnp.linspace(-0.5, 1.5, xyz_res, endpoint=True)\n",
    "X, Y, Z = jnp.meshgrid(xx,yy,zz)\n",
    "xyz_grids = jnp.vstack([X.flatten(), Y.flatten(), Z.flatten()]).T\n",
    "in_ws_sphere = jnp.linalg.norm(xyz_grids - ws_center, axis=-1) < ws_r\n",
    "xyz_grids = xyz_grids[in_ws_sphere]\n",
    "qtn_grids = super_fibonacci_spiral(1000)"
   ]
  },
  {
   "cell_type": "code",
   "execution_count": 203,
   "metadata": {},
   "outputs": [],
   "source": [
    "def rot_distance(qtn1, qtn2):\n",
    "    rot_diff = SO3(qtn1).inverse() @ SO3(qtn2)\n",
    "    angle = jnp.linalg.norm(rot_diff.log())\n",
    "    return angle\n",
    "def get_rot_grid_idx(qtn):\n",
    "    errors = jax.vmap(rot_distance, in_axes=(None,0))(qtn, qtn_grids)\n",
    "    return errors.argmin()\n",
    "def get_xyz_grid_idx(xyz):\n",
    "    errors = jnp.linalg.norm(xyz_grids - xyz, axis=-1)\n",
    "    return errors.argmin()\n",
    "\n",
    "def get_sample(q):\n",
    "    ee_pose = fk(q)\n",
    "    xyz_idx = get_xyz_grid_idx(ee_pose[-3:])\n",
    "    qtn_idx = get_rot_grid_idx(ee_pose[:4])\n",
    "    manip = get_manip_limit_penalized(q)\n",
    "    return manip, qtn_idx, xyz_idx\n",
    "get_samples = jax.jit(jax.vmap(get_sample))"
   ]
  },
  {
   "cell_type": "code",
   "execution_count": null,
   "metadata": {},
   "outputs": [],
   "source": [
    "%load_ext cython\n",
    "import Cython"
   ]
  },
  {
   "cell_type": "code",
   "execution_count": null,
   "metadata": {},
   "outputs": [],
   "source": [
    "%%cython -a\n",
    "import numpy as np\n",
    "cimport numpy as np\n",
    "cimport cython\n",
    "from cython.parallel import prange\n",
    "\n",
    "#@cython.boundscheck(False)\n",
    "#@cython.wraparound(False)\n",
    "def insert_values(\n",
    "    int[:, ::1] idxs, \n",
    "    np.float32_t[::1] manips, \n",
    "    np.float32_t[:,::1] manip_map, \n",
    "):\n",
    "    cdef int updated\n",
    "    cdef Py_ssize_t n = idxs.shape[0]\n",
    "    cdef Py_ssize_t x, y, i\n",
    "    cdef np.float32_t[:,:] map_view = manip_map\n",
    "    cdef int[:,:] idxs_view = idxs\n",
    "    cdef np.float32_t[:] manips_view = manips\n",
    "    \n",
    "    updated = 0\n",
    "    for i in prange(n, nogil=True):    \n",
    "        x = idxs_view[i, 0]\n",
    "        y = idxs_view[i, 1]\n",
    "        \n",
    "        if map_view[x, y] < manips_view[i]:\n",
    "            if map_view[x, y] == 0.: \n",
    "               updated += 1\n",
    "            map_view[x, y] = manips_view[i]\n",
    "    print(updated)"
   ]
  },
  {
   "cell_type": "code",
   "execution_count": 206,
   "metadata": {},
   "outputs": [],
   "source": [
    "map_shape = len(qtn_grids), len(xyz_grids)\n",
    "manip_map = np.zeros(map_shape, dtype=np.float32)\n",
    "num_batch = 1000000"
   ]
  },
  {
   "cell_type": "code",
   "execution_count": 212,
   "metadata": {},
   "outputs": [
    {
     "name": "stdout",
     "output_type": "stream",
     "text": [
      "i:999\n",
      "208\n"
     ]
    }
   ],
   "source": [
    "from IPython.display import clear_output\n",
    "#loop\n",
    "for epoch in range(1000):\n",
    "    qs = get_random_config(num_batch)\n",
    "    manips, qtn_idxs, xyz_idxs = get_samples(qs)\n",
    "    idxs = jnp.vstack([qtn_idxs, xyz_idxs]).T\n",
    "    clear_output(wait=True)\n",
    "    print(f\"i:{epoch}\")\n",
    "    insert_values(np.array(idxs), np.array(manips), manip_map)"
   ]
  },
  {
   "cell_type": "code",
   "execution_count": null,
   "metadata": {},
   "outputs": [],
   "source": []
  },
  {
   "cell_type": "code",
   "execution_count": 222,
   "metadata": {},
   "outputs": [],
   "source": [
    "#visualize\n",
    "ws_r = 1.\n",
    "ws_center = jnp.array([0,0,0.5])\n",
    "# def get_manip_value_pred(wxyzxyz):\n",
    "#     xyz, rot = wxyzxyz[-3:], wxyzxyz[3:4]\n",
    "#     is_out_of_bound = jnp.linalg.norm(xyz - ws_center) > ws_r\n",
    "#     return jax.lax.cond(\n",
    "#         is_out_of_bound, lambda x:jnp.array([0.]), \n",
    "#         lambda x: manip_net.apply(params, x), posevec)\n",
    "\n",
    "def get_manip_value_true(wxyzxyz):\n",
    "    xyz, qtn = wxyzxyz[-3:], wxyzxyz[:4]\n",
    "    is_out_of_bound = jnp.linalg.norm(xyz - ws_center) > ws_r\n",
    "    if is_out_of_bound: return 0.\n",
    "    xyz_idx = get_xyz_grid_idx(xyz)\n",
    "    qtn_idx = get_rot_grid_idx(qtn)\n",
    "    return manip_map[qtn_idx, xyz_idx]"
   ]
  },
  {
   "cell_type": "code",
   "execution_count": 232,
   "metadata": {},
   "outputs": [],
   "source": [
    "qtn = np.random.normal(size=4)\n",
    "qtn = qtn/np.linalg.norm(qtn)\n",
    "rot = SO3(qtn)\n",
    "z = 0.1"
   ]
  },
  {
   "cell_type": "code",
   "execution_count": 233,
   "metadata": {},
   "outputs": [],
   "source": [
    "xx = np.linspace(-1, 1, 40)\n",
    "yy = np.linspace(-1, 1, 40)\n",
    "X, Y = np.meshgrid(xx, yy, indexing=\"ij\")\n",
    "xyz_samples = np.vstack([X.flatten(), Y.flatten(), np.full(40*40, z)]).T\n",
    "qtn_samples = np.tile(qtn, len(xyz_samples)).reshape(-1, 4)\n",
    "samples = jnp.hstack([qtn_samples, xyz_samples])\n",
    "manips = [get_manip_value_true(sample) for sample in samples]"
   ]
  },
  {
   "cell_type": "code",
   "execution_count": 234,
   "metadata": {},
   "outputs": [
    {
     "data": {
      "text/plain": [
       "<matplotlib.image.AxesImage at 0x7fdd9336afd0>"
      ]
     },
     "execution_count": 234,
     "metadata": {},
     "output_type": "execute_result"
    },
    {
     "data": {
      "image/png": "[encoded data removed]",
      "text/plain": [
       "<Figure size 640x480 with 1 Axes>"
      ]
     },
     "metadata": {},
     "output_type": "display_data"
    }
   ],
   "source": [
    "import matplotlib.pyplot as plt\n",
    "plt.imshow(np.array(manips).reshape(40,-1), cmap=\"jet\")"
   ]
  },
  {
   "cell_type": "code",
   "execution_count": 235,
   "metadata": {},
   "outputs": [],
   "source": [
    "np.savez_compressed(\n",
    "    \"manip_data_gen3.npz\", \n",
    "    manip_map=manip_map,\n",
    "    qtn_grids=qtn_grids,\n",
    "    xyz_grids=xyz_grids\n",
    ")"
   ]
  },
  {
   "cell_type": "code",
   "execution_count": null,
   "metadata": {},
   "outputs": [],
   "source": [
    "qtn = np.random.normal(size=4)\n",
    "qtn = qtn/np.linalg.norm(qtn)\n",
    "rot = SO3(qtn)\n",
    "z = 0.1"
   ]
  },
  {
   "cell_type": "code",
   "execution_count": null,
   "metadata": {},
   "outputs": [],
   "source": []
  },
  {
   "cell_type": "code",
   "execution_count": 236,
   "metadata": {},
   "outputs": [],
   "source": [
    "from flax import linen as nn\n",
    "import optax\n",
    "from flax.training.train_state import TrainState\n",
    "import orbax\n",
    "from flax.training import orbax_utils"
   ]
  },
  {
   "cell_type": "code",
   "execution_count": 237,
   "metadata": {},
   "outputs": [],
   "source": [
    "manip_data = np.load(\"manip_data_gen3.npz\")\n",
    "manip_map = manip_data[\"manip_map\"]\n",
    "qtn_grids = manip_data[\"qtn_grids\"]\n",
    "xyz_grids = manip_data[\"xyz_grids\"]"
   ]
  },
  {
   "cell_type": "code",
   "execution_count": 238,
   "metadata": {},
   "outputs": [],
   "source": [
    "manip_map = manip_map / manip_map.max() #scale to 0-1"
   ]
  },
  {
   "cell_type": "code",
   "execution_count": 249,
   "metadata": {},
   "outputs": [],
   "source": [
    "class ManipNet(nn.Module):\n",
    "    hidden_dim: int\n",
    "    @nn.compact\n",
    "    def __call__(self, x):\n",
    "        x = nn.Dense(features=self.hidden_dim)(x)\n",
    "        x = nn.relu(x)\n",
    "        x = nn.Dense(features=self.hidden_dim)(x)\n",
    "        x = nn.relu(x)\n",
    "        x = nn.Dense(features=self.hidden_dim)(x)\n",
    "        x = nn.relu(x)\n",
    "        x = nn.Dense(features=1)(x)\n",
    "        return nn.softplus(x)"
   ]
  },
  {
   "cell_type": "code",
   "execution_count": 250,
   "metadata": {},
   "outputs": [],
   "source": [
    "manip_net = ManipNet(64)\n",
    "key1, key2 = jax.random.split(jax.random.PRNGKey(0), 2)\n",
    "x = jax.random.normal(key1, (7,)) #wxyzxyz\n",
    "#x = jax.random.normal(key1, (7,)) #posevec\n",
    "params = manip_net.init(key2, x)\n",
    "tx = optax.adam(learning_rate=0.001)\n",
    "state = TrainState.create(\n",
    "    apply_fn=manip_net.apply,\n",
    "    params=params,\n",
    "    tx=tx\n",
    ")"
   ]
  },
  {
   "cell_type": "code",
   "execution_count": 251,
   "metadata": {},
   "outputs": [],
   "source": [
    "def loss_fn(state:TrainState, params, inputs, labels):\n",
    "    preds = state.apply_fn(params, inputs).flatten()\n",
    "    return optax.l2_loss(preds, labels).mean()\n",
    "\n",
    "@jax.jit\n",
    "def update(state:TrainState, inputs, labels):\n",
    "    losses, grads = jax.value_and_grad(loss_fn, argnums=1)(state, state.params, inputs, labels)\n",
    "    state = state.apply_gradients(grads=grads)\n",
    "    return state, losses"
   ]
  },
  {
   "cell_type": "code",
   "execution_count": 253,
   "metadata": {},
   "outputs": [
    {
     "name": "stdout",
     "output_type": "stream",
     "text": [
      "epoch9900  loss: 0.0014764433726668358\n"
     ]
    }
   ],
   "source": [
    "from IPython.display import clear_output\n",
    "to_rotvec = lambda x: SO3(x).log()\n",
    "\n",
    "num_batch = 128\n",
    "epochs = 10000\n",
    "data_len = np.prod(manip_map.shape)\n",
    "for i in range(epochs):\n",
    "    #generate sample batch:\n",
    "    rot_idxs = np.random.randint(len(qtn_grids), size=num_batch)\n",
    "    xyz_idxs = np.random.randint(len(xyz_grids), size=num_batch)\n",
    "    #rotvecs = jax.vmap(to_rotvec)()\n",
    "    inputs = jnp.hstack([qtn_grids[rot_idxs], xyz_grids[xyz_idxs]])\n",
    "    labels = jnp.asarray(manip_map[rot_idxs, xyz_idxs])\n",
    "    state, loss = update(state, inputs, labels)\n",
    "    if i%100 == 0:\n",
    "        clear_output(True)\n",
    "        print(f\"epoch{i}  loss: {loss.item()}\")"
   ]
  },
  {
   "cell_type": "code",
   "execution_count": 254,
   "metadata": {},
   "outputs": [],
   "source": [
    "trained_params = state.params"
   ]
  },
  {
   "cell_type": "code",
   "execution_count": 256,
   "metadata": {},
   "outputs": [],
   "source": [
    "#save\n",
    "orbax_checkpointer = orbax.checkpoint.PyTreeCheckpointer()\n",
    "ckpt = {\n",
    "    \"params\": trained_params\n",
    "}\n",
    "save_args = orbax_utils.save_args_from_target(ckpt)\n",
    "orbax_checkpointer.save('model/manip_net_gen3', ckpt, save_args=save_args)"
   ]
  },
  {
   "cell_type": "code",
   "execution_count": 257,
   "metadata": {},
   "outputs": [],
   "source": [
    "#load\n",
    "orbax_checkpointer = orbax.checkpoint.PyTreeCheckpointer()\n",
    "ckpt = orbax_checkpointer.restore('model/manip_net_gen3')\n",
    "params = ckpt[\"params\"]\n",
    "\n",
    "#visualize\n",
    "ws_r = 1.\n",
    "ws_center = jnp.array([0,0,0.5])\n",
    "def get_manip_value(wxyzxyz):\n",
    "    xyz, qtn = wxyzxyz[-3:], wxyzxyz[:4]\n",
    "    is_out_of_bound = jnp.linalg.norm(xyz - ws_center) > ws_r\n",
    "    return jax.lax.cond(\n",
    "        is_out_of_bound, lambda x:jnp.array([0.]), \n",
    "        lambda x: manip_net.apply(params, x), wxyzxyz)"
   ]
  },
  {
   "cell_type": "code",
   "execution_count": 270,
   "metadata": {},
   "outputs": [
    {
     "data": {
      "text/plain": [
       "<matplotlib.image.AxesImage at 0x7fdd7c942040>"
      ]
     },
     "execution_count": 270,
     "metadata": {},
     "output_type": "execute_result"
    },
    {
     "data": {
      "image/png": "[encoded data removed]",
      "text/plain": [
       "<Figure size 640x480 with 1 Axes>"
      ]
     },
     "metadata": {},
     "output_type": "display_data"
    }
   ],
   "source": [
    "import matplotlib.pyplot as plt\n",
    "\n",
    "qtn = np.random.normal(size=4)\n",
    "qtn = qtn/np.linalg.norm(qtn)\n",
    "rot = SO3(qtn)\n",
    "z = 0.1\n",
    "\n",
    "xx = np.linspace(-1, 1, 40)\n",
    "yy = np.linspace(-1, 1, 40)\n",
    "X, Y = np.meshgrid(xx, yy, indexing=\"ij\")\n",
    "xyz_samples = np.vstack([X.flatten(), Y.flatten(), np.full(40*40, z)]).T\n",
    "qtn_samples = np.tile(qtn, len(xyz_samples)).reshape(-1, 4)\n",
    "\n",
    "samples = jnp.hstack([qtn_samples, xyz_samples])\n",
    "manips = jax.vmap(get_manip_value)(samples).flatten()\n",
    "manips_xy = manips.reshape(40, -1)\n",
    "\n",
    "plt.imshow(manips_xy, cmap=\"jet\")"
   ]
  }
 ],
 "metadata": {
  "kernelspec": {
   "display_name": "cu11",
   "language": "python",
   "name": "python3"
  },
  "language_info": {
   "codemirror_mode": {
    "name": "ipython",
    "version": 3
   },
   "file_extension": ".py",
   "mimetype": "text/x-python",
   "name": "python",
   "nbconvert_exporter": "python",
   "pygments_lexer": "ipython3",
   "version": "3.8.16"
  },
  "orig_nbformat": 4
 },
 "nbformat": 4,
 "nbformat_minor": 2
}
