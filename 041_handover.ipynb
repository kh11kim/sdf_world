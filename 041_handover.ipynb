{
 "cells": [
  {
   "cell_type": "code",
   "execution_count": 1,
   "metadata": {},
   "outputs": [],
   "source": [
    "import numpy as np\n",
    "import jax.numpy as jnp\n",
    "import jax\n",
    "import cyipopt\n",
    "\n",
    "from functools import partial\n",
    "from typing import *\n",
    "from dataclasses import dataclass, field\n",
    "from jaxlie import SE3, SO3\n",
    "import jax_dataclasses as jdc\n",
    "\n",
    "from sdf_world.sdf_world import *\n",
    "from sdf_world.robots import *\n",
    "from sdf_world.util import *\n",
    "from sdf_world.network import *\n",
    "from sdf_world.sparse_ipopt import *\n",
    "\n",
    "import time"
   ]
  },
  {
   "cell_type": "code",
   "execution_count": 2,
   "metadata": {},
   "outputs": [
    {
     "name": "stdout",
     "output_type": "stream",
     "text": [
      "You can open the visualizer by visiting the following URL:\n",
      "http://127.0.0.1:7003/static/\n"
     ]
    }
   ],
   "source": [
    "world = SDFWorld()"
   ]
  },
  {
   "cell_type": "code",
   "execution_count": 3,
   "metadata": {},
   "outputs": [],
   "source": [
    "class PandaHand:\n",
    "    def __init__(self, hand_model, name=\"hand\", color=\"white\"):\n",
    "        self.model = hand_model\n",
    "        self.robot = Robot(world.vis, name, hand_model, color=color, alpha=0.5, visualized_mesh=\"visual\")\n",
    "        self.hand_pose_wrt_ee = SE3.from_translation(jnp.array([0,0,-0.105]))\n",
    "        self.hand_pc = self.robot.get_surface_points_fn(jnp.array([0.04, 0.04]))\n",
    "    \n",
    "    def get_bounding_box(self, name):\n",
    "        fks = self.model.fk_fn(jnp.array([0.04, 0.04]))\n",
    "        hand_points = []\n",
    "        for i, link in enumerate(self.model.links.values()):\n",
    "            pts = jax.vmap(SE3(fks[i]).apply)(link.collision_mesh.vertices)\n",
    "            hand_points.append(pts)\n",
    "        hand_points = np.vstack(hand_points, dtype=float)\n",
    "        min_points = hand_points.min(axis=0)\n",
    "        max_points = hand_points.max(axis=0)\n",
    "        extents = max_points - min_points\n",
    "        center = (max_points + min_points) / 2\n",
    "        box = Box(world.vis, name, extents, alpha=0.5, visualize=False)\n",
    "        box.set_translate(center)\n",
    "        return box\n",
    "    \n",
    "    def set_pose(self, pose):\n",
    "        self.robot.set_pose(pose @ self.hand_pose_wrt_ee)"
   ]
  },
  {
   "cell_type": "code",
   "execution_count": 4,
   "metadata": {},
   "outputs": [],
   "source": [
    "# Load robot\n",
    "hand_model = RobotModel(HAND_URDF, PANDA_PACKAGE, True)\n",
    "for link_name, link in hand_model.links.items():\n",
    "    link.set_surface_points(10)\n",
    "hand1 = PandaHand(hand_model, \"hand1\", \"blue\")\n",
    "hand2 = PandaHand(hand_model, \"hand2\", \"blue\")"
   ]
  },
  {
   "cell_type": "code",
   "execution_count": 5,
   "metadata": {},
   "outputs": [],
   "source": [
    "hand3 = PandaHand(hand_model, \"hand3\", \"green\")\n",
    "hand4 = PandaHand(hand_model, \"hand4\", \"green\")"
   ]
  },
  {
   "cell_type": "code",
   "execution_count": 6,
   "metadata": {},
   "outputs": [],
   "source": [
    "#load sdf meshes\n",
    "table_lengths = [0.4, 0.4, 0.2]\n",
    "table_start = Box(world.vis, \"table_start\", table_lengths, 'white', 0.5)\n",
    "table_goal = Box(world.vis, \"table_goal\", table_lengths, 'white', 0.5)\n",
    "obstacle = Box(world.vis, \"obstacle\", [0.4, 0.2, 0.35], 'white', 0.5)\n",
    "\n",
    "obj_start = Mesh(world.vis, \"obj_start\", \n",
    "                 \"./sdf_world/assets/object/mesh.obj\",\n",
    "                 color=\"blue\", alpha=0.5)\n",
    "obj_goal = Mesh(world.vis, \"obj_goal\", \n",
    "                \"./sdf_world/assets/object/mesh.obj\",\n",
    "                color=\"green\", alpha=0.5)\n",
    "obj_ho = Mesh(world.vis, \"obj_ho\", \n",
    "                \"./sdf_world/assets/object/mesh.obj\",\n",
    "                color=\"yellow\", alpha=0.5)\n",
    "obj = Mesh(world.vis, \"obj\", \n",
    "                \"./sdf_world/assets/object/mesh.obj\",\n",
    "                color=\"white\", alpha=0.8)"
   ]
  },
  {
   "cell_type": "code",
   "execution_count": 7,
   "metadata": {},
   "outputs": [],
   "source": [
    "ydev = 0.4\n",
    "\n",
    "\n",
    "table_start.set_translate([0.45, -ydev, 0.2/2])\n",
    "table_goal.set_translate([0.45, ydev, 0.2/2])\n",
    "obj_lengths = obj_start.mesh.bounding_box.primitive.extents\n",
    "obj_start.set_translate([0.45, -0.4, obj_lengths[-1]/2+table_lengths[-1]])\n",
    "trans_goal = jnp.array([0.45, 0.4, obj_lengths[-2]/2+table_lengths[-1]])\n",
    "obstacle.set_translate([0.45, 0., 0.35/2])\n",
    "obj_goal_pose = SE3.from_rotation_and_translation(\n",
    "    SO3.from_rpy_radians(jnp.pi/2, 0,0), trans_goal)\n",
    "obj_goal.set_pose(obj_goal_pose)\n",
    "obj.set_translate([0.45, -0.4, obj_lengths[-1]/2+table_lengths[-1]])\n",
    "obj_ho.set_translate([0.3, 0., 0.6])"
   ]
  },
  {
   "cell_type": "code",
   "execution_count": 8,
   "metadata": {},
   "outputs": [],
   "source": [
    "# constants, data\n",
    "safe_dist = 0.05\n",
    "ws_lb = np.array([-1,-1,-0.5, -np.pi, -np.pi, -np.pi])\n",
    "ws_ub = np.array([1,1,1.5, np.pi, np.pi, np.pi])\n",
    "hand_pose_wrt_ee = SE3.from_translation(jnp.array([0,0,-0.105]))\n",
    "hand_pc = hand1.hand_pc\n",
    "\n",
    "#links_points_mat\n",
    "# links_points_mat = []\n",
    "# for link in panda_model.links.values():\n",
    "#     if not link.has_mesh: continue\n",
    "#     if not panda_model.is_floating and link == panda_model.root_link: continue\n",
    "#     links_points_mat.append(link.surface_points)\n",
    "# links_points_mat = np.array(links_points_mat)\n",
    "\n",
    "#object points\n",
    "#obj_points = farthest_point_sampling(obj_start.mesh.sample(200), 20)\n",
    "\n",
    "# environment sdf\n",
    "env = SDFContainer([table_start, table_goal, obstacle], safe_dist)"
   ]
  },
  {
   "cell_type": "code",
   "execution_count": 9,
   "metadata": {},
   "outputs": [],
   "source": [
    "# models \n",
    "orbax_checkpointer = orbax.checkpoint.PyTreeCheckpointer()\n",
    "restored_grasp = orbax_checkpointer.restore(\"model/grasp_net_prob_dist\")\n",
    "restored_manip = orbax_checkpointer.restore(\"model/manip_net\")\n",
    "\n",
    "#grasp net\n",
    "grasp_net = GraspNet(32)\n",
    "grasp_fn = lambda x: grasp_net.apply(restored_grasp[\"params\"], x)\n",
    "\n",
    "grasp_logit_fn = lambda g: grasp_fn(g)[0]\n",
    "grasp_dist_fn = lambda g: grasp_fn(g)[1]\n",
    "\n",
    "#manip net: input: wxyzxyz\n",
    "manip_net = ManipNet(64)\n",
    "zflip = SE3.from_rotation(SO3.from_z_radians(jnp.pi))\n",
    "def manip_fn(wxyzxyz:Array):\n",
    "    x1 = wxyzxyz.at[:4].set(SO3(wxyzxyz[:4]).normalize().parameters())\n",
    "    x2 = (SE3(x1) @ zflip).parameters()\n",
    "    return jax.vmap(manip_net.apply, (None, 0))(\n",
    "        restored_manip[\"params\"], jnp.vstack([x1, x2])).flatten()"
   ]
  },
  {
   "cell_type": "code",
   "execution_count": 10,
   "metadata": {},
   "outputs": [],
   "source": [
    "#functions\n",
    "def grasp_reconst(grasp:Array):\n",
    "    rot = SO3(grasp_fn(grasp)[2:]).normalize()\n",
    "    trans = grasp/restored_grasp[\"scale_to_norm\"]\n",
    "    return SE3.from_rotation_and_translation(rot, trans)\n",
    "def grasp_embedding(grasp_point):\n",
    "    grasp = grasp_point * restored_grasp[\"scale_to_norm\"]\n",
    "    return grasp"
   ]
  },
  {
   "cell_type": "code",
   "execution_count": 11,
   "metadata": {},
   "outputs": [],
   "source": [
    "#utility functions\n",
    "to_posevec = lambda wxyzxyz: jnp.hstack([wxyzxyz[4:], SO3(wxyzxyz[:4]).log()])\n",
    "to_wxyzxyz = lambda posevec: jnp.hstack([SO3.exp(posevec[3:]).parameters(), posevec[:3]])\n",
    "to_pose = lambda posevec: SE3(to_wxyzxyz(posevec))\n",
    "def split_pos_qtn(pose):\n",
    "    return pose.parameters()[-3:], pose.parameters()[:4]\n",
    "def merge_pose(pos, qtn):\n",
    "    return SE3(jnp.hstack([qtn, pos])).normalize()"
   ]
  },
  {
   "cell_type": "code",
   "execution_count": 12,
   "metadata": {},
   "outputs": [],
   "source": [
    "def grasp_constr(g):\n",
    "    return grasp_logit_fn(g)\n",
    "jac_grasp_constr = jax.grad(grasp_constr, argnums=[0])"
   ]
  },
  {
   "cell_type": "code",
   "execution_count": 13,
   "metadata": {},
   "outputs": [],
   "source": [
    "# def manip_constr_ec(grasp, posevec_ho, pose_o, pose_r, pose_oref):\n",
    "#     pose_ho = SE3(pose_oref) @ to_pose(posevec_ho)\n",
    "#     grasp_pose1 = SE3(pose_r).inverse() @ pose_ho @ grasp_reconst(grasp)\n",
    "#     grasp_pose2 = SE3(pose_r).inverse() @ SE3(pose_o) @ grasp_reconst(grasp)\n",
    "#     posevecs = [pose.parameters() for pose in [grasp_pose1, grasp_pose2]]\n",
    "#     manips = jax.vmap(manip_fn)(jnp.vstack(posevecs))\n",
    "#     is_flip = manips.min(axis=0).argmax()\n",
    "#     return manips[:,is_flip]\n",
    "# jac_manip_constr = jax.jacfwd(manip_constr_ec, argnums=[0, 1])\n",
    "# jac_manip_constr = jax.jit(jac_manip_constr)"
   ]
  },
  {
   "cell_type": "code",
   "execution_count": 14,
   "metadata": {},
   "outputs": [],
   "source": [
    "def manip_constr_qtn(grasp, pose_ho, pose_o, pose_r):\n",
    "    grasp_pose1 = SE3(pose_r).inverse() @ SE3(pose_ho).normalize() @ grasp_reconst(grasp)\n",
    "    grasp_pose2 = SE3(pose_r).inverse() @ SE3(pose_o) @ grasp_reconst(grasp)\n",
    "    posevecs = [pose.parameters() for pose in [grasp_pose1, grasp_pose2]]\n",
    "    manips = jax.vmap(manip_fn)(jnp.vstack(posevecs))\n",
    "    is_flip = manips.min(axis=0).argmax()\n",
    "    return manips[:,is_flip]\n",
    "jac_manip_constr_qtn = jax.jacfwd(manip_constr_qtn, argnums=[0, 1])\n",
    "jac_manip_constr_qtn = jax.jit(jac_manip_constr_qtn)"
   ]
  },
  {
   "cell_type": "code",
   "execution_count": 15,
   "metadata": {},
   "outputs": [],
   "source": [
    "def qtn_constr(pose_like):\n",
    "    qtn_like = pose_like[:4]\n",
    "    return jnp.sum(qtn_like**2) - 1\n",
    "jac_qtn_constr = jax.grad(qtn_constr, argnums=[0])"
   ]
  },
  {
   "cell_type": "code",
   "execution_count": 16,
   "metadata": {},
   "outputs": [],
   "source": [
    "def get_jac_indices(cdim, xdim, row_offset=0):\n",
    "    rowcol = np.indices((cdim, xdim)).reshape(2,-1)\n",
    "    rowcol[0] += row_offset\n",
    "    return rowcol\n",
    "\n",
    "def get_hand_pc(grasp, obj_pose):\n",
    "    grasp_pose = grasp_reconst(grasp)\n",
    "    hand_base_pose_wrt_world = SE3(obj_pose) @ grasp_pose @ hand_pose_wrt_ee\n",
    "    assigned_hand_pc = jax.vmap(hand_base_pose_wrt_world.apply)(hand_pc)\n",
    "    return assigned_hand_pc\n",
    "\n",
    "def hand_col_constr(grasp, obj_pose):\n",
    "    obj_pose = SE3(obj_pose).normalize().parameters()\n",
    "    pc = get_hand_pc(grasp, obj_pose)\n",
    "    distances = env.distances(pc)\n",
    "    return distances.min()\n",
    "jac_hand_col_constr = jax.jacfwd(hand_col_constr, argnums=[0,1])"
   ]
  },
  {
   "cell_type": "code",
   "execution_count": 17,
   "metadata": {},
   "outputs": [],
   "source": [
    "hand_bb = hand1.get_bounding_box(\"hand_bb\")\n",
    "def hands_col_constr(grasp1, grasp2):\n",
    "    grasp_pose1 = grasp_reconst(grasp1) @ hand1.hand_pose_wrt_ee\n",
    "    grasp_pose2 = grasp_reconst(grasp2) @ hand1.hand_pose_wrt_ee\n",
    "    grasp1_wrt_2 = grasp_pose1.inverse() @ grasp_pose2\n",
    "    points = jax.vmap(grasp1_wrt_2.apply)(hand_pc)\n",
    "    return jax.vmap(hand_bb.sdf)(points).min()\n",
    "jac_hands_col_constr = jax.jacfwd(hands_col_constr, argnums=[0,1])"
   ]
  },
  {
   "cell_type": "code",
   "execution_count": 18,
   "metadata": {},
   "outputs": [],
   "source": [
    "def centering(pose_ho):\n",
    "    pos = pose_ho[-3:]\n",
    "    pos_err = obj_ho.pose.translation() - pos\n",
    "    return jnp.sum(pos_err **2)\n",
    "grad_centering = jax.grad(centering, argnums=[0])"
   ]
  },
  {
   "cell_type": "code",
   "execution_count": 19,
   "metadata": {},
   "outputs": [],
   "source": [
    "ho_qtn_lb = np.array([-1,-1,-1,-1, 0., -0.4, 0.])\n",
    "ho_qtn_ub = np.array([1, 1,1,1, 0.5, 0.4, 0.7])"
   ]
  },
  {
   "cell_type": "code",
   "execution_count": 20,
   "metadata": {},
   "outputs": [],
   "source": [
    "bdr1 = SparseIPOPT()\n",
    "bdr1.add_variable(\"grasp_0\", 3, -1., 1.)\n",
    "bdr1.add_variable(\"grasp_1\", 3, -1., 1.)\n",
    "bdr1.add_variable(\"pose_ho\", 7, ho_qtn_lb, ho_qtn_ub)\n",
    "#bdr1.add_parameter(\"pose_ho\", 7)\n",
    "bdr1.add_parameter(\"pose_o0\", 7)\n",
    "bdr1.add_parameter(\"pose_og\", 7)\n",
    "bdr1.add_parameter(\"pose_r1\", 7)\n",
    "bdr1.add_parameter(\"pose_r2\", 7)\n",
    "\n",
    "bdr1.register_fn(\"grasp_fn\", [3], 1,\n",
    "    grasp_constr, jac_grasp_constr)\n",
    "bdr1.register_fn(\"manip_fn\", [3, 7, 7, 7], 2,\n",
    "    manip_constr_qtn, jac_manip_constr_qtn, jac_out_argnums=[0, 1])\n",
    "bdr1.register_fn(\"qtn_constr\", [7], 1,\n",
    "    qtn_constr, jac_qtn_constr)\n",
    "# bdr1.register_fn(\"hand_col_constr\", [3,7,7], 2, \n",
    "#                  hand_col_constr, jac_hand_col_constr,\n",
    "#                  jac_out_argnums=[0,1],\n",
    "#                  custom_jac_indices=jac_hand_col_constr_idx)\n",
    "bdr1.register_fn(\"hand_col_constr\", [3,7], 1, \n",
    "                 hand_col_constr, jac_hand_col_constr)\n",
    "bdr1.register_fn(\"hands_col_constr\", [3,3], 1, \n",
    "                 hands_col_constr, jac_hands_col_constr)\n",
    "# bdr1.register_fn(\"obj\", [7], 1, \n",
    "#                  centering, grad_centering)"
   ]
  },
  {
   "cell_type": "code",
   "execution_count": 21,
   "metadata": {},
   "outputs": [],
   "source": [
    "#bdr1.set_objective(\"obj\", [\"pose_ho\"])\n",
    "bdr1.set_constr(\"grasp_prob_pick\", \"grasp_fn\", [\"grasp_0\"], \n",
    "                   1., np.inf)\n",
    "bdr1.set_constr(\"grasp_prob_place\", \"grasp_fn\", [\"grasp_1\"], \n",
    "                   1., np.inf)\n",
    "bdr1.set_constr(\"manip_pick_ho\", \"manip_fn\", \n",
    "                [\"grasp_0\", \"pose_ho\", \"pose_o0\", \"pose_r1\"], \n",
    "                 0.2, np.inf) #, no_deriv_names=[\"grasp_0\"]\n",
    "bdr1.set_constr(\"manip_place_ho\", \"manip_fn\", \n",
    "                [\"grasp_1\", \"pose_ho\", \"pose_og\", \"pose_r2\"], \n",
    "                 0.2, np.inf)\n",
    "\n",
    "bdr1.set_constr(\"hand_col_pick\", \"hand_col_constr\",\n",
    "                [\"grasp_0\", \"pose_o0\"],\n",
    "                0.05, np.inf)\n",
    "bdr1.set_constr(\"hand_col_place\", \"hand_col_constr\",\n",
    "                [\"grasp_1\", \"pose_og\"],\n",
    "                0.05, np.inf)\n",
    "bdr1.set_constr(\"hand_col_ho_pick\", \"hand_col_constr\",\n",
    "                [\"grasp_0\", \"pose_ho\"],\n",
    "                0.05, np.inf)\n",
    "bdr1.set_constr(\"hand_col_ho_place\", \"hand_col_constr\",\n",
    "                [\"grasp_1\", \"pose_ho\"],\n",
    "                0.05, np.inf)\n",
    "bdr1.set_constr(\"hands_col\", \"hands_col_constr\",\n",
    "                [\"grasp_0\", \"grasp_1\"],\n",
    "                0.05, np.inf)\n",
    "# bdr1.set_constr(\"hand_col_1\", \"hand_col_constr\",\n",
    "#                 [\"grasp_1\", \"pose_ho\", \"pose_og\"],\n",
    "#                 0.05, np.inf)\n",
    "bdr1.set_constr(\"qtn_manifold\", \"qtn_constr\", [\"pose_ho\"], 0., 0.)"
   ]
  },
  {
   "cell_type": "code",
   "execution_count": 22,
   "metadata": {},
   "outputs": [],
   "source": [
    "pc_hand = PointCloud(world.vis, \"hand_pc\", np.zeros((10,3)), 0.01, \"red\")"
   ]
  },
  {
   "cell_type": "code",
   "execution_count": 23,
   "metadata": {},
   "outputs": [],
   "source": [
    "def debug_callback(xdict):\n",
    "    grasp0 = xdict[\"grasp_0\"]\n",
    "    grasp1 = xdict[\"grasp_1\"]\n",
    "\n",
    "    pose_ho = SE3(xdict[\"pose_ho\"]).normalize()\n",
    "    pose_o0 = SE3(xdict[\"pose_o0\"])\n",
    "    pose_og = SE3(xdict[\"pose_og\"])\n",
    "    obj_poses = jnp.vstack([\n",
    "        pose_ho.parameters(), \n",
    "        pose_ho.parameters(),\n",
    "        pose_o0.parameters(),\n",
    "        pose_og.parameters()])\n",
    "    grasps = jnp.vstack([\n",
    "        grasp0,\n",
    "        grasp1,\n",
    "        grasp0,\n",
    "        grasp1\n",
    "    ])\n",
    "    pcs = jax.vmap(get_hand_pc, in_axes=(0,0))(grasps, obj_poses).reshape(-1,3)\n",
    "    pc_hand.reload(points=pcs)\n",
    "    #print(f\"pos:{pose_ho.parameters()[-3:]}\")    \n",
    "    obj.set_pose(pose_ho)\n",
    "    grasp_pose1_ho0 = pose_ho @ grasp_reconst(grasp0)\n",
    "    grasp_pose1_o0 = pose_o0 @ grasp_reconst(grasp0)\n",
    "    grasp_pose1_ho1 = pose_ho @ grasp_reconst(grasp1)\n",
    "    grasp_pose1_o1 = pose_og @ grasp_reconst(grasp1)\n",
    "    hand1.set_pose(grasp_pose1_ho0)\n",
    "    hand2.set_pose(grasp_pose1_o0)\n",
    "    hand3.set_pose(grasp_pose1_ho1)\n",
    "    hand4.set_pose(grasp_pose1_o1)\n",
    "    #print(f\"err: {qtn_err(qtn, qtn_d)}  viol:{qtn_constr(qtn)}\")\n",
    "    time.sleep(0.5)\n",
    "bdr1.set_debug_callback(debug_callback)"
   ]
  },
  {
   "cell_type": "code",
   "execution_count": 24,
   "metadata": {},
   "outputs": [
    {
     "name": "stdout",
     "output_type": "stream",
     "text": [
      "compiling objective ...\n",
      "compiling gradient ...\n",
      "compiling constraints ...\n",
      "compiling jacobian ...\n",
      "ooo--------------------------------------\n",
      "---ooo-----------------------------------\n",
      "ooo---ooooooo----------------------------\n",
      "ooo---ooooooo----------------------------\n",
      "---oooooooooo----------------------------\n",
      "---oooooooooo----------------------------\n",
      "ooo--------------------------------------\n",
      "---ooo-----------------------------------\n",
      "ooo---ooooooo----------------------------\n",
      "---oooooooooo----------------------------\n",
      "oooooo-----------------------------------\n",
      "------ooooooo----------------------------\n"
     ]
    }
   ],
   "source": [
    "ipopt_grasp = bdr1.build()"
   ]
  },
  {
   "cell_type": "code",
   "execution_count": 31,
   "metadata": {},
   "outputs": [
    {
     "name": "stdout",
     "output_type": "stream",
     "text": [
      "{'grasp_0': 3, 'grasp_1': 3, 'pose_ho': 7, 'pose_o0': 7, 'pose_og': 7, 'pose_r1': 7, 'pose_r2': 7}\n"
     ]
    }
   ],
   "source": [
    "bdr1.print_x_info()"
   ]
  },
  {
   "cell_type": "code",
   "execution_count": 25,
   "metadata": {},
   "outputs": [
    {
     "name": "stdout",
     "output_type": "stream",
     "text": [
      "\n",
      "******************************************************************************\n",
      "This program contains Ipopt, a library for large-scale nonlinear optimization.\n",
      " Ipopt is released as open source code under the Eclipse Public License (EPL).\n",
      "         For more information visit https://github.com/coin-or/Ipopt\n",
      "******************************************************************************\n",
      "\n",
      "This is Ipopt version 3.14.10, running with linear solver MUMPS 5.2.1.\n",
      "\n",
      "Number of nonzeros in equality constraint Jacobian...:        7\n",
      "Number of nonzeros in inequality constraint Jacobian.:       78\n",
      "Number of nonzeros in Lagrangian Hessian.............:        0\n",
      "\n",
      "Total number of variables............................:       41\n",
      "                     variables with only lower bounds:        0\n",
      "                variables with lower and upper bounds:       13\n",
      "                     variables with only upper bounds:        0\n",
      "Total number of equality constraints.................:        1\n",
      "Total number of inequality constraints...............:       11\n",
      "        inequality constraints with only lower bounds:       11\n",
      "   inequality constraints with lower and upper bounds:        0\n",
      "        inequality constraints with only upper bounds:        0\n",
      "\n",
      "iter    objective    inf_pr   inf_du lg(mu)  ||d||  lg(rg) alpha_du alpha_pr  ls\n",
      "   0  0.0000000e+00 2.04e+02 1.00e+00   0.0 0.00e+00    -  0.00e+00 0.00e+00   0\n",
      "   1  0.0000000e+00 1.29e+02 1.15e+01  -0.6 9.00e-01    -  5.23e-01 9.85e-01f  1\n",
      "   2  0.0000000e+00 3.07e+02 1.49e+01   0.1 2.82e+00    -  2.95e-01 1.00e+00f  1\n",
      "   3  0.0000000e+00 9.23e+01 6.72e+00  -0.2 1.67e+00    -  6.37e-01 1.00e+00h  1\n",
      "   4  0.0000000e+00 1.11e+01 9.08e+00  -0.5 1.99e+00    -  9.06e-01 1.00e+00h  1\n",
      "   5  0.0000000e+00 1.16e+01 4.34e+00  -0.5 1.07e+01    -  8.11e-01 1.00e+00h  1\n",
      "   6  0.0000000e+00 2.13e+01 2.85e+00  -0.6 4.78e+00    -  1.00e+00 5.00e-01h  2\n",
      "   7  0.0000000e+00 2.33e+01 9.99e+00  -0.6 1.64e+01    -  1.00e+00 1.00e+00h  1\n",
      "   8  0.0000000e+00 5.46e-01 1.50e+00  -1.1 2.02e+00    -  9.96e-01 1.00e+00h  1\n",
      "   9  0.0000000e+00 4.06e+00 1.42e+00  -1.7 2.74e+00    -  9.68e-01 1.00e+00h  1\n",
      "iter    objective    inf_pr   inf_du lg(mu)  ||d||  lg(rg) alpha_du alpha_pr  ls\n",
      "  10  0.0000000e+00 6.01e-05 4.90e-01  -2.6 1.43e+00    -  1.00e+00 1.00e+00h  1\n",
      "  11  0.0000000e+00 1.55e-05 1.94e-02  -4.0 6.77e-02    -  1.00e+00 1.00e+00h  1\n",
      "\n",
      "Number of Iterations....: 11\n",
      "\n",
      "                                   (scaled)                 (unscaled)\n",
      "Objective...............:   0.0000000000000000e+00    0.0000000000000000e+00\n",
      "Dual infeasibility......:   1.9448885806323785e-02    1.9448885806323785e-02\n",
      "Constraint violation....:   1.5497207641601562e-05    1.5497207641601562e-05\n",
      "Variable bound violation:   0.0000000000000000e+00    0.0000000000000000e+00\n",
      "Complementarity.........:   4.7841135375120350e-04    4.7841135375120350e-04\n",
      "Overall NLP error.......:   1.9448885806323785e-02    1.9448885806323785e-02\n",
      "\n",
      "\n",
      "Number of objective function evaluations             = 16\n",
      "Number of objective gradient evaluations             = 12\n",
      "Number of equality constraint evaluations            = 16\n",
      "Number of inequality constraint evaluations          = 16\n",
      "Number of equality constraint Jacobian evaluations   = 12\n",
      "Number of inequality constraint Jacobian evaluations = 12\n",
      "Number of Lagrangian Hessian evaluations             = 0\n",
      "Total seconds in IPOPT                               = 9.990\n",
      "\n",
      "EXIT: Solved To Acceptable Level.\n"
     ]
    }
   ],
   "source": [
    "grasp1 = np.random.normal(size=3) * 0.5\n",
    "grasp2 = np.random.normal(size=3) * 0.5\n",
    "pose_o = obj_start.pose.parameters()\n",
    "pose_g = obj_goal.pose.parameters()\n",
    "\n",
    "pose_r1 = SE3.from_translation(jnp.array([0, -0.4, 0])).parameters()\n",
    "pose_r2 = SE3.from_translation(jnp.array([0, 0.4, 0])).parameters()\n",
    "pose_oref = pose_o\n",
    "pose_ho = obj_ho.pose.parameters()\n",
    "x0 = np.hstack([grasp1, grasp2, pose_ho, pose_o, pose_g, pose_r1, pose_r2])\n",
    "grasp_sol, info = ipopt_grasp.solve(x0)"
   ]
  },
  {
   "cell_type": "markdown",
   "metadata": {},
   "source": [
    "### Robot"
   ]
  },
  {
   "cell_type": "code",
   "execution_count": 26,
   "metadata": {},
   "outputs": [],
   "source": [
    "# robot, hand\n",
    "panda_model = RobotModel(PANDA_URDF, PANDA_PACKAGE)\n",
    "pandas = []\n",
    "pandas.append(\n",
    "    Robot(world.vis, \"panda1\", panda_model, color=\"blue\", alpha=0.5)\n",
    ")\n",
    "pandas.append(\n",
    "    Robot(world.vis, \"panda2\", panda_model, color=\"blue\", alpha=0.5)\n",
    ")\n",
    "pandas.append(\n",
    "    Robot(world.vis, \"panda3\", panda_model, color=\"green\", alpha=0.5)\n",
    ")\n",
    "pandas.append(\n",
    "    Robot(world.vis, \"panda4\", panda_model, color=\"green\", alpha=0.5)\n",
    ")\n",
    "\n",
    "for panda in pandas:\n",
    "    panda.reduce_dim([7, 8], [0.04, 0.04])"
   ]
  },
  {
   "cell_type": "code",
   "execution_count": 31,
   "metadata": {},
   "outputs": [],
   "source": [
    "pandas[0].set_translate([0,-ydev,0])\n",
    "pandas[1].set_translate([0,-ydev,0])\n",
    "pandas[2].set_translate([0,ydev,0])\n",
    "pandas[3].set_translate([0,ydev,0])"
   ]
  },
  {
   "cell_type": "code",
   "execution_count": 27,
   "metadata": {},
   "outputs": [],
   "source": [
    "# kinematics\n",
    "def skew(v):\n",
    "    v1, v2, v3 = v\n",
    "    return jnp.array([[0, -v3, v2],\n",
    "                      [v3, 0., -v1],\n",
    "                      [-v2, v1, 0.]])\n",
    "\n",
    "@jax.custom_jvp\n",
    "def fk(q):\n",
    "    fks = panda_model.fk_fn(q)\n",
    "    return fks[-1]\n",
    "\n",
    "@fk.defjvp\n",
    "def fk_jvp(primals, tangents):\n",
    "    q, = primals\n",
    "    q_dot, = tangents\n",
    "    fks = panda_model.fk_fn(q)\n",
    "    qtn, p_ee = fks[-1][:4], fks[-1][-3:]\n",
    "    w, xyz = qtn[0], qtn[1:]\n",
    "    geom_jac = []\n",
    "    for posevec in fks[1:8]:\n",
    "        p_frame = posevec[-3:]\n",
    "        rot_axis = SE3(posevec).as_matrix()[:3, 2]\n",
    "        lin_vel = jnp.cross(rot_axis, p_ee - p_frame)\n",
    "        geom_jac.append(jnp.hstack([lin_vel, rot_axis]))\n",
    "    geom_jac = jnp.array(geom_jac).T  #geom_jacobian\n",
    "    H = jnp.hstack([-xyz[:,None], skew(xyz)+jnp.eye(3)*w])\n",
    "    rot_jac = 0.5*H.T@geom_jac[3:,:]\n",
    "    jac = jnp.vstack([rot_jac, geom_jac[:3,:]])\n",
    "    return fks[-1], jac@q_dot"
   ]
  },
  {
   "cell_type": "code",
   "execution_count": 28,
   "metadata": {},
   "outputs": [],
   "source": [
    "def kin_constr(q, grasp, obj_pose):\n",
    "    grasp_pose = SE3(obj_pose) @ grasp_reconst(grasp)\n",
    "    ee_pose = SE3(fk(q))\n",
    "    pos_err = grasp_pose.translation() - ee_pose.translation()\n",
    "    rot_err = (ee_pose.rotation().inverse() @ grasp_pose.rotation()).log()\n",
    "    return jnp.hstack([pos_err, 0.5*rot_err])\n",
    "jac_kin_constr = jax.jacfwd(kin_constr, argnums=[0])"
   ]
  },
  {
   "cell_type": "code",
   "execution_count": 29,
   "metadata": {},
   "outputs": [],
   "source": [
    "q_lb, q_ub = pandas[0].lb, pandas[0].ub\n",
    "\n",
    "bdr2 = SparseIPOPT()\n",
    "bdr2.add_variable(\"q_pick\", 7, q_lb, q_ub)\n",
    "bdr2.add_variable(\"q_ho_1\", 7, q_lb, q_ub)\n",
    "bdr2.add_variable(\"q_ho_2\", 7, q_lb, q_ub)\n",
    "bdr2.add_variable(\"q_place\", 7, q_lb, q_ub)\n",
    "bdr2.add_parameter(\"grasp_0\", 3)\n",
    "bdr2.add_parameter(\"grasp_1\", 3)\n",
    "bdr2.add_parameter(\"pose_o0\", 7)\n",
    "bdr2.add_parameter(\"pose_ho\", 7)\n",
    "bdr2.add_parameter(\"pose_og\", 7)\n",
    "bdr2.add_parameter(\"pose_r1\", 7)\n",
    "bdr2.add_parameter(\"pose_r2\", 7)\n",
    "\n",
    "bdr2.register_fn(\"kin_fn\", [7, 3, 7], 6,\n",
    "    kin_constr, jac_kin_constr, jac_out_argnums=[0])\n",
    "\n",
    "bdr2.set_constr(\"kin_pick\", \"kin_fn\", \n",
    "                [\"q_pick\", \"grasp_0\", \"pose_o0\"],\n",
    "                0., 0.)\n",
    "bdr2.set_constr(\"kin_ho1\", \"kin_fn\", [\"q_ho_1\", \"grasp_0\", \"pose_ho\"],\n",
    "                0., 0.)\n",
    "bdr2.set_constr(\"kin_ho2\", \"kin_fn\", [\"q_ho_2\", \"grasp_1\", \"pose_ho\"],\n",
    "                0., 0.)\n",
    "bdr2.set_constr(\"kin_place\", \"kin_fn\", [\"q_place\", \"grasp_1\", \"pose_og\"],\n",
    "                0., 0.)\n"
   ]
  },
  {
   "cell_type": "code",
   "execution_count": 30,
   "metadata": {},
   "outputs": [
    {
     "name": "stdout",
     "output_type": "stream",
     "text": [
      "compiling objective ...\n",
      "compiling gradient ...\n",
      "compiling constraints ...\n",
      "compiling jacobian ...\n"
     ]
    },
    {
     "name": "stderr",
     "output_type": "stream",
     "text": [
      "2023-08-11 16:37:30.134520: W external/xla/xla/service/gpu/ir_emitter_triton.cc:761] Shared memory size limit exceeded.\n"
     ]
    },
    {
     "name": "stdout",
     "output_type": "stream",
     "text": [
      "ooooooo------------------------------------------------\n",
      "ooooooo------------------------------------------------\n",
      "ooooooo------------------------------------------------\n",
      "ooooooo------------------------------------------------\n",
      "ooooooo------------------------------------------------\n",
      "ooooooo------------------------------------------------\n",
      "-------ooooooo-----------------------------------------\n",
      "-------ooooooo-----------------------------------------\n",
      "-------ooooooo-----------------------------------------\n",
      "-------ooooooo-----------------------------------------\n",
      "-------ooooooo-----------------------------------------\n",
      "-------ooooooo-----------------------------------------\n",
      "--------------ooooooo----------------------------------\n",
      "--------------ooooooo----------------------------------\n",
      "--------------ooooooo----------------------------------\n",
      "--------------ooooooo----------------------------------\n",
      "--------------ooooooo----------------------------------\n",
      "--------------ooooooo----------------------------------\n",
      "---------------------ooooooo---------------------------\n",
      "---------------------ooooooo---------------------------\n",
      "---------------------ooooooo---------------------------\n",
      "---------------------ooooooo---------------------------\n",
      "---------------------ooooooo---------------------------\n",
      "---------------------ooooooo---------------------------\n"
     ]
    }
   ],
   "source": [
    "ipopt_ik = bdr2.build()"
   ]
  },
  {
   "cell_type": "code",
   "execution_count": 63,
   "metadata": {},
   "outputs": [
    {
     "name": "stdout",
     "output_type": "stream",
     "text": [
      "{'q_pick': 7, 'q_ho_1': 7, 'q_ho_2': 7, 'q_place': 7, 'grasp_0': 3, 'grasp_1': 3, 'pose_o0': 7, 'pose_ho': 7, 'pose_og': 7}\n"
     ]
    }
   ],
   "source": [
    "bdr2.print_x_info()"
   ]
  },
  {
   "cell_type": "code",
   "execution_count": 65,
   "metadata": {},
   "outputs": [
    {
     "name": "stdout",
     "output_type": "stream",
     "text": [
      "This is Ipopt version 3.14.10, running with linear solver MUMPS 5.2.1.\n",
      "\n",
      "Number of nonzeros in equality constraint Jacobian...:      168\n",
      "Number of nonzeros in inequality constraint Jacobian.:        0\n",
      "Number of nonzeros in Lagrangian Hessian.............:        0\n",
      "\n",
      "Total number of variables............................:       55\n",
      "                     variables with only lower bounds:        0\n",
      "                variables with lower and upper bounds:       28\n",
      "                     variables with only upper bounds:        0\n",
      "Total number of equality constraints.................:       24\n",
      "Total number of inequality constraints...............:        0\n",
      "        inequality constraints with only lower bounds:        0\n",
      "   inequality constraints with lower and upper bounds:        0\n",
      "        inequality constraints with only upper bounds:        0\n",
      "\n",
      "iter    objective    inf_pr   inf_du lg(mu)  ||d||  lg(rg) alpha_du alpha_pr  ls\n",
      "   0  0.0000000e+00 9.58e-01 0.00e+00   0.0 0.00e+00    -  0.00e+00 0.00e+00   0\n",
      "   1  0.0000000e+00 7.39e-01 7.94e+00  -5.6 2.53e+00    -  5.35e-01 1.00e+00h  1\n",
      "   2  0.0000000e+00 4.80e-01 3.67e+00  -0.0 1.45e+00    -  8.21e-01 1.00e+00f  1\n",
      "   3  0.0000000e+00 6.70e-02 7.53e-01  -0.6 4.22e-01    -  9.95e-01 1.00e+00h  1\n",
      "   4  0.0000000e+00 1.46e-02 5.93e-01  -6.6 3.63e-01    -  8.27e-01 1.00e+00h  1\n",
      "   5  0.0000000e+00 2.14e-04 2.28e-03  -3.0 3.89e-02    -  1.00e+00 1.00e+00h  1\n",
      "   6  0.0000000e+00 3.05e-07 7.22e-06  -8.9 1.24e-03    -  9.96e-01 1.00e+00h  1\n",
      "\n",
      "Number of Iterations....: 6\n",
      "\n",
      "                                   (scaled)                 (unscaled)\n",
      "Objective...............:   0.0000000000000000e+00    0.0000000000000000e+00\n",
      "Dual infeasibility......:   7.2203957521867794e-06    7.2203957521867794e-06\n",
      "Constraint violation....:   3.0547388973900524e-07    3.0547388973900524e-07\n",
      "Variable bound violation:   0.0000000000000000e+00    0.0000000000000000e+00\n",
      "Complementarity.........:   6.6801369933453671e-06    6.6801369933453671e-06\n",
      "Overall NLP error.......:   7.2203957521867794e-06    7.2203957521867794e-06\n",
      "\n",
      "\n",
      "Number of objective function evaluations             = 7\n",
      "Number of objective gradient evaluations             = 7\n",
      "Number of equality constraint evaluations            = 7\n",
      "Number of inequality constraint evaluations          = 0\n",
      "Number of equality constraint Jacobian evaluations   = 7\n",
      "Number of inequality constraint Jacobian evaluations = 0\n",
      "Number of Lagrangian Hessian evaluations             = 0\n",
      "Total seconds in IPOPT                               = 0.028\n",
      "\n",
      "EXIT: Solved To Acceptable Level.\n"
     ]
    }
   ],
   "source": [
    "q_init = pandas[0].neutral\n",
    "grasp1 = bdr1.split_solution(grasp_sol)[\"grasp_0\"]\n",
    "grasp2 = bdr1.split_solution(grasp_sol)[\"grasp_1\"]\n",
    "pose_o0 = bdr1.split_solution(grasp_sol)[\"pose_o0\"]\n",
    "pose_ho = bdr1.split_solution(grasp_sol)[\"pose_ho\"]\n",
    "pose_og = bdr1.split_solution(grasp_sol)[\"pose_og\"]\n",
    "x0 = np.hstack([q_init,q_init,q_init,q_init, grasp1, grasp2, pose_o0, pose_ho, pose_og])\n",
    "ik_sol, info = ipopt_ik.solve(x0)"
   ]
  },
  {
   "cell_type": "code",
   "execution_count": 68,
   "metadata": {},
   "outputs": [],
   "source": [
    "pandas[0].set_joint_angles(bdr2.split_solution(ik_sol)[\"q_pick\"])\n",
    "pandas[1].set_joint_angles(bdr2.split_solution(ik_sol)[\"q_ho_1\"])"
   ]
  },
  {
   "cell_type": "code",
   "execution_count": 72,
   "metadata": {},
   "outputs": [],
   "source": [
    "pandas[2].set_joint_angles(bdr2.split_solution(ik_sol)[\"q_ho_2\"])\n",
    "pandas[3].set_joint_angles(bdr2.split_solution(ik_sol)[\"q_place\"])"
   ]
  },
  {
   "cell_type": "code",
   "execution_count": null,
   "metadata": {},
   "outputs": [],
   "source": [
    "ho_lb = np.array([0., -0.4, 0., -np.pi, -np.pi, -np.pi])\n",
    "ho_ub = np.array([0.5, 0.4, 0.7, np.pi, np.pi, np.pi])"
   ]
  },
  {
   "cell_type": "code",
   "execution_count": 137,
   "metadata": {},
   "outputs": [],
   "source": [
    "bdr1 = SparseIPOPT()\n",
    "bdr1.add_variable(\"grasp_0\", 3, -1., 1.)\n",
    "bdr1.add_variable(\"grasp_1\", 3, -1., 1.)\n",
    "#bdr1.add_variable(\"qtn_ho\", 4, -1., 1.)\n",
    "#bdr1.add_variable(\"pos_ho\", 3, ws_lb[:3], ws_ub[:3])\n",
    "obj_pose_init = obj_start.pose.parameters()\n",
    "bdr1.add_variable(\"posevec_ho\", 6, ho_lb - to_posevec(obj_pose_init) , ho_ub - to_posevec(obj_pose_init))\n",
    "bdr1.add_parameter(\"pose_o0\", 7)\n",
    "bdr1.add_parameter(\"pose_og\", 7)\n",
    "bdr1.add_parameter(\"pose_r1\", 7)\n",
    "bdr1.add_parameter(\"pose_r2\", 7)\n",
    "\n",
    "bdr1.register_fn(\"grasp_fn\", [3], 1,\n",
    "    grasp_constr, jac_grasp_constr)\n",
    "bdr1.register_fn(\"manip_fn\", [3, 6, 7, 7, 7], 2,\n",
    "    manip_constr_ec, jac_manip_constr, jac_out_argnums=[0, 1])\n",
    "# bdr1.register_fn(\"qtn_constr\", [4], 1,\n",
    "#     qtn_constr, jac_qtn_constr)"
   ]
  },
  {
   "cell_type": "code",
   "execution_count": 138,
   "metadata": {},
   "outputs": [],
   "source": [
    "#bdr1.set_objective(\"grasp_obj\", [\"grasp_0\", \"grasp_1\"])\n",
    "bdr1.set_constr(\"grasp_prob_pick\", \"grasp_fn\", [\"grasp_0\"], \n",
    "                   1., np.inf)\n",
    "bdr1.set_constr(\"grasp_prob_place\", \"grasp_fn\", [\"grasp_1\"], \n",
    "                   1., np.inf)\n",
    "bdr1.set_constr(\"manip_pick_ho\", \"manip_fn\", \n",
    "                [\"grasp_0\", \"posevec_ho\", \"pose_o0\", \"pose_r1\", \"pose_o0\"], \n",
    "                 0.2, np.inf) #, no_deriv_names=[\"grasp_0\"]\n",
    "bdr1.set_constr(\"manip_place_ho\", \"manip_fn\", \n",
    "                [\"grasp_1\", \"posevec_ho\", \"pose_og\", \"pose_r2\", \"pose_o0\"], \n",
    "                 0.2, np.inf)\n",
    "# bdr1.set_constr(\"qtn_manifold\", \"qtn_constr\", [\"qtn_ho\"], 0., 0.)"
   ]
  },
  {
   "cell_type": "code",
   "execution_count": 139,
   "metadata": {},
   "outputs": [],
   "source": [
    "def debug_callback(xdict):\n",
    "    grasp0 = xdict[\"grasp_0\"]\n",
    "    grasp1 = xdict[\"grasp_1\"]\n",
    "    # qtn_ho = xdict[\"qtn_ho\"]\n",
    "    # pos_ho = xdict[\"pos_ho\"]\n",
    "    posevec_ho = xdict[\"posevec_ho\"]\n",
    "    pose_ref = xdict[\"pose_o0\"]\n",
    "    #pose_ho = merge_pose(pos_ho, qtn_ho)\n",
    "    pose_ho = SE3(pose_ref) @ to_pose(posevec_ho)\n",
    "    pose_o0 = SE3(xdict[\"pose_o0\"])\n",
    "    pose_og = SE3(xdict[\"pose_og\"])\n",
    "    #print(f\"pos:{pose_ho.parameters()[-3:]}\")    \n",
    "    obj.set_pose(pose_ho)\n",
    "    grasp_pose1_ho0 = pose_ho @ grasp_reconst(grasp0)\n",
    "    grasp_pose1_o0 = pose_o0 @ grasp_reconst(grasp0)\n",
    "    grasp_pose1_ho1 = pose_ho @ grasp_reconst(grasp1)\n",
    "    grasp_pose1_o1 = pose_og @ grasp_reconst(grasp1)\n",
    "    hand1.set_pose(grasp_pose1_ho0)\n",
    "    hand2.set_pose(grasp_pose1_o0)\n",
    "    hand3.set_pose(grasp_pose1_ho1)\n",
    "    hand4.set_pose(grasp_pose1_o1)\n",
    "    #print(f\"err: {qtn_err(qtn, qtn_d)}  viol:{qtn_constr(qtn)}\")\n",
    "    time.sleep(0.5)\n",
    "bdr1.set_debug_callback(debug_callback)"
   ]
  },
  {
   "cell_type": "code",
   "execution_count": 140,
   "metadata": {},
   "outputs": [
    {
     "name": "stdout",
     "output_type": "stream",
     "text": [
      "compiling objective ...\n",
      "compiling gradient ...\n",
      "compiling constraints ...\n",
      "compiling jacobian ...\n",
      "ooo-------------------------------------\n",
      "---ooo----------------------------------\n",
      "ooo---oooooo----------------------------\n",
      "ooo---oooooo----------------------------\n",
      "---ooooooooo----------------------------\n",
      "---ooooooooo----------------------------\n"
     ]
    }
   ],
   "source": [
    "ipopt_grasp = bdr1.build()"
   ]
  },
  {
   "cell_type": "code",
   "execution_count": 141,
   "metadata": {},
   "outputs": [
    {
     "name": "stdout",
     "output_type": "stream",
     "text": [
      "{'grasp_0': 3, 'grasp_1': 3, 'posevec_ho': 6, 'pose_o0': 7, 'pose_og': 7, 'pose_r1': 7, 'pose_r2': 7}\n"
     ]
    }
   ],
   "source": [
    "bdr1.print_x_info()"
   ]
  },
  {
   "cell_type": "code",
   "execution_count": 142,
   "metadata": {},
   "outputs": [
    {
     "name": "stdout",
     "output_type": "stream",
     "text": [
      "This is Ipopt version 3.14.10, running with linear solver MUMPS 5.2.1.\n",
      "\n",
      "Number of nonzeros in equality constraint Jacobian...:        0\n",
      "Number of nonzeros in inequality constraint Jacobian.:       42\n",
      "Number of nonzeros in Lagrangian Hessian.............:        0\n",
      "\n",
      "Total number of variables............................:       40\n",
      "                     variables with only lower bounds:        0\n",
      "                variables with lower and upper bounds:       12\n",
      "                     variables with only upper bounds:        0\n",
      "Total number of equality constraints.................:        0\n",
      "Total number of inequality constraints...............:        6\n",
      "        inequality constraints with only lower bounds:        6\n",
      "   inequality constraints with lower and upper bounds:        0\n",
      "        inequality constraints with only upper bounds:        0\n",
      "\n",
      "iter    objective    inf_pr   inf_du lg(mu)  ||d||  lg(rg) alpha_du alpha_pr  ls\n",
      "   0  0.0000000e+00 1.81e+02 1.00e+00   0.0 0.00e+00    -  0.00e+00 0.00e+00   0\n",
      "   1  0.0000000e+00 1.70e+02 9.88e-01  -5.9 7.91e-01    -  5.53e-01 1.25e-01h  4\n",
      "   2  0.0000000e+00 8.37e+01 1.09e+01  -0.6 8.68e-01    -  1.00e+00 7.11e-01h  1\n",
      "   3  0.0000000e+00 1.20e+02 8.66e+01  -0.3 1.18e+01    -  3.91e-02 1.00e+00f  1\n",
      "   4  0.0000000e+00 7.57e+01 5.88e+00  -0.6 2.94e+00    -  1.00e+00 1.00e+00h  1\n",
      "   5  0.0000000e+00 4.53e+01 5.67e+00  -0.6 1.68e+01    -  7.01e-01 5.43e-01h  1\n",
      "   6  0.0000000e+00 8.75e+01 5.03e+00  -0.7 1.11e+01    -  9.00e-01 1.00e+00f  1\n",
      "   7  0.0000000e+00 3.28e+01 4.05e+00  -0.9 7.76e+00    -  1.00e+00 1.00e+00h  1\n",
      "   8  0.0000000e+00 8.36e+00 4.95e+00  -0.9 9.88e-01    -  1.00e+00 1.00e+00h  1\n",
      "   9  0.0000000e+00 0.00e+00 4.70e-01  -1.8 1.33e+01    -  1.00e+00 1.00e+00h  1\n",
      "iter    objective    inf_pr   inf_du lg(mu)  ||d||  lg(rg) alpha_du alpha_pr  ls\n",
      "  10  0.0000000e+00 0.00e+00 8.60e-01  -2.8 1.92e+00    -  9.98e-01 1.00e+00h  1\n",
      "  11  0.0000000e+00 0.00e+00 2.12e-01  -4.4 4.00e-01    -  1.00e+00 1.00e+00h  1\n",
      "  12  0.0000000e+00 0.00e+00 1.26e-03  -4.5 3.24e-03    -  1.00e+00 1.00e+00h  1\n",
      "\n",
      "Number of Iterations....: 12\n",
      "\n",
      "                                   (scaled)                 (unscaled)\n",
      "Objective...............:   0.0000000000000000e+00    0.0000000000000000e+00\n",
      "Dual infeasibility......:   1.2635235049711945e-03    1.2635235049711945e-03\n",
      "Constraint violation....:   0.0000000000000000e+00    0.0000000000000000e+00\n",
      "Variable bound violation:   0.0000000000000000e+00    0.0000000000000000e+00\n",
      "Complementarity.........:   2.8297193073075753e-05    2.8297193073075753e-05\n",
      "Overall NLP error.......:   1.2635235049711945e-03    1.2635235049711945e-03\n",
      "\n",
      "\n",
      "Number of objective function evaluations             = 17\n",
      "Number of objective gradient evaluations             = 13\n",
      "Number of equality constraint evaluations            = 0\n",
      "Number of inequality constraint evaluations          = 17\n",
      "Number of equality constraint Jacobian evaluations   = 0\n",
      "Number of inequality constraint Jacobian evaluations = 13\n",
      "Number of Lagrangian Hessian evaluations             = 0\n",
      "Total seconds in IPOPT                               = 10.327\n",
      "\n",
      "EXIT: Solved To Acceptable Level.\n"
     ]
    }
   ],
   "source": [
    "grasp = jnp.zeros(3)\n",
    "pose_o = obj_start.pose.parameters()\n",
    "pose_g = obj_goal.pose.parameters()\n",
    "#pose_r = SE3.identity().parameters()\n",
    "pose_r1 = SE3.from_translation(jnp.array([0, -0.4, 0])).parameters()\n",
    "pose_r2 = SE3.from_translation(jnp.array([0, 0.4, 0])).parameters()\n",
    "pose_oref = pose_o\n",
    "posevec_ho = to_posevec((SE3(pose_oref).inverse() @ obj_ho.pose).parameters())\n",
    "x0 = np.hstack([grasp, grasp, posevec_ho, pose_o, pose_g, pose_r1, pose_r2])\n",
    "grasp_sol, info = ipopt_grasp.solve(x0)\n"
   ]
  },
  {
   "cell_type": "code",
   "execution_count": 127,
   "metadata": {},
   "outputs": [],
   "source": [
    "hand3.set_pose(SE3.identity())"
   ]
  },
  {
   "cell_type": "code",
   "execution_count": 77,
   "metadata": {},
   "outputs": [
    {
     "data": {
      "text/plain": [
       "array([0, 1, 2, 3])"
      ]
     },
     "execution_count": 77,
     "metadata": {},
     "output_type": "execute_result"
    }
   ],
   "source": [
    "in_dims = [1, 3, 2, 4]\n",
    "np.arange(len(in_dims))"
   ]
  },
  {
   "cell_type": "code",
   "execution_count": 44,
   "metadata": {},
   "outputs": [
    {
     "data": {
      "text/plain": [
       "Array(0.37309918, dtype=float32)"
      ]
     },
     "execution_count": 44,
     "metadata": {},
     "output_type": "execute_result"
    }
   ],
   "source": []
  }
 ],
 "metadata": {
  "kernelspec": {
   "display_name": "cu11",
   "language": "python",
   "name": "python3"
  },
  "language_info": {
   "codemirror_mode": {
    "name": "ipython",
    "version": 3
   },
   "file_extension": ".py",
   "mimetype": "text/x-python",
   "name": "python",
   "nbconvert_exporter": "python",
   "pygments_lexer": "ipython3",
   "version": "3.8.16"
  },
  "orig_nbformat": 4
 },
 "nbformat": 4,
 "nbformat_minor": 2
}
