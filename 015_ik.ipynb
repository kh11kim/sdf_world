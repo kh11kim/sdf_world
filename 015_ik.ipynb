{
 "cells": [
  {
   "cell_type": "code",
   "execution_count": 1,
   "metadata": {},
   "outputs": [],
   "source": [
    "import numpy as np\n",
    "import jax\n",
    "import jax.numpy as jnp\n",
    "from jaxlie import SE3, SO3\n",
    "import cyipopt\n",
    "from functools import partial\n",
    "\n",
    "from sdf_world.sdf_world import *\n",
    "from sdf_world.robots import *\n",
    "from sdf_world.util import *"
   ]
  },
  {
   "cell_type": "code",
   "execution_count": 2,
   "metadata": {},
   "outputs": [
    {
     "name": "stdout",
     "output_type": "stream",
     "text": [
      "You can open the visualizer by visiting the following URL:\n",
      "http://127.0.0.1:7001/static/\n"
     ]
    }
   ],
   "source": [
    "world = SDFWorld()"
   ]
  },
  {
   "cell_type": "code",
   "execution_count": 3,
   "metadata": {},
   "outputs": [],
   "source": [
    "panda_model = RobotModel(PANDA_URDF, PANDA_PACKAGE)\n",
    "panda = Robot(world.vis, \"panda\", panda_model, alpha=0.5)\n",
    "panda.reduce_dim([7, 8], [0.04, 0.04])"
   ]
  },
  {
   "cell_type": "code",
   "execution_count": 4,
   "metadata": {},
   "outputs": [],
   "source": [
    "# ik\n",
    "robot_dim = 7\n",
    "horizon = 5\n",
    "dim = robot_dim * horizon\n",
    "dt = 0.1\n",
    "\n",
    "to_mat = lambda x: x.reshape(-1, robot_dim)\n",
    "to_vec = lambda x: x.flatten()\n",
    "\n",
    "# def to_qdots_mat(q0, qs):\n",
    "#     qs = jnp.vstack([q0, to_mat(qs)])\n",
    "#     return (qs[1:] - qs[:-1]) /dt"
   ]
  },
  {
   "cell_type": "code",
   "execution_count": 5,
   "metadata": {},
   "outputs": [],
   "source": [
    "# Kinematics\n",
    "def skew(v):\n",
    "    v1, v2, v3 = v\n",
    "    return jnp.array([[0, -v3, v2],\n",
    "                      [v3, 0., -v1],\n",
    "                      [-v2, v1, 0.]])\n",
    "\n",
    "def get_rotvec_angvel_map(v):\n",
    "    vmag = jnp.linalg.norm(v)\n",
    "    vskew = skew(v)\n",
    "    return jnp.eye(3) \\\n",
    "        - 1/2*skew(v) \\\n",
    "        + vskew@vskew * 1/vmag**2 * (1-vmag/2 * jnp.sin(vmag)/(1-jnp.cos(vmag)))\n",
    "\n",
    "@jax.jit\n",
    "def get_ee_fk_jac(q):\n",
    "    # outputs ee_posevec and analytical jacobian\n",
    "    fks = panda_model.fk_fn(q)\n",
    "    p_ee = fks[-1][-3:]\n",
    "    rotvec_ee = SO3(fks[-1][:4]).log()\n",
    "    E = get_rotvec_angvel_map(rotvec_ee)\n",
    "    jac = []\n",
    "    for posevec in fks[1:8]:\n",
    "        p_frame = posevec[-3:]\n",
    "        rot_axis = SE3(posevec).as_matrix()[:3, 2]\n",
    "        lin_vel = jnp.cross(rot_axis, p_ee - p_frame)\n",
    "        jac.append(jnp.hstack([lin_vel, rot_axis]))\n",
    "    jac = jnp.array(jac).T\n",
    "    jac = jac.at[3:, :].set(E @ jac[3:, :])\n",
    "    return jnp.hstack([p_ee, rotvec_ee]), jac\n",
    "\n",
    "get_ee_fk = jax.jit(lambda q: get_ee_fk_jac(q)[0])\n",
    "get_ee_jac = jax.jit(lambda q: get_ee_fk_jac(q)[1])\n",
    "get_ee_hess = jax.jacrev(get_ee_jac)"
   ]
  },
  {
   "cell_type": "code",
   "execution_count": 6,
   "metadata": {},
   "outputs": [],
   "source": [
    "frame = Frame(world.vis, \"frame\")\n",
    "frame_ee = Frame(world.vis, \"frame_ee\")\n",
    "def make_pose():\n",
    "    return SE3.from_rotation_and_translation(\n",
    "        SO3(np.random.random(4)).normalize(),\n",
    "        np.random.uniform([-0.3,-0.5,0.3],[0.6, 0.5, 0.8])\n",
    "    )"
   ]
  },
  {
   "cell_type": "code",
   "execution_count": 15,
   "metadata": {},
   "outputs": [],
   "source": [
    "import time\n",
    "def to_posevec(pose:SE3):\n",
    "    return jnp.hstack([\n",
    "        pose.translation(), pose.rotation().log()\n",
    "    ])\n",
    "\n",
    "def objective(q, pose_d):\n",
    "    posevec_d = to_posevec(pose_d)\n",
    "    error = posevec_d - get_ee_fk(q)\n",
    "    panda.set_joint_angles(q)\n",
    "    time.sleep(0.1)\n",
    "    return 0.5*error@error\n",
    "\n",
    "def gradient(q, pose_d):\n",
    "    posevec_d = to_posevec(pose_d)\n",
    "    ee, jac = get_ee_fk_jac(q)\n",
    "    error = posevec_d - ee\n",
    "    # error_mag = jnp.linalg.norm(error)\n",
    "    # if error_mag > 0.5:\n",
    "    #     error = error/error_mag * 0.5\n",
    "    return - jac.T @ error #jac.T\n",
    "\n",
    "def hessian(q, lagrange, obj_factor, pose_d):\n",
    "    eps = 1e-6\n",
    "    posevec_d = to_posevec(pose_d)\n",
    "    ee, jac = get_ee_fk_jac(q)\n",
    "    error = posevec_d - ee\n",
    "    error_mag = jnp.linalg.norm(error)\n",
    "    print(error_mag)\n",
    "    if error_mag < 0.5:\n",
    "        hess = jac.T@jac - (get_ee_hess(q).T @ error)\n",
    "        # eig_vals, eig_vecs = jnp.linalg.eigh(hess)\n",
    "        # if eig_vals.min() < eps:\n",
    "        #     eig_modified = eig_vals.at[eig_vals < eps].set(eps)\n",
    "        #     hess = eig_vecs @ jnp.diag(eig_modified) @ eig_vecs.T    \n",
    "        return hess\n",
    "    else:\n",
    "        return jnp.eye(7)\n",
    "    #return jac.T@jac"
   ]
  },
  {
   "cell_type": "code",
   "execution_count": 9,
   "metadata": {},
   "outputs": [],
   "source": [
    "pose_d = make_pose()\n",
    "frame.set_pose(pose_d)"
   ]
  },
  {
   "cell_type": "code",
   "execution_count": 10,
   "metadata": {},
   "outputs": [],
   "source": [
    "q = panda.neutral"
   ]
  },
  {
   "cell_type": "code",
   "execution_count": 243,
   "metadata": {},
   "outputs": [],
   "source": [
    "# def barrier_fn(x, eps=0.001):\n",
    "#     def fn_in_transition(x):\n",
    "#         return (1/6/eps * x**3 + 1/2*x**2 + eps/2*x + eps**2/6)\n",
    "#     def fn_larger_than_zero(x):\n",
    "#         return (1/2*x**2 + eps/2*x + eps**2/6)\n",
    "#     def fn_const_satisfied(x):\n",
    "#         return 0.\n",
    "#     x = -x\n",
    "#     in_transition = (-eps < x) & (x < 0.)\n",
    "#     larger_than_zero = 0 <= x\n",
    "#     cond = in_transition + 2*larger_than_zero\n",
    "#     fns = [fn_const_satisfied, fn_in_transition, fn_larger_than_zero]\n",
    "#     return jax.lax.switch(cond, fns, x)\n",
    "\n",
    "# def barrier_fn(x, eps=0.01):\n",
    "#     def fn_not_active(x):\n",
    "#         return 0.\n",
    "#     def fn_in_transition(x):\n",
    "#         return (1/2/eps)*(x+eps)**2\n",
    "#     def fn_active(x):\n",
    "#         return x + 1/2 * eps\n",
    "#     x = -x\n",
    "#     is_in_transition = (-eps < x) & (x < 0.)\n",
    "#     is_active = 0 <= x\n",
    "#     switch_var = is_active + is_in_transition*2\n",
    "#     fns = [fn_not_active, fn_active, fn_in_transition]\n",
    "#     return jax.lax.switch(switch_var, fns, x)"
   ]
  },
  {
   "cell_type": "code",
   "execution_count": 11,
   "metadata": {},
   "outputs": [],
   "source": [
    "lb = panda.neutral - np.ones(7)*0.6\n",
    "ub = panda.neutral + np.ones(7)*0.6\n",
    "ub_viol_err = lambda q: (ub - q) # panda.ub\n",
    "lb_viol_err = lambda q: (q - lb)\n",
    "def errors(q):\n",
    "    posevec_d = to_posevec(pose_d)\n",
    "    pose_error = posevec_d - get_ee_fk(q)\n",
    "    return jnp.hstack([pose_error, ub_viol_err(q), lb_viol_err(q)])\n",
    "\n",
    "def errors_jac(q):\n",
    "    posevec_d = to_posevec(pose_d)\n",
    "    ee, jac = get_ee_fk_jac(q)\n",
    "    return jnp.vstack([\n",
    "        - jac,\n",
    "        jax.jacrev(ub_viol_err)(q),\n",
    "        jax.jacrev(lb_viol_err)(q)\n",
    "    ])"
   ]
  },
  {
   "cell_type": "code",
   "execution_count": 51,
   "metadata": {},
   "outputs": [],
   "source": [
    "x = panda.neutral\n",
    "panda.set_joint_angles(x)"
   ]
  },
  {
   "cell_type": "code",
   "execution_count": 19,
   "metadata": {},
   "outputs": [],
   "source": [
    "import osqp\n",
    "from scipy import sparse\n",
    "m = osqp.OSQP()"
   ]
  },
  {
   "cell_type": "code",
   "execution_count": 31,
   "metadata": {},
   "outputs": [],
   "source": [
    "ee, jac = get_ee_fk_jac(q)\n",
    "error = to_posevec(pose_d) - ee"
   ]
  },
  {
   "cell_type": "code",
   "execution_count": 62,
   "metadata": {},
   "outputs": [],
   "source": [
    "P = sparse.csc_matrix(jac.T@jac)\n",
    "q = np.asarray(-jac.T@error)\n",
    "A = sparse.csc_matrix(np.eye(7))\n",
    "l = np.asarray(panda.lb)\n",
    "u = np.asarray(panda.ub)"
   ]
  },
  {
   "cell_type": "code",
   "execution_count": 63,
   "metadata": {},
   "outputs": [
    {
     "name": "stdout",
     "output_type": "stream",
     "text": [
      "-----------------------------------------------------------------\n",
      "           OSQP v0.6.2  -  Operator Splitting QP Solver\n",
      "              (c) Bartolomeo Stellato,  Goran Banjac\n",
      "        University of Oxford  -  Stanford University 2021\n",
      "-----------------------------------------------------------------\n",
      "problem:  variables n = 7, constraints m = 7\n",
      "          nnz(P) + nnz(A) = 35\n",
      "settings: linear system solver = qdldl,\n",
      "          eps_abs = 1.0e-03, eps_rel = 1.0e-03,\n",
      "          eps_prim_inf = 1.0e-04, eps_dual_inf = 1.0e-04,\n",
      "          rho = 1.00e-01 (adaptive),\n",
      "          sigma = 1.00e-06, alpha = 1.60, max_iter = 4000\n",
      "          check_termination: on (interval 25),\n",
      "          scaling: on, scaled_termination: off\n",
      "          warm start: on, polish: off, time_limit: off\n",
      "\n"
     ]
    }
   ],
   "source": [
    "m.setup(P, q, A, l, u)"
   ]
  },
  {
   "cell_type": "code",
   "execution_count": 66,
   "metadata": {},
   "outputs": [
    {
     "name": "stdout",
     "output_type": "stream",
     "text": [
      "iter   objective    pri res    dua res    rho        time\n",
      "   1  -1.7532e+00   3.46e-01   1.84e+00   1.00e-01   2.02e-04s\n",
      "  50  -2.5605e+00   9.87e-06   3.04e-08   2.26e-03   2.68e-04s\n",
      "\n",
      "status:               solved\n",
      "number of iterations: 50\n",
      "optimal objective:    -2.5605\n",
      "run time:             3.12e-04s\n",
      "optimal rho estimate: 4.15e-02\n",
      "\n"
     ]
    }
   ],
   "source": [
    "res = m.solve()"
   ]
  },
  {
   "cell_type": "code",
   "execution_count": 69,
   "metadata": {},
   "outputs": [],
   "source": [
    "panda.set_joint_angles(res.x)"
   ]
  },
  {
   "cell_type": "code",
   "execution_count": null,
   "metadata": {},
   "outputs": [],
   "source": []
  },
  {
   "cell_type": "code",
   "execution_count": 30,
   "metadata": {},
   "outputs": [
    {
     "data": {
      "text/plain": [
       "Array([ 0.42022437, -0.253579  ,  0.3242428 ,  1.7824111 ,  0.5794731 ,\n",
       "        2.3299313 ], dtype=float32)"
      ]
     },
     "execution_count": 30,
     "metadata": {},
     "output_type": "execute_result"
    }
   ],
   "source": []
  },
  {
   "cell_type": "code",
   "execution_count": 352,
   "metadata": {},
   "outputs": [
    {
     "data": {
      "text/plain": [
       "Array([0.        , 0.        , 0.        , 0.        , 0.01698572,\n",
       "       0.        , 0.        ], dtype=float32)"
      ]
     },
     "execution_count": 352,
     "metadata": {},
     "output_type": "execute_result"
    }
   ],
   "source": [
    "error = errors(q)\n",
    "jac = errors_jac(q)\n",
    "\n",
    "#search direction\n",
    "mu = 1.\n",
    "p = jnp.linalg.solve(jac.T@jac + mu * jnp.eye(7), jac.T@error)\n",
    "#p = jnp.linalg.pinv(jac + mu*jnp.eye(20)) @ error\n",
    "q = q - p\n",
    "panda.set_joint_angles(q)\n",
    "\n",
    "\n",
    "lb_viol_err(q)"
   ]
  },
  {
   "cell_type": "code",
   "execution_count": 250,
   "metadata": {},
   "outputs": [
    {
     "data": {
      "text/plain": [
       "Array([0.        , 0.15234926, 0.        , 0.        , 0.21121785,\n",
       "       0.        , 0.        ], dtype=float32)"
      ]
     },
     "execution_count": 250,
     "metadata": {},
     "output_type": "execute_result"
    }
   ],
   "source": [
    "lb_viol_err(q)"
   ]
  },
  {
   "cell_type": "code",
   "execution_count": 251,
   "metadata": {},
   "outputs": [
    {
     "data": {
      "text/plain": [
       "Array([ 0.09867393, -0.24734928,  0.17106777, -1.4042025 , -0.30621785,\n",
       "        2.008299  , -0.03468547], dtype=float32)"
      ]
     },
     "execution_count": 251,
     "metadata": {},
     "output_type": "execute_result"
    }
   ],
   "source": [
    "q"
   ]
  },
  {
   "cell_type": "code",
   "execution_count": 220,
   "metadata": {},
   "outputs": [
    {
     "data": {
      "text/plain": [
       "array([-0.1   , -0.1   , -0.1   , -1.6708, -0.1   ,  1.7675, -0.1   ])"
      ]
     },
     "execution_count": 220,
     "metadata": {},
     "output_type": "execute_result"
    }
   ],
   "source": [
    "lb"
   ]
  },
  {
   "cell_type": "code",
   "execution_count": 221,
   "metadata": {},
   "outputs": [
    {
     "data": {
      "text/plain": [
       "Array([ 0.08204126, -0.4565379 ,  0.47167525, -1.5086615 , -0.5564139 ,\n",
       "        1.8475084 ,  0.19310814], dtype=float32)"
      ]
     },
     "execution_count": 221,
     "metadata": {},
     "output_type": "execute_result"
    }
   ],
   "source": [
    "q"
   ]
  },
  {
   "cell_type": "code",
   "execution_count": 130,
   "metadata": {},
   "outputs": [],
   "source": []
  },
  {
   "cell_type": "code",
   "execution_count": 127,
   "metadata": {},
   "outputs": [
    {
     "data": {
      "text/plain": [
       "Array([-4.5493030e-04,  6.8912457e-04, -4.8303755e-04, -1.5701594e+00,\n",
       "       -3.9810088e-04,  1.8676169e+00,  2.6600220e-04], dtype=float32)"
      ]
     },
     "execution_count": 127,
     "metadata": {},
     "output_type": "execute_result"
    }
   ],
   "source": [
    "q"
   ]
  },
  {
   "cell_type": "code",
   "execution_count": 115,
   "metadata": {},
   "outputs": [],
   "source": []
  },
  {
   "cell_type": "code",
   "execution_count": 92,
   "metadata": {},
   "outputs": [
    {
     "data": {
      "text/plain": [
       "(20,)"
      ]
     },
     "execution_count": 92,
     "metadata": {},
     "output_type": "execute_result"
    }
   ],
   "source": [
    "error.shape"
   ]
  },
  {
   "cell_type": "code",
   "execution_count": null,
   "metadata": {},
   "outputs": [],
   "source": []
  },
  {
   "cell_type": "code",
   "execution_count": 86,
   "metadata": {},
   "outputs": [
    {
     "data": {
      "text/plain": [
       "(20, 7)"
      ]
     },
     "execution_count": 86,
     "metadata": {},
     "output_type": "execute_result"
    }
   ],
   "source": [
    "jnp.linalg.pinv(jac).T.shape"
   ]
  },
  {
   "cell_type": "code",
   "execution_count": 72,
   "metadata": {},
   "outputs": [],
   "source": [
    "\n"
   ]
  },
  {
   "cell_type": "code",
   "execution_count": 71,
   "metadata": {},
   "outputs": [
    {
     "data": {
      "text/plain": [
       "Array([0., 0., 0., 0., 0., 0., 0.], dtype=float32)"
      ]
     },
     "execution_count": 71,
     "metadata": {},
     "output_type": "execute_result"
    }
   ],
   "source": [
    "ub_viol_err"
   ]
  },
  {
   "cell_type": "code",
   "execution_count": 67,
   "metadata": {},
   "outputs": [
    {
     "data": {
      "text/plain": [
       "[<matplotlib.lines.Line2D at 0x7f5f5c705880>]"
      ]
     },
     "execution_count": 67,
     "metadata": {},
     "output_type": "execute_result"
    },
    {
     "data": {
      "image/png": "[encoded data removed]",
      "text/plain": [
       "<Figure size 640x480 with 1 Axes>"
      ]
     },
     "metadata": {},
     "output_type": "display_data"
    }
   ],
   "source": [
    "import matplotlib.pyplot as plt\n",
    "xx = jnp.linspace(-1, 1, 100)\n",
    "plt.plot(xx, jax.vmap(barrier_fn)(xx))"
   ]
  },
  {
   "cell_type": "code",
   "execution_count": 62,
   "metadata": {},
   "outputs": [],
   "source": [
    "class Problem:\n",
    "    pass\n",
    "prob = Problem()\n",
    "setattr(prob, \"objective\", partial(objective, pose_d=pose_d))\n",
    "setattr(prob, \"gradient\", partial(gradient, pose_d=pose_d))\n",
    "#setattr(prob, \"hessian\", partial(hessian, pose_d=pose_d))"
   ]
  },
  {
   "cell_type": "code",
   "execution_count": 63,
   "metadata": {},
   "outputs": [
    {
     "name": "stdout",
     "output_type": "stream",
     "text": [
      "This is Ipopt version 3.14.10, running with linear solver MUMPS 5.2.1.\n",
      "\n",
      "Number of nonzeros in equality constraint Jacobian...:        0\n",
      "Number of nonzeros in inequality constraint Jacobian.:        0\n",
      "Number of nonzeros in Lagrangian Hessian.............:        0\n",
      "\n",
      "Total number of variables............................:        7\n",
      "                     variables with only lower bounds:        0\n",
      "                variables with lower and upper bounds:        7\n",
      "                     variables with only upper bounds:        0\n",
      "Total number of equality constraints.................:        0\n",
      "Total number of inequality constraints...............:        0\n",
      "        inequality constraints with only lower bounds:        0\n",
      "   inequality constraints with lower and upper bounds:        0\n",
      "        inequality constraints with only upper bounds:        0\n",
      "\n",
      "iter    objective    inf_pr   inf_du lg(mu)  ||d||  lg(rg) alpha_du alpha_pr  ls\n",
      "   0  1.8604290e+00 0.00e+00 2.54e+00   0.0 0.00e+00    -  0.00e+00 0.00e+00   0\n",
      "   1  8.5218996e-01 0.00e+00 2.25e+00  -5.6 1.52e+00    -  6.55e-01 5.00e-01f  2\n",
      "   2  1.4455943e-01 0.00e+00 2.56e-01  -1.0 2.60e-01    -  9.49e-01 1.00e+00f  1\n",
      "   3  1.1649580e-01 0.00e+00 1.54e-01  -2.5 5.59e-02    -  9.96e-01 1.00e+00f  1\n",
      "   4  1.0328687e-01 0.00e+00 1.46e-01  -3.9 4.82e-02    -  1.00e+00 1.00e+00f  1\n",
      "   5  5.7565950e-02 0.00e+00 1.39e-01  -5.0 2.55e-01    -  1.00e+00 1.00e+00f  1\n",
      "   6  3.4012724e-02 0.00e+00 3.01e-01  -5.6 1.10e+00    -  1.00e+00 2.50e-01f  3\n",
      "   7  1.8606907e-02 0.00e+00 1.58e-01  -6.3 1.25e+00    -  1.00e+00 1.21e-01f  4\n",
      "   8  5.6509748e-03 0.00e+00 5.33e-02  -6.0 7.28e-02    -  1.00e+00 1.00e+00f  1\n",
      "   9  3.2445104e-03 0.00e+00 2.05e-02  -7.5 5.33e-02    -  1.00e+00 1.00e+00f  1\n",
      "iter    objective    inf_pr   inf_du lg(mu)  ||d||  lg(rg) alpha_du alpha_pr  ls\n",
      "  10  1.5525238e-03 0.00e+00 1.55e-02  -9.0 7.45e-02    -  1.00e+00 1.00e+00f  1\n",
      "  11  1.1527751e-03 0.00e+00 2.46e-02  -9.6 5.08e-01    -  1.00e+00 6.25e-02f  5\n",
      "  12  6.3294068e-04 0.00e+00 8.97e-03 -11.0 3.41e-02    -  1.00e+00 1.00e+00f  1\n",
      "  13  4.3216679e-04 0.00e+00 7.62e-03 -11.0 3.36e-02    -  1.00e+00 1.00e+00f  1\n",
      "\n",
      "Number of Iterations....: 13\n",
      "\n",
      "                                   (scaled)                 (unscaled)\n",
      "Objective...............:   4.3216679478064179e-04    4.3216679478064179e-04\n",
      "Dual infeasibility......:   7.6228836480107393e-03    7.6228836480107393e-03\n",
      "Constraint violation....:   0.0000000000000000e+00    0.0000000000000000e+00\n",
      "Variable bound violation:   0.0000000000000000e+00    0.0000000000000000e+00\n",
      "Complementarity.........:   1.0116375541374480e-11    1.0116375541374480e-11\n",
      "Overall NLP error.......:   7.6228836480107393e-03    7.6228836480107393e-03\n",
      "\n",
      "\n",
      "Number of objective function evaluations             = 40\n",
      "Number of objective gradient evaluations             = 14\n",
      "Number of equality constraint evaluations            = 0\n",
      "Number of inequality constraint evaluations          = 0\n",
      "Number of equality constraint Jacobian evaluations   = 0\n",
      "Number of inequality constraint Jacobian evaluations = 0\n",
      "Number of Lagrangian Hessian evaluations             = 0\n",
      "Total seconds in IPOPT                               = 4.877\n",
      "\n",
      "EXIT: Solved To Acceptable Level.\n"
     ]
    }
   ],
   "source": [
    "ipopt = cyipopt.Problem(\n",
    "    n=7, m=0,\n",
    "    problem_obj=prob,\n",
    "    lb=panda.lb, ub=panda.ub\n",
    ")\n",
    "ipopt.add_option(\"acceptable_tol\", 0.01)\n",
    "ipopt.add_option(\"acceptable_iter\", 2)\n",
    "x, info = ipopt.solve(panda.neutral)"
   ]
  },
  {
   "cell_type": "code",
   "execution_count": 2781,
   "metadata": {},
   "outputs": [
    {
     "data": {
      "text/plain": [
       "Array([[ 1.2373587 , -0.35075617, -0.11679628,  0.55127156,  0.3999071 ,\n",
       "         0.9126858 , -0.46408626],\n",
       "       [-0.35075608,  1.4583423 ,  0.00791424, -1.3408796 ,  0.11188404,\n",
       "        -0.98135954, -0.6616734 ],\n",
       "       [-0.1167964 ,  0.00791446,  1.0836773 ,  0.5758198 , -0.7744304 ,\n",
       "         0.90825063, -1.193814  ],\n",
       "       [ 0.5512715 , -1.3408797 ,  0.5758201 ,  1.5524455 , -0.00327603,\n",
       "         1.1252959 ,  0.6630395 ],\n",
       "       [ 0.39990687,  0.11188365, -0.7744309 , -0.00327579,  0.9205462 ,\n",
       "        -0.8081528 ,  1.170286  ],\n",
       "       [ 0.91268563, -0.9813594 ,  0.90825063,  1.1252959 , -0.8081528 ,\n",
       "         1.1803583 ,  0.5579082 ],\n",
       "       [-0.46408588, -0.66167367, -1.1938145 ,  0.6630397 ,  1.1702862 ,\n",
       "         0.5579084 ,  1.1281269 ]], dtype=float32)"
      ]
     },
     "execution_count": 2781,
     "metadata": {},
     "output_type": "execute_result"
    }
   ],
   "source": [
    "jax.jacrev(gradient)(q, pose_d)"
   ]
  },
  {
   "cell_type": "code",
   "execution_count": 2787,
   "metadata": {},
   "outputs": [],
   "source": [
    "ee, jac = get_ee_fk_jac(q)\n",
    "error = to_posevec(pose_d) - ee"
   ]
  },
  {
   "cell_type": "code",
   "execution_count": 2793,
   "metadata": {},
   "outputs": [
    {
     "data": {
      "text/plain": [
       "Array([[ 1.2373583 , -0.35075605, -0.11679614,  0.55127126,  0.39990687,\n",
       "         0.91268545, -0.4640863 ],\n",
       "       [-0.3507561 ,  1.4583428 ,  0.00791438, -1.3408797 ,  0.11188391,\n",
       "        -0.98135966, -0.66167384],\n",
       "       [-0.11679649,  0.00791433,  1.0836773 ,  0.5758201 , -0.7744307 ,\n",
       "         0.90825063, -1.1938144 ],\n",
       "       [ 0.55127144, -1.3408799 ,  0.5758201 ,  1.5524458 , -0.00327599,\n",
       "         1.1252956 ,  0.6630397 ],\n",
       "       [ 0.39990664,  0.111884  , -0.77443093, -0.00327598,  0.92054635,\n",
       "        -0.8081529 ,  1.1702865 ],\n",
       "       [ 0.9126854 , -0.98135954,  0.9082507 ,  1.1252959 , -0.8081529 ,\n",
       "         1.1803582 ,  0.55790865],\n",
       "       [-0.46408582, -0.6616738 , -1.1938143 ,  0.6630397 ,  1.1702862 ,\n",
       "         0.55790854,  1.1281264 ]], dtype=float32)"
      ]
     },
     "execution_count": 2793,
     "metadata": {},
     "output_type": "execute_result"
    }
   ],
   "source": []
  },
  {
   "cell_type": "code",
   "execution_count": 2768,
   "metadata": {},
   "outputs": [
    {
     "data": {
      "text/plain": [
       "(6, 7, 7)"
      ]
     },
     "execution_count": 2768,
     "metadata": {},
     "output_type": "execute_result"
    }
   ],
   "source": [
    "get_ee_hess(q)"
   ]
  },
  {
   "cell_type": "code",
   "execution_count": 7,
   "metadata": {},
   "outputs": [],
   "source": [
    "ee, jac = get_ee_fk_jac(panda.neutral)"
   ]
  },
  {
   "cell_type": "code",
   "execution_count": 2531,
   "metadata": {},
   "outputs": [],
   "source": [
    "W = np.diag([1,1,1,0.3,0.3,0.3])\n",
    "def to_posevec(pose:SE3):\n",
    "    return jnp.hstack([\n",
    "        pose.translation(), pose.rotation().log()\n",
    "    ])\n",
    "def to_SE3(posevec:Array):\n",
    "    return SE3.from_rotation_and_translation(\n",
    "        SO3.exp(posevec[3:]), posevec[:3]\n",
    "    )\n",
    "\n",
    "def pose_error_vg(q, target:SE3):\n",
    "    ee_posevec, jac = get_ee_fk_jac(q)\n",
    "    target_posevec = to_posevec(target)\n",
    "    err = (target_posevec - ee_posevec)\n",
    "    val = 1/2 * err@W@err\n",
    "    grad = - jac.T @ W @err\n",
    "    return val, grad\n",
    "\n",
    "def pose_error(q, target:SE3):\n",
    "    ee_posevec, _ = get_ee_fk_jac(q)\n",
    "    target_posevec = to_posevec(target)\n",
    "    err = (target_posevec - ee_posevec)\n",
    "    val = 1/2 * err@W@err\n",
    "    return val"
   ]
  },
  {
   "cell_type": "code",
   "execution_count": null,
   "metadata": {},
   "outputs": [],
   "source": []
  },
  {
   "cell_type": "code",
   "execution_count": 2632,
   "metadata": {},
   "outputs": [],
   "source": []
  },
  {
   "cell_type": "code",
   "execution_count": 2640,
   "metadata": {},
   "outputs": [],
   "source": [
    "def cost_joint_violation(q):\n",
    "    ub_viol = jax.vmap(barrier_fn)(panda.ub - q).sum()\n",
    "    lb_viol = jax.vmap(barrier_fn)(q - panda.lb).sum()\n",
    "    return ub_viol + lb_viol"
   ]
  },
  {
   "cell_type": "code",
   "execution_count": 2644,
   "metadata": {},
   "outputs": [],
   "source": [
    "def vg_objective(q, target):\n",
    "    loss_main, grad_main = pose_error_vg(q, target)\n",
    "    loss_joint_viol, grad_joint_viol = jax.value_and_grad(cost_joint_violation)(q)\n",
    "    total_loss = loss_main + loss_joint_viol\n",
    "    total_grad = grad_main + grad_joint_viol\n",
    "    return total_loss, total_grad"
   ]
  },
  {
   "cell_type": "code",
   "execution_count": 2648,
   "metadata": {},
   "outputs": [],
   "source": [
    "pose_d = make_pose()\n",
    "frame.set_pose(pose_d)"
   ]
  },
  {
   "cell_type": "code",
   "execution_count": 2649,
   "metadata": {},
   "outputs": [],
   "source": [
    "q = panda.neutral"
   ]
  },
  {
   "cell_type": "code",
   "execution_count": 2730,
   "metadata": {},
   "outputs": [
    {
     "name": "stdout",
     "output_type": "stream",
     "text": [
      "0.009140609\n"
     ]
    }
   ],
   "source": [
    "#gradient descent\n",
    "val, grad = vg_objective(q, pose_d)\n",
    "q += - grad * 0.5\n",
    "\n",
    "panda.set_joint_angles(q)\n",
    "print(val)"
   ]
  },
  {
   "cell_type": "code",
   "execution_count": 2731,
   "metadata": {},
   "outputs": [],
   "source": [
    "#BFGS initialize\n",
    "q = panda.neutral\n",
    "B = None\n",
    "q_prev = None\n",
    "grad_prev = None\n",
    "def bfgs_update(x, grad, B_prev, x_prev, grad_prev):\n",
    "    if B_prev is None:\n",
    "        return jnp.eye(7)\n",
    "    \n",
    "    y = x - x_prev\n",
    "    s = grad - grad_prev\n",
    "    \n",
    "    if s@y >= 0.2*s@B_prev@s:\n",
    "        theta = 1.\n",
    "    else:\n",
    "        theta = (0.8* s @ B_prev @ s) / (s @ B_prev @ s - s@y)\n",
    "    r = theta*y + (1-theta) * B_prev@s\n",
    "    term1 = (B_prev @ jnp.outer(s, s) @ B_prev) / (s @ B_prev @ s)\n",
    "    term2 = jnp.outer(r, r) / jnp.inner(s, r)\n",
    "    B = B_prev - term1 + term2\n",
    "    return B"
   ]
  },
  {
   "cell_type": "code",
   "execution_count": 2754,
   "metadata": {},
   "outputs": [],
   "source": [
    "q_old = panda.neutral\n",
    "grad_old = None\n",
    "\n",
    "#hessinv = jnp.eye(7)\n",
    "ee, jac = get_ee_fk_jac(q_old)\n",
    "hessinv = jnp.linalg.pinv(jac.T@jac)"
   ]
  },
  {
   "cell_type": "code",
   "execution_count": 2758,
   "metadata": {},
   "outputs": [
    {
     "name": "stdout",
     "output_type": "stream",
     "text": [
      "0.0001953125 0.4550761 0.46188644\n"
     ]
    }
   ],
   "source": [
    "#BFGS\n",
    "val, grad = vg_objective(q_old, pose_d)\n",
    "d = - hessinv @ grad\n",
    "\n",
    "alpha = 0.2\n",
    "for i in range(10):\n",
    "    val_new, _ = vg_objective(q_old + d*alpha, pose_d)\n",
    "    if val_new < val:\n",
    "        break\n",
    "    alpha *= 0.5\n",
    "print(alpha, val, val_new)\n",
    "q = q_old + d * alpha\n",
    "panda.set_joint_angles(q)\n",
    "\n",
    "if grad_old is not None:\n",
    "    s = q - q_old\n",
    "    y = grad - grad_old\n",
    "    lo = 1/y@s\n",
    "    term1 = (jnp.eye(7) - lo*jnp.outer(s, y))\n",
    "    term2 = lo*jnp.outer(s, s)\n",
    "    hessinv = term1 @ hessinv @ term1 + term2\n",
    "\n",
    "q_old = q\n",
    "grad_old = grad\n",
    "\n"
   ]
  },
  {
   "cell_type": "code",
   "execution_count": 2763,
   "metadata": {},
   "outputs": [
    {
     "data": {
      "text/plain": [
       "(Array([-1.5702103e+02, -1.3563424e-02,  1.1609587e-01,  7.3273629e-01,\n",
       "         3.2807806e+00,  5.8992486e+00,  1.9449794e+02], dtype=float32),\n",
       " Array([[-6.50360882e-02, -5.91281116e-01,  7.07131565e-01,\n",
       "          1.34677365e-01,  3.52382243e-01,  5.57234399e-02,\n",
       "          2.65752673e-02],\n",
       "        [-9.62386578e-02, -1.93992063e-01, -1.36382788e-01,\n",
       "          6.83882087e-02, -2.40741804e-01,  5.61089933e-01,\n",
       "          7.46357858e-01],\n",
       "        [-3.12304318e-01,  7.44803488e-01,  4.66793150e-01,\n",
       "          2.12217942e-01,  1.51280701e-01,  2.74805371e-02,\n",
       "          2.47307807e-01],\n",
       "        [ 9.04870033e-01,  1.88260198e-01,  1.32963404e-01,\n",
       "         -8.95475224e-02,  2.28258133e-01,  1.52662490e-02,\n",
       "          2.60261118e-01],\n",
       "        [ 1.98801771e-01, -4.52593975e-02, -1.01833127e-01,\n",
       "          9.48286653e-01, -1.81691065e-01, -4.24637571e-02,\n",
       "         -1.18310705e-01],\n",
       "        [ 9.82911587e-02,  1.43288583e-01,  9.91216674e-02,\n",
       "         -3.72550674e-02, -1.36778373e-02,  8.13544333e-01,\n",
       "         -5.44567049e-01],\n",
       "        [-1.44919977e-01, -3.02251749e-04, -4.74968702e-01,\n",
       "          1.53279707e-01,  8.42427433e-01,  1.32013887e-01,\n",
       "          5.28838187e-02]], dtype=float32))"
      ]
     },
     "execution_count": 2763,
     "metadata": {},
     "output_type": "execute_result"
    }
   ],
   "source": [
    "jnp.linalg.eigh(hessinv)"
   ]
  },
  {
   "cell_type": "code",
   "execution_count": 2752,
   "metadata": {},
   "outputs": [
    {
     "data": {
      "text/plain": [
       "Array(342.9606, dtype=float32)"
      ]
     },
     "execution_count": 2752,
     "metadata": {},
     "output_type": "execute_result"
    }
   ],
   "source": [
    "val"
   ]
  },
  {
   "cell_type": "code",
   "execution_count": 2753,
   "metadata": {},
   "outputs": [
    {
     "data": {
      "text/plain": [
       "Array(1.5560649e+21, dtype=float32)"
      ]
     },
     "execution_count": 2753,
     "metadata": {},
     "output_type": "execute_result"
    }
   ],
   "source": [
    "val_new"
   ]
  },
  {
   "cell_type": "code",
   "execution_count": 2751,
   "metadata": {},
   "outputs": [
    {
     "data": {
      "text/plain": [
       "Array(3.8901622e+20, dtype=float32)"
      ]
     },
     "execution_count": 2751,
     "metadata": {},
     "output_type": "execute_result"
    }
   ],
   "source": [
    "cost_joint_violation(q)"
   ]
  },
  {
   "cell_type": "code",
   "execution_count": 2582,
   "metadata": {},
   "outputs": [
    {
     "data": {
      "text/plain": [
       "Array([  507.10568, -1404.4316 ,   507.09488, -3428.895  ,  -294.80157,\n",
       "        1616.1353 ,  1264.3207 ], dtype=float32)"
      ]
     },
     "execution_count": 2582,
     "metadata": {},
     "output_type": "execute_result"
    }
   ],
   "source": [
    "d"
   ]
  },
  {
   "cell_type": "code",
   "execution_count": 2581,
   "metadata": {},
   "outputs": [
    {
     "data": {
      "text/plain": [
       "Array([  3.9617631, -10.972122 ,   3.9616787, -26.788242 ,  -2.3031373,\n",
       "        12.626057 ,   9.877505 ], dtype=float32)"
      ]
     },
     "execution_count": 2581,
     "metadata": {},
     "output_type": "execute_result"
    }
   ],
   "source": [
    "d*alpha"
   ]
  },
  {
   "cell_type": "code",
   "execution_count": 2572,
   "metadata": {},
   "outputs": [],
   "source": []
  },
  {
   "cell_type": "code",
   "execution_count": 2550,
   "metadata": {},
   "outputs": [
    {
     "name": "stdout",
     "output_type": "stream",
     "text": [
      "1508304900.0\n",
      "[-0.27859747 -2.6939433  -0.27860528 -3.0331087  -0.03210449  0.78300124\n",
      " -0.7162119 ]\n"
     ]
    }
   ],
   "source": [
    "\n",
    "\n",
    "panda.set_joint_angles(q)\n",
    "print(np.linalg.cond(hessinv))\n",
    "\n",
    "print(d)\n",
    "# print(val)"
   ]
  },
  {
   "cell_type": "code",
   "execution_count": 2552,
   "metadata": {},
   "outputs": [
    {
     "data": {
      "text/plain": [
       "Array([-0.27859747, -2.6939433 , -0.27860528, -4.6039085 , -0.03210449,\n",
       "        2.6505013 , -0.7162119 ], dtype=float32)"
      ]
     },
     "execution_count": 2552,
     "metadata": {},
     "output_type": "execute_result"
    }
   ],
   "source": [
    "q"
   ]
  },
  {
   "cell_type": "code",
   "execution_count": 2529,
   "metadata": {},
   "outputs": [],
   "source": [
    "def backtracking(fn, x, grad, dir, gamma=0.1, beta=0.5):\n",
    "    alpha = 1.\n",
    "    while True:\n",
    "        loss_new = fn(x+alpha*dir)\n",
    "        if loss_new < fn(x) + gamma*alpha*grad@dir:\n",
    "            break\n",
    "        alpha *= beta\n",
    "    return alpha"
   ]
  },
  {
   "cell_type": "code",
   "execution_count": null,
   "metadata": {},
   "outputs": [],
   "source": []
  },
  {
   "cell_type": "code",
   "execution_count": 2227,
   "metadata": {},
   "outputs": [
    {
     "data": {
      "text/plain": [
       "Array([ 0.0747771 , -0.10610348, -0.06143628, -0.02604391,  0.00334038,\n",
       "       -0.10127855, -0.06398959], dtype=float32)"
      ]
     },
     "execution_count": 2227,
     "metadata": {},
     "output_type": "execute_result"
    }
   ],
   "source": [
    "d"
   ]
  },
  {
   "cell_type": "code",
   "execution_count": null,
   "metadata": {},
   "outputs": [],
   "source": []
  },
  {
   "cell_type": "code",
   "execution_count": 1906,
   "metadata": {},
   "outputs": [
    {
     "data": {
      "text/plain": [
       "Array([[ 1.1812234 ,  0.30529368, -0.03311538,  0.66145533,  0.01423913,\n",
       "        -0.47132096, -0.10083446],\n",
       "       [ 0.33026755,  2.2835777 ,  0.17640345,  2.0432599 ,  0.15999584,\n",
       "        -0.6592719 ,  0.08879264],\n",
       "       [-0.00505848,  0.16392134,  1.0475916 ,  0.11829358,  0.04024332,\n",
       "         0.05652528,  0.07635152],\n",
       "       [ 0.70167774,  2.015085  ,  0.11685208,  4.4692903 ,  0.20959944,\n",
       "        -1.7142216 , -0.11025082],\n",
       "       [ 0.04213981,  0.13811801,  0.01059251,  0.17302808,  1.0257529 ,\n",
       "        -0.0619807 ,  0.02137624],\n",
       "       [-0.38510168, -0.7237274 ,  0.02595002, -1.6845617 , -0.01022426,\n",
       "         2.03739   ,  0.23995887],\n",
       "       [-0.06180756,  0.06783802,  0.06439261, -0.08898787,  0.03919396,\n",
       "         0.2485591 ,  1.1240275 ]], dtype=float32)"
      ]
     },
     "execution_count": 1906,
     "metadata": {},
     "output_type": "execute_result"
    }
   ],
   "source": [
    "hessinv"
   ]
  },
  {
   "cell_type": "code",
   "execution_count": 1451,
   "metadata": {},
   "outputs": [],
   "source": []
  },
  {
   "cell_type": "code",
   "execution_count": 1453,
   "metadata": {},
   "outputs": [
    {
     "data": {
      "text/plain": [
       "Array([[1.0000023e+00, 1.5280120e-05, 1.8155987e-06, 1.0798500e-05,\n",
       "        3.5691205e-06, 5.1402021e-06, 5.9737577e-06],\n",
       "       [1.9887753e-05, 1.0001374e+00, 1.6343642e-05, 9.7205848e-05,\n",
       "        3.2128479e-05, 4.6271027e-05, 5.3774522e-05],\n",
       "       [2.8244926e-06, 1.9534866e-05, 1.0000023e+00, 1.3805340e-05,\n",
       "        4.5629413e-06, 6.5714912e-06, 7.6371480e-06],\n",
       "       [1.0539757e-05, 7.2895484e-05, 8.6615109e-06, 1.0000516e+00,\n",
       "        1.7026878e-05, 2.4521896e-05, 2.8498460e-05],\n",
       "       [4.8363313e-06, 3.3449225e-05, 3.9744691e-06, 2.3638650e-05,\n",
       "        1.0000079e+00, 1.1252252e-05, 1.3076960e-05],\n",
       "       [1.0672395e-05, 7.3812836e-05, 8.7705121e-06, 5.2163719e-05,\n",
       "        1.7241153e-05, 1.0000248e+00, 2.8857101e-05],\n",
       "       [9.3470071e-06, 6.4646127e-05, 7.6813158e-06, 4.5685585e-05,\n",
       "        1.5100000e-05, 2.1746830e-05, 1.0000253e+00]], dtype=float32)"
      ]
     },
     "execution_count": 1453,
     "metadata": {},
     "output_type": "execute_result"
    }
   ],
   "source": []
  },
  {
   "cell_type": "code",
   "execution_count": 1146,
   "metadata": {},
   "outputs": [
    {
     "data": {
      "text/plain": [
       "(Array([-8.3028152e+09, -2.1288690e+02, -5.9218149e+00,  3.0300287e+01,\n",
       "         3.3294254e+01,  4.6074253e+01,  1.8210051e+04], dtype=float32),\n",
       " Array([[ 3.7803671e-01, -3.1674394e-01, -3.2739884e-01,  5.6621940e-14,\n",
       "         -2.1233696e-01, -7.7572584e-01, -5.2286383e-02],\n",
       "        [ 3.7703860e-01, -3.1590542e-01, -3.2653382e-01,  4.6528113e-13,\n",
       "         -2.1177967e-01,  4.6648118e-01,  6.2367141e-01],\n",
       "        [ 3.7812242e-01,  5.2110291e-01, -3.2747400e-01,  6.4672291e-01,\n",
       "          2.1144123e-01,  5.9145492e-02, -1.0853496e-01],\n",
       "        [ 3.7863982e-01,  1.1041661e-01, -3.2792053e-01, -6.4584005e-01,\n",
       "          2.1173027e-01,  2.5091797e-01, -4.6044454e-01],\n",
       "        [ 3.7754133e-01,  5.8411288e-01,  4.3593416e-01, -2.8735346e-01,\n",
       "         -3.6894223e-01, -1.5692441e-01,  2.8795910e-01],\n",
       "        [ 3.7870082e-01, -3.4156883e-01,  4.3727407e-01,  2.8647515e-01,\n",
       "         -3.7007192e-01,  2.7475089e-01, -5.0418115e-01],\n",
       "        [ 3.7766880e-01, -2.4141216e-01,  4.3608189e-01, -5.5894128e-07,\n",
       "          7.3990124e-01, -1.1863105e-01,  2.1769723e-01]], dtype=float32))"
      ]
     },
     "execution_count": 1146,
     "metadata": {},
     "output_type": "execute_result"
    }
   ],
   "source": [
    "jnp.linalg.eigh(B)"
   ]
  },
  {
   "cell_type": "code",
   "execution_count": 744,
   "metadata": {},
   "outputs": [],
   "source": [
    "q = panda.neutral\n",
    "ee, jac = get_ee_fk_jac(q)\n",
    "val, grad = pose_error_vg(q, pose_d)\n",
    "B = jac.T@jac"
   ]
  },
  {
   "cell_type": "code",
   "execution_count": 704,
   "metadata": {},
   "outputs": [],
   "source": [
    "c = 1e-4"
   ]
  },
  {
   "cell_type": "code",
   "execution_count": 1111,
   "metadata": {},
   "outputs": [
    {
     "data": {
      "text/plain": [
       "Array([[nan, nan, nan, nan, nan, nan, nan],\n",
       "       [nan, nan, nan, nan, nan, nan, nan],\n",
       "       [nan, nan, nan, nan, nan, nan, nan],\n",
       "       [nan, nan, nan, nan, nan, nan, nan],\n",
       "       [nan, nan, nan, nan, nan, nan, nan],\n",
       "       [nan, nan, nan, nan, nan, nan, nan],\n",
       "       [nan, nan, nan, nan, nan, nan, nan]], dtype=float32)"
      ]
     },
     "execution_count": 1111,
     "metadata": {},
     "output_type": "execute_result"
    }
   ],
   "source": [
    "B"
   ]
  },
  {
   "cell_type": "code",
   "execution_count": 1078,
   "metadata": {},
   "outputs": [],
   "source": [
    "def dynamic_regularization(hess, grad):\n",
    "    c = 1e-4\n",
    "    for _ in range(100):\n",
    "        d = jnp.linalg.solve(hess + c*np.eye(7), -grad)\n",
    "        if grad @ d > 0. or jnp.isnan(grad @ d):\n",
    "            c *= 10\n",
    "        else:\n",
    "            break\n",
    "    return d"
   ]
  },
  {
   "cell_type": "code",
   "execution_count": 809,
   "metadata": {},
   "outputs": [
    {
     "data": {
      "text/plain": [
       "Array([ 0.05500219, -0.4103809 ,  0.05500209,  0.3176619 , -0.06514763,\n",
       "        0.27199683, -0.1408904 ], dtype=float32)"
      ]
     },
     "execution_count": 809,
     "metadata": {},
     "output_type": "execute_result"
    }
   ],
   "source": []
  },
  {
   "cell_type": "code",
   "execution_count": 724,
   "metadata": {},
   "outputs": [],
   "source": [
    "alphas = np.array([0, 1e-4, 1e-3, 1e-2, 1e-1, 1, 10, 100, 1000, 10000])"
   ]
  },
  {
   "cell_type": "code",
   "execution_count": 732,
   "metadata": {},
   "outputs": [],
   "source": [
    "@jax.jit\n",
    "def check_search_dir(alpha, B, grad):\n",
    "    cI = np.eye(7) * alpha\n",
    "    d = jnp.linalg.solve(B+cI, -grad)\n",
    "    return grad @ d\n",
    "\n",
    "check_search_dir_batch = jax.vmap(check_search_dir, in_axes=(0, None, None))\n",
    "check_search_dir_batch = jax.jit(check_search_dir_batch)"
   ]
  },
  {
   "cell_type": "code",
   "execution_count": 743,
   "metadata": {},
   "outputs": [],
   "source": [
    "idx = (~jnp.isnan(check_search_dir_batch(alphas, B, grad))).argmax()"
   ]
  },
  {
   "cell_type": "code",
   "execution_count": null,
   "metadata": {},
   "outputs": [],
   "source": []
  },
  {
   "cell_type": "code",
   "execution_count": 733,
   "metadata": {},
   "outputs": [
    {
     "name": "stdout",
     "output_type": "stream",
     "text": [
      "99.7 µs ± 3.07 µs per loop (mean ± std. dev. of 7 runs, 10,000 loops each)\n"
     ]
    }
   ],
   "source": [
    "%timeit check_search_dir(alphas[1], B, grad)"
   ]
  },
  {
   "cell_type": "code",
   "execution_count": 730,
   "metadata": {},
   "outputs": [
    {
     "name": "stdout",
     "output_type": "stream",
     "text": [
      "107 µs ± 2.48 µs per loop (mean ± std. dev. of 7 runs, 10,000 loops each)\n"
     ]
    }
   ],
   "source": [
    "%timeit check_search_dir_batch(alphas, B, grad)"
   ]
  },
  {
   "cell_type": "code",
   "execution_count": null,
   "metadata": {},
   "outputs": [],
   "source": []
  },
  {
   "cell_type": "code",
   "execution_count": 713,
   "metadata": {},
   "outputs": [
    {
     "data": {
      "text/plain": [
       "Array([[nan,  0.,  0.,  0.,  0.,  0.,  0.],\n",
       "       [nan, nan,  0.,  0.,  0.,  0.,  0.],\n",
       "       [nan, nan, nan,  0.,  0.,  0.,  0.],\n",
       "       [nan, nan, nan, nan,  0.,  0.,  0.],\n",
       "       [nan, nan, nan, nan, nan,  0.,  0.],\n",
       "       [nan, nan, nan, nan, nan, nan,  0.],\n",
       "       [nan, nan, nan, nan, nan, nan, nan]], dtype=float32)"
      ]
     },
     "execution_count": 713,
     "metadata": {},
     "output_type": "execute_result"
    }
   ],
   "source": [
    "jnp.B"
   ]
  },
  {
   "cell_type": "code",
   "execution_count": 709,
   "metadata": {},
   "outputs": [
    {
     "name": "stdout",
     "output_type": "stream",
     "text": [
      "96.6 µs ± 225 ns per loop (mean ± std. dev. of 7 runs, 10,000 loops each)\n"
     ]
    }
   ],
   "source": [
    "%timeit jnp.linalg.solve(B, -grad)"
   ]
  },
  {
   "cell_type": "code",
   "execution_count": 699,
   "metadata": {},
   "outputs": [],
   "source": [
    "d = jnp.linalg.solve(np.eye(7), -grad)"
   ]
  },
  {
   "cell_type": "code",
   "execution_count": 700,
   "metadata": {},
   "outputs": [
    {
     "data": {
      "text/plain": [
       "Array(-2.6775446, dtype=float32)"
      ]
     },
     "execution_count": 700,
     "metadata": {},
     "output_type": "execute_result"
    }
   ],
   "source": [
    "grad@d"
   ]
  },
  {
   "cell_type": "code",
   "execution_count": 670,
   "metadata": {},
   "outputs": [
    {
     "data": {
      "text/plain": [
       "array([nan, nan, nan, nan, nan, nan, nan], dtype=float32)"
      ]
     },
     "execution_count": 670,
     "metadata": {},
     "output_type": "execute_result"
    }
   ],
   "source": [
    "np.linalg.solve(B, -grad)"
   ]
  },
  {
   "cell_type": "code",
   "execution_count": 664,
   "metadata": {},
   "outputs": [
    {
     "data": {
      "text/plain": [
       "1.0000663"
      ]
     },
     "execution_count": 664,
     "metadata": {},
     "output_type": "execute_result"
    }
   ],
   "source": [
    "np.linalg.cond(B)"
   ]
  },
  {
   "cell_type": "code",
   "execution_count": 666,
   "metadata": {},
   "outputs": [
    {
     "data": {
      "text/plain": [
       "Array([nan, nan, nan, nan, nan, nan, nan], dtype=float32)"
      ]
     },
     "execution_count": 666,
     "metadata": {},
     "output_type": "execute_result"
    }
   ],
   "source": [
    "-grad"
   ]
  },
  {
   "cell_type": "code",
   "execution_count": 658,
   "metadata": {},
   "outputs": [
    {
     "data": {
      "text/plain": [
       "Array([[ 1.10002656e+05, -6.74129426e-02,  2.65117145e+00,\n",
       "         6.74131066e-02, -5.43157458e-02,  6.74127787e-02,\n",
       "        -2.22398996e+00],\n",
       "       [-6.74129426e-02,  1.10002547e+05, -6.74129426e-02,\n",
       "        -2.41717505e+00, -4.51080114e-01, -2.16365004e+00,\n",
       "        -6.74130619e-02],\n",
       "       [ 2.65117145e+00, -6.74129426e-02,  1.10002656e+05,\n",
       "         6.74131066e-02, -5.43157458e-02,  6.74127787e-02,\n",
       "        -2.22398996e+00],\n",
       "       [ 6.74131066e-02, -2.41717505e+00,  6.74131066e-02,\n",
       "         1.10002414e+05,  4.51080114e-01,  2.20752859e+00,\n",
       "         6.74129426e-02],\n",
       "       [-5.43157458e-02, -4.51080114e-01, -5.43157458e-02,\n",
       "         4.51080114e-01,  1.10001250e+05,  4.51080173e-01,\n",
       "         5.09749830e-01],\n",
       "       [ 6.74127787e-02, -2.16365004e+00,  6.74127787e-02,\n",
       "         2.20752859e+00,  4.51080173e-01,  1.10002172e+05,\n",
       "         6.74132407e-02],\n",
       "       [-2.22398996e+00, -6.74130619e-02, -2.22398996e+00,\n",
       "         6.74129426e-02,  5.09749830e-01,  6.74132407e-02,\n",
       "         1.10002281e+05]], dtype=float32)"
      ]
     },
     "execution_count": 658,
     "metadata": {},
     "output_type": "execute_result"
    }
   ],
   "source": [
    "B"
   ]
  },
  {
   "cell_type": "code",
   "execution_count": 480,
   "metadata": {},
   "outputs": [],
   "source": [
    "alphas = jnp.linspace(0.001, 1)"
   ]
  },
  {
   "cell_type": "code",
   "execution_count": 483,
   "metadata": {},
   "outputs": [],
   "source": [
    "val, _ = pose_error_vg(q+d*alphas[0], pose_d) "
   ]
  },
  {
   "cell_type": "code",
   "execution_count": 484,
   "metadata": {},
   "outputs": [
    {
     "data": {
      "text/plain": [
       "Array(0.00174708, dtype=float32)"
      ]
     },
     "execution_count": 484,
     "metadata": {},
     "output_type": "execute_result"
    }
   ],
   "source": [
    "val"
   ]
  },
  {
   "cell_type": "code",
   "execution_count": 471,
   "metadata": {},
   "outputs": [
    {
     "data": {
      "text/plain": [
       "[<matplotlib.lines.Line2D at 0x7fa5cc0e4bb0>]"
      ]
     },
     "execution_count": 471,
     "metadata": {},
     "output_type": "execute_result"
    },
    {
     "data": {
      "image/png": "[encoded data removed]",
      "text/plain": [
       "<Figure size 640x480 with 1 Axes>"
      ]
     },
     "metadata": {},
     "output_type": "display_data"
    }
   ],
   "source": [
    "import matplotlib.pyplot as plt\n",
    "plt.plot(xx,yy)"
   ]
  },
  {
   "cell_type": "code",
   "execution_count": 464,
   "metadata": {},
   "outputs": [],
   "source": [
    "B"
   ]
  },
  {
   "cell_type": "code",
   "execution_count": null,
   "metadata": {},
   "outputs": [],
   "source": []
  },
  {
   "cell_type": "code",
   "execution_count": 13,
   "metadata": {},
   "outputs": [],
   "source": [
    "def objective(x, target:SE3):\n",
    "    val = pose_error(x, target)\n",
    "    panda.set_joint_angles(x)\n",
    "    #traj.reload(points=get_ee_points(to_mat(x)))\n",
    "    return val\n",
    "\n",
    "def gradient(x, target:SE3):\n",
    "    grads = pose_error_grad(x, target)\n",
    "    return grads\n",
    "\n",
    "def hessian(x, lagrange, obj_factor):\n",
    "    return pose_error_hess(x)"
   ]
  },
  {
   "cell_type": "code",
   "execution_count": null,
   "metadata": {},
   "outputs": [],
   "source": []
  },
  {
   "cell_type": "code",
   "execution_count": 65,
   "metadata": {},
   "outputs": [
    {
     "name": "stdout",
     "output_type": "stream",
     "text": [
      "This is Ipopt version 3.14.10, running with linear solver MUMPS 5.2.1.\n",
      "\n",
      "Number of nonzeros in equality constraint Jacobian...:        0\n",
      "Number of nonzeros in inequality constraint Jacobian.:        0\n",
      "Number of nonzeros in Lagrangian Hessian.............:        0\n",
      "\n",
      "Total number of variables............................:        7\n",
      "                     variables with only lower bounds:        0\n",
      "                variables with lower and upper bounds:        7\n",
      "                     variables with only upper bounds:        0\n",
      "Total number of equality constraints.................:        0\n",
      "Total number of inequality constraints...............:        0\n",
      "        inequality constraints with only lower bounds:        0\n",
      "   inequality constraints with lower and upper bounds:        0\n",
      "        inequality constraints with only upper bounds:        0\n",
      "\n",
      "iter    objective    inf_pr   inf_du lg(mu)  ||d||  lg(rg) alpha_du alpha_pr  ls\n",
      "   0  1.7455500e+00 0.00e+00 1.15e+00   0.0 0.00e+00    -  0.00e+00 0.00e+00   0\n",
      "   1  4.0207011e-01 0.00e+00 3.67e-01  -0.3 5.50e-01    -  9.93e-01 1.00e+00f  1\n",
      "   2  2.1792182e-01 0.00e+00 1.87e-01  -1.6 3.07e-01    -  9.99e-01 1.00e+00f  1\n",
      "   3  1.6523865e-01 0.00e+00 1.02e-01  -2.2 1.60e-01    -  9.98e-01 1.00e+00f  1\n",
      "   4  1.3743630e-01 0.00e+00 1.02e-01  -3.4 1.77e-01    -  9.97e-01 1.00e+00f  1\n",
      "   5  1.0592321e-01 0.00e+00 1.61e-01  -4.2 3.28e-01    -  1.00e+00 1.00e+00f  1\n",
      "   6  6.4713031e-02 0.00e+00 1.81e-01  -4.9 6.58e-01    -  1.00e+00 1.00e+00f  1\n",
      "   7  2.4777370e-02 0.00e+00 1.28e-01  -5.2 1.12e+00    -  1.00e+00 2.83e-01f  1\n",
      "   8  2.3976989e-02 0.00e+00 7.35e-02  -5.6 1.47e-01    -  1.00e+00 2.27e-02f  1\n",
      "   9  1.5181543e-02 0.00e+00 1.06e-02  -6.4 1.11e-01    -  1.00e+00 1.00e+00f  1\n",
      "iter    objective    inf_pr   inf_du lg(mu)  ||d||  lg(rg) alpha_du alpha_pr  ls\n",
      "  10  1.4825732e-02 0.00e+00 7.80e-03  -8.0 2.08e-02    -  1.00e+00 9.95e-01f  1\n",
      "  11  1.3789317e-02 0.00e+00 1.55e-02  -9.5 1.05e-01    -  1.00e+00 1.00e+00f  1\n",
      "  12  1.1122637e-02 0.00e+00 6.35e-02  -9.5 1.42e+00    -  1.00e+00 2.50e-01f  3\n",
      "  13  1.0492139e-02 0.00e+00 7.70e-02  -9.7 2.75e+00    -  1.00e+00 4.19e-02f  5\n",
      "  14  8.8999886e-03 0.00e+00 9.33e-02  -9.9 2.57e+00    -  1.00e+00 1.68e-01f  3\n",
      "  15  5.7106703e-03 0.00e+00 4.26e-02 -10.8 2.98e-01    -  1.00e+00 5.00e-01f  2\n",
      "  16  3.9225747e-03 0.00e+00 6.17e-02  -8.2 3.33e-01    -  9.88e-01 1.00e+00f  1\n",
      "  17  3.6033173e-03 0.00e+00 5.95e-02  -9.3 1.11e-01    -  1.00e+00 6.78e-02f  1\n",
      "  18  1.6179022e-03 0.00e+00 2.18e-02  -9.9 2.20e-01    -  1.00e+00 1.00e+00f  1\n",
      "  19  9.5135201e-04 0.00e+00 2.33e-02  -7.9 4.17e-01    -  3.33e-01 5.00e-01f  2\n",
      "iter    objective    inf_pr   inf_du lg(mu)  ||d||  lg(rg) alpha_du alpha_pr  ls\n",
      "  20  8.4186852e-04 0.00e+00 2.16e-02  -9.3 1.34e-01    -  1.00e+00 4.07e-02f  1\n",
      "  21  1.4631190e-04 0.00e+00 8.37e-03  -7.4 2.20e-01    -  6.65e-01 5.00e-01f  2\n",
      "  22  5.5045013e-05 0.00e+00 4.95e-03  -6.0 1.35e-01    -  1.00e+00 2.50e-01f  3\n",
      "\n",
      "Number of Iterations....: 22\n",
      "\n",
      "                                   (scaled)                 (unscaled)\n",
      "Objective...............:   5.5045013141352683e-05    5.5045013141352683e-05\n",
      "Dual infeasibility......:   4.9539537994118237e-03    4.9539537994118237e-03\n",
      "Constraint violation....:   0.0000000000000000e+00    0.0000000000000000e+00\n",
      "Variable bound violation:   0.0000000000000000e+00    0.0000000000000000e+00\n",
      "Complementarity.........:   9.6013995465369684e-07    9.6013995465369684e-07\n",
      "Overall NLP error.......:   4.9539537994118237e-03    4.9539537994118237e-03\n",
      "\n",
      "\n",
      "Number of objective function evaluations             = 64\n",
      "Number of objective gradient evaluations             = 23\n",
      "Number of equality constraint evaluations            = 0\n",
      "Number of inequality constraint evaluations          = 0\n",
      "Number of equality constraint Jacobian evaluations   = 0\n",
      "Number of inequality constraint Jacobian evaluations = 0\n",
      "Number of Lagrangian Hessian evaluations             = 0\n",
      "Total seconds in IPOPT                               = 0.294\n",
      "\n",
      "EXIT: Solved To Acceptable Level.\n"
     ]
    }
   ],
   "source": [
    "class Prob:\n",
    "    pass\n",
    "prob = Prob()\n",
    "setattr(prob, \"objective\", partial(objective, target=pose_d))\n",
    "setattr(prob, \"gradient\", partial(gradient, target=pose_d))\n",
    "# setattr(prob, \"constraints\", partial(constraints, q0=panda.neutral))\n",
    "# setattr(prob, \"jacobian\", partial(jacobian, q0=panda.neutral))\n",
    "# setattr(prob, \"hessian\", hessian)\n",
    "\n",
    "ipopt = cyipopt.Problem(\n",
    "    n=len(x), m=0,\n",
    "    problem_obj=prob,\n",
    "    lb=panda.lb, ub=panda.ub,\n",
    "    #cl=np.zeros(dim*2), cu=np.full(dim*2,np.inf)\n",
    ")\n",
    "ipopt.add_option(\"nlp_scaling_method\", \"none\")\n",
    "ipopt.add_option(\"mu_strategy\", \"adaptive\")\n",
    "ipopt.add_option(\"acceptable_tol\", 0.01)\n",
    "#ipopt.add_option(\"acceptable_obj_change_tol\", 0.001)\n",
    "ipopt.add_option(\"acceptable_iter\", 2)\n",
    "#ipopt.add_option(\"max_iter\", 100)\n",
    "xsol, info = ipopt.solve(panda.neutral)"
   ]
  },
  {
   "cell_type": "code",
   "execution_count": null,
   "metadata": {},
   "outputs": [],
   "source": []
  }
 ],
 "metadata": {
  "kernelspec": {
   "display_name": "cu11",
   "language": "python",
   "name": "python3"
  },
  "language_info": {
   "codemirror_mode": {
    "name": "ipython",
    "version": 3
   },
   "file_extension": ".py",
   "mimetype": "text/x-python",
   "name": "python",
   "nbconvert_exporter": "python",
   "pygments_lexer": "ipython3",
   "version": "3.8.16"
  },
  "orig_nbformat": 4
 },
 "nbformat": 4,
 "nbformat_minor": 2
}
