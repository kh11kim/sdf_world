{
 "cells": [
  {
   "cell_type": "code",
   "execution_count": 1,
   "metadata": {},
   "outputs": [
    {
     "name": "stderr",
     "output_type": "stream",
     "text": [
      "pybullet build time: May 20 2022 19:44:17\n"
     ]
    },
    {
     "name": "stdout",
     "output_type": "stream",
     "text": [
      "Jupyter environment detected. Enabling Open3D WebVisualizer.\n",
      "[Open3D INFO] WebRTC GUI backend enabled.\n",
      "[Open3D INFO] WebRTCWindowSystem: HTTP handshake server disabled.\n"
     ]
    }
   ],
   "source": [
    "import os\n",
    "from pybullet_suite import *\n",
    "import open3d as o3d\n",
    "import trimesh\n",
    "\n",
    "import yaml\n",
    "import tqdm\n",
    "import pandas as pd\n",
    "from IPython.display import clear_output\n",
    "\n",
    "from sdf_world.grasp_sim import * \n",
    "from sdf_world.robots import HANDE_URDF\n",
    "from pathlib import Path"
   ]
  },
  {
   "cell_type": "code",
   "execution_count": 2,
   "metadata": {},
   "outputs": [
    {
     "name": "stdout",
     "output_type": "stream",
     "text": [
      "ven = NVIDIA Corporation\n"
     ]
    },
    {
     "name": "stdout",
     "output_type": "stream",
     "text": [
      "ven = NVIDIA Corporation\n"
     ]
    }
   ],
   "source": [
    "# generate world\n",
    "world = BulletWorld(gui=True, gravity=[0,0,0])\n",
    "sm = BulletSceneMaker(world)\n",
    "clear_output(wait=True)"
   ]
  },
  {
   "cell_type": "code",
   "execution_count": 3,
   "metadata": {},
   "outputs": [],
   "source": [
    "# hand\n",
    "tcp_offset_pose = Pose(rot=Rotation.from_euler(\"zyx\",[np.pi/2, 0,0]), trans=[0,0,0.09])\n",
    "hand = Gripper(\"hand\", HANDE_URDF, tcp_offset_pose, 0.05,\n",
    "        world, sm, finger_swept_vol=True, joint_rev=True)"
   ]
  },
  {
   "cell_type": "code",
   "execution_count": 4,
   "metadata": {},
   "outputs": [],
   "source": [
    "#load obj_mesh\n",
    "obj_name = \"waffle_box\"\n",
    "obj_folder_path = Path(\"./sdf_world/assets/\"+obj_name)\n",
    "obj_mesh_path = obj_folder_path / (obj_name + \".obj\")\n",
    "#obj_mesh_path = obj_folder_path / (\"cup_vhacd\" + \".obj\")"
   ]
  },
  {
   "cell_type": "code",
   "execution_count": 5,
   "metadata": {},
   "outputs": [],
   "source": [
    "obj_mesh = trimesh.load(obj_mesh_path)"
   ]
  },
  {
   "cell_type": "code",
   "execution_count": 6,
   "metadata": {},
   "outputs": [
    {
     "data": {
      "text/plain": [
       "'# https://github.com/mikedh/trimesh\\nv 0.06650000 -0.01075000 0.03500000\\nv 0.06650000 -0.01075000 0.03500000\\nv 0.06650000 -0.01075000 0.03500000\\nv 0.06650000 -0.01075000 -0.03500000\\nv 0.06650000 -0.01075000 -0.03500000\\nv 0.06650000 -0.01075000 -0.03500000\\nv 0.06650000 0.01075000 -0.03500000\\nv 0.06650000 0.01075000 -0.03500000\\nv 0.06650000 0.01075000 -0.03500000\\nv 0.06650000 0.01075000 0.03500000\\nv 0.06650000 0.01075000 0.03500000\\nv 0.06650000 0.01075000 0.03500000\\nv -0.06650000 0.01075000 -0.03500000\\nv -0.06650000 0.01075000 -0.03500000\\nv -0.06650000 0.01075000 -0.03500000\\nv -0.06650000 0.01075000 0.03500000\\nv -0.06650000 0.01075000 0.03500000\\nv -0.06650000 0.01075000 0.03500000\\nv -0.06650000 -0.01075000 -0.03500000\\nv -0.06650000 -0.01075000 -0.03500000\\nv -0.06650000 -0.01075000 -0.03500000\\nv -0.06650000 -0.01075000 0.03500000\\nv -0.06650000 -0.01075000 0.03500000\\nv -0.06650000 -0.01075000 0.03500000\\nvn 1.00000000 0.00000000 0.00000000\\nvn 0.00000000 -1.00000000 0.00000000\\nvn 0.00000000 0.00000000 1.00000000\\nvn 1.00000000 0.00000000 0.00000000\\nvn 0.00000000 0.00000000 -1.00000000\\nvn 0.00000000 -1.00000000 0.00000000\\nvn 1.00000000 0.00000000 0.00000000\\nvn 0.00000000 1.00000000 0.00000000\\nvn 0.00000000 0.00000000 -1.00000000\\nvn 0.00000000 0.00000000 1.00000000\\nvn 0.00000000 1.00000000 0.00000000\\nvn 1.00000000 0.00000000 0.00000000\\nvn 0.00000000 0.00000000 -1.00000000\\nvn 0.00000000 1.00000000 0.00000000\\nvn -1.00000000 0.00000000 0.00000000\\nvn 0.00000000 1.00000000 0.00000000\\nvn 0.00000000 0.00000000 1.00000000\\nvn -1.00000000 0.00000000 0.00000000\\nvn 0.00000000 0.00000000 -1.00000000\\nvn 0.00000000 -1.00000000 0.00000000\\nvn -1.00000000 0.00000000 0.00000000\\nvn 0.00000000 0.00000000 1.00000000\\nvn 0.00000000 -1.00000000 0.00000000\\nvn -1.00000000 0.00000000 0.00000000\\nf 1//1 4//4 7//7\\nf 7//7 12//12 1//1\\nf 11//11 8//8 14//14\\nf 14//14 16//16 11//11\\nf 18//18 15//15 21//21\\nf 21//21 24//24 18//18\\nf 23//23 20//20 6//6\\nf 6//6 2//2 23//23\\nf 22//22 3//3 10//10\\nf 10//10 17//17 22//22\\nf 13//13 9//9 5//5\\nf 5//5 19//19 13//13'"
      ]
     },
     "execution_count": 6,
     "metadata": {},
     "output_type": "execute_result"
    }
   ],
   "source": [
    "# normalizing\n",
    "sphere_radius = 0.8\n",
    "vertices = obj_mesh.vertices - obj_mesh.bounding_box.centroid #centered\n",
    "scale_to_norm = sphere_radius * 2 / np.max(obj_mesh.bounding_box.extents)\n",
    "#vertices *= scale_to_norm\n",
    "#obj_mesh_normalized = trimesh.Trimesh(vertices, obj_mesh.faces, obj_mesh.face_normals, obj_mesh.vertex_normals)\n",
    "obj_mesh_centered = trimesh.Trimesh(vertices, obj_mesh.faces, obj_mesh.face_normals, obj_mesh.vertex_normals)\n",
    "\n",
    "# export normalized mesh\n",
    "# suffix = f\"_scale{np.round(scale_to_norm,2)}.obj\"\n",
    "# obj_mesh_norm_path = obj_mesh_path.as_posix().replace(\".obj\", suffix)\n",
    "# obj_mesh_normalized.export(obj_mesh_norm_path, file_type=\"obj\")\n",
    "obj_mesh_centered_path = obj_folder_path/(obj_name+\"_centered.obj\")\n",
    "obj_mesh_centered.export(obj_mesh_centered_path, file_type=\"obj\")"
   ]
  },
  {
   "cell_type": "code",
   "execution_count": 7,
   "metadata": {},
   "outputs": [
    {
     "name": "stdout",
     "output_type": "stream",
     "text": [
      "V-HACD V2.2\n",
      "Syntax: testVHACD [options] --input infile.obj --output outfile.obj --log logfile.txt\n",
      "\n",
      "Options:\n",
      "       --input                     Wavefront .obj input file name\n",
      "       --output                    VRML 2.0 output file name\n",
      "       --log                       Log file name\n",
      "       --resolution                Maximum number of voxels generated during the voxelization stage (default=100,000, range=10,000-16,000,000)\n",
      "       --depth                     Maximum number of clipping stages. During each split stage, parts with a concavity higher than the user defined threshold are clipped according the \"best\" clipping plane (default=20, range=1-32)\n",
      "       --concavity                 Maximum allowed concavity (default=0.0025, range=0.0-1.0)\n",
      "       --planeDownsampling         Controls the granularity of the search for the \"best\" clipping plane (default=4, range=1-16)\n",
      "       --convexhullDownsampling    Controls the precision of the convex-hull generation process during the clipping plane selection stage (default=4, range=1-16)\n",
      "       --alpha                     Controls the bias toward clipping along symmetry planes (default=0.05, range=0.0-1.0)\n",
      "       --beta                      Controls the bias toward clipping along revolution axes (default=0.05, range=0.0-1.0)\n",
      "       --gamma                     Controls the maximum allowed concavity during the merge stage (default=0.00125, range=0.0-1.0)\n",
      "       --delta                     Controls the bias toward maximaxing local concavity (default=0.05, range=0.0-1.0)\n",
      "       --pca                       Enable/disable normalizing the mesh before applying the convex decomposition (default=0, range={0,1})\n",
      "       --mode                      0: voxel-based approximate convex decomposition, 1: tetrahedron-based approximate convex decomposition (default=0, range={0,1})\n",
      "       --maxNumVerticesPerCH       Controls the maximum number of triangles per convex-hull (default=64, range=4-1024)\n",
      "       --minVolumePerCH            Controls the adaptive sampling of the generated convex-hulls (default=0.0001, range=0.0-0.01)\n",
      "       --convexhullApproximation   Enable/disable approximation when computing convex-hulls (default=1, range={0,1})\n",
      "       --oclAcceleration           Enable/disable OpenCL acceleration (default=0, range={0,1})\n",
      "       --oclPlatformID             OpenCL platform id (default=0, range=0-# OCL platforms)\n",
      "       --oclDeviceID               OpenCL device id (default=0, range=0-# OCL devices)\n",
      "       --help                      Print usage\n",
      "\n",
      "Examples:\n",
      "       testVHACD.exe --input bunny.obj --output bunny_acd.obj --log log.txt\n",
      "\n",
      "+ OpenCL (OFF)\n",
      "+ Parameters\n",
      "\t input                                       sdf_world/assets/cup/cup.obj\n",
      "\t resolution                                  1000000\n",
      "\t max. depth                                  20\n",
      "\t max. concavity                              0.001\n",
      "\t plane down-sampling                         4\n",
      "\t convex-hull down-sampling                   4\n",
      "\t alpha                                       0.05\n",
      "\t beta                                        0.05\n",
      "\t gamma                                       0.0005\n",
      "\t pca                                         0\n",
      "\t mode                                        0\n",
      "\t max. vertices per convex-hull               64\n",
      "\t min. volume to add vertices to convex-hulls 0.0001\n",
      "\t convex-hull approximation                   1\n",
      "\t OpenCL acceleration                         1\n",
      "\t OpenCL platform ID                          0\n",
      "\t OpenCL device ID                            0\n",
      "\t output                                      sdf_world/assets/cup/cup_vhacd.obj\n",
      "\t log                                         log.txt\n",
      "+ Load mesh\n",
      "  0% [ Voxelization  20% ] Iteration 1   0%\n",
      "  0% [ Voxelization  20% ] Iteration 1 100%\n",
      "  0% [ Voxelization  40% ] Iteration 2   0%\n",
      "  0% [ Voxelization  40% ] Iteration 2 100%\n",
      " 10% [ Voxelization 100% ] Iteration 2 100%\n",
      " 10% [ Compute primitive set   0% ] Convert volume to pset   0%\n",
      " 15% [ Compute primitive set 100% ] Convert volume to pset 100%\n",
      " 15% [ Approximate Convex Decomposition   0% ] Subdivision level 1   0%\n",
      " 15% [ Approximate Convex Decomposition   0% ] Subdivision level 1   0%\n",
      " 15% [ Approximate Convex Decomposition  44% ] Subdivision level 1 100%\n",
      " 15% [ Approximate Convex Decomposition  44% ] Subdivision level 2   0%\n",
      " 15% [ Approximate Convex Decomposition  44% ] Subdivision level 2   0%\n",
      " 15% [ Approximate Convex Decomposition  44% ] Subdivision level 2  50%\n",
      " 15% [ Approximate Convex Decomposition  50% ] Subdivision level 2 100%\n",
      " 15% [ Approximate Convex Decomposition  50% ] Subdivision level 3   0%\n",
      " 15% [ Approximate Convex Decomposition  50% ] Subdivision level 3   0%\n",
      " 15% [ Approximate Convex Decomposition  50% ] Subdivision level 3  25%\n",
      " 15% [ Approximate Convex Decomposition  50% ] Subdivision level 3  50%\n",
      " 15% [ Approximate Convex Decomposition  50% ] Subdivision level 3  75%\n",
      " 15% [ Approximate Convex Decomposition  76% ] Subdivision level 3 100%\n",
      " 15% [ Approximate Convex Decomposition  76% ] Subdivision level 4   0%\n",
      " 15% [ Approximate Convex Decomposition  76% ] Subdivision level 4   0%\n",
      " 15% [ Approximate Convex Decomposition  76% ] Subdivision level 4  13%\n",
      " 15% [ Approximate Convex Decomposition  76% ] Subdivision level 4  25%\n",
      " 15% [ Approximate Convex Decomposition  76% ] Subdivision level 4  38%\n",
      " 15% [ Approximate Convex Decomposition  76% ] Subdivision level 4  50%\n",
      " 15% [ Approximate Convex Decomposition  76% ] Subdivision level 4  63%\n",
      " 15% [ Approximate Convex Decomposition  76% ] Subdivision level 4  75%\n",
      " 15% [ Approximate Convex Decomposition  76% ] Subdivision level 4  88%\n",
      " 15% [ Approximate Convex Decomposition  89% ] Subdivision level 4 100%\n",
      " 15% [ Approximate Convex Decomposition  89% ] Subdivision level 5   0%\n",
      " 15% [ Approximate Convex Decomposition  89% ] Subdivision level 5   0%\n",
      " 15% [ Approximate Convex Decomposition  89% ] Subdivision level 5   7%\n",
      " 15% [ Approximate Convex Decomposition  89% ] Subdivision level 5  14%\n",
      " 15% [ Approximate Convex Decomposition  89% ] Subdivision level 5  21%\n",
      " 15% [ Approximate Convex Decomposition  89% ] Subdivision level 5  29%\n",
      " 15% [ Approximate Convex Decomposition  89% ] Subdivision level 5  36%\n",
      " 15% [ Approximate Convex Decomposition  89% ] Subdivision level 5  43%\n",
      " 15% [ Approximate Convex Decomposition  89% ] Subdivision level 5  50%\n",
      " 15% [ Approximate Convex Decomposition  89% ] Subdivision level 5  57%\n",
      " 15% [ Approximate Convex Decomposition  89% ] Subdivision level 5  64%\n",
      " 15% [ Approximate Convex Decomposition  89% ] Subdivision level 5  71%\n",
      " 15% [ Approximate Convex Decomposition  89% ] Subdivision level 5  79%\n",
      " 15% [ Approximate Convex Decomposition  89% ] Subdivision level 5  86%\n",
      " 15% [ Approximate Convex Decomposition  89% ] Subdivision level 5  93%\n",
      " 15% [ Approximate Convex Decomposition  93% ] Subdivision level 5 100%\n",
      " 15% [ Approximate Convex Decomposition  93% ] Subdivision level 6   0%\n",
      " 15% [ Approximate Convex Decomposition  93% ] Subdivision level 6   0%\n",
      " 15% [ Approximate Convex Decomposition  93% ] Subdivision level 6  13%\n",
      " 15% [ Approximate Convex Decomposition  93% ] Subdivision level 6  25%\n",
      " 15% [ Approximate Convex Decomposition  93% ] Subdivision level 6  38%\n",
      " 15% [ Approximate Convex Decomposition  93% ] Subdivision level 6  50%\n",
      " 15% [ Approximate Convex Decomposition  93% ] Subdivision level 6  63%\n",
      " 15% [ Approximate Convex Decomposition  93% ] Subdivision level 6  75%\n",
      " 15% [ Approximate Convex Decomposition  93% ] Subdivision level 6  88%\n",
      " 15% [ Approximate Convex Decomposition  94% ] Subdivision level 6 100%\n",
      " 15% [ Approximate Convex Decomposition  94% ] Subdivision level 7   0%\n",
      " 15% [ Approximate Convex Decomposition  94% ] Subdivision level 7   0%\n",
      " 15% [ Approximate Convex Decomposition  94% ] Subdivision level 7  50%\n",
      " 15% [ Approximate Convex Decomposition  95% ] Subdivision level 7 100%\n",
      " 90% [ Approximate Convex Decomposition  95% ] Subdivision level 7 100%\n",
      " 90% [ Approximate Convex Decomposition  95% ] Generate convex-hulls   0%\n",
      " 90% [ Approximate Convex Decomposition  95% ] Generate convex-hulls   0%\n",
      " 90% [ Approximate Convex Decomposition  95% ] Generate convex-hulls   5%\n",
      " 90% [ Approximate Convex Decomposition  95% ] Generate convex-hulls  10%\n",
      " 90% [ Approximate Convex Decomposition  95% ] Generate convex-hulls  15%\n",
      " 90% [ Approximate Convex Decomposition  95% ] Generate convex-hulls  20%\n",
      " 90% [ Approximate Convex Decomposition  95% ] Generate convex-hulls  25%\n",
      " 90% [ Approximate Convex Decomposition  95% ] Generate convex-hulls  30%\n",
      " 90% [ Approximate Convex Decomposition  95% ] Generate convex-hulls  35%\n",
      " 90% [ Approximate Convex Decomposition  95% ] Generate convex-hulls  40%\n",
      " 90% [ Approximate Convex Decomposition  95% ] Generate convex-hulls  45%\n",
      " 90% [ Approximate Convex Decomposition  95% ] Generate convex-hulls  50%\n",
      " 90% [ Approximate Convex Decomposition  95% ] Generate convex-hulls  55%\n",
      " 90% [ Approximate Convex Decomposition  95% ] Generate convex-hulls  60%\n",
      " 90% [ Approximate Convex Decomposition  95% ] Generate convex-hulls  65%\n",
      " 90% [ Approximate Convex Decomposition  95% ] Generate convex-hulls  70%\n",
      " 90% [ Approximate Convex Decomposition  95% ] Generate convex-hulls  75%\n",
      " 90% [ Approximate Convex Decomposition  95% ] Generate convex-hulls  80%\n",
      " 90% [ Approximate Convex Decomposition  95% ] Generate convex-hulls  85%\n",
      " 90% [ Approximate Convex Decomposition  95% ] Generate convex-hulls  90%\n",
      " 90% [ Approximate Convex Decomposition  95% ] Generate convex-hulls  95%\n",
      " 95% [ Approximate Convex Decomposition 100% ] Generate convex-hulls 100%\n",
      " 99% [ Merge Convex Hulls 100% ] Iteration 1 100%\n",
      " 99% [ Simplify convex-hulls   0% ] Simplify convex-hulls   0%\n",
      "100% [ Simplify convex-hulls 100% ] Simplify convex-hulls 100%\n"
     ]
    }
   ],
   "source": [
    "# vhacd\n",
    "world.physics_client.vhacd(\n",
    "    obj_mesh_path.as_posix(), \n",
    "    (obj_folder_path/\"cup_vhacd.obj\").as_posix(), \n",
    "    \"log.txt\")"
   ]
  },
  {
   "cell_type": "code",
   "execution_count": 7,
   "metadata": {},
   "outputs": [],
   "source": [
    "#obj in pybullet\n",
    "obj = world.load_mesh(\n",
    "    \"obj\", obj_mesh_centered_path.as_posix(), obj_mesh_centered_path.as_posix(), Pose.identity())"
   ]
  },
  {
   "cell_type": "code",
   "execution_count": 8,
   "metadata": {},
   "outputs": [],
   "source": [
    "sim = GraspSim(hand, obj, obj_mesh_centered)"
   ]
  },
  {
   "cell_type": "code",
   "execution_count": 9,
   "metadata": {},
   "outputs": [
    {
     "name": "stdout",
     "output_type": "stream",
     "text": [
      "Antipodal grasp sampling...\n"
     ]
    },
    {
     "name": "stderr",
     "output_type": "stream",
     "text": [
      "  0%|          | 0/100 [00:00<?, ?it/s]"
     ]
    },
    {
     "name": "stderr",
     "output_type": "stream",
     "text": [
      " 58%|█████▊    | 58/100 [00:21<00:19,  2.20it/s]"
     ]
    },
    {
     "name": "stderr",
     "output_type": "stream",
     "text": [
      " 59%|█████▉    | 59/100 [00:21<00:19,  2.11it/s]"
     ]
    }
   ],
   "source": [
    "df_succ, df_fail = sim.execute(\n",
    "    visualize=True, surface_points=10000, grasp_samples=100)"
   ]
  },
  {
   "cell_type": "code",
   "execution_count": 22,
   "metadata": {},
   "outputs": [],
   "source": [
    "def to_pointcloud(xyz):\n",
    "    return o3d.geometry.PointCloud(o3d.utility.Vector3dVector(xyz))"
   ]
  },
  {
   "cell_type": "code",
   "execution_count": 23,
   "metadata": {},
   "outputs": [],
   "source": [
    "xyz_label = [\"x\", \"y\", \"z\"]\n",
    "xyz_fail = df_succ.loc[:,xyz_label].to_numpy()\n",
    "frame = o3d.geometry.TriangleMesh.create_coordinate_frame(0.1)\n",
    "o3d.visualization.draw_geometries([to_pointcloud(xyz_fail), frame])"
   ]
  },
  {
   "cell_type": "code",
   "execution_count": 24,
   "metadata": {},
   "outputs": [],
   "source": [
    "df_succ_scaled = df_succ.copy()\n",
    "df_fail_scaled = df_fail.copy()\n",
    "df_succ.loc[:,xyz_label] *= scale_to_norm\n",
    "df_fail.loc[:,xyz_label] *= scale_to_norm\n",
    "\n",
    "# save dataframes\n",
    "data_succ_path = obj_folder_path / \"succ.csv\"\n",
    "data_fail_path = obj_folder_path / \"fail.csv\"\n",
    "df_succ_scaled.to_csv(data_succ_path, index=False)\n",
    "df_fail_scaled.to_csv(data_fail_path, index=False)\n",
    "\n",
    "\n",
    "# save info\n",
    "import pickle\n",
    "obj_info_path = obj_folder_path / \"info.pkl\"\n",
    "obj_info = {'name':\"waffle_box\", \"scale_to_norm\":scale_to_norm}\n",
    "with open(obj_info_path, \"wb\") as f:\n",
    "    pickle.dump(obj_info, f, protocol=pickle.HIGHEST_PROTOCOL)"
   ]
  },
  {
   "cell_type": "code",
   "execution_count": 25,
   "metadata": {},
   "outputs": [
    {
     "data": {
      "text/plain": [
       "PosixPath('sdf_world/assets/waffle_box/info.pkl')"
      ]
     },
     "execution_count": 25,
     "metadata": {},
     "output_type": "execute_result"
    }
   ],
   "source": []
  }
 ],
 "metadata": {
  "kernelspec": {
   "display_name": "cu11",
   "language": "python",
   "name": "python3"
  },
  "language_info": {
   "codemirror_mode": {
    "name": "ipython",
    "version": 3
   },
   "file_extension": ".py",
   "mimetype": "text/x-python",
   "name": "python",
   "nbconvert_exporter": "python",
   "pygments_lexer": "ipython3",
   "version": "3.8.16"
  },
  "orig_nbformat": 4
 },
 "nbformat": 4,
 "nbformat_minor": 2
}
