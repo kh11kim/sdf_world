{
 "cells": [
  {
   "cell_type": "code",
   "execution_count": 1,
   "metadata": {},
   "outputs": [],
   "source": [
    "import numpy as np\n",
    "import jax.numpy as jnp\n",
    "import jax\n",
    "import cyipopt\n",
    "\n",
    "from functools import partial\n",
    "from typing import *\n",
    "from dataclasses import dataclass, field\n",
    "from jaxlie import SE3, SO3\n",
    "import jax_dataclasses as jdc\n",
    "\n",
    "from sdf_world.sdf_world import *\n",
    "from sdf_world.robots import *\n",
    "from sdf_world.util import *\n",
    "from sdf_world.network import *\n",
    "from sdf_world.sparse_ipopt import *\n",
    "\n",
    "from flax import linen as nn\n",
    "from flax.training import orbax_utils\n",
    "import orbax\n",
    "import pickle\n",
    "import time"
   ]
  },
  {
   "cell_type": "code",
   "execution_count": 105,
   "metadata": {},
   "outputs": [],
   "source": [
    "@dataclass\n",
    "class Variable:\n",
    "    name: str\n",
    "    coord: np.ndarray\n",
    "    lb: np.ndarray\n",
    "    ub: np.ndarray\n",
    "    \n",
    "    @property\n",
    "    def dim(self): return len(self.coord)\n",
    "\n",
    "@dataclass\n",
    "class Parameter:\n",
    "    name: str\n",
    "    coord: np.ndarray\n",
    "    dim: int\n",
    "\n",
    "    @property\n",
    "    def lb(self): return np.full(self.dim, -np.inf)\n",
    "    @property\n",
    "    def ub(self): return np.full(self.dim, np.inf)\n",
    "\n",
    "@dataclass\n",
    "class Constraint:\n",
    "    name: str\n",
    "    coord: np.ndarray\n",
    "    inputs: List[Variable]\n",
    "    fn: \"Function\"\n",
    "    lb: np.ndarray\n",
    "    ub: np.ndarray\n",
    "    no_deriv_names: List[str]\n",
    "    jac_indices: np.ndarray\n",
    "\n",
    "    @property\n",
    "    def dim(self): return len(self.coord)\n",
    "\n",
    "@dataclass\n",
    "class Function:\n",
    "    name: str\n",
    "    in_dims: List[int]\n",
    "    out_dim: int\n",
    "    eval_fn: Callable\n",
    "    jac_fn: Callable\n",
    "    custom_jac_indices: Optional[List[np.ndarray]]\n",
    "    constraints: List[Constraint] = field(default_factory=list)\n",
    "\n",
    "class SparseIPOPT():\n",
    "    def __init__(self):\n",
    "        self.x_info: Dict[str,Variable] = {}\n",
    "        self.c_info: Dict[str,Constraint] = {}\n",
    "        self.fn_info: Dict[str,Function] = {}\n",
    "        self.obj_info: Dict = {}\n",
    "        self.param_info: Dict[str, Array] = {}\n",
    "\n",
    "        self.x_idx, self.c_idx = 0, 0\n",
    "        self.param_info: Dict[str, np.ndarray] = {}\n",
    "\n",
    "    @property\n",
    "    def xdim(self):\n",
    "        return sum([x.dim for x in self.x_info.values()])\n",
    "    @property\n",
    "    def cdim(self):\n",
    "        return sum([c.dim for c in self.c_info.values()])\n",
    "    @property\n",
    "    def input_info(self):\n",
    "        return {**self.x_info, **self.param_info}\n",
    "    \n",
    "    def add_variable(self, name, dim, lb=-np.inf, ub=np.inf):\n",
    "        assert name not in self.x_info\n",
    "        assert isinstance(lb, float) or len(lb) == dim\n",
    "        assert isinstance(ub, float) or len(ub) == dim\n",
    "\n",
    "        if isinstance(lb, float): lb = np.full(dim, lb)\n",
    "        if isinstance(ub, float): ub = np.full(dim, ub)\n",
    "\n",
    "        coord = np.arange(self.x_idx, self.x_idx+dim)\n",
    "        self.x_info[name] = Variable(\n",
    "            name, coord, lb, ub)\n",
    "        \n",
    "        self.x_idx += dim\n",
    "    \n",
    "    def add_parameter(self, name, dim):\n",
    "        assert name not in self.param_info\n",
    "        #TODO: name also should not be in \"variable\"\n",
    "        coord = np.arange(self.x_idx, self.x_idx+dim)\n",
    "        self.x_info[name] = Parameter(name, coord, dim)\n",
    "        self.x_idx += dim\n",
    "    \n",
    "    def set_objective(self, fn_name, input_x_names):\n",
    "        self.obj_info[\"fn\"] = self.fn_info[fn_name]\n",
    "        self.obj_info[\"inputs\"] = [self.x_info[name] for name in input_x_names]\n",
    "    \n",
    "    def set_debug_callback(self, debug_callback:Callable):\n",
    "        self.obj_info[\"debug_cb\"] = debug_callback\n",
    "\n",
    "    def set_constr(self, name, cfn_name, input_x_names, lb, ub, no_deriv_names=[]):\n",
    "        c_fn = self.fn_info[cfn_name]\n",
    "        cdim = c_fn.out_dim\n",
    "        assert name not in self.c_info\n",
    "        assert isinstance(lb, float) or len(lb) == cdim\n",
    "        assert isinstance(ub, float) or len(ub) == cdim\n",
    "        if isinstance(lb, float): lb = np.full(cdim, lb)\n",
    "        if isinstance(ub, float): ub = np.full(cdim, ub)\n",
    "\n",
    "        vars = [self.x_info[name] for name in input_x_names]\n",
    "        c_coord = np.arange(self.c_idx, self.c_idx+cdim)\n",
    "        \n",
    "        # if deriv_x_names is not None:\n",
    "        #     deriv_vars = [self.x_info[name] for name in deriv_x_names]\n",
    "        # else:\n",
    "        #     deriv_vars = []\n",
    "        #     for i, var in enumerate(vars):\n",
    "        #         if isinstance(var, Parameter): continue\n",
    "        #         deriv_vars.append(var)\n",
    "\n",
    "        jac_indices = []\n",
    "        for i, var in enumerate(vars):\n",
    "            if var.name in no_deriv_names: continue\n",
    "            if isinstance(var, Parameter): continue\n",
    "            \n",
    "            if c_fn.custom_jac_indices is not None:\n",
    "                row, col = c_fn.custom_jac_indices[i]\n",
    "            else:\n",
    "                row, col = np.indices((cdim, var.dim)).reshape(2, -1)\n",
    "            row_offset, col_offset = c_coord[0], var.coord[0] # offset\n",
    "            jac_indices.append(np.vstack([row+row_offset, col+col_offset]))\n",
    "\n",
    "        self.c_info[name] = Constraint(\n",
    "            name, c_coord, vars, \n",
    "            c_fn, lb, ub,\n",
    "            no_deriv_names, jac_indices)\n",
    "        c_fn.constraints.append(self.c_info[name])\n",
    "        self.c_idx += cdim\n",
    "\n",
    "    def register_fn(self, name, in_dims, out_dim, eval_fn, jac_fn, custom_jac_indices=None):\n",
    "        xdummies = [jnp.zeros(dim) for dim in in_dims]\n",
    "        assert eval_fn(*xdummies).size == out_dim\n",
    "        assert len(jac_fn(*xdummies)) == len(in_dims)\n",
    "        if custom_jac_indices is not None:\n",
    "            assert len(custom_jac_indices) == len(in_dims)\n",
    "        self.fn_info[name] = Function(\n",
    "            name, in_dims, out_dim, eval_fn, jac_fn, custom_jac_indices)\n",
    "    \n",
    "    def get_objective_fn(self, compile=True):\n",
    "        no_obj = False\n",
    "        if \"fn\" not in self.obj_info: \n",
    "            objective = lambda x: 0.\n",
    "            no_obj = True\n",
    "        else:\n",
    "            def objective(x):        \n",
    "                xs = {var.name:x[var.coord] for var in self.x_info.values()}\n",
    "                fn_input = [xs[var.name] for var in self.obj_info[\"inputs\"]]    \n",
    "                val = self.obj_info[\"fn\"].eval_fn(*fn_input)\n",
    "                return val\n",
    "        \n",
    "        if \"debug_cb\" in self.obj_info:\n",
    "            def objective_debug(x):\n",
    "                xs = {var.name:x[var.coord] for var in self.x_info.values()}\n",
    "                self.obj_info[\"debug_cb\"](xs)    \n",
    "                return objective(x)\n",
    "            return objective_debug\n",
    "        elif compile and not no_obj:\n",
    "            return jax.jit(objective)\n",
    "        return objective\n",
    "    \n",
    "    def get_gradient_fn(self, compile=True):\n",
    "        no_obj = False\n",
    "        if \"fn\" not in self.obj_info: \n",
    "            gradient = lambda x: np.zeros(self.xdim)\n",
    "            no_obj = True\n",
    "        else:\n",
    "            grad_value_dict = {var.name: np.zeros(var.dim) for var in self.x_info.values()}\n",
    "            def gradient(x):\n",
    "                xs = {var.name:x[var.coord] for var in self.x_info.values()}\n",
    "                fn_input = [xs[var.name] for var in self.obj_info[\"inputs\"]]    \n",
    "                grads = self.obj_info[\"fn\"].jac_fn(*fn_input)\n",
    "                for var, grad in zip(self.obj_info['inputs'], grads):\n",
    "                    grad_value_dict[var.name] = grad\n",
    "                return jnp.hstack(grad_value_dict.values())\n",
    "        if compile and not no_obj:\n",
    "            return jax.jit(gradient)\n",
    "        return gradient      \n",
    "    \n",
    "    def get_constraint_fn(self, compile=True):\n",
    "        def constraints(x):\n",
    "            xs = {var.name:x[var.coord] for var in self.x_info.values()}\n",
    "            result = []\n",
    "            for constr in self.c_info.values():\n",
    "                fn_input = [xs[var.name] for var in constr.inputs]    \n",
    "                out = constr.fn.eval_fn(*fn_input)\n",
    "                result.append(out)\n",
    "            return jnp.hstack(result)\n",
    "        if compile:\n",
    "            return jax.jit(constraints)\n",
    "        return constraints\n",
    "    \n",
    "    def get_jacobian_fn(self, compile=True):\n",
    "        def jacobian(x):\n",
    "            xs = {var.name:x[var.coord] for var in self.x_info.values()}\n",
    "            result = []\n",
    "            for constr in self.c_info.values():\n",
    "                fn_input = [xs[var.name] for var in constr.inputs]    \n",
    "                jacs = constr.fn.jac_fn(*fn_input)\n",
    "                for i, var in enumerate(constr.inputs):\n",
    "                    if var.name in constr.no_deriv_names: continue\n",
    "                    elif isinstance(var, Parameter): continue\n",
    "                    result.append(jacs[i].flatten())\n",
    "            return jnp.hstack(result)\n",
    "        if compile:\n",
    "            return jax.jit(jacobian)\n",
    "        return jacobian\n",
    "                # indices_var = [i for i, var in enumerate(constr.inputs) \n",
    "                #                if isinstance(var, Variable)]\n",
    "                # idx_jac = 0\n",
    "                #     if constr.jac_indices[i] is not None:\n",
    "                # for i, jac in enumerate(jacs):\n",
    "                    # if constr.jac_indices[i] is not None:\n",
    "                        # result.append(jac.flatten())\n",
    "                    #if i in indices_var:\n",
    "                        # result.append(jac.flatten())\n",
    "    \n",
    "    def get_jacobian_structure(self):\n",
    "        rows, cols = [], []\n",
    "        rows, cols = [], []\n",
    "        for constr in self.c_info.values():\n",
    "            for jac_idx in constr.jac_indices:\n",
    "                if jac_idx is None: continue\n",
    "                rows.append(jac_idx[0])\n",
    "                cols.append(jac_idx[1])\n",
    "        rows = np.hstack(rows)\n",
    "        cols = np.hstack(cols)\n",
    "        return rows, cols\n",
    "\n",
    "    def print_sparsity(self):\n",
    "        row, col = self.get_jacobian_structure()\n",
    "        jac_struct = np.full((self.cdim, self.xdim), -1, dtype=int)\n",
    "        jac_struct[row, col] = 1\n",
    "        for row in jac_struct:\n",
    "            row_str = \"\"\n",
    "            for val in row:\n",
    "                if val == -1: row_str += \"-\"\n",
    "                else: row_str += f\"o\"\n",
    "            print(row_str)\n",
    "    \n",
    "    def build(self, compile=True):\n",
    "        lb = np.hstack([x.lb for x in self.x_info.values()])\n",
    "        ub = np.hstack([x.ub for x in self.x_info.values()])\n",
    "        cl = np.hstack([c.lb for c in self.c_info.values()])\n",
    "        cu = np.hstack([c.ub for c in self.c_info.values()])\n",
    "        row, col = self.get_jacobian_structure()\n",
    "        jac_struct_fn = lambda : (row, col)\n",
    "\n",
    "        fns = {\n",
    "            \"objective\": self.get_objective_fn(compile),\n",
    "            \"gradient\": self.get_gradient_fn(compile),\n",
    "            \"constraints\": self.get_constraint_fn(compile),\n",
    "            \"jacobian\": self.get_jacobian_fn(compile),\n",
    "        }\n",
    "        class Prob:\n",
    "            pass\n",
    "        prob = Prob()\n",
    "        xdummy = jnp.zeros(self.xdim)\n",
    "        for fn_name, fn in fns.items():\n",
    "            print(f\"compiling {fn_name} ...\")\n",
    "            fn(xdummy)\n",
    "            setattr(prob, fn_name, fn)\n",
    "        setattr(prob, \"jacobianstructure\", jac_struct_fn)\n",
    "\n",
    "        ipopt = cyipopt.Problem(\n",
    "            n=self.xdim, m=self.cdim,\n",
    "            problem_obj=prob,\n",
    "            lb=lb, ub=ub, cl=cl, cu=cu\n",
    "        )\n",
    "        # default option\n",
    "        ipopt.add_option(\"acceptable_iter\", 2)\n",
    "        ipopt.add_option(\"acceptable_tol\", np.inf) #release\n",
    "        ipopt.add_option(\"acceptable_obj_change_tol\", 0.1)\n",
    "        ipopt.add_option(\"acceptable_constr_viol_tol\", 1.)\n",
    "        #ipopt.add_option(\"acceptable_dual_inf_tol\", 1.) \n",
    "        ipopt.add_option('mu_strategy', 'adaptive')\n",
    "        self.print_sparsity()\n",
    "        return ipopt"
   ]
  },
  {
   "attachments": {},
   "cell_type": "markdown",
   "metadata": {},
   "source": [
    "### Load learned models"
   ]
  },
  {
   "cell_type": "code",
   "execution_count": 3,
   "metadata": {},
   "outputs": [],
   "source": [
    "# models \n",
    "orbax_checkpointer = orbax.checkpoint.PyTreeCheckpointer()\n",
    "restored_grasp = orbax_checkpointer.restore(\"model/grasp_net_prob_dist\")\n",
    "restored_manip = orbax_checkpointer.restore(\"model/manip_net_posevec\")\n",
    "\n",
    "#grasp net\n",
    "grasp_net = GraspNet(32)\n",
    "grasp_fn = lambda x: grasp_net.apply(restored_grasp[\"params\"], x)\n",
    "\n",
    "grasp_logit_fn = lambda g: grasp_fn(g)[0]\n",
    "grasp_dist_fn = lambda g: grasp_fn(g)[1]\n",
    "\n",
    "#manip net\n",
    "manip_net = ManipNet(64)\n",
    "manip_fn = lambda x: manip_net.apply(restored_manip[\"params\"], x)[0]"
   ]
  },
  {
   "attachments": {},
   "cell_type": "markdown",
   "metadata": {},
   "source": [
    "### Load world"
   ]
  },
  {
   "cell_type": "code",
   "execution_count": 4,
   "metadata": {},
   "outputs": [
    {
     "name": "stdout",
     "output_type": "stream",
     "text": [
      "You can open the visualizer by visiting the following URL:\n",
      "http://127.0.0.1:7008/static/\n"
     ]
    }
   ],
   "source": [
    "world = SDFWorld()"
   ]
  },
  {
   "cell_type": "code",
   "execution_count": 5,
   "metadata": {},
   "outputs": [
    {
     "data": {
      "text/html": [
       "\n",
       "            <div style=\"height: 400px; width: 100%; overflow-x: auto; overflow-y: hidden; resize: both\">\n",
       "            <iframe src=\"http://127.0.0.1:7008/static/\" style=\"width: 100%; height: 100%; border: none\"></iframe>\n",
       "            </div>\n",
       "            "
      ],
      "text/plain": [
       "<IPython.core.display.HTML object>"
      ]
     },
     "execution_count": 5,
     "metadata": {},
     "output_type": "execute_result"
    }
   ],
   "source": [
    "world.show_in_jupyter()"
   ]
  },
  {
   "cell_type": "code",
   "execution_count": 6,
   "metadata": {},
   "outputs": [
    {
     "name": "stderr",
     "output_type": "stream",
     "text": [
      "WARNING:trimesh:concatenating texture: may result in visual artifacts\n",
      "WARNING:trimesh:concatenating texture: may result in visual artifacts\n",
      "WARNING:trimesh:concatenating texture: may result in visual artifacts\n",
      "WARNING:trimesh:concatenating texture: may result in visual artifacts\n",
      "WARNING:trimesh:concatenating texture: may result in visual artifacts\n",
      "WARNING:trimesh:concatenating texture: may result in visual artifacts\n",
      "WARNING:trimesh:concatenating texture: may result in visual artifacts\n",
      "WARNING:trimesh:concatenating texture: may result in visual artifacts\n",
      "WARNING:trimesh:concatenating texture: may result in visual artifacts\n",
      "WARNING:trimesh:concatenating texture: may result in visual artifacts\n",
      "WARNING:trimesh:concatenating texture: may result in visual artifacts\n"
     ]
    }
   ],
   "source": [
    "# robot, hand\n",
    "panda_model = RobotModel(PANDA_URDF, PANDA_PACKAGE)\n",
    "panda = Robot(world.vis, \"panda\", panda_model, alpha=0.5)\n",
    "panda.reduce_dim([7, 8], [0.04, 0.04])\n",
    "\n",
    "hand_model = RobotModel(HAND_URDF, PANDA_PACKAGE, True)\n",
    "for link_name, link in hand_model.links.items():\n",
    "    link.set_surface_points(10)\n",
    "hand = Robot(world.vis, \"hand1\", hand_model, color=\"white\", alpha=0.5)"
   ]
  },
  {
   "cell_type": "code",
   "execution_count": 7,
   "metadata": {},
   "outputs": [],
   "source": [
    "#load sdf meshes\n",
    "table_lengths = [0.4, 0.4, 0.2]\n",
    "table_start = Box(world.vis, \"table_start\", table_lengths, 'white', 0.5)\n",
    "table_goal = Box(world.vis, \"table_goal\", table_lengths, 'white', 0.5)\n",
    "obstacle = Box(world.vis, \"obstacle\", [0.4, 0.2, 0.35], 'white', 0.5)\n",
    "\n",
    "obj_start = Mesh(world.vis, \"obj_start\", \n",
    "                 \"./sdf_world/assets/object/mesh.obj\",\n",
    "                 color=\"blue\", alpha=0.5)\n",
    "obj_goal = Mesh(world.vis, \"obj_goal\", \n",
    "                \"./sdf_world/assets/object/mesh.obj\",\n",
    "                color=\"green\", alpha=0.5)\n",
    "obj = Mesh(world.vis, \"obj\", \n",
    "                \"./sdf_world/assets/object/mesh.obj\",\n",
    "                color=\"white\", alpha=0.8)"
   ]
  },
  {
   "cell_type": "code",
   "execution_count": 8,
   "metadata": {},
   "outputs": [],
   "source": [
    "table_start.set_translate([0.4, -0.35, 0.2/2])\n",
    "table_goal.set_translate([0.4, 0.35, 0.2/2])\n",
    "obj_lengths = obj_start.mesh.bounding_box.primitive.extents\n",
    "obj_start.set_translate([0.4, -0.4, obj_lengths[-1]/2+table_lengths[-1]])\n",
    "trans_goal = jnp.array([0.4, 0.4, obj_lengths[-2]/2+table_lengths[-1]])\n",
    "obstacle.set_translate([0.4, 0., 0.35/2])\n",
    "obj_goal_pose = SE3.from_rotation_and_translation(\n",
    "    SO3.from_rpy_radians(jnp.pi/2, 0,0), trans_goal)\n",
    "obj_goal.set_pose(obj_goal_pose)\n",
    "obj.set_translate([0.4, -0.4, obj_lengths[-1]/2+table_lengths[-1]])"
   ]
  },
  {
   "cell_type": "code",
   "execution_count": 9,
   "metadata": {},
   "outputs": [],
   "source": [
    "#visualization\n",
    "pc_hands = PointCloud(world.vis, \"pc_hands\", np.zeros((10,3)), 0.01, \"red\")\n",
    "dotted_line = DottedLine(world.vis, \"traj\", np.zeros((10,3)), 0.01, \"blue\")\n",
    "pc_body = PointCloud(world.vis, \"body_pc\", np.zeros((10,3)), 0.01, \"blue\")\n",
    "pc_obj = PointCloud(world.vis, \"pc_obj\", np.zeros((10,3)), 0.01, \"green\")"
   ]
  },
  {
   "cell_type": "code",
   "execution_count": 10,
   "metadata": {},
   "outputs": [],
   "source": [
    "del pc_hands\n",
    "del dotted_line\n",
    "del pc_body\n",
    "del pc_obj"
   ]
  },
  {
   "attachments": {},
   "cell_type": "markdown",
   "metadata": {},
   "source": [
    "### Functions"
   ]
  },
  {
   "cell_type": "code",
   "execution_count": 10,
   "metadata": {},
   "outputs": [],
   "source": [
    "# kinematics\n",
    "def skew(v):\n",
    "    v1, v2, v3 = v\n",
    "    return jnp.array([[0, -v3, v2],\n",
    "                      [v3, 0., -v1],\n",
    "                      [-v2, v1, 0.]])\n",
    "\n",
    "@jax.custom_jvp\n",
    "def fk(q):\n",
    "    fks = panda_model.fk_fn(q)\n",
    "    return fks[-1]\n",
    "\n",
    "@fk.defjvp\n",
    "def fk_jvp(primals, tangents):\n",
    "    q, = primals\n",
    "    q_dot, = tangents\n",
    "    fks = panda_model.fk_fn(q)\n",
    "    qtn, p_ee = fks[-1][:4], fks[-1][-3:]\n",
    "    w, xyz = qtn[0], qtn[1:]\n",
    "    geom_jac = []\n",
    "    for posevec in fks[1:8]:\n",
    "        p_frame = posevec[-3:]\n",
    "        rot_axis = SE3(posevec).as_matrix()[:3, 2]\n",
    "        lin_vel = jnp.cross(rot_axis, p_ee - p_frame)\n",
    "        geom_jac.append(jnp.hstack([lin_vel, rot_axis]))\n",
    "    geom_jac = jnp.array(geom_jac).T  #geom_jacobian\n",
    "    H = jnp.hstack([-xyz[:,None], skew(xyz)+jnp.eye(3)*w])\n",
    "    rot_jac = 0.5*H.T@geom_jac[3:,:]\n",
    "    jac = jnp.vstack([rot_jac, geom_jac[:3,:]])\n",
    "    return fks[-1], jac@q_dot"
   ]
  },
  {
   "attachments": {},
   "cell_type": "markdown",
   "metadata": {},
   "source": [
    "### Constants, data"
   ]
  },
  {
   "cell_type": "code",
   "execution_count": 11,
   "metadata": {},
   "outputs": [],
   "source": [
    "# constants, data\n",
    "safe_dist = 0.05\n",
    "ws_lb = np.array([-1,-1,-0.5, -np.pi, -np.pi, -np.pi])\n",
    "ws_ub = np.array([1,1,1.5, np.pi, np.pi, np.pi])\n",
    "hand_pose_wrt_ee = SE3.from_translation(jnp.array([0,0,-0.105]))\n",
    "hand_pc = hand.get_surface_points_fn(jnp.array([0.04, 0.04]))\n",
    "\n",
    "#links_points_mat\n",
    "links_points_mat = []\n",
    "for link in panda_model.links.values():\n",
    "    if not link.has_mesh: continue\n",
    "    if not panda_model.is_floating and link == panda_model.root_link: continue\n",
    "    links_points_mat.append(link.surface_points)\n",
    "links_points_mat = np.array(links_points_mat)\n",
    "\n",
    "#object points\n",
    "obj_points = farthest_point_sampling(obj_start.mesh.sample(200), 20)\n",
    "\n",
    "# environment sdf\n",
    "env = SDFContainer([table_start, table_goal, obstacle], safe_dist)"
   ]
  },
  {
   "cell_type": "code",
   "execution_count": 12,
   "metadata": {},
   "outputs": [],
   "source": [
    "def point_jacobian(point, link_idx, joint_frames):\n",
    "    def get_lin_vel(target_point, joint_frame):\n",
    "        joint_to_target = target_point - joint_frame[-3:]\n",
    "        rot_axis = SO3(joint_frame[:4]).as_matrix()[:3,2]\n",
    "        return jnp.cross(rot_axis, joint_to_target)\n",
    "    lin_jac = jax.vmap(get_lin_vel, in_axes=(None,0))(point, joint_frames).T\n",
    "    masking = np.tile(np.arange(7),3).reshape(-1,7) + 1\n",
    "    masking = jnp.where(masking > link_idx+1, 0, 1)\n",
    "    return masking * lin_jac\n",
    "\n",
    "@jax.custom_jvp\n",
    "def min_collision_fn(q):\n",
    "    fk_assign = lambda wxyzxyz, link_points: jax.vmap(SE3(wxyzxyz).apply)(link_points)\n",
    "    fks = panda_model.fk_fn(jnp.hstack([q, 0.04, 0.04]))\n",
    "    link_frames = fks[1:-1]\n",
    "    assigned_points = jax.vmap(fk_assign)(link_frames, links_points_mat)\n",
    "    distances = env.distances(jnp.vstack(assigned_points))\n",
    "    min_distance = distances.min()\n",
    "    return min_distance\n",
    "\n",
    "@min_collision_fn.defjvp\n",
    "def min_collision_jvp(primals, tangents):\n",
    "    fk_assign = lambda wxyzxyz, link_points: jax.vmap(SE3(wxyzxyz).apply)(link_points)\n",
    "    q, = primals\n",
    "    q_dot, = tangents\n",
    "    fks = panda_model.fk_fn(q)\n",
    "    joint_frames = fks[1:8]\n",
    "    assigned_points = jax.vmap(fk_assign)(fks[1:-1], links_points_mat)\n",
    "    distances = env.distances(jnp.vstack(assigned_points)).reshape(10,-1)\n",
    "    idx_link, idx_point = jnp.unravel_index(distances.argmin(), distances.shape)\n",
    "    min_point = assigned_points[idx_link, idx_point, :]\n",
    "    jac_point = point_jacobian(min_point, idx_link, joint_frames)\n",
    "    repulsive_grad = jax.grad(env.distance)(min_point)\n",
    "    return distances.min(), repulsive_grad @ jac_point @ q_dot"
   ]
  },
  {
   "cell_type": "code",
   "execution_count": 13,
   "metadata": {},
   "outputs": [],
   "source": [
    "@jax.custom_jvp\n",
    "def min_obj_collision_fn(q, q_pick, obj_pose_at_pick):\n",
    "    obj_pose_at_pick = SE3(obj_pose_at_pick)\n",
    "    grasp_pose = obj_pose_at_pick.inverse() @ SE3(fk(q_pick))\n",
    "    obj_pose = SE3(fk(q)) @ grasp_pose.inverse()\n",
    "    assigned_obj_points = jax.vmap(obj_pose.apply)(obj_points)\n",
    "    distances = env.distances(jnp.vstack(assigned_obj_points))\n",
    "    min_distance = distances.min()\n",
    "    return min_distance\n",
    "\n",
    "@min_obj_collision_fn.defjvp\n",
    "def min_obj_collision_jvp(primals, tangents):\n",
    "    q, q_pick, obj_pose_at_pick = primals\n",
    "    q_dot, _, _ = tangents\n",
    "\n",
    "    fks = panda_model.fk_fn(q)\n",
    "    joint_frames = fks[1:8]\n",
    "\n",
    "    obj_pose_at_pick = SE3(obj_pose_at_pick)\n",
    "    grasp_pose = obj_pose_at_pick.inverse() @ SE3(fk(q_pick))\n",
    "    obj_pose = SE3(fks[-1]) @ grasp_pose.inverse()\n",
    "    assigned_obj_points = jax.vmap(obj_pose.apply)(obj_points)\n",
    "    distances = env.distances(jnp.vstack(assigned_obj_points))\n",
    "\n",
    "    idx_point = distances.argmin()\n",
    "    min_point = assigned_obj_points[idx_point]\n",
    "    jac_point = point_jacobian(min_point, 6, joint_frames)\n",
    "    repulsive_grad = jax.grad(env.distance)(min_point)\n",
    "    return distances.min(), repulsive_grad @ (jac_point @ q_dot)"
   ]
  },
  {
   "cell_type": "code",
   "execution_count": 14,
   "metadata": {},
   "outputs": [],
   "source": [
    "def grasp_reconst(grasp:Array):\n",
    "    rot = SO3(grasp_fn(grasp)[2:]).normalize()\n",
    "    trans = grasp/restored_grasp[\"scale_to_norm\"]\n",
    "    return SE3.from_rotation_and_translation(rot, trans)\n",
    "def grasp_embedding(grasp_point):\n",
    "    grasp = grasp_point * restored_grasp[\"scale_to_norm\"]\n",
    "    return grasp"
   ]
  },
  {
   "cell_type": "code",
   "execution_count": 15,
   "metadata": {},
   "outputs": [],
   "source": [
    "#utility functions\n",
    "to_posevec = lambda x: jnp.hstack([x[4:], SO3(x[:4]).log()])\n",
    "to_wxyzxyz = lambda x: jnp.hstack([SO3.exp(x[3:]).parameters(), x[:3]])\n",
    "\n",
    "def get_hand_pc(grasp, wxyzxyz):\n",
    "    grasp_pose = grasp_reconst(grasp)\n",
    "    hand_base_pose_wrt_world = SE3(wxyzxyz) @ grasp_pose @ hand_pose_wrt_ee\n",
    "    assigned_hand_pc = jax.vmap(hand_base_pose_wrt_world.apply)(hand_pc)\n",
    "    return assigned_hand_pc\n",
    "\n",
    "def body_pose_error(posevec, posevec_d):\n",
    "    pose = SE3(to_wxyzxyz(posevec))\n",
    "    pose_d = SE3(to_wxyzxyz(posevec_d))\n",
    "    R = pose.rotation().as_matrix()\n",
    "    err_pos = R.T@(pose_d.translation() - pose.translation())\n",
    "    err_rot = pose.rotation().inverse() @ pose_d.rotation()\n",
    "    return jnp.hstack([err_pos, err_rot.log()])\n",
    "\n",
    "def get_grasp_pose(grasp, wxyzxyz):\n",
    "    obj_pose = SE3(wxyzxyz)\n",
    "    grasp_pose = obj_pose @ grasp_reconst(grasp)\n",
    "    return grasp_pose.normalize().parameters()\n",
    "\n",
    "# constr fns\n",
    "def grasp_constr(grasp):\n",
    "    return grasp_logit_fn(grasp)\n",
    "def robot_grasp_constr(q, obj_pose):\n",
    "    tcp = fk(q)[-3:]\n",
    "    grasp_point = SE3(obj_pose).inverse().apply(tcp)\n",
    "    grasp = grasp_embedding(grasp_point)\n",
    "    return grasp_logit_fn(grasp)\n",
    "def manip_constr(grasp, wxyzxyz):\n",
    "    grasp_pose = SE3(get_grasp_pose(grasp, wxyzxyz))\n",
    "    zflip = SE3.from_rotation(SO3.from_z_radians(jnp.pi))\n",
    "    grasp_pose_flip = grasp_pose @ zflip\n",
    "    posevecs = [to_posevec(pose.parameters()) for pose in [grasp_pose, grasp_pose_flip]]\n",
    "    return jax.vmap(manip_fn)(jnp.vstack(posevecs)).max()\n",
    "def hand_col_constr(g1, wxyzxyz1, wxyzxyz2):\n",
    "    obj_poses = jnp.vstack([wxyzxyz1, wxyzxyz2])\n",
    "    pcs = jax.vmap(get_hand_pc, in_axes=(None,0))(g1, obj_poses)\n",
    "    distances = env.distances(jnp.vstack(pcs)).reshape(2, -1)\n",
    "    return distances.min(axis=-1)\n",
    "def kin_constr(q, grasp, p_obj):\n",
    "    target = get_grasp_pose(grasp, p_obj)\n",
    "    curr = fk(q)\n",
    "    pos_err = target[-3:] - curr[-3:]\n",
    "    rot_err = (SO3(curr[:4]).inverse()@SO3(target[:4])).log()\n",
    "    return jnp.hstack([pos_err, 0.5*rot_err])\n",
    "\n",
    "def robot_col_constr(*qs):\n",
    "    qs = jnp.vstack(qs)\n",
    "    return jax.vmap(min_collision_fn)(qs)\n",
    "\n",
    "def jac_robot_col_constr(*qs):\n",
    "    qs = jnp.vstack(qs)\n",
    "    return jax.vmap(jax.jacrev(min_collision_fn))(qs)\n",
    "\n",
    "def obj_col_constr(q_pick, obj_pose_at_pick, *qs):\n",
    "    qs = jnp.vstack(qs)\n",
    "    return jax.vmap(min_obj_collision_fn, (0, None, None))(qs, q_pick, obj_pose_at_pick)\n",
    "def jac_obj_col_constr(q_pick, obj_pose_at_pick, *qs):\n",
    "    qs = jnp.vstack(qs)\n",
    "    jacs_traj, jac_q_pick, jac_obj_pose = jax.vmap(\n",
    "        jax.jacfwd(min_obj_collision_fn, argnums=[0,1,2]), in_axes=(0,None, None)\n",
    "    )(qs, q_pick, obj_pose_at_pick)\n",
    "    return [jac_q_pick, jac_obj_pose, *jacs_traj]\n",
    "\n",
    "def travelled_distance(*qs):\n",
    "    qs_mat = jnp.vstack([panda.neutral, *qs, panda.neutral])\n",
    "    qdiff = qs_mat[1:] - qs_mat[:-1]\n",
    "    return 0.5*jnp.sum(qdiff.flatten() ** 2)\n"
   ]
  },
  {
   "cell_type": "code",
   "execution_count": 41,
   "metadata": {},
   "outputs": [],
   "source": [
    "q = panda.neutral\n",
    "obj_pose = obj_start.pose.parameters()"
   ]
  },
  {
   "cell_type": "code",
   "execution_count": 160,
   "metadata": {},
   "outputs": [],
   "source": [
    "def get_grasp_from_ik(q_pick, obj_pose_pick):\n",
    "    ee_pose_pick = SE3(fk(q_pick))\n",
    "    grasp_pose = SE3(obj_pose_pick).inverse() @ ee_pose_pick\n",
    "    grasp = grasp_embedding(grasp_pose.translation())\n",
    "    return grasp\n",
    "\n",
    "def grasp_logit_q(q_pick, obj_pose_pick):\n",
    "    ee_pose_pick = SE3(fk(q_pick))\n",
    "    grasp_pose = SE3(obj_pose_pick).inverse() @ ee_pose_pick\n",
    "    grasp = grasp_embedding(grasp_pose.translation())\n",
    "    return grasp_logit_fn(grasp)\n",
    "\n",
    "zflip = SO3.from_z_radians(np.pi)\n",
    "def rot_diff(q, q_pick, obj_pose_pick):\n",
    "    ee_pose = SE3(fk(q))\n",
    "    grasp = get_grasp_from_ik(q_pick, obj_pose_pick)\n",
    "    grasp_rot = SO3(grasp_fn(grasp)[2:]).normalize()\n",
    "    diff1 = ee_pose.rotation().inverse() @ SO3(obj_pose[:4]) @ grasp_rot\n",
    "    diff2 = ee_pose.rotation().inverse() @ SO3(obj_pose[:4]) @ grasp_rot @ zflip\n",
    "    diff1, diff2 = diff1.log(), diff2.log()\n",
    "    compare = jnp.sum(diff1**2) < jnp.sum(diff2**2)\n",
    "    return jnp.where(compare, diff1, diff2)"
   ]
  },
  {
   "cell_type": "code",
   "execution_count": 167,
   "metadata": {},
   "outputs": [],
   "source": [
    "bdr1 = SparseIPOPT()\n",
    "bdr1.add_variable(\"q_pick\", 7, panda.lb, panda.ub)\n",
    "bdr1.add_variable(\"q_place\", 7, panda.lb, panda.ub)\n",
    "bdr1.add_parameter(\"p_start\", 7)\n",
    "bdr1.add_parameter(\"p_goal\", 7)\n",
    "\n",
    "def debug_callback(x_dict):\n",
    "    q = x_dict[\"q_pick\"]\n",
    "    # p_start = x_dict[\"p_start\"]\n",
    "    # p_goal = x_dict[\"p_goal\"]\n",
    "    # posevecs = jnp.vstack([p_start, p_goal])\n",
    "    # points = jax.vmap(get_hand_pc, in_axes=(None,0))(grasp, posevecs)\n",
    "    # pc_hands.reload(points=np.vstack(points))\n",
    "    panda.set_joint_angles(q)\n",
    "    time.sleep(0.1)\n",
    "bdr1.set_debug_callback(debug_callback)\n",
    "\n",
    "bdr1.register_fn(\"grasp_fn\", [7, 7], 1,\n",
    "                grasp_logit_q, jax.jacfwd(grasp_logit_q, argnums=[0, 1]))\n",
    "bdr1.register_fn(\"grasp_fk\", [7, 7], 3,\n",
    "                 rot_diff, jax.jacfwd(rot_diff, argnums=[0, 1]))\n",
    "\n",
    "bdr1.set_constr(\"grasp_fn\", \"grasp_fn\", [\"q\", \"p_start\"], \n",
    "                   1.2, np.inf)\n",
    "bdr1.set_constr(\"grasp_rot_diff\", \"grasp_fk\", [\"q\", \"p_start\"], \n",
    "                   0., 0.)\n",
    "# bdr1.set_constr(\"manip_pick\", \"manip_fn\", [\"g_pick\", \"p_start\"],\n",
    "#                    0.2, np.inf)\n",
    "# bdr1.set_constr(\"manip_place\", \"manip_fn\", [\"g_pick\", \"p_goal\"],\n",
    "#                    0.2, np.inf)\n",
    "# bdr1.set_constr(\"col\", \"col_fn\", [\"g_pick\", \"p_start\", \"p_goal\"], \n",
    "#                    0.05, np.inf)"
   ]
  },
  {
   "cell_type": "code",
   "execution_count": 168,
   "metadata": {},
   "outputs": [
    {
     "name": "stdout",
     "output_type": "stream",
     "text": [
      "compiling objective ...\n",
      "compiling gradient ...\n",
      "compiling constraints ...\n",
      "compiling jacobian ...\n",
      "ooooooo--------------\n",
      "ooooooo--------------\n",
      "ooooooo--------------\n",
      "ooooooo--------------\n"
     ]
    }
   ],
   "source": [
    "ipopt_qdirect = bdr1.build()"
   ]
  },
  {
   "cell_type": "code",
   "execution_count": 170,
   "metadata": {},
   "outputs": [
    {
     "name": "stdout",
     "output_type": "stream",
     "text": [
      "This is Ipopt version 3.14.10, running with linear solver MUMPS 5.2.1.\n",
      "\n",
      "Number of nonzeros in equality constraint Jacobian...:       21\n",
      "Number of nonzeros in inequality constraint Jacobian.:        7\n",
      "Number of nonzeros in Lagrangian Hessian.............:        0\n",
      "\n",
      "Total number of variables............................:       21\n",
      "                     variables with only lower bounds:        0\n",
      "                variables with lower and upper bounds:        7\n",
      "                     variables with only upper bounds:        0\n",
      "Total number of equality constraints.................:        3\n",
      "Total number of inequality constraints...............:        1\n",
      "        inequality constraints with only lower bounds:        1\n",
      "   inequality constraints with lower and upper bounds:        0\n",
      "        inequality constraints with only upper bounds:        0\n",
      "\n",
      "iter    objective    inf_pr   inf_du lg(mu)  ||d||  lg(rg) alpha_du alpha_pr  ls\n",
      "   0  0.0000000e+00 1.02e+03 1.00e+00   0.0 0.00e+00    -  0.00e+00 0.00e+00   0\n",
      "   1  0.0000000e+00 2.61e+02 9.12e+00  -5.6 1.49e+00    -  6.59e-01 1.00e+00h  1\n",
      "   2  0.0000000e+00 3.28e+02 5.33e+00  -0.3 1.51e+00    -  9.42e-01 1.00e+00f  1\n",
      "   3  0.0000000e+00 7.77e+01 1.71e+01  -0.5 7.74e+00    -  1.00e+00 1.00e+00h  1\n",
      "   4  0.0000000e+00 5.57e+01 2.25e+01  -1.0 4.52e+00    -  1.00e+00 2.50e-01h  3\n",
      "   5  0.0000000e+00 3.74e+00 1.83e+01  -0.7 4.35e+00    -  1.00e+00 1.00e+00h  1\n",
      "   6  0.0000000e+00 9.90e+01 1.30e+01  -0.9 5.96e+00    -  9.46e-01 3.74e-01H  1\n",
      "   7  0.0000000e+00 3.82e+02 1.78e+01  -0.7 9.94e+00    -  9.21e-01 1.00e+00f  1\n",
      "   8  0.0000000e+00 2.67e+02 2.13e+01  -0.6 1.16e+00    -  1.00e+00 1.00e+00h  1\n",
      "   9  0.0000000e+00 2.62e+02 1.11e+01  -0.6 4.32e+01    -  1.00e+00 2.44e-01h  1\n",
      "iter    objective    inf_pr   inf_du lg(mu)  ||d||  lg(rg) alpha_du alpha_pr  ls\n",
      "  10  0.0000000e+00 2.96e+01 2.77e+02  -0.6 2.84e+00    -  2.34e-01 9.77e-01f  1\n",
      "  11  0.0000000e+00 3.08e+02 1.21e+01  -0.9 1.11e+00    -  1.00e+00 1.00e+00f  1\n",
      "  12  0.0000000e+00 1.56e+02 6.89e+00  -1.0 7.51e-01    -  6.13e-01 1.00e+00h  1\n",
      "  13  0.0000000e+00 1.22e+02 9.54e+00  -1.0 7.01e+00    -  4.52e-01 2.80e-01h  1\n",
      "  14  0.0000000e+00 1.22e+02 5.60e+01  -1.0 1.52e+00    -  1.00e+00 4.43e-01h  2\n",
      "  15  0.0000000e+00 1.13e+02 3.34e+01  -1.0 1.08e+00    -  1.00e+00 9.41e-01h  1\n",
      "  16  0.0000000e+00 1.12e+02 3.22e+01  -1.0 4.73e+00    -  3.33e-02 1.96e-02h  5\n",
      "  17  0.0000000e+00 2.38e+02 5.39e+01  -1.0 1.68e+00    -  5.04e-01 1.00e+00f  1\n",
      "  18  0.0000000e+00 2.14e+02 3.61e+01  -1.0 1.12e+01    -  7.12e-02 1.00e+00h  1\n",
      "  19  0.0000000e+00 1.22e+03 5.17e+00  -1.0 1.61e+02    -  5.34e-01 1.00e+00h  1\n",
      "iter    objective    inf_pr   inf_du lg(mu)  ||d||  lg(rg) alpha_du alpha_pr  ls\n",
      "  20  0.0000000e+00 2.71e+02 1.09e+00  -1.0 1.81e+02    -  8.91e-01 9.44e-01h  1\n",
      "  21  0.0000000e+00 1.81e+02 1.54e+00  -1.0 3.50e+01    -  2.10e-01 2.04e-01h  2\n",
      "  22  0.0000000e+00 3.67e+02 1.40e+00  -1.0 9.36e+01    -  1.00e+00 1.00e+00h  1\n",
      "  23  0.0000000e+00 2.56e+02 1.98e+00  -1.0 4.43e+01    -  1.00e+00 1.41e-01h  3\n",
      "  24  0.0000000e+00 1.18e+02 2.84e+00  -1.0 7.39e+01    -  1.00e+00 5.00e-01h  2\n",
      "  25  0.0000000e+00 1.40e+02 1.63e+00  -1.0 6.83e+01    -  1.00e+00 8.60e-01h  1\n",
      "  26  0.0000000e+00 5.52e+01 5.15e+00  -1.0 6.78e+00    -  6.81e-01 7.14e-01h  1\n",
      "  27  0.0000000e+00 1.05e+02 6.50e+00  -1.0 4.23e+00    -  1.00e+00 5.00e-01h  2\n",
      "  28  0.0000000e+00 1.71e+02 1.45e+01  -1.0 1.89e+00    -  9.16e-01 1.00e+00h  1\n",
      "  29  0.0000000e+00 1.72e+02 9.69e+00  -1.0 3.01e+01    -  9.00e-01 8.55e-02h  2\n",
      "iter    objective    inf_pr   inf_du lg(mu)  ||d||  lg(rg) alpha_du alpha_pr  ls\n",
      "  30  0.0000000e+00 1.66e+02 6.61e+00  -1.0 1.60e+01    -  2.82e-01 8.15e-02h  2\n",
      "  31  0.0000000e+00 1.91e+02 3.31e+00  -1.0 9.95e-01    -  1.00e+00 1.00e+00h  1\n",
      "  32  0.0000000e+00 1.60e+02 4.19e+00  -1.0 3.41e+00    -  9.69e-01 1.00e+00h  1\n",
      "  33  0.0000000e+00 1.54e+02 2.95e+00  -1.0 1.30e+01    -  1.00e+00 1.00e+00h  1\n",
      "  34  0.0000000e+00 8.54e+01 5.04e+01  -1.0 1.22e+01    -  1.00e+00 6.67e-01H  1\n",
      "  35  0.0000000e+00 9.93e+01 1.15e+01  -1.0 2.70e+00    -  4.76e-01 1.00e+00h  1\n",
      "  36  0.0000000e+00 4.57e+01 1.16e+01  -1.0 3.14e+00    -  1.00e+00 9.10e-01h  1\n",
      "  37  0.0000000e+00 1.01e+02 2.45e+02  -1.5 1.14e+00    -  1.00e+00 1.00e+00h  1\n",
      "  38  0.0000000e+00 6.36e+01 4.44e-01  -1.6 2.60e-01    -  9.74e-01 1.00e+00h  1\n",
      "  39  0.0000000e+00 6.32e+01 4.75e+00  -1.6 3.47e+00    -  1.00e+00 1.00e+00h  1\n",
      "iter    objective    inf_pr   inf_du lg(mu)  ||d||  lg(rg) alpha_du alpha_pr  ls\n",
      "  40  0.0000000e+00 3.74e+01 1.45e+01  -1.6 6.71e-01    -  1.00e+00 5.90e-01H  1\n",
      "  41  0.0000000e+00 6.79e+01 2.90e+01  -2.3 3.70e-01    -  1.00e+00 1.00e+00h  1\n",
      "  42  0.0000000e+00 2.52e+01 3.05e+01  -2.4 2.48e-01    -  1.00e+00 1.00e+00h  1\n",
      "  43  0.0000000e+00 6.00e+01 3.77e-01  -3.0 2.78e-01    -  1.00e+00 1.00e+00h  1\n",
      "  44  0.0000000e+00 1.71e+00 4.89e-01  -3.2 3.61e-01    -  1.00e+00 1.00e+00h  1\n",
      "  45  0.0000000e+00 1.27e+01 2.77e-02  -3.3 5.39e-01    -  1.00e+00 1.00e+00h  1\n",
      "  46  0.0000000e+00 1.24e+01 7.95e-02  -3.4 3.16e+00    -  1.00e+00 2.26e-01h  1\n",
      "  47  0.0000000e+00 1.31e+00 5.99e-01  -3.4 1.39e+00    -  1.00e+00 2.50e-01h  3\n",
      "  48  0.0000000e+00 1.28e+00 4.57e-01  -4.4 1.63e-01    -  1.00e+00 1.25e-01h  4\n",
      "  49  0.0000000e+00 6.42e+01 1.65e+00  -2.4 1.58e+00    -  9.97e-01 1.00e+00h  1\n",
      "iter    objective    inf_pr   inf_du lg(mu)  ||d||  lg(rg) alpha_du alpha_pr  ls\n",
      "  50  0.0000000e+00 3.13e+01 1.92e+00  -2.6 2.77e+00    -  1.00e+00 6.22e-01h  1\n",
      "  51  0.0000000e+00 2.84e+00 2.32e-01  -2.6 1.69e+00    -  1.00e+00 1.00e+00h  1\n",
      "  52  0.0000000e+00 2.57e+01 2.40e-01  -2.6 4.90e+00    -  1.00e+00 1.00e+00h  1\n",
      "  53  0.0000000e+00 1.16e+00 1.38e-01  -2.6 8.83e+00    -  1.00e+00 3.72e-01h  2\n",
      "  54  0.0000000e+00 7.98e-01 1.65e-01  -2.6 2.66e+00    -  1.00e+00 2.40e-01H  1\n",
      "  55  0.0000000e+00 5.25e+00 3.01e+00  -2.6 8.78e-01    -  1.31e-01 2.50e-01h  3\n",
      "  56  0.0000000e+00 2.03e+02 1.89e+00  -2.6 1.97e+01    -  1.00e+00 1.00e+00h  1\n",
      "  57  0.0000000e+00 5.22e+01 6.92e+00  -2.6 2.77e+01    -  3.83e-01 3.56e-01h  2\n",
      "  58  0.0000000e+00 2.10e+01 3.60e+00  -2.6 5.66e+00    -  1.00e+00 2.50e-01h  3\n",
      "  59  0.0000000e+00 4.72e+01 5.50e+00  -2.6 4.26e+00    -  6.74e-01 1.00e+00h  1\n",
      "iter    objective    inf_pr   inf_du lg(mu)  ||d||  lg(rg) alpha_du alpha_pr  ls\n",
      "  60  0.0000000e+00 4.95e+01 4.35e+00  -2.6 2.10e+01    -  1.00e+00 1.51e-01h  3\n",
      "  61  0.0000000e+00 4.93e+01 4.15e+00  -2.6 1.58e+01    -  1.00e+00 3.79e-02h  5\n",
      "  62  0.0000000e+00 4.27e+01 2.80e+00  -2.6 1.28e+01    -  1.00e+00 3.49e-01h  2\n",
      "  63  0.0000000e+00 3.85e+00 5.57e-01  -2.6 4.20e+00    -  1.00e+00 1.00e+00h  1\n",
      "  64  0.0000000e+00 1.91e+00 1.80e-02  -4.1 3.80e-02    -  1.00e+00 1.00e+00h  1\n",
      "  65  0.0000000e+00 5.98e-01 1.12e-01  -5.8 1.84e-01    -  1.00e+00 1.00e+00h  1\n",
      "  66  0.0000000e+00 1.65e-04 1.18e-02  -4.4 8.26e-02    -  1.00e+00 1.00e+00h  1\n",
      "\n",
      "Number of Iterations....: 66\n",
      "\n",
      "                                   (scaled)                 (unscaled)\n",
      "Objective...............:   0.0000000000000000e+00    0.0000000000000000e+00\n",
      "Dual infeasibility......:   1.1776165510299327e-02    1.1776165510299327e-02\n",
      "Constraint violation....:   1.6538823547307402e-04    1.6538823547307402e-04\n",
      "Variable bound violation:   0.0000000000000000e+00    0.0000000000000000e+00\n",
      "Complementarity.........:   3.7870739986100073e-05    3.7870739986100073e-05\n",
      "Overall NLP error.......:   1.1776165510299327e-02    1.1776165510299327e-02\n",
      "\n",
      "\n",
      "Number of objective function evaluations             = 116\n",
      "Number of objective gradient evaluations             = 67\n",
      "Number of equality constraint evaluations            = 116\n",
      "Number of inequality constraint evaluations          = 116\n",
      "Number of equality constraint Jacobian evaluations   = 67\n",
      "Number of inequality constraint Jacobian evaluations = 67\n",
      "Number of Lagrangian Hessian evaluations             = 0\n",
      "Total seconds in IPOPT                               = 13.064\n",
      "\n",
      "EXIT: Solved To Acceptable Level.\n"
     ]
    }
   ],
   "source": [
    "x0= np.hstack([panda.neutral, obj_start.pose.parameters(), obj_goal.pose.parameters()])\n",
    "sol, info = ipopt_qdirect.solve(x0)"
   ]
  },
  {
   "cell_type": "code",
   "execution_count": 134,
   "metadata": {},
   "outputs": [
    {
     "data": {
      "text/plain": [
       "Array([ 0.00130882, -0.00376484, -0.00073964], dtype=float32)"
      ]
     },
     "execution_count": 134,
     "metadata": {},
     "output_type": "execute_result"
    }
   ],
   "source": [
    "rot_diff(sol[:7], obj_goal.pose.parameters())"
   ]
  },
  {
   "cell_type": "code",
   "execution_count": 135,
   "metadata": {},
   "outputs": [],
   "source": [
    "frame = Frame(world.vis, \"frame\")"
   ]
  },
  {
   "cell_type": "code",
   "execution_count": 150,
   "metadata": {},
   "outputs": [],
   "source": [
    "q = sol[:7]\n",
    "ee_pose = SE3(fk(q))\n",
    "grasp_pose = obj_goal.pose.inverse() @ ee_pose\n",
    "grasp = grasp_embedding(grasp_pose.translation())\n",
    "\n",
    "grasp_rot = SO3(grasp_fn(grasp)[2:]).normalize()\n",
    "diff = ee_pose.rotation().inverse() @ obj_goal.pose.rotation() @ grasp_rot\n",
    "frame.set_pose(obj_goal.pose @ grasp_reconst(grasp))"
   ]
  },
  {
   "cell_type": "code",
   "execution_count": 151,
   "metadata": {},
   "outputs": [
    {
     "data": {
      "text/plain": [
       "SO3(wxyz=[-0.70840997 -0.00944    -0.70409995  0.04812   ])"
      ]
     },
     "execution_count": 151,
     "metadata": {},
     "output_type": "execute_result"
    }
   ],
   "source": []
  },
  {
   "cell_type": "code",
   "execution_count": 149,
   "metadata": {},
   "outputs": [
    {
     "data": {
      "text/plain": [
       "SO3(wxyz=[-0.17557 -0.75187 -0.61258  0.16916])"
      ]
     },
     "execution_count": 149,
     "metadata": {},
     "output_type": "execute_result"
    }
   ],
   "source": []
  },
  {
   "cell_type": "code",
   "execution_count": 146,
   "metadata": {},
   "outputs": [],
   "source": [
    "frame.set_pose(ee_pose)"
   ]
  },
  {
   "cell_type": "code",
   "execution_count": 133,
   "metadata": {},
   "outputs": [],
   "source": [
    "panda.set_joint_angles(sol[:7])"
   ]
  },
  {
   "cell_type": "code",
   "execution_count": 58,
   "metadata": {},
   "outputs": [],
   "source": [
    "q = panda.neutral\n",
    "panda.set_joint_angles(q)"
   ]
  },
  {
   "cell_type": "code",
   "execution_count": 73,
   "metadata": {},
   "outputs": [
    {
     "ename": "AssertionError",
     "evalue": "",
     "output_type": "error",
     "traceback": [
      "\u001b[0;31m---------------------------------------------------------------------------\u001b[0m",
      "\u001b[0;31mAssertionError\u001b[0m                            Traceback (most recent call last)",
      "Cell \u001b[0;32mIn[73], line 5\u001b[0m\n\u001b[1;32m      3\u001b[0m d \u001b[39m=\u001b[39m grad \u001b[39m+\u001b[39m grad2\n\u001b[1;32m      4\u001b[0m q \u001b[39m=\u001b[39m q \u001b[39m+\u001b[39m d \u001b[39m*\u001b[39m \u001b[39m0.0001\u001b[39m\n\u001b[0;32m----> 5\u001b[0m panda\u001b[39m.\u001b[39;49mset_joint_angles(q)\n",
      "File \u001b[0;32m~/ws/sdf_world/sdf_world/robots.py:292\u001b[0m, in \u001b[0;36mRobot.set_joint_angles\u001b[0;34m(self, q, show)\u001b[0m\n\u001b[1;32m    291\u001b[0m \u001b[39mdef\u001b[39;00m \u001b[39mset_joint_angles\u001b[39m(\u001b[39mself\u001b[39m, q:Array, show\u001b[39m=\u001b[39m\u001b[39mTrue\u001b[39;00m):\n\u001b[0;32m--> 292\u001b[0m     \u001b[39massert\u001b[39;00m \u001b[39mlen\u001b[39m(q) \u001b[39m==\u001b[39m \u001b[39mlen\u001b[39m(\u001b[39mself\u001b[39m\u001b[39m.\u001b[39mfree_idx)\n\u001b[1;32m    293\u001b[0m     \u001b[39mif\u001b[39;00m \u001b[39mlen\u001b[39m(\u001b[39mself\u001b[39m\u001b[39m.\u001b[39mfix_idx) \u001b[39m!=\u001b[39m \u001b[39m0\u001b[39m:\n\u001b[1;32m    294\u001b[0m         qnew \u001b[39m=\u001b[39m np\u001b[39m.\u001b[39mzeros(\u001b[39mself\u001b[39m\u001b[39m.\u001b[39mmodel\u001b[39m.\u001b[39mdof)\n",
      "\u001b[0;31mAssertionError\u001b[0m: "
     ]
    }
   ],
   "source": [
    "logit, grad = jax.value_and_grad(grasp_logit_q)(q, obj_pose)\n",
    "grad2 = jax.jacfwd(rot_diff)(q, obj_pose)\n",
    "d = grad + grad2\n",
    "q = q + d * 0.0001\n",
    "panda.set_joint_angles(q)"
   ]
  },
  {
   "cell_type": "code",
   "execution_count": 57,
   "metadata": {},
   "outputs": [
    {
     "data": {
      "text/plain": [
       "Array([-7.3740196e-01, -5.5426568e-01, -7.3740196e-01, -1.9088933e+00,\n",
       "       -2.1305643e-01,  1.3429551e+00,  4.3669466e-08], dtype=float32)"
      ]
     },
     "execution_count": 57,
     "metadata": {},
     "output_type": "execute_result"
    }
   ],
   "source": [
    "q"
   ]
  },
  {
   "cell_type": "code",
   "execution_count": 44,
   "metadata": {},
   "outputs": [
    {
     "data": {
      "text/plain": [
       "Array([[ 0.69071823, -0.7266253 ,  0.69071823,  0.74117786, -0.6574468 ,\n",
       "         0.6273676 , -1.0224965 ],\n",
       "       [-0.870051  ,  0.34477785, -0.870051  , -0.15474825, -0.9259343 ,\n",
       "        -0.1754411 ,  0.2891816 ],\n",
       "       [ 0.52501655,  1.1678255 ,  0.52501655, -1.0234425 ,  0.07265568,\n",
       "        -0.95543647, -0.59444916]], dtype=float32)"
      ]
     },
     "execution_count": 44,
     "metadata": {},
     "output_type": "execute_result"
    }
   ],
   "source": [
    "jax.jacrev(rot_diff)(q, obj_pose)"
   ]
  },
  {
   "cell_type": "code",
   "execution_count": 32,
   "metadata": {},
   "outputs": [
    {
     "data": {
      "text/plain": [
       "SO3(wxyz=[-0.63684    -0.41827    -0.63528997  0.12605   ])"
      ]
     },
     "execution_count": 32,
     "metadata": {},
     "output_type": "execute_result"
    }
   ],
   "source": [
    "SO3(grasp_fn(jnp.zeros(3))[2:]).normalize()"
   ]
  },
  {
   "cell_type": "code",
   "execution_count": 16,
   "metadata": {},
   "outputs": [],
   "source": [
    "def get_jac_indices(cdim, xdim, row_offset=0):\n",
    "    rowcol = np.indices((cdim, xdim)).reshape(2,-1)\n",
    "    rowcol[0] += row_offset\n",
    "    return rowcol\n",
    "\n",
    "#indexing\n",
    "num_mid_configs = 4\n",
    "num_traj = num_mid_configs*3 + 2\n",
    "idx_pick = num_mid_configs\n",
    "idx_place = idx_pick + num_mid_configs + 1\n",
    "idxs_hold = np.arange(idx_pick+1, idx_pick+1+num_mid_configs)\n",
    "cdim, rdim = num_traj, 7\n",
    "\n",
    "robot_col_rowcols = []\n",
    "for i in range(num_traj):\n",
    "    jac_struct = np.zeros((cdim, rdim), dtype=int)\n",
    "    jac_struct[i,:] = 1\n",
    "    rowcol = np.nonzero(jac_struct)\n",
    "    robot_col_rowcols.append(np.vstack(rowcol))\n",
    "jac_travelled_distance = jax.grad(travelled_distance, \n",
    "                                  argnums=np.arange(num_traj))\n",
    "\n",
    "\n",
    "# q_pick_grasp_rowcols = np.indices((len(idxs_hold), 7)).reshape(2,-1)\n",
    "# obj_place_grasp_rowcols = np.indices((len(idxs_hold), 7)).reshape(2,-1)\n",
    "obj_col_rowcols = [get_jac_indices(len(idxs_hold), 7), get_jac_indices(len(idxs_hold), 7)] #placeholder: no jac for q_pick, obj_pose_pick\n",
    "for i in range(len(idxs_hold)):\n",
    "    row_offset = i\n",
    "    rowcol = np.indices((1, 7)).reshape(2,-1)\n",
    "    rowcol[0] += row_offset\n",
    "    obj_col_rowcols.append(rowcol)\n",
    "\n"
   ]
  },
  {
   "cell_type": "code",
   "execution_count": 35,
   "metadata": {},
   "outputs": [],
   "source": [
    "bdr1 = SparseIPOPT()\n",
    "bdr1.add_variable(\"g_pick\", 3, -1., 1.)\n",
    "bdr1.add_parameter(\"p_start\", 7)\n",
    "bdr1.add_parameter(\"p_goal\", 7)\n",
    "\n",
    "def debug_callback(x_dict):\n",
    "    grasp = x_dict[\"g_pick\"]\n",
    "    p_start = x_dict[\"p_start\"]\n",
    "    p_goal = x_dict[\"p_goal\"]\n",
    "    posevecs = jnp.vstack([p_start, p_goal])\n",
    "    points = jax.vmap(get_hand_pc, in_axes=(None,0))(grasp, posevecs)\n",
    "    pc_hands.reload(points=np.vstack(points))\n",
    "    time.sleep(0.1)\n",
    "bdr1.set_debug_callback(debug_callback)\n",
    "\n",
    "bdr1.register_fn(\"grasp_fn\", [3], 1,\n",
    "                          grasp_constr, jax.jacrev(grasp_constr, argnums=[0]))\n",
    "bdr1.register_fn(\"manip_fn\", [3, 7], 1,\n",
    "                          manip_constr, jax.jacrev(manip_constr, argnums=[0,1]))\n",
    "bdr1.register_fn(\"col_fn\", [3, 7, 7], 2,\n",
    "                          hand_col_constr, jax.jacfwd(hand_col_constr, argnums=[0,1,2]))\n",
    "\n",
    "bdr1.set_constr(\"grasp_prob_pick\", \"grasp_fn\", [\"g_pick\"], \n",
    "                   1., np.inf)\n",
    "bdr1.set_constr(\"manip_pick\", \"manip_fn\", [\"g_pick\", \"p_start\"],\n",
    "                   0.2, np.inf)\n",
    "bdr1.set_constr(\"manip_place\", \"manip_fn\", [\"g_pick\", \"p_goal\"],\n",
    "                   0.2, np.inf)\n",
    "bdr1.set_constr(\"col\", \"col_fn\", [\"g_pick\", \"p_start\", \"p_goal\"], \n",
    "                   0.05, np.inf)"
   ]
  },
  {
   "cell_type": "code",
   "execution_count": 36,
   "metadata": {},
   "outputs": [],
   "source": [
    "bdr2 = SparseIPOPT()\n",
    "bdr2.add_variable(\"q_pick\", 7, panda.lb, panda.ub)\n",
    "bdr2.add_variable(\"q_place\", 7, panda.lb, panda.ub)\n",
    "bdr2.add_parameter(\"g_pick\", 3)\n",
    "bdr2.add_parameter(\"p_start\", 7)\n",
    "bdr2.add_parameter(\"p_goal\", 7)\n",
    "\n",
    "def debug_callback(x_dict):\n",
    "    q_place = x_dict[\"q_place\"]\n",
    "    panda.set_joint_angles(q_place)\n",
    "    time.sleep(0.1)\n",
    "bdr2.set_debug_callback(debug_callback)\n",
    "\n",
    "bdr2.register_fn(\"kin_constr\", [7, 3, 7], 6, \n",
    "                 kin_constr, jax.jacfwd(kin_constr,argnums=[0,1,2]))\n",
    "\n",
    "bdr2.set_constr(\"kin_pick\", \"kin_constr\", [\"q_pick\", \"g_pick\", \"p_start\"], \n",
    "                   0., 0.)\n",
    "bdr2.set_constr(\"kin_place\", \"kin_constr\", [\"q_place\", \"g_pick\", \"p_goal\"], \n",
    "                   0., 0.)"
   ]
  },
  {
   "cell_type": "code",
   "execution_count": 69,
   "metadata": {},
   "outputs": [],
   "source": [
    "bdr3 = SparseIPOPT()\n",
    "\n",
    "q_names = []\n",
    "for i in range(num_traj):\n",
    "    q_name = f\"q{i}\"\n",
    "    bdr3.add_variable(q_name, 7, panda.lb, panda.ub)\n",
    "    q_names.append(q_name)\n",
    "q_hold_names = [name for i, name in enumerate(q_names) if i in idxs_hold]\n",
    "\n",
    "# bdr3.add_variable(\"g_pick\", 3, -1., 1.)\n",
    "bdr3.add_parameter(\"p_start\", 7)\n",
    "bdr3.add_parameter(\"p_goal\", 7)\n",
    "\n",
    "# def debug_callback(x_dict):\n",
    "#     q_place = x_dict[f\"q{idx_place}\"]\n",
    "#     grasp = x_dict[\"g_pick\"]\n",
    "#     p_start = x_dict[\"p_start\"]\n",
    "#     p_goal = x_dict[\"p_goal\"]\n",
    "#     qs = [x_dict[q_name] for q_name in q_names]\n",
    "#     qs = jnp.vstack(qs)\n",
    "#     p_ees = jax.vmap(fk)(qs)[:,-3:]\n",
    "#     posevecs = jnp.vstack([p_start, p_goal])\n",
    "#     points = jax.vmap(get_hand_pc, in_axes=(None,0))(grasp, posevecs)\n",
    "#     pc_hands.reload(points=np.vstack(points))\n",
    "#     panda.set_joint_angles(q_place)\n",
    "#     dotted_line.reload(points=p_ees)\n",
    "#     time.sleep(0.1)\n",
    "# bdr3.set_debug_callback(debug_callback)\n",
    "\n",
    "kin_tol = 1e-4\n",
    "# bdr3.register_fn(\"grasp_fn\", [3], 1,\n",
    "#                  grasp_constr, jax.jacrev(grasp_constr, argnums=[0]))\n",
    "# bdr3.register_fn(\"kin_constr\", [7, 3, 6], 6, \n",
    "#                  kin_constr, jax.jacfwd(kin_constr,argnums=[0,1,2]))\n",
    "bdr3.register_fn(\"robot_grasp_fn\", [7, 7], 1,\n",
    "                 robot_grasp_constr, jax.jacrev(robot_grasp_constr,argnums=[0, 1]),\n",
    "                 [get_jac_indices(1,7, row_offset=i) for i in range(2)])\n",
    "bdr3.register_fn(\"robot_col\", [7]*num_traj, num_traj, \n",
    "                 robot_col_constr, jac_robot_col_constr, robot_col_rowcols)\n",
    "bdr3.register_fn(\"obj_col\", [7,7]+[7]*len(idxs_hold), len(idxs_hold), \n",
    "                 obj_col_constr, jac_obj_col_constr, obj_col_rowcols)\n",
    "\n",
    "bdr3.register_fn(\"travelled_dist\", [7]*num_traj, 1,\n",
    "                 travelled_distance, jac_travelled_distance)\n",
    "\n",
    "bdr3.set_objective(\"travelled_dist\", q_names)\n",
    "\n",
    "bdr3.set_constr(\"grasp_prob_pick\", \"robot_grasp_fn\", [f\"q{idx_pick}\", \"p_start\"], \n",
    "                   0.5, np.inf)\n",
    "bdr3.set_constr(\"grasp_prob_place\", \"robot_grasp_fn\", [f\"q{idx_place}\", \"p_goal\"], \n",
    "                   0.5, np.inf)\n",
    "bdr3.set_constr(\"robot_col\", \"robot_col\", q_names, safe_dist, np.inf)\n",
    "bdr3.set_constr(\"obj_col\", \"obj_col\", [f\"q{idx_pick}\", \"p_start\"]+q_hold_names, safe_dist, np.inf, [f\"q{idx_pick}\"])"
   ]
  },
  {
   "cell_type": "code",
   "execution_count": 70,
   "metadata": {},
   "outputs": [],
   "source": [
    "jac_fn = bdr3.get_jacobian_fn()"
   ]
  },
  {
   "cell_type": "code",
   "execution_count": 66,
   "metadata": {},
   "outputs": [],
   "source": [
    "constr = bdr3.c_info['obj_col']"
   ]
  },
  {
   "cell_type": "code",
   "execution_count": 67,
   "metadata": {},
   "outputs": [
    {
     "data": {
      "text/plain": [
       "<function __main__.jac_obj_col_constr(q_pick, obj_pose_at_pick, *qs)>"
      ]
     },
     "execution_count": 67,
     "metadata": {},
     "output_type": "execute_result"
    }
   ],
   "source": [
    "constr.fn.jac_fn"
   ]
  },
  {
   "cell_type": "code",
   "execution_count": 72,
   "metadata": {},
   "outputs": [
    {
     "data": {
      "text/plain": [
       "(140,)"
      ]
     },
     "execution_count": 72,
     "metadata": {},
     "output_type": "execute_result"
    }
   ],
   "source": [
    "jac_fn(jnp.zeros(bdr3.xdim)).shape"
   ]
  },
  {
   "cell_type": "code",
   "execution_count": 120,
   "metadata": {},
   "outputs": [],
   "source": [
    "xs = {var.name:x0[var.coord] for var in bdr3.x_info.values()}\n",
    "constr = bdr3.c_info['obj_col']\n",
    "fn_input = [xs[var.name] for var in constr.inputs]    \n",
    "indices_var = [i for i, var in enumerate(constr.inputs) \n",
    "                if isinstance(var, Variable)]\n",
    "jacs = constr.fn.jac_fn(*fn_input)"
   ]
  },
  {
   "cell_type": "code",
   "execution_count": 136,
   "metadata": {},
   "outputs": [
    {
     "data": {
      "text/plain": [
       "[array([[0, 0, 0, 0, 0, 0, 0],\n",
       "        [0, 1, 2, 3, 4, 5, 6]]),\n",
       " array([[1, 1, 1, 1, 1, 1, 1],\n",
       "        [0, 1, 2, 3, 4, 5, 6]]),\n",
       " array([[2, 2, 2, 2, 2, 2, 2],\n",
       "        [0, 1, 2, 3, 4, 5, 6]]),\n",
       " array([[3, 3, 3, 3, 3, 3, 3],\n",
       "        [0, 1, 2, 3, 4, 5, 6]]),\n",
       " array([[4, 4, 4, 4, 4, 4, 4],\n",
       "        [0, 1, 2, 3, 4, 5, 6]]),\n",
       " array([[5, 5, 5, 5, 5, 5, 5],\n",
       "        [0, 1, 2, 3, 4, 5, 6]]),\n",
       " array([[6, 6, 6, 6, 6, 6, 6],\n",
       "        [0, 1, 2, 3, 4, 5, 6]]),\n",
       " array([[7, 7, 7, 7, 7, 7, 7],\n",
       "        [0, 1, 2, 3, 4, 5, 6]]),\n",
       " array([[8, 8, 8, 8, 8, 8, 8],\n",
       "        [0, 1, 2, 3, 4, 5, 6]]),\n",
       " array([[9, 9, 9, 9, 9, 9, 9],\n",
       "        [0, 1, 2, 3, 4, 5, 6]]),\n",
       " array([[10, 10, 10, 10, 10, 10, 10],\n",
       "        [ 0,  1,  2,  3,  4,  5,  6]]),\n",
       " array([[11, 11, 11, 11, 11, 11, 11],\n",
       "        [ 0,  1,  2,  3,  4,  5,  6]]),\n",
       " array([[12, 12, 12, 12, 12, 12, 12],\n",
       "        [ 0,  1,  2,  3,  4,  5,  6]]),\n",
       " array([[13, 13, 13, 13, 13, 13, 13],\n",
       "        [ 0,  1,  2,  3,  4,  5,  6]])]"
      ]
     },
     "execution_count": 136,
     "metadata": {},
     "output_type": "execute_result"
    }
   ],
   "source": [
    "robot_col_rowcols"
   ]
  },
  {
   "cell_type": "code",
   "execution_count": 135,
   "metadata": {},
   "outputs": [
    {
     "data": {
      "text/plain": [
       "[Variable(name='q4', coord=array([28, 29, 30, 31, 32, 33, 34]), lb=array([-2.9671, -1.8326, -2.9671, -3.1416, -2.9671, -0.0873, -2.9671]), ub=array([2.9671, 1.8326, 2.9671, 0.    , 2.9671, 3.8223, 2.9671])),\n",
       " Parameter(name='p_start', coord=array([ 98,  99, 100, 101, 102, 103, 104]), dim=7),\n",
       " Variable(name='q5', coord=array([35, 36, 37, 38, 39, 40, 41]), lb=array([-2.9671, -1.8326, -2.9671, -3.1416, -2.9671, -0.0873, -2.9671]), ub=array([2.9671, 1.8326, 2.9671, 0.    , 2.9671, 3.8223, 2.9671])),\n",
       " Variable(name='q6', coord=array([42, 43, 44, 45, 46, 47, 48]), lb=array([-2.9671, -1.8326, -2.9671, -3.1416, -2.9671, -0.0873, -2.9671]), ub=array([2.9671, 1.8326, 2.9671, 0.    , 2.9671, 3.8223, 2.9671])),\n",
       " Variable(name='q7', coord=array([49, 50, 51, 52, 53, 54, 55]), lb=array([-2.9671, -1.8326, -2.9671, -3.1416, -2.9671, -0.0873, -2.9671]), ub=array([2.9671, 1.8326, 2.9671, 0.    , 2.9671, 3.8223, 2.9671])),\n",
       " Variable(name='q8', coord=array([56, 57, 58, 59, 60, 61, 62]), lb=array([-2.9671, -1.8326, -2.9671, -3.1416, -2.9671, -0.0873, -2.9671]), ub=array([2.9671, 1.8326, 2.9671, 0.    , 2.9671, 3.8223, 2.9671]))]"
      ]
     },
     "execution_count": 135,
     "metadata": {},
     "output_type": "execute_result"
    }
   ],
   "source": [
    "for i, var in enumerate(constr.inputs):\n",
    "    "
   ]
  },
  {
   "cell_type": "code",
   "execution_count": 112,
   "metadata": {},
   "outputs": [
    {
     "name": "stdout",
     "output_type": "stream",
     "text": [
      "[[ 0.         -0.35800323 -0.00346175  0.27734634  0.12793577 -0.11073308\n",
      "   0.02693846]\n",
      " [ 0.0835028  -0.04488284  0.0821012  -0.27521536 -0.09057803 -0.35462093\n",
      "  -0.25156733]\n",
      " [ 0.09012468 -0.00871277  0.         -0.          0.         -0.\n",
      "   0.        ]\n",
      " [ 0.08718382 -0.01029391  0.         -0.          0.         -0.\n",
      "   0.        ]\n",
      " [ 0.08409116 -0.01180849  0.         -0.          0.         -0.\n",
      "   0.        ]\n",
      " [-0.08048337  0.          0.          0.          0.         -0.\n",
      "   0.        ]\n",
      " [-0.07493431 -0.30673409  0.05257253  0.45860153  0.00611077  0.0604114\n",
      "   0.01441582]\n",
      " [ 0.         -0.269728    0.17018993  0.41250554  0.06623141  0.00349894\n",
      "   0.04944601]\n",
      " [ 0.         -0.1913654   0.22639126  0.36471352  0.04119299 -0.03383972\n",
      "   0.04983898]\n",
      " [ 0.3966969  -0.01367688  0.28387904 -0.10078335  0.01262022 -0.11999142\n",
      "   0.        ]\n",
      " [ 0.00133374  0.          0.          0.          0.          0.\n",
      "   0.        ]\n",
      " [-0.03660003  0.          0.          0.          0.          0.\n",
      "   0.        ]\n",
      " [-0.03923609  0.          0.          0.          0.          0.\n",
      "   0.        ]\n",
      " [-0.06788529  0.          0.          0.          0.          0.\n",
      "   0.        ]]\n",
      "[array([[2, 2, 2, 2, 2, 2, 2],\n",
      "       [0, 1, 2, 3, 4, 5, 6]]), array([[ 3,  3,  3,  3,  3,  3,  3],\n",
      "       [ 7,  8,  9, 10, 11, 12, 13]]), array([[ 4,  4,  4,  4,  4,  4,  4],\n",
      "       [14, 15, 16, 17, 18, 19, 20]]), array([[ 5,  5,  5,  5,  5,  5,  5],\n",
      "       [21, 22, 23, 24, 25, 26, 27]]), array([[ 6,  6,  6,  6,  6,  6,  6],\n",
      "       [28, 29, 30, 31, 32, 33, 34]]), array([[ 7,  7,  7,  7,  7,  7,  7],\n",
      "       [35, 36, 37, 38, 39, 40, 41]]), array([[ 8,  8,  8,  8,  8,  8,  8],\n",
      "       [42, 43, 44, 45, 46, 47, 48]]), array([[ 9,  9,  9,  9,  9,  9,  9],\n",
      "       [49, 50, 51, 52, 53, 54, 55]]), array([[10, 10, 10, 10, 10, 10, 10],\n",
      "       [56, 57, 58, 59, 60, 61, 62]]), array([[11, 11, 11, 11, 11, 11, 11],\n",
      "       [63, 64, 65, 66, 67, 68, 69]]), array([[12, 12, 12, 12, 12, 12, 12],\n",
      "       [70, 71, 72, 73, 74, 75, 76]]), array([[13, 13, 13, 13, 13, 13, 13],\n",
      "       [77, 78, 79, 80, 81, 82, 83]]), array([[14, 14, 14, 14, 14, 14, 14],\n",
      "       [84, 85, 86, 87, 88, 89, 90]]), array([[15, 15, 15, 15, 15, 15, 15],\n",
      "       [91, 92, 93, 94, 95, 96, 97]])]\n"
     ]
    }
   ],
   "source": [
    "print(jacs)\n",
    "print(constr.jac_indices)"
   ]
  },
  {
   "cell_type": "code",
   "execution_count": 130,
   "metadata": {},
   "outputs": [],
   "source": [
    "jac_fn = bdr3.get_jacobian_fn()"
   ]
  },
  {
   "cell_type": "code",
   "execution_count": 132,
   "metadata": {},
   "outputs": [
    {
     "data": {
      "text/plain": [
       "(126,)"
      ]
     },
     "execution_count": 132,
     "metadata": {},
     "output_type": "execute_result"
    }
   ],
   "source": [
    "jac_fn(x0).shape"
   ]
  },
  {
   "cell_type": "code",
   "execution_count": 134,
   "metadata": {},
   "outputs": [
    {
     "data": {
      "text/plain": [
       "(140,)"
      ]
     },
     "execution_count": 134,
     "metadata": {},
     "output_type": "execute_result"
    }
   ],
   "source": [
    "bdr3.get_jacobian_structure()[0].shape"
   ]
  },
  {
   "cell_type": "code",
   "execution_count": 88,
   "metadata": {},
   "outputs": [
    {
     "data": {
      "text/plain": [
       "{'grasp_prob_pick': Constraint(name='grasp_prob_pick', coord=array([0]), inputs=[Variable(name='q4', coord=array([28, 29, 30, 31, 32, 33, 34]), lb=array([-2.9671, -1.8326, -2.9671, -3.1416, -2.9671, -0.0873, -2.9671]), ub=array([2.9671, 1.8326, 2.9671, 0.    , 2.9671, 3.8223, 2.9671])), Parameter(name='p_start', coord=array([ 98,  99, 100, 101, 102, 103, 104]), dim=7)], fn=Function(name='robot_grasp_fn', in_dims=[7, 7], out_dim=1, eval_fn=<function robot_grasp_constr at 0x7fb457910af0>, jac_fn=<function robot_grasp_constr at 0x7fb43a887ca0>, custom_jac_indices=None, constraints=[..., Constraint(name='grasp_prob_place', coord=array([1]), inputs=[Variable(name='q9', coord=array([63, 64, 65, 66, 67, 68, 69]), lb=array([-2.9671, -1.8326, -2.9671, -3.1416, -2.9671, -0.0873, -2.9671]), ub=array([2.9671, 1.8326, 2.9671, 0.    , 2.9671, 3.8223, 2.9671])), Parameter(name='p_goal', coord=array([105, 106, 107, 108, 109, 110, 111]), dim=7)], fn=..., lb=array([0.5]), ub=array([inf]), jac_indices=[array([[ 1,  1,  1,  1,  1,  1,  1],\n",
       "        [63, 64, 65, 66, 67, 68, 69]]), None])]), lb=array([0.5]), ub=array([inf]), jac_indices=[array([[ 0,  0,  0,  0,  0,  0,  0],\n",
       "        [28, 29, 30, 31, 32, 33, 34]]), None]),\n",
       " 'grasp_prob_place': Constraint(name='grasp_prob_place', coord=array([1]), inputs=[Variable(name='q9', coord=array([63, 64, 65, 66, 67, 68, 69]), lb=array([-2.9671, -1.8326, -2.9671, -3.1416, -2.9671, -0.0873, -2.9671]), ub=array([2.9671, 1.8326, 2.9671, 0.    , 2.9671, 3.8223, 2.9671])), Parameter(name='p_goal', coord=array([105, 106, 107, 108, 109, 110, 111]), dim=7)], fn=Function(name='robot_grasp_fn', in_dims=[7, 7], out_dim=1, eval_fn=<function robot_grasp_constr at 0x7fb457910af0>, jac_fn=<function robot_grasp_constr at 0x7fb43a887ca0>, custom_jac_indices=None, constraints=[Constraint(name='grasp_prob_pick', coord=array([0]), inputs=[Variable(name='q4', coord=array([28, 29, 30, 31, 32, 33, 34]), lb=array([-2.9671, -1.8326, -2.9671, -3.1416, -2.9671, -0.0873, -2.9671]), ub=array([2.9671, 1.8326, 2.9671, 0.    , 2.9671, 3.8223, 2.9671])), Parameter(name='p_start', coord=array([ 98,  99, 100, 101, 102, 103, 104]), dim=7)], fn=..., lb=array([0.5]), ub=array([inf]), jac_indices=[array([[ 0,  0,  0,  0,  0,  0,  0],\n",
       "        [28, 29, 30, 31, 32, 33, 34]]), None]), ...]), lb=array([0.5]), ub=array([inf]), jac_indices=[array([[ 1,  1,  1,  1,  1,  1,  1],\n",
       "        [63, 64, 65, 66, 67, 68, 69]]), None]),\n",
       " 'robot_col': Constraint(name='robot_col', coord=array([ 2,  3,  4,  5,  6,  7,  8,  9, 10, 11, 12, 13, 14, 15]), inputs=[Variable(name='q0', coord=array([0, 1, 2, 3, 4, 5, 6]), lb=array([-2.9671, -1.8326, -2.9671, -3.1416, -2.9671, -0.0873, -2.9671]), ub=array([2.9671, 1.8326, 2.9671, 0.    , 2.9671, 3.8223, 2.9671])), Variable(name='q1', coord=array([ 7,  8,  9, 10, 11, 12, 13]), lb=array([-2.9671, -1.8326, -2.9671, -3.1416, -2.9671, -0.0873, -2.9671]), ub=array([2.9671, 1.8326, 2.9671, 0.    , 2.9671, 3.8223, 2.9671])), Variable(name='q2', coord=array([14, 15, 16, 17, 18, 19, 20]), lb=array([-2.9671, -1.8326, -2.9671, -3.1416, -2.9671, -0.0873, -2.9671]), ub=array([2.9671, 1.8326, 2.9671, 0.    , 2.9671, 3.8223, 2.9671])), Variable(name='q3', coord=array([21, 22, 23, 24, 25, 26, 27]), lb=array([-2.9671, -1.8326, -2.9671, -3.1416, -2.9671, -0.0873, -2.9671]), ub=array([2.9671, 1.8326, 2.9671, 0.    , 2.9671, 3.8223, 2.9671])), Variable(name='q4', coord=array([28, 29, 30, 31, 32, 33, 34]), lb=array([-2.9671, -1.8326, -2.9671, -3.1416, -2.9671, -0.0873, -2.9671]), ub=array([2.9671, 1.8326, 2.9671, 0.    , 2.9671, 3.8223, 2.9671])), Variable(name='q5', coord=array([35, 36, 37, 38, 39, 40, 41]), lb=array([-2.9671, -1.8326, -2.9671, -3.1416, -2.9671, -0.0873, -2.9671]), ub=array([2.9671, 1.8326, 2.9671, 0.    , 2.9671, 3.8223, 2.9671])), Variable(name='q6', coord=array([42, 43, 44, 45, 46, 47, 48]), lb=array([-2.9671, -1.8326, -2.9671, -3.1416, -2.9671, -0.0873, -2.9671]), ub=array([2.9671, 1.8326, 2.9671, 0.    , 2.9671, 3.8223, 2.9671])), Variable(name='q7', coord=array([49, 50, 51, 52, 53, 54, 55]), lb=array([-2.9671, -1.8326, -2.9671, -3.1416, -2.9671, -0.0873, -2.9671]), ub=array([2.9671, 1.8326, 2.9671, 0.    , 2.9671, 3.8223, 2.9671])), Variable(name='q8', coord=array([56, 57, 58, 59, 60, 61, 62]), lb=array([-2.9671, -1.8326, -2.9671, -3.1416, -2.9671, -0.0873, -2.9671]), ub=array([2.9671, 1.8326, 2.9671, 0.    , 2.9671, 3.8223, 2.9671])), Variable(name='q9', coord=array([63, 64, 65, 66, 67, 68, 69]), lb=array([-2.9671, -1.8326, -2.9671, -3.1416, -2.9671, -0.0873, -2.9671]), ub=array([2.9671, 1.8326, 2.9671, 0.    , 2.9671, 3.8223, 2.9671])), Variable(name='q10', coord=array([70, 71, 72, 73, 74, 75, 76]), lb=array([-2.9671, -1.8326, -2.9671, -3.1416, -2.9671, -0.0873, -2.9671]), ub=array([2.9671, 1.8326, 2.9671, 0.    , 2.9671, 3.8223, 2.9671])), Variable(name='q11', coord=array([77, 78, 79, 80, 81, 82, 83]), lb=array([-2.9671, -1.8326, -2.9671, -3.1416, -2.9671, -0.0873, -2.9671]), ub=array([2.9671, 1.8326, 2.9671, 0.    , 2.9671, 3.8223, 2.9671])), Variable(name='q12', coord=array([84, 85, 86, 87, 88, 89, 90]), lb=array([-2.9671, -1.8326, -2.9671, -3.1416, -2.9671, -0.0873, -2.9671]), ub=array([2.9671, 1.8326, 2.9671, 0.    , 2.9671, 3.8223, 2.9671])), Variable(name='q13', coord=array([91, 92, 93, 94, 95, 96, 97]), lb=array([-2.9671, -1.8326, -2.9671, -3.1416, -2.9671, -0.0873, -2.9671]), ub=array([2.9671, 1.8326, 2.9671, 0.    , 2.9671, 3.8223, 2.9671]))], fn=Function(name='robot_col', in_dims=[7, 7, 7, 7, 7, 7, 7, 7, 7, 7, 7, 7, 7, 7], out_dim=14, eval_fn=<function robot_col_constr at 0x7fb450daa8b0>, jac_fn=<function jac_robot_col_constr at 0x7fb4477f95e0>, custom_jac_indices=[array([[0, 0, 0, 0, 0, 0, 0],\n",
       "        [0, 1, 2, 3, 4, 5, 6]]), array([[1, 1, 1, 1, 1, 1, 1],\n",
       "        [0, 1, 2, 3, 4, 5, 6]]), array([[2, 2, 2, 2, 2, 2, 2],\n",
       "        [0, 1, 2, 3, 4, 5, 6]]), array([[3, 3, 3, 3, 3, 3, 3],\n",
       "        [0, 1, 2, 3, 4, 5, 6]]), array([[4, 4, 4, 4, 4, 4, 4],\n",
       "        [0, 1, 2, 3, 4, 5, 6]]), array([[5, 5, 5, 5, 5, 5, 5],\n",
       "        [0, 1, 2, 3, 4, 5, 6]]), array([[6, 6, 6, 6, 6, 6, 6],\n",
       "        [0, 1, 2, 3, 4, 5, 6]]), array([[7, 7, 7, 7, 7, 7, 7],\n",
       "        [0, 1, 2, 3, 4, 5, 6]]), array([[8, 8, 8, 8, 8, 8, 8],\n",
       "        [0, 1, 2, 3, 4, 5, 6]]), array([[9, 9, 9, 9, 9, 9, 9],\n",
       "        [0, 1, 2, 3, 4, 5, 6]]), array([[10, 10, 10, 10, 10, 10, 10],\n",
       "        [ 0,  1,  2,  3,  4,  5,  6]]), array([[11, 11, 11, 11, 11, 11, 11],\n",
       "        [ 0,  1,  2,  3,  4,  5,  6]]), array([[12, 12, 12, 12, 12, 12, 12],\n",
       "        [ 0,  1,  2,  3,  4,  5,  6]]), array([[13, 13, 13, 13, 13, 13, 13],\n",
       "        [ 0,  1,  2,  3,  4,  5,  6]])], constraints=[...]), lb=array([0.05, 0.05, 0.05, 0.05, 0.05, 0.05, 0.05, 0.05, 0.05, 0.05, 0.05,\n",
       "        0.05, 0.05, 0.05]), ub=array([inf, inf, inf, inf, inf, inf, inf, inf, inf, inf, inf, inf, inf,\n",
       "        inf]), jac_indices=[array([[2, 2, 2, 2, 2, 2, 2],\n",
       "        [0, 1, 2, 3, 4, 5, 6]]), array([[ 3,  3,  3,  3,  3,  3,  3],\n",
       "        [ 7,  8,  9, 10, 11, 12, 13]]), array([[ 4,  4,  4,  4,  4,  4,  4],\n",
       "        [14, 15, 16, 17, 18, 19, 20]]), array([[ 5,  5,  5,  5,  5,  5,  5],\n",
       "        [21, 22, 23, 24, 25, 26, 27]]), array([[ 6,  6,  6,  6,  6,  6,  6],\n",
       "        [28, 29, 30, 31, 32, 33, 34]]), array([[ 7,  7,  7,  7,  7,  7,  7],\n",
       "        [35, 36, 37, 38, 39, 40, 41]]), array([[ 8,  8,  8,  8,  8,  8,  8],\n",
       "        [42, 43, 44, 45, 46, 47, 48]]), array([[ 9,  9,  9,  9,  9,  9,  9],\n",
       "        [49, 50, 51, 52, 53, 54, 55]]), array([[10, 10, 10, 10, 10, 10, 10],\n",
       "        [56, 57, 58, 59, 60, 61, 62]]), array([[11, 11, 11, 11, 11, 11, 11],\n",
       "        [63, 64, 65, 66, 67, 68, 69]]), array([[12, 12, 12, 12, 12, 12, 12],\n",
       "        [70, 71, 72, 73, 74, 75, 76]]), array([[13, 13, 13, 13, 13, 13, 13],\n",
       "        [77, 78, 79, 80, 81, 82, 83]]), array([[14, 14, 14, 14, 14, 14, 14],\n",
       "        [84, 85, 86, 87, 88, 89, 90]]), array([[15, 15, 15, 15, 15, 15, 15],\n",
       "        [91, 92, 93, 94, 95, 96, 97]])]),\n",
       " 'obj_col': Constraint(name='obj_col', coord=array([16, 17, 18, 19]), inputs=[Variable(name='q4', coord=array([28, 29, 30, 31, 32, 33, 34]), lb=array([-2.9671, -1.8326, -2.9671, -3.1416, -2.9671, -0.0873, -2.9671]), ub=array([2.9671, 1.8326, 2.9671, 0.    , 2.9671, 3.8223, 2.9671])), Parameter(name='p_start', coord=array([ 98,  99, 100, 101, 102, 103, 104]), dim=7), Variable(name='q5', coord=array([35, 36, 37, 38, 39, 40, 41]), lb=array([-2.9671, -1.8326, -2.9671, -3.1416, -2.9671, -0.0873, -2.9671]), ub=array([2.9671, 1.8326, 2.9671, 0.    , 2.9671, 3.8223, 2.9671])), Variable(name='q6', coord=array([42, 43, 44, 45, 46, 47, 48]), lb=array([-2.9671, -1.8326, -2.9671, -3.1416, -2.9671, -0.0873, -2.9671]), ub=array([2.9671, 1.8326, 2.9671, 0.    , 2.9671, 3.8223, 2.9671])), Variable(name='q7', coord=array([49, 50, 51, 52, 53, 54, 55]), lb=array([-2.9671, -1.8326, -2.9671, -3.1416, -2.9671, -0.0873, -2.9671]), ub=array([2.9671, 1.8326, 2.9671, 0.    , 2.9671, 3.8223, 2.9671])), Variable(name='q8', coord=array([56, 57, 58, 59, 60, 61, 62]), lb=array([-2.9671, -1.8326, -2.9671, -3.1416, -2.9671, -0.0873, -2.9671]), ub=array([2.9671, 1.8326, 2.9671, 0.    , 2.9671, 3.8223, 2.9671]))], fn=Function(name='obj_col', in_dims=[7, 7, 7], out_dim=4, eval_fn=<function obj_col_constr at 0x7fb4479f2160>, jac_fn=<function jac_obj_col_constr at 0x7fb450daa670>, custom_jac_indices=[None, None, array([[0, 0, 0, 0, 0, 0, 0],\n",
       "        [0, 1, 2, 3, 4, 5, 6]]), array([[1, 1, 1, 1, 1, 1, 1],\n",
       "        [0, 1, 2, 3, 4, 5, 6]]), array([[2, 2, 2, 2, 2, 2, 2],\n",
       "        [0, 1, 2, 3, 4, 5, 6]]), array([[3, 3, 3, 3, 3, 3, 3],\n",
       "        [0, 1, 2, 3, 4, 5, 6]])], constraints=[...]), lb=array([0.05, 0.05, 0.05, 0.05]), ub=array([inf, inf, inf, inf]), jac_indices=[None, None, array([[16, 16, 16, 16, 16, 16, 16],\n",
       "        [35, 36, 37, 38, 39, 40, 41]]), array([[17, 17, 17, 17, 17, 17, 17],\n",
       "        [42, 43, 44, 45, 46, 47, 48]]), array([[18, 18, 18, 18, 18, 18, 18],\n",
       "        [49, 50, 51, 52, 53, 54, 55]]), array([[19, 19, 19, 19, 19, 19, 19],\n",
       "        [56, 57, 58, 59, 60, 61, 62]])])}"
      ]
     },
     "execution_count": 88,
     "metadata": {},
     "output_type": "execute_result"
    }
   ],
   "source": [
    "bdr3.c_info"
   ]
  },
  {
   "cell_type": "code",
   "execution_count": 84,
   "metadata": {},
   "outputs": [
    {
     "data": {
      "text/plain": [
       "Array([[ 1.6489993e-09, -1.9850735e-01,  4.3310208e-10,  4.5141514e-02,\n",
       "         0.0000000e+00,  3.6568429e-02,  0.0000000e+00],\n",
       "       [ 1.6489993e-09, -1.9850735e-01,  4.3310208e-10,  4.5141514e-02,\n",
       "         0.0000000e+00,  3.6568429e-02,  0.0000000e+00],\n",
       "       [ 1.6489993e-09, -1.9850735e-01,  4.3310208e-10,  4.5141514e-02,\n",
       "         0.0000000e+00,  3.6568429e-02,  0.0000000e+00],\n",
       "       [ 1.6489993e-09, -1.9850735e-01,  4.3310208e-10,  4.5141514e-02,\n",
       "         0.0000000e+00,  3.6568429e-02,  0.0000000e+00]], dtype=float32)"
      ]
     },
     "execution_count": 84,
     "metadata": {},
     "output_type": "execute_result"
    }
   ],
   "source": [
    "jac_obj_col_constr(jnp.zeros(7), jnp.zeros(7), *jnp.zeros((4,7)))"
   ]
  },
  {
   "cell_type": "code",
   "execution_count": 333,
   "metadata": {},
   "outputs": [],
   "source": [
    "jac_fn = bdr3.get_jacobian_fn()"
   ]
  },
  {
   "cell_type": "code",
   "execution_count": 337,
   "metadata": {},
   "outputs": [],
   "source": [
    "hess_fn = jax.hessian(travelled_distance)"
   ]
  },
  {
   "cell_type": "code",
   "execution_count": 64,
   "metadata": {},
   "outputs": [
    {
     "name": "stdout",
     "output_type": "stream",
     "text": [
      "compiling objective ...\n",
      "compiling gradient ...\n",
      "compiling constraints ...\n",
      "compiling jacobian ...\n",
      "----------------------------ooooooo-----------------------------------------------------------------------------\n",
      "---------------------------------------------------------------ooooooo------------------------------------------\n",
      "ooooooo---------------------------------------------------------------------------------------------------------\n",
      "-------ooooooo--------------------------------------------------------------------------------------------------\n",
      "--------------ooooooo-------------------------------------------------------------------------------------------\n",
      "---------------------ooooooo------------------------------------------------------------------------------------\n",
      "----------------------------ooooooo-----------------------------------------------------------------------------\n",
      "-----------------------------------ooooooo----------------------------------------------------------------------\n",
      "------------------------------------------ooooooo---------------------------------------------------------------\n",
      "-------------------------------------------------ooooooo--------------------------------------------------------\n",
      "--------------------------------------------------------ooooooo-------------------------------------------------\n",
      "---------------------------------------------------------------ooooooo------------------------------------------\n",
      "----------------------------------------------------------------------ooooooo-----------------------------------\n",
      "-----------------------------------------------------------------------------ooooooo----------------------------\n",
      "------------------------------------------------------------------------------------ooooooo---------------------\n",
      "-------------------------------------------------------------------------------------------ooooooo--------------\n",
      "-----------------------------------ooooooo----------------------------------------------------------------------\n",
      "------------------------------------------ooooooo---------------------------------------------------------------\n",
      "-------------------------------------------------ooooooo--------------------------------------------------------\n",
      "--------------------------------------------------------ooooooo-------------------------------------------------\n"
     ]
    }
   ],
   "source": [
    "ipopt_full = bdr3.build()"
   ]
  },
  {
   "cell_type": "code",
   "execution_count": 62,
   "metadata": {},
   "outputs": [
    {
     "name": "stdout",
     "output_type": "stream",
     "text": [
      "compiling objective ...\n",
      "compiling gradient ...\n",
      "compiling constraints ...\n",
      "compiling jacobian ...\n",
      "ooo--------------\n",
      "ooo--------------\n",
      "ooo--------------\n",
      "ooo--------------\n",
      "ooo--------------\n"
     ]
    }
   ],
   "source": [
    "ipopt_grasp = bdr1.build()"
   ]
  },
  {
   "cell_type": "code",
   "execution_count": 63,
   "metadata": {},
   "outputs": [
    {
     "name": "stdout",
     "output_type": "stream",
     "text": [
      "compiling objective ...\n",
      "compiling gradient ...\n",
      "compiling constraints ...\n",
      "compiling jacobian ...\n",
      "ooooooo------------------------\n",
      "ooooooo------------------------\n",
      "ooooooo------------------------\n",
      "ooooooo------------------------\n",
      "ooooooo------------------------\n",
      "ooooooo------------------------\n",
      "-------ooooooo-----------------\n",
      "-------ooooooo-----------------\n",
      "-------ooooooo-----------------\n",
      "-------ooooooo-----------------\n",
      "-------ooooooo-----------------\n",
      "-------ooooooo-----------------\n"
     ]
    }
   ],
   "source": [
    "ipopt_ik = bdr2.build()"
   ]
  },
  {
   "attachments": {},
   "cell_type": "markdown",
   "metadata": {},
   "source": [
    "## Solve"
   ]
  },
  {
   "cell_type": "code",
   "execution_count": 66,
   "metadata": {},
   "outputs": [
    {
     "name": "stdout",
     "output_type": "stream",
     "text": [
      "This is Ipopt version 3.14.10, running with linear solver MUMPS 5.2.1.\n",
      "\n",
      "Number of nonzeros in equality constraint Jacobian...:        0\n",
      "Number of nonzeros in inequality constraint Jacobian.:       15\n",
      "Number of nonzeros in Lagrangian Hessian.............:        0\n",
      "\n",
      "Total number of variables............................:       17\n",
      "                     variables with only lower bounds:        0\n",
      "                variables with lower and upper bounds:        3\n",
      "                     variables with only upper bounds:        0\n",
      "Total number of equality constraints.................:        0\n",
      "Total number of inequality constraints...............:        5\n",
      "        inequality constraints with only lower bounds:        5\n",
      "   inequality constraints with lower and upper bounds:        0\n",
      "        inequality constraints with only upper bounds:        0\n",
      "\n",
      "iter    objective    inf_pr   inf_du lg(mu)  ||d||  lg(rg) alpha_du alpha_pr  ls\n",
      "   0  0.0000000e+00 2.80e+02 9.99e-01   0.0 0.00e+00    -  0.00e+00 0.00e+00   0\n",
      "   1  0.0000000e+00 8.93e+01 1.44e+01  -0.2 1.72e+00    -  3.39e-01 5.81e-01h  1\n",
      "   2  0.0000000e+00 9.09e+01 2.15e+00   0.1 1.73e+00    -  9.76e-01 1.00e+00f  1\n",
      "   3  0.0000000e+00 2.19e+01 4.16e+00  -0.1 1.06e+02    -  7.13e-01 2.77e-01f  2\n",
      "   4  0.0000000e+00 3.43e+02 3.74e+00  -0.1 4.55e+00    -  7.56e-01 1.00e+00h  1\n",
      "   5  0.0000000e+00 5.29e+01 3.06e+00  -0.1 1.55e+01    -  1.00e+00 1.00e+00h  1\n",
      "   6  0.0000000e+00 8.52e+01 7.20e+00  -0.1 1.20e+00    -  1.00e+00 1.00e+00h  1\n",
      "   7  0.0000000e+00 7.91e+00 1.16e+01  -0.1 1.71e+00    -  1.00e+00 1.00e+00h  1\n",
      "   8  0.0000000e+00 0.00e+00 3.83e+00  -0.8 5.93e+00    -  7.97e-01 1.00e+00h  1\n",
      "   9  0.0000000e+00 0.00e+00 1.65e+00  -1.8 2.10e+00    -  9.96e-01 1.00e+00h  1\n",
      "iter    objective    inf_pr   inf_du lg(mu)  ||d||  lg(rg) alpha_du alpha_pr  ls\n",
      "  10  0.0000000e+00 0.00e+00 9.85e-02  -2.4 4.93e-02    -  9.97e-01 1.00e+00h  1\n",
      "  11  0.0000000e+00 0.00e+00 2.56e-04  -8.4 4.12e-04    -  9.90e-01 1.00e+00h  1\n",
      "\n",
      "Number of Iterations....: 11\n",
      "\n",
      "                                   (scaled)                 (unscaled)\n",
      "Objective...............:   0.0000000000000000e+00    0.0000000000000000e+00\n",
      "Dual infeasibility......:   2.5594775386809346e-04    7.0433597302891685e-05\n",
      "Constraint violation....:   0.0000000000000000e+00    0.0000000000000000e+00\n",
      "Variable bound violation:   0.0000000000000000e+00    0.0000000000000000e+00\n",
      "Complementarity.........:   7.4446972883040661e-05    7.4446972883040661e-05\n",
      "Overall NLP error.......:   2.5594775386809346e-04    7.4446972883040661e-05\n",
      "\n",
      "\n",
      "Number of objective function evaluations             = 15\n",
      "Number of objective gradient evaluations             = 12\n",
      "Number of equality constraint evaluations            = 0\n",
      "Number of inequality constraint evaluations          = 15\n",
      "Number of equality constraint Jacobian evaluations   = 0\n",
      "Number of inequality constraint Jacobian evaluations = 12\n",
      "Number of Lagrangian Hessian evaluations             = 0\n",
      "Total seconds in IPOPT                               = 2.184\n",
      "\n",
      "EXIT: Solved To Acceptable Level.\n"
     ]
    }
   ],
   "source": [
    "grasp_init = np.random.uniform(-1, 1, size=3) #np.ones(3) #\n",
    "p_obj_start = obj_start.pose.parameters()\n",
    "p_obj_goal = obj_goal.pose.parameters()\n",
    "x0 = np.hstack([grasp_init, p_obj_start, p_obj_goal])\n",
    "grasp_sol, info = ipopt_grasp.solve(x0)"
   ]
  },
  {
   "cell_type": "code",
   "execution_count": 67,
   "metadata": {},
   "outputs": [
    {
     "name": "stdout",
     "output_type": "stream",
     "text": [
      "This is Ipopt version 3.14.10, running with linear solver MUMPS 5.2.1.\n",
      "\n",
      "Number of nonzeros in equality constraint Jacobian...:       84\n",
      "Number of nonzeros in inequality constraint Jacobian.:        0\n",
      "Number of nonzeros in Lagrangian Hessian.............:        0\n",
      "\n",
      "Total number of variables............................:       31\n",
      "                     variables with only lower bounds:        0\n",
      "                variables with lower and upper bounds:       14\n",
      "                     variables with only upper bounds:        0\n",
      "Total number of equality constraints.................:       12\n",
      "Total number of inequality constraints...............:        0\n",
      "        inequality constraints with only lower bounds:        0\n",
      "   inequality constraints with lower and upper bounds:        0\n",
      "        inequality constraints with only upper bounds:        0\n",
      "\n",
      "iter    objective    inf_pr   inf_du lg(mu)  ||d||  lg(rg) alpha_du alpha_pr  ls\n",
      "   0  0.0000000e+00 6.50e-01 0.00e+00   0.0 0.00e+00    -  0.00e+00 0.00e+00   0\n",
      "   1  0.0000000e+00 5.14e-01 6.99e+00  -5.6 2.11e+00    -  4.22e-01 7.36e-01h  1\n",
      "   2  0.0000000e+00 1.36e-01 5.53e+00  -0.5 1.29e+00    -  7.90e-01 1.00e+00f  1\n",
      "   3  0.0000000e+00 9.06e-02 5.09e+00  -0.1 7.67e-01    -  7.12e-01 1.00e+00f  1\n",
      "   4  0.0000000e+00 1.16e-02 1.30e-01  -0.9 2.14e-01    -  9.90e-01 1.00e+00h  1\n",
      "   5  0.0000000e+00 1.13e-03 1.77e-01  -2.4 8.29e-02    -  9.68e-01 1.00e+00h  1\n",
      "   6  0.0000000e+00 1.77e-06 3.06e-03  -3.8 3.06e-03    -  1.00e+00 1.00e+00h  1\n",
      "   7  0.0000000e+00 2.67e-07 8.29e-06  -5.9 8.29e-06    -  1.00e+00 1.00e+00h  1\n",
      "\n",
      "Number of Iterations....: 7\n",
      "\n",
      "                                   (scaled)                 (unscaled)\n",
      "Objective...............:   0.0000000000000000e+00    0.0000000000000000e+00\n",
      "Dual infeasibility......:   8.2919576127732788e-06    8.2919576127732788e-06\n",
      "Constraint violation....:   2.6659509444471041e-07    2.6659509444471041e-07\n",
      "Variable bound violation:   0.0000000000000000e+00    0.0000000000000000e+00\n",
      "Complementarity.........:   1.3439630364211811e-06    1.3439630364211811e-06\n",
      "Overall NLP error.......:   8.2919576127732788e-06    8.2919576127732788e-06\n",
      "\n",
      "\n",
      "Number of objective function evaluations             = 8\n",
      "Number of objective gradient evaluations             = 8\n",
      "Number of equality constraint evaluations            = 8\n",
      "Number of inequality constraint evaluations          = 0\n",
      "Number of equality constraint Jacobian evaluations   = 8\n",
      "Number of inequality constraint Jacobian evaluations = 0\n",
      "Number of Lagrangian Hessian evaluations             = 0\n",
      "Total seconds in IPOPT                               = 0.907\n",
      "\n",
      "EXIT: Solved To Acceptable Level.\n"
     ]
    }
   ],
   "source": [
    "grasp_init = grasp_sol[:3] #np.random.uniform(-1, 1, size=3)\n",
    "qinit = panda.neutral\n",
    "p_obj_start = obj_start.pose.parameters()\n",
    "p_obj_goal = obj_goal.pose.parameters()\n",
    "x0 = np.hstack([qinit, qinit, grasp_init, p_obj_start, p_obj_goal])\n",
    "ik_sol, info = ipopt_ik.solve(x0)"
   ]
  },
  {
   "cell_type": "code",
   "execution_count": 68,
   "metadata": {},
   "outputs": [],
   "source": [
    "#initialize\n",
    "q0 = panda.neutral\n",
    "q_pick, q_place  = ik_sol[:7], ik_sol[7:14]\n",
    "waypoints = [q0, q_pick, q_place, q0]\n",
    "traj_init = []\n",
    "for i, q in enumerate(waypoints[:-1]):\n",
    "    qs_ = np.linspace(q, waypoints[i+1], num_mid_configs+1, endpoint=False)\n",
    "    traj_init.extend(qs_)\n",
    "traj_init = traj_init[1:]\n",
    "\n",
    "# grasp_init = grasp_sol[:3] #np.random.normal(size=3)\n",
    "p_obj_start = obj_start.pose.parameters()\n",
    "p_obj_goal = obj_goal.pose.parameters()\n",
    "x0 = np.hstack([*traj_init, p_obj_start, p_obj_goal])"
   ]
  },
  {
   "cell_type": "code",
   "execution_count": 76,
   "metadata": {},
   "outputs": [
    {
     "data": {
      "text/plain": [
       "(112,)"
      ]
     },
     "execution_count": 76,
     "metadata": {},
     "output_type": "execute_result"
    }
   ],
   "source": [
    "x0.shape"
   ]
  },
  {
   "cell_type": "code",
   "execution_count": 82,
   "metadata": {},
   "outputs": [
    {
     "data": {
      "text/plain": [
       "(133,)"
      ]
     },
     "execution_count": 82,
     "metadata": {},
     "output_type": "execute_result"
    }
   ],
   "source": [
    "ipopt_full.__jacobian(x0).shape"
   ]
  },
  {
   "cell_type": "code",
   "execution_count": 81,
   "metadata": {},
   "outputs": [
    {
     "data": {
      "text/plain": [
       "(140,)"
      ]
     },
     "execution_count": 81,
     "metadata": {},
     "output_type": "execute_result"
    }
   ],
   "source": [
    "ipopt_full.__jacobianstructure()[0].shape"
   ]
  },
  {
   "cell_type": "code",
   "execution_count": 69,
   "metadata": {},
   "outputs": [
    {
     "name": "stdout",
     "output_type": "stream",
     "text": [
      "This is Ipopt version 3.14.10, running with linear solver MUMPS 5.2.1.\n",
      "\n",
      "Number of nonzeros in equality constraint Jacobian...:        0\n",
      "Number of nonzeros in inequality constraint Jacobian.:      140\n",
      "Number of nonzeros in Lagrangian Hessian.............:        0\n",
      "\n"
     ]
    },
    {
     "ename": "IndexError",
     "evalue": "Out of bounds on buffer access (axis 0)",
     "output_type": "error",
     "traceback": [
      "\u001b[0;31m---------------------------------------------------------------------------\u001b[0m",
      "\u001b[0;31mIndexError\u001b[0m                                Traceback (most recent call last)",
      "\u001b[0;31mIndexError\u001b[0m: Out of bounds on buffer access (axis 0)"
     ]
    },
    {
     "name": "stderr",
     "output_type": "stream",
     "text": [
      "Exception ignored in: 'ipopt_wrapper.jacobian_cb'\n",
      "Traceback (most recent call last):\n",
      "  File \"/var/folders/_y/jwsg7ft16tq6wks_bwh9tkvh0000gn/T/ipykernel_28090/942793123.py\", line 3, in <module>\n",
      "IndexError: Out of bounds on buffer access (axis 0)\n"
     ]
    },
    {
     "name": "stdout",
     "output_type": "stream",
     "text": [
      "Error evaluating Jacobian of inequality constraints at user provided starting point.\n",
      "  No scaling factors for inequality constraints computed!\n"
     ]
    },
    {
     "ename": "IndexError",
     "evalue": "Out of bounds on buffer access (axis 0)",
     "output_type": "error",
     "traceback": [
      "\u001b[0;31m---------------------------------------------------------------------------\u001b[0m",
      "\u001b[0;31mIndexError\u001b[0m                                Traceback (most recent call last)",
      "\u001b[0;31mIndexError\u001b[0m: Out of bounds on buffer access (axis 0)"
     ]
    },
    {
     "name": "stderr",
     "output_type": "stream",
     "text": [
      "Exception ignored in: 'ipopt_wrapper.jacobian_cb'\n",
      "Traceback (most recent call last):\n",
      "  File \"/var/folders/_y/jwsg7ft16tq6wks_bwh9tkvh0000gn/T/ipykernel_28090/942793123.py\", line 3, in <module>\n",
      "IndexError: Out of bounds on buffer access (axis 0)\n"
     ]
    },
    {
     "name": "stdout",
     "output_type": "stream",
     "text": [
      "\n",
      "Number of Iterations....: 0\n",
      "\n",
      "Number of objective function evaluations             = 0\n",
      "Number of objective gradient evaluations             = 0\n",
      "Number of equality constraint evaluations            = 0\n",
      "Number of inequality constraint evaluations          = 1\n",
      "Number of equality constraint Jacobian evaluations   = 0\n",
      "Number of inequality constraint Jacobian evaluations = 1\n",
      "Number of Lagrangian Hessian evaluations             = 0\n",
      "Total seconds in IPOPT                               = 0.022\n",
      "\n",
      "EXIT: Invalid number in NLP function or derivative detected.\n"
     ]
    }
   ],
   "source": [
    "ipopt_full.add_option(\"acceptable_obj_change_tol\", 0.01)\n",
    "ipopt_full.add_option('mu_strategy', 'adaptive')\n",
    "full_sol, info = ipopt_full.solve(x0)"
   ]
  },
  {
   "cell_type": "code",
   "execution_count": null,
   "metadata": {},
   "outputs": [],
   "source": []
  },
  {
   "cell_type": "code",
   "execution_count": 303,
   "metadata": {},
   "outputs": [],
   "source": [
    "traj = full_sol[:7*num_traj].reshape(-1, 7)\n",
    "traj = [panda.neutral, *traj, panda.neutral]\n",
    "grasp_pose = grasp_reconst(full_sol[bdr3.x_info[\"g_pick\"].coord])\n",
    "obj_pose = obj_start.pose\n",
    "obj.set_pose(obj_pose)\n",
    "panda.set_joint_angles(panda.neutral)\n",
    "i = 0"
   ]
  },
  {
   "cell_type": "code",
   "execution_count": 319,
   "metadata": {},
   "outputs": [],
   "source": [
    "if i-1 in [4, *idxs_hold, 9]:\n",
    "    q = traj[i]\n",
    "    obj_pose = SE3(fk(q)) @ grasp_pose.inverse()\n",
    "    obj.set_pose(obj_pose)\n",
    "panda.set_joint_angles(traj[i])\n",
    "i += 1"
   ]
  },
  {
   "cell_type": "code",
   "execution_count": 151,
   "metadata": {},
   "outputs": [],
   "source": [
    "q = full_sol[10:17]"
   ]
  },
  {
   "cell_type": "code",
   "execution_count": 160,
   "metadata": {},
   "outputs": [],
   "source": [
    "fks = panda_model.fk_fn(jnp.hstack([q, 0.04, 0.04]))\n",
    "link_frames = fks[1:-1]\n",
    "assigned_points = jax.vmap(fk_assign)(link_frames, links_points_mat)\n",
    "assigned_points = jnp.vstack(assigned_points)"
   ]
  },
  {
   "cell_type": "code",
   "execution_count": 99,
   "metadata": {},
   "outputs": [
    {
     "name": "stdout",
     "output_type": "stream",
     "text": [
      "This is Ipopt version 3.14.10, running with linear solver MUMPS 5.2.1.\n",
      "\n",
      "Number of nonzeros in equality constraint Jacobian...:       84\n",
      "Number of nonzeros in inequality constraint Jacobian.:        0\n",
      "Number of nonzeros in Lagrangian Hessian.............:        0\n",
      "\n",
      "Total number of variables............................:       31\n",
      "                     variables with only lower bounds:        0\n",
      "                variables with lower and upper bounds:       14\n",
      "                     variables with only upper bounds:        0\n",
      "Total number of equality constraints.................:       12\n",
      "Total number of inequality constraints...............:        0\n",
      "        inequality constraints with only lower bounds:        0\n",
      "   inequality constraints with lower and upper bounds:        0\n",
      "        inequality constraints with only upper bounds:        0\n",
      "\n",
      "iter    objective    inf_pr   inf_du lg(mu)  ||d||  lg(rg) alpha_du alpha_pr  ls\n",
      "   0  0.0000000e+00 6.85e-01 0.00e+00   0.0 0.00e+00    -  0.00e+00 0.00e+00   0\n",
      "   1  0.0000000e+00 6.16e-01 6.60e+00  -5.6 1.79e+00    -  4.62e-01 8.68e-01h  1\n",
      "   2  0.0000000e+00 3.93e-01 3.92e+01  -0.2 2.13e+00    -  7.31e-01 1.00e+00h  1\n",
      "   3  0.0000000e+00 3.94e-01 3.06e+01   0.0 1.05e+00    -  1.00e+00 1.00e+00f  1\n",
      "   4  0.0000000e+00 3.32e-01 2.81e+01  -0.1 1.90e+00    -  9.89e-01 1.32e-01h  1\n",
      "   5  0.0000000e+00 2.10e-01 5.28e+01  -1.0 6.28e-01    -  1.00e+00 3.61e-01h  1\n",
      "   6  0.0000000e+00 2.08e-01 2.21e+03  -1.7 4.89e-01    -  1.00e+00 8.09e-03h  1\n",
      "   7  0.0000000e+00 2.07e-01 4.88e+05  -1.6 4.20e-01    -  1.00e+00 4.58e-03h  1\n",
      "   8  0.0000000e+00 2.07e-01 1.06e+10   0.7 4.19e-01    -  1.00e+00 4.59e-05h  1\n",
      "   9r 0.0000000e+00 2.07e-01 9.99e+02   3.0 0.00e+00    -  0.00e+00 2.30e-07R  2\n",
      "iter    objective    inf_pr   inf_du lg(mu)  ||d||  lg(rg) alpha_du alpha_pr  ls\n",
      "  10r 0.0000000e+00 1.46e-01 9.76e+00   0.6 1.18e+00    -  9.90e-01 8.94e-01f  1\n",
      "  11  0.0000000e+00 1.45e-01 3.64e+03  -0.5 1.10e+00    -  8.65e-01 2.93e-03h  1\n",
      "  12  0.0000000e+00 1.43e-01 5.88e+03  -0.4 3.51e-01    -  1.00e+00 1.45e-02h  1\n",
      "  13  0.0000000e+00 1.43e-01 9.21e+05  -0.9 3.47e-01    -  1.00e+00 1.47e-04h  1\n",
      "  14  0.0000000e+00 1.43e-01 1.19e+10   1.8 4.88e-01    -  1.00e+00 7.76e-05h  1\n",
      "  15r 0.0000000e+00 1.43e-01 9.89e+02   1.5 0.00e+00    -  0.00e+00 3.89e-07R  2\n",
      "  16r 0.0000000e+00 4.50e-02 1.69e+02   1.9 4.52e-01    -  9.70e-01 4.22e-01f  1\n",
      "  17  0.0000000e+00 4.01e-02 1.02e+01  -1.0 4.43e-01    -  9.06e-01 1.01e-01h  1\n",
      "  18  0.0000000e+00 3.89e-02 3.44e+02  -1.1 6.63e-01    -  9.91e-01 3.11e-02h  1\n",
      "  19  0.0000000e+00 3.89e-02 3.99e+05  -1.9 3.31e-01    -  1.00e+00 8.84e-04h  1\n",
      "iter    objective    inf_pr   inf_du lg(mu)  ||d||  lg(rg) alpha_du alpha_pr  ls\n",
      "  20  0.0000000e+00 3.89e-02 3.48e+10  -3.1 3.18e-01    -  1.00e+00 1.13e-05h  1\n",
      "  21  0.0000000e+00 2.61e-02 3.48e+08   1.6 2.93e-01    -  9.90e-01 1.00e+00h  1\n",
      "  22r 0.0000000e+00 2.61e-02 9.93e+02   0.8 0.00e+00    -  0.00e+00 6.71e-08R  2\n",
      "  23r 0.0000000e+00 3.82e-02 8.88e+00   0.7 2.79e-02    -  9.97e-01 1.00e+00f  1\n",
      "  24r 0.0000000e+00 6.52e-02 3.85e+01  -0.5 7.26e-02    -  6.55e-01 9.98e-01f  1\n",
      "  25r 0.0000000e+00 8.43e-02 1.52e+01  -0.9 5.89e-02    -  1.00e+00 8.59e-01f  1\n",
      "  26r 0.0000000e+00 8.46e-02 1.76e+00  -2.6 3.19e-03    -  1.00e+00 9.46e-01f  1\n",
      "  27r 0.0000000e+00 8.46e-02 1.42e-01  -4.3 9.17e-04    -  1.00e+00 9.91e-01f  1\n",
      "  28r 0.0000000e+00 8.46e-02 4.72e-03  -6.1 5.85e-05    -  1.00e+00 9.92e-01f  1\n",
      "\n",
      "Number of Iterations....: 28\n",
      "\n",
      "                                   (scaled)                 (unscaled)\n",
      "Objective...............:   0.0000000000000000e+00    0.0000000000000000e+00\n",
      "Dual infeasibility......:   2.5456236237842925e-04    2.5456236237842925e-04\n",
      "Constraint violation....:   8.4551766514778137e-02    8.4551766514778137e-02\n",
      "Variable bound violation:   2.9646565646856970e-08    2.9646565646856970e-08\n",
      "Complementarity.........:   3.0271332274226311e-09    3.0271332274226311e-09\n",
      "Overall NLP error.......:   8.4551766514778137e-02    8.4551766514778137e-02\n",
      "\n",
      "\n",
      "Number of objective function evaluations             = 36\n",
      "Number of objective gradient evaluations             = 24\n",
      "Number of equality constraint evaluations            = 36\n",
      "Number of inequality constraint evaluations          = 0\n",
      "Number of equality constraint Jacobian evaluations   = 33\n",
      "Number of inequality constraint Jacobian evaluations = 0\n",
      "Number of Lagrangian Hessian evaluations             = 0\n",
      "Total seconds in IPOPT                               = 0.051\n",
      "\n",
      "EXIT: Converged to a point of local infeasibility. Problem may be infeasible.\n"
     ]
    }
   ],
   "source": [
    "grasp_init = grasp_sol[:3] #np.random.uniform(-1, 1, size=3)\n",
    "qinit = panda.neutral\n",
    "p_obj_start = obj_start.pose.parameters()\n",
    "p_obj_goal = obj_goal.pose.parameters()\n",
    "x0 = np.hstack([qinit, qinit, grasp_init, p_obj_start, p_obj_goal])\n",
    "ik_sol, info = ipopt_ik.solve(x0)"
   ]
  },
  {
   "cell_type": "code",
   "execution_count": 84,
   "metadata": {},
   "outputs": [],
   "source": [
    "q_pick = ik[:7]\n",
    "q_place = ik[7:14]"
   ]
  },
  {
   "cell_type": "code",
   "execution_count": 86,
   "metadata": {},
   "outputs": [],
   "source": [
    "panda.set_joint_angles(q_place)"
   ]
  },
  {
   "cell_type": "code",
   "execution_count": 38,
   "metadata": {},
   "outputs": [
    {
     "data": {
      "text/plain": [
       "Array([0.2933615, 0.2933615], dtype=float32)"
      ]
     },
     "execution_count": 38,
     "metadata": {},
     "output_type": "execute_result"
    }
   ],
   "source": [
    "obj_poses = jnp.vstack([jnp.zeros(6), jnp.zeros(6)])\n",
    "pcs = jax.vmap(get_hand_pc, in_axes=(None,0))(jnp.zeros(3), obj_poses)\n",
    "distances = env.distances(jnp.vstack(pcs)).reshape(2, -1)\n",
    "distances.min(axis=-1)"
   ]
  },
  {
   "cell_type": "code",
   "execution_count": 12,
   "metadata": {},
   "outputs": [],
   "source": []
  }
 ],
 "metadata": {
  "kernelspec": {
   "display_name": "cu11",
   "language": "python",
   "name": "python3"
  },
  "language_info": {
   "codemirror_mode": {
    "name": "ipython",
    "version": 3
   },
   "file_extension": ".py",
   "mimetype": "text/x-python",
   "name": "python",
   "nbconvert_exporter": "python",
   "pygments_lexer": "ipython3",
   "version": "3.8.15"
  },
  "orig_nbformat": 4
 },
 "nbformat": 4,
 "nbformat_minor": 2
}
