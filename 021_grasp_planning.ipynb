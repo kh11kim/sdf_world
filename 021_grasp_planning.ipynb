{
 "cells": [
  {
   "cell_type": "code",
   "execution_count": 1,
   "metadata": {},
   "outputs": [],
   "source": [
    "import numpy as np\n",
    "import jax\n",
    "import jax.numpy as jnp\n",
    "from jaxlie import SE3, SO3\n",
    "import jax_dataclasses as jdc\n",
    "from functools import partial\n",
    "\n",
    "from sdf_world.sdf_world import *\n",
    "from sdf_world.robots import *\n",
    "from sdf_world.util import *"
   ]
  },
  {
   "cell_type": "code",
   "execution_count": 2,
   "metadata": {},
   "outputs": [
    {
     "name": "stdout",
     "output_type": "stream",
     "text": [
      "You can open the visualizer by visiting the following URL:\n",
      "http://127.0.0.1:7006/static/\n"
     ]
    }
   ],
   "source": [
    "world = SDFWorld()"
   ]
  },
  {
   "cell_type": "code",
   "execution_count": 3,
   "metadata": {},
   "outputs": [],
   "source": [
    "panda_model = RobotModel(PANDA_URDF, PANDA_PACKAGE)\n",
    "panda = Robot(world.vis, \"panda\", panda_model, alpha=0.5)\n",
    "panda.reduce_dim([7, 8], [0.04, 0.04])"
   ]
  },
  {
   "cell_type": "code",
   "execution_count": 4,
   "metadata": {},
   "outputs": [],
   "source": [
    "#load object\n",
    "from flax import linen as nn\n",
    "\n",
    "class GraspNet(nn.Module):\n",
    "    hidden_dim: int\n",
    "    @nn.compact\n",
    "    def __call__(self, x):\n",
    "        x = nn.Dense(features=self.hidden_dim)(x)\n",
    "        x = nn.relu(x)\n",
    "        x = nn.Dense(features=self.hidden_dim)(x)\n",
    "        x = nn.relu(x)\n",
    "        x = nn.Dense(features=self.hidden_dim)(x)\n",
    "        x = nn.relu(x)\n",
    "        logit = nn.Dense(features=5)(x)\n",
    "        return logit"
   ]
  },
  {
   "cell_type": "code",
   "execution_count": 5,
   "metadata": {},
   "outputs": [],
   "source": [
    "obj_start = Mesh(world.vis, \"obj_start\", \"./sdf_world/assets/object/mesh.obj\",\n",
    "                 alpha=0.5)\n",
    "d, w, h = obj_start.mesh.bounding_box.primitive.extents\n",
    "obj_start.set_translate([0.4, -0.3, h/2])\n",
    "frame = Frame(world.vis, \"grasp_pose\")"
   ]
  },
  {
   "cell_type": "code",
   "execution_count": 6,
   "metadata": {},
   "outputs": [],
   "source": [
    "from flax.training import orbax_utils\n",
    "import orbax\n",
    "orbax_checkpointer = orbax.checkpoint.PyTreeCheckpointer()\n",
    "raw_restored = orbax_checkpointer.restore(\"model/grasp_net\")\n",
    "params = raw_restored[\"params\"]\n",
    "grasp_net = GraspNet(raw_restored[\"hidden_dim\"])\n",
    "grasp_fn = lambda x: grasp_net.apply(params, x)"
   ]
  },
  {
   "cell_type": "code",
   "execution_count": 7,
   "metadata": {},
   "outputs": [],
   "source": [
    "import pickle\n",
    "with open(\"./sdf_world/assets/object\"+'/info.pkl', 'rb') as f:\n",
    "    obj_data = pickle.load(f)\n",
    "scale_to_norm = obj_data[\"scale_to_norm\"]\n",
    "def grasp_reconst(g:Array):\n",
    "    rot = SO3(grasp_fn(g)[1:5]).normalize()\n",
    "    trans = g/scale_to_norm\n",
    "    return SE3.from_rotation_and_translation(rot, trans)\n",
    "grasp_logit_fn = lambda g: grasp_fn(g)[0]"
   ]
  },
  {
   "cell_type": "code",
   "execution_count": 8,
   "metadata": {},
   "outputs": [],
   "source": [
    "# CGN fns\n",
    "class ResidualFn:\n",
    "    def get_error_and_jac(self, x, state):\n",
    "        pass\n",
    "    def get_weight(self):\n",
    "        pass\n",
    "\n",
    "class ConstraintFn:\n",
    "    def get_value_and_jac(self, x, state):\n",
    "        pass\n",
    "    def get_bounds(self):\n",
    "        pass\n",
    "\n",
    "@jax.jit\n",
    "def residual_eval(x, state, res_fns:Tuple[ResidualFn]):\n",
    "    errors, jacs = [], []\n",
    "    for res_fn in res_fns:\n",
    "        error, jac = res_fn.get_error_and_jac(x, state)\n",
    "        errors.append(error)\n",
    "        jacs.append(jac)\n",
    "    return jnp.hstack(errors), jnp.vstack(jacs)\n",
    "\n",
    "def residual_weights(res_fns:Tuple[ResidualFn]):\n",
    "    weights = []\n",
    "    for res_fn in res_fns:\n",
    "        weights.append(res_fn.get_weight())\n",
    "    return jnp.hstack(weights)\n",
    "\n",
    "@jax.jit\n",
    "def constr_eval(x, state, constr_fns:Tuple[ConstraintFn]):\n",
    "    vals, jacs = [], []\n",
    "    for constr_fn in constr_fns:\n",
    "        val, jac = constr_fn.get_value_and_jac(x, state)\n",
    "        vals.append(val)\n",
    "        jacs.append(jac)\n",
    "    return jnp.hstack(vals), jnp.vstack(jacs)\n",
    "\n",
    "def constr_bounds(constr_fns:Tuple[ConstraintFn]):\n",
    "    lbs, ubs = [], []\n",
    "    for constr_fn in constr_fns:\n",
    "        lb, ub = constr_fn.get_bounds()\n",
    "        lbs.append(lb)\n",
    "        ubs.append(ub)\n",
    "    return jnp.hstack(lbs), jnp.hstack(ubs)"
   ]
  },
  {
   "cell_type": "code",
   "execution_count": 9,
   "metadata": {},
   "outputs": [],
   "source": [
    "# Kinematics\n",
    "def get_rotvec_angvel_map(v):\n",
    "    def skew(v):\n",
    "        v1, v2, v3 = v\n",
    "        return jnp.array([[0, -v3, v2],\n",
    "                        [v3, 0., -v1],\n",
    "                        [-v2, v1, 0.]])\n",
    "    vmag = jnp.linalg.norm(v)\n",
    "    vskew = skew(v)\n",
    "    return jnp.eye(3) \\\n",
    "        - 1/2*skew(v) \\\n",
    "        + vskew@vskew * 1/vmag**2 * (1-vmag/2 * jnp.sin(vmag)/(1-jnp.cos(vmag)))\n",
    "\n",
    "@jax.jit\n",
    "def get_ee_fk_jac(q):\n",
    "    # outputs ee_posevec and analytical jacobian\n",
    "    fks = panda_model.fk_fn(q)\n",
    "    p_ee = fks[-1][-3:]\n",
    "    rotvec_ee = SO3(fks[-1][:4]).log()\n",
    "    E = get_rotvec_angvel_map(rotvec_ee)\n",
    "    jac = []\n",
    "    for posevec in fks[1:8]:\n",
    "        p_frame = posevec[-3:]\n",
    "        rot_axis = SE3(posevec).as_matrix()[:3, 2]\n",
    "        lin_vel = jnp.cross(rot_axis, p_ee - p_frame)\n",
    "        jac.append(jnp.hstack([lin_vel, rot_axis]))\n",
    "    jac = jnp.array(jac).T\n",
    "    jac = jac.at[3:, :].set(E @ jac[3:, :])\n",
    "    return jnp.hstack([p_ee, rotvec_ee]), jac"
   ]
  },
  {
   "cell_type": "code",
   "execution_count": 10,
   "metadata": {},
   "outputs": [],
   "source": [
    "robot_dim = 7\n",
    "grasp_dim = 3\n",
    "dim = grasp_dim + robot_dim\n",
    "def to_posevec(pose:SE3):\n",
    "    return jnp.hstack([pose.translation(), pose.rotation().log()])"
   ]
  },
  {
   "cell_type": "code",
   "execution_count": 11,
   "metadata": {},
   "outputs": [],
   "source": [
    "def value_and_jacrev2(f, *x):\n",
    "    y, pullback = jax.vjp(f, *x)\n",
    "    basis = jnp.eye(y.size, dtype=y.dtype)\n",
    "    jac = jax.vmap(pullback)(basis)\n",
    "    return y, jac"
   ]
  },
  {
   "cell_type": "code",
   "execution_count": 12,
   "metadata": {},
   "outputs": [],
   "source": [
    "grasp_to_posevec = lambda g: to_posevec(grasp_reconst(g))"
   ]
  },
  {
   "cell_type": "code",
   "execution_count": 295,
   "metadata": {},
   "outputs": [],
   "source": [
    "@jdc.pytree_dataclass\n",
    "class KinError(ResidualFn):\n",
    "    def get_error_and_jac(self, x, state):\n",
    "        grasp = x[:grasp_dim]\n",
    "        grasp_pose = grasp_reconst(grasp)\n",
    "        grasp_posevec = to_posevec(obj_start.pose@grasp_pose)\n",
    "        q = x[-robot_dim:]\n",
    "        ee, jac = get_ee_fk_jac(q)\n",
    "        error = grasp_posevec - ee\n",
    "        return error, jnp.hstack([jnp.zeros((6,3)), -jac])\n",
    "    \n",
    "    def get_weight(self):\n",
    "        return np.array([1,1,1,0.3,0.3,0.3])\n",
    "\n",
    "initial_pose = get_ee_fk_jac(panda.neutral)[0]\n",
    "euc_dist_to_grasp = lambda g: to_posevec(obj_start.pose@grasp_reconst(g))[:3]\n",
    "@jdc.pytree_dataclass\n",
    "class GraspDistance(ResidualFn):\n",
    "    def get_error_and_jac(self, x, state):\n",
    "        grasp = x[:grasp_dim]\n",
    "        grasp_pose = grasp_reconst(grasp)\n",
    "        grasp_pose_wrt_world = obj_start.pose@grasp_pose\n",
    "        grasp_posevec = to_posevec(grasp_pose_wrt_world)\n",
    "        error = grasp_posevec[:3]\n",
    "        jac = 1 / scale_to_norm * jnp.eye(3)\n",
    "        return error, jnp.hstack([jac, jnp.zeros((3,7))])\n",
    "    \n",
    "    def get_weight(self):\n",
    "        return np.array([1,1,1.])\n",
    "\n",
    "# @jdc.pytree_dataclass\n",
    "# class Velocity(ResidualFn):\n",
    "#     def get_error_and_jac(self, x, state:State):\n",
    "#         vel_fn = lambda x, state: to_vel(x, state)\n",
    "#         return value_and_jacrev(vel_fn, x, state)\n",
    "    \n",
    "#     def get_weight(self):\n",
    "#         return np.ones(dim)*0.00001/horizon\n",
    "\n",
    "@jdc.pytree_dataclass\n",
    "class JointLimit(ConstraintFn):\n",
    "    \"\"\" lb < val < ub. dval/dx = jac\"\"\"\n",
    "    robot_lb: Array\n",
    "    robot_ub: Array\n",
    "    def get_value_and_jac(self, x, state):\n",
    "        val = x[-robot_dim:]\n",
    "        jac = jnp.eye(robot_dim)\n",
    "        return val, jnp.hstack([jnp.zeros((7,3)), jac])\n",
    "    \n",
    "    def get_bounds(self):\n",
    "        lb = jnp.tile(self.robot_lb, 1)\n",
    "        ub = jnp.tile(self.robot_ub, 1)\n",
    "        return lb, ub\n",
    "\n",
    "@jdc.pytree_dataclass\n",
    "class GraspLogit(ConstraintFn):\n",
    "    \"\"\" lb < val < ub. dval/dx = jac\"\"\"\n",
    "    def get_value_and_jac(self, x, state):\n",
    "        grasp_logit_fn = lambda x: grasp_fn(x)[0]\n",
    "        val, jac = jax.value_and_grad(grasp_logit_fn)(x[:grasp_dim])\n",
    "        return val, jnp.hstack([jac, jnp.zeros(7)])\n",
    "    \n",
    "    def get_bounds(self):\n",
    "        lb = 1.\n",
    "        ub = jnp.inf\n",
    "        return lb, ub"
   ]
  },
  {
   "cell_type": "code",
   "execution_count": 296,
   "metadata": {},
   "outputs": [],
   "source": [
    "@jdc.pytree_dataclass\n",
    "class State:\n",
    "    q0: Array\n",
    "    target: Array\n",
    "state = State(jnp.array(panda.neutral), jnp.zeros(3))"
   ]
  },
  {
   "cell_type": "code",
   "execution_count": 297,
   "metadata": {},
   "outputs": [],
   "source": [
    "res_fns = [KinError()] #, , \n",
    "constr_fns = [JointLimit(panda.lb, panda.ub), GraspLogit()] #, Penetration()"
   ]
  },
  {
   "cell_type": "code",
   "execution_count": 298,
   "metadata": {},
   "outputs": [],
   "source": [
    "x = jnp.hstack([0,0,0.5,panda.neutral])\n",
    "panda.set_joint_angles(x[-7:])"
   ]
  },
  {
   "cell_type": "code",
   "execution_count": 299,
   "metadata": {},
   "outputs": [],
   "source": [
    "import osqp\n",
    "from scipy import sparse\n",
    "\n",
    "prob = osqp.OSQP()\n",
    "is_qp_init = False\n",
    "weights = residual_weights(res_fns)\n",
    "lb, ub = constr_bounds(constr_fns)\n",
    "W = jnp.diag(weights)\n",
    "\n",
    "tr_length = 0.1 # trust-region length\n",
    "max_tr_length = 1.\n",
    "\n",
    "err, jac = residual_eval(x, state, res_fns)\n",
    "val = err@W@err"
   ]
  },
  {
   "cell_type": "code",
   "execution_count": 302,
   "metadata": {},
   "outputs": [
    {
     "name": "stdout",
     "output_type": "stream",
     "text": [
      "primal infeasible\n"
     ]
    },
    {
     "ename": "TypeError",
     "evalue": "Dtype object is not a valid JAX array type. Only arrays of numeric types are supported by JAX.",
     "output_type": "error",
     "traceback": [
      "\u001b[0;31m---------------------------------------------------------------------------\u001b[0m",
      "\u001b[0;31mTypeError\u001b[0m                                 Traceback (most recent call last)",
      "Cell \u001b[0;32mIn[302], line 20\u001b[0m\n\u001b[1;32m     17\u001b[0m \u001b[39mprint\u001b[39m(res\u001b[39m.\u001b[39minfo\u001b[39m.\u001b[39mstatus)\n\u001b[1;32m     18\u001b[0m p \u001b[39m=\u001b[39m res\u001b[39m.\u001b[39mx\n\u001b[0;32m---> 20\u001b[0m err_new, jac_new \u001b[39m=\u001b[39m residual_eval(x\u001b[39m+\u001b[39;49mp, state, res_fns)\n\u001b[1;32m     21\u001b[0m val_new \u001b[39m=\u001b[39m err_new\u001b[39m@W\u001b[39m\u001b[39m@err_new\u001b[39m\n\u001b[1;32m     22\u001b[0m pred_reduction \u001b[39m=\u001b[39m \u001b[39m0.5\u001b[39m\u001b[39m*\u001b[39m(val \u001b[39m-\u001b[39m (err\u001b[39m+\u001b[39mjac\u001b[39m@p\u001b[39m)\u001b[39m@W\u001b[39m\u001b[39m@\u001b[39m(err\u001b[39m+\u001b[39mjac\u001b[39m@p\u001b[39m))\n",
      "File \u001b[0;32m~/miniconda3/envs/cu11/lib/python3.8/site-packages/jax/_src/numpy/array_methods.py:251\u001b[0m, in \u001b[0;36m_defer_to_unrecognized_arg.<locals>.deferring_binary_op\u001b[0;34m(self, other)\u001b[0m\n\u001b[1;32m    249\u001b[0m args \u001b[39m=\u001b[39m (other, \u001b[39mself\u001b[39m) \u001b[39mif\u001b[39;00m swap \u001b[39melse\u001b[39;00m (\u001b[39mself\u001b[39m, other)\n\u001b[1;32m    250\u001b[0m \u001b[39mif\u001b[39;00m \u001b[39misinstance\u001b[39m(other, _accepted_binop_types):\n\u001b[0;32m--> 251\u001b[0m   \u001b[39mreturn\u001b[39;00m binary_op(\u001b[39m*\u001b[39;49margs)\n\u001b[1;32m    252\u001b[0m \u001b[39mif\u001b[39;00m \u001b[39misinstance\u001b[39m(other, _rejected_binop_types):\n\u001b[1;32m    253\u001b[0m   \u001b[39mraise\u001b[39;00m \u001b[39mTypeError\u001b[39;00m(\u001b[39mf\u001b[39m\u001b[39m\"\u001b[39m\u001b[39munsupported operand type(s) for \u001b[39m\u001b[39m{\u001b[39;00mopchar\u001b[39m}\u001b[39;00m\u001b[39m: \u001b[39m\u001b[39m\"\u001b[39m\n\u001b[1;32m    254\u001b[0m                   \u001b[39mf\u001b[39m\u001b[39m\"\u001b[39m\u001b[39m{\u001b[39;00m\u001b[39mtype\u001b[39m(args[\u001b[39m0\u001b[39m])\u001b[39m.\u001b[39m\u001b[39m__name__\u001b[39m\u001b[39m!r}\u001b[39;00m\u001b[39m and \u001b[39m\u001b[39m{\u001b[39;00m\u001b[39mtype\u001b[39m(args[\u001b[39m1\u001b[39m])\u001b[39m.\u001b[39m\u001b[39m__name__\u001b[39m\u001b[39m!r}\u001b[39;00m\u001b[39m\"\u001b[39m)\n",
      "    \u001b[0;31m[... skipping hidden 8 frame]\u001b[0m\n",
      "File \u001b[0;32m~/miniconda3/envs/cu11/lib/python3.8/site-packages/jax/_src/dtypes.py:595\u001b[0m, in \u001b[0;36mcheck_valid_dtype\u001b[0;34m(dtype)\u001b[0m\n\u001b[1;32m    593\u001b[0m \u001b[39mdef\u001b[39;00m \u001b[39mcheck_valid_dtype\u001b[39m(dtype: DType) \u001b[39m-\u001b[39m\u001b[39m>\u001b[39m \u001b[39mNone\u001b[39;00m:\n\u001b[1;32m    594\u001b[0m   \u001b[39mif\u001b[39;00m dtype \u001b[39mnot\u001b[39;00m \u001b[39min\u001b[39;00m _jax_dtype_set:\n\u001b[0;32m--> 595\u001b[0m     \u001b[39mraise\u001b[39;00m \u001b[39mTypeError\u001b[39;00m(\u001b[39mf\u001b[39m\u001b[39m\"\u001b[39m\u001b[39mDtype \u001b[39m\u001b[39m{\u001b[39;00mdtype\u001b[39m}\u001b[39;00m\u001b[39m is not a valid JAX array \u001b[39m\u001b[39m\"\u001b[39m\n\u001b[1;32m    596\u001b[0m                     \u001b[39m\"\u001b[39m\u001b[39mtype. Only arrays of numeric types are supported by JAX.\u001b[39m\u001b[39m\"\u001b[39m)\n",
      "\u001b[0;31mTypeError\u001b[0m: Dtype object is not a valid JAX array type. Only arrays of numeric types are supported by JAX."
     ]
    },
    {
     "ename": "",
     "evalue": "",
     "output_type": "error",
     "traceback": [
      "\u001b[1;31mThe Kernel crashed while executing code in the the current cell or a previous cell. Please review the code in the cell(s) to identify a possible cause of the failure. Click <a href='https://aka.ms/vscodeJupyterKernelCrash'>here</a> for more info. View Jupyter <a href='command:jupyter.viewOutput'>log</a> for further details."
     ]
    }
   ],
   "source": [
    "cval, cjac = constr_eval(x, state, constr_fns)\n",
    "P = sparse.csc_matrix(jac.T@W@jac)  # hess = jac.T@W@jac\n",
    "q = np.asarray(jac.T@W@err)         # grad = jac.T@W@err\n",
    "A = sparse.csc_matrix(np.vstack([cjac, np.eye(dim)]))\n",
    "l = np.hstack([lb-cval, np.full(dim, -tr_length)])\n",
    "u = np.hstack([ub-cval, np.full(dim, tr_length)])\n",
    "\n",
    "if not is_qp_init:\n",
    "    qp_settings = dict(check_termination=10, verbose=False)\n",
    "    prob.setup(P, q, A, l, u, **qp_settings)\n",
    "    is_qp_init = True\n",
    "else:\n",
    "    prob.update(\n",
    "        Px=sparse.triu(P).data, Ax=A.data,\n",
    "        q=q, l=l, u=u)\n",
    "res = prob.solve()\n",
    "print(res.info.status)\n",
    "p = res.x\n",
    "\n",
    "err_new, jac_new = residual_eval(x+p, state, res_fns)\n",
    "val_new = err_new@W@err_new\n",
    "pred_reduction = 0.5*(val - (err+jac@p)@W@(err+jac@p))\n",
    "true_reduction = val - val_new\n",
    "ratio = true_reduction/pred_reduction\n",
    "\n",
    "if ratio < 0.25:\n",
    "    tr_length /= 4\n",
    "    print(\"ratio is small\")\n",
    "elif ratio > 0.75 and np.abs(np.linalg.norm(p, np.inf) - tr_length) < 1e-3:\n",
    "    tr_length = np.minimum(2*tr_length, max_tr_length)\n",
    "    print(\"ratio getting bigger\")\n",
    "else: pass\n",
    "\n",
    "if ratio > 0.2:\n",
    "    print(\"updated!\")\n",
    "    x = x + p\n",
    "    err, jac, val = err_new, jac_new, val_new\n",
    "\n",
    "#draw_traj(x, state)\n",
    "frame.set_pose(obj_start.pose@grasp_reconst(x[:3]))\n",
    "panda.set_joint_angles(x[-robot_dim:])\n",
    "print(p)"
   ]
  },
  {
   "cell_type": "code",
   "execution_count": 61,
   "metadata": {},
   "outputs": [],
   "source": []
  },
  {
   "cell_type": "code",
   "execution_count": 42,
   "metadata": {},
   "outputs": [
    {
     "data": {
      "text/plain": [
       "array([[1., 0., 0., 0., 0., 0., 0., 0., 0., 0.],\n",
       "       [0., 1., 0., 0., 0., 0., 0., 0., 0., 0.],\n",
       "       [0., 0., 1., 0., 0., 0., 0., 0., 0., 0.],\n",
       "       [0., 0., 0., 1., 0., 0., 0., 0., 0., 0.],\n",
       "       [0., 0., 0., 0., 1., 0., 0., 0., 0., 0.],\n",
       "       [0., 0., 0., 0., 0., 1., 0., 0., 0., 0.],\n",
       "       [0., 0., 0., 0., 0., 0., 1., 0., 0., 0.],\n",
       "       [0., 0., 0., 0., 0., 0., 0., 1., 0., 0.],\n",
       "       [0., 0., 0., 0., 0., 0., 0., 0., 1., 0.],\n",
       "       [0., 0., 0., 0., 0., 0., 0., 0., 0., 1.]])"
      ]
     },
     "execution_count": 42,
     "metadata": {},
     "output_type": "execute_result"
    }
   ],
   "source": [
    "np.eye(dim)"
   ]
  }
 ],
 "metadata": {
  "kernelspec": {
   "display_name": "cu11",
   "language": "python",
   "name": "python3"
  },
  "language_info": {
   "codemirror_mode": {
    "name": "ipython",
    "version": 3
   },
   "file_extension": ".py",
   "mimetype": "text/x-python",
   "name": "python",
   "nbconvert_exporter": "python",
   "pygments_lexer": "ipython3",
   "version": "3.8.16"
  },
  "orig_nbformat": 4
 },
 "nbformat": 4,
 "nbformat_minor": 2
}
