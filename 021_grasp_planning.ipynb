{
 "cells": [
  {
   "cell_type": "code",
   "execution_count": 1,
   "metadata": {},
   "outputs": [],
   "source": [
    "import numpy as np\n",
    "import jax\n",
    "import jax.numpy as jnp\n",
    "from jaxlie import SE3, SO3\n",
    "import jax_dataclasses as jdc\n",
    "from functools import partial\n",
    "\n",
    "from sdf_world.sdf_world import *\n",
    "from sdf_world.robots import *\n",
    "from sdf_world.util import *"
   ]
  },
  {
   "cell_type": "code",
   "execution_count": 2,
   "metadata": {},
   "outputs": [
    {
     "name": "stdout",
     "output_type": "stream",
     "text": [
      "You can open the visualizer by visiting the following URL:\n",
      "http://127.0.0.1:7005/static/\n"
     ]
    }
   ],
   "source": [
    "world = SDFWorld()"
   ]
  },
  {
   "cell_type": "code",
   "execution_count": 3,
   "metadata": {},
   "outputs": [],
   "source": [
    "panda_model = RobotModel(PANDA_URDF, PANDA_PACKAGE)\n",
    "panda = Robot(world.vis, \"panda\", panda_model, alpha=0.5)\n",
    "panda.reduce_dim([7, 8], [0.04, 0.04])"
   ]
  },
  {
   "cell_type": "code",
   "execution_count": 4,
   "metadata": {},
   "outputs": [],
   "source": [
    "#load object\n",
    "from flax import linen as nn\n",
    "\n",
    "class GraspNet(nn.Module):\n",
    "    hidden_dim: int\n",
    "    @nn.compact\n",
    "    def __call__(self, x):\n",
    "        x = nn.Dense(features=self.hidden_dim)(x)\n",
    "        x = nn.relu(x)\n",
    "        x = nn.Dense(features=self.hidden_dim)(x)\n",
    "        x = nn.relu(x)\n",
    "        x = nn.Dense(features=self.hidden_dim)(x)\n",
    "        x = nn.relu(x)\n",
    "        logit = nn.Dense(features=5)(x)\n",
    "        return logit"
   ]
  },
  {
   "cell_type": "code",
   "execution_count": 5,
   "metadata": {},
   "outputs": [],
   "source": [
    "obj_start = Mesh(world.vis, \"obj_start\", \"./sdf_world/assets/object/mesh.obj\",\n",
    "                 alpha=0.5)\n",
    "d, w, h = obj_start.mesh.bounding_box.primitive.extents\n",
    "obj_start.set_translate([0.4, -0.3, h/2])\n",
    "frame = Frame(world.vis, \"grasp_pose\")"
   ]
  },
  {
   "cell_type": "code",
   "execution_count": 6,
   "metadata": {},
   "outputs": [],
   "source": [
    "from flax.training import orbax_utils\n",
    "import orbax\n",
    "orbax_checkpointer = orbax.checkpoint.PyTreeCheckpointer()\n",
    "raw_restored = orbax_checkpointer.restore(\"model/grasp_net\")\n",
    "params = raw_restored[\"params\"]\n",
    "grasp_net = GraspNet(raw_restored[\"hidden_dim\"])\n",
    "grasp_fn = lambda x: grasp_net.apply(params, x)"
   ]
  },
  {
   "cell_type": "code",
   "execution_count": 7,
   "metadata": {},
   "outputs": [],
   "source": [
    "import pickle\n",
    "with open(\"./sdf_world/assets/object\"+'/info.pkl', 'rb') as f:\n",
    "    obj_data = pickle.load(f)\n",
    "scale_to_norm = obj_data[\"scale_to_norm\"]\n",
    "def grasp_reconst(g:Array):\n",
    "    rot = SO3(grasp_fn(g)[1:5]).normalize()\n",
    "    trans = g/scale_to_norm\n",
    "    return SE3.from_rotation_and_translation(rot, trans)\n",
    "grasp_logit_fn = lambda g: grasp_fn(g)[0]"
   ]
  },
  {
   "cell_type": "code",
   "execution_count": 8,
   "metadata": {},
   "outputs": [],
   "source": [
    "# CGN fns\n",
    "class ResidualFn:\n",
    "    def get_error_and_jac(self, x, state):\n",
    "        pass\n",
    "    def get_weight(self):\n",
    "        pass\n",
    "\n",
    "class ConstraintFn:\n",
    "    def get_value_and_jac(self, x, state):\n",
    "        pass\n",
    "    def get_bounds(self):\n",
    "        pass\n",
    "\n",
    "@jax.jit\n",
    "def residual_eval(x, state, res_fns:Tuple[ResidualFn]):\n",
    "    errors, jacs = [], []\n",
    "    for res_fn in res_fns:\n",
    "        error, jac = res_fn.get_error_and_jac(x, state)\n",
    "        errors.append(error)\n",
    "        jacs.append(jac)\n",
    "    return jnp.hstack(errors), jnp.vstack(jacs)\n",
    "\n",
    "def residual_weights(res_fns:Tuple[ResidualFn]):\n",
    "    weights = []\n",
    "    for res_fn in res_fns:\n",
    "        weights.append(res_fn.get_weight())\n",
    "    return jnp.hstack(weights)\n",
    "\n",
    "@jax.jit\n",
    "def constr_eval(x, state, constr_fns:Tuple[ConstraintFn]):\n",
    "    vals, jacs = [], []\n",
    "    for constr_fn in constr_fns:\n",
    "        val, jac = constr_fn.get_value_and_jac(x, state)\n",
    "        vals.append(val)\n",
    "        jacs.append(jac)\n",
    "    return jnp.hstack(vals), jnp.vstack(jacs)\n",
    "\n",
    "def constr_bounds(constr_fns:Tuple[ConstraintFn]):\n",
    "    lbs, ubs = [], []\n",
    "    for constr_fn in constr_fns:\n",
    "        lb, ub = constr_fn.get_bounds()\n",
    "        lbs.append(lb)\n",
    "        ubs.append(ub)\n",
    "    return jnp.hstack(lbs), jnp.hstack(ubs)"
   ]
  },
  {
   "cell_type": "code",
   "execution_count": 9,
   "metadata": {},
   "outputs": [],
   "source": [
    "# Kinematics\n",
    "def get_rotvec_angvel_map(v):\n",
    "    def skew(v):\n",
    "        v1, v2, v3 = v\n",
    "        return jnp.array([[0, -v3, v2],\n",
    "                        [v3, 0., -v1],\n",
    "                        [-v2, v1, 0.]])\n",
    "    vmag = jnp.linalg.norm(v)\n",
    "    vskew = skew(v)\n",
    "    return jnp.eye(3) \\\n",
    "        - 1/2*skew(v) \\\n",
    "        + vskew@vskew * 1/vmag**2 * (1-vmag/2 * jnp.sin(vmag)/(1-jnp.cos(vmag)))\n",
    "\n",
    "@jax.jit\n",
    "def get_ee_fk_jac(q):\n",
    "    # outputs ee_posevec and analytical jacobian\n",
    "    fks = panda_model.fk_fn(q)\n",
    "    p_ee = fks[-1][-3:]\n",
    "    rotvec_ee = SO3(fks[-1][:4]).log()\n",
    "    E = get_rotvec_angvel_map(rotvec_ee)\n",
    "    jac = []\n",
    "    for posevec in fks[1:8]:\n",
    "        p_frame = posevec[-3:]\n",
    "        rot_axis = SE3(posevec).as_matrix()[:3, 2]\n",
    "        lin_vel = jnp.cross(rot_axis, p_ee - p_frame)\n",
    "        jac.append(jnp.hstack([lin_vel, rot_axis]))\n",
    "    jac = jnp.array(jac).T\n",
    "    jac = jac.at[3:, :].set(E @ jac[3:, :])\n",
    "    return jnp.hstack([p_ee, rotvec_ee]), jac"
   ]
  },
  {
   "cell_type": "code",
   "execution_count": 10,
   "metadata": {},
   "outputs": [],
   "source": [
    "robot_dim = 7\n",
    "grasp_dim = 3\n",
    "dim = grasp_dim + robot_dim\n",
    "def to_posevec(pose:SE3):\n",
    "    return jnp.hstack([pose.translation(), pose.rotation().log()])"
   ]
  },
  {
   "cell_type": "code",
   "execution_count": 11,
   "metadata": {},
   "outputs": [],
   "source": [
    "def value_and_jacrev2(f, *x):\n",
    "    y, pullback = jax.vjp(f, *x)\n",
    "    basis = jnp.eye(y.size, dtype=y.dtype)\n",
    "    jac = jax.vmap(pullback)(basis)\n",
    "    return y, jac"
   ]
  },
  {
   "cell_type": "code",
   "execution_count": 12,
   "metadata": {},
   "outputs": [],
   "source": [
    "grasp_to_posevec = lambda g: to_posevec(grasp_reconst(g))"
   ]
  },
  {
   "cell_type": "code",
   "execution_count": 13,
   "metadata": {},
   "outputs": [],
   "source": [
    "@jdc.pytree_dataclass\n",
    "class KinError(ResidualFn):\n",
    "    def get_error_and_jac(self, x, state):\n",
    "        grasp = x[:grasp_dim]\n",
    "        grasp_pose = grasp_reconst(grasp)\n",
    "        grasp_posevec = to_posevec(grasp_pose)\n",
    "        q = x[-robot_dim:]\n",
    "        ee, jac = get_ee_fk_jac(q)\n",
    "        error = grasp_posevec - ee\n",
    "        return error, jnp.hstack([jnp.zeros((6,3)), -jac])\n",
    "    \n",
    "    def get_weight(self):\n",
    "        return np.array([1,1,1,0.3,0.3,0.3]) * 0.1\n",
    "\n",
    "initial_pose = get_ee_fk_jac(panda.neutral)[0]\n",
    "euc_dist_to_grasp = lambda g: to_posevec(obj_start.pose@grasp_reconst(g))[:3]\n",
    "class GraspDistance(ResidualFn):\n",
    "    def get_error_and_jac(self, x, state):\n",
    "        grasp = x[:grasp_dim]\n",
    "        grasp_pose = grasp_reconst(grasp)\n",
    "        grasp_pose_wrt_world = obj_start.pose@grasp_pose\n",
    "        grasp_posevec = to_posevec(grasp_pose_wrt_world)\n",
    "        error = grasp_posevec[:3]\n",
    "        jac = 1 / scale_to_norm * jnp.eye(3)\n",
    "        return error, jnp.hstack([jac, jnp.zeros((3,7))])\n",
    "    \n",
    "    def get_weight(self):\n",
    "        return np.array([1,1,1.])\n",
    "\n",
    "# @jdc.pytree_dataclass\n",
    "# class Velocity(ResidualFn):\n",
    "#     def get_error_and_jac(self, x, state:State):\n",
    "#         vel_fn = lambda x, state: to_vel(x, state)\n",
    "#         return value_and_jacrev(vel_fn, x, state)\n",
    "    \n",
    "#     def get_weight(self):\n",
    "#         return np.ones(dim)*0.00001/horizon\n",
    "\n",
    "@jdc.pytree_dataclass\n",
    "class JointLimit(ConstraintFn):\n",
    "    \"\"\" lb < val < ub. dval/dx = jac\"\"\"\n",
    "    robot_lb: Array\n",
    "    robot_ub: Array\n",
    "    def get_value_and_jac(self, x, state):\n",
    "        val = x\n",
    "        jac = jnp.eye(dim)\n",
    "        return val, jac\n",
    "    \n",
    "    def get_bounds(self):\n",
    "        lb = jnp.tile(self.robot_lb, 1)\n",
    "        ub = jnp.tile(self.robot_ub, 1)\n",
    "        return lb, ub"
   ]
  },
  {
   "cell_type": "code",
   "execution_count": 20,
   "metadata": {},
   "outputs": [],
   "source": [
    "@jdc.pytree_dataclass\n",
    "class State:\n",
    "    q0: Array\n",
    "    target: Array\n",
    "state = State(jnp.array(panda.neutral), jnp.zeros(3))"
   ]
  },
  {
   "cell_type": "code",
   "execution_count": 15,
   "metadata": {},
   "outputs": [],
   "source": [
    "res_fns = [KinError(), GraspDistance()] #, \n",
    "constr_fns = [JointLimit(panda.lb, panda.ub)] #, Penetration()"
   ]
  },
  {
   "cell_type": "code",
   "execution_count": 22,
   "metadata": {},
   "outputs": [
    {
     "ename": "TypeError",
     "evalue": "Cannot interpret value of type <class '__main__.GraspDistance'> as an abstract array; it does not have a dtype attribute",
     "output_type": "error",
     "traceback": [
      "\u001b[0;31m---------------------------------------------------------------------------\u001b[0m",
      "\u001b[0;31mKeyError\u001b[0m                                  Traceback (most recent call last)",
      "File \u001b[0;32m~/miniconda3/envs/cu11/lib/python3.8/site-packages/jax/_src/api_util.py:559\u001b[0m, in \u001b[0;36mshaped_abstractify\u001b[0;34m(x)\u001b[0m\n\u001b[1;32m    558\u001b[0m \u001b[39mtry\u001b[39;00m:\n\u001b[0;32m--> 559\u001b[0m   \u001b[39mreturn\u001b[39;00m _shaped_abstractify_handlers[\u001b[39mtype\u001b[39;49m(x)](x)\n\u001b[1;32m    560\u001b[0m \u001b[39mexcept\u001b[39;00m \u001b[39mKeyError\u001b[39;00m:\n",
      "\u001b[0;31mKeyError\u001b[0m: <class '__main__.GraspDistance'>",
      "\nDuring handling of the above exception, another exception occurred:\n",
      "\u001b[0;31mTypeError\u001b[0m                                 Traceback (most recent call last)",
      "Cell \u001b[0;32mIn[22], line 1\u001b[0m\n\u001b[0;32m----> 1\u001b[0m residual_eval(x, state, res_fns)\n",
      "    \u001b[0;31m[... skipping hidden 7 frame]\u001b[0m\n",
      "File \u001b[0;32m~/miniconda3/envs/cu11/lib/python3.8/site-packages/jax/_src/api_util.py:550\u001b[0m, in \u001b[0;36m_shaped_abstractify_slow\u001b[0;34m(x)\u001b[0m\n\u001b[1;32m    548\u001b[0m   dtype \u001b[39m=\u001b[39m dtypes\u001b[39m.\u001b[39mcanonicalize_dtype(x\u001b[39m.\u001b[39mdtype, allow_opaque_dtype\u001b[39m=\u001b[39m\u001b[39mTrue\u001b[39;00m)\n\u001b[1;32m    549\u001b[0m \u001b[39melse\u001b[39;00m:\n\u001b[0;32m--> 550\u001b[0m   \u001b[39mraise\u001b[39;00m \u001b[39mTypeError\u001b[39;00m(\n\u001b[1;32m    551\u001b[0m       \u001b[39mf\u001b[39m\u001b[39m\"\u001b[39m\u001b[39mCannot interpret value of type \u001b[39m\u001b[39m{\u001b[39;00m\u001b[39mtype\u001b[39m(x)\u001b[39m}\u001b[39;00m\u001b[39m as an abstract array; it \u001b[39m\u001b[39m\"\u001b[39m\n\u001b[1;32m    552\u001b[0m       \u001b[39m\"\u001b[39m\u001b[39mdoes not have a dtype attribute\u001b[39m\u001b[39m\"\u001b[39m)\n\u001b[1;32m    553\u001b[0m \u001b[39mreturn\u001b[39;00m core\u001b[39m.\u001b[39mShapedArray(np\u001b[39m.\u001b[39mshape(x), dtype, weak_type\u001b[39m=\u001b[39mweak_type,\n\u001b[1;32m    554\u001b[0m                         named_shape\u001b[39m=\u001b[39mnamed_shape)\n",
      "\u001b[0;31mTypeError\u001b[0m: Cannot interpret value of type <class '__main__.GraspDistance'> as an abstract array; it does not have a dtype attribute"
     ]
    },
    {
     "ename": "",
     "evalue": "",
     "output_type": "error",
     "traceback": [
      "\u001b[1;31mThe Kernel crashed while executing code in the the current cell or a previous cell. Please review the code in the cell(s) to identify a possible cause of the failure. Click <a href='https://aka.ms/vscodeJupyterKernelCrash'>here</a> for more info. View Jupyter <a href='command:jupyter.viewOutput'>log</a> for further details."
     ]
    }
   ],
   "source": [
    "residual_eval(x, state, res_fns)"
   ]
  },
  {
   "cell_type": "code",
   "execution_count": 17,
   "metadata": {},
   "outputs": [],
   "source": [
    "x = jnp.hstack([0,0,0,panda.neutral])\n",
    "panda.set_joint_angles(x[-7:])"
   ]
  },
  {
   "cell_type": "code",
   "execution_count": 148,
   "metadata": {},
   "outputs": [
    {
     "ename": "TypeError",
     "evalue": "Cannot interpret value of type <class '__main__.GraspDistance'> as an abstract array; it does not have a dtype attribute",
     "output_type": "error",
     "traceback": [
      "\u001b[0;31m---------------------------------------------------------------------------\u001b[0m",
      "\u001b[0;31mKeyError\u001b[0m                                  Traceback (most recent call last)",
      "File \u001b[0;32m~/miniconda3/envs/cu11/lib/python3.8/site-packages/jax/_src/api_util.py:559\u001b[0m, in \u001b[0;36mshaped_abstractify\u001b[0;34m(x)\u001b[0m\n\u001b[1;32m    558\u001b[0m \u001b[39mtry\u001b[39;00m:\n\u001b[0;32m--> 559\u001b[0m   \u001b[39mreturn\u001b[39;00m _shaped_abstractify_handlers[\u001b[39mtype\u001b[39;49m(x)](x)\n\u001b[1;32m    560\u001b[0m \u001b[39mexcept\u001b[39;00m \u001b[39mKeyError\u001b[39;00m:\n",
      "\u001b[0;31mKeyError\u001b[0m: <class '__main__.GraspDistance'>",
      "\nDuring handling of the above exception, another exception occurred:\n",
      "\u001b[0;31mTypeError\u001b[0m                                 Traceback (most recent call last)",
      "Cell \u001b[0;32mIn[148], line 13\u001b[0m\n\u001b[1;32m     10\u001b[0m tr_length \u001b[39m=\u001b[39m \u001b[39m0.1\u001b[39m \u001b[39m# trust-region length\u001b[39;00m\n\u001b[1;32m     11\u001b[0m max_tr_length \u001b[39m=\u001b[39m \u001b[39m1.\u001b[39m\n\u001b[0;32m---> 13\u001b[0m err, jac \u001b[39m=\u001b[39m residual_eval(x, state, res_fns)\n\u001b[1;32m     14\u001b[0m val \u001b[39m=\u001b[39m err\u001b[39m@W\u001b[39m\u001b[39m@err\u001b[39m\n",
      "    \u001b[0;31m[... skipping hidden 7 frame]\u001b[0m\n",
      "File \u001b[0;32m~/miniconda3/envs/cu11/lib/python3.8/site-packages/jax/_src/api_util.py:550\u001b[0m, in \u001b[0;36m_shaped_abstractify_slow\u001b[0;34m(x)\u001b[0m\n\u001b[1;32m    548\u001b[0m   dtype \u001b[39m=\u001b[39m dtypes\u001b[39m.\u001b[39mcanonicalize_dtype(x\u001b[39m.\u001b[39mdtype, allow_opaque_dtype\u001b[39m=\u001b[39m\u001b[39mTrue\u001b[39;00m)\n\u001b[1;32m    549\u001b[0m \u001b[39melse\u001b[39;00m:\n\u001b[0;32m--> 550\u001b[0m   \u001b[39mraise\u001b[39;00m \u001b[39mTypeError\u001b[39;00m(\n\u001b[1;32m    551\u001b[0m       \u001b[39mf\u001b[39m\u001b[39m\"\u001b[39m\u001b[39mCannot interpret value of type \u001b[39m\u001b[39m{\u001b[39;00m\u001b[39mtype\u001b[39m(x)\u001b[39m}\u001b[39;00m\u001b[39m as an abstract array; it \u001b[39m\u001b[39m\"\u001b[39m\n\u001b[1;32m    552\u001b[0m       \u001b[39m\"\u001b[39m\u001b[39mdoes not have a dtype attribute\u001b[39m\u001b[39m\"\u001b[39m)\n\u001b[1;32m    553\u001b[0m \u001b[39mreturn\u001b[39;00m core\u001b[39m.\u001b[39mShapedArray(np\u001b[39m.\u001b[39mshape(x), dtype, weak_type\u001b[39m=\u001b[39mweak_type,\n\u001b[1;32m    554\u001b[0m                         named_shape\u001b[39m=\u001b[39mnamed_shape)\n",
      "\u001b[0;31mTypeError\u001b[0m: Cannot interpret value of type <class '__main__.GraspDistance'> as an abstract array; it does not have a dtype attribute"
     ]
    }
   ],
   "source": [
    "import osqp\n",
    "from scipy import sparse\n",
    "\n",
    "prob = osqp.OSQP()\n",
    "is_qp_init = False\n",
    "weights = residual_weights(res_fns)\n",
    "lb, ub = constr_bounds(constr_fns)\n",
    "W = jnp.diag(weights)\n",
    "\n",
    "tr_length = 0.1 # trust-region length\n",
    "max_tr_length = 1.\n",
    "\n",
    "err, jac = residual_eval(x, state, res_fns)\n",
    "val = err@W@err"
   ]
  }
 ],
 "metadata": {
  "kernelspec": {
   "display_name": "cu11",
   "language": "python",
   "name": "python3"
  },
  "language_info": {
   "codemirror_mode": {
    "name": "ipython",
    "version": 3
   },
   "file_extension": ".py",
   "mimetype": "text/x-python",
   "name": "python",
   "nbconvert_exporter": "python",
   "pygments_lexer": "ipython3",
   "version": "3.8.16"
  },
  "orig_nbformat": 4
 },
 "nbformat": 4,
 "nbformat_minor": 2
}
